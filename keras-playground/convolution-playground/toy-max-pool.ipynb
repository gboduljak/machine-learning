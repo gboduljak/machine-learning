{
 "cells": [
  {
   "cell_type": "code",
   "execution_count": 2,
   "metadata": {
    "collapsed": true
   },
   "outputs": [],
   "source": [
    "import numpy as np\n",
    "\n",
    "\n",
    "outputFeatureMap = np.array([\n",
    "    [4, 3, 4],\n",
    "    [2, 4, 3],\n",
    "    [2, 3, 4]\n",
    "])\n",
    "\n",
    "maxPoolWindowShape = (2, 2)"
   ]
  },
  {
   "cell_type": "code",
   "execution_count": 10,
   "metadata": {},
   "outputs": [
    {
     "name": "stdout",
     "output_type": "stream",
     "text": [
      "[[4 4]\n [4 4]]\n"
     ]
    }
   ],
   "source": [
    "possibleSegments = [(0,2),(1,3)]\n",
    "convolvedFeatures = []\n",
    "\n",
    "for i in range(2):\n",
    "    for j in range(2):      \n",
    "        featureWindow = outputFeatureMap[possibleSegments[i][0]: possibleSegments[i][1], possibleSegments[j][0]: possibleSegments[j][1]]\n",
    "        convolvedFeatures.append(np.max(featureWindow))\n",
    "\n",
    "\n",
    "outputFeatureMapSize = (3 - 2) // 1 + 1   \n",
    "pooledFeatureMap = np.array(convolvedFeatures).reshape(maxPoolWindowShape)\n",
    "\n",
    "print(pooledFeatureMap)"
   ]
  }
 ],
 "metadata": {
  "kernelspec": {
   "display_name": "Python 2",
   "language": "python",
   "name": "python2"
  },
  "language_info": {
   "codemirror_mode": {
    "name": "ipython",
    "version": 2
   },
   "file_extension": ".py",
   "mimetype": "text/x-python",
   "name": "python",
   "nbconvert_exporter": "python",
   "pygments_lexer": "ipython2",
   "version": "2.7.6"
  }
 },
 "nbformat": 4,
 "nbformat_minor": 0
}

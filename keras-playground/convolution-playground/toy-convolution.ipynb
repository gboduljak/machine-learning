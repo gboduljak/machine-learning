{
 "cells": [
  {
   "cell_type": "code",
   "execution_count": 3,
   "metadata": {
    "collapsed": true
   },
   "outputs": [
    {
     "name": "stdout",
     "output_type": "stream",
     "text": [
      "[[1 1 1 0 0]\n [0 1 1 1 0]\n [0 0 1 1 1]\n [0 0 1 1 0]\n [0 1 1 0 0]]\n[[1 0 1]\n [0 1 0]\n [1 0 1]]\n"
     ]
    }
   ],
   "source": [
    "import numpy as np\n",
    "\n",
    "\n",
    "image = np.array([\n",
    "    [1,1,1,0,0],\n",
    "    [0,1,1,1,0],\n",
    "    [0,0,1,1,1],\n",
    "    [0,0,1,1,0],\n",
    "    [0,1,1,0,0]\n",
    "])\n",
    "\n",
    "convolution_kernel = np.array([\n",
    "    [1, 0, 1],\n",
    "    [0, 1, 0],\n",
    "    [1, 0, 1]\n",
    "])\n",
    "\n",
    "print(image)\n",
    "print(convolution_kernel)"
   ]
  },
  {
   "cell_type": "code",
   "execution_count": 67,
   "metadata": {},
   "outputs": [
    {
     "name": "stdout",
     "output_type": "stream",
     "text": [
      "[[4 3 4]\n [2 4 3]\n [2 3 4]]\n"
     ]
    }
   ],
   "source": [
    "possibleSegments = [(0,3),(1,4),(2,5)]\n",
    "convolvedFeatures = []\n",
    "\n",
    "for i in range(3):\n",
    "    for j in range(3):      \n",
    "        imagePart = image[possibleSegments[i][0]: possibleSegments[i][1], possibleSegments[j][0]: possibleSegments[j][1]]\n",
    "        convolvedFeatures.append(np.sum(imagePart * convolution_kernel))\n",
    "\n",
    "\n",
    "outputFeatureMapSize = (5 - 3) // 1 + 1     \n",
    "outputFeatureMap = np.array(convolvedFeatures).reshape((outputFeatureMapSize, outputFeatureMapSize))\n",
    "\n",
    "print(outputFeatureMap)"
   ]
  }
 ],
 "metadata": {
  "kernelspec": {
   "display_name": "Python 2",
   "language": "python",
   "name": "python2"
  },
  "language_info": {
   "codemirror_mode": {
    "name": "ipython",
    "version": 2
   },
   "file_extension": ".py",
   "mimetype": "text/x-python",
   "name": "python",
   "nbconvert_exporter": "python",
   "pygments_lexer": "ipython2",
   "version": "2.7.6"
  }
 },
 "nbformat": 4,
 "nbformat_minor": 0
}

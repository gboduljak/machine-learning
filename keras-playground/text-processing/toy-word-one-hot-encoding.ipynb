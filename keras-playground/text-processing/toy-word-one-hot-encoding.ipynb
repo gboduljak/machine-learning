{
 "cells": [
  {
   "cell_type": "code",
   "execution_count": 1,
   "metadata": {
    "collapsed": true
   },
   "outputs": [
    {
     "name": "stderr",
     "output_type": "stream",
     "text": [
      "Using TensorFlow backend.\n"
     ]
    }
   ],
   "source": [
    "import numpy as np\n",
    "import string\n",
    "from keras.preprocessing.text import Tokenizer\n",
    "\n",
    "\n",
    "samples = ['The cat sat on the mat.', 'The dog ate my homework.']"
   ]
  },
  {
   "cell_type": "markdown",
   "metadata": {},
   "source": [
    "Word level one-hot encoding"
   ]
  },
  {
   "cell_type": "code",
   "execution_count": 2,
   "metadata": {},
   "outputs": [
    {
     "name": "stdout",
     "output_type": "stream",
     "text": [
      "[[[ 0.  1.  0.  0.  0.  0.  0.  0.  0.  0.  0.]\n  [ 0.  0.  1.  0.  0.  0.  0.  0.  0.  0.  0.]\n  [ 0.  0.  0.  1.  0.  0.  0.  0.  0.  0.  0.]\n  [ 0.  0.  0.  0.  1.  0.  0.  0.  0.  0.  0.]\n  [ 0.  0.  0.  0.  0.  1.  0.  0.  0.  0.  0.]\n  [ 0.  0.  0.  0.  0.  0.  1.  0.  0.  0.  0.]\n  [ 0.  0.  0.  0.  0.  0.  0.  0.  0.  0.  0.]\n  [ 0.  0.  0.  0.  0.  0.  0.  0.  0.  0.  0.]\n  [ 0.  0.  0.  0.  0.  0.  0.  0.  0.  0.  0.]\n  [ 0.  0.  0.  0.  0.  0.  0.  0.  0.  0.  0.]]\n\n [[ 0.  1.  0.  0.  0.  0.  0.  0.  0.  0.  0.]\n  [ 0.  0.  0.  0.  0.  0.  0.  1.  0.  0.  0.]\n  [ 0.  0.  0.  0.  0.  0.  0.  0.  1.  0.  0.]\n  [ 0.  0.  0.  0.  0.  0.  0.  0.  0.  1.  0.]\n  [ 0.  0.  0.  0.  0.  0.  0.  0.  0.  0.  1.]\n  [ 0.  0.  0.  0.  0.  0.  0.  0.  0.  0.  0.]\n  [ 0.  0.  0.  0.  0.  0.  0.  0.  0.  0.  0.]\n  [ 0.  0.  0.  0.  0.  0.  0.  0.  0.  0.  0.]\n  [ 0.  0.  0.  0.  0.  0.  0.  0.  0.  0.  0.]\n  [ 0.  0.  0.  0.  0.  0.  0.  0.  0.  0.  0.]]]\n"
     ]
    }
   ],
   "source": [
    "splittedSamples = list(map(lambda sentence: sentence.split(), samples))\n",
    "dictionary = {}\n",
    "\n",
    "for sentenceWords in splittedSamples:\n",
    "    for word in sentenceWords:\n",
    "        if word not in dictionary:\n",
    "            dictionary[word] = len(dictionary) + 1\n",
    "            \n",
    "\n",
    "results = np.zeros(shape=(len(samples),\n",
    "                          len(dictionary.values()),\n",
    "                          len(dictionary.values()) + 1))\n",
    "\n",
    "for sampleIndex, sample in enumerate(list(splittedSamples)):\n",
    "    for wordIndexInSample, word in enumerate(sample):\n",
    "        wordDictionaryIndex = dictionary.get(word)\n",
    "        results[sampleIndex, wordIndexInSample, wordDictionaryIndex] = 1.\n",
    "        \n",
    "\n",
    "print(results)"
   ]
  },
  {
   "cell_type": "markdown",
   "metadata": {},
   "source": [
    "Word level one-hot encoding with hashing function"
   ]
  },
  {
   "cell_type": "code",
   "execution_count": 3,
   "metadata": {},
   "outputs": [
    {
     "name": "stdout",
     "output_type": "stream",
     "text": [
      "[[[ 0.  0.  0. ...,  0.  0.  0.]\n  [ 0.  0.  0. ...,  0.  0.  0.]\n  [ 0.  0.  0. ...,  0.  0.  0.]\n  ..., \n  [ 0.  0.  0. ...,  0.  0.  0.]\n  [ 0.  0.  0. ...,  0.  0.  0.]\n  [ 0.  0.  0. ...,  0.  0.  0.]]\n\n [[ 0.  0.  0. ...,  0.  0.  0.]\n  [ 0.  0.  0. ...,  0.  0.  0.]\n  [ 0.  0.  0. ...,  0.  0.  0.]\n  ..., \n  [ 0.  0.  0. ...,  0.  0.  0.]\n  [ 0.  0.  0. ...,  0.  0.  0.]\n  [ 0.  0.  0. ...,  0.  0.  0.]]]\n"
     ]
    }
   ],
   "source": [
    "hashDimensionality = 10000\n",
    "maxSampleLength = 10\n",
    "\n",
    "results = np.zeros(shape=(len(samples), maxSampleLength, hashDimensionality))\n",
    "\n",
    "for sampleIndex, sample in enumerate(list(splittedSamples)):\n",
    "    for wordIndexInSample, word in enumerate(sample):\n",
    "        wordDictionaryIndex = abs(hash(word)) % hashDimensionality\n",
    "        results[sampleIndex, wordIndexInSample, wordDictionaryIndex] = 1.\n",
    "\n",
    "print(results)"
   ]
  },
  {
   "cell_type": "markdown",
   "metadata": {},
   "source": [
    "Character level one-hot encoding"
   ]
  },
  {
   "cell_type": "code",
   "execution_count": 4,
   "metadata": {
    "collapsed": false
   },
   "outputs": [
    {
     "name": "stdout",
     "output_type": "stream",
     "text": [
      "[[[ 0.  0.  0. ...,  0.  0.  0.]\n  [ 0.  0.  0. ...,  0.  0.  0.]\n  [ 0.  0.  0. ...,  0.  0.  0.]\n  ..., \n  [ 0.  0.  0. ...,  0.  0.  0.]\n  [ 0.  0.  0. ...,  0.  0.  0.]\n  [ 0.  0.  0. ...,  0.  0.  0.]]\n\n [[ 0.  0.  0. ...,  0.  0.  0.]\n  [ 0.  0.  0. ...,  0.  0.  0.]\n  [ 0.  0.  0. ...,  0.  0.  0.]\n  ..., \n  [ 0.  0.  0. ...,  0.  0.  0.]\n  [ 0.  0.  0. ...,  0.  0.  0.]\n  [ 0.  0.  0. ...,  0.  0.  0.]]]\n"
     ]
    }
   ],
   "source": [
    "charsDictionary = dict(zip(string.printable, range(1, len(string.printable) + 1)))\n",
    "\n",
    "maxSampleLength = 50\n",
    "\n",
    "results = np.zeros(shape=(len(samples),\n",
    "                          maxSampleLength,\n",
    "                          len(charsDictionary.values()) + 1))\n",
    "\n",
    "for sampleIndex, sample in enumerate(samples):\n",
    "    for charIndex, character in enumerate(sample):\n",
    "        charDictionaryIndex = charsDictionary.get(character)\n",
    "        results[sampleIndex, charIndex, charDictionaryIndex] = 1.\n",
    "        \n",
    "print(results)"
   ]
  },
  {
   "cell_type": "code",
   "execution_count": 8,
   "metadata": {},
   "outputs": [
    {
     "name": "stdout",
     "output_type": "stream",
     "text": [
      "Found 9 unique tokens.\n"
     ]
    }
   ],
   "source": [
    "tokenizer = Tokenizer(num_words= 1000)\n",
    "tokenizer.fit_on_texts(samples)\n",
    "\n",
    "oneHotResults = tokenizer.texts_to_matrix(samples, mode='binary')\n",
    "wordIndex = tokenizer.word_index\n",
    "\n",
    "print('Found %s unique tokens.' % len(wordIndex))"
   ]
  }
 ],
 "metadata": {
  "kernelspec": {
   "display_name": "Python 2",
   "language": "python",
   "name": "python2"
  },
  "language_info": {
   "codemirror_mode": {
    "name": "ipython",
    "version": 2
   },
   "file_extension": ".py",
   "mimetype": "text/x-python",
   "name": "python",
   "nbconvert_exporter": "python",
   "pygments_lexer": "ipython2",
   "version": "2.7.6"
  }
 },
 "nbformat": 4,
 "nbformat_minor": 0
}

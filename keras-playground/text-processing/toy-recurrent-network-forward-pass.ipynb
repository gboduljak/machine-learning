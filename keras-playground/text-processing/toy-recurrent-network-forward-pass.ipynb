{
 "cells": [
  {
   "cell_type": "code",
   "execution_count": 1,
   "metadata": {
    "collapsed": true
   },
   "outputs": [],
   "source": [
    "import numpy as np"
   ]
  },
  {
   "cell_type": "code",
   "execution_count": 31,
   "metadata": {},
   "outputs": [],
   "source": [
    "timesteps       = 100\n",
    "inputFeatures   = 32\n",
    "outputFeatures  = 64"
   ]
  },
  {
   "cell_type": "code",
   "execution_count": 34,
   "metadata": {},
   "outputs": [
    {
     "name": "stdout",
     "output_type": "stream",
     "text": [
      "(64, 1)\n"
     ]
    }
   ],
   "source": [
    "inputs          = np.random.random((timesteps, inputFeatures))\n",
    "previousState   = np.zeros((outputFeatures, ))\n",
    "\n",
    "hiddenWeights           = np.random.random((outputFeatures, inputFeatures))\n",
    "stateTransitionWeights  = np.random.random((outputFeatures, outputFeatures))\n",
    "biases                  = np.random.random((outputFeatures, ))\n",
    "\n",
    "outputsForSteps = {}\n",
    "for timestep, input in enumerate(inputs):\n",
    "    outputsForSteps[timestep] = np.tanh(np.dot(hiddenWeights, input) + np.dot(stateTransitionWeights, previousState) + biases)\n",
    "    previousState = outputsForSteps[timestep]\n",
    "\n",
    "cellOutput = np.concatenate(list(outputsForSteps.values()), axis= 0).reshape((timesteps, outputFeatures))[timesteps-1:].T\n",
    "\n",
    "print(cellOutput.shape)"
   ]
  }
 ],
 "metadata": {
  "kernelspec": {
   "display_name": "Python 2",
   "language": "python",
   "name": "python2"
  },
  "language_info": {
   "codemirror_mode": {
    "name": "ipython",
    "version": 2
   },
   "file_extension": ".py",
   "mimetype": "text/x-python",
   "name": "python",
   "nbconvert_exporter": "python",
   "pygments_lexer": "ipython2",
   "version": "2.7.6"
  }
 },
 "nbformat": 4,
 "nbformat_minor": 0
}

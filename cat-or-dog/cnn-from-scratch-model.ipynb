{
 "cells": [
  {
   "cell_type": "code",
   "execution_count": 1,
   "metadata": {},
   "outputs": [
    {
     "name": "stderr",
     "output_type": "stream",
     "text": [
      "Using TensorFlow backend.\n",
      "/home/gabrijel/anaconda3/envs/machine-learning/lib/python3.6/importlib/_bootstrap.py:219: RuntimeWarning: compiletime version 3.5 of module 'tensorflow.python.framework.fast_tensor_util' does not match runtime version 3.6\n",
      "  return f(*args, **kwds)\n"
     ]
    }
   ],
   "source": [
    "\n",
    "import os\n",
    "\n",
    "import matplotlib.pyplot as plt\n",
    "%matplotlib inline\n",
    "\n",
    "import keras.models as models\n",
    "import keras.layers as layers\n",
    "import keras.optimizers as optimizers\n",
    "\n",
    "from keras.preprocessing.image import ImageDataGenerator"
   ]
  },
  {
   "cell_type": "code",
   "execution_count": 2,
   "metadata": {
    "collapsed": true
   },
   "outputs": [],
   "source": [
    "def plot_history(history):\n",
    "    history_data        = history.history\n",
    "\n",
    "    train_accuracy      = history_data['acc']\n",
    "    train_loss          = history_data['loss']\n",
    "    validation_accuracy = history_data['val_acc']\n",
    "    validation_loss     = history_data['val_loss']\n",
    "\n",
    "    epochs              = range(1, len(history_data['acc']) + 1)\n",
    "\n",
    "    f, (left, right) = plt.subplots(1, 2)\n",
    "    f.set_size_inches(16,4)\n",
    "\n",
    "    left.plot(epochs, train_loss, 'bo', label='Training loss')\n",
    "    left.plot(epochs, validation_loss, 'b', label='Validation loss')\n",
    "    left.set_title('Training and validation loss')\n",
    "    left.set_xlabel('Epochs')\n",
    "    left.set_ylabel('Loss')\n",
    "    left.legend()\n",
    "\n",
    "    right.plot(epochs, train_accuracy, 'bo', label='Training accuracy')\n",
    "    right.plot(epochs, validation_accuracy, 'b', label='Validation accuracy')\n",
    "    right.set_title('Training and validation accuracy')\n",
    "    right.set_xlabel('Epochs')\n",
    "    right.set_ylabel('Accuracy')\n",
    "    right.legend()\n",
    "    \n",
    "    plt.show()\n",
    "\n",
    "def plot_accuracy_history(originalModelHistory, otherModelHistory):\n",
    "\n",
    "    original_validation_loss = originalModelHistory.history['val_loss']\n",
    "    other_validation_loss    = otherModelHistory.history['val_loss']\n",
    "    epochs                   = range(1, len(original_validation_loss) + 1)\n",
    "\n",
    "    f, left = plt.subplots(1, 1)\n",
    "    f.set_size_inches(12,4)\n",
    "\n",
    "    left.plot(epochs, original_validation_loss, 'bo', label='Original model validation loss')\n",
    "    left.plot(epochs, other_validation_loss, 'b', label='Other model validation loss')\n",
    "    left.set_title('Training and validation loss')\n",
    "    left.set_xlabel('Epochs')\n",
    "    left.set_ylabel('Validation loss')\n",
    "    left.legend()\n",
    "\n",
    "    plt.show()"
   ]
  },
  {
   "cell_type": "code",
   "execution_count": 3,
   "metadata": {
    "collapsed": true
   },
   "outputs": [],
   "source": [
    "train_generator, validation_generator, test_generator = ImageDataGenerator(rescale=1./255), ImageDataGenerator(rescale=1./255), ImageDataGenerator(rescale=1./255)"
   ]
  },
  {
   "cell_type": "code",
   "execution_count": 4,
   "metadata": {},
   "outputs": [
    {
     "name": "stdout",
     "output_type": "stream",
     "text": [
      "Found 2000 images belonging to 2 classes.\n",
      "Found 1000 images belonging to 2 classes.\n",
      "Found 1000 images belonging to 2 classes.\n"
     ]
    }
   ],
   "source": [
    "train_generator = train_generator.flow_from_directory(\n",
    "    directory = os.path.join(os.getcwd(), 'datasets/training/train'),\n",
    "    target_size=(150,150),\n",
    "    batch_size=20,\n",
    "    class_mode='binary'\n",
    ")\n",
    "\n",
    "validation_generator = validation_generator.flow_from_directory(\n",
    "    directory = os.path.join(os.getcwd(), 'datasets/training/validation'),\n",
    "    target_size=(150,150),\n",
    "    batch_size=20,\n",
    "    class_mode='binary'\n",
    ")\n",
    "\n",
    "test_generator = test_generator.flow_from_directory(\n",
    "    directory = os.path.join(os.getcwd(), 'datasets/training/test'),\n",
    "    target_size=(150,150),\n",
    "    batch_size=20,\n",
    "    class_mode='binary'\n",
    ")"
   ]
  },
  {
   "cell_type": "code",
   "execution_count": 6,
   "metadata": {
    "collapsed": true
   },
   "outputs": [],
   "source": [
    "model = models.Sequential()\n",
    "\n",
    "model.add(layers.Conv2D(32, kernel_size= (3,3), activation='relu', input_shape=(150,150,3)))\n",
    "model.add(layers.MaxPooling2D((2,2)))\n",
    "model.add(layers.Conv2D(64, kernel_size= (3,3), activation='relu', input_shape=(150,150,3)))\n",
    "model.add(layers.MaxPooling2D((2,2)))\n",
    "model.add(layers.Conv2D(128, kernel_size= (3,3), activation='relu', input_shape=(150,150,3)))\n",
    "model.add(layers.MaxPooling2D((2,2)))\n",
    "model.add(layers.Conv2D(128, kernel_size= (3,3), activation='relu', input_shape=(150,150,3)))\n",
    "model.add(layers.Dropout(0.5))\n",
    "model.add(layers.MaxPooling2D((2,2)))\n",
    "model.add(layers.Flatten())\n",
    "\n",
    "model.add(layers.Dense(512, activation='relu'))\n",
    "model.add(layers.Dropout(0.5))\n",
    "model.add(layers.Dense(1, activation='sigmoid'))\n",
    "\n",
    "\n",
    "model.compile(\n",
    "    loss='binary_crossentropy',\n",
    "    optimizer=optimizers.RMSprop(lr=1e-4),\n",
    "    metrics=['accuracy']\n",
    ")"
   ]
  },
  {
   "cell_type": "code",
   "execution_count": 6,
   "metadata": {},
   "outputs": [
    {
     "name": "stdout",
     "output_type": "stream",
     "text": [
      "Epoch 1/30\n",
      "100/100 [==============================] - 12s 124ms/step - loss: 0.6922 - acc: 0.5305 - val_loss: 0.6784 - val_acc: 0.6020\n",
      "Epoch 2/30\n",
      "100/100 [==============================] - 10s 95ms/step - loss: 0.6638 - acc: 0.6060 - val_loss: 0.6691 - val_acc: 0.5900\n",
      "Epoch 3/30\n",
      "100/100 [==============================] - 10s 98ms/step - loss: 0.6275 - acc: 0.6525 - val_loss: 0.6702 - val_acc: 0.5720\n",
      "Epoch 4/30\n",
      "100/100 [==============================] - 10s 97ms/step - loss: 0.5831 - acc: 0.6890 - val_loss: 0.6205 - val_acc: 0.6760\n",
      "Epoch 5/30\n",
      "100/100 [==============================] - 10s 97ms/step - loss: 0.5637 - acc: 0.7085 - val_loss: 0.6231 - val_acc: 0.6470\n",
      "Epoch 6/30\n",
      "100/100 [==============================] - 10s 98ms/step - loss: 0.5516 - acc: 0.7170 - val_loss: 0.5950 - val_acc: 0.6940\n",
      "Epoch 7/30\n",
      "100/100 [==============================] - 10s 98ms/step - loss: 0.5296 - acc: 0.7260 - val_loss: 0.5911 - val_acc: 0.6820oss: 0\n",
      "Epoch 8/30\n",
      "100/100 [==============================] - 10s 97ms/step - loss: 0.5056 - acc: 0.7450 - val_loss: 0.6012 - val_acc: 0.6790\n",
      "Epoch 9/30\n",
      "100/100 [==============================] - 10s 97ms/step - loss: 0.4914 - acc: 0.7555 - val_loss: 0.5730 - val_acc: 0.6940\n",
      "Epoch 10/30\n",
      "100/100 [==============================] - 10s 97ms/step - loss: 0.4723 - acc: 0.7600 - val_loss: 0.5554 - val_acc: 0.7030\n",
      "Epoch 11/30\n",
      "100/100 [==============================] - 10s 97ms/step - loss: 0.4483 - acc: 0.7900 - val_loss: 0.5504 - val_acc: 0.7160\n",
      "Epoch 12/30\n",
      "100/100 [==============================] - 10s 97ms/step - loss: 0.4293 - acc: 0.7930 - val_loss: 0.5731 - val_acc: 0.6920: 5s - loss: 0.4280 - ac\n",
      "Epoch 13/30\n",
      "100/100 [==============================] - 10s 98ms/step - loss: 0.4162 - acc: 0.8095 - val_loss: 0.5284 - val_acc: 0.7240\n",
      "Epoch 14/30\n",
      "100/100 [==============================] - 10s 98ms/step - loss: 0.3894 - acc: 0.8245 - val_loss: 0.5181 - val_acc: 0.7290\n",
      "Epoch 15/30\n",
      "100/100 [==============================] - 10s 98ms/step - loss: 0.3743 - acc: 0.8260 - val_loss: 0.5116 - val_acc: 0.7410\n",
      "Epoch 16/30\n",
      "100/100 [==============================] - 10s 97ms/step - loss: 0.3586 - acc: 0.8335 - val_loss: 0.5140 - val_acc: 0.7350\n",
      "Epoch 17/30\n",
      "100/100 [==============================] - 10s 99ms/step - loss: 0.3464 - acc: 0.8540 - val_loss: 0.5191 - val_acc: 0.7330\n",
      "Epoch 18/30\n",
      "100/100 [==============================] - 10s 98ms/step - loss: 0.3284 - acc: 0.8510 - val_loss: 0.5050 - val_acc: 0.7380\n",
      "Epoch 19/30\n",
      "100/100 [==============================] - 10s 97ms/step - loss: 0.3107 - acc: 0.8730 - val_loss: 0.5027 - val_acc: 0.7450\n",
      "Epoch 20/30\n",
      "100/100 [==============================] - 10s 97ms/step - loss: 0.2950 - acc: 0.8755 - val_loss: 0.5092 - val_acc: 0.7440\n",
      "Epoch 21/30\n",
      "100/100 [==============================] - 10s 98ms/step - loss: 0.2831 - acc: 0.8795 - val_loss: 0.5167 - val_acc: 0.7350\n",
      "Epoch 22/30\n",
      "100/100 [==============================] - 10s 97ms/step - loss: 0.2745 - acc: 0.8835 - val_loss: 0.5030 - val_acc: 0.7380\n",
      "Epoch 23/30\n",
      "100/100 [==============================] - 10s 98ms/step - loss: 0.2527 - acc: 0.8970 - val_loss: 0.4935 - val_acc: 0.7490\n",
      "Epoch 24/30\n",
      "100/100 [==============================] - 10s 97ms/step - loss: 0.2431 - acc: 0.9015 - val_loss: 0.5154 - val_acc: 0.7400\n",
      "Epoch 25/30\n",
      "100/100 [==============================] - 10s 98ms/step - loss: 0.2356 - acc: 0.9090 - val_loss: 0.4990 - val_acc: 0.7510\n",
      "Epoch 26/30\n",
      "100/100 [==============================] - 10s 98ms/step - loss: 0.2090 - acc: 0.9155 - val_loss: 0.5388 - val_acc: 0.74101s - loss: 0.\n",
      "Epoch 27/30\n",
      "100/100 [==============================] - 10s 97ms/step - loss: 0.1985 - acc: 0.9235 - val_loss: 0.5172 - val_acc: 0.7450\n",
      "Epoch 28/30\n",
      "100/100 [==============================] - 10s 97ms/step - loss: 0.1952 - acc: 0.9235 - val_loss: 0.5376 - val_acc: 0.74000s - loss: 0.2005 - \n",
      "Epoch 29/30\n",
      "100/100 [==============================] - 10s 97ms/step - loss: 0.1806 - acc: 0.9305 - val_loss: 0.5093 - val_acc: 0.7610\n",
      "Epoch 30/30\n",
      "100/100 [==============================] - 10s 98ms/step - loss: 0.1735 - acc: 0.9330 - val_loss: 0.5414 - val_acc: 0.7390\n"
     ]
    }
   ],
   "source": [
    "history = model.fit_generator(\n",
    "      train_generator,\n",
    "      steps_per_epoch=100,\n",
    "      epochs=30,\n",
    "      validation_data=validation_generator,\n",
    "      validation_steps=50\n",
    ")"
   ]
  },
  {
   "cell_type": "code",
   "execution_count": 7,
   "metadata": {},
   "outputs": [
    {
     "data": {
      "image/png": "[encoded data removed]",
      "text/plain": [
       "<matplotlib.figure.Figure at 0x7fafc821e7f0>"
      ]
     },
     "metadata": {},
     "output_type": "display_data"
    },
    {
     "name": "stdout",
     "output_type": "stream",
     "text": [
      "[0.52570628643035888, 0.76500000119209288]\n"
     ]
    }
   ],
   "source": [
    "plot_history(history)\n",
    "print(model.evaluate_generator(test_generator))"
   ]
  },
  {
   "cell_type": "markdown",
   "metadata": {},
   "source": [
    "According to charts above, it is clear that the model is overfitting. Possible solution is to augment available train data and retrain network with fewer epochs number."
   ]
  },
  {
   "cell_type": "code",
   "execution_count": 7,
   "metadata": {},
   "outputs": [
    {
     "name": "stdout",
     "output_type": "stream",
     "text": [
      "Found 2000 images belonging to 2 classes.\n",
      "Found 1000 images belonging to 2 classes.\n",
      "Found 1000 images belonging to 2 classes.\n"
     ]
    }
   ],
   "source": [
    "augmentationGenerator = ImageDataGenerator(\n",
    "    rescale=1./255,\n",
    "    rotation_range=40,\n",
    "    width_shift_range=0.2,\n",
    "    height_shift_range=0.2,\n",
    "    shear_range=0.2,\n",
    "    zoom_range=0.2,\n",
    "    horizontal_flip=True\n",
    ")\n",
    "\n",
    "train_generator, validation_generator, test_generator = augmentationGenerator, ImageDataGenerator(rescale=1./255), ImageDataGenerator(rescale=1./255)\n",
    "\n",
    "train_generator = train_generator.flow_from_directory(\n",
    "    directory = os.path.join(os.getcwd(), 'datasets/training/train'),\n",
    "    target_size=(150,150),\n",
    "    batch_size=32,\n",
    "    class_mode='binary'\n",
    ")\n",
    "\n",
    "validation_generator = validation_generator.flow_from_directory(\n",
    "    directory = os.path.join(os.getcwd(), 'datasets/training/validation'),\n",
    "    target_size=(150,150),\n",
    "    batch_size=32,\n",
    "    class_mode='binary'\n",
    ")\n",
    "\n",
    "test_generator = test_generator.flow_from_directory(\n",
    "    directory = os.path.join(os.getcwd(), 'datasets/training/test'),\n",
    "    target_size=(150,150),\n",
    "    batch_size=32,\n",
    "    class_mode='binary'\n",
    ")"
   ]
  },
  {
   "cell_type": "code",
   "execution_count": 8,
   "metadata": {},
   "outputs": [
    {
     "name": "stdout",
     "output_type": "stream",
     "text": [
      "Epoch 1/30\n",
      "100/100 [==============================] - 30s 296ms/step - loss: 0.6891 - acc: 0.5284 - val_loss: 0.6789 - val_acc: 0.5990\n",
      "Epoch 2/30\n",
      "100/100 [==============================] - 26s 260ms/step - loss: 0.6735 - acc: 0.5744 - val_loss: 0.6776 - val_acc: 0.5647\n",
      "Epoch 3/30\n",
      "100/100 [==============================] - 26s 259ms/step - loss: 0.6590 - acc: 0.5894 - val_loss: 0.6561 - val_acc: 0.5977\n",
      "Epoch 4/30\n",
      "100/100 [==============================] - 27s 270ms/step - loss: 0.6363 - acc: 0.6234 - val_loss: 0.6423 - val_acc: 0.6180\n",
      "Epoch 5/30\n",
      "100/100 [==============================] - 26s 255ms/step - loss: 0.6217 - acc: 0.6581 - val_loss: 0.6348 - val_acc: 0.6288\n",
      "Epoch 6/30\n",
      "100/100 [==============================] - 28s 278ms/step - loss: 0.6040 - acc: 0.6697 - val_loss: 0.6376 - val_acc: 0.6117\n",
      "Epoch 7/30\n",
      "100/100 [==============================] - 26s 261ms/step - loss: 0.5911 - acc: 0.6847 - val_loss: 0.5953 - val_acc: 0.6992\n",
      "Epoch 8/30\n",
      "100/100 [==============================] - 26s 260ms/step - loss: 0.5961 - acc: 0.6694 - val_loss: 0.5968 - val_acc: 0.7011\n",
      "Epoch 9/30\n",
      "100/100 [==============================] - 26s 258ms/step - loss: 0.5797 - acc: 0.6856 - val_loss: 0.5945 - val_acc: 0.6713\n",
      "Epoch 10/30\n",
      "100/100 [==============================] - 26s 255ms/step - loss: 0.5781 - acc: 0.6928 - val_loss: 0.5857 - val_acc: 0.7030\n",
      "Epoch 11/30\n",
      "100/100 [==============================] - 28s 277ms/step - loss: 0.5762 - acc: 0.7037 - val_loss: 0.5904 - val_acc: 0.6656\n",
      "Epoch 12/30\n",
      "100/100 [==============================] - 26s 260ms/step - loss: 0.5628 - acc: 0.7059 - val_loss: 0.5591 - val_acc: 0.7297\n",
      "Epoch 13/30\n",
      "100/100 [==============================] - 26s 260ms/step - loss: 0.5548 - acc: 0.7175 - val_loss: 0.5629 - val_acc: 0.7183\n",
      "Epoch 14/30\n",
      "100/100 [==============================] - 26s 259ms/step - loss: 0.5477 - acc: 0.7231 - val_loss: 0.5661 - val_acc: 0.7005\n",
      "Epoch 15/30\n",
      "100/100 [==============================] - 26s 255ms/step - loss: 0.5484 - acc: 0.7050 - val_loss: 0.5727 - val_acc: 0.6923\n",
      "Epoch 16/30\n",
      "100/100 [==============================] - 26s 264ms/step - loss: 0.5433 - acc: 0.7259 - val_loss: 0.5450 - val_acc: 0.7297\n",
      "Epoch 17/30\n",
      "100/100 [==============================] - 25s 254ms/step - loss: 0.5392 - acc: 0.7269 - val_loss: 0.5465 - val_acc: 0.7069\n",
      "Epoch 18/30\n",
      "100/100 [==============================] - 28s 279ms/step - loss: 0.5336 - acc: 0.7409 - val_loss: 0.5624 - val_acc: 0.7037\n",
      "Epoch 19/30\n",
      "100/100 [==============================] - 26s 258ms/step - loss: 0.5313 - acc: 0.7303 - val_loss: 0.5255 - val_acc: 0.7595\n",
      "Epoch 20/30\n",
      "100/100 [==============================] - 26s 261ms/step - loss: 0.5233 - acc: 0.7441 - val_loss: 0.5144 - val_acc: 0.7627\n",
      "Epoch 21/30\n",
      "100/100 [==============================] - 26s 256ms/step - loss: 0.5127 - acc: 0.7481 - val_loss: 0.5511 - val_acc: 0.7094\n",
      "Epoch 22/30\n",
      "100/100 [==============================] - 25s 253ms/step - loss: 0.5165 - acc: 0.7391 - val_loss: 0.5018 - val_acc: 0.7824\n",
      "Epoch 23/30\n",
      "100/100 [==============================] - 28s 276ms/step - loss: 0.5050 - acc: 0.7566 - val_loss: 0.5107 - val_acc: 0.7640\n",
      "Epoch 24/30\n",
      "100/100 [==============================] - 25s 254ms/step - loss: 0.4939 - acc: 0.7497 - val_loss: 0.5157 - val_acc: 0.7557\n",
      "Epoch 25/30\n",
      "100/100 [==============================] - 25s 255ms/step - loss: 0.4882 - acc: 0.7594 - val_loss: 0.4851 - val_acc: 0.7887\n",
      "Epoch 26/30\n",
      "100/100 [==============================] - 25s 254ms/step - loss: 0.5002 - acc: 0.7619 - val_loss: 0.5067 - val_acc: 0.7456\n",
      "Epoch 27/30\n",
      "100/100 [==============================] - 26s 259ms/step - loss: 0.4848 - acc: 0.7684 - val_loss: 0.5085 - val_acc: 0.7398\n",
      "Epoch 28/30\n",
      "100/100 [==============================] - 27s 267ms/step - loss: 0.4924 - acc: 0.7616 - val_loss: 0.5012 - val_acc: 0.7456\n",
      "Epoch 29/30\n",
      "100/100 [==============================] - 25s 253ms/step - loss: 0.4803 - acc: 0.7609 - val_loss: 0.4824 - val_acc: 0.7754\n",
      "Epoch 30/30\n",
      "100/100 [==============================] - 25s 251ms/step - loss: 0.4772 - acc: 0.7709 - val_loss: 0.4882 - val_acc: 0.7741\n"
     ]
    }
   ],
   "source": [
    "history = model.fit_generator(\n",
    "      train_generator,\n",
    "      steps_per_epoch=100,\n",
    "      epochs=30,\n",
    "      validation_data=validation_generator,\n",
    "      validation_steps=50\n",
    ")"
   ]
  },
  {
   "cell_type": "code",
   "execution_count": 9,
   "metadata": {},
   "outputs": [
    {
     "data": {
      "image/png": "[encoded data removed]",
      "text/plain": [
       "<matplotlib.figure.Figure at 0x7f75af0cb5f8>"
      ]
     },
     "metadata": {},
     "output_type": "display_data"
    },
    {
     "name": "stdout",
     "output_type": "stream",
     "text": [
      "[0.52193916082382197, 0.753]\n"
     ]
    }
   ],
   "source": [
    "plot_history(history)\n",
    "print(model.evaluate_generator(test_generator))"
   ]
  },
  {
   "cell_type": "markdown",
   "metadata": {},
   "source": [
    "It looks like we solved the overfitting problem, but the truth is that network needs more training."
   ]
  },
  {
   "cell_type": "code",
   "execution_count": 10,
   "metadata": {},
   "outputs": [],
   "source": [
    "model.save('cnn-from-scratch.h5')"
   ]
  },
  {
   "cell_type": "code",
   "execution_count": null,
   "metadata": {
    "collapsed": true
   },
   "outputs": [],
   "source": []
  }
 ],
 "metadata": {
  "kernelspec": {
   "display_name": "Python 3",
   "language": "python",
   "name": "python3"
  },
  "language_info": {
   "codemirror_mode": {
    "name": "ipython",
    "version": 3
   },
   "file_extension": ".py",
   "mimetype": "text/x-python",
   "name": "python",
   "nbconvert_exporter": "python",
   "pygments_lexer": "ipython3",
   "version": "3.6.3"
  }
 },
 "nbformat": 4,
 "nbformat_minor": 1
}

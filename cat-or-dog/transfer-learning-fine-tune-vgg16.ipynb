{
 "cells": [
  {
   "cell_type": "code",
   "execution_count": 9,
   "metadata": {},
   "outputs": [],
   "source": [
    "import os\n",
    "import numpy as np\n",
    "import matplotlib.pyplot as plt\n",
    "%matplotlib inline\n",
    "\n",
    "import keras.models as models\n",
    "import keras.layers as layers \n",
    "import keras.optimizers as optimizers\n",
    "\n",
    "from keras.applications import VGG16\n",
    "from keras.preprocessing.image import ImageDataGenerator"
   ]
  },
  {
   "cell_type": "code",
   "execution_count": 2,
   "metadata": {
    "collapsed": true
   },
   "outputs": [],
   "source": [
    "def plot_history(history):\n",
    "    history_data        = history.history\n",
    "\n",
    "    train_accuracy      = history_data['acc']\n",
    "    train_loss          = history_data['loss']\n",
    "    validation_accuracy = history_data['val_acc']\n",
    "    validation_loss     = history_data['val_loss']\n",
    "\n",
    "    epochs              = range(1, len(history_data['acc']) + 1)\n",
    "\n",
    "    f, (left, right) = plt.subplots(1, 2)\n",
    "    f.set_size_inches(16,4)\n",
    "\n",
    "    left.plot(epochs, train_loss, 'bo', label='Training loss')\n",
    "    left.plot(epochs, validation_loss, 'b', label='Validation loss')\n",
    "    left.set_title('Training and validation loss')\n",
    "    left.set_xlabel('Epochs')\n",
    "    left.set_ylabel('Loss')\n",
    "    left.legend()\n",
    "\n",
    "    right.plot(epochs, train_accuracy, 'bo', label='Training accuracy')\n",
    "    right.plot(epochs, validation_accuracy, 'b', label='Validation accuracy')\n",
    "    right.set_title('Training and validation accuracy')\n",
    "    right.set_xlabel('Epochs')\n",
    "    right.set_ylabel('Accuracy')\n",
    "    right.legend()\n",
    "    \n",
    "    plt.show()\n",
    "\n",
    "def plot_accuracy_history(originalModelHistory, otherModelHistory):\n",
    "\n",
    "    original_validation_loss = originalModelHistory.history['val_loss']\n",
    "    other_validation_loss    = otherModelHistory.history['val_loss']\n",
    "    epochs                   = range(1, len(original_validation_loss) + 1)\n",
    "\n",
    "    f, left = plt.subplots(1, 1)\n",
    "    f.set_size_inches(12,4)\n",
    "\n",
    "    left.plot(epochs, original_validation_loss, 'bo', label='Original model validation loss')\n",
    "    left.plot(epochs, other_validation_loss, 'b', label='Other model validation loss')\n",
    "    left.set_title('Training and validation loss')\n",
    "    left.set_xlabel('Epochs')\n",
    "    left.set_ylabel('Validation loss')\n",
    "    left.legend()\n",
    "\n",
    "    plt.show()"
   ]
  },
  {
   "cell_type": "code",
   "execution_count": 3,
   "metadata": {},
   "outputs": [
    {
     "name": "stdout",
     "output_type": "stream",
     "text": [
      "_________________________________________________________________\n",
      "Layer (type)                 Output Shape              Param #   \n",
      "=================================================================\n",
      "vgg16 (Model)                (None, 4, 4, 512)         14714688  \n",
      "_________________________________________________________________\n",
      "flatten_1 (Flatten)          (None, 8192)              0         \n",
      "_________________________________________________________________\n",
      "dense_1 (Dense)              (None, 256)               2097408   \n",
      "_________________________________________________________________\n",
      "dense_2 (Dense)              (None, 1)                 257       \n",
      "=================================================================\n",
      "Total params: 16,812,353\n",
      "Trainable params: 9,177,089\n",
      "Non-trainable params: 7,635,264\n",
      "_________________________________________________________________\n"
     ]
    }
   ],
   "source": [
    "convolutional_base = VGG16(weights = 'imagenet', include_top = False, input_shape = (150,150,3))\n",
    "convolutional_base.trainable = True\n",
    "\n",
    "for layer in convolutional_base.layers:\n",
    "    if 'block5' in layer.name:\n",
    "        layer.trainable = True\n",
    "    else:\n",
    "        layer.trainable = False\n",
    "        \n",
    "        \n",
    "model = models.Sequential()\n",
    "model.add(convolutional_base)\n",
    "model.add(layers.Flatten())\n",
    "model.add(layers.Dense(256, activation='relu'))\n",
    "model.add(layers.Dense(1, activation='sigmoid'))\n",
    "model.summary()\n",
    "\n",
    "model.compile(\n",
    "    loss='binary_crossentropy',\n",
    "    optimizer=optimizers.RMSprop(lr=1e-5),\n",
    "    metrics=['accuracy']\n",
    ")"
   ]
  },
  {
   "cell_type": "code",
   "execution_count": 21,
   "metadata": {},
   "outputs": [
    {
     "name": "stdout",
     "output_type": "stream",
     "text": [
      "Found 12000 images belonging to 2 classes.\n",
      "Found 8000 images belonging to 2 classes.\n",
      "Found 5000 images belonging to 2 classes.\n",
      "Found 12500 images belonging to 1 classes.\n"
     ]
    }
   ],
   "source": [
    "train_generator, validation_generator, test_generator = ImageDataGenerator(rescale=1./255), ImageDataGenerator(rescale=1./255), ImageDataGenerator(rescale=1./255)\n",
    "\n",
    "train_generator = train_generator.flow_from_directory(\n",
    "    directory = os.path.join(os.getcwd(), 'datasets/training/full/train'),\n",
    "    target_size=(150,150),\n",
    "    batch_size=20,\n",
    "    class_mode='binary'\n",
    ")\n",
    "\n",
    "validation_generator = validation_generator.flow_from_directory(\n",
    "    directory = os.path.join(os.getcwd(), 'datasets/training/full/validation'),\n",
    "    target_size=(150,150),\n",
    "    batch_size=20,\n",
    "    class_mode='binary'\n",
    ")\n",
    "\n",
    "test_generator = test_generator.flow_from_directory(\n",
    "    directory = os.path.join(os.getcwd(), 'datasets/training/full/test'),\n",
    "    target_size=(150,150),\n",
    "    batch_size=20,\n",
    "    class_mode='binary'\n",
    ")\n",
    "\n",
    "submission_generator = ImageDataGenerator(rescale=1./255).flow_from_directory(\n",
    "    directory = os.path.join(os.getcwd(), 'datasets/submission'),\n",
    "    target_size=(150,150),\n",
    "    batch_size=20,\n",
    "    class_mode='binary'\n",
    ")"
   ]
  },
  {
   "cell_type": "code",
   "execution_count": 5,
   "metadata": {},
   "outputs": [
    {
     "name": "stdout",
     "output_type": "stream",
     "text": [
      "Epoch 1/60\n",
      "100/100 [==============================] - 31s 307ms/step - loss: 0.4423 - acc: 0.8040 - val_loss: 0.3231 - val_acc: 0.8620\n",
      "Epoch 2/60\n",
      "100/100 [==============================] - 29s 291ms/step - loss: 0.2681 - acc: 0.8855 - val_loss: 0.2544 - val_acc: 0.8920\n",
      "Epoch 3/60\n",
      "100/100 [==============================] - 29s 291ms/step - loss: 0.2246 - acc: 0.9005 - val_loss: 0.2050 - val_acc: 0.9170\n",
      "Epoch 4/60\n",
      "100/100 [==============================] - 29s 293ms/step - loss: 0.2056 - acc: 0.9175 - val_loss: 0.2362 - val_acc: 0.9000\n",
      "Epoch 5/60\n",
      "100/100 [==============================] - 29s 292ms/step - loss: 0.1864 - acc: 0.9220 - val_loss: 0.1877 - val_acc: 0.9230\n",
      "Epoch 6/60\n",
      "100/100 [==============================] - 29s 293ms/step - loss: 0.1908 - acc: 0.9190 - val_loss: 0.1729 - val_acc: 0.9300\n",
      "Epoch 7/60\n",
      "100/100 [==============================] - 29s 293ms/step - loss: 0.1285 - acc: 0.9505 - val_loss: 0.1710 - val_acc: 0.9360\n",
      "Epoch 8/60\n",
      "100/100 [==============================] - 29s 291ms/step - loss: 0.1422 - acc: 0.9435 - val_loss: 0.2273 - val_acc: 0.9090\n",
      "Epoch 9/60\n",
      "100/100 [==============================] - 29s 293ms/step - loss: 0.1354 - acc: 0.9445 - val_loss: 0.1718 - val_acc: 0.9310\n",
      "Epoch 10/60\n",
      "100/100 [==============================] - 29s 293ms/step - loss: 0.1362 - acc: 0.9420 - val_loss: 0.1612 - val_acc: 0.9380\n",
      "Epoch 11/60\n",
      "100/100 [==============================] - 29s 293ms/step - loss: 0.1457 - acc: 0.9430 - val_loss: 0.2070 - val_acc: 0.9120\n",
      "Epoch 12/60\n",
      "100/100 [==============================] - 30s 297ms/step - loss: 0.1305 - acc: 0.9455 - val_loss: 0.1529 - val_acc: 0.9330\n",
      "Epoch 13/60\n",
      "100/100 [==============================] - 30s 300ms/step - loss: 0.0986 - acc: 0.9625 - val_loss: 0.1459 - val_acc: 0.9450\n",
      "Epoch 14/60\n",
      "100/100 [==============================] - 30s 296ms/step - loss: 0.0932 - acc: 0.9670 - val_loss: 0.1581 - val_acc: 0.9370\n",
      "Epoch 15/60\n",
      "100/100 [==============================] - 30s 295ms/step - loss: 0.0906 - acc: 0.9685 - val_loss: 0.1529 - val_acc: 0.9370\n",
      "Epoch 16/60\n",
      "100/100 [==============================] - 30s 296ms/step - loss: 0.0819 - acc: 0.9735 - val_loss: 0.1564 - val_acc: 0.9430\n",
      "Epoch 17/60\n",
      "100/100 [==============================] - 30s 297ms/step - loss: 0.0965 - acc: 0.9590 - val_loss: 0.1505 - val_acc: 0.9420\n",
      "Epoch 18/60\n",
      "100/100 [==============================] - 30s 296ms/step - loss: 0.0789 - acc: 0.9690 - val_loss: 0.1602 - val_acc: 0.9370\n",
      "Epoch 19/60\n",
      "100/100 [==============================] - 30s 297ms/step - loss: 0.0473 - acc: 0.9850 - val_loss: 0.1565 - val_acc: 0.9460\n",
      "Epoch 20/60\n",
      "100/100 [==============================] - 30s 296ms/step - loss: 0.0660 - acc: 0.9795 - val_loss: 0.1623 - val_acc: 0.9380\n",
      "Epoch 21/60\n",
      "100/100 [==============================] - 30s 296ms/step - loss: 0.0594 - acc: 0.9810 - val_loss: 0.1560 - val_acc: 0.9390\n",
      "Epoch 22/60\n",
      "100/100 [==============================] - 30s 296ms/step - loss: 0.0689 - acc: 0.9805 - val_loss: 0.1399 - val_acc: 0.9490\n",
      "Epoch 23/60\n",
      "100/100 [==============================] - 30s 296ms/step - loss: 0.0621 - acc: 0.9820 - val_loss: 0.1437 - val_acc: 0.9500\n",
      "Epoch 24/60\n",
      "100/100 [==============================] - 30s 297ms/step - loss: 0.0619 - acc: 0.9785 - val_loss: 0.1393 - val_acc: 0.9510\n",
      "Epoch 25/60\n",
      "100/100 [==============================] - 29s 292ms/step - loss: 0.0341 - acc: 0.9935 - val_loss: 0.1504 - val_acc: 0.9490\n",
      "Epoch 26/60\n",
      "100/100 [==============================] - 29s 293ms/step - loss: 0.0412 - acc: 0.9910 - val_loss: 0.1476 - val_acc: 0.9500\n",
      "Epoch 27/60\n",
      "100/100 [==============================] - 29s 292ms/step - loss: 0.0338 - acc: 0.9895 - val_loss: 0.1471 - val_acc: 0.9530\n",
      "Epoch 28/60\n",
      "100/100 [==============================] - 29s 294ms/step - loss: 0.0357 - acc: 0.9900 - val_loss: 0.1525 - val_acc: 0.9490\n",
      "Epoch 29/60\n",
      "100/100 [==============================] - 29s 293ms/step - loss: 0.0410 - acc: 0.9855 - val_loss: 0.1674 - val_acc: 0.9430\n",
      "Epoch 30/60\n",
      "100/100 [==============================] - 29s 293ms/step - loss: 0.0482 - acc: 0.9855 - val_loss: 0.1847 - val_acc: 0.9390\n",
      "Epoch 31/60\n",
      "100/100 [==============================] - 29s 292ms/step - loss: 0.0252 - acc: 0.9945 - val_loss: 0.1785 - val_acc: 0.9380\n",
      "Epoch 32/60\n",
      "100/100 [==============================] - 30s 298ms/step - loss: 0.0145 - acc: 0.9990 - val_loss: 0.1682 - val_acc: 0.9410\n",
      "Epoch 33/60\n",
      "100/100 [==============================] - 29s 293ms/step - loss: 0.0239 - acc: 0.9940 - val_loss: 0.1712 - val_acc: 0.9460\n",
      "Epoch 34/60\n",
      "100/100 [==============================] - 29s 293ms/step - loss: 0.0299 - acc: 0.9925 - val_loss: 0.1667 - val_acc: 0.9470\n",
      "Epoch 35/60\n",
      "100/100 [==============================] - 29s 292ms/step - loss: 0.0219 - acc: 0.9950 - val_loss: 0.1748 - val_acc: 0.9480\n",
      "Epoch 36/60\n",
      "100/100 [==============================] - 29s 291ms/step - loss: 0.0196 - acc: 0.9960 - val_loss: 0.1587 - val_acc: 0.9510\n",
      "Epoch 37/60\n",
      "100/100 [==============================] - 29s 292ms/step - loss: 0.0121 - acc: 0.9980 - val_loss: 0.1670 - val_acc: 0.9520\n",
      "Epoch 38/60\n",
      "100/100 [==============================] - 29s 294ms/step - loss: 0.0100 - acc: 0.9975 - val_loss: 0.1984 - val_acc: 0.9440\n",
      "Epoch 39/60\n",
      "100/100 [==============================] - 29s 292ms/step - loss: 0.0115 - acc: 0.9960 - val_loss: 0.1680 - val_acc: 0.9540\n",
      "Epoch 40/60\n",
      "100/100 [==============================] - 29s 292ms/step - loss: 0.0158 - acc: 0.9960 - val_loss: 0.2427 - val_acc: 0.9300\n",
      "Epoch 41/60\n",
      "100/100 [==============================] - 30s 299ms/step - loss: 0.0134 - acc: 0.9960 - val_loss: 0.2017 - val_acc: 0.9390\n",
      "Epoch 42/60\n",
      "100/100 [==============================] - 29s 293ms/step - loss: 0.0206 - acc: 0.9955 - val_loss: 0.1724 - val_acc: 0.9530\n",
      "Epoch 43/60\n",
      "100/100 [==============================] - 29s 291ms/step - loss: 0.0079 - acc: 0.9985 - val_loss: 0.2005 - val_acc: 0.9520\n",
      "Epoch 44/60\n",
      "100/100 [==============================] - 29s 292ms/step - loss: 0.0061 - acc: 0.9980 - val_loss: 0.1954 - val_acc: 0.9510\n",
      "Epoch 45/60\n",
      "100/100 [==============================] - 29s 293ms/step - loss: 0.0142 - acc: 0.9975 - val_loss: 0.2092 - val_acc: 0.9480\n",
      "Epoch 46/60\n",
      "100/100 [==============================] - 29s 293ms/step - loss: 0.0054 - acc: 0.9985 - val_loss: 0.2161 - val_acc: 0.9480\n",
      "Epoch 47/60\n",
      "100/100 [==============================] - 29s 293ms/step - loss: 0.0064 - acc: 0.9990 - val_loss: 0.1999 - val_acc: 0.9470\n",
      "Epoch 48/60\n",
      "100/100 [==============================] - 29s 292ms/step - loss: 0.0086 - acc: 0.9970 - val_loss: 0.1989 - val_acc: 0.9510\n",
      "Epoch 49/60\n",
      "100/100 [==============================] - 29s 292ms/step - loss: 0.0049 - acc: 0.9980 - val_loss: 0.1897 - val_acc: 0.9510\n",
      "Epoch 50/60\n",
      "100/100 [==============================] - 29s 293ms/step - loss: 0.0036 - acc: 0.9995 - val_loss: 0.2144 - val_acc: 0.9470\n",
      "Epoch 51/60\n",
      "100/100 [==============================] - 29s 293ms/step - loss: 0.0041 - acc: 0.9995 - val_loss: 0.2609 - val_acc: 0.9350\n",
      "Epoch 52/60\n",
      "100/100 [==============================] - 29s 292ms/step - loss: 0.0048 - acc: 0.9985 - val_loss: 0.2127 - val_acc: 0.9500\n",
      "Epoch 53/60\n",
      "100/100 [==============================] - 29s 293ms/step - loss: 0.0090 - acc: 0.9990 - val_loss: 0.2179 - val_acc: 0.9480\n",
      "Epoch 54/60\n",
      "100/100 [==============================] - 29s 292ms/step - loss: 0.0041 - acc: 0.9995 - val_loss: 0.2161 - val_acc: 0.9540\n",
      "Epoch 55/60\n",
      "100/100 [==============================] - 29s 293ms/step - loss: 0.0053 - acc: 0.9980 - val_loss: 0.2245 - val_acc: 0.9430\n",
      "Epoch 56/60\n",
      "100/100 [==============================] - 29s 293ms/step - loss: 0.0030 - acc: 0.9990 - val_loss: 0.4268 - val_acc: 0.9150\n",
      "Epoch 57/60\n",
      "100/100 [==============================] - 29s 292ms/step - loss: 0.0024 - acc: 0.9990 - val_loss: 0.2999 - val_acc: 0.9350\n",
      "Epoch 58/60\n",
      "100/100 [==============================] - 29s 292ms/step - loss: 0.0054 - acc: 0.9980 - val_loss: 0.2237 - val_acc: 0.9480\n",
      "Epoch 59/60\n",
      "100/100 [==============================] - 29s 293ms/step - loss: 0.0012 - acc: 1.0000 - val_loss: 0.2414 - val_acc: 0.9470\n",
      "Epoch 60/60\n",
      "100/100 [==============================] - 30s 298ms/step - loss: 0.0033 - acc: 0.9990 - val_loss: 0.2832 - val_acc: 0.9360\n"
     ]
    }
   ],
   "source": [
    "history = model.fit_generator(\n",
    "      train_generator,\n",
    "      steps_per_epoch=100,\n",
    "      epochs=60,\n",
    "      validation_data=validation_generator,\n",
    "      validation_steps=50\n",
    ")"
   ]
  },
  {
   "cell_type": "code",
   "execution_count": 6,
   "metadata": {},
   "outputs": [
    {
     "name": "stdout",
     "output_type": "stream",
     "text": [
      "[0.32828553148360162, 0.93459999084472656]\n"
     ]
    }
   ],
   "source": [
    "print(model.evaluate_generator(test_generator))"
   ]
  },
  {
   "cell_type": "code",
   "execution_count": 10,
   "metadata": {},
   "outputs": [
    {
     "data": {
      "image/png": "[encoded data removed]",
      "text/plain": [
       "<matplotlib.figure.Figure at 0x7f8dee0a7fd0>"
      ]
     },
     "metadata": {},
     "output_type": "display_data"
    }
   ],
   "source": [
    "plot_history(history)"
   ]
  },
  {
   "cell_type": "markdown",
   "metadata": {},
   "source": [
    "According to training and validation loss, model is overfitting after 12 epochs."
   ]
  },
  {
   "cell_type": "code",
   "execution_count": 7,
   "metadata": {
    "collapsed": true
   },
   "outputs": [],
   "source": [
    "model.save('transfer-learning-fine-tune.h5')"
   ]
  },
  {
   "cell_type": "code",
   "execution_count": 12,
   "metadata": {},
   "outputs": [
    {
     "name": "stdout",
     "output_type": "stream",
     "text": [
      "_________________________________________________________________\n",
      "Layer (type)                 Output Shape              Param #   \n",
      "=================================================================\n",
      "input_3 (InputLayer)         (None, 150, 150, 3)       0         \n",
      "_________________________________________________________________\n",
      "block1_conv1 (Conv2D)        (None, 150, 150, 64)      1792      \n",
      "_________________________________________________________________\n",
      "block1_conv2 (Conv2D)        (None, 150, 150, 64)      36928     \n",
      "_________________________________________________________________\n",
      "block1_pool (MaxPooling2D)   (None, 75, 75, 64)        0         \n",
      "_________________________________________________________________\n",
      "block2_conv1 (Conv2D)        (None, 75, 75, 128)       73856     \n",
      "_________________________________________________________________\n",
      "block2_conv2 (Conv2D)        (None, 75, 75, 128)       147584    \n",
      "_________________________________________________________________\n",
      "block2_pool (MaxPooling2D)   (None, 37, 37, 128)       0         \n",
      "_________________________________________________________________\n",
      "block3_conv1 (Conv2D)        (None, 37, 37, 256)       295168    \n",
      "_________________________________________________________________\n",
      "block3_conv2 (Conv2D)        (None, 37, 37, 256)       590080    \n",
      "_________________________________________________________________\n",
      "block3_conv3 (Conv2D)        (None, 37, 37, 256)       590080    \n",
      "_________________________________________________________________\n",
      "block3_pool (MaxPooling2D)   (None, 18, 18, 256)       0         \n",
      "_________________________________________________________________\n",
      "block4_conv1 (Conv2D)        (None, 18, 18, 512)       1180160   \n",
      "_________________________________________________________________\n",
      "block4_conv2 (Conv2D)        (None, 18, 18, 512)       2359808   \n",
      "_________________________________________________________________\n",
      "block4_conv3 (Conv2D)        (None, 18, 18, 512)       2359808   \n",
      "_________________________________________________________________\n",
      "block4_pool (MaxPooling2D)   (None, 9, 9, 512)         0         \n",
      "_________________________________________________________________\n",
      "block5_conv1 (Conv2D)        (None, 9, 9, 512)         2359808   \n",
      "_________________________________________________________________\n",
      "block5_conv2 (Conv2D)        (None, 9, 9, 512)         2359808   \n",
      "_________________________________________________________________\n",
      "block5_conv3 (Conv2D)        (None, 9, 9, 512)         2359808   \n",
      "_________________________________________________________________\n",
      "block5_pool (MaxPooling2D)   (None, 4, 4, 512)         0         \n",
      "=================================================================\n",
      "Total params: 14,714,688\n",
      "Trainable params: 12,979,200\n",
      "Non-trainable params: 1,735,488\n",
      "_________________________________________________________________\n",
      "_________________________________________________________________\n",
      "Layer (type)                 Output Shape              Param #   \n",
      "=================================================================\n",
      "vgg16 (Model)                (None, 4, 4, 512)         14714688  \n",
      "_________________________________________________________________\n",
      "flatten_3 (Flatten)          (None, 8192)              0         \n",
      "_________________________________________________________________\n",
      "dropout_3 (Dropout)          (None, 8192)              0         \n",
      "_________________________________________________________________\n",
      "dense_5 (Dense)              (None, 256)               2097408   \n",
      "_________________________________________________________________\n",
      "dropout_4 (Dropout)          (None, 256)               0         \n",
      "_________________________________________________________________\n",
      "dense_6 (Dense)              (None, 1)                 257       \n",
      "=================================================================\n",
      "Total params: 16,812,353\n",
      "Trainable params: 15,076,865\n",
      "Non-trainable params: 1,735,488\n",
      "_________________________________________________________________\n"
     ]
    }
   ],
   "source": [
    "convolutional_base = VGG16(weights = 'imagenet', include_top = False, input_shape = (150,150,3))\n",
    "convolutional_base.trainable = True\n",
    "\n",
    "for layer in convolutional_base.layers:\n",
    "    if 'block5' in layer.name or 'block4' in layer.name:\n",
    "        layer.trainable = True\n",
    "    else:\n",
    "        layer.trainable = False\n",
    "\n",
    "convolutional_base.summary()\n",
    "        \n",
    "model = models.Sequential()\n",
    "model.add(convolutional_base)\n",
    "model.add(layers.Flatten())\n",
    "model.add(layers.Dropout(0.2))\n",
    "model.add(layers.Dense(256, activation='relu'))\n",
    "model.add(layers.Dropout(0.2))\n",
    "model.add(layers.Dense(1, activation='sigmoid'))\n",
    "model.summary()\n",
    "\n",
    "model.compile(\n",
    "    loss='binary_crossentropy',\n",
    "    optimizer=optimizers.RMSprop(lr=1e-5),\n",
    "    metrics=['accuracy']\n",
    ")"
   ]
  },
  {
   "cell_type": "code",
   "execution_count": 13,
   "metadata": {},
   "outputs": [
    {
     "name": "stdout",
     "output_type": "stream",
     "text": [
      "Epoch 1/15\n",
      "100/100 [==============================] - 37s 367ms/step - loss: 0.4115 - acc: 0.8010 - val_loss: 0.2565 - val_acc: 0.8930\n",
      "Epoch 2/15\n",
      "100/100 [==============================] - 36s 361ms/step - loss: 0.2327 - acc: 0.9015 - val_loss: 0.1900 - val_acc: 0.9210\n",
      "Epoch 3/15\n",
      "100/100 [==============================] - 36s 362ms/step - loss: 0.1957 - acc: 0.9085 - val_loss: 0.1641 - val_acc: 0.9330\n",
      "Epoch 4/15\n",
      "100/100 [==============================] - 37s 366ms/step - loss: 0.2194 - acc: 0.9095 - val_loss: 0.1456 - val_acc: 0.9370\n",
      "Epoch 5/15\n",
      "100/100 [==============================] - 36s 360ms/step - loss: 0.1383 - acc: 0.9430 - val_loss: 0.1312 - val_acc: 0.9480\n",
      "Epoch 6/15\n",
      "100/100 [==============================] - 36s 365ms/step - loss: 0.1547 - acc: 0.9355 - val_loss: 0.1306 - val_acc: 0.9480\n",
      "Epoch 7/15\n",
      "100/100 [==============================] - 37s 365ms/step - loss: 0.1008 - acc: 0.9610 - val_loss: 0.1239 - val_acc: 0.9520\n",
      "Epoch 8/15\n",
      "100/100 [==============================] - 37s 365ms/step - loss: 0.0931 - acc: 0.9605 - val_loss: 0.1735 - val_acc: 0.9320\n",
      "Epoch 9/15\n",
      "100/100 [==============================] - 36s 362ms/step - loss: 0.1133 - acc: 0.9580 - val_loss: 0.1294 - val_acc: 0.9460\n",
      "Epoch 10/15\n",
      "100/100 [==============================] - 37s 370ms/step - loss: 0.1177 - acc: 0.9560 - val_loss: 0.1340 - val_acc: 0.9460\n",
      "Epoch 11/15\n",
      "100/100 [==============================] - 37s 368ms/step - loss: 0.1130 - acc: 0.9510 - val_loss: 0.1136 - val_acc: 0.9500\n",
      "Epoch 12/15\n",
      "100/100 [==============================] - 36s 357ms/step - loss: 0.1085 - acc: 0.9565 - val_loss: 0.2174 - val_acc: 0.9260\n",
      "Epoch 13/15\n",
      "100/100 [==============================] - 36s 358ms/step - loss: 0.0628 - acc: 0.9805 - val_loss: 0.1078 - val_acc: 0.9580\n",
      "Epoch 14/15\n",
      "100/100 [==============================] - 36s 358ms/step - loss: 0.0605 - acc: 0.9760 - val_loss: 0.0891 - val_acc: 0.9610\n",
      "Epoch 15/15\n",
      "100/100 [==============================] - 36s 365ms/step - loss: 0.0587 - acc: 0.9775 - val_loss: 0.1013 - val_acc: 0.9590\n"
     ]
    }
   ],
   "source": [
    "history_after_dropout = model.fit_generator(\n",
    "      train_generator,\n",
    "      steps_per_epoch=100,\n",
    "      epochs=15,\n",
    "      validation_data=validation_generator,\n",
    "      validation_steps=50\n",
    ")"
   ]
  },
  {
   "cell_type": "code",
   "execution_count": 14,
   "metadata": {},
   "outputs": [
    {
     "data": {
      "image/png": "[encoded data removed]",
      "text/plain": [
       "<matplotlib.figure.Figure at 0x7f8dd417a3c8>"
      ]
     },
     "metadata": {},
     "output_type": "display_data"
    },
    {
     "name": "stdout",
     "output_type": "stream",
     "text": [
      "[0.14068273655453231, 0.95159999203681944]\n"
     ]
    }
   ],
   "source": [
    "plot_history(history_after_dropout)\n",
    "print(model.evaluate_generator(test_generator))\n",
    "\n",
    "model.save('transfer-learning-fine-tune-2.h5')"
   ]
  },
  {
   "cell_type": "markdown",
   "metadata": {},
   "source": [
    "Dropout regularized model gives significant accuracy boost."
   ]
  },
  {
   "cell_type": "code",
   "execution_count": 22,
   "metadata": {
    "collapsed": true
   },
   "outputs": [],
   "source": [
    "submission = model.predict_generator(submission_generator)"
   ]
  },
  {
   "cell_type": "code",
   "execution_count": 59,
   "metadata": {},
   "outputs": [],
   "source": [
    "import pandas as pd \n",
    "\n",
    "df = pd.DataFrame({\n",
    "    'id' : range(1, len(submission) + 1),\n",
    "    'label': submission.reshape(12500)\n",
    "})\n",
    "\n",
    "df.to_csv('submission.csv', index = False)"
   ]
  }
 ],
 "metadata": {
  "kernelspec": {
   "display_name": "Python 3",
   "language": "python",
   "name": "python3"
  },
  "language_info": {
   "codemirror_mode": {
    "name": "ipython",
    "version": 3
   },
   "file_extension": ".py",
   "mimetype": "text/x-python",
   "name": "python",
   "nbconvert_exporter": "python",
   "pygments_lexer": "ipython3",
   "version": "3.6.3"
  }
 },
 "nbformat": 4,
 "nbformat_minor": 2
}

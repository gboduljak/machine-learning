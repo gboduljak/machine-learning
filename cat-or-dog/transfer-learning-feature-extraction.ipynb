{
 "cells": [
  {
   "cell_type": "code",
   "execution_count": 5,
   "metadata": {},
   "outputs": [],
   "source": [
    "import os\n",
    "import numpy as np\n",
    "%matplotlib inline\n",
    "\n",
    "import keras.models as models\n",
    "import keras.layers as layers\n",
    "import keras.optimizers as optimizers\n",
    "\n",
    "from keras.applications import VGG16\n",
    "from keras.preprocessing.image import ImageDataGenerator"
   ]
  },
  {
   "cell_type": "code",
   "execution_count": 6,
   "metadata": {
    "collapsed": true
   },
   "outputs": [],
   "source": [
    "def plot_history(history):\n",
    "    history_data        = history.history\n",
    "\n",
    "    train_accuracy      = history_data['acc']\n",
    "    train_loss          = history_data['loss']\n",
    "    validation_accuracy = history_data['val_acc']\n",
    "    validation_loss     = history_data['val_loss']\n",
    "\n",
    "    epochs              = range(1, len(history_data['acc']) + 1)\n",
    "\n",
    "    f, (left, right) = plt.subplots(1, 2)\n",
    "    f.set_size_inches(16,4)\n",
    "\n",
    "    left.plot(epochs, train_loss, 'bo', label='Training loss')\n",
    "    left.plot(epochs, validation_loss, 'b', label='Validation loss')\n",
    "    left.set_title('Training and validation loss')\n",
    "    left.set_xlabel('Epochs')\n",
    "    left.set_ylabel('Loss')\n",
    "    left.legend()\n",
    "\n",
    "    right.plot(epochs, train_accuracy, 'bo', label='Training accuracy')\n",
    "    right.plot(epochs, validation_accuracy, 'b', label='Validation accuracy')\n",
    "    right.set_title('Training and validation accuracy')\n",
    "    right.set_xlabel('Epochs')\n",
    "    right.set_ylabel('Accuracy')\n",
    "    right.legend()\n",
    "    \n",
    "    plt.show()\n",
    "\n",
    "def plot_accuracy_history(originalModelHistory, otherModelHistory):\n",
    "\n",
    "    original_validation_loss = originalModelHistory.history['val_loss']\n",
    "    other_validation_loss    = otherModelHistory.history['val_loss']\n",
    "    epochs                   = range(1, len(original_validation_loss) + 1)\n",
    "\n",
    "    f, left = plt.subplots(1, 1)\n",
    "    f.set_size_inches(12,4)\n",
    "\n",
    "    left.plot(epochs, original_validation_loss, 'bo', label='Original model validation loss')\n",
    "    left.plot(epochs, other_validation_loss, 'b', label='Other model validation loss')\n",
    "    left.set_title('Training and validation loss')\n",
    "    left.set_xlabel('Epochs')\n",
    "    left.set_ylabel('Validation loss')\n",
    "    left.legend()\n",
    "\n",
    "    plt.show()"
   ]
  },
  {
   "cell_type": "code",
   "execution_count": 7,
   "metadata": {},
   "outputs": [
    {
     "name": "stdout",
     "output_type": "stream",
     "text": [
      "_________________________________________________________________\n",
      "Layer (type)                 Output Shape              Param #   \n",
      "=================================================================\n",
      "input_2 (InputLayer)         (None, 150, 150, 3)       0         \n",
      "_________________________________________________________________\n",
      "block1_conv1 (Conv2D)        (None, 150, 150, 64)      1792      \n",
      "_________________________________________________________________\n",
      "block1_conv2 (Conv2D)        (None, 150, 150, 64)      36928     \n",
      "_________________________________________________________________\n",
      "block1_pool (MaxPooling2D)   (None, 75, 75, 64)        0         \n",
      "_________________________________________________________________\n",
      "block2_conv1 (Conv2D)        (None, 75, 75, 128)       73856     \n",
      "_________________________________________________________________\n",
      "block2_conv2 (Conv2D)        (None, 75, 75, 128)       147584    \n",
      "_________________________________________________________________\n",
      "block2_pool (MaxPooling2D)   (None, 37, 37, 128)       0         \n",
      "_________________________________________________________________\n",
      "block3_conv1 (Conv2D)        (None, 37, 37, 256)       295168    \n",
      "_________________________________________________________________\n",
      "block3_conv2 (Conv2D)        (None, 37, 37, 256)       590080    \n",
      "_________________________________________________________________\n",
      "block3_conv3 (Conv2D)        (None, 37, 37, 256)       590080    \n",
      "_________________________________________________________________\n",
      "block3_pool (MaxPooling2D)   (None, 18, 18, 256)       0         \n",
      "_________________________________________________________________\n",
      "block4_conv1 (Conv2D)        (None, 18, 18, 512)       1180160   \n",
      "_________________________________________________________________\n",
      "block4_conv2 (Conv2D)        (None, 18, 18, 512)       2359808   \n",
      "_________________________________________________________________\n",
      "block4_conv3 (Conv2D)        (None, 18, 18, 512)       2359808   \n",
      "_________________________________________________________________\n",
      "block4_pool (MaxPooling2D)   (None, 9, 9, 512)         0         \n",
      "_________________________________________________________________\n",
      "block5_conv1 (Conv2D)        (None, 9, 9, 512)         2359808   \n",
      "_________________________________________________________________\n",
      "block5_conv2 (Conv2D)        (None, 9, 9, 512)         2359808   \n",
      "_________________________________________________________________\n",
      "block5_conv3 (Conv2D)        (None, 9, 9, 512)         2359808   \n",
      "_________________________________________________________________\n",
      "block5_pool (MaxPooling2D)   (None, 4, 4, 512)         0         \n",
      "=================================================================\n",
      "Total params: 14,714,688\n",
      "Trainable params: 14,714,688\n",
      "Non-trainable params: 0\n",
      "_________________________________________________________________\n"
     ]
    }
   ],
   "source": [
    "convolutional_base = VGG16(weights = 'imagenet', include_top = False, input_shape = (150,150,3))\n",
    "convolutional_base.summary()"
   ]
  },
  {
   "cell_type": "code",
   "execution_count": 15,
   "metadata": {},
   "outputs": [
    {
     "name": "stdout",
     "output_type": "stream",
     "text": [
      "Found 2000 images belonging to 2 classes.\n",
      "Found 1000 images belonging to 2 classes.\n",
      "Found 1000 images belonging to 2 classes.\n"
     ]
    }
   ],
   "source": [
    "def extract_features(dataset, samplesCount):\n",
    "    features = np.zeros(shape = (samplesCount, 4, 4, 512))\n",
    "    labels = np.zeros(samplesCount)\n",
    "    \n",
    "    imagesGenerator =  ImageDataGenerator(rescale = 1./255).flow_from_directory(\n",
    "        directory = dataset,\n",
    "        target_size=(150,150),\n",
    "        batch_size=20,\n",
    "        class_mode='binary'\n",
    "    )\n",
    "    \n",
    "    currentBatch = 0\n",
    "    \n",
    "    for images, correctLabels in imagesGenerator:\n",
    "        features[currentBatch * 20 : (currentBatch + 1) * 20] = convolutional_base.predict(images)\n",
    "        labels[currentBatch * 20 : (currentBatch + 1) * 20] = correctLabels\n",
    "        currentBatch += 1\n",
    "        \n",
    "        if(currentBatch * 20) >= samplesCount:\n",
    "            break;\n",
    "    return features, labels\n",
    "\n",
    "trainFeatures, trainLabels = extract_features(os.path.join(os.getcwd(), 'datasets/training/train'), 2000)\n",
    "validationFeatures, validationLabels = extract_features(os.path.join(os.getcwd(), 'datasets/training/validation'), 1000)\n",
    "testFeatures, testLabels = extract_features(os.path.join(os.getcwd(), 'datasets/training/test'), 1000)"
   ]
  },
  {
   "cell_type": "code",
   "execution_count": 17,
   "metadata": {},
   "outputs": [
    {
     "name": "stdout",
     "output_type": "stream",
     "text": [
      "Train on 2000 samples, validate on 1000 samples\n",
      "Epoch 1/30\n",
      "2000/2000 [==============================] - 1s 721us/step - loss: 0.5741 - acc: 0.7105 - val_loss: 0.4418 - val_acc: 0.8400\n",
      "Epoch 2/30\n",
      "2000/2000 [==============================] - 1s 559us/step - loss: 0.4140 - acc: 0.8290 - val_loss: 0.3626 - val_acc: 0.8640\n",
      "Epoch 3/30\n",
      "2000/2000 [==============================] - 1s 570us/step - loss: 0.3497 - acc: 0.8520 - val_loss: 0.3271 - val_acc: 0.8740\n",
      "Epoch 4/30\n",
      "2000/2000 [==============================] - 1s 567us/step - loss: 0.3004 - acc: 0.8790 - val_loss: 0.3004 - val_acc: 0.8840\n",
      "Epoch 5/30\n",
      "2000/2000 [==============================] - 1s 558us/step - loss: 0.2900 - acc: 0.8780 - val_loss: 0.2913 - val_acc: 0.8810\n",
      "Epoch 6/30\n",
      "2000/2000 [==============================] - 1s 596us/step - loss: 0.2647 - acc: 0.8925 - val_loss: 0.2859 - val_acc: 0.8800\n",
      "Epoch 7/30\n",
      "2000/2000 [==============================] - 1s 564us/step - loss: 0.2386 - acc: 0.9010 - val_loss: 0.2667 - val_acc: 0.8960\n",
      "Epoch 8/30\n",
      "2000/2000 [==============================] - 1s 565us/step - loss: 0.2339 - acc: 0.9135 - val_loss: 0.2622 - val_acc: 0.8990\n",
      "Epoch 9/30\n",
      "2000/2000 [==============================] - 1s 605us/step - loss: 0.2168 - acc: 0.9195 - val_loss: 0.2545 - val_acc: 0.9030\n",
      "Epoch 10/30\n",
      "2000/2000 [==============================] - 1s 575us/step - loss: 0.2133 - acc: 0.9285 - val_loss: 0.2519 - val_acc: 0.9040\n",
      "Epoch 11/30\n",
      "2000/2000 [==============================] - 1s 564us/step - loss: 0.2041 - acc: 0.9260 - val_loss: 0.2529 - val_acc: 0.9030\n",
      "Epoch 12/30\n",
      "2000/2000 [==============================] - 1s 578us/step - loss: 0.1908 - acc: 0.9305 - val_loss: 0.2477 - val_acc: 0.9040\n",
      "Epoch 13/30\n",
      "2000/2000 [==============================] - 1s 610us/step - loss: 0.1825 - acc: 0.9360 - val_loss: 0.2462 - val_acc: 0.9060\n",
      "Epoch 14/30\n",
      "2000/2000 [==============================] - 1s 586us/step - loss: 0.1749 - acc: 0.9335 - val_loss: 0.2445 - val_acc: 0.9030\n",
      "Epoch 15/30\n",
      "2000/2000 [==============================] - 1s 583us/step - loss: 0.1675 - acc: 0.9435 - val_loss: 0.2423 - val_acc: 0.9060\n",
      "Epoch 16/30\n",
      "2000/2000 [==============================] - 1s 589us/step - loss: 0.1644 - acc: 0.9430 - val_loss: 0.2485 - val_acc: 0.8970\n",
      "Epoch 17/30\n",
      "2000/2000 [==============================] - 1s 643us/step - loss: 0.1520 - acc: 0.9480 - val_loss: 0.2390 - val_acc: 0.9060\n",
      "Epoch 18/30\n",
      "2000/2000 [==============================] - 1s 585us/step - loss: 0.1434 - acc: 0.9540 - val_loss: 0.2397 - val_acc: 0.9050\n",
      "Epoch 19/30\n",
      "2000/2000 [==============================] - 1s 582us/step - loss: 0.1398 - acc: 0.9515 - val_loss: 0.2415 - val_acc: 0.9020\n",
      "Epoch 20/30\n",
      "2000/2000 [==============================] - 1s 589us/step - loss: 0.1316 - acc: 0.9580 - val_loss: 0.2479 - val_acc: 0.8940\n",
      "Epoch 21/30\n",
      "2000/2000 [==============================] - 1s 626us/step - loss: 0.1328 - acc: 0.9565 - val_loss: 0.2389 - val_acc: 0.9020\n",
      "Epoch 22/30\n",
      "2000/2000 [==============================] - 1s 593us/step - loss: 0.1246 - acc: 0.9605 - val_loss: 0.2576 - val_acc: 0.8950\n",
      "Epoch 23/30\n",
      "2000/2000 [==============================] - 1s 616us/step - loss: 0.1181 - acc: 0.9625 - val_loss: 0.2389 - val_acc: 0.9030\n",
      "Epoch 24/30\n",
      "2000/2000 [==============================] - 1s 583us/step - loss: 0.1133 - acc: 0.9635 - val_loss: 0.2390 - val_acc: 0.9080\n",
      "Epoch 25/30\n",
      "2000/2000 [==============================] - 1s 578us/step - loss: 0.1121 - acc: 0.9615 - val_loss: 0.2395 - val_acc: 0.9060\n",
      "Epoch 26/30\n",
      "2000/2000 [==============================] - 1s 633us/step - loss: 0.1039 - acc: 0.9680 - val_loss: 0.2405 - val_acc: 0.9050\n",
      "Epoch 27/30\n",
      "2000/2000 [==============================] - 1s 581us/step - loss: 0.1009 - acc: 0.9695 - val_loss: 0.2407 - val_acc: 0.9040\n",
      "Epoch 28/30\n",
      "2000/2000 [==============================] - 1s 569us/step - loss: 0.0988 - acc: 0.9695 - val_loss: 0.2438 - val_acc: 0.9000\n",
      "Epoch 29/30\n",
      "2000/2000 [==============================] - 1s 584us/step - loss: 0.0954 - acc: 0.9680 - val_loss: 0.2445 - val_acc: 0.9000\n",
      "Epoch 30/30\n",
      "2000/2000 [==============================] - 1s 591us/step - loss: 0.0927 - acc: 0.9660 - val_loss: 0.2433 - val_acc: 0.9010\n"
     ]
    }
   ],
   "source": [
    "model = models.Sequential()\n",
    "model.add(layers.Dense(256, activation = 'relu', input_dim = 4 * 4 * 512))\n",
    "model.add(layers.Dropout(0.5))\n",
    "model.add(layers.Dense(1, activation = 'sigmoid'))\n",
    "\n",
    "model.compile(\n",
    "    loss='binary_crossentropy',\n",
    "    optimizer=optimizers.RMSprop(lr=2e-5),\n",
    "    metrics=['accuracy']\n",
    ")\n",
    "\n",
    "trainFeatures      = np.reshape(trainFeatures, (2000, 4 * 4 * 512))\n",
    "validationFeatures = np.reshape(validationFeatures, (1000, 4 * 4 * 512))\n",
    "testFeatures       = np.reshape(testFeatures, (1000, 4 * 4 * 512))\n",
    "\n",
    "history = model.fit(\n",
    "      trainFeatures, trainLabels,\n",
    "      epochs=30,\n",
    "      batch_size = 20,\n",
    "      validation_data=(validationFeatures, validationLabels)\n",
    ")"
   ]
  },
  {
   "cell_type": "code",
   "execution_count": 19,
   "metadata": {},
   "outputs": [
    {
     "data": {
      "image/png": "[encoded data removed]",
      "text/plain": [
       "<matplotlib.figure.Figure at 0x7f74dab4fe48>"
      ]
     },
     "metadata": {},
     "output_type": "display_data"
    },
    {
     "name": "stdout",
     "output_type": "stream",
     "text": [
      "1000/1000 [==============================] - 0s 149us/step\n",
      "[0.25458777379989622, 0.88800000000000001]\n"
     ]
    }
   ],
   "source": [
    "plot_history(history)\n",
    "print(model.evaluate(testFeatures, testLabels))"
   ]
  },
  {
   "cell_type": "code",
   "execution_count": 20,
   "metadata": {
    "collapsed": true
   },
   "outputs": [],
   "source": [
    "model.save('transfer-learning-with-feature-extraction.h5')"
   ]
  }
 ],
 "metadata": {
  "kernelspec": {
   "display_name": "Python 3",
   "language": "python",
   "name": "python3"
  },
  "language_info": {
   "codemirror_mode": {
    "name": "ipython",
    "version": 3
   },
   "file_extension": ".py",
   "mimetype": "text/x-python",
   "name": "python",
   "nbconvert_exporter": "python",
   "pygments_lexer": "ipython3",
   "version": "3.6.3"
  }
 },
 "nbformat": 4,
 "nbformat_minor": 2
}

{
 "cells": [
  {
   "cell_type": "code",
   "execution_count": 1,
   "metadata": {
    "colab": {
     "autoexec": {
      "startup": false,
      "wait_interval": 0
     },
     "base_uri": "https://localhost:8080/",
     "height": 399
    },
    "colab_type": "code",
    "executionInfo": {
     "elapsed": 10967,
     "status": "ok",
     "timestamp": 1532903519122,
     "user": {
      "displayName": "Deep Learning",
      "photoUrl": "https://lh3.googleusercontent.com/a/default-user=s128",
      "userId": "102264131503135976244"
     },
     "user_tz": -120
    },
    "id": "yS1FnhiWX3Js",
    "outputId": "862e2992-807c-41a4-bb36-2e6c3501139f"
   },
   "outputs": [
    {
     "name": "stdout",
     "output_type": "stream",
     "text": [
      "Requirement already satisfied: keras in /usr/local/lib/python3.6/dist-packages (2.1.6)\n",
      "Requirement already satisfied: scipy>=0.14 in /usr/local/lib/python3.6/dist-packages (from keras) (0.19.1)\n",
      "Requirement already satisfied: pyyaml in /usr/local/lib/python3.6/dist-packages (from keras) (3.13)\n",
      "Requirement already satisfied: six>=1.9.0 in /usr/local/lib/python3.6/dist-packages (from keras) (1.11.0)\n",
      "Requirement already satisfied: numpy>=1.9.1 in /usr/local/lib/python3.6/dist-packages (from keras) (1.14.5)\n",
      "Requirement already satisfied: h5py in /usr/local/lib/python3.6/dist-packages (from keras) (2.8.0)\n",
      "Collecting sklearn\n",
      "  Downloading https://files.pythonhosted.org/packages/1e/7a/dbb3be0ce9bd5c8b7e3d87328e79063f8b263b2b1bfa4774cb1147bfcd3f/sklearn-0.0.tar.gz\n",
      "Requirement already satisfied: scikit-learn in /usr/local/lib/python3.6/dist-packages (from sklearn) (0.19.2)\n",
      "Building wheels for collected packages: sklearn\n",
      "  Running setup.py bdist_wheel for sklearn ... \u001b[?25l-\b \bdone\n",
      "\u001b[?25h  Stored in directory: /content/.cache/pip/wheels/76/03/bb/589d421d27431bcd2c6da284d5f2286c8e3b2ea3cf1594c074\n",
      "Successfully built sklearn\n",
      "Installing collected packages: sklearn\n",
      "Successfully installed sklearn-0.0\n",
      "Requirement already satisfied: matplotlib in /usr/local/lib/python3.6/dist-packages (2.1.2)\n",
      "Requirement already satisfied: six>=1.10 in /usr/local/lib/python3.6/dist-packages (from matplotlib) (1.11.0)\n",
      "Requirement already satisfied: python-dateutil>=2.1 in /usr/local/lib/python3.6/dist-packages (from matplotlib) (2.5.3)\n",
      "Requirement already satisfied: pytz in /usr/local/lib/python3.6/dist-packages (from matplotlib) (2018.5)\n",
      "Requirement already satisfied: cycler>=0.10 in /usr/local/lib/python3.6/dist-packages (from matplotlib) (0.10.0)\n",
      "Requirement already satisfied: pyparsing!=2.0.4,!=2.1.2,!=2.1.6,>=2.0.1 in /usr/local/lib/python3.6/dist-packages (from matplotlib) (2.2.0)\n",
      "Requirement already satisfied: numpy>=1.7.1 in /usr/local/lib/python3.6/dist-packages (from matplotlib) (1.14.5)\n"
     ]
    }
   ],
   "source": [
    "!pip install keras\n",
    "!pip install sklearn\n",
    "!pip install matplotlib\n",
    "!pip install -U -q PyDrive"
   ]
  },
  {
   "cell_type": "code",
   "execution_count": 2,
   "metadata": {
    "colab": {
     "autoexec": {
      "startup": false,
      "wait_interval": 0
     },
     "base_uri": "https://localhost:8080/",
     "height": 35
    },
    "colab_type": "code",
    "executionInfo": {
     "elapsed": 8549,
     "status": "ok",
     "timestamp": 1532903527702,
     "user": {
      "displayName": "Deep Learning",
      "photoUrl": "https://lh3.googleusercontent.com/a/default-user=s128",
      "userId": "102264131503135976244"
     },
     "user_tz": -120
    },
    "id": "xlKzkDJFrjA-",
    "outputId": "87f4a28e-78e4-4f62-ec99-a6da644f3b58"
   },
   "outputs": [
    {
     "name": "stderr",
     "output_type": "stream",
     "text": [
      "Using TensorFlow backend.\n"
     ]
    }
   ],
   "source": [
    "from keras import backend as K\n",
    "K.clear_session()"
   ]
  },
  {
   "cell_type": "code",
   "execution_count": 0,
   "metadata": {
    "colab": {
     "autoexec": {
      "startup": false,
      "wait_interval": 0
     }
    },
    "colab_type": "code",
    "id": "eQEKwl4oAxO7"
   },
   "outputs": [],
   "source": [
    "from keras import backend as K\n",
    "cfg = K.tf.ConfigProto()\n",
    "cfg.gpu_options.allow_growth = True\n",
    "K.set_session(K.tf.Session(config=cfg))"
   ]
  },
  {
   "cell_type": "code",
   "execution_count": 0,
   "metadata": {
    "colab": {
     "autoexec": {
      "startup": false,
      "wait_interval": 0
     }
    },
    "colab_type": "code",
    "id": "12M0egCCX-27"
   },
   "outputs": [],
   "source": [
    "from pydrive.auth import GoogleAuth\n",
    "from pydrive.drive import GoogleDrive\n",
    "from google.colab import auth\n",
    "from oauth2client.client import GoogleCredentials\n",
    "\n",
    "auth.authenticate_user()\n",
    "gauth = GoogleAuth()\n",
    "gauth.credentials = GoogleCredentials.get_application_default()\n",
    "drive = GoogleDrive(gauth)"
   ]
  },
  {
   "cell_type": "code",
   "execution_count": 0,
   "metadata": {
    "colab": {
     "autoexec": {
      "startup": false,
      "wait_interval": 0
     }
    },
    "colab_type": "code",
    "id": "4lN2WTUEYBYv"
   },
   "outputs": [],
   "source": [
    "file_import = drive.CreateFile({'id':'1p1bsltfTcIrZ_kfE6kwGTPzcdXorHbb2'})\n",
    "file_import.GetContentFile('colab_setup.py') \n",
    "from colab_setup import setup\n",
    "\n",
    "setup(drive)"
   ]
  },
  {
   "cell_type": "code",
   "execution_count": 6,
   "metadata": {
    "colab": {
     "autoexec": {
      "startup": false,
      "wait_interval": 0
     },
     "base_uri": "https://localhost:8080/",
     "height": 121
    },
    "colab_type": "code",
    "executionInfo": {
     "elapsed": 1757,
     "status": "ok",
     "timestamp": 1532903570975,
     "user": {
      "displayName": "Deep Learning",
      "photoUrl": "https://lh3.googleusercontent.com/a/default-user=s128",
      "userId": "102264131503135976244"
     },
     "user_tz": -120
    },
    "id": "cHBlD0tVj2TY",
    "outputId": "ae49f550-42c5-4106-d945-a234f37f64df"
   },
   "outputs": [
    {
     "name": "stdout",
     "output_type": "stream",
     "text": [
      "colab_setup.py\t\t\t roc_auc_callback.py\tX_train.npy\r\n",
      "custom_fast_text_embeddings.npy  sample_submission.csv\tX_val.npy\r\n",
      "datalab\t\t\t\t train_model.py\t\ty_test.npy\r\n",
      "fast_text_embeddings.npy\t X_submission.npy\ty_train_full.npy\r\n",
      "plot_history.py\t\t\t X_test.npy\t\ty_train.npy\r\n",
      "__pycache__\t\t\t X_train_full.npy\ty_val.npy\r\n"
     ]
    }
   ],
   "source": [
    "!ls"
   ]
  },
  {
   "cell_type": "code",
   "execution_count": 0,
   "metadata": {
    "colab": {
     "autoexec": {
      "startup": false,
      "wait_interval": 0
     }
    },
    "colab_type": "code",
    "id": "yMwWPTMYXyno"
   },
   "outputs": [],
   "source": [
    "import numpy as np\n",
    "import os\n",
    "\n",
    "from plot_history import plot_history\n",
    "from roc_auc_callback import RocAucCallback\n",
    "from train_model import train_with_cv, train_with_submitting, evaluate_on_test\n",
    "\n",
    "from keras.layers import *\n",
    "from keras.layers.merge import *\n",
    "from keras.initializers import *\n",
    "from keras.models import Model"
   ]
  },
  {
   "cell_type": "code",
   "execution_count": 0,
   "metadata": {
    "colab": {
     "autoexec": {
      "startup": false,
      "wait_interval": 0
     }
    },
    "colab_type": "code",
    "id": "irwBTJdINU0J"
   },
   "outputs": [],
   "source": [
    "from keras.optimizers import *\n",
    "from keras.initializers import *\n",
    "from keras.layers import *\n",
    "from keras.layers.merge import *\n",
    "from keras.models import *\n",
    "\n",
    "residual_convolution_options = dict({\n",
    "    'dropout_mode': 'spatial',\n",
    "    'dropout_rate': 0.2,\n",
    "    'filters': 128,\n",
    "    'kernel_size': 1,\n",
    "    'strides': 1,\n",
    "    'padding': 'same',\n",
    "    'activation': 'elu',\n",
    "    'should_preactivate': True\n",
    "})\n",
    "\n",
    "gru_options = {\n",
    "    'units': 128,\n",
    "    'dropout': 0.2,\n",
    "    'return_sequences': True\n",
    "}\n",
    "\n",
    "def convolution_block(input_layer, options):\n",
    "    convolution_input = Input(shape=[\n",
    "        int(input_layer.shape[1]),\n",
    "        int(input_layer.shape[2])\n",
    "    ])\n",
    "\n",
    "    convolution_block = convolution_input\n",
    "\n",
    "    if(options['should_preactivate']):\n",
    "        convolution_block = BatchNormalization()(convolution_block)\n",
    "        convolution_block = Activation(options['activation'])(convolution_block)\n",
    "        convolution_block = Conv1D(options['filters'], options['kernel_size'], strides=options['strides'],\n",
    "                                   padding=options['padding'], activation='linear', kernel_initializer='he_normal')(convolution_block)\n",
    "    else:\n",
    "        convolution_block = Conv1D(options['filters'], options['kernel_size'], strides=options['strides'],\n",
    "                                   padding=options['padding'], activation='linear', kernel_initializer='he_normal')(convolution_block)\n",
    "        convolution_block = BatchNormalization()(convolution_block)\n",
    "        convolution_block = Activation(options['activation'])(convolution_block)\n",
    "\n",
    "    convolution_output = convolution_block\n",
    "\n",
    "    if(options['dropout_mode'] == 'spatial'):\n",
    "        convolution_output = SpatialDropout1D(options['dropout_rate'])(convolution_output)\n",
    "    if(options['dropout_mode']== 'vanilla'):\n",
    "        convolution_output = Dropout(options['dropout_rate'])(convolution_output)\n",
    "\n",
    "    return Model(inputs=[convolution_input], outputs=[convolution_output])(input_layer)"
   ]
  },
  {
   "cell_type": "code",
   "execution_count": 0,
   "metadata": {
    "colab": {
     "autoexec": {
      "startup": false,
      "wait_interval": 0
     }
    },
    "colab_type": "code",
    "id": "sD9D5r9-Sdg7"
   },
   "outputs": [],
   "source": [
    "def residual_add_block(input_layer, should_pool):\n",
    "    convolution_input = Input(shape=[\n",
    "        int(input_layer.shape[1]),\n",
    "        int(input_layer.shape[2])\n",
    "    ])\n",
    "    \n",
    "    residual_block_pool = convolution_input\n",
    "\n",
    "    if(should_pool):\n",
    "        residual_block_pool = MaxPooling1D(pool_size=2, strides=2, padding='same')(convolution_input)\n",
    "\n",
    "    residual_block = add([\n",
    "        residual_block_pool,\n",
    "        convolution_block(residual_block_pool, residual_convolution_options)\n",
    "    ])\n",
    "    residual_block = add([\n",
    "        residual_block,\n",
    "        convolution_block(residual_block, residual_convolution_options)\n",
    "    ])\n",
    "    \n",
    "    convolution_output = add([residual_block, residual_block_pool])\n",
    "\n",
    "    return Model(inputs=[convolution_input], outputs=[convolution_output])(input_layer)"
   ]
  },
  {
   "cell_type": "code",
   "execution_count": 0,
   "metadata": {
    "colab": {
     "autoexec": {
      "startup": false,
      "wait_interval": 0
     }
    },
    "colab_type": "code",
    "id": "40AE8A3WGEAa"
   },
   "outputs": [],
   "source": [
    "def get_gru_last_step(sequences):\n",
    "    return Lambda(lambda sequence: sequence[:, -1, :])(sequences)"
   ]
  },
  {
   "cell_type": "code",
   "execution_count": 0,
   "metadata": {
    "colab": {
     "autoexec": {
      "startup": false,
      "wait_interval": 0
     }
    },
    "colab_type": "code",
    "id": "xOfIVhpoSdpQ"
   },
   "outputs": [],
   "source": [
    "def yoon_kim_feature_extractor(input_layer, filters):\n",
    "    extractor_block_input = Input(shape=[\n",
    "        int(input_layer.shape[1]),\n",
    "        int(input_layer.shape[2])\n",
    "    ])\n",
    "\n",
    "    block_1_conv_1 = Conv1D(filters, 1, activation = 'linear', padding = 'same', kernel_initializer = 'he_normal')(extractor_block_input)\n",
    "    block_1_batchnorm1 = BatchNormalization()(block_1_conv_1)\n",
    "    block_1_batchnorm1 = ELU()(block_1_batchnorm1)\n",
    "    block_1_max_pool1 = GlobalMaxPooling1D()(block_1_batchnorm1)\n",
    "\n",
    "    block_1_conv_2 = Conv1D(filters, 2, activation = 'linear', padding = 'same', kernel_initializer = 'he_normal')(extractor_block_input)\n",
    "    block_1_batchnorm2 = BatchNormalization()(block_1_conv_2)\n",
    "    block_1_batchnorm2 = ELU()(block_1_batchnorm2)\n",
    "    block_1_max_pool2 = GlobalMaxPooling1D()(block_1_batchnorm2)\n",
    "\n",
    "    block_1_conv_3 = Conv1D(filters, 3, activation = 'linear', padding = 'same', kernel_initializer = 'he_normal')(extractor_block_input)\n",
    "    block_1_batchnorm3 = BatchNormalization()(block_1_conv_3)\n",
    "    block_1_batchnorm3 = ELU()(block_1_batchnorm3)\n",
    "    block_1_max_pool3 = GlobalMaxPooling1D()(block_1_batchnorm3)\n",
    "\n",
    "    block_1_conv_4 = Conv1D(filters, 5, activation = 'linear', padding = 'same', kernel_initializer = 'he_normal')(extractor_block_input)\n",
    "    block_1_batchnorm4 = BatchNormalization()(block_1_conv_4)\n",
    "    block_1_batchnorm4 = ELU()(block_1_batchnorm4)\n",
    "    block_1_max_pool4 = GlobalMaxPooling1D()(block_1_batchnorm4)\n",
    "\n",
    "    features = concatenate([\n",
    "        block_1_max_pool1, \n",
    "        block_1_max_pool2, \n",
    "        block_1_max_pool3, \n",
    "        block_1_max_pool4\n",
    "    ])\n",
    "    \n",
    "    extractor_block_output = Dropout(0.2)(features)\n",
    "    \n",
    "    return Model(\n",
    "        inputs=[extractor_block_input], \n",
    "        outputs=[extractor_block_output]\n",
    "    )(input_layer)"
   ]
  },
  {
   "cell_type": "code",
   "execution_count": 0,
   "metadata": {
    "colab": {
     "autoexec": {
      "startup": false,
      "wait_interval": 0
     }
    },
    "colab_type": "code",
    "id": "PHbVmJqTSdxU"
   },
   "outputs": [],
   "source": [
    "def classification_block(input_layer, dropout_rate = 0.2):\n",
    "      \n",
    "    model = Dense(256, activation = 'linear', kernel_initializer = 'he_normal')(input_layer)\n",
    "    model = BatchNormalization()(model)\n",
    "    model = ELU()(model)\n",
    "    model = Dropout(dropout_rate)(model)\n",
    "    \n",
    "    model = Dense(256, activation = 'linear', kernel_initializer = 'he_normal')(model)\n",
    "    model = BatchNormalization()(model)\n",
    "    model = ELU()(model)\n",
    "    model = Dropout(dropout_rate)(model)\n",
    "\n",
    "    classification_block_output = Dense(6, activation='sigmoid', kernel_initializer = 'glorot_normal')(model)\n",
    "    \n",
    "    return classification_block_output"
   ]
  },
  {
   "cell_type": "code",
   "execution_count": 13,
   "metadata": {
    "colab": {
     "autoexec": {
      "startup": false,
      "wait_interval": 0
     },
     "base_uri": "https://localhost:8080/",
     "height": 1213
    },
    "colab_type": "code",
    "executionInfo": {
     "elapsed": 12252,
     "status": "ok",
     "timestamp": 1532903588222,
     "user": {
      "displayName": "Deep Learning",
      "photoUrl": "https://lh3.googleusercontent.com/a/default-user=s128",
      "userId": "102264131503135976244"
     },
     "user_tz": -120
    },
    "id": "LTFG7OgsXynw",
    "outputId": "b17e9830-7a07-4446-bd63-53cd4e550c58"
   },
   "outputs": [
    {
     "name": "stdout",
     "output_type": "stream",
     "text": [
      "__________________________________________________________________________________________________\n",
      "Layer (type)                    Output Shape         Param #     Connected to                     \n",
      "==================================================================================================\n",
      "input_1 (InputLayer)            (None, 400)          0                                            \n",
      "__________________________________________________________________________________________________\n",
      "embedding_1 (Embedding)         (None, 400, 300)     9000000     input_1[0][0]                    \n",
      "__________________________________________________________________________________________________\n",
      "embedding_2 (Embedding)         (None, 400, 300)     9000000     input_1[0][0]                    \n",
      "__________________________________________________________________________________________________\n",
      "spatial_dropout1d_1 (SpatialDro (None, 400, 300)     0           embedding_1[0][0]                \n",
      "__________________________________________________________________________________________________\n",
      "spatial_dropout1d_2 (SpatialDro (None, 400, 300)     0           embedding_2[0][0]                \n",
      "__________________________________________________________________________________________________\n",
      "average_1 (Average)             (None, 400, 300)     0           spatial_dropout1d_1[0][0]        \n",
      "                                                                 spatial_dropout1d_2[0][0]        \n",
      "__________________________________________________________________________________________________\n",
      "spatial_dropout1d_3 (SpatialDro (None, 400, 300)     0           average_1[0][0]                  \n",
      "__________________________________________________________________________________________________\n",
      "bidirectional_1 (Bidirectional) (None, 400, 256)     330240      spatial_dropout1d_3[0][0]        \n",
      "__________________________________________________________________________________________________\n",
      "dropout_1 (Dropout)             (None, 400, 256)     0           bidirectional_1[0][0]            \n",
      "__________________________________________________________________________________________________\n",
      "model_1 (Model)                 (None, 400, 128)     33920       dropout_1[0][0]                  \n",
      "__________________________________________________________________________________________________\n",
      "model_4 (Model)                 (None, 400, 128)     34048       model_1[1][0]                    \n",
      "__________________________________________________________________________________________________\n",
      "model_7 (Model)                 (None, 200, 128)     34048       model_4[1][0]                    \n",
      "__________________________________________________________________________________________________\n",
      "model_10 (Model)                (None, 100, 128)     34048       model_7[1][0]                    \n",
      "__________________________________________________________________________________________________\n",
      "global_max_pooling1d_1 (GlobalM (None, 256)          0           dropout_1[0][0]                  \n",
      "__________________________________________________________________________________________________\n",
      "global_average_pooling1d_1 (Glo (None, 256)          0           dropout_1[0][0]                  \n",
      "__________________________________________________________________________________________________\n",
      "lambda_1 (Lambda)               (None, 256)          0           dropout_1[0][0]                  \n",
      "__________________________________________________________________________________________________\n",
      "model_13 (Model)                (None, 50, 128)      34048       model_10[1][0]                   \n",
      "__________________________________________________________________________________________________\n",
      "concatenate_1 (Concatenate)     (None, 768)          0           global_max_pooling1d_1[0][0]     \n",
      "                                                                 global_average_pooling1d_1[0][0] \n",
      "                                                                 lambda_1[0][0]                   \n",
      "__________________________________________________________________________________________________\n",
      "model_14 (Model)                (None, 512)          182784      model_13[1][0]                   \n",
      "__________________________________________________________________________________________________\n",
      "concatenate_3 (Concatenate)     (None, 1280)         0           concatenate_1[0][0]              \n",
      "                                                                 model_14[1][0]                   \n",
      "__________________________________________________________________________________________________\n",
      "dense_1 (Dense)                 (None, 256)          327936      concatenate_3[0][0]              \n",
      "__________________________________________________________________________________________________\n",
      "batch_normalization_14 (BatchNo (None, 256)          1024        dense_1[0][0]                    \n",
      "__________________________________________________________________________________________________\n",
      "elu_5 (ELU)                     (None, 256)          0           batch_normalization_14[0][0]     \n",
      "__________________________________________________________________________________________________\n",
      "dropout_3 (Dropout)             (None, 256)          0           elu_5[0][0]                      \n",
      "__________________________________________________________________________________________________\n",
      "dense_2 (Dense)                 (None, 256)          65792       dropout_3[0][0]                  \n",
      "__________________________________________________________________________________________________\n",
      "batch_normalization_15 (BatchNo (None, 256)          1024        dense_2[0][0]                    \n",
      "__________________________________________________________________________________________________\n",
      "elu_6 (ELU)                     (None, 256)          0           batch_normalization_15[0][0]     \n",
      "__________________________________________________________________________________________________\n",
      "dropout_4 (Dropout)             (None, 256)          0           elu_6[0][0]                      \n",
      "__________________________________________________________________________________________________\n",
      "dense_3 (Dense)                 (None, 6)            1542        dropout_4[0][0]                  \n",
      "==================================================================================================\n",
      "Total params: 19,080,454\n",
      "Trainable params: 1,075,846\n",
      "Non-trainable params: 18,004,608\n",
      "__________________________________________________________________________________________________\n"
     ]
    }
   ],
   "source": [
    "max_words= 30000\n",
    "max_words_length = 400\n",
    "embedding_dimension = 300\n",
    "\n",
    "input_layer = Input(shape=(max_words_length,))\n",
    "\n",
    "pretrained_embedding_layer = Embedding(\n",
    "    max_words, \n",
    "    output_dim=embedding_dimension, \n",
    "    input_length=max_words_length,\n",
    "    weights = [np.load('fast_text_embeddings.npy')],\n",
    "    trainable = False\n",
    ")(input_layer)\n",
    "pretrained_embedding_layer = SpatialDropout1D(0.2)(pretrained_embedding_layer)\n",
    "\n",
    "custom_embedding_layer = Embedding(\n",
    "    max_words, \n",
    "    output_dim=embedding_dimension, \n",
    "    input_length=max_words_length,\n",
    "    weights = [np.load('custom_fast_text_embeddings.npy')],\n",
    "    trainable = False\n",
    ")(input_layer)\n",
    "custom_embedding_layer = SpatialDropout1D(0.2)(custom_embedding_layer)\n",
    "\n",
    "averaged_embedding_layer = Average()([pretrained_embedding_layer, custom_embedding_layer])\n",
    "averaged_embedding_layer = SpatialDropout1D(0.2)(averaged_embedding_layer)\n",
    "\n",
    "gru = Bidirectional(\n",
    "  CuDNNGRU(\n",
    "    units=gru_options['units'],\n",
    "    return_sequences=gru_options['return_sequences']\n",
    "  )\n",
    ")(averaged_embedding_layer)\n",
    "gru = Dropout(gru_options['dropout'])(gru)\n",
    "\n",
    "gru_features = concatenate([\n",
    "    GlobalMaxPooling1D()(gru),\n",
    "    GlobalAveragePooling1D()(gru),\n",
    "    get_gru_last_step(gru)\n",
    "])\n",
    "\n",
    "gru = convolution_block(gru, residual_convolution_options)\n",
    "\n",
    "model = residual_add_block(gru, should_pool = False)\n",
    "model = residual_add_block(model, should_pool = True)\n",
    "model = residual_add_block(model, should_pool = True)\n",
    "model = residual_add_block(model, should_pool = True)\n",
    "\n",
    "features = concatenate([\n",
    "    gru_features,\n",
    "    yoon_kim_feature_extractor(model, residual_convolution_options['filters'])\n",
    "])\n",
    "\n",
    "output_layer = classification_block(features)\n",
    "\n",
    "model = Model(input_layer, output_layer)\n",
    "\n",
    "model.compile(loss='binary_crossentropy', \n",
    "            optimizer='Adam',\n",
    "            metrics=['accuracy'])          \n",
    "\n",
    "model.summary()"
   ]
  },
  {
   "cell_type": "code",
   "execution_count": 14,
   "metadata": {
    "colab": {
     "autoexec": {
      "startup": false,
      "wait_interval": 0
     },
     "base_uri": "https://localhost:8080/",
     "height": 731
    },
    "colab_type": "code",
    "executionInfo": {
     "elapsed": 11516067,
     "status": "ok",
     "timestamp": 1532915104318,
     "user": {
      "displayName": "Deep Learning",
      "photoUrl": "https://lh3.googleusercontent.com/a/default-user=s128",
      "userId": "102264131503135976244"
     },
     "user_tz": -120
    },
    "id": "xwMmTewgXynz",
    "outputId": "6942b81f-07c6-4348-801a-1c061c137f12"
   },
   "outputs": [
    {
     "name": "stdout",
     "output_type": "stream",
     "text": [
      "Train on 102124 samples, validate on 25532 samples\n",
      "Epoch 1/64\n",
      " 21184/102124 [=====>........................] - ETA: 8:37 - loss: 0.1174 - acc: 0.9602 72480/102124 [====================>.........] - ETA: 3:02 - loss: 0.0771 - acc: 0.9731102124/102124 [==============================] - 669s 7ms/step - loss: 0.0710 - acc: 0.9751 - val_loss: 0.0474 - val_acc: 0.9823\n",
      "Epoch 2/64\n",
      "  2432/102124 [..............................] - ETA: 10:05 - loss: 0.0528 - acc: 0.9805 42400/102124 [===========>..................] - ETA: 6:03 - loss: 0.0530 - acc: 0.9804 92128/102124 [==========================>...] - ETA: 1:00 - loss: 0.0527 - acc: 0.9806102124/102124 [==============================] - 663s 6ms/step - loss: 0.0524 - acc: 0.9807 - val_loss: 0.0465 - val_acc: 0.9822\n",
      "roc-auc: 0.9845 - roc-auc_val: 0.9825                                                                                                    \n",
      "Epoch 3/64\n",
      " 46464/102124 [============>.................] - ETA: 5:37 - loss: 0.0488 - acc: 0.9818 91584/102124 [=========================>....] - ETA: 1:03 - loss: 0.0490 - acc: 0.9816102124/102124 [==============================] - 662s 6ms/step - loss: 0.0487 - acc: 0.9818 - val_loss: 0.0438 - val_acc: 0.9837\n",
      "Epoch 4/64\n",
      "  9888/102124 [=>............................] - ETA: 9:20 - loss: 0.0485 - acc: 0.9819 49568/102124 [=============>................] - ETA: 5:19 - loss: 0.0455 - acc: 0.9828 86592/102124 [========================>.....] - ETA: 1:34 - loss: 0.0456 - acc: 0.9827102124/102124 [==============================] - 664s 7ms/step - loss: 0.0456 - acc: 0.9826 - val_loss: 0.0421 - val_acc: 0.9838\n",
      "roc-auc: 0.9903 - roc-auc_val: 0.9877                                                                                                    \n",
      "Epoch 5/64\n",
      "  4768/102124 [>.............................] - ETA: 10:02 - loss: 0.0405 - acc: 0.9848 39552/102124 [==========>...................] - ETA: 6:27 - loss: 0.0431 - acc: 0.9837 74656/102124 [====================>.........] - ETA: 2:49 - loss: 0.0433 - acc: 0.9835102124/102124 [==============================] - 673s 7ms/step - loss: 0.0432 - acc: 0.9834 - val_loss: 0.0397 - val_acc: 0.9845\n",
      "Epoch 6/64\n",
      "  2880/102124 [..............................] - ETA: 10:04 - loss: 0.0481 - acc: 0.9804 43136/102124 [===========>..................] - ETA: 5:56 - loss: 0.0420 - acc: 0.9835 80416/102124 [======================>.......] - ETA: 2:11 - loss: 0.0415 - acc: 0.9838102124/102124 [==============================] - 665s 7ms/step - loss: 0.0417 - acc: 0.9837 - val_loss: 0.0399 - val_acc: 0.9845\n",
      "roc-auc: 0.9925 - roc-auc_val: 0.9893                                                                                                    \n",
      "Epoch 7/64\n",
      "  3264/102124 [..............................] - ETA: 9:56 - loss: 0.0399 - acc: 0.9840 45120/102124 [============>.................] - ETA: 5:45 - loss: 0.0401 - acc: 0.9843 81952/102124 [=======================>......] - ETA: 2:03 - loss: 0.0400 - acc: 0.9843102124/102124 [==============================] - 667s 7ms/step - loss: 0.0401 - acc: 0.9843 - val_loss: 0.0407 - val_acc: 0.9844\n",
      "\n",
      "Epoch 00007: ReduceLROnPlateau reducing learning rate to 0.0002679433673620224.\n",
      "Epoch 8/64\n",
      "  4160/102124 [>.............................] - ETA: 9:52 - loss: 0.0446 - acc: 0.9828 42848/102124 [===========>..................] - ETA: 6:00 - loss: 0.0394 - acc: 0.9845 81472/102124 [======================>.......] - ETA: 2:05 - loss: 0.0390 - acc: 0.9847102124/102124 [==============================] - 663s 6ms/step - loss: 0.0389 - acc: 0.9847 - val_loss: 0.0416 - val_acc: 0.9834\n",
      "roc-auc: 0.9931 - roc-auc_val: 0.9886                                                                                                    \n",
      "Epoch 9/64\n",
      "  3456/102124 [>.............................] - ETA: 10:06 - loss: 0.0375 - acc: 0.9854 41248/102124 [===========>..................] - ETA: 6:11 - loss: 0.0382 - acc: 0.9851 77920/102124 [=====================>........] - ETA: 2:27 - loss: 0.0379 - acc: 0.9852102124/102124 [==============================] - 667s 7ms/step - loss: 0.0379 - acc: 0.9851 - val_loss: 0.0405 - val_acc: 0.9845\n",
      "Epoch 10/64\n",
      "  4192/102124 [>.............................] - ETA: 10:05 - loss: 0.0349 - acc: 0.9860 38816/102124 [==========>...................] - ETA: 6:30 - loss: 0.0361 - acc: 0.9857 72704/102124 [====================>.........] - ETA: 3:01 - loss: 0.0364 - acc: 0.9856102124/102124 [==============================] - 672s 7ms/step - loss: 0.0368 - acc: 0.9854 - val_loss: 0.0410 - val_acc: 0.9838\n",
      "roc-auc: 0.9944 - roc-auc_val: 0.9888                                                                                                    \n",
      "Epoch 11/64\n",
      "  1216/102124 [..............................] - ETA: 10:18 - loss: 0.0331 - acc: 0.9878 36320/102124 [=========>....................] - ETA: 6:45 - loss: 0.0356 - acc: 0.9856 70080/102124 [===================>..........] - ETA: 3:17 - loss: 0.0357 - acc: 0.9857102124/102124 [==============================] - 673s 7ms/step - loss: 0.0359 - acc: 0.9856 - val_loss: 0.0403 - val_acc: 0.9843\n",
      "Epoch 12/64\n",
      "  1120/102124 [..............................] - ETA: 10:24 - loss: 0.0306 - acc: 0.9879 35360/102124 [=========>....................] - ETA: 6:52 - loss: 0.0346 - acc: 0.9862 71584/102124 [====================>.........] - ETA: 3:08 - loss: 0.0344 - acc: 0.9863102124/102124 [==============================] - 673s 7ms/step - loss: 0.0348 - acc: 0.9861 - val_loss: 0.0400 - val_acc: 0.9842\n",
      "roc-auc: 0.9953 - roc-auc_val: 0.9885                                                                                                    \n",
      "Epoch 13/64\n",
      "   992/102124 [..............................] - ETA: 10:22 - loss: 0.0335 - acc: 0.9867 36000/102124 [=========>....................] - ETA: 6:48 - loss: 0.0337 - acc: 0.9865 70144/102124 [===================>..........] - ETA: 3:17 - loss: 0.0338 - acc: 0.9865102124/102124 [==============================] - 673s 7ms/step - loss: 0.0337 - acc: 0.9865 - val_loss: 0.0424 - val_acc: 0.9836\n",
      "Epoch 14/64\n",
      "  1088/102124 [..............................] - ETA: 10:23 - loss: 0.0305 - acc: 0.9891 35904/102124 [=========>....................] - ETA: 6:47 - loss: 0.0342 - acc: 0.9861 72864/102124 [====================>.........] - ETA: 3:00 - loss: 0.0333 - acc: 0.9864102124/102124 [==============================] - 671s 7ms/step - loss: 0.0333 - acc: 0.9865 - val_loss: 0.0400 - val_acc: 0.9846\n",
      "roc-auc: 0.9959 - roc-auc_val: 0.9887                                                                                                    \n",
      "Epoch 15/64\n",
      "  1280/102124 [..............................] - ETA: 10:21 - loss: 0.0291 - acc: 0.9893 37376/102124 [=========>....................] - ETA: 6:39 - loss: 0.0324 - acc: 0.9869 71008/102124 [===================>..........] - ETA: 3:12 - loss: 0.0321 - acc: 0.9870102124/102124 [==============================] - 673s 7ms/step - loss: 0.0323 - acc: 0.9870 - val_loss: 0.0408 - val_acc: 0.9842\n"
     ]
    }
   ],
   "source": [
    "history = train_with_cv(model, epochs=64, batchSize=32, rocEvery = 2)"
   ]
  },
  {
   "cell_type": "code",
   "execution_count": 15,
   "metadata": {
    "colab": {
     "autoexec": {
      "startup": false,
      "wait_interval": 0
     },
     "base_uri": "https://localhost:8080/",
     "height": 295
    },
    "colab_type": "code",
    "executionInfo": {
     "elapsed": 2721,
     "status": "ok",
     "timestamp": 1532915107082,
     "user": {
      "displayName": "Deep Learning",
      "photoUrl": "https://lh3.googleusercontent.com/a/default-user=s128",
      "userId": "102264131503135976244"
     },
     "user_tz": -120
    },
    "id": "izWCJ3HMReV3",
    "outputId": "e4c2c83c-a3ac-4b58-9a71-1d7eaa9e394f"
   },
   "outputs": [
    {
     "data": {
      "image/png": "[encoded data removed]",
      "text/plain": [
       "<matplotlib.figure.Figure at 0x7f54a8295048>"
      ]
     },
     "metadata": {
      "tags": []
     },
     "output_type": "display_data"
    }
   ],
   "source": [
    "plot_history(history)"
   ]
  },
  {
   "cell_type": "code",
   "execution_count": 16,
   "metadata": {
    "colab": {
     "autoexec": {
      "startup": false,
      "wait_interval": 0
     },
     "base_uri": "https://localhost:8080/",
     "height": 52
    },
    "colab_type": "code",
    "executionInfo": {
     "elapsed": 111358,
     "status": "ok",
     "timestamp": 1532915218725,
     "user": {
      "displayName": "Deep Learning",
      "photoUrl": "https://lh3.googleusercontent.com/a/default-user=s128",
      "userId": "102264131503135976244"
     },
     "user_tz": -120
    },
    "id": "r2gtMBj2Tp9A",
    "outputId": "6d696fa7-faa0-4476-f527-d2b072201026"
   },
   "outputs": [
    {
     "name": "stdout",
     "output_type": "stream",
     "text": [
      "31915/31915 [==============================] - 58s 2ms/step\n",
      "([0.03977717443079121, 0.98473548150522], 0.9901547964320252)\n"
     ]
    }
   ],
   "source": [
    "print(evaluate_on_test(model))"
   ]
  }
 ],
 "metadata": {
  "accelerator": "GPU",
  "colab": {
   "collapsed_sections": [],
   "default_view": {},
   "name": "gru_128_residual_add_128_4_blocks_pool.ipynb",
   "provenance": [],
   "version": "0.3.2",
   "views": {}
  },
  "kernelspec": {
   "display_name": "Python 3",
   "language": "python",
   "name": "python3"
  },
  "language_info": {
   "codemirror_mode": {
    "name": "ipython",
    "version": 3
   },
   "file_extension": ".py",
   "mimetype": "text/x-python",
   "name": "python",
   "nbconvert_exporter": "python",
   "pygments_lexer": "ipython3",
   "version": "3.6.2"
  }
 },
 "nbformat": 4,
 "nbformat_minor": 1
}

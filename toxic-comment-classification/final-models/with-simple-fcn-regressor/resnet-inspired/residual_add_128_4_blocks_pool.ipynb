{
  "nbformat": 4,
  "nbformat_minor": 0,
  "metadata": {
    "colab": {
      "name": "residual_add_128_4_blocks_pool.ipynb",
      "version": "0.3.2",
      "views": {},
      "default_view": {},
      "provenance": [],
      "collapsed_sections": []
    },
    "kernelspec": {
      "display_name": "Python 3",
      "language": "python",
      "name": "python3"
    },
    "accelerator": "GPU"
  },
  "cells": [
    {
      "metadata": {
        "id": "yS1FnhiWX3Js",
        "colab_type": "code",
        "colab": {
          "autoexec": {
            "startup": false,
            "wait_interval": 0
          },
          "base_uri": "https://localhost:8080/",
          "height": 297
        },
        "outputId": "35e12d87-2ffc-48e2-f4de-61305ff8a3d4",
        "executionInfo": {
          "status": "ok",
          "timestamp": 1532715511925,
          "user_tz": -120,
          "elapsed": 8728,
          "user": {
            "displayName": "Deep Learning",
            "photoUrl": "https://lh3.googleusercontent.com/a/default-user=s128",
            "userId": "102264131503135976244"
          }
        }
      },
      "cell_type": "code",
      "source": [
        "!pip install keras\n",
        "!pip install sklearn\n",
        "!pip install matplotlib\n",
        "!pip install -U -q PyDrive"
      ],
      "execution_count": 1,
      "outputs": [
        {
          "output_type": "stream",
          "text": [
            "Requirement already satisfied: keras in /usr/local/lib/python3.6/dist-packages (2.1.6)\n",
            "Requirement already satisfied: numpy>=1.9.1 in /usr/local/lib/python3.6/dist-packages (from keras) (1.14.5)\n",
            "Requirement already satisfied: scipy>=0.14 in /usr/local/lib/python3.6/dist-packages (from keras) (0.19.1)\n",
            "Requirement already satisfied: six>=1.9.0 in /usr/local/lib/python3.6/dist-packages (from keras) (1.11.0)\n",
            "Requirement already satisfied: h5py in /usr/local/lib/python3.6/dist-packages (from keras) (2.8.0)\n",
            "Requirement already satisfied: pyyaml in /usr/local/lib/python3.6/dist-packages (from keras) (3.13)\n",
            "Requirement already satisfied: sklearn in /usr/local/lib/python3.6/dist-packages (0.0)\n",
            "Requirement already satisfied: scikit-learn in /usr/local/lib/python3.6/dist-packages (from sklearn) (0.19.2)\n",
            "Requirement already satisfied: matplotlib in /usr/local/lib/python3.6/dist-packages (2.1.2)\n",
            "Requirement already satisfied: python-dateutil>=2.1 in /usr/local/lib/python3.6/dist-packages (from matplotlib) (2.5.3)\n",
            "Requirement already satisfied: six>=1.10 in /usr/local/lib/python3.6/dist-packages (from matplotlib) (1.11.0)\n",
            "Requirement already satisfied: cycler>=0.10 in /usr/local/lib/python3.6/dist-packages (from matplotlib) (0.10.0)\n",
            "Requirement already satisfied: pyparsing!=2.0.4,!=2.1.2,!=2.1.6,>=2.0.1 in /usr/local/lib/python3.6/dist-packages (from matplotlib) (2.2.0)\n",
            "Requirement already satisfied: pytz in /usr/local/lib/python3.6/dist-packages (from matplotlib) (2018.5)\n",
            "Requirement already satisfied: numpy>=1.7.1 in /usr/local/lib/python3.6/dist-packages (from matplotlib) (1.14.5)\n"
          ],
          "name": "stdout"
        }
      ]
    },
    {
      "metadata": {
        "id": "xlKzkDJFrjA-",
        "colab_type": "code",
        "colab": {
          "autoexec": {
            "startup": false,
            "wait_interval": 0
          },
          "base_uri": "https://localhost:8080/",
          "height": 35
        },
        "outputId": "7155a81b-620f-4684-dcc1-71f4ed2466eb",
        "executionInfo": {
          "status": "ok",
          "timestamp": 1532715513706,
          "user_tz": -120,
          "elapsed": 1738,
          "user": {
            "displayName": "Deep Learning",
            "photoUrl": "https://lh3.googleusercontent.com/a/default-user=s128",
            "userId": "102264131503135976244"
          }
        }
      },
      "cell_type": "code",
      "source": [
        "from keras import backend as K\n",
        "K.clear_session()"
      ],
      "execution_count": 2,
      "outputs": [
        {
          "output_type": "stream",
          "text": [
            "Using TensorFlow backend.\n"
          ],
          "name": "stderr"
        }
      ]
    },
    {
      "metadata": {
        "id": "eQEKwl4oAxO7",
        "colab_type": "code",
        "colab": {
          "autoexec": {
            "startup": false,
            "wait_interval": 0
          }
        }
      },
      "cell_type": "code",
      "source": [
        "from keras import backend as K\n",
        "cfg = K.tf.ConfigProto()\n",
        "cfg.gpu_options.allow_growth = True\n",
        "K.set_session(K.tf.Session(config=cfg))"
      ],
      "execution_count": 0,
      "outputs": []
    },
    {
      "metadata": {
        "id": "12M0egCCX-27",
        "colab_type": "code",
        "colab": {
          "autoexec": {
            "startup": false,
            "wait_interval": 0
          }
        }
      },
      "cell_type": "code",
      "source": [
        "from pydrive.auth import GoogleAuth\n",
        "from pydrive.drive import GoogleDrive\n",
        "from google.colab import auth\n",
        "from oauth2client.client import GoogleCredentials\n",
        "\n",
        "auth.authenticate_user()\n",
        "gauth = GoogleAuth()\n",
        "gauth.credentials = GoogleCredentials.get_application_default()\n",
        "drive = GoogleDrive(gauth)"
      ],
      "execution_count": 0,
      "outputs": []
    },
    {
      "metadata": {
        "id": "4lN2WTUEYBYv",
        "colab_type": "code",
        "colab": {
          "autoexec": {
            "startup": false,
            "wait_interval": 0
          }
        }
      },
      "cell_type": "code",
      "source": [
        "file_import = drive.CreateFile({'id':'1p1bsltfTcIrZ_kfE6kwGTPzcdXorHbb2'})\n",
        "file_import.GetContentFile('colab_setup.py') \n",
        "from colab_setup import setup\n",
        "\n",
        "setup(drive)"
      ],
      "execution_count": 0,
      "outputs": []
    },
    {
      "metadata": {
        "id": "cHBlD0tVj2TY",
        "colab_type": "code",
        "colab": {
          "autoexec": {
            "startup": false,
            "wait_interval": 0
          },
          "base_uri": "https://localhost:8080/",
          "height": 121
        },
        "outputId": "9f40b275-3b85-4237-8cb6-aa117826683b",
        "executionInfo": {
          "status": "ok",
          "timestamp": 1532715543021,
          "user_tz": -120,
          "elapsed": 1947,
          "user": {
            "displayName": "Deep Learning",
            "photoUrl": "https://lh3.googleusercontent.com/a/default-user=s128",
            "userId": "102264131503135976244"
          }
        }
      },
      "cell_type": "code",
      "source": [
        "!ls"
      ],
      "execution_count": 6,
      "outputs": [
        {
          "output_type": "stream",
          "text": [
            "colab_setup.py\t\t\t roc_auc_callback.py\tX_train.npy\r\n",
            "custom_fast_text_embeddings.npy  sample_submission.csv\tX_val.npy\r\n",
            "datalab\t\t\t\t train_model.py\t\ty_test.npy\r\n",
            "fast_text_embeddings.npy\t X_submission.npy\ty_train_full.npy\r\n",
            "plot_history.py\t\t\t X_test.npy\t\ty_train.npy\r\n",
            "__pycache__\t\t\t X_train_full.npy\ty_val.npy\r\n"
          ],
          "name": "stdout"
        }
      ]
    },
    {
      "metadata": {
        "id": "yMwWPTMYXyno",
        "colab_type": "code",
        "colab": {
          "autoexec": {
            "startup": false,
            "wait_interval": 0
          }
        }
      },
      "cell_type": "code",
      "source": [
        "import numpy as np\n",
        "import os\n",
        "\n",
        "from plot_history import plot_history\n",
        "from roc_auc_callback import RocAucCallback\n",
        "from train_model import train_with_cv, train_with_submitting, evaluate_on_test\n",
        "\n",
        "from keras.layers import *\n",
        "from keras.layers.merge import *\n",
        "from keras.initializers import *\n",
        "from keras.models import Model"
      ],
      "execution_count": 0,
      "outputs": []
    },
    {
      "metadata": {
        "id": "irwBTJdINU0J",
        "colab_type": "code",
        "colab": {
          "autoexec": {
            "startup": false,
            "wait_interval": 0
          }
        }
      },
      "cell_type": "code",
      "source": [
        "from keras.optimizers import *\n",
        "from keras.initializers import *\n",
        "from keras.layers import *\n",
        "from keras.layers.merge import *\n",
        "from keras.models import *\n",
        "\n",
        "residual_convolution_options = dict({\n",
        "    'dropout_mode': 'spatial',\n",
        "    'dropout_rate': 0.2,\n",
        "    'filters': 128,\n",
        "    'kernel_size': 1,\n",
        "    'strides': 1,\n",
        "    'padding': 'same',\n",
        "    'activation': 'elu',\n",
        "    'should_preactivate': True\n",
        "})\n",
        "\n",
        "def convolution_block(input_layer, options):\n",
        "    convolution_input = Input(shape=[\n",
        "        int(input_layer.shape[1]),\n",
        "        int(input_layer.shape[2])\n",
        "    ])\n",
        "\n",
        "    convolution_block = convolution_input\n",
        "\n",
        "    if(options['should_preactivate']):\n",
        "        convolution_block = BatchNormalization()(convolution_block)\n",
        "        convolution_block = Activation(options['activation'])(convolution_block)\n",
        "        convolution_block = Conv1D(options['filters'], options['kernel_size'], strides=options['strides'],\n",
        "                                   padding=options['padding'], activation='linear', kernel_initializer='he_normal')(convolution_block)\n",
        "    else:\n",
        "        convolution_block = Conv1D(options['filters'], options['kernel_size'], strides=options['strides'],\n",
        "                                   padding=options['padding'], activation='linear', kernel_initializer='he_normal')(convolution_block)\n",
        "        convolution_block = BatchNormalization()(convolution_block)\n",
        "        convolution_block = Activation(options['activation'])(convolution_block)\n",
        "\n",
        "    convolution_output = convolution_block\n",
        "\n",
        "    if(options['dropout_mode'] == 'spatial'):\n",
        "        convolution_output = SpatialDropout1D(options['dropout_rate'])(convolution_output)\n",
        "    if(options['dropout_mode']== 'vanilla'):\n",
        "        convolution_output = Dropout(options['dropout_rate'])(convolution_output)\n",
        "\n",
        "    return Model(inputs=[convolution_input], outputs=[convolution_output])(input_layer)"
      ],
      "execution_count": 0,
      "outputs": []
    },
    {
      "metadata": {
        "id": "sD9D5r9-Sdg7",
        "colab_type": "code",
        "colab": {
          "autoexec": {
            "startup": false,
            "wait_interval": 0
          }
        }
      },
      "cell_type": "code",
      "source": [
        "def residual_add_block(input_layer, should_pool):\n",
        "    convolution_input = Input(shape=[\n",
        "        int(input_layer.shape[1]),\n",
        "        int(input_layer.shape[2])\n",
        "    ])\n",
        "    \n",
        "    residual_block_pool = convolution_input\n",
        "\n",
        "    if(should_pool):\n",
        "        residual_block_pool = MaxPooling1D(pool_size=2, strides=2, padding='same')(convolution_input)\n",
        "\n",
        "    residual_block = add([\n",
        "        residual_block_pool,\n",
        "        convolution_block(residual_block_pool, residual_convolution_options)\n",
        "    ])\n",
        "    residual_block = add([\n",
        "        residual_block,\n",
        "        convolution_block(residual_block, residual_convolution_options)\n",
        "    ])\n",
        "    \n",
        "    convolution_output = add([residual_block, residual_block_pool])\n",
        "\n",
        "    return Model(inputs=[convolution_input], outputs=[convolution_output])(input_layer)"
      ],
      "execution_count": 0,
      "outputs": []
    },
    {
      "metadata": {
        "id": "xOfIVhpoSdpQ",
        "colab_type": "code",
        "colab": {
          "autoexec": {
            "startup": false,
            "wait_interval": 0
          }
        }
      },
      "cell_type": "code",
      "source": [
        "def yoon_kim_feature_extractor(input_layer, filters):\n",
        "    extractor_block_input = Input(shape=[\n",
        "        int(input_layer.shape[1]),\n",
        "        int(input_layer.shape[2])\n",
        "    ])\n",
        "\n",
        "    block_1_conv_1 = Conv1D(filters, 1, activation = 'linear', padding = 'same', kernel_initializer = 'he_normal')(extractor_block_input)\n",
        "    block_1_batchnorm1 = BatchNormalization()(block_1_conv_1)\n",
        "    block_1_batchnorm1 = ELU()(block_1_batchnorm1)\n",
        "    block_1_max_pool1 = GlobalMaxPooling1D()(block_1_batchnorm1)\n",
        "\n",
        "    block_1_conv_2 = Conv1D(filters, 2, activation = 'linear', padding = 'same', kernel_initializer = 'he_normal')(extractor_block_input)\n",
        "    block_1_batchnorm2 = BatchNormalization()(block_1_conv_2)\n",
        "    block_1_batchnorm2 = ELU()(block_1_batchnorm2)\n",
        "    block_1_max_pool2 = GlobalMaxPooling1D()(block_1_batchnorm2)\n",
        "\n",
        "    block_1_conv_3 = Conv1D(filters, 3, activation = 'linear', padding = 'same', kernel_initializer = 'he_normal')(extractor_block_input)\n",
        "    block_1_batchnorm3 = BatchNormalization()(block_1_conv_3)\n",
        "    block_1_batchnorm3 = ELU()(block_1_batchnorm3)\n",
        "    block_1_max_pool3 = GlobalMaxPooling1D()(block_1_batchnorm3)\n",
        "\n",
        "    block_1_conv_4 = Conv1D(filters, 5, activation = 'linear', padding = 'same', kernel_initializer = 'he_normal')(extractor_block_input)\n",
        "    block_1_batchnorm4 = BatchNormalization()(block_1_conv_4)\n",
        "    block_1_batchnorm4 = ELU()(block_1_batchnorm4)\n",
        "    block_1_max_pool4 = GlobalMaxPooling1D()(block_1_batchnorm4)\n",
        "\n",
        "    features = concatenate([\n",
        "        block_1_max_pool1, \n",
        "        block_1_max_pool2, \n",
        "        block_1_max_pool3, \n",
        "        block_1_max_pool4\n",
        "    ])\n",
        "    \n",
        "    extractor_block_output = Dropout(0.2)(features)\n",
        "    \n",
        "    return Model(\n",
        "        inputs=[extractor_block_input], \n",
        "        outputs=[extractor_block_output]\n",
        "    )(input_layer)"
      ],
      "execution_count": 0,
      "outputs": []
    },
    {
      "metadata": {
        "id": "PHbVmJqTSdxU",
        "colab_type": "code",
        "colab": {
          "autoexec": {
            "startup": false,
            "wait_interval": 0
          }
        }
      },
      "cell_type": "code",
      "source": [
        "def classification_block(input_layer, dropout_rate = 0.2):\n",
        "      \n",
        "    model = Dense(256, activation = 'linear', kernel_initializer = 'he_normal')(input_layer)\n",
        "    model = BatchNormalization()(model)\n",
        "    model = ELU()(model)\n",
        "    model = Dropout(dropout_rate)(model)\n",
        "    \n",
        "    model = Dense(256, activation = 'linear', kernel_initializer = 'he_normal')(model)\n",
        "    model = BatchNormalization()(model)\n",
        "    model = ELU()(model)\n",
        "    model = Dropout(dropout_rate)(model)\n",
        "\n",
        "    classification_block_output = Dense(6, activation='sigmoid', kernel_initializer = 'glorot_normal')(model)\n",
        "    \n",
        "    return classification_block_output"
      ],
      "execution_count": 0,
      "outputs": []
    },
    {
      "metadata": {
        "id": "LTFG7OgsXynw",
        "colab_type": "code",
        "colab": {
          "autoexec": {
            "startup": false,
            "wait_interval": 0
          },
          "base_uri": "https://localhost:8080/",
          "height": 919
        },
        "outputId": "f25e147d-f8db-4895-fd8e-0be730b6fb24",
        "executionInfo": {
          "status": "ok",
          "timestamp": 1532715555561,
          "user_tz": -120,
          "elapsed": 6843,
          "user": {
            "displayName": "Deep Learning",
            "photoUrl": "https://lh3.googleusercontent.com/a/default-user=s128",
            "userId": "102264131503135976244"
          }
        }
      },
      "cell_type": "code",
      "source": [
        "max_words= 30000\n",
        "max_words_length = 400\n",
        "embedding_dimension = 300\n",
        "\n",
        "input_layer = Input(shape=(max_words_length,))\n",
        "\n",
        "pretrained_embedding_layer = Embedding(\n",
        "    max_words, \n",
        "    output_dim=embedding_dimension, \n",
        "    input_length=max_words_length,\n",
        "    weights = [np.load('fast_text_embeddings.npy')],\n",
        "    trainable = False\n",
        ")(input_layer)\n",
        "pretrained_embedding_layer = SpatialDropout1D(0.2)(pretrained_embedding_layer)\n",
        "\n",
        "custom_embedding_layer = Embedding(\n",
        "    max_words, \n",
        "    output_dim=embedding_dimension, \n",
        "    input_length=max_words_length,\n",
        "    weights = [np.load('custom_fast_text_embeddings.npy')],\n",
        "    trainable = False\n",
        ")(input_layer)\n",
        "custom_embedding_layer = SpatialDropout1D(0.2)(custom_embedding_layer)\n",
        "\n",
        "averaged_embedding_layer = Average()([pretrained_embedding_layer, custom_embedding_layer])\n",
        "averaged_embedding_layer = SpatialDropout1D(0.2)(averaged_embedding_layer)\n",
        "averaged_embedding_layer_scaled = convolution_block(averaged_embedding_layer, residual_convolution_options)\n",
        "\n",
        "model = residual_add_block(averaged_embedding_layer_scaled, should_pool = False)\n",
        "model = residual_add_block(model, should_pool = True)\n",
        "model = residual_add_block(model, should_pool = True)\n",
        "model = residual_add_block(model, should_pool = True)\n",
        "\n",
        "output_layer = yoon_kim_feature_extractor(model, residual_convolution_options['filters'])\n",
        "output_layer = classification_block(output_layer)\n",
        "\n",
        "model = Model(input_layer, output_layer)\n",
        "\n",
        "model.compile(loss='binary_crossentropy', \n",
        "            optimizer='Adam',\n",
        "            metrics=['accuracy'])          \n",
        "\n",
        "model.summary()"
      ],
      "execution_count": 12,
      "outputs": [
        {
          "output_type": "stream",
          "text": [
            "__________________________________________________________________________________________________\n",
            "Layer (type)                    Output Shape         Param #     Connected to                     \n",
            "==================================================================================================\n",
            "input_1 (InputLayer)            (None, 400)          0                                            \n",
            "__________________________________________________________________________________________________\n",
            "embedding_1 (Embedding)         (None, 400, 300)     9000000     input_1[0][0]                    \n",
            "__________________________________________________________________________________________________\n",
            "embedding_2 (Embedding)         (None, 400, 300)     9000000     input_1[0][0]                    \n",
            "__________________________________________________________________________________________________\n",
            "spatial_dropout1d_1 (SpatialDro (None, 400, 300)     0           embedding_1[0][0]                \n",
            "__________________________________________________________________________________________________\n",
            "spatial_dropout1d_2 (SpatialDro (None, 400, 300)     0           embedding_2[0][0]                \n",
            "__________________________________________________________________________________________________\n",
            "average_1 (Average)             (None, 400, 300)     0           spatial_dropout1d_1[0][0]        \n",
            "                                                                 spatial_dropout1d_2[0][0]        \n",
            "__________________________________________________________________________________________________\n",
            "spatial_dropout1d_3 (SpatialDro (None, 400, 300)     0           average_1[0][0]                  \n",
            "__________________________________________________________________________________________________\n",
            "model_1 (Model)                 (None, 400, 128)     39728       spatial_dropout1d_3[0][0]        \n",
            "__________________________________________________________________________________________________\n",
            "model_4 (Model)                 (None, 400, 128)     34048       model_1[1][0]                    \n",
            "__________________________________________________________________________________________________\n",
            "model_7 (Model)                 (None, 200, 128)     34048       model_4[1][0]                    \n",
            "__________________________________________________________________________________________________\n",
            "model_10 (Model)                (None, 100, 128)     34048       model_7[1][0]                    \n",
            "__________________________________________________________________________________________________\n",
            "model_13 (Model)                (None, 50, 128)      34048       model_10[1][0]                   \n",
            "__________________________________________________________________________________________________\n",
            "model_14 (Model)                (None, 512)          182784      model_13[1][0]                   \n",
            "__________________________________________________________________________________________________\n",
            "dense_1 (Dense)                 (None, 256)          131328      model_14[1][0]                   \n",
            "__________________________________________________________________________________________________\n",
            "batch_normalization_14 (BatchNo (None, 256)          1024        dense_1[0][0]                    \n",
            "__________________________________________________________________________________________________\n",
            "elu_5 (ELU)                     (None, 256)          0           batch_normalization_14[0][0]     \n",
            "__________________________________________________________________________________________________\n",
            "dropout_2 (Dropout)             (None, 256)          0           elu_5[0][0]                      \n",
            "__________________________________________________________________________________________________\n",
            "dense_2 (Dense)                 (None, 256)          65792       dropout_2[0][0]                  \n",
            "__________________________________________________________________________________________________\n",
            "batch_normalization_15 (BatchNo (None, 256)          1024        dense_2[0][0]                    \n",
            "__________________________________________________________________________________________________\n",
            "elu_6 (ELU)                     (None, 256)          0           batch_normalization_15[0][0]     \n",
            "__________________________________________________________________________________________________\n",
            "dropout_3 (Dropout)             (None, 256)          0           elu_6[0][0]                      \n",
            "__________________________________________________________________________________________________\n",
            "dense_3 (Dense)                 (None, 6)            1542        dropout_3[0][0]                  \n",
            "==================================================================================================\n",
            "Total params: 18,559,414\n",
            "Trainable params: 554,718\n",
            "Non-trainable params: 18,004,696\n",
            "__________________________________________________________________________________________________\n"
          ],
          "name": "stdout"
        }
      ]
    },
    {
      "metadata": {
        "id": "xwMmTewgXynz",
        "colab_type": "code",
        "colab": {
          "autoexec": {
            "startup": false,
            "wait_interval": 0
          },
          "base_uri": "https://localhost:8080/",
          "height": 1337
        },
        "outputId": "b6ff939a-69e4-4993-8cb6-6a4a11c407f5",
        "executionInfo": {
          "status": "ok",
          "timestamp": 1532723051357,
          "user_tz": -120,
          "elapsed": 7495757,
          "user": {
            "displayName": "Deep Learning",
            "photoUrl": "https://lh3.googleusercontent.com/a/default-user=s128",
            "userId": "102264131503135976244"
          }
        }
      },
      "cell_type": "code",
      "source": [
        "history = train_with_cv(model, epochs=64, batchSize=32, rocEvery = 2)"
      ],
      "execution_count": 13,
      "outputs": [
        {
          "output_type": "stream",
          "text": [
            "Train on 102124 samples, validate on 25532 samples\n",
            "Epoch 1/64\n",
            " 21376/102124 [=====>........................] - ETA: 3:25 - loss: 0.1217 - acc: 0.9595"
          ],
          "name": "stdout"
        },
        {
          "output_type": "stream",
          "text": [
            " 62208/102124 [=================>............] - ETA: 1:32 - loss: 0.0855 - acc: 0.9709"
          ],
          "name": "stdout"
        },
        {
          "output_type": "stream",
          "text": [
            "102112/102124 [============================>.] - ETA: 0s - loss: 0.0754 - acc: 0.9739"
          ],
          "name": "stdout"
        },
        {
          "output_type": "stream",
          "text": [
            "102124/102124 [==============================] - 246s 2ms/step - loss: 0.0754 - acc: 0.9739 - val_loss: 0.0492 - val_acc: 0.9813\n",
            "Epoch 2/64\n",
            " 13952/102124 [===>..........................] - ETA: 3:14 - loss: 0.0591 - acc: 0.9783"
          ],
          "name": "stdout"
        },
        {
          "output_type": "stream",
          "text": [
            "102112/102124 [============================>.] - ETA: 0s - loss: 0.0546 - acc: 0.9802"
          ],
          "name": "stdout"
        },
        {
          "output_type": "stream",
          "text": [
            "102124/102124 [==============================] - 238s 2ms/step - loss: 0.0546 - acc: 0.9802 - val_loss: 0.0444 - val_acc: 0.9830\n",
            "roc-auc: 0.9834 - roc-auc_val: 0.98                                                                                                    \n",
            "Epoch 3/64\n",
            "  8736/102124 [=>............................] - ETA: 3:24 - loss: 0.0521 - acc: 0.9806"
          ],
          "name": "stdout"
        },
        {
          "output_type": "stream",
          "text": [
            " 77824/102124 [=====================>........] - ETA: 53s - loss: 0.0512 - acc: 0.9810"
          ],
          "name": "stdout"
        },
        {
          "output_type": "stream",
          "text": [
            "102124/102124 [==============================] - 237s 2ms/step - loss: 0.0512 - acc: 0.9810 - val_loss: 0.0478 - val_acc: 0.9816\n",
            "Epoch 4/64\n",
            "  4832/102124 [>.............................] - ETA: 3:35 - loss: 0.0452 - acc: 0.9822"
          ],
          "name": "stdout"
        },
        {
          "output_type": "stream",
          "text": [
            " 61696/102124 [=================>............] - ETA: 1:28 - loss: 0.0485 - acc: 0.9817"
          ],
          "name": "stdout"
        },
        {
          "output_type": "stream",
          "text": [
            "100960/102124 [============================>.] - ETA: 2s - loss: 0.0488 - acc: 0.9816"
          ],
          "name": "stdout"
        },
        {
          "output_type": "stream",
          "text": [
            "102124/102124 [==============================] - 237s 2ms/step - loss: 0.0488 - acc: 0.9816 - val_loss: 0.0426 - val_acc: 0.9835\n",
            "roc-auc: 0.9879 - roc-auc_val: 0.9845                                                                                                    \n",
            "Epoch 5/64\n",
            "  8416/102124 [=>............................] - ETA: 3:25 - loss: 0.0499 - acc: 0.9809"
          ],
          "name": "stdout"
        },
        {
          "output_type": "stream",
          "text": [
            " 54048/102124 [==============>...............] - ETA: 1:45 - loss: 0.0475 - acc: 0.9821"
          ],
          "name": "stdout"
        },
        {
          "output_type": "stream",
          "text": [
            " 91840/102124 [=========================>....] - ETA: 22s - loss: 0.0470 - acc: 0.9822"
          ],
          "name": "stdout"
        },
        {
          "output_type": "stream",
          "text": [
            "102124/102124 [==============================] - 236s 2ms/step - loss: 0.0469 - acc: 0.9822 - val_loss: 0.0443 - val_acc: 0.9824\n",
            "Epoch 6/64\n",
            " 10080/102124 [=>............................] - ETA: 3:22 - loss: 0.0429 - acc: 0.9837"
          ],
          "name": "stdout"
        },
        {
          "output_type": "stream",
          "text": [
            " 48256/102124 [=============>................] - ETA: 1:58 - loss: 0.0452 - acc: 0.9828"
          ],
          "name": "stdout"
        },
        {
          "output_type": "stream",
          "text": [
            " 89856/102124 [=========================>....] - ETA: 26s - loss: 0.0456 - acc: 0.9827"
          ],
          "name": "stdout"
        },
        {
          "output_type": "stream",
          "text": [
            "102124/102124 [==============================] - 236s 2ms/step - loss: 0.0456 - acc: 0.9827 - val_loss: 0.0421 - val_acc: 0.9837\n",
            "roc-auc: 0.9902 - roc-auc_val: 0.9866                                                                                                    \n",
            "Epoch 7/64\n",
            "  5728/102124 [>.............................] - ETA: 3:29 - loss: 0.0441 - acc: 0.9830"
          ],
          "name": "stdout"
        },
        {
          "output_type": "stream",
          "text": [
            " 50464/102124 [=============>................] - ETA: 1:52 - loss: 0.0450 - acc: 0.9826"
          ],
          "name": "stdout"
        },
        {
          "output_type": "stream",
          "text": [
            " 98944/102124 [============================>.] - ETA: 6s - loss: 0.0445 - acc: 0.9829"
          ],
          "name": "stdout"
        },
        {
          "output_type": "stream",
          "text": [
            "102124/102124 [==============================] - 236s 2ms/step - loss: 0.0445 - acc: 0.9829 - val_loss: 0.0417 - val_acc: 0.9836\n",
            "Epoch 8/64\n",
            " 12736/102124 [==>...........................] - ETA: 3:15 - loss: 0.0423 - acc: 0.9842"
          ],
          "name": "stdout"
        },
        {
          "output_type": "stream",
          "text": [
            " 56416/102124 [===============>..............] - ETA: 1:40 - loss: 0.0434 - acc: 0.9835"
          ],
          "name": "stdout"
        },
        {
          "output_type": "stream",
          "text": [
            " 97344/102124 [===========================>..] - ETA: 10s - loss: 0.0436 - acc: 0.9834"
          ],
          "name": "stdout"
        },
        {
          "output_type": "stream",
          "text": [
            "102124/102124 [==============================] - 237s 2ms/step - loss: 0.0437 - acc: 0.9833 - val_loss: 0.0407 - val_acc: 0.9841\n",
            "roc-auc: 0.9916 - roc-auc_val: 0.9883                                                                                                    \n",
            "Epoch 9/64\n",
            "  7552/102124 [=>............................] - ETA: 3:27 - loss: 0.0423 - acc: 0.9832"
          ],
          "name": "stdout"
        },
        {
          "output_type": "stream",
          "text": [
            " 80672/102124 [======================>.......] - ETA: 46s - loss: 0.0430 - acc: 0.9835"
          ],
          "name": "stdout"
        },
        {
          "output_type": "stream",
          "text": [
            "102124/102124 [==============================] - 236s 2ms/step - loss: 0.0427 - acc: 0.9836 - val_loss: 0.0412 - val_acc: 0.9834\n",
            "Epoch 10/64\n",
            "  5856/102124 [>.............................] - ETA: 3:31 - loss: 0.0452 - acc: 0.9826"
          ],
          "name": "stdout"
        },
        {
          "output_type": "stream",
          "text": [
            " 92992/102124 [==========================>...] - ETA: 20s - loss: 0.0423 - acc: 0.9836"
          ],
          "name": "stdout"
        },
        {
          "output_type": "stream",
          "text": [
            "102124/102124 [==============================] - 236s 2ms/step - loss: 0.0422 - acc: 0.9837 - val_loss: 0.0413 - val_acc: 0.9836\n",
            "\n",
            "Epoch 00010: ReduceLROnPlateau reducing learning rate to 0.00019614602206274867.\n",
            "roc-auc: 0.9924 - roc-auc_val: 0.9881                                                                                                    \n",
            "Epoch 11/64\n",
            "  5344/102124 [>.............................] - ETA: 3:33 - loss: 0.0465 - acc: 0.9814"
          ],
          "name": "stdout"
        },
        {
          "output_type": "stream",
          "text": [
            " 43584/102124 [===========>..................] - ETA: 2:08 - loss: 0.0414 - acc: 0.9840"
          ],
          "name": "stdout"
        },
        {
          "output_type": "stream",
          "text": [
            " 94368/102124 [==========================>...] - ETA: 17s - loss: 0.0419 - acc: 0.9838"
          ],
          "name": "stdout"
        },
        {
          "output_type": "stream",
          "text": [
            "102124/102124 [==============================] - 236s 2ms/step - loss: 0.0418 - acc: 0.9838 - val_loss: 0.0410 - val_acc: 0.9837\n",
            "Epoch 12/64\n",
            " 11008/102124 [==>...........................] - ETA: 3:19 - loss: 0.0407 - acc: 0.9843"
          ],
          "name": "stdout"
        },
        {
          "output_type": "stream",
          "text": [
            " 59904/102124 [================>.............] - ETA: 1:32 - loss: 0.0403 - acc: 0.9844"
          ],
          "name": "stdout"
        },
        {
          "output_type": "stream",
          "text": [
            "102112/102124 [============================>.] - ETA: 0s - loss: 0.0409 - acc: 0.9841"
          ],
          "name": "stdout"
        },
        {
          "output_type": "stream",
          "text": [
            "102124/102124 [==============================] - 236s 2ms/step - loss: 0.0409 - acc: 0.9841 - val_loss: 0.0424 - val_acc: 0.9830\n",
            "roc-auc: 0.9929 - roc-auc_val: 0.9887                                                                                                    \n",
            "Epoch 13/64\n",
            "  8672/102124 [=>............................] - ETA: 3:25 - loss: 0.0405 - acc: 0.9844"
          ],
          "name": "stdout"
        },
        {
          "output_type": "stream",
          "text": [
            " 51200/102124 [==============>...............] - ETA: 1:51 - loss: 0.0413 - acc: 0.9838"
          ],
          "name": "stdout"
        },
        {
          "output_type": "stream",
          "text": [
            " 89248/102124 [=========================>....] - ETA: 28s - loss: 0.0405 - acc: 0.9841"
          ],
          "name": "stdout"
        },
        {
          "output_type": "stream",
          "text": [
            "102124/102124 [==============================] - 237s 2ms/step - loss: 0.0405 - acc: 0.9842 - val_loss: 0.0411 - val_acc: 0.9834\n",
            "Epoch 14/64\n",
            "  9088/102124 [=>............................] - ETA: 3:23 - loss: 0.0396 - acc: 0.9842"
          ],
          "name": "stdout"
        },
        {
          "output_type": "stream",
          "text": [
            " 46912/102124 [============>.................] - ETA: 2:00 - loss: 0.0402 - acc: 0.9841"
          ],
          "name": "stdout"
        },
        {
          "output_type": "stream",
          "text": [
            " 88896/102124 [=========================>....] - ETA: 28s - loss: 0.0400 - acc: 0.9842"
          ],
          "name": "stdout"
        },
        {
          "output_type": "stream",
          "text": [
            "102124/102124 [==============================] - 236s 2ms/step - loss: 0.0400 - acc: 0.9842 - val_loss: 0.0419 - val_acc: 0.9831\n",
            "roc-auc: 0.9934 - roc-auc_val: 0.9888                                                                                                    \n",
            "Epoch 15/64\n",
            "  5568/102124 [>.............................] - ETA: 3:31 - loss: 0.0421 - acc: 0.9829"
          ],
          "name": "stdout"
        },
        {
          "output_type": "stream",
          "text": [
            " 50656/102124 [=============>................] - ETA: 1:52 - loss: 0.0394 - acc: 0.9845"
          ],
          "name": "stdout"
        },
        {
          "output_type": "stream",
          "text": [
            "102112/102124 [============================>.] - ETA: 0s - loss: 0.0393 - acc: 0.9845"
          ],
          "name": "stdout"
        },
        {
          "output_type": "stream",
          "text": [
            "102124/102124 [==============================] - 236s 2ms/step - loss: 0.0393 - acc: 0.9845 - val_loss: 0.0417 - val_acc: 0.9832\n",
            "Epoch 16/64\n",
            " 13984/102124 [===>..........................] - ETA: 3:16 - loss: 0.0399 - acc: 0.9844"
          ],
          "name": "stdout"
        },
        {
          "output_type": "stream",
          "text": [
            " 64576/102124 [=================>............] - ETA: 1:22 - loss: 0.0398 - acc: 0.9843"
          ],
          "name": "stdout"
        },
        {
          "output_type": "stream",
          "text": [
            "102112/102124 [============================>.] - ETA: 0s - loss: 0.0392 - acc: 0.9845"
          ],
          "name": "stdout"
        },
        {
          "output_type": "stream",
          "text": [
            "102124/102124 [==============================] - 237s 2ms/step - loss: 0.0392 - acc: 0.9845 - val_loss: 0.0416 - val_acc: 0.9834\n",
            "roc-auc: 0.9938 - roc-auc_val: 0.9888                                                                                                    \n",
            "Epoch 17/64\n",
            "  8640/102124 [=>............................] - ETA: 3:23 - loss: 0.0371 - acc: 0.9854"
          ],
          "name": "stdout"
        },
        {
          "output_type": "stream",
          "text": [
            " 53696/102124 [==============>...............] - ETA: 1:46 - loss: 0.0382 - acc: 0.9850"
          ],
          "name": "stdout"
        },
        {
          "output_type": "stream",
          "text": [
            "100320/102124 [============================>.] - ETA: 3s - loss: 0.0388 - acc: 0.9847"
          ],
          "name": "stdout"
        },
        {
          "output_type": "stream",
          "text": [
            "102124/102124 [==============================] - 237s 2ms/step - loss: 0.0389 - acc: 0.9846 - val_loss: 0.0409 - val_acc: 0.9836\n",
            "Epoch 18/64\n",
            " 13152/102124 [==>...........................] - ETA: 3:14 - loss: 0.0381 - acc: 0.9847"
          ],
          "name": "stdout"
        },
        {
          "output_type": "stream",
          "text": [
            " 61760/102124 [=================>............] - ETA: 1:28 - loss: 0.0388 - acc: 0.9847"
          ],
          "name": "stdout"
        },
        {
          "output_type": "stream",
          "text": [
            " 99936/102124 [============================>.] - ETA: 4s - loss: 0.0387 - acc: 0.9847"
          ],
          "name": "stdout"
        },
        {
          "output_type": "stream",
          "text": [
            "102124/102124 [==============================] - 236s 2ms/step - loss: 0.0387 - acc: 0.9847 - val_loss: 0.0406 - val_acc: 0.9838\n",
            "roc-auc: 0.9942 - roc-auc_val: 0.9887                                                                                                    \n",
            "Epoch 19/64\n",
            "  8096/102124 [=>............................] - ETA: 3:25 - loss: 0.0361 - acc: 0.9855"
          ],
          "name": "stdout"
        },
        {
          "output_type": "stream",
          "text": [
            " 59968/102124 [================>.............] - ETA: 1:32 - loss: 0.0382 - acc: 0.9849"
          ],
          "name": "stdout"
        },
        {
          "output_type": "stream",
          "text": [
            "102112/102124 [============================>.] - ETA: 0s - loss: 0.0382 - acc: 0.9849"
          ],
          "name": "stdout"
        },
        {
          "output_type": "stream",
          "text": [
            "102124/102124 [==============================] - 237s 2ms/step - loss: 0.0382 - acc: 0.9849 - val_loss: 0.0419 - val_acc: 0.9830\n",
            "Epoch 20/64\n",
            " 13984/102124 [===>..........................] - ETA: 3:13 - loss: 0.0365 - acc: 0.9859"
          ],
          "name": "stdout"
        },
        {
          "output_type": "stream",
          "text": [
            " 56640/102124 [===============>..............] - ETA: 1:39 - loss: 0.0377 - acc: 0.9851"
          ],
          "name": "stdout"
        },
        {
          "output_type": "stream",
          "text": [
            "102112/102124 [============================>.] - ETA: 0s - loss: 0.0381 - acc: 0.9849"
          ],
          "name": "stdout"
        },
        {
          "output_type": "stream",
          "text": [
            "102124/102124 [==============================] - 237s 2ms/step - loss: 0.0381 - acc: 0.9849 - val_loss: 0.0407 - val_acc: 0.9838\n",
            "roc-auc: 0.9944 - roc-auc_val: 0.9888                                                                                                    \n",
            "Epoch 21/64\n",
            "  8640/102124 [=>............................] - ETA: 3:23 - loss: 0.0370 - acc: 0.9856"
          ],
          "name": "stdout"
        },
        {
          "output_type": "stream",
          "text": [
            " 55936/102124 [===============>..............] - ETA: 1:41 - loss: 0.0381 - acc: 0.9850"
          ],
          "name": "stdout"
        },
        {
          "output_type": "stream",
          "text": [
            " 99040/102124 [============================>.] - ETA: 6s - loss: 0.0377 - acc: 0.9850"
          ],
          "name": "stdout"
        },
        {
          "output_type": "stream",
          "text": [
            "102124/102124 [==============================] - 236s 2ms/step - loss: 0.0377 - acc: 0.9850 - val_loss: 0.0407 - val_acc: 0.9837\n",
            "\n",
            "Epoch 00021: ReduceLROnPlateau reducing learning rate to 6.25000029685907e-05.\n",
            "Epoch 22/64\n",
            "  9408/102124 [=>............................] - ETA: 3:23 - loss: 0.0379 - acc: 0.9851"
          ],
          "name": "stdout"
        },
        {
          "output_type": "stream",
          "text": [
            " 46592/102124 [============>.................] - ETA: 2:01 - loss: 0.0368 - acc: 0.9855"
          ],
          "name": "stdout"
        },
        {
          "output_type": "stream",
          "text": [
            "102112/102124 [============================>.] - ETA: 0s - loss: 0.0372 - acc: 0.9852"
          ],
          "name": "stdout"
        },
        {
          "output_type": "stream",
          "text": [
            "102124/102124 [==============================] - 236s 2ms/step - loss: 0.0372 - acc: 0.9852 - val_loss: 0.0406 - val_acc: 0.9838\n",
            "roc-auc: 0.9947 - roc-auc_val: 0.9886                                                                                                    \n",
            "Epoch 23/64\n",
            "  8704/102124 [=>............................] - ETA: 3:24 - loss: 0.0373 - acc: 0.9850"
          ],
          "name": "stdout"
        },
        {
          "output_type": "stream",
          "text": [
            " 50912/102124 [=============>................] - ETA: 1:52 - loss: 0.0377 - acc: 0.9850"
          ],
          "name": "stdout"
        },
        {
          "output_type": "stream",
          "text": [
            " 89248/102124 [=========================>....] - ETA: 28s - loss: 0.0373 - acc: 0.9852"
          ],
          "name": "stdout"
        },
        {
          "output_type": "stream",
          "text": [
            "102124/102124 [==============================] - 236s 2ms/step - loss: 0.0373 - acc: 0.9853 - val_loss: 0.0414 - val_acc: 0.9834\n",
            "Epoch 24/64\n",
            "  8960/102124 [=>............................] - ETA: 3:24 - loss: 0.0379 - acc: 0.9848"
          ],
          "name": "stdout"
        },
        {
          "output_type": "stream",
          "text": [
            " 46272/102124 [============>.................] - ETA: 2:02 - loss: 0.0374 - acc: 0.9853"
          ],
          "name": "stdout"
        },
        {
          "output_type": "stream",
          "text": [
            "102112/102124 [============================>.] - ETA: 0s - loss: 0.0372 - acc: 0.9854"
          ],
          "name": "stdout"
        },
        {
          "output_type": "stream",
          "text": [
            "102124/102124 [==============================] - 237s 2ms/step - loss: 0.0372 - acc: 0.9854 - val_loss: 0.0417 - val_acc: 0.9831\n",
            "roc-auc: 0.9948 - roc-auc_val: 0.9888                                                                                                    \n",
            "Epoch 25/64\n",
            "  8672/102124 [=>............................] - ETA: 3:25 - loss: 0.0356 - acc: 0.9854"
          ],
          "name": "stdout"
        },
        {
          "output_type": "stream",
          "text": [
            " 50720/102124 [=============>................] - ETA: 1:53 - loss: 0.0361 - acc: 0.9855"
          ],
          "name": "stdout"
        },
        {
          "output_type": "stream",
          "text": [
            " 97248/102124 [===========================>..] - ETA: 10s - loss: 0.0365 - acc: 0.9854"
          ],
          "name": "stdout"
        },
        {
          "output_type": "stream",
          "text": [
            "102124/102124 [==============================] - 237s 2ms/step - loss: 0.0366 - acc: 0.9853 - val_loss: 0.0412 - val_acc: 0.9835\n",
            "Epoch 26/64\n",
            " 12064/102124 [==>...........................] - ETA: 3:17 - loss: 0.0353 - acc: 0.9857"
          ],
          "name": "stdout"
        },
        {
          "output_type": "stream",
          "text": [
            " 69280/102124 [===================>..........] - ETA: 1:12 - loss: 0.0371 - acc: 0.9850"
          ],
          "name": "stdout"
        },
        {
          "output_type": "stream",
          "text": [
            "102124/102124 [==============================] - 236s 2ms/step - loss: 0.0368 - acc: 0.9852 - val_loss: 0.0407 - val_acc: 0.9838\n",
            "roc-auc: 0.995 - roc-auc_val: 0.9888                                                                                                    \n",
            "Epoch 27/64\n",
            "   896/102124 [..............................] - ETA: 3:38 - loss: 0.0303 - acc: 0.9890"
          ],
          "name": "stdout"
        },
        {
          "output_type": "stream",
          "text": [
            " 40512/102124 [==========>...................] - ETA: 2:14 - loss: 0.0373 - acc: 0.9851"
          ],
          "name": "stdout"
        },
        {
          "output_type": "stream",
          "text": [
            " 78720/102124 [======================>.......] - ETA: 51s - loss: 0.0368 - acc: 0.9854"
          ],
          "name": "stdout"
        },
        {
          "output_type": "stream",
          "text": [
            "102124/102124 [==============================] - 236s 2ms/step - loss: 0.0365 - acc: 0.9855 - val_loss: 0.0414 - val_acc: 0.9833\n",
            "Epoch 28/64\n",
            "  5184/102124 [>.............................] - ETA: 3:33 - loss: 0.0393 - acc: 0.9841"
          ],
          "name": "stdout"
        },
        {
          "output_type": "stream",
          "text": [
            " 48032/102124 [=============>................] - ETA: 1:58 - loss: 0.0364 - acc: 0.9852"
          ],
          "name": "stdout"
        },
        {
          "output_type": "stream",
          "text": [
            " 94944/102124 [==========================>...] - ETA: 15s - loss: 0.0362 - acc: 0.9856"
          ],
          "name": "stdout"
        },
        {
          "output_type": "stream",
          "text": [
            "102124/102124 [==============================] - 236s 2ms/step - loss: 0.0364 - acc: 0.9855 - val_loss: 0.0425 - val_acc: 0.9829\n",
            "roc-auc: 0.9951 - roc-auc_val: 0.9888                                                                                                    \n"
          ],
          "name": "stdout"
        }
      ]
    },
    {
      "metadata": {
        "id": "izWCJ3HMReV3",
        "colab_type": "code",
        "colab": {
          "autoexec": {
            "startup": false,
            "wait_interval": 0
          },
          "base_uri": "https://localhost:8080/",
          "height": 315
        },
        "outputId": "d6dc1f30-58dd-4579-e36d-d3ec63407e2e",
        "executionInfo": {
          "status": "ok",
          "timestamp": 1532723053104,
          "user_tz": -120,
          "elapsed": 1731,
          "user": {
            "displayName": "Deep Learning",
            "photoUrl": "https://lh3.googleusercontent.com/a/default-user=s128",
            "userId": "102264131503135976244"
          }
        }
      },
      "cell_type": "code",
      "source": [
        "plot_history(history)"
      ],
      "execution_count": 14,
      "outputs": [
        {
          "output_type": "display_data",
          "data": {
            "image/png": "[encoded data removed]",
            "text/plain": [
              "<matplotlib.figure.Figure at 0x7fcda99abba8>"
            ]
          },
          "metadata": {
            "tags": []
          }
        }
      ]
    },
    {
      "metadata": {
        "id": "r2gtMBj2Tp9A",
        "colab_type": "code",
        "colab": {
          "autoexec": {
            "startup": false,
            "wait_interval": 0
          },
          "base_uri": "https://localhost:8080/",
          "height": 52
        },
        "outputId": "cd133b62-4b0f-4e1d-8a79-190f2c7c1d7c",
        "executionInfo": {
          "status": "ok",
          "timestamp": 1532723087167,
          "user_tz": -120,
          "elapsed": 33758,
          "user": {
            "displayName": "Deep Learning",
            "photoUrl": "https://lh3.googleusercontent.com/a/default-user=s128",
            "userId": "102264131503135976244"
          }
        }
      },
      "cell_type": "code",
      "source": [
        "print(evaluate_on_test(model))"
      ],
      "execution_count": 15,
      "outputs": [
        {
          "output_type": "stream",
          "text": [
            "31915/31915 [==============================] - 17s 544us/step\n",
            "([0.04129927091460401, 0.9831009317169028], 0.9900892977440101)\n"
          ],
          "name": "stdout"
        }
      ]
    }
  ]
}
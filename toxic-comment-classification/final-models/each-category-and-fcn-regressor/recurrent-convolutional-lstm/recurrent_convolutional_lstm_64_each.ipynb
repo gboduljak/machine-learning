{
 "cells": [
  {
   "cell_type": "code",
   "execution_count": 1,
   "metadata": {
    "colab": {
     "autoexec": {
      "startup": false,
      "wait_interval": 0
     },
     "base_uri": "https://localhost:8080/",
     "height": 399
    },
    "colab_type": "code",
    "executionInfo": {
     "elapsed": 11087,
     "status": "ok",
     "timestamp": 1532941844380,
     "user": {
      "displayName": "Deep Learning",
      "photoUrl": "https://lh3.googleusercontent.com/a/default-user=s128",
      "userId": "110970714976109420834"
     },
     "user_tz": -120
    },
    "id": "yS1FnhiWX3Js",
    "outputId": "62c79e95-b3e3-4902-8810-3d7d07c33094"
   },
   "outputs": [
    {
     "name": "stdout",
     "output_type": "stream",
     "text": [
      "Requirement already satisfied: keras in /usr/local/lib/python3.6/dist-packages (2.1.6)\r\n",
      "Requirement already satisfied: pyyaml in /usr/local/lib/python3.6/dist-packages (from keras) (3.13)\r\n",
      "Requirement already satisfied: scipy>=0.14 in /usr/local/lib/python3.6/dist-packages (from keras) (0.19.1)\r\n",
      "Requirement already satisfied: numpy>=1.9.1 in /usr/local/lib/python3.6/dist-packages (from keras) (1.14.5)\r\n",
      "Requirement already satisfied: h5py in /usr/local/lib/python3.6/dist-packages (from keras) (2.8.0)\n",
      "Requirement already satisfied: six>=1.9.0 in /usr/local/lib/python3.6/dist-packages (from keras) (1.11.0)\n",
      "Collecting sklearn\n",
      "  Downloading https://files.pythonhosted.org/packages/1e/7a/dbb3be0ce9bd5c8b7e3d87328e79063f8b263b2b1bfa4774cb1147bfcd3f/sklearn-0.0.tar.gz\n",
      "Requirement already satisfied: scikit-learn in /usr/local/lib/python3.6/dist-packages (from sklearn) (0.19.2)\n",
      "Building wheels for collected packages: sklearn\n",
      "  Running setup.py bdist_wheel for sklearn ... \u001b[?25l-\b \bdone\n",
      "\u001b[?25h  Stored in directory: /content/.cache/pip/wheels/76/03/bb/589d421d27431bcd2c6da284d5f2286c8e3b2ea3cf1594c074\n",
      "Successfully built sklearn\n",
      "Installing collected packages: sklearn\n",
      "Successfully installed sklearn-0.0\n",
      "Requirement already satisfied: matplotlib in /usr/local/lib/python3.6/dist-packages (2.1.2)\n",
      "Requirement already satisfied: pytz in /usr/local/lib/python3.6/dist-packages (from matplotlib) (2018.5)\n",
      "Requirement already satisfied: cycler>=0.10 in /usr/local/lib/python3.6/dist-packages (from matplotlib) (0.10.0)\n",
      "Requirement already satisfied: six>=1.10 in /usr/local/lib/python3.6/dist-packages (from matplotlib) (1.11.0)\n",
      "Requirement already satisfied: pyparsing!=2.0.4,!=2.1.2,!=2.1.6,>=2.0.1 in /usr/local/lib/python3.6/dist-packages (from matplotlib) (2.2.0)\n",
      "Requirement already satisfied: python-dateutil>=2.1 in /usr/local/lib/python3.6/dist-packages (from matplotlib) (2.5.3)\n",
      "Requirement already satisfied: numpy>=1.7.1 in /usr/local/lib/python3.6/dist-packages (from matplotlib) (1.14.5)\n"
     ]
    }
   ],
   "source": [
    "!pip install keras\n",
    "!pip install sklearn\n",
    "!pip install matplotlib\n",
    "!pip install -U -q PyDrive"
   ]
  },
  {
   "cell_type": "code",
   "execution_count": 2,
   "metadata": {
    "colab": {
     "autoexec": {
      "startup": false,
      "wait_interval": 0
     },
     "base_uri": "https://localhost:8080/",
     "height": 35
    },
    "colab_type": "code",
    "executionInfo": {
     "elapsed": 8529,
     "status": "ok",
     "timestamp": 1532941853681,
     "user": {
      "displayName": "Deep Learning",
      "photoUrl": "https://lh3.googleusercontent.com/a/default-user=s128",
      "userId": "110970714976109420834"
     },
     "user_tz": -120
    },
    "id": "xlKzkDJFrjA-",
    "outputId": "6c8f179c-22e8-416b-872d-8420dec5843d"
   },
   "outputs": [
    {
     "name": "stderr",
     "output_type": "stream",
     "text": [
      "Using TensorFlow backend.\n"
     ]
    }
   ],
   "source": [
    "from keras import backend as K\n",
    "K.clear_session()"
   ]
  },
  {
   "cell_type": "code",
   "execution_count": 0,
   "metadata": {
    "colab": {
     "autoexec": {
      "startup": false,
      "wait_interval": 0
     }
    },
    "colab_type": "code",
    "id": "eQEKwl4oAxO7"
   },
   "outputs": [],
   "source": [
    "from keras import backend as K\n",
    "cfg = K.tf.ConfigProto()\n",
    "cfg.gpu_options.allow_growth = True\n",
    "K.set_session(K.tf.Session(config=cfg))"
   ]
  },
  {
   "cell_type": "code",
   "execution_count": 0,
   "metadata": {
    "colab": {
     "autoexec": {
      "startup": false,
      "wait_interval": 0
     }
    },
    "colab_type": "code",
    "id": "12M0egCCX-27"
   },
   "outputs": [],
   "source": [
    "from pydrive.auth import GoogleAuth\n",
    "from pydrive.drive import GoogleDrive\n",
    "from google.colab import auth\n",
    "from oauth2client.client import GoogleCredentials\n",
    "\n",
    "auth.authenticate_user()\n",
    "gauth = GoogleAuth()\n",
    "gauth.credentials = GoogleCredentials.get_application_default()\n",
    "drive = GoogleDrive(gauth)"
   ]
  },
  {
   "cell_type": "code",
   "execution_count": 0,
   "metadata": {
    "colab": {
     "autoexec": {
      "startup": false,
      "wait_interval": 0
     }
    },
    "colab_type": "code",
    "id": "4lN2WTUEYBYv"
   },
   "outputs": [],
   "source": [
    "file_import = drive.CreateFile({'id':'1p1bsltfTcIrZ_kfE6kwGTPzcdXorHbb2'})\n",
    "file_import.GetContentFile('colab_setup.py') \n",
    "from colab_setup import setup\n",
    "\n",
    "setup(drive)"
   ]
  },
  {
   "cell_type": "code",
   "execution_count": 6,
   "metadata": {
    "colab": {
     "autoexec": {
      "startup": false,
      "wait_interval": 0
     },
     "base_uri": "https://localhost:8080/",
     "height": 121
    },
    "colab_type": "code",
    "executionInfo": {
     "elapsed": 1727,
     "status": "ok",
     "timestamp": 1532941895178,
     "user": {
      "displayName": "Deep Learning",
      "photoUrl": "https://lh3.googleusercontent.com/a/default-user=s128",
      "userId": "110970714976109420834"
     },
     "user_tz": -120
    },
    "id": "cHBlD0tVj2TY",
    "outputId": "735cce28-0ff3-421b-fd69-2f78a3e3650d"
   },
   "outputs": [
    {
     "name": "stdout",
     "output_type": "stream",
     "text": [
      "colab_setup.py\t\t\t roc_auc_callback.py\tX_train.npy\r\n",
      "custom_fast_text_embeddings.npy  sample_submission.csv\tX_val.npy\r\n",
      "datalab\t\t\t\t train_model.py\t\ty_test.npy\r\n",
      "fast_text_embeddings.npy\t X_submission.npy\ty_train_full.npy\r\n",
      "plot_history.py\t\t\t X_test.npy\t\ty_train.npy\r\n",
      "__pycache__\t\t\t X_train_full.npy\ty_val.npy\r\n"
     ]
    }
   ],
   "source": [
    "!ls"
   ]
  },
  {
   "cell_type": "code",
   "execution_count": 0,
   "metadata": {
    "colab": {
     "autoexec": {
      "startup": false,
      "wait_interval": 0
     }
    },
    "colab_type": "code",
    "id": "yMwWPTMYXyno"
   },
   "outputs": [],
   "source": [
    "import numpy as np\n",
    "import os\n",
    "\n",
    "from plot_history import plot_history\n",
    "from roc_auc_callback import RocAucCallback\n",
    "from train_model import train_with_cv, train_with_submitting, evaluate_on_test"
   ]
  },
  {
   "cell_type": "code",
   "execution_count": 0,
   "metadata": {
    "colab": {
     "autoexec": {
      "startup": false,
      "wait_interval": 0
     }
    },
    "colab_type": "code",
    "id": "irwBTJdINU0J"
   },
   "outputs": [],
   "source": [
    "from keras.layers import *\n",
    "from keras.layers.merge import concatenate\n",
    "from keras.models import Model\n",
    "from keras.backend import reverse"
   ]
  },
  {
   "cell_type": "code",
   "execution_count": 0,
   "metadata": {
    "colab": {
     "autoexec": {
      "startup": false,
      "wait_interval": 0
     }
    },
    "colab_type": "code",
    "id": "xOfIVhpoSdpQ"
   },
   "outputs": [],
   "source": [
    "max_words = 30000\n",
    "max_words_length = 400\n",
    "embedding_dimension = 300\n",
    "\n",
    "lstm_options = {\n",
    "    'units': 64,\n",
    "    'dropout': 0.2,\n",
    "    'return_sequences': True\n",
    "}\n",
    "\n",
    "convolution_options = {\n",
    "    'filters': 300,\n",
    "    'kernel_size': 1,\n",
    "    'strides': 1,\n",
    "    'padding': 'valid'\n",
    "}"
   ]
  },
  {
   "cell_type": "code",
   "execution_count": 0,
   "metadata": {
    "colab": {
     "autoexec": {
      "startup": false,
      "wait_interval": 0
     }
    },
    "colab_type": "code",
    "id": "sD9D5r9-Sdg7"
   },
   "outputs": [],
   "source": [
    "def forward_lstm(comment_embedding):\n",
    "    lstm = CuDNNLSTM(\n",
    "        units=lstm_options['units'], \n",
    "        return_sequences=lstm_options['return_sequences']\n",
    "    )(comment_embedding)\n",
    "    lstm = Dropout(lstm_options['dropout'])(lstm)\n",
    "    \n",
    "    return lstm\n",
    "\n",
    "def backward_lstm(comment_embedding):\n",
    "    reversed_embeddings = Lambda(lambda x: reverse(x, axes=1))(comment_embedding)\n",
    "    lstm = CuDNNLSTM(\n",
    "        units=lstm_options['units'], \n",
    "        return_sequences=lstm_options['return_sequences']\n",
    "    )(reversed_embeddings)   \n",
    "    lstm = Dropout(lstm_options['dropout'])(lstm)\n",
    "\n",
    "    return Lambda(lambda x: reverse(x, axes=1))(lstm)\n",
    "\n",
    "def convolution_block(context, options):\n",
    "    convolution_block = Conv1D(\n",
    "        options['filters'], \n",
    "        options['kernel_size'], \n",
    "        strides=options['strides'],\n",
    "        padding=options['padding'], \n",
    "        activation='linear', \n",
    "        kernel_initializer='he_normal'\n",
    "    )(context)\n",
    "    convolution_block = BatchNormalization()(convolution_block)\n",
    "    convolution_block = Activation('tanh')(convolution_block)\n",
    "\n",
    "    return convolution_block"
   ]
  },
  {
   "cell_type": "code",
   "execution_count": 0,
   "metadata": {
    "colab": {
     "autoexec": {
      "startup": false,
      "wait_interval": 0
     }
    },
    "colab_type": "code",
    "id": "ljAe_HkYbwi1"
   },
   "outputs": [],
   "source": [
    "def yoon_kim_feature_extractor(input_layer, filters):\n",
    "    extractor_block_input = Input(shape=[\n",
    "        int(input_layer.shape[1]),\n",
    "        int(input_layer.shape[2])\n",
    "    ])\n",
    "\n",
    "    block_1_conv_1 = Conv1D(filters, 1, activation = 'linear', padding = 'same', kernel_initializer = 'he_normal')(extractor_block_input)\n",
    "    block_1_batchnorm1 = BatchNormalization()(block_1_conv_1)\n",
    "    block_1_batchnorm1 = ELU()(block_1_batchnorm1)\n",
    "    block_1_max_pool1 = GlobalMaxPooling1D()(block_1_batchnorm1)\n",
    "\n",
    "    block_1_conv_2 = Conv1D(filters, 2, activation = 'linear', padding = 'same', kernel_initializer = 'he_normal')(extractor_block_input)\n",
    "    block_1_batchnorm2 = BatchNormalization()(block_1_conv_2)\n",
    "    block_1_batchnorm2 = ELU()(block_1_batchnorm2)\n",
    "    block_1_max_pool2 = GlobalMaxPooling1D()(block_1_batchnorm2)\n",
    "\n",
    "    block_1_conv_3 = Conv1D(filters, 3, activation = 'linear', padding = 'same', kernel_initializer = 'he_normal')(extractor_block_input)\n",
    "    block_1_batchnorm3 = BatchNormalization()(block_1_conv_3)\n",
    "    block_1_batchnorm3 = ELU()(block_1_batchnorm3)\n",
    "    block_1_max_pool3 = GlobalMaxPooling1D()(block_1_batchnorm3)\n",
    "\n",
    "    block_1_conv_4 = Conv1D(filters, 5, activation = 'linear', padding = 'same', kernel_initializer = 'he_normal')(extractor_block_input)\n",
    "    block_1_batchnorm4 = BatchNormalization()(block_1_conv_4)\n",
    "    block_1_batchnorm4 = ELU()(block_1_batchnorm4)\n",
    "    block_1_max_pool4 = GlobalMaxPooling1D()(block_1_batchnorm4)\n",
    "\n",
    "    features = concatenate([\n",
    "        block_1_max_pool1, \n",
    "        block_1_max_pool2, \n",
    "        block_1_max_pool3, \n",
    "        block_1_max_pool4\n",
    "    ])\n",
    "    \n",
    "    extractor_block_output = Dropout(0.2)(features)\n",
    "    \n",
    "    return Model(\n",
    "        inputs=[extractor_block_input], \n",
    "        outputs=[extractor_block_output]\n",
    "    )(input_layer)"
   ]
  },
  {
   "cell_type": "code",
   "execution_count": 0,
   "metadata": {
    "colab": {
     "autoexec": {
      "startup": false,
      "wait_interval": 0
     }
    },
    "colab_type": "code",
    "id": "j9ESMQXMtqO9"
   },
   "outputs": [],
   "source": [
    "def single_category_regressor(features, units, dropout_rate=0.2):\n",
    "    model = Dense(units, activation='linear', kernel_initializer='he_normal')(input_layer)\n",
    "    model = BatchNormalization()(model)\n",
    "    model = ELU()(model)\n",
    "    model = Dropout(dropout_rate)(model)\n",
    "\n",
    "    model = Dense(units, activation='linear', kernel_initializer='he_normal')(model)\n",
    "    model = BatchNormalization()(model)\n",
    "    model = ELU()(model)\n",
    "    model = Dropout(dropout_rate)(model)\n",
    "    \n",
    "    return Dense(1, activation='sigmoid', kernel_initializer='glorot_normal')\n",
    "\n",
    "def classification_block(input_layer, dropout_rate=0.2):\n",
    "    model = Dense(256, activation='linear', kernel_initializer='he_normal')(input_layer)\n",
    "    model = BatchNormalization()(model)\n",
    "    model = ELU()(model)\n",
    "    model = Dropout(dropout_rate)(model)\n",
    "\n",
    "    model = Dense(256, activation='linear', kernel_initializer='he_normal')(model)\n",
    "    model = BatchNormalization()(model)\n",
    "    model = ELU()(model)\n",
    "    model = Dropout(dropout_rate)(model)\n",
    "    \n",
    "    model = Dense(6, activation='sigmoid', kernel_initializer='glorot_normal')(model)\n",
    "    \n",
    "    single_category_layer = concatenate([\n",
    "        single_category_regressor(features, 128, dropout_rate),\n",
    "        single_category_regressor(features, 128, dropout_rate),\n",
    "        single_category_regressor(features, 128, dropout_rate),\n",
    "        single_category_regressor(features, 128, dropout_rate),\n",
    "        single_category_regressor(features, 128, dropout_rate),\n",
    "        single_category_regressor(features, 128, dropout_rate)\n",
    "    ])\n",
    "\n",
    "    return average([model, single_category_layer])\n"
   ]
  },
  {
   "cell_type": "code",
   "execution_count": 13,
   "metadata": {
    "colab": {
     "autoexec": {
      "startup": false,
      "wait_interval": 0
     },
     "base_uri": "https://localhost:8080/",
     "height": 1300
    },
    "colab_type": "code",
    "executionInfo": {
     "elapsed": 9002,
     "status": "ok",
     "timestamp": 1532941909702,
     "user": {
      "displayName": "Deep Learning",
      "photoUrl": "https://lh3.googleusercontent.com/a/default-user=s128",
      "userId": "110970714976109420834"
     },
     "user_tz": -120
    },
    "id": "LTFG7OgsXynw",
    "outputId": "e4029efa-f3c8-40b6-e63b-b7c4edeeb86d"
   },
   "outputs": [
    {
     "name": "stdout",
     "output_type": "stream",
     "text": [
      "__________________________________________________________________________________________________\n",
      "Layer (type)                    Output Shape         Param #     Connected to                     \n",
      "==================================================================================================\n",
      "input_1 (InputLayer)            (None, 400)          0                                            \n",
      "__________________________________________________________________________________________________\n",
      "embedding_1 (Embedding)         (None, 400, 300)     9000000     input_1[0][0]                    \n",
      "__________________________________________________________________________________________________\n",
      "embedding_2 (Embedding)         (None, 400, 300)     9000000     input_1[0][0]                    \n",
      "__________________________________________________________________________________________________\n",
      "spatial_dropout1d_1 (SpatialDro (None, 400, 300)     0           embedding_1[0][0]                \n",
      "__________________________________________________________________________________________________\n",
      "spatial_dropout1d_2 (SpatialDro (None, 400, 300)     0           embedding_2[0][0]                \n",
      "__________________________________________________________________________________________________\n",
      "average_1 (Average)             (None, 400, 300)     0           spatial_dropout1d_1[0][0]        \n",
      "                                                                 spatial_dropout1d_2[0][0]        \n",
      "__________________________________________________________________________________________________\n",
      "spatial_dropout1d_3 (SpatialDro (None, 400, 300)     0           average_1[0][0]                  \n",
      "__________________________________________________________________________________________________\n",
      "lambda_1 (Lambda)               (None, 400, 300)     0           spatial_dropout1d_3[0][0]        \n",
      "__________________________________________________________________________________________________\n",
      "cu_dnnlstm_2 (CuDNNLSTM)        (None, 400, 64)      93696       lambda_1[0][0]                   \n",
      "__________________________________________________________________________________________________\n",
      "cu_dnnlstm_1 (CuDNNLSTM)        (None, 400, 64)      93696       spatial_dropout1d_3[0][0]        \n",
      "__________________________________________________________________________________________________\n",
      "dropout_2 (Dropout)             (None, 400, 64)      0           cu_dnnlstm_2[0][0]               \n",
      "__________________________________________________________________________________________________\n",
      "dropout_1 (Dropout)             (None, 400, 64)      0           cu_dnnlstm_1[0][0]               \n",
      "__________________________________________________________________________________________________\n",
      "lambda_2 (Lambda)               (None, 400, 64)      0           dropout_2[0][0]                  \n",
      "__________________________________________________________________________________________________\n",
      "concatenate_1 (Concatenate)     (None, 400, 428)     0           dropout_1[0][0]                  \n",
      "                                                                 spatial_dropout1d_3[0][0]        \n",
      "                                                                 lambda_2[0][0]                   \n",
      "__________________________________________________________________________________________________\n",
      "dropout_3 (Dropout)             (None, 400, 428)     0           concatenate_1[0][0]              \n",
      "__________________________________________________________________________________________________\n",
      "conv1d_1 (Conv1D)               (None, 400, 300)     128700      dropout_3[0][0]                  \n",
      "__________________________________________________________________________________________________\n",
      "batch_normalization_1 (BatchNor (None, 400, 300)     1200        conv1d_1[0][0]                   \n",
      "__________________________________________________________________________________________________\n",
      "activation_1 (Activation)       (None, 400, 300)     0           batch_normalization_1[0][0]      \n",
      "__________________________________________________________________________________________________\n",
      "model_1 (Model)                 (None, 1200)         996000      activation_1[0][0]               \n",
      "__________________________________________________________________________________________________\n",
      "global_max_pooling1d_5 (GlobalM (None, 300)          0           activation_1[0][0]               \n",
      "__________________________________________________________________________________________________\n",
      "global_average_pooling1d_1 (Glo (None, 300)          0           activation_1[0][0]               \n",
      "__________________________________________________________________________________________________\n",
      "concatenate_3 (Concatenate)     (None, 1800)         0           model_1[1][0]                    \n",
      "                                                                 global_max_pooling1d_5[0][0]     \n",
      "                                                                 global_average_pooling1d_1[0][0] \n",
      "__________________________________________________________________________________________________\n",
      "dense_1 (Dense)                 (None, 256)          461056      concatenate_3[0][0]              \n",
      "__________________________________________________________________________________________________\n",
      "batch_normalization_6 (BatchNor (None, 256)          1024        dense_1[0][0]                    \n",
      "__________________________________________________________________________________________________\n",
      "elu_5 (ELU)                     (None, 256)          0           batch_normalization_6[0][0]      \n",
      "__________________________________________________________________________________________________\n",
      "dropout_5 (Dropout)             (None, 256)          0           elu_5[0][0]                      \n",
      "__________________________________________________________________________________________________\n",
      "dense_2 (Dense)                 (None, 256)          65792       dropout_5[0][0]                  \n",
      "__________________________________________________________________________________________________\n",
      "batch_normalization_7 (BatchNor (None, 256)          1024        dense_2[0][0]                    \n",
      "__________________________________________________________________________________________________\n",
      "elu_6 (ELU)                     (None, 256)          0           batch_normalization_7[0][0]      \n",
      "__________________________________________________________________________________________________\n",
      "dropout_6 (Dropout)             (None, 256)          0           elu_6[0][0]                      \n",
      "__________________________________________________________________________________________________\n",
      "dense_3 (Dense)                 (None, 6)            1542        dropout_6[0][0]                  \n",
      "==================================================================================================\n",
      "Total params: 19,843,730\n",
      "Trainable params: 1,839,706\n",
      "Non-trainable params: 18,004,024\n",
      "__________________________________________________________________________________________________\n"
     ]
    }
   ],
   "source": [
    "input_layer = Input(shape=(max_words_length,))\n",
    "\n",
    "pretrained_embedding_layer = Embedding(\n",
    "    max_words,\n",
    "    output_dim=embedding_dimension,\n",
    "    input_length=max_words_length,\n",
    "    weights=[np.load('fast_text_embeddings.npy')],\n",
    "    trainable=False\n",
    ")(input_layer)\n",
    "pretrained_embedding_layer = SpatialDropout1D(0.2)(pretrained_embedding_layer)\n",
    "\n",
    "custom_embedding_layer = Embedding(\n",
    "    max_words,\n",
    "    output_dim=embedding_dimension,\n",
    "    input_length=max_words_length,\n",
    "    weights=[np.load('custom_fast_text_embeddings.npy')],\n",
    "    trainable=False\n",
    ")(input_layer)\n",
    "custom_embedding_layer = SpatialDropout1D(0.2)(custom_embedding_layer)\n",
    "\n",
    "averaged_embedding_layer = Average()([pretrained_embedding_layer, custom_embedding_layer])\n",
    "averaged_embedding_layer = SpatialDropout1D(0.2)(averaged_embedding_layer)\n",
    "\n",
    "context = concatenate([\n",
    "    forward_lstm(averaged_embedding_layer),\n",
    "    averaged_embedding_layer,\n",
    "    backward_lstm(averaged_embedding_layer)\n",
    "])\n",
    "context = Dropout(0.2)(context)\n",
    "\n",
    "scaled_context = convolution_block(context, convolution_options)\n",
    "pooled_features = concatenate([\n",
    "    yoon_kim_feature_extractor(scaled_context, convolution_options['filters']),\n",
    "    GlobalMaxPooling1D()(scaled_context),\n",
    "    GlobalAveragePooling1D()(scaled_context)\n",
    "])\n",
    "\n",
    "output_layer = classification_block(pooled_features, dropout_rate=0.2)\n",
    "\n",
    "model = Model(inputs=input_layer, outputs=output_layer)\n",
    "\n",
    "model.compile(loss='binary_crossentropy',\n",
    "              optimizer='Adam',\n",
    "              metrics=['accuracy'])\n",
    "\n",
    "model.summary()"
   ]
  },
  {
   "cell_type": "code",
   "execution_count": 14,
   "metadata": {
    "colab": {
     "autoexec": {
      "startup": false,
      "wait_interval": 0
     },
     "base_uri": "https://localhost:8080/",
     "height": 1199
    },
    "colab_type": "code",
    "executionInfo": {
     "elapsed": 23873421,
     "status": "ok",
     "timestamp": 1532965783174,
     "user": {
      "displayName": "Deep Learning",
      "photoUrl": "https://lh3.googleusercontent.com/a/default-user=s128",
      "userId": "110970714976109420834"
     },
     "user_tz": -120
    },
    "id": "xwMmTewgXynz",
    "outputId": "90403e49-7032-450a-e0a3-cad9b8774b15"
   },
   "outputs": [
    {
     "name": "stdout",
     "output_type": "stream",
     "text": [
      "Train on 102124 samples, validate on 25532 samples\n",
      "Epoch 1/32\n",
      "102124/102124 [==============================] - 828s 8ms/step - loss: 0.0718 - acc: 0.9748 - val_loss: 0.0470 - val_acc: 0.9820===>.] - ETA: 0s - loss: 0.0718 - acc: 0.974\n",
      "Epoch 2/32\n",
      " 10144/102124 [=>............................] - ETA: 11:28 - loss: 0.0547 - acc: 0.9800102112/102124 [============================>.] - ETA: 0s - loss: 0.0513 - acc: 0.9810102124/102124 [==============================] - 823s 8ms/step - loss: 0.0513 - acc: 0.9810 - val_loss: 0.0424 - val_acc: 0.9836\n",
      "roc-auc: 0.9856 - roc-auc_val: 0.9823                                                                                                    \n",
      "Epoch 3/32\n",
      "102124/102124 [==============================] - 826s 8ms/step - loss: 0.0478 - acc: 0.9820 - val_loss: 0.0412 - val_acc: 0.9842===>.] - ETA: 0s - loss: 0.0478 - acc: 0.982\n",
      "Epoch 4/32\n",
      " 10144/102124 [=>............................] - ETA: 11:33 - loss: 0.0434 - acc: 0.9832102112/102124 [============================>.] - ETA: 0s - loss: 0.0453 - acc: 0.9826102124/102124 [==============================] - 824s 8ms/step - loss: 0.0453 - acc: 0.9826 - val_loss: 0.0408 - val_acc: 0.9840\n",
      "roc-auc: 0.9904 - roc-auc_val: 0.9875                                                                                                    \n",
      "Epoch 5/32\n",
      "102124/102124 [==============================] - 817s 8ms/step - loss: 0.0434 - acc: 0.9833 - val_loss: 0.0406 - val_acc: 0.9841===>.] - ETA: 0s - loss: 0.0434 - acc: 0.983\n",
      "Epoch 6/32\n",
      " 10144/102124 [=>............................] - ETA: 11:25 - loss: 0.0419 - acc: 0.9840102112/102124 [============================>.] - ETA: 0s - loss: 0.0421 - acc: 0.9837102124/102124 [==============================] - 816s 8ms/step - loss: 0.0421 - acc: 0.9837 - val_loss: 0.0399 - val_acc: 0.9844\n",
      "roc-auc: 0.9919 - roc-auc_val: 0.9885                                                                                                    \n",
      "Epoch 7/32\n",
      "102124/102124 [==============================] - 818s 8ms/step - loss: 0.0411 - acc: 0.9841 - val_loss: 0.0404 - val_acc: 0.9843===>.] - ETA: 0s - loss: 0.0411 - acc: 0.984\n",
      "Epoch 8/32\n",
      " 10144/102124 [=>............................] - ETA: 11:28 - loss: 0.0414 - acc: 0.9836102112/102124 [============================>.] - ETA: 0s - loss: 0.0399 - acc: 0.9844102124/102124 [==============================] - 816s 8ms/step - loss: 0.0399 - acc: 0.9844 - val_loss: 0.0397 - val_acc: 0.9846\n",
      "roc-auc: 0.9929 - roc-auc_val: 0.9888                                                                                                    \n",
      "Epoch 9/32\n",
      "102124/102124 [==============================] - 817s 8ms/step - loss: 0.0392 - acc: 0.9848 - val_loss: 0.0396 - val_acc: 0.9846===>.] - ETA: 0s - loss: 0.0392 - acc: 0.984\n",
      "Epoch 10/32\n",
      " 10112/102124 [=>............................] - ETA: 11:28 - loss: 0.0368 - acc: 0.9852102112/102124 [============================>.] - ETA: 0s - loss: 0.0382 - acc: 0.9849102124/102124 [==============================] - 818s 8ms/step - loss: 0.0382 - acc: 0.9849 - val_loss: 0.0392 - val_acc: 0.9850\n",
      "roc-auc: 0.9939 - roc-auc_val: 0.9892                                                                                                    \n",
      "Epoch 11/32\n",
      "102124/102124 [==============================] - 815s 8ms/step - loss: 0.0372 - acc: 0.9852 - val_loss: 0.0393 - val_acc: 0.9846===>.] - ETA: 0s - loss: 0.0372 - acc: 0.985\n",
      "Epoch 12/32\n",
      "102124/102124 [==============================] - 817s 8ms/step - loss: 0.0361 - acc: 0.9856 - val_loss: 0.0395 - val_acc: 0.9843===>.] - ETA: 0s - loss: 0.0361 - acc: 0.985\n",
      "\n",
      "Epoch 00012: ReduceLROnPlateau reducing learning rate to 0.0001593200722709298.\n",
      "roc-auc: 0.9947 - roc-auc_val: 0.99                                                                                                    \n",
      "Epoch 13/32\n",
      "102124/102124 [==============================] - 814s 8ms/step - loss: 0.0359 - acc: 0.9856 - val_loss: 0.0397 - val_acc: 0.9845===>.] - ETA: 0s - loss: 0.0359 - acc: 0.985\n",
      "Epoch 14/32\n",
      " 10112/102124 [=>............................] - ETA: 11:25 - loss: 0.0354 - acc: 0.9863102112/102124 [============================>.] - ETA: 0s - loss: 0.0352 - acc: 0.9861102124/102124 [==============================] - 814s 8ms/step - loss: 0.0352 - acc: 0.9861 - val_loss: 0.0394 - val_acc: 0.9849\n",
      "roc-auc: 0.9953 - roc-auc_val: 0.9896                                                                                                    \n",
      "Epoch 15/32\n",
      "102124/102124 [==============================] - 823s 8ms/step - loss: 0.0345 - acc: 0.9862 - val_loss: 0.0391 - val_acc: 0.9848===>.] - ETA: 0s - loss: 0.0345 - acc: 0.986\n",
      "Epoch 16/32\n",
      " 10112/102124 [=>............................] - ETA: 11:30 - loss: 0.0328 - acc: 0.9868102112/102124 [============================>.] - ETA: 0s - loss: 0.0339 - acc: 0.9865102124/102124 [==============================] - 826s 8ms/step - loss: 0.0339 - acc: 0.9865 - val_loss: 0.0394 - val_acc: 0.9848\n",
      "roc-auc: 0.9958 - roc-auc_val: 0.9894                                                                                                    \n",
      "Epoch 17/32\n",
      "102124/102124 [==============================] - 830s 8ms/step - loss: 0.0335 - acc: 0.9867 - val_loss: 0.0399 - val_acc: 0.9845===>.] - ETA: 0s - loss: 0.0335 - acc: 0.986\n",
      "Epoch 18/32\n",
      " 10112/102124 [=>............................] - ETA: 11:36 - loss: 0.0309 - acc: 0.9880102112/102124 [============================>.] - ETA: 0s - loss: 0.0329 - acc: 0.9869102124/102124 [==============================] - 829s 8ms/step - loss: 0.0329 - acc: 0.9869 - val_loss: 0.0399 - val_acc: 0.9845\n",
      "roc-auc: 0.9962 - roc-auc_val: 0.9893                                                                                                    \n",
      "Epoch 19/32\n",
      "102124/102124 [==============================] - 829s 8ms/step - loss: 0.0325 - acc: 0.9869 - val_loss: 0.0392 - val_acc: 0.9849===>.] - ETA: 0s - loss: 0.0325 - acc: 0.986\n",
      "Epoch 20/32\n",
      " 10112/102124 [=>............................] - ETA: 11:37 - loss: 0.0328 - acc: 0.9869102112/102124 [============================>.] - ETA: 0s - loss: 0.0322 - acc: 0.9871102124/102124 [==============================] - 831s 8ms/step - loss: 0.0322 - acc: 0.9871 - val_loss: 0.0403 - val_acc: 0.9847\n",
      "roc-auc: 0.9966 - roc-auc_val: 0.989                                                                                                    \n",
      "Epoch 21/32\n",
      "102124/102124 [==============================] - 829s 8ms/step - loss: 0.0314 - acc: 0.9874 - val_loss: 0.0403 - val_acc: 0.9846===>.] - ETA: 0s - loss: 0.0314 - acc: 0.987\n",
      "Epoch 22/32\n",
      " 10112/102124 [=>............................] - ETA: 11:37 - loss: 0.0321 - acc: 0.9869102112/102124 [============================>.] - ETA: 0s - loss: 0.0312 - acc: 0.9874102124/102124 [==============================] - 830s 8ms/step - loss: 0.0312 - acc: 0.9874 - val_loss: 0.0400 - val_acc: 0.9847\n",
      "roc-auc: 0.9969 - roc-auc_val: 0.9895                                                                                                    \n",
      "Epoch 23/32\n",
      "102124/102124 [==============================] - 830s 8ms/step - loss: 0.0308 - acc: 0.9876 - val_loss: 0.0404 - val_acc: 0.9844===>.] - ETA: 0s - loss: 0.0308 - acc: 0.987\n",
      "\n",
      "Epoch 00023: ReduceLROnPlateau reducing learning rate to 5.076577508589253e-05.\n",
      "Epoch 24/32\n",
      "  8000/102124 [=>............................] - ETA: 11:53 - loss: 0.0315 - acc: 0.9875102112/102124 [============================>.] - ETA: 0s - loss: 0.0302 - acc: 0.9878102124/102124 [==============================] - 830s 8ms/step - loss: 0.0302 - acc: 0.9878 - val_loss: 0.0408 - val_acc: 0.9846\n",
      "roc-auc: 0.9972 - roc-auc_val: 0.9889                                                                                                    \n",
      "Epoch 25/32\n",
      "102124/102124 [==============================] - 831s 8ms/step - loss: 0.0301 - acc: 0.9878 - val_loss: 0.0409 - val_acc: 0.9845===>.] - ETA: 0s - loss: 0.0301 - acc: 0.987\n"
     ]
    }
   ],
   "source": [
    "history = train_with_cv(model, batchSize=32, rocEvery = 2)"
   ]
  },
  {
   "cell_type": "code",
   "execution_count": 15,
   "metadata": {
    "colab": {
     "autoexec": {
      "startup": false,
      "wait_interval": 0
     },
     "base_uri": "https://localhost:8080/",
     "height": 295
    },
    "colab_type": "code",
    "executionInfo": {
     "elapsed": 3308,
     "status": "ok",
     "timestamp": 1532965786804,
     "user": {
      "displayName": "Deep Learning",
      "photoUrl": "https://lh3.googleusercontent.com/a/default-user=s128",
      "userId": "110970714976109420834"
     },
     "user_tz": -120
    },
    "id": "izWCJ3HMReV3",
    "outputId": "4d4028a7-9a80-4afb-de10-28db7ee0394a"
   },
   "outputs": [
    {
     "data": {
      "image/png": "[encoded data removed]",
      "text/plain": [
       "<matplotlib.figure.Figure at 0x7f5d062e9b00>"
      ]
     },
     "metadata": {
      "tags": []
     },
     "output_type": "display_data"
    }
   ],
   "source": [
    "plot_history(history)"
   ]
  },
  {
   "cell_type": "code",
   "execution_count": 16,
   "metadata": {
    "colab": {
     "autoexec": {
      "startup": false,
      "wait_interval": 0
     },
     "base_uri": "https://localhost:8080/",
     "height": 52
    },
    "colab_type": "code",
    "executionInfo": {
     "elapsed": 144855,
     "status": "ok",
     "timestamp": 1532965931980,
     "user": {
      "displayName": "Deep Learning",
      "photoUrl": "https://lh3.googleusercontent.com/a/default-user=s128",
      "userId": "110970714976109420834"
     },
     "user_tz": -120
    },
    "id": "r2gtMBj2Tp9A",
    "outputId": "054c4d85-7e6c-44e9-dd63-11a83b2096f3"
   },
   "outputs": [
    {
     "name": "stdout",
     "output_type": "stream",
     "text": [
      "31915/31915 [==============================] - 75s 2ms/step\n",
      "([0.03951239349802315, 0.9848608157953349], 0.9905174813350864)\n"
     ]
    }
   ],
   "source": [
    "print(evaluate_on_test(model))"
   ]
  }
 ],
 "metadata": {
  "accelerator": "GPU",
  "colab": {
   "collapsed_sections": [],
   "default_view": {},
   "name": "recurrent_convolutional_lstm_64.ipynb",
   "provenance": [],
   "version": "0.3.2",
   "views": {}
  },
  "kernelspec": {
   "display_name": "Python 3",
   "language": "python",
   "name": "python3"
  },
  "language_info": {
   "codemirror_mode": {
    "name": "ipython",
    "version": 3
   },
   "file_extension": ".py",
   "mimetype": "text/x-python",
   "name": "python",
   "nbconvert_exporter": "python",
   "pygments_lexer": "ipython3",
   "version": "3.6.2"
  }
 },
 "nbformat": 4,
 "nbformat_minor": 1
}

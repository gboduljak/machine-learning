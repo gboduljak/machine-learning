{
 "cells": [
  {
   "cell_type": "code",
   "execution_count": 1,
   "metadata": {
    "colab": {
     "autoexec": {
      "startup": false,
      "wait_interval": 0
     },
     "base_uri": "https://localhost:8080/",
     "height": 391
    },
    "colab_type": "code",
    "executionInfo": {
     "elapsed": 12879,
     "status": "ok",
     "timestamp": 1530710012341,
     "user": {
      "displayName": "Deep Learner",
      "photoUrl": "https://lh3.googleusercontent.com/a/default-user=s128",
      "userId": "102934620980301123540"
     },
     "user_tz": -120
    },
    "id": "yS1FnhiWX3Js",
    "outputId": "464439a3-f788-4ab6-eeb1-b9b1ab19c1dd"
   },
   "outputs": [
    {
     "name": "stdout",
     "output_type": "stream",
     "text": [
      "Requirement already satisfied: keras in /usr/local/lib/python3.6/dist-packages (2.1.6)\n",
      "Requirement already satisfied: numpy>=1.9.1 in /usr/local/lib/python3.6/dist-packages (from keras) (1.14.5)\n",
      "Requirement already satisfied: six>=1.9.0 in /usr/local/lib/python3.6/dist-packages (from keras) (1.11.0)\n",
      "Requirement already satisfied: scipy>=0.14 in /usr/local/lib/python3.6/dist-packages (from keras) (0.19.1)\n",
      "Requirement already satisfied: pyyaml in /usr/local/lib/python3.6/dist-packages (from keras) (3.12)\n",
      "Requirement already satisfied: h5py in /usr/local/lib/python3.6/dist-packages (from keras) (2.8.0)\n",
      "Collecting sklearn\n",
      "  Downloading https://files.pythonhosted.org/packages/1e/7a/dbb3be0ce9bd5c8b7e3d87328e79063f8b263b2b1bfa4774cb1147bfcd3f/sklearn-0.0.tar.gz\n",
      "Requirement already satisfied: scikit-learn in /usr/local/lib/python3.6/dist-packages (from sklearn) (0.19.1)\n",
      "Building wheels for collected packages: sklearn\n",
      "  Running setup.py bdist_wheel for sklearn ... \u001b[?25l-\b \bdone\n",
      "\u001b[?25h  Stored in directory: /content/.cache/pip/wheels/76/03/bb/589d421d27431bcd2c6da284d5f2286c8e3b2ea3cf1594c074\n",
      "Successfully built sklearn\n",
      "Installing collected packages: sklearn\n",
      "Successfully installed sklearn-0.0\n",
      "Requirement already satisfied: matplotlib in /usr/local/lib/python3.6/dist-packages (2.1.2)\n",
      "Requirement already satisfied: cycler>=0.10 in /usr/local/lib/python3.6/dist-packages (from matplotlib) (0.10.0)\n",
      "Requirement already satisfied: numpy>=1.7.1 in /usr/local/lib/python3.6/dist-packages (from matplotlib) (1.14.5)\n",
      "Requirement already satisfied: pyparsing!=2.0.4,!=2.1.2,!=2.1.6,>=2.0.1 in /usr/local/lib/python3.6/dist-packages (from matplotlib) (2.2.0)\n",
      "Requirement already satisfied: six>=1.10 in /usr/local/lib/python3.6/dist-packages (from matplotlib) (1.11.0)\n",
      "Requirement already satisfied: pytz in /usr/local/lib/python3.6/dist-packages (from matplotlib) (2018.5)\n",
      "Requirement already satisfied: python-dateutil>=2.1 in /usr/local/lib/python3.6/dist-packages (from matplotlib) (2.5.3)\n"
     ]
    }
   ],
   "source": [
    "!pip install keras\n",
    "!pip install sklearn\n",
    "!pip install matplotlib\n",
    "!pip install -U -q PyDrive"
   ]
  },
  {
   "cell_type": "code",
   "execution_count": 2,
   "metadata": {
    "colab": {
     "autoexec": {
      "startup": false,
      "wait_interval": 0
     },
     "base_uri": "https://localhost:8080/",
     "height": 34
    },
    "colab_type": "code",
    "executionInfo": {
     "elapsed": 8821,
     "status": "ok",
     "timestamp": 1530710021205,
     "user": {
      "displayName": "Deep Learner",
      "photoUrl": "https://lh3.googleusercontent.com/a/default-user=s128",
      "userId": "102934620980301123540"
     },
     "user_tz": -120
    },
    "id": "xlKzkDJFrjA-",
    "outputId": "835b720b-16ff-4908-a2f6-af0e84805c21"
   },
   "outputs": [
    {
     "name": "stderr",
     "output_type": "stream",
     "text": [
      "Using TensorFlow backend.\n"
     ]
    }
   ],
   "source": [
    "from keras import backend as K\n",
    "K.clear_session()"
   ]
  },
  {
   "cell_type": "code",
   "execution_count": 0,
   "metadata": {
    "colab": {
     "autoexec": {
      "startup": false,
      "wait_interval": 0
     }
    },
    "colab_type": "code",
    "id": "eQEKwl4oAxO7"
   },
   "outputs": [],
   "source": [
    "from keras import backend as K\n",
    "cfg = K.tf.ConfigProto()\n",
    "cfg.gpu_options.allow_growth = True\n",
    "K.set_session(K.tf.Session(config=cfg))"
   ]
  },
  {
   "cell_type": "code",
   "execution_count": 0,
   "metadata": {
    "colab": {
     "autoexec": {
      "startup": false,
      "wait_interval": 0
     }
    },
    "colab_type": "code",
    "id": "12M0egCCX-27"
   },
   "outputs": [],
   "source": [
    "from pydrive.auth import GoogleAuth\n",
    "from pydrive.drive import GoogleDrive\n",
    "from google.colab import auth\n",
    "from oauth2client.client import GoogleCredentials\n",
    "\n",
    "auth.authenticate_user()\n",
    "gauth = GoogleAuth()\n",
    "gauth.credentials = GoogleCredentials.get_application_default()\n",
    "drive = GoogleDrive(gauth)"
   ]
  },
  {
   "cell_type": "code",
   "execution_count": 0,
   "metadata": {
    "colab": {
     "autoexec": {
      "startup": false,
      "wait_interval": 0
     }
    },
    "colab_type": "code",
    "id": "4lN2WTUEYBYv"
   },
   "outputs": [],
   "source": [
    "file_import = drive.CreateFile({'id':'1p1bsltfTcIrZ_kfE6kwGTPzcdXorHbb2'})\n",
    "file_import.GetContentFile('colab_setup.py') \n",
    "from colab_setup import setup\n",
    "\n",
    "setup(drive)"
   ]
  },
  {
   "cell_type": "code",
   "execution_count": 6,
   "metadata": {
    "colab": {
     "autoexec": {
      "startup": false,
      "wait_interval": 0
     },
     "base_uri": "https://localhost:8080/",
     "height": 119
    },
    "colab_type": "code",
    "executionInfo": {
     "elapsed": 1724,
     "status": "ok",
     "timestamp": 1530710077599,
     "user": {
      "displayName": "Deep Learner",
      "photoUrl": "https://lh3.googleusercontent.com/a/default-user=s128",
      "userId": "102934620980301123540"
     },
     "user_tz": -120
    },
    "id": "cHBlD0tVj2TY",
    "outputId": "b17cc592-c700-4ce0-e295-3f220b79fe81"
   },
   "outputs": [
    {
     "name": "stdout",
     "output_type": "stream",
     "text": [
      "colab_setup.py\t\t\t roc_auc_callback.py\tX_train.npy\r\n",
      "custom_fast_text_embeddings.npy  sample_submission.csv\tX_val.npy\r\n",
      "datalab\t\t\t\t train_model.py\t\ty_test.npy\r\n",
      "fast_text_embeddings.npy\t X_submission.npy\ty_train_full.npy\r\n",
      "plot_history.py\t\t\t X_test.npy\t\ty_train.npy\r\n",
      "__pycache__\t\t\t X_train_full.npy\ty_val.npy\r\n"
     ]
    }
   ],
   "source": [
    "!ls"
   ]
  },
  {
   "cell_type": "code",
   "execution_count": 0,
   "metadata": {
    "colab": {
     "autoexec": {
      "startup": false,
      "wait_interval": 0
     }
    },
    "colab_type": "code",
    "id": "yMwWPTMYXyno"
   },
   "outputs": [],
   "source": [
    "import numpy as np\n",
    "import os\n",
    "\n",
    "from plot_history import plot_history\n",
    "from roc_auc_callback import RocAucCallback\n",
    "from train_model import train_with_cv, train_with_submitting, evaluate_on_test\n",
    "\n",
    "from keras.models import Model\n",
    "from keras.layers import *\n",
    "from keras.layers.merge import concatenate"
   ]
  },
  {
   "cell_type": "code",
   "execution_count": 0,
   "metadata": {
    "colab": {
     "autoexec": {
      "startup": false,
      "wait_interval": 0
     }
    },
    "colab_type": "code",
    "id": "3YXiQ6IRovcY"
   },
   "outputs": [],
   "source": [
    "file_import = drive.CreateFile({'id':'15j1Nou6m5WNLejJQrUcty6U03xsIgIAI'})\n",
    "file_import.GetContentFile('SelfAttention.py') \n",
    "\n",
    "from SelfAttention import SelfAttention"
   ]
  },
  {
   "cell_type": "code",
   "execution_count": 0,
   "metadata": {
    "colab": {
     "autoexec": {
      "startup": false,
      "wait_interval": 0
     }
    },
    "colab_type": "code",
    "id": "MIWjPi9bs5d4"
   },
   "outputs": [],
   "source": [
    "def one_by_one(filtersNumber, inputLayer, dropout = 0.2):\n",
    "    one_by_one = Conv1D(filtersNumber, 1, activation = 'elu', padding = 'same', kernel_initializer = 'he_uniform')(inputLayer)\n",
    "    one_by_one = BatchNormalization()(one_by_one)\n",
    "    one_by_one = SpatialDropout1D(dropout)(one_by_one)\n",
    "    \n",
    "    return one_by_one"
   ]
  },
  {
   "cell_type": "code",
   "execution_count": 0,
   "metadata": {
    "colab": {
     "autoexec": {
      "startup": false,
      "wait_interval": 0
     }
    },
    "colab_type": "code",
    "id": "mRg7bBAFoL7b"
   },
   "outputs": [],
   "source": [
    "def yoon_kim_feature_extractor(filtersNumber, inputLayer):\n",
    "    block_1_conv_1 = Conv1D(filtersNumber, 1, activation = 'elu', padding = 'same', kernel_initializer = 'he_uniform')(inputLayer)\n",
    "    block_1_batchnorm1 = BatchNormalization()(block_1_conv_1)\n",
    "    block_1_max_pool1 = GlobalMaxPooling1D()(block_1_batchnorm1)\n",
    "\n",
    "    block_1_conv_2 = Conv1D(filtersNumber, 2, activation = 'elu', padding = 'same', kernel_initializer = 'he_uniform')(inputLayer)\n",
    "    block_1_batchnorm2 = BatchNormalization()(block_1_conv_2)\n",
    "    block_1_max_pool2 = GlobalMaxPooling1D()(block_1_batchnorm2)\n",
    "\n",
    "    block_1_conv_3 = Conv1D(filtersNumber, 3, activation = 'elu', padding = 'same', kernel_initializer = 'he_uniform')(inputLayer)\n",
    "    block_1_batchnorm3 = BatchNormalization()(block_1_conv_3)\n",
    "    block_1_max_pool3 = GlobalMaxPooling1D()(block_1_batchnorm3)\n",
    "\n",
    "    block_1_conv_4 = Conv1D(filtersNumber, 5, activation = 'elu', padding = 'same', kernel_initializer = 'he_uniform')(inputLayer)\n",
    "    block_1_batchnorm4 = BatchNormalization()(block_1_conv_4)\n",
    "    block_1_max_pool4 = GlobalMaxPooling1D()(block_1_batchnorm4)\n",
    "\n",
    "    block_1_features = concatenate([\n",
    "        block_1_max_pool1, \n",
    "        block_1_max_pool2, \n",
    "        block_1_max_pool3, \n",
    "        block_1_max_pool4\n",
    "    ])\n",
    "    block_1_features = Dropout(0.2)(block_1_features)\n",
    "    return block_1_features"
   ]
  },
  {
   "cell_type": "code",
   "execution_count": 0,
   "metadata": {
    "colab": {
     "autoexec": {
      "startup": false,
      "wait_interval": 0
     }
    },
    "colab_type": "code",
    "id": "2t9jNZJXg6Zz"
   },
   "outputs": [],
   "source": [
    "def single_category_regressor(features, context, context2, unitsNumber = 64):\n",
    "    features = concatenate([features, context])\n",
    "    \n",
    "    dense_1 = Dense(unitsNumber, activation = 'elu')(features)\n",
    "    dense_1_normalization = BatchNormalization()(dense_1)\n",
    "    dense_1_dropout = Dropout(0.2)(dense_1_normalization)\n",
    "\n",
    "    features = concatenate([dense_1_dropout, context2])\n",
    "\n",
    "    dense_2 = Dense(unitsNumber, activation = 'elu')(features)\n",
    "    dense_2_normalization = BatchNormalization()(dense_2)\n",
    "    dense_2_dropout = Dropout(0.2)(dense_2_normalization)\n",
    "    \n",
    "    return Dense(1, activation='sigmoid')(dense_2_dropout)"
   ]
  },
  {
   "cell_type": "code",
   "execution_count": 12,
   "metadata": {
    "colab": {
     "autoexec": {
      "startup": false,
      "wait_interval": 0
     },
     "base_uri": "https://localhost:8080/",
     "height": 3706
    },
    "colab_type": "code",
    "executionInfo": {
     "elapsed": 4703,
     "status": "ok",
     "timestamp": 1530710085991,
     "user": {
      "displayName": "Deep Learner",
      "photoUrl": "https://lh3.googleusercontent.com/a/default-user=s128",
      "userId": "102934620980301123540"
     },
     "user_tz": -120
    },
    "id": "LTFG7OgsXynw",
    "outputId": "9f451de1-196a-4b9f-ce29-fb6f9fd5f548"
   },
   "outputs": [
    {
     "name": "stdout",
     "output_type": "stream",
     "text": [
      "__________________________________________________________________________________________________\n",
      "Layer (type)                    Output Shape         Param #     Connected to                     \n",
      "==================================================================================================\n",
      "input_1 (InputLayer)            (None, 400)          0                                            \n",
      "__________________________________________________________________________________________________\n",
      "embedding_1 (Embedding)         (None, 400, 300)     9000000     input_1[0][0]                    \n",
      "__________________________________________________________________________________________________\n",
      "embedding_2 (Embedding)         (None, 400, 300)     9000000     input_1[0][0]                    \n",
      "__________________________________________________________________________________________________\n",
      "spatial_dropout1d_1 (SpatialDro (None, 400, 300)     0           embedding_1[0][0]                \n",
      "__________________________________________________________________________________________________\n",
      "spatial_dropout1d_2 (SpatialDro (None, 400, 300)     0           embedding_2[0][0]                \n",
      "__________________________________________________________________________________________________\n",
      "average_1 (Average)             (None, 400, 300)     0           spatial_dropout1d_1[0][0]        \n",
      "                                                                 spatial_dropout1d_2[0][0]        \n",
      "__________________________________________________________________________________________________\n",
      "spatial_dropout1d_3 (SpatialDro (None, 400, 300)     0           average_1[0][0]                  \n",
      "__________________________________________________________________________________________________\n",
      "self_attention_1 (SelfAttention (None, 400, 300)     90601       spatial_dropout1d_3[0][0]        \n",
      "__________________________________________________________________________________________________\n",
      "conv1d_1 (Conv1D)               (None, 400, 300)     90300       self_attention_1[0][0]           \n",
      "__________________________________________________________________________________________________\n",
      "batch_normalization_1 (BatchNor (None, 400, 300)     1200        conv1d_1[0][0]                   \n",
      "__________________________________________________________________________________________________\n",
      "spatial_dropout1d_4 (SpatialDro (None, 400, 300)     0           batch_normalization_1[0][0]      \n",
      "__________________________________________________________________________________________________\n",
      "conv1d_2 (Conv1D)               (None, 400, 300)     90300       spatial_dropout1d_4[0][0]        \n",
      "__________________________________________________________________________________________________\n",
      "batch_normalization_2 (BatchNor (None, 400, 300)     1200        conv1d_2[0][0]                   \n",
      "__________________________________________________________________________________________________\n",
      "spatial_dropout1d_5 (SpatialDro (None, 400, 300)     0           batch_normalization_2[0][0]      \n",
      "__________________________________________________________________________________________________\n",
      "conv1d_3 (Conv1D)               (None, 400, 300)     90300       spatial_dropout1d_5[0][0]        \n",
      "__________________________________________________________________________________________________\n",
      "batch_normalization_3 (BatchNor (None, 400, 300)     1200        conv1d_3[0][0]                   \n",
      "__________________________________________________________________________________________________\n",
      "spatial_dropout1d_6 (SpatialDro (None, 400, 300)     0           batch_normalization_3[0][0]      \n",
      "__________________________________________________________________________________________________\n",
      "conv1d_4 (Conv1D)               (None, 400, 300)     90300       spatial_dropout1d_6[0][0]        \n",
      "__________________________________________________________________________________________________\n",
      "conv1d_5 (Conv1D)               (None, 400, 300)     180300      spatial_dropout1d_6[0][0]        \n",
      "__________________________________________________________________________________________________\n",
      "conv1d_6 (Conv1D)               (None, 400, 300)     270300      spatial_dropout1d_6[0][0]        \n",
      "__________________________________________________________________________________________________\n",
      "conv1d_7 (Conv1D)               (None, 400, 300)     450300      spatial_dropout1d_6[0][0]        \n",
      "__________________________________________________________________________________________________\n",
      "batch_normalization_4 (BatchNor (None, 400, 300)     1200        conv1d_4[0][0]                   \n",
      "__________________________________________________________________________________________________\n",
      "batch_normalization_5 (BatchNor (None, 400, 300)     1200        conv1d_5[0][0]                   \n",
      "__________________________________________________________________________________________________\n",
      "batch_normalization_6 (BatchNor (None, 400, 300)     1200        conv1d_6[0][0]                   \n",
      "__________________________________________________________________________________________________\n",
      "batch_normalization_7 (BatchNor (None, 400, 300)     1200        conv1d_7[0][0]                   \n",
      "__________________________________________________________________________________________________\n",
      "global_max_pooling1d_1 (GlobalM (None, 300)          0           batch_normalization_4[0][0]      \n",
      "__________________________________________________________________________________________________\n",
      "global_max_pooling1d_2 (GlobalM (None, 300)          0           batch_normalization_5[0][0]      \n",
      "__________________________________________________________________________________________________\n",
      "global_max_pooling1d_3 (GlobalM (None, 300)          0           batch_normalization_6[0][0]      \n",
      "__________________________________________________________________________________________________\n",
      "global_max_pooling1d_4 (GlobalM (None, 300)          0           batch_normalization_7[0][0]      \n",
      "__________________________________________________________________________________________________\n",
      "concatenate_1 (Concatenate)     (None, 1200)         0           global_max_pooling1d_1[0][0]     \n",
      "                                                                 global_max_pooling1d_2[0][0]     \n",
      "                                                                 global_max_pooling1d_3[0][0]     \n",
      "                                                                 global_max_pooling1d_4[0][0]     \n",
      "__________________________________________________________________________________________________\n",
      "dropout_1 (Dropout)             (None, 1200)         0           concatenate_1[0][0]              \n",
      "__________________________________________________________________________________________________\n",
      "dense_3 (Dense)                 (None, 256)          307456      dropout_1[0][0]                  \n",
      "__________________________________________________________________________________________________\n",
      "batch_normalization_8 (BatchNor (None, 256)          1024        dense_3[0][0]                    \n",
      "__________________________________________________________________________________________________\n",
      "dropout_2 (Dropout)             (None, 256)          0           batch_normalization_8[0][0]      \n",
      "__________________________________________________________________________________________________\n",
      "concatenate_2 (Concatenate)     (None, 1456)         0           dropout_1[0][0]                  \n",
      "                                                                 dropout_2[0][0]                  \n",
      "__________________________________________________________________________________________________\n",
      "concatenate_4 (Concatenate)     (None, 1456)         0           dropout_1[0][0]                  \n",
      "                                                                 dropout_2[0][0]                  \n",
      "__________________________________________________________________________________________________\n",
      "concatenate_6 (Concatenate)     (None, 1456)         0           dropout_1[0][0]                  \n",
      "                                                                 dropout_2[0][0]                  \n",
      "__________________________________________________________________________________________________\n",
      "concatenate_8 (Concatenate)     (None, 1456)         0           dropout_1[0][0]                  \n",
      "                                                                 dropout_2[0][0]                  \n",
      "__________________________________________________________________________________________________\n",
      "concatenate_10 (Concatenate)    (None, 1456)         0           dropout_1[0][0]                  \n",
      "                                                                 dropout_2[0][0]                  \n",
      "__________________________________________________________________________________________________\n",
      "concatenate_12 (Concatenate)    (None, 1456)         0           dropout_1[0][0]                  \n",
      "                                                                 dropout_2[0][0]                  \n",
      "__________________________________________________________________________________________________\n",
      "dense_4 (Dense)                 (None, 256)          65792       dropout_2[0][0]                  \n",
      "__________________________________________________________________________________________________\n",
      "dense_6 (Dense)                 (None, 64)           93248       concatenate_2[0][0]              \n",
      "__________________________________________________________________________________________________\n",
      "dense_9 (Dense)                 (None, 64)           93248       concatenate_4[0][0]              \n",
      "__________________________________________________________________________________________________\n",
      "dense_12 (Dense)                (None, 64)           93248       concatenate_6[0][0]              \n",
      "__________________________________________________________________________________________________\n",
      "dense_15 (Dense)                (None, 64)           93248       concatenate_8[0][0]              \n",
      "__________________________________________________________________________________________________\n",
      "dense_18 (Dense)                (None, 64)           93248       concatenate_10[0][0]             \n",
      "__________________________________________________________________________________________________\n",
      "dense_21 (Dense)                (None, 64)           93248       concatenate_12[0][0]             \n",
      "__________________________________________________________________________________________________\n",
      "batch_normalization_9 (BatchNor (None, 256)          1024        dense_4[0][0]                    \n",
      "__________________________________________________________________________________________________\n",
      "batch_normalization_10 (BatchNo (None, 64)           256         dense_6[0][0]                    \n",
      "__________________________________________________________________________________________________\n",
      "batch_normalization_12 (BatchNo (None, 64)           256         dense_9[0][0]                    \n",
      "__________________________________________________________________________________________________\n",
      "batch_normalization_14 (BatchNo (None, 64)           256         dense_12[0][0]                   \n",
      "__________________________________________________________________________________________________\n",
      "batch_normalization_16 (BatchNo (None, 64)           256         dense_15[0][0]                   \n",
      "__________________________________________________________________________________________________\n",
      "batch_normalization_18 (BatchNo (None, 64)           256         dense_18[0][0]                   \n",
      "__________________________________________________________________________________________________\n",
      "batch_normalization_20 (BatchNo (None, 64)           256         dense_21[0][0]                   \n",
      "__________________________________________________________________________________________________\n",
      "dropout_3 (Dropout)             (None, 256)          0           batch_normalization_9[0][0]      \n",
      "__________________________________________________________________________________________________\n",
      "dropout_4 (Dropout)             (None, 64)           0           batch_normalization_10[0][0]     \n",
      "__________________________________________________________________________________________________\n",
      "dropout_6 (Dropout)             (None, 64)           0           batch_normalization_12[0][0]     \n",
      "__________________________________________________________________________________________________\n",
      "dropout_8 (Dropout)             (None, 64)           0           batch_normalization_14[0][0]     \n",
      "__________________________________________________________________________________________________\n",
      "dropout_10 (Dropout)            (None, 64)           0           batch_normalization_16[0][0]     \n",
      "__________________________________________________________________________________________________\n",
      "dropout_12 (Dropout)            (None, 64)           0           batch_normalization_18[0][0]     \n",
      "__________________________________________________________________________________________________\n",
      "dropout_14 (Dropout)            (None, 64)           0           batch_normalization_20[0][0]     \n",
      "__________________________________________________________________________________________________\n",
      "concatenate_3 (Concatenate)     (None, 320)          0           dropout_4[0][0]                  \n",
      "                                                                 dropout_3[0][0]                  \n",
      "__________________________________________________________________________________________________\n",
      "concatenate_5 (Concatenate)     (None, 320)          0           dropout_6[0][0]                  \n",
      "                                                                 dropout_3[0][0]                  \n",
      "__________________________________________________________________________________________________\n",
      "concatenate_7 (Concatenate)     (None, 320)          0           dropout_8[0][0]                  \n",
      "                                                                 dropout_3[0][0]                  \n",
      "__________________________________________________________________________________________________\n",
      "concatenate_9 (Concatenate)     (None, 320)          0           dropout_10[0][0]                 \n",
      "                                                                 dropout_3[0][0]                  \n",
      "__________________________________________________________________________________________________\n",
      "concatenate_11 (Concatenate)    (None, 320)          0           dropout_12[0][0]                 \n",
      "                                                                 dropout_3[0][0]                  \n",
      "__________________________________________________________________________________________________\n",
      "concatenate_13 (Concatenate)    (None, 320)          0           dropout_14[0][0]                 \n",
      "                                                                 dropout_3[0][0]                  \n",
      "__________________________________________________________________________________________________\n",
      "dense_7 (Dense)                 (None, 64)           20544       concatenate_3[0][0]              \n",
      "__________________________________________________________________________________________________\n",
      "dense_10 (Dense)                (None, 64)           20544       concatenate_5[0][0]              \n",
      "__________________________________________________________________________________________________\n",
      "dense_13 (Dense)                (None, 64)           20544       concatenate_7[0][0]              \n",
      "__________________________________________________________________________________________________\n",
      "dense_16 (Dense)                (None, 64)           20544       concatenate_9[0][0]              \n",
      "__________________________________________________________________________________________________\n",
      "dense_19 (Dense)                (None, 64)           20544       concatenate_11[0][0]             \n",
      "__________________________________________________________________________________________________\n",
      "dense_22 (Dense)                (None, 64)           20544       concatenate_13[0][0]             \n",
      "__________________________________________________________________________________________________\n",
      "batch_normalization_11 (BatchNo (None, 64)           256         dense_7[0][0]                    \n",
      "__________________________________________________________________________________________________\n",
      "batch_normalization_13 (BatchNo (None, 64)           256         dense_10[0][0]                   \n",
      "__________________________________________________________________________________________________\n",
      "batch_normalization_15 (BatchNo (None, 64)           256         dense_13[0][0]                   \n",
      "__________________________________________________________________________________________________\n",
      "batch_normalization_17 (BatchNo (None, 64)           256         dense_16[0][0]                   \n",
      "__________________________________________________________________________________________________\n",
      "batch_normalization_19 (BatchNo (None, 64)           256         dense_19[0][0]                   \n",
      "__________________________________________________________________________________________________\n",
      "batch_normalization_21 (BatchNo (None, 64)           256         dense_22[0][0]                   \n",
      "__________________________________________________________________________________________________\n",
      "dropout_5 (Dropout)             (None, 64)           0           batch_normalization_11[0][0]     \n",
      "__________________________________________________________________________________________________\n",
      "dropout_7 (Dropout)             (None, 64)           0           batch_normalization_13[0][0]     \n",
      "__________________________________________________________________________________________________\n",
      "dropout_9 (Dropout)             (None, 64)           0           batch_normalization_15[0][0]     \n",
      "__________________________________________________________________________________________________\n",
      "dropout_11 (Dropout)            (None, 64)           0           batch_normalization_17[0][0]     \n",
      "__________________________________________________________________________________________________\n",
      "dropout_13 (Dropout)            (None, 64)           0           batch_normalization_19[0][0]     \n",
      "__________________________________________________________________________________________________\n",
      "dropout_15 (Dropout)            (None, 64)           0           batch_normalization_21[0][0]     \n",
      "__________________________________________________________________________________________________\n",
      "dense_8 (Dense)                 (None, 1)            65          dropout_5[0][0]                  \n",
      "__________________________________________________________________________________________________\n",
      "dense_11 (Dense)                (None, 1)            65          dropout_7[0][0]                  \n",
      "__________________________________________________________________________________________________\n",
      "dense_14 (Dense)                (None, 1)            65          dropout_9[0][0]                  \n",
      "__________________________________________________________________________________________________\n",
      "dense_17 (Dense)                (None, 1)            65          dropout_11[0][0]                 \n",
      "__________________________________________________________________________________________________\n",
      "dense_20 (Dense)                (None, 1)            65          dropout_13[0][0]                 \n",
      "__________________________________________________________________________________________________\n",
      "dense_23 (Dense)                (None, 1)            65          dropout_15[0][0]                 \n",
      "__________________________________________________________________________________________________\n",
      "dense_5 (Dense)                 (None, 6)            1542        dropout_3[0][0]                  \n",
      "__________________________________________________________________________________________________\n",
      "concatenate_14 (Concatenate)    (None, 6)            0           dense_8[0][0]                    \n",
      "                                                                 dense_11[0][0]                   \n",
      "                                                                 dense_14[0][0]                   \n",
      "                                                                 dense_17[0][0]                   \n",
      "                                                                 dense_20[0][0]                   \n",
      "                                                                 dense_23[0][0]                   \n",
      "__________________________________________________________________________________________________\n",
      "average_2 (Average)             (None, 6)            0           dense_5[0][0]                    \n",
      "                                                                 concatenate_14[0][0]             \n",
      "==================================================================================================\n",
      "Total params: 20,424,153\n",
      "Trainable params: 2,417,393\n",
      "Non-trainable params: 18,006,760\n",
      "__________________________________________________________________________________________________\n"
     ]
    }
   ],
   "source": [
    "maxWords = 30000\n",
    "maxSequenceLengthInWords = 400\n",
    "embeddingDimension = 300\n",
    "filtersNumber = 300\n",
    "\n",
    "input_layer = Input(shape=(maxSequenceLengthInWords,))\n",
    "\n",
    "pretrained_embedding_layer = Embedding(\n",
    "    maxWords, \n",
    "    output_dim=embeddingDimension, \n",
    "    input_length=maxSequenceLengthInWords,\n",
    "    weights = [np.load('fast_text_embeddings.npy')],\n",
    "    trainable = False\n",
    ")(input_layer)\n",
    "pretrained_embedding_layer = SpatialDropout1D(0.2)(pretrained_embedding_layer)\n",
    "\n",
    "custom_embedding_layer = Embedding(\n",
    "    maxWords, \n",
    "    output_dim=embeddingDimension, \n",
    "    input_length=maxSequenceLengthInWords,\n",
    "    weights = [np.load('custom_fast_text_embeddings.npy')],\n",
    "    trainable = False\n",
    ")(input_layer)\n",
    "custom_embedding_layer = SpatialDropout1D(0.2)(custom_embedding_layer)\n",
    "\n",
    "embedding = Average()([pretrained_embedding_layer, custom_embedding_layer])\n",
    "embedding_dropout = SpatialDropout1D(0.2)(embedding)\n",
    "\n",
    "embedding_dropout = SelfAttention()(embedding_dropout)\n",
    "\n",
    "features_1 = one_by_one(filtersNumber, embedding_dropout)\n",
    "features_2 = one_by_one(filtersNumber, features_1)\n",
    "features_3 = one_by_one(filtersNumber, features_2)\n",
    "\n",
    "features = yoon_kim_feature_extractor(filtersNumber, features_3)\n",
    "\n",
    "\n",
    "dense_1 = Dense(256, activation = 'elu')(features)\n",
    "dense_1_normalization = BatchNormalization()(dense_1)\n",
    "dense_1_dropout = Dropout(0.2)(dense_1_normalization)\n",
    "\n",
    "dense_2 = Dense(256, activation = 'elu')(dense_1_dropout)\n",
    "dense_2_normalization = BatchNormalization()(dense_2)\n",
    "dense_2_dropout = Dropout(0.2)(dense_2_normalization)\n",
    "\n",
    "output_layer = Dense(6, activation='sigmoid')(dense_2_dropout)\n",
    "\n",
    "single_category_layer = concatenate([\n",
    "    single_category_regressor(features, dense_1_dropout, dense_2_dropout, 64),\n",
    "    single_category_regressor(features, dense_1_dropout, dense_2_dropout, 64),\n",
    "    single_category_regressor(features, dense_1_dropout, dense_2_dropout, 64),\n",
    "    single_category_regressor(features, dense_1_dropout, dense_2_dropout, 64),\n",
    "    single_category_regressor(features, dense_1_dropout, dense_2_dropout, 64),\n",
    "    single_category_regressor(features, dense_1_dropout, dense_2_dropout, 64),\n",
    "])\n",
    "\n",
    "output_layer = average([output_layer, single_category_layer])\n",
    "\n",
    "model = Model(inputs=[input_layer], outputs=[output_layer])\n",
    "            \n",
    "model.summary()\n",
    "\n",
    "model.compile(\n",
    "    loss='binary_crossentropy', \n",
    "    optimizer='Adam',\n",
    "    metrics=['accuracy']\n",
    ")"
   ]
  },
  {
   "cell_type": "code",
   "execution_count": 13,
   "metadata": {
    "colab": {
     "autoexec": {
      "startup": false,
      "wait_interval": 0
     },
     "base_uri": "https://localhost:8080/",
     "height": 1380
    },
    "colab_type": "code",
    "executionInfo": {
     "elapsed": 21812743,
     "status": "ok",
     "timestamp": 1530731898774,
     "user": {
      "displayName": "Deep Learner",
      "photoUrl": "https://lh3.googleusercontent.com/a/default-user=s128",
      "userId": "102934620980301123540"
     },
     "user_tz": -120
    },
    "id": "xwMmTewgXynz",
    "outputId": "ba71c95c-f033-4e73-e536-bf53f975b782"
   },
   "outputs": [
    {
     "name": "stdout",
     "output_type": "stream",
     "text": [
      "Train on 102124 samples, validate on 25532 samples\n",
      "Epoch 1/32\n",
      " 20960/102124 [=====>........................] - ETA: 8:53 - loss: 0.1915 - acc: 0.9094 56992/102124 [===============>..............] - ETA: 4:41 - loss: 0.1230 - acc: 0.9459 93696/102124 [==========================>...] - ETA: 51s - loss: 0.1031 - acc: 0.9569102124/102124 [==============================] - 668s 7ms/step - loss: 0.1001 - acc: 0.9585 - val_loss: 0.0580 - val_acc: 0.9793\n",
      "Epoch 2/32\n",
      " 10432/102124 [==>...........................] - ETA: 9:14 - loss: 0.0671 - acc: 0.9758 54624/102124 [===============>..............] - ETA: 4:44 - loss: 0.0665 - acc: 0.9764 91072/102124 [=========================>....] - ETA: 1:06 - loss: 0.0644 - acc: 0.9770102124/102124 [==============================] - 651s 6ms/step - loss: 0.0637 - acc: 0.9773 - val_loss: 0.0962 - val_acc: 0.9728\n",
      "roc-auc: 0.9247 - roc-auc_val: 0.9247                                                                                                    \n",
      "Epoch 3/32\n",
      "  5920/102124 [>.............................] - ETA: 9:36 - loss: 0.0579 - acc: 0.9792 43200/102124 [===========>..................] - ETA: 5:52 - loss: 0.0589 - acc: 0.9792 79072/102124 [======================>.......] - ETA: 2:18 - loss: 0.0583 - acc: 0.9793102124/102124 [==============================] - 653s 6ms/step - loss: 0.0576 - acc: 0.9794 - val_loss: 0.0482 - val_acc: 0.9819\n",
      "Epoch 4/32\n",
      "  4864/102124 [>.............................] - ETA: 9:46 - loss: 0.0480 - acc: 0.9830 40928/102124 [===========>..................] - ETA: 6:09 - loss: 0.0521 - acc: 0.9808 80832/102124 [======================>.......] - ETA: 2:08 - loss: 0.0528 - acc: 0.9805102124/102124 [==============================] - 654s 6ms/step - loss: 0.0524 - acc: 0.9806 - val_loss: 0.0466 - val_acc: 0.9822\n",
      "roc-auc: 0.9812 - roc-auc_val: 0.9781                                                                                                    \n",
      "Epoch 5/32\n",
      "  3392/102124 [..............................] - ETA: 9:52 - loss: 0.0569 - acc: 0.9779 40544/102124 [==========>...................] - ETA: 6:08 - loss: 0.0508 - acc: 0.9809 83456/102124 [=======================>......] - ETA: 1:51 - loss: 0.0502 - acc: 0.9811102124/102124 [==============================] - 651s 6ms/step - loss: 0.0499 - acc: 0.9812 - val_loss: 0.0478 - val_acc: 0.9821\n",
      "Epoch 6/32\n",
      "  6656/102124 [>.............................] - ETA: 9:34 - loss: 0.0472 - acc: 0.9819 43904/102124 [===========>..................] - ETA: 5:48 - loss: 0.0481 - acc: 0.9818 85760/102124 [========================>.....] - ETA: 1:38 - loss: 0.0483 - acc: 0.9817102124/102124 [==============================] - 653s 6ms/step - loss: 0.0483 - acc: 0.9817 - val_loss: 0.0485 - val_acc: 0.9818\n",
      "\n",
      "Epoch 00006: ReduceLROnPlateau reducing learning rate to 0.00029730176902376115.\n",
      "roc-auc: 0.9841 - roc-auc_val: 0.98                                                                                                    \n",
      "Epoch 7/32\n",
      "  3744/102124 [>.............................] - ETA: 9:55 - loss: 0.0490 - acc: 0.9800 40256/102124 [==========>...................] - ETA: 6:15 - loss: 0.0479 - acc: 0.9814 76640/102124 [=====================>........] - ETA: 2:33 - loss: 0.0473 - acc: 0.9818102124/102124 [==============================] - 655s 6ms/step - loss: 0.0472 - acc: 0.9819 - val_loss: 0.0535 - val_acc: 0.9805\n",
      "Epoch 8/32\n",
      "  4032/102124 [>.............................] - ETA: 9:49 - loss: 0.0468 - acc: 0.982 45216/102124 [============>.................] - ETA: 5:40 - loss: 0.0461 - acc: 0.9821 91584/102124 [=========================>....] - ETA: 1:03 - loss: 0.0465 - acc: 0.9821102124/102124 [==============================] - 651s 6ms/step - loss: 0.0462 - acc: 0.9821 - val_loss: 0.0707 - val_acc: 0.9778\n",
      "roc-auc: 0.9784 - roc-auc_val: 0.973                                                                                                    \n",
      "Epoch 9/32\n",
      "  6144/102124 [>.............................] - ETA: 9:30 - loss: 0.0448 - acc: 0.9830 45088/102124 [============>.................] - ETA: 5:41 - loss: 0.0445 - acc: 0.9827 81056/102124 [======================>.......] - ETA: 2:06 - loss: 0.0451 - acc: 0.9824102124/102124 [==============================] - 653s 6ms/step - loss: 0.0452 - acc: 0.9825 - val_loss: 0.0433 - val_acc: 0.9834\n",
      "Epoch 10/32\n",
      "  5312/102124 [>.............................] - ETA: 9:40 - loss: 0.0417 - acc: 0.9842 41728/102124 [===========>..................] - ETA: 6:03 - loss: 0.0443 - acc: 0.9829 87520/102124 [========================>.....] - ETA: 1:27 - loss: 0.0449 - acc: 0.9825102124/102124 [==============================] - 656s 6ms/step - loss: 0.0448 - acc: 0.9826 - val_loss: 0.0472 - val_acc: 0.9822\n",
      "roc-auc: 0.9853 - roc-auc_val: 0.9826                                                                                                    \n",
      "Epoch 11/32\n",
      "  5088/102124 [>.............................] - ETA: 9:39 - loss: 0.0443 - acc: 0.9826 43680/102124 [===========>..................] - ETA: 5:49 - loss: 0.0444 - acc: 0.9825 87456/102124 [========================>.....] - ETA: 1:27 - loss: 0.0434 - acc: 0.9830102124/102124 [==============================] - 652s 6ms/step - loss: 0.0436 - acc: 0.9829 - val_loss: 0.0458 - val_acc: 0.9828\n",
      "Epoch 12/32\n",
      "  8224/102124 [=>............................] - ETA: 9:21 - loss: 0.0455 - acc: 0.9818 46240/102124 [============>.................] - ETA: 5:36 - loss: 0.0440 - acc: 0.9828 91872/102124 [=========================>....] - ETA: 1:01 - loss: 0.0431 - acc: 0.9830102124/102124 [==============================] - 654s 6ms/step - loss: 0.0431 - acc: 0.9830 - val_loss: 0.0418 - val_acc: 0.9835\n",
      "roc-auc: 0.991 - roc-auc_val: 0.9864                                                                                                    \n",
      "Epoch 13/32\n",
      "  5888/102124 [>.............................] - ETA: 9:52 - loss: 0.0435 - acc: 0.9826 41664/102124 [===========>..................] - ETA: 6:09 - loss: 0.0424 - acc: 0.9832 76416/102124 [=====================>........] - ETA: 2:36 - loss: 0.0429 - acc: 0.9829102124/102124 [==============================] - 662s 6ms/step - loss: 0.0426 - acc: 0.9832 - val_loss: 0.0425 - val_acc: 0.9837\n",
      "Epoch 14/32\n",
      "  3552/102124 [>.............................] - ETA: 10:00 - loss: 0.0421 - acc: 0.9842 39520/102124 [==========>...................] - ETA: 6:23 - loss: 0.0423 - acc: 0.9832 75712/102124 [=====================>........] - ETA: 2:40 - loss: 0.0420 - acc: 0.9834102124/102124 [==============================] - 659s 6ms/step - loss: 0.0422 - acc: 0.9834 - val_loss: 0.0412 - val_acc: 0.9841\n",
      "roc-auc: 0.992 - roc-auc_val: 0.9876                                                                                                    \n",
      "Epoch 15/32\n",
      "  2144/102124 [..............................] - ETA: 10:03 - loss: 0.0420 - acc: 0.9840 42848/102124 [===========>..................] - ETA: 5:57 - loss: 0.0425 - acc: 0.9835 78752/102124 [======================>.......] - ETA: 2:21 - loss: 0.0421 - acc: 0.9837102124/102124 [==============================] - 657s 6ms/step - loss: 0.0419 - acc: 0.9837 - val_loss: 0.0428 - val_acc: 0.9838\n",
      "Epoch 16/32\n",
      "  4672/102124 [>.............................] - ETA: 9:51 - loss: 0.0449 - acc: 0.9826 40832/102124 [==========>...................] - ETA: 6:11 - loss: 0.0402 - acc: 0.9842 77152/102124 [=====================>........] - ETA: 2:31 - loss: 0.0411 - acc: 0.9839102124/102124 [==============================] - 661s 6ms/step - loss: 0.0412 - acc: 0.9837 - val_loss: 0.0413 - val_acc: 0.9840\n",
      "roc-auc: 0.9922 - roc-auc_val: 0.9873                                                                                                    \n",
      "Epoch 17/32\n",
      "  2432/102124 [..............................] - ETA: 9:48 - loss: 0.0404 - acc: 0.9844 38624/102124 [==========>...................] - ETA: 6:22 - loss: 0.0404 - acc: 0.9840 73760/102124 [====================>.........] - ETA: 2:52 - loss: 0.0408 - acc: 0.9837102124/102124 [==============================] - 661s 6ms/step - loss: 0.0408 - acc: 0.9838 - val_loss: 0.0416 - val_acc: 0.9841\n",
      "\n",
      "Epoch 00017: ReduceLROnPlateau reducing learning rate to 9.473228419665247e-05.\n",
      "Epoch 18/32\n"
     ]
    },
    {
     "name": "stdout",
     "output_type": "stream",
     "text": [
      "  1696/102124 [..............................] - ETA: 10:13 - loss: 0.0432 - acc: 0.9832 37056/102124 [=========>....................] - ETA: 6:32 - loss: 0.0401 - acc: 0.9841 72064/102124 [====================>.........] - ETA: 3:01 - loss: 0.0407 - acc: 0.9837102124/102124 [==============================] - 657s 6ms/step - loss: 0.0406 - acc: 0.9838 - val_loss: 0.0414 - val_acc: 0.9841\n",
      "roc-auc: 0.9928 - roc-auc_val: 0.9871                                                                                                    \n",
      "Epoch 19/32\n",
      "  1216/102124 [..............................] - ETA: 10:12 - loss: 0.0358 - acc: 0.9862 37504/102124 [==========>...................] - ETA: 6:36 - loss: 0.0404 - acc: 0.9843 72736/102124 [====================>.........] - ETA: 2:59 - loss: 0.0407 - acc: 0.9839102124/102124 [==============================] - 662s 6ms/step - loss: 0.0405 - acc: 0.9840 - val_loss: 0.0407 - val_acc: 0.9843\n",
      "Epoch 20/32\n",
      "  2144/102124 [..............................] - ETA: 10:07 - loss: 0.0419 - acc: 0.9848 38016/102124 [==========>...................] - ETA: 6:27 - loss: 0.0401 - acc: 0.9840 74368/102124 [====================>.........] - ETA: 2:48 - loss: 0.0402 - acc: 0.9840102124/102124 [==============================] - 657s 6ms/step - loss: 0.0398 - acc: 0.9842 - val_loss: 0.0409 - val_acc: 0.9843\n",
      "roc-auc: 0.9933 - roc-auc_val: 0.9876                                                                                                    \n",
      "Epoch 21/32\n",
      "  1984/102124 [..............................] - ETA: 10:00 - loss: 0.0424 - acc: 0.9845 44064/102124 [===========>..................] - ETA: 5:48 - loss: 0.0399 - acc: 0.9840 80000/102124 [======================>.......] - ETA: 2:13 - loss: 0.0399 - acc: 0.9840102124/102124 [==============================] - 656s 6ms/step - loss: 0.0396 - acc: 0.9842 - val_loss: 0.0412 - val_acc: 0.9842\n",
      "Epoch 22/32\n",
      "  4704/102124 [>.............................] - ETA: 9:50 - loss: 0.0370 - acc: 0.9846 40928/102124 [===========>..................] - ETA: 6:09 - loss: 0.0387 - acc: 0.9843 76608/102124 [=====================>........] - ETA: 2:34 - loss: 0.0397 - acc: 0.9841102124/102124 [==============================] - 657s 6ms/step - loss: 0.0397 - acc: 0.9841 - val_loss: 0.0409 - val_acc: 0.9842\n",
      "roc-auc: 0.9933 - roc-auc_val: 0.9877                                                                                                    \n",
      "Epoch 23/32\n",
      "  2432/102124 [..............................] - ETA: 9:58 - loss: 0.0390 - acc: 0.9838 38496/102124 [==========>...................] - ETA: 6:23 - loss: 0.0393 - acc: 0.9841 76544/102124 [=====================>........] - ETA: 2:34 - loss: 0.0387 - acc: 0.9845102124/102124 [==============================] - 653s 6ms/step - loss: 0.0389 - acc: 0.9844 - val_loss: 0.0420 - val_acc: 0.9844\n",
      "Epoch 24/32\n",
      "  4064/102124 [>.............................] - ETA: 9:52 - loss: 0.0368 - acc: 0.9853 42176/102124 [===========>..................] - ETA: 6:00 - loss: 0.0383 - acc: 0.9846 77984/102124 [=====================>........] - ETA: 2:25 - loss: 0.0387 - acc: 0.9844102124/102124 [==============================] - 658s 6ms/step - loss: 0.0387 - acc: 0.9845 - val_loss: 0.0419 - val_acc: 0.9841\n",
      "roc-auc: 0.993 - roc-auc_val: 0.9872                                                                                                    \n",
      "Epoch 25/32\n",
      "  2592/102124 [..............................] - ETA: 10:03 - loss: 0.0364 - acc: 0.9851 38208/102124 [==========>...................] - ETA: 6:27 - loss: 0.0381 - acc: 0.9848 74944/102124 [=====================>........] - ETA: 2:44 - loss: 0.0381 - acc: 0.9847102124/102124 [==============================] - 658s 6ms/step - loss: 0.0385 - acc: 0.9845 - val_loss: 0.0419 - val_acc: 0.9843\n",
      "Epoch 26/32\n",
      "  3168/102124 [..............................] - ETA: 9:58 - loss: 0.0334 - acc: 0.9870 40000/102124 [==========>...................] - ETA: 6:17 - loss: 0.0384 - acc: 0.9846 75424/102124 [=====================>........] - ETA: 2:42 - loss: 0.0383 - acc: 0.9847102124/102124 [==============================] - 659s 6ms/step - loss: 0.0385 - acc: 0.9846 - val_loss: 0.0411 - val_acc: 0.9842\n",
      "roc-auc: 0.9938 - roc-auc_val: 0.9875                                                                                                    \n",
      "Epoch 27/32\n",
      "  1952/102124 [..............................] - ETA: 10:50 - loss: 0.0343 - acc: 0.9865 44448/102124 [============>.................] - ETA: 5:54 - loss: 0.0390 - acc: 0.9842 86304/102124 [========================>.....] - ETA: 1:35 - loss: 0.0381 - acc: 0.9847102124/102124 [==============================] - 658s 6ms/step - loss: 0.0383 - acc: 0.9847 - val_loss: 0.0410 - val_acc: 0.9844\n",
      "Epoch 28/32\n",
      "  7360/102124 [=>............................] - ETA: 9:30 - loss: 0.0378 - acc: 0.9849 45792/102124 [============>.................] - ETA: 5:40 - loss: 0.0378 - acc: 0.9848 83936/102124 [=======================>......] - ETA: 1:49 - loss: 0.0380 - acc: 0.9847102124/102124 [==============================] - 656s 6ms/step - loss: 0.0383 - acc: 0.9847 - val_loss: 0.0408 - val_acc: 0.9843\n",
      "\n",
      "Epoch 00028: ReduceLROnPlateau reducing learning rate to 3.0185510695446283e-05.\n",
      "roc-auc: 0.9942 - roc-auc_val: 0.9878                                                                                                    \n",
      "Epoch 29/32\n",
      "  3328/102124 [..............................] - ETA: 10:18 - loss: 0.0391 - acc: 0.9844 37600/102124 [==========>...................] - ETA: 6:35 - loss: 0.0374 - acc: 0.9851 74944/102124 [=====================>........] - ETA: 2:47 - loss: 0.0383 - acc: 0.9846102124/102124 [==============================] - 669s 7ms/step - loss: 0.0383 - acc: 0.9847 - val_loss: 0.0411 - val_acc: 0.9843\n"
     ]
    }
   ],
   "source": [
    "history = train_with_cv(model, batchSize=32, rocEvery = 2)"
   ]
  },
  {
   "cell_type": "code",
   "execution_count": 14,
   "metadata": {
    "colab": {
     "autoexec": {
      "startup": false,
      "wait_interval": 0
     },
     "base_uri": "https://localhost:8080/",
     "height": 294
    },
    "colab_type": "code",
    "executionInfo": {
     "elapsed": 3711,
     "status": "ok",
     "timestamp": 1530731902504,
     "user": {
      "displayName": "Deep Learner",
      "photoUrl": "https://lh3.googleusercontent.com/a/default-user=s128",
      "userId": "102934620980301123540"
     },
     "user_tz": -120
    },
    "id": "sms3R-U4469B",
    "outputId": "7c8c7157-4c0e-40f5-a5a4-b1135586a02d"
   },
   "outputs": [
    {
     "data": {
      "image/png": "[encoded data removed]",
      "text/plain": [
       "<matplotlib.figure.Figure at 0x7f6627d48710>"
      ]
     },
     "metadata": {
      "tags": []
     },
     "output_type": "display_data"
    }
   ],
   "source": [
    "plot_history(history)"
   ]
  },
  {
   "cell_type": "code",
   "execution_count": 15,
   "metadata": {
    "colab": {
     "autoexec": {
      "startup": false,
      "wait_interval": 0
     },
     "base_uri": "https://localhost:8080/",
     "height": 51
    },
    "colab_type": "code",
    "executionInfo": {
     "elapsed": 104035,
     "status": "ok",
     "timestamp": 1530732006603,
     "user": {
      "displayName": "Deep Learner",
      "photoUrl": "https://lh3.googleusercontent.com/a/default-user=s128",
      "userId": "102934620980301123540"
     },
     "user_tz": -120
    },
    "id": "r2gtMBj2Tp9A",
    "outputId": "e446ad6c-8e2e-4e98-c80e-4e2927e062af"
   },
   "outputs": [
    {
     "name": "stdout",
     "output_type": "stream",
     "text": [
      "31915/31915 [==============================] - 55s 2ms/step\n",
      "([0.03906458965977606, 0.9845944820349818], 0.9890939342143611)\n"
     ]
    }
   ],
   "source": [
    "print(evaluate_on_test(model))"
   ]
  }
 ],
 "metadata": {
  "accelerator": "GPU",
  "colab": {
   "collapsed_sections": [],
   "default_view": {},
   "name": "combined_context_with_each_add_64_2.ipynb",
   "provenance": [],
   "version": "0.3.2",
   "views": {}
  },
  "kernelspec": {
   "display_name": "Python 3",
   "language": "python",
   "name": "python3"
  },
  "language_info": {
   "codemirror_mode": {
    "name": "ipython",
    "version": 3
   },
   "file_extension": ".py",
   "mimetype": "text/x-python",
   "name": "python",
   "nbconvert_exporter": "python",
   "pygments_lexer": "ipython3",
   "version": "3.6.2"
  }
 },
 "nbformat": 4,
 "nbformat_minor": 1
}

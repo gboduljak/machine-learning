{
 "cells": [
  {
   "cell_type": "code",
   "execution_count": 1,
   "metadata": {
    "colab": {
     "autoexec": {
      "startup": false,
      "wait_interval": 0
     },
     "base_uri": "https://localhost:8080/",
     "height": 391
    },
    "colab_type": "code",
    "executionInfo": {
     "elapsed": 12075,
     "status": "ok",
     "timestamp": 1530709053177,
     "user": {
      "displayName": "Deep Learning",
      "photoUrl": "https://lh3.googleusercontent.com/a/default-user=s128",
      "userId": "115257841230779963257"
     },
     "user_tz": -120
    },
    "id": "yS1FnhiWX3Js",
    "outputId": "ad352659-6fe9-4681-d2fb-55eee0f0877f"
   },
   "outputs": [
    {
     "name": "stdout",
     "output_type": "stream",
     "text": [
      "Requirement already satisfied: keras in /usr/local/lib/python3.6/dist-packages (2.1.6)\n",
      "Requirement already satisfied: six>=1.9.0 in /usr/local/lib/python3.6/dist-packages (from keras) (1.11.0)\n",
      "Requirement already satisfied: scipy>=0.14 in /usr/local/lib/python3.6/dist-packages (from keras) (0.19.1)\n",
      "Requirement already satisfied: pyyaml in /usr/local/lib/python3.6/dist-packages (from keras) (3.12)\n",
      "Requirement already satisfied: h5py in /usr/local/lib/python3.6/dist-packages (from keras) (2.8.0)\n",
      "Requirement already satisfied: numpy>=1.9.1 in /usr/local/lib/python3.6/dist-packages (from keras) (1.14.5)\n",
      "Collecting sklearn\n",
      "  Downloading https://files.pythonhosted.org/packages/1e/7a/dbb3be0ce9bd5c8b7e3d87328e79063f8b263b2b1bfa4774cb1147bfcd3f/sklearn-0.0.tar.gz\n",
      "Requirement already satisfied: scikit-learn in /usr/local/lib/python3.6/dist-packages (from sklearn) (0.19.1)\n",
      "Building wheels for collected packages: sklearn\n",
      "  Running setup.py bdist_wheel for sklearn ... \u001b[?25l-\b \bdone\n",
      "\u001b[?25h  Stored in directory: /content/.cache/pip/wheels/76/03/bb/589d421d27431bcd2c6da284d5f2286c8e3b2ea3cf1594c074\n",
      "Successfully built sklearn\n",
      "Installing collected packages: sklearn\n",
      "Successfully installed sklearn-0.0\n",
      "Requirement already satisfied: matplotlib in /usr/local/lib/python3.6/dist-packages (2.1.2)\n",
      "Requirement already satisfied: pytz in /usr/local/lib/python3.6/dist-packages (from matplotlib) (2018.5)\n",
      "Requirement already satisfied: cycler>=0.10 in /usr/local/lib/python3.6/dist-packages (from matplotlib) (0.10.0)\n",
      "Requirement already satisfied: numpy>=1.7.1 in /usr/local/lib/python3.6/dist-packages (from matplotlib) (1.14.5)\n",
      "Requirement already satisfied: python-dateutil>=2.1 in /usr/local/lib/python3.6/dist-packages (from matplotlib) (2.5.3)\n",
      "Requirement already satisfied: pyparsing!=2.0.4,!=2.1.2,!=2.1.6,>=2.0.1 in /usr/local/lib/python3.6/dist-packages (from matplotlib) (2.2.0)\n",
      "Requirement already satisfied: six>=1.10 in /usr/local/lib/python3.6/dist-packages (from matplotlib) (1.11.0)\n"
     ]
    }
   ],
   "source": [
    "!pip install keras\n",
    "!pip install sklearn\n",
    "!pip install matplotlib\n",
    "!pip install -U -q PyDrive"
   ]
  },
  {
   "cell_type": "code",
   "execution_count": 2,
   "metadata": {
    "colab": {
     "autoexec": {
      "startup": false,
      "wait_interval": 0
     },
     "base_uri": "https://localhost:8080/",
     "height": 34
    },
    "colab_type": "code",
    "executionInfo": {
     "elapsed": 8356,
     "status": "ok",
     "timestamp": 1530709061565,
     "user": {
      "displayName": "Deep Learning",
      "photoUrl": "https://lh3.googleusercontent.com/a/default-user=s128",
      "userId": "115257841230779963257"
     },
     "user_tz": -120
    },
    "id": "xlKzkDJFrjA-",
    "outputId": "fcb2b9af-0371-49a1-ea91-f276093f44ba"
   },
   "outputs": [
    {
     "name": "stderr",
     "output_type": "stream",
     "text": [
      "Using TensorFlow backend.\n"
     ]
    }
   ],
   "source": [
    "from keras import backend as K\n",
    "K.clear_session()"
   ]
  },
  {
   "cell_type": "code",
   "execution_count": 0,
   "metadata": {
    "colab": {
     "autoexec": {
      "startup": false,
      "wait_interval": 0
     }
    },
    "colab_type": "code",
    "id": "eQEKwl4oAxO7"
   },
   "outputs": [],
   "source": [
    "from keras import backend as K\n",
    "cfg = K.tf.ConfigProto()\n",
    "cfg.gpu_options.allow_growth = True\n",
    "K.set_session(K.tf.Session(config=cfg))"
   ]
  },
  {
   "cell_type": "code",
   "execution_count": 0,
   "metadata": {
    "colab": {
     "autoexec": {
      "startup": false,
      "wait_interval": 0
     }
    },
    "colab_type": "code",
    "id": "12M0egCCX-27"
   },
   "outputs": [],
   "source": [
    "from pydrive.auth import GoogleAuth\n",
    "from pydrive.drive import GoogleDrive\n",
    "from google.colab import auth\n",
    "from oauth2client.client import GoogleCredentials\n",
    "\n",
    "auth.authenticate_user()\n",
    "gauth = GoogleAuth()\n",
    "gauth.credentials = GoogleCredentials.get_application_default()\n",
    "drive = GoogleDrive(gauth)"
   ]
  },
  {
   "cell_type": "code",
   "execution_count": 0,
   "metadata": {
    "colab": {
     "autoexec": {
      "startup": false,
      "wait_interval": 0
     }
    },
    "colab_type": "code",
    "id": "4lN2WTUEYBYv"
   },
   "outputs": [],
   "source": [
    "file_import = drive.CreateFile({'id':'1p1bsltfTcIrZ_kfE6kwGTPzcdXorHbb2'})\n",
    "file_import.GetContentFile('colab_setup.py') \n",
    "from colab_setup import setup\n",
    "\n",
    "setup(drive)"
   ]
  },
  {
   "cell_type": "code",
   "execution_count": 6,
   "metadata": {
    "colab": {
     "autoexec": {
      "startup": false,
      "wait_interval": 0
     },
     "base_uri": "https://localhost:8080/",
     "height": 119
    },
    "colab_type": "code",
    "executionInfo": {
     "elapsed": 1612,
     "status": "ok",
     "timestamp": 1530709106324,
     "user": {
      "displayName": "Deep Learning",
      "photoUrl": "https://lh3.googleusercontent.com/a/default-user=s128",
      "userId": "115257841230779963257"
     },
     "user_tz": -120
    },
    "id": "cHBlD0tVj2TY",
    "outputId": "0009ec65-daed-4315-86af-5e27666d410c"
   },
   "outputs": [
    {
     "name": "stdout",
     "output_type": "stream",
     "text": [
      "colab_setup.py\t\t\t roc_auc_callback.py\tX_train.npy\r\n",
      "custom_fast_text_embeddings.npy  sample_submission.csv\tX_val.npy\r\n",
      "datalab\t\t\t\t train_model.py\t\ty_test.npy\r\n",
      "fast_text_embeddings.npy\t X_submission.npy\ty_train_full.npy\r\n",
      "plot_history.py\t\t\t X_test.npy\t\ty_train.npy\r\n",
      "__pycache__\t\t\t X_train_full.npy\ty_val.npy\r\n"
     ]
    }
   ],
   "source": [
    "!ls"
   ]
  },
  {
   "cell_type": "code",
   "execution_count": 0,
   "metadata": {
    "colab": {
     "autoexec": {
      "startup": false,
      "wait_interval": 0
     }
    },
    "colab_type": "code",
    "id": "yMwWPTMYXyno"
   },
   "outputs": [],
   "source": [
    "import numpy as np\n",
    "import os\n",
    "\n",
    "from plot_history import plot_history\n",
    "from roc_auc_callback import RocAucCallback\n",
    "from train_model import train_with_cv, train_with_submitting, evaluate_on_test\n",
    "\n",
    "from keras.models import Model\n",
    "from keras.layers import *\n",
    "from keras.layers.merge import concatenate"
   ]
  },
  {
   "cell_type": "code",
   "execution_count": 0,
   "metadata": {
    "colab": {
     "autoexec": {
      "startup": false,
      "wait_interval": 0
     }
    },
    "colab_type": "code",
    "id": "3YXiQ6IRovcY"
   },
   "outputs": [],
   "source": [
    "file_import = drive.CreateFile({'id':'15j1Nou6m5WNLejJQrUcty6U03xsIgIAI'})\n",
    "file_import.GetContentFile('SelfAttention.py') \n",
    "\n",
    "from SelfAttention import SelfAttention"
   ]
  },
  {
   "cell_type": "code",
   "execution_count": 0,
   "metadata": {
    "colab": {
     "autoexec": {
      "startup": false,
      "wait_interval": 0
     }
    },
    "colab_type": "code",
    "id": "MIWjPi9bs5d4"
   },
   "outputs": [],
   "source": [
    "def one_by_one(filtersNumber, inputLayer, dropout = 0.2):\n",
    "    one_by_one = Conv1D(filtersNumber, 1, activation = 'elu', padding = 'same', kernel_initializer = 'he_uniform')(inputLayer)\n",
    "    one_by_one = BatchNormalization()(one_by_one)\n",
    "    one_by_one = SpatialDropout1D(dropout)(one_by_one)\n",
    "    \n",
    "    return one_by_one"
   ]
  },
  {
   "cell_type": "code",
   "execution_count": 0,
   "metadata": {
    "colab": {
     "autoexec": {
      "startup": false,
      "wait_interval": 0
     }
    },
    "colab_type": "code",
    "id": "mRg7bBAFoL7b"
   },
   "outputs": [],
   "source": [
    "def yoon_kim_feature_extractor(filtersNumber, inputLayer):\n",
    "    block_1_conv_1 = Conv1D(filtersNumber, 1, activation = 'elu', padding = 'same', kernel_initializer = 'he_uniform')(inputLayer)\n",
    "    block_1_batchnorm1 = BatchNormalization()(block_1_conv_1)\n",
    "    block_1_max_pool1 = GlobalMaxPooling1D()(block_1_batchnorm1)\n",
    "\n",
    "    block_1_conv_2 = Conv1D(filtersNumber, 2, activation = 'elu', padding = 'same', kernel_initializer = 'he_uniform')(inputLayer)\n",
    "    block_1_batchnorm2 = BatchNormalization()(block_1_conv_2)\n",
    "    block_1_max_pool2 = GlobalMaxPooling1D()(block_1_batchnorm2)\n",
    "\n",
    "    block_1_conv_3 = Conv1D(filtersNumber, 3, activation = 'elu', padding = 'same', kernel_initializer = 'he_uniform')(inputLayer)\n",
    "    block_1_batchnorm3 = BatchNormalization()(block_1_conv_3)\n",
    "    block_1_max_pool3 = GlobalMaxPooling1D()(block_1_batchnorm3)\n",
    "\n",
    "    block_1_conv_4 = Conv1D(filtersNumber, 5, activation = 'elu', padding = 'same', kernel_initializer = 'he_uniform')(inputLayer)\n",
    "    block_1_batchnorm4 = BatchNormalization()(block_1_conv_4)\n",
    "    block_1_max_pool4 = GlobalMaxPooling1D()(block_1_batchnorm4)\n",
    "\n",
    "    block_1_features = concatenate([\n",
    "        block_1_max_pool1, \n",
    "        block_1_max_pool2, \n",
    "        block_1_max_pool3, \n",
    "        block_1_max_pool4\n",
    "    ])\n",
    "    block_1_features = Dropout(0.2)(block_1_features)\n",
    "    return block_1_features"
   ]
  },
  {
   "cell_type": "code",
   "execution_count": 0,
   "metadata": {
    "colab": {
     "autoexec": {
      "startup": false,
      "wait_interval": 0
     }
    },
    "colab_type": "code",
    "id": "2t9jNZJXg6Zz"
   },
   "outputs": [],
   "source": [
    "def single_category_regressor(features, context, unitsNumber = 64):\n",
    "    features = concatenate([features, context])\n",
    "    \n",
    "    dense_1 = Dense(unitsNumber, activation = 'elu')(features)\n",
    "    dense_1_normalization = BatchNormalization()(dense_1)\n",
    "    dense_1_dropout = Dropout(0.2)(dense_1_normalization)\n",
    "\n",
    "    dense_2 = Dense(unitsNumber, activation = 'elu')(dense_1_dropout)\n",
    "    dense_2_normalization = BatchNormalization()(dense_2)\n",
    "    dense_2_dropout = Dropout(0.2)(dense_2_normalization)\n",
    "    \n",
    "    return Dense(1, activation='sigmoid')(dense_2_dropout)"
   ]
  },
  {
   "cell_type": "code",
   "execution_count": 12,
   "metadata": {
    "colab": {
     "autoexec": {
      "startup": false,
      "wait_interval": 0
     },
     "base_uri": "https://localhost:8080/",
     "height": 3400
    },
    "colab_type": "code",
    "executionInfo": {
     "elapsed": 4260,
     "status": "ok",
     "timestamp": 1530709114322,
     "user": {
      "displayName": "Deep Learning",
      "photoUrl": "https://lh3.googleusercontent.com/a/default-user=s128",
      "userId": "115257841230779963257"
     },
     "user_tz": -120
    },
    "id": "LTFG7OgsXynw",
    "outputId": "f7e5d9e1-22af-4604-940d-5d8d0a9b1685"
   },
   "outputs": [
    {
     "name": "stdout",
     "output_type": "stream",
     "text": [
      "__________________________________________________________________________________________________\n",
      "Layer (type)                    Output Shape         Param #     Connected to                     \n",
      "==================================================================================================\n",
      "input_1 (InputLayer)            (None, 400)          0                                            \n",
      "__________________________________________________________________________________________________\n",
      "embedding_1 (Embedding)         (None, 400, 300)     9000000     input_1[0][0]                    \n",
      "__________________________________________________________________________________________________\n",
      "embedding_2 (Embedding)         (None, 400, 300)     9000000     input_1[0][0]                    \n",
      "__________________________________________________________________________________________________\n",
      "spatial_dropout1d_1 (SpatialDro (None, 400, 300)     0           embedding_1[0][0]                \n",
      "__________________________________________________________________________________________________\n",
      "spatial_dropout1d_2 (SpatialDro (None, 400, 300)     0           embedding_2[0][0]                \n",
      "__________________________________________________________________________________________________\n",
      "average_1 (Average)             (None, 400, 300)     0           spatial_dropout1d_1[0][0]        \n",
      "                                                                 spatial_dropout1d_2[0][0]        \n",
      "__________________________________________________________________________________________________\n",
      "spatial_dropout1d_3 (SpatialDro (None, 400, 300)     0           average_1[0][0]                  \n",
      "__________________________________________________________________________________________________\n",
      "self_attention_1 (SelfAttention (None, 400, 300)     90601       spatial_dropout1d_3[0][0]        \n",
      "__________________________________________________________________________________________________\n",
      "conv1d_1 (Conv1D)               (None, 400, 300)     90300       self_attention_1[0][0]           \n",
      "__________________________________________________________________________________________________\n",
      "batch_normalization_1 (BatchNor (None, 400, 300)     1200        conv1d_1[0][0]                   \n",
      "__________________________________________________________________________________________________\n",
      "spatial_dropout1d_4 (SpatialDro (None, 400, 300)     0           batch_normalization_1[0][0]      \n",
      "__________________________________________________________________________________________________\n",
      "conv1d_2 (Conv1D)               (None, 400, 300)     90300       spatial_dropout1d_4[0][0]        \n",
      "__________________________________________________________________________________________________\n",
      "batch_normalization_2 (BatchNor (None, 400, 300)     1200        conv1d_2[0][0]                   \n",
      "__________________________________________________________________________________________________\n",
      "spatial_dropout1d_5 (SpatialDro (None, 400, 300)     0           batch_normalization_2[0][0]      \n",
      "__________________________________________________________________________________________________\n",
      "conv1d_3 (Conv1D)               (None, 400, 300)     90300       spatial_dropout1d_5[0][0]        \n",
      "__________________________________________________________________________________________________\n",
      "batch_normalization_3 (BatchNor (None, 400, 300)     1200        conv1d_3[0][0]                   \n",
      "__________________________________________________________________________________________________\n",
      "spatial_dropout1d_6 (SpatialDro (None, 400, 300)     0           batch_normalization_3[0][0]      \n",
      "__________________________________________________________________________________________________\n",
      "conv1d_4 (Conv1D)               (None, 400, 300)     90300       spatial_dropout1d_6[0][0]        \n",
      "__________________________________________________________________________________________________\n",
      "conv1d_5 (Conv1D)               (None, 400, 300)     180300      spatial_dropout1d_6[0][0]        \n",
      "__________________________________________________________________________________________________\n",
      "conv1d_6 (Conv1D)               (None, 400, 300)     270300      spatial_dropout1d_6[0][0]        \n",
      "__________________________________________________________________________________________________\n",
      "conv1d_7 (Conv1D)               (None, 400, 300)     450300      spatial_dropout1d_6[0][0]        \n",
      "__________________________________________________________________________________________________\n",
      "batch_normalization_4 (BatchNor (None, 400, 300)     1200        conv1d_4[0][0]                   \n",
      "__________________________________________________________________________________________________\n",
      "batch_normalization_5 (BatchNor (None, 400, 300)     1200        conv1d_5[0][0]                   \n",
      "__________________________________________________________________________________________________\n",
      "batch_normalization_6 (BatchNor (None, 400, 300)     1200        conv1d_6[0][0]                   \n",
      "__________________________________________________________________________________________________\n",
      "batch_normalization_7 (BatchNor (None, 400, 300)     1200        conv1d_7[0][0]                   \n",
      "__________________________________________________________________________________________________\n",
      "global_max_pooling1d_1 (GlobalM (None, 300)          0           batch_normalization_4[0][0]      \n",
      "__________________________________________________________________________________________________\n",
      "global_max_pooling1d_2 (GlobalM (None, 300)          0           batch_normalization_5[0][0]      \n",
      "__________________________________________________________________________________________________\n",
      "global_max_pooling1d_3 (GlobalM (None, 300)          0           batch_normalization_6[0][0]      \n",
      "__________________________________________________________________________________________________\n",
      "global_max_pooling1d_4 (GlobalM (None, 300)          0           batch_normalization_7[0][0]      \n",
      "__________________________________________________________________________________________________\n",
      "concatenate_1 (Concatenate)     (None, 1200)         0           global_max_pooling1d_1[0][0]     \n",
      "                                                                 global_max_pooling1d_2[0][0]     \n",
      "                                                                 global_max_pooling1d_3[0][0]     \n",
      "                                                                 global_max_pooling1d_4[0][0]     \n",
      "__________________________________________________________________________________________________\n",
      "dropout_1 (Dropout)             (None, 1200)         0           concatenate_1[0][0]              \n",
      "__________________________________________________________________________________________________\n",
      "dense_3 (Dense)                 (None, 256)          307456      dropout_1[0][0]                  \n",
      "__________________________________________________________________________________________________\n",
      "batch_normalization_8 (BatchNor (None, 256)          1024        dense_3[0][0]                    \n",
      "__________________________________________________________________________________________________\n",
      "dropout_2 (Dropout)             (None, 256)          0           batch_normalization_8[0][0]      \n",
      "__________________________________________________________________________________________________\n",
      "dense_4 (Dense)                 (None, 256)          65792       dropout_2[0][0]                  \n",
      "__________________________________________________________________________________________________\n",
      "batch_normalization_9 (BatchNor (None, 256)          1024        dense_4[0][0]                    \n",
      "__________________________________________________________________________________________________\n",
      "dropout_3 (Dropout)             (None, 256)          0           batch_normalization_9[0][0]      \n",
      "__________________________________________________________________________________________________\n",
      "concatenate_2 (Concatenate)     (None, 1456)         0           dropout_1[0][0]                  \n",
      "                                                                 dropout_3[0][0]                  \n",
      "__________________________________________________________________________________________________\n",
      "concatenate_3 (Concatenate)     (None, 1456)         0           dropout_1[0][0]                  \n",
      "                                                                 dropout_3[0][0]                  \n",
      "__________________________________________________________________________________________________\n",
      "concatenate_4 (Concatenate)     (None, 1456)         0           dropout_1[0][0]                  \n",
      "                                                                 dropout_3[0][0]                  \n",
      "__________________________________________________________________________________________________\n",
      "concatenate_5 (Concatenate)     (None, 1456)         0           dropout_1[0][0]                  \n",
      "                                                                 dropout_3[0][0]                  \n",
      "__________________________________________________________________________________________________\n",
      "concatenate_6 (Concatenate)     (None, 1456)         0           dropout_1[0][0]                  \n",
      "                                                                 dropout_3[0][0]                  \n",
      "__________________________________________________________________________________________________\n",
      "concatenate_7 (Concatenate)     (None, 1456)         0           dropout_1[0][0]                  \n",
      "                                                                 dropout_3[0][0]                  \n",
      "__________________________________________________________________________________________________\n",
      "dense_6 (Dense)                 (None, 64)           93248       concatenate_2[0][0]              \n",
      "__________________________________________________________________________________________________\n",
      "dense_9 (Dense)                 (None, 64)           93248       concatenate_3[0][0]              \n",
      "__________________________________________________________________________________________________\n",
      "dense_12 (Dense)                (None, 64)           93248       concatenate_4[0][0]              \n",
      "__________________________________________________________________________________________________\n",
      "dense_15 (Dense)                (None, 64)           93248       concatenate_5[0][0]              \n",
      "__________________________________________________________________________________________________\n",
      "dense_18 (Dense)                (None, 64)           93248       concatenate_6[0][0]              \n",
      "__________________________________________________________________________________________________\n",
      "dense_21 (Dense)                (None, 64)           93248       concatenate_7[0][0]              \n",
      "__________________________________________________________________________________________________\n",
      "batch_normalization_10 (BatchNo (None, 64)           256         dense_6[0][0]                    \n",
      "__________________________________________________________________________________________________\n",
      "batch_normalization_12 (BatchNo (None, 64)           256         dense_9[0][0]                    \n",
      "__________________________________________________________________________________________________\n",
      "batch_normalization_14 (BatchNo (None, 64)           256         dense_12[0][0]                   \n",
      "__________________________________________________________________________________________________\n",
      "batch_normalization_16 (BatchNo (None, 64)           256         dense_15[0][0]                   \n",
      "__________________________________________________________________________________________________\n",
      "batch_normalization_18 (BatchNo (None, 64)           256         dense_18[0][0]                   \n",
      "__________________________________________________________________________________________________\n",
      "batch_normalization_20 (BatchNo (None, 64)           256         dense_21[0][0]                   \n",
      "__________________________________________________________________________________________________\n",
      "dropout_4 (Dropout)             (None, 64)           0           batch_normalization_10[0][0]     \n",
      "__________________________________________________________________________________________________\n",
      "dropout_6 (Dropout)             (None, 64)           0           batch_normalization_12[0][0]     \n",
      "__________________________________________________________________________________________________\n",
      "dropout_8 (Dropout)             (None, 64)           0           batch_normalization_14[0][0]     \n",
      "__________________________________________________________________________________________________\n",
      "dropout_10 (Dropout)            (None, 64)           0           batch_normalization_16[0][0]     \n",
      "__________________________________________________________________________________________________\n",
      "dropout_12 (Dropout)            (None, 64)           0           batch_normalization_18[0][0]     \n",
      "__________________________________________________________________________________________________\n",
      "dropout_14 (Dropout)            (None, 64)           0           batch_normalization_20[0][0]     \n",
      "__________________________________________________________________________________________________\n",
      "dense_7 (Dense)                 (None, 64)           4160        dropout_4[0][0]                  \n",
      "__________________________________________________________________________________________________\n",
      "dense_10 (Dense)                (None, 64)           4160        dropout_6[0][0]                  \n",
      "__________________________________________________________________________________________________\n",
      "dense_13 (Dense)                (None, 64)           4160        dropout_8[0][0]                  \n",
      "__________________________________________________________________________________________________\n",
      "dense_16 (Dense)                (None, 64)           4160        dropout_10[0][0]                 \n",
      "__________________________________________________________________________________________________\n",
      "dense_19 (Dense)                (None, 64)           4160        dropout_12[0][0]                 \n",
      "__________________________________________________________________________________________________\n",
      "dense_22 (Dense)                (None, 64)           4160        dropout_14[0][0]                 \n",
      "__________________________________________________________________________________________________\n",
      "batch_normalization_11 (BatchNo (None, 64)           256         dense_7[0][0]                    \n",
      "__________________________________________________________________________________________________\n",
      "batch_normalization_13 (BatchNo (None, 64)           256         dense_10[0][0]                   \n",
      "__________________________________________________________________________________________________\n",
      "batch_normalization_15 (BatchNo (None, 64)           256         dense_13[0][0]                   \n",
      "__________________________________________________________________________________________________\n",
      "batch_normalization_17 (BatchNo (None, 64)           256         dense_16[0][0]                   \n",
      "__________________________________________________________________________________________________\n",
      "batch_normalization_19 (BatchNo (None, 64)           256         dense_19[0][0]                   \n",
      "__________________________________________________________________________________________________\n",
      "batch_normalization_21 (BatchNo (None, 64)           256         dense_22[0][0]                   \n",
      "__________________________________________________________________________________________________\n",
      "dropout_5 (Dropout)             (None, 64)           0           batch_normalization_11[0][0]     \n",
      "__________________________________________________________________________________________________\n",
      "dropout_7 (Dropout)             (None, 64)           0           batch_normalization_13[0][0]     \n",
      "__________________________________________________________________________________________________\n",
      "dropout_9 (Dropout)             (None, 64)           0           batch_normalization_15[0][0]     \n",
      "__________________________________________________________________________________________________\n",
      "dropout_11 (Dropout)            (None, 64)           0           batch_normalization_17[0][0]     \n",
      "__________________________________________________________________________________________________\n",
      "dropout_13 (Dropout)            (None, 64)           0           batch_normalization_19[0][0]     \n",
      "__________________________________________________________________________________________________\n",
      "dropout_15 (Dropout)            (None, 64)           0           batch_normalization_21[0][0]     \n",
      "__________________________________________________________________________________________________\n",
      "dense_8 (Dense)                 (None, 1)            65          dropout_5[0][0]                  \n",
      "__________________________________________________________________________________________________\n",
      "dense_11 (Dense)                (None, 1)            65          dropout_7[0][0]                  \n",
      "__________________________________________________________________________________________________\n",
      "dense_14 (Dense)                (None, 1)            65          dropout_9[0][0]                  \n",
      "__________________________________________________________________________________________________\n",
      "dense_17 (Dense)                (None, 1)            65          dropout_11[0][0]                 \n",
      "__________________________________________________________________________________________________\n",
      "dense_20 (Dense)                (None, 1)            65          dropout_13[0][0]                 \n",
      "__________________________________________________________________________________________________\n",
      "dense_23 (Dense)                (None, 1)            65          dropout_15[0][0]                 \n",
      "__________________________________________________________________________________________________\n",
      "dense_5 (Dense)                 (None, 6)            1542        dropout_3[0][0]                  \n",
      "__________________________________________________________________________________________________\n",
      "concatenate_8 (Concatenate)     (None, 6)            0           dense_8[0][0]                    \n",
      "                                                                 dense_11[0][0]                   \n",
      "                                                                 dense_14[0][0]                   \n",
      "                                                                 dense_17[0][0]                   \n",
      "                                                                 dense_20[0][0]                   \n",
      "                                                                 dense_23[0][0]                   \n",
      "__________________________________________________________________________________________________\n",
      "add_1 (Add)                     (None, 6)            0           dense_5[0][0]                    \n",
      "                                                                 concatenate_8[0][0]              \n",
      "==================================================================================================\n",
      "Total params: 20,325,849\n",
      "Trainable params: 2,319,089\n",
      "Non-trainable params: 18,006,760\n",
      "__________________________________________________________________________________________________\n"
     ]
    }
   ],
   "source": [
    "maxWords = 30000\n",
    "maxSequenceLengthInWords = 400\n",
    "embeddingDimension = 300\n",
    "filtersNumber = 300\n",
    "\n",
    "input_layer = Input(shape=(maxSequenceLengthInWords,))\n",
    "\n",
    "pretrained_embedding_layer = Embedding(\n",
    "    maxWords, \n",
    "    output_dim=embeddingDimension, \n",
    "    input_length=maxSequenceLengthInWords,\n",
    "    weights = [np.load('fast_text_embeddings.npy')],\n",
    "    trainable = False\n",
    ")(input_layer)\n",
    "pretrained_embedding_layer = SpatialDropout1D(0.2)(pretrained_embedding_layer)\n",
    "\n",
    "custom_embedding_layer = Embedding(\n",
    "    maxWords, \n",
    "    output_dim=embeddingDimension, \n",
    "    input_length=maxSequenceLengthInWords,\n",
    "    weights = [np.load('custom_fast_text_embeddings.npy')],\n",
    "    trainable = False\n",
    ")(input_layer)\n",
    "custom_embedding_layer = SpatialDropout1D(0.2)(custom_embedding_layer)\n",
    "\n",
    "embedding = Average()([pretrained_embedding_layer, custom_embedding_layer])\n",
    "embedding_dropout = SpatialDropout1D(0.2)(embedding)\n",
    "\n",
    "embedding_dropout = SelfAttention()(embedding_dropout)\n",
    "\n",
    "features_1 = one_by_one(filtersNumber, embedding_dropout)\n",
    "features_2 = one_by_one(filtersNumber, features_1)\n",
    "features_3 = one_by_one(filtersNumber, features_2)\n",
    "\n",
    "features = yoon_kim_feature_extractor(filtersNumber, features_3)\n",
    "\n",
    "\n",
    "dense_1 = Dense(256, activation = 'elu')(features)\n",
    "dense_1_normalization = BatchNormalization()(dense_1)\n",
    "dense_1_dropout = Dropout(0.2)(dense_1_normalization)\n",
    "\n",
    "dense_2 = Dense(256, activation = 'elu')(dense_1_dropout)\n",
    "dense_2_normalization = BatchNormalization()(dense_2)\n",
    "dense_2_dropout = Dropout(0.2)(dense_2_normalization)\n",
    "\n",
    "output_layer = Dense(6, activation='sigmoid')(dense_2_dropout)\n",
    "\n",
    "single_category_layer = concatenate([\n",
    "    single_category_regressor(features, dense_2_dropout, 64),\n",
    "    single_category_regressor(features, dense_2_dropout, 64),\n",
    "    single_category_regressor(features, dense_2_dropout, 64),\n",
    "    single_category_regressor(features, dense_2_dropout, 64),\n",
    "    single_category_regressor(features, dense_2_dropout, 64),\n",
    "    single_category_regressor(features, dense_2_dropout, 64),\n",
    "])\n",
    "\n",
    "output_layer = add([output_layer, single_category_layer])\n",
    "\n",
    "model = Model(inputs=[input_layer], outputs=[output_layer])\n",
    "            \n",
    "model.summary()\n",
    "\n",
    "model.compile(\n",
    "    loss='binary_crossentropy', \n",
    "    optimizer='Adam',\n",
    "    metrics=['accuracy']\n",
    ")"
   ]
  },
  {
   "cell_type": "code",
   "execution_count": 13,
   "metadata": {
    "colab": {
     "autoexec": {
      "startup": false,
      "wait_interval": 0
     },
     "base_uri": "https://localhost:8080/",
     "height": 1516
    },
    "colab_type": "code",
    "executionInfo": {
     "elapsed": 24052922,
     "status": "ok",
     "timestamp": 1530733167306,
     "user": {
      "displayName": "Deep Learning",
      "photoUrl": "https://lh3.googleusercontent.com/a/default-user=s128",
      "userId": "115257841230779963257"
     },
     "user_tz": -120
    },
    "id": "xwMmTewgXynz",
    "outputId": "90affa06-ca86-4bf8-c0e1-fdc5615fce30"
   },
   "outputs": [
    {
     "name": "stdout",
     "output_type": "stream",
     "text": [
      "Train on 102124 samples, validate on 25532 samples\n",
      "Epoch 1/32\n",
      " 20864/102124 [=====>........................] - ETA: 8:39 - loss: 4.5988 - acc: 0.4996 63744/102124 [=================>............] - ETA: 3:54 - loss: 2.0006 - acc: 0.7537100224/102124 [============================>.] - ETA: 11s - loss: 1.3362 - acc: 0.8290102124/102124 [==============================] - 659s 6ms/step - loss: 1.3138 - acc: 0.8316 - val_loss: 0.0981 - val_acc: 0.9731\n",
      "Epoch 2/32\n",
      " 13280/102124 [==>...........................] - ETA: 8:51 - loss: 0.1404 - acc: 0.9652 57952/102124 [================>.............] - ETA: 4:23 - loss: 0.1224 - acc: 0.9668 96736/102124 [===========================>..] - ETA: 32s - loss: 0.1086 - acc: 0.9691102124/102124 [==============================] - 650s 6ms/step - loss: 0.1071 - acc: 0.9694 - val_loss: 0.0802 - val_acc: 0.9746\n",
      "roc-auc: 0.963 - roc-auc_val: 0.957                                                                                                    \n",
      "Epoch 3/32\n",
      "  7488/102124 [=>............................] - ETA: 9:24 - loss: 0.0788 - acc: 0.9747 45024/102124 [============>.................] - ETA: 5:40 - loss: 0.0741 - acc: 0.9757 84960/102124 [=======================>......] - ETA: 1:42 - loss: 0.0722 - acc: 0.9760102124/102124 [==============================] - 651s 6ms/step - loss: 0.0714 - acc: 0.9761 - val_loss: 0.1740 - val_acc: 0.9628\n",
      "Epoch 4/32\n",
      "  7264/102124 [=>............................] - ETA: 9:27 - loss: 0.0696 - acc: 0.9761 44256/102124 [============>.................] - ETA: 5:46 - loss: 0.0639 - acc: 0.9780 84896/102124 [=======================>......] - ETA: 1:43 - loss: 0.0618 - acc: 0.9784102124/102124 [==============================] - 652s 6ms/step - loss: 0.0619 - acc: 0.9782 - val_loss: 0.0558 - val_acc: 0.9809\n",
      "roc-auc: 0.9811 - roc-auc_val: 0.9778                                                                                                    \n",
      "Epoch 5/32\n",
      "  4544/102124 [>.............................] - ETA: 9:41 - loss: 0.0563 - acc: 0.9794 46272/102124 [============>.................] - ETA: 5:33 - loss: 0.0584 - acc: 0.9788 82624/102124 [=======================>......] - ETA: 1:56 - loss: 0.0585 - acc: 0.9789102124/102124 [==============================] - 651s 6ms/step - loss: 0.0578 - acc: 0.9791 - val_loss: 0.0598 - val_acc: 0.9804\n",
      "Epoch 6/32\n",
      "  6432/102124 [>.............................] - ETA: 9:33 - loss: 0.0546 - acc: 0.9791 44096/102124 [===========>..................] - ETA: 5:47 - loss: 0.0555 - acc: 0.9796 84064/102124 [=======================>......] - ETA: 1:48 - loss: 0.0541 - acc: 0.9800102124/102124 [==============================] - 652s 6ms/step - loss: 0.0537 - acc: 0.9801 - val_loss: 0.0893 - val_acc: 0.9755\n",
      "\n",
      "Epoch 00006: ReduceLROnPlateau reducing learning rate to 0.00029730176902376115.\n",
      "roc-auc: 0.9749 - roc-auc_val: 0.9746                                                                                                    \n",
      "Epoch 7/32\n",
      "  3520/102124 [>.............................] - ETA: 9:48 - loss: 0.0527 - acc: 0.9804 43232/102124 [===========>..................] - ETA: 5:52 - loss: 0.0509 - acc: 0.9808 81024/102124 [======================>.......] - ETA: 2:06 - loss: 0.0505 - acc: 0.9809102124/102124 [==============================] - 652s 6ms/step - loss: 0.0507 - acc: 0.9809 - val_loss: 0.0811 - val_acc: 0.9761\n",
      "Epoch 8/32\n",
      "  5792/102124 [>.............................] - ETA: 9:36 - loss: 0.0454 - acc: 0.9829 43360/102124 [===========>..................] - ETA: 5:51 - loss: 0.0493 - acc: 0.9813 82944/102124 [=======================>......] - ETA: 1:54 - loss: 0.0486 - acc: 0.9816102124/102124 [==============================] - 652s 6ms/step - loss: 0.0488 - acc: 0.9815 - val_loss: 0.0492 - val_acc: 0.9816\n",
      "roc-auc: 0.9818 - roc-auc_val: 0.9797                                                                                                    \n",
      "Epoch 9/32\n",
      "  4096/102124 [>.............................] - ETA: 9:42 - loss: 0.0450 - acc: 0.9827 41056/102124 [===========>..................] - ETA: 6:03 - loss: 0.0480 - acc: 0.9821 81792/102124 [=======================>......] - ETA: 2:01 - loss: 0.0480 - acc: 0.9820102124/102124 [==============================] - 650s 6ms/step - loss: 0.0476 - acc: 0.9820 - val_loss: 0.0432 - val_acc: 0.9839\n",
      "Epoch 10/32\n",
      "  5984/102124 [>.............................] - ETA: 9:35 - loss: 0.0456 - acc: 0.9822 41600/102124 [===========>..................] - ETA: 6:02 - loss: 0.0466 - acc: 0.9822 77984/102124 [=====================>........] - ETA: 2:24 - loss: 0.0464 - acc: 0.9824102124/102124 [==============================] - 652s 6ms/step - loss: 0.0463 - acc: 0.9824 - val_loss: 0.1048 - val_acc: 0.9593\n",
      "roc-auc: 0.9795 - roc-auc_val: 0.9745                                                                                                    \n",
      "Epoch 11/32\n",
      "  2848/102124 [..............................] - ETA: 9:52 - loss: 0.0436 - acc: 0.9827 41376/102124 [===========>..................] - ETA: 6:03 - loss: 0.0454 - acc: 0.9829 78336/102124 [======================>.......] - ETA: 2:22 - loss: 0.0455 - acc: 0.9828102124/102124 [==============================] - 652s 6ms/step - loss: 0.0454 - acc: 0.9828 - val_loss: 0.0449 - val_acc: 0.9822\n",
      "Epoch 12/32\n",
      "  4672/102124 [>.............................] - ETA: 9:43 - loss: 0.0454 - acc: 0.9824 42528/102124 [===========>..................] - ETA: 5:56 - loss: 0.0461 - acc: 0.9817 89664/102124 [=========================>....] - ETA: 1:14 - loss: 0.0451 - acc: 0.9825102124/102124 [==============================] - 650s 6ms/step - loss: 0.0451 - acc: 0.9825 - val_loss: 0.0455 - val_acc: 0.9812\n",
      "roc-auc: 0.9898 - roc-auc_val: 0.9868                                                                                                    \n",
      "Epoch 13/32\n",
      "  5632/102124 [>.............................] - ETA: 9:35 - loss: 0.0402 - acc: 0.9835 48800/102124 [=============>................] - ETA: 5:18 - loss: 0.0438 - acc: 0.9829 85792/102124 [========================>.....] - ETA: 1:37 - loss: 0.0439 - acc: 0.9829102124/102124 [==============================] - 652s 6ms/step - loss: 0.0438 - acc: 0.9829 - val_loss: 0.0420 - val_acc: 0.9835\n",
      "Epoch 14/32\n",
      "  7552/102124 [=>............................] - ETA: 9:26 - loss: 0.0434 - acc: 0.9831 46272/102124 [============>.................] - ETA: 5:34 - loss: 0.0435 - acc: 0.9829 83936/102124 [=======================>......] - ETA: 1:48 - loss: 0.0437 - acc: 0.9830102124/102124 [==============================] - 652s 6ms/step - loss: 0.0435 - acc: 0.9831 - val_loss: 0.0418 - val_acc: 0.9842\n",
      "roc-auc: 0.9908 - roc-auc_val: 0.986                                                                                                    \n",
      "Epoch 15/32\n",
      "  4352/102124 [>.............................] - ETA: 9:45 - loss: 0.0418 - acc: 0.9834 53568/102124 [==============>...............] - ETA: 4:50 - loss: 0.0427 - acc: 0.9834 91136/102124 [=========================>....] - ETA: 1:05 - loss: 0.0428 - acc: 0.9834102124/102124 [==============================] - 652s 6ms/step - loss: 0.0428 - acc: 0.9834 - val_loss: 0.0446 - val_acc: 0.9835\n",
      "Epoch 16/32\n",
      "  9696/102124 [=>............................] - ETA: 9:11 - loss: 0.0408 - acc: 0.9842 46976/102124 [============>.................] - ETA: 5:29 - loss: 0.0425 - acc: 0.9835 85760/102124 [========================>.....] - ETA: 1:37 - loss: 0.0424 - acc: 0.9835102124/102124 [==============================] - 651s 6ms/step - loss: 0.0424 - acc: 0.9835 - val_loss: 0.0418 - val_acc: 0.9838\n",
      "roc-auc: 0.986 - roc-auc_val: 0.9799                                                                                                    \n",
      "Epoch 17/32\n",
      "  4640/102124 [>.............................] - ETA: 9:37 - loss: 0.0389 - acc: 0.9844 41376/102124 [===========>..................] - ETA: 6:02 - loss: 0.0409 - acc: 0.9832 79488/102124 [======================>.......] - ETA: 2:15 - loss: 0.0416 - acc: 0.9829102124/102124 [==============================] - 651s 6ms/step - loss: 0.0416 - acc: 0.9829 - val_loss: 0.0410 - val_acc: 0.9842\n",
      "Epoch 18/32\n"
     ]
    },
    {
     "name": "stdout",
     "output_type": "stream",
     "text": [
      "  5280/102124 [>.............................] - ETA: 9:40 - loss: 0.0438 - acc: 0.9828 45344/102124 [============>.................] - ETA: 5:39 - loss: 0.0405 - acc: 0.9838 84672/102124 [=======================>......] - ETA: 1:44 - loss: 0.0408 - acc: 0.9838102124/102124 [==============================] - 651s 6ms/step - loss: 0.0410 - acc: 0.9838 - val_loss: 0.0413 - val_acc: 0.9844\n",
      "roc-auc: 0.9927 - roc-auc_val: 0.9864                                                                                                    \n",
      "Epoch 19/32\n",
      "  4416/102124 [>.............................] - ETA: 9:43 - loss: 0.0478 - acc: 0.9816 42880/102124 [===========>..................] - ETA: 5:54 - loss: 0.0413 - acc: 0.9838 81696/102124 [======================>.......] - ETA: 2:02 - loss: 0.0408 - acc: 0.9840102124/102124 [==============================] - 651s 6ms/step - loss: 0.0409 - acc: 0.9840 - val_loss: 0.0412 - val_acc: 0.9844\n",
      "\n",
      "Epoch 00019: ReduceLROnPlateau reducing learning rate to 7.694652595091611e-05.\n",
      "Epoch 20/32\n",
      "  4320/102124 [>.............................] - ETA: 9:45 - loss: 0.0428 - acc: 0.9836 43808/102124 [===========>..................] - ETA: 5:48 - loss: 0.0403 - acc: 0.9839 80544/102124 [======================>.......] - ETA: 2:09 - loss: 0.0406 - acc: 0.9836102124/102124 [==============================] - 652s 6ms/step - loss: 0.0404 - acc: 0.9837 - val_loss: 0.0411 - val_acc: 0.9836\n",
      "roc-auc: 0.9922 - roc-auc_val: 0.9847                                                                                                    \n",
      "Epoch 21/32\n",
      "  3520/102124 [>.............................] - ETA: 9:43 - loss: 0.0386 - acc: 0.9838 40736/102124 [==========>...................] - ETA: 6:05 - loss: 0.0400 - acc: 0.9835 87296/102124 [========================>.....] - ETA: 1:28 - loss: 0.0395 - acc: 0.9838102124/102124 [==============================] - 648s 6ms/step - loss: 0.0397 - acc: 0.9837 - val_loss: 0.0419 - val_acc: 0.9836\n",
      "Epoch 22/32\n",
      "  8224/102124 [=>............................] - ETA: 9:17 - loss: 0.0369 - acc: 0.9840 56544/102124 [===============>..............] - ETA: 4:31 - loss: 0.0402 - acc: 0.9834 97376/102124 [===========================>..] - ETA: 28s - loss: 0.0400 - acc: 0.9833102124/102124 [==============================] - 648s 6ms/step - loss: 0.0399 - acc: 0.9833 - val_loss: 0.0412 - val_acc: 0.9842\n",
      "roc-auc: 0.9926 - roc-auc_val: 0.9849                                                                                                    \n",
      "Epoch 23/32\n",
      "  7456/102124 [=>............................] - ETA: 9:21 - loss: 0.0390 - acc: 0.9837 50304/102124 [=============>................] - ETA: 5:07 - loss: 0.0401 - acc: 0.9835 89632/102124 [=========================>....] - ETA: 1:14 - loss: 0.0397 - acc: 0.9837102124/102124 [==============================] - 647s 6ms/step - loss: 0.0396 - acc: 0.9837 - val_loss: 0.0409 - val_acc: 0.9838\n",
      "Epoch 24/32\n",
      "  9184/102124 [=>............................] - ETA: 9:12 - loss: 0.0406 - acc: 0.9832 46496/102124 [============>.................] - ETA: 5:30 - loss: 0.0395 - acc: 0.9838 95328/102124 [===========================>..] - ETA: 40s - loss: 0.0391 - acc: 0.9841102124/102124 [==============================] - 647s 6ms/step - loss: 0.0391 - acc: 0.9841 - val_loss: 0.0409 - val_acc: 0.9841\n",
      "roc-auc: 0.9942 - roc-auc_val: 0.9874                                                                                                    \n",
      "Epoch 25/32\n",
      "  7040/102124 [=>............................] - ETA: 9:24 - loss: 0.0376 - acc: 0.9841 50784/102124 [=============>................] - ETA: 5:04 - loss: 0.0382 - acc: 0.9843 96000/102124 [===========================>..] - ETA: 36s - loss: 0.0387 - acc: 0.9842102124/102124 [==============================] - 647s 6ms/step - loss: 0.0385 - acc: 0.9843 - val_loss: 0.0407 - val_acc: 0.9840\n",
      "Epoch 26/32\n",
      " 11616/102124 [==>...........................] - ETA: 8:54 - loss: 0.0386 - acc: 0.9841 49280/102124 [=============>................] - ETA: 5:12 - loss: 0.0385 - acc: 0.9842 90656/102124 [=========================>....] - ETA: 1:08 - loss: 0.0388 - acc: 0.9842102124/102124 [==============================] - 646s 6ms/step - loss: 0.0387 - acc: 0.9843 - val_loss: 0.0419 - val_acc: 0.9841\n",
      "roc-auc: 0.9941 - roc-auc_val: 0.9866                                                                                                    \n",
      "Epoch 27/32\n",
      "  5920/102124 [>.............................] - ETA: 9:31 - loss: 0.0378 - acc: 0.9850 44224/102124 [===========>..................] - ETA: 5:43 - loss: 0.0376 - acc: 0.9845102112/102124 [============================>.] - ETA: 0s - loss: 0.0381 - acc: 0.9843102124/102124 [==============================] - 647s 6ms/step - loss: 0.0381 - acc: 0.9843 - val_loss: 0.0412 - val_acc: 0.9843\n",
      "Epoch 28/32\n",
      " 13952/102124 [===>..........................] - ETA: 8:43 - loss: 0.0358 - acc: 0.9855 53248/102124 [==============>...............] - ETA: 4:50 - loss: 0.0373 - acc: 0.9849 91776/102124 [=========================>....] - ETA: 1:01 - loss: 0.0381 - acc: 0.9847102124/102124 [==============================] - 647s 6ms/step - loss: 0.0380 - acc: 0.9847 - val_loss: 0.0413 - val_acc: 0.9843\n",
      "roc-auc: 0.9938 - roc-auc_val: 0.9859                                                                                                    \n",
      "Epoch 29/32\n",
      "  6208/102124 [>.............................] - ETA: 9:29 - loss: 0.0384 - acc: 0.9847 47744/102124 [=============>................] - ETA: 5:22 - loss: 0.0378 - acc: 0.9847 85184/102124 [========================>.....] - ETA: 1:40 - loss: 0.0377 - acc: 0.9846102124/102124 [==============================] - 646s 6ms/step - loss: 0.0376 - acc: 0.9846 - val_loss: 0.0419 - val_acc: 0.9837\n",
      "Epoch 30/32\n",
      "  7360/102124 [=>............................] - ETA: 9:21 - loss: 0.0363 - acc: 0.9846 53056/102124 [==============>...............] - ETA: 4:50 - loss: 0.0376 - acc: 0.9844 89952/102124 [=========================>....] - ETA: 1:12 - loss: 0.0375 - acc: 0.9843102124/102124 [==============================] - 646s 6ms/step - loss: 0.0375 - acc: 0.9842 - val_loss: 0.0421 - val_acc: 0.9835\n",
      "\n",
      "Epoch 00030: ReduceLROnPlateau reducing learning rate to 2.4518252757843584e-05.\n",
      "roc-auc: 0.9927 - roc-auc_val: 0.9843                                                                                                    \n",
      "Epoch 31/32\n",
      "  4736/102124 [>.............................] - ETA: 9:37 - loss: 0.0359 - acc: 0.9850 43232/102124 [===========>..................] - ETA: 5:49 - loss: 0.0377 - acc: 0.9840 83584/102124 [=======================>......] - ETA: 1:49 - loss: 0.0375 - acc: 0.9840102124/102124 [==============================] - 646s 6ms/step - loss: 0.0377 - acc: 0.9838 - val_loss: 0.0413 - val_acc: 0.9833\n",
      "Epoch 32/32\n",
      "  6880/102124 [=>............................] - ETA: 9:26 - loss: 0.0385 - acc: 0.9835 53728/102124 [==============>...............] - ETA: 4:50 - loss: 0.0379 - acc: 0.9838 95680/102124 [===========================>..] - ETA: 38s - loss: 0.0374 - acc: 0.9842102124/102124 [==============================] - 650s 6ms/step - loss: 0.0373 - acc: 0.9843 - val_loss: 0.0416 - val_acc: 0.9839\n",
      "roc-auc: 0.9939 - roc-auc_val: 0.9855                                                                                                    \n"
     ]
    }
   ],
   "source": [
    "history = train_with_cv(model, batchSize=32, rocEvery = 2)"
   ]
  },
  {
   "cell_type": "code",
   "execution_count": 14,
   "metadata": {
    "colab": {
     "autoexec": {
      "startup": false,
      "wait_interval": 0
     },
     "base_uri": "https://localhost:8080/",
     "height": 294
    },
    "colab_type": "code",
    "executionInfo": {
     "elapsed": 3241,
     "status": "ok",
     "timestamp": 1530733170561,
     "user": {
      "displayName": "Deep Learning",
      "photoUrl": "https://lh3.googleusercontent.com/a/default-user=s128",
      "userId": "115257841230779963257"
     },
     "user_tz": -120
    },
    "id": "sms3R-U4469B",
    "outputId": "dcfd2cb3-8cf5-4dc3-e167-7f02a662ac79"
   },
   "outputs": [
    {
     "data": {
      "image/png": "[encoded data removed]",
      "text/plain": [
       "<matplotlib.figure.Figure at 0x7f1a501a3400>"
      ]
     },
     "metadata": {
      "tags": []
     },
     "output_type": "display_data"
    }
   ],
   "source": [
    "plot_history(history)"
   ]
  },
  {
   "cell_type": "code",
   "execution_count": 15,
   "metadata": {
    "colab": {
     "autoexec": {
      "startup": false,
      "wait_interval": 0
     },
     "base_uri": "https://localhost:8080/",
     "height": 51
    },
    "colab_type": "code",
    "executionInfo": {
     "elapsed": 105180,
     "status": "ok",
     "timestamp": 1530733276763,
     "user": {
      "displayName": "Deep Learning",
      "photoUrl": "https://lh3.googleusercontent.com/a/default-user=s128",
      "userId": "115257841230779963257"
     },
     "user_tz": -120
    },
    "id": "r2gtMBj2Tp9A",
    "outputId": "432fdbbd-d464-4394-fe5c-07a3222e8ba8"
   },
   "outputs": [
    {
     "name": "stdout",
     "output_type": "stream",
     "text": [
      "31915/31915 [==============================] - 55s 2ms/step\n",
      "([0.03973785038513953, 0.9838999297109756], 0.9879793847394406)\n"
     ]
    }
   ],
   "source": [
    "print(evaluate_on_test(model))"
   ]
  }
 ],
 "metadata": {
  "accelerator": "GPU",
  "colab": {
   "collapsed_sections": [],
   "default_view": {},
   "name": "combined_context_with_each_add_64.ipynb",
   "provenance": [],
   "version": "0.3.2",
   "views": {}
  },
  "kernelspec": {
   "display_name": "Python 3",
   "language": "python",
   "name": "python3"
  },
  "language_info": {
   "codemirror_mode": {
    "name": "ipython",
    "version": 3
   },
   "file_extension": ".py",
   "mimetype": "text/x-python",
   "name": "python",
   "nbconvert_exporter": "python",
   "pygments_lexer": "ipython3",
   "version": "3.6.2"
  }
 },
 "nbformat": 4,
 "nbformat_minor": 1
}

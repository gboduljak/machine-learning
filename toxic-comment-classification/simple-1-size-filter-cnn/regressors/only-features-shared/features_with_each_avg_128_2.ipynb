{
 "cells": [
  {
   "cell_type": "code",
   "execution_count": 1,
   "metadata": {
    "colab": {
     "autoexec": {
      "startup": false,
      "wait_interval": 0
     },
     "base_uri": "https://localhost:8080/",
     "height": 411
    },
    "colab_type": "code",
    "executionInfo": {
     "elapsed": 13330,
     "status": "ok",
     "timestamp": 1530888584406,
     "user": {
      "displayName": "Deep Learner",
      "photoUrl": "https://lh3.googleusercontent.com/a/default-user=s128",
      "userId": "102934620980301123540"
     },
     "user_tz": -120
    },
    "id": "yS1FnhiWX3Js",
    "outputId": "8d86d816-58ff-49f8-8145-309ef6e67041"
   },
   "outputs": [
    {
     "name": "stdout",
     "output_type": "stream",
     "text": [
      "Requirement already satisfied: keras in /usr/local/lib/python3.6/dist-packages (2.1.6)\r\n",
      "Requirement already satisfied: scipy>=0.14 in /usr/local/lib/python3.6/dist-packages (from keras) (0.19.1)\r\n",
      "Requirement already satisfied: pyyaml in /usr/local/lib/python3.6/dist-packages (from keras) (3.12)\r\n",
      "Requirement already satisfied: numpy>=1.9.1 in /usr/local/lib/python3.6/dist-packages (from keras) (1.14.5)\r\n",
      "Requirement already satisfied: six>=1.9.0 in /usr/local/lib/python3.6/dist-packages (from keras) (1.11.0)\r\n",
      "Requirement already satisfied: h5py in /usr/local/lib/python3.6/dist-packages (from keras) (2.8.0)\n",
      "Collecting sklearn\n",
      "  Downloading https://files.pythonhosted.org/packages/1e/7a/dbb3be0ce9bd5c8b7e3d87328e79063f8b263b2b1bfa4774cb1147bfcd3f/sklearn-0.0.tar.gz\n",
      "Requirement already satisfied: scikit-learn in /usr/local/lib/python3.6/dist-packages (from sklearn) (0.19.1)\n",
      "Building wheels for collected packages: sklearn\n",
      "  Running setup.py bdist_wheel for sklearn ... \u001b[?25l-\b \b\\\b \bdone\n",
      "\u001b[?25h  Stored in directory: /content/.cache/pip/wheels/76/03/bb/589d421d27431bcd2c6da284d5f2286c8e3b2ea3cf1594c074\n",
      "Successfully built sklearn\n",
      "Installing collected packages: sklearn\n",
      "Successfully installed sklearn-0.0\n",
      "Requirement already satisfied: matplotlib in /usr/local/lib/python3.6/dist-packages (2.1.2)\n",
      "Requirement already satisfied: numpy>=1.7.1 in /usr/local/lib/python3.6/dist-packages (from matplotlib) (1.14.5)\n",
      "Requirement already satisfied: pyparsing!=2.0.4,!=2.1.2,!=2.1.6,>=2.0.1 in /usr/local/lib/python3.6/dist-packages (from matplotlib) (2.2.0)\n",
      "Requirement already satisfied: six>=1.10 in /usr/local/lib/python3.6/dist-packages (from matplotlib) (1.11.0)\n",
      "Requirement already satisfied: python-dateutil>=2.1 in /usr/local/lib/python3.6/dist-packages (from matplotlib) (2.5.3)\n",
      "Requirement already satisfied: cycler>=0.10 in /usr/local/lib/python3.6/dist-packages (from matplotlib) (0.10.0)\n",
      "Requirement already satisfied: pytz in /usr/local/lib/python3.6/dist-packages (from matplotlib) (2018.5)\n"
     ]
    }
   ],
   "source": [
    "!pip install keras\n",
    "!pip install sklearn\n",
    "!pip install matplotlib\n",
    "!pip install -U -q PyDrive"
   ]
  },
  {
   "cell_type": "code",
   "execution_count": 2,
   "metadata": {
    "colab": {
     "autoexec": {
      "startup": false,
      "wait_interval": 0
     },
     "base_uri": "https://localhost:8080/",
     "height": 34
    },
    "colab_type": "code",
    "executionInfo": {
     "elapsed": 8955,
     "status": "ok",
     "timestamp": 1530888593412,
     "user": {
      "displayName": "Deep Learner",
      "photoUrl": "https://lh3.googleusercontent.com/a/default-user=s128",
      "userId": "102934620980301123540"
     },
     "user_tz": -120
    },
    "id": "xlKzkDJFrjA-",
    "outputId": "3872b302-07ba-442f-a02b-1041122e9a6f"
   },
   "outputs": [
    {
     "name": "stderr",
     "output_type": "stream",
     "text": [
      "Using TensorFlow backend.\n"
     ]
    }
   ],
   "source": [
    "from keras import backend as K\n",
    "K.clear_session()"
   ]
  },
  {
   "cell_type": "code",
   "execution_count": 0,
   "metadata": {
    "colab": {
     "autoexec": {
      "startup": false,
      "wait_interval": 0
     }
    },
    "colab_type": "code",
    "id": "eQEKwl4oAxO7"
   },
   "outputs": [],
   "source": [
    "from keras import backend as K\n",
    "cfg = K.tf.ConfigProto()\n",
    "cfg.gpu_options.allow_growth = True\n",
    "K.set_session(K.tf.Session(config=cfg))"
   ]
  },
  {
   "cell_type": "code",
   "execution_count": 0,
   "metadata": {
    "colab": {
     "autoexec": {
      "startup": false,
      "wait_interval": 0
     }
    },
    "colab_type": "code",
    "id": "12M0egCCX-27"
   },
   "outputs": [],
   "source": [
    "from pydrive.auth import GoogleAuth\n",
    "from pydrive.drive import GoogleDrive\n",
    "from google.colab import auth\n",
    "from oauth2client.client import GoogleCredentials\n",
    "\n",
    "auth.authenticate_user()\n",
    "gauth = GoogleAuth()\n",
    "gauth.credentials = GoogleCredentials.get_application_default()\n",
    "drive = GoogleDrive(gauth)"
   ]
  },
  {
   "cell_type": "code",
   "execution_count": 0,
   "metadata": {
    "colab": {
     "autoexec": {
      "startup": false,
      "wait_interval": 0
     }
    },
    "colab_type": "code",
    "id": "4lN2WTUEYBYv"
   },
   "outputs": [],
   "source": [
    "file_import = drive.CreateFile({'id':'1p1bsltfTcIrZ_kfE6kwGTPzcdXorHbb2'})\n",
    "file_import.GetContentFile('colab_setup.py') \n",
    "from colab_setup import setup\n",
    "\n",
    "setup(drive)"
   ]
  },
  {
   "cell_type": "code",
   "execution_count": 6,
   "metadata": {
    "colab": {
     "autoexec": {
      "startup": false,
      "wait_interval": 0
     },
     "base_uri": "https://localhost:8080/",
     "height": 119
    },
    "colab_type": "code",
    "executionInfo": {
     "elapsed": 1638,
     "status": "ok",
     "timestamp": 1530888694409,
     "user": {
      "displayName": "Deep Learner",
      "photoUrl": "https://lh3.googleusercontent.com/a/default-user=s128",
      "userId": "102934620980301123540"
     },
     "user_tz": -120
    },
    "id": "cHBlD0tVj2TY",
    "outputId": "f1241caf-61ca-4094-ee3f-a118aa1910dd"
   },
   "outputs": [
    {
     "name": "stdout",
     "output_type": "stream",
     "text": [
      "colab_setup.py\t\t\t roc_auc_callback.py\tX_train.npy\r\n",
      "custom_fast_text_embeddings.npy  sample_submission.csv\tX_val.npy\r\n",
      "datalab\t\t\t\t train_model.py\t\ty_test.npy\r\n",
      "fast_text_embeddings.npy\t X_submission.npy\ty_train_full.npy\r\n",
      "plot_history.py\t\t\t X_test.npy\t\ty_train.npy\r\n",
      "__pycache__\t\t\t X_train_full.npy\ty_val.npy\r\n"
     ]
    }
   ],
   "source": [
    "!ls"
   ]
  },
  {
   "cell_type": "code",
   "execution_count": 0,
   "metadata": {
    "colab": {
     "autoexec": {
      "startup": false,
      "wait_interval": 0
     }
    },
    "colab_type": "code",
    "id": "yMwWPTMYXyno"
   },
   "outputs": [],
   "source": [
    "import numpy as np\n",
    "import os\n",
    "\n",
    "from plot_history import plot_history\n",
    "from roc_auc_callback import RocAucCallback\n",
    "from train_model import train_with_cv, train_with_submitting, evaluate_on_test\n",
    "\n",
    "from keras.models import Model\n",
    "from keras.layers import *\n",
    "from keras.layers.merge import concatenate"
   ]
  },
  {
   "cell_type": "code",
   "execution_count": 0,
   "metadata": {
    "colab": {
     "autoexec": {
      "startup": false,
      "wait_interval": 0
     }
    },
    "colab_type": "code",
    "id": "3YXiQ6IRovcY"
   },
   "outputs": [],
   "source": [
    "file_import = drive.CreateFile({'id':'15j1Nou6m5WNLejJQrUcty6U03xsIgIAI'})\n",
    "file_import.GetContentFile('SelfAttention.py') \n",
    "\n",
    "from SelfAttention import SelfAttention"
   ]
  },
  {
   "cell_type": "code",
   "execution_count": 0,
   "metadata": {
    "colab": {
     "autoexec": {
      "startup": false,
      "wait_interval": 0
     }
    },
    "colab_type": "code",
    "id": "MIWjPi9bs5d4"
   },
   "outputs": [],
   "source": [
    "def one_by_one(filtersNumber, inputLayer, dropout = 0.2):\n",
    "    one_by_one = Conv1D(filtersNumber, 1, activation = 'elu', padding = 'same', kernel_initializer = 'he_uniform')(inputLayer)\n",
    "    one_by_one = BatchNormalization()(one_by_one)\n",
    "    one_by_one = SpatialDropout1D(dropout)(one_by_one)\n",
    "    \n",
    "    return one_by_one"
   ]
  },
  {
   "cell_type": "code",
   "execution_count": 0,
   "metadata": {
    "colab": {
     "autoexec": {
      "startup": false,
      "wait_interval": 0
     }
    },
    "colab_type": "code",
    "id": "mRg7bBAFoL7b"
   },
   "outputs": [],
   "source": [
    "def yoon_kim_feature_extractor(filtersNumber, inputLayer):\n",
    "    block_1_conv_1 = Conv1D(filtersNumber, 1, activation = 'elu', padding = 'same', kernel_initializer = 'he_uniform')(inputLayer)\n",
    "    block_1_batchnorm1 = BatchNormalization()(block_1_conv_1)\n",
    "    block_1_max_pool1 = GlobalMaxPooling1D()(block_1_batchnorm1)\n",
    "\n",
    "    block_1_conv_2 = Conv1D(filtersNumber, 2, activation = 'elu', padding = 'same', kernel_initializer = 'he_uniform')(inputLayer)\n",
    "    block_1_batchnorm2 = BatchNormalization()(block_1_conv_2)\n",
    "    block_1_max_pool2 = GlobalMaxPooling1D()(block_1_batchnorm2)\n",
    "\n",
    "    block_1_conv_3 = Conv1D(filtersNumber, 3, activation = 'elu', padding = 'same', kernel_initializer = 'he_uniform')(inputLayer)\n",
    "    block_1_batchnorm3 = BatchNormalization()(block_1_conv_3)\n",
    "    block_1_max_pool3 = GlobalMaxPooling1D()(block_1_batchnorm3)\n",
    "\n",
    "    block_1_conv_4 = Conv1D(filtersNumber, 5, activation = 'elu', padding = 'same', kernel_initializer = 'he_uniform')(inputLayer)\n",
    "    block_1_batchnorm4 = BatchNormalization()(block_1_conv_4)\n",
    "    block_1_max_pool4 = GlobalMaxPooling1D()(block_1_batchnorm4)\n",
    "\n",
    "    block_1_features = concatenate([\n",
    "        block_1_max_pool1, \n",
    "        block_1_max_pool2, \n",
    "        block_1_max_pool3, \n",
    "        block_1_max_pool4\n",
    "    ])\n",
    "    block_1_features = Dropout(0.2)(block_1_features)\n",
    "    return block_1_features"
   ]
  },
  {
   "cell_type": "code",
   "execution_count": 0,
   "metadata": {
    "colab": {
     "autoexec": {
      "startup": false,
      "wait_interval": 0
     }
    },
    "colab_type": "code",
    "id": "nil0V0anLg2Y"
   },
   "outputs": [],
   "source": [
    "def single_category_regressor(features, unitsNumber = 64):\n",
    "    dense_1 = Dense(unitsNumber, activation = 'elu')(features)\n",
    "    dense_1_normalization = BatchNormalization()(dense_1)\n",
    "    dense_1_dropout = Dropout(0.2)(dense_1_normalization)\n",
    "\n",
    "    dense_2 = Dense(unitsNumber, activation = 'elu')(dense_1_dropout)\n",
    "    dense_2_normalization = BatchNormalization()(dense_2)\n",
    "    dense_2_dropout = Dropout(0.2)(dense_2_normalization)\n",
    "    \n",
    "    return Dense(1, activation='sigmoid')(dense_2_dropout)"
   ]
  },
  {
   "cell_type": "code",
   "execution_count": 12,
   "metadata": {
    "colab": {
     "autoexec": {
      "startup": false,
      "wait_interval": 0
     },
     "base_uri": "https://localhost:8080/",
     "height": 3094
    },
    "colab_type": "code",
    "executionInfo": {
     "elapsed": 4681,
     "status": "ok",
     "timestamp": 1530888702505,
     "user": {
      "displayName": "Deep Learner",
      "photoUrl": "https://lh3.googleusercontent.com/a/default-user=s128",
      "userId": "102934620980301123540"
     },
     "user_tz": -120
    },
    "id": "LTFG7OgsXynw",
    "outputId": "32d16215-f6cf-456b-91d0-f8a370e11fdb"
   },
   "outputs": [
    {
     "name": "stdout",
     "output_type": "stream",
     "text": [
      "__________________________________________________________________________________________________\n",
      "Layer (type)                    Output Shape         Param #     Connected to                     \n",
      "==================================================================================================\n",
      "input_1 (InputLayer)            (None, 400)          0                                            \n",
      "__________________________________________________________________________________________________\n",
      "embedding_1 (Embedding)         (None, 400, 300)     9000000     input_1[0][0]                    \n",
      "__________________________________________________________________________________________________\n",
      "embedding_2 (Embedding)         (None, 400, 300)     9000000     input_1[0][0]                    \n",
      "__________________________________________________________________________________________________\n",
      "spatial_dropout1d_1 (SpatialDro (None, 400, 300)     0           embedding_1[0][0]                \n",
      "__________________________________________________________________________________________________\n",
      "spatial_dropout1d_2 (SpatialDro (None, 400, 300)     0           embedding_2[0][0]                \n",
      "__________________________________________________________________________________________________\n",
      "average_1 (Average)             (None, 400, 300)     0           spatial_dropout1d_1[0][0]        \n",
      "                                                                 spatial_dropout1d_2[0][0]        \n",
      "__________________________________________________________________________________________________\n",
      "spatial_dropout1d_3 (SpatialDro (None, 400, 300)     0           average_1[0][0]                  \n",
      "__________________________________________________________________________________________________\n",
      "self_attention_1 (SelfAttention (None, 400, 300)     90601       spatial_dropout1d_3[0][0]        \n",
      "__________________________________________________________________________________________________\n",
      "conv1d_1 (Conv1D)               (None, 400, 300)     90300       self_attention_1[0][0]           \n",
      "__________________________________________________________________________________________________\n",
      "batch_normalization_1 (BatchNor (None, 400, 300)     1200        conv1d_1[0][0]                   \n",
      "__________________________________________________________________________________________________\n",
      "spatial_dropout1d_4 (SpatialDro (None, 400, 300)     0           batch_normalization_1[0][0]      \n",
      "__________________________________________________________________________________________________\n",
      "conv1d_2 (Conv1D)               (None, 400, 300)     90300       spatial_dropout1d_4[0][0]        \n",
      "__________________________________________________________________________________________________\n",
      "batch_normalization_2 (BatchNor (None, 400, 300)     1200        conv1d_2[0][0]                   \n",
      "__________________________________________________________________________________________________\n",
      "spatial_dropout1d_5 (SpatialDro (None, 400, 300)     0           batch_normalization_2[0][0]      \n",
      "__________________________________________________________________________________________________\n",
      "conv1d_3 (Conv1D)               (None, 400, 300)     90300       spatial_dropout1d_5[0][0]        \n",
      "__________________________________________________________________________________________________\n",
      "batch_normalization_3 (BatchNor (None, 400, 300)     1200        conv1d_3[0][0]                   \n",
      "__________________________________________________________________________________________________\n",
      "spatial_dropout1d_6 (SpatialDro (None, 400, 300)     0           batch_normalization_3[0][0]      \n",
      "__________________________________________________________________________________________________\n",
      "conv1d_4 (Conv1D)               (None, 400, 300)     90300       spatial_dropout1d_6[0][0]        \n",
      "__________________________________________________________________________________________________\n",
      "conv1d_5 (Conv1D)               (None, 400, 300)     180300      spatial_dropout1d_6[0][0]        \n",
      "__________________________________________________________________________________________________\n",
      "conv1d_6 (Conv1D)               (None, 400, 300)     270300      spatial_dropout1d_6[0][0]        \n",
      "__________________________________________________________________________________________________\n",
      "conv1d_7 (Conv1D)               (None, 400, 300)     450300      spatial_dropout1d_6[0][0]        \n",
      "__________________________________________________________________________________________________\n",
      "batch_normalization_4 (BatchNor (None, 400, 300)     1200        conv1d_4[0][0]                   \n",
      "__________________________________________________________________________________________________\n",
      "batch_normalization_5 (BatchNor (None, 400, 300)     1200        conv1d_5[0][0]                   \n",
      "__________________________________________________________________________________________________\n",
      "batch_normalization_6 (BatchNor (None, 400, 300)     1200        conv1d_6[0][0]                   \n",
      "__________________________________________________________________________________________________\n",
      "batch_normalization_7 (BatchNor (None, 400, 300)     1200        conv1d_7[0][0]                   \n",
      "__________________________________________________________________________________________________\n",
      "global_max_pooling1d_1 (GlobalM (None, 300)          0           batch_normalization_4[0][0]      \n",
      "__________________________________________________________________________________________________\n",
      "global_max_pooling1d_2 (GlobalM (None, 300)          0           batch_normalization_5[0][0]      \n",
      "__________________________________________________________________________________________________\n",
      "global_max_pooling1d_3 (GlobalM (None, 300)          0           batch_normalization_6[0][0]      \n",
      "__________________________________________________________________________________________________\n",
      "global_max_pooling1d_4 (GlobalM (None, 300)          0           batch_normalization_7[0][0]      \n",
      "__________________________________________________________________________________________________\n",
      "concatenate_1 (Concatenate)     (None, 1200)         0           global_max_pooling1d_1[0][0]     \n",
      "                                                                 global_max_pooling1d_2[0][0]     \n",
      "                                                                 global_max_pooling1d_3[0][0]     \n",
      "                                                                 global_max_pooling1d_4[0][0]     \n",
      "__________________________________________________________________________________________________\n",
      "dropout_1 (Dropout)             (None, 1200)         0           concatenate_1[0][0]              \n",
      "__________________________________________________________________________________________________\n",
      "dense_6 (Dense)                 (None, 128)          153728      dropout_1[0][0]                  \n",
      "__________________________________________________________________________________________________\n",
      "dense_9 (Dense)                 (None, 128)          153728      dropout_1[0][0]                  \n",
      "__________________________________________________________________________________________________\n",
      "dense_12 (Dense)                (None, 128)          153728      dropout_1[0][0]                  \n",
      "__________________________________________________________________________________________________\n",
      "dense_15 (Dense)                (None, 128)          153728      dropout_1[0][0]                  \n",
      "__________________________________________________________________________________________________\n",
      "dense_18 (Dense)                (None, 128)          153728      dropout_1[0][0]                  \n",
      "__________________________________________________________________________________________________\n",
      "dense_21 (Dense)                (None, 128)          153728      dropout_1[0][0]                  \n",
      "__________________________________________________________________________________________________\n",
      "dense_3 (Dense)                 (None, 512)          614912      dropout_1[0][0]                  \n",
      "__________________________________________________________________________________________________\n",
      "batch_normalization_10 (BatchNo (None, 128)          512         dense_6[0][0]                    \n",
      "__________________________________________________________________________________________________\n",
      "batch_normalization_12 (BatchNo (None, 128)          512         dense_9[0][0]                    \n",
      "__________________________________________________________________________________________________\n",
      "batch_normalization_14 (BatchNo (None, 128)          512         dense_12[0][0]                   \n",
      "__________________________________________________________________________________________________\n",
      "batch_normalization_16 (BatchNo (None, 128)          512         dense_15[0][0]                   \n",
      "__________________________________________________________________________________________________\n",
      "batch_normalization_18 (BatchNo (None, 128)          512         dense_18[0][0]                   \n",
      "__________________________________________________________________________________________________\n",
      "batch_normalization_20 (BatchNo (None, 128)          512         dense_21[0][0]                   \n",
      "__________________________________________________________________________________________________\n",
      "batch_normalization_8 (BatchNor (None, 512)          2048        dense_3[0][0]                    \n",
      "__________________________________________________________________________________________________\n",
      "dropout_4 (Dropout)             (None, 128)          0           batch_normalization_10[0][0]     \n",
      "__________________________________________________________________________________________________\n",
      "dropout_6 (Dropout)             (None, 128)          0           batch_normalization_12[0][0]     \n",
      "__________________________________________________________________________________________________\n",
      "dropout_8 (Dropout)             (None, 128)          0           batch_normalization_14[0][0]     \n",
      "__________________________________________________________________________________________________\n",
      "dropout_10 (Dropout)            (None, 128)          0           batch_normalization_16[0][0]     \n",
      "__________________________________________________________________________________________________\n",
      "dropout_12 (Dropout)            (None, 128)          0           batch_normalization_18[0][0]     \n",
      "__________________________________________________________________________________________________\n",
      "dropout_14 (Dropout)            (None, 128)          0           batch_normalization_20[0][0]     \n",
      "__________________________________________________________________________________________________\n",
      "dropout_2 (Dropout)             (None, 512)          0           batch_normalization_8[0][0]      \n",
      "__________________________________________________________________________________________________\n",
      "dense_7 (Dense)                 (None, 128)          16512       dropout_4[0][0]                  \n",
      "__________________________________________________________________________________________________\n",
      "dense_10 (Dense)                (None, 128)          16512       dropout_6[0][0]                  \n",
      "__________________________________________________________________________________________________\n",
      "dense_13 (Dense)                (None, 128)          16512       dropout_8[0][0]                  \n",
      "__________________________________________________________________________________________________\n",
      "dense_16 (Dense)                (None, 128)          16512       dropout_10[0][0]                 \n",
      "__________________________________________________________________________________________________\n",
      "dense_19 (Dense)                (None, 128)          16512       dropout_12[0][0]                 \n",
      "__________________________________________________________________________________________________\n",
      "dense_22 (Dense)                (None, 128)          16512       dropout_14[0][0]                 \n",
      "__________________________________________________________________________________________________\n",
      "dense_4 (Dense)                 (None, 512)          262656      dropout_2[0][0]                  \n",
      "__________________________________________________________________________________________________\n",
      "batch_normalization_11 (BatchNo (None, 128)          512         dense_7[0][0]                    \n",
      "__________________________________________________________________________________________________\n",
      "batch_normalization_13 (BatchNo (None, 128)          512         dense_10[0][0]                   \n",
      "__________________________________________________________________________________________________\n",
      "batch_normalization_15 (BatchNo (None, 128)          512         dense_13[0][0]                   \n",
      "__________________________________________________________________________________________________\n",
      "batch_normalization_17 (BatchNo (None, 128)          512         dense_16[0][0]                   \n",
      "__________________________________________________________________________________________________\n",
      "batch_normalization_19 (BatchNo (None, 128)          512         dense_19[0][0]                   \n",
      "__________________________________________________________________________________________________\n",
      "batch_normalization_21 (BatchNo (None, 128)          512         dense_22[0][0]                   \n",
      "__________________________________________________________________________________________________\n",
      "batch_normalization_9 (BatchNor (None, 512)          2048        dense_4[0][0]                    \n",
      "__________________________________________________________________________________________________\n",
      "dropout_5 (Dropout)             (None, 128)          0           batch_normalization_11[0][0]     \n",
      "__________________________________________________________________________________________________\n",
      "dropout_7 (Dropout)             (None, 128)          0           batch_normalization_13[0][0]     \n",
      "__________________________________________________________________________________________________\n",
      "dropout_9 (Dropout)             (None, 128)          0           batch_normalization_15[0][0]     \n",
      "__________________________________________________________________________________________________\n",
      "dropout_11 (Dropout)            (None, 128)          0           batch_normalization_17[0][0]     \n",
      "__________________________________________________________________________________________________\n",
      "dropout_13 (Dropout)            (None, 128)          0           batch_normalization_19[0][0]     \n",
      "__________________________________________________________________________________________________\n",
      "dropout_15 (Dropout)            (None, 128)          0           batch_normalization_21[0][0]     \n",
      "__________________________________________________________________________________________________\n",
      "dropout_3 (Dropout)             (None, 512)          0           batch_normalization_9[0][0]      \n",
      "__________________________________________________________________________________________________\n",
      "dense_8 (Dense)                 (None, 1)            129         dropout_5[0][0]                  \n",
      "__________________________________________________________________________________________________\n",
      "dense_11 (Dense)                (None, 1)            129         dropout_7[0][0]                  \n",
      "__________________________________________________________________________________________________\n",
      "dense_14 (Dense)                (None, 1)            129         dropout_9[0][0]                  \n",
      "__________________________________________________________________________________________________\n",
      "dense_17 (Dense)                (None, 1)            129         dropout_11[0][0]                 \n",
      "__________________________________________________________________________________________________\n",
      "dense_20 (Dense)                (None, 1)            129         dropout_13[0][0]                 \n",
      "__________________________________________________________________________________________________\n",
      "dense_23 (Dense)                (None, 1)            129         dropout_15[0][0]                 \n",
      "__________________________________________________________________________________________________\n",
      "dense_5 (Dense)                 (None, 6)            3078        dropout_3[0][0]                  \n",
      "__________________________________________________________________________________________________\n",
      "concatenate_2 (Concatenate)     (None, 6)            0           dense_8[0][0]                    \n",
      "                                                                 dense_11[0][0]                   \n",
      "                                                                 dense_14[0][0]                   \n",
      "                                                                 dense_17[0][0]                   \n",
      "                                                                 dense_20[0][0]                   \n",
      "                                                                 dense_23[0][0]                   \n",
      "__________________________________________________________________________________________________\n",
      "average_2 (Average)             (None, 6)            0           dense_5[0][0]                    \n",
      "                                                                 concatenate_2[0][0]              \n",
      "==================================================================================================\n",
      "Total params: 21,274,201\n",
      "Trainable params: 3,264,881\n",
      "Non-trainable params: 18,009,320\n",
      "__________________________________________________________________________________________________\n"
     ]
    }
   ],
   "source": [
    "maxWords = 30000\n",
    "maxSequenceLengthInWords = 400\n",
    "embeddingDimension = 300\n",
    "filtersNumber = 300\n",
    "\n",
    "input_layer = Input(shape=(maxSequenceLengthInWords,))\n",
    "\n",
    "pretrained_embedding_layer = Embedding(\n",
    "    maxWords, \n",
    "    output_dim=embeddingDimension, \n",
    "    input_length=maxSequenceLengthInWords,\n",
    "    weights = [np.load('fast_text_embeddings.npy')],\n",
    "    trainable = False\n",
    ")(input_layer)\n",
    "pretrained_embedding_layer = SpatialDropout1D(0.2)(pretrained_embedding_layer)\n",
    "\n",
    "custom_embedding_layer = Embedding(\n",
    "    maxWords, \n",
    "    output_dim=embeddingDimension, \n",
    "    input_length=maxSequenceLengthInWords,\n",
    "    weights = [np.load('custom_fast_text_embeddings.npy')],\n",
    "    trainable = False\n",
    ")(input_layer)\n",
    "custom_embedding_layer = SpatialDropout1D(0.2)(custom_embedding_layer)\n",
    "\n",
    "embedding = Average()([pretrained_embedding_layer, custom_embedding_layer])\n",
    "embedding_dropout = SpatialDropout1D(0.2)(embedding)\n",
    "\n",
    "embedding_dropout = SelfAttention()(embedding_dropout)\n",
    "\n",
    "features_1 = one_by_one(filtersNumber, embedding_dropout)\n",
    "features_2 = one_by_one(filtersNumber, features_1)\n",
    "features_3 = one_by_one(filtersNumber, features_2)\n",
    "\n",
    "features = yoon_kim_feature_extractor(filtersNumber, features_3)\n",
    "\n",
    "dense_1 = Dense(512, activation = 'elu')(features)\n",
    "dense_1_normalization = BatchNormalization()(dense_1)\n",
    "dense_1_dropout = Dropout(0.2)(dense_1_normalization)\n",
    "\n",
    "dense_2 = Dense(512, activation = 'elu')(dense_1_dropout)\n",
    "dense_2_normalization = BatchNormalization()(dense_2)\n",
    "dense_2_dropout = Dropout(0.2)(dense_2_normalization)\n",
    "\n",
    "output_layer = Dense(6, activation='sigmoid')(dense_2_dropout)\n",
    "\n",
    "single_category_layer = concatenate([\n",
    "    single_category_regressor(features, 128),\n",
    "    single_category_regressor(features, 128),\n",
    "    single_category_regressor(features, 128),\n",
    "    single_category_regressor(features, 128),\n",
    "    single_category_regressor(features, 128),\n",
    "    single_category_regressor(features, 128),\n",
    "])\n",
    "\n",
    "output_layer = average([output_layer, single_category_layer])\n",
    "\n",
    "model = Model(inputs=[input_layer], outputs=[output_layer])\n",
    "            \n",
    "model.summary()\n",
    "\n",
    "model.compile(\n",
    "    loss='binary_crossentropy', \n",
    "    optimizer='Adam',\n",
    "    metrics=['accuracy']\n",
    ")"
   ]
  },
  {
   "cell_type": "code",
   "execution_count": 13,
   "metadata": {
    "colab": {
     "autoexec": {
      "startup": false,
      "wait_interval": 0
     },
     "base_uri": "https://localhost:8080/",
     "height": 1380
    },
    "colab_type": "code",
    "executionInfo": {
     "elapsed": 22162800,
     "status": "ok",
     "timestamp": 1530910865360,
     "user": {
      "displayName": "Deep Learner",
      "photoUrl": "https://lh3.googleusercontent.com/a/default-user=s128",
      "userId": "102934620980301123540"
     },
     "user_tz": -120
    },
    "id": "xwMmTewgXynz",
    "outputId": "521236fd-dc82-493f-cb00-81d6987e0f12"
   },
   "outputs": [
    {
     "name": "stdout",
     "output_type": "stream",
     "text": [
      "Train on 102124 samples, validate on 25532 samples\n",
      "Epoch 1/32\n",
      " 19616/102124 [====>.........................] - ETA: 9:25 - loss: 0.1935 - acc: 0.8967 53760/102124 [==============>...............] - ETA: 5:09 - loss: 0.1190 - acc: 0.9453 89120/102124 [=========================>....] - ETA: 1:21 - loss: 0.0976 - acc: 0.9578102124/102124 [==============================] - 680s 7ms/step - loss: 0.0934 - acc: 0.9603 - val_loss: 0.0529 - val_acc: 0.9801\n",
      "Epoch 2/32\n",
      "  8416/102124 [=>............................] - ETA: 9:34 - loss: 0.0603 - acc: 0.9784 43040/102124 [===========>..................] - ETA: 6:00 - loss: 0.0593 - acc: 0.9786 78272/102124 [=====================>........] - ETA: 2:25 - loss: 0.0575 - acc: 0.9792102124/102124 [==============================] - 665s 7ms/step - loss: 0.0568 - acc: 0.9793 - val_loss: 0.0517 - val_acc: 0.9805\n",
      "roc-auc: 0.9816 - roc-auc_val: 0.9802                                                                                                    \n",
      "Epoch 3/32\n",
      "  2144/102124 [..............................] - ETA: 10:11 - loss: 0.0552 - acc: 0.9784 35648/102124 [=========>....................] - ETA: 6:49 - loss: 0.0538 - acc: 0.9798 71328/102124 [===================>..........] - ETA: 3:08 - loss: 0.0525 - acc: 0.9803102124/102124 [==============================] - 667s 7ms/step - loss: 0.0521 - acc: 0.9804 - val_loss: 0.0478 - val_acc: 0.9830\n",
      "Epoch 4/32\n",
      "   960/102124 [..............................] - ETA: 10:19 - loss: 0.0452 - acc: 0.9807 36960/102124 [=========>....................] - ETA: 6:42 - loss: 0.0497 - acc: 0.9808 70592/102124 [===================>..........] - ETA: 3:14 - loss: 0.0497 - acc: 0.9810102124/102124 [==============================] - 670s 7ms/step - loss: 0.0496 - acc: 0.9810 - val_loss: 0.0448 - val_acc: 0.9825\n",
      "roc-auc: 0.9871 - roc-auc_val: 0.9845                                                                                                    \n",
      "Epoch 5/32\n",
      "   640/102124 [..............................] - ETA: 10:23 - loss: 0.0441 - acc: 0.9831 35456/102124 [=========>....................] - ETA: 6:47 - loss: 0.0485 - acc: 0.9812 70240/102124 [===================>..........] - ETA: 3:14 - loss: 0.0482 - acc: 0.9815102124/102124 [==============================] - 665s 7ms/step - loss: 0.0481 - acc: 0.9815 - val_loss: 0.0430 - val_acc: 0.9833\n",
      "Epoch 6/32\n",
      "   832/102124 [..............................] - ETA: 10:19 - loss: 0.0501 - acc: 0.9812 34880/102124 [=========>....................] - ETA: 6:54 - loss: 0.0462 - acc: 0.9822 70400/102124 [===================>..........] - ETA: 3:15 - loss: 0.0467 - acc: 0.9820102124/102124 [==============================] - 668s 7ms/step - loss: 0.0466 - acc: 0.9820 - val_loss: 0.0446 - val_acc: 0.9832\n",
      "roc-auc: 0.9892 - roc-auc_val: 0.9859                                                                                                    \n",
      "Epoch 7/32\n",
      "   544/102124 [..............................] - ETA: 10:16 - loss: 0.0357 - acc: 0.9862 35136/102124 [=========>....................] - ETA: 6:47 - loss: 0.0446 - acc: 0.9824 69824/102124 [===================>..........] - ETA: 3:16 - loss: 0.0448 - acc: 0.9824102124/102124 [==============================] - 662s 6ms/step - loss: 0.0456 - acc: 0.9821 - val_loss: 0.0437 - val_acc: 0.9828\n",
      "\n",
      "Epoch 00007: ReduceLROnPlateau reducing learning rate to 0.0002679433673620224.\n",
      "Epoch 8/32\n",
      "   544/102124 [..............................] - ETA: 10:27 - loss: 0.0438 - acc: 0.9825 34656/102124 [=========>....................] - ETA: 6:54 - loss: 0.0452 - acc: 0.9820 67904/102124 [==================>...........] - ETA: 3:30 - loss: 0.0445 - acc: 0.9824101312/102124 [============================>.] - ETA: 5s - loss: 0.0446 - acc: 0.9825102124/102124 [==============================] - 669s 7ms/step - loss: 0.0446 - acc: 0.9825 - val_loss: 0.0425 - val_acc: 0.9831\n",
      "roc-auc: 0.9893 - roc-auc_val: 0.985                                                                                                    \n",
      "Epoch 9/32\n",
      "  8128/102124 [=>............................] - ETA: 9:32 - loss: 0.0442 - acc: 0.9831 44640/102124 [============>.................] - ETA: 5:50 - loss: 0.0439 - acc: 0.9826 81632/102124 [======================>.......] - ETA: 2:05 - loss: 0.0441 - acc: 0.9826102124/102124 [==============================] - 664s 7ms/step - loss: 0.0441 - acc: 0.9826 - val_loss: 0.0416 - val_acc: 0.9837\n",
      "Epoch 10/32\n",
      "  5056/102124 [>.............................] - ETA: 9:52 - loss: 0.0438 - acc: 0.9824 38560/102124 [==========>...................] - ETA: 6:32 - loss: 0.0425 - acc: 0.9829 71808/102124 [====================>.........] - ETA: 3:07 - loss: 0.0429 - acc: 0.9827102124/102124 [==============================] - 671s 7ms/step - loss: 0.0431 - acc: 0.9827 - val_loss: 0.0413 - val_acc: 0.9835\n",
      "roc-auc: 0.9907 - roc-auc_val: 0.9856                                                                                                    \n",
      "Epoch 11/32\n",
      "   736/102124 [..............................] - ETA: 10:33 - loss: 0.0396 - acc: 0.9844 34592/102124 [=========>....................] - ETA: 6:57 - loss: 0.0425 - acc: 0.9829 68320/102124 [===================>..........] - ETA: 3:29 - loss: 0.0421 - acc: 0.9831102124/102124 [==============================] - 670s 7ms/step - loss: 0.0425 - acc: 0.9829 - val_loss: 0.0424 - val_acc: 0.9831\n",
      "Epoch 12/32\n",
      "   128/102124 [..............................] - ETA: 10:27 - loss: 0.0185 - acc: 0.9922 34496/102124 [=========>....................] - ETA: 6:53 - loss: 0.0414 - acc: 0.9831 68640/102124 [===================>..........] - ETA: 3:24 - loss: 0.0417 - acc: 0.9831102124/102124 [==============================] - 662s 6ms/step - loss: 0.0418 - acc: 0.9832 - val_loss: 0.0411 - val_acc: 0.9837\n",
      "roc-auc: 0.992 - roc-auc_val: 0.9867                                                                                                    \n",
      "Epoch 13/32\n",
      "   544/102124 [..............................] - ETA: 10:16 - loss: 0.0428 - acc: 0.9798 34496/102124 [=========>....................] - ETA: 6:56 - loss: 0.0406 - acc: 0.9837 71552/102124 [====================>.........] - ETA: 3:07 - loss: 0.0412 - acc: 0.9834102124/102124 [==============================] - 664s 7ms/step - loss: 0.0415 - acc: 0.9834 - val_loss: 0.0406 - val_acc: 0.9840\n",
      "Epoch 14/32\n",
      "  1536/102124 [..............................] - ETA: 10:14 - loss: 0.0407 - acc: 0.9852 35872/102124 [=========>....................] - ETA: 6:43 - loss: 0.0397 - acc: 0.9840 69312/102124 [===================>..........] - ETA: 3:20 - loss: 0.0405 - acc: 0.9837102124/102124 [==============================] - 666s 7ms/step - loss: 0.0409 - acc: 0.9836 - val_loss: 0.0441 - val_acc: 0.9823\n",
      "roc-auc: 0.9887 - roc-auc_val: 0.9835                                                                                                    \n",
      "Epoch 15/32\n",
      "   192/102124 [..............................] - ETA: 10:34 - loss: 0.0299 - acc: 0.9887 35072/102124 [=========>....................] - ETA: 6:50 - loss: 0.0397 - acc: 0.9839 69344/102124 [===================>..........] - ETA: 3:20 - loss: 0.0406 - acc: 0.9835102124/102124 [==============================] - 667s 7ms/step - loss: 0.0405 - acc: 0.9835 - val_loss: 0.0500 - val_acc: 0.9821\n",
      "Epoch 16/32\n",
      "   288/102124 [..............................] - ETA: 10:37 - loss: 0.0403 - acc: 0.9844 33312/102124 [========>.....................] - ETA: 7:05 - loss: 0.0399 - acc: 0.9834 69120/102124 [===================>..........] - ETA: 3:22 - loss: 0.0400 - acc: 0.9835102124/102124 [==============================] - 666s 7ms/step - loss: 0.0401 - acc: 0.9835 - val_loss: 0.0405 - val_acc: 0.9841\n",
      "roc-auc: 0.993 - roc-auc_val: 0.9872                                                                                                    \n",
      "Epoch 17/32\n",
      "   352/102124 [..............................] - ETA: 10:43 - loss: 0.0410 - acc: 0.9820 35040/102124 [=========>....................] - ETA: 6:52 - loss: 0.0401 - acc: 0.9837 68896/102124 [===================>..........] - ETA: 3:24 - loss: 0.0391 - acc: 0.9839102124/102124 [==============================] - 668s 7ms/step - loss: 0.0395 - acc: 0.9838 - val_loss: 0.0405 - val_acc: 0.9838\n",
      "Epoch 18/32\n"
     ]
    },
    {
     "name": "stdout",
     "output_type": "stream",
     "text": [
      "102124/102124 [==============================] - 667s 7ms/step - loss: 0.0393 - acc: 0.9839 - val_loss: 0.0409 - val_acc: 0.9838.....] - ETA: 6:54 - loss: 0.0389 - acc: 0.9838 68352/102124 [===================>..........] - ETA: 3:26 - loss: 0.0392 - acc: 0.9838102112/102124 [============================>.] - ETA: 0s - loss: 0.0393 - acc: 0.983\n",
      "\n",
      "Epoch 00018: ReduceLROnPlateau reducing learning rate to 8.53775127325207e-05.\n",
      "roc-auc: 0.9934 - roc-auc_val: 0.9872                                                                                                    \n",
      "Epoch 19/32\n",
      "  5728/102124 [>.............................] - ETA: 9:43 - loss: 0.0402 - acc: 0.9833 39616/102124 [==========>...................] - ETA: 6:21 - loss: 0.0389 - acc: 0.9839 74208/102124 [====================>.........] - ETA: 2:51 - loss: 0.0386 - acc: 0.9841102124/102124 [==============================] - 666s 7ms/step - loss: 0.0389 - acc: 0.9840 - val_loss: 0.0403 - val_acc: 0.9840\n",
      "Epoch 20/32\n",
      "  1984/102124 [..............................] - ETA: 10:13 - loss: 0.0346 - acc: 0.9848 35904/102124 [=========>....................] - ETA: 6:44 - loss: 0.0390 - acc: 0.9839 74720/102124 [====================>.........] - ETA: 2:47 - loss: 0.0386 - acc: 0.9841102124/102124 [==============================] - 667s 7ms/step - loss: 0.0386 - acc: 0.9841 - val_loss: 0.0416 - val_acc: 0.9836\n",
      "roc-auc: 0.9936 - roc-auc_val: 0.987                                                                                                    \n",
      "Epoch 21/32\n",
      "  1440/102124 [..............................] - ETA: 10:18 - loss: 0.0422 - acc: 0.9809 36800/102124 [=========>....................] - ETA: 6:37 - loss: 0.0383 - acc: 0.9843 71488/102124 [====================>.........] - ETA: 3:06 - loss: 0.0383 - acc: 0.9842102124/102124 [==============================] - 662s 6ms/step - loss: 0.0384 - acc: 0.9842 - val_loss: 0.0405 - val_acc: 0.9840\n",
      "Epoch 22/32\n",
      "  1312/102124 [..............................] - ETA: 10:21 - loss: 0.0365 - acc: 0.98 34432/102124 [=========>....................] - ETA: 6:57 - loss: 0.0383 - acc: 0.9842 67808/102124 [==================>...........] - ETA: 3:31 - loss: 0.0381 - acc: 0.9842101856/102124 [============================>.] - ETA: 1s - loss: 0.0382 - acc: 0.9842102124/102124 [==============================] - 669s 7ms/step - loss: 0.0382 - acc: 0.9842 - val_loss: 0.0406 - val_acc: 0.9839\n",
      "roc-auc: 0.9943 - roc-auc_val: 0.9872                                                                                                    \n",
      "Epoch 23/32\n",
      "  8032/102124 [=>............................] - ETA: 9:38 - loss: 0.0388 - acc: 0.9840 42624/102124 [===========>..................] - ETA: 6:04 - loss: 0.0370 - acc: 0.9847 77280/102124 [=====================>........] - ETA: 2:32 - loss: 0.0376 - acc: 0.9844102124/102124 [==============================] - 667s 7ms/step - loss: 0.0378 - acc: 0.9843 - val_loss: 0.0405 - val_acc: 0.9840\n",
      "Epoch 24/32\n",
      "  3328/102124 [..............................] - ETA: 10:15 - loss: 0.0359 - acc: 0.9860 36736/102124 [=========>....................] - ETA: 6:45 - loss: 0.0377 - acc: 0.9844 74496/102124 [====================>.........] - ETA: 2:49 - loss: 0.0373 - acc: 0.9844102124/102124 [==============================] - 666s 7ms/step - loss: 0.0374 - acc: 0.9844 - val_loss: 0.0410 - val_acc: 0.9840\n",
      "roc-auc: 0.9946 - roc-auc_val: 0.9871                                                                                                    \n",
      "Epoch 25/32\n",
      "  1536/102124 [..............................] - ETA: 10:12 - loss: 0.0340 - acc: 0.9859 36064/102124 [=========>....................] - ETA: 6:44 - loss: 0.0377 - acc: 0.9843 68832/102124 [===================>..........] - ETA: 3:24 - loss: 0.0374 - acc: 0.9844102112/102124 [============================>.] - ETA: 0s - loss: 0.0373 - acc: 0.9844102124/102124 [==============================] - 668s 7ms/step - loss: 0.0373 - acc: 0.9844 - val_loss: 0.0414 - val_acc: 0.9837\n",
      "Epoch 26/32\n",
      " 13632/102124 [===>..........................] - ETA: 8:57 - loss: 0.0370 - acc: 0.9848 47872/102124 [=============>................] - ETA: 5:30 - loss: 0.0379 - acc: 0.9841 82016/102124 [=======================>......] - ETA: 2:02 - loss: 0.0372 - acc: 0.9843102124/102124 [==============================] - 665s 7ms/step - loss: 0.0371 - acc: 0.9844 - val_loss: 0.0411 - val_acc: 0.9840\n",
      "roc-auc: 0.9943 - roc-auc_val: 0.9871                                                                                                    \n",
      "Epoch 27/32\n",
      "  3328/102124 [..............................] - ETA: 10:07 - loss: 0.0354 - acc: 0.9859 37472/102124 [==========>...................] - ETA: 6:34 - loss: 0.0370 - acc: 0.9845 71008/102124 [===================>..........] - ETA: 3:10 - loss: 0.0372 - acc: 0.9844102124/102124 [==============================] - 668s 7ms/step - loss: 0.0368 - acc: 0.9846 - val_loss: 0.0413 - val_acc: 0.9840\n",
      "Epoch 28/32\n",
      "   672/102124 [..............................] - ETA: 10:30 - loss: 0.0361 - acc: 0.9851 34272/102124 [=========>....................] - ETA: 6:56 - loss: 0.0368 - acc: 0.9848 69664/102124 [===================>..........] - ETA: 3:18 - loss: 0.0368 - acc: 0.9846102124/102124 [==============================] - 664s 6ms/step - loss: 0.0368 - acc: 0.9846 - val_loss: 0.0411 - val_acc: 0.9840\n",
      "roc-auc: 0.9948 - roc-auc_val: 0.9866                                                                                                    \n",
      "Epoch 29/32\n",
      "102124/102124 [==============================] - 669s 7ms/step - loss: 0.0367 - acc: 0.9846 - val_loss: 0.0416 - val_acc: 0.9837.....] - ETA: 6:54 - loss: 0.0367 - acc: 0.9846 68032/102124 [==================>...........] - ETA: 3:30 - loss: 0.0371 - acc: 0.9844102112/102124 [============================>.] - ETA: 0s - loss: 0.0367 - acc: 0.984\n",
      "\n",
      "Epoch 00029: ReduceLROnPlateau reducing learning rate to 2.7204705475014634e-05.\n"
     ]
    }
   ],
   "source": [
    "history = train_with_cv(model, batchSize=32, rocEvery = 2)"
   ]
  },
  {
   "cell_type": "code",
   "execution_count": 14,
   "metadata": {
    "colab": {
     "autoexec": {
      "startup": false,
      "wait_interval": 0
     },
     "base_uri": "https://localhost:8080/",
     "height": 294
    },
    "colab_type": "code",
    "executionInfo": {
     "elapsed": 3737,
     "status": "ok",
     "timestamp": 1530910869312,
     "user": {
      "displayName": "Deep Learner",
      "photoUrl": "https://lh3.googleusercontent.com/a/default-user=s128",
      "userId": "102934620980301123540"
     },
     "user_tz": -120
    },
    "id": "sms3R-U4469B",
    "outputId": "f88d8489-4719-40d4-e99c-8cea9d5ba861"
   },
   "outputs": [
    {
     "data": {
      "image/png": "[encoded data removed]",
      "text/plain": [
       "<matplotlib.figure.Figure at 0x7f201fbd5320>"
      ]
     },
     "metadata": {
      "tags": []
     },
     "output_type": "display_data"
    }
   ],
   "source": [
    "plot_history(history)"
   ]
  },
  {
   "cell_type": "code",
   "execution_count": 15,
   "metadata": {
    "colab": {
     "autoexec": {
      "startup": false,
      "wait_interval": 0
     },
     "base_uri": "https://localhost:8080/",
     "height": 51
    },
    "colab_type": "code",
    "executionInfo": {
     "elapsed": 105440,
     "status": "ok",
     "timestamp": 1530910974925,
     "user": {
      "displayName": "Deep Learner",
      "photoUrl": "https://lh3.googleusercontent.com/a/default-user=s128",
      "userId": "102934620980301123540"
     },
     "user_tz": -120
    },
    "id": "r2gtMBj2Tp9A",
    "outputId": "bd98f27f-f6e8-46c2-ccf7-d91f2ff1e6e8"
   },
   "outputs": [
    {
     "name": "stdout",
     "output_type": "stream",
     "text": [
      "31915/31915 [==============================] - 55s 2ms/step\n",
      "([0.03952380850953162, 0.9843229285400339], 0.9892040186917735)\n"
     ]
    }
   ],
   "source": [
    "print(evaluate_on_test(model))"
   ]
  }
 ],
 "metadata": {
  "accelerator": "GPU",
  "colab": {
   "collapsed_sections": [],
   "default_view": {},
   "name": "features_with_each_avg_128_2.ipynb",
   "provenance": [],
   "version": "0.3.2",
   "views": {}
  },
  "kernelspec": {
   "display_name": "Python 3",
   "language": "python",
   "name": "python3"
  },
  "language_info": {
   "codemirror_mode": {
    "name": "ipython",
    "version": 3
   },
   "file_extension": ".py",
   "mimetype": "text/x-python",
   "name": "python",
   "nbconvert_exporter": "python",
   "pygments_lexer": "ipython3",
   "version": "3.6.2"
  }
 },
 "nbformat": 4,
 "nbformat_minor": 1
}

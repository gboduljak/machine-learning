{
 "cells": [
  {
   "cell_type": "code",
   "execution_count": 13,
   "metadata": {
    "colab": {
     "autoexec": {
      "startup": false,
      "wait_interval": 0
     },
     "base_uri": "https://localhost:8080/",
     "height": 283
    },
    "colab_type": "code",
    "executionInfo": {
     "elapsed": 10179,
     "status": "ok",
     "timestamp": 1525720463175,
     "user": {
      "displayName": "Deep Learning",
      "photoUrl": "https://lh3.googleusercontent.com/a/default-user=s128",
      "userId": "115257841230779963257"
     },
     "user_tz": -120
    },
    "id": "yS1FnhiWX3Js",
    "outputId": "b1a8b1bf-3145-47b3-f2af-5659a7705986"
   },
   "outputs": [
    {
     "name": "stdout",
     "output_type": "stream",
     "text": [
      "Requirement already satisfied: keras in /usr/local/lib/python3.6/dist-packages (2.1.6)\r\n",
      "Requirement already satisfied: h5py in /usr/local/lib/python3.6/dist-packages (from keras) (2.7.1)\r\n",
      "Requirement already satisfied: numpy>=1.9.1 in /usr/local/lib/python3.6/dist-packages (from keras) (1.14.3)\r\n",
      "Requirement already satisfied: scipy>=0.14 in /usr/local/lib/python3.6/dist-packages (from keras) (0.19.1)\r\n",
      "Requirement already satisfied: pyyaml in /usr/local/lib/python3.6/dist-packages (from keras) (3.12)\r\n",
      "Requirement already satisfied: six>=1.9.0 in /usr/local/lib/python3.6/dist-packages (from keras) (1.11.0)\n",
      "Requirement already satisfied: sklearn in /usr/local/lib/python3.6/dist-packages (0.0)\n",
      "Requirement already satisfied: scikit-learn in /usr/local/lib/python3.6/dist-packages (from sklearn) (0.19.1)\n",
      "Requirement already satisfied: matplotlib in /usr/local/lib/python3.6/dist-packages (2.1.2)\n",
      "Requirement already satisfied: six>=1.10 in /usr/local/lib/python3.6/dist-packages (from matplotlib) (1.11.0)\n",
      "Requirement already satisfied: pytz in /usr/local/lib/python3.6/dist-packages (from matplotlib) (2018.4)\n",
      "Requirement already satisfied: cycler>=0.10 in /usr/local/lib/python3.6/dist-packages (from matplotlib) (0.10.0)\n",
      "Requirement already satisfied: pyparsing!=2.0.4,!=2.1.2,!=2.1.6,>=2.0.1 in /usr/local/lib/python3.6/dist-packages (from matplotlib) (2.2.0)\n",
      "Requirement already satisfied: python-dateutil>=2.1 in /usr/local/lib/python3.6/dist-packages (from matplotlib) (2.5.3)\n",
      "Requirement already satisfied: numpy>=1.7.1 in /usr/local/lib/python3.6/dist-packages (from matplotlib) (1.14.3)\n"
     ]
    }
   ],
   "source": [
    "!pip install keras\n",
    "!pip install sklearn\n",
    "!pip install matplotlib\n",
    "!pip install -U -q PyDrive"
   ]
  },
  {
   "cell_type": "code",
   "execution_count": 0,
   "metadata": {
    "colab": {
     "autoexec": {
      "startup": false,
      "wait_interval": 0
     }
    },
    "colab_type": "code",
    "id": "xlKzkDJFrjA-"
   },
   "outputs": [],
   "source": [
    "from keras import backend as K\n",
    "K.clear_session()"
   ]
  },
  {
   "cell_type": "code",
   "execution_count": 0,
   "metadata": {
    "colab": {
     "autoexec": {
      "startup": false,
      "wait_interval": 0
     }
    },
    "colab_type": "code",
    "id": "eQEKwl4oAxO7"
   },
   "outputs": [],
   "source": [
    "from keras import backend as K\n",
    "cfg = K.tf.ConfigProto()\n",
    "cfg.gpu_options.allow_growth = True\n",
    "K.set_session(K.tf.Session(config=cfg))"
   ]
  },
  {
   "cell_type": "code",
   "execution_count": 0,
   "metadata": {
    "colab": {
     "autoexec": {
      "startup": false,
      "wait_interval": 0
     }
    },
    "colab_type": "code",
    "id": "12M0egCCX-27"
   },
   "outputs": [],
   "source": [
    "from pydrive.auth import GoogleAuth\n",
    "from pydrive.drive import GoogleDrive\n",
    "from google.colab import auth\n",
    "from oauth2client.client import GoogleCredentials\n",
    "\n",
    "auth.authenticate_user()\n",
    "gauth = GoogleAuth()\n",
    "gauth.credentials = GoogleCredentials.get_application_default()\n",
    "drive = GoogleDrive(gauth)"
   ]
  },
  {
   "cell_type": "code",
   "execution_count": 0,
   "metadata": {
    "colab": {
     "autoexec": {
      "startup": false,
      "wait_interval": 0
     }
    },
    "colab_type": "code",
    "id": "4lN2WTUEYBYv"
   },
   "outputs": [],
   "source": [
    "file_import = drive.CreateFile({'id':'1p1bsltfTcIrZ_kfE6kwGTPzcdXorHbb2'})\n",
    "file_import.GetContentFile('colab_setup.py') \n",
    "from colab_setup import setup\n",
    "\n",
    "setup(drive)"
   ]
  },
  {
   "cell_type": "code",
   "execution_count": 18,
   "metadata": {
    "colab": {
     "autoexec": {
      "startup": false,
      "wait_interval": 0
     },
     "base_uri": "https://localhost:8080/",
     "height": 123
    },
    "colab_type": "code",
    "executionInfo": {
     "elapsed": 1758,
     "status": "ok",
     "timestamp": 1525720483231,
     "user": {
      "displayName": "Deep Learning",
      "photoUrl": "https://lh3.googleusercontent.com/a/default-user=s128",
      "userId": "115257841230779963257"
     },
     "user_tz": -120
    },
    "id": "cHBlD0tVj2TY",
    "outputId": "241294e5-5e9a-4a05-a32f-bf1296c35931"
   },
   "outputs": [
    {
     "name": "stdout",
     "output_type": "stream",
     "text": [
      "colab_setup.py\t\t\t roc_auc_callback.py\tX_train.npy\r\n",
      "custom_fast_text_embeddings.npy  sample_submission.csv\tX_val.npy\r\n",
      "datalab\t\t\t\t train_model.py\t\ty_test.npy\r\n",
      "fast_text_embeddings.npy\t X_submission.npy\ty_train_full.npy\r\n",
      "plot_history.py\t\t\t X_test.npy\t\ty_train.npy\r\n",
      "__pycache__\t\t\t X_train_full.npy\ty_val.npy\r\n"
     ]
    }
   ],
   "source": [
    "!ls"
   ]
  },
  {
   "cell_type": "code",
   "execution_count": 0,
   "metadata": {
    "colab": {
     "autoexec": {
      "startup": false,
      "wait_interval": 0
     }
    },
    "colab_type": "code",
    "id": "yMwWPTMYXyno"
   },
   "outputs": [],
   "source": [
    "import numpy as np\n",
    "import os\n",
    "\n",
    "from plot_history import plot_history\n",
    "from roc_auc_callback import RocAucCallback\n",
    "from train_model import train_with_cv, train_with_submitting, evaluate_on_test\n",
    "\n",
    "from keras.models import Model\n",
    "from keras.layers import *\n",
    "from keras.layers.merge import concatenate"
   ]
  },
  {
   "cell_type": "code",
   "execution_count": 0,
   "metadata": {
    "colab": {
     "autoexec": {
      "startup": false,
      "wait_interval": 0
     }
    },
    "colab_type": "code",
    "id": "MIWjPi9bs5d4"
   },
   "outputs": [],
   "source": [
    "def one_by_one(filtersNumber, inputLayer, dropout = 0.2):\n",
    "    one_by_one = Conv1D(filtersNumber, 1, activation = 'elu', padding = 'same', kernel_initializer = 'he_uniform')(inputLayer)\n",
    "    one_by_one = BatchNormalization()(one_by_one)\n",
    "    one_by_one = SpatialDropout1D(dropout)(one_by_one)\n",
    "    return one_by_one"
   ]
  },
  {
   "cell_type": "code",
   "execution_count": 21,
   "metadata": {
    "colab": {
     "autoexec": {
      "startup": false,
      "wait_interval": 0
     },
     "base_uri": "https://localhost:8080/",
     "height": 1208
    },
    "colab_type": "code",
    "executionInfo": {
     "elapsed": 1551,
     "status": "ok",
     "timestamp": 1525720486742,
     "user": {
      "displayName": "Deep Learning",
      "photoUrl": "https://lh3.googleusercontent.com/a/default-user=s128",
      "userId": "115257841230779963257"
     },
     "user_tz": -120
    },
    "id": "LTFG7OgsXynw",
    "outputId": "990300ce-f842-4abd-d256-49642d8f0869"
   },
   "outputs": [
    {
     "name": "stdout",
     "output_type": "stream",
     "text": [
      "__________________________________________________________________________________________________\n",
      "Layer (type)                    Output Shape         Param #     Connected to                     \n",
      "==================================================================================================\n",
      "input_1 (InputLayer)            (None, 400)          0                                            \n",
      "__________________________________________________________________________________________________\n",
      "embedding_1 (Embedding)         (None, 400, 300)     9000000     input_1[0][0]                    \n",
      "__________________________________________________________________________________________________\n",
      "embedding_2 (Embedding)         (None, 400, 300)     9000000     input_1[0][0]                    \n",
      "__________________________________________________________________________________________________\n",
      "spatial_dropout1d_1 (SpatialDro (None, 400, 300)     0           embedding_1[0][0]                \n",
      "__________________________________________________________________________________________________\n",
      "spatial_dropout1d_2 (SpatialDro (None, 400, 300)     0           embedding_2[0][0]                \n",
      "__________________________________________________________________________________________________\n",
      "average_1 (Average)             (None, 400, 300)     0           spatial_dropout1d_1[0][0]        \n",
      "                                                                 spatial_dropout1d_2[0][0]        \n",
      "__________________________________________________________________________________________________\n",
      "spatial_dropout1d_3 (SpatialDro (None, 400, 300)     0           average_1[0][0]                  \n",
      "__________________________________________________________________________________________________\n",
      "conv1d_1 (Conv1D)               (None, 400, 256)     77056       spatial_dropout1d_3[0][0]        \n",
      "__________________________________________________________________________________________________\n",
      "conv1d_2 (Conv1D)               (None, 400, 256)     153856      spatial_dropout1d_3[0][0]        \n",
      "__________________________________________________________________________________________________\n",
      "conv1d_3 (Conv1D)               (None, 400, 256)     230656      spatial_dropout1d_3[0][0]        \n",
      "__________________________________________________________________________________________________\n",
      "conv1d_4 (Conv1D)               (None, 400, 256)     384256      spatial_dropout1d_3[0][0]        \n",
      "__________________________________________________________________________________________________\n",
      "batch_normalization_1 (BatchNor (None, 400, 256)     1024        conv1d_1[0][0]                   \n",
      "__________________________________________________________________________________________________\n",
      "batch_normalization_2 (BatchNor (None, 400, 256)     1024        conv1d_2[0][0]                   \n",
      "__________________________________________________________________________________________________\n",
      "batch_normalization_3 (BatchNor (None, 400, 256)     1024        conv1d_3[0][0]                   \n",
      "__________________________________________________________________________________________________\n",
      "batch_normalization_4 (BatchNor (None, 400, 256)     1024        conv1d_4[0][0]                   \n",
      "__________________________________________________________________________________________________\n",
      "global_max_pooling1d_1 (GlobalM (None, 256)          0           batch_normalization_1[0][0]      \n",
      "__________________________________________________________________________________________________\n",
      "global_max_pooling1d_2 (GlobalM (None, 256)          0           batch_normalization_2[0][0]      \n",
      "__________________________________________________________________________________________________\n",
      "global_max_pooling1d_3 (GlobalM (None, 256)          0           batch_normalization_3[0][0]      \n",
      "__________________________________________________________________________________________________\n",
      "global_max_pooling1d_4 (GlobalM (None, 256)          0           batch_normalization_4[0][0]      \n",
      "__________________________________________________________________________________________________\n",
      "concatenate_1 (Concatenate)     (None, 1024)         0           global_max_pooling1d_1[0][0]     \n",
      "                                                                 global_max_pooling1d_2[0][0]     \n",
      "                                                                 global_max_pooling1d_3[0][0]     \n",
      "                                                                 global_max_pooling1d_4[0][0]     \n",
      "__________________________________________________________________________________________________\n",
      "dropout_1 (Dropout)             (None, 1024)         0           concatenate_1[0][0]              \n",
      "__________________________________________________________________________________________________\n",
      "dense_1 (Dense)                 (None, 256)          262400      dropout_1[0][0]                  \n",
      "__________________________________________________________________________________________________\n",
      "batch_normalization_5 (BatchNor (None, 256)          1024        dense_1[0][0]                    \n",
      "__________________________________________________________________________________________________\n",
      "dropout_2 (Dropout)             (None, 256)          0           batch_normalization_5[0][0]      \n",
      "__________________________________________________________________________________________________\n",
      "dense_2 (Dense)                 (None, 256)          65792       dropout_2[0][0]                  \n",
      "__________________________________________________________________________________________________\n",
      "batch_normalization_6 (BatchNor (None, 256)          1024        dense_2[0][0]                    \n",
      "__________________________________________________________________________________________________\n",
      "dropout_3 (Dropout)             (None, 256)          0           batch_normalization_6[0][0]      \n",
      "__________________________________________________________________________________________________\n",
      "dense_3 (Dense)                 (None, 6)            1542        dropout_3[0][0]                  \n",
      "==================================================================================================\n",
      "Total params: 19,181,702\n",
      "Trainable params: 1,178,630\n",
      "Non-trainable params: 18,003,072\n",
      "__________________________________________________________________________________________________\n"
     ]
    }
   ],
   "source": [
    "maxWords = 30000\n",
    "maxSequenceLengthInWords = 400\n",
    "embeddingDimension = 300\n",
    "filtersNumber = 300\n",
    "\n",
    "input_layer = Input(shape=(maxSequenceLengthInWords,))\n",
    "\n",
    "pretrained_embedding_layer = Embedding(\n",
    "    maxWords, \n",
    "    output_dim=embeddingDimension, \n",
    "    input_length=maxSequenceLengthInWords,\n",
    "    weights = [np.load('fast_text_embeddings.npy')],\n",
    "    trainable = False\n",
    ")(input_layer)\n",
    "pretrained_embedding_layer = SpatialDropout1D(0.2)(pretrained_embedding_layer)\n",
    "\n",
    "custom_embedding_layer = Embedding(\n",
    "    maxWords, \n",
    "    output_dim=embeddingDimension, \n",
    "    input_length=maxSequenceLengthInWords,\n",
    "    weights = [np.load('custom_fast_text_embeddings.npy')],\n",
    "    trainable = False\n",
    ")(input_layer)\n",
    "custom_embedding_layer = SpatialDropout1D(0.2)(custom_embedding_layer)\n",
    "\n",
    "embedding = Average()([pretrained_embedding_layer, custom_embedding_layer])\n",
    "embedding_dropout = SpatialDropout1D(0.2)(embedding)\n",
    "\n",
    "features = one_by_one(filtersNumber, embedding_dropout)\n",
    "\n",
    "dense_1 = Dense(256, activation = 'elu')(features)\n",
    "dense_1_normalization = BatchNormalization()(dense_1)\n",
    "dense_1_dropout = Dropout(0.2)(dense_1_normalization)\n",
    "\n",
    "dense_2 = Dense(256, activation = 'elu')(dense_1_dropout)\n",
    "dense_2_normalization = BatchNormalization()(dense_2)\n",
    "dense_2_dropout = Dropout(0.2)(dense_2_normalization)\n",
    "\n",
    "output_layer = Dense(6, activation='sigmoid')(dense_2_dropout)\n",
    "\n",
    "model = Model(inputs=[input_layer], outputs=[output_layer])\n",
    "            \n",
    "model.summary()\n",
    "\n",
    "model.compile(\n",
    "    loss='binary_crossentropy', \n",
    "    optimizer='Adam',\n",
    "    metrics=['accuracy']\n",
    ")"
   ]
  },
  {
   "cell_type": "code",
   "execution_count": 10,
   "metadata": {
    "colab": {
     "autoexec": {
      "startup": false,
      "wait_interval": 0
     },
     "base_uri": "https://localhost:8080/",
     "height": 692
    },
    "colab_type": "code",
    "executionInfo": {
     "elapsed": 3390818,
     "status": "ok",
     "timestamp": 1525705313290,
     "user": {
      "displayName": "Deep Learning",
      "photoUrl": "https://lh3.googleusercontent.com/a/default-user=s128",
      "userId": "115257841230779963257"
     },
     "user_tz": -120
    },
    "id": "xwMmTewgXynz",
    "outputId": "8f1ef961-9754-48ba-a286-380ba1548286"
   },
   "outputs": [
    {
     "name": "stdout",
     "output_type": "stream",
     "text": [
      "Train on 102124 samples, validate on 25532 samples\n",
      "Epoch 1/32\n",
      " 42880/102124 [===========>..................] - ETA: 1:49 - loss: 0.1606 - acc: 0.9389102124/102124 [==============================] - 201s 2ms/step - loss: 0.1025 - acc: 0.9619 - val_loss: 0.0480 - val_acc: 0.9824\n",
      "Epoch 2/32\n",
      "  5568/102124 [>.............................] - ETA: 2:52 - loss: 0.0504 - acc: 0.9815102080/102124 [============================>.] - ETA: 0s - loss: 0.0526 - acc: 0.9806102124/102124 [==============================] - 197s 2ms/step - loss: 0.0526 - acc: 0.9806 - val_loss: 0.0454 - val_acc: 0.9833\n",
      "roc-auc: 0.9869 - roc-auc_val: 0.9835                                                                                                    \n",
      "Epoch 3/32\n",
      "102124/102124 [==============================] - 197s 2ms/step - loss: 0.0480 - acc: 0.9820 - val_loss: 0.0422 - val_acc: 0.9838==>.] - ETA: 0s - loss: 0.0480 - acc: 0.982\n",
      "Epoch 4/32\n",
      " 20352/102124 [====>.........................] - ETA: 2:25 - loss: 0.0452 - acc: 0.9829102080/102124 [============================>.] - ETA: 0s - loss: 0.0451 - acc: 0.9827102124/102124 [==============================] - 197s 2ms/step - loss: 0.0451 - acc: 0.9827 - val_loss: 0.0415 - val_acc: 0.9842\n",
      "roc-auc: 0.9923 - roc-auc_val: 0.9862                                                                                                    \n",
      "Epoch 5/32\n",
      "102124/102124 [==============================] - 197s 2ms/step - loss: 0.0425 - acc: 0.9834 - val_loss: 0.0422 - val_acc: 0.9846==>.] - ETA: 0s - loss: 0.0425 - acc: 0.983\n",
      "Epoch 6/32\n",
      "102124/102124 [==============================] - 197s 2ms/step - loss: 0.0400 - acc: 0.9843 - val_loss: 0.0417 - val_acc: 0.9843==>.] - ETA: 0s - loss: 0.0400 - acc: 0.984\n",
      "\n",
      "Epoch 00006: ReduceLROnPlateau reducing learning rate to 0.00029730176902376115.\n",
      "roc-auc: 0.9936 - roc-auc_val: 0.9855                                                                                                    \n",
      "Epoch 7/32\n",
      "102124/102124 [==============================] - 198s 2ms/step - loss: 0.0377 - acc: 0.9850 - val_loss: 0.0428 - val_acc: 0.9842==>.] - ETA: 0s - loss: 0.0377 - acc: 0.985\n",
      "Epoch 8/32\n",
      " 20352/102124 [====>.........................] - ETA: 2:25 - loss: 0.0362 - acc: 0.9855102080/102124 [============================>.] - ETA: 0s - loss: 0.0356 - acc: 0.9858102124/102124 [==============================] - 197s 2ms/step - loss: 0.0357 - acc: 0.9858 - val_loss: 0.0419 - val_acc: 0.9845\n",
      "roc-auc: 0.996 - roc-auc_val: 0.9878                                                                                                    \n",
      "Epoch 9/32\n",
      "102124/102124 [==============================] - 199s 2ms/step - loss: 0.0341 - acc: 0.9862 - val_loss: 0.0462 - val_acc: 0.9834==>.] - ETA: 0s - loss: 0.0341 - acc: 0.986\n",
      "Epoch 10/32\n",
      " 20288/102124 [====>.........................] - ETA: 2:26 - loss: 0.0319 - acc: 0.9868102080/102124 [============================>.] - ETA: 0s - loss: 0.0326 - acc: 0.9867102124/102124 [==============================] - 198s 2ms/step - loss: 0.0326 - acc: 0.9867 - val_loss: 0.0433 - val_acc: 0.9843\n",
      "roc-auc: 0.9969 - roc-auc_val: 0.9867                                                                                                    \n",
      "Epoch 11/32\n",
      "102124/102124 [==============================] - 197s 2ms/step - loss: 0.0310 - acc: 0.9874 - val_loss: 0.0442 - val_acc: 0.9842==>.] - ETA: 0s - loss: 0.0310 - acc: 0.987\n",
      "Epoch 12/32\n",
      " 20288/102124 [====>.........................] - ETA: 2:25 - loss: 0.0289 - acc: 0.9884102080/102124 [============================>.] - ETA: 0s - loss: 0.0296 - acc: 0.9880102124/102124 [==============================] - 197s 2ms/step - loss: 0.0296 - acc: 0.9880 - val_loss: 0.0470 - val_acc: 0.9844\n",
      "roc-auc: 0.9976 - roc-auc_val: 0.9854                                                                                                    \n",
      "Epoch 13/32\n",
      "102124/102124 [==============================] - 199s 2ms/step - loss: 0.0287 - acc: 0.9883 - val_loss: 0.0464 - val_acc: 0.9842==>.] - ETA: 0s - loss: 0.0287 - acc: 0.988\n",
      "Epoch 14/32\n",
      " 20288/102124 [====>.........................] - ETA: 2:26 - loss: 0.0262 - acc: 0.9895102080/102124 [============================>.] - ETA: 0s - loss: 0.0277 - acc: 0.9888102124/102124 [==============================] - 198s 2ms/step - loss: 0.0277 - acc: 0.9888 - val_loss: 0.0491 - val_acc: 0.9839\n",
      "roc-auc: 0.9981 - roc-auc_val: 0.9844                                                                                                    \n"
     ]
    }
   ],
   "source": [
    "history = train_with_cv(model, batchSize=64, rocEvery = 2)"
   ]
  },
  {
   "cell_type": "code",
   "execution_count": 11,
   "metadata": {
    "colab": {
     "autoexec": {
      "startup": false,
      "wait_interval": 0
     },
     "base_uri": "https://localhost:8080/",
     "height": 293
    },
    "colab_type": "code",
    "executionInfo": {
     "elapsed": 1039,
     "status": "ok",
     "timestamp": 1525705314354,
     "user": {
      "displayName": "Deep Learning",
      "photoUrl": "https://lh3.googleusercontent.com/a/default-user=s128",
      "userId": "115257841230779963257"
     },
     "user_tz": -120
    },
    "id": "sms3R-U4469B",
    "outputId": "647d800b-6894-42cf-afbf-ac329d2273f9"
   },
   "outputs": [
    {
     "data": {
      "image/png": "[encoded data removed]",
      "text/plain": [
       "<matplotlib.figure.Figure at 0x7f67a4a7aa20>"
      ]
     },
     "metadata": {
      "tags": []
     },
     "output_type": "display_data"
    }
   ],
   "source": [
    "plot_history(history)"
   ]
  },
  {
   "cell_type": "code",
   "execution_count": 12,
   "metadata": {
    "colab": {
     "autoexec": {
      "startup": false,
      "wait_interval": 0
     },
     "base_uri": "https://localhost:8080/",
     "height": 52
    },
    "colab_type": "code",
    "executionInfo": {
     "elapsed": 46552,
     "status": "ok",
     "timestamp": 1525705361788,
     "user": {
      "displayName": "Deep Learning",
      "photoUrl": "https://lh3.googleusercontent.com/a/default-user=s128",
      "userId": "115257841230779963257"
     },
     "user_tz": -120
    },
    "id": "r2gtMBj2Tp9A",
    "outputId": "f75a8bc5-2de7-4cf0-f0f4-aceb30eb6b39"
   },
   "outputs": [
    {
     "name": "stdout",
     "output_type": "stream",
     "text": [
      "31915/31915 [==============================] - 24s 751us/step\n",
      "([0.046024657765264924, 0.9847407030924797], 0.9880884328582592)\n"
     ]
    }
   ],
   "source": [
    "print(evaluate_on_test(model))"
   ]
  },
  {
   "cell_type": "code",
   "execution_count": 10,
   "metadata": {
    "colab": {
     "autoexec": {
      "startup": false,
      "wait_interval": 0
     },
     "base_uri": "https://localhost:8080/",
     "height": 692
    },
    "colab_type": "code",
    "executionInfo": {
     "elapsed": 3925843,
     "status": "ok",
     "timestamp": 1525713717491,
     "user": {
      "displayName": "Deep Learning",
      "photoUrl": "https://lh3.googleusercontent.com/a/default-user=s128",
      "userId": "115257841230779963257"
     },
     "user_tz": -120
    },
    "id": "sqijfKR0Yq1F",
    "outputId": "7e15ef9d-2365-484b-bfe1-797d4edb83c5"
   },
   "outputs": [
    {
     "name": "stdout",
     "output_type": "stream",
     "text": [
      "Train on 102124 samples, validate on 25532 samples\n",
      "Epoch 1/32\n",
      " 20800/102124 [=====>........................] - ETA: 3:03 - loss: 0.1775 - acc: 0.9308 55168/102124 [===============>..............] - ETA: 1:42 - loss: 0.1080 - acc: 0.9596 91712/102124 [=========================>....] - ETA: 22s - loss: 0.0885 - acc: 0.9673102124/102124 [==============================] - 238s 2ms/step - loss: 0.0850 - acc: 0.9686 - val_loss: 0.0457 - val_acc: 0.9828\n",
      "Epoch 2/32\n",
      "  9408/102124 [=>............................] - ETA: 3:17 - loss: 0.0536 - acc: 0.9802 45248/102124 [============>.................] - ETA: 2:00 - loss: 0.0532 - acc: 0.9801 81952/102124 [=======================>......] - ETA: 42s - loss: 0.0519 - acc: 0.9807102124/102124 [==============================] - 236s 2ms/step - loss: 0.0518 - acc: 0.9807 - val_loss: 0.0470 - val_acc: 0.9824\n",
      "roc-auc: 0.9878 - roc-auc_val: 0.9837                                                                                                    \n",
      "Epoch 3/32\n",
      "  3776/102124 [>.............................] - ETA: 3:32 - loss: 0.0462 - acc: 0.9824 41088/102124 [===========>..................] - ETA: 2:10 - loss: 0.0489 - acc: 0.9814 76800/102124 [=====================>........] - ETA: 53s - loss: 0.0481 - acc: 0.9816102124/102124 [==============================] - 236s 2ms/step - loss: 0.0476 - acc: 0.9818 - val_loss: 0.0428 - val_acc: 0.9839\n",
      "Epoch 4/32\n",
      "  3904/102124 [>.............................] - ETA: 3:30 - loss: 0.0440 - acc: 0.9831 39680/102124 [==========>...................] - ETA: 2:12 - loss: 0.0449 - acc: 0.9829 77280/102124 [=====================>........] - ETA: 52s - loss: 0.0442 - acc: 0.9829102124/102124 [==============================] - 236s 2ms/step - loss: 0.0444 - acc: 0.9828 - val_loss: 0.0406 - val_acc: 0.9844\n",
      "roc-auc: 0.993 - roc-auc_val: 0.9875                                                                                                    \n",
      "Epoch 5/32\n",
      "  2560/102124 [..............................] - ETA: 3:33 - loss: 0.0417 - acc: 0.9839 39136/102124 [==========>...................] - ETA: 2:14 - loss: 0.0426 - acc: 0.9831 79744/102124 [======================>.......] - ETA: 47s - loss: 0.0429 - acc: 0.9833102124/102124 [==============================] - 237s 2ms/step - loss: 0.0424 - acc: 0.9834 - val_loss: 0.0416 - val_acc: 0.9847\n",
      "Epoch 6/32\n",
      "  5024/102124 [>.............................] - ETA: 3:25 - loss: 0.0384 - acc: 0.9846 42272/102124 [===========>..................] - ETA: 2:07 - loss: 0.0396 - acc: 0.9845 77568/102124 [=====================>........] - ETA: 52s - loss: 0.0393 - acc: 0.9845102124/102124 [==============================] - 235s 2ms/step - loss: 0.0394 - acc: 0.9845 - val_loss: 0.0437 - val_acc: 0.9837\n",
      "\n",
      "Epoch 00006: ReduceLROnPlateau reducing learning rate to 0.00029730176902376115.\n",
      "roc-auc: 0.9942 - roc-auc_val: 0.9862                                                                                                    \n",
      "Epoch 7/32\n",
      "  2048/102124 [..............................] - ETA: 3:33 - loss: 0.0340 - acc: 0.9854 37856/102124 [==========>...................] - ETA: 2:16 - loss: 0.0366 - acc: 0.9854 73920/102124 [====================>.........] - ETA: 59s - loss: 0.0378 - acc: 0.9849 102124/102124 [==============================] - 235s 2ms/step - loss: 0.0375 - acc: 0.9850 - val_loss: 0.0437 - val_acc: 0.9843\n",
      "Epoch 8/32\n",
      "  2912/102124 [..............................] - ETA: 3:31 - loss: 0.0371 - acc: 0.9838 40416/102124 [==========>...................] - ETA: 2:11 - loss: 0.0348 - acc: 0.9859 75712/102124 [=====================>........] - ETA: 56s - loss: 0.0351 - acc: 0.9859102124/102124 [==============================] - 236s 2ms/step - loss: 0.0353 - acc: 0.9858 - val_loss: 0.0450 - val_acc: 0.9839\n",
      "roc-auc: 0.9927 - roc-auc_val: 0.9839                                                                                                    \n",
      "Epoch 9/32\n",
      "  2240/102124 [..............................] - ETA: 3:31 - loss: 0.0368 - acc: 0.9847 39200/102124 [==========>...................] - ETA: 2:13 - loss: 0.0333 - acc: 0.9867 74464/102124 [====================>.........] - ETA: 58s - loss: 0.0338 - acc: 0.9864102124/102124 [==============================] - 235s 2ms/step - loss: 0.0339 - acc: 0.9863 - val_loss: 0.0455 - val_acc: 0.9839\n",
      "Epoch 10/32\n",
      "  2944/102124 [..............................] - ETA: 3:32 - loss: 0.0315 - acc: 0.9865 40000/102124 [==========>...................] - ETA: 2:12 - loss: 0.0314 - acc: 0.9871 76640/102124 [=====================>........] - ETA: 54s - loss: 0.0319 - acc: 0.9870102124/102124 [==============================] - 237s 2ms/step - loss: 0.0322 - acc: 0.9868 - val_loss: 0.0444 - val_acc: 0.9843\n",
      "roc-auc: 0.9972 - roc-auc_val: 0.9869                                                                                                    \n",
      "Epoch 11/32\n",
      "  2432/102124 [..............................] - ETA: 3:32 - loss: 0.0298 - acc: 0.9881 38336/102124 [==========>...................] - ETA: 2:16 - loss: 0.0307 - acc: 0.9876 74336/102124 [====================>.........] - ETA: 59s - loss: 0.0306 - acc: 0.9875102124/102124 [==============================] - 235s 2ms/step - loss: 0.0308 - acc: 0.9874 - val_loss: 0.0454 - val_acc: 0.9840\n",
      "Epoch 12/32\n",
      "  2752/102124 [..............................] - ETA: 3:32 - loss: 0.0344 - acc: 0.9850 39168/102124 [==========>...................] - ETA: 2:14 - loss: 0.0296 - acc: 0.9878 74624/102124 [====================>.........] - ETA: 58s - loss: 0.0297 - acc: 0.9877102124/102124 [==============================] - 236s 2ms/step - loss: 0.0297 - acc: 0.9877 - val_loss: 0.0484 - val_acc: 0.9840\n",
      "roc-auc: 0.9977 - roc-auc_val: 0.9863                                                                                                    \n",
      "Epoch 13/32\n",
      "  2048/102124 [..............................] - ETA: 3:34 - loss: 0.0258 - acc: 0.9895 38048/102124 [==========>...................] - ETA: 2:16 - loss: 0.0276 - acc: 0.9886 75392/102124 [=====================>........] - ETA: 57s - loss: 0.0283 - acc: 0.9883102124/102124 [==============================] - 237s 2ms/step - loss: 0.0284 - acc: 0.9884 - val_loss: 0.0495 - val_acc: 0.9840\n",
      "Epoch 14/32\n",
      "  3488/102124 [>.............................] - ETA: 3:33 - loss: 0.0262 - acc: 0.9889 41024/102124 [===========>..................] - ETA: 2:10 - loss: 0.0273 - acc: 0.9887 80128/102124 [======================>.......] - ETA: 47s - loss: 0.0276 - acc: 0.9887102124/102124 [==============================] - 237s 2ms/step - loss: 0.0278 - acc: 0.9886 - val_loss: 0.0533 - val_acc: 0.9841\n",
      "roc-auc: 0.9978 - roc-auc_val: 0.9849                                                                                                    \n"
     ]
    }
   ],
   "source": [
    "history = train_with_cv(model, batchSize=32, rocEvery = 2)"
   ]
  },
  {
   "cell_type": "code",
   "execution_count": 11,
   "metadata": {
    "colab": {
     "autoexec": {
      "startup": false,
      "wait_interval": 0
     },
     "base_uri": "https://localhost:8080/",
     "height": 293
    },
    "colab_type": "code",
    "executionInfo": {
     "elapsed": 1185,
     "status": "ok",
     "timestamp": 1525713718703,
     "user": {
      "displayName": "Deep Learning",
      "photoUrl": "https://lh3.googleusercontent.com/a/default-user=s128",
      "userId": "115257841230779963257"
     },
     "user_tz": -120
    },
    "id": "JBdSOlgTYq3p",
    "outputId": "3233c3b1-d5f4-4443-ae6a-969bf22ae80f"
   },
   "outputs": [
    {
     "data": {
      "image/png": "[encoded data removed]",
      "text/plain": [
       "<matplotlib.figure.Figure at 0x7fe1326965f8>"
      ]
     },
     "metadata": {
      "tags": []
     },
     "output_type": "display_data"
    }
   ],
   "source": [
    "plot_history(history)"
   ]
  },
  {
   "cell_type": "code",
   "execution_count": 12,
   "metadata": {
    "colab": {
     "autoexec": {
      "startup": false,
      "wait_interval": 0
     },
     "base_uri": "https://localhost:8080/",
     "height": 52
    },
    "colab_type": "code",
    "executionInfo": {
     "elapsed": 47013,
     "status": "ok",
     "timestamp": 1525713766822,
     "user": {
      "displayName": "Deep Learning",
      "photoUrl": "https://lh3.googleusercontent.com/a/default-user=s128",
      "userId": "115257841230779963257"
     },
     "user_tz": -120
    },
    "id": "J6ccEbOtYq67",
    "outputId": "454c1c23-e76c-42b8-e818-2c152cbee61a"
   },
   "outputs": [
    {
     "name": "stdout",
     "output_type": "stream",
     "text": [
      "31915/31915 [==============================] - 24s 764us/step\n",
      "([0.050042531947416834, 0.9843855944001785], 0.9872222218751873)\n"
     ]
    }
   ],
   "source": [
    "print(evaluate_on_test(model))"
   ]
  },
  {
   "cell_type": "code",
   "execution_count": 22,
   "metadata": {
    "colab": {
     "autoexec": {
      "startup": false,
      "wait_interval": 0
     },
     "base_uri": "https://localhost:8080/",
     "height": 801
    },
    "colab_type": "code",
    "executionInfo": {
     "elapsed": 3609539,
     "status": "ok",
     "timestamp": 1525724096298,
     "user": {
      "displayName": "Deep Learning",
      "photoUrl": "https://lh3.googleusercontent.com/a/default-user=s128",
      "userId": "115257841230779963257"
     },
     "user_tz": -120
    },
    "id": "6ykAn_fCBi1t",
    "outputId": "e9bb55af-a5a1-422c-fd97-8c3758aeac84"
   },
   "outputs": [
    {
     "name": "stdout",
     "output_type": "stream",
     "text": [
      "Train on 102124 samples, validate on 25532 samples\n",
      "Epoch 1/32\n",
      " 85888/102124 [========================>.....] - ETA: 26s - loss: 0.1486 - acc: 0.9438102124/102124 [==============================] - 183s 2ms/step - loss: 0.1348 - acc: 0.9493 - val_loss: 0.0613 - val_acc: 0.9779\n",
      "Epoch 2/32\n",
      " 50048/102124 [=============>................] - ETA: 1:24 - loss: 0.0549 - acc: 0.9801102124/102124 [==============================] - 181s 2ms/step - loss: 0.0542 - acc: 0.9802 - val_loss: 0.0562 - val_acc: 0.9813\n",
      "roc-auc: 0.9582 - roc-auc_val: 0.9582                                                                                                    \n",
      "Epoch 3/32\n",
      " 22528/102124 [=====>........................] - ETA: 2:08 - loss: 0.0498 - acc: 0.9816102124/102124 [==============================] - 181s 2ms/step - loss: 0.0498 - acc: 0.9814 - val_loss: 0.0427 - val_acc: 0.9837\n",
      "Epoch 4/32\n",
      " 25856/102124 [======>.......................] - ETA: 2:03 - loss: 0.0452 - acc: 0.9827102124/102124 [==============================] - 181s 2ms/step - loss: 0.0465 - acc: 0.9823 - val_loss: 0.0447 - val_acc: 0.9824\n",
      "roc-auc: 0.9911 - roc-auc_val: 0.9868                                                                                                    \n",
      "Epoch 5/32\n",
      " 16768/102124 [===>..........................] - ETA: 2:18 - loss: 0.0421 - acc: 0.9838102124/102124 [==============================] - 181s 2ms/step - loss: 0.0438 - acc: 0.9832 - val_loss: 0.0422 - val_acc: 0.9836\n",
      "Epoch 6/32\n",
      " 23680/102124 [=====>........................] - ETA: 2:07 - loss: 0.0416 - acc: 0.9837102124/102124 [==============================] - 181s 2ms/step - loss: 0.0420 - acc: 0.9837 - val_loss: 0.0418 - val_acc: 0.9842\n",
      "roc-auc: 0.9935 - roc-auc_val: 0.9875                                                                                                    \n",
      "Epoch 7/32\n",
      " 16256/102124 [===>..........................] - ETA: 2:19 - loss: 0.0394 - acc: 0.9845102124/102124 [==============================] - 181s 2ms/step - loss: 0.0396 - acc: 0.9845 - val_loss: 0.0425 - val_acc: 0.9835\n",
      "Epoch 8/32\n",
      " 23424/102124 [=====>........................] - ETA: 2:07 - loss: 0.0364 - acc: 0.9856102124/102124 [==============================] - 181s 2ms/step - loss: 0.0378 - acc: 0.9851 - val_loss: 0.0425 - val_acc: 0.9842\n",
      "\n",
      "Epoch 00008: ReduceLROnPlateau reducing learning rate to 0.00024148408556357026.\n",
      "roc-auc: 0.9945 - roc-auc_val: 0.987                                                                                                    \n",
      "Epoch 9/32\n",
      " 13184/102124 [==>...........................] - ETA: 2:24 - loss: 0.0361 - acc: 0.9857102124/102124 [==============================] - 181s 2ms/step - loss: 0.0361 - acc: 0.9857 - val_loss: 0.0432 - val_acc: 0.9842\n",
      "Epoch 10/32\n",
      " 22144/102124 [=====>........................] - ETA: 2:09 - loss: 0.0336 - acc: 0.9863102124/102124 [==============================] - 181s 2ms/step - loss: 0.0341 - acc: 0.9863 - val_loss: 0.0441 - val_acc: 0.9835\n",
      "roc-auc: 0.9952 - roc-auc_val: 0.9859                                                                                                    \n",
      "Epoch 11/32\n",
      " 15872/102124 [===>..........................] - ETA: 2:20 - loss: 0.0336 - acc: 0.9866102124/102124 [==============================] - 181s 2ms/step - loss: 0.0333 - acc: 0.9865 - val_loss: 0.0430 - val_acc: 0.9839\n",
      "Epoch 12/32\n",
      " 23168/102124 [=====>........................] - ETA: 2:08 - loss: 0.0314 - acc: 0.9873102124/102124 [==============================] - 181s 2ms/step - loss: 0.0314 - acc: 0.9873 - val_loss: 0.0439 - val_acc: 0.9841\n",
      "roc-auc: 0.9972 - roc-auc_val: 0.9877                                                                                                    \n",
      "Epoch 13/32\n",
      " 16128/102124 [===>..........................] - ETA: 2:19 - loss: 0.0303 - acc: 0.9878102124/102124 [==============================] - 181s 2ms/step - loss: 0.0300 - acc: 0.9879 - val_loss: 0.0450 - val_acc: 0.9838\n",
      "Epoch 14/32\n",
      " 23296/102124 [=====>........................] - ETA: 2:08 - loss: 0.0284 - acc: 0.9887102124/102124 [==============================] - 181s 2ms/step - loss: 0.0293 - acc: 0.9881 - val_loss: 0.0454 - val_acc: 0.9834\n",
      "roc-auc: 0.9977 - roc-auc_val: 0.9867                                                                                                    \n",
      "Epoch 15/32\n",
      " 16128/102124 [===>..........................] - ETA: 2:19 - loss: 0.0284 - acc: 0.9886102124/102124 [==============================] - 181s 2ms/step - loss: 0.0283 - acc: 0.9885 - val_loss: 0.0467 - val_acc: 0.9841\n",
      "Epoch 16/32\n",
      " 23296/102124 [=====>........................] - ETA: 2:07 - loss: 0.0271 - acc: 0.9887102124/102124 [==============================] - 181s 2ms/step - loss: 0.0277 - acc: 0.9887 - val_loss: 0.0462 - val_acc: 0.9840\n",
      "roc-auc: 0.9983 - roc-auc_val: 0.9871                                                                                                    \n"
     ]
    }
   ],
   "source": [
    "history = train_with_cv(model, batchSize=128, rocEvery = 2)"
   ]
  },
  {
   "cell_type": "code",
   "execution_count": 23,
   "metadata": {
    "colab": {
     "autoexec": {
      "startup": false,
      "wait_interval": 0
     },
     "base_uri": "https://localhost:8080/",
     "height": 293
    },
    "colab_type": "code",
    "executionInfo": {
     "elapsed": 1299,
     "status": "ok",
     "timestamp": 1525724097616,
     "user": {
      "displayName": "Deep Learning",
      "photoUrl": "https://lh3.googleusercontent.com/a/default-user=s128",
      "userId": "115257841230779963257"
     },
     "user_tz": -120
    },
    "id": "_z4qQKtZBi9j",
    "outputId": "55f329a8-67b8-4099-a12b-1a95b63b19d2"
   },
   "outputs": [
    {
     "data": {
      "image/png": "[encoded data removed]",
      "text/plain": [
       "<matplotlib.figure.Figure at 0x7fe10abfe2b0>"
      ]
     },
     "metadata": {
      "tags": []
     },
     "output_type": "display_data"
    }
   ],
   "source": [
    "plot_history(history)"
   ]
  },
  {
   "cell_type": "code",
   "execution_count": 24,
   "metadata": {
    "colab": {
     "autoexec": {
      "startup": false,
      "wait_interval": 0
     },
     "base_uri": "https://localhost:8080/",
     "height": 52
    },
    "colab_type": "code",
    "executionInfo": {
     "elapsed": 46575,
     "status": "ok",
     "timestamp": 1525724144405,
     "user": {
      "displayName": "Deep Learning",
      "photoUrl": "https://lh3.googleusercontent.com/a/default-user=s128",
      "userId": "115257841230779963257"
     },
     "user_tz": -120
    },
    "id": "huuEeGFXBjeQ",
    "outputId": "8ee61652-0360-4ec8-ed11-fec31a518515"
   },
   "outputs": [
    {
     "name": "stdout",
     "output_type": "stream",
     "text": [
      "31915/31915 [==============================] - 24s 750us/step\n",
      "([0.044071976762742375, 0.9844534822117661], 0.9889365926147416)\n"
     ]
    }
   ],
   "source": [
    "print(evaluate_on_test(model))"
   ]
  }
 ],
 "metadata": {
  "accelerator": "GPU",
  "colab": {
   "collapsed_sections": [],
   "default_view": {},
   "name": "yoon-kim-cnn-1.1.ipynb",
   "provenance": [],
   "version": "0.3.2",
   "views": {}
  },
  "kernelspec": {
   "display_name": "Python 3",
   "language": "python",
   "name": "python3"
  },
  "language_info": {
   "codemirror_mode": {
    "name": "ipython",
    "version": 3
   },
   "file_extension": ".py",
   "mimetype": "text/x-python",
   "name": "python",
   "nbconvert_exporter": "python",
   "pygments_lexer": "ipython3",
   "version": "3.6.2"
  }
 },
 "nbformat": 4,
 "nbformat_minor": 1
}

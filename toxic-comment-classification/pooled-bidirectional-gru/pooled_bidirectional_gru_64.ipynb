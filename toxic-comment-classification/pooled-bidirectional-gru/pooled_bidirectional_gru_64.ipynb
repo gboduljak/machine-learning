{
  "nbformat": 4,
  "nbformat_minor": 0,
  "metadata": {
    "colab": {
      "name": "pooled_bidirectional_gru_64.ipynb",
      "version": "0.3.2",
      "views": {},
      "default_view": {},
      "provenance": [],
      "collapsed_sections": []
    },
    "kernelspec": {
      "display_name": "Python 3",
      "language": "python",
      "name": "python3"
    },
    "accelerator": "GPU"
  },
  "cells": [
    {
      "metadata": {
        "id": "yS1FnhiWX3Js",
        "colab_type": "code",
        "colab": {
          "autoexec": {
            "startup": false,
            "wait_interval": 0
          },
          "base_uri": "https://localhost:8080/",
          "height": 419
        },
        "outputId": "bdf468ae-a180-4374-ce98-ab074956e3be",
        "executionInfo": {
          "status": "ok",
          "timestamp": 1532826353450,
          "user_tz": -120,
          "elapsed": 10918,
          "user": {
            "displayName": "Deep Learning",
            "photoUrl": "https://lh3.googleusercontent.com/a/default-user=s128",
            "userId": "116564159010732479709"
          }
        }
      },
      "cell_type": "code",
      "source": [
        "!pip install keras\n",
        "!pip install sklearn\n",
        "!pip install matplotlib\n",
        "!pip install -U -q PyDrive"
      ],
      "execution_count": 1,
      "outputs": [
        {
          "output_type": "stream",
          "text": [
            "Requirement already satisfied: keras in /usr/local/lib/python3.6/dist-packages (2.1.6)\n",
            "Requirement already satisfied: six>=1.9.0 in /usr/local/lib/python3.6/dist-packages (from keras) (1.11.0)\n",
            "Requirement already satisfied: numpy>=1.9.1 in /usr/local/lib/python3.6/dist-packages (from keras) (1.14.5)\n",
            "Requirement already satisfied: pyyaml in /usr/local/lib/python3.6/dist-packages (from keras) (3.13)\n",
            "Requirement already satisfied: h5py in /usr/local/lib/python3.6/dist-packages (from keras) (2.8.0)\n",
            "Requirement already satisfied: scipy>=0.14 in /usr/local/lib/python3.6/dist-packages (from keras) (0.19.1)\n",
            "Collecting sklearn\n",
            "  Downloading https://files.pythonhosted.org/packages/1e/7a/dbb3be0ce9bd5c8b7e3d87328e79063f8b263b2b1bfa4774cb1147bfcd3f/sklearn-0.0.tar.gz\n",
            "Requirement already satisfied: scikit-learn in /usr/local/lib/python3.6/dist-packages (from sklearn) (0.19.2)\n",
            "Building wheels for collected packages: sklearn\n",
            "  Running setup.py bdist_wheel for sklearn ... \u001b[?25l-\b \bdone\n",
            "\u001b[?25h  Stored in directory: /content/.cache/pip/wheels/76/03/bb/589d421d27431bcd2c6da284d5f2286c8e3b2ea3cf1594c074\n",
            "Successfully built sklearn\n",
            "Installing collected packages: sklearn\n",
            "Successfully installed sklearn-0.0\n",
            "Requirement already satisfied: matplotlib in /usr/local/lib/python3.6/dist-packages (2.1.2)\n",
            "Requirement already satisfied: six>=1.10 in /usr/local/lib/python3.6/dist-packages (from matplotlib) (1.11.0)\n",
            "Requirement already satisfied: pytz in /usr/local/lib/python3.6/dist-packages (from matplotlib) (2018.5)\n",
            "Requirement already satisfied: numpy>=1.7.1 in /usr/local/lib/python3.6/dist-packages (from matplotlib) (1.14.5)\n",
            "Requirement already satisfied: cycler>=0.10 in /usr/local/lib/python3.6/dist-packages (from matplotlib) (0.10.0)\n",
            "Requirement already satisfied: python-dateutil>=2.1 in /usr/local/lib/python3.6/dist-packages (from matplotlib) (2.5.3)\n",
            "Requirement already satisfied: pyparsing!=2.0.4,!=2.1.2,!=2.1.6,>=2.0.1 in /usr/local/lib/python3.6/dist-packages (from matplotlib) (2.2.0)\n"
          ],
          "name": "stdout"
        }
      ]
    },
    {
      "metadata": {
        "id": "xlKzkDJFrjA-",
        "colab_type": "code",
        "colab": {
          "autoexec": {
            "startup": false,
            "wait_interval": 0
          },
          "base_uri": "https://localhost:8080/",
          "height": 35
        },
        "outputId": "bbc01105-e06f-4b07-84d4-566567d5ce07",
        "executionInfo": {
          "status": "ok",
          "timestamp": 1532826362074,
          "user_tz": -120,
          "elapsed": 8572,
          "user": {
            "displayName": "Deep Learning",
            "photoUrl": "https://lh3.googleusercontent.com/a/default-user=s128",
            "userId": "116564159010732479709"
          }
        }
      },
      "cell_type": "code",
      "source": [
        "from keras import backend as K\n",
        "K.clear_session()"
      ],
      "execution_count": 2,
      "outputs": [
        {
          "output_type": "stream",
          "text": [
            "Using TensorFlow backend.\n"
          ],
          "name": "stderr"
        }
      ]
    },
    {
      "metadata": {
        "id": "eQEKwl4oAxO7",
        "colab_type": "code",
        "colab": {
          "autoexec": {
            "startup": false,
            "wait_interval": 0
          }
        }
      },
      "cell_type": "code",
      "source": [
        "from keras import backend as K\n",
        "cfg = K.tf.ConfigProto()\n",
        "cfg.gpu_options.allow_growth = True\n",
        "K.set_session(K.tf.Session(config=cfg))"
      ],
      "execution_count": 0,
      "outputs": []
    },
    {
      "metadata": {
        "id": "12M0egCCX-27",
        "colab_type": "code",
        "colab": {
          "autoexec": {
            "startup": false,
            "wait_interval": 0
          }
        }
      },
      "cell_type": "code",
      "source": [
        "from pydrive.auth import GoogleAuth\n",
        "from pydrive.drive import GoogleDrive\n",
        "from google.colab import auth\n",
        "from oauth2client.client import GoogleCredentials\n",
        "\n",
        "auth.authenticate_user()\n",
        "gauth = GoogleAuth()\n",
        "gauth.credentials = GoogleCredentials.get_application_default()\n",
        "drive = GoogleDrive(gauth)"
      ],
      "execution_count": 0,
      "outputs": []
    },
    {
      "metadata": {
        "id": "4lN2WTUEYBYv",
        "colab_type": "code",
        "colab": {
          "autoexec": {
            "startup": false,
            "wait_interval": 0
          }
        }
      },
      "cell_type": "code",
      "source": [
        "file_import = drive.CreateFile({'id':'1p1bsltfTcIrZ_kfE6kwGTPzcdXorHbb2'})\n",
        "file_import.GetContentFile('colab_setup.py') \n",
        "from colab_setup import setup\n",
        "\n",
        "setup(drive)"
      ],
      "execution_count": 0,
      "outputs": []
    },
    {
      "metadata": {
        "id": "cHBlD0tVj2TY",
        "colab_type": "code",
        "colab": {
          "autoexec": {
            "startup": false,
            "wait_interval": 0
          },
          "base_uri": "https://localhost:8080/",
          "height": 121
        },
        "outputId": "3f0a0a70-ce42-4ffb-bde6-029d2511a65c",
        "executionInfo": {
          "status": "ok",
          "timestamp": 1532826454889,
          "user_tz": -120,
          "elapsed": 1756,
          "user": {
            "displayName": "Deep Learning",
            "photoUrl": "https://lh3.googleusercontent.com/a/default-user=s128",
            "userId": "116564159010732479709"
          }
        }
      },
      "cell_type": "code",
      "source": [
        "!ls"
      ],
      "execution_count": 6,
      "outputs": [
        {
          "output_type": "stream",
          "text": [
            "colab_setup.py\t\t\t roc_auc_callback.py\tX_train.npy\r\n",
            "custom_fast_text_embeddings.npy  sample_submission.csv\tX_val.npy\r\n",
            "datalab\t\t\t\t train_model.py\t\ty_test.npy\r\n",
            "fast_text_embeddings.npy\t X_submission.npy\ty_train_full.npy\r\n",
            "plot_history.py\t\t\t X_test.npy\t\ty_train.npy\r\n",
            "__pycache__\t\t\t X_train_full.npy\ty_val.npy\r\n"
          ],
          "name": "stdout"
        }
      ]
    },
    {
      "metadata": {
        "id": "yMwWPTMYXyno",
        "colab_type": "code",
        "colab": {
          "autoexec": {
            "startup": false,
            "wait_interval": 0
          }
        }
      },
      "cell_type": "code",
      "source": [
        "import numpy as np\n",
        "import os\n",
        "\n",
        "from plot_history import plot_history\n",
        "from roc_auc_callback import RocAucCallback\n",
        "from train_model import train_with_cv, train_with_submitting, evaluate_on_test"
      ],
      "execution_count": 0,
      "outputs": []
    },
    {
      "metadata": {
        "id": "irwBTJdINU0J",
        "colab_type": "code",
        "colab": {
          "autoexec": {
            "startup": false,
            "wait_interval": 0
          }
        }
      },
      "cell_type": "code",
      "source": [
        "from keras.models import Model\n",
        "from keras.layers import *\n",
        "from keras.activations import *"
      ],
      "execution_count": 0,
      "outputs": []
    },
    {
      "metadata": {
        "id": "sD9D5r9-Sdg7",
        "colab_type": "code",
        "colab": {
          "autoexec": {
            "startup": false,
            "wait_interval": 0
          }
        }
      },
      "cell_type": "code",
      "source": [
        "def get_gru_last_step(lstm_sequences):\n",
        "    return Lambda(lambda sequence: sequence[:, -1, :])(lstm_sequences)\n",
        "\n",
        "def classification_block(input_layer, dropout_rate=0.2):\n",
        "    model = Dense(256, activation='linear',\n",
        "                  kernel_initializer='he_normal')(input_layer)\n",
        "    model = BatchNormalization()(model)\n",
        "    model = ELU()(model)\n",
        "    model = Dropout(dropout_rate)(model)\n",
        "\n",
        "    model = Dense(256, activation='linear',\n",
        "                  kernel_initializer='he_normal')(model)\n",
        "    model = BatchNormalization()(model)\n",
        "    model = ELU()(model)\n",
        "    model = Dropout(dropout_rate)(model)\n",
        "\n",
        "    return Dense(6, activation='sigmoid', kernel_initializer='glorot_normal')(model)"
      ],
      "execution_count": 0,
      "outputs": []
    },
    {
      "metadata": {
        "id": "xOfIVhpoSdpQ",
        "colab_type": "code",
        "colab": {
          "autoexec": {
            "startup": false,
            "wait_interval": 0
          }
        }
      },
      "cell_type": "code",
      "source": [
        "max_words = 30000\n",
        "max_words_length = 400\n",
        "embedding_dimension = 300\n",
        "\n",
        "gru_options = {\n",
        "    'units': 64,\n",
        "    'dropout': 0.2,\n",
        "    'return_sequences': True\n",
        "}"
      ],
      "execution_count": 0,
      "outputs": []
    },
    {
      "metadata": {
        "id": "LTFG7OgsXynw",
        "colab_type": "code",
        "colab": {
          "autoexec": {
            "startup": false,
            "wait_interval": 0
          },
          "base_uri": "https://localhost:8080/",
          "height": 988
        },
        "outputId": "6ffa7d27-b878-414e-b761-ed1d6a2fa846",
        "executionInfo": {
          "status": "ok",
          "timestamp": 1532826465740,
          "user_tz": -120,
          "elapsed": 7395,
          "user": {
            "displayName": "Deep Learning",
            "photoUrl": "https://lh3.googleusercontent.com/a/default-user=s128",
            "userId": "116564159010732479709"
          }
        }
      },
      "cell_type": "code",
      "source": [
        "input_layer = Input(shape=(max_words_length,))\n",
        "\n",
        "pretrained_embedding_layer = Embedding(\n",
        "    max_words,\n",
        "    output_dim=embedding_dimension,\n",
        "    input_length=max_words_length,\n",
        "    weights=[np.load('fast_text_embeddings.npy')],\n",
        "    trainable=False\n",
        ")(input_layer)\n",
        "pretrained_embedding_layer = SpatialDropout1D(0.2)(pretrained_embedding_layer)\n",
        "\n",
        "custom_embedding_layer = Embedding(\n",
        "    max_words,\n",
        "    output_dim=embedding_dimension,\n",
        "    input_length=max_words_length,\n",
        "    weights=[np.load('custom_fast_text_embeddings.npy')],\n",
        "    trainable=False\n",
        ")(input_layer)\n",
        "custom_embedding_layer = SpatialDropout1D(0.2)(custom_embedding_layer)\n",
        "\n",
        "averaged_embedding_layer = Average()(\n",
        "    [pretrained_embedding_layer, custom_embedding_layer])\n",
        "averaged_embedding_layer = SpatialDropout1D(0.2)(averaged_embedding_layer)\n",
        "\n",
        "gru = Bidirectional(\n",
        "  CuDNNGRU(\n",
        "    units=gru_options['units'],\n",
        "    return_sequences=gru_options['return_sequences']\n",
        "  )\n",
        ")(averaged_embedding_layer)\n",
        "gru = Dropout(gru_options['dropout'])(gru)\n",
        "\n",
        "pooled_features = concatenate([\n",
        "    GlobalMaxPooling1D()(gru),\n",
        "    GlobalAveragePooling1D()(gru),\n",
        "    get_gru_last_step(gru)\n",
        "])\n",
        "\n",
        "pooled_features = Dropout(0.2)(pooled_features)\n",
        "\n",
        "output_layer = classification_block(pooled_features, dropout_rate=0.2)\n",
        "\n",
        "model = Model(inputs=input_layer, outputs=output_layer)\n",
        "\n",
        "model.compile(loss='binary_crossentropy', \n",
        "            optimizer='Adam',\n",
        "            metrics=['accuracy'])          \n",
        "\n",
        "model.summary()"
      ],
      "execution_count": 11,
      "outputs": [
        {
          "output_type": "stream",
          "text": [
            "__________________________________________________________________________________________________\n",
            "Layer (type)                    Output Shape         Param #     Connected to                     \n",
            "==================================================================================================\n",
            "input_1 (InputLayer)            (None, 400)          0                                            \n",
            "__________________________________________________________________________________________________\n",
            "embedding_1 (Embedding)         (None, 400, 300)     9000000     input_1[0][0]                    \n",
            "__________________________________________________________________________________________________\n",
            "embedding_2 (Embedding)         (None, 400, 300)     9000000     input_1[0][0]                    \n",
            "__________________________________________________________________________________________________\n",
            "spatial_dropout1d_1 (SpatialDro (None, 400, 300)     0           embedding_1[0][0]                \n",
            "__________________________________________________________________________________________________\n",
            "spatial_dropout1d_2 (SpatialDro (None, 400, 300)     0           embedding_2[0][0]                \n",
            "__________________________________________________________________________________________________\n",
            "average_1 (Average)             (None, 400, 300)     0           spatial_dropout1d_1[0][0]        \n",
            "                                                                 spatial_dropout1d_2[0][0]        \n",
            "__________________________________________________________________________________________________\n",
            "spatial_dropout1d_3 (SpatialDro (None, 400, 300)     0           average_1[0][0]                  \n",
            "__________________________________________________________________________________________________\n",
            "bidirectional_1 (Bidirectional) (None, 400, 128)     140544      spatial_dropout1d_3[0][0]        \n",
            "__________________________________________________________________________________________________\n",
            "dropout_1 (Dropout)             (None, 400, 128)     0           bidirectional_1[0][0]            \n",
            "__________________________________________________________________________________________________\n",
            "global_max_pooling1d_1 (GlobalM (None, 128)          0           dropout_1[0][0]                  \n",
            "__________________________________________________________________________________________________\n",
            "global_average_pooling1d_1 (Glo (None, 128)          0           dropout_1[0][0]                  \n",
            "__________________________________________________________________________________________________\n",
            "lambda_1 (Lambda)               (None, 128)          0           dropout_1[0][0]                  \n",
            "__________________________________________________________________________________________________\n",
            "concatenate_1 (Concatenate)     (None, 384)          0           global_max_pooling1d_1[0][0]     \n",
            "                                                                 global_average_pooling1d_1[0][0] \n",
            "                                                                 lambda_1[0][0]                   \n",
            "__________________________________________________________________________________________________\n",
            "dropout_2 (Dropout)             (None, 384)          0           concatenate_1[0][0]              \n",
            "__________________________________________________________________________________________________\n",
            "dense_1 (Dense)                 (None, 256)          98560       dropout_2[0][0]                  \n",
            "__________________________________________________________________________________________________\n",
            "batch_normalization_1 (BatchNor (None, 256)          1024        dense_1[0][0]                    \n",
            "__________________________________________________________________________________________________\n",
            "elu_1 (ELU)                     (None, 256)          0           batch_normalization_1[0][0]      \n",
            "__________________________________________________________________________________________________\n",
            "dropout_3 (Dropout)             (None, 256)          0           elu_1[0][0]                      \n",
            "__________________________________________________________________________________________________\n",
            "dense_2 (Dense)                 (None, 256)          65792       dropout_3[0][0]                  \n",
            "__________________________________________________________________________________________________\n",
            "batch_normalization_2 (BatchNor (None, 256)          1024        dense_2[0][0]                    \n",
            "__________________________________________________________________________________________________\n",
            "elu_2 (ELU)                     (None, 256)          0           batch_normalization_2[0][0]      \n",
            "__________________________________________________________________________________________________\n",
            "dropout_4 (Dropout)             (None, 256)          0           elu_2[0][0]                      \n",
            "__________________________________________________________________________________________________\n",
            "dense_3 (Dense)                 (None, 6)            1542        dropout_4[0][0]                  \n",
            "==================================================================================================\n",
            "Total params: 18,308,486\n",
            "Trainable params: 307,462\n",
            "Non-trainable params: 18,001,024\n",
            "__________________________________________________________________________________________________\n"
          ],
          "name": "stdout"
        }
      ]
    },
    {
      "metadata": {
        "id": "xwMmTewgXynz",
        "colab_type": "code",
        "colab": {
          "autoexec": {
            "startup": false,
            "wait_interval": 0
          },
          "base_uri": "https://localhost:8080/",
          "height": 904
        },
        "outputId": "eda50ecb-05c4-46c1-e941-61541f0f509e",
        "executionInfo": {
          "status": "ok",
          "timestamp": 1532834615874,
          "user_tz": -120,
          "elapsed": 8149972,
          "user": {
            "displayName": "Deep Learning",
            "photoUrl": "https://lh3.googleusercontent.com/a/default-user=s128",
            "userId": "116564159010732479709"
          }
        }
      },
      "cell_type": "code",
      "source": [
        "history = train_with_cv(model, batchSize=32, rocEvery = 2)"
      ],
      "execution_count": 12,
      "outputs": [
        {
          "output_type": "stream",
          "text": [
            "Train on 102124 samples, validate on 25532 samples\n",
            "Epoch 1/32\n",
            " 21248/102124 [=====>........................] - ETA: 4:34 - loss: 0.1144 - acc: 0.9615"
          ],
          "name": "stdout"
        },
        {
          "output_type": "stream",
          "text": [
            " 60192/102124 [================>.............] - ETA: 2:18 - loss: 0.0824 - acc: 0.9718"
          ],
          "name": "stdout"
        },
        {
          "output_type": "stream",
          "text": [
            " 98176/102124 [===========================>..] - ETA: 12s - loss: 0.0733 - acc: 0.9746"
          ],
          "name": "stdout"
        },
        {
          "output_type": "stream",
          "text": [
            "102124/102124 [==============================] - 364s 4ms/step - loss: 0.0726 - acc: 0.9748 - val_loss: 0.0470 - val_acc: 0.9828\n",
            "Epoch 2/32\n",
            " 12544/102124 [==>...........................] - ETA: 4:53 - loss: 0.0549 - acc: 0.9799"
          ],
          "name": "stdout"
        },
        {
          "output_type": "stream",
          "text": [
            " 84064/102124 [=======================>......] - ETA: 58s - loss: 0.0526 - acc: 0.9804"
          ],
          "name": "stdout"
        },
        {
          "output_type": "stream",
          "text": [
            "102124/102124 [==============================] - 362s 4ms/step - loss: 0.0524 - acc: 0.9805 - val_loss: 0.0443 - val_acc: 0.9834\n",
            "roc-auc: 0.9873 - roc-auc_val: 0.9845                                                                                                    \n",
            "Epoch 3/32\n",
            "  4416/102124 [>.............................] - ETA: 5:18 - loss: 0.0465 - acc: 0.9832"
          ],
          "name": "stdout"
        },
        {
          "output_type": "stream",
          "text": [
            " 69216/102124 [===================>..........] - ETA: 1:47 - loss: 0.0489 - acc: 0.9815"
          ],
          "name": "stdout"
        },
        {
          "output_type": "stream",
          "text": [
            "102124/102124 [==============================] - 362s 4ms/step - loss: 0.0485 - acc: 0.9816 - val_loss: 0.0426 - val_acc: 0.9838\n",
            "Epoch 4/32\n",
            "  1440/102124 [..............................] - ETA: 5:29 - loss: 0.0526 - acc: 0.9791"
          ],
          "name": "stdout"
        },
        {
          "output_type": "stream",
          "text": [
            " 46720/102124 [============>.................] - ETA: 3:00 - loss: 0.0471 - acc: 0.9819"
          ],
          "name": "stdout"
        },
        {
          "output_type": "stream",
          "text": [
            " 89312/102124 [=========================>....] - ETA: 41s - loss: 0.0459 - acc: 0.9824"
          ],
          "name": "stdout"
        },
        {
          "output_type": "stream",
          "text": [
            "102124/102124 [==============================] - 362s 4ms/step - loss: 0.0461 - acc: 0.9823 - val_loss: 0.0453 - val_acc: 0.9829\n",
            "roc-auc: 0.99 - roc-auc_val: 0.9871                                                                                                    \n",
            "Epoch 5/32\n",
            "  5760/102124 [>.............................] - ETA: 5:16 - loss: 0.0469 - acc: 0.9818"
          ],
          "name": "stdout"
        },
        {
          "output_type": "stream",
          "text": [
            " 77024/102124 [=====================>........] - ETA: 1:21 - loss: 0.0444 - acc: 0.9828"
          ],
          "name": "stdout"
        },
        {
          "output_type": "stream",
          "text": [
            "102124/102124 [==============================] - 362s 4ms/step - loss: 0.0445 - acc: 0.9827 - val_loss: 0.0425 - val_acc: 0.9840\n",
            "Epoch 6/32\n",
            "  4416/102124 [>.............................] - ETA: 5:19 - loss: 0.0437 - acc: 0.9837"
          ],
          "name": "stdout"
        },
        {
          "output_type": "stream",
          "text": [
            " 68160/102124 [===================>..........] - ETA: 1:50 - loss: 0.0432 - acc: 0.9832"
          ],
          "name": "stdout"
        },
        {
          "output_type": "stream",
          "text": [
            "102124/102124 [==============================] - 362s 4ms/step - loss: 0.0434 - acc: 0.9832 - val_loss: 0.0427 - val_acc: 0.9836\n",
            "roc-auc: 0.9919 - roc-auc_val: 0.9886                                                                                                    \n",
            "Epoch 7/32\n",
            "   608/102124 [..............................] - ETA: 5:35 - loss: 0.0471 - acc: 0.9811"
          ],
          "name": "stdout"
        },
        {
          "output_type": "stream",
          "text": [
            " 48576/102124 [=============>................] - ETA: 2:54 - loss: 0.0422 - acc: 0.9835"
          ],
          "name": "stdout"
        },
        {
          "output_type": "stream",
          "text": [
            " 94560/102124 [==========================>...] - ETA: 24s - loss: 0.0421 - acc: 0.9836"
          ],
          "name": "stdout"
        },
        {
          "output_type": "stream",
          "text": [
            "102124/102124 [==============================] - 362s 4ms/step - loss: 0.0420 - acc: 0.9837 - val_loss: 0.0420 - val_acc: 0.9842\n",
            "Epoch 8/32\n",
            " 11136/102124 [==>...........................] - ETA: 4:56 - loss: 0.0395 - acc: 0.9846"
          ],
          "name": "stdout"
        },
        {
          "output_type": "stream",
          "text": [
            " 56256/102124 [===============>..............] - ETA: 2:29 - loss: 0.0408 - acc: 0.9841"
          ],
          "name": "stdout"
        },
        {
          "output_type": "stream",
          "text": [
            "102112/102124 [============================>.] - ETA: 0s - loss: 0.0412 - acc: 0.9839"
          ],
          "name": "stdout"
        },
        {
          "output_type": "stream",
          "text": [
            "102124/102124 [==============================] - 362s 4ms/step - loss: 0.0412 - acc: 0.9839 - val_loss: 0.0413 - val_acc: 0.9847\n",
            "roc-auc: 0.9924 - roc-auc_val: 0.9884                                                                                                    \n",
            "Epoch 9/32\n",
            "  8704/102124 [=>............................] - ETA: 5:04 - loss: 0.0412 - acc: 0.9838"
          ],
          "name": "stdout"
        },
        {
          "output_type": "stream",
          "text": [
            " 51744/102124 [==============>...............] - ETA: 2:44 - loss: 0.0406 - acc: 0.9841"
          ],
          "name": "stdout"
        },
        {
          "output_type": "stream",
          "text": [
            "102112/102124 [============================>.] - ETA: 0s - loss: 0.0407 - acc: 0.9840"
          ],
          "name": "stdout"
        },
        {
          "output_type": "stream",
          "text": [
            "\b\b\b\b\b\b\b\b\b\b\b\b\b\b\b\b\b\b\b\b\b\b\b\b\b\b\b\b\b\b\b\b\b\b\b\b\b\b\b\b\b\b\b\b\b\b\b\b\b\b\b\b\b\b\b\b\b\b\b\b\b\b\b\b\b\b\b\b\b\b\b\b\b\b\b\b\b\b\b\b\b\b\b\b\b\r102124/102124 [==============================] - 362s 4ms/step - loss: 0.0407 - acc: 0.9840 - val_loss: 0.0410 - val_acc: 0.9846\n",
            "Epoch 10/32\n",
            " 10144/102124 [=>............................] - ETA: 5:00 - loss: 0.0387 - acc: 0.9850"
          ],
          "name": "stdout"
        },
        {
          "output_type": "stream",
          "text": [
            " 99520/102124 [============================>.] - ETA: 8s - loss: 0.0398 - acc: 0.9844"
          ],
          "name": "stdout"
        },
        {
          "output_type": "stream",
          "text": [
            "102124/102124 [==============================] - 363s 4ms/step - loss: 0.0399 - acc: 0.9844 - val_loss: 0.0418 - val_acc: 0.9845\n",
            "roc-auc: 0.9932 - roc-auc_val: 0.989                                                                                                    \n",
            "Epoch 11/32\n",
            "  8128/102124 [=>............................] - ETA: 5:06 - loss: 0.0392 - acc: 0.9843"
          ],
          "name": "stdout"
        },
        {
          "output_type": "stream",
          "text": [
            " 53056/102124 [==============>...............] - ETA: 2:39 - loss: 0.0386 - acc: 0.9847"
          ],
          "name": "stdout"
        },
        {
          "output_type": "stream",
          "text": [
            " 96000/102124 [===========================>..] - ETA: 19s - loss: 0.0397 - acc: 0.9843"
          ],
          "name": "stdout"
        },
        {
          "output_type": "stream",
          "text": [
            "102124/102124 [==============================] - 362s 4ms/step - loss: 0.0396 - acc: 0.9843 - val_loss: 0.0446 - val_acc: 0.9840\n",
            "\n",
            "Epoch 00011: ReduceLROnPlateau reducing learning rate to 0.00017677669529803097.\n",
            "Epoch 12/32\n",
            "  8576/102124 [=>............................] - ETA: 5:04 - loss: 0.0406 - acc: 0.9849"
          ],
          "name": "stdout"
        },
        {
          "output_type": "stream",
          "text": [
            " 45152/102124 [============>.................] - ETA: 3:05 - loss: 0.0393 - acc: 0.9845"
          ],
          "name": "stdout"
        },
        {
          "output_type": "stream",
          "text": [
            " 87360/102124 [========================>.....] - ETA: 48s - loss: 0.0390 - acc: 0.9846"
          ],
          "name": "stdout"
        },
        {
          "output_type": "stream",
          "text": [
            "102124/102124 [==============================] - 361s 4ms/step - loss: 0.0387 - acc: 0.9847 - val_loss: 0.0459 - val_acc: 0.9839\n",
            "roc-auc: 0.9935 - roc-auc_val: 0.9883                                                                                                    \n",
            "Epoch 13/32\n",
            "  5248/102124 [>.............................] - ETA: 5:16 - loss: 0.0404 - acc: 0.9836"
          ],
          "name": "stdout"
        },
        {
          "output_type": "stream",
          "text": [
            " 52992/102124 [==============>...............] - ETA: 2:40 - loss: 0.0379 - acc: 0.9852"
          ],
          "name": "stdout"
        },
        {
          "output_type": "stream",
          "text": [
            " 97824/102124 [===========================>..] - ETA: 14s - loss: 0.0383 - acc: 0.9849"
          ],
          "name": "stdout"
        },
        {
          "output_type": "stream",
          "text": [
            "102124/102124 [==============================] - 362s 4ms/step - loss: 0.0383 - acc: 0.9849 - val_loss: 0.0434 - val_acc: 0.9845\n",
            "Epoch 14/32\n",
            " 12288/102124 [==>...........................] - ETA: 4:54 - loss: 0.0395 - acc: 0.9841"
          ],
          "name": "stdout"
        },
        {
          "output_type": "stream",
          "text": [
            " 58048/102124 [================>.............] - ETA: 2:23 - loss: 0.0378 - acc: 0.9850"
          ],
          "name": "stdout"
        },
        {
          "output_type": "stream",
          "text": [
            "102112/102124 [============================>.] - ETA: 0s - loss: 0.0378 - acc: 0.9849"
          ],
          "name": "stdout"
        },
        {
          "output_type": "stream",
          "text": [
            "102124/102124 [==============================] - 362s 4ms/step - loss: 0.0378 - acc: 0.9849 - val_loss: 0.0435 - val_acc: 0.9844\n",
            "roc-auc: 0.9938 - roc-auc_val: 0.9884                                                                                                    \n",
            "Epoch 15/32\n",
            "  8640/102124 [=>............................] - ETA: 5:05 - loss: 0.0369 - acc: 0.9854"
          ],
          "name": "stdout"
        },
        {
          "output_type": "stream",
          "text": [
            " 47200/102124 [============>.................] - ETA: 2:59 - loss: 0.0373 - acc: 0.9853"
          ],
          "name": "stdout"
        },
        {
          "output_type": "stream",
          "text": [
            " 99424/102124 [============================>.] - ETA: 8s - loss: 0.0374 - acc: 0.9852"
          ],
          "name": "stdout"
        },
        {
          "output_type": "stream",
          "text": [
            "102124/102124 [==============================] - 362s 4ms/step - loss: 0.0373 - acc: 0.9852 - val_loss: 0.0438 - val_acc: 0.9845\n",
            "Epoch 16/32\n",
            " 12928/102124 [==>...........................] - ETA: 4:50 - loss: 0.0374 - acc: 0.9847"
          ],
          "name": "stdout"
        },
        {
          "output_type": "stream",
          "text": [
            " 50400/102124 [=============>................] - ETA: 2:48 - loss: 0.0373 - acc: 0.9852"
          ],
          "name": "stdout"
        },
        {
          "output_type": "stream",
          "text": [
            " 87200/102124 [========================>.....] - ETA: 48s - loss: 0.0372 - acc: 0.9852"
          ],
          "name": "stdout"
        },
        {
          "output_type": "stream",
          "text": [
            "102124/102124 [==============================] - 362s 4ms/step - loss: 0.0372 - acc: 0.9852 - val_loss: 0.0439 - val_acc: 0.9844\n",
            "roc-auc: 0.9943 - roc-auc_val: 0.9888                                                                                                    \n",
            "Epoch 17/32\n",
            "  5184/102124 [>.............................] - ETA: 5:16 - loss: 0.0359 - acc: 0.9861"
          ],
          "name": "stdout"
        },
        {
          "output_type": "stream",
          "text": [
            " 51264/102124 [==============>...............] - ETA: 2:45 - loss: 0.0369 - acc: 0.9854"
          ],
          "name": "stdout"
        },
        {
          "output_type": "stream",
          "text": [
            " 92704/102124 [==========================>...] - ETA: 30s - loss: 0.0368 - acc: 0.9854"
          ],
          "name": "stdout"
        },
        {
          "output_type": "stream",
          "text": [
            "102124/102124 [==============================] - 362s 4ms/step - loss: 0.0367 - acc: 0.9855 - val_loss: 0.0436 - val_acc: 0.9844\n",
            "Epoch 18/32\n",
            " 10432/102124 [==>...........................] - ETA: 4:59 - loss: 0.0344 - acc: 0.9863"
          ],
          "name": "stdout"
        },
        {
          "output_type": "stream",
          "text": [
            " 58336/102124 [================>.............] - ETA: 2:22 - loss: 0.0361 - acc: 0.9854"
          ],
          "name": "stdout"
        },
        {
          "output_type": "stream",
          "text": [
            "100128/102124 [============================>.] - ETA: 6s - loss: 0.0363 - acc: 0.9853"
          ],
          "name": "stdout"
        },
        {
          "output_type": "stream",
          "text": [
            "102124/102124 [==============================] - 362s 4ms/step - loss: 0.0363 - acc: 0.9854 - val_loss: 0.0423 - val_acc: 0.9846\n",
            "roc-auc: 0.9944 - roc-auc_val: 0.9887                                                                                                    \n",
            "Epoch 19/32\n",
            "  8224/102124 [=>............................] - ETA: 5:05 - loss: 0.0353 - acc: 0.9862"
          ],
          "name": "stdout"
        },
        {
          "output_type": "stream",
          "text": [
            " 47616/102124 [============>.................] - ETA: 2:57 - loss: 0.0358 - acc: 0.9856"
          ],
          "name": "stdout"
        },
        {
          "output_type": "stream",
          "text": [
            " 86624/102124 [========================>.....] - ETA: 50s - loss: 0.0360 - acc: 0.9856"
          ],
          "name": "stdout"
        },
        {
          "output_type": "stream",
          "text": [
            "102124/102124 [==============================] - 362s 4ms/step - loss: 0.0360 - acc: 0.9855 - val_loss: 0.0414 - val_acc: 0.9847\n"
          ],
          "name": "stdout"
        }
      ]
    },
    {
      "metadata": {
        "id": "izWCJ3HMReV3",
        "colab_type": "code",
        "colab": {
          "autoexec": {
            "startup": false,
            "wait_interval": 0
          },
          "base_uri": "https://localhost:8080/",
          "height": 315
        },
        "outputId": "9d3fd9a8-1970-40f2-e4b1-bc39d08f2f64",
        "executionInfo": {
          "status": "ok",
          "timestamp": 1532834618188,
          "user_tz": -120,
          "elapsed": 2298,
          "user": {
            "displayName": "Deep Learning",
            "photoUrl": "https://lh3.googleusercontent.com/a/default-user=s128",
            "userId": "116564159010732479709"
          }
        }
      },
      "cell_type": "code",
      "source": [
        "plot_history(history)"
      ],
      "execution_count": 13,
      "outputs": [
        {
          "output_type": "display_data",
          "data": {
            "image/png": "[encoded data removed]",
            "text/plain": [
              "<matplotlib.figure.Figure at 0x7fe77e5ec710>"
            ]
          },
          "metadata": {
            "tags": []
          }
        }
      ]
    },
    {
      "metadata": {
        "id": "r2gtMBj2Tp9A",
        "colab_type": "code",
        "colab": {
          "autoexec": {
            "startup": false,
            "wait_interval": 0
          },
          "base_uri": "https://localhost:8080/",
          "height": 52
        },
        "outputId": "412f0ec8-5627-4c3c-fd7d-c4f8cf76fb62",
        "executionInfo": {
          "status": "ok",
          "timestamp": 1532834692981,
          "user_tz": -120,
          "elapsed": 74620,
          "user": {
            "displayName": "Deep Learning",
            "photoUrl": "https://lh3.googleusercontent.com/a/default-user=s128",
            "userId": "116564159010732479709"
          }
        }
      },
      "cell_type": "code",
      "source": [
        "print(evaluate_on_test(model))"
      ],
      "execution_count": 14,
      "outputs": [
        {
          "output_type": "stream",
          "text": [
            "31915/31915 [==============================] - 39s 1ms/step\n",
            "([0.04005879932652955, 0.9851062589036845], 0.9903181292040192)\n"
          ],
          "name": "stdout"
        }
      ]
    }
  ]
}
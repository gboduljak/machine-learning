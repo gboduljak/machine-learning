{
 "cells": [
  {
   "cell_type": "code",
   "execution_count": 1,
   "metadata": {
    "colab": {
     "autoexec": {
      "startup": false,
      "wait_interval": 0
     },
     "base_uri": "https://localhost:8080/",
     "height": 399
    },
    "colab_type": "code",
    "executionInfo": {
     "elapsed": 11727,
     "status": "ok",
     "timestamp": 1532903406204,
     "user": {
      "displayName": "Deep Learning",
      "photoUrl": "https://lh3.googleusercontent.com/a/default-user=s128",
      "userId": "116564159010732479709"
     },
     "user_tz": -120
    },
    "id": "yS1FnhiWX3Js",
    "outputId": "9686530c-5ae5-41bc-cf76-2faa0dee6eb1"
   },
   "outputs": [
    {
     "name": "stdout",
     "output_type": "stream",
     "text": [
      "Requirement already satisfied: keras in /usr/local/lib/python3.6/dist-packages (2.1.6)\n",
      "Requirement already satisfied: pyyaml in /usr/local/lib/python3.6/dist-packages (from keras) (3.13)\n",
      "Requirement already satisfied: scipy>=0.14 in /usr/local/lib/python3.6/dist-packages (from keras) (0.19.1)\n",
      "Requirement already satisfied: numpy>=1.9.1 in /usr/local/lib/python3.6/dist-packages (from keras) (1.14.5)\n",
      "Requirement already satisfied: h5py in /usr/local/lib/python3.6/dist-packages (from keras) (2.8.0)\n",
      "Requirement already satisfied: six>=1.9.0 in /usr/local/lib/python3.6/dist-packages (from keras) (1.11.0)\n",
      "Collecting sklearn\n",
      "  Downloading https://files.pythonhosted.org/packages/1e/7a/dbb3be0ce9bd5c8b7e3d87328e79063f8b263b2b1bfa4774cb1147bfcd3f/sklearn-0.0.tar.gz\n",
      "Requirement already satisfied: scikit-learn in /usr/local/lib/python3.6/dist-packages (from sklearn) (0.19.2)\n",
      "Building wheels for collected packages: sklearn\n",
      "  Running setup.py bdist_wheel for sklearn ... \u001b[?25l-\b \bdone\n",
      "\u001b[?25h  Stored in directory: /content/.cache/pip/wheels/76/03/bb/589d421d27431bcd2c6da284d5f2286c8e3b2ea3cf1594c074\n",
      "Successfully built sklearn\n",
      "Installing collected packages: sklearn\n",
      "Successfully installed sklearn-0.0\n",
      "Requirement already satisfied: matplotlib in /usr/local/lib/python3.6/dist-packages (2.1.2)\n",
      "Requirement already satisfied: pyparsing!=2.0.4,!=2.1.2,!=2.1.6,>=2.0.1 in /usr/local/lib/python3.6/dist-packages (from matplotlib) (2.2.0)\n",
      "Requirement already satisfied: pytz in /usr/local/lib/python3.6/dist-packages (from matplotlib) (2018.5)\n",
      "Requirement already satisfied: numpy>=1.7.1 in /usr/local/lib/python3.6/dist-packages (from matplotlib) (1.14.5)\n",
      "Requirement already satisfied: six>=1.10 in /usr/local/lib/python3.6/dist-packages (from matplotlib) (1.11.0)\n",
      "Requirement already satisfied: python-dateutil>=2.1 in /usr/local/lib/python3.6/dist-packages (from matplotlib) (2.5.3)\n",
      "Requirement already satisfied: cycler>=0.10 in /usr/local/lib/python3.6/dist-packages (from matplotlib) (0.10.0)\n"
     ]
    }
   ],
   "source": [
    "!pip install keras\n",
    "!pip install sklearn\n",
    "!pip install matplotlib\n",
    "!pip install -U -q PyDrive"
   ]
  },
  {
   "cell_type": "code",
   "execution_count": 2,
   "metadata": {
    "colab": {
     "autoexec": {
      "startup": false,
      "wait_interval": 0
     },
     "base_uri": "https://localhost:8080/",
     "height": 35
    },
    "colab_type": "code",
    "executionInfo": {
     "elapsed": 8693,
     "status": "ok",
     "timestamp": 1532903414924,
     "user": {
      "displayName": "Deep Learning",
      "photoUrl": "https://lh3.googleusercontent.com/a/default-user=s128",
      "userId": "116564159010732479709"
     },
     "user_tz": -120
    },
    "id": "xlKzkDJFrjA-",
    "outputId": "4e3d92f8-2957-4913-c1cc-b2b8609c1d8a"
   },
   "outputs": [
    {
     "name": "stderr",
     "output_type": "stream",
     "text": [
      "Using TensorFlow backend.\n"
     ]
    }
   ],
   "source": [
    "from keras import backend as K\n",
    "K.clear_session()"
   ]
  },
  {
   "cell_type": "code",
   "execution_count": 0,
   "metadata": {
    "colab": {
     "autoexec": {
      "startup": false,
      "wait_interval": 0
     }
    },
    "colab_type": "code",
    "id": "eQEKwl4oAxO7"
   },
   "outputs": [],
   "source": [
    "from keras import backend as K\n",
    "cfg = K.tf.ConfigProto()\n",
    "cfg.gpu_options.allow_growth = True\n",
    "K.set_session(K.tf.Session(config=cfg))"
   ]
  },
  {
   "cell_type": "code",
   "execution_count": 0,
   "metadata": {
    "colab": {
     "autoexec": {
      "startup": false,
      "wait_interval": 0
     }
    },
    "colab_type": "code",
    "id": "12M0egCCX-27"
   },
   "outputs": [],
   "source": [
    "from pydrive.auth import GoogleAuth\n",
    "from pydrive.drive import GoogleDrive\n",
    "from google.colab import auth\n",
    "from oauth2client.client import GoogleCredentials\n",
    "\n",
    "auth.authenticate_user()\n",
    "gauth = GoogleAuth()\n",
    "gauth.credentials = GoogleCredentials.get_application_default()\n",
    "drive = GoogleDrive(gauth)"
   ]
  },
  {
   "cell_type": "code",
   "execution_count": 0,
   "metadata": {
    "colab": {
     "autoexec": {
      "startup": false,
      "wait_interval": 0
     }
    },
    "colab_type": "code",
    "id": "4lN2WTUEYBYv"
   },
   "outputs": [],
   "source": [
    "file_import = drive.CreateFile({'id':'1p1bsltfTcIrZ_kfE6kwGTPzcdXorHbb2'})\n",
    "file_import.GetContentFile('colab_setup.py') \n",
    "from colab_setup import setup\n",
    "\n",
    "setup(drive)"
   ]
  },
  {
   "cell_type": "code",
   "execution_count": 6,
   "metadata": {
    "colab": {
     "autoexec": {
      "startup": false,
      "wait_interval": 0
     },
     "base_uri": "https://localhost:8080/",
     "height": 121
    },
    "colab_type": "code",
    "executionInfo": {
     "elapsed": 1987,
     "status": "ok",
     "timestamp": 1532903504938,
     "user": {
      "displayName": "Deep Learning",
      "photoUrl": "https://lh3.googleusercontent.com/a/default-user=s128",
      "userId": "116564159010732479709"
     },
     "user_tz": -120
    },
    "id": "cHBlD0tVj2TY",
    "outputId": "ccff0868-6550-4a03-d291-62f796cd8813"
   },
   "outputs": [
    {
     "name": "stdout",
     "output_type": "stream",
     "text": [
      "colab_setup.py\t\t\t roc_auc_callback.py\tX_train.npy\r\n",
      "custom_fast_text_embeddings.npy  sample_submission.csv\tX_val.npy\r\n",
      "datalab\t\t\t\t train_model.py\t\ty_test.npy\r\n",
      "fast_text_embeddings.npy\t X_submission.npy\ty_train_full.npy\r\n",
      "plot_history.py\t\t\t X_test.npy\t\ty_train.npy\r\n",
      "__pycache__\t\t\t X_train_full.npy\ty_val.npy\r\n"
     ]
    }
   ],
   "source": [
    "!ls"
   ]
  },
  {
   "cell_type": "code",
   "execution_count": 0,
   "metadata": {
    "colab": {
     "autoexec": {
      "startup": false,
      "wait_interval": 0
     }
    },
    "colab_type": "code",
    "id": "yMwWPTMYXyno"
   },
   "outputs": [],
   "source": [
    "import numpy as np\n",
    "import os\n",
    "\n",
    "from plot_history import plot_history\n",
    "from roc_auc_callback import RocAucCallback\n",
    "from train_model import train_with_cv, train_with_submitting, evaluate_on_test\n",
    "\n",
    "from keras.layers import *\n",
    "from keras.layers.merge import *\n",
    "from keras.initializers import *\n",
    "from keras.models import Model"
   ]
  },
  {
   "cell_type": "code",
   "execution_count": 0,
   "metadata": {
    "colab": {
     "autoexec": {
      "startup": false,
      "wait_interval": 0
     }
    },
    "colab_type": "code",
    "id": "irwBTJdINU0J"
   },
   "outputs": [],
   "source": [
    "from keras.optimizers import *\n",
    "from keras.initializers import *\n",
    "from keras.layers import *\n",
    "from keras.layers.merge import *\n",
    "from keras.models import *\n",
    "\n",
    "residual_convolution_options = dict({\n",
    "    'dropout_mode': 'spatial',\n",
    "    'dropout_rate': 0.2,\n",
    "    'filters': 64,\n",
    "    'kernel_size': 1,\n",
    "    'strides': 1,\n",
    "    'padding': 'same',\n",
    "    'activation': 'elu',\n",
    "    'should_preactivate': True\n",
    "})\n",
    "\n",
    "gru_options = {\n",
    "    'units': 128,\n",
    "    'dropout': 0.2,\n",
    "    'return_sequences': True\n",
    "}\n",
    "\n",
    "def convolution_block(input_layer, options):\n",
    "    convolution_input = Input(shape=[\n",
    "        int(input_layer.shape[1]),\n",
    "        int(input_layer.shape[2])\n",
    "    ])\n",
    "\n",
    "    convolution_block = convolution_input\n",
    "\n",
    "    if(options['should_preactivate']):\n",
    "        convolution_block = BatchNormalization()(convolution_block)\n",
    "        convolution_block = Activation(options['activation'])(convolution_block)\n",
    "        convolution_block = Conv1D(options['filters'], options['kernel_size'], strides=options['strides'],\n",
    "                                   padding=options['padding'], activation='linear', kernel_initializer='he_normal')(convolution_block)\n",
    "    else:\n",
    "        convolution_block = Conv1D(options['filters'], options['kernel_size'], strides=options['strides'],\n",
    "                                   padding=options['padding'], activation='linear', kernel_initializer='he_normal')(convolution_block)\n",
    "        convolution_block = BatchNormalization()(convolution_block)\n",
    "        convolution_block = Activation(options['activation'])(convolution_block)\n",
    "\n",
    "    convolution_output = convolution_block\n",
    "\n",
    "    if(options['dropout_mode'] == 'spatial'):\n",
    "        convolution_output = SpatialDropout1D(options['dropout_rate'])(convolution_output)\n",
    "    if(options['dropout_mode']== 'vanilla'):\n",
    "        convolution_output = Dropout(options['dropout_rate'])(convolution_output)\n",
    "\n",
    "    return Model(inputs=[convolution_input], outputs=[convolution_output])(input_layer)"
   ]
  },
  {
   "cell_type": "code",
   "execution_count": 0,
   "metadata": {
    "colab": {
     "autoexec": {
      "startup": false,
      "wait_interval": 0
     }
    },
    "colab_type": "code",
    "id": "sD9D5r9-Sdg7"
   },
   "outputs": [],
   "source": [
    "def residual_add_block(input_layer, should_pool):\n",
    "    convolution_input = Input(shape=[\n",
    "        int(input_layer.shape[1]),\n",
    "        int(input_layer.shape[2])\n",
    "    ])\n",
    "    \n",
    "    residual_block_pool = convolution_input\n",
    "\n",
    "    if(should_pool):\n",
    "        residual_block_pool = MaxPooling1D(pool_size=2, strides=2, padding='same')(convolution_input)\n",
    "\n",
    "    residual_block = add([\n",
    "        residual_block_pool,\n",
    "        convolution_block(residual_block_pool, residual_convolution_options)\n",
    "    ])\n",
    "    residual_block = add([\n",
    "        residual_block,\n",
    "        convolution_block(residual_block, residual_convolution_options)\n",
    "    ])\n",
    "    \n",
    "    convolution_output = add([residual_block, residual_block_pool])\n",
    "\n",
    "    return Model(inputs=[convolution_input], outputs=[convolution_output])(input_layer)"
   ]
  },
  {
   "cell_type": "code",
   "execution_count": 0,
   "metadata": {
    "colab": {
     "autoexec": {
      "startup": false,
      "wait_interval": 0
     }
    },
    "colab_type": "code",
    "id": "40AE8A3WGEAa"
   },
   "outputs": [],
   "source": [
    "def get_gru_last_step(sequences):\n",
    "    return Lambda(lambda sequence: sequence[:, -1, :])(sequences)"
   ]
  },
  {
   "cell_type": "code",
   "execution_count": 0,
   "metadata": {
    "colab": {
     "autoexec": {
      "startup": false,
      "wait_interval": 0
     }
    },
    "colab_type": "code",
    "id": "xOfIVhpoSdpQ"
   },
   "outputs": [],
   "source": [
    "def yoon_kim_feature_extractor(input_layer, filters):\n",
    "    extractor_block_input = Input(shape=[\n",
    "        int(input_layer.shape[1]),\n",
    "        int(input_layer.shape[2])\n",
    "    ])\n",
    "\n",
    "    block_1_conv_1 = Conv1D(filters, 1, activation = 'linear', padding = 'same', kernel_initializer = 'he_normal')(extractor_block_input)\n",
    "    block_1_batchnorm1 = BatchNormalization()(block_1_conv_1)\n",
    "    block_1_batchnorm1 = ELU()(block_1_batchnorm1)\n",
    "    block_1_max_pool1 = GlobalMaxPooling1D()(block_1_batchnorm1)\n",
    "\n",
    "    block_1_conv_2 = Conv1D(filters, 2, activation = 'linear', padding = 'same', kernel_initializer = 'he_normal')(extractor_block_input)\n",
    "    block_1_batchnorm2 = BatchNormalization()(block_1_conv_2)\n",
    "    block_1_batchnorm2 = ELU()(block_1_batchnorm2)\n",
    "    block_1_max_pool2 = GlobalMaxPooling1D()(block_1_batchnorm2)\n",
    "\n",
    "    block_1_conv_3 = Conv1D(filters, 3, activation = 'linear', padding = 'same', kernel_initializer = 'he_normal')(extractor_block_input)\n",
    "    block_1_batchnorm3 = BatchNormalization()(block_1_conv_3)\n",
    "    block_1_batchnorm3 = ELU()(block_1_batchnorm3)\n",
    "    block_1_max_pool3 = GlobalMaxPooling1D()(block_1_batchnorm3)\n",
    "\n",
    "    block_1_conv_4 = Conv1D(filters, 5, activation = 'linear', padding = 'same', kernel_initializer = 'he_normal')(extractor_block_input)\n",
    "    block_1_batchnorm4 = BatchNormalization()(block_1_conv_4)\n",
    "    block_1_batchnorm4 = ELU()(block_1_batchnorm4)\n",
    "    block_1_max_pool4 = GlobalMaxPooling1D()(block_1_batchnorm4)\n",
    "\n",
    "    features = concatenate([\n",
    "        block_1_max_pool1, \n",
    "        block_1_max_pool2, \n",
    "        block_1_max_pool3, \n",
    "        block_1_max_pool4\n",
    "    ])\n",
    "    \n",
    "    extractor_block_output = Dropout(0.2)(features)\n",
    "    \n",
    "    return Model(\n",
    "        inputs=[extractor_block_input], \n",
    "        outputs=[extractor_block_output]\n",
    "    )(input_layer)"
   ]
  },
  {
   "cell_type": "code",
   "execution_count": 0,
   "metadata": {
    "colab": {
     "autoexec": {
      "startup": false,
      "wait_interval": 0
     }
    },
    "colab_type": "code",
    "id": "PHbVmJqTSdxU"
   },
   "outputs": [],
   "source": [
    "def classification_block(input_layer, dropout_rate = 0.2):\n",
    "      \n",
    "    model = Dense(256, activation = 'linear', kernel_initializer = 'he_normal')(input_layer)\n",
    "    model = BatchNormalization()(model)\n",
    "    model = ELU()(model)\n",
    "    model = Dropout(dropout_rate)(model)\n",
    "    \n",
    "    model = Dense(256, activation = 'linear', kernel_initializer = 'he_normal')(model)\n",
    "    model = BatchNormalization()(model)\n",
    "    model = ELU()(model)\n",
    "    model = Dropout(dropout_rate)(model)\n",
    "\n",
    "    classification_block_output = Dense(6, activation='sigmoid', kernel_initializer = 'glorot_normal')(model)\n",
    "    \n",
    "    return classification_block_output"
   ]
  },
  {
   "cell_type": "code",
   "execution_count": 13,
   "metadata": {
    "colab": {
     "autoexec": {
      "startup": false,
      "wait_interval": 0
     },
     "base_uri": "https://localhost:8080/",
     "height": 1248
    },
    "colab_type": "code",
    "executionInfo": {
     "elapsed": 13343,
     "status": "ok",
     "timestamp": 1532903522990,
     "user": {
      "displayName": "Deep Learning",
      "photoUrl": "https://lh3.googleusercontent.com/a/default-user=s128",
      "userId": "116564159010732479709"
     },
     "user_tz": -120
    },
    "id": "LTFG7OgsXynw",
    "outputId": "00e80c76-1810-4370-cd18-437bf1f3f303"
   },
   "outputs": [
    {
     "name": "stdout",
     "output_type": "stream",
     "text": [
      "__________________________________________________________________________________________________\n",
      "Layer (type)                    Output Shape         Param #     Connected to                     \n",
      "==================================================================================================\n",
      "input_1 (InputLayer)            (None, 400)          0                                            \n",
      "__________________________________________________________________________________________________\n",
      "embedding_1 (Embedding)         (None, 400, 300)     9000000     input_1[0][0]                    \n",
      "__________________________________________________________________________________________________\n",
      "embedding_2 (Embedding)         (None, 400, 300)     9000000     input_1[0][0]                    \n",
      "__________________________________________________________________________________________________\n",
      "spatial_dropout1d_1 (SpatialDro (None, 400, 300)     0           embedding_1[0][0]                \n",
      "__________________________________________________________________________________________________\n",
      "spatial_dropout1d_2 (SpatialDro (None, 400, 300)     0           embedding_2[0][0]                \n",
      "__________________________________________________________________________________________________\n",
      "average_1 (Average)             (None, 400, 300)     0           spatial_dropout1d_1[0][0]        \n",
      "                                                                 spatial_dropout1d_2[0][0]        \n",
      "__________________________________________________________________________________________________\n",
      "spatial_dropout1d_3 (SpatialDro (None, 400, 300)     0           average_1[0][0]                  \n",
      "__________________________________________________________________________________________________\n",
      "bidirectional_1 (Bidirectional) (None, 400, 256)     330240      spatial_dropout1d_3[0][0]        \n",
      "__________________________________________________________________________________________________\n",
      "dropout_1 (Dropout)             (None, 400, 256)     0           bidirectional_1[0][0]            \n",
      "__________________________________________________________________________________________________\n",
      "model_1 (Model)                 (None, 400, 64)      17472       dropout_1[0][0]                  \n",
      "__________________________________________________________________________________________________\n",
      "model_4 (Model)                 (None, 400, 64)      8832        model_1[1][0]                    \n",
      "__________________________________________________________________________________________________\n",
      "model_7 (Model)                 (None, 200, 64)      8832        model_4[1][0]                    \n",
      "__________________________________________________________________________________________________\n",
      "model_10 (Model)                (None, 100, 64)      8832        model_7[1][0]                    \n",
      "__________________________________________________________________________________________________\n",
      "model_13 (Model)                (None, 50, 64)       8832        model_10[1][0]                   \n",
      "__________________________________________________________________________________________________\n",
      "global_max_pooling1d_1 (GlobalM (None, 256)          0           dropout_1[0][0]                  \n",
      "__________________________________________________________________________________________________\n",
      "global_average_pooling1d_1 (Glo (None, 256)          0           dropout_1[0][0]                  \n",
      "__________________________________________________________________________________________________\n",
      "lambda_1 (Lambda)               (None, 256)          0           dropout_1[0][0]                  \n",
      "__________________________________________________________________________________________________\n",
      "model_16 (Model)                (None, 25, 64)       8832        model_13[1][0]                   \n",
      "__________________________________________________________________________________________________\n",
      "concatenate_1 (Concatenate)     (None, 768)          0           global_max_pooling1d_1[0][0]     \n",
      "                                                                 global_average_pooling1d_1[0][0] \n",
      "                                                                 lambda_1[0][0]                   \n",
      "__________________________________________________________________________________________________\n",
      "model_17 (Model)                (None, 256)          46336       model_16[1][0]                   \n",
      "__________________________________________________________________________________________________\n",
      "concatenate_3 (Concatenate)     (None, 1024)         0           concatenate_1[0][0]              \n",
      "                                                                 model_17[1][0]                   \n",
      "__________________________________________________________________________________________________\n",
      "dense_1 (Dense)                 (None, 256)          262400      concatenate_3[0][0]              \n",
      "__________________________________________________________________________________________________\n",
      "batch_normalization_16 (BatchNo (None, 256)          1024        dense_1[0][0]                    \n",
      "__________________________________________________________________________________________________\n",
      "elu_5 (ELU)                     (None, 256)          0           batch_normalization_16[0][0]     \n",
      "__________________________________________________________________________________________________\n",
      "dropout_3 (Dropout)             (None, 256)          0           elu_5[0][0]                      \n",
      "__________________________________________________________________________________________________\n",
      "dense_2 (Dense)                 (None, 256)          65792       dropout_3[0][0]                  \n",
      "__________________________________________________________________________________________________\n",
      "batch_normalization_17 (BatchNo (None, 256)          1024        dense_2[0][0]                    \n",
      "__________________________________________________________________________________________________\n",
      "elu_6 (ELU)                     (None, 256)          0           batch_normalization_17[0][0]     \n",
      "__________________________________________________________________________________________________\n",
      "dropout_4 (Dropout)             (None, 256)          0           elu_6[0][0]                      \n",
      "__________________________________________________________________________________________________\n",
      "dense_3 (Dense)                 (None, 6)            1542        dropout_4[0][0]                  \n",
      "==================================================================================================\n",
      "Total params: 18,769,990\n",
      "Trainable params: 766,662\n",
      "Non-trainable params: 18,003,328\n",
      "__________________________________________________________________________________________________\n"
     ]
    }
   ],
   "source": [
    "max_words= 30000\n",
    "max_words_length = 400\n",
    "embedding_dimension = 300\n",
    "\n",
    "input_layer = Input(shape=(max_words_length,))\n",
    "\n",
    "pretrained_embedding_layer = Embedding(\n",
    "    max_words, \n",
    "    output_dim=embedding_dimension, \n",
    "    input_length=max_words_length,\n",
    "    weights = [np.load('fast_text_embeddings.npy')],\n",
    "    trainable = False\n",
    ")(input_layer)\n",
    "pretrained_embedding_layer = SpatialDropout1D(0.2)(pretrained_embedding_layer)\n",
    "\n",
    "custom_embedding_layer = Embedding(\n",
    "    max_words, \n",
    "    output_dim=embedding_dimension, \n",
    "    input_length=max_words_length,\n",
    "    weights = [np.load('custom_fast_text_embeddings.npy')],\n",
    "    trainable = False\n",
    ")(input_layer)\n",
    "custom_embedding_layer = SpatialDropout1D(0.2)(custom_embedding_layer)\n",
    "\n",
    "averaged_embedding_layer = Average()([pretrained_embedding_layer, custom_embedding_layer])\n",
    "averaged_embedding_layer = SpatialDropout1D(0.2)(averaged_embedding_layer)\n",
    "\n",
    "gru = Bidirectional(\n",
    "  CuDNNGRU(\n",
    "    units=gru_options['units'],\n",
    "    return_sequences=gru_options['return_sequences']\n",
    "  )\n",
    ")(averaged_embedding_layer)\n",
    "gru = Dropout(gru_options['dropout'])(gru)\n",
    "\n",
    "gru_features = concatenate([\n",
    "    GlobalMaxPooling1D()(gru),\n",
    "    GlobalAveragePooling1D()(gru),\n",
    "    get_gru_last_step(gru)\n",
    "])\n",
    "\n",
    "gru = convolution_block(gru, residual_convolution_options)\n",
    "\n",
    "model = residual_add_block(gru, should_pool = False)\n",
    "model = residual_add_block(model, should_pool = True)\n",
    "model = residual_add_block(model, should_pool = True)\n",
    "model = residual_add_block(model, should_pool = True)\n",
    "model = residual_add_block(model, should_pool = True)\n",
    "\n",
    "features = concatenate([\n",
    "    gru_features,\n",
    "    yoon_kim_feature_extractor(model, residual_convolution_options['filters'])\n",
    "])\n",
    "\n",
    "output_layer = classification_block(features)\n",
    "\n",
    "model = Model(input_layer, output_layer)\n",
    "\n",
    "model.compile(loss='binary_crossentropy', \n",
    "            optimizer='Adam',\n",
    "            metrics=['accuracy'])          \n",
    "\n",
    "model.summary()"
   ]
  },
  {
   "cell_type": "code",
   "execution_count": 14,
   "metadata": {
    "colab": {
     "autoexec": {
      "startup": false,
      "wait_interval": 0
     },
     "base_uri": "https://localhost:8080/",
     "height": 991
    },
    "colab_type": "code",
    "executionInfo": {
     "elapsed": 16504455,
     "status": "ok",
     "timestamp": 1532920027531,
     "user": {
      "displayName": "Deep Learning",
      "photoUrl": "https://lh3.googleusercontent.com/a/default-user=s128",
      "userId": "116564159010732479709"
     },
     "user_tz": -120
    },
    "id": "xwMmTewgXynz",
    "outputId": "c25a9747-ebc9-4b4b-e823-5c0bc18358bf"
   },
   "outputs": [
    {
     "name": "stdout",
     "output_type": "stream",
     "text": [
      "Train on 102124 samples, validate on 25532 samples\n",
      "Epoch 1/64\n",
      " 19232/102124 [====>.........................] - ETA: 9:24 - loss: 0.1179 - acc: 0.9599 54048/102124 [==============>...............] - ETA: 5:24 - loss: 0.0816 - acc: 0.9718 88832/102124 [=========================>....] - ETA: 1:29 - loss: 0.0714 - acc: 0.9750102124/102124 [==============================] - 727s 7ms/step - loss: 0.0693 - acc: 0.9756 - val_loss: 0.0453 - val_acc: 0.9829\n",
      "Epoch 2/64\n",
      " 40896/102124 [===========>..................] - ETA: 6:27 - loss: 0.0517 - acc: 0.9810 75424/102124 [=====================>........] - ETA: 2:55 - loss: 0.0508 - acc: 0.9813102124/102124 [==============================] - 721s 7ms/step - loss: 0.0507 - acc: 0.9813 - val_loss: 0.0424 - val_acc: 0.9839\n",
      "roc-auc: 0.9862 - roc-auc_val: 0.9845                                                                                                    \n",
      "Epoch 3/64\n",
      "  1824/102124 [..............................] - ETA: 10:30 - loss: 0.0527 - acc: 0.9813 34720/102124 [=========>....................] - ETA: 7:07 - loss: 0.0483 - acc: 0.9816 76960/102124 [=====================>........] - ETA: 2:47 - loss: 0.0472 - acc: 0.9819102124/102124 [==============================] - 717s 7ms/step - loss: 0.0466 - acc: 0.9821 - val_loss: 0.0407 - val_acc: 0.9842\n",
      "Epoch 4/64\n",
      "  3232/102124 [..............................] - ETA: 10:26 - loss: 0.0430 - acc: 0.9824 35904/102124 [=========>....................] - ETA: 6:59 - loss: 0.0441 - acc: 0.9829 69472/102124 [===================>..........] - ETA: 3:31 - loss: 0.0444 - acc: 0.9829102124/102124 [==============================] - 719s 7ms/step - loss: 0.0443 - acc: 0.9831 - val_loss: 0.0410 - val_acc: 0.9840\n",
      "roc-auc: 0.991 - roc-auc_val: 0.9876                                                                                                    \n",
      "Epoch 5/64\n",
      "   576/102124 [..............................] - ETA: 10:38 - loss: 0.0322 - acc: 0.9861 33984/102124 [========>.....................] - ETA: 7:10 - loss: 0.0416 - acc: 0.9837 69536/102124 [===================>..........] - ETA: 3:34 - loss: 0.0420 - acc: 0.9837102124/102124 [==============================] - 717s 7ms/step - loss: 0.0421 - acc: 0.9836 - val_loss: 0.0409 - val_acc: 0.9841\n",
      "\n",
      "Epoch 00005: ReduceLROnPlateau reducing learning rate to 0.0003298769879620522.\n",
      "Epoch 6/64\n",
      "   544/102124 [..............................] - ETA: 10:46 - loss: 0.0406 - acc: 0.9835 32704/102124 [========>.....................] - ETA: 7:19 - loss: 0.0410 - acc: 0.9842 65312/102124 [==================>...........] - ETA: 3:55 - loss: 0.0404 - acc: 0.9843101600/102124 [============================>.] - ETA: 3s - loss: 0.0404 - acc: 0.9843102124/102124 [==============================] - 720s 7ms/step - loss: 0.0404 - acc: 0.9843 - val_loss: 0.0402 - val_acc: 0.9842\n",
      "roc-auc: 0.9935 - roc-auc_val: 0.9893                                                                                                    \n",
      "Epoch 7/64\n",
      "  7712/102124 [=>............................] - ETA: 9:56 - loss: 0.0376 - acc: 0.9857 40448/102124 [==========>...................] - ETA: 6:29 - loss: 0.0388 - acc: 0.9849 75616/102124 [=====================>........] - ETA: 2:54 - loss: 0.0391 - acc: 0.9847102124/102124 [==============================] - 721s 7ms/step - loss: 0.0388 - acc: 0.9848 - val_loss: 0.0405 - val_acc: 0.9842\n",
      "Epoch 8/64\n",
      "  3200/102124 [..............................] - ETA: 10:26 - loss: 0.0375 - acc: 0.9857 35872/102124 [=========>....................] - ETA: 6:59 - loss: 0.0368 - acc: 0.9858 69344/102124 [===================>..........] - ETA: 3:28 - loss: 0.0377 - acc: 0.9852102124/102124 [==============================] - 717s 7ms/step - loss: 0.0375 - acc: 0.9853 - val_loss: 0.0404 - val_acc: 0.9845\n",
      "roc-auc: 0.9945 - roc-auc_val: 0.9888                                                                                                    \n",
      "Epoch 9/64\n",
      "   480/102124 [..............................] - ETA: 10:39 - loss: 0.0283 - acc: 0.9913 32096/102124 [========>.....................] - ETA: 7:22 - loss: 0.0364 - acc: 0.9853 65952/102124 [==================>...........] - ETA: 3:54 - loss: 0.0363 - acc: 0.9855101152/102124 [============================>.] - ETA: 6s - loss: 0.0362 - acc: 0.9856102124/102124 [==============================] - 722s 7ms/step - loss: 0.0363 - acc: 0.9855 - val_loss: 0.0412 - val_acc: 0.9842\n",
      "Epoch 10/64\n",
      " 12448/102124 [==>...........................] - ETA: 9:26 - loss: 0.0350 - acc: 0.9863 44768/102124 [============>.................] - ETA: 6:01 - loss: 0.0345 - acc: 0.9862 78112/102124 [=====================>........] - ETA: 2:33 - loss: 0.0346 - acc: 0.9861102124/102124 [==============================] - 714s 7ms/step - loss: 0.0352 - acc: 0.9859 - val_loss: 0.0397 - val_acc: 0.9845\n",
      "roc-auc: 0.9956 - roc-auc_val: 0.9887                                                                                                    \n",
      "Epoch 11/64\n",
      "  2496/102124 [..............................] - ETA: 10:27 - loss: 0.0281 - acc: 0.9894 35360/102124 [=========>....................] - ETA: 7:01 - loss: 0.0339 - acc: 0.9866 68736/102124 [===================>..........] - ETA: 3:34 - loss: 0.0342 - acc: 0.9864102124/102124 [==============================] - 721s 7ms/step - loss: 0.0343 - acc: 0.9863 - val_loss: 0.0414 - val_acc: 0.9843\n",
      "Epoch 12/64\n",
      "   800/102124 [..............................] - ETA: 11:00 - loss: 0.0302 - acc: 0.9894 33888/102124 [========>.....................] - ETA: 7:12 - loss: 0.0329 - acc: 0.9867 66240/102124 [==================>...........] - ETA: 3:47 - loss: 0.0331 - acc: 0.9867102112/102124 [============================>.] - ETA: 0s - loss: 0.0333 - acc: 0.9866102124/102124 [==============================] - 713s 7ms/step - loss: 0.0333 - acc: 0.9866 - val_loss: 0.0408 - val_acc: 0.9839\n",
      "roc-auc: 0.9964 - roc-auc_val: 0.9882                                                                                                    \n",
      "Epoch 13/64\n",
      "  7904/102124 [=>............................] - ETA: 9:54 - loss: 0.0302 - acc: 0.9880 40480/102124 [==========>...................] - ETA: 6:28 - loss: 0.0323 - acc: 0.9871 76032/102124 [=====================>........] - ETA: 2:48 - loss: 0.0326 - acc: 0.9870102124/102124 [==============================] - 720s 7ms/step - loss: 0.0324 - acc: 0.9871 - val_loss: 0.0417 - val_acc: 0.9842\n",
      "Epoch 14/64\n",
      "  3488/102124 [>.............................] - ETA: 11:03 - loss: 0.0306 - acc: 0.9874 35552/102124 [=========>....................] - ETA: 7:04 - loss: 0.0308 - acc: 0.9877 68064/102124 [==================>...........] - ETA: 3:36 - loss: 0.0311 - acc: 0.9876102124/102124 [==============================] - 711s 7ms/step - loss: 0.0311 - acc: 0.9875 - val_loss: 0.0408 - val_acc: 0.9841\n",
      "roc-auc: 0.9969 - roc-auc_val: 0.9886                                                                                                    \n",
      "Epoch 15/64\n",
      "    96/102124 [..............................] - ETA: 10:35 - loss: 0.0171 - acc: 0.9931 32640/102124 [========>.....................] - ETA: 7:23 - loss: 0.0308 - acc: 0.9876 65664/102124 [==================>...........] - ETA: 3:53 - loss: 0.0307 - acc: 0.9876100576/102124 [============================>.] - ETA: 10s - loss: 0.0308 - acc: 0.9876102124/102124 [==============================] - 710s 7ms/step - loss: 0.0307 - acc: 0.9876 - val_loss: 0.0414 - val_acc: 0.9839\n",
      "Epoch 16/64\n",
      " 12320/102124 [==>...........................] - ETA: 9:44 - loss: 0.0301 - acc: 0.9881 44896/102124 [============>.................] - ETA: 6:04 - loss: 0.0303 - acc: 0.9878 78848/102124 [======================>.......] - ETA: 2:29 - loss: 0.0300 - acc: 0.9879102124/102124 [==============================] - 717s 7ms/step - loss: 0.0301 - acc: 0.9878 - val_loss: 0.0414 - val_acc: 0.9842\n",
      "\n",
      "Epoch 00016: ReduceLROnPlateau reducing learning rate to 0.00010511204891372472.\n",
      "roc-auc: 0.9974 - roc-auc_val: 0.9881                                                                                                    \n",
      "Epoch 17/64\n"
     ]
    },
    {
     "name": "stdout",
     "output_type": "stream",
     "text": [
      "  2240/102124 [..............................] - ETA: 10:30 - loss: 0.0256 - acc: 0.9888 35232/102124 [=========>....................] - ETA: 7:04 - loss: 0.0289 - acc: 0.9882 69184/102124 [===================>..........] - ETA: 3:33 - loss: 0.0285 - acc: 0.9885102124/102124 [==============================] - 726s 7ms/step - loss: 0.0293 - acc: 0.9882 - val_loss: 0.0418 - val_acc: 0.9841\n",
      "Epoch 18/64\n",
      "   896/102124 [..............................] - ETA: 11:03 - loss: 0.0278 - acc: 0.98 33824/102124 [========>.....................] - ETA: 7:15 - loss: 0.0290 - acc: 0.9884 66464/102124 [==================>...........] - ETA: 3:46 - loss: 0.0288 - acc: 0.9885102124/102124 [==============================] - 724s 7ms/step - loss: 0.0290 - acc: 0.9884 - val_loss: 0.0421 - val_acc: 0.9838\n",
      "roc-auc: 0.9977 - roc-auc_val: 0.9874                                                                                                    \n",
      "Epoch 19/64\n",
      "    32/102124 [..............................] - ETA: 11:19 - loss: 0.0314 - acc: 0.9948 32288/102124 [========>.....................] - ETA: 7:22 - loss: 0.0270 - acc: 0.9891 67072/102124 [==================>...........] - ETA: 3:49 - loss: 0.0278 - acc: 0.9888102124/102124 [==============================] - 734s 7ms/step - loss: 0.0281 - acc: 0.9886 - val_loss: 0.0426 - val_acc: 0.9839\n",
      "Epoch 20/64\n",
      "   384/102124 [..............................] - ETA: 11:04 - loss: 0.0220 - acc: 0.9926 33568/102124 [========>.....................] - ETA: 7:14 - loss: 0.0275 - acc: 0.9889 71168/102124 [===================>..........] - ETA: 3:18 - loss: 0.0275 - acc: 0.9888102124/102124 [==============================] - 722s 7ms/step - loss: 0.0277 - acc: 0.9887 - val_loss: 0.0437 - val_acc: 0.9837\n",
      "roc-auc: 0.998 - roc-auc_val: 0.9872                                                                                                    \n"
     ]
    }
   ],
   "source": [
    "history = train_with_cv(model, epochs=64, batchSize=32, rocEvery = 2)"
   ]
  },
  {
   "cell_type": "code",
   "execution_count": 15,
   "metadata": {
    "colab": {
     "autoexec": {
      "startup": false,
      "wait_interval": 0
     },
     "base_uri": "https://localhost:8080/",
     "height": 295
    },
    "colab_type": "code",
    "executionInfo": {
     "elapsed": 3141,
     "status": "ok",
     "timestamp": 1532920030802,
     "user": {
      "displayName": "Deep Learning",
      "photoUrl": "https://lh3.googleusercontent.com/a/default-user=s128",
      "userId": "116564159010732479709"
     },
     "user_tz": -120
    },
    "id": "izWCJ3HMReV3",
    "outputId": "66ae1016-a794-4487-dc56-7997573c5cf4"
   },
   "outputs": [
    {
     "data": {
      "image/png": "[encoded data removed]",
      "text/plain": [
       "<matplotlib.figure.Figure at 0x7febce1787b8>"
      ]
     },
     "metadata": {
      "tags": []
     },
     "output_type": "display_data"
    }
   ],
   "source": [
    "plot_history(history)"
   ]
  },
  {
   "cell_type": "code",
   "execution_count": 16,
   "metadata": {
    "colab": {
     "autoexec": {
      "startup": false,
      "wait_interval": 0
     },
     "base_uri": "https://localhost:8080/",
     "height": 52
    },
    "colab_type": "code",
    "executionInfo": {
     "elapsed": 111080,
     "status": "ok",
     "timestamp": 1532920141926,
     "user": {
      "displayName": "Deep Learning",
      "photoUrl": "https://lh3.googleusercontent.com/a/default-user=s128",
      "userId": "116564159010732479709"
     },
     "user_tz": -120
    },
    "id": "r2gtMBj2Tp9A",
    "outputId": "6de926e6-9938-48ea-8f54-2734a2d39513"
   },
   "outputs": [
    {
     "name": "stdout",
     "output_type": "stream",
     "text": [
      "31915/31915 [==============================] - 60s 2ms/step\n",
      "([0.042220552028691564, 0.984443037304108], 0.9878594498514278)\n"
     ]
    }
   ],
   "source": [
    "print(evaluate_on_test(model))"
   ]
  }
 ],
 "metadata": {
  "accelerator": "GPU",
  "colab": {
   "collapsed_sections": [],
   "default_view": {},
   "name": "gru_128_residual_add_64_5_blocks_pool.ipynb",
   "provenance": [],
   "version": "0.3.2",
   "views": {}
  },
  "kernelspec": {
   "display_name": "Python 3",
   "language": "python",
   "name": "python3"
  },
  "language_info": {
   "codemirror_mode": {
    "name": "ipython",
    "version": 3
   },
   "file_extension": ".py",
   "mimetype": "text/x-python",
   "name": "python",
   "nbconvert_exporter": "python",
   "pygments_lexer": "ipython3",
   "version": "3.6.2"
  }
 },
 "nbformat": 4,
 "nbformat_minor": 1
}

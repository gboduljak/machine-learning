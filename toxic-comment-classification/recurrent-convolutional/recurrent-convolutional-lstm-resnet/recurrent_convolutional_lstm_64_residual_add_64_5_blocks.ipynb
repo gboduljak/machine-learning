{
  "nbformat": 4,
  "nbformat_minor": 0,
  "metadata": {
    "colab": {
      "name": "recurrent_convolutional_lstm_64_residual_add_64_5_blocks.ipynb",
      "version": "0.3.2",
      "views": {},
      "default_view": {},
      "provenance": [],
      "collapsed_sections": []
    },
    "kernelspec": {
      "display_name": "Python 3",
      "language": "python",
      "name": "python3"
    },
    "accelerator": "GPU"
  },
  "cells": [
    {
      "metadata": {
        "id": "yS1FnhiWX3Js",
        "colab_type": "code",
        "colab": {
          "autoexec": {
            "startup": false,
            "wait_interval": 0
          },
          "base_uri": "https://localhost:8080/",
          "height": 297
        },
        "outputId": "a2e048bc-86a7-47df-cc5e-e13c55957d19",
        "executionInfo": {
          "status": "ok",
          "timestamp": 1532967901573,
          "user_tz": -120,
          "elapsed": 9117,
          "user": {
            "displayName": "Deep Learning",
            "photoUrl": "https://lh3.googleusercontent.com/a/default-user=s128",
            "userId": "115257841230779963257"
          }
        }
      },
      "cell_type": "code",
      "source": [
        "!pip install keras\n",
        "!pip install sklearn\n",
        "!pip install matplotlib\n",
        "!pip install -U -q PyDrive"
      ],
      "execution_count": 1,
      "outputs": [
        {
          "output_type": "stream",
          "text": [
            "Requirement already satisfied: keras in /usr/local/lib/python3.6/dist-packages (2.1.6)\n",
            "Requirement already satisfied: scipy>=0.14 in /usr/local/lib/python3.6/dist-packages (from keras) (0.19.1)\n",
            "Requirement already satisfied: pyyaml in /usr/local/lib/python3.6/dist-packages (from keras) (3.13)\n",
            "Requirement already satisfied: numpy>=1.9.1 in /usr/local/lib/python3.6/dist-packages (from keras) (1.14.5)\n",
            "Requirement already satisfied: six>=1.9.0 in /usr/local/lib/python3.6/dist-packages (from keras) (1.11.0)\n",
            "Requirement already satisfied: h5py in /usr/local/lib/python3.6/dist-packages (from keras) (2.8.0)\n",
            "Requirement already satisfied: sklearn in /usr/local/lib/python3.6/dist-packages (0.0)\n",
            "Requirement already satisfied: scikit-learn in /usr/local/lib/python3.6/dist-packages (from sklearn) (0.19.2)\n",
            "Requirement already satisfied: matplotlib in /usr/local/lib/python3.6/dist-packages (2.1.2)\n",
            "Requirement already satisfied: pyparsing!=2.0.4,!=2.1.2,!=2.1.6,>=2.0.1 in /usr/local/lib/python3.6/dist-packages (from matplotlib) (2.2.0)\n",
            "Requirement already satisfied: numpy>=1.7.1 in /usr/local/lib/python3.6/dist-packages (from matplotlib) (1.14.5)\n",
            "Requirement already satisfied: pytz in /usr/local/lib/python3.6/dist-packages (from matplotlib) (2018.5)\n",
            "Requirement already satisfied: cycler>=0.10 in /usr/local/lib/python3.6/dist-packages (from matplotlib) (0.10.0)\n",
            "Requirement already satisfied: python-dateutil>=2.1 in /usr/local/lib/python3.6/dist-packages (from matplotlib) (2.5.3)\n",
            "Requirement already satisfied: six>=1.10 in /usr/local/lib/python3.6/dist-packages (from matplotlib) (1.11.0)\n"
          ],
          "name": "stdout"
        }
      ]
    },
    {
      "metadata": {
        "id": "xlKzkDJFrjA-",
        "colab_type": "code",
        "colab": {
          "autoexec": {
            "startup": false,
            "wait_interval": 0
          },
          "base_uri": "https://localhost:8080/",
          "height": 35
        },
        "outputId": "9a577c28-1632-4870-abc0-d3a24323abad",
        "executionInfo": {
          "status": "ok",
          "timestamp": 1532967903495,
          "user_tz": -120,
          "elapsed": 1862,
          "user": {
            "displayName": "Deep Learning",
            "photoUrl": "https://lh3.googleusercontent.com/a/default-user=s128",
            "userId": "115257841230779963257"
          }
        }
      },
      "cell_type": "code",
      "source": [
        "from keras import backend as K\n",
        "K.clear_session()"
      ],
      "execution_count": 2,
      "outputs": [
        {
          "output_type": "stream",
          "text": [
            "Using TensorFlow backend.\n"
          ],
          "name": "stderr"
        }
      ]
    },
    {
      "metadata": {
        "id": "eQEKwl4oAxO7",
        "colab_type": "code",
        "colab": {
          "autoexec": {
            "startup": false,
            "wait_interval": 0
          }
        }
      },
      "cell_type": "code",
      "source": [
        "from keras import backend as K\n",
        "cfg = K.tf.ConfigProto()\n",
        "cfg.gpu_options.allow_growth = True\n",
        "K.set_session(K.tf.Session(config=cfg))"
      ],
      "execution_count": 0,
      "outputs": []
    },
    {
      "metadata": {
        "id": "12M0egCCX-27",
        "colab_type": "code",
        "colab": {
          "autoexec": {
            "startup": false,
            "wait_interval": 0
          }
        }
      },
      "cell_type": "code",
      "source": [
        "from pydrive.auth import GoogleAuth\n",
        "from pydrive.drive import GoogleDrive\n",
        "from google.colab import auth\n",
        "from oauth2client.client import GoogleCredentials\n",
        "\n",
        "auth.authenticate_user()\n",
        "gauth = GoogleAuth()\n",
        "gauth.credentials = GoogleCredentials.get_application_default()\n",
        "drive = GoogleDrive(gauth)"
      ],
      "execution_count": 0,
      "outputs": []
    },
    {
      "metadata": {
        "id": "4lN2WTUEYBYv",
        "colab_type": "code",
        "colab": {
          "autoexec": {
            "startup": false,
            "wait_interval": 0
          }
        }
      },
      "cell_type": "code",
      "source": [
        "file_import = drive.CreateFile({'id':'1p1bsltfTcIrZ_kfE6kwGTPzcdXorHbb2'})\n",
        "file_import.GetContentFile('colab_setup.py') \n",
        "from colab_setup import setup\n",
        "\n",
        "setup(drive)"
      ],
      "execution_count": 0,
      "outputs": []
    },
    {
      "metadata": {
        "id": "cHBlD0tVj2TY",
        "colab_type": "code",
        "colab": {
          "autoexec": {
            "startup": false,
            "wait_interval": 0
          },
          "base_uri": "https://localhost:8080/",
          "height": 121
        },
        "outputId": "d49ec061-a8ff-42b2-dcae-fc13f0abe61f",
        "executionInfo": {
          "status": "ok",
          "timestamp": 1532967929184,
          "user_tz": -120,
          "elapsed": 2002,
          "user": {
            "displayName": "Deep Learning",
            "photoUrl": "https://lh3.googleusercontent.com/a/default-user=s128",
            "userId": "115257841230779963257"
          }
        }
      },
      "cell_type": "code",
      "source": [
        "!ls"
      ],
      "execution_count": 6,
      "outputs": [
        {
          "output_type": "stream",
          "text": [
            "colab_setup.py\t\t\t roc_auc_callback.py\tX_train.npy\r\n",
            "custom_fast_text_embeddings.npy  sample_submission.csv\tX_val.npy\r\n",
            "datalab\t\t\t\t train_model.py\t\ty_test.npy\r\n",
            "fast_text_embeddings.npy\t X_submission.npy\ty_train_full.npy\r\n",
            "plot_history.py\t\t\t X_test.npy\t\ty_train.npy\r\n",
            "__pycache__\t\t\t X_train_full.npy\ty_val.npy\r\n"
          ],
          "name": "stdout"
        }
      ]
    },
    {
      "metadata": {
        "id": "yMwWPTMYXyno",
        "colab_type": "code",
        "colab": {
          "autoexec": {
            "startup": false,
            "wait_interval": 0
          }
        }
      },
      "cell_type": "code",
      "source": [
        "import numpy as np\n",
        "import os\n",
        "\n",
        "from plot_history import plot_history\n",
        "from roc_auc_callback import RocAucCallback\n",
        "from train_model import train_with_cv, train_with_submitting, evaluate_on_test"
      ],
      "execution_count": 0,
      "outputs": []
    },
    {
      "metadata": {
        "id": "irwBTJdINU0J",
        "colab_type": "code",
        "colab": {
          "autoexec": {
            "startup": false,
            "wait_interval": 0
          }
        }
      },
      "cell_type": "code",
      "source": [
        "from keras.layers import *\n",
        "from keras.layers.merge import concatenate\n",
        "from keras.models import Model\n",
        "from keras.backend import reverse"
      ],
      "execution_count": 0,
      "outputs": []
    },
    {
      "metadata": {
        "id": "xOfIVhpoSdpQ",
        "colab_type": "code",
        "colab": {
          "autoexec": {
            "startup": false,
            "wait_interval": 0
          }
        }
      },
      "cell_type": "code",
      "source": [
        "max_words = 30000\n",
        "max_words_length = 400\n",
        "embedding_dimension = 300\n",
        "\n",
        "lstm_options = {\n",
        "    'units': 64,\n",
        "    'dropout': 0.2,\n",
        "    'return_sequences': True\n",
        "}\n",
        "\n",
        "convolution_options = {\n",
        "    'dropout_mode': 'spatial',\n",
        "    'dropout_rate': 0.2,\n",
        "    'filters': 300,\n",
        "    'kernel_size': 1,\n",
        "    'strides': 1,\n",
        "    'padding': 'valid',\n",
        "    'activation': 'tanh',\n",
        "    'dilation_rate': 1,\n",
        "    'should_preactivate': True\n",
        "}"
      ],
      "execution_count": 0,
      "outputs": []
    },
    {
      "metadata": {
        "id": "sD9D5r9-Sdg7",
        "colab_type": "code",
        "colab": {
          "autoexec": {
            "startup": false,
            "wait_interval": 0
          }
        }
      },
      "cell_type": "code",
      "source": [
        "def forward_lstm(comment_embedding):\n",
        "    lstm = CuDNNLSTM(\n",
        "        units=lstm_options['units'], \n",
        "        return_sequences=lstm_options['return_sequences']\n",
        "    )(comment_embedding)\n",
        "    lstm = Dropout(lstm_options['dropout'])(lstm)\n",
        "    \n",
        "    return lstm\n",
        "\n",
        "def backward_lstm(comment_embedding):\n",
        "    reversed_embeddings = Lambda(lambda x: reverse(x, axes=1))(comment_embedding)\n",
        "    lstm = CuDNNLSTM(\n",
        "        units=lstm_options['units'], \n",
        "        return_sequences=lstm_options['return_sequences']\n",
        "    )(reversed_embeddings)   \n",
        "    lstm = Dropout(lstm_options['dropout'])(lstm)\n",
        "\n",
        "    return Lambda(lambda x: reverse(x, axes=1))(lstm)"
      ],
      "execution_count": 0,
      "outputs": []
    },
    {
      "metadata": {
        "id": "aXQ_KBYE98jD",
        "colab_type": "code",
        "colab": {
          "autoexec": {
            "startup": false,
            "wait_interval": 0
          }
        }
      },
      "cell_type": "code",
      "source": [
        "from keras.optimizers import *\n",
        "from keras.initializers import *\n",
        "from keras.layers import *\n",
        "from keras.layers.merge import *\n",
        "from keras.models import *\n",
        "\n",
        "residual_convolution_options = dict({\n",
        "    'dropout_mode': 'spatial',\n",
        "    'dropout_rate': 0.2,\n",
        "    'filters': 64,\n",
        "    'kernel_size': 1,\n",
        "    'strides': 1,\n",
        "    'padding': 'same',\n",
        "    'activation': 'elu',\n",
        "    'dilation_rate': 1,\n",
        "    'should_preactivate': True\n",
        "})\n",
        "\n",
        "scaled_residual_convolution_options=residual_convolution_options\n",
        "scaled_residual_convolution_options['activation']='tanh'\n",
        "\n",
        "def convolution_block(input_layer, options):\n",
        "    convolution_input = Input(shape=[\n",
        "        int(input_layer.shape[1]),\n",
        "        int(input_layer.shape[2])\n",
        "    ])\n",
        "\n",
        "    convolution_block = convolution_input\n",
        "\n",
        "    if(options['should_preactivate']):\n",
        "        convolution_block = BatchNormalization()(convolution_block)\n",
        "        convolution_block = Activation(options['activation'])(convolution_block)\n",
        "        convolution_block = Conv1D(options['filters'], options['kernel_size'], strides=options['strides'],\n",
        "                                   dilation_rate=options['dilation_rate'],\n",
        "                                   padding=options['padding'], activation='linear', kernel_initializer='he_normal')(convolution_block)\n",
        "    else:\n",
        "        convolution_block = Conv1D(options['filters'], options['kernel_size'], strides=options['strides'],\n",
        "                                   dilation_rate=options['dilation_rate'],\n",
        "                                   padding=options['padding'], activation='linear', kernel_initializer='he_normal')(convolution_block)\n",
        "        convolution_block = BatchNormalization()(convolution_block)\n",
        "        convolution_block = Activation(options['activation'])(convolution_block)\n",
        "\n",
        "    convolution_output = convolution_block\n",
        "\n",
        "    if(options['dropout_mode'] == 'spatial'):\n",
        "        convolution_output = SpatialDropout1D(options['dropout_rate'])(convolution_output)\n",
        "    if(options['dropout_mode']== 'vanilla'):\n",
        "        convolution_output = Dropout(options['dropout_rate'])(convolution_output)\n",
        "\n",
        "    return Model(inputs=[convolution_input], outputs=[convolution_output])(input_layer)"
      ],
      "execution_count": 0,
      "outputs": []
    },
    {
      "metadata": {
        "id": "VzcmqQkr-BHK",
        "colab_type": "code",
        "colab": {
          "autoexec": {
            "startup": false,
            "wait_interval": 0
          }
        }
      },
      "cell_type": "code",
      "source": [
        "def residual_add_block(input_layer, should_pool, dilation_rate=1):\n",
        "    residual_convolution_options['dilation_rate'] = dilation_rate\n",
        "    \n",
        "    convolution_input = Input(shape=[\n",
        "        int(input_layer.shape[1]),\n",
        "        int(input_layer.shape[2])\n",
        "    ])\n",
        "    \n",
        "    residual_block_pool = convolution_input\n",
        "\n",
        "    if(should_pool):\n",
        "        residual_block_pool = MaxPooling1D(pool_size=2, strides=2, padding='same')(convolution_input)\n",
        "\n",
        "    residual_block = add([\n",
        "        residual_block_pool,\n",
        "        convolution_block(residual_block_pool, residual_convolution_options)\n",
        "    ])\n",
        "    residual_block = add([\n",
        "        residual_block,\n",
        "        convolution_block(residual_block, residual_convolution_options)\n",
        "    ])\n",
        "    \n",
        "    convolution_output = add([residual_block, residual_block_pool])\n",
        "\n",
        "    return Model(inputs=[convolution_input], outputs=[convolution_output])(input_layer)"
      ],
      "execution_count": 0,
      "outputs": []
    },
    {
      "metadata": {
        "id": "ljAe_HkYbwi1",
        "colab_type": "code",
        "colab": {
          "autoexec": {
            "startup": false,
            "wait_interval": 0
          }
        }
      },
      "cell_type": "code",
      "source": [
        "def yoon_kim_feature_extractor(input_layer, filters):\n",
        "    extractor_block_input = Input(shape=[\n",
        "        int(input_layer.shape[1]),\n",
        "        int(input_layer.shape[2])\n",
        "    ])\n",
        "\n",
        "    block_1_conv_1 = Conv1D(filters, 1, activation = 'linear', padding = 'same', kernel_initializer = 'he_normal')(extractor_block_input)\n",
        "    block_1_batchnorm1 = BatchNormalization()(block_1_conv_1)\n",
        "    block_1_batchnorm1 = ELU()(block_1_batchnorm1)\n",
        "    block_1_max_pool1 = GlobalMaxPooling1D()(block_1_batchnorm1)\n",
        "\n",
        "    block_1_conv_2 = Conv1D(filters, 2, activation = 'linear', padding = 'same', kernel_initializer = 'he_normal')(extractor_block_input)\n",
        "    block_1_batchnorm2 = BatchNormalization()(block_1_conv_2)\n",
        "    block_1_batchnorm2 = ELU()(block_1_batchnorm2)\n",
        "    block_1_max_pool2 = GlobalMaxPooling1D()(block_1_batchnorm2)\n",
        "\n",
        "    block_1_conv_3 = Conv1D(filters, 3, activation = 'linear', padding = 'same', kernel_initializer = 'he_normal')(extractor_block_input)\n",
        "    block_1_batchnorm3 = BatchNormalization()(block_1_conv_3)\n",
        "    block_1_batchnorm3 = ELU()(block_1_batchnorm3)\n",
        "    block_1_max_pool3 = GlobalMaxPooling1D()(block_1_batchnorm3)\n",
        "\n",
        "    block_1_conv_4 = Conv1D(filters, 5, activation = 'linear', padding = 'same', kernel_initializer = 'he_normal')(extractor_block_input)\n",
        "    block_1_batchnorm4 = BatchNormalization()(block_1_conv_4)\n",
        "    block_1_batchnorm4 = ELU()(block_1_batchnorm4)\n",
        "    block_1_max_pool4 = GlobalMaxPooling1D()(block_1_batchnorm4)\n",
        "\n",
        "    features = concatenate([\n",
        "        block_1_max_pool1, \n",
        "        block_1_max_pool2, \n",
        "        block_1_max_pool3, \n",
        "        block_1_max_pool4\n",
        "    ])\n",
        "    \n",
        "    extractor_block_output = Dropout(0.2)(features)\n",
        "    \n",
        "    return Model(\n",
        "        inputs=[extractor_block_input], \n",
        "        outputs=[extractor_block_output]\n",
        "    )(input_layer)"
      ],
      "execution_count": 0,
      "outputs": []
    },
    {
      "metadata": {
        "id": "j9ESMQXMtqO9",
        "colab_type": "code",
        "colab": {
          "autoexec": {
            "startup": false,
            "wait_interval": 0
          }
        }
      },
      "cell_type": "code",
      "source": [
        "def classification_block(input_layer, dropout_rate=0.2):\n",
        "    model = Dense(256, activation='linear', kernel_initializer='he_normal')(input_layer)\n",
        "    model = BatchNormalization()(model)\n",
        "    model = ELU()(model)\n",
        "    model = Dropout(dropout_rate)(model)\n",
        "\n",
        "    model = Dense(256, activation='linear', kernel_initializer='he_normal')(model)\n",
        "    model = BatchNormalization()(model)\n",
        "    model = ELU()(model)\n",
        "    model = Dropout(dropout_rate)(model)\n",
        "\n",
        "    return Dense(6, activation='sigmoid', kernel_initializer='glorot_normal')(model)"
      ],
      "execution_count": 0,
      "outputs": []
    },
    {
      "metadata": {
        "id": "LTFG7OgsXynw",
        "colab_type": "code",
        "colab": {
          "autoexec": {
            "startup": false,
            "wait_interval": 0
          },
          "base_uri": "https://localhost:8080/",
          "height": 1317
        },
        "outputId": "b363ca1a-a1ce-4042-db06-40eae05d8325",
        "executionInfo": {
          "status": "ok",
          "timestamp": 1532967953502,
          "user_tz": -120,
          "elapsed": 14782,
          "user": {
            "displayName": "Deep Learning",
            "photoUrl": "https://lh3.googleusercontent.com/a/default-user=s128",
            "userId": "115257841230779963257"
          }
        }
      },
      "cell_type": "code",
      "source": [
        "input_layer = Input(shape=(max_words_length,))\n",
        "\n",
        "pretrained_embedding_layer = Embedding(\n",
        "    max_words,\n",
        "    output_dim=embedding_dimension,\n",
        "    input_length=max_words_length,\n",
        "    weights=[np.load('fast_text_embeddings.npy')],\n",
        "    trainable=False\n",
        ")(input_layer)\n",
        "pretrained_embedding_layer = SpatialDropout1D(0.2)(pretrained_embedding_layer)\n",
        "\n",
        "custom_embedding_layer = Embedding(\n",
        "    max_words,\n",
        "    output_dim=embedding_dimension,\n",
        "    input_length=max_words_length,\n",
        "    weights=[np.load('custom_fast_text_embeddings.npy')],\n",
        "    trainable=False\n",
        ")(input_layer)\n",
        "custom_embedding_layer = SpatialDropout1D(0.2)(custom_embedding_layer)\n",
        "\n",
        "averaged_embedding_layer = Average()([pretrained_embedding_layer, custom_embedding_layer])\n",
        "averaged_embedding_layer = SpatialDropout1D(0.2)(averaged_embedding_layer)\n",
        "\n",
        "context = concatenate([\n",
        "    forward_lstm(averaged_embedding_layer),\n",
        "    averaged_embedding_layer,\n",
        "    backward_lstm(averaged_embedding_layer)\n",
        "])\n",
        "context = Dropout(0.2)(context)\n",
        "\n",
        "scaled_context = convolution_block(context, scaled_residual_convolution_options)\n",
        "\n",
        "resnet = residual_add_block(scaled_context, should_pool = False, dilation_rate=1)\n",
        "resnet = residual_add_block(resnet, should_pool = True, dilation_rate=1)\n",
        "resnet = residual_add_block(resnet, should_pool = True, dilation_rate=1)\n",
        "resnet = residual_add_block(resnet, should_pool = True, dilation_rate=1)\n",
        "resnet = residual_add_block(resnet, should_pool = True, dilation_rate=1)\n",
        "\n",
        "lstm_pooled_features = concatenate([\n",
        "    yoon_kim_feature_extractor(scaled_context, convolution_options['filters']),\n",
        "    GlobalMaxPooling1D()(scaled_context),\n",
        "    GlobalAveragePooling1D()(scaled_context)\n",
        "])\n",
        "\n",
        "resnet_pooled_features = yoon_kim_feature_extractor(scaled_context, convolution_options['filters'])\n",
        "\n",
        "pooled_features = concatenate([\n",
        "    lstm_pooled_features,\n",
        "    resnet_pooled_features\n",
        "])\n",
        "\n",
        "output_layer = classification_block(pooled_features, dropout_rate=0.2)\n",
        "\n",
        "model = Model(inputs=input_layer, outputs=output_layer)\n",
        "\n",
        "model.compile(loss='binary_crossentropy',\n",
        "              optimizer='Adam',\n",
        "              metrics=['accuracy'])\n",
        "\n",
        "model.summary()"
      ],
      "execution_count": 15,
      "outputs": [
        {
          "output_type": "stream",
          "text": [
            "__________________________________________________________________________________________________\n",
            "Layer (type)                    Output Shape         Param #     Connected to                     \n",
            "==================================================================================================\n",
            "input_1 (InputLayer)            (None, 400)          0                                            \n",
            "__________________________________________________________________________________________________\n",
            "embedding_1 (Embedding)         (None, 400, 300)     9000000     input_1[0][0]                    \n",
            "__________________________________________________________________________________________________\n",
            "embedding_2 (Embedding)         (None, 400, 300)     9000000     input_1[0][0]                    \n",
            "__________________________________________________________________________________________________\n",
            "spatial_dropout1d_1 (SpatialDro (None, 400, 300)     0           embedding_1[0][0]                \n",
            "__________________________________________________________________________________________________\n",
            "spatial_dropout1d_2 (SpatialDro (None, 400, 300)     0           embedding_2[0][0]                \n",
            "__________________________________________________________________________________________________\n",
            "average_1 (Average)             (None, 400, 300)     0           spatial_dropout1d_1[0][0]        \n",
            "                                                                 spatial_dropout1d_2[0][0]        \n",
            "__________________________________________________________________________________________________\n",
            "spatial_dropout1d_3 (SpatialDro (None, 400, 300)     0           average_1[0][0]                  \n",
            "__________________________________________________________________________________________________\n",
            "lambda_1 (Lambda)               (None, 400, 300)     0           spatial_dropout1d_3[0][0]        \n",
            "__________________________________________________________________________________________________\n",
            "cu_dnnlstm_2 (CuDNNLSTM)        (None, 400, 64)      93696       lambda_1[0][0]                   \n",
            "__________________________________________________________________________________________________\n",
            "cu_dnnlstm_1 (CuDNNLSTM)        (None, 400, 64)      93696       spatial_dropout1d_3[0][0]        \n",
            "__________________________________________________________________________________________________\n",
            "dropout_2 (Dropout)             (None, 400, 64)      0           cu_dnnlstm_2[0][0]               \n",
            "__________________________________________________________________________________________________\n",
            "dropout_1 (Dropout)             (None, 400, 64)      0           cu_dnnlstm_1[0][0]               \n",
            "__________________________________________________________________________________________________\n",
            "lambda_2 (Lambda)               (None, 400, 64)      0           dropout_2[0][0]                  \n",
            "__________________________________________________________________________________________________\n",
            "concatenate_1 (Concatenate)     (None, 400, 428)     0           dropout_1[0][0]                  \n",
            "                                                                 spatial_dropout1d_3[0][0]        \n",
            "                                                                 lambda_2[0][0]                   \n",
            "__________________________________________________________________________________________________\n",
            "dropout_3 (Dropout)             (None, 400, 428)     0           concatenate_1[0][0]              \n",
            "__________________________________________________________________________________________________\n",
            "model_1 (Model)                 (None, 400, 64)      29168       dropout_3[0][0]                  \n",
            "__________________________________________________________________________________________________\n",
            "model_17 (Model)                (None, 1200)         217200      model_1[1][0]                    \n",
            "__________________________________________________________________________________________________\n",
            "global_max_pooling1d_5 (GlobalM (None, 64)           0           model_1[1][0]                    \n",
            "__________________________________________________________________________________________________\n",
            "global_average_pooling1d_1 (Glo (None, 64)           0           model_1[1][0]                    \n",
            "__________________________________________________________________________________________________\n",
            "concatenate_3 (Concatenate)     (None, 1328)         0           model_17[1][0]                   \n",
            "                                                                 global_max_pooling1d_5[0][0]     \n",
            "                                                                 global_average_pooling1d_1[0][0] \n",
            "__________________________________________________________________________________________________\n",
            "model_18 (Model)                (None, 1200)         217200      model_1[1][0]                    \n",
            "__________________________________________________________________________________________________\n",
            "concatenate_5 (Concatenate)     (None, 2528)         0           concatenate_3[0][0]              \n",
            "                                                                 model_18[1][0]                   \n",
            "__________________________________________________________________________________________________\n",
            "dense_1 (Dense)                 (None, 256)          647424      concatenate_5[0][0]              \n",
            "__________________________________________________________________________________________________\n",
            "batch_normalization_20 (BatchNo (None, 256)          1024        dense_1[0][0]                    \n",
            "__________________________________________________________________________________________________\n",
            "elu_9 (ELU)                     (None, 256)          0           batch_normalization_20[0][0]     \n",
            "__________________________________________________________________________________________________\n",
            "dropout_6 (Dropout)             (None, 256)          0           elu_9[0][0]                      \n",
            "__________________________________________________________________________________________________\n",
            "dense_2 (Dense)                 (None, 256)          65792       dropout_6[0][0]                  \n",
            "__________________________________________________________________________________________________\n",
            "batch_normalization_21 (BatchNo (None, 256)          1024        dense_2[0][0]                    \n",
            "__________________________________________________________________________________________________\n",
            "elu_10 (ELU)                    (None, 256)          0           batch_normalization_21[0][0]     \n",
            "__________________________________________________________________________________________________\n",
            "dropout_7 (Dropout)             (None, 256)          0           elu_10[0][0]                     \n",
            "__________________________________________________________________________________________________\n",
            "dense_3 (Dense)                 (None, 6)            1542        dropout_7[0][0]                  \n",
            "==================================================================================================\n",
            "Total params: 19,367,766\n",
            "Trainable params: 1,361,086\n",
            "Non-trainable params: 18,006,680\n",
            "__________________________________________________________________________________________________\n"
          ],
          "name": "stdout"
        }
      ]
    },
    {
      "metadata": {
        "id": "xwMmTewgXynz",
        "colab_type": "code",
        "colab": {
          "autoexec": {
            "startup": false,
            "wait_interval": 0
          },
          "base_uri": "https://localhost:8080/",
          "height": 887
        },
        "outputId": "e04c1fc3-9536-4713-e345-31eded90dab7"
      },
      "cell_type": "code",
      "source": [
        "history = train_with_cv(model, batchSize=32, rocEvery = 2)"
      ],
      "execution_count": 0,
      "outputs": [
        {
          "output_type": "stream",
          "text": [
            "Train on 102124 samples, validate on 25532 samples\n",
            "Epoch 1/32\n",
            " 21312/102124 [=====>........................] - ETA: 10:19 - loss: 0.1210 - acc: 0.9578"
          ],
          "name": "stdout"
        },
        {
          "output_type": "stream",
          "text": [
            "102112/102124 [============================>.] - ETA: 0s - loss: 0.0738 - acc: 0.9740"
          ],
          "name": "stdout"
        },
        {
          "output_type": "stream",
          "text": [
            "\b\b\b\b\b\b\b\b\b\b\b\b\b\b\b\b\b\b\b\b\b\b\b\b\b\b\b\b\b\b\b\b\b\b\b\b\b\b\b\b\b\b\b\b\b\b\b\b\b\b\b\b\b\b\b\b\b\b\b\b\b\b\b\b\b\b\b\b\b\b\b\b\b\b\b\b\b\b\b\b\b\b\b\b\b\r102124/102124 [==============================] - 820s 8ms/step - loss: 0.0738 - acc: 0.9740 - val_loss: 0.0642 - val_acc: 0.9739\n",
            "Epoch 2/32\n",
            " 10144/102124 [=>............................] - ETA: 11:21 - loss: 0.0563 - acc: 0.9795"
          ],
          "name": "stdout"
        },
        {
          "output_type": "stream",
          "text": [
            "102112/102124 [============================>.] - ETA: 0s - loss: 0.0536 - acc: 0.9803"
          ],
          "name": "stdout"
        },
        {
          "output_type": "stream",
          "text": [
            "102124/102124 [==============================] - 812s 8ms/step - loss: 0.0536 - acc: 0.9803 - val_loss: 0.0540 - val_acc: 0.9795\n",
            "roc-auc: 0.982 - roc-auc_val: 0.9787                                                                                                    \n",
            "Epoch 3/32\n",
            "  8704/102124 [=>............................] - ETA: 11:31 - loss: 0.0501 - acc: 0.9808"
          ],
          "name": "stdout"
        },
        {
          "output_type": "stream",
          "text": [
            "102112/102124 [============================>.] - ETA: 0s - loss: 0.0499 - acc: 0.9814"
          ],
          "name": "stdout"
        },
        {
          "output_type": "stream",
          "text": [
            "\b\b\b\b\b\b\b\b\b\b\b\b\b\b\b\b\b\b\b\b\b\b\b\b\b\b\b\b\b\b\b\b\b\b\b\b\b\b\b\b\b\b\b\b\b\b\b\b\b\b\b\b\b\b\b\b\b\b\b\b\b\b\b\b\b\b\b\b\b\b\b\b\b\b\b\b\b\b\b\b\b\b\b\b\b\r102124/102124 [==============================] - 812s 8ms/step - loss: 0.0499 - acc: 0.9814 - val_loss: 0.0440 - val_acc: 0.9833\n",
            "Epoch 4/32\n",
            " 10144/102124 [=>............................] - ETA: 11:22 - loss: 0.0480 - acc: 0.9818"
          ],
          "name": "stdout"
        },
        {
          "output_type": "stream",
          "text": [
            "102112/102124 [============================>.] - ETA: 0s - loss: 0.0474 - acc: 0.9820"
          ],
          "name": "stdout"
        },
        {
          "output_type": "stream",
          "text": [
            "102124/102124 [==============================] - 811s 8ms/step - loss: 0.0474 - acc: 0.9820 - val_loss: 0.0447 - val_acc: 0.9828\n",
            "roc-auc: 0.9874 - roc-auc_val: 0.9839                                                                                                    \n",
            "Epoch 5/32\n",
            "  8672/102124 [=>............................] - ETA: 11:30 - loss: 0.0479 - acc: 0.9818"
          ],
          "name": "stdout"
        },
        {
          "output_type": "stream",
          "text": [
            "102112/102124 [============================>.] - ETA: 0s - loss: 0.0458 - acc: 0.9826"
          ],
          "name": "stdout"
        },
        {
          "output_type": "stream",
          "text": [
            "\b\b\b\b\b\b\b\b\b\b\b\b\b\b\b\b\b\b\b\b\b\b\b\b\b\b\b\b\b\b\b\b\b\b\b\b\b\b\b\b\b\b\b\b\b\b\b\b\b\b\b\b\b\b\b\b\b\b\b\b\b\b\b\b\b\b\b\b\b\b\b\b\b\b\b\b\b\b\b\b\b\b\b\b\b\r102124/102124 [==============================] - 810s 8ms/step - loss: 0.0458 - acc: 0.9826 - val_loss: 0.0460 - val_acc: 0.9816\n",
            "\n",
            "Epoch 00005: ReduceLROnPlateau reducing learning rate to 0.0003298769879620522.\n",
            "Epoch 6/32\n",
            "  8032/102124 [=>............................] - ETA: 11:35 - loss: 0.0459 - acc: 0.9821"
          ],
          "name": "stdout"
        },
        {
          "output_type": "stream",
          "text": [
            "102112/102124 [============================>.] - ETA: 0s - loss: 0.0443 - acc: 0.9828"
          ],
          "name": "stdout"
        },
        {
          "output_type": "stream",
          "text": [
            "102124/102124 [==============================] - 811s 8ms/step - loss: 0.0443 - acc: 0.9828 - val_loss: 0.0439 - val_acc: 0.9827\n",
            "roc-auc: 0.9897 - roc-auc_val: 0.9867                                                                                                    \n",
            "Epoch 7/32\n",
            "  8672/102124 [=>............................] - ETA: 11:29 - loss: 0.0424 - acc: 0.9833"
          ],
          "name": "stdout"
        },
        {
          "output_type": "stream",
          "text": [
            "102112/102124 [============================>.] - ETA: 0s - loss: 0.0436 - acc: 0.9832"
          ],
          "name": "stdout"
        },
        {
          "output_type": "stream",
          "text": [
            "\b\b\b\b\b\b\b\b\b\b\b\b\b\b\b\b\b\b\b\b\b\b\b\b\b\b\b\b\b\b\b\b\b\b\b\b\b\b\b\b\b\b\b\b\b\b\b\b\b\b\b\b\b\b\b\b\b\b\b\b\b\b\b\b\b\b\b\b\b\b\b\b\b\b\b\b\b\b\b\b\b\b\b\b\b\r102124/102124 [==============================] - 811s 8ms/step - loss: 0.0436 - acc: 0.9832 - val_loss: 0.0409 - val_acc: 0.9842\n",
            "Epoch 8/32\n",
            " 10144/102124 [=>............................] - ETA: 11:20 - loss: 0.0418 - acc: 0.9837"
          ],
          "name": "stdout"
        },
        {
          "output_type": "stream",
          "text": [
            "102112/102124 [============================>.] - ETA: 0s - loss: 0.0426 - acc: 0.9834"
          ],
          "name": "stdout"
        },
        {
          "output_type": "stream",
          "text": [
            "102124/102124 [==============================] - 812s 8ms/step - loss: 0.0426 - acc: 0.9834 - val_loss: 0.0422 - val_acc: 0.9838\n",
            "roc-auc: 0.9911 - roc-auc_val: 0.9875                                                                                                    \n",
            "Epoch 9/32\n",
            "  8672/102124 [=>............................] - ETA: 11:32 - loss: 0.0436 - acc: 0.9831"
          ],
          "name": "stdout"
        },
        {
          "output_type": "stream",
          "text": [
            "102112/102124 [============================>.] - ETA: 0s - loss: 0.0416 - acc: 0.9838"
          ],
          "name": "stdout"
        },
        {
          "output_type": "stream",
          "text": [
            "\b\b\b\b\b\b\b\b\b\b\b\b\b\b\b\b\b\b\b\b\b\b\b\b\b\b\b\b\b\b\b\b\b\b\b\b\b\b\b\b\b\b\b\b\b\b\b\b\b\b\b\b\b\b\b\b\b\b\b\b\b\b\b\b\b\b\b\b\b\b\b\b\b\b\b\b\b\b\b\b\b\b\b\b\b\r102124/102124 [==============================] - 811s 8ms/step - loss: 0.0416 - acc: 0.9838 - val_loss: 0.0412 - val_acc: 0.9838\n",
            "Epoch 10/32\n",
            " 10112/102124 [=>............................] - ETA: 11:20 - loss: 0.0408 - acc: 0.9839"
          ],
          "name": "stdout"
        },
        {
          "output_type": "stream",
          "text": [
            "102112/102124 [============================>.] - ETA: 0s - loss: 0.0410 - acc: 0.9839"
          ],
          "name": "stdout"
        },
        {
          "output_type": "stream",
          "text": [
            "102124/102124 [==============================] - 812s 8ms/step - loss: 0.0410 - acc: 0.9839 - val_loss: 0.0427 - val_acc: 0.9833\n",
            "roc-auc: 0.9921 - roc-auc_val: 0.9889                                                                                                    \n",
            "Epoch 11/32\n",
            "  8672/102124 [=>............................] - ETA: 11:30 - loss: 0.0415 - acc: 0.9839"
          ],
          "name": "stdout"
        },
        {
          "output_type": "stream",
          "text": [
            "102112/102124 [============================>.] - ETA: 0s - loss: 0.0406 - acc: 0.9841"
          ],
          "name": "stdout"
        },
        {
          "output_type": "stream",
          "text": [
            "\b\b\b\b\b\b\b\b\b\b\b\b\b\b\b\b\b\b\b\b\b\b\b\b\b\b\b\b\b\b\b\b\b\b\b\b\b\b\b\b\b\b\b\b\b\b\b\b\b\b\b\b\b\b\b\b\b\b\b\b\b\b\b\b\b\b\b\b\b\b\b\b\b\b\b\b\b\b\b\b\b\b\b\b\b\r102124/102124 [==============================] - 811s 8ms/step - loss: 0.0406 - acc: 0.9841 - val_loss: 0.0421 - val_acc: 0.9833\n",
            "Epoch 12/32\n",
            " 10112/102124 [=>............................] - ETA: 11:18 - loss: 0.0406 - acc: 0.9843"
          ],
          "name": "stdout"
        },
        {
          "output_type": "stream",
          "text": [
            "102112/102124 [============================>.] - ETA: 0s - loss: 0.0397 - acc: 0.9844"
          ],
          "name": "stdout"
        },
        {
          "output_type": "stream",
          "text": [
            "102124/102124 [==============================] - 811s 8ms/step - loss: 0.0397 - acc: 0.9844 - val_loss: 0.0410 - val_acc: 0.9838\n",
            "roc-auc: 0.9925 - roc-auc_val: 0.9884                                                                                                    \n",
            "Epoch 13/32\n",
            "  8672/102124 [=>............................] - ETA: 11:31 - loss: 0.0390 - acc: 0.9852"
          ],
          "name": "stdout"
        },
        {
          "output_type": "stream",
          "text": [
            "102112/102124 [============================>.] - ETA: 0s - loss: 0.0394 - acc: 0.9844"
          ],
          "name": "stdout"
        },
        {
          "output_type": "stream",
          "text": [
            "\b\b\b\b\b\b\b\b\b\b\b\b\b\b\b\b\b\b\b\b\b\b\b\b\b\b\b\b\b\b\b\b\b\b\b\b\b\b\b\b\b\b\b\b\b\b\b\b\b\b\b\b\b\b\b\b\b\b\b\b\b\b\b\b\b\b\b\b\b\b\b\b\b\b\b\b\b\b\b\b\b\b\b\b\b\r102124/102124 [==============================] - 811s 8ms/step - loss: 0.0394 - acc: 0.9844 - val_loss: 0.0404 - val_acc: 0.9842\n",
            "Epoch 14/32\n",
            " 10112/102124 [=>............................] - ETA: 11:21 - loss: 0.0391 - acc: 0.9848"
          ],
          "name": "stdout"
        },
        {
          "output_type": "stream",
          "text": [
            "102112/102124 [============================>.] - ETA: 0s - loss: 0.0390 - acc: 0.9845"
          ],
          "name": "stdout"
        },
        {
          "output_type": "stream",
          "text": [
            "102124/102124 [==============================] - 811s 8ms/step - loss: 0.0390 - acc: 0.9845 - val_loss: 0.0423 - val_acc: 0.9835\n",
            "roc-auc: 0.993 - roc-auc_val: 0.9887                                                                                                    \n",
            "Epoch 15/32\n",
            "  8672/102124 [=>............................] - ETA: 11:30 - loss: 0.0372 - acc: 0.9851"
          ],
          "name": "stdout"
        },
        {
          "output_type": "stream",
          "text": [
            "102112/102124 [============================>.] - ETA: 0s - loss: 0.0384 - acc: 0.9848"
          ],
          "name": "stdout"
        },
        {
          "output_type": "stream",
          "text": [
            "\b\b\b\b\b\b\b\b\b\b\b\b\b\b\b\b\b\b\b\b\b\b\b\b\b\b\b\b\b\b\b\b\b\b\b\b\b\b\b\b\b\b\b\b\b\b\b\b\b\b\b\b\b\b\b\b\b\b\b\b\b\b\b\b\b\b\b\b\b\b\b\b\b\b\b\b\b\b\b\b\b\b\b\b\b\r102124/102124 [==============================] - 810s 8ms/step - loss: 0.0384 - acc: 0.9848 - val_loss: 0.0409 - val_acc: 0.9839\n",
            "Epoch 16/32\n",
            " 10112/102124 [=>............................] - ETA: 11:19 - loss: 0.0389 - acc: 0.9843"
          ],
          "name": "stdout"
        },
        {
          "output_type": "stream",
          "text": [
            "102112/102124 [============================>.] - ETA: 0s - loss: 0.0378 - acc: 0.9850"
          ],
          "name": "stdout"
        },
        {
          "output_type": "stream",
          "text": [
            "\b\b\b\b\b\b\b\b\b\b\b\b\b\b\b\b\b\b\b\b\b\b\b\b\b\b\b\b\b\b\b\b\b\b\b\b\b\b\b\b\b\b\b\b\b\b\b\b\b\b\b\b\b\b\b\b\b\b\b\b\b\b\b\b\b\b\b\b\b\b\b\b\b\b\b\b\b\b\b\b\b\b\b\b\b\r102124/102124 [==============================] - 810s 8ms/step - loss: 0.0378 - acc: 0.9851 - val_loss: 0.0414 - val_acc: 0.9837\n",
            "\n",
            "Epoch 00016: ReduceLROnPlateau reducing learning rate to 0.00010511204891372472.\n",
            "roc-auc: 0.9935 - roc-auc_val: 0.9887                                                                                                    \n",
            "Epoch 17/32\n",
            "  5920/102124 [>.............................] - ETA: 11:50 - loss: 0.0373 - acc: 0.9849"
          ],
          "name": "stdout"
        },
        {
          "output_type": "stream",
          "text": [
            "102112/102124 [============================>.] - ETA: 0s - loss: 0.0376 - acc: 0.9851"
          ],
          "name": "stdout"
        },
        {
          "output_type": "stream",
          "text": [
            "\b\b\b\b\b\b\b\b\b\b\b\b\b\b\b\b\b\b\b\b\b\b\b\b\b\b\b\b\b\b\b\b\b\b\b\b\b\b\b\b\b\b\b\b\b\b\b\b\b\b\b\b\b\b\b\b\b\b\b\b\b\b\b\b\b\b\b\b\b\b\b\b\b\b\b\b\b\b\b\b\b\b\b\b\b\r102124/102124 [==============================] - 811s 8ms/step - loss: 0.0376 - acc: 0.9851 - val_loss: 0.0400 - val_acc: 0.9846\n",
            "Epoch 18/32\n",
            " 10112/102124 [=>............................] - ETA: 11:21 - loss: 0.0373 - acc: 0.9852"
          ],
          "name": "stdout"
        },
        {
          "output_type": "stream",
          "text": [
            "102112/102124 [============================>.] - ETA: 0s - loss: 0.0371 - acc: 0.9853"
          ],
          "name": "stdout"
        },
        {
          "output_type": "stream",
          "text": [
            "\b\b\b\b\b\b\b\b\b\b\b\b\b\b\b\b\b\b\b\b\b\b\b\b\b\b\b\b\b\b\b\b\b\b\b\b\b\b\b\b\b\b\b\b\b\b\b\b\b\b\b\b\b\b\b\b\b\b\b\b\b\b\b\b\b\b\b\b\b\b\b\b\b\b\b\b\b\b\b\b\b\b\b\b\b\r102124/102124 [==============================] - 811s 8ms/step - loss: 0.0371 - acc: 0.9853 - val_loss: 0.0407 - val_acc: 0.9839\n"
          ],
          "name": "stdout"
        }
      ]
    },
    {
      "metadata": {
        "id": "izWCJ3HMReV3",
        "colab_type": "code",
        "colab": {
          "autoexec": {
            "startup": false,
            "wait_interval": 0
          }
        }
      },
      "cell_type": "code",
      "source": [
        "plot_history(history)"
      ],
      "execution_count": 0,
      "outputs": []
    },
    {
      "metadata": {
        "id": "r2gtMBj2Tp9A",
        "colab_type": "code",
        "colab": {
          "autoexec": {
            "startup": false,
            "wait_interval": 0
          },
          "base_uri": "https://localhost:8080/",
          "height": 52
        },
        "outputId": "054c4d85-7e6c-44e9-dd63-11a83b2096f3",
        "executionInfo": {
          "status": "ok",
          "timestamp": 1532965931980,
          "user_tz": -120,
          "elapsed": 144855,
          "user": {
            "displayName": "Deep Learning",
            "photoUrl": "https://lh3.googleusercontent.com/a/default-user=s128",
            "userId": "110970714976109420834"
          }
        }
      },
      "cell_type": "code",
      "source": [
        "print(evaluate_on_test(model))"
      ],
      "execution_count": 0,
      "outputs": [
        {
          "output_type": "stream",
          "text": [
            "31915/31915 [==============================] - 75s 2ms/step\n",
            "([0.03951239349802315, 0.9848608157953349], 0.9905174813350864)\n"
          ],
          "name": "stdout"
        }
      ]
    }
  ]
}
{
  "nbformat": 4,
  "nbformat_minor": 0,
  "metadata": {
    "colab": {
      "name": "residual_add_64_5_blocks_pool.ipynb",
      "version": "0.3.2",
      "views": {},
      "default_view": {},
      "provenance": [],
      "collapsed_sections": []
    },
    "kernelspec": {
      "display_name": "Python 3",
      "language": "python",
      "name": "python3"
    },
    "accelerator": "GPU"
  },
  "cells": [
    {
      "metadata": {
        "id": "yS1FnhiWX3Js",
        "colab_type": "code",
        "colab": {
          "autoexec": {
            "startup": false,
            "wait_interval": 0
          },
          "base_uri": "https://localhost:8080/",
          "height": 411
        },
        "outputId": "134961de-b4bc-4909-b4db-9cdcec7bfa07",
        "executionInfo": {
          "status": "ok",
          "timestamp": 1532903972108,
          "user_tz": -120,
          "elapsed": 11767,
          "user": {
            "displayName": "Deep Learning",
            "photoUrl": "https://lh3.googleusercontent.com/a/default-user=s128",
            "userId": "110970714976109420834"
          }
        }
      },
      "cell_type": "code",
      "source": [
        "!pip install keras\n",
        "!pip install sklearn\n",
        "!pip install matplotlib\n",
        "!pip install -U -q PyDrive"
      ],
      "execution_count": 1,
      "outputs": [
        {
          "output_type": "stream",
          "text": [
            "Requirement already satisfied: keras in /usr/local/lib/python3.6/dist-packages (2.1.6)\r\n",
            "Requirement already satisfied: pyyaml in /usr/local/lib/python3.6/dist-packages (from keras) (3.13)\r\n",
            "Requirement already satisfied: six>=1.9.0 in /usr/local/lib/python3.6/dist-packages (from keras) (1.11.0)\r\n",
            "Requirement already satisfied: h5py in /usr/local/lib/python3.6/dist-packages (from keras) (2.8.0)\r\n",
            "Requirement already satisfied: scipy>=0.14 in /usr/local/lib/python3.6/dist-packages (from keras) (0.19.1)\r\n",
            "Requirement already satisfied: numpy>=1.9.1 in /usr/local/lib/python3.6/dist-packages (from keras) (1.14.5)\n",
            "Collecting sklearn\n",
            "  Downloading https://files.pythonhosted.org/packages/1e/7a/dbb3be0ce9bd5c8b7e3d87328e79063f8b263b2b1bfa4774cb1147bfcd3f/sklearn-0.0.tar.gz\n",
            "Requirement already satisfied: scikit-learn in /usr/local/lib/python3.6/dist-packages (from sklearn) (0.19.2)\n",
            "Building wheels for collected packages: sklearn\n",
            "  Running setup.py bdist_wheel for sklearn ... \u001b[?25l-\b \bdone\n",
            "\u001b[?25h  Stored in directory: /content/.cache/pip/wheels/76/03/bb/589d421d27431bcd2c6da284d5f2286c8e3b2ea3cf1594c074\n",
            "Successfully built sklearn\n",
            "Installing collected packages: sklearn\n",
            "Successfully installed sklearn-0.0\n",
            "Requirement already satisfied: matplotlib in /usr/local/lib/python3.6/dist-packages (2.1.2)\n",
            "Requirement already satisfied: numpy>=1.7.1 in /usr/local/lib/python3.6/dist-packages (from matplotlib) (1.14.5)\n",
            "Requirement already satisfied: six>=1.10 in /usr/local/lib/python3.6/dist-packages (from matplotlib) (1.11.0)\n",
            "Requirement already satisfied: pyparsing!=2.0.4,!=2.1.2,!=2.1.6,>=2.0.1 in /usr/local/lib/python3.6/dist-packages (from matplotlib) (2.2.0)\n",
            "Requirement already satisfied: python-dateutil>=2.1 in /usr/local/lib/python3.6/dist-packages (from matplotlib) (2.5.3)\n",
            "Requirement already satisfied: pytz in /usr/local/lib/python3.6/dist-packages (from matplotlib) (2018.5)\n",
            "Requirement already satisfied: cycler>=0.10 in /usr/local/lib/python3.6/dist-packages (from matplotlib) (0.10.0)\n"
          ],
          "name": "stdout"
        }
      ]
    },
    {
      "metadata": {
        "id": "xlKzkDJFrjA-",
        "colab_type": "code",
        "colab": {
          "autoexec": {
            "startup": false,
            "wait_interval": 0
          },
          "base_uri": "https://localhost:8080/",
          "height": 34
        },
        "outputId": "24de12d1-9097-4ada-a9ec-c5ef7f468753",
        "executionInfo": {
          "status": "ok",
          "timestamp": 1532903980691,
          "user_tz": -120,
          "elapsed": 8548,
          "user": {
            "displayName": "Deep Learning",
            "photoUrl": "https://lh3.googleusercontent.com/a/default-user=s128",
            "userId": "110970714976109420834"
          }
        }
      },
      "cell_type": "code",
      "source": [
        "from keras import backend as K\n",
        "K.clear_session()"
      ],
      "execution_count": 2,
      "outputs": [
        {
          "output_type": "stream",
          "text": [
            "Using TensorFlow backend.\n"
          ],
          "name": "stderr"
        }
      ]
    },
    {
      "metadata": {
        "id": "eQEKwl4oAxO7",
        "colab_type": "code",
        "colab": {
          "autoexec": {
            "startup": false,
            "wait_interval": 0
          }
        }
      },
      "cell_type": "code",
      "source": [
        "from keras import backend as K\n",
        "cfg = K.tf.ConfigProto()\n",
        "cfg.gpu_options.allow_growth = True\n",
        "K.set_session(K.tf.Session(config=cfg))"
      ],
      "execution_count": 0,
      "outputs": []
    },
    {
      "metadata": {
        "id": "12M0egCCX-27",
        "colab_type": "code",
        "colab": {
          "autoexec": {
            "startup": false,
            "wait_interval": 0
          }
        }
      },
      "cell_type": "code",
      "source": [
        "from pydrive.auth import GoogleAuth\n",
        "from pydrive.drive import GoogleDrive\n",
        "from google.colab import auth\n",
        "from oauth2client.client import GoogleCredentials\n",
        "\n",
        "auth.authenticate_user()\n",
        "gauth = GoogleAuth()\n",
        "gauth.credentials = GoogleCredentials.get_application_default()\n",
        "drive = GoogleDrive(gauth)"
      ],
      "execution_count": 0,
      "outputs": []
    },
    {
      "metadata": {
        "id": "4lN2WTUEYBYv",
        "colab_type": "code",
        "colab": {
          "autoexec": {
            "startup": false,
            "wait_interval": 0
          }
        }
      },
      "cell_type": "code",
      "source": [
        "file_import = drive.CreateFile({'id':'1p1bsltfTcIrZ_kfE6kwGTPzcdXorHbb2'})\n",
        "file_import.GetContentFile('colab_setup.py') \n",
        "from colab_setup import setup\n",
        "\n",
        "setup(drive)"
      ],
      "execution_count": 0,
      "outputs": []
    },
    {
      "metadata": {
        "id": "cHBlD0tVj2TY",
        "colab_type": "code",
        "colab": {
          "autoexec": {
            "startup": false,
            "wait_interval": 0
          },
          "base_uri": "https://localhost:8080/",
          "height": 119
        },
        "outputId": "3eef6264-6452-43b9-f8b5-e7185df99c5a",
        "executionInfo": {
          "status": "ok",
          "timestamp": 1532904019129,
          "user_tz": -120,
          "elapsed": 1912,
          "user": {
            "displayName": "Deep Learning",
            "photoUrl": "https://lh3.googleusercontent.com/a/default-user=s128",
            "userId": "110970714976109420834"
          }
        }
      },
      "cell_type": "code",
      "source": [
        "!ls"
      ],
      "execution_count": 6,
      "outputs": [
        {
          "output_type": "stream",
          "text": [
            "colab_setup.py\t\t\t roc_auc_callback.py\tX_train.npy\r\n",
            "custom_fast_text_embeddings.npy  sample_submission.csv\tX_val.npy\r\n",
            "datalab\t\t\t\t train_model.py\t\ty_test.npy\r\n",
            "fast_text_embeddings.npy\t X_submission.npy\ty_train_full.npy\r\n",
            "plot_history.py\t\t\t X_test.npy\t\ty_train.npy\r\n",
            "__pycache__\t\t\t X_train_full.npy\ty_val.npy\r\n"
          ],
          "name": "stdout"
        }
      ]
    },
    {
      "metadata": {
        "id": "yMwWPTMYXyno",
        "colab_type": "code",
        "colab": {
          "autoexec": {
            "startup": false,
            "wait_interval": 0
          }
        }
      },
      "cell_type": "code",
      "source": [
        "import numpy as np\n",
        "import os\n",
        "\n",
        "from plot_history import plot_history\n",
        "from roc_auc_callback import RocAucCallback\n",
        "from train_model import train_with_cv, train_with_submitting, evaluate_on_test\n",
        "\n",
        "from keras.layers import *\n",
        "from keras.layers.merge import *\n",
        "from keras.initializers import *\n",
        "from keras.models import Model"
      ],
      "execution_count": 0,
      "outputs": []
    },
    {
      "metadata": {
        "id": "irwBTJdINU0J",
        "colab_type": "code",
        "colab": {
          "autoexec": {
            "startup": false,
            "wait_interval": 0
          }
        }
      },
      "cell_type": "code",
      "source": [
        "from keras.optimizers import *\n",
        "from keras.initializers import *\n",
        "from keras.layers import *\n",
        "from keras.layers.merge import *\n",
        "from keras.models import *\n",
        "\n",
        "residual_convolution_options = dict({\n",
        "    'dropout_mode': 'spatial',\n",
        "    'dropout_rate': 0.2,\n",
        "    'filters': 64,\n",
        "    'kernel_size': 1,\n",
        "    'strides': 1,\n",
        "    'padding': 'same',\n",
        "    'activation': 'elu',\n",
        "    'dilation_rate': 1,\n",
        "    'should_preactivate': True\n",
        "})\n",
        "\n",
        "def convolution_block(input_layer, options):\n",
        "    convolution_input = Input(shape=[\n",
        "        int(input_layer.shape[1]),\n",
        "        int(input_layer.shape[2])\n",
        "    ])\n",
        "\n",
        "    convolution_block = convolution_input\n",
        "\n",
        "    if(options['should_preactivate']):\n",
        "        convolution_block = BatchNormalization()(convolution_block)\n",
        "        convolution_block = Activation(options['activation'])(convolution_block)\n",
        "        convolution_block = Conv1D(options['filters'], options['kernel_size'], strides=options['strides'],\n",
        "                                   padding=options['padding'], activation='linear', kernel_initializer='he_normal')(convolution_block)\n",
        "    else:\n",
        "        convolution_block = Conv1D(options['filters'], options['kernel_size'], strides=options['strides'],\n",
        "                                   padding=options['padding'], activation='linear', kernel_initializer='he_normal')(convolution_block)\n",
        "        convolution_block = BatchNormalization()(convolution_block)\n",
        "        convolution_block = Activation(options['activation'])(convolution_block)\n",
        "\n",
        "    convolution_output = convolution_block\n",
        "\n",
        "    if(options['dropout_mode'] == 'spatial'):\n",
        "        convolution_output = SpatialDropout1D(options['dropout_rate'])(convolution_output)\n",
        "    if(options['dropout_mode']== 'vanilla'):\n",
        "        convolution_output = Dropout(options['dropout_rate'])(convolution_output)\n",
        "\n",
        "    return Model(inputs=[convolution_input], outputs=[convolution_output])(input_layer)"
      ],
      "execution_count": 0,
      "outputs": []
    },
    {
      "metadata": {
        "id": "sD9D5r9-Sdg7",
        "colab_type": "code",
        "colab": {
          "autoexec": {
            "startup": false,
            "wait_interval": 0
          }
        }
      },
      "cell_type": "code",
      "source": [
        "def residual_add_block(input_layer, should_pool, dilation_rate=1):\n",
        "    residual_convolution_options['dilation_rate'] = dilation_rate\n",
        "    \n",
        "    convolution_input = Input(shape=[\n",
        "        int(input_layer.shape[1]),\n",
        "        int(input_layer.shape[2])\n",
        "    ])\n",
        "    \n",
        "    residual_block_pool = convolution_input\n",
        "\n",
        "    if(should_pool):\n",
        "        residual_block_pool = MaxPooling1D(pool_size=2, strides=2, padding='same')(convolution_input)\n",
        "\n",
        "    residual_block = add([\n",
        "        residual_block_pool,\n",
        "        convolution_block(residual_block_pool, residual_convolution_options)\n",
        "    ])\n",
        "    residual_block = add([\n",
        "        residual_block,\n",
        "        convolution_block(residual_block, residual_convolution_options)\n",
        "    ])\n",
        "    \n",
        "    convolution_output = add([residual_block, residual_block_pool])\n",
        "\n",
        "    return Model(inputs=[convolution_input], outputs=[convolution_output])(input_layer)"
      ],
      "execution_count": 0,
      "outputs": []
    },
    {
      "metadata": {
        "id": "xOfIVhpoSdpQ",
        "colab_type": "code",
        "colab": {
          "autoexec": {
            "startup": false,
            "wait_interval": 0
          }
        }
      },
      "cell_type": "code",
      "source": [
        "def yoon_kim_feature_extractor(input_layer, filters):\n",
        "    extractor_block_input = Input(shape=[\n",
        "        int(input_layer.shape[1]),\n",
        "        int(input_layer.shape[2])\n",
        "    ])\n",
        "\n",
        "    block_1_conv_1 = Conv1D(filters, 1, activation = 'linear', padding = 'same', kernel_initializer = 'he_normal')(extractor_block_input)\n",
        "    block_1_batchnorm1 = BatchNormalization()(block_1_conv_1)\n",
        "    block_1_batchnorm1 = ELU()(block_1_batchnorm1)\n",
        "    block_1_max_pool1 = GlobalMaxPooling1D()(block_1_batchnorm1)\n",
        "\n",
        "    block_1_conv_2 = Conv1D(filters, 2, activation = 'linear', padding = 'same', kernel_initializer = 'he_normal')(extractor_block_input)\n",
        "    block_1_batchnorm2 = BatchNormalization()(block_1_conv_2)\n",
        "    block_1_batchnorm2 = ELU()(block_1_batchnorm2)\n",
        "    block_1_max_pool2 = GlobalMaxPooling1D()(block_1_batchnorm2)\n",
        "\n",
        "    block_1_conv_3 = Conv1D(filters, 3, activation = 'linear', padding = 'same', kernel_initializer = 'he_normal')(extractor_block_input)\n",
        "    block_1_batchnorm3 = BatchNormalization()(block_1_conv_3)\n",
        "    block_1_batchnorm3 = ELU()(block_1_batchnorm3)\n",
        "    block_1_max_pool3 = GlobalMaxPooling1D()(block_1_batchnorm3)\n",
        "\n",
        "    block_1_conv_4 = Conv1D(filters, 5, activation = 'linear', padding = 'same', kernel_initializer = 'he_normal')(extractor_block_input)\n",
        "    block_1_batchnorm4 = BatchNormalization()(block_1_conv_4)\n",
        "    block_1_batchnorm4 = ELU()(block_1_batchnorm4)\n",
        "    block_1_max_pool4 = GlobalMaxPooling1D()(block_1_batchnorm4)\n",
        "\n",
        "    features = concatenate([\n",
        "        block_1_max_pool1, \n",
        "        block_1_max_pool2, \n",
        "        block_1_max_pool3, \n",
        "        block_1_max_pool4\n",
        "    ])\n",
        "    \n",
        "    extractor_block_output = Dropout(0.2)(features)\n",
        "    \n",
        "    return Model(\n",
        "        inputs=[extractor_block_input], \n",
        "        outputs=[extractor_block_output]\n",
        "    )(input_layer)"
      ],
      "execution_count": 0,
      "outputs": []
    },
    {
      "metadata": {
        "id": "PHbVmJqTSdxU",
        "colab_type": "code",
        "colab": {
          "autoexec": {
            "startup": false,
            "wait_interval": 0
          }
        }
      },
      "cell_type": "code",
      "source": [
        "def classification_block(input_layer, dropout_rate = 0.2):\n",
        "      \n",
        "    model = Dense(256, activation = 'linear', kernel_initializer = 'he_normal')(input_layer)\n",
        "    model = BatchNormalization()(model)\n",
        "    model = ELU()(model)\n",
        "    model = Dropout(dropout_rate)(model)\n",
        "    \n",
        "    model = Dense(256, activation = 'linear', kernel_initializer = 'he_normal')(model)\n",
        "    model = BatchNormalization()(model)\n",
        "    model = ELU()(model)\n",
        "    model = Dropout(dropout_rate)(model)\n",
        "\n",
        "    classification_block_output = Dense(6, activation='sigmoid', kernel_initializer = 'glorot_normal')(model)\n",
        "    \n",
        "    return classification_block_output"
      ],
      "execution_count": 0,
      "outputs": []
    },
    {
      "metadata": {
        "id": "LTFG7OgsXynw",
        "colab_type": "code",
        "colab": {
          "autoexec": {
            "startup": false,
            "wait_interval": 0
          },
          "base_uri": "https://localhost:8080/",
          "height": 935
        },
        "outputId": "f21041f5-4de1-46d4-d2d0-fd7264a102bd",
        "executionInfo": {
          "status": "ok",
          "timestamp": 1532904048221,
          "user_tz": -120,
          "elapsed": 7167,
          "user": {
            "displayName": "Deep Learning",
            "photoUrl": "https://lh3.googleusercontent.com/a/default-user=s128",
            "userId": "110970714976109420834"
          }
        }
      },
      "cell_type": "code",
      "source": [
        "max_words= 30000\n",
        "max_words_length = 400\n",
        "embedding_dimension = 300\n",
        "\n",
        "input_layer = Input(shape=(max_words_length,))\n",
        "\n",
        "pretrained_embedding_layer = Embedding(\n",
        "    max_words, \n",
        "    output_dim=embedding_dimension, \n",
        "    input_length=max_words_length,\n",
        "    weights = [np.load('fast_text_embeddings.npy')],\n",
        "    trainable = False\n",
        ")(input_layer)\n",
        "pretrained_embedding_layer = SpatialDropout1D(0.2)(pretrained_embedding_layer)\n",
        "\n",
        "custom_embedding_layer = Embedding(\n",
        "    max_words, \n",
        "    output_dim=embedding_dimension, \n",
        "    input_length=max_words_length,\n",
        "    weights = [np.load('custom_fast_text_embeddings.npy')],\n",
        "    trainable = False\n",
        ")(input_layer)\n",
        "custom_embedding_layer = SpatialDropout1D(0.2)(custom_embedding_layer)\n",
        "\n",
        "averaged_embedding_layer = Average()([pretrained_embedding_layer, custom_embedding_layer])\n",
        "averaged_embedding_layer = SpatialDropout1D(0.2)(averaged_embedding_layer)\n",
        "averaged_embedding_layer_scaled = convolution_block(averaged_embedding_layer, residual_convolution_options)\n",
        "\n",
        "model = residual_add_block(averaged_embedding_layer_scaled, should_pool = False, dilation_rate=1)\n",
        "model = residual_add_block(model, should_pool = True, dilation_rate=2)\n",
        "model = residual_add_block(model, should_pool = True, dilation_rate=3)\n",
        "model = residual_add_block(model, should_pool = True, dilation_rate=4)\n",
        "model = residual_add_block(model, should_pool = True, dilation_rate=5)\n",
        "\n",
        "output_layer = yoon_kim_feature_extractor(model, residual_convolution_options['filters'])\n",
        "output_layer = classification_block(output_layer)\n",
        "\n",
        "model = Model(input_layer, output_layer)\n",
        "\n",
        "model.compile(\n",
        "    loss='binary_crossentropy', \n",
        "    optimizer='Adam',\n",
        "    metrics=['accuracy']\n",
        ")          \n",
        "\n",
        "model.summary()"
      ],
      "execution_count": 13,
      "outputs": [
        {
          "output_type": "stream",
          "text": [
            "__________________________________________________________________________________________________\n",
            "Layer (type)                    Output Shape         Param #     Connected to                     \n",
            "==================================================================================================\n",
            "input_1 (InputLayer)            (None, 400)          0                                            \n",
            "__________________________________________________________________________________________________\n",
            "embedding_1 (Embedding)         (None, 400, 300)     9000000     input_1[0][0]                    \n",
            "__________________________________________________________________________________________________\n",
            "embedding_2 (Embedding)         (None, 400, 300)     9000000     input_1[0][0]                    \n",
            "__________________________________________________________________________________________________\n",
            "spatial_dropout1d_1 (SpatialDro (None, 400, 300)     0           embedding_1[0][0]                \n",
            "__________________________________________________________________________________________________\n",
            "spatial_dropout1d_2 (SpatialDro (None, 400, 300)     0           embedding_2[0][0]                \n",
            "__________________________________________________________________________________________________\n",
            "average_1 (Average)             (None, 400, 300)     0           spatial_dropout1d_1[0][0]        \n",
            "                                                                 spatial_dropout1d_2[0][0]        \n",
            "__________________________________________________________________________________________________\n",
            "spatial_dropout1d_3 (SpatialDro (None, 400, 300)     0           average_1[0][0]                  \n",
            "__________________________________________________________________________________________________\n",
            "model_1 (Model)                 (None, 400, 64)      20464       spatial_dropout1d_3[0][0]        \n",
            "__________________________________________________________________________________________________\n",
            "model_4 (Model)                 (None, 400, 64)      8832        model_1[1][0]                    \n",
            "__________________________________________________________________________________________________\n",
            "model_7 (Model)                 (None, 200, 64)      8832        model_4[1][0]                    \n",
            "__________________________________________________________________________________________________\n",
            "model_10 (Model)                (None, 100, 64)      8832        model_7[1][0]                    \n",
            "__________________________________________________________________________________________________\n",
            "model_13 (Model)                (None, 50, 64)       8832        model_10[1][0]                   \n",
            "__________________________________________________________________________________________________\n",
            "model_16 (Model)                (None, 25, 64)       8832        model_13[1][0]                   \n",
            "__________________________________________________________________________________________________\n",
            "model_17 (Model)                (None, 256)          46336       model_16[1][0]                   \n",
            "__________________________________________________________________________________________________\n",
            "dense_1 (Dense)                 (None, 256)          65792       model_17[1][0]                   \n",
            "__________________________________________________________________________________________________\n",
            "batch_normalization_16 (BatchNo (None, 256)          1024        dense_1[0][0]                    \n",
            "__________________________________________________________________________________________________\n",
            "elu_5 (ELU)                     (None, 256)          0           batch_normalization_16[0][0]     \n",
            "__________________________________________________________________________________________________\n",
            "dropout_2 (Dropout)             (None, 256)          0           elu_5[0][0]                      \n",
            "__________________________________________________________________________________________________\n",
            "dense_2 (Dense)                 (None, 256)          65792       dropout_2[0][0]                  \n",
            "__________________________________________________________________________________________________\n",
            "batch_normalization_17 (BatchNo (None, 256)          1024        dense_2[0][0]                    \n",
            "__________________________________________________________________________________________________\n",
            "elu_6 (ELU)                     (None, 256)          0           batch_normalization_17[0][0]     \n",
            "__________________________________________________________________________________________________\n",
            "dropout_3 (Dropout)             (None, 256)          0           elu_6[0][0]                      \n",
            "__________________________________________________________________________________________________\n",
            "dense_3 (Dense)                 (None, 6)            1542        dropout_3[0][0]                  \n",
            "==================================================================================================\n",
            "Total params: 18,246,134\n",
            "Trainable params: 242,718\n",
            "Non-trainable params: 18,003,416\n",
            "__________________________________________________________________________________________________\n"
          ],
          "name": "stdout"
        }
      ]
    },
    {
      "metadata": {
        "id": "xwMmTewgXynz",
        "colab_type": "code",
        "colab": {
          "autoexec": {
            "startup": false,
            "wait_interval": 0
          },
          "base_uri": "https://localhost:8080/",
          "height": 1580
        },
        "outputId": "0754c54e-2dc2-439e-fd92-3675f655879d",
        "executionInfo": {
          "status": "ok",
          "timestamp": 1532742849534,
          "user_tz": -120,
          "elapsed": 11680584,
          "user": {
            "displayName": "Deep Learning",
            "photoUrl": "https://lh3.googleusercontent.com/a/default-user=s128",
            "userId": "118387080994381600389"
          }
        }
      },
      "cell_type": "code",
      "source": [
        "history = train_with_cv(model, epochs=64, batchSize=32, rocEvery = 2)"
      ],
      "execution_count": 0,
      "outputs": [
        {
          "output_type": "stream",
          "text": [
            "Train on 102124 samples, validate on 25532 samples\n",
            "Epoch 1/64\n",
            " 20768/102124 [=====>........................] - ETA: 4:52 - loss: 0.1291 - acc: 0.9558"
          ],
          "name": "stdout"
        },
        {
          "output_type": "stream",
          "text": [
            " 71744/102124 [====================>.........] - ETA: 1:36 - loss: 0.0849 - acc: 0.9709"
          ],
          "name": "stdout"
        },
        {
          "output_type": "stream",
          "text": [
            "102124/102124 [==============================] - 341s 3ms/step - loss: 0.0771 - acc: 0.9733 - val_loss: 0.0506 - val_acc: 0.9804\n",
            "Epoch 2/64\n",
            "  2144/102124 [..............................] - ETA: 5:37 - loss: 0.0580 - acc: 0.9791"
          ],
          "name": "stdout"
        },
        {
          "output_type": "stream",
          "text": [
            " 39360/102124 [==========>...................] - ETA: 3:18 - loss: 0.0571 - acc: 0.9792"
          ],
          "name": "stdout"
        },
        {
          "output_type": "stream",
          "text": [
            " 78912/102124 [======================>.......] - ETA: 1:11 - loss: 0.0560 - acc: 0.9796"
          ],
          "name": "stdout"
        },
        {
          "output_type": "stream",
          "text": [
            "102124/102124 [==============================] - 323s 3ms/step - loss: 0.0554 - acc: 0.9798 - val_loss: 0.0451 - val_acc: 0.9829\n",
            "roc-auc: 0.9826 - roc-auc_val: 0.9791                                                                                                    \n",
            "Epoch 3/64\n",
            "  3136/102124 [..............................] - ETA: 4:43 - loss: 0.0564 - acc: 0.9798"
          ],
          "name": "stdout"
        },
        {
          "output_type": "stream",
          "text": [
            " 42848/102124 [===========>..................] - ETA: 2:55 - loss: 0.0517 - acc: 0.9810"
          ],
          "name": "stdout"
        },
        {
          "output_type": "stream",
          "text": [
            " 79520/102124 [======================>.......] - ETA: 1:06 - loss: 0.0517 - acc: 0.9809"
          ],
          "name": "stdout"
        },
        {
          "output_type": "stream",
          "text": [
            "102124/102124 [==============================] - 311s 3ms/step - loss: 0.0519 - acc: 0.9808 - val_loss: 0.0462 - val_acc: 0.9824\n",
            "Epoch 4/64\n",
            "  5408/102124 [>.............................] - ETA: 4:41 - loss: 0.0498 - acc: 0.9811"
          ],
          "name": "stdout"
        },
        {
          "output_type": "stream",
          "text": [
            " 43040/102124 [===========>..................] - ETA: 3:12 - loss: 0.0497 - acc: 0.9814"
          ],
          "name": "stdout"
        },
        {
          "output_type": "stream",
          "text": [
            " 78496/102124 [======================>.......] - ETA: 1:18 - loss: 0.0503 - acc: 0.9812"
          ],
          "name": "stdout"
        },
        {
          "output_type": "stream",
          "text": [
            "102124/102124 [==============================] - 353s 3ms/step - loss: 0.0498 - acc: 0.9814 - val_loss: 0.0457 - val_acc: 0.9823\n",
            "\n",
            "Epoch 00004: ReduceLROnPlateau reducing learning rate to 0.00036602141335606575.\n",
            "roc-auc: 0.9867 - roc-auc_val: 0.9831                                                                                                    \n",
            "Epoch 5/64\n",
            "  2432/102124 [..............................] - ETA: 5:13 - loss: 0.0465 - acc: 0.9817"
          ],
          "name": "stdout"
        },
        {
          "output_type": "stream",
          "text": [
            " 44544/102124 [============>.................] - ETA: 3:01 - loss: 0.0482 - acc: 0.9815"
          ],
          "name": "stdout"
        },
        {
          "output_type": "stream",
          "text": [
            " 80608/102124 [======================>.......] - ETA: 1:06 - loss: 0.0479 - acc: 0.9818"
          ],
          "name": "stdout"
        },
        {
          "output_type": "stream",
          "text": [
            "102124/102124 [==============================] - 326s 3ms/step - loss: 0.0480 - acc: 0.9819 - val_loss: 0.0420 - val_acc: 0.9836\n",
            "Epoch 6/64\n",
            "  5696/102124 [>.............................] - ETA: 4:52 - loss: 0.0481 - acc: 0.9822"
          ],
          "name": "stdout"
        },
        {
          "output_type": "stream",
          "text": [
            " 41664/102124 [===========>..................] - ETA: 3:09 - loss: 0.0475 - acc: 0.9821"
          ],
          "name": "stdout"
        },
        {
          "output_type": "stream",
          "text": [
            " 80224/102124 [======================>.......] - ETA: 1:10 - loss: 0.0475 - acc: 0.9820"
          ],
          "name": "stdout"
        },
        {
          "output_type": "stream",
          "text": [
            "102124/102124 [==============================] - 339s 3ms/step - loss: 0.0472 - acc: 0.9821 - val_loss: 0.0437 - val_acc: 0.9832\n",
            "roc-auc: 0.9891 - roc-auc_val: 0.9864                                                                                                    \n",
            "Epoch 7/64\n",
            "  3392/102124 [..............................] - ETA: 4:51 - loss: 0.0434 - acc: 0.9831"
          ],
          "name": "stdout"
        },
        {
          "output_type": "stream",
          "text": [
            " 40320/102124 [==========>...................] - ETA: 3:00 - loss: 0.0467 - acc: 0.9822"
          ],
          "name": "stdout"
        },
        {
          "output_type": "stream",
          "text": [
            " 85920/102124 [========================>.....] - ETA: 47s - loss: 0.0464 - acc: 0.9823"
          ],
          "name": "stdout"
        },
        {
          "output_type": "stream",
          "text": [
            "102124/102124 [==============================] - 307s 3ms/step - loss: 0.0463 - acc: 0.9824 - val_loss: 0.0415 - val_acc: 0.9838\n",
            "Epoch 8/64\n",
            "  7840/102124 [=>............................] - ETA: 4:30 - loss: 0.0489 - acc: 0.9814"
          ],
          "name": "stdout"
        },
        {
          "output_type": "stream",
          "text": [
            " 50976/102124 [=============>................] - ETA: 2:28 - loss: 0.0458 - acc: 0.9827"
          ],
          "name": "stdout"
        },
        {
          "output_type": "stream",
          "text": [
            " 89120/102124 [=========================>....] - ETA: 38s - loss: 0.0457 - acc: 0.9827"
          ],
          "name": "stdout"
        },
        {
          "output_type": "stream",
          "text": [
            "102124/102124 [==============================] - 319s 3ms/step - loss: 0.0455 - acc: 0.9827 - val_loss: 0.0416 - val_acc: 0.9839\n",
            "roc-auc: 0.99 - roc-auc_val: 0.9865                                                                                                    \n",
            "Epoch 9/64\n",
            "  5568/102124 [>.............................] - ETA: 5:26 - loss: 0.0420 - acc: 0.9836"
          ],
          "name": "stdout"
        },
        {
          "output_type": "stream",
          "text": [
            " 43840/102124 [===========>..................] - ETA: 3:20 - loss: 0.0449 - acc: 0.9828"
          ],
          "name": "stdout"
        },
        {
          "output_type": "stream",
          "text": [
            " 82720/102124 [=======================>......] - ETA: 1:06 - loss: 0.0452 - acc: 0.9826"
          ],
          "name": "stdout"
        },
        {
          "output_type": "stream",
          "text": [
            "102124/102124 [==============================] - 362s 4ms/step - loss: 0.0450 - acc: 0.9828 - val_loss: 0.0409 - val_acc: 0.9840\n",
            "Epoch 10/64\n",
            "  6272/102124 [>.............................] - ETA: 4:49 - loss: 0.0417 - acc: 0.9842"
          ],
          "name": "stdout"
        },
        {
          "output_type": "stream",
          "text": [
            " 42720/102124 [===========>..................] - ETA: 3:01 - loss: 0.0441 - acc: 0.9831"
          ],
          "name": "stdout"
        },
        {
          "output_type": "stream",
          "text": [
            " 80032/102124 [======================>.......] - ETA: 1:08 - loss: 0.0441 - acc: 0.9831"
          ],
          "name": "stdout"
        },
        {
          "output_type": "stream",
          "text": [
            "102124/102124 [==============================] - 330s 3ms/step - loss: 0.0441 - acc: 0.9830 - val_loss: 0.0408 - val_acc: 0.9840\n",
            "roc-auc: 0.991 - roc-auc_val: 0.9876                                                                                                    \n",
            "Epoch 11/64\n",
            "  3360/102124 [..............................] - ETA: 5:09 - loss: 0.0448 - acc: 0.9832"
          ],
          "name": "stdout"
        },
        {
          "output_type": "stream",
          "text": [
            " 43008/102124 [===========>..................] - ETA: 2:59 - loss: 0.0445 - acc: 0.9828"
          ],
          "name": "stdout"
        },
        {
          "output_type": "stream",
          "text": [
            " 80704/102124 [======================>.......] - ETA: 1:03 - loss: 0.0436 - acc: 0.9831"
          ],
          "name": "stdout"
        },
        {
          "output_type": "stream",
          "text": [
            "102124/102124 [==============================] - 313s 3ms/step - loss: 0.0438 - acc: 0.9831 - val_loss: 0.0419 - val_acc: 0.9834\n",
            "Epoch 12/64\n",
            "  5792/102124 [>.............................] - ETA: 4:36 - loss: 0.0417 - acc: 0.9836"
          ],
          "name": "stdout"
        },
        {
          "output_type": "stream",
          "text": [
            " 47488/102124 [============>.................] - ETA: 2:38 - loss: 0.0430 - acc: 0.9832"
          ],
          "name": "stdout"
        },
        {
          "output_type": "stream",
          "text": [
            " 89696/102124 [=========================>....] - ETA: 36s - loss: 0.0433 - acc: 0.9831"
          ],
          "name": "stdout"
        },
        {
          "output_type": "stream",
          "text": [
            "102124/102124 [==============================] - 317s 3ms/step - loss: 0.0432 - acc: 0.9832 - val_loss: 0.0409 - val_acc: 0.9842\n",
            "roc-auc: 0.9913 - roc-auc_val: 0.9875                                                                                                    \n",
            "Epoch 13/64\n",
            "  5504/102124 [>.............................] - ETA: 5:33 - loss: 0.0415 - acc: 0.9840"
          ],
          "name": "stdout"
        },
        {
          "output_type": "stream",
          "text": [
            " 40992/102124 [===========>..................] - ETA: 3:24 - loss: 0.0430 - acc: 0.9834"
          ],
          "name": "stdout"
        },
        {
          "output_type": "stream",
          "text": [
            " 80992/102124 [======================>.......] - ETA: 1:10 - loss: 0.0429 - acc: 0.9835"
          ],
          "name": "stdout"
        },
        {
          "output_type": "stream",
          "text": [
            "102124/102124 [==============================] - 344s 3ms/step - loss: 0.0431 - acc: 0.9834 - val_loss: 0.0413 - val_acc: 0.9838\n",
            "Epoch 14/64\n",
            "  5664/102124 [>.............................] - ETA: 4:56 - loss: 0.0450 - acc: 0.9827"
          ],
          "name": "stdout"
        },
        {
          "output_type": "stream",
          "text": [
            " 46144/102124 [============>.................] - ETA: 2:48 - loss: 0.0427 - acc: 0.9833"
          ],
          "name": "stdout"
        },
        {
          "output_type": "stream",
          "text": [
            " 82816/102124 [=======================>......] - ETA: 58s - loss: 0.0429 - acc: 0.9834"
          ],
          "name": "stdout"
        },
        {
          "output_type": "stream",
          "text": [
            "102124/102124 [==============================] - 321s 3ms/step - loss: 0.0428 - acc: 0.9833 - val_loss: 0.0408 - val_acc: 0.9841\n",
            "roc-auc: 0.9917 - roc-auc_val: 0.9878                                                                                                    \n",
            "Epoch 15/64\n",
            "  3936/102124 [>.............................] - ETA: 4:55 - loss: 0.0444 - acc: 0.9831"
          ],
          "name": "stdout"
        },
        {
          "output_type": "stream",
          "text": [
            " 40992/102124 [===========>..................] - ETA: 3:04 - loss: 0.0425 - acc: 0.9835"
          ],
          "name": "stdout"
        },
        {
          "output_type": "stream",
          "text": [
            " 89568/102124 [=========================>....] - ETA: 37s - loss: 0.0423 - acc: 0.9836"
          ],
          "name": "stdout"
        },
        {
          "output_type": "stream",
          "text": [
            "102124/102124 [==============================] - 312s 3ms/step - loss: 0.0424 - acc: 0.9836 - val_loss: 0.0402 - val_acc: 0.9845\n",
            "Epoch 16/64\n",
            "  9184/102124 [=>............................] - ETA: 4:30 - loss: 0.0425 - acc: 0.9832"
          ],
          "name": "stdout"
        },
        {
          "output_type": "stream",
          "text": [
            " 61216/102124 [================>.............] - ETA: 1:57 - loss: 0.0414 - acc: 0.9840"
          ],
          "name": "stdout"
        },
        {
          "output_type": "stream",
          "text": [
            "102048/102124 [============================>.] - ETA: 0s - loss: 0.0422 - acc: 0.9837"
          ],
          "name": "stdout"
        },
        {
          "output_type": "stream",
          "text": [
            "102124/102124 [==============================] - 305s 3ms/step - loss: 0.0422 - acc: 0.9837 - val_loss: 0.0432 - val_acc: 0.9830\n",
            "roc-auc: 0.9918 - roc-auc_val: 0.9882                                                                                                    \n",
            "Epoch 17/64\n",
            "  8352/102124 [=>............................] - ETA: 5:07 - loss: 0.0410 - acc: 0.9837"
          ],
          "name": "stdout"
        },
        {
          "output_type": "stream",
          "text": [
            " 47840/102124 [=============>................] - ETA: 2:58 - loss: 0.0417 - acc: 0.9838"
          ],
          "name": "stdout"
        },
        {
          "output_type": "stream",
          "text": [
            " 85952/102124 [========================>.....] - ETA: 53s - loss: 0.0421 - acc: 0.9837"
          ],
          "name": "stdout"
        },
        {
          "output_type": "stream",
          "text": [
            "102124/102124 [==============================] - 349s 3ms/step - loss: 0.0422 - acc: 0.9836 - val_loss: 0.0405 - val_acc: 0.9841\n",
            "\n",
            "Epoch 00017: ReduceLROnPlateau reducing learning rate to 9.473228419665247e-05.\n",
            "Epoch 18/64\n",
            "  5536/102124 [>.............................] - ETA: 5:15 - loss: 0.0455 - acc: 0.9822"
          ],
          "name": "stdout"
        },
        {
          "output_type": "stream",
          "text": [
            " 41664/102124 [===========>..................] - ETA: 3:08 - loss: 0.0419 - acc: 0.9836"
          ],
          "name": "stdout"
        },
        {
          "output_type": "stream",
          "text": [
            " 77472/102124 [=====================>........] - ETA: 1:15 - loss: 0.0421 - acc: 0.9836"
          ],
          "name": "stdout"
        },
        {
          "output_type": "stream",
          "text": [
            "102124/102124 [==============================] - 326s 3ms/step - loss: 0.0419 - acc: 0.9837 - val_loss: 0.0403 - val_acc: 0.9842\n",
            "roc-auc: 0.9922 - roc-auc_val: 0.9884                                                                                                    \n",
            "Epoch 19/64\n",
            "  2688/102124 [..............................] - ETA: 5:17 - loss: 0.0374 - acc: 0.9857"
          ],
          "name": "stdout"
        },
        {
          "output_type": "stream",
          "text": [
            " 42688/102124 [===========>..................] - ETA: 3:08 - loss: 0.0409 - acc: 0.9842"
          ],
          "name": "stdout"
        },
        {
          "output_type": "stream",
          "text": [
            " 79744/102124 [======================>.......] - ETA: 1:09 - loss: 0.0413 - acc: 0.9840"
          ],
          "name": "stdout"
        },
        {
          "output_type": "stream",
          "text": [
            "102124/102124 [==============================] - 326s 3ms/step - loss: 0.0417 - acc: 0.9838 - val_loss: 0.0413 - val_acc: 0.9837\n",
            "Epoch 20/64\n",
            "  5344/102124 [>.............................] - ETA: 4:45 - loss: 0.0397 - acc: 0.9846"
          ],
          "name": "stdout"
        },
        {
          "output_type": "stream",
          "text": [
            " 43744/102124 [===========>..................] - ETA: 2:53 - loss: 0.0409 - acc: 0.9838"
          ],
          "name": "stdout"
        },
        {
          "output_type": "stream",
          "text": [
            " 81536/102124 [======================>.......] - ETA: 1:03 - loss: 0.0409 - acc: 0.9839"
          ],
          "name": "stdout"
        },
        {
          "output_type": "stream",
          "text": [
            "102124/102124 [==============================] - 328s 3ms/step - loss: 0.0413 - acc: 0.9839 - val_loss: 0.0408 - val_acc: 0.9840\n",
            "roc-auc: 0.9923 - roc-auc_val: 0.9884                                                                                                    \n",
            "Epoch 21/64\n",
            "  3744/102124 [>.............................] - ETA: 5:06 - loss: 0.0447 - acc: 0.9819"
          ],
          "name": "stdout"
        },
        {
          "output_type": "stream",
          "text": [
            " 42816/102124 [===========>..................] - ETA: 3:08 - loss: 0.0406 - acc: 0.9841"
          ],
          "name": "stdout"
        },
        {
          "output_type": "stream",
          "text": [
            " 86464/102124 [========================>.....] - ETA: 48s - loss: 0.0409 - acc: 0.9840"
          ],
          "name": "stdout"
        },
        {
          "output_type": "stream",
          "text": [
            "102124/102124 [==============================] - 326s 3ms/step - loss: 0.0412 - acc: 0.9839 - val_loss: 0.0404 - val_acc: 0.9841\n",
            "Epoch 22/64\n",
            "  7872/102124 [=>............................] - ETA: 4:48 - loss: 0.0420 - acc: 0.9834"
          ],
          "name": "stdout"
        },
        {
          "output_type": "stream",
          "text": [
            " 45376/102124 [============>.................] - ETA: 2:49 - loss: 0.0403 - acc: 0.9841"
          ],
          "name": "stdout"
        },
        {
          "output_type": "stream",
          "text": [
            " 81504/102124 [======================>.......] - ETA: 1:02 - loss: 0.0408 - acc: 0.9841"
          ],
          "name": "stdout"
        },
        {
          "output_type": "stream",
          "text": [
            "102124/102124 [==============================] - 322s 3ms/step - loss: 0.0411 - acc: 0.9839 - val_loss: 0.0407 - val_acc: 0.9839\n",
            "roc-auc: 0.9925 - roc-auc_val: 0.9885                                                                                                    \n",
            "Epoch 23/64\n",
            "  3712/102124 [>.............................] - ETA: 4:50 - loss: 0.0402 - acc: 0.9838"
          ],
          "name": "stdout"
        },
        {
          "output_type": "stream",
          "text": [
            " 43008/102124 [===========>..................] - ETA: 2:56 - loss: 0.0403 - acc: 0.9842"
          ],
          "name": "stdout"
        },
        {
          "output_type": "stream",
          "text": [
            " 79648/102124 [======================>.......] - ETA: 1:06 - loss: 0.0409 - acc: 0.9841"
          ],
          "name": "stdout"
        },
        {
          "output_type": "stream",
          "text": [
            "102124/102124 [==============================] - 313s 3ms/step - loss: 0.0409 - acc: 0.9841 - val_loss: 0.0401 - val_acc: 0.9843\n",
            "Epoch 24/64\n",
            "  5312/102124 [>.............................] - ETA: 4:47 - loss: 0.0418 - acc: 0.9840"
          ],
          "name": "stdout"
        },
        {
          "output_type": "stream",
          "text": [
            " 43616/102124 [===========>..................] - ETA: 2:59 - loss: 0.0401 - acc: 0.9843"
          ],
          "name": "stdout"
        },
        {
          "output_type": "stream",
          "text": [
            " 79456/102124 [======================>.......] - ETA: 1:10 - loss: 0.0407 - acc: 0.9841"
          ],
          "name": "stdout"
        },
        {
          "output_type": "stream",
          "text": [
            "102124/102124 [==============================] - 332s 3ms/step - loss: 0.0410 - acc: 0.9839 - val_loss: 0.0401 - val_acc: 0.9843\n",
            "roc-auc: 0.9926 - roc-auc_val: 0.9886                                                                                                    \n",
            "Epoch 25/64\n",
            "  3168/102124 [..............................] - ETA: 5:03 - loss: 0.0435 - acc: 0.9828"
          ],
          "name": "stdout"
        },
        {
          "output_type": "stream",
          "text": [
            " 39104/102124 [==========>...................] - ETA: 3:13 - loss: 0.0416 - acc: 0.9839"
          ],
          "name": "stdout"
        },
        {
          "output_type": "stream",
          "text": [
            " 80096/102124 [======================>.......] - ETA: 1:06 - loss: 0.0405 - acc: 0.9843"
          ],
          "name": "stdout"
        },
        {
          "output_type": "stream",
          "text": [
            "102124/102124 [==============================] - 321s 3ms/step - loss: 0.0408 - acc: 0.9841 - val_loss: 0.0401 - val_acc: 0.9843\n",
            "Epoch 26/64\n",
            "  5504/102124 [>.............................] - ETA: 4:41 - loss: 0.0397 - acc: 0.9849"
          ],
          "name": "stdout"
        },
        {
          "output_type": "stream",
          "text": [
            " 44384/102124 [============>.................] - ETA: 2:52 - loss: 0.0406 - acc: 0.9842"
          ],
          "name": "stdout"
        },
        {
          "output_type": "stream",
          "text": [
            " 80928/102124 [======================>.......] - ETA: 1:04 - loss: 0.0403 - acc: 0.9843"
          ],
          "name": "stdout"
        },
        {
          "output_type": "stream",
          "text": [
            "102124/102124 [==============================] - 324s 3ms/step - loss: 0.0407 - acc: 0.9842 - val_loss: 0.0405 - val_acc: 0.9840\n",
            "roc-auc: 0.9927 - roc-auc_val: 0.9887                                                                                                    \n",
            "Epoch 27/64\n",
            "  3616/102124 [>.............................] - ETA: 4:58 - loss: 0.0409 - acc: 0.9847"
          ],
          "name": "stdout"
        },
        {
          "output_type": "stream",
          "text": [
            " 40000/102124 [==========>...................] - ETA: 3:11 - loss: 0.0398 - acc: 0.9844"
          ],
          "name": "stdout"
        },
        {
          "output_type": "stream",
          "text": [
            " 82848/102124 [=======================>......] - ETA: 57s - loss: 0.0406 - acc: 0.9841"
          ],
          "name": "stdout"
        },
        {
          "output_type": "stream",
          "text": [
            "102124/102124 [==============================] - 315s 3ms/step - loss: 0.0405 - acc: 0.9842 - val_loss: 0.0405 - val_acc: 0.9840\n",
            "Epoch 28/64\n",
            "  6624/102124 [>.............................] - ETA: 4:40 - loss: 0.0364 - acc: 0.9861"
          ],
          "name": "stdout"
        },
        {
          "output_type": "stream",
          "text": [
            " 50688/102124 [=============>................] - ETA: 2:30 - loss: 0.0405 - acc: 0.9842"
          ],
          "name": "stdout"
        },
        {
          "output_type": "stream",
          "text": [
            " 92352/102124 [==========================>...] - ETA: 28s - loss: 0.0408 - acc: 0.9841"
          ],
          "name": "stdout"
        },
        {
          "output_type": "stream",
          "text": [
            "102124/102124 [==============================] - 309s 3ms/step - loss: 0.0409 - acc: 0.9840 - val_loss: 0.0405 - val_acc: 0.9840\n",
            "\n",
            "Epoch 00028: ReduceLROnPlateau reducing learning rate to 3.0185510695446283e-05.\n",
            "roc-auc: 0.9928 - roc-auc_val: 0.9888                                                                                                    \n",
            "Epoch 29/64\n",
            "  5088/102124 [>.............................] - ETA: 5:37 - loss: 0.0391 - acc: 0.9844"
          ],
          "name": "stdout"
        },
        {
          "output_type": "stream",
          "text": [
            " 42496/102124 [===========>..................] - ETA: 3:25 - loss: 0.0392 - acc: 0.9847"
          ],
          "name": "stdout"
        },
        {
          "output_type": "stream",
          "text": [
            " 78624/102124 [======================>.......] - ETA: 1:20 - loss: 0.0400 - acc: 0.9843"
          ],
          "name": "stdout"
        },
        {
          "output_type": "stream",
          "text": [
            "102124/102124 [==============================] - 364s 4ms/step - loss: 0.0405 - acc: 0.9842 - val_loss: 0.0405 - val_acc: 0.9840\n",
            "Epoch 30/64\n",
            "  4704/102124 [>.............................] - ETA: 5:28 - loss: 0.0376 - acc: 0.9851"
          ],
          "name": "stdout"
        },
        {
          "output_type": "stream",
          "text": [
            " 40672/102124 [==========>...................] - ETA: 3:21 - loss: 0.0390 - acc: 0.9847"
          ],
          "name": "stdout"
        },
        {
          "output_type": "stream",
          "text": [
            " 78080/102124 [=====================>........] - ETA: 1:16 - loss: 0.0397 - acc: 0.9845"
          ],
          "name": "stdout"
        },
        {
          "output_type": "stream",
          "text": [
            "102124/102124 [==============================] - 332s 3ms/step - loss: 0.0401 - acc: 0.9844 - val_loss: 0.0403 - val_acc: 0.9841\n",
            "roc-auc: 0.9929 - roc-auc_val: 0.9887                                                                                                    \n",
            "Epoch 31/64\n",
            "  2944/102124 [..............................] - ETA: 4:58 - loss: 0.0410 - acc: 0.9839"
          ],
          "name": "stdout"
        },
        {
          "output_type": "stream",
          "text": [
            " 48032/102124 [=============>................] - ETA: 2:48 - loss: 0.0404 - acc: 0.9842"
          ],
          "name": "stdout"
        },
        {
          "output_type": "stream",
          "text": [
            " 84864/102124 [=======================>......] - ETA: 53s - loss: 0.0406 - acc: 0.9841"
          ],
          "name": "stdout"
        },
        {
          "output_type": "stream",
          "text": [
            "102124/102124 [==============================] - 326s 3ms/step - loss: 0.0405 - acc: 0.9841 - val_loss: 0.0402 - val_acc: 0.9842\n",
            "Epoch 32/64\n",
            "  7296/102124 [=>............................] - ETA: 4:37 - loss: 0.0387 - acc: 0.9851"
          ],
          "name": "stdout"
        },
        {
          "output_type": "stream",
          "text": [
            " 43840/102124 [===========>..................] - ETA: 2:51 - loss: 0.0401 - acc: 0.9843"
          ],
          "name": "stdout"
        },
        {
          "output_type": "stream",
          "text": [
            " 81472/102124 [======================>.......] - ETA: 1:00 - loss: 0.0403 - acc: 0.9843"
          ],
          "name": "stdout"
        },
        {
          "output_type": "stream",
          "text": [
            "102124/102124 [==============================] - 313s 3ms/step - loss: 0.0401 - acc: 0.9844 - val_loss: 0.0404 - val_acc: 0.9841\n",
            "roc-auc: 0.9929 - roc-auc_val: 0.9887                                                                                                    \n",
            "Epoch 33/64\n",
            "  3744/102124 [>.............................] - ETA: 5:06 - loss: 0.0386 - acc: 0.9840"
          ],
          "name": "stdout"
        },
        {
          "output_type": "stream",
          "text": [
            " 40672/102124 [==========>...................] - ETA: 3:18 - loss: 0.0410 - acc: 0.9838"
          ],
          "name": "stdout"
        },
        {
          "output_type": "stream",
          "text": [
            " 77952/102124 [=====================>........] - ETA: 1:17 - loss: 0.0402 - acc: 0.9842"
          ],
          "name": "stdout"
        },
        {
          "output_type": "stream",
          "text": [
            "102124/102124 [==============================] - 340s 3ms/step - loss: 0.0403 - acc: 0.9842 - val_loss: 0.0401 - val_acc: 0.9843\n"
          ],
          "name": "stdout"
        }
      ]
    },
    {
      "metadata": {
        "id": "izWCJ3HMReV3",
        "colab_type": "code",
        "colab": {
          "autoexec": {
            "startup": false,
            "wait_interval": 0
          },
          "base_uri": "https://localhost:8080/",
          "height": 315
        },
        "outputId": "969c398e-76f6-4b48-9dcd-ff0778181e13",
        "executionInfo": {
          "status": "ok",
          "timestamp": 1532742852265,
          "user_tz": -120,
          "elapsed": 2705,
          "user": {
            "displayName": "Deep Learning",
            "photoUrl": "https://lh3.googleusercontent.com/a/default-user=s128",
            "userId": "118387080994381600389"
          }
        }
      },
      "cell_type": "code",
      "source": [
        "plot_history(history)"
      ],
      "execution_count": 0,
      "outputs": [
        {
          "output_type": "display_data",
          "data": {
            "image/png": "[encoded data removed]",
            "text/plain": [
              "<matplotlib.figure.Figure at 0x7f1b85d90710>"
            ]
          },
          "metadata": {
            "tags": []
          }
        }
      ]
    },
    {
      "metadata": {
        "id": "r2gtMBj2Tp9A",
        "colab_type": "code",
        "colab": {
          "autoexec": {
            "startup": false,
            "wait_interval": 0
          },
          "base_uri": "https://localhost:8080/",
          "height": 52
        },
        "outputId": "41bbdc67-6c38-451e-85c8-ea3960c51dbe",
        "executionInfo": {
          "status": "ok",
          "timestamp": 1532742884850,
          "user_tz": -120,
          "elapsed": 31614,
          "user": {
            "displayName": "Deep Learning",
            "photoUrl": "https://lh3.googleusercontent.com/a/default-user=s128",
            "userId": "118387080994381600389"
          }
        }
      },
      "cell_type": "code",
      "source": [
        "print(evaluate_on_test(model))"
      ],
      "execution_count": 0,
      "outputs": [
        {
          "output_type": "stream",
          "text": [
            "31915/31915 [==============================] - 17s 539us/step\n",
            "([0.039349734013894036, 0.9841453720424012], 0.99008139604137)\n"
          ],
          "name": "stdout"
        }
      ]
    }
  ]
}
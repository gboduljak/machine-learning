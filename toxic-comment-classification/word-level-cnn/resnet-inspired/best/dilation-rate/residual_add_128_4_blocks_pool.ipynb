{
 "cells": [
  {
   "cell_type": "code",
   "execution_count": 1,
   "metadata": {
    "colab": {
     "autoexec": {
      "startup": false,
      "wait_interval": 0
     },
     "base_uri": "https://localhost:8080/",
     "height": 277
    },
    "colab_type": "code",
    "executionInfo": {
     "elapsed": 8998,
     "status": "ok",
     "timestamp": 1532908328590,
     "user": {
      "displayName": "Deep Learner",
      "photoUrl": "https://lh3.googleusercontent.com/a/default-user=s128",
      "userId": "102934620980301123540"
     },
     "user_tz": -120
    },
    "id": "yS1FnhiWX3Js",
    "outputId": "f9c6e902-1985-4f5d-a34a-b2d71e2c7dff"
   },
   "outputs": [
    {
     "name": "stdout",
     "output_type": "stream",
     "text": [
      "Requirement already satisfied: keras in /usr/local/lib/python3.6/dist-packages (2.1.6)\r\n",
      "Requirement already satisfied: pyyaml in /usr/local/lib/python3.6/dist-packages (from keras) (3.13)\r\n",
      "Requirement already satisfied: six>=1.9.0 in /usr/local/lib/python3.6/dist-packages (from keras) (1.11.0)\r\n",
      "Requirement already satisfied: numpy>=1.9.1 in /usr/local/lib/python3.6/dist-packages (from keras) (1.14.5)\r\n",
      "Requirement already satisfied: scipy>=0.14 in /usr/local/lib/python3.6/dist-packages (from keras) (0.19.1)\n",
      "Requirement already satisfied: h5py in /usr/local/lib/python3.6/dist-packages (from keras) (2.8.0)\n",
      "Requirement already satisfied: sklearn in /usr/local/lib/python3.6/dist-packages (0.0)\n",
      "Requirement already satisfied: scikit-learn in /usr/local/lib/python3.6/dist-packages (from sklearn) (0.19.2)\n",
      "Requirement already satisfied: matplotlib in /usr/local/lib/python3.6/dist-packages (2.1.2)\n",
      "Requirement already satisfied: six>=1.10 in /usr/local/lib/python3.6/dist-packages (from matplotlib) (1.11.0)\n",
      "Requirement already satisfied: pyparsing!=2.0.4,!=2.1.2,!=2.1.6,>=2.0.1 in /usr/local/lib/python3.6/dist-packages (from matplotlib) (2.2.0)\n",
      "Requirement already satisfied: numpy>=1.7.1 in /usr/local/lib/python3.6/dist-packages (from matplotlib) (1.14.5)\n",
      "Requirement already satisfied: pytz in /usr/local/lib/python3.6/dist-packages (from matplotlib) (2018.5)\n",
      "Requirement already satisfied: python-dateutil>=2.1 in /usr/local/lib/python3.6/dist-packages (from matplotlib) (2.5.3)\n",
      "Requirement already satisfied: cycler>=0.10 in /usr/local/lib/python3.6/dist-packages (from matplotlib) (0.10.0)\n"
     ]
    }
   ],
   "source": [
    "!pip install keras\n",
    "!pip install sklearn\n",
    "!pip install matplotlib\n",
    "!pip install -U -q PyDrive"
   ]
  },
  {
   "cell_type": "code",
   "execution_count": 2,
   "metadata": {
    "colab": {
     "autoexec": {
      "startup": false,
      "wait_interval": 0
     },
     "base_uri": "https://localhost:8080/",
     "height": 35
    },
    "colab_type": "code",
    "executionInfo": {
     "elapsed": 2159,
     "status": "ok",
     "timestamp": 1532908330806,
     "user": {
      "displayName": "Deep Learner",
      "photoUrl": "https://lh3.googleusercontent.com/a/default-user=s128",
      "userId": "102934620980301123540"
     },
     "user_tz": -120
    },
    "id": "xlKzkDJFrjA-",
    "outputId": "ace1e6dd-ffff-42cf-be42-f5ef4c25b117"
   },
   "outputs": [
    {
     "name": "stderr",
     "output_type": "stream",
     "text": [
      "Using TensorFlow backend.\n"
     ]
    }
   ],
   "source": [
    "from keras import backend as K\n",
    "K.clear_session()"
   ]
  },
  {
   "cell_type": "code",
   "execution_count": 0,
   "metadata": {
    "colab": {
     "autoexec": {
      "startup": false,
      "wait_interval": 0
     }
    },
    "colab_type": "code",
    "id": "eQEKwl4oAxO7"
   },
   "outputs": [],
   "source": [
    "from keras import backend as K\n",
    "cfg = K.tf.ConfigProto()\n",
    "cfg.gpu_options.allow_growth = True\n",
    "K.set_session(K.tf.Session(config=cfg))"
   ]
  },
  {
   "cell_type": "code",
   "execution_count": 0,
   "metadata": {
    "colab": {
     "autoexec": {
      "startup": false,
      "wait_interval": 0
     }
    },
    "colab_type": "code",
    "id": "12M0egCCX-27"
   },
   "outputs": [],
   "source": [
    "from pydrive.auth import GoogleAuth\n",
    "from pydrive.drive import GoogleDrive\n",
    "from google.colab import auth\n",
    "from oauth2client.client import GoogleCredentials\n",
    "\n",
    "auth.authenticate_user()\n",
    "gauth = GoogleAuth()\n",
    "gauth.credentials = GoogleCredentials.get_application_default()\n",
    "drive = GoogleDrive(gauth)"
   ]
  },
  {
   "cell_type": "code",
   "execution_count": 0,
   "metadata": {
    "colab": {
     "autoexec": {
      "startup": false,
      "wait_interval": 0
     }
    },
    "colab_type": "code",
    "id": "4lN2WTUEYBYv"
   },
   "outputs": [],
   "source": [
    "file_import = drive.CreateFile({'id':'1p1bsltfTcIrZ_kfE6kwGTPzcdXorHbb2'})\n",
    "file_import.GetContentFile('colab_setup.py') \n",
    "from colab_setup import setup\n",
    "\n",
    "setup(drive)"
   ]
  },
  {
   "cell_type": "code",
   "execution_count": 6,
   "metadata": {
    "colab": {
     "autoexec": {
      "startup": false,
      "wait_interval": 0
     },
     "base_uri": "https://localhost:8080/",
     "height": 121
    },
    "colab_type": "code",
    "executionInfo": {
     "elapsed": 1931,
     "status": "ok",
     "timestamp": 1532908357928,
     "user": {
      "displayName": "Deep Learner",
      "photoUrl": "https://lh3.googleusercontent.com/a/default-user=s128",
      "userId": "102934620980301123540"
     },
     "user_tz": -120
    },
    "id": "cHBlD0tVj2TY",
    "outputId": "d679c7b4-32f1-4699-b0e4-e87439c09f1d"
   },
   "outputs": [
    {
     "name": "stdout",
     "output_type": "stream",
     "text": [
      "colab_setup.py\t\t\t roc_auc_callback.py\tX_train.npy\r\n",
      "custom_fast_text_embeddings.npy  sample_submission.csv\tX_val.npy\r\n",
      "datalab\t\t\t\t train_model.py\t\ty_test.npy\r\n",
      "fast_text_embeddings.npy\t X_submission.npy\ty_train_full.npy\r\n",
      "plot_history.py\t\t\t X_test.npy\t\ty_train.npy\r\n",
      "__pycache__\t\t\t X_train_full.npy\ty_val.npy\r\n"
     ]
    }
   ],
   "source": [
    "!ls"
   ]
  },
  {
   "cell_type": "code",
   "execution_count": 0,
   "metadata": {
    "colab": {
     "autoexec": {
      "startup": false,
      "wait_interval": 0
     }
    },
    "colab_type": "code",
    "id": "yMwWPTMYXyno"
   },
   "outputs": [],
   "source": [
    "import numpy as np\n",
    "import os\n",
    "\n",
    "from plot_history import plot_history\n",
    "from roc_auc_callback import RocAucCallback\n",
    "from train_model import train_with_cv, train_with_submitting, evaluate_on_test\n",
    "\n",
    "from keras.layers import *\n",
    "from keras.layers.merge import *\n",
    "from keras.initializers import *\n",
    "from keras.models import Model"
   ]
  },
  {
   "cell_type": "code",
   "execution_count": 0,
   "metadata": {
    "colab": {
     "autoexec": {
      "startup": false,
      "wait_interval": 0
     }
    },
    "colab_type": "code",
    "id": "irwBTJdINU0J"
   },
   "outputs": [],
   "source": [
    "from keras.optimizers import *\n",
    "from keras.initializers import *\n",
    "from keras.layers import *\n",
    "from keras.layers.merge import *\n",
    "from keras.models import *\n",
    "\n",
    "residual_convolution_options = dict({\n",
    "    'dropout_mode': 'spatial',\n",
    "    'dropout_rate': 0.2,\n",
    "    'filters': 128,\n",
    "    'kernel_size': 1,\n",
    "    'strides': 1,\n",
    "    'padding': 'same',\n",
    "    'activation': 'elu',\n",
    "    'dilation_rate': 1,\n",
    "    'should_preactivate': True\n",
    "})\n",
    "\n",
    "def convolution_block(input_layer, options):\n",
    "    convolution_input = Input(shape=[\n",
    "        int(input_layer.shape[1]),\n",
    "        int(input_layer.shape[2])\n",
    "    ])\n",
    "\n",
    "    convolution_block = convolution_input\n",
    "\n",
    "    if(options['should_preactivate']):\n",
    "        convolution_block = BatchNormalization()(convolution_block)\n",
    "        convolution_block = Activation(options['activation'])(convolution_block)\n",
    "        convolution_block = Conv1D(options['filters'], options['kernel_size'], strides=options['strides'],\n",
    "                                   dilation_rate=options['dilation_rate'],\n",
    "                                   padding=options['padding'], activation='linear', kernel_initializer='he_normal')(convolution_block)\n",
    "    else:\n",
    "        convolution_block = Conv1D(options['filters'], options['kernel_size'], strides=options['strides'],\n",
    "                                   dilation_rate=options['dilation_rate'],\n",
    "                                   padding=options['padding'], activation='linear', kernel_initializer='he_normal')(convolution_block)\n",
    "        convolution_block = BatchNormalization()(convolution_block)\n",
    "        convolution_block = Activation(options['activation'])(convolution_block)\n",
    "\n",
    "    convolution_output = convolution_block\n",
    "\n",
    "    if(options['dropout_mode'] == 'spatial'):\n",
    "        convolution_output = SpatialDropout1D(options['dropout_rate'])(convolution_output)\n",
    "    if(options['dropout_mode']== 'vanilla'):\n",
    "        convolution_output = Dropout(options['dropout_rate'])(convolution_output)\n",
    "\n",
    "    return Model(inputs=[convolution_input], outputs=[convolution_output])(input_layer)"
   ]
  },
  {
   "cell_type": "code",
   "execution_count": 0,
   "metadata": {
    "colab": {
     "autoexec": {
      "startup": false,
      "wait_interval": 0
     }
    },
    "colab_type": "code",
    "id": "sD9D5r9-Sdg7"
   },
   "outputs": [],
   "source": [
    "def residual_add_block(input_layer, should_pool, dilation_rate=1):\n",
    "    residual_convolution_options['dilation_rate'] = dilation_rate\n",
    "    \n",
    "    convolution_input = Input(shape=[\n",
    "        int(input_layer.shape[1]),\n",
    "        int(input_layer.shape[2])\n",
    "    ])\n",
    "    \n",
    "    residual_block_pool = convolution_input\n",
    "\n",
    "    if(should_pool):\n",
    "        residual_block_pool = MaxPooling1D(pool_size=2, strides=2, padding='same')(convolution_input)\n",
    "\n",
    "    residual_block = add([\n",
    "        residual_block_pool,\n",
    "        convolution_block(residual_block_pool, residual_convolution_options)\n",
    "    ])\n",
    "    residual_block = add([\n",
    "        residual_block,\n",
    "        convolution_block(residual_block, residual_convolution_options)\n",
    "    ])\n",
    "    \n",
    "    convolution_output = add([residual_block, residual_block_pool])\n",
    "\n",
    "    return Model(inputs=[convolution_input], outputs=[convolution_output])(input_layer)"
   ]
  },
  {
   "cell_type": "code",
   "execution_count": 0,
   "metadata": {
    "colab": {
     "autoexec": {
      "startup": false,
      "wait_interval": 0
     }
    },
    "colab_type": "code",
    "id": "xOfIVhpoSdpQ"
   },
   "outputs": [],
   "source": [
    "def yoon_kim_feature_extractor(input_layer, filters):\n",
    "    extractor_block_input = Input(shape=[\n",
    "        int(input_layer.shape[1]),\n",
    "        int(input_layer.shape[2])\n",
    "    ])\n",
    "\n",
    "    block_1_conv_1 = Conv1D(filters, 1, activation = 'linear', padding = 'same', kernel_initializer = 'he_normal')(extractor_block_input)\n",
    "    block_1_batchnorm1 = BatchNormalization()(block_1_conv_1)\n",
    "    block_1_batchnorm1 = ELU()(block_1_batchnorm1)\n",
    "    block_1_max_pool1 = GlobalMaxPooling1D()(block_1_batchnorm1)\n",
    "\n",
    "    block_1_conv_2 = Conv1D(filters, 2, activation = 'linear', padding = 'same', kernel_initializer = 'he_normal')(extractor_block_input)\n",
    "    block_1_batchnorm2 = BatchNormalization()(block_1_conv_2)\n",
    "    block_1_batchnorm2 = ELU()(block_1_batchnorm2)\n",
    "    block_1_max_pool2 = GlobalMaxPooling1D()(block_1_batchnorm2)\n",
    "\n",
    "    block_1_conv_3 = Conv1D(filters, 3, activation = 'linear', padding = 'same', kernel_initializer = 'he_normal')(extractor_block_input)\n",
    "    block_1_batchnorm3 = BatchNormalization()(block_1_conv_3)\n",
    "    block_1_batchnorm3 = ELU()(block_1_batchnorm3)\n",
    "    block_1_max_pool3 = GlobalMaxPooling1D()(block_1_batchnorm3)\n",
    "\n",
    "    block_1_conv_4 = Conv1D(filters, 5, activation = 'linear', padding = 'same', kernel_initializer = 'he_normal')(extractor_block_input)\n",
    "    block_1_batchnorm4 = BatchNormalization()(block_1_conv_4)\n",
    "    block_1_batchnorm4 = ELU()(block_1_batchnorm4)\n",
    "    block_1_max_pool4 = GlobalMaxPooling1D()(block_1_batchnorm4)\n",
    "\n",
    "    features = concatenate([\n",
    "        block_1_max_pool1, \n",
    "        block_1_max_pool2, \n",
    "        block_1_max_pool3, \n",
    "        block_1_max_pool4\n",
    "    ])\n",
    "    \n",
    "    extractor_block_output = Dropout(0.2)(features)\n",
    "    \n",
    "    return Model(\n",
    "        inputs=[extractor_block_input], \n",
    "        outputs=[extractor_block_output]\n",
    "    )(input_layer)"
   ]
  },
  {
   "cell_type": "code",
   "execution_count": 0,
   "metadata": {
    "colab": {
     "autoexec": {
      "startup": false,
      "wait_interval": 0
     }
    },
    "colab_type": "code",
    "id": "PHbVmJqTSdxU"
   },
   "outputs": [],
   "source": [
    "def classification_block(input_layer, dropout_rate = 0.2):\n",
    "      \n",
    "    model = Dense(256, activation = 'linear', kernel_initializer = 'he_normal')(input_layer)\n",
    "    model = BatchNormalization()(model)\n",
    "    model = ELU()(model)\n",
    "    model = Dropout(dropout_rate)(model)\n",
    "    \n",
    "    model = Dense(256, activation = 'linear', kernel_initializer = 'he_normal')(model)\n",
    "    model = BatchNormalization()(model)\n",
    "    model = ELU()(model)\n",
    "    model = Dropout(dropout_rate)(model)\n",
    "\n",
    "    classification_block_output = Dense(6, activation='sigmoid', kernel_initializer = 'glorot_normal')(model)\n",
    "    \n",
    "    return classification_block_output"
   ]
  },
  {
   "cell_type": "code",
   "execution_count": 12,
   "metadata": {
    "colab": {
     "autoexec": {
      "startup": false,
      "wait_interval": 0
     },
     "base_uri": "https://localhost:8080/",
     "height": 919
    },
    "colab_type": "code",
    "executionInfo": {
     "elapsed": 6786,
     "status": "ok",
     "timestamp": 1532908371571,
     "user": {
      "displayName": "Deep Learner",
      "photoUrl": "https://lh3.googleusercontent.com/a/default-user=s128",
      "userId": "102934620980301123540"
     },
     "user_tz": -120
    },
    "id": "LTFG7OgsXynw",
    "outputId": "71064986-5eb3-40c2-c090-13baa9c38b80"
   },
   "outputs": [
    {
     "name": "stdout",
     "output_type": "stream",
     "text": [
      "__________________________________________________________________________________________________\n",
      "Layer (type)                    Output Shape         Param #     Connected to                     \n",
      "==================================================================================================\n",
      "input_1 (InputLayer)            (None, 400)          0                                            \n",
      "__________________________________________________________________________________________________\n",
      "embedding_1 (Embedding)         (None, 400, 300)     9000000     input_1[0][0]                    \n",
      "__________________________________________________________________________________________________\n",
      "embedding_2 (Embedding)         (None, 400, 300)     9000000     input_1[0][0]                    \n",
      "__________________________________________________________________________________________________\n",
      "spatial_dropout1d_1 (SpatialDro (None, 400, 300)     0           embedding_1[0][0]                \n",
      "__________________________________________________________________________________________________\n",
      "spatial_dropout1d_2 (SpatialDro (None, 400, 300)     0           embedding_2[0][0]                \n",
      "__________________________________________________________________________________________________\n",
      "average_1 (Average)             (None, 400, 300)     0           spatial_dropout1d_1[0][0]        \n",
      "                                                                 spatial_dropout1d_2[0][0]        \n",
      "__________________________________________________________________________________________________\n",
      "spatial_dropout1d_3 (SpatialDro (None, 400, 300)     0           average_1[0][0]                  \n",
      "__________________________________________________________________________________________________\n",
      "model_1 (Model)                 (None, 400, 128)     39728       spatial_dropout1d_3[0][0]        \n",
      "__________________________________________________________________________________________________\n",
      "model_4 (Model)                 (None, 400, 128)     34048       model_1[1][0]                    \n",
      "__________________________________________________________________________________________________\n",
      "model_7 (Model)                 (None, 200, 128)     34048       model_4[1][0]                    \n",
      "__________________________________________________________________________________________________\n",
      "model_10 (Model)                (None, 100, 128)     34048       model_7[1][0]                    \n",
      "__________________________________________________________________________________________________\n",
      "model_13 (Model)                (None, 50, 128)      34048       model_10[1][0]                   \n",
      "__________________________________________________________________________________________________\n",
      "model_14 (Model)                (None, 512)          182784      model_13[1][0]                   \n",
      "__________________________________________________________________________________________________\n",
      "dense_1 (Dense)                 (None, 256)          131328      model_14[1][0]                   \n",
      "__________________________________________________________________________________________________\n",
      "batch_normalization_14 (BatchNo (None, 256)          1024        dense_1[0][0]                    \n",
      "__________________________________________________________________________________________________\n",
      "elu_5 (ELU)                     (None, 256)          0           batch_normalization_14[0][0]     \n",
      "__________________________________________________________________________________________________\n",
      "dropout_2 (Dropout)             (None, 256)          0           elu_5[0][0]                      \n",
      "__________________________________________________________________________________________________\n",
      "dense_2 (Dense)                 (None, 256)          65792       dropout_2[0][0]                  \n",
      "__________________________________________________________________________________________________\n",
      "batch_normalization_15 (BatchNo (None, 256)          1024        dense_2[0][0]                    \n",
      "__________________________________________________________________________________________________\n",
      "elu_6 (ELU)                     (None, 256)          0           batch_normalization_15[0][0]     \n",
      "__________________________________________________________________________________________________\n",
      "dropout_3 (Dropout)             (None, 256)          0           elu_6[0][0]                      \n",
      "__________________________________________________________________________________________________\n",
      "dense_3 (Dense)                 (None, 6)            1542        dropout_3[0][0]                  \n",
      "==================================================================================================\n",
      "Total params: 18,559,414\n",
      "Trainable params: 554,718\n",
      "Non-trainable params: 18,004,696\n",
      "__________________________________________________________________________________________________\n"
     ]
    }
   ],
   "source": [
    "max_words= 30000\n",
    "max_words_length = 400\n",
    "embedding_dimension = 300\n",
    "\n",
    "input_layer = Input(shape=(max_words_length,))\n",
    "\n",
    "pretrained_embedding_layer = Embedding(\n",
    "    max_words, \n",
    "    output_dim=embedding_dimension, \n",
    "    input_length=max_words_length,\n",
    "    weights = [np.load('fast_text_embeddings.npy')],\n",
    "    trainable = False\n",
    ")(input_layer)\n",
    "pretrained_embedding_layer = SpatialDropout1D(0.2)(pretrained_embedding_layer)\n",
    "\n",
    "custom_embedding_layer = Embedding(\n",
    "    max_words, \n",
    "    output_dim=embedding_dimension, \n",
    "    input_length=max_words_length,\n",
    "    weights = [np.load('custom_fast_text_embeddings.npy')],\n",
    "    trainable = False\n",
    ")(input_layer)\n",
    "custom_embedding_layer = SpatialDropout1D(0.2)(custom_embedding_layer)\n",
    "\n",
    "averaged_embedding_layer = Average()([pretrained_embedding_layer, custom_embedding_layer])\n",
    "averaged_embedding_layer = SpatialDropout1D(0.2)(averaged_embedding_layer)\n",
    "averaged_embedding_layer_scaled = convolution_block(averaged_embedding_layer, residual_convolution_options)\n",
    "\n",
    "model = residual_add_block(averaged_embedding_layer_scaled, should_pool = False, dilation_rate=1)\n",
    "model = residual_add_block(model, should_pool = True, dilation_rate=2)\n",
    "model = residual_add_block(model, should_pool = True, dilation_rate=3)\n",
    "model = residual_add_block(model, should_pool = True, dilation_rate=4)\n",
    "\n",
    "output_layer = yoon_kim_feature_extractor(model, residual_convolution_options['filters'])\n",
    "output_layer = classification_block(output_layer)\n",
    "\n",
    "model = Model(input_layer, output_layer)\n",
    "\n",
    "model.compile(\n",
    "    loss='binary_crossentropy', \n",
    "    optimizer='Adam',\n",
    "    metrics=['accuracy']\n",
    ")          \n",
    "\n",
    "model.summary()"
   ]
  },
  {
   "cell_type": "code",
   "execution_count": 13,
   "metadata": {
    "colab": {
     "autoexec": {
      "startup": false,
      "wait_interval": 0
     },
     "base_uri": "https://localhost:8080/",
     "height": 1285
    },
    "colab_type": "code",
    "executionInfo": {
     "elapsed": 7888697,
     "status": "ok",
     "timestamp": 1532916260329,
     "user": {
      "displayName": "Deep Learner",
      "photoUrl": "https://lh3.googleusercontent.com/a/default-user=s128",
      "userId": "102934620980301123540"
     },
     "user_tz": -120
    },
    "id": "xwMmTewgXynz",
    "outputId": "5b0b5964-eba6-4575-b1b3-3e81f6b9b21d"
   },
   "outputs": [
    {
     "name": "stdout",
     "output_type": "stream",
     "text": [
      "Train on 102124 samples, validate on 25532 samples\n",
      "Epoch 1/64\n",
      " 21440/102124 [=====>........................] - ETA: 3:40 - loss: 0.1260 - acc: 0.9567102112/102124 [============================>.] - ETA: 0s - loss: 0.0755 - acc: 0.9736102124/102124 [==============================] - 266s 3ms/step - loss: 0.0755 - acc: 0.9736 - val_loss: 0.0477 - val_acc: 0.9818\n",
      "Epoch 2/64\n",
      " 14048/102124 [===>..........................] - ETA: 3:32 - loss: 0.0564 - acc: 0.9796102112/102124 [============================>.] - ETA: 0s - loss: 0.0547 - acc: 0.9799102124/102124 [==============================] - 259s 3ms/step - loss: 0.0547 - acc: 0.9799 - val_loss: 0.0467 - val_acc: 0.9820\n",
      "roc-auc: 0.9833 - roc-auc_val: 0.9801                                                                                                    \n",
      "Epoch 3/64\n",
      "  8736/102124 [=>............................] - ETA: 3:48 - loss: 0.0526 - acc: 0.9805102112/102124 [============================>.] - ETA: 0s - loss: 0.0511 - acc: 0.9811102124/102124 [==============================] - 261s 3ms/step - loss: 0.0511 - acc: 0.9811 - val_loss: 0.0432 - val_acc: 0.9833\n",
      "Epoch 4/64\n",
      " 14048/102124 [===>..........................] - ETA: 3:31 - loss: 0.0478 - acc: 0.9821102112/102124 [============================>.] - ETA: 0s - loss: 0.0486 - acc: 0.9816102124/102124 [==============================] - 259s 3ms/step - loss: 0.0486 - acc: 0.9816 - val_loss: 0.0442 - val_acc: 0.9827\n",
      "roc-auc: 0.9886 - roc-auc_val: 0.9861                                                                                                    \n",
      "Epoch 5/64\n",
      "  8736/102124 [=>............................] - ETA: 3:44 - loss: 0.0476 - acc: 0.9818102112/102124 [============================>.] - ETA: 0s - loss: 0.0466 - acc: 0.9822102124/102124 [==============================] - 259s 3ms/step - loss: 0.0466 - acc: 0.9822 - val_loss: 0.0422 - val_acc: 0.9837\n",
      "Epoch 6/64\n",
      " 14048/102124 [===>..........................] - ETA: 3:32 - loss: 0.0443 - acc: 0.9827102112/102124 [============================>.] - ETA: 0s - loss: 0.0455 - acc: 0.9825102124/102124 [==============================] - 260s 3ms/step - loss: 0.0455 - acc: 0.9825 - val_loss: 0.0419 - val_acc: 0.9838\n",
      "roc-auc: 0.9902 - roc-auc_val: 0.9859                                                                                                    \n",
      "Epoch 7/64\n",
      "  8736/102124 [=>............................] - ETA: 3:45 - loss: 0.0427 - acc: 0.9837102112/102124 [============================>.] - ETA: 0s - loss: 0.0445 - acc: 0.9829102124/102124 [==============================] - 262s 3ms/step - loss: 0.0445 - acc: 0.9829 - val_loss: 0.0420 - val_acc: 0.9837\n",
      "Epoch 8/64\n",
      "102124/102124 [==============================] - 261s 3ms/step - loss: 0.0436 - acc: 0.9832 - val_loss: 0.0418 - val_acc: 0.9837==>.] - ETA: 0s - loss: 0.0436 - acc: 0.983\n",
      "\n",
      "Epoch 00008: ReduceLROnPlateau reducing learning rate to 0.00024148408556357026.\n",
      "roc-auc: 0.9916 - roc-auc_val: 0.9883                                                                                                    \n",
      "Epoch 9/64\n",
      "  5952/102124 [>.............................] - ETA: 3:52 - loss: 0.0409 - acc: 0.9847102112/102124 [============================>.] - ETA: 0s - loss: 0.0429 - acc: 0.9834102124/102124 [==============================] - 260s 3ms/step - loss: 0.0429 - acc: 0.9834 - val_loss: 0.0411 - val_acc: 0.9838\n",
      "Epoch 10/64\n",
      " 13984/102124 [===>..........................] - ETA: 3:33 - loss: 0.0411 - acc: 0.9837102112/102124 [============================>.] - ETA: 0s - loss: 0.0424 - acc: 0.9835102124/102124 [==============================] - 260s 3ms/step - loss: 0.0424 - acc: 0.9835 - val_loss: 0.0409 - val_acc: 0.9838\n",
      "roc-auc: 0.9925 - roc-auc_val: 0.9886                                                                                                    \n",
      "Epoch 11/64\n",
      "  8704/102124 [=>............................] - ETA: 3:47 - loss: 0.0413 - acc: 0.9838102112/102124 [============================>.] - ETA: 0s - loss: 0.0416 - acc: 0.9838102124/102124 [==============================] - 258s 3ms/step - loss: 0.0416 - acc: 0.9838 - val_loss: 0.0415 - val_acc: 0.9836\n",
      "Epoch 12/64\n",
      " 13984/102124 [===>..........................] - ETA: 3:30 - loss: 0.0401 - acc: 0.9842102112/102124 [============================>.] - ETA: 0s - loss: 0.0410 - acc: 0.9839102124/102124 [==============================] - 258s 3ms/step - loss: 0.0410 - acc: 0.9839 - val_loss: 0.0403 - val_acc: 0.9839\n",
      "roc-auc: 0.9929 - roc-auc_val: 0.9884                                                                                                    \n",
      "Epoch 13/64\n",
      "  8704/102124 [=>............................] - ETA: 3:42 - loss: 0.0391 - acc: 0.9846102112/102124 [============================>.] - ETA: 0s - loss: 0.0402 - acc: 0.9842102124/102124 [==============================] - 258s 3ms/step - loss: 0.0402 - acc: 0.9842 - val_loss: 0.0405 - val_acc: 0.9838\n",
      "Epoch 14/64\n",
      " 13984/102124 [===>..........................] - ETA: 3:30 - loss: 0.0411 - acc: 0.9837102112/102124 [============================>.] - ETA: 0s - loss: 0.0400 - acc: 0.9844102124/102124 [==============================] - 259s 3ms/step - loss: 0.0400 - acc: 0.9844 - val_loss: 0.0432 - val_acc: 0.9827\n",
      "roc-auc: 0.9933 - roc-auc_val: 0.9888                                                                                                    \n",
      "Epoch 15/64\n",
      "  8704/102124 [=>............................] - ETA: 3:43 - loss: 0.0415 - acc: 0.9826102112/102124 [============================>.] - ETA: 0s - loss: 0.0396 - acc: 0.9844102124/102124 [==============================] - 259s 3ms/step - loss: 0.0396 - acc: 0.9844 - val_loss: 0.0406 - val_acc: 0.9838\n",
      "Epoch 16/64\n",
      " 13984/102124 [===>..........................] - ETA: 3:31 - loss: 0.0382 - acc: 0.9849102112/102124 [============================>.] - ETA: 0s - loss: 0.0394 - acc: 0.9845102124/102124 [==============================] - 258s 3ms/step - loss: 0.0394 - acc: 0.9845 - val_loss: 0.0413 - val_acc: 0.9838\n",
      "roc-auc: 0.9938 - roc-auc_val: 0.9887                                                                                                    \n",
      "Epoch 17/64\n",
      "  8704/102124 [=>............................] - ETA: 3:43 - loss: 0.0382 - acc: 0.9852102112/102124 [============================>.] - ETA: 0s - loss: 0.0390 - acc: 0.9847102124/102124 [==============================] - 258s 3ms/step - loss: 0.0390 - acc: 0.9847 - val_loss: 0.0400 - val_acc: 0.9842\n",
      "Epoch 18/64\n",
      " 13984/102124 [===>..........................] - ETA: 3:31 - loss: 0.0378 - acc: 0.9849102112/102124 [============================>.] - ETA: 0s - loss: 0.0385 - acc: 0.9847102124/102124 [==============================] - 262s 3ms/step - loss: 0.0385 - acc: 0.9847 - val_loss: 0.0404 - val_acc: 0.9839\n",
      "roc-auc: 0.9942 - roc-auc_val: 0.9887                                                                                                    \n",
      "Epoch 19/64\n",
      "102124/102124 [==============================] - 262s 3ms/step - loss: 0.0381 - acc: 0.9851 - val_loss: 0.0407 - val_acc: 0.9839==>.] - ETA: 0s - loss: 0.0380 - acc: 0.985\n",
      "\n",
      "Epoch 00019: ReduceLROnPlateau reducing learning rate to 7.694652595091611e-05.\n",
      "Epoch 20/64\n",
      "  8000/102124 [=>............................] - ETA: 3:47 - loss: 0.0366 - acc: 0.9848102112/102124 [============================>.] - ETA: 0s - loss: 0.0375 - acc: 0.9851102124/102124 [==============================] - 262s 3ms/step - loss: 0.0375 - acc: 0.9851 - val_loss: 0.0410 - val_acc: 0.9837\n",
      "roc-auc: 0.9945 - roc-auc_val: 0.9886                                                                                                    \n",
      "Epoch 21/64\n",
      "  8704/102124 [=>............................] - ETA: 3:45 - loss: 0.0370 - acc: 0.9853102112/102124 [============================>.] - ETA: 0s - loss: 0.0375 - acc: 0.9852102124/102124 [==============================] - 260s 3ms/step - loss: 0.0375 - acc: 0.9852 - val_loss: 0.0415 - val_acc: 0.9833\n",
      "Epoch 22/64\n",
      " 13984/102124 [===>..........................] - ETA: 3:33 - loss: 0.0366 - acc: 0.9856102112/102124 [============================>.] - ETA: 0s - loss: 0.0371 - acc: 0.9853102124/102124 [==============================] - 261s 3ms/step - loss: 0.0371 - acc: 0.9853 - val_loss: 0.0412 - val_acc: 0.9835\n",
      "roc-auc: 0.9947 - roc-auc_val: 0.9885                                                                                                    \n",
      "Epoch 23/64\n"
     ]
    },
    {
     "name": "stdout",
     "output_type": "stream",
     "text": [
      "  8704/102124 [=>............................] - ETA: 3:45 - loss: 0.0371 - acc: 0.9853102112/102124 [============================>.] - ETA: 0s - loss: 0.0373 - acc: 0.9852102124/102124 [==============================] - 262s 3ms/step - loss: 0.0373 - acc: 0.9852 - val_loss: 0.0404 - val_acc: 0.9842\n",
      "Epoch 24/64\n",
      " 13984/102124 [===>..........................] - ETA: 3:35 - loss: 0.0368 - acc: 0.9856102112/102124 [============================>.] - ETA: 0s - loss: 0.0370 - acc: 0.9852102124/102124 [==============================] - 262s 3ms/step - loss: 0.0370 - acc: 0.9852 - val_loss: 0.0407 - val_acc: 0.9838\n",
      "roc-auc: 0.9949 - roc-auc_val: 0.9886                                                                                                    \n",
      "Epoch 25/64\n",
      "  8704/102124 [=>............................] - ETA: 3:48 - loss: 0.0356 - acc: 0.9857102112/102124 [============================>.] - ETA: 0s - loss: 0.0370 - acc: 0.9854102124/102124 [==============================] - 262s 3ms/step - loss: 0.0370 - acc: 0.9854 - val_loss: 0.0406 - val_acc: 0.9839\n",
      "Epoch 26/64\n",
      " 13984/102124 [===>..........................] - ETA: 3:35 - loss: 0.0353 - acc: 0.9860102112/102124 [============================>.] - ETA: 0s - loss: 0.0369 - acc: 0.9853102124/102124 [==============================] - 261s 3ms/step - loss: 0.0369 - acc: 0.9853 - val_loss: 0.0412 - val_acc: 0.9837\n",
      "roc-auc: 0.995 - roc-auc_val: 0.9886                                                                                                    \n",
      "Epoch 27/64\n",
      "102124/102124 [==============================] - 260s 3ms/step - loss: 0.0362 - acc: 0.9857 - val_loss: 0.0411 - val_acc: 0.9836==>.] - ETA: 0s - loss: 0.0362 - acc: 0.985\n"
     ]
    }
   ],
   "source": [
    "history = train_with_cv(model, epochs=64, batchSize=32, rocEvery = 2)"
   ]
  },
  {
   "cell_type": "code",
   "execution_count": 14,
   "metadata": {
    "colab": {
     "autoexec": {
      "startup": false,
      "wait_interval": 0
     },
     "base_uri": "https://localhost:8080/",
     "height": 295
    },
    "colab_type": "code",
    "executionInfo": {
     "elapsed": 2355,
     "status": "ok",
     "timestamp": 1532916262699,
     "user": {
      "displayName": "Deep Learner",
      "photoUrl": "https://lh3.googleusercontent.com/a/default-user=s128",
      "userId": "102934620980301123540"
     },
     "user_tz": -120
    },
    "id": "izWCJ3HMReV3",
    "outputId": "3d33bb1f-9617-457a-fadb-91406f7ef346"
   },
   "outputs": [
    {
     "data": {
      "image/png": "[encoded data removed]",
      "text/plain": [
       "<matplotlib.figure.Figure at 0x7f508ab1fb00>"
      ]
     },
     "metadata": {
      "tags": []
     },
     "output_type": "display_data"
    }
   ],
   "source": [
    "plot_history(history)"
   ]
  },
  {
   "cell_type": "code",
   "execution_count": 15,
   "metadata": {
    "colab": {
     "autoexec": {
      "startup": false,
      "wait_interval": 0
     },
     "base_uri": "https://localhost:8080/",
     "height": 52
    },
    "colab_type": "code",
    "executionInfo": {
     "elapsed": 36718,
     "status": "ok",
     "timestamp": 1532916299608,
     "user": {
      "displayName": "Deep Learner",
      "photoUrl": "https://lh3.googleusercontent.com/a/default-user=s128",
      "userId": "102934620980301123540"
     },
     "user_tz": -120
    },
    "id": "r2gtMBj2Tp9A",
    "outputId": "95dcf045-8478-442a-f5fb-aea12e5088ff"
   },
   "outputs": [
    {
     "name": "stdout",
     "output_type": "stream",
     "text": [
      "31915/31915 [==============================] - 19s 590us/step\n",
      "([0.03986618588467704, 0.9839730400006711], 0.989923824698392)\n"
     ]
    }
   ],
   "source": [
    "print(evaluate_on_test(model))"
   ]
  }
 ],
 "metadata": {
  "accelerator": "GPU",
  "colab": {
   "collapsed_sections": [],
   "default_view": {},
   "name": "residual_add_128_4_blocks_pool.ipynb",
   "provenance": [],
   "version": "0.3.2",
   "views": {}
  },
  "kernelspec": {
   "display_name": "Python 3",
   "language": "python",
   "name": "python3"
  },
  "language_info": {
   "codemirror_mode": {
    "name": "ipython",
    "version": 3
   },
   "file_extension": ".py",
   "mimetype": "text/x-python",
   "name": "python",
   "nbconvert_exporter": "python",
   "pygments_lexer": "ipython3",
   "version": "3.6.2"
  }
 },
 "nbformat": 4,
 "nbformat_minor": 1
}

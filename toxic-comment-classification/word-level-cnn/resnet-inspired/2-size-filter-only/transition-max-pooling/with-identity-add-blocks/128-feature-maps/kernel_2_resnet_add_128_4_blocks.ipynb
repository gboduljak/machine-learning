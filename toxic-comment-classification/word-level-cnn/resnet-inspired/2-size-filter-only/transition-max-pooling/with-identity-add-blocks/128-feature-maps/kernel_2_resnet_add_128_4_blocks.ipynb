{
 "cells": [
  {
   "cell_type": "code",
   "execution_count": 1,
   "metadata": {
    "colab": {
     "autoexec": {
      "startup": false,
      "wait_interval": 0
     },
     "base_uri": "https://localhost:8080/",
     "height": 419
    },
    "colab_type": "code",
    "executionInfo": {
     "elapsed": 11820,
     "status": "ok",
     "timestamp": 1532779511645,
     "user": {
      "displayName": "Deep Learning",
      "photoUrl": "https://lh3.googleusercontent.com/a/default-user=s128",
      "userId": "116564159010732479709"
     },
     "user_tz": -120
    },
    "id": "yS1FnhiWX3Js",
    "outputId": "b1cc32cc-8c70-46fa-e9c5-a60018ea666e"
   },
   "outputs": [
    {
     "name": "stdout",
     "output_type": "stream",
     "text": [
      "Requirement already satisfied: keras in /usr/local/lib/python3.6/dist-packages (2.1.6)\n",
      "Requirement already satisfied: scipy>=0.14 in /usr/local/lib/python3.6/dist-packages (from keras) (0.19.1)\n",
      "Requirement already satisfied: numpy>=1.9.1 in /usr/local/lib/python3.6/dist-packages (from keras) (1.14.5)\n",
      "Requirement already satisfied: pyyaml in /usr/local/lib/python3.6/dist-packages (from keras) (3.13)\n",
      "Requirement already satisfied: h5py in /usr/local/lib/python3.6/dist-packages (from keras) (2.8.0)\n",
      "Requirement already satisfied: six>=1.9.0 in /usr/local/lib/python3.6/dist-packages (from keras) (1.11.0)\n",
      "Collecting sklearn\n",
      "  Downloading https://files.pythonhosted.org/packages/1e/7a/dbb3be0ce9bd5c8b7e3d87328e79063f8b263b2b1bfa4774cb1147bfcd3f/sklearn-0.0.tar.gz\n",
      "Requirement already satisfied: scikit-learn in /usr/local/lib/python3.6/dist-packages (from sklearn) (0.19.2)\n",
      "Building wheels for collected packages: sklearn\n",
      "  Running setup.py bdist_wheel for sklearn ... \u001b[?25l-\b \bdone\n",
      "\u001b[?25h  Stored in directory: /content/.cache/pip/wheels/76/03/bb/589d421d27431bcd2c6da284d5f2286c8e3b2ea3cf1594c074\n",
      "Successfully built sklearn\n",
      "Installing collected packages: sklearn\n",
      "Successfully installed sklearn-0.0\n",
      "Requirement already satisfied: matplotlib in /usr/local/lib/python3.6/dist-packages (2.1.2)\n",
      "Requirement already satisfied: pyparsing!=2.0.4,!=2.1.2,!=2.1.6,>=2.0.1 in /usr/local/lib/python3.6/dist-packages (from matplotlib) (2.2.0)\n",
      "Requirement already satisfied: six>=1.10 in /usr/local/lib/python3.6/dist-packages (from matplotlib) (1.11.0)\n",
      "Requirement already satisfied: numpy>=1.7.1 in /usr/local/lib/python3.6/dist-packages (from matplotlib) (1.14.5)\n",
      "Requirement already satisfied: cycler>=0.10 in /usr/local/lib/python3.6/dist-packages (from matplotlib) (0.10.0)\n",
      "Requirement already satisfied: pytz in /usr/local/lib/python3.6/dist-packages (from matplotlib) (2018.5)\n",
      "Requirement already satisfied: python-dateutil>=2.1 in /usr/local/lib/python3.6/dist-packages (from matplotlib) (2.5.3)\n"
     ]
    }
   ],
   "source": [
    "!pip install keras\n",
    "!pip install sklearn\n",
    "!pip install matplotlib\n",
    "!pip install -U -q PyDrive"
   ]
  },
  {
   "cell_type": "code",
   "execution_count": 2,
   "metadata": {
    "colab": {
     "autoexec": {
      "startup": false,
      "wait_interval": 0
     },
     "base_uri": "https://localhost:8080/",
     "height": 35
    },
    "colab_type": "code",
    "executionInfo": {
     "elapsed": 8628,
     "status": "ok",
     "timestamp": 1532779520306,
     "user": {
      "displayName": "Deep Learning",
      "photoUrl": "https://lh3.googleusercontent.com/a/default-user=s128",
      "userId": "116564159010732479709"
     },
     "user_tz": -120
    },
    "id": "xlKzkDJFrjA-",
    "outputId": "c46d664f-299f-49a4-a099-b17e7a99686d"
   },
   "outputs": [
    {
     "name": "stderr",
     "output_type": "stream",
     "text": [
      "Using TensorFlow backend.\n"
     ]
    }
   ],
   "source": [
    "from keras import backend as K\n",
    "K.clear_session()"
   ]
  },
  {
   "cell_type": "code",
   "execution_count": 0,
   "metadata": {
    "colab": {
     "autoexec": {
      "startup": false,
      "wait_interval": 0
     }
    },
    "colab_type": "code",
    "id": "eQEKwl4oAxO7"
   },
   "outputs": [],
   "source": [
    "from keras import backend as K\n",
    "cfg = K.tf.ConfigProto()\n",
    "cfg.gpu_options.allow_growth = True\n",
    "K.set_session(K.tf.Session(config=cfg))"
   ]
  },
  {
   "cell_type": "code",
   "execution_count": 0,
   "metadata": {
    "colab": {
     "autoexec": {
      "startup": false,
      "wait_interval": 0
     }
    },
    "colab_type": "code",
    "id": "12M0egCCX-27"
   },
   "outputs": [],
   "source": [
    "from pydrive.auth import GoogleAuth\n",
    "from pydrive.drive import GoogleDrive\n",
    "from google.colab import auth\n",
    "from oauth2client.client import GoogleCredentials\n",
    "\n",
    "auth.authenticate_user()\n",
    "gauth = GoogleAuth()\n",
    "gauth.credentials = GoogleCredentials.get_application_default()\n",
    "drive = GoogleDrive(gauth)"
   ]
  },
  {
   "cell_type": "code",
   "execution_count": 0,
   "metadata": {
    "colab": {
     "autoexec": {
      "startup": false,
      "wait_interval": 0
     }
    },
    "colab_type": "code",
    "id": "4lN2WTUEYBYv"
   },
   "outputs": [],
   "source": [
    "file_import = drive.CreateFile({'id':'1p1bsltfTcIrZ_kfE6kwGTPzcdXorHbb2'})\n",
    "file_import.GetContentFile('colab_setup.py') \n",
    "from colab_setup import setup\n",
    "\n",
    "setup(drive)"
   ]
  },
  {
   "cell_type": "code",
   "execution_count": 6,
   "metadata": {
    "colab": {
     "autoexec": {
      "startup": false,
      "wait_interval": 0
     },
     "base_uri": "https://localhost:8080/",
     "height": 121
    },
    "colab_type": "code",
    "executionInfo": {
     "elapsed": 1882,
     "status": "ok",
     "timestamp": 1532779567726,
     "user": {
      "displayName": "Deep Learning",
      "photoUrl": "https://lh3.googleusercontent.com/a/default-user=s128",
      "userId": "116564159010732479709"
     },
     "user_tz": -120
    },
    "id": "cHBlD0tVj2TY",
    "outputId": "6aa0f91e-b5a6-433a-f6c0-7fa1d229aa5a"
   },
   "outputs": [
    {
     "name": "stdout",
     "output_type": "stream",
     "text": [
      "colab_setup.py\t\t\t roc_auc_callback.py\tX_train.npy\r\n",
      "custom_fast_text_embeddings.npy  sample_submission.csv\tX_val.npy\r\n",
      "datalab\t\t\t\t train_model.py\t\ty_test.npy\r\n",
      "fast_text_embeddings.npy\t X_submission.npy\ty_train_full.npy\r\n",
      "plot_history.py\t\t\t X_test.npy\t\ty_train.npy\r\n",
      "__pycache__\t\t\t X_train_full.npy\ty_val.npy\r\n"
     ]
    }
   ],
   "source": [
    "!ls"
   ]
  },
  {
   "cell_type": "code",
   "execution_count": 0,
   "metadata": {
    "colab": {
     "autoexec": {
      "startup": false,
      "wait_interval": 0
     }
    },
    "colab_type": "code",
    "id": "yMwWPTMYXyno"
   },
   "outputs": [],
   "source": [
    "import numpy as np\n",
    "import os\n",
    "\n",
    "from plot_history import plot_history\n",
    "from roc_auc_callback import RocAucCallback\n",
    "from train_model import train_with_cv, train_with_submitting, evaluate_on_test\n",
    "\n",
    "from keras.layers import *\n",
    "from keras.layers.merge import *\n",
    "from keras.initializers import *\n",
    "from keras.models import Model"
   ]
  },
  {
   "cell_type": "code",
   "execution_count": 0,
   "metadata": {
    "colab": {
     "autoexec": {
      "startup": false,
      "wait_interval": 0
     }
    },
    "colab_type": "code",
    "id": "irwBTJdINU0J"
   },
   "outputs": [],
   "source": [
    "from keras.optimizers import *\n",
    "from keras.initializers import *\n",
    "from keras.layers import *\n",
    "from keras.layers.merge import *\n",
    "from keras.models import *\n",
    "\n",
    "residual_convolution_options = dict({\n",
    "    'dropout_mode': 'spatial',\n",
    "    'dropout_rate': 0.2,\n",
    "    'filters': 128,\n",
    "    'kernel_size': 2,\n",
    "    'strides': 1,\n",
    "    'padding': 'same',\n",
    "    'activation': 'elu',\n",
    "    'should_preactivate': True\n",
    "})\n",
    "\n",
    "def convolution_block(input_layer, options):\n",
    "    convolution_input = Input(shape=[\n",
    "        int(input_layer.shape[1]),\n",
    "        int(input_layer.shape[2])\n",
    "    ])\n",
    "\n",
    "    convolution_block = convolution_input\n",
    "\n",
    "    if(options['should_preactivate']):\n",
    "        convolution_block = BatchNormalization()(convolution_block)\n",
    "        convolution_block = Activation(options['activation'])(convolution_block)\n",
    "        convolution_block = Conv1D(options['filters'], options['kernel_size'], strides=options['strides'],\n",
    "                                   padding=options['padding'], activation='linear', kernel_initializer='he_normal')(convolution_block)\n",
    "    else:\n",
    "        convolution_block = Conv1D(options['filters'], options['kernel_size'], strides=options['strides'],\n",
    "                                   padding=options['padding'], activation='linear', kernel_initializer='he_normal')(convolution_block)\n",
    "        convolution_block = BatchNormalization()(convolution_block)\n",
    "        convolution_block = Activation(options['activation'])(convolution_block)\n",
    "\n",
    "    convolution_output = convolution_block\n",
    "\n",
    "    if(options['dropout_mode'] == 'spatial'):\n",
    "        convolution_output = SpatialDropout1D(options['dropout_rate'])(convolution_output)\n",
    "    if(options['dropout_mode']== 'vanilla'):\n",
    "        convolution_output = Dropout(options['dropout_rate'])(convolution_output)\n",
    "\n",
    "    return Model(inputs=[convolution_input], outputs=[convolution_output])(input_layer)"
   ]
  },
  {
   "cell_type": "code",
   "execution_count": 0,
   "metadata": {
    "colab": {
     "autoexec": {
      "startup": false,
      "wait_interval": 0
     }
    },
    "colab_type": "code",
    "id": "sD9D5r9-Sdg7"
   },
   "outputs": [],
   "source": [
    "def residual_add_block(input_layer, should_pool):\n",
    "    convolution_input = Input(shape=[\n",
    "        int(input_layer.shape[1]),\n",
    "        int(input_layer.shape[2])\n",
    "    ])\n",
    "    \n",
    "    residual_block_pool = convolution_input\n",
    "\n",
    "    if(should_pool):\n",
    "        residual_block_pool = MaxPooling1D(pool_size=2, strides=2, padding='same')(convolution_input)\n",
    "\n",
    "    residual_block = add([\n",
    "        residual_block_pool,\n",
    "        convolution_block(residual_block_pool, residual_convolution_options)\n",
    "    ])\n",
    "    residual_block = add([\n",
    "        residual_block,\n",
    "        convolution_block(residual_block, residual_convolution_options)\n",
    "    ])\n",
    "    \n",
    "    convolution_output = add([residual_block, residual_block_pool])\n",
    "\n",
    "    return Model(inputs=[convolution_input], outputs=[convolution_output])(input_layer)"
   ]
  },
  {
   "cell_type": "code",
   "execution_count": 0,
   "metadata": {
    "colab": {
     "autoexec": {
      "startup": false,
      "wait_interval": 0
     }
    },
    "colab_type": "code",
    "id": "xOfIVhpoSdpQ"
   },
   "outputs": [],
   "source": [
    "def yoon_kim_feature_extractor(input_layer, filters):\n",
    "    extractor_block_input = Input(shape=[\n",
    "        int(input_layer.shape[1]),\n",
    "        int(input_layer.shape[2])\n",
    "    ])\n",
    "\n",
    "    block_1_conv_1 = Conv1D(filters, 1, activation = 'linear', padding = 'same', kernel_initializer = 'he_normal')(extractor_block_input)\n",
    "    block_1_batchnorm1 = BatchNormalization()(block_1_conv_1)\n",
    "    block_1_batchnorm1 = ELU()(block_1_batchnorm1)\n",
    "    block_1_max_pool1 = GlobalMaxPooling1D()(block_1_batchnorm1)\n",
    "\n",
    "    block_1_conv_2 = Conv1D(filters, 2, activation = 'linear', padding = 'same', kernel_initializer = 'he_normal')(extractor_block_input)\n",
    "    block_1_batchnorm2 = BatchNormalization()(block_1_conv_2)\n",
    "    block_1_batchnorm2 = ELU()(block_1_batchnorm2)\n",
    "    block_1_max_pool2 = GlobalMaxPooling1D()(block_1_batchnorm2)\n",
    "\n",
    "    block_1_conv_3 = Conv1D(filters, 3, activation = 'linear', padding = 'same', kernel_initializer = 'he_normal')(extractor_block_input)\n",
    "    block_1_batchnorm3 = BatchNormalization()(block_1_conv_3)\n",
    "    block_1_batchnorm3 = ELU()(block_1_batchnorm3)\n",
    "    block_1_max_pool3 = GlobalMaxPooling1D()(block_1_batchnorm3)\n",
    "\n",
    "    block_1_conv_4 = Conv1D(filters, 5, activation = 'linear', padding = 'same', kernel_initializer = 'he_normal')(extractor_block_input)\n",
    "    block_1_batchnorm4 = BatchNormalization()(block_1_conv_4)\n",
    "    block_1_batchnorm4 = ELU()(block_1_batchnorm4)\n",
    "    block_1_max_pool4 = GlobalMaxPooling1D()(block_1_batchnorm4)\n",
    "\n",
    "    features = concatenate([\n",
    "        block_1_max_pool1, \n",
    "        block_1_max_pool2, \n",
    "        block_1_max_pool3, \n",
    "        block_1_max_pool4\n",
    "    ])\n",
    "    \n",
    "    extractor_block_output = Dropout(0.2)(features)\n",
    "    \n",
    "    return Model(\n",
    "        inputs=[extractor_block_input], \n",
    "        outputs=[extractor_block_output]\n",
    "    )(input_layer)"
   ]
  },
  {
   "cell_type": "code",
   "execution_count": 0,
   "metadata": {
    "colab": {
     "autoexec": {
      "startup": false,
      "wait_interval": 0
     }
    },
    "colab_type": "code",
    "id": "PHbVmJqTSdxU"
   },
   "outputs": [],
   "source": [
    "def classification_block(input_layer, dropout_rate = 0.2):\n",
    "      \n",
    "    model = Dense(256, activation = 'linear', kernel_initializer = 'he_normal')(input_layer)\n",
    "    model = BatchNormalization()(model)\n",
    "    model = ELU()(model)\n",
    "    model = Dropout(dropout_rate)(model)\n",
    "    \n",
    "    model = Dense(256, activation = 'linear', kernel_initializer = 'he_normal')(model)\n",
    "    model = BatchNormalization()(model)\n",
    "    model = ELU()(model)\n",
    "    model = Dropout(dropout_rate)(model)\n",
    "\n",
    "    classification_block_output = Dense(6, activation='sigmoid', kernel_initializer = 'glorot_normal')(model)\n",
    "    \n",
    "    return classification_block_output"
   ]
  },
  {
   "cell_type": "code",
   "execution_count": 12,
   "metadata": {
    "colab": {
     "autoexec": {
      "startup": false,
      "wait_interval": 0
     },
     "base_uri": "https://localhost:8080/",
     "height": 919
    },
    "colab_type": "code",
    "executionInfo": {
     "elapsed": 6139,
     "status": "ok",
     "timestamp": 1532779577429,
     "user": {
      "displayName": "Deep Learning",
      "photoUrl": "https://lh3.googleusercontent.com/a/default-user=s128",
      "userId": "116564159010732479709"
     },
     "user_tz": -120
    },
    "id": "LTFG7OgsXynw",
    "outputId": "ba04beb6-c0f7-4366-9549-0015d46b8fd7"
   },
   "outputs": [
    {
     "name": "stdout",
     "output_type": "stream",
     "text": [
      "__________________________________________________________________________________________________\n",
      "Layer (type)                    Output Shape         Param #     Connected to                     \n",
      "==================================================================================================\n",
      "input_1 (InputLayer)            (None, 400)          0                                            \n",
      "__________________________________________________________________________________________________\n",
      "embedding_1 (Embedding)         (None, 400, 300)     9000000     input_1[0][0]                    \n",
      "__________________________________________________________________________________________________\n",
      "embedding_2 (Embedding)         (None, 400, 300)     9000000     input_1[0][0]                    \n",
      "__________________________________________________________________________________________________\n",
      "spatial_dropout1d_1 (SpatialDro (None, 400, 300)     0           embedding_1[0][0]                \n",
      "__________________________________________________________________________________________________\n",
      "spatial_dropout1d_2 (SpatialDro (None, 400, 300)     0           embedding_2[0][0]                \n",
      "__________________________________________________________________________________________________\n",
      "average_1 (Average)             (None, 400, 300)     0           spatial_dropout1d_1[0][0]        \n",
      "                                                                 spatial_dropout1d_2[0][0]        \n",
      "__________________________________________________________________________________________________\n",
      "spatial_dropout1d_3 (SpatialDro (None, 400, 300)     0           average_1[0][0]                  \n",
      "__________________________________________________________________________________________________\n",
      "model_1 (Model)                 (None, 400, 128)     78128       spatial_dropout1d_3[0][0]        \n",
      "__________________________________________________________________________________________________\n",
      "model_4 (Model)                 (None, 400, 128)     66816       model_1[1][0]                    \n",
      "__________________________________________________________________________________________________\n",
      "model_7 (Model)                 (None, 200, 128)     66816       model_4[1][0]                    \n",
      "__________________________________________________________________________________________________\n",
      "model_10 (Model)                (None, 100, 128)     66816       model_7[1][0]                    \n",
      "__________________________________________________________________________________________________\n",
      "model_13 (Model)                (None, 50, 128)      66816       model_10[1][0]                   \n",
      "__________________________________________________________________________________________________\n",
      "model_14 (Model)                (None, 512)          182784      model_13[1][0]                   \n",
      "__________________________________________________________________________________________________\n",
      "dense_1 (Dense)                 (None, 256)          131328      model_14[1][0]                   \n",
      "__________________________________________________________________________________________________\n",
      "batch_normalization_14 (BatchNo (None, 256)          1024        dense_1[0][0]                    \n",
      "__________________________________________________________________________________________________\n",
      "elu_5 (ELU)                     (None, 256)          0           batch_normalization_14[0][0]     \n",
      "__________________________________________________________________________________________________\n",
      "dropout_2 (Dropout)             (None, 256)          0           elu_5[0][0]                      \n",
      "__________________________________________________________________________________________________\n",
      "dense_2 (Dense)                 (None, 256)          65792       dropout_2[0][0]                  \n",
      "__________________________________________________________________________________________________\n",
      "batch_normalization_15 (BatchNo (None, 256)          1024        dense_2[0][0]                    \n",
      "__________________________________________________________________________________________________\n",
      "elu_6 (ELU)                     (None, 256)          0           batch_normalization_15[0][0]     \n",
      "__________________________________________________________________________________________________\n",
      "dropout_3 (Dropout)             (None, 256)          0           elu_6[0][0]                      \n",
      "__________________________________________________________________________________________________\n",
      "dense_3 (Dense)                 (None, 6)            1542        dropout_3[0][0]                  \n",
      "==================================================================================================\n",
      "Total params: 18,728,886\n",
      "Trainable params: 724,190\n",
      "Non-trainable params: 18,004,696\n",
      "__________________________________________________________________________________________________\n"
     ]
    }
   ],
   "source": [
    "max_words= 30000\n",
    "max_words_length = 400\n",
    "embedding_dimension = 300\n",
    "\n",
    "input_layer = Input(shape=(max_words_length,))\n",
    "\n",
    "pretrained_embedding_layer = Embedding(\n",
    "    max_words, \n",
    "    output_dim=embedding_dimension, \n",
    "    input_length=max_words_length,\n",
    "    weights = [np.load('fast_text_embeddings.npy')],\n",
    "    trainable = False\n",
    ")(input_layer)\n",
    "pretrained_embedding_layer = SpatialDropout1D(0.2)(pretrained_embedding_layer)\n",
    "\n",
    "custom_embedding_layer = Embedding(\n",
    "    max_words, \n",
    "    output_dim=embedding_dimension, \n",
    "    input_length=max_words_length,\n",
    "    weights = [np.load('custom_fast_text_embeddings.npy')],\n",
    "    trainable = False\n",
    ")(input_layer)\n",
    "custom_embedding_layer = SpatialDropout1D(0.2)(custom_embedding_layer)\n",
    "\n",
    "averaged_embedding_layer = Average()([pretrained_embedding_layer, custom_embedding_layer])\n",
    "averaged_embedding_layer = SpatialDropout1D(0.2)(averaged_embedding_layer)\n",
    "\n",
    "averaged_embedding_layer = convolution_block(averaged_embedding_layer, residual_convolution_options)\n",
    "\n",
    "model = residual_add_block(averaged_embedding_layer, should_pool = False)\n",
    "model = residual_add_block(model, should_pool = True)\n",
    "model = residual_add_block(model, should_pool = True)\n",
    "model = residual_add_block(model, should_pool = True)\n",
    "\n",
    "output_layer = yoon_kim_feature_extractor(model, residual_convolution_options['filters'])\n",
    "output_layer = classification_block(output_layer)\n",
    "\n",
    "model = Model(input_layer, output_layer)\n",
    "\n",
    "model.compile(loss='binary_crossentropy', \n",
    "            optimizer='Adam',\n",
    "            metrics=['accuracy'])          \n",
    "\n",
    "model.summary()"
   ]
  },
  {
   "cell_type": "code",
   "execution_count": 13,
   "metadata": {
    "colab": {
     "autoexec": {
      "startup": false,
      "wait_interval": 0
     },
     "base_uri": "https://localhost:8080/",
     "height": 1199
    },
    "colab_type": "code",
    "executionInfo": {
     "elapsed": 8421605,
     "status": "ok",
     "timestamp": 1532787999093,
     "user": {
      "displayName": "Deep Learning",
      "photoUrl": "https://lh3.googleusercontent.com/a/default-user=s128",
      "userId": "116564159010732479709"
     },
     "user_tz": -120
    },
    "id": "xwMmTewgXynz",
    "outputId": "9b30f660-0c62-47a7-ffe9-c7feeb265917"
   },
   "outputs": [
    {
     "name": "stdout",
     "output_type": "stream",
     "text": [
      "Train on 102124 samples, validate on 25532 samples\n",
      "Epoch 1/64\n",
      " 21248/102124 [=====>........................] - ETA: 4:16 - loss: 0.1225 - acc: 0.9584 57824/102124 [===============>..............] - ETA: 2:19 - loss: 0.0860 - acc: 0.9703102112/102124 [============================>.] - ETA: 0s - loss: 0.0746 - acc: 0.9740102124/102124 [==============================] - 324s 3ms/step - loss: 0.0746 - acc: 0.9740 - val_loss: 0.0478 - val_acc: 0.9818\n",
      "Epoch 2/64\n",
      " 13920/102124 [===>..........................] - ETA: 4:08 - loss: 0.0546 - acc: 0.9800 95232/102124 [==========================>...] - ETA: 19s - loss: 0.0547 - acc: 0.9799102124/102124 [==============================] - 298s 3ms/step - loss: 0.0545 - acc: 0.9800 - val_loss: 0.0463 - val_acc: 0.9826\n",
      "roc-auc: 0.9829 - roc-auc_val: 0.9782                                                                                                    \n",
      "Epoch 3/64\n",
      "  7136/102124 [=>............................] - ETA: 4:28 - loss: 0.0482 - acc: 0.9821 44512/102124 [============>.................] - ETA: 2:39 - loss: 0.0506 - acc: 0.9811102112/102124 [============================>.] - ETA: 0s - loss: 0.0507 - acc: 0.9811102124/102124 [==============================] - 299s 3ms/step - loss: 0.0507 - acc: 0.9811 - val_loss: 0.0437 - val_acc: 0.9831\n",
      "Epoch 4/64\n",
      " 14048/102124 [===>..........................] - ETA: 4:04 - loss: 0.0475 - acc: 0.9820 61248/102124 [================>.............] - ETA: 1:52 - loss: 0.0479 - acc: 0.9817102112/102124 [============================>.] - ETA: 0s - loss: 0.0482 - acc: 0.9817102124/102124 [==============================] - 298s 3ms/step - loss: 0.0482 - acc: 0.9817 - val_loss: 0.0424 - val_acc: 0.9837\n",
      "roc-auc: 0.989 - roc-auc_val: 0.9849                                                                                                    \n",
      "Epoch 5/64\n",
      "  8768/102124 [=>............................] - ETA: 4:18 - loss: 0.0489 - acc: 0.9806 92800/102124 [==========================>...] - ETA: 25s - loss: 0.0462 - acc: 0.9823102124/102124 [==============================] - 297s 3ms/step - loss: 0.0461 - acc: 0.9824 - val_loss: 0.0428 - val_acc: 0.9834\n",
      "Epoch 6/64\n",
      " 10528/102124 [==>...........................] - ETA: 4:08 - loss: 0.0431 - acc: 0.9841 64896/102124 [==================>...........] - ETA: 1:42 - loss: 0.0444 - acc: 0.9830102112/102124 [============================>.] - ETA: 0s - loss: 0.0447 - acc: 0.9829102124/102124 [==============================] - 298s 3ms/step - loss: 0.0446 - acc: 0.9829 - val_loss: 0.0410 - val_acc: 0.9839\n",
      "roc-auc: 0.9917 - roc-auc_val: 0.9881                                                                                                    \n",
      "Epoch 7/64\n",
      "  8736/102124 [=>............................] - ETA: 4:13 - loss: 0.0441 - acc: 0.9826102112/102124 [============================>.] - ETA: 0s - loss: 0.0432 - acc: 0.9834102124/102124 [==============================] - 296s 3ms/step - loss: 0.0432 - acc: 0.9834 - val_loss: 0.0409 - val_acc: 0.9842\n",
      "Epoch 8/64\n",
      " 14048/102124 [===>..........................] - ETA: 4:03 - loss: 0.0423 - acc: 0.9834 89152/102124 [=========================>....] - ETA: 35s - loss: 0.0418 - acc: 0.9837102124/102124 [==============================] - 298s 3ms/step - loss: 0.0421 - acc: 0.9836 - val_loss: 0.0411 - val_acc: 0.9839\n",
      "\n",
      "Epoch 00008: ReduceLROnPlateau reducing learning rate to 0.00024148408556357026.\n",
      "roc-auc: 0.993 - roc-auc_val: 0.9884                                                                                                    \n",
      "Epoch 9/64\n",
      "  4640/102124 [>.............................] - ETA: 4:24 - loss: 0.0416 - acc: 0.9840 53120/102124 [==============>...............] - ETA: 2:15 - loss: 0.0415 - acc: 0.9840102112/102124 [============================>.] - ETA: 0s - loss: 0.0411 - acc: 0.9840102124/102124 [==============================] - 299s 3ms/step - loss: 0.0411 - acc: 0.9840 - val_loss: 0.0409 - val_acc: 0.9843\n",
      "Epoch 10/64\n",
      " 13984/102124 [===>..........................] - ETA: 4:07 - loss: 0.0397 - acc: 0.9846 67680/102124 [==================>...........] - ETA: 1:35 - loss: 0.0398 - acc: 0.9846102124/102124 [==============================] - 298s 3ms/step - loss: 0.0398 - acc: 0.9845 - val_loss: 0.0408 - val_acc: 0.9838\n",
      "roc-auc: 0.9937 - roc-auc_val: 0.9884                                                                                                    \n",
      "Epoch 11/64\n",
      "   576/102124 [..............................] - ETA: 4:45 - loss: 0.0296 - acc: 0.9887 70304/102124 [===================>..........] - ETA: 1:28 - loss: 0.0390 - acc: 0.9847102124/102124 [==============================] - 297s 3ms/step - loss: 0.0394 - acc: 0.9846 - val_loss: 0.0408 - val_acc: 0.9839\n",
      "Epoch 12/64\n",
      "  1952/102124 [..............................] - ETA: 4:41 - loss: 0.0352 - acc: 0.9863102112/102124 [============================>.] - ETA: 0s - loss: 0.0387 - acc: 0.9848102124/102124 [==============================] - 296s 3ms/step - loss: 0.0387 - acc: 0.9848 - val_loss: 0.0408 - val_acc: 0.9838\n",
      "roc-auc: 0.9945 - roc-auc_val: 0.9883                                                                                                    \n",
      "Epoch 13/64\n",
      "  8704/102124 [=>............................] - ETA: 4:23 - loss: 0.0397 - acc: 0.9844 90336/102124 [=========================>....] - ETA: 32s - loss: 0.0382 - acc: 0.9849102124/102124 [==============================] - 298s 3ms/step - loss: 0.0380 - acc: 0.9850 - val_loss: 0.0404 - val_acc: 0.9842\n",
      "Epoch 14/64\n",
      "  9504/102124 [=>............................] - ETA: 4:18 - loss: 0.0368 - acc: 0.9861102112/102124 [============================>.] - ETA: 0s - loss: 0.0375 - acc: 0.9852102124/102124 [==============================] - 298s 3ms/step - loss: 0.0375 - acc: 0.9852 - val_loss: 0.0413 - val_acc: 0.9839\n",
      "roc-auc: 0.995 - roc-auc_val: 0.9881                                                                                                    \n",
      "Epoch 15/64\n",
      "  8704/102124 [=>............................] - ETA: 4:17 - loss: 0.0394 - acc: 0.9841102112/102124 [============================>.] - ETA: 0s - loss: 0.0366 - acc: 0.9856102124/102124 [==============================] - 298s 3ms/step - loss: 0.0366 - acc: 0.9856 - val_loss: 0.0401 - val_acc: 0.9843\n",
      "Epoch 16/64\n",
      " 13984/102124 [===>..........................] - ETA: 4:03 - loss: 0.0358 - acc: 0.9856 50784/102124 [=============>................] - ETA: 2:22 - loss: 0.0362 - acc: 0.9856102112/102124 [============================>.] - ETA: 0s - loss: 0.0362 - acc: 0.9856102124/102124 [==============================] - 299s 3ms/step - loss: 0.0362 - acc: 0.9856 - val_loss: 0.0415 - val_acc: 0.9837\n",
      "roc-auc: 0.9955 - roc-auc_val: 0.9882                                                                                                    \n",
      "Epoch 17/64\n",
      "  8704/102124 [=>............................] - ETA: 4:20 - loss: 0.0365 - acc: 0.9852102016/102124 [============================>.] - ETA: 0s - loss: 0.0358 - acc: 0.9858102124/102124 [==============================] - 297s 3ms/step - loss: 0.0357 - acc: 0.9858 - val_loss: 0.0408 - val_acc: 0.9841\n",
      "Epoch 18/64\n",
      " 13952/102124 [===>..........................] - ETA: 4:06 - loss: 0.0355 - acc: 0.9857 57056/102124 [===============>..............] - ETA: 2:04 - loss: 0.0348 - acc: 0.9861 94688/102124 [==========================>...] - ETA: 20s - loss: 0.0352 - acc: 0.9861102124/102124 [==============================] - 298s 3ms/step - loss: 0.0352 - acc: 0.9861 - val_loss: 0.0408 - val_acc: 0.9839\n",
      "roc-auc: 0.9958 - roc-auc_val: 0.9881                                                                                                    \n",
      "Epoch 19/64\n",
      "  6976/102124 [=>............................] - ETA: 4:21 - loss: 0.0358 - acc: 0.9858 77664/102124 [=====================>........] - ETA: 1:08 - loss: 0.0354 - acc: 0.9859102124/102124 [==============================] - 299s 3ms/step - loss: 0.0350 - acc: 0.9861 - val_loss: 0.0408 - val_acc: 0.9840\n",
      "\n",
      "Epoch 00019: ReduceLROnPlateau reducing learning rate to 7.694652595091611e-05.\n",
      "Epoch 20/64\n"
     ]
    },
    {
     "name": "stdout",
     "output_type": "stream",
     "text": [
      "  3488/102124 [>.............................] - ETA: 4:30 - loss: 0.0333 - acc: 0.9868 87616/102124 [========================>.....] - ETA: 40s - loss: 0.0347 - acc: 0.9861102124/102124 [==============================] - 298s 3ms/step - loss: 0.0346 - acc: 0.9862 - val_loss: 0.0409 - val_acc: 0.9841\n",
      "roc-auc: 0.9962 - roc-auc_val: 0.9875                                                                                                    \n",
      "Epoch 21/64\n",
      "  5312/102124 [>.............................] - ETA: 4:24 - loss: 0.0347 - acc: 0.9863 57696/102124 [===============>..............] - ETA: 2:06 - loss: 0.0342 - acc: 0.9862 94368/102124 [==========================>...] - ETA: 22s - loss: 0.0340 - acc: 0.9864102124/102124 [==============================] - 316s 3ms/step - loss: 0.0340 - acc: 0.9864 - val_loss: 0.0413 - val_acc: 0.9838\n",
      "Epoch 22/64\n",
      " 11072/102124 [==>...........................] - ETA: 4:14 - loss: 0.0334 - acc: 0.9866 88480/102124 [========================>.....] - ETA: 37s - loss: 0.0341 - acc: 0.9864102124/102124 [==============================] - 298s 3ms/step - loss: 0.0341 - acc: 0.9864 - val_loss: 0.0419 - val_acc: 0.9836\n",
      "roc-auc: 0.9963 - roc-auc_val: 0.9875                                                                                                    \n",
      "Epoch 23/64\n",
      "  5504/102124 [>.............................] - ETA: 4:22 - loss: 0.0332 - acc: 0.9860 42016/102124 [===========>..................] - ETA: 2:57 - loss: 0.0330 - acc: 0.9870102112/102124 [============================>.] - ETA: 0s - loss: 0.0334 - acc: 0.9867102124/102124 [==============================] - 309s 3ms/step - loss: 0.0334 - acc: 0.9867 - val_loss: 0.0416 - val_acc: 0.9837\n",
      "Epoch 24/64\n",
      " 13984/102124 [===>..........................] - ETA: 3:59 - loss: 0.0318 - acc: 0.9878 50368/102124 [=============>................] - ETA: 2:27 - loss: 0.0332 - acc: 0.9870102112/102124 [============================>.] - ETA: 0s - loss: 0.0330 - acc: 0.9869102124/102124 [==============================] - 308s 3ms/step - loss: 0.0330 - acc: 0.9869 - val_loss: 0.0419 - val_acc: 0.9838\n",
      "roc-auc: 0.9964 - roc-auc_val: 0.9876                                                                                                    \n",
      "Epoch 25/64\n",
      "102124/102124 [==============================] - 309s 3ms/step - loss: 0.0334 - acc: 0.9868 - val_loss: 0.0417 - val_acc: 0.9837....] - ETA: 2:44 - loss: 0.0331 - acc: 0.9868102112/102124 [============================>.] - ETA: 0s - loss: 0.0334 - acc: 0.986\n"
     ]
    }
   ],
   "source": [
    "history = train_with_cv(model, epochs= 64, batchSize=32, rocEvery = 2)"
   ]
  },
  {
   "cell_type": "code",
   "execution_count": 14,
   "metadata": {
    "colab": {
     "autoexec": {
      "startup": false,
      "wait_interval": 0
     },
     "base_uri": "https://localhost:8080/",
     "height": 315
    },
    "colab_type": "code",
    "executionInfo": {
     "elapsed": 2272,
     "status": "ok",
     "timestamp": 1532788001401,
     "user": {
      "displayName": "Deep Learning",
      "photoUrl": "https://lh3.googleusercontent.com/a/default-user=s128",
      "userId": "116564159010732479709"
     },
     "user_tz": -120
    },
    "id": "izWCJ3HMReV3",
    "outputId": "9128ffcc-86e6-4349-bc19-458362359b67"
   },
   "outputs": [
    {
     "data": {
      "image/png": "[encoded data removed]",
      "text/plain": [
       "<matplotlib.figure.Figure at 0x7f2d2cf629e8>"
      ]
     },
     "metadata": {
      "tags": []
     },
     "output_type": "display_data"
    }
   ],
   "source": [
    "plot_history(history)"
   ]
  },
  {
   "cell_type": "code",
   "execution_count": 15,
   "metadata": {
    "colab": {
     "autoexec": {
      "startup": false,
      "wait_interval": 0
     },
     "base_uri": "https://localhost:8080/",
     "height": 52
    },
    "colab_type": "code",
    "executionInfo": {
     "elapsed": 39348,
     "status": "ok",
     "timestamp": 1532788041157,
     "user": {
      "displayName": "Deep Learning",
      "photoUrl": "https://lh3.googleusercontent.com/a/default-user=s128",
      "userId": "116564159010732479709"
     },
     "user_tz": -120
    },
    "id": "r2gtMBj2Tp9A",
    "outputId": "11f1e796-7d25-4b0c-fa07-02b365cdefa9"
   },
   "outputs": [
    {
     "name": "stdout",
     "output_type": "stream",
     "text": [
      "31915/31915 [==============================] - 21s 650us/step\n",
      "([0.04001024254711093, 0.9841819284123985], 0.9897124278203355)\n"
     ]
    }
   ],
   "source": [
    "print(evaluate_on_test(model))"
   ]
  }
 ],
 "metadata": {
  "accelerator": "GPU",
  "colab": {
   "collapsed_sections": [],
   "default_view": {},
   "name": "kernel_2_resnet_add_128_4_blocks.ipynb",
   "provenance": [],
   "version": "0.3.2",
   "views": {}
  },
  "kernelspec": {
   "display_name": "Python 3",
   "language": "python",
   "name": "python3"
  },
  "language_info": {
   "codemirror_mode": {
    "name": "ipython",
    "version": 3
   },
   "file_extension": ".py",
   "mimetype": "text/x-python",
   "name": "python",
   "nbconvert_exporter": "python",
   "pygments_lexer": "ipython3",
   "version": "3.6.2"
  }
 },
 "nbformat": 4,
 "nbformat_minor": 1
}

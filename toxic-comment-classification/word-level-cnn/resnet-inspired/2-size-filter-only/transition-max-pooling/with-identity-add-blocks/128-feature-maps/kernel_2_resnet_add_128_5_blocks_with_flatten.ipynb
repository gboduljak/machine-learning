{
 "cells": [
  {
   "cell_type": "code",
   "execution_count": 1,
   "metadata": {
    "colab": {
     "autoexec": {
      "startup": false,
      "wait_interval": 0
     },
     "base_uri": "https://localhost:8080/",
     "height": 297
    },
    "colab_type": "code",
    "executionInfo": {
     "elapsed": 8487,
     "status": "ok",
     "timestamp": 1532780137404,
     "user": {
      "displayName": "Deep Learning",
      "photoUrl": "https://lh3.googleusercontent.com/a/default-user=s128",
      "userId": "102264131503135976244"
     },
     "user_tz": -120
    },
    "id": "yS1FnhiWX3Js",
    "outputId": "a66f597e-6515-4587-8cd0-4bf65fb79bf0"
   },
   "outputs": [
    {
     "name": "stdout",
     "output_type": "stream",
     "text": [
      "Requirement already satisfied: keras in /usr/local/lib/python3.6/dist-packages (2.1.6)\r\n",
      "Requirement already satisfied: scipy>=0.14 in /usr/local/lib/python3.6/dist-packages (from keras) (0.19.1)\r\n",
      "Requirement already satisfied: h5py in /usr/local/lib/python3.6/dist-packages (from keras) (2.8.0)\r\n",
      "Requirement already satisfied: six>=1.9.0 in /usr/local/lib/python3.6/dist-packages (from keras) (1.11.0)\r\n",
      "Requirement already satisfied: numpy>=1.9.1 in /usr/local/lib/python3.6/dist-packages (from keras) (1.14.5)\r\n",
      "Requirement already satisfied: pyyaml in /usr/local/lib/python3.6/dist-packages (from keras) (3.13)\n",
      "Requirement already satisfied: sklearn in /usr/local/lib/python3.6/dist-packages (0.0)\n",
      "Requirement already satisfied: scikit-learn in /usr/local/lib/python3.6/dist-packages (from sklearn) (0.19.2)\n",
      "Requirement already satisfied: matplotlib in /usr/local/lib/python3.6/dist-packages (2.1.2)\n",
      "Requirement already satisfied: python-dateutil>=2.1 in /usr/local/lib/python3.6/dist-packages (from matplotlib) (2.5.3)\n",
      "Requirement already satisfied: numpy>=1.7.1 in /usr/local/lib/python3.6/dist-packages (from matplotlib) (1.14.5)\n",
      "Requirement already satisfied: pyparsing!=2.0.4,!=2.1.2,!=2.1.6,>=2.0.1 in /usr/local/lib/python3.6/dist-packages (from matplotlib) (2.2.0)\n",
      "Requirement already satisfied: cycler>=0.10 in /usr/local/lib/python3.6/dist-packages (from matplotlib) (0.10.0)\n",
      "Requirement already satisfied: pytz in /usr/local/lib/python3.6/dist-packages (from matplotlib) (2018.5)\n",
      "Requirement already satisfied: six>=1.10 in /usr/local/lib/python3.6/dist-packages (from matplotlib) (1.11.0)\n"
     ]
    }
   ],
   "source": [
    "!pip install keras\n",
    "!pip install sklearn\n",
    "!pip install matplotlib\n",
    "!pip install -U -q PyDrive"
   ]
  },
  {
   "cell_type": "code",
   "execution_count": 2,
   "metadata": {
    "colab": {
     "autoexec": {
      "startup": false,
      "wait_interval": 0
     },
     "base_uri": "https://localhost:8080/",
     "height": 35
    },
    "colab_type": "code",
    "executionInfo": {
     "elapsed": 1892,
     "status": "ok",
     "timestamp": 1532780139388,
     "user": {
      "displayName": "Deep Learning",
      "photoUrl": "https://lh3.googleusercontent.com/a/default-user=s128",
      "userId": "102264131503135976244"
     },
     "user_tz": -120
    },
    "id": "xlKzkDJFrjA-",
    "outputId": "c2d03134-57f0-4a9b-c41a-0458216d4a61"
   },
   "outputs": [
    {
     "name": "stderr",
     "output_type": "stream",
     "text": [
      "Using TensorFlow backend.\n"
     ]
    }
   ],
   "source": [
    "from keras import backend as K\n",
    "K.clear_session()"
   ]
  },
  {
   "cell_type": "code",
   "execution_count": 0,
   "metadata": {
    "colab": {
     "autoexec": {
      "startup": false,
      "wait_interval": 0
     }
    },
    "colab_type": "code",
    "id": "eQEKwl4oAxO7"
   },
   "outputs": [],
   "source": [
    "from keras import backend as K\n",
    "cfg = K.tf.ConfigProto()\n",
    "cfg.gpu_options.allow_growth = True\n",
    "K.set_session(K.tf.Session(config=cfg))"
   ]
  },
  {
   "cell_type": "code",
   "execution_count": 0,
   "metadata": {
    "colab": {
     "autoexec": {
      "startup": false,
      "wait_interval": 0
     }
    },
    "colab_type": "code",
    "id": "12M0egCCX-27"
   },
   "outputs": [],
   "source": [
    "from pydrive.auth import GoogleAuth\n",
    "from pydrive.drive import GoogleDrive\n",
    "from google.colab import auth\n",
    "from oauth2client.client import GoogleCredentials\n",
    "\n",
    "auth.authenticate_user()\n",
    "gauth = GoogleAuth()\n",
    "gauth.credentials = GoogleCredentials.get_application_default()\n",
    "drive = GoogleDrive(gauth)"
   ]
  },
  {
   "cell_type": "code",
   "execution_count": 0,
   "metadata": {
    "colab": {
     "autoexec": {
      "startup": false,
      "wait_interval": 0
     }
    },
    "colab_type": "code",
    "id": "4lN2WTUEYBYv"
   },
   "outputs": [],
   "source": [
    "file_import = drive.CreateFile({'id':'1p1bsltfTcIrZ_kfE6kwGTPzcdXorHbb2'})\n",
    "file_import.GetContentFile('colab_setup.py') \n",
    "from colab_setup import setup\n",
    "\n",
    "setup(drive)"
   ]
  },
  {
   "cell_type": "code",
   "execution_count": 6,
   "metadata": {
    "colab": {
     "autoexec": {
      "startup": false,
      "wait_interval": 0
     },
     "base_uri": "https://localhost:8080/",
     "height": 121
    },
    "colab_type": "code",
    "executionInfo": {
     "elapsed": 1704,
     "status": "ok",
     "timestamp": 1532780159994,
     "user": {
      "displayName": "Deep Learning",
      "photoUrl": "https://lh3.googleusercontent.com/a/default-user=s128",
      "userId": "102264131503135976244"
     },
     "user_tz": -120
    },
    "id": "cHBlD0tVj2TY",
    "outputId": "eacc5dc3-282a-4d81-e54c-dad3b9ee5375"
   },
   "outputs": [
    {
     "name": "stdout",
     "output_type": "stream",
     "text": [
      "colab_setup.py\t\t\t roc_auc_callback.py\tX_train.npy\r\n",
      "custom_fast_text_embeddings.npy  sample_submission.csv\tX_val.npy\r\n",
      "datalab\t\t\t\t train_model.py\t\ty_test.npy\r\n",
      "fast_text_embeddings.npy\t X_submission.npy\ty_train_full.npy\r\n",
      "plot_history.py\t\t\t X_test.npy\t\ty_train.npy\r\n",
      "__pycache__\t\t\t X_train_full.npy\ty_val.npy\r\n"
     ]
    }
   ],
   "source": [
    "!ls"
   ]
  },
  {
   "cell_type": "code",
   "execution_count": 0,
   "metadata": {
    "colab": {
     "autoexec": {
      "startup": false,
      "wait_interval": 0
     }
    },
    "colab_type": "code",
    "id": "yMwWPTMYXyno"
   },
   "outputs": [],
   "source": [
    "import numpy as np\n",
    "import os\n",
    "\n",
    "from plot_history import plot_history\n",
    "from roc_auc_callback import RocAucCallback\n",
    "from train_model import train_with_cv, train_with_submitting, evaluate_on_test\n",
    "\n",
    "from keras.layers import *\n",
    "from keras.layers.merge import *\n",
    "from keras.initializers import *\n",
    "from keras.models import Model"
   ]
  },
  {
   "cell_type": "code",
   "execution_count": 0,
   "metadata": {
    "colab": {
     "autoexec": {
      "startup": false,
      "wait_interval": 0
     }
    },
    "colab_type": "code",
    "id": "irwBTJdINU0J"
   },
   "outputs": [],
   "source": [
    "from keras.optimizers import *\n",
    "from keras.initializers import *\n",
    "from keras.layers import *\n",
    "from keras.layers.merge import *\n",
    "from keras.models import *\n",
    "\n",
    "residual_convolution_options = dict({\n",
    "    'dropout_mode': 'spatial',\n",
    "    'dropout_rate': 0.2,\n",
    "    'filters': 128,\n",
    "    'kernel_size': 2,\n",
    "    'strides': 1,\n",
    "    'padding': 'same',\n",
    "    'activation': 'elu',\n",
    "    'should_preactivate': True\n",
    "})\n",
    "\n",
    "def convolution_block(input_layer, options):\n",
    "    convolution_input = Input(shape=[\n",
    "        int(input_layer.shape[1]),\n",
    "        int(input_layer.shape[2])\n",
    "    ])\n",
    "\n",
    "    convolution_block = convolution_input\n",
    "\n",
    "    if(options['should_preactivate']):\n",
    "        convolution_block = BatchNormalization()(convolution_block)\n",
    "        convolution_block = Activation(options['activation'])(convolution_block)\n",
    "        convolution_block = Conv1D(options['filters'], options['kernel_size'], strides=options['strides'],\n",
    "                                   padding=options['padding'], activation='linear', kernel_initializer='he_normal')(convolution_block)\n",
    "    else:\n",
    "        convolution_block = Conv1D(options['filters'], options['kernel_size'], strides=options['strides'],\n",
    "                                   padding=options['padding'], activation='linear', kernel_initializer='he_normal')(convolution_block)\n",
    "        convolution_block = BatchNormalization()(convolution_block)\n",
    "        convolution_block = Activation(options['activation'])(convolution_block)\n",
    "\n",
    "    convolution_output = convolution_block\n",
    "\n",
    "    if(options['dropout_mode'] == 'spatial'):\n",
    "        convolution_output = SpatialDropout1D(options['dropout_rate'])(convolution_output)\n",
    "    if(options['dropout_mode']== 'vanilla'):\n",
    "        convolution_output = Dropout(options['dropout_rate'])(convolution_output)\n",
    "\n",
    "    return Model(inputs=[convolution_input], outputs=[convolution_output])(input_layer)"
   ]
  },
  {
   "cell_type": "code",
   "execution_count": 0,
   "metadata": {
    "colab": {
     "autoexec": {
      "startup": false,
      "wait_interval": 0
     }
    },
    "colab_type": "code",
    "id": "sD9D5r9-Sdg7"
   },
   "outputs": [],
   "source": [
    "def residual_add_block(input_layer, should_pool):\n",
    "    convolution_input = Input(shape=[\n",
    "        int(input_layer.shape[1]),\n",
    "        int(input_layer.shape[2])\n",
    "    ])\n",
    "    \n",
    "    residual_block_pool = convolution_input\n",
    "\n",
    "    if(should_pool):\n",
    "        residual_block_pool = MaxPooling1D(pool_size=2, strides=2, padding='same')(convolution_input)\n",
    "\n",
    "    residual_block = add([\n",
    "        residual_block_pool,\n",
    "        convolution_block(residual_block_pool, residual_convolution_options)\n",
    "    ])\n",
    "    residual_block = add([\n",
    "        residual_block,\n",
    "        convolution_block(residual_block, residual_convolution_options)\n",
    "    ])\n",
    "    \n",
    "    convolution_output = add([residual_block, residual_block_pool])\n",
    "\n",
    "    return Model(inputs=[convolution_input], outputs=[convolution_output])(input_layer)"
   ]
  },
  {
   "cell_type": "code",
   "execution_count": 0,
   "metadata": {
    "colab": {
     "autoexec": {
      "startup": false,
      "wait_interval": 0
     }
    },
    "colab_type": "code",
    "id": "xOfIVhpoSdpQ"
   },
   "outputs": [],
   "source": [
    "def yoon_kim_feature_extractor(input_layer, filters):\n",
    "    extractor_block_input = Input(shape=[\n",
    "        int(input_layer.shape[1]),\n",
    "        int(input_layer.shape[2])\n",
    "    ])\n",
    "\n",
    "    block_1_conv_1 = Conv1D(filters, 1, activation = 'linear', padding = 'same', kernel_initializer = 'he_normal')(extractor_block_input)\n",
    "    block_1_batchnorm1 = BatchNormalization()(block_1_conv_1)\n",
    "    block_1_batchnorm1 = ELU()(block_1_batchnorm1)\n",
    "    block_1_max_pool1 = GlobalMaxPooling1D()(block_1_batchnorm1)\n",
    "\n",
    "    block_1_conv_2 = Conv1D(filters, 2, activation = 'linear', padding = 'same', kernel_initializer = 'he_normal')(extractor_block_input)\n",
    "    block_1_batchnorm2 = BatchNormalization()(block_1_conv_2)\n",
    "    block_1_batchnorm2 = ELU()(block_1_batchnorm2)\n",
    "    block_1_max_pool2 = GlobalMaxPooling1D()(block_1_batchnorm2)\n",
    "\n",
    "    block_1_conv_3 = Conv1D(filters, 3, activation = 'linear', padding = 'same', kernel_initializer = 'he_normal')(extractor_block_input)\n",
    "    block_1_batchnorm3 = BatchNormalization()(block_1_conv_3)\n",
    "    block_1_batchnorm3 = ELU()(block_1_batchnorm3)\n",
    "    block_1_max_pool3 = GlobalMaxPooling1D()(block_1_batchnorm3)\n",
    "\n",
    "    block_1_conv_4 = Conv1D(filters, 5, activation = 'linear', padding = 'same', kernel_initializer = 'he_normal')(extractor_block_input)\n",
    "    block_1_batchnorm4 = BatchNormalization()(block_1_conv_4)\n",
    "    block_1_batchnorm4 = ELU()(block_1_batchnorm4)\n",
    "    block_1_max_pool4 = GlobalMaxPooling1D()(block_1_batchnorm4)\n",
    "\n",
    "    features = concatenate([\n",
    "        block_1_max_pool1, \n",
    "        block_1_max_pool2, \n",
    "        block_1_max_pool3, \n",
    "        block_1_max_pool4\n",
    "    ])\n",
    "    \n",
    "    extractor_block_output = Dropout(0.2)(features)\n",
    "    \n",
    "    return Model(\n",
    "        inputs=[extractor_block_input], \n",
    "        outputs=[extractor_block_output]\n",
    "    )(input_layer)"
   ]
  },
  {
   "cell_type": "code",
   "execution_count": 0,
   "metadata": {
    "colab": {
     "autoexec": {
      "startup": false,
      "wait_interval": 0
     }
    },
    "colab_type": "code",
    "id": "PHbVmJqTSdxU"
   },
   "outputs": [],
   "source": [
    "def classification_block(input_layer, dropout_rate = 0.2):\n",
    "      \n",
    "    model = Dense(256, activation = 'linear', kernel_initializer = 'he_normal')(input_layer)\n",
    "    model = BatchNormalization()(model)\n",
    "    model = ELU()(model)\n",
    "    model = Dropout(dropout_rate)(model)\n",
    "    \n",
    "    model = Dense(256, activation = 'linear', kernel_initializer = 'he_normal')(model)\n",
    "    model = BatchNormalization()(model)\n",
    "    model = ELU()(model)\n",
    "    model = Dropout(dropout_rate)(model)\n",
    "\n",
    "    classification_block_output = Dense(6, activation='sigmoid', kernel_initializer = 'glorot_normal')(model)\n",
    "    \n",
    "    return classification_block_output"
   ]
  },
  {
   "cell_type": "code",
   "execution_count": 12,
   "metadata": {
    "colab": {
     "autoexec": {
      "startup": false,
      "wait_interval": 0
     },
     "base_uri": "https://localhost:8080/",
     "height": 1040
    },
    "colab_type": "code",
    "executionInfo": {
     "elapsed": 7239,
     "status": "ok",
     "timestamp": 1532780171077,
     "user": {
      "displayName": "Deep Learning",
      "photoUrl": "https://lh3.googleusercontent.com/a/default-user=s128",
      "userId": "102264131503135976244"
     },
     "user_tz": -120
    },
    "id": "LTFG7OgsXynw",
    "outputId": "721de61c-2718-4770-a8b8-a80a8dcb06b7"
   },
   "outputs": [
    {
     "name": "stdout",
     "output_type": "stream",
     "text": [
      "__________________________________________________________________________________________________\n",
      "Layer (type)                    Output Shape         Param #     Connected to                     \n",
      "==================================================================================================\n",
      "input_1 (InputLayer)            (None, 400)          0                                            \n",
      "__________________________________________________________________________________________________\n",
      "embedding_1 (Embedding)         (None, 400, 300)     9000000     input_1[0][0]                    \n",
      "__________________________________________________________________________________________________\n",
      "embedding_2 (Embedding)         (None, 400, 300)     9000000     input_1[0][0]                    \n",
      "__________________________________________________________________________________________________\n",
      "spatial_dropout1d_1 (SpatialDro (None, 400, 300)     0           embedding_1[0][0]                \n",
      "__________________________________________________________________________________________________\n",
      "spatial_dropout1d_2 (SpatialDro (None, 400, 300)     0           embedding_2[0][0]                \n",
      "__________________________________________________________________________________________________\n",
      "average_1 (Average)             (None, 400, 300)     0           spatial_dropout1d_1[0][0]        \n",
      "                                                                 spatial_dropout1d_2[0][0]        \n",
      "__________________________________________________________________________________________________\n",
      "spatial_dropout1d_3 (SpatialDro (None, 400, 300)     0           average_1[0][0]                  \n",
      "__________________________________________________________________________________________________\n",
      "model_1 (Model)                 (None, 400, 128)     78128       spatial_dropout1d_3[0][0]        \n",
      "__________________________________________________________________________________________________\n",
      "model_4 (Model)                 (None, 400, 128)     66816       model_1[1][0]                    \n",
      "__________________________________________________________________________________________________\n",
      "model_7 (Model)                 (None, 200, 128)     66816       model_4[1][0]                    \n",
      "__________________________________________________________________________________________________\n",
      "model_10 (Model)                (None, 100, 128)     66816       model_7[1][0]                    \n",
      "__________________________________________________________________________________________________\n",
      "model_13 (Model)                (None, 50, 128)      66816       model_10[1][0]                   \n",
      "__________________________________________________________________________________________________\n",
      "model_16 (Model)                (None, 25, 128)      66816       model_13[1][0]                   \n",
      "__________________________________________________________________________________________________\n",
      "flatten_1 (Flatten)             (None, 3200)         0           model_16[1][0]                   \n",
      "__________________________________________________________________________________________________\n",
      "model_17 (Model)                (None, 512)          182784      model_16[1][0]                   \n",
      "__________________________________________________________________________________________________\n",
      "concatenate_2 (Concatenate)     (None, 3712)         0           flatten_1[0][0]                  \n",
      "                                                                 model_17[1][0]                   \n",
      "__________________________________________________________________________________________________\n",
      "dense_1 (Dense)                 (None, 256)          950528      concatenate_2[0][0]              \n",
      "__________________________________________________________________________________________________\n",
      "batch_normalization_16 (BatchNo (None, 256)          1024        dense_1[0][0]                    \n",
      "__________________________________________________________________________________________________\n",
      "elu_5 (ELU)                     (None, 256)          0           batch_normalization_16[0][0]     \n",
      "__________________________________________________________________________________________________\n",
      "dropout_2 (Dropout)             (None, 256)          0           elu_5[0][0]                      \n",
      "__________________________________________________________________________________________________\n",
      "dense_2 (Dense)                 (None, 256)          65792       dropout_2[0][0]                  \n",
      "__________________________________________________________________________________________________\n",
      "batch_normalization_17 (BatchNo (None, 256)          1024        dense_2[0][0]                    \n",
      "__________________________________________________________________________________________________\n",
      "elu_6 (ELU)                     (None, 256)          0           batch_normalization_17[0][0]     \n",
      "__________________________________________________________________________________________________\n",
      "dropout_3 (Dropout)             (None, 256)          0           elu_6[0][0]                      \n",
      "__________________________________________________________________________________________________\n",
      "dense_3 (Dense)                 (None, 6)            1542        dropout_3[0][0]                  \n",
      "==================================================================================================\n",
      "Total params: 19,614,902\n",
      "Trainable params: 1,609,694\n",
      "Non-trainable params: 18,005,208\n",
      "__________________________________________________________________________________________________\n"
     ]
    }
   ],
   "source": [
    "max_words= 30000\n",
    "max_words_length = 400\n",
    "embedding_dimension = 300\n",
    "\n",
    "input_layer = Input(shape=(max_words_length,))\n",
    "\n",
    "pretrained_embedding_layer = Embedding(\n",
    "    max_words, \n",
    "    output_dim=embedding_dimension, \n",
    "    input_length=max_words_length,\n",
    "    weights = [np.load('fast_text_embeddings.npy')],\n",
    "    trainable = False\n",
    ")(input_layer)\n",
    "pretrained_embedding_layer = SpatialDropout1D(0.2)(pretrained_embedding_layer)\n",
    "\n",
    "custom_embedding_layer = Embedding(\n",
    "    max_words, \n",
    "    output_dim=embedding_dimension, \n",
    "    input_length=max_words_length,\n",
    "    weights = [np.load('custom_fast_text_embeddings.npy')],\n",
    "    trainable = False\n",
    ")(input_layer)\n",
    "custom_embedding_layer = SpatialDropout1D(0.2)(custom_embedding_layer)\n",
    "\n",
    "averaged_embedding_layer = Average()([pretrained_embedding_layer, custom_embedding_layer])\n",
    "averaged_embedding_layer = SpatialDropout1D(0.2)(averaged_embedding_layer)\n",
    "\n",
    "averaged_embedding_layer = convolution_block(averaged_embedding_layer, residual_convolution_options)\n",
    "\n",
    "model = residual_add_block(averaged_embedding_layer, should_pool = False)\n",
    "model = residual_add_block(model, should_pool = True)\n",
    "model = residual_add_block(model, should_pool = True)\n",
    "model = residual_add_block(model, should_pool = True)\n",
    "model = residual_add_block(model, should_pool = True)\n",
    "\n",
    "output_layer = concatenate([\n",
    "    Flatten()(model),\n",
    "    yoon_kim_feature_extractor(model, residual_convolution_options['filters'])\n",
    "])\n",
    "output_layer = classification_block(output_layer)\n",
    "\n",
    "model = Model(input_layer, output_layer)\n",
    "\n",
    "model.compile(loss='binary_crossentropy', \n",
    "            optimizer='Adam',\n",
    "            metrics=['accuracy'])          \n",
    "\n",
    "model.summary()"
   ]
  },
  {
   "cell_type": "code",
   "execution_count": 13,
   "metadata": {
    "colab": {
     "autoexec": {
      "startup": false,
      "wait_interval": 0
     },
     "base_uri": "https://localhost:8080/",
     "height": 904
    },
    "colab_type": "code",
    "executionInfo": {
     "elapsed": 6103503,
     "status": "ok",
     "timestamp": 1532786274606,
     "user": {
      "displayName": "Deep Learning",
      "photoUrl": "https://lh3.googleusercontent.com/a/default-user=s128",
      "userId": "102264131503135976244"
     },
     "user_tz": -120
    },
    "id": "xwMmTewgXynz",
    "outputId": "5392d40f-0c10-4950-aa0e-faa06eaa79a8"
   },
   "outputs": [
    {
     "name": "stdout",
     "output_type": "stream",
     "text": [
      "Train on 102124 samples, validate on 25532 samples\n",
      "Epoch 1/64\n",
      " 21440/102124 [=====>........................] - ETA: 4:15 - loss: 0.1201 - acc: 0.9624102112/102124 [============================>.] - ETA: 0s - loss: 0.0749 - acc: 0.9749102124/102124 [==============================] - 308s 3ms/step - loss: 0.0749 - acc: 0.9749 - val_loss: 0.0497 - val_acc: 0.9817\n",
      "Epoch 2/64\n",
      " 14016/102124 [===>..........................] - ETA: 4:05 - loss: 0.0532 - acc: 0.9800102112/102124 [============================>.] - ETA: 0s - loss: 0.0549 - acc: 0.9801102124/102124 [==============================] - 300s 3ms/step - loss: 0.0549 - acc: 0.9801 - val_loss: 0.0489 - val_acc: 0.9816\n",
      "roc-auc: 0.9795 - roc-auc_val: 0.9759                                                                                                    \n",
      "Epoch 3/64\n",
      "  8736/102124 [=>............................] - ETA: 4:18 - loss: 0.0524 - acc: 0.9812102112/102124 [============================>.] - ETA: 0s - loss: 0.0508 - acc: 0.9814102124/102124 [==============================] - 300s 3ms/step - loss: 0.0508 - acc: 0.9814 - val_loss: 0.0453 - val_acc: 0.9826\n",
      "Epoch 4/64\n",
      " 14048/102124 [===>..........................] - ETA: 4:06 - loss: 0.0477 - acc: 0.9822 62464/102124 [=================>............] - ETA: 1:50 - loss: 0.0482 - acc: 0.9819102112/102124 [============================>.] - ETA: 0s - loss: 0.0477 - acc: 0.9821102124/102124 [==============================] - 300s 3ms/step - loss: 0.0477 - acc: 0.9821 - val_loss: 0.0438 - val_acc: 0.9835\n",
      "roc-auc: 0.9894 - roc-auc_val: 0.9845                                                                                                    \n",
      "Epoch 5/64\n",
      "  8736/102124 [=>............................] - ETA: 4:20 - loss: 0.0478 - acc: 0.9817102112/102124 [============================>.] - ETA: 0s - loss: 0.0453 - acc: 0.9828102124/102124 [==============================] - 300s 3ms/step - loss: 0.0453 - acc: 0.9828 - val_loss: 0.0420 - val_acc: 0.9841\n",
      "Epoch 6/64\n",
      " 14048/102124 [===>..........................] - ETA: 4:06 - loss: 0.0419 - acc: 0.9836102112/102124 [============================>.] - ETA: 0s - loss: 0.0436 - acc: 0.9832102124/102124 [==============================] - 300s 3ms/step - loss: 0.0436 - acc: 0.9832 - val_loss: 0.0419 - val_acc: 0.9838\n",
      "roc-auc: 0.9921 - roc-auc_val: 0.9858                                                                                                    \n",
      "Epoch 7/64\n",
      "102124/102124 [==============================] - 300s 3ms/step - loss: 0.0422 - acc: 0.9835 - val_loss: 0.0421 - val_acc: 0.9839==>.] - ETA: 0s - loss: 0.0422 - acc: 0.983\n",
      "\n",
      "Epoch 00007: ReduceLROnPlateau reducing learning rate to 0.0002679433673620224.\n",
      "Epoch 8/64\n",
      "  8032/102124 [=>............................] - ETA: 4:22 - loss: 0.0408 - acc: 0.9841102112/102124 [============================>.] - ETA: 0s - loss: 0.0411 - acc: 0.9840102124/102124 [==============================] - 300s 3ms/step - loss: 0.0412 - acc: 0.9840 - val_loss: 0.0412 - val_acc: 0.9840\n",
      "roc-auc: 0.9932 - roc-auc_val: 0.9858                                                                                                    \n",
      "Epoch 9/64\n",
      "  8736/102124 [=>............................] - ETA: 4:18 - loss: 0.0439 - acc: 0.9830102112/102124 [============================>.] - ETA: 0s - loss: 0.0401 - acc: 0.9844102124/102124 [==============================] - 300s 3ms/step - loss: 0.0401 - acc: 0.9844 - val_loss: 0.0413 - val_acc: 0.9842\n",
      "Epoch 10/64\n",
      " 13984/102124 [===>..........................] - ETA: 4:05 - loss: 0.0391 - acc: 0.9849102112/102124 [============================>.] - ETA: 0s - loss: 0.0389 - acc: 0.9849102124/102124 [==============================] - 300s 3ms/step - loss: 0.0389 - acc: 0.9849 - val_loss: 0.0420 - val_acc: 0.9833\n",
      "roc-auc: 0.9945 - roc-auc_val: 0.9873                                                                                                    \n",
      "Epoch 11/64\n",
      "  8704/102124 [=>............................] - ETA: 4:20 - loss: 0.0401 - acc: 0.9843102112/102124 [============================>.] - ETA: 0s - loss: 0.0379 - acc: 0.9852102124/102124 [==============================] - 302s 3ms/step - loss: 0.0379 - acc: 0.9852 - val_loss: 0.0418 - val_acc: 0.9838\n",
      "Epoch 12/64\n",
      " 13984/102124 [===>..........................] - ETA: 4:08 - loss: 0.0366 - acc: 0.9854102112/102124 [============================>.] - ETA: 0s - loss: 0.0374 - acc: 0.9854102124/102124 [==============================] - 304s 3ms/step - loss: 0.0374 - acc: 0.9854 - val_loss: 0.0422 - val_acc: 0.9836\n",
      "roc-auc: 0.9952 - roc-auc_val: 0.9856                                                                                                    \n",
      "Epoch 13/64\n",
      "  8704/102124 [=>............................] - ETA: 4:22 - loss: 0.0374 - acc: 0.9854102112/102124 [============================>.] - ETA: 0s - loss: 0.0361 - acc: 0.9856102124/102124 [==============================] - 303s 3ms/step - loss: 0.0361 - acc: 0.9856 - val_loss: 0.0418 - val_acc: 0.9837\n",
      "Epoch 14/64\n",
      " 13952/102124 [===>..........................] - ETA: 4:09 - loss: 0.0341 - acc: 0.9865102112/102124 [============================>.] - ETA: 0s - loss: 0.0356 - acc: 0.9859102124/102124 [==============================] - 301s 3ms/step - loss: 0.0356 - acc: 0.9859 - val_loss: 0.0434 - val_acc: 0.9829\n",
      "roc-auc: 0.9959 - roc-auc_val: 0.9853                                                                                                    \n",
      "Epoch 15/64\n",
      "  8672/102124 [=>............................] - ETA: 4:22 - loss: 0.0350 - acc: 0.9862102112/102124 [============================>.] - ETA: 0s - loss: 0.0352 - acc: 0.9861102124/102124 [==============================] - 302s 3ms/step - loss: 0.0352 - acc: 0.9861 - val_loss: 0.0418 - val_acc: 0.9839\n",
      "Epoch 16/64\n",
      " 13984/102124 [===>..........................] - ETA: 4:07 - loss: 0.0341 - acc: 0.9868102112/102124 [============================>.] - ETA: 0s - loss: 0.0344 - acc: 0.9864102124/102124 [==============================] - 302s 3ms/step - loss: 0.0344 - acc: 0.9864 - val_loss: 0.0425 - val_acc: 0.9837\n",
      "roc-auc: 0.9963 - roc-auc_val: 0.9862                                                                                                    \n",
      "Epoch 17/64\n",
      "  8704/102124 [=>............................] - ETA: 4:20 - loss: 0.0330 - acc: 0.9869102112/102124 [============================>.] - ETA: 0s - loss: 0.0340 - acc: 0.9865102124/102124 [==============================] - 300s 3ms/step - loss: 0.0340 - acc: 0.9865 - val_loss: 0.0422 - val_acc: 0.9837\n",
      "Epoch 18/64\n",
      "102124/102124 [==============================] - 301s 3ms/step - loss: 0.0331 - acc: 0.9869 - val_loss: 0.0430 - val_acc: 0.9835==>.] - ETA: 0s - loss: 0.0331 - acc: 0.986\n",
      "\n",
      "Epoch 00018: ReduceLROnPlateau reducing learning rate to 8.53775127325207e-05.\n",
      "roc-auc: 0.9966 - roc-auc_val: 0.9857                                                                                                    \n"
     ]
    }
   ],
   "source": [
    "history = train_with_cv(model, epochs=64, batchSize=32, rocEvery = 2)"
   ]
  },
  {
   "cell_type": "code",
   "execution_count": 14,
   "metadata": {
    "colab": {
     "autoexec": {
      "startup": false,
      "wait_interval": 0
     },
     "base_uri": "https://localhost:8080/",
     "height": 315
    },
    "colab_type": "code",
    "executionInfo": {
     "elapsed": 1744,
     "status": "ok",
     "timestamp": 1532786276364,
     "user": {
      "displayName": "Deep Learning",
      "photoUrl": "https://lh3.googleusercontent.com/a/default-user=s128",
      "userId": "102264131503135976244"
     },
     "user_tz": -120
    },
    "id": "izWCJ3HMReV3",
    "outputId": "9e0fb7ef-f3a0-48fb-e766-ef7d38493afb"
   },
   "outputs": [
    {
     "data": {
      "image/png": "[encoded data removed]",
      "text/plain": [
       "<matplotlib.figure.Figure at 0x7fa758ff3ef0>"
      ]
     },
     "metadata": {
      "tags": []
     },
     "output_type": "display_data"
    }
   ],
   "source": [
    "plot_history(history)"
   ]
  },
  {
   "cell_type": "code",
   "execution_count": 15,
   "metadata": {
    "colab": {
     "autoexec": {
      "startup": false,
      "wait_interval": 0
     },
     "base_uri": "https://localhost:8080/",
     "height": 52
    },
    "colab_type": "code",
    "executionInfo": {
     "elapsed": 40336,
     "status": "ok",
     "timestamp": 1532786316713,
     "user": {
      "displayName": "Deep Learning",
      "photoUrl": "https://lh3.googleusercontent.com/a/default-user=s128",
      "userId": "102264131503135976244"
     },
     "user_tz": -120
    },
    "id": "r2gtMBj2Tp9A",
    "outputId": "e3c3a838-5025-48ab-c2a4-684ea547da4c"
   },
   "outputs": [
    {
     "name": "stdout",
     "output_type": "stream",
     "text": [
      "31915/31915 [==============================] - 21s 662us/step\n",
      "([0.04185866577369553, 0.9840095950558737], 0.9875186893282799)\n"
     ]
    }
   ],
   "source": [
    "print(evaluate_on_test(model))"
   ]
  }
 ],
 "metadata": {
  "accelerator": "GPU",
  "colab": {
   "collapsed_sections": [],
   "default_view": {},
   "name": "kernel_2_resnet_add_128_5_blocks_with_flatten.ipynb",
   "provenance": [],
   "version": "0.3.2",
   "views": {}
  },
  "kernelspec": {
   "display_name": "Python 3",
   "language": "python",
   "name": "python3"
  },
  "language_info": {
   "codemirror_mode": {
    "name": "ipython",
    "version": 3
   },
   "file_extension": ".py",
   "mimetype": "text/x-python",
   "name": "python",
   "nbconvert_exporter": "python",
   "pygments_lexer": "ipython3",
   "version": "3.6.2"
  }
 },
 "nbformat": 4,
 "nbformat_minor": 1
}

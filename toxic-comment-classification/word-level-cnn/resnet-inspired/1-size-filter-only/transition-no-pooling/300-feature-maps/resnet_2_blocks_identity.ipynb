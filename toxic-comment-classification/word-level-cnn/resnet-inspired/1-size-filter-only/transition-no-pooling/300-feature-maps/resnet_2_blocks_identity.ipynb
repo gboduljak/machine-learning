{
  "nbformat": 4,
  "nbformat_minor": 0,
  "metadata": {
    "colab": {
      "name": "resnet_2_blocks_identity.ipynb",
      "version": "0.3.2",
      "views": {},
      "default_view": {},
      "provenance": [],
      "collapsed_sections": []
    },
    "kernelspec": {
      "display_name": "Python 3",
      "language": "python",
      "name": "python3"
    },
    "accelerator": "GPU"
  },
  "cells": [
    {
      "metadata": {
        "id": "yS1FnhiWX3Js",
        "colab_type": "code",
        "colab": {
          "autoexec": {
            "startup": false,
            "wait_interval": 0
          },
          "base_uri": "https://localhost:8080/",
          "height": 277
        },
        "outputId": "ad260a86-a73f-496b-9a13-15657c7f5fe0",
        "executionInfo": {
          "status": "ok",
          "timestamp": 1532544146418,
          "user_tz": -120,
          "elapsed": 8952,
          "user": {
            "displayName": "Deep Learning",
            "photoUrl": "https://lh3.googleusercontent.com/a/default-user=s128",
            "userId": "110970714976109420834"
          }
        }
      },
      "cell_type": "code",
      "source": [
        "!pip install keras\n",
        "!pip install sklearn\n",
        "!pip install matplotlib\n",
        "!pip install -U -q PyDrive"
      ],
      "execution_count": 1,
      "outputs": [
        {
          "output_type": "stream",
          "text": [
            "Requirement already satisfied: keras in /usr/local/lib/python3.6/dist-packages (2.1.6)\r\n",
            "Requirement already satisfied: numpy>=1.9.1 in /usr/local/lib/python3.6/dist-packages (from keras) (1.14.5)\r\n",
            "Requirement already satisfied: six>=1.9.0 in /usr/local/lib/python3.6/dist-packages (from keras) (1.11.0)\r\n",
            "Requirement already satisfied: pyyaml in /usr/local/lib/python3.6/dist-packages (from keras) (3.13)\r\n",
            "Requirement already satisfied: scipy>=0.14 in /usr/local/lib/python3.6/dist-packages (from keras) (0.19.1)\r\n",
            "Requirement already satisfied: h5py in /usr/local/lib/python3.6/dist-packages (from keras) (2.8.0)\n",
            "Requirement already satisfied: sklearn in /usr/local/lib/python3.6/dist-packages (0.0)\n",
            "Requirement already satisfied: scikit-learn in /usr/local/lib/python3.6/dist-packages (from sklearn) (0.19.2)\n",
            "Requirement already satisfied: matplotlib in /usr/local/lib/python3.6/dist-packages (2.1.2)\n",
            "Requirement already satisfied: python-dateutil>=2.1 in /usr/local/lib/python3.6/dist-packages (from matplotlib) (2.5.3)\n",
            "Requirement already satisfied: pyparsing!=2.0.4,!=2.1.2,!=2.1.6,>=2.0.1 in /usr/local/lib/python3.6/dist-packages (from matplotlib) (2.2.0)\n",
            "Requirement already satisfied: numpy>=1.7.1 in /usr/local/lib/python3.6/dist-packages (from matplotlib) (1.14.5)\n",
            "Requirement already satisfied: six>=1.10 in /usr/local/lib/python3.6/dist-packages (from matplotlib) (1.11.0)\n",
            "Requirement already satisfied: pytz in /usr/local/lib/python3.6/dist-packages (from matplotlib) (2018.5)\n",
            "Requirement already satisfied: cycler>=0.10 in /usr/local/lib/python3.6/dist-packages (from matplotlib) (0.10.0)\n"
          ],
          "name": "stdout"
        }
      ]
    },
    {
      "metadata": {
        "id": "xlKzkDJFrjA-",
        "colab_type": "code",
        "colab": {
          "autoexec": {
            "startup": false,
            "wait_interval": 0
          },
          "base_uri": "https://localhost:8080/",
          "height": 35
        },
        "outputId": "d55d487b-3732-46dc-9e86-cacfa41ed4aa",
        "executionInfo": {
          "status": "ok",
          "timestamp": 1532544148547,
          "user_tz": -120,
          "elapsed": 2087,
          "user": {
            "displayName": "Deep Learning",
            "photoUrl": "https://lh3.googleusercontent.com/a/default-user=s128",
            "userId": "110970714976109420834"
          }
        }
      },
      "cell_type": "code",
      "source": [
        "from keras import backend as K\n",
        "K.clear_session()"
      ],
      "execution_count": 2,
      "outputs": [
        {
          "output_type": "stream",
          "text": [
            "Using TensorFlow backend.\n"
          ],
          "name": "stderr"
        }
      ]
    },
    {
      "metadata": {
        "id": "eQEKwl4oAxO7",
        "colab_type": "code",
        "colab": {
          "autoexec": {
            "startup": false,
            "wait_interval": 0
          }
        }
      },
      "cell_type": "code",
      "source": [
        "from keras import backend as K\n",
        "cfg = K.tf.ConfigProto()\n",
        "cfg.gpu_options.allow_growth = True\n",
        "K.set_session(K.tf.Session(config=cfg))"
      ],
      "execution_count": 0,
      "outputs": []
    },
    {
      "metadata": {
        "id": "12M0egCCX-27",
        "colab_type": "code",
        "colab": {
          "autoexec": {
            "startup": false,
            "wait_interval": 0
          }
        }
      },
      "cell_type": "code",
      "source": [
        "from pydrive.auth import GoogleAuth\n",
        "from pydrive.drive import GoogleDrive\n",
        "from google.colab import auth\n",
        "from oauth2client.client import GoogleCredentials\n",
        "\n",
        "auth.authenticate_user()\n",
        "gauth = GoogleAuth()\n",
        "gauth.credentials = GoogleCredentials.get_application_default()\n",
        "drive = GoogleDrive(gauth)"
      ],
      "execution_count": 0,
      "outputs": []
    },
    {
      "metadata": {
        "id": "4lN2WTUEYBYv",
        "colab_type": "code",
        "colab": {
          "autoexec": {
            "startup": false,
            "wait_interval": 0
          }
        }
      },
      "cell_type": "code",
      "source": [
        "file_import = drive.CreateFile({'id':'1p1bsltfTcIrZ_kfE6kwGTPzcdXorHbb2'})\n",
        "file_import.GetContentFile('colab_setup.py') \n",
        "from colab_setup import setup\n",
        "\n",
        "setup(drive)"
      ],
      "execution_count": 0,
      "outputs": []
    },
    {
      "metadata": {
        "id": "cHBlD0tVj2TY",
        "colab_type": "code",
        "colab": {
          "autoexec": {
            "startup": false,
            "wait_interval": 0
          },
          "base_uri": "https://localhost:8080/",
          "height": 121
        },
        "outputId": "0828addf-33bc-4d35-a7f8-43ae92f9c9f7",
        "executionInfo": {
          "status": "ok",
          "timestamp": 1532544175702,
          "user_tz": -120,
          "elapsed": 1854,
          "user": {
            "displayName": "Deep Learning",
            "photoUrl": "https://lh3.googleusercontent.com/a/default-user=s128",
            "userId": "110970714976109420834"
          }
        }
      },
      "cell_type": "code",
      "source": [
        "!ls"
      ],
      "execution_count": 6,
      "outputs": [
        {
          "output_type": "stream",
          "text": [
            "colab_setup.py\t\t\t roc_auc_callback.py\tX_train.npy\r\n",
            "custom_fast_text_embeddings.npy  sample_submission.csv\tX_val.npy\r\n",
            "datalab\t\t\t\t train_model.py\t\ty_test.npy\r\n",
            "fast_text_embeddings.npy\t X_submission.npy\ty_train_full.npy\r\n",
            "plot_history.py\t\t\t X_test.npy\t\ty_train.npy\r\n",
            "__pycache__\t\t\t X_train_full.npy\ty_val.npy\r\n"
          ],
          "name": "stdout"
        }
      ]
    },
    {
      "metadata": {
        "id": "yMwWPTMYXyno",
        "colab_type": "code",
        "colab": {
          "autoexec": {
            "startup": false,
            "wait_interval": 0
          }
        }
      },
      "cell_type": "code",
      "source": [
        "import numpy as np\n",
        "import os\n",
        "\n",
        "from plot_history import plot_history\n",
        "from roc_auc_callback import RocAucCallback\n",
        "from train_model import train_with_cv, train_with_submitting, evaluate_on_test\n",
        "\n",
        "from keras.layers import *\n",
        "from keras.layers.merge import *\n",
        "from keras.initializers import *\n",
        "from keras.models import Model"
      ],
      "execution_count": 0,
      "outputs": []
    },
    {
      "metadata": {
        "id": "irwBTJdINU0J",
        "colab_type": "code",
        "colab": {
          "autoexec": {
            "startup": false,
            "wait_interval": 0
          }
        }
      },
      "cell_type": "code",
      "source": [
        "from keras.optimizers import *\n",
        "from keras.initializers import *\n",
        "from keras.layers import *\n",
        "from keras.layers.merge import *\n",
        "from keras.models import *\n",
        "\n",
        "residual_convolution_options = dict({\n",
        "    'dropout_mode': 'spatial',\n",
        "    'dropout_rate': 0.2,\n",
        "    'filters': 300,\n",
        "    'kernel_size': 1,\n",
        "    'strides': 1,\n",
        "    'padding': 'same',\n",
        "    'activation': 'elu',\n",
        "    'should_preactivate': True\n",
        "})\n",
        "\n",
        "def convolution_block(input_layer, options):\n",
        "    convolution_input = Input(shape=[\n",
        "        int(input_layer.shape[1]),\n",
        "        int(input_layer.shape[2])\n",
        "    ])\n",
        "\n",
        "    convolution_block = convolution_input\n",
        "\n",
        "    if(options['should_preactivate']):\n",
        "        convolution_block = BatchNormalization()(convolution_block)\n",
        "        convolution_block = Activation(options['activation'])(convolution_block)\n",
        "        convolution_block = Conv1D(options['filters'], options['kernel_size'], strides=options['strides'],\n",
        "                                   padding=options['padding'], activation='linear', kernel_initializer='he_normal')(convolution_block)\n",
        "    else:\n",
        "        convolution_block = Conv1D(options['filters'], options['kernel_size'], strides=options['strides'],\n",
        "                                   padding=options['padding'], activation='linear', kernel_initializer='he_normal')(convolution_block)\n",
        "        convolution_block = BatchNormalization()(convolution_block)\n",
        "        convolution_block = Activation(options['activation'])(convolution_block)\n",
        "\n",
        "    convolution_output = convolution_block\n",
        "\n",
        "    if(options['dropout_mode'] == 'spatial'):\n",
        "        convolution_output = SpatialDropout1D(options['dropout_rate'])(convolution_output)\n",
        "    if(options['dropout_mode']== 'vanilla'):\n",
        "        convolution_output = Dropout(options['dropout_rate'])(convolution_output)\n",
        "\n",
        "    return Model(inputs=[convolution_input], outputs=[convolution_output])(input_layer)"
      ],
      "execution_count": 0,
      "outputs": []
    },
    {
      "metadata": {
        "id": "sD9D5r9-Sdg7",
        "colab_type": "code",
        "colab": {
          "autoexec": {
            "startup": false,
            "wait_interval": 0
          }
        }
      },
      "cell_type": "code",
      "source": [
        "def residual_block(input_layer, should_pool):\n",
        "    convolution_input = Input(shape=[\n",
        "        int(input_layer.shape[1]),\n",
        "        int(input_layer.shape[2])\n",
        "    ])\n",
        "    residual_block = convolution_input\n",
        "\n",
        "    if(should_pool):\n",
        "        residual_block = MaxPooling1D(pool_size=2, strides=2, padding='same')(residual_block)\n",
        "\n",
        "    residual_block = convolution_block(\n",
        "        residual_block, residual_convolution_options)\n",
        "    residual_block = convolution_block(\n",
        "        residual_block, residual_convolution_options)\n",
        "\n",
        "    convolution_output = add([residual_block, convolution_input])\n",
        "\n",
        "    return Model(inputs=[convolution_input], outputs=[convolution_output])(input_layer)"
      ],
      "execution_count": 0,
      "outputs": []
    },
    {
      "metadata": {
        "id": "xOfIVhpoSdpQ",
        "colab_type": "code",
        "colab": {
          "autoexec": {
            "startup": false,
            "wait_interval": 0
          }
        }
      },
      "cell_type": "code",
      "source": [
        "def yoon_kim_feature_extractor(input_layer, filters):\n",
        "    extractor_block_input = Input(shape=[\n",
        "        int(input_layer.shape[1]),\n",
        "        int(input_layer.shape[2])\n",
        "    ])\n",
        "\n",
        "    block_1_conv_1 = Conv1D(filters, 1, activation = 'linear', padding = 'same', kernel_initializer = 'he_normal')(extractor_block_input)\n",
        "    block_1_batchnorm1 = BatchNormalization()(block_1_conv_1)\n",
        "    block_1_batchnorm1 = ELU()(block_1_batchnorm1)\n",
        "    block_1_max_pool1 = GlobalMaxPooling1D()(block_1_batchnorm1)\n",
        "\n",
        "    block_1_conv_2 = Conv1D(filters, 2, activation = 'linear', padding = 'same', kernel_initializer = 'he_normal')(extractor_block_input)\n",
        "    block_1_batchnorm2 = BatchNormalization()(block_1_conv_2)\n",
        "    block_1_batchnorm2 = ELU()(block_1_batchnorm2)\n",
        "    block_1_max_pool2 = GlobalMaxPooling1D()(block_1_batchnorm2)\n",
        "\n",
        "    block_1_conv_3 = Conv1D(filters, 3, activation = 'linear', padding = 'same', kernel_initializer = 'he_normal')(extractor_block_input)\n",
        "    block_1_batchnorm3 = BatchNormalization()(block_1_conv_3)\n",
        "    block_1_batchnorm3 = ELU()(block_1_batchnorm3)\n",
        "    block_1_max_pool3 = GlobalMaxPooling1D()(block_1_batchnorm3)\n",
        "\n",
        "    block_1_conv_4 = Conv1D(filters, 5, activation = 'linear', padding = 'same', kernel_initializer = 'he_normal')(extractor_block_input)\n",
        "    block_1_batchnorm4 = BatchNormalization()(block_1_conv_4)\n",
        "    block_1_batchnorm4 = ELU()(block_1_batchnorm4)\n",
        "    block_1_max_pool4 = GlobalMaxPooling1D()(block_1_batchnorm4)\n",
        "\n",
        "    features = concatenate([\n",
        "        block_1_max_pool1, \n",
        "        block_1_max_pool2, \n",
        "        block_1_max_pool3, \n",
        "        block_1_max_pool4\n",
        "    ])\n",
        "    \n",
        "    extractor_block_output = Dropout(0.2)(features)\n",
        "    \n",
        "    return Model(\n",
        "        inputs=[extractor_block_input], \n",
        "        outputs=[extractor_block_output]\n",
        "    )(input_layer)"
      ],
      "execution_count": 0,
      "outputs": []
    },
    {
      "metadata": {
        "id": "PHbVmJqTSdxU",
        "colab_type": "code",
        "colab": {
          "autoexec": {
            "startup": false,
            "wait_interval": 0
          }
        }
      },
      "cell_type": "code",
      "source": [
        "def classification_block(input_layer, dropout_rate = 0.2):\n",
        "      \n",
        "    model = Dense(256, activation = 'linear', kernel_initializer = 'he_normal')(input_layer)\n",
        "    model = BatchNormalization()(model)\n",
        "    model = ELU()(model)\n",
        "    model = Dropout(dropout_rate)(model)\n",
        "    \n",
        "    model = Dense(256, activation = 'linear', kernel_initializer = 'he_normal')(model)\n",
        "    model = BatchNormalization()(model)\n",
        "    model = ELU()(model)\n",
        "    model = Dropout(dropout_rate)(model)\n",
        "\n",
        "    classification_block_output = Dense(6, activation='sigmoid', kernel_initializer = 'glorot_normal')(model)\n",
        "    \n",
        "    return classification_block_output"
      ],
      "execution_count": 0,
      "outputs": []
    },
    {
      "metadata": {
        "id": "LTFG7OgsXynw",
        "colab_type": "code",
        "colab": {
          "autoexec": {
            "startup": false,
            "wait_interval": 0
          },
          "base_uri": "https://localhost:8080/",
          "height": 835
        },
        "outputId": "89403b25-b5f6-4fdc-c850-1f1781f1d8c5",
        "executionInfo": {
          "status": "ok",
          "timestamp": 1532544183965,
          "user_tz": -120,
          "elapsed": 4220,
          "user": {
            "displayName": "Deep Learning",
            "photoUrl": "https://lh3.googleusercontent.com/a/default-user=s128",
            "userId": "110970714976109420834"
          }
        }
      },
      "cell_type": "code",
      "source": [
        "max_words= 30000\n",
        "max_words_length = 400\n",
        "embedding_dimension = 300\n",
        "\n",
        "input_layer = Input(shape=(max_words_length,))\n",
        "\n",
        "pretrained_embedding_layer = Embedding(\n",
        "    max_words, \n",
        "    output_dim=embedding_dimension, \n",
        "    input_length=max_words_length,\n",
        "    weights = [np.load('fast_text_embeddings.npy')],\n",
        "    trainable = False\n",
        ")(input_layer)\n",
        "pretrained_embedding_layer = SpatialDropout1D(0.2)(pretrained_embedding_layer)\n",
        "\n",
        "custom_embedding_layer = Embedding(\n",
        "    max_words, \n",
        "    output_dim=embedding_dimension, \n",
        "    input_length=max_words_length,\n",
        "    weights = [np.load('custom_fast_text_embeddings.npy')],\n",
        "    trainable = False\n",
        ")(input_layer)\n",
        "\n",
        "custom_embedding_layer = SpatialDropout1D(0.2)(custom_embedding_layer)\n",
        "\n",
        "averaged_embedding_layer = Average()([pretrained_embedding_layer, custom_embedding_layer])\n",
        "averaged_embedding_layer = SpatialDropout1D(0.2)(averaged_embedding_layer)\n",
        "\n",
        "model = residual_block(averaged_embedding_layer, should_pool = False)\n",
        "model = residual_block(model, should_pool = False)\n",
        "\n",
        "output_layer = yoon_kim_feature_extractor(model, residual_convolution_options['filters'])\n",
        "output_layer = classification_block(output_layer)\n",
        "\n",
        "model = Model(input_layer, output_layer)\n",
        "\n",
        "model.compile(loss='binary_crossentropy', \n",
        "            optimizer='Adam',\n",
        "            metrics=['accuracy'])          \n",
        "\n",
        "model.summary()"
      ],
      "execution_count": 12,
      "outputs": [
        {
          "output_type": "stream",
          "text": [
            "__________________________________________________________________________________________________\n",
            "Layer (type)                    Output Shape         Param #     Connected to                     \n",
            "==================================================================================================\n",
            "input_1 (InputLayer)            (None, 400)          0                                            \n",
            "__________________________________________________________________________________________________\n",
            "embedding_1 (Embedding)         (None, 400, 300)     9000000     input_1[0][0]                    \n",
            "__________________________________________________________________________________________________\n",
            "embedding_2 (Embedding)         (None, 400, 300)     9000000     input_1[0][0]                    \n",
            "__________________________________________________________________________________________________\n",
            "spatial_dropout1d_1 (SpatialDro (None, 400, 300)     0           embedding_1[0][0]                \n",
            "__________________________________________________________________________________________________\n",
            "spatial_dropout1d_2 (SpatialDro (None, 400, 300)     0           embedding_2[0][0]                \n",
            "__________________________________________________________________________________________________\n",
            "average_1 (Average)             (None, 400, 300)     0           spatial_dropout1d_1[0][0]        \n",
            "                                                                 spatial_dropout1d_2[0][0]        \n",
            "__________________________________________________________________________________________________\n",
            "spatial_dropout1d_3 (SpatialDro (None, 400, 300)     0           average_1[0][0]                  \n",
            "__________________________________________________________________________________________________\n",
            "model_3 (Model)                 (None, 400, 300)     183000      spatial_dropout1d_3[0][0]        \n",
            "__________________________________________________________________________________________________\n",
            "model_6 (Model)                 (None, 400, 300)     183000      model_3[1][0]                    \n",
            "__________________________________________________________________________________________________\n",
            "model_7 (Model)                 (None, 1200)         996000      model_6[1][0]                    \n",
            "__________________________________________________________________________________________________\n",
            "dense_1 (Dense)                 (None, 256)          307456      model_7[1][0]                    \n",
            "__________________________________________________________________________________________________\n",
            "batch_normalization_9 (BatchNor (None, 256)          1024        dense_1[0][0]                    \n",
            "__________________________________________________________________________________________________\n",
            "elu_5 (ELU)                     (None, 256)          0           batch_normalization_9[0][0]      \n",
            "__________________________________________________________________________________________________\n",
            "dropout_2 (Dropout)             (None, 256)          0           elu_5[0][0]                      \n",
            "__________________________________________________________________________________________________\n",
            "dense_2 (Dense)                 (None, 256)          65792       dropout_2[0][0]                  \n",
            "__________________________________________________________________________________________________\n",
            "batch_normalization_10 (BatchNo (None, 256)          1024        dense_2[0][0]                    \n",
            "__________________________________________________________________________________________________\n",
            "elu_6 (ELU)                     (None, 256)          0           batch_normalization_10[0][0]     \n",
            "__________________________________________________________________________________________________\n",
            "dropout_3 (Dropout)             (None, 256)          0           elu_6[0][0]                      \n",
            "__________________________________________________________________________________________________\n",
            "dense_3 (Dense)                 (None, 6)            1542        dropout_3[0][0]                  \n",
            "==================================================================================================\n",
            "Total params: 19,738,838\n",
            "Trainable params: 1,733,014\n",
            "Non-trainable params: 18,005,824\n",
            "__________________________________________________________________________________________________\n"
          ],
          "name": "stdout"
        }
      ]
    },
    {
      "metadata": {
        "id": "xwMmTewgXynz",
        "colab_type": "code",
        "colab": {
          "autoexec": {
            "startup": false,
            "wait_interval": 0
          },
          "base_uri": "https://localhost:8080/",
          "height": 904
        },
        "outputId": "f6330cc3-ea72-4a89-a0af-035269bdb08c"
      },
      "cell_type": "code",
      "source": [
        "history = train_with_cv(model, batchSize=32, rocEvery = 2)"
      ],
      "execution_count": 0,
      "outputs": [
        {
          "output_type": "stream",
          "text": [
            "Train on 102124 samples, validate on 25532 samples\n",
            "Epoch 1/32\n",
            " 21408/102124 [=====>........................] - ETA: 7:08 - loss: 0.1205 - acc: 0.9592"
          ],
          "name": "stdout"
        },
        {
          "output_type": "stream",
          "text": [
            "102112/102124 [============================>.] - ETA: 0s - loss: 0.0758 - acc: 0.9738"
          ],
          "name": "stdout"
        },
        {
          "output_type": "stream",
          "text": [
            "102124/102124 [==============================] - 564s 6ms/step - loss: 0.0759 - acc: 0.9737 - val_loss: 0.0545 - val_acc: 0.9785\n",
            "Epoch 2/32\n",
            " 14048/102124 [===>..........................] - ETA: 7:29 - loss: 0.0578 - acc: 0.9792"
          ],
          "name": "stdout"
        },
        {
          "output_type": "stream",
          "text": [
            "102112/102124 [============================>.] - ETA: 0s - loss: 0.0556 - acc: 0.9798"
          ],
          "name": "stdout"
        },
        {
          "output_type": "stream",
          "text": [
            "102124/102124 [==============================] - 560s 5ms/step - loss: 0.0556 - acc: 0.9798 - val_loss: 0.0464 - val_acc: 0.9824\n",
            "roc-auc: 0.9825 - roc-auc_val: 0.9796                                                                                                    \n",
            "Epoch 3/32\n",
            "  8736/102124 [=>............................] - ETA: 7:55 - loss: 0.0531 - acc: 0.9803"
          ],
          "name": "stdout"
        },
        {
          "output_type": "stream",
          "text": [
            "102112/102124 [============================>.] - ETA: 0s - loss: 0.0522 - acc: 0.9807"
          ],
          "name": "stdout"
        },
        {
          "output_type": "stream",
          "text": [
            "102124/102124 [==============================] - 560s 5ms/step - loss: 0.0522 - acc: 0.9807 - val_loss: 0.0452 - val_acc: 0.9828\n",
            "Epoch 4/32\n",
            " 14048/102124 [===>..........................] - ETA: 7:29 - loss: 0.0509 - acc: 0.9810"
          ],
          "name": "stdout"
        },
        {
          "output_type": "stream",
          "text": [
            "102112/102124 [============================>.] - ETA: 0s - loss: 0.0499 - acc: 0.9813"
          ],
          "name": "stdout"
        },
        {
          "output_type": "stream",
          "text": [
            "102124/102124 [==============================] - 559s 5ms/step - loss: 0.0499 - acc: 0.9813 - val_loss: 0.0443 - val_acc: 0.9827\n",
            "roc-auc: 0.9862 - roc-auc_val: 0.9826                                                                                                    \n",
            "Epoch 5/32\n",
            "  8736/102124 [=>............................] - ETA: 7:56 - loss: 0.0511 - acc: 0.9806"
          ],
          "name": "stdout"
        },
        {
          "output_type": "stream",
          "text": [
            "102112/102124 [============================>.] - ETA: 0s - loss: 0.0482 - acc: 0.9817"
          ],
          "name": "stdout"
        },
        {
          "output_type": "stream",
          "text": [
            "102124/102124 [==============================] - 560s 5ms/step - loss: 0.0482 - acc: 0.9817 - val_loss: 0.0431 - val_acc: 0.9833\n",
            "Epoch 6/32\n",
            " 14048/102124 [===>..........................] - ETA: 7:28 - loss: 0.0476 - acc: 0.9817"
          ],
          "name": "stdout"
        },
        {
          "output_type": "stream",
          "text": [
            "102112/102124 [============================>.] - ETA: 0s - loss: 0.0466 - acc: 0.9823"
          ],
          "name": "stdout"
        },
        {
          "output_type": "stream",
          "text": [
            "102124/102124 [==============================] - 560s 5ms/step - loss: 0.0466 - acc: 0.9823 - val_loss: 0.0424 - val_acc: 0.9833\n",
            "roc-auc: 0.9893 - roc-auc_val: 0.9861                                                                                                    \n",
            "Epoch 7/32\n",
            "  8736/102124 [=>............................] - ETA: 7:55 - loss: 0.0451 - acc: 0.9824"
          ],
          "name": "stdout"
        },
        {
          "output_type": "stream",
          "text": [
            "102112/102124 [============================>.] - ETA: 0s - loss: 0.0456 - acc: 0.9824"
          ],
          "name": "stdout"
        },
        {
          "output_type": "stream",
          "text": [
            "102124/102124 [==============================] - 559s 5ms/step - loss: 0.0456 - acc: 0.9824 - val_loss: 0.0422 - val_acc: 0.9835\n",
            "Epoch 8/32\n",
            " 14048/102124 [===>..........................] - ETA: 7:28 - loss: 0.0431 - acc: 0.9833"
          ],
          "name": "stdout"
        },
        {
          "output_type": "stream",
          "text": [
            "102112/102124 [============================>.] - ETA: 0s - loss: 0.0445 - acc: 0.9827"
          ],
          "name": "stdout"
        },
        {
          "output_type": "stream",
          "text": [
            "102124/102124 [==============================] - 560s 5ms/step - loss: 0.0445 - acc: 0.9827 - val_loss: 0.0414 - val_acc: 0.9842\n",
            "roc-auc: 0.9907 - roc-auc_val: 0.9867                                                                                                    \n",
            "Epoch 9/32\n",
            "  8736/102124 [=>............................] - ETA: 7:55 - loss: 0.0431 - acc: 0.9827"
          ],
          "name": "stdout"
        },
        {
          "output_type": "stream",
          "text": [
            "102112/102124 [============================>.] - ETA: 0s - loss: 0.0437 - acc: 0.9829"
          ],
          "name": "stdout"
        },
        {
          "output_type": "stream",
          "text": [
            "102124/102124 [==============================] - 559s 5ms/step - loss: 0.0437 - acc: 0.9829 - val_loss: 0.0411 - val_acc: 0.9838\n",
            "Epoch 10/32\n",
            " 13984/102124 [===>..........................] - ETA: 7:29 - loss: 0.0448 - acc: 0.9823"
          ],
          "name": "stdout"
        },
        {
          "output_type": "stream",
          "text": [
            "102112/102124 [============================>.] - ETA: 0s - loss: 0.0428 - acc: 0.9833"
          ],
          "name": "stdout"
        },
        {
          "output_type": "stream",
          "text": [
            "102124/102124 [==============================] - 560s 5ms/step - loss: 0.0428 - acc: 0.9833 - val_loss: 0.0405 - val_acc: 0.9843\n",
            "roc-auc: 0.9916 - roc-auc_val: 0.9878                                                                                                    \n",
            "Epoch 11/32\n",
            "  8704/102124 [=>............................] - ETA: 7:57 - loss: 0.0409 - acc: 0.9836"
          ],
          "name": "stdout"
        },
        {
          "output_type": "stream",
          "text": [
            "102112/102124 [============================>.] - ETA: 0s - loss: 0.0420 - acc: 0.9836"
          ],
          "name": "stdout"
        },
        {
          "output_type": "stream",
          "text": [
            "102124/102124 [==============================] - 560s 5ms/step - loss: 0.0420 - acc: 0.9836 - val_loss: 0.0413 - val_acc: 0.9837\n",
            "Epoch 12/32\n",
            " 13984/102124 [===>..........................] - ETA: 7:29 - loss: 0.0415 - acc: 0.9842"
          ],
          "name": "stdout"
        },
        {
          "output_type": "stream",
          "text": [
            "102112/102124 [============================>.] - ETA: 0s - loss: 0.0418 - acc: 0.9839"
          ],
          "name": "stdout"
        },
        {
          "output_type": "stream",
          "text": [
            "\b\b\b\b\b\b\b\b\b\b\b\b\b\b\b\b\b\b\b\b\b\b\b\b\b\b\b\b\b\b\b\b\b\b\b\b\b\b\b\b\b\b\b\b\b\b\b\b\b\b\b\b\b\b\b\b\b\b\b\b\b\b\b\b\b\b\b\b\b\b\b\b\b\b\b\b\b\b\b\b\b\b\b\b\b\r102124/102124 [==============================] - 560s 5ms/step - loss: 0.0418 - acc: 0.9839 - val_loss: 0.0408 - val_acc: 0.9841\n",
            "\n",
            "Epoch 00012: ReduceLROnPlateau reducing learning rate to 0.0001593200722709298.\n",
            "roc-auc: 0.9921 - roc-auc_val: 0.9878                                                                                                    \n",
            "Epoch 13/32\n",
            "  5952/102124 [>.............................] - ETA: 8:10 - loss: 0.0393 - acc: 0.9851"
          ],
          "name": "stdout"
        },
        {
          "output_type": "stream",
          "text": [
            "102112/102124 [============================>.] - ETA: 0s - loss: 0.0411 - acc: 0.9841"
          ],
          "name": "stdout"
        },
        {
          "output_type": "stream",
          "text": [
            "\b\b\b\b\b\b\b\b\b\b\b\b\b\b\b\b\b\b\b\b\b\b\b\b\b\b\b\b\b\b\b\b\b\b\b\b\b\b\b\b\b\b\b\b\b\b\b\b\b\b\b\b\b\b\b\b\b\b\b\b\b\b\b\b\b\b\b\b\b\b\b\b\b\b\b\b\b\b\b\b\b\b\b\b\b\r102124/102124 [==============================] - 869s 9ms/step - loss: 0.0411 - acc: 0.9840 - val_loss: 0.0405 - val_acc: 0.9842\n",
            "Epoch 14/32\n",
            " 10112/102124 [=>............................] - ETA: 15:54 - loss: 0.0390 - acc: 0.9846"
          ],
          "name": "stdout"
        },
        {
          "output_type": "stream",
          "text": [
            "102112/102124 [============================>.] - ETA: 0s - loss: 0.0405 - acc: 0.9842"
          ],
          "name": "stdout"
        },
        {
          "output_type": "stream",
          "text": [
            "102124/102124 [==============================] - 1130s 11ms/step - loss: 0.0405 - acc: 0.9842 - val_loss: 0.0413 - val_acc: 0.9836\n",
            "roc-auc: 0.9925 - roc-auc_val: 0.9879                                                                                                    \n",
            "Epoch 15/32\n",
            "  8608/102124 [=>............................] - ETA: 15:58 - loss: 0.0418 - acc: 0.9832"
          ],
          "name": "stdout"
        },
        {
          "output_type": "stream",
          "text": [
            "102112/102124 [============================>.] - ETA: 0s - loss: 0.0402 - acc: 0.9841"
          ],
          "name": "stdout"
        },
        {
          "output_type": "stream",
          "text": [
            "\b\b\b\b\b\b\b\b\b\b\b\b\b\b\b\b\b\b\b\b\b\b\b\b\b\b\b\b\b\b\b\b\b\b\b\b\b\b\b\b\b\b\b\b\b\b\b\b\b\b\b\b\b\b\b\b\b\b\b\b\b\b\b\b\b\b\b\b\b\b\b\b\b\b\b\b\b\b\b\b\b\b\b\b\b\r102124/102124 [==============================] - 1124s 11ms/step - loss: 0.0402 - acc: 0.9841 - val_loss: 0.0410 - val_acc: 0.9838\n",
            "Epoch 16/32\n",
            " 10048/102124 [=>............................] - ETA: 15:42 - loss: 0.0405 - acc: 0.9839"
          ],
          "name": "stdout"
        },
        {
          "output_type": "stream",
          "text": [
            "102112/102124 [============================>.] - ETA: 0s - loss: 0.0399 - acc: 0.9843"
          ],
          "name": "stdout"
        },
        {
          "output_type": "stream",
          "text": [
            "102124/102124 [==============================] - 1120s 11ms/step - loss: 0.0399 - acc: 0.9843 - val_loss: 0.0403 - val_acc: 0.9845\n",
            "roc-auc: 0.9932 - roc-auc_val: 0.9882                                                                                                    \n",
            "Epoch 17/32\n",
            "  8608/102124 [=>............................] - ETA: 15:58 - loss: 0.0397 - acc: 0.9846"
          ],
          "name": "stdout"
        },
        {
          "output_type": "stream",
          "text": [
            "102112/102124 [============================>.] - ETA: 0s - loss: 0.0392 - acc: 0.9846"
          ],
          "name": "stdout"
        },
        {
          "output_type": "stream",
          "text": [
            "\b\b\b\b\b\b\b\b\b\b\b\b\b\b\b\b\b\b\b\b\b\b\b\b\b\b\b\b\b\b\b\b\b\b\b\b\b\b\b\b\b\b\b\b\b\b\b\b\b\b\b\b\b\b\b\b\b\b\b\b\b\b\b\b\b\b\b\b\b\b\b\b\b\b\b\b\b\b\b\b\b\b\b\b\b\r102124/102124 [==============================] - 1126s 11ms/step - loss: 0.0392 - acc: 0.9846 - val_loss: 0.0405 - val_acc: 0.9842\n",
            "Epoch 18/32\n",
            " 10048/102124 [=>............................] - ETA: 15:47 - loss: 0.0369 - acc: 0.9851"
          ],
          "name": "stdout"
        },
        {
          "output_type": "stream",
          "text": [
            "102112/102124 [============================>.] - ETA: 0s - loss: 0.0389 - acc: 0.9846"
          ],
          "name": "stdout"
        },
        {
          "output_type": "stream",
          "text": [
            "102124/102124 [==============================] - 1124s 11ms/step - loss: 0.0389 - acc: 0.9846 - val_loss: 0.0405 - val_acc: 0.9842\n",
            "roc-auc: 0.9934 - roc-auc_val: 0.988                                                                                                    \n",
            "Epoch 19/32\n",
            "  8640/102124 [=>............................] - ETA: 15:58 - loss: 0.0382 - acc: 0.9848"
          ],
          "name": "stdout"
        },
        {
          "output_type": "stream",
          "text": [
            " 21568/102124 [=====>........................] - ETA: 13:43 - loss: 0.0390 - acc: 0.9844Buffered data was truncated after reaching the output size limit."
          ],
          "name": "stdout"
        }
      ]
    },
    {
      "metadata": {
        "id": "izWCJ3HMReV3",
        "colab_type": "code",
        "colab": {
          "autoexec": {
            "startup": false,
            "wait_interval": 0
          }
        }
      },
      "cell_type": "code",
      "source": [
        "plot_history(history)"
      ],
      "execution_count": 0,
      "outputs": []
    },
    {
      "metadata": {
        "id": "r2gtMBj2Tp9A",
        "colab_type": "code",
        "colab": {
          "autoexec": {
            "startup": false,
            "wait_interval": 0
          }
        }
      },
      "cell_type": "code",
      "source": [
        "print(evaluate_on_test(model))"
      ],
      "execution_count": 0,
      "outputs": []
    }
  ]
}
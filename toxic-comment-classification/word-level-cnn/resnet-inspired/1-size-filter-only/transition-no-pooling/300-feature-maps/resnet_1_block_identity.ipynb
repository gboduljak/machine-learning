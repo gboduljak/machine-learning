{
  "nbformat": 4,
  "nbformat_minor": 0,
  "metadata": {
    "colab": {
      "name": "resnet_1_block_identity.ipynb",
      "version": "0.3.2",
      "views": {},
      "default_view": {},
      "provenance": [],
      "collapsed_sections": []
    },
    "kernelspec": {
      "display_name": "Python 3",
      "language": "python",
      "name": "python3"
    },
    "accelerator": "GPU"
  },
  "cells": [
    {
      "metadata": {
        "id": "yS1FnhiWX3Js",
        "colab_type": "code",
        "colab": {
          "autoexec": {
            "startup": false,
            "wait_interval": 0
          },
          "base_uri": "https://localhost:8080/",
          "height": 297
        },
        "outputId": "c12722bc-44ca-4edf-9cb2-1a0b8be7ca63",
        "executionInfo": {
          "status": "ok",
          "timestamp": 1532563149701,
          "user_tz": -120,
          "elapsed": 9519,
          "user": {
            "displayName": "Gabrijel Boduljak",
            "photoUrl": "//lh5.googleusercontent.com/-PD9SrWcnqqA/AAAAAAAAAAI/AAAAAAAAAog/cQI0fcnyp_g/s50-c-k-no/photo.jpg",
            "userId": "107143472008987249570"
          }
        }
      },
      "cell_type": "code",
      "source": [
        "!pip install keras\n",
        "!pip install sklearn\n",
        "!pip install matplotlib\n",
        "!pip install -U -q PyDrive"
      ],
      "execution_count": 1,
      "outputs": [
        {
          "output_type": "stream",
          "text": [
            "Requirement already satisfied: keras in /usr/local/lib/python3.6/dist-packages (2.1.6)\n",
            "Requirement already satisfied: h5py in /usr/local/lib/python3.6/dist-packages (from keras) (2.8.0)\n",
            "Requirement already satisfied: pyyaml in /usr/local/lib/python3.6/dist-packages (from keras) (3.13)\n",
            "Requirement already satisfied: six>=1.9.0 in /usr/local/lib/python3.6/dist-packages (from keras) (1.11.0)\n",
            "Requirement already satisfied: numpy>=1.9.1 in /usr/local/lib/python3.6/dist-packages (from keras) (1.14.5)\n",
            "Requirement already satisfied: scipy>=0.14 in /usr/local/lib/python3.6/dist-packages (from keras) (0.19.1)\n",
            "Requirement already satisfied: sklearn in /usr/local/lib/python3.6/dist-packages (0.0)\n",
            "Requirement already satisfied: scikit-learn in /usr/local/lib/python3.6/dist-packages (from sklearn) (0.19.2)\n",
            "Requirement already satisfied: matplotlib in /usr/local/lib/python3.6/dist-packages (2.1.2)\n",
            "Requirement already satisfied: python-dateutil>=2.1 in /usr/local/lib/python3.6/dist-packages (from matplotlib) (2.5.3)\n",
            "Requirement already satisfied: pyparsing!=2.0.4,!=2.1.2,!=2.1.6,>=2.0.1 in /usr/local/lib/python3.6/dist-packages (from matplotlib) (2.2.0)\n",
            "Requirement already satisfied: cycler>=0.10 in /usr/local/lib/python3.6/dist-packages (from matplotlib) (0.10.0)\n",
            "Requirement already satisfied: six>=1.10 in /usr/local/lib/python3.6/dist-packages (from matplotlib) (1.11.0)\n",
            "Requirement already satisfied: pytz in /usr/local/lib/python3.6/dist-packages (from matplotlib) (2018.5)\n",
            "Requirement already satisfied: numpy>=1.7.1 in /usr/local/lib/python3.6/dist-packages (from matplotlib) (1.14.5)\n"
          ],
          "name": "stdout"
        }
      ]
    },
    {
      "metadata": {
        "id": "xlKzkDJFrjA-",
        "colab_type": "code",
        "colab": {
          "autoexec": {
            "startup": false,
            "wait_interval": 0
          },
          "base_uri": "https://localhost:8080/",
          "height": 35
        },
        "outputId": "61fff230-16d2-4747-f00c-3620dc4b4d37",
        "executionInfo": {
          "status": "ok",
          "timestamp": 1532563151579,
          "user_tz": -120,
          "elapsed": 1672,
          "user": {
            "displayName": "Gabrijel Boduljak",
            "photoUrl": "//lh5.googleusercontent.com/-PD9SrWcnqqA/AAAAAAAAAAI/AAAAAAAAAog/cQI0fcnyp_g/s50-c-k-no/photo.jpg",
            "userId": "107143472008987249570"
          }
        }
      },
      "cell_type": "code",
      "source": [
        "from keras import backend as K\n",
        "K.clear_session()"
      ],
      "execution_count": 2,
      "outputs": [
        {
          "output_type": "stream",
          "text": [
            "Using TensorFlow backend.\n"
          ],
          "name": "stderr"
        }
      ]
    },
    {
      "metadata": {
        "id": "eQEKwl4oAxO7",
        "colab_type": "code",
        "colab": {
          "autoexec": {
            "startup": false,
            "wait_interval": 0
          }
        }
      },
      "cell_type": "code",
      "source": [
        "from keras import backend as K\n",
        "cfg = K.tf.ConfigProto()\n",
        "cfg.gpu_options.allow_growth = True\n",
        "K.set_session(K.tf.Session(config=cfg))"
      ],
      "execution_count": 0,
      "outputs": []
    },
    {
      "metadata": {
        "id": "12M0egCCX-27",
        "colab_type": "code",
        "colab": {
          "autoexec": {
            "startup": false,
            "wait_interval": 0
          }
        }
      },
      "cell_type": "code",
      "source": [
        "from pydrive.auth import GoogleAuth\n",
        "from pydrive.drive import GoogleDrive\n",
        "from google.colab import auth\n",
        "from oauth2client.client import GoogleCredentials\n",
        "\n",
        "auth.authenticate_user()\n",
        "gauth = GoogleAuth()\n",
        "gauth.credentials = GoogleCredentials.get_application_default()\n",
        "drive = GoogleDrive(gauth)"
      ],
      "execution_count": 0,
      "outputs": []
    },
    {
      "metadata": {
        "id": "4lN2WTUEYBYv",
        "colab_type": "code",
        "colab": {
          "autoexec": {
            "startup": false,
            "wait_interval": 0
          }
        }
      },
      "cell_type": "code",
      "source": [
        "file_import = drive.CreateFile({'id':'1p1bsltfTcIrZ_kfE6kwGTPzcdXorHbb2'})\n",
        "file_import.GetContentFile('colab_setup.py') \n",
        "from colab_setup import setup\n",
        "\n",
        "setup(drive)"
      ],
      "execution_count": 0,
      "outputs": []
    },
    {
      "metadata": {
        "id": "cHBlD0tVj2TY",
        "colab_type": "code",
        "colab": {
          "autoexec": {
            "startup": false,
            "wait_interval": 0
          },
          "base_uri": "https://localhost:8080/",
          "height": 121
        },
        "outputId": "bf07c485-3423-49c9-efa4-a7031336d16b",
        "executionInfo": {
          "status": "ok",
          "timestamp": 1532563180667,
          "user_tz": -120,
          "elapsed": 1738,
          "user": {
            "displayName": "Gabrijel Boduljak",
            "photoUrl": "//lh5.googleusercontent.com/-PD9SrWcnqqA/AAAAAAAAAAI/AAAAAAAAAog/cQI0fcnyp_g/s50-c-k-no/photo.jpg",
            "userId": "107143472008987249570"
          }
        }
      },
      "cell_type": "code",
      "source": [
        "!ls"
      ],
      "execution_count": 6,
      "outputs": [
        {
          "output_type": "stream",
          "text": [
            "colab_setup.py\t\t\t roc_auc_callback.py\tX_train.npy\r\n",
            "custom_fast_text_embeddings.npy  sample_submission.csv\tX_val.npy\r\n",
            "datalab\t\t\t\t train_model.py\t\ty_test.npy\r\n",
            "fast_text_embeddings.npy\t X_submission.npy\ty_train_full.npy\r\n",
            "plot_history.py\t\t\t X_test.npy\t\ty_train.npy\r\n",
            "__pycache__\t\t\t X_train_full.npy\ty_val.npy\r\n"
          ],
          "name": "stdout"
        }
      ]
    },
    {
      "metadata": {
        "id": "yMwWPTMYXyno",
        "colab_type": "code",
        "colab": {
          "autoexec": {
            "startup": false,
            "wait_interval": 0
          }
        }
      },
      "cell_type": "code",
      "source": [
        "import numpy as np\n",
        "import os\n",
        "\n",
        "from plot_history import plot_history\n",
        "from roc_auc_callback import RocAucCallback\n",
        "from train_model import train_with_cv, train_with_submitting, evaluate_on_test\n",
        "\n",
        "from keras.layers import *\n",
        "from keras.layers.merge import *\n",
        "from keras.initializers import *\n",
        "from keras.models import Model"
      ],
      "execution_count": 0,
      "outputs": []
    },
    {
      "metadata": {
        "id": "irwBTJdINU0J",
        "colab_type": "code",
        "colab": {
          "autoexec": {
            "startup": false,
            "wait_interval": 0
          }
        }
      },
      "cell_type": "code",
      "source": [
        "from keras.optimizers import *\n",
        "from keras.initializers import *\n",
        "from keras.layers import *\n",
        "from keras.layers.merge import *\n",
        "from keras.models import *\n",
        "\n",
        "residual_convolution_options = dict({\n",
        "    'dropout_mode': 'spatial',\n",
        "    'dropout_rate': 0.2,\n",
        "    'filters': 300,\n",
        "    'kernel_size': 1,\n",
        "    'strides': 1,\n",
        "    'padding': 'same',\n",
        "    'activation': 'elu',\n",
        "    'should_preactivate': True\n",
        "})\n",
        "\n",
        "def convolution_block(input_layer, options):\n",
        "    convolution_input = Input(shape=[\n",
        "        int(input_layer.shape[1]),\n",
        "        int(input_layer.shape[2])\n",
        "    ])\n",
        "\n",
        "    convolution_block = convolution_input\n",
        "\n",
        "    if(options['should_preactivate']):\n",
        "        convolution_block = BatchNormalization()(convolution_block)\n",
        "        convolution_block = Activation(options['activation'])(convolution_block)\n",
        "        convolution_block = Conv1D(options['filters'], options['kernel_size'], strides=options['strides'],\n",
        "                                   padding=options['padding'], activation='linear', kernel_initializer='he_normal')(convolution_block)\n",
        "    else:\n",
        "        convolution_block = Conv1D(options['filters'], options['kernel_size'], strides=options['strides'],\n",
        "                                   padding=options['padding'], activation='linear', kernel_initializer='he_normal')(convolution_block)\n",
        "        convolution_block = BatchNormalization()(convolution_block)\n",
        "        convolution_block = Activation(options['activation'])(convolution_block)\n",
        "\n",
        "    convolution_output = convolution_block\n",
        "\n",
        "    if(options['dropout_mode'] == 'spatial'):\n",
        "        convolution_output = SpatialDropout1D(options['dropout_rate'])(convolution_output)\n",
        "    if(options['dropout_mode']== 'vanilla'):\n",
        "        convolution_output = Dropout(options['dropout_rate'])(convolution_output)\n",
        "\n",
        "    return Model(inputs=[convolution_input], outputs=[convolution_output])(input_layer)"
      ],
      "execution_count": 0,
      "outputs": []
    },
    {
      "metadata": {
        "id": "sD9D5r9-Sdg7",
        "colab_type": "code",
        "colab": {
          "autoexec": {
            "startup": false,
            "wait_interval": 0
          }
        }
      },
      "cell_type": "code",
      "source": [
        "def residual_block(input_layer, should_pool):\n",
        "    convolution_input = Input(shape=[\n",
        "        int(input_layer.shape[1]),\n",
        "        int(input_layer.shape[2])\n",
        "    ])\n",
        "    residual_block = convolution_input\n",
        "\n",
        "    if(should_pool):\n",
        "        residual_block = MaxPooling1D(pool_size=2, strides=2, padding='same')(residual_block)\n",
        "\n",
        "    residual_block = convolution_block(\n",
        "        residual_block, residual_convolution_options)\n",
        "    residual_block = convolution_block(\n",
        "        residual_block, residual_convolution_options)\n",
        "\n",
        "    convolution_output = add([residual_block, convolution_input])\n",
        "\n",
        "    return Model(inputs=[convolution_input], outputs=[convolution_output])(input_layer)"
      ],
      "execution_count": 0,
      "outputs": []
    },
    {
      "metadata": {
        "id": "xOfIVhpoSdpQ",
        "colab_type": "code",
        "colab": {
          "autoexec": {
            "startup": false,
            "wait_interval": 0
          }
        }
      },
      "cell_type": "code",
      "source": [
        "def yoon_kim_feature_extractor(input_layer, filters):\n",
        "    extractor_block_input = Input(shape=[\n",
        "        int(input_layer.shape[1]),\n",
        "        int(input_layer.shape[2])\n",
        "    ])\n",
        "\n",
        "    block_1_conv_1 = Conv1D(filters, 1, activation = 'linear', padding = 'same', kernel_initializer = 'he_normal')(extractor_block_input)\n",
        "    block_1_batchnorm1 = BatchNormalization()(block_1_conv_1)\n",
        "    block_1_batchnorm1 = ELU()(block_1_batchnorm1)\n",
        "    block_1_max_pool1 = GlobalMaxPooling1D()(block_1_batchnorm1)\n",
        "\n",
        "    block_1_conv_2 = Conv1D(filters, 2, activation = 'linear', padding = 'same', kernel_initializer = 'he_normal')(extractor_block_input)\n",
        "    block_1_batchnorm2 = BatchNormalization()(block_1_conv_2)\n",
        "    block_1_batchnorm2 = ELU()(block_1_batchnorm2)\n",
        "    block_1_max_pool2 = GlobalMaxPooling1D()(block_1_batchnorm2)\n",
        "\n",
        "    block_1_conv_3 = Conv1D(filters, 3, activation = 'linear', padding = 'same', kernel_initializer = 'he_normal')(extractor_block_input)\n",
        "    block_1_batchnorm3 = BatchNormalization()(block_1_conv_3)\n",
        "    block_1_batchnorm3 = ELU()(block_1_batchnorm3)\n",
        "    block_1_max_pool3 = GlobalMaxPooling1D()(block_1_batchnorm3)\n",
        "\n",
        "    block_1_conv_4 = Conv1D(filters, 5, activation = 'linear', padding = 'same', kernel_initializer = 'he_normal')(extractor_block_input)\n",
        "    block_1_batchnorm4 = BatchNormalization()(block_1_conv_4)\n",
        "    block_1_batchnorm4 = ELU()(block_1_batchnorm4)\n",
        "    block_1_max_pool4 = GlobalMaxPooling1D()(block_1_batchnorm4)\n",
        "\n",
        "    features = concatenate([\n",
        "        block_1_max_pool1, \n",
        "        block_1_max_pool2, \n",
        "        block_1_max_pool3, \n",
        "        block_1_max_pool4\n",
        "    ])\n",
        "    \n",
        "    extractor_block_output = Dropout(0.2)(features)\n",
        "    \n",
        "    return Model(\n",
        "        inputs=[extractor_block_input], \n",
        "        outputs=[extractor_block_output]\n",
        "    )(input_layer)"
      ],
      "execution_count": 0,
      "outputs": []
    },
    {
      "metadata": {
        "id": "PHbVmJqTSdxU",
        "colab_type": "code",
        "colab": {
          "autoexec": {
            "startup": false,
            "wait_interval": 0
          }
        }
      },
      "cell_type": "code",
      "source": [
        "def classification_block(input_layer, dropout_rate = 0.2):\n",
        "      \n",
        "    model = Dense(256, activation = 'linear', kernel_initializer = 'he_normal')(input_layer)\n",
        "    model = BatchNormalization()(model)\n",
        "    model = ELU()(model)\n",
        "    model = Dropout(dropout_rate)(model)\n",
        "    \n",
        "    model = Dense(256, activation = 'linear', kernel_initializer = 'he_normal')(model)\n",
        "    model = BatchNormalization()(model)\n",
        "    model = ELU()(model)\n",
        "    model = Dropout(dropout_rate)(model)\n",
        "\n",
        "    classification_block_output = Dense(6, activation='sigmoid', kernel_initializer = 'glorot_normal')(model)\n",
        "    \n",
        "    return classification_block_output"
      ],
      "execution_count": 0,
      "outputs": []
    },
    {
      "metadata": {
        "id": "LTFG7OgsXynw",
        "colab_type": "code",
        "colab": {
          "autoexec": {
            "startup": false,
            "wait_interval": 0
          },
          "base_uri": "https://localhost:8080/",
          "height": 800
        },
        "outputId": "07e21545-42e5-463c-a277-174a73b318f9",
        "executionInfo": {
          "status": "ok",
          "timestamp": 1532563188293,
          "user_tz": -120,
          "elapsed": 3461,
          "user": {
            "displayName": "Gabrijel Boduljak",
            "photoUrl": "//lh5.googleusercontent.com/-PD9SrWcnqqA/AAAAAAAAAAI/AAAAAAAAAog/cQI0fcnyp_g/s50-c-k-no/photo.jpg",
            "userId": "107143472008987249570"
          }
        }
      },
      "cell_type": "code",
      "source": [
        "max_words= 30000\n",
        "max_words_length = 400\n",
        "embedding_dimension = 300\n",
        "\n",
        "input_layer = Input(shape=(max_words_length,))\n",
        "\n",
        "pretrained_embedding_layer = Embedding(\n",
        "    max_words, \n",
        "    output_dim=embedding_dimension, \n",
        "    input_length=max_words_length,\n",
        "    weights = [np.load('fast_text_embeddings.npy')],\n",
        "    trainable = False\n",
        ")(input_layer)\n",
        "pretrained_embedding_layer = SpatialDropout1D(0.2)(pretrained_embedding_layer)\n",
        "\n",
        "custom_embedding_layer = Embedding(\n",
        "    max_words, \n",
        "    output_dim=embedding_dimension, \n",
        "    input_length=max_words_length,\n",
        "    weights = [np.load('custom_fast_text_embeddings.npy')],\n",
        "    trainable = False\n",
        ")(input_layer)\n",
        "\n",
        "custom_embedding_layer = SpatialDropout1D(0.2)(custom_embedding_layer)\n",
        "\n",
        "averaged_embedding_layer = Average()([pretrained_embedding_layer, custom_embedding_layer])\n",
        "averaged_embedding_layer = SpatialDropout1D(0.2)(averaged_embedding_layer)\n",
        "\n",
        "model = residual_block(averaged_embedding_layer, should_pool = False)\n",
        "\n",
        "output_layer = yoon_kim_feature_extractor(model, residual_convolution_options['filters'])\n",
        "output_layer = classification_block(output_layer)\n",
        "\n",
        "model = Model(input_layer, output_layer)\n",
        "\n",
        "model.compile(loss='binary_crossentropy', \n",
        "            optimizer='Adam',\n",
        "            metrics=['accuracy'])          \n",
        "\n",
        "model.summary()"
      ],
      "execution_count": 12,
      "outputs": [
        {
          "output_type": "stream",
          "text": [
            "__________________________________________________________________________________________________\n",
            "Layer (type)                    Output Shape         Param #     Connected to                     \n",
            "==================================================================================================\n",
            "input_1 (InputLayer)            (None, 400)          0                                            \n",
            "__________________________________________________________________________________________________\n",
            "embedding_1 (Embedding)         (None, 400, 300)     9000000     input_1[0][0]                    \n",
            "__________________________________________________________________________________________________\n",
            "embedding_2 (Embedding)         (None, 400, 300)     9000000     input_1[0][0]                    \n",
            "__________________________________________________________________________________________________\n",
            "spatial_dropout1d_1 (SpatialDro (None, 400, 300)     0           embedding_1[0][0]                \n",
            "__________________________________________________________________________________________________\n",
            "spatial_dropout1d_2 (SpatialDro (None, 400, 300)     0           embedding_2[0][0]                \n",
            "__________________________________________________________________________________________________\n",
            "average_1 (Average)             (None, 400, 300)     0           spatial_dropout1d_1[0][0]        \n",
            "                                                                 spatial_dropout1d_2[0][0]        \n",
            "__________________________________________________________________________________________________\n",
            "spatial_dropout1d_3 (SpatialDro (None, 400, 300)     0           average_1[0][0]                  \n",
            "__________________________________________________________________________________________________\n",
            "model_3 (Model)                 (None, 400, 300)     183000      spatial_dropout1d_3[0][0]        \n",
            "__________________________________________________________________________________________________\n",
            "model_4 (Model)                 (None, 1200)         996000      model_3[1][0]                    \n",
            "__________________________________________________________________________________________________\n",
            "dense_1 (Dense)                 (None, 256)          307456      model_4[1][0]                    \n",
            "__________________________________________________________________________________________________\n",
            "batch_normalization_7 (BatchNor (None, 256)          1024        dense_1[0][0]                    \n",
            "__________________________________________________________________________________________________\n",
            "elu_5 (ELU)                     (None, 256)          0           batch_normalization_7[0][0]      \n",
            "__________________________________________________________________________________________________\n",
            "dropout_2 (Dropout)             (None, 256)          0           elu_5[0][0]                      \n",
            "__________________________________________________________________________________________________\n",
            "dense_2 (Dense)                 (None, 256)          65792       dropout_2[0][0]                  \n",
            "__________________________________________________________________________________________________\n",
            "batch_normalization_8 (BatchNor (None, 256)          1024        dense_2[0][0]                    \n",
            "__________________________________________________________________________________________________\n",
            "elu_6 (ELU)                     (None, 256)          0           batch_normalization_8[0][0]      \n",
            "__________________________________________________________________________________________________\n",
            "dropout_3 (Dropout)             (None, 256)          0           elu_6[0][0]                      \n",
            "__________________________________________________________________________________________________\n",
            "dense_3 (Dense)                 (None, 6)            1542        dropout_3[0][0]                  \n",
            "==================================================================================================\n",
            "Total params: 19,555,838\n",
            "Trainable params: 1,551,214\n",
            "Non-trainable params: 18,004,624\n",
            "__________________________________________________________________________________________________\n"
          ],
          "name": "stdout"
        }
      ]
    },
    {
      "metadata": {
        "id": "xwMmTewgXynz",
        "colab_type": "code",
        "colab": {
          "autoexec": {
            "startup": false,
            "wait_interval": 0
          },
          "base_uri": "https://localhost:8080/",
          "height": 1285
        },
        "outputId": "e66a587f-e08a-4d54-be75-a4c8f59763cd",
        "executionInfo": {
          "status": "ok",
          "timestamp": 1532558867174,
          "user_tz": -120,
          "elapsed": 14845882,
          "user": {
            "displayName": "Gabrijel Boduljak",
            "photoUrl": "//lh5.googleusercontent.com/-PD9SrWcnqqA/AAAAAAAAAAI/AAAAAAAAAog/cQI0fcnyp_g/s50-c-k-no/photo.jpg",
            "userId": "107143472008987249570"
          }
        }
      },
      "cell_type": "code",
      "source": [
        "history = train_with_cv(model, batchSize=32, rocEvery = 2)"
      ],
      "execution_count": 13,
      "outputs": [
        {
          "output_type": "stream",
          "text": [
            "Train on 102124 samples, validate on 25532 samples\n",
            "Epoch 1/32\n",
            " 21440/102124 [=====>........................] - ETA: 6:00 - loss: 0.1148 - acc: 0.9611"
          ],
          "name": "stdout"
        },
        {
          "output_type": "stream",
          "text": [
            "102112/102124 [============================>.] - ETA: 0s - loss: 0.0742 - acc: 0.9743"
          ],
          "name": "stdout"
        },
        {
          "output_type": "stream",
          "text": [
            "102124/102124 [==============================] - 478s 5ms/step - loss: 0.0742 - acc: 0.9743 - val_loss: 0.0603 - val_acc: 0.9760\n",
            "Epoch 2/32\n",
            " 14048/102124 [===>..........................] - ETA: 6:26 - loss: 0.0547 - acc: 0.9798"
          ],
          "name": "stdout"
        },
        {
          "output_type": "stream",
          "text": [
            "102112/102124 [============================>.] - ETA: 0s - loss: 0.0552 - acc: 0.9797"
          ],
          "name": "stdout"
        },
        {
          "output_type": "stream",
          "text": [
            "102124/102124 [==============================] - 477s 5ms/step - loss: 0.0552 - acc: 0.9797 - val_loss: 0.0460 - val_acc: 0.9823\n",
            "roc-auc: 0.9833 - roc-auc_val: 0.9804                                                                                                    \n",
            "Epoch 3/32\n",
            "  8736/102124 [=>............................] - ETA: 6:39 - loss: 0.0534 - acc: 0.9799"
          ],
          "name": "stdout"
        },
        {
          "output_type": "stream",
          "text": [
            "102112/102124 [============================>.] - ETA: 0s - loss: 0.0516 - acc: 0.9808"
          ],
          "name": "stdout"
        },
        {
          "output_type": "stream",
          "text": [
            "102124/102124 [==============================] - 473s 5ms/step - loss: 0.0516 - acc: 0.9808 - val_loss: 0.0478 - val_acc: 0.9814\n",
            "Epoch 4/32\n",
            " 14048/102124 [===>..........................] - ETA: 6:33 - loss: 0.0500 - acc: 0.9811"
          ],
          "name": "stdout"
        },
        {
          "output_type": "stream",
          "text": [
            "102112/102124 [============================>.] - ETA: 0s - loss: 0.0491 - acc: 0.9815"
          ],
          "name": "stdout"
        },
        {
          "output_type": "stream",
          "text": [
            "102124/102124 [==============================] - 474s 5ms/step - loss: 0.0491 - acc: 0.9815 - val_loss: 0.0447 - val_acc: 0.9826\n",
            "roc-auc: 0.989 - roc-auc_val: 0.9863                                                                                                    \n",
            "Epoch 5/32\n",
            "  8768/102124 [=>............................] - ETA: 6:38 - loss: 0.0465 - acc: 0.9827"
          ],
          "name": "stdout"
        },
        {
          "output_type": "stream",
          "text": [
            "102112/102124 [============================>.] - ETA: 0s - loss: 0.0471 - acc: 0.9822"
          ],
          "name": "stdout"
        },
        {
          "output_type": "stream",
          "text": [
            "102124/102124 [==============================] - 468s 5ms/step - loss: 0.0471 - acc: 0.9822 - val_loss: 0.0469 - val_acc: 0.9814\n",
            "Epoch 6/32\n",
            " 14048/102124 [===>..........................] - ETA: 6:16 - loss: 0.0457 - acc: 0.9827"
          ],
          "name": "stdout"
        },
        {
          "output_type": "stream",
          "text": [
            "102112/102124 [============================>.] - ETA: 0s - loss: 0.0459 - acc: 0.9825"
          ],
          "name": "stdout"
        },
        {
          "output_type": "stream",
          "text": [
            "102124/102124 [==============================] - 468s 5ms/step - loss: 0.0459 - acc: 0.9825 - val_loss: 0.0418 - val_acc: 0.9835\n",
            "roc-auc: 0.9903 - roc-auc_val: 0.987                                                                                                    \n",
            "Epoch 7/32\n",
            "  8768/102124 [=>............................] - ETA: 6:39 - loss: 0.0453 - acc: 0.9824"
          ],
          "name": "stdout"
        },
        {
          "output_type": "stream",
          "text": [
            "102112/102124 [============================>.] - ETA: 0s - loss: 0.0449 - acc: 0.9827"
          ],
          "name": "stdout"
        },
        {
          "output_type": "stream",
          "text": [
            "102124/102124 [==============================] - 469s 5ms/step - loss: 0.0449 - acc: 0.9827 - val_loss: 0.0428 - val_acc: 0.9832\n",
            "Epoch 8/32\n",
            " 14048/102124 [===>..........................] - ETA: 6:16 - loss: 0.0455 - acc: 0.9819"
          ],
          "name": "stdout"
        },
        {
          "output_type": "stream",
          "text": [
            "102112/102124 [============================>.] - ETA: 0s - loss: 0.0437 - acc: 0.9829"
          ],
          "name": "stdout"
        },
        {
          "output_type": "stream",
          "text": [
            "102124/102124 [==============================] - 470s 5ms/step - loss: 0.0437 - acc: 0.9829 - val_loss: 0.0414 - val_acc: 0.9839\n",
            "roc-auc: 0.9914 - roc-auc_val: 0.9875                                                                                                    \n",
            "Epoch 9/32\n",
            "  8736/102124 [=>............................] - ETA: 6:39 - loss: 0.0420 - acc: 0.9832"
          ],
          "name": "stdout"
        },
        {
          "output_type": "stream",
          "text": [
            "102112/102124 [============================>.] - ETA: 0s - loss: 0.0431 - acc: 0.9832"
          ],
          "name": "stdout"
        },
        {
          "output_type": "stream",
          "text": [
            "102124/102124 [==============================] - 470s 5ms/step - loss: 0.0431 - acc: 0.9832 - val_loss: 0.0409 - val_acc: 0.9840\n",
            "Epoch 10/32\n",
            " 13984/102124 [===>..........................] - ETA: 6:16 - loss: 0.0424 - acc: 0.9839"
          ],
          "name": "stdout"
        },
        {
          "output_type": "stream",
          "text": [
            "102112/102124 [============================>.] - ETA: 0s - loss: 0.0427 - acc: 0.9835"
          ],
          "name": "stdout"
        },
        {
          "output_type": "stream",
          "text": [
            "102124/102124 [==============================] - 470s 5ms/step - loss: 0.0427 - acc: 0.9835 - val_loss: 0.0436 - val_acc: 0.9826\n",
            "roc-auc: 0.9921 - roc-auc_val: 0.9881                                                                                                    \n",
            "Epoch 11/32\n",
            "  8704/102124 [=>............................] - ETA: 6:40 - loss: 0.0430 - acc: 0.9839"
          ],
          "name": "stdout"
        },
        {
          "output_type": "stream",
          "text": [
            "102112/102124 [============================>.] - ETA: 0s - loss: 0.0419 - acc: 0.9836"
          ],
          "name": "stdout"
        },
        {
          "output_type": "stream",
          "text": [
            "\b\b\b\b\b\b\b\b\b\b\b\b\b\b\b\b\b\b\b\b\b\b\b\b\b\b\b\b\b\b\b\b\b\b\b\b\b\b\b\b\b\b\b\b\b\b\b\b\b\b\b\b\b\b\b\b\b\b\b\b\b\b\b\b\b\b\b\b\b\b\b\b\b\b\b\b\b\b\b\b\b\b\b\b\b\r102124/102124 [==============================] - 470s 5ms/step - loss: 0.0419 - acc: 0.9836 - val_loss: 0.0421 - val_acc: 0.9833\n",
            "\n",
            "Epoch 00011: ReduceLROnPlateau reducing learning rate to 0.00017677669529803097.\n",
            "Epoch 12/32\n",
            "  8032/102124 [=>............................] - ETA: 6:43 - loss: 0.0403 - acc: 0.9847"
          ],
          "name": "stdout"
        },
        {
          "output_type": "stream",
          "text": [
            "102112/102124 [============================>.] - ETA: 0s - loss: 0.0409 - acc: 0.9840"
          ],
          "name": "stdout"
        },
        {
          "output_type": "stream",
          "text": [
            "102124/102124 [==============================] - 470s 5ms/step - loss: 0.0409 - acc: 0.9840 - val_loss: 0.0433 - val_acc: 0.9823\n",
            "roc-auc: 0.9926 - roc-auc_val: 0.988                                                                                                    \n",
            "Epoch 13/32\n",
            "  8736/102124 [=>............................] - ETA: 6:41 - loss: 0.0386 - acc: 0.9845"
          ],
          "name": "stdout"
        },
        {
          "output_type": "stream",
          "text": [
            "102112/102124 [============================>.] - ETA: 0s - loss: 0.0406 - acc: 0.9842"
          ],
          "name": "stdout"
        },
        {
          "output_type": "stream",
          "text": [
            "102124/102124 [==============================] - 471s 5ms/step - loss: 0.0406 - acc: 0.9842 - val_loss: 0.0410 - val_acc: 0.9838\n",
            "Epoch 14/32\n",
            " 13984/102124 [===>..........................] - ETA: 6:16 - loss: 0.0399 - acc: 0.9843"
          ],
          "name": "stdout"
        },
        {
          "output_type": "stream",
          "text": [
            "102112/102124 [============================>.] - ETA: 0s - loss: 0.0402 - acc: 0.9842"
          ],
          "name": "stdout"
        },
        {
          "output_type": "stream",
          "text": [
            "102124/102124 [==============================] - 470s 5ms/step - loss: 0.0402 - acc: 0.9842 - val_loss: 0.0409 - val_acc: 0.9838\n",
            "roc-auc: 0.9931 - roc-auc_val: 0.9882                                                                                                    \n",
            "Epoch 15/32\n",
            "  8704/102124 [=>............................] - ETA: 6:40 - loss: 0.0397 - acc: 0.9843"
          ],
          "name": "stdout"
        },
        {
          "output_type": "stream",
          "text": [
            "102112/102124 [============================>.] - ETA: 0s - loss: 0.0396 - acc: 0.9845"
          ],
          "name": "stdout"
        },
        {
          "output_type": "stream",
          "text": [
            "102124/102124 [==============================] - 470s 5ms/step - loss: 0.0396 - acc: 0.9845 - val_loss: 0.0406 - val_acc: 0.9840\n",
            "Epoch 16/32\n",
            " 13984/102124 [===>..........................] - ETA: 6:17 - loss: 0.0385 - acc: 0.9848"
          ],
          "name": "stdout"
        },
        {
          "output_type": "stream",
          "text": [
            "102112/102124 [============================>.] - ETA: 0s - loss: 0.0391 - acc: 0.9846"
          ],
          "name": "stdout"
        },
        {
          "output_type": "stream",
          "text": [
            "102124/102124 [==============================] - 470s 5ms/step - loss: 0.0391 - acc: 0.9846 - val_loss: 0.0403 - val_acc: 0.9842\n",
            "roc-auc: 0.9936 - roc-auc_val: 0.9883                                                                                                    \n",
            "Epoch 17/32\n",
            "  8704/102124 [=>............................] - ETA: 6:40 - loss: 0.0384 - acc: 0.9848"
          ],
          "name": "stdout"
        },
        {
          "output_type": "stream",
          "text": [
            "102112/102124 [============================>.] - ETA: 0s - loss: 0.0385 - acc: 0.9846"
          ],
          "name": "stdout"
        },
        {
          "output_type": "stream",
          "text": [
            "102124/102124 [==============================] - 469s 5ms/step - loss: 0.0386 - acc: 0.9846 - val_loss: 0.0402 - val_acc: 0.9842\n",
            "Epoch 18/32\n",
            " 13984/102124 [===>..........................] - ETA: 6:15 - loss: 0.0372 - acc: 0.9849"
          ],
          "name": "stdout"
        },
        {
          "output_type": "stream",
          "text": [
            "102112/102124 [============================>.] - ETA: 0s - loss: 0.0385 - acc: 0.9847"
          ],
          "name": "stdout"
        },
        {
          "output_type": "stream",
          "text": [
            "102124/102124 [==============================] - 469s 5ms/step - loss: 0.0385 - acc: 0.9847 - val_loss: 0.0406 - val_acc: 0.9840\n",
            "roc-auc: 0.994 - roc-auc_val: 0.9884                                                                                                    \n",
            "Epoch 19/32\n",
            "  8736/102124 [=>............................] - ETA: 6:39 - loss: 0.0379 - acc: 0.9846"
          ],
          "name": "stdout"
        },
        {
          "output_type": "stream",
          "text": [
            "102112/102124 [============================>.] - ETA: 0s - loss: 0.0382 - acc: 0.9848"
          ],
          "name": "stdout"
        },
        {
          "output_type": "stream",
          "text": [
            "102124/102124 [==============================] - 469s 5ms/step - loss: 0.0382 - acc: 0.9848 - val_loss: 0.0406 - val_acc: 0.9838\n",
            "Epoch 20/32\n",
            " 13984/102124 [===>..........................] - ETA: 6:15 - loss: 0.0400 - acc: 0.9847"
          ],
          "name": "stdout"
        },
        {
          "output_type": "stream",
          "text": [
            "102112/102124 [============================>.] - ETA: 0s - loss: 0.0378 - acc: 0.9851"
          ],
          "name": "stdout"
        },
        {
          "output_type": "stream",
          "text": [
            "102124/102124 [==============================] - 469s 5ms/step - loss: 0.0378 - acc: 0.9851 - val_loss: 0.0407 - val_acc: 0.9840\n",
            "roc-auc: 0.9942 - roc-auc_val: 0.9882                                                                                                    \n",
            "Epoch 21/32\n",
            "  8704/102124 [=>............................] - ETA: 7:02 - loss: 0.0363 - acc: 0.9852"
          ],
          "name": "stdout"
        },
        {
          "output_type": "stream",
          "text": [
            "102112/102124 [============================>.] - ETA: 0s - loss: 0.0372 - acc: 0.9852"
          ],
          "name": "stdout"
        },
        {
          "output_type": "stream",
          "text": [
            "102124/102124 [==============================] - 477s 5ms/step - loss: 0.0372 - acc: 0.9852 - val_loss: 0.0402 - val_acc: 0.9842\n",
            "Epoch 22/32\n",
            " 13984/102124 [===>..........................] - ETA: 6:23 - loss: 0.0367 - acc: 0.9856"
          ],
          "name": "stdout"
        },
        {
          "output_type": "stream",
          "text": [
            "102112/102124 [============================>.] - ETA: 0s - loss: 0.0371 - acc: 0.9852"
          ],
          "name": "stdout"
        },
        {
          "output_type": "stream",
          "text": [
            "\b\b\b\b\b\b\b\b\b\b\b\b\b\b\b\b\b\b\b\b\b\b\b\b\b\b\b\b\b\b\b\b\b\b\b\b\b\b\b\b\b\b\b\b\b\b\b\b\b\b\b\b\b\b\b\b\b\b\b\b\b\b\b\b\b\b\b\b\b\b\b\b\b\b\b\b\b\b\b\b\b\b\b\b\b\r102124/102124 [==============================] - 477s 5ms/step - loss: 0.0371 - acc: 0.9852 - val_loss: 0.0406 - val_acc: 0.9841\n",
            "\n",
            "Epoch 00022: ReduceLROnPlateau reducing learning rate to 5.632815373246558e-05.\n",
            "roc-auc: 0.9946 - roc-auc_val: 0.9882                                                                                                    \n",
            "Epoch 23/32\n",
            "  5952/102124 [>.............................] - ETA: 7:02 - loss: 0.0396 - acc: 0.9840"
          ],
          "name": "stdout"
        },
        {
          "output_type": "stream",
          "text": [
            "102112/102124 [============================>.] - ETA: 0s - loss: 0.0371 - acc: 0.9851"
          ],
          "name": "stdout"
        },
        {
          "output_type": "stream",
          "text": [
            "102124/102124 [==============================] - 477s 5ms/step - loss: 0.0371 - acc: 0.9851 - val_loss: 0.0409 - val_acc: 0.9839\n",
            "Epoch 24/32\n",
            " 13984/102124 [===>..........................] - ETA: 6:16 - loss: 0.0369 - acc: 0.9852"
          ],
          "name": "stdout"
        },
        {
          "output_type": "stream",
          "text": [
            "102112/102124 [============================>.] - ETA: 0s - loss: 0.0369 - acc: 0.9852"
          ],
          "name": "stdout"
        },
        {
          "output_type": "stream",
          "text": [
            "102124/102124 [==============================] - 475s 5ms/step - loss: 0.0369 - acc: 0.9852 - val_loss: 0.0409 - val_acc: 0.9839\n",
            "roc-auc: 0.9947 - roc-auc_val: 0.9883                                                                                                    \n",
            "Epoch 25/32\n",
            "  8704/102124 [=>............................] - ETA: 6:52 - loss: 0.0388 - acc: 0.9844"
          ],
          "name": "stdout"
        },
        {
          "output_type": "stream",
          "text": [
            "102112/102124 [============================>.] - ETA: 0s - loss: 0.0364 - acc: 0.9854"
          ],
          "name": "stdout"
        },
        {
          "output_type": "stream",
          "text": [
            "102124/102124 [==============================] - 477s 5ms/step - loss: 0.0364 - acc: 0.9854 - val_loss: 0.0407 - val_acc: 0.9839\n",
            "Epoch 26/32\n",
            " 13984/102124 [===>..........................] - ETA: 6:21 - loss: 0.0367 - acc: 0.9856"
          ],
          "name": "stdout"
        },
        {
          "output_type": "stream",
          "text": [
            "102112/102124 [============================>.] - ETA: 0s - loss: 0.0362 - acc: 0.9855"
          ],
          "name": "stdout"
        },
        {
          "output_type": "stream",
          "text": [
            "102124/102124 [==============================] - 476s 5ms/step - loss: 0.0362 - acc: 0.9855 - val_loss: 0.0403 - val_acc: 0.9842\n",
            "roc-auc: 0.995 - roc-auc_val: 0.9881                                                                                                    \n",
            "Epoch 27/32\n",
            "  8736/102124 [=>............................] - ETA: 6:51 - loss: 0.0377 - acc: 0.9844"
          ],
          "name": "stdout"
        },
        {
          "output_type": "stream",
          "text": [
            "102112/102124 [============================>.] - ETA: 0s - loss: 0.0363 - acc: 0.9855"
          ],
          "name": "stdout"
        },
        {
          "output_type": "stream",
          "text": [
            "\b\b\b\b\b\b\b\b\b\b\b\b\b\b\b\b\b\b\b\b\b\b\b\b\b\b\b\b\b\b\b\b\b\b\b\b\b\b\b\b\b\b\b\b\b\b\b\b\b\b\b\b\b\b\b\b\b\b\b\b\b\b\b\b\b\b\b\b\b\b\b\b\b\b\b\b\b\b\b\b\b\b\b\b\b\r102124/102124 [==============================] - 478s 5ms/step - loss: 0.0363 - acc: 0.9855 - val_loss: 0.0411 - val_acc: 0.9835\n"
          ],
          "name": "stdout"
        }
      ]
    },
    {
      "metadata": {
        "id": "izWCJ3HMReV3",
        "colab_type": "code",
        "colab": {
          "autoexec": {
            "startup": false,
            "wait_interval": 0
          },
          "base_uri": "https://localhost:8080/",
          "height": 315
        },
        "outputId": "ae97f3cc-bbde-47f5-d8bb-33fb487f26c1",
        "executionInfo": {
          "status": "ok",
          "timestamp": 1532558871415,
          "user_tz": -120,
          "elapsed": 4199,
          "user": {
            "displayName": "Gabrijel Boduljak",
            "photoUrl": "//lh5.googleusercontent.com/-PD9SrWcnqqA/AAAAAAAAAAI/AAAAAAAAAog/cQI0fcnyp_g/s50-c-k-no/photo.jpg",
            "userId": "107143472008987249570"
          }
        }
      },
      "cell_type": "code",
      "source": [
        "plot_history(history)"
      ],
      "execution_count": 14,
      "outputs": [
        {
          "output_type": "display_data",
          "data": {
            "image/png": "[encoded data removed]",
            "text/plain": [
              "<matplotlib.figure.Figure at 0x7fc0befb36d8>"
            ]
          },
          "metadata": {
            "tags": []
          }
        }
      ]
    },
    {
      "metadata": {
        "id": "r2gtMBj2Tp9A",
        "colab_type": "code",
        "colab": {
          "autoexec": {
            "startup": false,
            "wait_interval": 0
          },
          "base_uri": "https://localhost:8080/",
          "height": 52
        },
        "outputId": "449d4981-3bd2-4d83-8e21-e2bb3279c84b",
        "executionInfo": {
          "status": "ok",
          "timestamp": 1532558957325,
          "user_tz": -120,
          "elapsed": 85874,
          "user": {
            "displayName": "Gabrijel Boduljak",
            "photoUrl": "//lh5.googleusercontent.com/-PD9SrWcnqqA/AAAAAAAAAAI/AAAAAAAAAog/cQI0fcnyp_g/s50-c-k-no/photo.jpg",
            "userId": "107143472008987249570"
          }
        }
      },
      "cell_type": "code",
      "source": [
        "print(evaluate_on_test(model))"
      ],
      "execution_count": 15,
      "outputs": [
        {
          "output_type": "stream",
          "text": [
            "31915/31915 [==============================] - 45s 1ms/step\n",
            "([0.03993729107605987, 0.9839991516423005], 0.9900751531246609)\n"
          ],
          "name": "stdout"
        }
      ]
    },
    {
      "metadata": {
        "id": "GcepOOIY4QQN",
        "colab_type": "code",
        "colab": {
          "autoexec": {
            "startup": false,
            "wait_interval": 0
          },
          "base_uri": "https://localhost:8080/",
          "height": 1164
        },
        "outputId": "b2a3157c-7238-42b0-ae2a-dcdc8d4699bf",
        "executionInfo": {
          "status": "ok",
          "timestamp": 1532575687838,
          "user_tz": -120,
          "elapsed": 12499520,
          "user": {
            "displayName": "Gabrijel Boduljak",
            "photoUrl": "//lh5.googleusercontent.com/-PD9SrWcnqqA/AAAAAAAAAAI/AAAAAAAAAog/cQI0fcnyp_g/s50-c-k-no/photo.jpg",
            "userId": "107143472008987249570"
          }
        }
      },
      "cell_type": "code",
      "source": [
        "history = train_with_cv(model, batchSize=64, rocEvery = 2)"
      ],
      "execution_count": 13,
      "outputs": [
        {
          "output_type": "stream",
          "text": [
            "Train on 102124 samples, validate on 25532 samples\n",
            "Epoch 1/32\n",
            " 42880/102124 [===========>..................] - ETA: 4:01 - loss: 0.1062 - acc: 0.9645"
          ],
          "name": "stdout"
        },
        {
          "output_type": "stream",
          "text": [
            "102124/102124 [==============================] - 444s 4ms/step - loss: 0.0804 - acc: 0.9724 - val_loss: 0.0624 - val_acc: 0.9749\n",
            "Epoch 2/32\n",
            "  5440/102124 [>.............................] - ETA: 6:25 - loss: 0.0584 - acc: 0.9791"
          ],
          "name": "stdout"
        },
        {
          "output_type": "stream",
          "text": [
            "102080/102124 [============================>.] - ETA: 0s - loss: 0.0552 - acc: 0.9799"
          ],
          "name": "stdout"
        },
        {
          "output_type": "stream",
          "text": [
            "102124/102124 [==============================] - 439s 4ms/step - loss: 0.0552 - acc: 0.9799 - val_loss: 0.0500 - val_acc: 0.9801\n",
            "roc-auc: 0.9825 - roc-auc_val: 0.9787                                                                                                    \n",
            "Epoch 3/32\n",
            " 17408/102124 [====>.........................] - ETA: 5:38 - loss: 0.0508 - acc: 0.9811"
          ],
          "name": "stdout"
        },
        {
          "output_type": "stream",
          "text": [
            "102080/102124 [============================>.] - ETA: 0s - loss: 0.0514 - acc: 0.9808"
          ],
          "name": "stdout"
        },
        {
          "output_type": "stream",
          "text": [
            "\b\b\b\b\b\b\b\b\b\b\b\b\b\b\b\b\b\b\b\b\b\b\b\b\b\b\b\b\b\b\b\b\b\b\b\b\b\b\b\b\b\b\b\b\b\b\b\b\b\b\b\b\b\b\b\b\b\b\b\b\b\b\b\b\b\b\b\b\b\b\b\b\b\b\b\b\b\b\b\b\b\b\b\b\b\r102124/102124 [==============================] - 440s 4ms/step - loss: 0.0514 - acc: 0.9808 - val_loss: 0.0433 - val_acc: 0.9835\n",
            "Epoch 4/32\n",
            " 20352/102124 [====>.........................] - ETA: 5:26 - loss: 0.0482 - acc: 0.9821"
          ],
          "name": "stdout"
        },
        {
          "output_type": "stream",
          "text": [
            "102080/102124 [============================>.] - ETA: 0s - loss: 0.0490 - acc: 0.9816"
          ],
          "name": "stdout"
        },
        {
          "output_type": "stream",
          "text": [
            "102124/102124 [==============================] - 439s 4ms/step - loss: 0.0489 - acc: 0.9816 - val_loss: 0.0466 - val_acc: 0.9817\n",
            "roc-auc: 0.9884 - roc-auc_val: 0.9848                                                                                                    \n",
            "Epoch 5/32\n",
            " 17408/102124 [====>.........................] - ETA: 5:38 - loss: 0.0471 - acc: 0.9819"
          ],
          "name": "stdout"
        },
        {
          "output_type": "stream",
          "text": [
            "102080/102124 [============================>.] - ETA: 0s - loss: 0.0474 - acc: 0.9818"
          ],
          "name": "stdout"
        },
        {
          "output_type": "stream",
          "text": [
            "\b\b\b\b\b\b\b\b\b\b\b\b\b\b\b\b\b\b\b\b\b\b\b\b\b\b\b\b\b\b\b\b\b\b\b\b\b\b\b\b\b\b\b\b\b\b\b\b\b\b\b\b\b\b\b\b\b\b\b\b\b\b\b\b\b\b\b\b\b\b\b\b\b\b\b\b\b\b\b\b\b\b\b\b\b\r102124/102124 [==============================] - 440s 4ms/step - loss: 0.0474 - acc: 0.9818 - val_loss: 0.0497 - val_acc: 0.9801\n",
            "\n",
            "Epoch 00005: ReduceLROnPlateau reducing learning rate to 0.0003298769879620522.\n",
            "Epoch 6/32\n",
            " 16064/102124 [===>..........................] - ETA: 5:44 - loss: 0.0449 - acc: 0.9827"
          ],
          "name": "stdout"
        },
        {
          "output_type": "stream",
          "text": [
            "102080/102124 [============================>.] - ETA: 0s - loss: 0.0457 - acc: 0.9825"
          ],
          "name": "stdout"
        },
        {
          "output_type": "stream",
          "text": [
            "102124/102124 [==============================] - 440s 4ms/step - loss: 0.0457 - acc: 0.9825 - val_loss: 0.0432 - val_acc: 0.9831\n",
            "roc-auc: 0.9904 - roc-auc_val: 0.9869                                                                                                    \n",
            "Epoch 7/32\n",
            " 17408/102124 [====>.........................] - ETA: 5:38 - loss: 0.0455 - acc: 0.9822"
          ],
          "name": "stdout"
        },
        {
          "output_type": "stream",
          "text": [
            "102080/102124 [============================>.] - ETA: 0s - loss: 0.0446 - acc: 0.9826"
          ],
          "name": "stdout"
        },
        {
          "output_type": "stream",
          "text": [
            "\b\b\b\b\b\b\b\b\b\b\b\b\b\b\b\b\b\b\b\b\b\b\b\b\b\b\b\b\b\b\b\b\b\b\b\b\b\b\b\b\b\b\b\b\b\b\b\b\b\b\b\b\b\b\b\b\b\b\b\b\b\b\b\b\b\b\b\b\b\b\b\b\b\b\b\b\b\b\b\b\b\b\b\b\b\r102124/102124 [==============================] - 440s 4ms/step - loss: 0.0446 - acc: 0.9826 - val_loss: 0.0458 - val_acc: 0.9818\n",
            "Epoch 8/32\n",
            " 20352/102124 [====>.........................] - ETA: 5:26 - loss: 0.0439 - acc: 0.9829"
          ],
          "name": "stdout"
        },
        {
          "output_type": "stream",
          "text": [
            "102080/102124 [============================>.] - ETA: 0s - loss: 0.0438 - acc: 0.9831"
          ],
          "name": "stdout"
        },
        {
          "output_type": "stream",
          "text": [
            "102124/102124 [==============================] - 440s 4ms/step - loss: 0.0438 - acc: 0.9831 - val_loss: 0.0432 - val_acc: 0.9828\n",
            "roc-auc: 0.9908 - roc-auc_val: 0.9861                                                                                                    \n",
            "Epoch 9/32\n",
            " 17408/102124 [====>.........................] - ETA: 5:39 - loss: 0.0425 - acc: 0.9835"
          ],
          "name": "stdout"
        },
        {
          "output_type": "stream",
          "text": [
            "102080/102124 [============================>.] - ETA: 0s - loss: 0.0429 - acc: 0.9833"
          ],
          "name": "stdout"
        },
        {
          "output_type": "stream",
          "text": [
            "\b\b\b\b\b\b\b\b\b\b\b\b\b\b\b\b\b\b\b\b\b\b\b\b\b\b\b\b\b\b\b\b\b\b\b\b\b\b\b\b\b\b\b\b\b\b\b\b\b\b\b\b\b\b\b\b\b\b\b\b\b\b\b\b\b\b\b\b\b\b\b\b\b\b\b\b\b\b\b\b\b\b\b\b\b\r102124/102124 [==============================] - 440s 4ms/step - loss: 0.0429 - acc: 0.9832 - val_loss: 0.0450 - val_acc: 0.9817\n",
            "Epoch 10/32\n",
            " 20288/102124 [====>.........................] - ETA: 5:26 - loss: 0.0418 - acc: 0.9836"
          ],
          "name": "stdout"
        },
        {
          "output_type": "stream",
          "text": [
            "102080/102124 [============================>.] - ETA: 0s - loss: 0.0419 - acc: 0.9836"
          ],
          "name": "stdout"
        },
        {
          "output_type": "stream",
          "text": [
            "102124/102124 [==============================] - 440s 4ms/step - loss: 0.0419 - acc: 0.9836 - val_loss: 0.0414 - val_acc: 0.9835\n",
            "roc-auc: 0.9925 - roc-auc_val: 0.988                                                                                                    \n",
            "Epoch 11/32\n",
            " 17408/102124 [====>.........................] - ETA: 5:37 - loss: 0.0397 - acc: 0.9844"
          ],
          "name": "stdout"
        },
        {
          "output_type": "stream",
          "text": [
            "102080/102124 [============================>.] - ETA: 0s - loss: 0.0413 - acc: 0.9838"
          ],
          "name": "stdout"
        },
        {
          "output_type": "stream",
          "text": [
            "\b\b\b\b\b\b\b\b\b\b\b\b\b\b\b\b\b\b\b\b\b\b\b\b\b\b\b\b\b\b\b\b\b\b\b\b\b\b\b\b\b\b\b\b\b\b\b\b\b\b\b\b\b\b\b\b\b\b\b\b\b\b\b\b\b\b\b\b\b\b\b\b\b\b\b\b\b\b\b\b\b\b\b\b\b\r102124/102124 [==============================] - 439s 4ms/step - loss: 0.0413 - acc: 0.9838 - val_loss: 0.0435 - val_acc: 0.9824\n",
            "Epoch 12/32\n",
            " 20288/102124 [====>.........................] - ETA: 5:25 - loss: 0.0402 - acc: 0.9842"
          ],
          "name": "stdout"
        },
        {
          "output_type": "stream",
          "text": [
            "102080/102124 [============================>.] - ETA: 0s - loss: 0.0407 - acc: 0.9840"
          ],
          "name": "stdout"
        },
        {
          "output_type": "stream",
          "text": [
            "102124/102124 [==============================] - 437s 4ms/step - loss: 0.0407 - acc: 0.9840 - val_loss: 0.0445 - val_acc: 0.9822\n",
            "roc-auc: 0.9928 - roc-auc_val: 0.9879                                                                                                    \n",
            "Epoch 13/32\n",
            " 17344/102124 [====>.........................] - ETA: 5:36 - loss: 0.0405 - acc: 0.9836"
          ],
          "name": "stdout"
        },
        {
          "output_type": "stream",
          "text": [
            "102080/102124 [============================>.] - ETA: 0s - loss: 0.0397 - acc: 0.9844"
          ],
          "name": "stdout"
        },
        {
          "output_type": "stream",
          "text": [
            "\b\b\b\b\b\b\b\b\b\b\b\b\b\b\b\b\b\b\b\b\b\b\b\b\b\b\b\b\b\b\b\b\b\b\b\b\b\b\b\b\b\b\b\b\b\b\b\b\b\b\b\b\b\b\b\b\b\b\b\b\b\b\b\b\b\b\b\b\b\b\b\b\b\b\b\b\b\b\b\b\b\b\b\b\b\r102124/102124 [==============================] - 438s 4ms/step - loss: 0.0397 - acc: 0.9844 - val_loss: 0.0420 - val_acc: 0.9834\n",
            "Epoch 14/32\n",
            " 20288/102124 [====>.........................] - ETA: 5:26 - loss: 0.0391 - acc: 0.9844"
          ],
          "name": "stdout"
        },
        {
          "output_type": "stream",
          "text": [
            "102080/102124 [============================>.] - ETA: 0s - loss: 0.0393 - acc: 0.9844"
          ],
          "name": "stdout"
        },
        {
          "output_type": "stream",
          "text": [
            "102124/102124 [==============================] - 438s 4ms/step - loss: 0.0393 - acc: 0.9844 - val_loss: 0.0412 - val_acc: 0.9837\n",
            "roc-auc: 0.9936 - roc-auc_val: 0.9878                                                                                                    \n",
            "Epoch 15/32\n",
            " 17344/102124 [====>.........................] - ETA: 5:36 - loss: 0.0373 - acc: 0.9849"
          ],
          "name": "stdout"
        },
        {
          "output_type": "stream",
          "text": [
            "102080/102124 [============================>.] - ETA: 0s - loss: 0.0389 - acc: 0.9845"
          ],
          "name": "stdout"
        },
        {
          "output_type": "stream",
          "text": [
            "\b\b\b\b\b\b\b\b\b\b\b\b\b\b\b\b\b\b\b\b\b\b\b\b\b\b\b\b\b\b\b\b\b\b\b\b\b\b\b\b\b\b\b\b\b\b\b\b\b\b\b\b\b\b\b\b\b\b\b\b\b\b\b\b\b\b\b\b\b\b\b\b\b\b\b\b\b\b\b\b\b\b\b\b\b\r102124/102124 [==============================] - 437s 4ms/step - loss: 0.0389 - acc: 0.9845 - val_loss: 0.0429 - val_acc: 0.9827\n",
            "Epoch 16/32\n",
            " 20288/102124 [====>.........................] - ETA: 5:24 - loss: 0.0388 - acc: 0.9848"
          ],
          "name": "stdout"
        },
        {
          "output_type": "stream",
          "text": [
            "102080/102124 [============================>.] - ETA: 0s - loss: 0.0384 - acc: 0.9848"
          ],
          "name": "stdout"
        },
        {
          "output_type": "stream",
          "text": [
            "\b\b\b\b\b\b\b\b\b\b\b\b\b\b\b\b\b\b\b\b\b\b\b\b\b\b\b\b\b\b\b\b\b\b\b\b\b\b\b\b\b\b\b\b\b\b\b\b\b\b\b\b\b\b\b\b\b\b\b\b\b\b\b\b\b\b\b\b\b\b\b\b\b\b\b\b\b\b\b\b\b\b\b\b\b\r102124/102124 [==============================] - 438s 4ms/step - loss: 0.0384 - acc: 0.9848 - val_loss: 0.0425 - val_acc: 0.9830\n",
            "\n",
            "Epoch 00016: ReduceLROnPlateau reducing learning rate to 0.00010511204891372472.\n",
            "roc-auc: 0.9941 - roc-auc_val: 0.9883                                                                                                    \n",
            "Epoch 17/32\n",
            " 11840/102124 [==>...........................] - ETA: 5:58 - loss: 0.0372 - acc: 0.9853"
          ],
          "name": "stdout"
        },
        {
          "output_type": "stream",
          "text": [
            "102080/102124 [============================>.] - ETA: 0s - loss: 0.0378 - acc: 0.9851"
          ],
          "name": "stdout"
        },
        {
          "output_type": "stream",
          "text": [
            "\b\b\b\b\b\b\b\b\b\b\b\b\b\b\b\b\b\b\b\b\b\b\b\b\b\b\b\b\b\b\b\b\b\b\b\b\b\b\b\b\b\b\b\b\b\b\b\b\b\b\b\b\b\b\b\b\b\b\b\b\b\b\b\b\b\b\b\b\b\b\b\b\b\b\b\b\b\b\b\b\b\b\b\b\b\r102124/102124 [==============================] - 437s 4ms/step - loss: 0.0378 - acc: 0.9851 - val_loss: 0.0423 - val_acc: 0.9830\n",
            "Epoch 18/32\n",
            " 20288/102124 [====>.........................] - ETA: 5:24 - loss: 0.0367 - acc: 0.9855"
          ],
          "name": "stdout"
        },
        {
          "output_type": "stream",
          "text": [
            "102080/102124 [============================>.] - ETA: 0s - loss: 0.0373 - acc: 0.9852"
          ],
          "name": "stdout"
        },
        {
          "output_type": "stream",
          "text": [
            "102124/102124 [==============================] - 438s 4ms/step - loss: 0.0373 - acc: 0.9852 - val_loss: 0.0429 - val_acc: 0.9830\n",
            "roc-auc: 0.9945 - roc-auc_val: 0.9881                                                                                                    \n",
            "Epoch 19/32\n",
            " 17344/102124 [====>.........................] - ETA: 5:37 - loss: 0.0369 - acc: 0.9850"
          ],
          "name": "stdout"
        },
        {
          "output_type": "stream",
          "text": [
            "102080/102124 [============================>.] - ETA: 0s - loss: 0.0370 - acc: 0.9852"
          ],
          "name": "stdout"
        },
        {
          "output_type": "stream",
          "text": [
            "\b\b\b\b\b\b\b\b\b\b\b\b\b\b\b\b\b\b\b\b\b\b\b\b\b\b\b\b\b\b\b\b\b\b\b\b\b\b\b\b\b\b\b\b\b\b\b\b\b\b\b\b\b\b\b\b\b\b\b\b\b\b\b\b\b\b\b\b\b\b\b\b\b\b\b\b\b\b\b\b\b\b\b\b\b\r102124/102124 [==============================] - 438s 4ms/step - loss: 0.0370 - acc: 0.9852 - val_loss: 0.0435 - val_acc: 0.9826\n",
            "Epoch 20/32\n",
            " 20288/102124 [====>.........................] - ETA: 5:25 - loss: 0.0363 - acc: 0.9856"
          ],
          "name": "stdout"
        },
        {
          "output_type": "stream",
          "text": [
            "102080/102124 [============================>.] - ETA: 0s - loss: 0.0371 - acc: 0.9853"
          ],
          "name": "stdout"
        },
        {
          "output_type": "stream",
          "text": [
            "102124/102124 [==============================] - 443s 4ms/step - loss: 0.0370 - acc: 0.9853 - val_loss: 0.0413 - val_acc: 0.9835\n",
            "roc-auc: 0.9949 - roc-auc_val: 0.9879                                                                                                    \n",
            "Epoch 21/32\n",
            " 17344/102124 [====>.........................] - ETA: 5:37 - loss: 0.0363 - acc: 0.9852"
          ],
          "name": "stdout"
        },
        {
          "output_type": "stream",
          "text": [
            "102080/102124 [============================>.] - ETA: 0s - loss: 0.0364 - acc: 0.9854"
          ],
          "name": "stdout"
        },
        {
          "output_type": "stream",
          "text": [
            "\b\b\b\b\b\b\b\b\b\b\b\b\b\b\b\b\b\b\b\b\b\b\b\b\b\b\b\b\b\b\b\b\b\b\b\b\b\b\b\b\b\b\b\b\b\b\b\b\b\b\b\b\b\b\b\b\b\b\b\b\b\b\b\b\b\b\b\b\b\b\b\b\b\b\b\b\b\b\b\b\b\b\b\b\b\r102124/102124 [==============================] - 442s 4ms/step - loss: 0.0364 - acc: 0.9854 - val_loss: 0.0434 - val_acc: 0.9827\n",
            "Epoch 22/32\n",
            " 20288/102124 [====>.........................] - ETA: 5:33 - loss: 0.0351 - acc: 0.9864"
          ],
          "name": "stdout"
        },
        {
          "output_type": "stream",
          "text": [
            "102080/102124 [============================>.] - ETA: 0s - loss: 0.0363 - acc: 0.9855"
          ],
          "name": "stdout"
        },
        {
          "output_type": "stream",
          "text": [
            "102124/102124 [==============================] - 444s 4ms/step - loss: 0.0363 - acc: 0.9855 - val_loss: 0.0420 - val_acc: 0.9833\n",
            "roc-auc: 0.9951 - roc-auc_val: 0.9883                                                                                                    \n",
            "Epoch 23/32\n",
            " 17344/102124 [====>.........................] - ETA: 5:37 - loss: 0.0362 - acc: 0.9855"
          ],
          "name": "stdout"
        },
        {
          "output_type": "stream",
          "text": [
            "102080/102124 [============================>.] - ETA: 0s - loss: 0.0356 - acc: 0.9858"
          ],
          "name": "stdout"
        },
        {
          "output_type": "stream",
          "text": [
            "\b\b\b\b\b\b\b\b\b\b\b\b\b\b\b\b\b\b\b\b\b\b\b\b\b\b\b\b\b\b\b\b\b\b\b\b\b\b\b\b\b\b\b\b\b\b\b\b\b\b\b\b\b\b\b\b\b\b\b\b\b\b\b\b\b\b\b\b\b\b\b\b\b\b\b\b\b\b\b\b\b\b\b\b\b\r102124/102124 [==============================] - 443s 4ms/step - loss: 0.0356 - acc: 0.9858 - val_loss: 0.0413 - val_acc: 0.9839\n",
            "Epoch 24/32\n",
            " 20288/102124 [====>.........................] - ETA: 5:32 - loss: 0.0343 - acc: 0.9861"
          ],
          "name": "stdout"
        },
        {
          "output_type": "stream",
          "text": [
            "102080/102124 [============================>.] - ETA: 0s - loss: 0.0359 - acc: 0.9856"
          ],
          "name": "stdout"
        },
        {
          "output_type": "stream",
          "text": [
            "102124/102124 [==============================] - 444s 4ms/step - loss: 0.0359 - acc: 0.9856 - val_loss: 0.0420 - val_acc: 0.9833\n",
            "roc-auc: 0.9953 - roc-auc_val: 0.9878                                                                                                    \n"
          ],
          "name": "stdout"
        }
      ]
    },
    {
      "metadata": {
        "id": "1Cx5jv9S4Q3V",
        "colab_type": "code",
        "colab": {
          "autoexec": {
            "startup": false,
            "wait_interval": 0
          },
          "base_uri": "https://localhost:8080/",
          "height": 315
        },
        "outputId": "8df8726a-1706-4905-ee65-88195b2864e0",
        "executionInfo": {
          "status": "ok",
          "timestamp": 1532575690360,
          "user_tz": -120,
          "elapsed": 2481,
          "user": {
            "displayName": "Gabrijel Boduljak",
            "photoUrl": "//lh5.googleusercontent.com/-PD9SrWcnqqA/AAAAAAAAAAI/AAAAAAAAAog/cQI0fcnyp_g/s50-c-k-no/photo.jpg",
            "userId": "107143472008987249570"
          }
        }
      },
      "cell_type": "code",
      "source": [
        "plot_history(history)"
      ],
      "execution_count": 14,
      "outputs": [
        {
          "output_type": "display_data",
          "data": {
            "image/png": "[encoded data removed]",
            "text/plain": [
              "<matplotlib.figure.Figure at 0x7fcf798c4668>"
            ]
          },
          "metadata": {
            "tags": []
          }
        }
      ]
    },
    {
      "metadata": {
        "id": "A3Gck4e74QJO",
        "colab_type": "code",
        "colab": {
          "autoexec": {
            "startup": false,
            "wait_interval": 0
          },
          "base_uri": "https://localhost:8080/",
          "height": 52
        },
        "outputId": "f817215a-b8c6-47da-fa87-93ff7c439d9e",
        "executionInfo": {
          "status": "ok",
          "timestamp": 1532575773916,
          "user_tz": -120,
          "elapsed": 83537,
          "user": {
            "displayName": "Gabrijel Boduljak",
            "photoUrl": "//lh5.googleusercontent.com/-PD9SrWcnqqA/AAAAAAAAAAI/AAAAAAAAAog/cQI0fcnyp_g/s50-c-k-no/photo.jpg",
            "userId": "107143472008987249570"
          }
        }
      },
      "cell_type": "code",
      "source": [
        "print(evaluate_on_test(model))"
      ],
      "execution_count": 15,
      "outputs": [
        {
          "output_type": "stream",
          "text": [
            "31915/31915 [==============================] - 43s 1ms/step\n",
            "([0.040650894860782986, 0.9837798176057545], 0.9896891111776719)\n"
          ],
          "name": "stdout"
        }
      ]
    }
  ]
}
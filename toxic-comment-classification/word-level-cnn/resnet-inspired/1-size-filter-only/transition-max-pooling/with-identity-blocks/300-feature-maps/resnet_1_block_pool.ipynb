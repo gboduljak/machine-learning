{
 "cells": [
  {
   "cell_type": "code",
   "execution_count": 1,
   "metadata": {
    "colab": {
     "autoexec": {
      "startup": false,
      "wait_interval": 0
     },
     "base_uri": "https://localhost:8080/",
     "height": 297
    },
    "colab_type": "code",
    "executionInfo": {
     "elapsed": 9474,
     "status": "ok",
     "timestamp": 1532604438807,
     "user": {
      "displayName": "Gabrijel Boduljak",
      "photoUrl": "//lh5.googleusercontent.com/-PD9SrWcnqqA/AAAAAAAAAAI/AAAAAAAAAog/cQI0fcnyp_g/s50-c-k-no/photo.jpg",
      "userId": "107143472008987249570"
     },
     "user_tz": -120
    },
    "id": "yS1FnhiWX3Js",
    "outputId": "ba8d4f2c-24be-4948-a753-85c2aafec567"
   },
   "outputs": [
    {
     "name": "stdout",
     "output_type": "stream",
     "text": [
      "Requirement already satisfied: keras in /usr/local/lib/python3.6/dist-packages (2.1.6)\r\n",
      "Requirement already satisfied: scipy>=0.14 in /usr/local/lib/python3.6/dist-packages (from keras) (0.19.1)\r\n",
      "Requirement already satisfied: six>=1.9.0 in /usr/local/lib/python3.6/dist-packages (from keras) (1.11.0)\r\n",
      "Requirement already satisfied: h5py in /usr/local/lib/python3.6/dist-packages (from keras) (2.8.0)\r\n",
      "Requirement already satisfied: pyyaml in /usr/local/lib/python3.6/dist-packages (from keras) (3.13)\r\n",
      "Requirement already satisfied: numpy>=1.9.1 in /usr/local/lib/python3.6/dist-packages (from keras) (1.14.5)\n",
      "Requirement already satisfied: sklearn in /usr/local/lib/python3.6/dist-packages (0.0)\n",
      "Requirement already satisfied: scikit-learn in /usr/local/lib/python3.6/dist-packages (from sklearn) (0.19.2)\n",
      "Requirement already satisfied: matplotlib in /usr/local/lib/python3.6/dist-packages (2.1.2)\n",
      "Requirement already satisfied: pyparsing!=2.0.4,!=2.1.2,!=2.1.6,>=2.0.1 in /usr/local/lib/python3.6/dist-packages (from matplotlib) (2.2.0)\n",
      "Requirement already satisfied: numpy>=1.7.1 in /usr/local/lib/python3.6/dist-packages (from matplotlib) (1.14.5)\n",
      "Requirement already satisfied: six>=1.10 in /usr/local/lib/python3.6/dist-packages (from matplotlib) (1.11.0)\n",
      "Requirement already satisfied: pytz in /usr/local/lib/python3.6/dist-packages (from matplotlib) (2018.5)\n",
      "Requirement already satisfied: python-dateutil>=2.1 in /usr/local/lib/python3.6/dist-packages (from matplotlib) (2.5.3)\n",
      "Requirement already satisfied: cycler>=0.10 in /usr/local/lib/python3.6/dist-packages (from matplotlib) (0.10.0)\n"
     ]
    }
   ],
   "source": [
    "!pip install keras\n",
    "!pip install sklearn\n",
    "!pip install matplotlib\n",
    "!pip install -U -q PyDrive"
   ]
  },
  {
   "cell_type": "code",
   "execution_count": 2,
   "metadata": {
    "colab": {
     "autoexec": {
      "startup": false,
      "wait_interval": 0
     },
     "base_uri": "https://localhost:8080/",
     "height": 35
    },
    "colab_type": "code",
    "executionInfo": {
     "elapsed": 1718,
     "status": "ok",
     "timestamp": 1532604440589,
     "user": {
      "displayName": "Gabrijel Boduljak",
      "photoUrl": "//lh5.googleusercontent.com/-PD9SrWcnqqA/AAAAAAAAAAI/AAAAAAAAAog/cQI0fcnyp_g/s50-c-k-no/photo.jpg",
      "userId": "107143472008987249570"
     },
     "user_tz": -120
    },
    "id": "xlKzkDJFrjA-",
    "outputId": "75387814-77cc-464c-abb9-e4eb91723f64"
   },
   "outputs": [
    {
     "name": "stderr",
     "output_type": "stream",
     "text": [
      "Using TensorFlow backend.\n"
     ]
    }
   ],
   "source": [
    "from keras import backend as K\n",
    "K.clear_session()"
   ]
  },
  {
   "cell_type": "code",
   "execution_count": 0,
   "metadata": {
    "colab": {
     "autoexec": {
      "startup": false,
      "wait_interval": 0
     }
    },
    "colab_type": "code",
    "id": "eQEKwl4oAxO7"
   },
   "outputs": [],
   "source": [
    "from keras import backend as K\n",
    "cfg = K.tf.ConfigProto()\n",
    "cfg.gpu_options.allow_growth = True\n",
    "K.set_session(K.tf.Session(config=cfg))"
   ]
  },
  {
   "cell_type": "code",
   "execution_count": 0,
   "metadata": {
    "colab": {
     "autoexec": {
      "startup": false,
      "wait_interval": 0
     }
    },
    "colab_type": "code",
    "id": "12M0egCCX-27"
   },
   "outputs": [],
   "source": [
    "from pydrive.auth import GoogleAuth\n",
    "from pydrive.drive import GoogleDrive\n",
    "from google.colab import auth\n",
    "from oauth2client.client import GoogleCredentials\n",
    "\n",
    "auth.authenticate_user()\n",
    "gauth = GoogleAuth()\n",
    "gauth.credentials = GoogleCredentials.get_application_default()\n",
    "drive = GoogleDrive(gauth)"
   ]
  },
  {
   "cell_type": "code",
   "execution_count": 0,
   "metadata": {
    "colab": {
     "autoexec": {
      "startup": false,
      "wait_interval": 0
     }
    },
    "colab_type": "code",
    "id": "4lN2WTUEYBYv"
   },
   "outputs": [],
   "source": [
    "file_import = drive.CreateFile({'id':'1p1bsltfTcIrZ_kfE6kwGTPzcdXorHbb2'})\n",
    "file_import.GetContentFile('colab_setup.py') \n",
    "from colab_setup import setup\n",
    "\n",
    "setup(drive)"
   ]
  },
  {
   "cell_type": "code",
   "execution_count": 6,
   "metadata": {
    "colab": {
     "autoexec": {
      "startup": false,
      "wait_interval": 0
     },
     "base_uri": "https://localhost:8080/",
     "height": 121
    },
    "colab_type": "code",
    "executionInfo": {
     "elapsed": 2635,
     "status": "ok",
     "timestamp": 1532604469041,
     "user": {
      "displayName": "Gabrijel Boduljak",
      "photoUrl": "//lh5.googleusercontent.com/-PD9SrWcnqqA/AAAAAAAAAAI/AAAAAAAAAog/cQI0fcnyp_g/s50-c-k-no/photo.jpg",
      "userId": "107143472008987249570"
     },
     "user_tz": -120
    },
    "id": "cHBlD0tVj2TY",
    "outputId": "f047b067-038a-4b81-a025-ec8b7b268a33"
   },
   "outputs": [
    {
     "name": "stdout",
     "output_type": "stream",
     "text": [
      "colab_setup.py\t\t\t roc_auc_callback.py\tX_train.npy\r\n",
      "custom_fast_text_embeddings.npy  sample_submission.csv\tX_val.npy\r\n",
      "datalab\t\t\t\t train_model.py\t\ty_test.npy\r\n",
      "fast_text_embeddings.npy\t X_submission.npy\ty_train_full.npy\r\n",
      "plot_history.py\t\t\t X_test.npy\t\ty_train.npy\r\n",
      "__pycache__\t\t\t X_train_full.npy\ty_val.npy\r\n"
     ]
    }
   ],
   "source": [
    "!ls"
   ]
  },
  {
   "cell_type": "code",
   "execution_count": 0,
   "metadata": {
    "colab": {
     "autoexec": {
      "startup": false,
      "wait_interval": 0
     }
    },
    "colab_type": "code",
    "id": "yMwWPTMYXyno"
   },
   "outputs": [],
   "source": [
    "import numpy as np\n",
    "import os\n",
    "\n",
    "from plot_history import plot_history\n",
    "from roc_auc_callback import RocAucCallback\n",
    "from train_model import train_with_cv, train_with_submitting, evaluate_on_test\n",
    "\n",
    "from keras.layers import *\n",
    "from keras.layers.merge import *\n",
    "from keras.initializers import *\n",
    "from keras.models import Model"
   ]
  },
  {
   "cell_type": "code",
   "execution_count": 0,
   "metadata": {
    "colab": {
     "autoexec": {
      "startup": false,
      "wait_interval": 0
     }
    },
    "colab_type": "code",
    "id": "irwBTJdINU0J"
   },
   "outputs": [],
   "source": [
    "from keras.optimizers import *\n",
    "from keras.initializers import *\n",
    "from keras.layers import *\n",
    "from keras.layers.merge import *\n",
    "from keras.models import *\n",
    "\n",
    "residual_convolution_options = dict({\n",
    "    'dropout_mode': 'spatial',\n",
    "    'dropout_rate': 0.2,\n",
    "    'filters': 300,\n",
    "    'kernel_size': 1,\n",
    "    'strides': 1,\n",
    "    'padding': 'same',\n",
    "    'activation': 'elu',\n",
    "    'should_preactivate': True\n",
    "})\n",
    "\n",
    "def convolution_block(input_layer, options):\n",
    "    convolution_input = Input(shape=[\n",
    "        int(input_layer.shape[1]),\n",
    "        int(input_layer.shape[2])\n",
    "    ])\n",
    "\n",
    "    convolution_block = convolution_input\n",
    "\n",
    "    if(options['should_preactivate']):\n",
    "        convolution_block = BatchNormalization()(convolution_block)\n",
    "        convolution_block = Activation(options['activation'])(convolution_block)\n",
    "        convolution_block = Conv1D(options['filters'], options['kernel_size'], strides=options['strides'],\n",
    "                                   padding=options['padding'], activation='linear', kernel_initializer='he_normal')(convolution_block)\n",
    "    else:\n",
    "        convolution_block = Conv1D(options['filters'], options['kernel_size'], strides=options['strides'],\n",
    "                                   padding=options['padding'], activation='linear', kernel_initializer='he_normal')(convolution_block)\n",
    "        convolution_block = BatchNormalization()(convolution_block)\n",
    "        convolution_block = Activation(options['activation'])(convolution_block)\n",
    "\n",
    "    convolution_output = convolution_block\n",
    "\n",
    "    if(options['dropout_mode'] == 'spatial'):\n",
    "        convolution_output = SpatialDropout1D(options['dropout_rate'])(convolution_output)\n",
    "    if(options['dropout_mode']== 'vanilla'):\n",
    "        convolution_output = Dropout(options['dropout_rate'])(convolution_output)\n",
    "\n",
    "    return Model(inputs=[convolution_input], outputs=[convolution_output])(input_layer)"
   ]
  },
  {
   "cell_type": "code",
   "execution_count": 0,
   "metadata": {
    "colab": {
     "autoexec": {
      "startup": false,
      "wait_interval": 0
     }
    },
    "colab_type": "code",
    "id": "sD9D5r9-Sdg7"
   },
   "outputs": [],
   "source": [
    "def residual_block(input_layer, should_pool):\n",
    "    convolution_input = Input(shape=[\n",
    "        int(input_layer.shape[1]),\n",
    "        int(input_layer.shape[2])\n",
    "    ])\n",
    "    \n",
    "    residual_block_pool = convolution_input\n",
    "\n",
    "    if(should_pool):\n",
    "        residual_block_pool = MaxPooling1D(pool_size=2, strides=2, padding='same')(convolution_input)\n",
    "\n",
    "    residual_block = convolution_block(\n",
    "        residual_block_pool, residual_convolution_options)\n",
    "    residual_block = convolution_block(\n",
    "        residual_block, residual_convolution_options)\n",
    "\n",
    "    convolution_output = add([residual_block, residual_block_pool])\n",
    "\n",
    "    return Model(inputs=[convolution_input], outputs=[convolution_output])(input_layer)"
   ]
  },
  {
   "cell_type": "code",
   "execution_count": 0,
   "metadata": {
    "colab": {
     "autoexec": {
      "startup": false,
      "wait_interval": 0
     }
    },
    "colab_type": "code",
    "id": "xOfIVhpoSdpQ"
   },
   "outputs": [],
   "source": [
    "def yoon_kim_feature_extractor(input_layer, filters):\n",
    "    extractor_block_input = Input(shape=[\n",
    "        int(input_layer.shape[1]),\n",
    "        int(input_layer.shape[2])\n",
    "    ])\n",
    "\n",
    "    block_1_conv_1 = Conv1D(filters, 1, activation = 'linear', padding = 'same', kernel_initializer = 'he_normal')(extractor_block_input)\n",
    "    block_1_batchnorm1 = BatchNormalization()(block_1_conv_1)\n",
    "    block_1_batchnorm1 = ELU()(block_1_batchnorm1)\n",
    "    block_1_max_pool1 = GlobalMaxPooling1D()(block_1_batchnorm1)\n",
    "\n",
    "    block_1_conv_2 = Conv1D(filters, 2, activation = 'linear', padding = 'same', kernel_initializer = 'he_normal')(extractor_block_input)\n",
    "    block_1_batchnorm2 = BatchNormalization()(block_1_conv_2)\n",
    "    block_1_batchnorm2 = ELU()(block_1_batchnorm2)\n",
    "    block_1_max_pool2 = GlobalMaxPooling1D()(block_1_batchnorm2)\n",
    "\n",
    "    block_1_conv_3 = Conv1D(filters, 3, activation = 'linear', padding = 'same', kernel_initializer = 'he_normal')(extractor_block_input)\n",
    "    block_1_batchnorm3 = BatchNormalization()(block_1_conv_3)\n",
    "    block_1_batchnorm3 = ELU()(block_1_batchnorm3)\n",
    "    block_1_max_pool3 = GlobalMaxPooling1D()(block_1_batchnorm3)\n",
    "\n",
    "    block_1_conv_4 = Conv1D(filters, 5, activation = 'linear', padding = 'same', kernel_initializer = 'he_normal')(extractor_block_input)\n",
    "    block_1_batchnorm4 = BatchNormalization()(block_1_conv_4)\n",
    "    block_1_batchnorm4 = ELU()(block_1_batchnorm4)\n",
    "    block_1_max_pool4 = GlobalMaxPooling1D()(block_1_batchnorm4)\n",
    "\n",
    "    features = concatenate([\n",
    "        block_1_max_pool1, \n",
    "        block_1_max_pool2, \n",
    "        block_1_max_pool3, \n",
    "        block_1_max_pool4\n",
    "    ])\n",
    "    \n",
    "    extractor_block_output = Dropout(0.2)(features)\n",
    "    \n",
    "    return Model(\n",
    "        inputs=[extractor_block_input], \n",
    "        outputs=[extractor_block_output]\n",
    "    )(input_layer)"
   ]
  },
  {
   "cell_type": "code",
   "execution_count": 0,
   "metadata": {
    "colab": {
     "autoexec": {
      "startup": false,
      "wait_interval": 0
     }
    },
    "colab_type": "code",
    "id": "PHbVmJqTSdxU"
   },
   "outputs": [],
   "source": [
    "def classification_block(input_layer, dropout_rate = 0.2):\n",
    "      \n",
    "    model = Dense(256, activation = 'linear', kernel_initializer = 'he_normal')(input_layer)\n",
    "    model = BatchNormalization()(model)\n",
    "    model = ELU()(model)\n",
    "    model = Dropout(dropout_rate)(model)\n",
    "    \n",
    "    model = Dense(256, activation = 'linear', kernel_initializer = 'he_normal')(model)\n",
    "    model = BatchNormalization()(model)\n",
    "    model = ELU()(model)\n",
    "    model = Dropout(dropout_rate)(model)\n",
    "\n",
    "    classification_block_output = Dense(6, activation='sigmoid', kernel_initializer = 'glorot_normal')(model)\n",
    "    \n",
    "    return classification_block_output"
   ]
  },
  {
   "cell_type": "code",
   "execution_count": 12,
   "metadata": {
    "colab": {
     "autoexec": {
      "startup": false,
      "wait_interval": 0
     },
     "base_uri": "https://localhost:8080/",
     "height": 780
    },
    "colab_type": "code",
    "executionInfo": {
     "elapsed": 3571,
     "status": "ok",
     "timestamp": 1532604475916,
     "user": {
      "displayName": "Gabrijel Boduljak",
      "photoUrl": "//lh5.googleusercontent.com/-PD9SrWcnqqA/AAAAAAAAAAI/AAAAAAAAAog/cQI0fcnyp_g/s50-c-k-no/photo.jpg",
      "userId": "107143472008987249570"
     },
     "user_tz": -120
    },
    "id": "LTFG7OgsXynw",
    "outputId": "4a71e510-d998-48aa-cb9e-0f18bb796c2b"
   },
   "outputs": [
    {
     "name": "stdout",
     "output_type": "stream",
     "text": [
      "__________________________________________________________________________________________________\n",
      "Layer (type)                    Output Shape         Param #     Connected to                     \n",
      "==================================================================================================\n",
      "input_1 (InputLayer)            (None, 400)          0                                            \n",
      "__________________________________________________________________________________________________\n",
      "embedding_1 (Embedding)         (None, 400, 300)     9000000     input_1[0][0]                    \n",
      "__________________________________________________________________________________________________\n",
      "embedding_2 (Embedding)         (None, 400, 300)     9000000     input_1[0][0]                    \n",
      "__________________________________________________________________________________________________\n",
      "spatial_dropout1d_1 (SpatialDro (None, 400, 300)     0           embedding_1[0][0]                \n",
      "__________________________________________________________________________________________________\n",
      "spatial_dropout1d_2 (SpatialDro (None, 400, 300)     0           embedding_2[0][0]                \n",
      "__________________________________________________________________________________________________\n",
      "average_1 (Average)             (None, 400, 300)     0           spatial_dropout1d_1[0][0]        \n",
      "                                                                 spatial_dropout1d_2[0][0]        \n",
      "__________________________________________________________________________________________________\n",
      "spatial_dropout1d_3 (SpatialDro (None, 400, 300)     0           average_1[0][0]                  \n",
      "__________________________________________________________________________________________________\n",
      "model_3 (Model)                 (None, 200, 300)     183000      spatial_dropout1d_3[0][0]        \n",
      "__________________________________________________________________________________________________\n",
      "model_4 (Model)                 (None, 1200)         996000      model_3[1][0]                    \n",
      "__________________________________________________________________________________________________\n",
      "dense_1 (Dense)                 (None, 256)          307456      model_4[1][0]                    \n",
      "__________________________________________________________________________________________________\n",
      "batch_normalization_7 (BatchNor (None, 256)          1024        dense_1[0][0]                    \n",
      "__________________________________________________________________________________________________\n",
      "elu_5 (ELU)                     (None, 256)          0           batch_normalization_7[0][0]      \n",
      "__________________________________________________________________________________________________\n",
      "dropout_2 (Dropout)             (None, 256)          0           elu_5[0][0]                      \n",
      "__________________________________________________________________________________________________\n",
      "dense_2 (Dense)                 (None, 256)          65792       dropout_2[0][0]                  \n",
      "__________________________________________________________________________________________________\n",
      "batch_normalization_8 (BatchNor (None, 256)          1024        dense_2[0][0]                    \n",
      "__________________________________________________________________________________________________\n",
      "elu_6 (ELU)                     (None, 256)          0           batch_normalization_8[0][0]      \n",
      "__________________________________________________________________________________________________\n",
      "dropout_3 (Dropout)             (None, 256)          0           elu_6[0][0]                      \n",
      "__________________________________________________________________________________________________\n",
      "dense_3 (Dense)                 (None, 6)            1542        dropout_3[0][0]                  \n",
      "==================================================================================================\n",
      "Total params: 19,555,838\n",
      "Trainable params: 1,551,214\n",
      "Non-trainable params: 18,004,624\n",
      "__________________________________________________________________________________________________\n"
     ]
    }
   ],
   "source": [
    "max_words= 30000\n",
    "max_words_length = 400\n",
    "embedding_dimension = 300\n",
    "\n",
    "input_layer = Input(shape=(max_words_length,))\n",
    "\n",
    "pretrained_embedding_layer = Embedding(\n",
    "    max_words, \n",
    "    output_dim=embedding_dimension, \n",
    "    input_length=max_words_length,\n",
    "    weights = [np.load('fast_text_embeddings.npy')],\n",
    "    trainable = False\n",
    ")(input_layer)\n",
    "pretrained_embedding_layer = SpatialDropout1D(0.2)(pretrained_embedding_layer)\n",
    "\n",
    "custom_embedding_layer = Embedding(\n",
    "    max_words, \n",
    "    output_dim=embedding_dimension, \n",
    "    input_length=max_words_length,\n",
    "    weights = [np.load('custom_fast_text_embeddings.npy')],\n",
    "    trainable = False\n",
    ")(input_layer)\n",
    "\n",
    "custom_embedding_layer = SpatialDropout1D(0.2)(custom_embedding_layer)\n",
    "\n",
    "averaged_embedding_layer = Average()([pretrained_embedding_layer, custom_embedding_layer])\n",
    "averaged_embedding_layer = SpatialDropout1D(0.2)(averaged_embedding_layer)\n",
    "\n",
    "model = residual_block(averaged_embedding_layer, should_pool = True)\n",
    "\n",
    "output_layer = yoon_kim_feature_extractor(model, residual_convolution_options['filters'])\n",
    "output_layer = classification_block(output_layer)\n",
    "\n",
    "model = Model(input_layer, output_layer)\n",
    "\n",
    "model.compile(loss='binary_crossentropy', \n",
    "            optimizer='Adam',\n",
    "            metrics=['accuracy'])          \n",
    "\n",
    "model.summary()"
   ]
  },
  {
   "cell_type": "code",
   "execution_count": 13,
   "metadata": {
    "colab": {
     "autoexec": {
      "startup": false,
      "wait_interval": 0
     },
     "base_uri": "https://localhost:8080/",
     "height": 1459
    },
    "colab_type": "code",
    "executionInfo": {
     "elapsed": 10374287,
     "status": "ok",
     "timestamp": 1532614850246,
     "user": {
      "displayName": "Gabrijel Boduljak",
      "photoUrl": "//lh5.googleusercontent.com/-PD9SrWcnqqA/AAAAAAAAAAI/AAAAAAAAAog/cQI0fcnyp_g/s50-c-k-no/photo.jpg",
      "userId": "107143472008987249570"
     },
     "user_tz": -120
    },
    "id": "xwMmTewgXynz",
    "outputId": "3d99cbe6-d43c-44ba-b933-399c8cb3a2c1"
   },
   "outputs": [
    {
     "name": "stdout",
     "output_type": "stream",
     "text": [
      "Train on 102124 samples, validate on 25532 samples\n",
      "Epoch 1/32\n",
      " 21440/102124 [=====>........................] - ETA: 3:50 - loss: 0.1267 - acc: 0.9578102112/102124 [============================>.] - ETA: 0s - loss: 0.0808 - acc: 0.9725102124/102124 [==============================] - 292s 3ms/step - loss: 0.0808 - acc: 0.9725 - val_loss: 0.0493 - val_acc: 0.9814\n",
      "Epoch 2/32\n",
      " 13984/102124 [===>..........................] - ETA: 3:51 - loss: 0.0642 - acc: 0.9773 76800/102124 [=====================>........] - ETA: 1:06 - loss: 0.0611 - acc: 0.9780102124/102124 [==============================] - 287s 3ms/step - loss: 0.0607 - acc: 0.9782 - val_loss: 0.0482 - val_acc: 0.9817\n",
      "roc-auc: 0.9784 - roc-auc_val: 0.9763                                                                                                    \n",
      "Epoch 3/32\n",
      "  2784/102124 [..............................] - ETA: 4:18 - loss: 0.0595 - acc: 0.9778102112/102124 [============================>.] - ETA: 0s - loss: 0.0564 - acc: 0.9795102124/102124 [==============================] - 286s 3ms/step - loss: 0.0564 - acc: 0.9795 - val_loss: 0.0465 - val_acc: 0.9824\n",
      "Epoch 4/32\n",
      " 14048/102124 [===>..........................] - ETA: 3:50 - loss: 0.0533 - acc: 0.9807102112/102124 [============================>.] - ETA: 0s - loss: 0.0546 - acc: 0.9801102124/102124 [==============================] - 287s 3ms/step - loss: 0.0546 - acc: 0.9801 - val_loss: 0.0457 - val_acc: 0.9826\n",
      "roc-auc: 0.9839 - roc-auc_val: 0.9808                                                                                                    \n",
      "Epoch 5/32\n",
      "  8736/102124 [=>............................] - ETA: 4:05 - loss: 0.0538 - acc: 0.9800102112/102124 [============================>.] - ETA: 0s - loss: 0.0523 - acc: 0.9807102124/102124 [==============================] - 286s 3ms/step - loss: 0.0523 - acc: 0.9807 - val_loss: 0.0440 - val_acc: 0.9829\n",
      "Epoch 6/32\n",
      " 14048/102124 [===>..........................] - ETA: 3:49 - loss: 0.0511 - acc: 0.9807102112/102124 [============================>.] - ETA: 0s - loss: 0.0506 - acc: 0.9811102124/102124 [==============================] - 285s 3ms/step - loss: 0.0506 - acc: 0.9811 - val_loss: 0.0439 - val_acc: 0.9834\n",
      "roc-auc: 0.9871 - roc-auc_val: 0.9843                                                                                                    \n",
      "Epoch 7/32\n",
      "  8736/102124 [=>............................] - ETA: 4:04 - loss: 0.0501 - acc: 0.9816102112/102124 [============================>.] - ETA: 0s - loss: 0.0494 - acc: 0.9814102124/102124 [==============================] - 287s 3ms/step - loss: 0.0494 - acc: 0.9814 - val_loss: 0.0426 - val_acc: 0.9833\n",
      "Epoch 8/32\n",
      " 14048/102124 [===>..........................] - ETA: 3:52 - loss: 0.0471 - acc: 0.9824102112/102124 [============================>.] - ETA: 0s - loss: 0.0484 - acc: 0.9817102124/102124 [==============================] - 288s 3ms/step - loss: 0.0484 - acc: 0.9817 - val_loss: 0.0422 - val_acc: 0.9836\n",
      "roc-auc: 0.9891 - roc-auc_val: 0.9864                                                                                                    \n",
      "Epoch 9/32\n",
      "  8736/102124 [=>............................] - ETA: 4:03 - loss: 0.0511 - acc: 0.9808102112/102124 [============================>.] - ETA: 0s - loss: 0.0481 - acc: 0.9818102124/102124 [==============================] - 286s 3ms/step - loss: 0.0481 - acc: 0.9818 - val_loss: 0.0428 - val_acc: 0.9834\n",
      "Epoch 10/32\n",
      "102124/102124 [==============================] - 286s 3ms/step - loss: 0.0474 - acc: 0.9821 - val_loss: 0.0427 - val_acc: 0.9835==>.] - ETA: 0s - loss: 0.0474 - acc: 0.982\n",
      "\n",
      "Epoch 00010: ReduceLROnPlateau reducing learning rate to 0.00019614602206274867.\n",
      "roc-auc: 0.9898 - roc-auc_val: 0.9862                                                                                                    \n",
      "Epoch 11/32\n",
      "  5952/102124 [>.............................] - ETA: 4:12 - loss: 0.0451 - acc: 0.9824102112/102124 [============================>.] - ETA: 0s - loss: 0.0465 - acc: 0.9823102124/102124 [==============================] - 287s 3ms/step - loss: 0.0465 - acc: 0.9823 - val_loss: 0.0428 - val_acc: 0.9834\n",
      "Epoch 12/32\n",
      " 13984/102124 [===>..........................] - ETA: 3:52 - loss: 0.0457 - acc: 0.9824102112/102124 [============================>.] - ETA: 0s - loss: 0.0463 - acc: 0.9823102124/102124 [==============================] - 287s 3ms/step - loss: 0.0463 - acc: 0.9823 - val_loss: 0.0431 - val_acc: 0.9833\n",
      "roc-auc: 0.9904 - roc-auc_val: 0.9864                                                                                                    \n",
      "Epoch 13/32\n",
      "  8704/102124 [=>............................] - ETA: 4:03 - loss: 0.0449 - acc: 0.9832102112/102124 [============================>.] - ETA: 0s - loss: 0.0454 - acc: 0.9827102124/102124 [==============================] - 285s 3ms/step - loss: 0.0454 - acc: 0.9827 - val_loss: 0.0417 - val_acc: 0.9839\n",
      "Epoch 14/32\n",
      " 13984/102124 [===>..........................] - ETA: 3:51 - loss: 0.0430 - acc: 0.9839101248/102124 [============================>.] - ETA: 2s - loss: 0.0447 - acc: 0.9829102124/102124 [==============================] - 289s 3ms/step - loss: 0.0447 - acc: 0.9829 - val_loss: 0.0418 - val_acc: 0.9837\n",
      "roc-auc: 0.9911 - roc-auc_val: 0.9869                                                                                                    \n",
      "Epoch 15/32\n",
      "  8480/102124 [=>............................] - ETA: 4:08 - loss: 0.0460 - acc: 0.9818102112/102124 [============================>.] - ETA: 0s - loss: 0.0448 - acc: 0.9828102124/102124 [==============================] - 288s 3ms/step - loss: 0.0448 - acc: 0.9828 - val_loss: 0.0427 - val_acc: 0.9834\n",
      "Epoch 16/32\n",
      " 13984/102124 [===>..........................] - ETA: 3:51 - loss: 0.0430 - acc: 0.9834102112/102124 [============================>.] - ETA: 0s - loss: 0.0438 - acc: 0.9831102124/102124 [==============================] - 287s 3ms/step - loss: 0.0438 - acc: 0.9831 - val_loss: 0.0415 - val_acc: 0.9839\n",
      "roc-auc: 0.9915 - roc-auc_val: 0.9869                                                                                                    \n",
      "Epoch 17/32\n",
      "  8704/102124 [=>............................] - ETA: 4:04 - loss: 0.0409 - acc: 0.9845102112/102124 [============================>.] - ETA: 0s - loss: 0.0434 - acc: 0.9832102124/102124 [==============================] - 289s 3ms/step - loss: 0.0434 - acc: 0.9832 - val_loss: 0.0408 - val_acc: 0.9841\n",
      "Epoch 18/32\n",
      " 13984/102124 [===>..........................] - ETA: 3:51 - loss: 0.0440 - acc: 0.9827102112/102124 [============================>.] - ETA: 0s - loss: 0.0431 - acc: 0.9834102124/102124 [==============================] - 289s 3ms/step - loss: 0.0431 - acc: 0.9834 - val_loss: 0.0410 - val_acc: 0.9841\n",
      "roc-auc: 0.9919 - roc-auc_val: 0.987                                                                                                    \n",
      "Epoch 19/32\n",
      "  8736/102124 [=>............................] - ETA: 4:10 - loss: 0.0378 - acc: 0.9851102112/102124 [============================>.] - ETA: 0s - loss: 0.0426 - acc: 0.9835102124/102124 [==============================] - 289s 3ms/step - loss: 0.0426 - acc: 0.9835 - val_loss: 0.0416 - val_acc: 0.9840\n",
      "Epoch 20/32\n",
      " 13984/102124 [===>..........................] - ETA: 3:51 - loss: 0.0426 - acc: 0.9834102112/102124 [============================>.] - ETA: 0s - loss: 0.0429 - acc: 0.9836102124/102124 [==============================] - 287s 3ms/step - loss: 0.0429 - acc: 0.9836 - val_loss: 0.0423 - val_acc: 0.9835\n",
      "roc-auc: 0.9922 - roc-auc_val: 0.9872                                                                                                    \n",
      "Epoch 21/32\n",
      "  8704/102124 [=>............................] - ETA: 4:04 - loss: 0.0426 - acc: 0.9841102112/102124 [============================>.] - ETA: 0s - loss: 0.0426 - acc: 0.9837102124/102124 [==============================] - 288s 3ms/step - loss: 0.0426 - acc: 0.9837 - val_loss: 0.0405 - val_acc: 0.9842\n",
      "Epoch 22/32\n",
      " 13984/102124 [===>..........................] - ETA: 3:52 - loss: 0.0403 - acc: 0.9841102112/102124 [============================>.] - ETA: 0s - loss: 0.0422 - acc: 0.9837102124/102124 [==============================] - 289s 3ms/step - loss: 0.0422 - acc: 0.9837 - val_loss: 0.0410 - val_acc: 0.9842\n",
      "roc-auc: 0.9923 - roc-auc_val: 0.9874                                                                                                    \n",
      "Epoch 23/32\n"
     ]
    },
    {
     "name": "stdout",
     "output_type": "stream",
     "text": [
      "102124/102124 [==============================] - 289s 3ms/step - loss: 0.0420 - acc: 0.9838 - val_loss: 0.0410 - val_acc: 0.9841==>.] - ETA: 0s - loss: 0.0420 - acc: 0.983\n",
      "\n",
      "Epoch 00023: ReduceLROnPlateau reducing learning rate to 5.076577508589253e-05.\n",
      "Epoch 24/32\n",
      "  8032/102124 [=>............................] - ETA: 4:08 - loss: 0.0448 - acc: 0.9823 74560/102124 [====================>.........] - ETA: 1:12 - loss: 0.0425 - acc: 0.9837102124/102124 [==============================] - 290s 3ms/step - loss: 0.0420 - acc: 0.9838 - val_loss: 0.0408 - val_acc: 0.9842\n",
      "roc-auc: 0.9928 - roc-auc_val: 0.9872                                                                                                    \n",
      "Epoch 25/32\n",
      "  2240/102124 [..............................] - ETA: 4:22 - loss: 0.0391 - acc: 0.9847 50304/102124 [=============>................] - ETA: 2:18 - loss: 0.0409 - acc: 0.9842 88800/102124 [=========================>....] - ETA: 35s - loss: 0.0413 - acc: 0.9841102124/102124 [==============================] - 293s 3ms/step - loss: 0.0413 - acc: 0.9842 - val_loss: 0.0406 - val_acc: 0.9844\n",
      "Epoch 26/32\n",
      "  8960/102124 [=>............................] - ETA: 4:10 - loss: 0.0407 - acc: 0.9845 51872/102124 [==============>...............] - ETA: 2:16 - loss: 0.0414 - acc: 0.9843102112/102124 [============================>.] - ETA: 0s - loss: 0.0414 - acc: 0.9842102124/102124 [==============================] - 293s 3ms/step - loss: 0.0414 - acc: 0.9842 - val_loss: 0.0406 - val_acc: 0.9843\n",
      "roc-auc: 0.9929 - roc-auc_val: 0.9878                                                                                                    \n",
      "Epoch 27/32\n",
      "  8704/102124 [=>............................] - ETA: 4:06 - loss: 0.0429 - acc: 0.9836 87424/102124 [========================>.....] - ETA: 38s - loss: 0.0412 - acc: 0.9840102124/102124 [==============================] - 288s 3ms/step - loss: 0.0411 - acc: 0.9841 - val_loss: 0.0409 - val_acc: 0.9843\n",
      "Epoch 28/32\n",
      "  8384/102124 [=>............................] - ETA: 4:14 - loss: 0.0417 - acc: 0.9836102112/102124 [============================>.] - ETA: 0s - loss: 0.0411 - acc: 0.9841102124/102124 [==============================] - 292s 3ms/step - loss: 0.0411 - acc: 0.9841 - val_loss: 0.0409 - val_acc: 0.9842\n",
      "roc-auc: 0.993 - roc-auc_val: 0.9876                                                                                                    \n",
      "Epoch 29/32\n",
      "  8736/102124 [=>............................] - ETA: 4:06 - loss: 0.0433 - acc: 0.9829 60704/102124 [================>.............] - ETA: 1:50 - loss: 0.0415 - acc: 0.9839102112/102124 [============================>.] - ETA: 0s - loss: 0.0411 - acc: 0.9841102124/102124 [==============================] - 290s 3ms/step - loss: 0.0411 - acc: 0.9841 - val_loss: 0.0409 - val_acc: 0.9842\n",
      "Epoch 30/32\n",
      " 13984/102124 [===>..........................] - ETA: 3:54 - loss: 0.0406 - acc: 0.9840102112/102124 [============================>.] - ETA: 0s - loss: 0.0409 - acc: 0.9840102124/102124 [==============================] - 290s 3ms/step - loss: 0.0409 - acc: 0.9840 - val_loss: 0.0410 - val_acc: 0.9842\n",
      "roc-auc: 0.9932 - roc-auc_val: 0.9878                                                                                                    \n",
      "Epoch 31/32\n",
      "102124/102124 [==============================] - 285s 3ms/step - loss: 0.0407 - acc: 0.9841 - val_loss: 0.0406 - val_acc: 0.9842==>.] - ETA: 0s - loss: 0.0407 - acc: 0.984\n"
     ]
    }
   ],
   "source": [
    "history = train_with_cv(model, batchSize=32, rocEvery = 2)"
   ]
  },
  {
   "cell_type": "code",
   "execution_count": 14,
   "metadata": {
    "colab": {
     "autoexec": {
      "startup": false,
      "wait_interval": 0
     },
     "base_uri": "https://localhost:8080/",
     "height": 295
    },
    "colab_type": "code",
    "executionInfo": {
     "elapsed": 2821,
     "status": "ok",
     "timestamp": 1532614853084,
     "user": {
      "displayName": "Gabrijel Boduljak",
      "photoUrl": "//lh5.googleusercontent.com/-PD9SrWcnqqA/AAAAAAAAAAI/AAAAAAAAAog/cQI0fcnyp_g/s50-c-k-no/photo.jpg",
      "userId": "107143472008987249570"
     },
     "user_tz": -120
    },
    "id": "izWCJ3HMReV3",
    "outputId": "b8b9cd5c-1486-4cbf-8afe-f19caf1749c1"
   },
   "outputs": [
    {
     "data": {
      "image/png": "[encoded data removed]",
      "text/plain": [
       "<matplotlib.figure.Figure at 0x7fc9c0ac0630>"
      ]
     },
     "metadata": {
      "tags": []
     },
     "output_type": "display_data"
    }
   ],
   "source": [
    "plot_history(history)"
   ]
  },
  {
   "cell_type": "code",
   "execution_count": 15,
   "metadata": {
    "colab": {
     "autoexec": {
      "startup": false,
      "wait_interval": 0
     },
     "base_uri": "https://localhost:8080/",
     "height": 52
    },
    "colab_type": "code",
    "executionInfo": {
     "elapsed": 50669,
     "status": "ok",
     "timestamp": 1532614903782,
     "user": {
      "displayName": "Gabrijel Boduljak",
      "photoUrl": "//lh5.googleusercontent.com/-PD9SrWcnqqA/AAAAAAAAAAI/AAAAAAAAAog/cQI0fcnyp_g/s50-c-k-no/photo.jpg",
      "userId": "107143472008987249570"
     },
     "user_tz": -120
    },
    "id": "r2gtMBj2Tp9A",
    "outputId": "b2de2efc-5eaf-484d-e474-4c48b47a6cac"
   },
   "outputs": [
    {
     "name": "stdout",
     "output_type": "stream",
     "text": [
      "31915/31915 [==============================] - 26s 824us/step\n",
      "([0.03969892793803819, 0.9844221496346713], 0.9887397078802019)\n"
     ]
    }
   ],
   "source": [
    "print(evaluate_on_test(model))"
   ]
  }
 ],
 "metadata": {
  "accelerator": "GPU",
  "colab": {
   "collapsed_sections": [],
   "default_view": {},
   "name": "resnet_1_block_identity_pool.ipynb",
   "provenance": [],
   "version": "0.3.2",
   "views": {}
  },
  "kernelspec": {
   "display_name": "Python 3",
   "language": "python",
   "name": "python3"
  },
  "language_info": {
   "codemirror_mode": {
    "name": "ipython",
    "version": 3
   },
   "file_extension": ".py",
   "mimetype": "text/x-python",
   "name": "python",
   "nbconvert_exporter": "python",
   "pygments_lexer": "ipython3",
   "version": "3.6.2"
  }
 },
 "nbformat": 4,
 "nbformat_minor": 1
}

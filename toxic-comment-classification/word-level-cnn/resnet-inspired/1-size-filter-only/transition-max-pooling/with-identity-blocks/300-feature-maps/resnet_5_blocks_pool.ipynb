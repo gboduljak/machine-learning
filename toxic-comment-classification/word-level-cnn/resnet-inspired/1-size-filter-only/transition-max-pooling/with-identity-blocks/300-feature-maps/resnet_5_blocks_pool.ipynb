{
  "nbformat": 4,
  "nbformat_minor": 0,
  "metadata": {
    "colab": {
      "name": "resnet_5_blocks_identity.ipynb",
      "version": "0.3.2",
      "views": {},
      "default_view": {},
      "provenance": [],
      "collapsed_sections": []
    },
    "kernelspec": {
      "display_name": "Python 3",
      "language": "python",
      "name": "python3"
    },
    "accelerator": "GPU"
  },
  "cells": [
    {
      "metadata": {
        "id": "yS1FnhiWX3Js",
        "colab_type": "code",
        "colab": {
          "autoexec": {
            "startup": false,
            "wait_interval": 0
          },
          "base_uri": "https://localhost:8080/",
          "height": 419
        },
        "outputId": "7720d313-1615-4598-bf8e-0e1ffdc2c8f2",
        "executionInfo": {
          "status": "ok",
          "timestamp": 1532604818683,
          "user_tz": -120,
          "elapsed": 10873,
          "user": {
            "displayName": "Deep Learning",
            "photoUrl": "https://lh3.googleusercontent.com/a/default-user=s128",
            "userId": "110970714976109420834"
          }
        }
      },
      "cell_type": "code",
      "source": [
        "!pip install keras\n",
        "!pip install sklearn\n",
        "!pip install matplotlib\n",
        "!pip install -U -q PyDrive"
      ],
      "execution_count": 1,
      "outputs": [
        {
          "output_type": "stream",
          "text": [
            "Requirement already satisfied: keras in /usr/local/lib/python3.6/dist-packages (2.1.6)\r\n",
            "Requirement already satisfied: pyyaml in /usr/local/lib/python3.6/dist-packages (from keras) (3.13)\r\n",
            "Requirement already satisfied: six>=1.9.0 in /usr/local/lib/python3.6/dist-packages (from keras) (1.11.0)\r\n",
            "Requirement already satisfied: numpy>=1.9.1 in /usr/local/lib/python3.6/dist-packages (from keras) (1.14.5)\r\n",
            "Requirement already satisfied: scipy>=0.14 in /usr/local/lib/python3.6/dist-packages (from keras) (0.19.1)\n",
            "Requirement already satisfied: h5py in /usr/local/lib/python3.6/dist-packages (from keras) (2.8.0)\n",
            "Collecting sklearn\n",
            "  Downloading https://files.pythonhosted.org/packages/1e/7a/dbb3be0ce9bd5c8b7e3d87328e79063f8b263b2b1bfa4774cb1147bfcd3f/sklearn-0.0.tar.gz\n",
            "Requirement already satisfied: scikit-learn in /usr/local/lib/python3.6/dist-packages (from sklearn) (0.19.2)\n",
            "Building wheels for collected packages: sklearn\n",
            "  Running setup.py bdist_wheel for sklearn ... \u001b[?25l-\b \bdone\n",
            "\u001b[?25h  Stored in directory: /content/.cache/pip/wheels/76/03/bb/589d421d27431bcd2c6da284d5f2286c8e3b2ea3cf1594c074\n",
            "Successfully built sklearn\n",
            "Installing collected packages: sklearn\n",
            "Successfully installed sklearn-0.0\n",
            "Requirement already satisfied: matplotlib in /usr/local/lib/python3.6/dist-packages (2.1.2)\n",
            "Requirement already satisfied: six>=1.10 in /usr/local/lib/python3.6/dist-packages (from matplotlib) (1.11.0)\n",
            "Requirement already satisfied: pytz in /usr/local/lib/python3.6/dist-packages (from matplotlib) (2018.5)\n",
            "Requirement already satisfied: cycler>=0.10 in /usr/local/lib/python3.6/dist-packages (from matplotlib) (0.10.0)\n",
            "Requirement already satisfied: pyparsing!=2.0.4,!=2.1.2,!=2.1.6,>=2.0.1 in /usr/local/lib/python3.6/dist-packages (from matplotlib) (2.2.0)\n",
            "Requirement already satisfied: python-dateutil>=2.1 in /usr/local/lib/python3.6/dist-packages (from matplotlib) (2.5.3)\n",
            "Requirement already satisfied: numpy>=1.7.1 in /usr/local/lib/python3.6/dist-packages (from matplotlib) (1.14.5)\n"
          ],
          "name": "stdout"
        }
      ]
    },
    {
      "metadata": {
        "id": "xlKzkDJFrjA-",
        "colab_type": "code",
        "colab": {
          "autoexec": {
            "startup": false,
            "wait_interval": 0
          },
          "base_uri": "https://localhost:8080/",
          "height": 35
        },
        "outputId": "41907e74-888c-4224-d0ca-d401d39cd17f",
        "executionInfo": {
          "status": "ok",
          "timestamp": 1532604827288,
          "user_tz": -120,
          "elapsed": 8523,
          "user": {
            "displayName": "Deep Learning",
            "photoUrl": "https://lh3.googleusercontent.com/a/default-user=s128",
            "userId": "110970714976109420834"
          }
        }
      },
      "cell_type": "code",
      "source": [
        "from keras import backend as K\n",
        "K.clear_session()"
      ],
      "execution_count": 2,
      "outputs": [
        {
          "output_type": "stream",
          "text": [
            "Using TensorFlow backend.\n"
          ],
          "name": "stderr"
        }
      ]
    },
    {
      "metadata": {
        "id": "eQEKwl4oAxO7",
        "colab_type": "code",
        "colab": {
          "autoexec": {
            "startup": false,
            "wait_interval": 0
          }
        }
      },
      "cell_type": "code",
      "source": [
        "from keras import backend as K\n",
        "cfg = K.tf.ConfigProto()\n",
        "cfg.gpu_options.allow_growth = True\n",
        "K.set_session(K.tf.Session(config=cfg))"
      ],
      "execution_count": 0,
      "outputs": []
    },
    {
      "metadata": {
        "id": "12M0egCCX-27",
        "colab_type": "code",
        "colab": {
          "autoexec": {
            "startup": false,
            "wait_interval": 0
          }
        }
      },
      "cell_type": "code",
      "source": [
        "from pydrive.auth import GoogleAuth\n",
        "from pydrive.drive import GoogleDrive\n",
        "from google.colab import auth\n",
        "from oauth2client.client import GoogleCredentials\n",
        "\n",
        "auth.authenticate_user()\n",
        "gauth = GoogleAuth()\n",
        "gauth.credentials = GoogleCredentials.get_application_default()\n",
        "drive = GoogleDrive(gauth)"
      ],
      "execution_count": 0,
      "outputs": []
    },
    {
      "metadata": {
        "id": "4lN2WTUEYBYv",
        "colab_type": "code",
        "colab": {
          "autoexec": {
            "startup": false,
            "wait_interval": 0
          }
        }
      },
      "cell_type": "code",
      "source": [
        "file_import = drive.CreateFile({'id':'1p1bsltfTcIrZ_kfE6kwGTPzcdXorHbb2'})\n",
        "file_import.GetContentFile('colab_setup.py') \n",
        "from colab_setup import setup\n",
        "\n",
        "setup(drive)"
      ],
      "execution_count": 0,
      "outputs": []
    },
    {
      "metadata": {
        "id": "cHBlD0tVj2TY",
        "colab_type": "code",
        "colab": {
          "autoexec": {
            "startup": false,
            "wait_interval": 0
          },
          "base_uri": "https://localhost:8080/",
          "height": 121
        },
        "outputId": "2142b229-b454-4034-9c84-783d90d07b35",
        "executionInfo": {
          "status": "ok",
          "timestamp": 1532604901914,
          "user_tz": -120,
          "elapsed": 1762,
          "user": {
            "displayName": "Deep Learning",
            "photoUrl": "https://lh3.googleusercontent.com/a/default-user=s128",
            "userId": "110970714976109420834"
          }
        }
      },
      "cell_type": "code",
      "source": [
        "!ls"
      ],
      "execution_count": 6,
      "outputs": [
        {
          "output_type": "stream",
          "text": [
            "colab_setup.py\t\t\t roc_auc_callback.py\tX_train.npy\r\n",
            "custom_fast_text_embeddings.npy  sample_submission.csv\tX_val.npy\r\n",
            "datalab\t\t\t\t train_model.py\t\ty_test.npy\r\n",
            "fast_text_embeddings.npy\t X_submission.npy\ty_train_full.npy\r\n",
            "plot_history.py\t\t\t X_test.npy\t\ty_train.npy\r\n",
            "__pycache__\t\t\t X_train_full.npy\ty_val.npy\r\n"
          ],
          "name": "stdout"
        }
      ]
    },
    {
      "metadata": {
        "id": "yMwWPTMYXyno",
        "colab_type": "code",
        "colab": {
          "autoexec": {
            "startup": false,
            "wait_interval": 0
          }
        }
      },
      "cell_type": "code",
      "source": [
        "import numpy as np\n",
        "import os\n",
        "\n",
        "from plot_history import plot_history\n",
        "from roc_auc_callback import RocAucCallback\n",
        "from train_model import train_with_cv, train_with_submitting, evaluate_on_test\n",
        "\n",
        "from keras.layers import *\n",
        "from keras.layers.merge import *\n",
        "from keras.initializers import *\n",
        "from keras.models import Model"
      ],
      "execution_count": 0,
      "outputs": []
    },
    {
      "metadata": {
        "id": "irwBTJdINU0J",
        "colab_type": "code",
        "colab": {
          "autoexec": {
            "startup": false,
            "wait_interval": 0
          }
        }
      },
      "cell_type": "code",
      "source": [
        "from keras.optimizers import *\n",
        "from keras.initializers import *\n",
        "from keras.layers import *\n",
        "from keras.layers.merge import *\n",
        "from keras.models import *\n",
        "\n",
        "residual_convolution_options = dict({\n",
        "    'dropout_mode': 'spatial',\n",
        "    'dropout_rate': 0.2,\n",
        "    'filters': 300,\n",
        "    'kernel_size': 1,\n",
        "    'strides': 1,\n",
        "    'padding': 'same',\n",
        "    'activation': 'elu',\n",
        "    'should_preactivate': True\n",
        "})\n",
        "\n",
        "def convolution_block(input_layer, options):\n",
        "    convolution_input = Input(shape=[\n",
        "        int(input_layer.shape[1]),\n",
        "        int(input_layer.shape[2])\n",
        "    ])\n",
        "\n",
        "    convolution_block = convolution_input\n",
        "\n",
        "    if(options['should_preactivate']):\n",
        "        convolution_block = BatchNormalization()(convolution_block)\n",
        "        convolution_block = Activation(options['activation'])(convolution_block)\n",
        "        convolution_block = Conv1D(options['filters'], options['kernel_size'], strides=options['strides'],\n",
        "                                   padding=options['padding'], activation='linear', kernel_initializer='he_normal')(convolution_block)\n",
        "    else:\n",
        "        convolution_block = Conv1D(options['filters'], options['kernel_size'], strides=options['strides'],\n",
        "                                   padding=options['padding'], activation='linear', kernel_initializer='he_normal')(convolution_block)\n",
        "        convolution_block = BatchNormalization()(convolution_block)\n",
        "        convolution_block = Activation(options['activation'])(convolution_block)\n",
        "\n",
        "    convolution_output = convolution_block\n",
        "\n",
        "    if(options['dropout_mode'] == 'spatial'):\n",
        "        convolution_output = SpatialDropout1D(options['dropout_rate'])(convolution_output)\n",
        "    if(options['dropout_mode']== 'vanilla'):\n",
        "        convolution_output = Dropout(options['dropout_rate'])(convolution_output)\n",
        "\n",
        "    return Model(inputs=[convolution_input], outputs=[convolution_output])(input_layer)"
      ],
      "execution_count": 0,
      "outputs": []
    },
    {
      "metadata": {
        "id": "sD9D5r9-Sdg7",
        "colab_type": "code",
        "colab": {
          "autoexec": {
            "startup": false,
            "wait_interval": 0
          }
        }
      },
      "cell_type": "code",
      "source": [
        "def residual_block(input_layer, should_pool):\n",
        "    convolution_input = Input(shape=[\n",
        "        int(input_layer.shape[1]),\n",
        "        int(input_layer.shape[2])\n",
        "    ])\n",
        "    \n",
        "    residual_block_pool = convolution_input\n",
        "\n",
        "    if(should_pool):\n",
        "        residual_block_pool = MaxPooling1D(pool_size=2, strides=2, padding='same')(convolution_input)\n",
        "\n",
        "    residual_block = convolution_block(\n",
        "        residual_block_pool, residual_convolution_options)\n",
        "    residual_block = convolution_block(\n",
        "        residual_block, residual_convolution_options)\n",
        "\n",
        "    convolution_output = add([residual_block, residual_block_pool])\n",
        "\n",
        "    return Model(inputs=[convolution_input], outputs=[convolution_output])(input_layer)"
      ],
      "execution_count": 0,
      "outputs": []
    },
    {
      "metadata": {
        "id": "xOfIVhpoSdpQ",
        "colab_type": "code",
        "colab": {
          "autoexec": {
            "startup": false,
            "wait_interval": 0
          }
        }
      },
      "cell_type": "code",
      "source": [
        "def yoon_kim_feature_extractor(input_layer, filters):\n",
        "    extractor_block_input = Input(shape=[\n",
        "        int(input_layer.shape[1]),\n",
        "        int(input_layer.shape[2])\n",
        "    ])\n",
        "\n",
        "    block_1_conv_1 = Conv1D(filters, 1, activation = 'linear', padding = 'same', kernel_initializer = 'he_normal')(extractor_block_input)\n",
        "    block_1_batchnorm1 = BatchNormalization()(block_1_conv_1)\n",
        "    block_1_batchnorm1 = ELU()(block_1_batchnorm1)\n",
        "    block_1_max_pool1 = GlobalMaxPooling1D()(block_1_batchnorm1)\n",
        "\n",
        "    block_1_conv_2 = Conv1D(filters, 2, activation = 'linear', padding = 'same', kernel_initializer = 'he_normal')(extractor_block_input)\n",
        "    block_1_batchnorm2 = BatchNormalization()(block_1_conv_2)\n",
        "    block_1_batchnorm2 = ELU()(block_1_batchnorm2)\n",
        "    block_1_max_pool2 = GlobalMaxPooling1D()(block_1_batchnorm2)\n",
        "\n",
        "    block_1_conv_3 = Conv1D(filters, 3, activation = 'linear', padding = 'same', kernel_initializer = 'he_normal')(extractor_block_input)\n",
        "    block_1_batchnorm3 = BatchNormalization()(block_1_conv_3)\n",
        "    block_1_batchnorm3 = ELU()(block_1_batchnorm3)\n",
        "    block_1_max_pool3 = GlobalMaxPooling1D()(block_1_batchnorm3)\n",
        "\n",
        "    block_1_conv_4 = Conv1D(filters, 5, activation = 'linear', padding = 'same', kernel_initializer = 'he_normal')(extractor_block_input)\n",
        "    block_1_batchnorm4 = BatchNormalization()(block_1_conv_4)\n",
        "    block_1_batchnorm4 = ELU()(block_1_batchnorm4)\n",
        "    block_1_max_pool4 = GlobalMaxPooling1D()(block_1_batchnorm4)\n",
        "\n",
        "    features = concatenate([\n",
        "        block_1_max_pool1, \n",
        "        block_1_max_pool2, \n",
        "        block_1_max_pool3, \n",
        "        block_1_max_pool4\n",
        "    ])\n",
        "    \n",
        "    extractor_block_output = Dropout(0.2)(features)\n",
        "    \n",
        "    return Model(\n",
        "        inputs=[extractor_block_input], \n",
        "        outputs=[extractor_block_output]\n",
        "    )(input_layer)"
      ],
      "execution_count": 0,
      "outputs": []
    },
    {
      "metadata": {
        "id": "PHbVmJqTSdxU",
        "colab_type": "code",
        "colab": {
          "autoexec": {
            "startup": false,
            "wait_interval": 0
          }
        }
      },
      "cell_type": "code",
      "source": [
        "def classification_block(input_layer, dropout_rate = 0.2):\n",
        "      \n",
        "    model = Dense(256, activation = 'linear', kernel_initializer = 'he_normal')(input_layer)\n",
        "    model = BatchNormalization()(model)\n",
        "    model = ELU()(model)\n",
        "    model = Dropout(dropout_rate)(model)\n",
        "    \n",
        "    model = Dense(256, activation = 'linear', kernel_initializer = 'he_normal')(model)\n",
        "    model = BatchNormalization()(model)\n",
        "    model = ELU()(model)\n",
        "    model = Dropout(dropout_rate)(model)\n",
        "\n",
        "    classification_block_output = Dense(6, activation='sigmoid', kernel_initializer = 'glorot_normal')(model)\n",
        "    \n",
        "    return classification_block_output"
      ],
      "execution_count": 0,
      "outputs": []
    },
    {
      "metadata": {
        "id": "LTFG7OgsXynw",
        "colab_type": "code",
        "colab": {
          "autoexec": {
            "startup": false,
            "wait_interval": 0
          },
          "base_uri": "https://localhost:8080/",
          "height": 919
        },
        "outputId": "90df64fe-8f8d-42ce-bf3b-355e989c25fe",
        "executionInfo": {
          "status": "ok",
          "timestamp": 1532604912787,
          "user_tz": -120,
          "elapsed": 6966,
          "user": {
            "displayName": "Deep Learning",
            "photoUrl": "https://lh3.googleusercontent.com/a/default-user=s128",
            "userId": "110970714976109420834"
          }
        }
      },
      "cell_type": "code",
      "source": [
        "max_words= 30000\n",
        "max_words_length = 400\n",
        "embedding_dimension = 300\n",
        "\n",
        "input_layer = Input(shape=(max_words_length,))\n",
        "\n",
        "pretrained_embedding_layer = Embedding(\n",
        "    max_words, \n",
        "    output_dim=embedding_dimension, \n",
        "    input_length=max_words_length,\n",
        "    weights = [np.load('fast_text_embeddings.npy')],\n",
        "    trainable = False\n",
        ")(input_layer)\n",
        "pretrained_embedding_layer = SpatialDropout1D(0.2)(pretrained_embedding_layer)\n",
        "\n",
        "custom_embedding_layer = Embedding(\n",
        "    max_words, \n",
        "    output_dim=embedding_dimension, \n",
        "    input_length=max_words_length,\n",
        "    weights = [np.load('custom_fast_text_embeddings.npy')],\n",
        "    trainable = False\n",
        ")(input_layer)\n",
        "custom_embedding_layer = SpatialDropout1D(0.2)(custom_embedding_layer)\n",
        "\n",
        "averaged_embedding_layer = Average()([pretrained_embedding_layer, custom_embedding_layer])\n",
        "averaged_embedding_layer = SpatialDropout1D(0.2)(averaged_embedding_layer)\n",
        "\n",
        "model = residual_block(averaged_embedding_layer, should_pool = False)\n",
        "model = residual_block(model, should_pool = True)\n",
        "model = residual_block(model, should_pool = True)\n",
        "model = residual_block(model, should_pool = True)\n",
        "model = residual_block(model, should_pool = True)\n",
        "\n",
        "output_layer = yoon_kim_feature_extractor(model, residual_convolution_options['filters'])\n",
        "output_layer = classification_block(output_layer)\n",
        "\n",
        "model = Model(input_layer, output_layer)\n",
        "\n",
        "model.compile(loss='binary_crossentropy', \n",
        "            optimizer='Adam',\n",
        "            metrics=['accuracy'])          \n",
        "\n",
        "model.summary()"
      ],
      "execution_count": 12,
      "outputs": [
        {
          "output_type": "stream",
          "text": [
            "__________________________________________________________________________________________________\n",
            "Layer (type)                    Output Shape         Param #     Connected to                     \n",
            "==================================================================================================\n",
            "input_1 (InputLayer)            (None, 400)          0                                            \n",
            "__________________________________________________________________________________________________\n",
            "embedding_1 (Embedding)         (None, 400, 300)     9000000     input_1[0][0]                    \n",
            "__________________________________________________________________________________________________\n",
            "embedding_2 (Embedding)         (None, 400, 300)     9000000     input_1[0][0]                    \n",
            "__________________________________________________________________________________________________\n",
            "spatial_dropout1d_1 (SpatialDro (None, 400, 300)     0           embedding_1[0][0]                \n",
            "__________________________________________________________________________________________________\n",
            "spatial_dropout1d_2 (SpatialDro (None, 400, 300)     0           embedding_2[0][0]                \n",
            "__________________________________________________________________________________________________\n",
            "average_1 (Average)             (None, 400, 300)     0           spatial_dropout1d_1[0][0]        \n",
            "                                                                 spatial_dropout1d_2[0][0]        \n",
            "__________________________________________________________________________________________________\n",
            "spatial_dropout1d_3 (SpatialDro (None, 400, 300)     0           average_1[0][0]                  \n",
            "__________________________________________________________________________________________________\n",
            "model_3 (Model)                 (None, 400, 300)     183000      spatial_dropout1d_3[0][0]        \n",
            "__________________________________________________________________________________________________\n",
            "model_6 (Model)                 (None, 200, 300)     183000      model_3[1][0]                    \n",
            "__________________________________________________________________________________________________\n",
            "model_9 (Model)                 (None, 100, 300)     183000      model_6[1][0]                    \n",
            "__________________________________________________________________________________________________\n",
            "model_12 (Model)                (None, 50, 300)      183000      model_9[1][0]                    \n",
            "__________________________________________________________________________________________________\n",
            "model_15 (Model)                (None, 25, 300)      183000      model_12[1][0]                   \n",
            "__________________________________________________________________________________________________\n",
            "model_16 (Model)                (None, 1200)         996000      model_15[1][0]                   \n",
            "__________________________________________________________________________________________________\n",
            "dense_1 (Dense)                 (None, 256)          307456      model_16[1][0]                   \n",
            "__________________________________________________________________________________________________\n",
            "batch_normalization_15 (BatchNo (None, 256)          1024        dense_1[0][0]                    \n",
            "__________________________________________________________________________________________________\n",
            "elu_5 (ELU)                     (None, 256)          0           batch_normalization_15[0][0]     \n",
            "__________________________________________________________________________________________________\n",
            "dropout_2 (Dropout)             (None, 256)          0           elu_5[0][0]                      \n",
            "__________________________________________________________________________________________________\n",
            "dense_2 (Dense)                 (None, 256)          65792       dropout_2[0][0]                  \n",
            "__________________________________________________________________________________________________\n",
            "batch_normalization_16 (BatchNo (None, 256)          1024        dense_2[0][0]                    \n",
            "__________________________________________________________________________________________________\n",
            "elu_6 (ELU)                     (None, 256)          0           batch_normalization_16[0][0]     \n",
            "__________________________________________________________________________________________________\n",
            "dropout_3 (Dropout)             (None, 256)          0           elu_6[0][0]                      \n",
            "__________________________________________________________________________________________________\n",
            "dense_3 (Dense)                 (None, 6)            1542        dropout_3[0][0]                  \n",
            "==================================================================================================\n",
            "Total params: 20,287,838\n",
            "Trainable params: 2,278,414\n",
            "Non-trainable params: 18,009,424\n",
            "__________________________________________________________________________________________________\n"
          ],
          "name": "stdout"
        }
      ]
    },
    {
      "metadata": {
        "id": "xwMmTewgXynz",
        "colab_type": "code",
        "colab": {
          "autoexec": {
            "startup": false,
            "wait_interval": 0
          },
          "base_uri": "https://localhost:8080/",
          "height": 1545
        },
        "outputId": "45d6a965-f6b9-4007-d028-361df98e31ae",
        "executionInfo": {
          "status": "ok",
          "timestamp": 1532617850447,
          "user_tz": -120,
          "elapsed": 12937608,
          "user": {
            "displayName": "Deep Learning",
            "photoUrl": "https://lh3.googleusercontent.com/a/default-user=s128",
            "userId": "110970714976109420834"
          }
        }
      },
      "cell_type": "code",
      "source": [
        "history = train_with_cv(model, batchSize=32, rocEvery = 2)"
      ],
      "execution_count": 13,
      "outputs": [
        {
          "output_type": "stream",
          "text": [
            "Train on 102124 samples, validate on 25532 samples\n",
            "Epoch 1/32\n",
            " 21088/102124 [=====>........................] - ETA: 4:56 - loss: 0.1234 - acc: 0.9582"
          ],
          "name": "stdout"
        },
        {
          "output_type": "stream",
          "text": [
            " 59872/102124 [================>.............] - ETA: 2:22 - loss: 0.0876 - acc: 0.9700"
          ],
          "name": "stdout"
        },
        {
          "output_type": "stream",
          "text": [
            " 99296/102124 [============================>.] - ETA: 9s - loss: 0.0764 - acc: 0.9735"
          ],
          "name": "stdout"
        },
        {
          "output_type": "stream",
          "text": [
            "102124/102124 [==============================] - 361s 4ms/step - loss: 0.0759 - acc: 0.9736 - val_loss: 0.0484 - val_acc: 0.9821\n",
            "Epoch 2/32\n",
            " 12832/102124 [==>...........................] - ETA: 4:48 - loss: 0.0599 - acc: 0.9775"
          ],
          "name": "stdout"
        },
        {
          "output_type": "stream",
          "text": [
            " 54176/102124 [==============>...............] - ETA: 2:35 - loss: 0.0568 - acc: 0.9791"
          ],
          "name": "stdout"
        },
        {
          "output_type": "stream",
          "text": [
            " 95744/102124 [===========================>..] - ETA: 20s - loss: 0.0555 - acc: 0.9796"
          ],
          "name": "stdout"
        },
        {
          "output_type": "stream",
          "text": [
            "102124/102124 [==============================] - 352s 3ms/step - loss: 0.0557 - acc: 0.9796 - val_loss: 0.0523 - val_acc: 0.9797\n",
            "roc-auc: 0.98 - roc-auc_val: 0.9755                                                                                                    \n",
            "Epoch 3/32\n",
            "  7104/102124 [=>............................] - ETA: 5:05 - loss: 0.0530 - acc: 0.9807"
          ],
          "name": "stdout"
        },
        {
          "output_type": "stream",
          "text": [
            " 67232/102124 [==================>...........] - ETA: 1:53 - loss: 0.0527 - acc: 0.9805"
          ],
          "name": "stdout"
        },
        {
          "output_type": "stream",
          "text": [
            "102124/102124 [==============================] - 353s 3ms/step - loss: 0.0524 - acc: 0.9806 - val_loss: 0.0474 - val_acc: 0.9824\n",
            "Epoch 4/32\n",
            "   608/102124 [..............................] - ETA: 5:36 - loss: 0.0398 - acc: 0.9846"
          ],
          "name": "stdout"
        },
        {
          "output_type": "stream",
          "text": [
            " 59200/102124 [================>.............] - ETA: 2:19 - loss: 0.0504 - acc: 0.9811"
          ],
          "name": "stdout"
        },
        {
          "output_type": "stream",
          "text": [
            "102112/102124 [============================>.] - ETA: 0s - loss: 0.0494 - acc: 0.9816"
          ],
          "name": "stdout"
        },
        {
          "output_type": "stream",
          "text": [
            "102124/102124 [==============================] - 352s 3ms/step - loss: 0.0494 - acc: 0.9816 - val_loss: 0.0429 - val_acc: 0.9834\n",
            "roc-auc: 0.9846 - roc-auc_val: 0.9806                                                                                                    \n",
            "Epoch 5/32\n",
            "  8640/102124 [=>............................] - ETA: 5:02 - loss: 0.0497 - acc: 0.9813"
          ],
          "name": "stdout"
        },
        {
          "output_type": "stream",
          "text": [
            " 45376/102124 [============>.................] - ETA: 3:03 - loss: 0.0493 - acc: 0.9815"
          ],
          "name": "stdout"
        },
        {
          "output_type": "stream",
          "text": [
            " 99936/102124 [============================>.] - ETA: 7s - loss: 0.0480 - acc: 0.9819"
          ],
          "name": "stdout"
        },
        {
          "output_type": "stream",
          "text": [
            "102124/102124 [==============================] - 353s 3ms/step - loss: 0.0481 - acc: 0.9819 - val_loss: 0.0432 - val_acc: 0.9835\n",
            "Epoch 6/32\n",
            " 13056/102124 [==>...........................] - ETA: 4:48 - loss: 0.0462 - acc: 0.9818"
          ],
          "name": "stdout"
        },
        {
          "output_type": "stream",
          "text": [
            " 70592/102124 [===================>..........] - ETA: 1:42 - loss: 0.0465 - acc: 0.9821"
          ],
          "name": "stdout"
        },
        {
          "output_type": "stream",
          "text": [
            "102124/102124 [==============================] - 353s 3ms/step - loss: 0.0464 - acc: 0.9823 - val_loss: 0.0486 - val_acc: 0.9802\n",
            "\n",
            "Epoch 00006: ReduceLROnPlateau reducing learning rate to 0.00029730176902376115.\n",
            "roc-auc: 0.987 - roc-auc_val: 0.9834                                                                                                    \n",
            "Epoch 7/32\n",
            "   992/102124 [..............................] - ETA: 5:27 - loss: 0.0551 - acc: 0.9790"
          ],
          "name": "stdout"
        },
        {
          "output_type": "stream",
          "text": [
            " 37760/102124 [==========>...................] - ETA: 3:30 - loss: 0.0453 - acc: 0.9828"
          ],
          "name": "stdout"
        },
        {
          "output_type": "stream",
          "text": [
            " 80416/102124 [======================>.......] - ETA: 1:10 - loss: 0.0459 - acc: 0.9826"
          ],
          "name": "stdout"
        },
        {
          "output_type": "stream",
          "text": [
            "102124/102124 [==============================] - 353s 3ms/step - loss: 0.0460 - acc: 0.9826 - val_loss: 0.0438 - val_acc: 0.9830\n",
            "Epoch 8/32\n",
            "  5760/102124 [>.............................] - ETA: 5:13 - loss: 0.0421 - acc: 0.9841"
          ],
          "name": "stdout"
        },
        {
          "output_type": "stream",
          "text": [
            " 46016/102124 [============>.................] - ETA: 3:02 - loss: 0.0436 - acc: 0.9832"
          ],
          "name": "stdout"
        },
        {
          "output_type": "stream",
          "text": [
            " 96128/102124 [===========================>..] - ETA: 19s - loss: 0.0446 - acc: 0.9828"
          ],
          "name": "stdout"
        },
        {
          "output_type": "stream",
          "text": [
            "102124/102124 [==============================] - 353s 3ms/step - loss: 0.0447 - acc: 0.9828 - val_loss: 0.0424 - val_acc: 0.9835\n",
            "roc-auc: 0.9885 - roc-auc_val: 0.9837                                                                                                    \n",
            "Epoch 9/32\n",
            "  7296/102124 [=>............................] - ETA: 5:08 - loss: 0.0437 - acc: 0.9832"
          ],
          "name": "stdout"
        },
        {
          "output_type": "stream",
          "text": [
            " 44192/102124 [===========>..................] - ETA: 3:07 - loss: 0.0441 - acc: 0.9830"
          ],
          "name": "stdout"
        },
        {
          "output_type": "stream",
          "text": [
            " 85440/102124 [========================>.....] - ETA: 54s - loss: 0.0440 - acc: 0.9830"
          ],
          "name": "stdout"
        },
        {
          "output_type": "stream",
          "text": [
            "102124/102124 [==============================] - 353s 3ms/step - loss: 0.0440 - acc: 0.9830 - val_loss: 0.0417 - val_acc: 0.9835\n",
            "Epoch 10/32\n",
            "  7648/102124 [=>............................] - ETA: 5:07 - loss: 0.0426 - acc: 0.9837"
          ],
          "name": "stdout"
        },
        {
          "output_type": "stream",
          "text": [
            " 53760/102124 [==============>...............] - ETA: 2:37 - loss: 0.0435 - acc: 0.9832"
          ],
          "name": "stdout"
        },
        {
          "output_type": "stream",
          "text": [
            " 90720/102124 [=========================>....] - ETA: 37s - loss: 0.0430 - acc: 0.9834"
          ],
          "name": "stdout"
        },
        {
          "output_type": "stream",
          "text": [
            "102124/102124 [==============================] - 353s 3ms/step - loss: 0.0430 - acc: 0.9834 - val_loss: 0.0445 - val_acc: 0.9827\n",
            "roc-auc: 0.9899 - roc-auc_val: 0.9851                                                                                                    \n",
            "Epoch 11/32\n",
            "  6016/102124 [>.............................] - ETA: 5:14 - loss: 0.0419 - acc: 0.9835"
          ],
          "name": "stdout"
        },
        {
          "output_type": "stream",
          "text": [
            " 46432/102124 [============>.................] - ETA: 3:01 - loss: 0.0427 - acc: 0.9834"
          ],
          "name": "stdout"
        },
        {
          "output_type": "stream",
          "text": [
            " 92928/102124 [==========================>...] - ETA: 29s - loss: 0.0426 - acc: 0.9833"
          ],
          "name": "stdout"
        },
        {
          "output_type": "stream",
          "text": [
            "102124/102124 [==============================] - 354s 3ms/step - loss: 0.0425 - acc: 0.9834 - val_loss: 0.0419 - val_acc: 0.9834\n",
            "Epoch 12/32\n",
            " 10464/102124 [==>...........................] - ETA: 4:57 - loss: 0.0409 - acc: 0.9845"
          ],
          "name": "stdout"
        },
        {
          "output_type": "stream",
          "text": [
            " 75072/102124 [=====================>........] - ETA: 1:27 - loss: 0.0417 - acc: 0.9838"
          ],
          "name": "stdout"
        },
        {
          "output_type": "stream",
          "text": [
            "102124/102124 [==============================] - 353s 3ms/step - loss: 0.0419 - acc: 0.9838 - val_loss: 0.0424 - val_acc: 0.9832\n",
            "roc-auc: 0.9911 - roc-auc_val: 0.9863                                                                                                    \n",
            "Epoch 13/32\n",
            "  2176/102124 [..............................] - ETA: 5:17 - loss: 0.0449 - acc: 0.9822"
          ],
          "name": "stdout"
        },
        {
          "output_type": "stream",
          "text": [
            " 49440/102124 [=============>................] - ETA: 2:49 - loss: 0.0404 - acc: 0.9842"
          ],
          "name": "stdout"
        },
        {
          "output_type": "stream",
          "text": [
            " 86016/102124 [========================>.....] - ETA: 52s - loss: 0.0411 - acc: 0.9840"
          ],
          "name": "stdout"
        },
        {
          "output_type": "stream",
          "text": [
            "102124/102124 [==============================] - 352s 3ms/step - loss: 0.0414 - acc: 0.9838 - val_loss: 0.0428 - val_acc: 0.9830\n",
            "Epoch 14/32\n",
            "  7776/102124 [=>............................] - ETA: 5:06 - loss: 0.0426 - acc: 0.9837"
          ],
          "name": "stdout"
        },
        {
          "output_type": "stream",
          "text": [
            " 44928/102124 [============>.................] - ETA: 3:04 - loss: 0.0411 - acc: 0.9838"
          ],
          "name": "stdout"
        },
        {
          "output_type": "stream",
          "text": [
            " 80992/102124 [======================>.......] - ETA: 1:08 - loss: 0.0407 - acc: 0.9840"
          ],
          "name": "stdout"
        },
        {
          "output_type": "stream",
          "text": [
            "102124/102124 [==============================] - 351s 3ms/step - loss: 0.0408 - acc: 0.9840 - val_loss: 0.0418 - val_acc: 0.9837\n",
            "roc-auc: 0.9915 - roc-auc_val: 0.987                                                                                                    \n",
            "Epoch 15/32\n",
            "  3360/102124 [..............................] - ETA: 5:15 - loss: 0.0442 - acc: 0.9825"
          ],
          "name": "stdout"
        },
        {
          "output_type": "stream",
          "text": [
            " 42080/102124 [===========>..................] - ETA: 3:14 - loss: 0.0411 - acc: 0.9838"
          ],
          "name": "stdout"
        },
        {
          "output_type": "stream",
          "text": [
            " 77920/102124 [=====================>........] - ETA: 1:18 - loss: 0.0401 - acc: 0.9843"
          ],
          "name": "stdout"
        },
        {
          "output_type": "stream",
          "text": [
            "102124/102124 [==============================] - 351s 3ms/step - loss: 0.0403 - acc: 0.9842 - val_loss: 0.0410 - val_acc: 0.9837\n",
            "Epoch 16/32\n",
            "  4384/102124 [>.............................] - ETA: 5:16 - loss: 0.0401 - acc: 0.9845"
          ],
          "name": "stdout"
        },
        {
          "output_type": "stream",
          "text": [
            " 43040/102124 [===========>..................] - ETA: 3:09 - loss: 0.0405 - acc: 0.9841"
          ],
          "name": "stdout"
        },
        {
          "output_type": "stream",
          "text": [
            " 78272/102124 [=====================>........] - ETA: 1:16 - loss: 0.0401 - acc: 0.9843"
          ],
          "name": "stdout"
        },
        {
          "output_type": "stream",
          "text": [
            "102124/102124 [==============================] - 348s 3ms/step - loss: 0.0399 - acc: 0.9843 - val_loss: 0.0418 - val_acc: 0.9834\n",
            "roc-auc: 0.9924 - roc-auc_val: 0.9876                                                                                                    \n",
            "Epoch 17/32\n",
            "  2592/102124 [..............................] - ETA: 5:17 - loss: 0.0365 - acc: 0.9862"
          ],
          "name": "stdout"
        },
        {
          "output_type": "stream",
          "text": [
            " 50720/102124 [=============>................] - ETA: 2:45 - loss: 0.0390 - acc: 0.9846"
          ],
          "name": "stdout"
        },
        {
          "output_type": "stream",
          "text": [
            "102112/102124 [============================>.] - ETA: 0s - loss: 0.0392 - acc: 0.9846"
          ],
          "name": "stdout"
        },
        {
          "output_type": "stream",
          "text": [
            "102124/102124 [==============================] - 352s 3ms/step - loss: 0.0392 - acc: 0.9846 - val_loss: 0.0408 - val_acc: 0.9838\n",
            "Epoch 18/32\n",
            " 13952/102124 [===>..........................] - ETA: 4:45 - loss: 0.0396 - acc: 0.9847"
          ],
          "name": "stdout"
        },
        {
          "output_type": "stream",
          "text": [
            " 61408/102124 [=================>............] - ETA: 2:12 - loss: 0.0387 - acc: 0.9847"
          ],
          "name": "stdout"
        },
        {
          "output_type": "stream",
          "text": [
            " 97888/102124 [===========================>..] - ETA: 13s - loss: 0.0387 - acc: 0.9847"
          ],
          "name": "stdout"
        },
        {
          "output_type": "stream",
          "text": [
            "102124/102124 [==============================] - 352s 3ms/step - loss: 0.0387 - acc: 0.9847 - val_loss: 0.0412 - val_acc: 0.9837\n",
            "roc-auc: 0.9929 - roc-auc_val: 0.9882                                                                                                    \n",
            "Epoch 19/32\n",
            "  7136/102124 [=>............................] - ETA: 5:03 - loss: 0.0397 - acc: 0.9841"
          ],
          "name": "stdout"
        },
        {
          "output_type": "stream",
          "text": [
            " 45664/102124 [============>.................] - ETA: 3:02 - loss: 0.0388 - acc: 0.9845"
          ],
          "name": "stdout"
        },
        {
          "output_type": "stream",
          "text": [
            " 89440/102124 [=========================>....] - ETA: 41s - loss: 0.0388 - acc: 0.9846"
          ],
          "name": "stdout"
        },
        {
          "output_type": "stream",
          "text": [
            "102124/102124 [==============================] - 353s 3ms/step - loss: 0.0388 - acc: 0.9846 - val_loss: 0.0409 - val_acc: 0.9837\n",
            "\n",
            "Epoch 00019: ReduceLROnPlateau reducing learning rate to 7.694652595091611e-05.\n",
            "Epoch 20/32\n",
            "  6752/102124 [>.............................] - ETA: 5:10 - loss: 0.0393 - acc: 0.9846"
          ],
          "name": "stdout"
        },
        {
          "output_type": "stream",
          "text": [
            " 54016/102124 [==============>...............] - ETA: 2:36 - loss: 0.0380 - acc: 0.9849"
          ],
          "name": "stdout"
        },
        {
          "output_type": "stream",
          "text": [
            " 89568/102124 [=========================>....] - ETA: 40s - loss: 0.0382 - acc: 0.9848"
          ],
          "name": "stdout"
        },
        {
          "output_type": "stream",
          "text": [
            "102124/102124 [==============================] - 352s 3ms/step - loss: 0.0382 - acc: 0.9847 - val_loss: 0.0405 - val_acc: 0.9840\n",
            "roc-auc: 0.9934 - roc-auc_val: 0.9884                                                                                                    \n",
            "Epoch 21/32\n",
            "  5216/102124 [>.............................] - ETA: 5:08 - loss: 0.0389 - acc: 0.9846"
          ],
          "name": "stdout"
        },
        {
          "output_type": "stream",
          "text": [
            " 41472/102124 [===========>..................] - ETA: 3:14 - loss: 0.0377 - acc: 0.9850"
          ],
          "name": "stdout"
        },
        {
          "output_type": "stream",
          "text": [
            " 76128/102124 [=====================>........] - ETA: 1:23 - loss: 0.0379 - acc: 0.9849"
          ],
          "name": "stdout"
        },
        {
          "output_type": "stream",
          "text": [
            "102124/102124 [==============================] - 349s 3ms/step - loss: 0.0379 - acc: 0.9850 - val_loss: 0.0404 - val_acc: 0.9840\n",
            "Epoch 22/32\n",
            "  3680/102124 [>.............................] - ETA: 5:21 - loss: 0.0370 - acc: 0.9845"
          ],
          "name": "stdout"
        },
        {
          "output_type": "stream",
          "text": [
            " 39648/102124 [==========>...................] - ETA: 3:21 - loss: 0.0373 - acc: 0.9853"
          ],
          "name": "stdout"
        },
        {
          "output_type": "stream",
          "text": [
            " 82688/102124 [=======================>......] - ETA: 1:02 - loss: 0.0375 - acc: 0.9851"
          ],
          "name": "stdout"
        },
        {
          "output_type": "stream",
          "text": [
            "102124/102124 [==============================] - 351s 3ms/step - loss: 0.0375 - acc: 0.9851 - val_loss: 0.0415 - val_acc: 0.9836\n",
            "roc-auc: 0.9937 - roc-auc_val: 0.9882                                                                                                    \n",
            "Epoch 23/32\n",
            "  3968/102124 [>.............................] - ETA: 5:19 - loss: 0.0388 - acc: 0.9841"
          ],
          "name": "stdout"
        },
        {
          "output_type": "stream",
          "text": [
            " 45248/102124 [============>.................] - ETA: 3:04 - loss: 0.0370 - acc: 0.9852"
          ],
          "name": "stdout"
        },
        {
          "output_type": "stream",
          "text": [
            " 85152/102124 [========================>.....] - ETA: 54s - loss: 0.0374 - acc: 0.9851"
          ],
          "name": "stdout"
        },
        {
          "output_type": "stream",
          "text": [
            "102124/102124 [==============================] - 351s 3ms/step - loss: 0.0375 - acc: 0.9851 - val_loss: 0.0412 - val_acc: 0.9836\n",
            "Epoch 24/32\n",
            "  6912/102124 [=>............................] - ETA: 5:05 - loss: 0.0374 - acc: 0.9845"
          ],
          "name": "stdout"
        },
        {
          "output_type": "stream",
          "text": [
            " 42240/102124 [===========>..................] - ETA: 3:13 - loss: 0.0378 - acc: 0.9846"
          ],
          "name": "stdout"
        },
        {
          "output_type": "stream",
          "text": [
            " 78688/102124 [======================>.......] - ETA: 1:15 - loss: 0.0374 - acc: 0.9849"
          ],
          "name": "stdout"
        },
        {
          "output_type": "stream",
          "text": [
            "102124/102124 [==============================] - 351s 3ms/step - loss: 0.0371 - acc: 0.9850 - val_loss: 0.0423 - val_acc: 0.9833\n",
            "roc-auc: 0.9939 - roc-auc_val: 0.9884                                                                                                    \n",
            "Epoch 25/32\n",
            "  3008/102124 [..............................] - ETA: 5:16 - loss: 0.0384 - acc: 0.9835"
          ],
          "name": "stdout"
        },
        {
          "output_type": "stream",
          "text": [
            " 38688/102124 [==========>...................] - ETA: 3:23 - loss: 0.0367 - acc: 0.9851"
          ],
          "name": "stdout"
        },
        {
          "output_type": "stream",
          "text": [
            " 81440/102124 [======================>.......] - ETA: 1:06 - loss: 0.0368 - acc: 0.9852"
          ],
          "name": "stdout"
        },
        {
          "output_type": "stream",
          "text": [
            "102124/102124 [==============================] - 350s 3ms/step - loss: 0.0370 - acc: 0.9852 - val_loss: 0.0403 - val_acc: 0.9841\n",
            "Epoch 26/32\n",
            "  5792/102124 [>.............................] - ETA: 5:10 - loss: 0.0373 - acc: 0.9852"
          ],
          "name": "stdout"
        },
        {
          "output_type": "stream",
          "text": [
            " 40768/102124 [==========>...................] - ETA: 3:17 - loss: 0.0363 - acc: 0.9854"
          ],
          "name": "stdout"
        },
        {
          "output_type": "stream",
          "text": [
            " 77984/102124 [=====================>........] - ETA: 1:17 - loss: 0.0363 - acc: 0.9856"
          ],
          "name": "stdout"
        },
        {
          "output_type": "stream",
          "text": [
            "102124/102124 [==============================] - 352s 3ms/step - loss: 0.0366 - acc: 0.9852 - val_loss: 0.0406 - val_acc: 0.9840\n",
            "roc-auc: 0.994 - roc-auc_val: 0.9885                                                                                                    \n",
            "Epoch 27/32\n",
            "  2944/102124 [..............................] - ETA: 5:20 - loss: 0.0351 - acc: 0.9856"
          ],
          "name": "stdout"
        },
        {
          "output_type": "stream",
          "text": [
            " 38912/102124 [==========>...................] - ETA: 3:23 - loss: 0.0365 - acc: 0.9855"
          ],
          "name": "stdout"
        },
        {
          "output_type": "stream",
          "text": [
            " 75872/102124 [=====================>........] - ETA: 1:24 - loss: 0.0366 - acc: 0.9855"
          ],
          "name": "stdout"
        },
        {
          "output_type": "stream",
          "text": [
            "102124/102124 [==============================] - 350s 3ms/step - loss: 0.0364 - acc: 0.9856 - val_loss: 0.0415 - val_acc: 0.9836\n",
            "Epoch 28/32\n",
            "  3776/102124 [>.............................] - ETA: 5:16 - loss: 0.0350 - acc: 0.9865"
          ],
          "name": "stdout"
        },
        {
          "output_type": "stream",
          "text": [
            " 45664/102124 [============>.................] - ETA: 3:02 - loss: 0.0359 - acc: 0.9857"
          ],
          "name": "stdout"
        },
        {
          "output_type": "stream",
          "text": [
            " 80384/102124 [======================>.......] - ETA: 1:09 - loss: 0.0362 - acc: 0.9854"
          ],
          "name": "stdout"
        },
        {
          "output_type": "stream",
          "text": [
            "102124/102124 [==============================] - 349s 3ms/step - loss: 0.0363 - acc: 0.9855 - val_loss: 0.0410 - val_acc: 0.9838\n",
            "roc-auc: 0.9942 - roc-auc_val: 0.9883                                                                                                    \n",
            "Epoch 29/32\n",
            "  3328/102124 [..............................] - ETA: 5:22 - loss: 0.0394 - acc: 0.9851"
          ],
          "name": "stdout"
        },
        {
          "output_type": "stream",
          "text": [
            " 55872/102124 [===============>..............] - ETA: 2:30 - loss: 0.0359 - acc: 0.9856"
          ],
          "name": "stdout"
        },
        {
          "output_type": "stream",
          "text": [
            " 92224/102124 [==========================>...] - ETA: 32s - loss: 0.0359 - acc: 0.9856"
          ],
          "name": "stdout"
        },
        {
          "output_type": "stream",
          "text": [
            "102124/102124 [==============================] - 353s 3ms/step - loss: 0.0361 - acc: 0.9856 - val_loss: 0.0409 - val_acc: 0.9839\n",
            "Epoch 30/32\n",
            " 10144/102124 [=>............................] - ETA: 4:58 - loss: 0.0365 - acc: 0.9850"
          ],
          "name": "stdout"
        },
        {
          "output_type": "stream",
          "text": [
            " 46592/102124 [============>.................] - ETA: 2:58 - loss: 0.0357 - acc: 0.9856"
          ],
          "name": "stdout"
        },
        {
          "output_type": "stream",
          "text": [
            " 83136/102124 [=======================>......] - ETA: 1:01 - loss: 0.0357 - acc: 0.9857"
          ],
          "name": "stdout"
        },
        {
          "output_type": "stream",
          "text": [
            "102124/102124 [==============================] - 351s 3ms/step - loss: 0.0360 - acc: 0.9856 - val_loss: 0.0412 - val_acc: 0.9836\n",
            "\n",
            "Epoch 00030: ReduceLROnPlateau reducing learning rate to 2.4518252757843584e-05.\n",
            "roc-auc: 0.9943 - roc-auc_val: 0.9885                                                                                                    \n",
            "Epoch 31/32\n",
            "  3104/102124 [..............................] - ETA: 5:18 - loss: 0.0369 - acc: 0.9847"
          ],
          "name": "stdout"
        },
        {
          "output_type": "stream",
          "text": [
            " 39008/102124 [==========>...................] - ETA: 3:22 - loss: 0.0360 - acc: 0.9856"
          ],
          "name": "stdout"
        },
        {
          "output_type": "stream",
          "text": [
            " 74112/102124 [====================>.........] - ETA: 1:30 - loss: 0.0352 - acc: 0.9858"
          ],
          "name": "stdout"
        },
        {
          "output_type": "stream",
          "text": [
            "102124/102124 [==============================] - 350s 3ms/step - loss: 0.0358 - acc: 0.9856 - val_loss: 0.0406 - val_acc: 0.9839\n",
            "Epoch 32/32\n",
            "  3008/102124 [..............................] - ETA: 5:18 - loss: 0.0313 - acc: 0.9879"
          ],
          "name": "stdout"
        },
        {
          "output_type": "stream",
          "text": [
            " 38656/102124 [==========>...................] - ETA: 3:25 - loss: 0.0346 - acc: 0.9863"
          ],
          "name": "stdout"
        },
        {
          "output_type": "stream",
          "text": [
            " 75456/102124 [=====================>........] - ETA: 1:26 - loss: 0.0355 - acc: 0.9858"
          ],
          "name": "stdout"
        },
        {
          "output_type": "stream",
          "text": [
            "102124/102124 [==============================] - 351s 3ms/step - loss: 0.0357 - acc: 0.9857 - val_loss: 0.0414 - val_acc: 0.9837\n",
            "roc-auc: 0.9945 - roc-auc_val: 0.9883                                                                                                    \n"
          ],
          "name": "stdout"
        }
      ]
    },
    {
      "metadata": {
        "id": "izWCJ3HMReV3",
        "colab_type": "code",
        "colab": {
          "autoexec": {
            "startup": false,
            "wait_interval": 0
          },
          "base_uri": "https://localhost:8080/",
          "height": 295
        },
        "outputId": "993ffa8b-935b-4f9c-a1d5-ed773d75189a",
        "executionInfo": {
          "status": "ok",
          "timestamp": 1532617852594,
          "user_tz": -120,
          "elapsed": 2124,
          "user": {
            "displayName": "Deep Learning",
            "photoUrl": "https://lh3.googleusercontent.com/a/default-user=s128",
            "userId": "110970714976109420834"
          }
        }
      },
      "cell_type": "code",
      "source": [
        "plot_history(history)"
      ],
      "execution_count": 14,
      "outputs": [
        {
          "output_type": "display_data",
          "data": {
            "image/png": "[encoded data removed]",
            "text/plain": [
              "<matplotlib.figure.Figure at 0x7fc4f657c630>"
            ]
          },
          "metadata": {
            "tags": []
          }
        }
      ]
    },
    {
      "metadata": {
        "id": "r2gtMBj2Tp9A",
        "colab_type": "code",
        "colab": {
          "autoexec": {
            "startup": false,
            "wait_interval": 0
          },
          "base_uri": "https://localhost:8080/",
          "height": 52
        },
        "outputId": "9482d3db-b673-46a6-b682-de5cd4040697",
        "executionInfo": {
          "status": "ok",
          "timestamp": 1532617909278,
          "user_tz": -120,
          "elapsed": 56327,
          "user": {
            "displayName": "Deep Learning",
            "photoUrl": "https://lh3.googleusercontent.com/a/default-user=s128",
            "userId": "110970714976109420834"
          }
        }
      },
      "cell_type": "code",
      "source": [
        "print(evaluate_on_test(model))"
      ],
      "execution_count": 15,
      "outputs": [
        {
          "output_type": "stream",
          "text": [
            "31915/31915 [==============================] - 30s 927us/step\n",
            "([0.04053532618065715, 0.983597041373527], 0.9894244281107539)\n"
          ],
          "name": "stdout"
        }
      ]
    }
  ]
}
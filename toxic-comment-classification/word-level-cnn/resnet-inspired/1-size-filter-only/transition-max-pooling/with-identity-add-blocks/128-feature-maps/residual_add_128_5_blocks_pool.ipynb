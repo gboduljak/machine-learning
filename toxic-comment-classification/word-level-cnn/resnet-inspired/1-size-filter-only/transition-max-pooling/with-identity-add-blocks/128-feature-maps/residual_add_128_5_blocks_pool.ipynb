{
 "cells": [
  {
   "cell_type": "code",
   "execution_count": 1,
   "metadata": {
    "colab": {
     "autoexec": {
      "startup": false,
      "wait_interval": 0
     },
     "base_uri": "https://localhost:8080/",
     "height": 419
    },
    "colab_type": "code",
    "executionInfo": {
     "elapsed": 12162,
     "status": "ok",
     "timestamp": 1532715218613,
     "user": {
      "displayName": "Deep Learning",
      "photoUrl": "https://lh3.googleusercontent.com/a/default-user=s128",
      "userId": "118387080994381600389"
     },
     "user_tz": -120
    },
    "id": "yS1FnhiWX3Js",
    "outputId": "50b950a5-dfb1-432c-8e9a-e71e6da32579"
   },
   "outputs": [
    {
     "name": "stdout",
     "output_type": "stream",
     "text": [
      "Requirement already satisfied: keras in /usr/local/lib/python3.6/dist-packages (2.1.6)\r\n",
      "Requirement already satisfied: scipy>=0.14 in /usr/local/lib/python3.6/dist-packages (from keras) (0.19.1)\n",
      "Requirement already satisfied: six>=1.9.0 in /usr/local/lib/python3.6/dist-packages (from keras) (1.11.0)\n",
      "Requirement already satisfied: pyyaml in /usr/local/lib/python3.6/dist-packages (from keras) (3.13)\n",
      "Requirement already satisfied: numpy>=1.9.1 in /usr/local/lib/python3.6/dist-packages (from keras) (1.14.5)\n",
      "Requirement already satisfied: h5py in /usr/local/lib/python3.6/dist-packages (from keras) (2.8.0)\n",
      "Collecting sklearn\n",
      "  Downloading https://files.pythonhosted.org/packages/1e/7a/dbb3be0ce9bd5c8b7e3d87328e79063f8b263b2b1bfa4774cb1147bfcd3f/sklearn-0.0.tar.gz\n",
      "Requirement already satisfied: scikit-learn in /usr/local/lib/python3.6/dist-packages (from sklearn) (0.19.2)\n",
      "Building wheels for collected packages: sklearn\n",
      "  Running setup.py bdist_wheel for sklearn ... \u001b[?25l-\b \bdone\n",
      "\u001b[?25h  Stored in directory: /content/.cache/pip/wheels/76/03/bb/589d421d27431bcd2c6da284d5f2286c8e3b2ea3cf1594c074\n",
      "Successfully built sklearn\n",
      "Installing collected packages: sklearn\n",
      "Successfully installed sklearn-0.0\n",
      "Requirement already satisfied: matplotlib in /usr/local/lib/python3.6/dist-packages (2.1.2)\n",
      "Requirement already satisfied: cycler>=0.10 in /usr/local/lib/python3.6/dist-packages (from matplotlib) (0.10.0)\n",
      "Requirement already satisfied: numpy>=1.7.1 in /usr/local/lib/python3.6/dist-packages (from matplotlib) (1.14.5)\n",
      "Requirement already satisfied: pytz in /usr/local/lib/python3.6/dist-packages (from matplotlib) (2018.5)\n",
      "Requirement already satisfied: pyparsing!=2.0.4,!=2.1.2,!=2.1.6,>=2.0.1 in /usr/local/lib/python3.6/dist-packages (from matplotlib) (2.2.0)\n",
      "Requirement already satisfied: python-dateutil>=2.1 in /usr/local/lib/python3.6/dist-packages (from matplotlib) (2.5.3)\n",
      "Requirement already satisfied: six>=1.10 in /usr/local/lib/python3.6/dist-packages (from matplotlib) (1.11.0)\n"
     ]
    }
   ],
   "source": [
    "!pip install keras\n",
    "!pip install sklearn\n",
    "!pip install matplotlib\n",
    "!pip install -U -q PyDrive"
   ]
  },
  {
   "cell_type": "code",
   "execution_count": 2,
   "metadata": {
    "colab": {
     "autoexec": {
      "startup": false,
      "wait_interval": 0
     },
     "base_uri": "https://localhost:8080/",
     "height": 35
    },
    "colab_type": "code",
    "executionInfo": {
     "elapsed": 8812,
     "status": "ok",
     "timestamp": 1532715227514,
     "user": {
      "displayName": "Deep Learning",
      "photoUrl": "https://lh3.googleusercontent.com/a/default-user=s128",
      "userId": "118387080994381600389"
     },
     "user_tz": -120
    },
    "id": "xlKzkDJFrjA-",
    "outputId": "e89b23de-2ebf-49fd-d00b-85c20f60487e"
   },
   "outputs": [
    {
     "name": "stderr",
     "output_type": "stream",
     "text": [
      "Using TensorFlow backend.\n"
     ]
    }
   ],
   "source": [
    "from keras import backend as K\n",
    "K.clear_session()"
   ]
  },
  {
   "cell_type": "code",
   "execution_count": 0,
   "metadata": {
    "colab": {
     "autoexec": {
      "startup": false,
      "wait_interval": 0
     }
    },
    "colab_type": "code",
    "id": "eQEKwl4oAxO7"
   },
   "outputs": [],
   "source": [
    "from keras import backend as K\n",
    "cfg = K.tf.ConfigProto()\n",
    "cfg.gpu_options.allow_growth = True\n",
    "K.set_session(K.tf.Session(config=cfg))"
   ]
  },
  {
   "cell_type": "code",
   "execution_count": 0,
   "metadata": {
    "colab": {
     "autoexec": {
      "startup": false,
      "wait_interval": 0
     }
    },
    "colab_type": "code",
    "id": "12M0egCCX-27"
   },
   "outputs": [],
   "source": [
    "from pydrive.auth import GoogleAuth\n",
    "from pydrive.drive import GoogleDrive\n",
    "from google.colab import auth\n",
    "from oauth2client.client import GoogleCredentials\n",
    "\n",
    "auth.authenticate_user()\n",
    "gauth = GoogleAuth()\n",
    "gauth.credentials = GoogleCredentials.get_application_default()\n",
    "drive = GoogleDrive(gauth)"
   ]
  },
  {
   "cell_type": "code",
   "execution_count": 0,
   "metadata": {
    "colab": {
     "autoexec": {
      "startup": false,
      "wait_interval": 0
     }
    },
    "colab_type": "code",
    "id": "4lN2WTUEYBYv"
   },
   "outputs": [],
   "source": [
    "file_import = drive.CreateFile({'id':'1p1bsltfTcIrZ_kfE6kwGTPzcdXorHbb2'})\n",
    "file_import.GetContentFile('colab_setup.py') \n",
    "from colab_setup import setup\n",
    "\n",
    "setup(drive)"
   ]
  },
  {
   "cell_type": "code",
   "execution_count": 6,
   "metadata": {
    "colab": {
     "autoexec": {
      "startup": false,
      "wait_interval": 0
     },
     "base_uri": "https://localhost:8080/",
     "height": 121
    },
    "colab_type": "code",
    "executionInfo": {
     "elapsed": 1928,
     "status": "ok",
     "timestamp": 1532715558025,
     "user": {
      "displayName": "Deep Learning",
      "photoUrl": "https://lh3.googleusercontent.com/a/default-user=s128",
      "userId": "118387080994381600389"
     },
     "user_tz": -120
    },
    "id": "cHBlD0tVj2TY",
    "outputId": "d5f3faf5-623d-4f31-f508-529117352ae8"
   },
   "outputs": [
    {
     "name": "stdout",
     "output_type": "stream",
     "text": [
      "colab_setup.py\t\t\t roc_auc_callback.py\tX_train.npy\r\n",
      "custom_fast_text_embeddings.npy  sample_submission.csv\tX_val.npy\r\n",
      "datalab\t\t\t\t train_model.py\t\ty_test.npy\r\n",
      "fast_text_embeddings.npy\t X_submission.npy\ty_train_full.npy\r\n",
      "plot_history.py\t\t\t X_test.npy\t\ty_train.npy\r\n",
      "__pycache__\t\t\t X_train_full.npy\ty_val.npy\r\n"
     ]
    }
   ],
   "source": [
    "!ls"
   ]
  },
  {
   "cell_type": "code",
   "execution_count": 0,
   "metadata": {
    "colab": {
     "autoexec": {
      "startup": false,
      "wait_interval": 0
     }
    },
    "colab_type": "code",
    "id": "yMwWPTMYXyno"
   },
   "outputs": [],
   "source": [
    "import numpy as np\n",
    "import os\n",
    "\n",
    "from plot_history import plot_history\n",
    "from roc_auc_callback import RocAucCallback\n",
    "from train_model import train_with_cv, train_with_submitting, evaluate_on_test\n",
    "\n",
    "from keras.layers import *\n",
    "from keras.layers.merge import *\n",
    "from keras.initializers import *\n",
    "from keras.models import Model"
   ]
  },
  {
   "cell_type": "code",
   "execution_count": 0,
   "metadata": {
    "colab": {
     "autoexec": {
      "startup": false,
      "wait_interval": 0
     }
    },
    "colab_type": "code",
    "id": "irwBTJdINU0J"
   },
   "outputs": [],
   "source": [
    "from keras.optimizers import *\n",
    "from keras.initializers import *\n",
    "from keras.layers import *\n",
    "from keras.layers.merge import *\n",
    "from keras.models import *\n",
    "\n",
    "residual_convolution_options = dict({\n",
    "    'dropout_mode': 'spatial',\n",
    "    'dropout_rate': 0.2,\n",
    "    'filters': 128,\n",
    "    'kernel_size': 1,\n",
    "    'strides': 1,\n",
    "    'padding': 'same',\n",
    "    'activation': 'elu',\n",
    "    'should_preactivate': True\n",
    "})\n",
    "\n",
    "def convolution_block(input_layer, options):\n",
    "    convolution_input = Input(shape=[\n",
    "        int(input_layer.shape[1]),\n",
    "        int(input_layer.shape[2])\n",
    "    ])\n",
    "\n",
    "    convolution_block = convolution_input\n",
    "\n",
    "    if(options['should_preactivate']):\n",
    "        convolution_block = BatchNormalization()(convolution_block)\n",
    "        convolution_block = Activation(options['activation'])(convolution_block)\n",
    "        convolution_block = Conv1D(options['filters'], options['kernel_size'], strides=options['strides'],\n",
    "                                   padding=options['padding'], activation='linear', kernel_initializer='he_normal')(convolution_block)\n",
    "    else:\n",
    "        convolution_block = Conv1D(options['filters'], options['kernel_size'], strides=options['strides'],\n",
    "                                   padding=options['padding'], activation='linear', kernel_initializer='he_normal')(convolution_block)\n",
    "        convolution_block = BatchNormalization()(convolution_block)\n",
    "        convolution_block = Activation(options['activation'])(convolution_block)\n",
    "\n",
    "    convolution_output = convolution_block\n",
    "\n",
    "    if(options['dropout_mode'] == 'spatial'):\n",
    "        convolution_output = SpatialDropout1D(options['dropout_rate'])(convolution_output)\n",
    "    if(options['dropout_mode']== 'vanilla'):\n",
    "        convolution_output = Dropout(options['dropout_rate'])(convolution_output)\n",
    "\n",
    "    return Model(inputs=[convolution_input], outputs=[convolution_output])(input_layer)"
   ]
  },
  {
   "cell_type": "code",
   "execution_count": 0,
   "metadata": {
    "colab": {
     "autoexec": {
      "startup": false,
      "wait_interval": 0
     }
    },
    "colab_type": "code",
    "id": "sD9D5r9-Sdg7"
   },
   "outputs": [],
   "source": [
    "def residual_add_block(input_layer, should_pool):\n",
    "    convolution_input = Input(shape=[\n",
    "        int(input_layer.shape[1]),\n",
    "        int(input_layer.shape[2])\n",
    "    ])\n",
    "    \n",
    "    residual_block_pool = convolution_input\n",
    "\n",
    "    if(should_pool):\n",
    "        residual_block_pool = MaxPooling1D(pool_size=2, strides=2, padding='same')(convolution_input)\n",
    "\n",
    "    residual_block = add([\n",
    "        residual_block_pool,\n",
    "        convolution_block(residual_block_pool, residual_convolution_options)\n",
    "    ])\n",
    "    residual_block = add([\n",
    "        residual_block,\n",
    "        convolution_block(residual_block, residual_convolution_options)\n",
    "    ])\n",
    "    \n",
    "    convolution_output = add([residual_block, residual_block_pool])\n",
    "\n",
    "    return Model(inputs=[convolution_input], outputs=[convolution_output])(input_layer)"
   ]
  },
  {
   "cell_type": "code",
   "execution_count": 0,
   "metadata": {
    "colab": {
     "autoexec": {
      "startup": false,
      "wait_interval": 0
     }
    },
    "colab_type": "code",
    "id": "xOfIVhpoSdpQ"
   },
   "outputs": [],
   "source": [
    "def yoon_kim_feature_extractor(input_layer, filters):\n",
    "    extractor_block_input = Input(shape=[\n",
    "        int(input_layer.shape[1]),\n",
    "        int(input_layer.shape[2])\n",
    "    ])\n",
    "\n",
    "    block_1_conv_1 = Conv1D(filters, 1, activation = 'linear', padding = 'same', kernel_initializer = 'he_normal')(extractor_block_input)\n",
    "    block_1_batchnorm1 = BatchNormalization()(block_1_conv_1)\n",
    "    block_1_batchnorm1 = ELU()(block_1_batchnorm1)\n",
    "    block_1_max_pool1 = GlobalMaxPooling1D()(block_1_batchnorm1)\n",
    "\n",
    "    block_1_conv_2 = Conv1D(filters, 2, activation = 'linear', padding = 'same', kernel_initializer = 'he_normal')(extractor_block_input)\n",
    "    block_1_batchnorm2 = BatchNormalization()(block_1_conv_2)\n",
    "    block_1_batchnorm2 = ELU()(block_1_batchnorm2)\n",
    "    block_1_max_pool2 = GlobalMaxPooling1D()(block_1_batchnorm2)\n",
    "\n",
    "    block_1_conv_3 = Conv1D(filters, 3, activation = 'linear', padding = 'same', kernel_initializer = 'he_normal')(extractor_block_input)\n",
    "    block_1_batchnorm3 = BatchNormalization()(block_1_conv_3)\n",
    "    block_1_batchnorm3 = ELU()(block_1_batchnorm3)\n",
    "    block_1_max_pool3 = GlobalMaxPooling1D()(block_1_batchnorm3)\n",
    "\n",
    "    block_1_conv_4 = Conv1D(filters, 5, activation = 'linear', padding = 'same', kernel_initializer = 'he_normal')(extractor_block_input)\n",
    "    block_1_batchnorm4 = BatchNormalization()(block_1_conv_4)\n",
    "    block_1_batchnorm4 = ELU()(block_1_batchnorm4)\n",
    "    block_1_max_pool4 = GlobalMaxPooling1D()(block_1_batchnorm4)\n",
    "\n",
    "    features = concatenate([\n",
    "        block_1_max_pool1, \n",
    "        block_1_max_pool2, \n",
    "        block_1_max_pool3, \n",
    "        block_1_max_pool4\n",
    "    ])\n",
    "    \n",
    "    extractor_block_output = Dropout(0.2)(features)\n",
    "    \n",
    "    return Model(\n",
    "        inputs=[extractor_block_input], \n",
    "        outputs=[extractor_block_output]\n",
    "    )(input_layer)"
   ]
  },
  {
   "cell_type": "code",
   "execution_count": 0,
   "metadata": {
    "colab": {
     "autoexec": {
      "startup": false,
      "wait_interval": 0
     }
    },
    "colab_type": "code",
    "id": "PHbVmJqTSdxU"
   },
   "outputs": [],
   "source": [
    "def classification_block(input_layer, dropout_rate = 0.2):\n",
    "      \n",
    "    model = Dense(256, activation = 'linear', kernel_initializer = 'he_normal')(input_layer)\n",
    "    model = BatchNormalization()(model)\n",
    "    model = ELU()(model)\n",
    "    model = Dropout(dropout_rate)(model)\n",
    "    \n",
    "    model = Dense(256, activation = 'linear', kernel_initializer = 'he_normal')(model)\n",
    "    model = BatchNormalization()(model)\n",
    "    model = ELU()(model)\n",
    "    model = Dropout(dropout_rate)(model)\n",
    "\n",
    "    classification_block_output = Dense(6, activation='sigmoid', kernel_initializer = 'glorot_normal')(model)\n",
    "    \n",
    "    return classification_block_output"
   ]
  },
  {
   "cell_type": "code",
   "execution_count": 12,
   "metadata": {
    "colab": {
     "autoexec": {
      "startup": false,
      "wait_interval": 0
     },
     "base_uri": "https://localhost:8080/",
     "height": 953
    },
    "colab_type": "code",
    "executionInfo": {
     "elapsed": 7874,
     "status": "ok",
     "timestamp": 1532715569776,
     "user": {
      "displayName": "Deep Learning",
      "photoUrl": "https://lh3.googleusercontent.com/a/default-user=s128",
      "userId": "118387080994381600389"
     },
     "user_tz": -120
    },
    "id": "LTFG7OgsXynw",
    "outputId": "b2bf7c48-d911-4edc-c60d-f0ea81523b50"
   },
   "outputs": [
    {
     "name": "stdout",
     "output_type": "stream",
     "text": [
      "__________________________________________________________________________________________________\n",
      "Layer (type)                    Output Shape         Param #     Connected to                     \n",
      "==================================================================================================\n",
      "input_1 (InputLayer)            (None, 400)          0                                            \n",
      "__________________________________________________________________________________________________\n",
      "embedding_1 (Embedding)         (None, 400, 300)     9000000     input_1[0][0]                    \n",
      "__________________________________________________________________________________________________\n",
      "embedding_2 (Embedding)         (None, 400, 300)     9000000     input_1[0][0]                    \n",
      "__________________________________________________________________________________________________\n",
      "spatial_dropout1d_1 (SpatialDro (None, 400, 300)     0           embedding_1[0][0]                \n",
      "__________________________________________________________________________________________________\n",
      "spatial_dropout1d_2 (SpatialDro (None, 400, 300)     0           embedding_2[0][0]                \n",
      "__________________________________________________________________________________________________\n",
      "average_1 (Average)             (None, 400, 300)     0           spatial_dropout1d_1[0][0]        \n",
      "                                                                 spatial_dropout1d_2[0][0]        \n",
      "__________________________________________________________________________________________________\n",
      "spatial_dropout1d_3 (SpatialDro (None, 400, 300)     0           average_1[0][0]                  \n",
      "__________________________________________________________________________________________________\n",
      "model_1 (Model)                 (None, 400, 128)     39728       spatial_dropout1d_3[0][0]        \n",
      "__________________________________________________________________________________________________\n",
      "model_4 (Model)                 (None, 400, 128)     34048       model_1[1][0]                    \n",
      "__________________________________________________________________________________________________\n",
      "model_7 (Model)                 (None, 200, 128)     34048       model_4[1][0]                    \n",
      "__________________________________________________________________________________________________\n",
      "model_10 (Model)                (None, 100, 128)     34048       model_7[1][0]                    \n",
      "__________________________________________________________________________________________________\n",
      "model_13 (Model)                (None, 50, 128)      34048       model_10[1][0]                   \n",
      "__________________________________________________________________________________________________\n",
      "model_16 (Model)                (None, 25, 128)      34048       model_13[1][0]                   \n",
      "__________________________________________________________________________________________________\n",
      "model_17 (Model)                (None, 512)          182784      model_16[1][0]                   \n",
      "__________________________________________________________________________________________________\n",
      "dense_1 (Dense)                 (None, 256)          131328      model_17[1][0]                   \n",
      "__________________________________________________________________________________________________\n",
      "batch_normalization_16 (BatchNo (None, 256)          1024        dense_1[0][0]                    \n",
      "__________________________________________________________________________________________________\n",
      "elu_5 (ELU)                     (None, 256)          0           batch_normalization_16[0][0]     \n",
      "__________________________________________________________________________________________________\n",
      "dropout_2 (Dropout)             (None, 256)          0           elu_5[0][0]                      \n",
      "__________________________________________________________________________________________________\n",
      "dense_2 (Dense)                 (None, 256)          65792       dropout_2[0][0]                  \n",
      "__________________________________________________________________________________________________\n",
      "batch_normalization_17 (BatchNo (None, 256)          1024        dense_2[0][0]                    \n",
      "__________________________________________________________________________________________________\n",
      "elu_6 (ELU)                     (None, 256)          0           batch_normalization_17[0][0]     \n",
      "__________________________________________________________________________________________________\n",
      "dropout_3 (Dropout)             (None, 256)          0           elu_6[0][0]                      \n",
      "__________________________________________________________________________________________________\n",
      "dense_3 (Dense)                 (None, 6)            1542        dropout_3[0][0]                  \n",
      "==================================================================================================\n",
      "Total params: 18,593,462\n",
      "Trainable params: 588,254\n",
      "Non-trainable params: 18,005,208\n",
      "__________________________________________________________________________________________________\n"
     ]
    }
   ],
   "source": [
    "max_words= 30000\n",
    "max_words_length = 400\n",
    "embedding_dimension = 300\n",
    "\n",
    "input_layer = Input(shape=(max_words_length,))\n",
    "\n",
    "pretrained_embedding_layer = Embedding(\n",
    "    max_words, \n",
    "    output_dim=embedding_dimension, \n",
    "    input_length=max_words_length,\n",
    "    weights = [np.load('fast_text_embeddings.npy')],\n",
    "    trainable = False\n",
    ")(input_layer)\n",
    "pretrained_embedding_layer = SpatialDropout1D(0.2)(pretrained_embedding_layer)\n",
    "\n",
    "custom_embedding_layer = Embedding(\n",
    "    max_words, \n",
    "    output_dim=embedding_dimension, \n",
    "    input_length=max_words_length,\n",
    "    weights = [np.load('custom_fast_text_embeddings.npy')],\n",
    "    trainable = False\n",
    ")(input_layer)\n",
    "custom_embedding_layer = SpatialDropout1D(0.2)(custom_embedding_layer)\n",
    "\n",
    "averaged_embedding_layer = Average()([pretrained_embedding_layer, custom_embedding_layer])\n",
    "averaged_embedding_layer = SpatialDropout1D(0.2)(averaged_embedding_layer)\n",
    "averaged_embedding_layer_scaled = convolution_block(averaged_embedding_layer, residual_convolution_options)\n",
    "\n",
    "model = residual_add_block(averaged_embedding_layer_scaled, should_pool = False)\n",
    "model = residual_add_block(model, should_pool = True)\n",
    "model = residual_add_block(model, should_pool = True)\n",
    "model = residual_add_block(model, should_pool = True)\n",
    "model = residual_add_block(model, should_pool = True)\n",
    "\n",
    "output_layer = yoon_kim_feature_extractor(model, residual_convolution_options['filters'])\n",
    "output_layer = classification_block(output_layer)\n",
    "\n",
    "model = Model(input_layer, output_layer)\n",
    "\n",
    "model.compile(loss='binary_crossentropy', \n",
    "            optimizer='Adam',\n",
    "            metrics=['accuracy'])          \n",
    "\n",
    "model.summary()"
   ]
  },
  {
   "cell_type": "code",
   "execution_count": 13,
   "metadata": {
    "colab": {
     "autoexec": {
      "startup": false,
      "wait_interval": 0
     },
     "base_uri": "https://localhost:8080/",
     "height": 1164
    },
    "colab_type": "code",
    "executionInfo": {
     "elapsed": 8550468,
     "status": "ok",
     "timestamp": 1532724120279,
     "user": {
      "displayName": "Deep Learning",
      "photoUrl": "https://lh3.googleusercontent.com/a/default-user=s128",
      "userId": "118387080994381600389"
     },
     "user_tz": -120
    },
    "id": "xwMmTewgXynz",
    "outputId": "5aadaac8-77c4-4128-c175-4362ccc3c77c"
   },
   "outputs": [
    {
     "name": "stdout",
     "output_type": "stream",
     "text": [
      "Train on 102124 samples, validate on 25532 samples\n",
      "Epoch 1/64\n",
      " 21248/102124 [=====>........................] - ETA: 4:36 - loss: 0.1222 - acc: 0.9595 58624/102124 [================>.............] - ETA: 2:15 - loss: 0.0860 - acc: 0.9708 95776/102124 [===========================>..] - ETA: 19s - loss: 0.0757 - acc: 0.9739102124/102124 [==============================] - 324s 3ms/step - loss: 0.0745 - acc: 0.9743 - val_loss: 0.0588 - val_acc: 0.9755\n",
      "Epoch 2/64\n",
      " 11584/102124 [==>...........................] - ETA: 4:18 - loss: 0.0563 - acc: 0.9789 56000/102124 [===============>..............] - ETA: 2:14 - loss: 0.0555 - acc: 0.9794100576/102124 [============================>.] - ETA: 4s - loss: 0.0544 - acc: 0.9800102124/102124 [==============================] - 313s 3ms/step - loss: 0.0543 - acc: 0.9800 - val_loss: 0.0445 - val_acc: 0.9830\n",
      "roc-auc: 0.9845 - roc-auc_val: 0.9794                                                                                                    \n",
      "Epoch 3/64\n",
      "  8256/102124 [=>............................] - ETA: 4:31 - loss: 0.0502 - acc: 0.9816 47488/102124 [============>.................] - ETA: 2:39 - loss: 0.0499 - acc: 0.9814 87488/102124 [========================>.....] - ETA: 42s - loss: 0.0506 - acc: 0.9811102124/102124 [==============================] - 313s 3ms/step - loss: 0.0504 - acc: 0.9812 - val_loss: 0.0427 - val_acc: 0.9836\n",
      "Epoch 4/64\n",
      "  8352/102124 [=>............................] - ETA: 4:32 - loss: 0.0465 - acc: 0.9822 52320/102124 [==============>...............] - ETA: 2:29 - loss: 0.0485 - acc: 0.9816 89440/102124 [=========================>....] - ETA: 38s - loss: 0.0486 - acc: 0.9816102124/102124 [==============================] - 320s 3ms/step - loss: 0.0485 - acc: 0.9816 - val_loss: 0.0462 - val_acc: 0.9818\n",
      "roc-auc: 0.9886 - roc-auc_val: 0.9848                                                                                                    \n",
      "Epoch 5/64\n",
      "  5536/102124 [>.............................] - ETA: 4:42 - loss: 0.0490 - acc: 0.9818 43104/102124 [===========>..................] - ETA: 2:55 - loss: 0.0465 - acc: 0.9821 79264/102124 [======================>.......] - ETA: 1:07 - loss: 0.0467 - acc: 0.9820102124/102124 [==============================] - 317s 3ms/step - loss: 0.0466 - acc: 0.9821 - val_loss: 0.0415 - val_acc: 0.9838\n",
      "Epoch 6/64\n",
      "  5152/102124 [>.............................] - ETA: 4:45 - loss: 0.0465 - acc: 0.9819 41280/102124 [===========>..................] - ETA: 2:57 - loss: 0.0453 - acc: 0.9825 77824/102124 [=====================>........] - ETA: 1:11 - loss: 0.0453 - acc: 0.9826102124/102124 [==============================] - 314s 3ms/step - loss: 0.0452 - acc: 0.9827 - val_loss: 0.0427 - val_acc: 0.9836\n",
      "roc-auc: 0.9904 - roc-auc_val: 0.987                                                                                                    \n",
      "Epoch 7/64\n",
      "  2784/102124 [..............................] - ETA: 4:47 - loss: 0.0432 - acc: 0.9828 47360/102124 [============>.................] - ETA: 2:40 - loss: 0.0437 - acc: 0.9831 93024/102124 [==========================>...] - ETA: 26s - loss: 0.0442 - acc: 0.9830102124/102124 [==============================] - 316s 3ms/step - loss: 0.0444 - acc: 0.9829 - val_loss: 0.0429 - val_acc: 0.9832\n",
      "\n",
      "Epoch 00007: ReduceLROnPlateau reducing learning rate to 0.0002679433673620224.\n",
      "Epoch 8/64\n",
      "  7616/102124 [=>............................] - ETA: 4:33 - loss: 0.0405 - acc: 0.983 48992/102124 [=============>................] - ETA: 2:37 - loss: 0.0433 - acc: 0.9833 87904/102124 [========================>.....] - ETA: 42s - loss: 0.0438 - acc: 0.9833102124/102124 [==============================] - 316s 3ms/step - loss: 0.0435 - acc: 0.9833 - val_loss: 0.0407 - val_acc: 0.9840\n",
      "roc-auc: 0.9918 - roc-auc_val: 0.9882                                                                                                    \n",
      "Epoch 9/64\n",
      "  5312/102124 [>.............................] - ETA: 4:39 - loss: 0.0435 - acc: 0.9829 40768/102124 [==========>...................] - ETA: 3:06 - loss: 0.0433 - acc: 0.9830 77824/102124 [=====================>........] - ETA: 1:14 - loss: 0.0434 - acc: 0.9831102124/102124 [==============================] - 327s 3ms/step - loss: 0.0430 - acc: 0.9833 - val_loss: 0.0422 - val_acc: 0.9835\n",
      "Epoch 10/64\n",
      "  4288/102124 [>.............................] - ETA: 4:46 - loss: 0.0416 - acc: 0.9845 39968/102124 [==========>...................] - ETA: 3:10 - loss: 0.0422 - acc: 0.9836 82432/102124 [=======================>......] - ETA: 1:00 - loss: 0.0420 - acc: 0.9836102124/102124 [==============================] - 325s 3ms/step - loss: 0.0419 - acc: 0.9837 - val_loss: 0.0419 - val_acc: 0.9835\n",
      "roc-auc: 0.9923 - roc-auc_val: 0.9882                                                                                                    \n",
      "Epoch 11/64\n",
      "  3712/102124 [>.............................] - ETA: 5:02 - loss: 0.0481 - acc: 0.9802 39872/102124 [==========>...................] - ETA: 3:09 - loss: 0.0416 - acc: 0.9837 82336/102124 [=======================>......] - ETA: 1:00 - loss: 0.0418 - acc: 0.9836102124/102124 [==============================] - 326s 3ms/step - loss: 0.0417 - acc: 0.9836 - val_loss: 0.0411 - val_acc: 0.9838\n",
      "Epoch 12/64\n",
      "  5952/102124 [>.............................] - ETA: 4:40 - loss: 0.0428 - acc: 0.9833 43264/102124 [===========>..................] - ETA: 2:57 - loss: 0.0403 - acc: 0.9843 79424/102124 [======================>.......] - ETA: 1:08 - loss: 0.0408 - acc: 0.9841102124/102124 [==============================] - 323s 3ms/step - loss: 0.0408 - acc: 0.9840 - val_loss: 0.0430 - val_acc: 0.9829\n",
      "roc-auc: 0.9927 - roc-auc_val: 0.9884                                                                                                    \n",
      "Epoch 13/64\n",
      "  3072/102124 [..............................] - ETA: 4:49 - loss: 0.0399 - acc: 0.9841 38752/102124 [==========>...................] - ETA: 3:12 - loss: 0.0402 - acc: 0.9843 79648/102124 [======================>.......] - ETA: 1:08 - loss: 0.0406 - acc: 0.9841102124/102124 [==============================] - 325s 3ms/step - loss: 0.0406 - acc: 0.9841 - val_loss: 0.0420 - val_acc: 0.9833\n",
      "Epoch 14/64\n",
      "  4864/102124 [>.............................] - ETA: 5:05 - loss: 0.0399 - acc: 0.9845 41440/102124 [===========>..................] - ETA: 3:07 - loss: 0.0398 - acc: 0.9842 77760/102124 [=====================>........] - ETA: 1:15 - loss: 0.0403 - acc: 0.9840102124/102124 [==============================] - 328s 3ms/step - loss: 0.0400 - acc: 0.9842 - val_loss: 0.0402 - val_acc: 0.9841\n",
      "roc-auc: 0.9933 - roc-auc_val: 0.9882                                                                                                    \n",
      "Epoch 15/64\n",
      "  2624/102124 [..............................] - ETA: 4:54 - loss: 0.0442 - acc: 0.9830 38880/102124 [==========>...................] - ETA: 3:13 - loss: 0.0402 - acc: 0.9841 78816/102124 [======================>.......] - ETA: 1:11 - loss: 0.0402 - acc: 0.9842102124/102124 [==============================] - 327s 3ms/step - loss: 0.0400 - acc: 0.9843 - val_loss: 0.0411 - val_acc: 0.9836\n",
      "Epoch 16/64\n",
      "  4352/102124 [>.............................] - ETA: 5:04 - loss: 0.0392 - acc: 0.9843 39872/102124 [==========>...................] - ETA: 3:12 - loss: 0.0402 - acc: 0.9838 79648/102124 [======================>.......] - ETA: 1:09 - loss: 0.0397 - acc: 0.9842102124/102124 [==============================] - 329s 3ms/step - loss: 0.0396 - acc: 0.9843 - val_loss: 0.0409 - val_acc: 0.9839\n",
      "roc-auc: 0.9936 - roc-auc_val: 0.9883                                                                                                    \n",
      "Epoch 17/64\n",
      "  3200/102124 [..............................] - ETA: 4:53 - loss: 0.0417 - acc: 0.9841 41568/102124 [===========>..................] - ETA: 3:03 - loss: 0.0389 - acc: 0.9846 81472/102124 [======================>.......] - ETA: 1:02 - loss: 0.0389 - acc: 0.9847102124/102124 [==============================] - 325s 3ms/step - loss: 0.0391 - acc: 0.9845 - val_loss: 0.0408 - val_acc: 0.9839\n",
      "Epoch 18/64\n"
     ]
    },
    {
     "name": "stdout",
     "output_type": "stream",
     "text": [
      "  5856/102124 [>.............................] - ETA: 4:43 - loss: 0.0402 - acc: 0.9846 43456/102124 [===========>..................] - ETA: 2:59 - loss: 0.0389 - acc: 0.9845 80416/102124 [======================>.......] - ETA: 1:06 - loss: 0.0389 - acc: 0.9845102124/102124 [==============================] - 327s 3ms/step - loss: 0.0387 - acc: 0.9846 - val_loss: 0.0414 - val_acc: 0.9835\n",
      "\n",
      "Epoch 00018: ReduceLROnPlateau reducing learning rate to 8.53775127325207e-05.\n",
      "roc-auc: 0.9939 - roc-auc_val: 0.9881                                                                                                    \n",
      "Epoch 19/64\n",
      "  2656/102124 [..............................] - ETA: 4:56 - loss: 0.0379 - acc: 0.9843 39712/102124 [==========>...................] - ETA: 3:10 - loss: 0.0384 - acc: 0.9848 74784/102124 [====================>.........] - ETA: 1:23 - loss: 0.0380 - acc: 0.9849102124/102124 [==============================] - 327s 3ms/step - loss: 0.0381 - acc: 0.9849 - val_loss: 0.0405 - val_acc: 0.9840\n",
      "Epoch 20/64\n",
      "  3200/102124 [..............................] - ETA: 4:52 - loss: 0.0377 - acc: 0.9848 38336/102124 [==========>...................] - ETA: 3:15 - loss: 0.0383 - acc: 0.9849 74816/102124 [====================>.........] - ETA: 1:23 - loss: 0.0383 - acc: 0.9848102124/102124 [==============================] - 326s 3ms/step - loss: 0.0381 - acc: 0.9849 - val_loss: 0.0407 - val_acc: 0.9839\n",
      "roc-auc: 0.9942 - roc-auc_val: 0.9882                                                                                                    \n",
      "Epoch 21/64\n",
      "  1952/102124 [..............................] - ETA: 4:48 - loss: 0.0437 - acc: 0.9835 37536/102124 [==========>...................] - ETA: 3:15 - loss: 0.0375 - acc: 0.9851 75680/102124 [=====================>........] - ETA: 1:20 - loss: 0.0379 - acc: 0.9848102124/102124 [==============================] - 326s 3ms/step - loss: 0.0378 - acc: 0.9849 - val_loss: 0.0410 - val_acc: 0.9836\n",
      "Epoch 22/64\n",
      "  3488/102124 [>.............................] - ETA: 4:59 - loss: 0.0441 - acc: 0.9835 40128/102124 [==========>...................] - ETA: 3:09 - loss: 0.0385 - acc: 0.9847 76000/102124 [=====================>........] - ETA: 1:20 - loss: 0.0383 - acc: 0.9849102124/102124 [==============================] - 329s 3ms/step - loss: 0.0382 - acc: 0.9848 - val_loss: 0.0416 - val_acc: 0.9834\n",
      "roc-auc: 0.9943 - roc-auc_val: 0.9883                                                                                                    \n",
      "Epoch 23/64\n",
      "  2208/102124 [..............................] - ETA: 5:04 - loss: 0.0342 - acc: 0.9871 38592/102124 [==========>...................] - ETA: 3:14 - loss: 0.0374 - acc: 0.9849 74752/102124 [====================>.........] - ETA: 1:24 - loss: 0.0375 - acc: 0.9851102124/102124 [==============================] - 328s 3ms/step - loss: 0.0374 - acc: 0.9852 - val_loss: 0.0413 - val_acc: 0.9835\n",
      "Epoch 24/64\n",
      "  2944/102124 [..............................] - ETA: 5:13 - loss: 0.0388 - acc: 0.9834 40544/102124 [==========>...................] - ETA: 3:11 - loss: 0.0372 - acc: 0.9851 76000/102124 [=====================>........] - ETA: 1:21 - loss: 0.0372 - acc: 0.9849102124/102124 [==============================] - 331s 3ms/step - loss: 0.0372 - acc: 0.9850 - val_loss: 0.0410 - val_acc: 0.9837\n",
      "roc-auc: 0.9946 - roc-auc_val: 0.9883                                                                                                    \n"
     ]
    }
   ],
   "source": [
    "history = train_with_cv(model, epochs=64, batchSize=32, rocEvery = 2)"
   ]
  },
  {
   "cell_type": "code",
   "execution_count": 14,
   "metadata": {
    "colab": {
     "autoexec": {
      "startup": false,
      "wait_interval": 0
     },
     "base_uri": "https://localhost:8080/",
     "height": 315
    },
    "colab_type": "code",
    "executionInfo": {
     "elapsed": 1858,
     "status": "ok",
     "timestamp": 1532724122174,
     "user": {
      "displayName": "Deep Learning",
      "photoUrl": "https://lh3.googleusercontent.com/a/default-user=s128",
      "userId": "118387080994381600389"
     },
     "user_tz": -120
    },
    "id": "izWCJ3HMReV3",
    "outputId": "0aa1e2c0-3608-4036-d34b-21eda70c9648"
   },
   "outputs": [
    {
     "data": {
      "image/png": "[encoded data removed]",
      "text/plain": [
       "<matplotlib.figure.Figure at 0x7faf08928f28>"
      ]
     },
     "metadata": {
      "tags": []
     },
     "output_type": "display_data"
    }
   ],
   "source": [
    "plot_history(history)"
   ]
  },
  {
   "cell_type": "code",
   "execution_count": 15,
   "metadata": {
    "colab": {
     "autoexec": {
      "startup": false,
      "wait_interval": 0
     },
     "base_uri": "https://localhost:8080/",
     "height": 52
    },
    "colab_type": "code",
    "executionInfo": {
     "elapsed": 35902,
     "status": "ok",
     "timestamp": 1532724158402,
     "user": {
      "displayName": "Deep Learning",
      "photoUrl": "https://lh3.googleusercontent.com/a/default-user=s128",
      "userId": "118387080994381600389"
     },
     "user_tz": -120
    },
    "id": "r2gtMBj2Tp9A",
    "outputId": "5cad593d-84c7-459b-9415-78bb528ad98e"
   },
   "outputs": [
    {
     "name": "stdout",
     "output_type": "stream",
     "text": [
      "31915/31915 [==============================] - 19s 603us/step\n",
      "([0.04012359041062881, 0.983774596078258], 0.9899510456117325)\n"
     ]
    }
   ],
   "source": [
    "print(evaluate_on_test(model))"
   ]
  }
 ],
 "metadata": {
  "accelerator": "GPU",
  "colab": {
   "collapsed_sections": [],
   "default_view": {},
   "name": "residual_add_128_5_blocks_pool.ipynb",
   "provenance": [],
   "version": "0.3.2",
   "views": {}
  },
  "kernelspec": {
   "display_name": "Python 3",
   "language": "python",
   "name": "python3"
  },
  "language_info": {
   "codemirror_mode": {
    "name": "ipython",
    "version": 3
   },
   "file_extension": ".py",
   "mimetype": "text/x-python",
   "name": "python",
   "nbconvert_exporter": "python",
   "pygments_lexer": "ipython3",
   "version": "3.6.2"
  }
 },
 "nbformat": 4,
 "nbformat_minor": 1
}

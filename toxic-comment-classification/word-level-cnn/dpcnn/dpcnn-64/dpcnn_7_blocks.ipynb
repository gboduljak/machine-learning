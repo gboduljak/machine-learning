{
  "nbformat": 4,
  "nbformat_minor": 0,
  "metadata": {
    "colab": {
      "name": "dpcnn_7_blocks.ipynb",
      "version": "0.3.2",
      "views": {},
      "default_view": {},
      "provenance": [],
      "collapsed_sections": []
    },
    "kernelspec": {
      "display_name": "Python 3",
      "language": "python",
      "name": "python3"
    },
    "accelerator": "GPU"
  },
  "cells": [
    {
      "metadata": {
        "id": "yS1FnhiWX3Js",
        "colab_type": "code",
        "colab": {
          "autoexec": {
            "startup": false,
            "wait_interval": 0
          },
          "base_uri": "https://localhost:8080/",
          "height": 277
        },
        "outputId": "7b8362a5-86cd-4a2f-ab6c-1f3d300f94c9",
        "executionInfo": {
          "status": "ok",
          "timestamp": 1532555844470,
          "user_tz": -120,
          "elapsed": 10544,
          "user": {
            "displayName": "Deep Learning",
            "photoUrl": "https://lh3.googleusercontent.com/a/default-user=s128",
            "userId": "118387080994381600389"
          }
        }
      },
      "cell_type": "code",
      "source": [
        "!pip install keras\n",
        "!pip install sklearn\n",
        "!pip install matplotlib\n",
        "!pip install -U -q PyDrive"
      ],
      "execution_count": 1,
      "outputs": [
        {
          "output_type": "stream",
          "text": [
            "Requirement already satisfied: keras in /usr/local/lib/python3.6/dist-packages (2.1.6)\r\n",
            "Requirement already satisfied: scipy>=0.14 in /usr/local/lib/python3.6/dist-packages (from keras) (0.19.1)\r\n",
            "Requirement already satisfied: six>=1.9.0 in /usr/local/lib/python3.6/dist-packages (from keras) (1.11.0)\r\n",
            "Requirement already satisfied: numpy>=1.9.1 in /usr/local/lib/python3.6/dist-packages (from keras) (1.14.5)\r\n",
            "Requirement already satisfied: h5py in /usr/local/lib/python3.6/dist-packages (from keras) (2.8.0)\r\n",
            "Requirement already satisfied: pyyaml in /usr/local/lib/python3.6/dist-packages (from keras) (3.13)\n",
            "Requirement already satisfied: sklearn in /usr/local/lib/python3.6/dist-packages (0.0)\n",
            "Requirement already satisfied: scikit-learn in /usr/local/lib/python3.6/dist-packages (from sklearn) (0.19.2)\n",
            "Requirement already satisfied: matplotlib in /usr/local/lib/python3.6/dist-packages (2.1.2)\n",
            "Requirement already satisfied: python-dateutil>=2.1 in /usr/local/lib/python3.6/dist-packages (from matplotlib) (2.5.3)\n",
            "Requirement already satisfied: numpy>=1.7.1 in /usr/local/lib/python3.6/dist-packages (from matplotlib) (1.14.5)\n",
            "Requirement already satisfied: six>=1.10 in /usr/local/lib/python3.6/dist-packages (from matplotlib) (1.11.0)\n",
            "Requirement already satisfied: pyparsing!=2.0.4,!=2.1.2,!=2.1.6,>=2.0.1 in /usr/local/lib/python3.6/dist-packages (from matplotlib) (2.2.0)\n",
            "Requirement already satisfied: cycler>=0.10 in /usr/local/lib/python3.6/dist-packages (from matplotlib) (0.10.0)\n",
            "Requirement already satisfied: pytz in /usr/local/lib/python3.6/dist-packages (from matplotlib) (2018.5)\n"
          ],
          "name": "stdout"
        }
      ]
    },
    {
      "metadata": {
        "id": "xlKzkDJFrjA-",
        "colab_type": "code",
        "colab": {
          "autoexec": {
            "startup": false,
            "wait_interval": 0
          },
          "base_uri": "https://localhost:8080/",
          "height": 35
        },
        "outputId": "6e20909c-a97a-4dbe-e8b7-ec70e6ef7b18",
        "executionInfo": {
          "status": "ok",
          "timestamp": 1532555848615,
          "user_tz": -120,
          "elapsed": 4108,
          "user": {
            "displayName": "Deep Learning",
            "photoUrl": "https://lh3.googleusercontent.com/a/default-user=s128",
            "userId": "118387080994381600389"
          }
        }
      },
      "cell_type": "code",
      "source": [
        "from keras import backend as K\n",
        "K.clear_session()"
      ],
      "execution_count": 2,
      "outputs": [
        {
          "output_type": "stream",
          "text": [
            "Using TensorFlow backend.\n"
          ],
          "name": "stderr"
        }
      ]
    },
    {
      "metadata": {
        "id": "eQEKwl4oAxO7",
        "colab_type": "code",
        "colab": {
          "autoexec": {
            "startup": false,
            "wait_interval": 0
          }
        }
      },
      "cell_type": "code",
      "source": [
        "from keras import backend as K\n",
        "cfg = K.tf.ConfigProto()\n",
        "cfg.gpu_options.allow_growth = True\n",
        "K.set_session(K.tf.Session(config=cfg))"
      ],
      "execution_count": 0,
      "outputs": []
    },
    {
      "metadata": {
        "id": "12M0egCCX-27",
        "colab_type": "code",
        "colab": {
          "autoexec": {
            "startup": false,
            "wait_interval": 0
          }
        }
      },
      "cell_type": "code",
      "source": [
        "from pydrive.auth import GoogleAuth\n",
        "from pydrive.drive import GoogleDrive\n",
        "from google.colab import auth\n",
        "from oauth2client.client import GoogleCredentials\n",
        "\n",
        "auth.authenticate_user()\n",
        "gauth = GoogleAuth()\n",
        "gauth.credentials = GoogleCredentials.get_application_default()\n",
        "drive = GoogleDrive(gauth)"
      ],
      "execution_count": 0,
      "outputs": []
    },
    {
      "metadata": {
        "id": "4lN2WTUEYBYv",
        "colab_type": "code",
        "colab": {
          "autoexec": {
            "startup": false,
            "wait_interval": 0
          }
        }
      },
      "cell_type": "code",
      "source": [
        "file_import = drive.CreateFile({'id':'1p1bsltfTcIrZ_kfE6kwGTPzcdXorHbb2'})\n",
        "file_import.GetContentFile('colab_setup.py') \n",
        "from colab_setup import setup\n",
        "\n",
        "setup(drive)"
      ],
      "execution_count": 0,
      "outputs": []
    },
    {
      "metadata": {
        "id": "cHBlD0tVj2TY",
        "colab_type": "code",
        "colab": {
          "autoexec": {
            "startup": false,
            "wait_interval": 0
          },
          "base_uri": "https://localhost:8080/",
          "height": 121
        },
        "outputId": "a47371d4-24a0-4afe-d104-9224ff1f3080",
        "executionInfo": {
          "status": "ok",
          "timestamp": 1532555876972,
          "user_tz": -120,
          "elapsed": 2026,
          "user": {
            "displayName": "Deep Learning",
            "photoUrl": "https://lh3.googleusercontent.com/a/default-user=s128",
            "userId": "118387080994381600389"
          }
        }
      },
      "cell_type": "code",
      "source": [
        "!ls"
      ],
      "execution_count": 6,
      "outputs": [
        {
          "output_type": "stream",
          "text": [
            "colab_setup.py\t\t\t roc_auc_callback.py\tX_train.npy\r\n",
            "custom_fast_text_embeddings.npy  sample_submission.csv\tX_val.npy\r\n",
            "datalab\t\t\t\t train_model.py\t\ty_test.npy\r\n",
            "fast_text_embeddings.npy\t X_submission.npy\ty_train_full.npy\r\n",
            "plot_history.py\t\t\t X_test.npy\t\ty_train.npy\r\n",
            "__pycache__\t\t\t X_train_full.npy\ty_val.npy\r\n"
          ],
          "name": "stdout"
        }
      ]
    },
    {
      "metadata": {
        "id": "yMwWPTMYXyno",
        "colab_type": "code",
        "colab": {
          "autoexec": {
            "startup": false,
            "wait_interval": 0
          }
        }
      },
      "cell_type": "code",
      "source": [
        "import numpy as np\n",
        "import os\n",
        "\n",
        "from plot_history import plot_history\n",
        "from roc_auc_callback import RocAucCallback\n",
        "from train_model import train_with_cv, train_with_submitting, evaluate_on_test\n",
        "\n",
        "from keras.layers import *\n",
        "from keras.layers.merge import *\n",
        "from keras.initializers import *\n",
        "from keras.models import Model"
      ],
      "execution_count": 0,
      "outputs": []
    },
    {
      "metadata": {
        "id": "irwBTJdINU0J",
        "colab_type": "code",
        "colab": {
          "autoexec": {
            "startup": false,
            "wait_interval": 0
          }
        }
      },
      "cell_type": "code",
      "source": [
        "featureMapsNumber = 64\n",
        "featureMapKernelSize = 3\n",
        "\n",
        "maxPoolingStride = 2\n",
        "maxPoolingKernelSize = 3\n",
        "\n",
        "def convolution_block(input_layer, should_preactivate = False, dropout_rate = 0.2, dropout_mode = 'spatial'):\n",
        "    convolution_block_input = Input(shape=(int(input_layer.shape[1]), int(input_layer.shape[2])))\n",
        "    model = convolution_block_input\n",
        "    \n",
        "    if(should_preactivate):\n",
        "        model = BatchNormalization()(model)\n",
        "        model = ELU()(model)\n",
        "        model = Conv1D(\n",
        "            featureMapsNumber, \n",
        "            kernel_size=featureMapKernelSize, \n",
        "            padding='same', \n",
        "            activation='linear', \n",
        "            kernel_initializer = 'he_normal'\n",
        "        )(model)\n",
        "    else:\n",
        "        model = Conv1D(\n",
        "            featureMapsNumber, \n",
        "            kernel_size=featureMapKernelSize, \n",
        "            padding='same', \n",
        "            activation='linear', \n",
        "            kernel_initializer = 'he_normal'\n",
        "        )(model)        \n",
        "        model = BatchNormalization()(model)\n",
        "        model = ELU()(model)\n",
        "        \n",
        "    convolution_block_output = model\n",
        "    \n",
        "    if(dropout_mode == 'vanilla'):\n",
        "        convolution_block_output = Dropout(dropout_rate)(model)\n",
        "    if(dropout_mode == 'spatial'):\n",
        "        convolution_block_output = SpatialDropout1D(dropout_rate)(model)\n",
        "        \n",
        "    return Model(\n",
        "        inputs=[convolution_block_input], \n",
        "        outputs=[convolution_block_output]\n",
        "    )(input_layer)\n",
        "\n"
      ],
      "execution_count": 0,
      "outputs": []
    },
    {
      "metadata": {
        "id": "B56B81kNNXxh",
        "colab_type": "code",
        "colab": {
          "autoexec": {
            "startup": false,
            "wait_interval": 0
          }
        }
      },
      "cell_type": "code",
      "source": [
        "def dpcnn_block(input_layer, dropout_rate = 0.2, dropout_mode = 'spatial'):\n",
        "    dpcnn_block_input = Input(shape=(int(input_layer.shape[1]), int(input_layer.shape[2])))\n",
        "    dpcnn_block_pool = MaxPooling1D(pool_size=3, strides=2, padding='valid')(dpcnn_block_input)\n",
        "    \n",
        "    dpcnn_conv_1 = convolution_block(\n",
        "        dpcnn_block_pool, \n",
        "        should_preactivate = True, \n",
        "        dropout_mode = dropout_mode,\n",
        "        dropout_rate = dropout_rate\n",
        "    )\n",
        "    dpcnn_conv_2 = convolution_block(\n",
        "        dpcnn_conv_1, \n",
        "        should_preactivate = True, \n",
        "        dropout_mode = dropout_mode,\n",
        "        dropout_rate = dropout_rate\n",
        "    )\n",
        "    \n",
        "    dpcnn_block_output = add([dpcnn_conv_2, dpcnn_block_pool])\n",
        "    \n",
        "    return Model(\n",
        "        inputs=[dpcnn_block_input], \n",
        "        outputs=[dpcnn_block_output]\n",
        "    )(input_layer)"
      ],
      "execution_count": 0,
      "outputs": []
    },
    {
      "metadata": {
        "id": "zrmoc20_ngdA",
        "colab_type": "code",
        "colab": {
          "autoexec": {
            "startup": false,
            "wait_interval": 0
          }
        }
      },
      "cell_type": "code",
      "source": [
        "def yoon_kim_feature_extractor(filtersNumber, inputLayer):\n",
        "    extractor_block_input = Input(shape=(int(inputLayer.shape[1]), int(inputLayer.shape[2])))\n",
        "\n",
        "    block_1_conv_1 = Conv1D(filtersNumber, 1, activation = 'linear', padding = 'same', kernel_initializer = 'he_normal')(extractor_block_input)\n",
        "    block_1_batchnorm1 = BatchNormalization()(block_1_conv_1)\n",
        "    block_1_batchnorm1 = ELU()(block_1_batchnorm1)\n",
        "    block_1_max_pool1 = GlobalMaxPooling1D()(block_1_batchnorm1)\n",
        "\n",
        "    block_1_conv_2 = Conv1D(filtersNumber, 2, activation = 'linear', padding = 'same', kernel_initializer = 'he_normal')(extractor_block_input)\n",
        "    block_1_batchnorm2 = BatchNormalization()(block_1_conv_2)\n",
        "    block_1_batchnorm2 = ELU()(block_1_batchnorm2)\n",
        "    block_1_max_pool2 = GlobalMaxPooling1D()(block_1_batchnorm2)\n",
        "\n",
        "    block_1_conv_3 = Conv1D(filtersNumber, 3, activation = 'linear', padding = 'same', kernel_initializer = 'he_normal')(extractor_block_input)\n",
        "    block_1_batchnorm3 = BatchNormalization()(block_1_conv_3)\n",
        "    block_1_batchnorm3 = ELU()(block_1_batchnorm3)\n",
        "    block_1_max_pool3 = GlobalMaxPooling1D()(block_1_batchnorm3)\n",
        "\n",
        "    block_1_conv_4 = Conv1D(filtersNumber, 5, activation = 'linear', padding = 'same', kernel_initializer = 'he_normal')(extractor_block_input)\n",
        "    block_1_batchnorm4 = BatchNormalization()(block_1_conv_4)\n",
        "    block_1_batchnorm4 = ELU()(block_1_batchnorm4)\n",
        "    block_1_max_pool4 = GlobalMaxPooling1D()(block_1_batchnorm4)\n",
        "\n",
        "    block_1_features = concatenate([\n",
        "        block_1_max_pool1, \n",
        "        block_1_max_pool2, \n",
        "        block_1_max_pool3, \n",
        "        block_1_max_pool4\n",
        "    ])\n",
        "    \n",
        "    extractor_block_output = Dropout(0.2)(block_1_features)\n",
        "    \n",
        "    return Model(\n",
        "        inputs = [extractor_block_input], \n",
        "        outputs=[extractor_block_output]\n",
        "    )(inputLayer)"
      ],
      "execution_count": 0,
      "outputs": []
    },
    {
      "metadata": {
        "id": "EJXIfoCSNasL",
        "colab_type": "code",
        "colab": {
          "autoexec": {
            "startup": false,
            "wait_interval": 0
          }
        }
      },
      "cell_type": "code",
      "source": [
        "def classification_block(input_layer, dropout_rate = 0.2):\n",
        "      \n",
        "    model = Dense(256, activation = 'linear', kernel_initializer = 'he_normal')(input_layer)\n",
        "    model = BatchNormalization()(model)\n",
        "    model = ELU()(model)\n",
        "    model = Dropout(dropout_rate)(model)\n",
        "    \n",
        "    model = Dense(256, activation = 'linear', kernel_initializer = 'he_normal')(model)\n",
        "    model = BatchNormalization()(model)\n",
        "    model = ELU()(model)\n",
        "    model = Dropout(dropout_rate)(model)\n",
        "\n",
        "    classification_block_output = Dense(6, activation='sigmoid', kernel_initializer = 'glorot_normal')(model)\n",
        "    \n",
        "    return classification_block_output"
      ],
      "execution_count": 0,
      "outputs": []
    },
    {
      "metadata": {
        "id": "LTFG7OgsXynw",
        "colab_type": "code",
        "colab": {
          "autoexec": {
            "startup": false,
            "wait_interval": 0
          },
          "base_uri": "https://localhost:8080/",
          "height": 1196
        },
        "outputId": "747a18e8-2397-4a49-e2b6-eedeae065676",
        "executionInfo": {
          "status": "ok",
          "timestamp": 1532555893610,
          "user_tz": -120,
          "elapsed": 12310,
          "user": {
            "displayName": "Deep Learning",
            "photoUrl": "https://lh3.googleusercontent.com/a/default-user=s128",
            "userId": "118387080994381600389"
          }
        }
      },
      "cell_type": "code",
      "source": [
        "max_words= 30000\n",
        "max_words_length = 400\n",
        "embedding_dimension = 300\n",
        "\n",
        "input_layer = Input(shape=(max_words_length,))\n",
        "\n",
        "pretrained_embedding_layer = Embedding(\n",
        "    max_words, \n",
        "    output_dim=embedding_dimension, \n",
        "    input_length=max_words_length,\n",
        "    weights = [np.load('fast_text_embeddings.npy')],\n",
        "    trainable = False\n",
        ")(input_layer)\n",
        "pretrained_embedding_layer = SpatialDropout1D(0.2)(pretrained_embedding_layer)\n",
        "\n",
        "custom_embedding_layer = Embedding(\n",
        "    max_words, \n",
        "    output_dim=embedding_dimension, \n",
        "    input_length=max_words_length,\n",
        "    weights = [np.load('custom_fast_text_embeddings.npy')],\n",
        "    trainable = False\n",
        ")(input_layer)\n",
        "custom_embedding_layer = SpatialDropout1D(0.2)(custom_embedding_layer)\n",
        "\n",
        "averaged_embedding_layer = Average()([pretrained_embedding_layer, custom_embedding_layer])\n",
        "averaged_embedding_layer = SpatialDropout1D(0.2)(averaged_embedding_layer)\n",
        "\n",
        "preprocess_1 = convolution_block(averaged_embedding_layer, dropout_mode = 'spatial')\n",
        "preprocess_2 = convolution_block(preprocess_1, dropout_mode = 'spatial')\n",
        "\n",
        "model = add([preprocess_1, preprocess_2])\n",
        "\n",
        "model = dpcnn_block(model)\n",
        "model = dpcnn_block(model)\n",
        "model = dpcnn_block(model)\n",
        "model = dpcnn_block(model)\n",
        "model = dpcnn_block(model)\n",
        "model = dpcnn_block(model)\n",
        "model = dpcnn_block(model)\n",
        "\n",
        "model = concatenate([\n",
        "    Flatten()(model), \n",
        "    yoon_kim_feature_extractor(featureMapsNumber, model)\n",
        "])\n",
        "output_layer = classification_block(model)\n",
        "\n",
        "model = Model(inputs=[input_layer], outputs=[output_layer])\n",
        "            \n",
        "model.summary()\n",
        "\n",
        "model.compile(\n",
        "    loss='binary_crossentropy', \n",
        "    optimizer='Adam',\n",
        "    metrics=['accuracy']\n",
        ")"
      ],
      "execution_count": 12,
      "outputs": [
        {
          "output_type": "stream",
          "text": [
            "__________________________________________________________________________________________________\n",
            "Layer (type)                    Output Shape         Param #     Connected to                     \n",
            "==================================================================================================\n",
            "input_1 (InputLayer)            (None, 400)          0                                            \n",
            "__________________________________________________________________________________________________\n",
            "embedding_1 (Embedding)         (None, 400, 300)     9000000     input_1[0][0]                    \n",
            "__________________________________________________________________________________________________\n",
            "embedding_2 (Embedding)         (None, 400, 300)     9000000     input_1[0][0]                    \n",
            "__________________________________________________________________________________________________\n",
            "spatial_dropout1d_1 (SpatialDro (None, 400, 300)     0           embedding_1[0][0]                \n",
            "__________________________________________________________________________________________________\n",
            "spatial_dropout1d_2 (SpatialDro (None, 400, 300)     0           embedding_2[0][0]                \n",
            "__________________________________________________________________________________________________\n",
            "average_1 (Average)             (None, 400, 300)     0           spatial_dropout1d_1[0][0]        \n",
            "                                                                 spatial_dropout1d_2[0][0]        \n",
            "__________________________________________________________________________________________________\n",
            "spatial_dropout1d_3 (SpatialDro (None, 400, 300)     0           average_1[0][0]                  \n",
            "__________________________________________________________________________________________________\n",
            "model_1 (Model)                 (None, 400, 64)      57920       spatial_dropout1d_3[0][0]        \n",
            "__________________________________________________________________________________________________\n",
            "model_2 (Model)                 (None, 400, 64)      12608       model_1[1][0]                    \n",
            "__________________________________________________________________________________________________\n",
            "add_1 (Add)                     (None, 400, 64)      0           model_1[1][0]                    \n",
            "                                                                 model_2[1][0]                    \n",
            "__________________________________________________________________________________________________\n",
            "model_5 (Model)                 (None, 199, 64)      25216       add_1[0][0]                      \n",
            "__________________________________________________________________________________________________\n",
            "model_8 (Model)                 (None, 99, 64)       25216       model_5[1][0]                    \n",
            "__________________________________________________________________________________________________\n",
            "model_11 (Model)                (None, 49, 64)       25216       model_8[1][0]                    \n",
            "__________________________________________________________________________________________________\n",
            "model_14 (Model)                (None, 24, 64)       25216       model_11[1][0]                   \n",
            "__________________________________________________________________________________________________\n",
            "model_17 (Model)                (None, 11, 64)       25216       model_14[1][0]                   \n",
            "__________________________________________________________________________________________________\n",
            "model_20 (Model)                (None, 5, 64)        25216       model_17[1][0]                   \n",
            "__________________________________________________________________________________________________\n",
            "model_23 (Model)                (None, 2, 64)        25216       model_20[1][0]                   \n",
            "__________________________________________________________________________________________________\n",
            "flatten_1 (Flatten)             (None, 128)          0           model_23[1][0]                   \n",
            "__________________________________________________________________________________________________\n",
            "model_24 (Model)                (None, 256)          46336       model_23[1][0]                   \n",
            "__________________________________________________________________________________________________\n",
            "concatenate_2 (Concatenate)     (None, 384)          0           flatten_1[0][0]                  \n",
            "                                                                 model_24[1][0]                   \n",
            "__________________________________________________________________________________________________\n",
            "dense_1 (Dense)                 (None, 256)          98560       concatenate_2[0][0]              \n",
            "__________________________________________________________________________________________________\n",
            "batch_normalization_21 (BatchNo (None, 256)          1024        dense_1[0][0]                    \n",
            "__________________________________________________________________________________________________\n",
            "elu_21 (ELU)                    (None, 256)          0           batch_normalization_21[0][0]     \n",
            "__________________________________________________________________________________________________\n",
            "dropout_2 (Dropout)             (None, 256)          0           elu_21[0][0]                     \n",
            "__________________________________________________________________________________________________\n",
            "dense_2 (Dense)                 (None, 256)          65792       dropout_2[0][0]                  \n",
            "__________________________________________________________________________________________________\n",
            "batch_normalization_22 (BatchNo (None, 256)          1024        dense_2[0][0]                    \n",
            "__________________________________________________________________________________________________\n",
            "elu_22 (ELU)                    (None, 256)          0           batch_normalization_22[0][0]     \n",
            "__________________________________________________________________________________________________\n",
            "dropout_3 (Dropout)             (None, 256)          0           elu_22[0][0]                     \n",
            "__________________________________________________________________________________________________\n",
            "dense_3 (Dense)                 (None, 6)            1542        dropout_3[0][0]                  \n",
            "==================================================================================================\n",
            "Total params: 18,461,318\n",
            "Trainable params: 457,734\n",
            "Non-trainable params: 18,003,584\n",
            "__________________________________________________________________________________________________\n"
          ],
          "name": "stdout"
        }
      ]
    },
    {
      "metadata": {
        "id": "AuJrlDnJfEA-",
        "colab_type": "text"
      },
      "cell_type": "markdown",
      "source": [
        "Small Batch Training"
      ]
    },
    {
      "metadata": {
        "id": "xwMmTewgXynz",
        "colab_type": "code",
        "colab": {
          "autoexec": {
            "startup": false,
            "wait_interval": 0
          },
          "base_uri": "https://localhost:8080/",
          "height": 1424
        },
        "outputId": "bc7ac99c-14e9-4288-8994-af68bcb9827d",
        "executionInfo": {
          "status": "ok",
          "timestamp": 1532568167689,
          "user_tz": -120,
          "elapsed": 12274040,
          "user": {
            "displayName": "Deep Learning",
            "photoUrl": "https://lh3.googleusercontent.com/a/default-user=s128",
            "userId": "118387080994381600389"
          }
        }
      },
      "cell_type": "code",
      "source": [
        "history = train_with_cv(model, batchSize=32, rocEvery = 2)"
      ],
      "execution_count": 13,
      "outputs": [
        {
          "output_type": "stream",
          "text": [
            "Train on 102124 samples, validate on 25532 samples\n",
            "Epoch 1/32\n",
            " 21408/102124 [=====>........................] - ETA: 5:48 - loss: 0.1245 - acc: 0.9598"
          ],
          "name": "stdout"
        },
        {
          "output_type": "stream",
          "text": [
            "102112/102124 [============================>.] - ETA: 0s - loss: 0.0774 - acc: 0.9736"
          ],
          "name": "stdout"
        },
        {
          "output_type": "stream",
          "text": [
            "102124/102124 [==============================] - 404s 4ms/step - loss: 0.0774 - acc: 0.9736 - val_loss: 0.0492 - val_acc: 0.9815\n",
            "Epoch 2/32\n",
            " 14016/102124 [===>..........................] - ETA: 5:04 - loss: 0.0579 - acc: 0.9797"
          ],
          "name": "stdout"
        },
        {
          "output_type": "stream",
          "text": [
            "102112/102124 [============================>.] - ETA: 0s - loss: 0.0573 - acc: 0.9793"
          ],
          "name": "stdout"
        },
        {
          "output_type": "stream",
          "text": [
            "102124/102124 [==============================] - 379s 4ms/step - loss: 0.0573 - acc: 0.9793 - val_loss: 0.0480 - val_acc: 0.9817\n",
            "roc-auc: 0.9754 - roc-auc_val: 0.9719                                                                                                    \n",
            "Epoch 3/32\n",
            "  8736/102124 [=>............................] - ETA: 6:00 - loss: 0.0554 - acc: 0.9798"
          ],
          "name": "stdout"
        },
        {
          "output_type": "stream",
          "text": [
            "102112/102124 [============================>.] - ETA: 0s - loss: 0.0540 - acc: 0.9803"
          ],
          "name": "stdout"
        },
        {
          "output_type": "stream",
          "text": [
            "102124/102124 [==============================] - 395s 4ms/step - loss: 0.0540 - acc: 0.9803 - val_loss: 0.0543 - val_acc: 0.9811\n",
            "Epoch 4/32\n",
            " 14048/102124 [===>..........................] - ETA: 5:41 - loss: 0.0518 - acc: 0.9808"
          ],
          "name": "stdout"
        },
        {
          "output_type": "stream",
          "text": [
            "102112/102124 [============================>.] - ETA: 0s - loss: 0.0525 - acc: 0.9806"
          ],
          "name": "stdout"
        },
        {
          "output_type": "stream",
          "text": [
            "102124/102124 [==============================] - 391s 4ms/step - loss: 0.0525 - acc: 0.9806 - val_loss: 0.0454 - val_acc: 0.9829\n",
            "roc-auc: 0.9794 - roc-auc_val: 0.9761                                                                                                    \n",
            "Epoch 5/32\n",
            "  8736/102124 [=>............................] - ETA: 5:15 - loss: 0.0514 - acc: 0.9806"
          ],
          "name": "stdout"
        },
        {
          "output_type": "stream",
          "text": [
            "102112/102124 [============================>.] - ETA: 0s - loss: 0.0506 - acc: 0.9813"
          ],
          "name": "stdout"
        },
        {
          "output_type": "stream",
          "text": [
            "102124/102124 [==============================] - 388s 4ms/step - loss: 0.0507 - acc: 0.9813 - val_loss: 0.0451 - val_acc: 0.9830\n",
            "Epoch 6/32\n",
            " 14048/102124 [===>..........................] - ETA: 5:40 - loss: 0.0510 - acc: 0.9816"
          ],
          "name": "stdout"
        },
        {
          "output_type": "stream",
          "text": [
            "102112/102124 [============================>.] - ETA: 0s - loss: 0.0492 - acc: 0.9817"
          ],
          "name": "stdout"
        },
        {
          "output_type": "stream",
          "text": [
            "102124/102124 [==============================] - 393s 4ms/step - loss: 0.0492 - acc: 0.9817 - val_loss: 0.0453 - val_acc: 0.9827\n",
            "roc-auc: 0.9816 - roc-auc_val: 0.9777                                                                                                    \n",
            "Epoch 7/32\n",
            "  8736/102124 [=>............................] - ETA: 5:26 - loss: 0.0466 - acc: 0.9829"
          ],
          "name": "stdout"
        },
        {
          "output_type": "stream",
          "text": [
            "102112/102124 [============================>.] - ETA: 0s - loss: 0.0483 - acc: 0.9819"
          ],
          "name": "stdout"
        },
        {
          "output_type": "stream",
          "text": [
            "102124/102124 [==============================] - 381s 4ms/step - loss: 0.0483 - acc: 0.9819 - val_loss: 0.0438 - val_acc: 0.9832\n",
            "Epoch 8/32\n",
            " 14016/102124 [===>..........................] - ETA: 5:04 - loss: 0.0476 - acc: 0.9819"
          ],
          "name": "stdout"
        },
        {
          "output_type": "stream",
          "text": [
            "102112/102124 [============================>.] - ETA: 0s - loss: 0.0473 - acc: 0.9822"
          ],
          "name": "stdout"
        },
        {
          "output_type": "stream",
          "text": [
            "102124/102124 [==============================] - 367s 4ms/step - loss: 0.0473 - acc: 0.9822 - val_loss: 0.0442 - val_acc: 0.9833\n",
            "roc-auc: 0.9845 - roc-auc_val: 0.9783                                                                                                    \n",
            "Epoch 9/32\n",
            "  8736/102124 [=>............................] - ETA: 5:28 - loss: 0.0447 - acc: 0.9836"
          ],
          "name": "stdout"
        },
        {
          "output_type": "stream",
          "text": [
            "102112/102124 [============================>.] - ETA: 0s - loss: 0.0461 - acc: 0.9826"
          ],
          "name": "stdout"
        },
        {
          "output_type": "stream",
          "text": [
            "\b\b\b\b\b\b\b\b\b\b\b\b\b\b\b\b\b\b\b\b\b\b\b\b\b\b\b\b\b\b\b\b\b\b\b\b\b\b\b\b\b\b\b\b\b\b\b\b\b\b\b\b\b\b\b\b\b\b\b\b\b\b\b\b\b\b\b\b\b\b\b\b\b\b\b\b\b\b\b\b\b\b\b\b\b\r102124/102124 [==============================] - 368s 4ms/step - loss: 0.0461 - acc: 0.9826 - val_loss: 0.0442 - val_acc: 0.9830\n",
            "\n",
            "Epoch 00009: ReduceLROnPlateau reducing learning rate to 0.00021763764380011708.\n",
            "Epoch 10/32\n",
            "  8000/102124 [=>............................] - ETA: 5:27 - loss: 0.0442 - acc: 0.9832"
          ],
          "name": "stdout"
        },
        {
          "output_type": "stream",
          "text": [
            "102112/102124 [============================>.] - ETA: 0s - loss: 0.0454 - acc: 0.9827"
          ],
          "name": "stdout"
        },
        {
          "output_type": "stream",
          "text": [
            "102124/102124 [==============================] - 369s 4ms/step - loss: 0.0454 - acc: 0.9827 - val_loss: 0.0432 - val_acc: 0.9838\n",
            "roc-auc: 0.9866 - roc-auc_val: 0.98                                                                                                    \n",
            "Epoch 11/32\n",
            "  8704/102124 [=>............................] - ETA: 5:19 - loss: 0.0423 - acc: 0.9840"
          ],
          "name": "stdout"
        },
        {
          "output_type": "stream",
          "text": [
            "102112/102124 [============================>.] - ETA: 0s - loss: 0.0447 - acc: 0.9827"
          ],
          "name": "stdout"
        },
        {
          "output_type": "stream",
          "text": [
            "102124/102124 [==============================] - 368s 4ms/step - loss: 0.0447 - acc: 0.9827 - val_loss: 0.0426 - val_acc: 0.9835\n",
            "Epoch 12/32\n",
            " 13984/102124 [===>..........................] - ETA: 5:06 - loss: 0.0431 - acc: 0.9836"
          ],
          "name": "stdout"
        },
        {
          "output_type": "stream",
          "text": [
            "102112/102124 [============================>.] - ETA: 0s - loss: 0.0440 - acc: 0.9831"
          ],
          "name": "stdout"
        },
        {
          "output_type": "stream",
          "text": [
            "102124/102124 [==============================] - 368s 4ms/step - loss: 0.0440 - acc: 0.9831 - val_loss: 0.0430 - val_acc: 0.9834\n",
            "roc-auc: 0.9882 - roc-auc_val: 0.9805                                                                                                    \n",
            "Epoch 13/32\n",
            "  8704/102124 [=>............................] - ETA: 5:19 - loss: 0.0440 - acc: 0.9830"
          ],
          "name": "stdout"
        },
        {
          "output_type": "stream",
          "text": [
            "102112/102124 [============================>.] - ETA: 0s - loss: 0.0438 - acc: 0.9831"
          ],
          "name": "stdout"
        },
        {
          "output_type": "stream",
          "text": [
            "102124/102124 [==============================] - 366s 4ms/step - loss: 0.0438 - acc: 0.9831 - val_loss: 0.0423 - val_acc: 0.9837\n",
            "Epoch 14/32\n",
            " 13984/102124 [===>..........................] - ETA: 5:05 - loss: 0.0427 - acc: 0.9837"
          ],
          "name": "stdout"
        },
        {
          "output_type": "stream",
          "text": [
            "102112/102124 [============================>.] - ETA: 0s - loss: 0.0431 - acc: 0.9833"
          ],
          "name": "stdout"
        },
        {
          "output_type": "stream",
          "text": [
            "102124/102124 [==============================] - 367s 4ms/step - loss: 0.0431 - acc: 0.9833 - val_loss: 0.0425 - val_acc: 0.9838\n",
            "roc-auc: 0.989 - roc-auc_val: 0.9813                                                                                                    \n",
            "Epoch 15/32\n",
            "  8736/102124 [=>............................] - ETA: 5:27 - loss: 0.0414 - acc: 0.9837"
          ],
          "name": "stdout"
        },
        {
          "output_type": "stream",
          "text": [
            "102112/102124 [============================>.] - ETA: 0s - loss: 0.0421 - acc: 0.9835"
          ],
          "name": "stdout"
        },
        {
          "output_type": "stream",
          "text": [
            "102124/102124 [==============================] - 368s 4ms/step - loss: 0.0421 - acc: 0.9835 - val_loss: 0.0422 - val_acc: 0.9837\n",
            "Epoch 16/32\n",
            " 13984/102124 [===>..........................] - ETA: 5:04 - loss: 0.0414 - acc: 0.9838"
          ],
          "name": "stdout"
        },
        {
          "output_type": "stream",
          "text": [
            "102112/102124 [============================>.] - ETA: 0s - loss: 0.0417 - acc: 0.9838"
          ],
          "name": "stdout"
        },
        {
          "output_type": "stream",
          "text": [
            "102124/102124 [==============================] - 367s 4ms/step - loss: 0.0418 - acc: 0.9837 - val_loss: 0.0419 - val_acc: 0.9841\n",
            "roc-auc: 0.9898 - roc-auc_val: 0.9818                                                                                                    \n",
            "Epoch 17/32\n",
            "  8672/102124 [=>............................] - ETA: 5:26 - loss: 0.0406 - acc: 0.9844"
          ],
          "name": "stdout"
        },
        {
          "output_type": "stream",
          "text": [
            "102112/102124 [============================>.] - ETA: 0s - loss: 0.0413 - acc: 0.9838"
          ],
          "name": "stdout"
        },
        {
          "output_type": "stream",
          "text": [
            "102124/102124 [==============================] - 368s 4ms/step - loss: 0.0413 - acc: 0.9838 - val_loss: 0.0428 - val_acc: 0.9835\n",
            "Epoch 18/32\n",
            " 13984/102124 [===>..........................] - ETA: 5:05 - loss: 0.0418 - acc: 0.9833"
          ],
          "name": "stdout"
        },
        {
          "output_type": "stream",
          "text": [
            "102112/102124 [============================>.] - ETA: 0s - loss: 0.0411 - acc: 0.9840"
          ],
          "name": "stdout"
        },
        {
          "output_type": "stream",
          "text": [
            "102124/102124 [==============================] - 367s 4ms/step - loss: 0.0411 - acc: 0.9840 - val_loss: 0.0421 - val_acc: 0.9837\n",
            "roc-auc: 0.9899 - roc-auc_val: 0.9815                                                                                                    \n",
            "Epoch 19/32\n",
            "  8704/102124 [=>............................] - ETA: 5:17 - loss: 0.0423 - acc: 0.9839"
          ],
          "name": "stdout"
        },
        {
          "output_type": "stream",
          "text": [
            "102112/102124 [============================>.] - ETA: 0s - loss: 0.0409 - acc: 0.9840"
          ],
          "name": "stdout"
        },
        {
          "output_type": "stream",
          "text": [
            "102124/102124 [==============================] - 369s 4ms/step - loss: 0.0409 - acc: 0.9840 - val_loss: 0.0417 - val_acc: 0.9839\n",
            "Epoch 20/32\n",
            " 13984/102124 [===>..........................] - ETA: 5:08 - loss: 0.0419 - acc: 0.9835"
          ],
          "name": "stdout"
        },
        {
          "output_type": "stream",
          "text": [
            "102112/102124 [============================>.] - ETA: 0s - loss: 0.0404 - acc: 0.9843"
          ],
          "name": "stdout"
        },
        {
          "output_type": "stream",
          "text": [
            "102124/102124 [==============================] - 368s 4ms/step - loss: 0.0404 - acc: 0.9843 - val_loss: 0.0412 - val_acc: 0.9842\n",
            "roc-auc: 0.9906 - roc-auc_val: 0.9821                                                                                                    \n",
            "Epoch 21/32\n",
            "  8704/102124 [=>............................] - ETA: 5:24 - loss: 0.0407 - acc: 0.9841"
          ],
          "name": "stdout"
        },
        {
          "output_type": "stream",
          "text": [
            "102112/102124 [============================>.] - ETA: 0s - loss: 0.0403 - acc: 0.9842"
          ],
          "name": "stdout"
        },
        {
          "output_type": "stream",
          "text": [
            "102124/102124 [==============================] - 369s 4ms/step - loss: 0.0403 - acc: 0.9842 - val_loss: 0.0418 - val_acc: 0.9840\n",
            "Epoch 22/32\n",
            " 13984/102124 [===>..........................] - ETA: 5:04 - loss: 0.0382 - acc: 0.9849"
          ],
          "name": "stdout"
        },
        {
          "output_type": "stream",
          "text": [
            "102112/102124 [============================>.] - ETA: 0s - loss: 0.0401 - acc: 0.9842"
          ],
          "name": "stdout"
        },
        {
          "output_type": "stream",
          "text": [
            "\b\b\b\b\b\b\b\b\b\b\b\b\b\b\b\b\b\b\b\b\b\b\b\b\b\b\b\b\b\b\b\b\b\b\b\b\b\b\b\b\b\b\b\b\b\b\b\b\b\b\b\b\b\b\b\b\b\b\b\b\b\b\b\b\b\b\b\b\b\b\b\b\b\b\b\b\b\b\b\b\b\b\b\b\b\r102124/102124 [==============================] - 365s 4ms/step - loss: 0.0401 - acc: 0.9842 - val_loss: 0.0416 - val_acc: 0.9840\n",
            "\n",
            "Epoch 00022: ReduceLROnPlateau reducing learning rate to 5.632815373246558e-05.\n",
            "roc-auc: 0.9907 - roc-auc_val: 0.9818                                                                                                    \n",
            "Epoch 23/32\n",
            "  5952/102124 [>.............................] - ETA: 5:28 - loss: 0.0400 - acc: 0.9851"
          ],
          "name": "stdout"
        },
        {
          "output_type": "stream",
          "text": [
            "102112/102124 [============================>.] - ETA: 0s - loss: 0.0399 - acc: 0.9844"
          ],
          "name": "stdout"
        },
        {
          "output_type": "stream",
          "text": [
            "102124/102124 [==============================] - 372s 4ms/step - loss: 0.0399 - acc: 0.9844 - val_loss: 0.0424 - val_acc: 0.9835\n",
            "Epoch 24/32\n",
            " 13984/102124 [===>..........................] - ETA: 6:01 - loss: 0.0387 - acc: 0.9846"
          ],
          "name": "stdout"
        },
        {
          "output_type": "stream",
          "text": [
            "102112/102124 [============================>.] - ETA: 0s - loss: 0.0395 - acc: 0.9845"
          ],
          "name": "stdout"
        },
        {
          "output_type": "stream",
          "text": [
            "102124/102124 [==============================] - 390s 4ms/step - loss: 0.0395 - acc: 0.9845 - val_loss: 0.0415 - val_acc: 0.9841\n",
            "roc-auc: 0.9911 - roc-auc_val: 0.9819                                                                                                    \n",
            "Epoch 25/32\n",
            "  8704/102124 [=>............................] - ETA: 5:37 - loss: 0.0426 - acc: 0.9836"
          ],
          "name": "stdout"
        },
        {
          "output_type": "stream",
          "text": [
            "102112/102124 [============================>.] - ETA: 0s - loss: 0.0394 - acc: 0.9845"
          ],
          "name": "stdout"
        },
        {
          "output_type": "stream",
          "text": [
            "102124/102124 [==============================] - 391s 4ms/step - loss: 0.0394 - acc: 0.9845 - val_loss: 0.0416 - val_acc: 0.9838\n",
            "Epoch 26/32\n",
            " 13888/102124 [===>..........................] - ETA: 5:11 - loss: 0.0395 - acc: 0.9842"
          ],
          "name": "stdout"
        },
        {
          "output_type": "stream",
          "text": [
            "102112/102124 [============================>.] - ETA: 0s - loss: 0.0394 - acc: 0.9847"
          ],
          "name": "stdout"
        },
        {
          "output_type": "stream",
          "text": [
            "102124/102124 [==============================] - 391s 4ms/step - loss: 0.0394 - acc: 0.9847 - val_loss: 0.0414 - val_acc: 0.9840\n",
            "roc-auc: 0.9914 - roc-auc_val: 0.9824                                                                                                    \n",
            "Epoch 27/32\n",
            "  8672/102124 [=>............................] - ETA: 5:23 - loss: 0.0391 - acc: 0.9847"
          ],
          "name": "stdout"
        },
        {
          "output_type": "stream",
          "text": [
            "102112/102124 [============================>.] - ETA: 0s - loss: 0.0392 - acc: 0.9844"
          ],
          "name": "stdout"
        },
        {
          "output_type": "stream",
          "text": [
            "102124/102124 [==============================] - 387s 4ms/step - loss: 0.0392 - acc: 0.9844 - val_loss: 0.0427 - val_acc: 0.9836\n",
            "Epoch 28/32\n",
            " 13984/102124 [===>..........................] - ETA: 5:21 - loss: 0.0391 - acc: 0.9845"
          ],
          "name": "stdout"
        },
        {
          "output_type": "stream",
          "text": [
            "102112/102124 [============================>.] - ETA: 0s - loss: 0.0389 - acc: 0.9846"
          ],
          "name": "stdout"
        },
        {
          "output_type": "stream",
          "text": [
            "102124/102124 [==============================] - 384s 4ms/step - loss: 0.0389 - acc: 0.9846 - val_loss: 0.0418 - val_acc: 0.9839\n",
            "roc-auc: 0.9915 - roc-auc_val: 0.9826                                                                                                    \n",
            "Epoch 29/32\n",
            "  8704/102124 [=>............................] - ETA: 6:33 - loss: 0.0371 - acc: 0.9854"
          ],
          "name": "stdout"
        },
        {
          "output_type": "stream",
          "text": [
            "102112/102124 [============================>.] - ETA: 0s - loss: 0.0389 - acc: 0.9847"
          ],
          "name": "stdout"
        },
        {
          "output_type": "stream",
          "text": [
            "102124/102124 [==============================] - 395s 4ms/step - loss: 0.0389 - acc: 0.9847 - val_loss: 0.0415 - val_acc: 0.9841\n",
            "Epoch 30/32\n",
            " 13984/102124 [===>..........................] - ETA: 5:48 - loss: 0.0387 - acc: 0.9845"
          ],
          "name": "stdout"
        },
        {
          "output_type": "stream",
          "text": [
            "102112/102124 [============================>.] - ETA: 0s - loss: 0.0389 - acc: 0.9847"
          ],
          "name": "stdout"
        },
        {
          "output_type": "stream",
          "text": [
            "102124/102124 [==============================] - 390s 4ms/step - loss: 0.0389 - acc: 0.9847 - val_loss: 0.0417 - val_acc: 0.9840\n",
            "roc-auc: 0.9916 - roc-auc_val: 0.9827                                                                                                    \n"
          ],
          "name": "stdout"
        }
      ]
    },
    {
      "metadata": {
        "id": "sms3R-U4469B",
        "colab_type": "code",
        "colab": {
          "autoexec": {
            "startup": false,
            "wait_interval": 0
          },
          "base_uri": "https://localhost:8080/",
          "height": 315
        },
        "outputId": "319a93eb-23ea-4c32-e3c0-613886111afc",
        "executionInfo": {
          "status": "ok",
          "timestamp": 1532568170063,
          "user_tz": -120,
          "elapsed": 2258,
          "user": {
            "displayName": "Deep Learning",
            "photoUrl": "https://lh3.googleusercontent.com/a/default-user=s128",
            "userId": "118387080994381600389"
          }
        }
      },
      "cell_type": "code",
      "source": [
        "plot_history(history)"
      ],
      "execution_count": 14,
      "outputs": [
        {
          "output_type": "display_data",
          "data": {
            "image/png": "[encoded data removed]",
            "text/plain": [
              "<matplotlib.figure.Figure at 0x7fb9852a5be0>"
            ]
          },
          "metadata": {
            "tags": []
          }
        }
      ]
    },
    {
      "metadata": {
        "id": "r2gtMBj2Tp9A",
        "colab_type": "code",
        "colab": {
          "autoexec": {
            "startup": false,
            "wait_interval": 0
          },
          "base_uri": "https://localhost:8080/",
          "height": 52
        },
        "outputId": "5e0a1a41-29ba-481e-aafe-572ff1230507",
        "executionInfo": {
          "status": "ok",
          "timestamp": 1532568205344,
          "user_tz": -120,
          "elapsed": 34447,
          "user": {
            "displayName": "Deep Learning",
            "photoUrl": "https://lh3.googleusercontent.com/a/default-user=s128",
            "userId": "118387080994381600389"
          }
        }
      },
      "cell_type": "code",
      "source": [
        "print(evaluate_on_test(model))"
      ],
      "execution_count": 15,
      "outputs": [
        {
          "output_type": "stream",
          "text": [
            "31915/31915 [==============================] - 19s 606us/step\n",
            "([0.040469734096754015, 0.984390815628858], 0.985592489159583)\n"
          ],
          "name": "stdout"
        }
      ]
    }
  ]
}
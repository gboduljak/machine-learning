{
  "nbformat": 4,
  "nbformat_minor": 0,
  "metadata": {
    "colab": {
      "name": "dp_cnn_4_blocks_dropout_0.2.ipynb",
      "version": "0.3.2",
      "views": {},
      "default_view": {},
      "provenance": [],
      "collapsed_sections": []
    },
    "kernelspec": {
      "display_name": "Python 3",
      "language": "python",
      "name": "python3"
    },
    "accelerator": "GPU"
  },
  "cells": [
    {
      "metadata": {
        "id": "yS1FnhiWX3Js",
        "colab_type": "code",
        "colab": {
          "autoexec": {
            "startup": false,
            "wait_interval": 0
          },
          "base_uri": "https://localhost:8080/",
          "height": 297
        },
        "outputId": "aee9bfd4-71bd-48d4-a670-fc3f0714bc9c",
        "executionInfo": {
          "status": "ok",
          "timestamp": 1532714645964,
          "user_tz": -120,
          "elapsed": 9377,
          "user": {
            "displayName": "Deep Learning",
            "photoUrl": "https://lh3.googleusercontent.com/a/default-user=s128",
            "userId": "115257841230779963257"
          }
        }
      },
      "cell_type": "code",
      "source": [
        "!pip install keras\n",
        "!pip install sklearn\n",
        "!pip install matplotlib\n",
        "!pip install -U -q PyDrive"
      ],
      "execution_count": 1,
      "outputs": [
        {
          "output_type": "stream",
          "text": [
            "Requirement already satisfied: keras in /usr/local/lib/python3.6/dist-packages (2.1.6)\r\n",
            "Requirement already satisfied: numpy>=1.9.1 in /usr/local/lib/python3.6/dist-packages (from keras) (1.14.5)\r\n",
            "Requirement already satisfied: h5py in /usr/local/lib/python3.6/dist-packages (from keras) (2.8.0)\r\n",
            "Requirement already satisfied: scipy>=0.14 in /usr/local/lib/python3.6/dist-packages (from keras) (0.19.1)\r\n",
            "Requirement already satisfied: pyyaml in /usr/local/lib/python3.6/dist-packages (from keras) (3.13)\r\n",
            "Requirement already satisfied: six>=1.9.0 in /usr/local/lib/python3.6/dist-packages (from keras) (1.11.0)\n",
            "Requirement already satisfied: sklearn in /usr/local/lib/python3.6/dist-packages (0.0)\n",
            "Requirement already satisfied: scikit-learn in /usr/local/lib/python3.6/dist-packages (from sklearn) (0.19.2)\n",
            "Requirement already satisfied: matplotlib in /usr/local/lib/python3.6/dist-packages (2.1.2)\n",
            "Requirement already satisfied: python-dateutil>=2.1 in /usr/local/lib/python3.6/dist-packages (from matplotlib) (2.5.3)\n",
            "Requirement already satisfied: cycler>=0.10 in /usr/local/lib/python3.6/dist-packages (from matplotlib) (0.10.0)\n",
            "Requirement already satisfied: pytz in /usr/local/lib/python3.6/dist-packages (from matplotlib) (2018.5)\n",
            "Requirement already satisfied: six>=1.10 in /usr/local/lib/python3.6/dist-packages (from matplotlib) (1.11.0)\n",
            "Requirement already satisfied: numpy>=1.7.1 in /usr/local/lib/python3.6/dist-packages (from matplotlib) (1.14.5)\n",
            "Requirement already satisfied: pyparsing!=2.0.4,!=2.1.2,!=2.1.6,>=2.0.1 in /usr/local/lib/python3.6/dist-packages (from matplotlib) (2.2.0)\n"
          ],
          "name": "stdout"
        }
      ]
    },
    {
      "metadata": {
        "id": "xlKzkDJFrjA-",
        "colab_type": "code",
        "colab": {
          "autoexec": {
            "startup": false,
            "wait_interval": 0
          },
          "base_uri": "https://localhost:8080/",
          "height": 35
        },
        "outputId": "76d60caf-0f52-42e5-f7fd-fb4be7aee2ce",
        "executionInfo": {
          "status": "ok",
          "timestamp": 1532714647886,
          "user_tz": -120,
          "elapsed": 1869,
          "user": {
            "displayName": "Deep Learning",
            "photoUrl": "https://lh3.googleusercontent.com/a/default-user=s128",
            "userId": "115257841230779963257"
          }
        }
      },
      "cell_type": "code",
      "source": [
        "from keras import backend as K\n",
        "K.clear_session()"
      ],
      "execution_count": 2,
      "outputs": [
        {
          "output_type": "stream",
          "text": [
            "Using TensorFlow backend.\n"
          ],
          "name": "stderr"
        }
      ]
    },
    {
      "metadata": {
        "id": "eQEKwl4oAxO7",
        "colab_type": "code",
        "colab": {
          "autoexec": {
            "startup": false,
            "wait_interval": 0
          }
        }
      },
      "cell_type": "code",
      "source": [
        "from keras import backend as K\n",
        "cfg = K.tf.ConfigProto()\n",
        "cfg.gpu_options.allow_growth = True\n",
        "K.set_session(K.tf.Session(config=cfg))"
      ],
      "execution_count": 0,
      "outputs": []
    },
    {
      "metadata": {
        "id": "12M0egCCX-27",
        "colab_type": "code",
        "colab": {
          "autoexec": {
            "startup": false,
            "wait_interval": 0
          }
        }
      },
      "cell_type": "code",
      "source": [
        "from pydrive.auth import GoogleAuth\n",
        "from pydrive.drive import GoogleDrive\n",
        "from google.colab import auth\n",
        "from oauth2client.client import GoogleCredentials\n",
        "\n",
        "auth.authenticate_user()\n",
        "gauth = GoogleAuth()\n",
        "gauth.credentials = GoogleCredentials.get_application_default()\n",
        "drive = GoogleDrive(gauth)"
      ],
      "execution_count": 0,
      "outputs": []
    },
    {
      "metadata": {
        "id": "4lN2WTUEYBYv",
        "colab_type": "code",
        "colab": {
          "autoexec": {
            "startup": false,
            "wait_interval": 0
          }
        }
      },
      "cell_type": "code",
      "source": [
        "file_import = drive.CreateFile({'id':'1p1bsltfTcIrZ_kfE6kwGTPzcdXorHbb2'})\n",
        "file_import.GetContentFile('colab_setup.py') \n",
        "from colab_setup import setup\n",
        "\n",
        "setup(drive)"
      ],
      "execution_count": 0,
      "outputs": []
    },
    {
      "metadata": {
        "id": "cHBlD0tVj2TY",
        "colab_type": "code",
        "colab": {
          "autoexec": {
            "startup": false,
            "wait_interval": 0
          },
          "base_uri": "https://localhost:8080/",
          "height": 121
        },
        "outputId": "ef2d7766-9888-478a-de0f-42191b337a37",
        "executionInfo": {
          "status": "ok",
          "timestamp": 1532714675730,
          "user_tz": -120,
          "elapsed": 1852,
          "user": {
            "displayName": "Deep Learning",
            "photoUrl": "https://lh3.googleusercontent.com/a/default-user=s128",
            "userId": "115257841230779963257"
          }
        }
      },
      "cell_type": "code",
      "source": [
        "!ls"
      ],
      "execution_count": 6,
      "outputs": [
        {
          "output_type": "stream",
          "text": [
            "colab_setup.py\t\t\t roc_auc_callback.py\tX_train.npy\r\n",
            "custom_fast_text_embeddings.npy  sample_submission.csv\tX_val.npy\r\n",
            "datalab\t\t\t\t train_model.py\t\ty_test.npy\r\n",
            "fast_text_embeddings.npy\t X_submission.npy\ty_train_full.npy\r\n",
            "plot_history.py\t\t\t X_test.npy\t\ty_train.npy\r\n",
            "__pycache__\t\t\t X_train_full.npy\ty_val.npy\r\n"
          ],
          "name": "stdout"
        }
      ]
    },
    {
      "metadata": {
        "id": "yMwWPTMYXyno",
        "colab_type": "code",
        "colab": {
          "autoexec": {
            "startup": false,
            "wait_interval": 0
          }
        }
      },
      "cell_type": "code",
      "source": [
        "import numpy as np\n",
        "import os\n",
        "\n",
        "from plot_history import plot_history\n",
        "from roc_auc_callback import RocAucCallback\n",
        "from train_model import train_with_cv, train_with_submitting, evaluate_on_test\n",
        "\n",
        "from keras.layers import *\n",
        "from keras.layers.merge import *\n",
        "from keras.initializers import *\n",
        "from keras.models import Model"
      ],
      "execution_count": 0,
      "outputs": []
    },
    {
      "metadata": {
        "id": "irwBTJdINU0J",
        "colab_type": "code",
        "colab": {
          "autoexec": {
            "startup": false,
            "wait_interval": 0
          }
        }
      },
      "cell_type": "code",
      "source": [
        "featureMapsNumber = 300\n",
        "featureMapKernelSize = 3\n",
        "\n",
        "maxPoolingStride = 2\n",
        "maxPoolingKernelSize = 3\n",
        "\n",
        "def convolution_block(input_layer, should_preactivate = False, dropout_rate = 0.2, dropout_mode = 'spatial'):\n",
        "    convolution_block_input = Input(shape=(int(input_layer.shape[1]), int(input_layer.shape[2])))\n",
        "    model = convolution_block_input\n",
        "    \n",
        "    if(should_preactivate):\n",
        "        model = BatchNormalization()(model)\n",
        "        model = ELU()(model)\n",
        "        model = Conv1D(\n",
        "            featureMapsNumber, \n",
        "            kernel_size=featureMapKernelSize, \n",
        "            padding='same', \n",
        "            activation='linear', \n",
        "            kernel_initializer = 'he_normal'\n",
        "        )(model)\n",
        "    else:\n",
        "        model = Conv1D(\n",
        "            featureMapsNumber, \n",
        "            kernel_size=featureMapKernelSize, \n",
        "            padding='same', \n",
        "            activation='linear', \n",
        "            kernel_initializer = 'he_normal'\n",
        "        )(model)        \n",
        "        model = BatchNormalization()(model)\n",
        "        model = ELU()(model)\n",
        "        \n",
        "    convolution_block_output = model\n",
        "    \n",
        "    if(dropout_mode == 'vanilla'):\n",
        "        convolution_block_output = Dropout(dropout_rate)(model)\n",
        "    if(dropout_mode == 'spatial'):\n",
        "        convolution_block_output = SpatialDropout1D(dropout_rate)(model)\n",
        "        \n",
        "    return Model(\n",
        "        inputs=[convolution_block_input], \n",
        "        outputs=[convolution_block_output]\n",
        "    )(input_layer)\n",
        "\n"
      ],
      "execution_count": 0,
      "outputs": []
    },
    {
      "metadata": {
        "id": "B56B81kNNXxh",
        "colab_type": "code",
        "colab": {
          "autoexec": {
            "startup": false,
            "wait_interval": 0
          }
        }
      },
      "cell_type": "code",
      "source": [
        "def dpcnn_block(input_layer, dropout_rate = 0.2, dropout_mode = 'spatial'):\n",
        "    dpcnn_block_input = Input(shape=(int(input_layer.shape[1]), int(input_layer.shape[2])))\n",
        "    dpcnn_block_pool = MaxPooling1D(pool_size=3, strides=2, padding='valid')(dpcnn_block_input)\n",
        "    \n",
        "    dpcnn_conv_1 = convolution_block(\n",
        "        dpcnn_block_pool, \n",
        "        should_preactivate = True, \n",
        "        dropout_mode = dropout_mode,\n",
        "        dropout_rate = dropout_rate\n",
        "    )\n",
        "    dpcnn_conv_2 = convolution_block(\n",
        "        dpcnn_conv_1, \n",
        "        should_preactivate = True, \n",
        "        dropout_mode = dropout_mode,\n",
        "        dropout_rate = dropout_rate\n",
        "    )\n",
        "    \n",
        "    dpcnn_block_output = add([dpcnn_conv_2, dpcnn_block_pool])\n",
        "    \n",
        "    return Model(\n",
        "        inputs=[dpcnn_block_input], \n",
        "        outputs=[dpcnn_block_output]\n",
        "    )(input_layer)"
      ],
      "execution_count": 0,
      "outputs": []
    },
    {
      "metadata": {
        "id": "zrmoc20_ngdA",
        "colab_type": "code",
        "colab": {
          "autoexec": {
            "startup": false,
            "wait_interval": 0
          }
        }
      },
      "cell_type": "code",
      "source": [
        "def yoon_kim_feature_extractor(filtersNumber, inputLayer):\n",
        "    extractor_block_input = Input(shape=(int(inputLayer.shape[1]), int(inputLayer.shape[2])))\n",
        "\n",
        "    block_1_conv_1 = Conv1D(filtersNumber, 1, activation = 'linear', padding = 'same', kernel_initializer = 'he_normal')(extractor_block_input)\n",
        "    block_1_batchnorm1 = BatchNormalization()(block_1_conv_1)\n",
        "    block_1_batchnorm1 = ELU()(block_1_batchnorm1)\n",
        "    block_1_max_pool1 = GlobalMaxPooling1D()(block_1_batchnorm1)\n",
        "\n",
        "    block_1_conv_2 = Conv1D(filtersNumber, 2, activation = 'linear', padding = 'same', kernel_initializer = 'he_normal')(extractor_block_input)\n",
        "    block_1_batchnorm2 = BatchNormalization()(block_1_conv_2)\n",
        "    block_1_batchnorm2 = ELU()(block_1_batchnorm2)\n",
        "    block_1_max_pool2 = GlobalMaxPooling1D()(block_1_batchnorm2)\n",
        "\n",
        "    block_1_conv_3 = Conv1D(filtersNumber, 3, activation = 'linear', padding = 'same', kernel_initializer = 'he_normal')(extractor_block_input)\n",
        "    block_1_batchnorm3 = BatchNormalization()(block_1_conv_3)\n",
        "    block_1_batchnorm3 = ELU()(block_1_batchnorm3)\n",
        "    block_1_max_pool3 = GlobalMaxPooling1D()(block_1_batchnorm3)\n",
        "\n",
        "    block_1_conv_4 = Conv1D(filtersNumber, 5, activation = 'linear', padding = 'same', kernel_initializer = 'he_normal')(extractor_block_input)\n",
        "    block_1_batchnorm4 = BatchNormalization()(block_1_conv_4)\n",
        "    block_1_batchnorm4 = ELU()(block_1_batchnorm4)\n",
        "    block_1_max_pool4 = GlobalMaxPooling1D()(block_1_batchnorm4)\n",
        "\n",
        "    block_1_features = concatenate([\n",
        "        block_1_max_pool1, \n",
        "        block_1_max_pool2, \n",
        "        block_1_max_pool3, \n",
        "        block_1_max_pool4\n",
        "    ])\n",
        "    \n",
        "    extractor_block_output = Dropout(0.2)(block_1_features)\n",
        "    \n",
        "    return Model(\n",
        "        inputs = [extractor_block_input], \n",
        "        outputs=[extractor_block_output]\n",
        "    )(inputLayer)"
      ],
      "execution_count": 0,
      "outputs": []
    },
    {
      "metadata": {
        "id": "EJXIfoCSNasL",
        "colab_type": "code",
        "colab": {
          "autoexec": {
            "startup": false,
            "wait_interval": 0
          }
        }
      },
      "cell_type": "code",
      "source": [
        "def classification_block(input_layer, dropout_rate = 0.2):\n",
        "      \n",
        "    model = Dense(256, activation = 'linear', kernel_initializer = 'he_normal')(input_layer)\n",
        "    model = BatchNormalization()(model)\n",
        "    model = ELU()(model)\n",
        "    model = Dropout(dropout_rate)(model)\n",
        "    \n",
        "    model = Dense(256, activation = 'linear', kernel_initializer = 'he_normal')(model)\n",
        "    model = BatchNormalization()(model)\n",
        "    model = ELU()(model)\n",
        "    model = Dropout(dropout_rate)(model)\n",
        "\n",
        "    classification_block_output = Dense(6, activation='sigmoid', kernel_initializer = 'glorot_normal')(model)\n",
        "    \n",
        "    return classification_block_output"
      ],
      "execution_count": 0,
      "outputs": []
    },
    {
      "metadata": {
        "id": "LTFG7OgsXynw",
        "colab_type": "code",
        "colab": {
          "autoexec": {
            "startup": false,
            "wait_interval": 0
          },
          "base_uri": "https://localhost:8080/",
          "height": 1092
        },
        "outputId": "acaca38d-2060-4cfb-a7fb-ac97df4eeaf9",
        "executionInfo": {
          "status": "ok",
          "timestamp": 1532714685605,
          "user_tz": -120,
          "elapsed": 6623,
          "user": {
            "displayName": "Deep Learning",
            "photoUrl": "https://lh3.googleusercontent.com/a/default-user=s128",
            "userId": "115257841230779963257"
          }
        }
      },
      "cell_type": "code",
      "source": [
        "max_words= 30000\n",
        "max_words_length = 400\n",
        "embedding_dimension = 300\n",
        "\n",
        "input_layer = Input(shape=(max_words_length,))\n",
        "\n",
        "pretrained_embedding_layer = Embedding(\n",
        "    max_words, \n",
        "    output_dim=embedding_dimension, \n",
        "    input_length=max_words_length,\n",
        "    weights = [np.load('fast_text_embeddings.npy')],\n",
        "    trainable = False\n",
        ")(input_layer)\n",
        "pretrained_embedding_layer = SpatialDropout1D(0.2)(pretrained_embedding_layer)\n",
        "\n",
        "custom_embedding_layer = Embedding(\n",
        "    max_words, \n",
        "    output_dim=embedding_dimension, \n",
        "    input_length=max_words_length,\n",
        "    weights = [np.load('custom_fast_text_embeddings.npy')],\n",
        "    trainable = False\n",
        ")(input_layer)\n",
        "custom_embedding_layer = SpatialDropout1D(0.2)(custom_embedding_layer)\n",
        "\n",
        "averaged_embedding_layer = Average()([pretrained_embedding_layer, custom_embedding_layer])\n",
        "averaged_embedding_layer = SpatialDropout1D(0.2)(averaged_embedding_layer)\n",
        "\n",
        "preprocess_1 = convolution_block(averaged_embedding_layer, dropout_mode = 'spatial')\n",
        "preprocess_2 = convolution_block(preprocess_1, dropout_mode = 'spatial')\n",
        "\n",
        "model = add([preprocess_1, preprocess_2])\n",
        "\n",
        "model = dpcnn_block(model, dropout_rate = 0.2)\n",
        "model = dpcnn_block(model, dropout_rate = 0.2)\n",
        "model = dpcnn_block(model, dropout_rate = 0.2)\n",
        "model = dpcnn_block(model, dropout_rate = 0.2)\n",
        "\n",
        "model = concatenate([\n",
        "    Flatten()(model), \n",
        "    yoon_kim_feature_extractor(featureMapsNumber, model)\n",
        "])\n",
        "output_layer = classification_block(model)\n",
        "\n",
        "model = Model(inputs=[input_layer], outputs=[output_layer])\n",
        "            \n",
        "model.summary()\n",
        "\n",
        "model.compile(\n",
        "    loss='binary_crossentropy', \n",
        "    optimizer='Adam',\n",
        "    metrics=['accuracy']\n",
        ")"
      ],
      "execution_count": 12,
      "outputs": [
        {
          "output_type": "stream",
          "text": [
            "__________________________________________________________________________________________________\n",
            "Layer (type)                    Output Shape         Param #     Connected to                     \n",
            "==================================================================================================\n",
            "input_1 (InputLayer)            (None, 400)          0                                            \n",
            "__________________________________________________________________________________________________\n",
            "embedding_1 (Embedding)         (None, 400, 300)     9000000     input_1[0][0]                    \n",
            "__________________________________________________________________________________________________\n",
            "embedding_2 (Embedding)         (None, 400, 300)     9000000     input_1[0][0]                    \n",
            "__________________________________________________________________________________________________\n",
            "spatial_dropout1d_1 (SpatialDro (None, 400, 300)     0           embedding_1[0][0]                \n",
            "__________________________________________________________________________________________________\n",
            "spatial_dropout1d_2 (SpatialDro (None, 400, 300)     0           embedding_2[0][0]                \n",
            "__________________________________________________________________________________________________\n",
            "average_1 (Average)             (None, 400, 300)     0           spatial_dropout1d_1[0][0]        \n",
            "                                                                 spatial_dropout1d_2[0][0]        \n",
            "__________________________________________________________________________________________________\n",
            "spatial_dropout1d_3 (SpatialDro (None, 400, 300)     0           average_1[0][0]                  \n",
            "__________________________________________________________________________________________________\n",
            "model_1 (Model)                 (None, 400, 300)     271500      spatial_dropout1d_3[0][0]        \n",
            "__________________________________________________________________________________________________\n",
            "model_2 (Model)                 (None, 400, 300)     271500      model_1[1][0]                    \n",
            "__________________________________________________________________________________________________\n",
            "add_1 (Add)                     (None, 400, 300)     0           model_1[1][0]                    \n",
            "                                                                 model_2[1][0]                    \n",
            "__________________________________________________________________________________________________\n",
            "model_5 (Model)                 (None, 199, 300)     543000      add_1[0][0]                      \n",
            "__________________________________________________________________________________________________\n",
            "model_8 (Model)                 (None, 99, 300)      543000      model_5[1][0]                    \n",
            "__________________________________________________________________________________________________\n",
            "model_11 (Model)                (None, 49, 300)      543000      model_8[1][0]                    \n",
            "__________________________________________________________________________________________________\n",
            "model_14 (Model)                (None, 24, 300)      543000      model_11[1][0]                   \n",
            "__________________________________________________________________________________________________\n",
            "flatten_1 (Flatten)             (None, 7200)         0           model_14[1][0]                   \n",
            "__________________________________________________________________________________________________\n",
            "model_15 (Model)                (None, 1200)         996000      model_14[1][0]                   \n",
            "__________________________________________________________________________________________________\n",
            "concatenate_2 (Concatenate)     (None, 8400)         0           flatten_1[0][0]                  \n",
            "                                                                 model_15[1][0]                   \n",
            "__________________________________________________________________________________________________\n",
            "dense_1 (Dense)                 (None, 256)          2150656     concatenate_2[0][0]              \n",
            "__________________________________________________________________________________________________\n",
            "batch_normalization_15 (BatchNo (None, 256)          1024        dense_1[0][0]                    \n",
            "__________________________________________________________________________________________________\n",
            "elu_15 (ELU)                    (None, 256)          0           batch_normalization_15[0][0]     \n",
            "__________________________________________________________________________________________________\n",
            "dropout_2 (Dropout)             (None, 256)          0           elu_15[0][0]                     \n",
            "__________________________________________________________________________________________________\n",
            "dense_2 (Dense)                 (None, 256)          65792       dropout_2[0][0]                  \n",
            "__________________________________________________________________________________________________\n",
            "batch_normalization_16 (BatchNo (None, 256)          1024        dense_2[0][0]                    \n",
            "__________________________________________________________________________________________________\n",
            "elu_16 (ELU)                    (None, 256)          0           batch_normalization_16[0][0]     \n",
            "__________________________________________________________________________________________________\n",
            "dropout_3 (Dropout)             (None, 256)          0           elu_16[0][0]                     \n",
            "__________________________________________________________________________________________________\n",
            "dense_3 (Dense)                 (None, 6)            1542        dropout_3[0][0]                  \n",
            "==================================================================================================\n",
            "Total params: 23,931,038\n",
            "Trainable params: 5,921,614\n",
            "Non-trainable params: 18,009,424\n",
            "__________________________________________________________________________________________________\n"
          ],
          "name": "stdout"
        }
      ]
    },
    {
      "metadata": {
        "id": "xwMmTewgXynz",
        "colab_type": "code",
        "colab": {
          "autoexec": {
            "startup": false,
            "wait_interval": 0
          },
          "base_uri": "https://localhost:8080/",
          "height": 1112
        },
        "outputId": "f2f10e29-9d05-4923-ecbd-58bf6b4208ee",
        "executionInfo": {
          "status": "ok",
          "timestamp": 1532727990741,
          "user_tz": -120,
          "elapsed": 13305109,
          "user": {
            "displayName": "Deep Learning",
            "photoUrl": "https://lh3.googleusercontent.com/a/default-user=s128",
            "userId": "115257841230779963257"
          }
        }
      },
      "cell_type": "code",
      "source": [
        "history = train_with_cv(model, batchSize=32, epochs= 64, rocEvery = 2)"
      ],
      "execution_count": 13,
      "outputs": [
        {
          "output_type": "stream",
          "text": [
            "Train on 102124 samples, validate on 25532 samples\n",
            "Epoch 1/64\n",
            " 21408/102124 [=====>........................] - ETA: 6:38 - loss: 0.1198 - acc: 0.9608"
          ],
          "name": "stdout"
        },
        {
          "output_type": "stream",
          "text": [
            "102112/102124 [============================>.] - ETA: 0s - loss: 0.0749 - acc: 0.9742"
          ],
          "name": "stdout"
        },
        {
          "output_type": "stream",
          "text": [
            "102124/102124 [==============================] - 505s 5ms/step - loss: 0.0749 - acc: 0.9742 - val_loss: 0.0493 - val_acc: 0.9820\n",
            "Epoch 2/64\n",
            " 14048/102124 [===>..........................] - ETA: 6:37 - loss: 0.0597 - acc: 0.9785"
          ],
          "name": "stdout"
        },
        {
          "output_type": "stream",
          "text": [
            "102112/102124 [============================>.] - ETA: 0s - loss: 0.0564 - acc: 0.9795"
          ],
          "name": "stdout"
        },
        {
          "output_type": "stream",
          "text": [
            "102124/102124 [==============================] - 495s 5ms/step - loss: 0.0564 - acc: 0.9795 - val_loss: 0.0481 - val_acc: 0.9820\n",
            "roc-auc: 0.9779 - roc-auc_val: 0.9749                                                                                                    \n",
            "Epoch 3/64\n",
            "  8736/102124 [=>............................] - ETA: 7:07 - loss: 0.0528 - acc: 0.9804"
          ],
          "name": "stdout"
        },
        {
          "output_type": "stream",
          "text": [
            "102112/102124 [============================>.] - ETA: 0s - loss: 0.0531 - acc: 0.9806"
          ],
          "name": "stdout"
        },
        {
          "output_type": "stream",
          "text": [
            "102124/102124 [==============================] - 495s 5ms/step - loss: 0.0531 - acc: 0.9806 - val_loss: 0.0470 - val_acc: 0.9824\n",
            "Epoch 4/64\n",
            " 14048/102124 [===>..........................] - ETA: 6:35 - loss: 0.0480 - acc: 0.9822"
          ],
          "name": "stdout"
        },
        {
          "output_type": "stream",
          "text": [
            "102112/102124 [============================>.] - ETA: 0s - loss: 0.0500 - acc: 0.9814"
          ],
          "name": "stdout"
        },
        {
          "output_type": "stream",
          "text": [
            "102124/102124 [==============================] - 492s 5ms/step - loss: 0.0500 - acc: 0.9815 - val_loss: 0.0451 - val_acc: 0.9830\n",
            "roc-auc: 0.9816 - roc-auc_val: 0.9771                                                                                                    \n",
            "Epoch 5/64\n",
            "  8736/102124 [=>............................] - ETA: 7:00 - loss: 0.0481 - acc: 0.9813"
          ],
          "name": "stdout"
        },
        {
          "output_type": "stream",
          "text": [
            "102112/102124 [============================>.] - ETA: 0s - loss: 0.0479 - acc: 0.9819"
          ],
          "name": "stdout"
        },
        {
          "output_type": "stream",
          "text": [
            "102124/102124 [==============================] - 503s 5ms/step - loss: 0.0479 - acc: 0.9819 - val_loss: 0.0453 - val_acc: 0.9826\n",
            "Epoch 6/64\n",
            " 14048/102124 [===>..........................] - ETA: 6:37 - loss: 0.0465 - acc: 0.9824"
          ],
          "name": "stdout"
        },
        {
          "output_type": "stream",
          "text": [
            "102112/102124 [============================>.] - ETA: 0s - loss: 0.0456 - acc: 0.9826"
          ],
          "name": "stdout"
        },
        {
          "output_type": "stream",
          "text": [
            "102124/102124 [==============================] - 504s 5ms/step - loss: 0.0456 - acc: 0.9827 - val_loss: 0.0434 - val_acc: 0.9837\n",
            "roc-auc: 0.9867 - roc-auc_val: 0.9789                                                                                                    \n",
            "Epoch 7/64\n",
            "  8736/102124 [=>............................] - ETA: 7:01 - loss: 0.0428 - acc: 0.9838"
          ],
          "name": "stdout"
        },
        {
          "output_type": "stream",
          "text": [
            "102112/102124 [============================>.] - ETA: 0s - loss: 0.0441 - acc: 0.9830"
          ],
          "name": "stdout"
        },
        {
          "output_type": "stream",
          "text": [
            "102124/102124 [==============================] - 507s 5ms/step - loss: 0.0441 - acc: 0.9830 - val_loss: 0.0446 - val_acc: 0.9833\n",
            "Epoch 8/64\n",
            " 14048/102124 [===>..........................] - ETA: 6:57 - loss: 0.0419 - acc: 0.9835"
          ],
          "name": "stdout"
        },
        {
          "output_type": "stream",
          "text": [
            "102112/102124 [============================>.] - ETA: 0s - loss: 0.0422 - acc: 0.9836"
          ],
          "name": "stdout"
        },
        {
          "output_type": "stream",
          "text": [
            "\b\b\b\b\b\b\b\b\b\b\b\b\b\b\b\b\b\b\b\b\b\b\b\b\b\b\b\b\b\b\b\b\b\b\b\b\b\b\b\b\b\b\b\b\b\b\b\b\b\b\b\b\b\b\b\b\b\b\b\b\b\b\b\b\b\b\b\b\b\b\b\b\b\b\b\b\b\b\b\b\b\b\b\b\b\r102124/102124 [==============================] - 506s 5ms/step - loss: 0.0422 - acc: 0.9836 - val_loss: 0.0436 - val_acc: 0.9834\n",
            "\n",
            "Epoch 00008: ReduceLROnPlateau reducing learning rate to 0.00024148408556357026.\n",
            "roc-auc: 0.9892 - roc-auc_val: 0.9807                                                                                                    \n",
            "Epoch 9/64\n",
            "  5952/102124 [>.............................] - ETA: 7:49 - loss: 0.0412 - acc: 0.9838"
          ],
          "name": "stdout"
        },
        {
          "output_type": "stream",
          "text": [
            "102112/102124 [============================>.] - ETA: 0s - loss: 0.0412 - acc: 0.9839"
          ],
          "name": "stdout"
        },
        {
          "output_type": "stream",
          "text": [
            "102124/102124 [==============================] - 510s 5ms/step - loss: 0.0412 - acc: 0.9839 - val_loss: 0.0432 - val_acc: 0.9831\n",
            "Epoch 10/64\n",
            " 13984/102124 [===>..........................] - ETA: 6:48 - loss: 0.0379 - acc: 0.9851"
          ],
          "name": "stdout"
        },
        {
          "output_type": "stream",
          "text": [
            "102112/102124 [============================>.] - ETA: 0s - loss: 0.0398 - acc: 0.9843"
          ],
          "name": "stdout"
        },
        {
          "output_type": "stream",
          "text": [
            "102124/102124 [==============================] - 505s 5ms/step - loss: 0.0398 - acc: 0.9843 - val_loss: 0.0435 - val_acc: 0.9837\n",
            "roc-auc: 0.9908 - roc-auc_val: 0.9825                                                                                                    \n",
            "Epoch 11/64\n",
            "  8704/102124 [=>............................] - ETA: 7:23 - loss: 0.0361 - acc: 0.9854"
          ],
          "name": "stdout"
        },
        {
          "output_type": "stream",
          "text": [
            "102112/102124 [============================>.] - ETA: 0s - loss: 0.0382 - acc: 0.9849"
          ],
          "name": "stdout"
        },
        {
          "output_type": "stream",
          "text": [
            "102124/102124 [==============================] - 506s 5ms/step - loss: 0.0382 - acc: 0.9849 - val_loss: 0.0428 - val_acc: 0.9840\n",
            "Epoch 12/64\n",
            " 13984/102124 [===>..........................] - ETA: 6:40 - loss: 0.0391 - acc: 0.9845"
          ],
          "name": "stdout"
        },
        {
          "output_type": "stream",
          "text": [
            "102112/102124 [============================>.] - ETA: 0s - loss: 0.0375 - acc: 0.9853"
          ],
          "name": "stdout"
        },
        {
          "output_type": "stream",
          "text": [
            "102124/102124 [==============================] - 503s 5ms/step - loss: 0.0375 - acc: 0.9853 - val_loss: 0.0427 - val_acc: 0.9839\n",
            "roc-auc: 0.992 - roc-auc_val: 0.9819                                                                                                    \n",
            "Epoch 13/64\n",
            "  8736/102124 [=>............................] - ETA: 7:17 - loss: 0.0368 - acc: 0.9856"
          ],
          "name": "stdout"
        },
        {
          "output_type": "stream",
          "text": [
            "102112/102124 [============================>.] - ETA: 0s - loss: 0.0366 - acc: 0.9856"
          ],
          "name": "stdout"
        },
        {
          "output_type": "stream",
          "text": [
            "102124/102124 [==============================] - 504s 5ms/step - loss: 0.0366 - acc: 0.9856 - val_loss: 0.0426 - val_acc: 0.9841\n",
            "Epoch 14/64\n",
            " 13984/102124 [===>..........................] - ETA: 6:37 - loss: 0.0352 - acc: 0.9861"
          ],
          "name": "stdout"
        },
        {
          "output_type": "stream",
          "text": [
            "102112/102124 [============================>.] - ETA: 0s - loss: 0.0356 - acc: 0.9858"
          ],
          "name": "stdout"
        },
        {
          "output_type": "stream",
          "text": [
            "102124/102124 [==============================] - 503s 5ms/step - loss: 0.0356 - acc: 0.9858 - val_loss: 0.0442 - val_acc: 0.9838\n",
            "roc-auc: 0.9932 - roc-auc_val: 0.9823                                                                                                    \n",
            "Epoch 15/64\n",
            "  8704/102124 [=>............................] - ETA: 7:01 - loss: 0.0329 - acc: 0.9872"
          ],
          "name": "stdout"
        },
        {
          "output_type": "stream",
          "text": [
            "102112/102124 [============================>.] - ETA: 0s - loss: 0.0349 - acc: 0.9861"
          ],
          "name": "stdout"
        },
        {
          "output_type": "stream",
          "text": [
            "102124/102124 [==============================] - 505s 5ms/step - loss: 0.0349 - acc: 0.9861 - val_loss: 0.0428 - val_acc: 0.9841\n",
            "Epoch 16/64\n",
            " 13984/102124 [===>..........................] - ETA: 6:44 - loss: 0.0340 - acc: 0.9865"
          ],
          "name": "stdout"
        },
        {
          "output_type": "stream",
          "text": [
            "102112/102124 [============================>.] - ETA: 0s - loss: 0.0343 - acc: 0.9863"
          ],
          "name": "stdout"
        },
        {
          "output_type": "stream",
          "text": [
            "102124/102124 [==============================] - 496s 5ms/step - loss: 0.0343 - acc: 0.9863 - val_loss: 0.0427 - val_acc: 0.9837\n",
            "roc-auc: 0.9938 - roc-auc_val: 0.9825                                                                                                    \n",
            "Epoch 17/64\n",
            "  8704/102124 [=>............................] - ETA: 7:06 - loss: 0.0347 - acc: 0.9859"
          ],
          "name": "stdout"
        },
        {
          "output_type": "stream",
          "text": [
            "102112/102124 [============================>.] - ETA: 0s - loss: 0.0335 - acc: 0.9866"
          ],
          "name": "stdout"
        },
        {
          "output_type": "stream",
          "text": [
            "102124/102124 [==============================] - 495s 5ms/step - loss: 0.0335 - acc: 0.9866 - val_loss: 0.0444 - val_acc: 0.9838\n",
            "Epoch 18/64\n",
            " 13984/102124 [===>..........................] - ETA: 6:38 - loss: 0.0326 - acc: 0.9869"
          ],
          "name": "stdout"
        },
        {
          "output_type": "stream",
          "text": [
            "102112/102124 [============================>.] - ETA: 0s - loss: 0.0329 - acc: 0.9869"
          ],
          "name": "stdout"
        },
        {
          "output_type": "stream",
          "text": [
            "102124/102124 [==============================] - 497s 5ms/step - loss: 0.0329 - acc: 0.9869 - val_loss: 0.0436 - val_acc: 0.9841\n",
            "roc-auc: 0.9946 - roc-auc_val: 0.9822                                                                                                    \n",
            "Epoch 19/64\n",
            "  8704/102124 [=>............................] - ETA: 7:08 - loss: 0.0314 - acc: 0.9875"
          ],
          "name": "stdout"
        },
        {
          "output_type": "stream",
          "text": [
            "102112/102124 [============================>.] - ETA: 0s - loss: 0.0324 - acc: 0.9871"
          ],
          "name": "stdout"
        },
        {
          "output_type": "stream",
          "text": [
            "\b\b\b\b\b\b\b\b\b\b\b\b\b\b\b\b\b\b\b\b\b\b\b\b\b\b\b\b\b\b\b\b\b\b\b\b\b\b\b\b\b\b\b\b\b\b\b\b\b\b\b\b\b\b\b\b\b\b\b\b\b\b\b\b\b\b\b\b\b\b\b\b\b\b\b\b\b\b\b\b\b\b\b\b\b\r102124/102124 [==============================] - 497s 5ms/step - loss: 0.0324 - acc: 0.9871 - val_loss: 0.0440 - val_acc: 0.9840\n",
            "\n",
            "Epoch 00019: ReduceLROnPlateau reducing learning rate to 7.694652595091611e-05.\n",
            "Epoch 20/64\n",
            "  8032/102124 [=>............................] - ETA: 7:06 - loss: 0.0324 - acc: 0.9866"
          ],
          "name": "stdout"
        },
        {
          "output_type": "stream",
          "text": [
            "102112/102124 [============================>.] - ETA: 0s - loss: 0.0320 - acc: 0.9871"
          ],
          "name": "stdout"
        },
        {
          "output_type": "stream",
          "text": [
            "102124/102124 [==============================] - 496s 5ms/step - loss: 0.0320 - acc: 0.9871 - val_loss: 0.0445 - val_acc: 0.9840\n",
            "roc-auc: 0.9948 - roc-auc_val: 0.9812                                                                                                    \n",
            "Epoch 21/64\n",
            "  8704/102124 [=>............................] - ETA: 7:07 - loss: 0.0314 - acc: 0.9871"
          ],
          "name": "stdout"
        },
        {
          "output_type": "stream",
          "text": [
            "102112/102124 [============================>.] - ETA: 0s - loss: 0.0314 - acc: 0.9874"
          ],
          "name": "stdout"
        },
        {
          "output_type": "stream",
          "text": [
            "102124/102124 [==============================] - 497s 5ms/step - loss: 0.0314 - acc: 0.9874 - val_loss: 0.0445 - val_acc: 0.9840\n",
            "Epoch 22/64\n",
            " 13984/102124 [===>..........................] - ETA: 6:39 - loss: 0.0303 - acc: 0.9880"
          ],
          "name": "stdout"
        },
        {
          "output_type": "stream",
          "text": [
            "102112/102124 [============================>.] - ETA: 0s - loss: 0.0307 - acc: 0.9878"
          ],
          "name": "stdout"
        },
        {
          "output_type": "stream",
          "text": [
            "102124/102124 [==============================] - 497s 5ms/step - loss: 0.0307 - acc: 0.9878 - val_loss: 0.0453 - val_acc: 0.9841\n",
            "roc-auc: 0.995 - roc-auc_val: 0.981                                                                                                    \n",
            "Epoch 23/64\n",
            "  8768/102124 [=>............................] - ETA: 7:07 - loss: 0.0327 - acc: 0.9864"
          ],
          "name": "stdout"
        },
        {
          "output_type": "stream",
          "text": [
            "102112/102124 [============================>.] - ETA: 0s - loss: 0.0303 - acc: 0.9879"
          ],
          "name": "stdout"
        },
        {
          "output_type": "stream",
          "text": [
            "\b\b\b\b\b\b\b\b\b\b\b\b\b\b\b\b\b\b\b\b\b\b\b\b\b\b\b\b\b\b\b\b\b\b\b\b\b\b\b\b\b\b\b\b\b\b\b\b\b\b\b\b\b\b\b\b\b\b\b\b\b\b\b\b\b\b\b\b\b\b\b\b\b\b\b\b\b\b\b\b\b\b\b\b\b\r102124/102124 [==============================] - 496s 5ms/step - loss: 0.0303 - acc: 0.9879 - val_loss: 0.0452 - val_acc: 0.9841\n"
          ],
          "name": "stdout"
        }
      ]
    },
    {
      "metadata": {
        "id": "sms3R-U4469B",
        "colab_type": "code",
        "colab": {
          "autoexec": {
            "startup": false,
            "wait_interval": 0
          },
          "base_uri": "https://localhost:8080/",
          "height": 315
        },
        "outputId": "393e0bb8-c3cf-4ed2-84ef-d864a6b765bc",
        "executionInfo": {
          "status": "ok",
          "timestamp": 1532727993416,
          "user_tz": -120,
          "elapsed": 2517,
          "user": {
            "displayName": "Deep Learning",
            "photoUrl": "https://lh3.googleusercontent.com/a/default-user=s128",
            "userId": "115257841230779963257"
          }
        }
      },
      "cell_type": "code",
      "source": [
        "plot_history(history)"
      ],
      "execution_count": 14,
      "outputs": [
        {
          "output_type": "display_data",
          "data": {
            "image/png": "[encoded data removed]",
            "text/plain": [
              "<matplotlib.figure.Figure at 0x7fe4a2ff7cc0>"
            ]
          },
          "metadata": {
            "tags": []
          }
        }
      ]
    },
    {
      "metadata": {
        "id": "r2gtMBj2Tp9A",
        "colab_type": "code",
        "colab": {
          "autoexec": {
            "startup": false,
            "wait_interval": 0
          },
          "base_uri": "https://localhost:8080/",
          "height": 52
        },
        "outputId": "32fc2190-6944-404c-c107-a924e423ab57",
        "executionInfo": {
          "status": "ok",
          "timestamp": 1532728077628,
          "user_tz": -120,
          "elapsed": 84020,
          "user": {
            "displayName": "Deep Learning",
            "photoUrl": "https://lh3.googleusercontent.com/a/default-user=s128",
            "userId": "115257841230779963257"
          }
        }
      },
      "cell_type": "code",
      "source": [
        "print(evaluate_on_test(model))"
      ],
      "execution_count": 15,
      "outputs": [
        {
          "output_type": "stream",
          "text": [
            "31915/31915 [==============================] - 43s 1ms/step\n",
            "([0.04352136579122305, 0.9845422602159261], 0.9864160943299578)\n"
          ],
          "name": "stdout"
        }
      ]
    }
  ]
}
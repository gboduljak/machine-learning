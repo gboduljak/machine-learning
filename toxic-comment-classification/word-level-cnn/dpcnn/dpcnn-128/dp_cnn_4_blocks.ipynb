{
  "nbformat": 4,
  "nbformat_minor": 0,
  "metadata": {
    "colab": {
      "name": "dp_cnn_4_blocks.ipynb",
      "version": "0.3.2",
      "views": {},
      "default_view": {},
      "provenance": [],
      "collapsed_sections": []
    },
    "kernelspec": {
      "display_name": "Python 3",
      "language": "python",
      "name": "python3"
    },
    "accelerator": "GPU"
  },
  "cells": [
    {
      "metadata": {
        "id": "yS1FnhiWX3Js",
        "colab_type": "code",
        "colab": {
          "autoexec": {
            "startup": false,
            "wait_interval": 0
          },
          "base_uri": "https://localhost:8080/",
          "height": 425
        },
        "outputId": "5ade4ef8-c35c-45bf-e0b3-ef40a2f1b739",
        "executionInfo": {
          "status": "ok",
          "timestamp": 1532418624051,
          "user_tz": -120,
          "elapsed": 10063,
          "user": {
            "displayName": "Deep Learning",
            "photoUrl": "https://lh3.googleusercontent.com/a/default-user=s128",
            "userId": "115257841230779963257"
          }
        }
      },
      "cell_type": "code",
      "source": [
        "!pip install keras\n",
        "!pip install sklearn\n",
        "!pip install matplotlib\n",
        "!pip install -U -q PyDrive"
      ],
      "execution_count": 1,
      "outputs": [
        {
          "output_type": "stream",
          "text": [
            "Requirement already satisfied: keras in /usr/local/lib/python3.6/dist-packages (2.1.6)\n",
            "Requirement already satisfied: scipy>=0.14 in /usr/local/lib/python3.6/dist-packages (from keras) (0.19.1)\n",
            "Requirement already satisfied: h5py in /usr/local/lib/python3.6/dist-packages (from keras) (2.8.0)\n",
            "Requirement already satisfied: pyyaml in /usr/local/lib/python3.6/dist-packages (from keras) (3.13)\n",
            "Requirement already satisfied: numpy>=1.9.1 in /usr/local/lib/python3.6/dist-packages (from keras) (1.14.5)\n",
            "Requirement already satisfied: six>=1.9.0 in /usr/local/lib/python3.6/dist-packages (from keras) (1.11.0)\n",
            "\u001b[33mYou are using pip version 10.0.1, however version 18.0 is available.\n",
            "You should consider upgrading via the 'pip install --upgrade pip' command.\u001b[0m\n",
            "Requirement already satisfied: sklearn in /usr/local/lib/python3.6/dist-packages (0.0)\n",
            "Requirement already satisfied: scikit-learn in /usr/local/lib/python3.6/dist-packages (from sklearn) (0.19.2)\n",
            "\u001b[33mYou are using pip version 10.0.1, however version 18.0 is available.\n",
            "You should consider upgrading via the 'pip install --upgrade pip' command.\u001b[0m\n",
            "Requirement already satisfied: matplotlib in /usr/local/lib/python3.6/dist-packages (2.1.2)\n",
            "Requirement already satisfied: python-dateutil>=2.1 in /usr/local/lib/python3.6/dist-packages (from matplotlib) (2.5.3)\n",
            "Requirement already satisfied: six>=1.10 in /usr/local/lib/python3.6/dist-packages (from matplotlib) (1.11.0)\n",
            "Requirement already satisfied: pytz in /usr/local/lib/python3.6/dist-packages (from matplotlib) (2018.5)\n",
            "Requirement already satisfied: numpy>=1.7.1 in /usr/local/lib/python3.6/dist-packages (from matplotlib) (1.14.5)\n",
            "Requirement already satisfied: cycler>=0.10 in /usr/local/lib/python3.6/dist-packages (from matplotlib) (0.10.0)\n",
            "Requirement already satisfied: pyparsing!=2.0.4,!=2.1.2,!=2.1.6,>=2.0.1 in /usr/local/lib/python3.6/dist-packages (from matplotlib) (2.2.0)\n",
            "\u001b[33mYou are using pip version 10.0.1, however version 18.0 is available.\n",
            "You should consider upgrading via the 'pip install --upgrade pip' command.\u001b[0m\n",
            "\u001b[33mYou are using pip version 10.0.1, however version 18.0 is available.\n",
            "You should consider upgrading via the 'pip install --upgrade pip' command.\u001b[0m\n"
          ],
          "name": "stdout"
        }
      ]
    },
    {
      "metadata": {
        "id": "xlKzkDJFrjA-",
        "colab_type": "code",
        "colab": {
          "autoexec": {
            "startup": false,
            "wait_interval": 0
          },
          "base_uri": "https://localhost:8080/",
          "height": 34
        },
        "outputId": "27978c00-20c7-4a16-87d7-5c47cc6b6f59",
        "executionInfo": {
          "status": "ok",
          "timestamp": 1532418625777,
          "user_tz": -120,
          "elapsed": 1649,
          "user": {
            "displayName": "Deep Learning",
            "photoUrl": "https://lh3.googleusercontent.com/a/default-user=s128",
            "userId": "115257841230779963257"
          }
        }
      },
      "cell_type": "code",
      "source": [
        "from keras import backend as K\n",
        "K.clear_session()"
      ],
      "execution_count": 2,
      "outputs": [
        {
          "output_type": "stream",
          "text": [
            "Using TensorFlow backend.\n"
          ],
          "name": "stderr"
        }
      ]
    },
    {
      "metadata": {
        "id": "eQEKwl4oAxO7",
        "colab_type": "code",
        "colab": {
          "autoexec": {
            "startup": false,
            "wait_interval": 0
          }
        }
      },
      "cell_type": "code",
      "source": [
        "from keras import backend as K\n",
        "cfg = K.tf.ConfigProto()\n",
        "cfg.gpu_options.allow_growth = True\n",
        "K.set_session(K.tf.Session(config=cfg))"
      ],
      "execution_count": 0,
      "outputs": []
    },
    {
      "metadata": {
        "id": "12M0egCCX-27",
        "colab_type": "code",
        "colab": {
          "autoexec": {
            "startup": false,
            "wait_interval": 0
          }
        }
      },
      "cell_type": "code",
      "source": [
        "from pydrive.auth import GoogleAuth\n",
        "from pydrive.drive import GoogleDrive\n",
        "from google.colab import auth\n",
        "from oauth2client.client import GoogleCredentials\n",
        "\n",
        "auth.authenticate_user()\n",
        "gauth = GoogleAuth()\n",
        "gauth.credentials = GoogleCredentials.get_application_default()\n",
        "drive = GoogleDrive(gauth)"
      ],
      "execution_count": 0,
      "outputs": []
    },
    {
      "metadata": {
        "id": "4lN2WTUEYBYv",
        "colab_type": "code",
        "colab": {
          "autoexec": {
            "startup": false,
            "wait_interval": 0
          }
        }
      },
      "cell_type": "code",
      "source": [
        "file_import = drive.CreateFile({'id':'1p1bsltfTcIrZ_kfE6kwGTPzcdXorHbb2'})\n",
        "file_import.GetContentFile('colab_setup.py') \n",
        "from colab_setup import setup\n",
        "\n",
        "setup(drive)"
      ],
      "execution_count": 0,
      "outputs": []
    },
    {
      "metadata": {
        "id": "cHBlD0tVj2TY",
        "colab_type": "code",
        "colab": {
          "autoexec": {
            "startup": false,
            "wait_interval": 0
          },
          "base_uri": "https://localhost:8080/",
          "height": 123
        },
        "outputId": "3c24ad06-9ad1-4a76-db80-433266d2f1d3",
        "executionInfo": {
          "status": "ok",
          "timestamp": 1532418670722,
          "user_tz": -120,
          "elapsed": 1665,
          "user": {
            "displayName": "Deep Learning",
            "photoUrl": "https://lh3.googleusercontent.com/a/default-user=s128",
            "userId": "115257841230779963257"
          }
        }
      },
      "cell_type": "code",
      "source": [
        "!ls"
      ],
      "execution_count": 6,
      "outputs": [
        {
          "output_type": "stream",
          "text": [
            "colab_setup.py\t\t\t roc_auc_callback.py\tX_train.npy\r\n",
            "custom_fast_text_embeddings.npy  sample_submission.csv\tX_val.npy\r\n",
            "datalab\t\t\t\t train_model.py\t\ty_test.npy\r\n",
            "fast_text_embeddings.npy\t X_submission.npy\ty_train_full.npy\r\n",
            "plot_history.py\t\t\t X_test.npy\t\ty_train.npy\r\n",
            "__pycache__\t\t\t X_train_full.npy\ty_val.npy\r\n"
          ],
          "name": "stdout"
        }
      ]
    },
    {
      "metadata": {
        "id": "yMwWPTMYXyno",
        "colab_type": "code",
        "colab": {
          "autoexec": {
            "startup": false,
            "wait_interval": 0
          }
        }
      },
      "cell_type": "code",
      "source": [
        "import numpy as np\n",
        "import os\n",
        "\n",
        "from plot_history import plot_history\n",
        "from roc_auc_callback import RocAucCallback\n",
        "from train_model import train_with_cv, train_with_submitting, evaluate_on_test\n",
        "\n",
        "from keras.layers import *\n",
        "from keras.layers.merge import *\n",
        "from keras.initializers import *\n",
        "from keras.models import Model"
      ],
      "execution_count": 0,
      "outputs": []
    },
    {
      "metadata": {
        "id": "irwBTJdINU0J",
        "colab_type": "code",
        "colab": {
          "autoexec": {
            "startup": false,
            "wait_interval": 0
          }
        }
      },
      "cell_type": "code",
      "source": [
        "featureMapsNumber = 128\n",
        "featureMapKernelSize = 3\n",
        "\n",
        "maxPoolingStride = 2\n",
        "maxPoolingKernelSize = 3\n",
        "\n",
        "def convolution_block(input_layer, should_preactivate = False, dropout_rate = 0.2, dropout_mode = 'spatial'):\n",
        "    convolution_block_input = Input(shape=(int(input_layer.shape[1]), int(input_layer.shape[2])))\n",
        "    model = convolution_block_input\n",
        "    \n",
        "    if(should_preactivate):\n",
        "        model = BatchNormalization()(model)\n",
        "        model = ELU()(model)\n",
        "        model = Conv1D(\n",
        "            featureMapsNumber, \n",
        "            kernel_size=featureMapKernelSize, \n",
        "            padding='same', \n",
        "            activation='linear', \n",
        "            kernel_initializer = 'he_normal'\n",
        "        )(model)\n",
        "    else:\n",
        "        model = Conv1D(\n",
        "            featureMapsNumber, \n",
        "            kernel_size=featureMapKernelSize, \n",
        "            padding='same', \n",
        "            activation='linear', \n",
        "            kernel_initializer = 'he_normal'\n",
        "        )(model)        \n",
        "        model = BatchNormalization()(model)\n",
        "        model = ELU()(model)\n",
        "        \n",
        "    convolution_block_output = model\n",
        "    \n",
        "    if(dropout_mode == 'vanilla'):\n",
        "        convolution_block_output = Dropout(dropout_rate)(model)\n",
        "    if(dropout_mode == 'spatial'):\n",
        "        convolution_block_output = SpatialDropout1D(dropout_rate)(model)\n",
        "        \n",
        "    return Model(\n",
        "        inputs=[convolution_block_input], \n",
        "        outputs=[convolution_block_output]\n",
        "    )(input_layer)\n",
        "\n"
      ],
      "execution_count": 0,
      "outputs": []
    },
    {
      "metadata": {
        "id": "B56B81kNNXxh",
        "colab_type": "code",
        "colab": {
          "autoexec": {
            "startup": false,
            "wait_interval": 0
          }
        }
      },
      "cell_type": "code",
      "source": [
        "def dpcnn_block(input_layer, dropout_rate = 0.2, dropout_mode = 'spatial'):\n",
        "    dpcnn_block_input = Input(shape=(int(input_layer.shape[1]), int(input_layer.shape[2])))\n",
        "    dpcnn_block_pool = MaxPooling1D(pool_size=3, strides=2, padding='valid')(dpcnn_block_input)\n",
        "    \n",
        "    dpcnn_conv_1 = convolution_block(\n",
        "        dpcnn_block_pool, \n",
        "        should_preactivate = True, \n",
        "        dropout_mode = dropout_mode,\n",
        "        dropout_rate = dropout_rate\n",
        "    )\n",
        "    dpcnn_conv_2 = convolution_block(\n",
        "        dpcnn_conv_1, \n",
        "        should_preactivate = True, \n",
        "        dropout_mode = dropout_mode,\n",
        "        dropout_rate = dropout_rate\n",
        "    )\n",
        "    \n",
        "    dpcnn_block_output = add([dpcnn_conv_2, dpcnn_block_pool])\n",
        "    \n",
        "    return Model(\n",
        "        inputs=[dpcnn_block_input], \n",
        "        outputs=[dpcnn_block_output]\n",
        "    )(input_layer)"
      ],
      "execution_count": 0,
      "outputs": []
    },
    {
      "metadata": {
        "id": "zrmoc20_ngdA",
        "colab_type": "code",
        "colab": {
          "autoexec": {
            "startup": false,
            "wait_interval": 0
          }
        }
      },
      "cell_type": "code",
      "source": [
        "def yoon_kim_feature_extractor(filtersNumber, inputLayer):\n",
        "    extractor_block_input = Input(shape=(int(inputLayer.shape[1]), int(inputLayer.shape[2])))\n",
        "\n",
        "    block_1_conv_1 = Conv1D(filtersNumber, 1, activation = 'linear', padding = 'same', kernel_initializer = 'he_normal')(extractor_block_input)\n",
        "    block_1_batchnorm1 = BatchNormalization()(block_1_conv_1)\n",
        "    block_1_batchnorm1 = ELU()(block_1_batchnorm1)\n",
        "    block_1_max_pool1 = GlobalMaxPooling1D()(block_1_batchnorm1)\n",
        "\n",
        "    block_1_conv_2 = Conv1D(filtersNumber, 2, activation = 'linear', padding = 'same', kernel_initializer = 'he_normal')(extractor_block_input)\n",
        "    block_1_batchnorm2 = BatchNormalization()(block_1_conv_2)\n",
        "    block_1_batchnorm2 = ELU()(block_1_batchnorm2)\n",
        "    block_1_max_pool2 = GlobalMaxPooling1D()(block_1_batchnorm2)\n",
        "\n",
        "    block_1_conv_3 = Conv1D(filtersNumber, 3, activation = 'linear', padding = 'same', kernel_initializer = 'he_normal')(extractor_block_input)\n",
        "    block_1_batchnorm3 = BatchNormalization()(block_1_conv_3)\n",
        "    block_1_batchnorm3 = ELU()(block_1_batchnorm3)\n",
        "    block_1_max_pool3 = GlobalMaxPooling1D()(block_1_batchnorm3)\n",
        "\n",
        "    block_1_conv_4 = Conv1D(filtersNumber, 5, activation = 'linear', padding = 'same', kernel_initializer = 'he_normal')(extractor_block_input)\n",
        "    block_1_batchnorm4 = BatchNormalization()(block_1_conv_4)\n",
        "    block_1_batchnorm4 = ELU()(block_1_batchnorm4)\n",
        "    block_1_max_pool4 = GlobalMaxPooling1D()(block_1_batchnorm4)\n",
        "\n",
        "    block_1_features = concatenate([\n",
        "        block_1_max_pool1, \n",
        "        block_1_max_pool2, \n",
        "        block_1_max_pool3, \n",
        "        block_1_max_pool4\n",
        "    ])\n",
        "    \n",
        "    extractor_block_output = Dropout(0.2)(block_1_features)\n",
        "    \n",
        "    return Model(\n",
        "        inputs = [extractor_block_input], \n",
        "        outputs=[extractor_block_output]\n",
        "    )(inputLayer)"
      ],
      "execution_count": 0,
      "outputs": []
    },
    {
      "metadata": {
        "id": "EJXIfoCSNasL",
        "colab_type": "code",
        "colab": {
          "autoexec": {
            "startup": false,
            "wait_interval": 0
          }
        }
      },
      "cell_type": "code",
      "source": [
        "def classification_block(input_layer, dropout_rate = 0.2):\n",
        "      \n",
        "    model = Dense(256, activation = 'linear', kernel_initializer = 'he_normal')(input_layer)\n",
        "    model = BatchNormalization()(model)\n",
        "    model = ELU()(model)\n",
        "    model = Dropout(dropout_rate)(model)\n",
        "    \n",
        "    model = Dense(256, activation = 'linear', kernel_initializer = 'he_normal')(model)\n",
        "    model = BatchNormalization()(model)\n",
        "    model = ELU()(model)\n",
        "    model = Dropout(dropout_rate)(model)\n",
        "\n",
        "    classification_block_output = Dense(6, activation='sigmoid', kernel_initializer = 'glorot_normal')(model)\n",
        "    \n",
        "    return classification_block_output"
      ],
      "execution_count": 0,
      "outputs": []
    },
    {
      "metadata": {
        "id": "LTFG7OgsXynw",
        "colab_type": "code",
        "colab": {
          "autoexec": {
            "startup": false,
            "wait_interval": 0
          },
          "base_uri": "https://localhost:8080/",
          "height": 1118
        },
        "outputId": "9afc4af3-7ddc-44d4-bfdb-a81cc71ae877",
        "executionInfo": {
          "status": "ok",
          "timestamp": 1532418681036,
          "user_tz": -120,
          "elapsed": 6075,
          "user": {
            "displayName": "Deep Learning",
            "photoUrl": "https://lh3.googleusercontent.com/a/default-user=s128",
            "userId": "115257841230779963257"
          }
        }
      },
      "cell_type": "code",
      "source": [
        "maxWords = 30000\n",
        "maxSequenceLengthInWords = 400\n",
        "embeddingDimension = 300\n",
        "\n",
        "input_layer = Input(shape=(maxSequenceLengthInWords,))\n",
        "\n",
        "pretrained_embedding_layer = Embedding(\n",
        "    maxWords, \n",
        "    output_dim=embeddingDimension, \n",
        "    input_length=maxSequenceLengthInWords,\n",
        "    trainable = False\n",
        ")(input_layer)\n",
        "pretrained_embedding_layer = SpatialDropout1D(0.2)(pretrained_embedding_layer)\n",
        "\n",
        "custom_embedding_layer = Embedding(\n",
        "    maxWords, \n",
        "    output_dim=embeddingDimension, \n",
        "    input_length=maxSequenceLengthInWords,\n",
        "    trainable = False\n",
        ")(input_layer)\n",
        "\n",
        "custom_embedding_layer = SpatialDropout1D(0.2)(custom_embedding_layer)\n",
        "\n",
        "averaged_embedding_layer = Average()([pretrained_embedding_layer, custom_embedding_layer])\n",
        "averaged_embedding_layer = SpatialDropout1D(0.2)(averaged_embedding_layer)\n",
        "\n",
        "preprocess_1 = convolution_block(averaged_embedding_layer, dropout_mode = 'spatial')\n",
        "preprocess_2 = convolution_block(preprocess_1, dropout_mode = 'spatial')\n",
        "\n",
        "model = add([preprocess_1, preprocess_2])\n",
        "\n",
        "model = dpcnn_block(model)\n",
        "model = dpcnn_block(model)\n",
        "model = dpcnn_block(model)\n",
        "model = dpcnn_block(model)\n",
        "\n",
        "model = concatenate([\n",
        "    Flatten()(model), \n",
        "    yoon_kim_feature_extractor(featureMapsNumber, model)\n",
        "])\n",
        "output_layer = classification_block(model)\n",
        "\n",
        "model = Model(inputs=[input_layer], outputs=[output_layer])\n",
        "            \n",
        "model.summary()\n",
        "\n",
        "model.compile(\n",
        "    loss='binary_crossentropy', \n",
        "    optimizer='Adam',\n",
        "    metrics=['accuracy']\n",
        ")"
      ],
      "execution_count": 12,
      "outputs": [
        {
          "output_type": "stream",
          "text": [
            "__________________________________________________________________________________________________\n",
            "Layer (type)                    Output Shape         Param #     Connected to                     \n",
            "==================================================================================================\n",
            "input_1 (InputLayer)            (None, 400)          0                                            \n",
            "__________________________________________________________________________________________________\n",
            "embedding_1 (Embedding)         (None, 400, 300)     9000000     input_1[0][0]                    \n",
            "__________________________________________________________________________________________________\n",
            "embedding_2 (Embedding)         (None, 400, 300)     9000000     input_1[0][0]                    \n",
            "__________________________________________________________________________________________________\n",
            "spatial_dropout1d_1 (SpatialDro (None, 400, 300)     0           embedding_1[0][0]                \n",
            "__________________________________________________________________________________________________\n",
            "spatial_dropout1d_2 (SpatialDro (None, 400, 300)     0           embedding_2[0][0]                \n",
            "__________________________________________________________________________________________________\n",
            "average_1 (Average)             (None, 400, 300)     0           spatial_dropout1d_1[0][0]        \n",
            "                                                                 spatial_dropout1d_2[0][0]        \n",
            "__________________________________________________________________________________________________\n",
            "spatial_dropout1d_3 (SpatialDro (None, 400, 300)     0           average_1[0][0]                  \n",
            "__________________________________________________________________________________________________\n",
            "model_1 (Model)                 (None, 400, 128)     115840      spatial_dropout1d_3[0][0]        \n",
            "__________________________________________________________________________________________________\n",
            "model_2 (Model)                 (None, 400, 128)     49792       model_1[1][0]                    \n",
            "__________________________________________________________________________________________________\n",
            "add_1 (Add)                     (None, 400, 128)     0           model_1[1][0]                    \n",
            "                                                                 model_2[1][0]                    \n",
            "__________________________________________________________________________________________________\n",
            "model_5 (Model)                 (None, 199, 128)     99584       add_1[0][0]                      \n",
            "__________________________________________________________________________________________________\n",
            "model_8 (Model)                 (None, 99, 128)      99584       model_5[1][0]                    \n",
            "__________________________________________________________________________________________________\n",
            "model_11 (Model)                (None, 49, 128)      99584       model_8[1][0]                    \n",
            "__________________________________________________________________________________________________\n",
            "model_14 (Model)                (None, 24, 128)      99584       model_11[1][0]                   \n",
            "__________________________________________________________________________________________________\n",
            "flatten_1 (Flatten)             (None, 3072)         0           model_14[1][0]                   \n",
            "__________________________________________________________________________________________________\n",
            "model_15 (Model)                (None, 512)          182784      model_14[1][0]                   \n",
            "__________________________________________________________________________________________________\n",
            "concatenate_2 (Concatenate)     (None, 3584)         0           flatten_1[0][0]                  \n",
            "                                                                 model_15[1][0]                   \n",
            "__________________________________________________________________________________________________\n",
            "dense_1 (Dense)                 (None, 256)          917760      concatenate_2[0][0]              \n",
            "__________________________________________________________________________________________________\n",
            "batch_normalization_15 (BatchNo (None, 256)          1024        dense_1[0][0]                    \n",
            "__________________________________________________________________________________________________\n",
            "elu_15 (ELU)                    (None, 256)          0           batch_normalization_15[0][0]     \n",
            "__________________________________________________________________________________________________\n",
            "dropout_2 (Dropout)             (None, 256)          0           elu_15[0][0]                     \n",
            "__________________________________________________________________________________________________\n",
            "dense_2 (Dense)                 (None, 256)          65792       dropout_2[0][0]                  \n",
            "__________________________________________________________________________________________________\n",
            "batch_normalization_16 (BatchNo (None, 256)          1024        dense_2[0][0]                    \n",
            "__________________________________________________________________________________________________\n",
            "elu_16 (ELU)                    (None, 256)          0           batch_normalization_16[0][0]     \n",
            "__________________________________________________________________________________________________\n",
            "dropout_3 (Dropout)             (None, 256)          0           elu_16[0][0]                     \n",
            "__________________________________________________________________________________________________\n",
            "dense_3 (Dense)                 (None, 6)            1542        dropout_3[0][0]                  \n",
            "==================================================================================================\n",
            "Total params: 19,733,894\n",
            "Trainable params: 1,729,286\n",
            "Non-trainable params: 18,004,608\n",
            "__________________________________________________________________________________________________\n"
          ],
          "name": "stdout"
        }
      ]
    },
    {
      "metadata": {
        "id": "mmvpSYMGezSl",
        "colab_type": "text"
      },
      "cell_type": "markdown",
      "source": [
        "Large Batch Training"
      ]
    },
    {
      "metadata": {
        "id": "xwMmTewgXynz",
        "colab_type": "code",
        "colab": {
          "autoexec": {
            "startup": false,
            "wait_interval": 0
          },
          "base_uri": "https://localhost:8080/",
          "height": 1316
        },
        "outputId": "1ccbc07a-ff48-47f0-9283-9f9d1f2ef2c6",
        "executionInfo": {
          "status": "ok",
          "timestamp": 1532423076214,
          "user_tz": -120,
          "elapsed": 4395148,
          "user": {
            "displayName": "Deep Learning",
            "photoUrl": "https://lh3.googleusercontent.com/a/default-user=s128",
            "userId": "115257841230779963257"
          }
        }
      },
      "cell_type": "code",
      "source": [
        "history = train_with_cv(model, batchSize=128, rocEvery = 2)"
      ],
      "execution_count": 13,
      "outputs": [
        {
          "output_type": "stream",
          "text": [
            "Train on 102124 samples, validate on 25532 samples\n",
            "Epoch 1/32\n",
            " 86016/102124 [========================>.....] - ETA: 20s - loss: 0.1427 - acc: 0.9589"
          ],
          "name": "stdout"
        },
        {
          "output_type": "stream",
          "text": [
            "102124/102124 [==============================] - 140s 1ms/step - loss: 0.1354 - acc: 0.9609 - val_loss: 0.0769 - val_acc: 0.9767\n",
            "Epoch 2/32\n",
            " 50176/102124 [=============>................] - ETA: 1:02 - loss: 0.0879 - acc: 0.9738"
          ],
          "name": "stdout"
        },
        {
          "output_type": "stream",
          "text": [
            "102124/102124 [==============================] - 131s 1ms/step - loss: 0.0851 - acc: 0.9744 - val_loss: 0.0720 - val_acc: 0.9779\n",
            "roc-auc: 0.9388 - roc-auc_val: 0.9346                                                                                                    \n",
            "Epoch 3/32\n",
            " 22784/102124 [=====>........................] - ETA: 1:34 - loss: 0.0767 - acc: 0.9760"
          ],
          "name": "stdout"
        },
        {
          "output_type": "stream",
          "text": [
            "102124/102124 [==============================] - 131s 1ms/step - loss: 0.0764 - acc: 0.9762 - val_loss: 0.0656 - val_acc: 0.9789\n",
            "Epoch 4/32\n",
            " 26112/102124 [======>.......................] - ETA: 1:31 - loss: 0.0741 - acc: 0.9768"
          ],
          "name": "stdout"
        },
        {
          "output_type": "stream",
          "text": [
            "102124/102124 [==============================] - 131s 1ms/step - loss: 0.0718 - acc: 0.9772 - val_loss: 0.0633 - val_acc: 0.9797\n",
            "roc-auc: 0.9582 - roc-auc_val: 0.9497                                                                                                    \n",
            "Epoch 5/32\n",
            " 17024/102124 [====>.........................] - ETA: 1:42 - loss: 0.0693 - acc: 0.9774"
          ],
          "name": "stdout"
        },
        {
          "output_type": "stream",
          "text": [
            "102124/102124 [==============================] - 132s 1ms/step - loss: 0.0686 - acc: 0.9778 - val_loss: 0.0639 - val_acc: 0.9783\n",
            "Epoch 6/32\n",
            " 23936/102124 [======>.......................] - ETA: 1:34 - loss: 0.0641 - acc: 0.9790"
          ],
          "name": "stdout"
        },
        {
          "output_type": "stream",
          "text": [
            "102124/102124 [==============================] - 132s 1ms/step - loss: 0.0656 - acc: 0.9784 - val_loss: 0.0587 - val_acc: 0.9802\n",
            "roc-auc: 0.9683 - roc-auc_val: 0.9572                                                                                                    \n",
            "Epoch 7/32\n",
            " 16512/102124 [===>..........................] - ETA: 1:42 - loss: 0.0645 - acc: 0.9789"
          ],
          "name": "stdout"
        },
        {
          "output_type": "stream",
          "text": [
            "102124/102124 [==============================] - 132s 1ms/step - loss: 0.0635 - acc: 0.9789 - val_loss: 0.0587 - val_acc: 0.9800\n",
            "Epoch 8/32\n",
            " 23680/102124 [=====>........................] - ETA: 1:34 - loss: 0.0638 - acc: 0.9783"
          ],
          "name": "stdout"
        },
        {
          "output_type": "stream",
          "text": [
            "102124/102124 [==============================] - 132s 1ms/step - loss: 0.0615 - acc: 0.9795 - val_loss: 0.0577 - val_acc: 0.9803\n",
            "roc-auc: 0.9727 - roc-auc_val: 0.9605                                                                                                    \n",
            "Epoch 9/32\n",
            " 16384/102124 [===>..........................] - ETA: 1:43 - loss: 0.0608 - acc: 0.9785"
          ],
          "name": "stdout"
        },
        {
          "output_type": "stream",
          "text": [
            "102124/102124 [==============================] - 132s 1ms/step - loss: 0.0598 - acc: 0.9796 - val_loss: 0.0597 - val_acc: 0.9797\n",
            "Epoch 10/32\n",
            " 23552/102124 [=====>........................] - ETA: 1:34 - loss: 0.0590 - acc: 0.9802"
          ],
          "name": "stdout"
        },
        {
          "output_type": "stream",
          "text": [
            "102124/102124 [==============================] - 132s 1ms/step - loss: 0.0588 - acc: 0.9799 - val_loss: 0.0600 - val_acc: 0.9792\n",
            "\n",
            "Epoch 00010: ReduceLROnPlateau reducing learning rate to 0.00019614602206274867.\n",
            "roc-auc: 0.9745 - roc-auc_val: 0.9617                                                                                                    \n",
            "Epoch 11/32\n",
            " 13312/102124 [==>...........................] - ETA: 1:46 - loss: 0.0594 - acc: 0.9790"
          ],
          "name": "stdout"
        },
        {
          "output_type": "stream",
          "text": [
            "102124/102124 [==============================] - 132s 1ms/step - loss: 0.0575 - acc: 0.9803 - val_loss: 0.0568 - val_acc: 0.9803\n",
            "Epoch 12/32\n",
            " 22400/102124 [=====>........................] - ETA: 1:36 - loss: 0.0574 - acc: 0.9800"
          ],
          "name": "stdout"
        },
        {
          "output_type": "stream",
          "text": [
            "102124/102124 [==============================] - 132s 1ms/step - loss: 0.0565 - acc: 0.9804 - val_loss: 0.0572 - val_acc: 0.9803\n",
            "roc-auc: 0.9778 - roc-auc_val: 0.9629                                                                                                    \n",
            "Epoch 13/32\n",
            " 16128/102124 [===>..........................] - ETA: 1:43 - loss: 0.0549 - acc: 0.9804"
          ],
          "name": "stdout"
        },
        {
          "output_type": "stream",
          "text": [
            "102124/102124 [==============================] - 132s 1ms/step - loss: 0.0554 - acc: 0.9807 - val_loss: 0.0565 - val_acc: 0.9803\n",
            "Epoch 14/32\n",
            " 23424/102124 [=====>........................] - ETA: 1:34 - loss: 0.0547 - acc: 0.9809"
          ],
          "name": "stdout"
        },
        {
          "output_type": "stream",
          "text": [
            "102124/102124 [==============================] - 132s 1ms/step - loss: 0.0545 - acc: 0.9811 - val_loss: 0.0573 - val_acc: 0.9798\n",
            "roc-auc: 0.9793 - roc-auc_val: 0.9628                                                                                                    \n",
            "Epoch 15/32\n",
            " 16256/102124 [===>..........................] - ETA: 1:43 - loss: 0.0554 - acc: 0.9805"
          ],
          "name": "stdout"
        },
        {
          "output_type": "stream",
          "text": [
            "102124/102124 [==============================] - 132s 1ms/step - loss: 0.0541 - acc: 0.9810 - val_loss: 0.0576 - val_acc: 0.9798\n",
            "Epoch 16/32\n",
            " 23424/102124 [=====>........................] - ETA: 1:34 - loss: 0.0521 - acc: 0.9817"
          ],
          "name": "stdout"
        },
        {
          "output_type": "stream",
          "text": [
            "102124/102124 [==============================] - 132s 1ms/step - loss: 0.0531 - acc: 0.9813 - val_loss: 0.0573 - val_acc: 0.9798\n",
            "roc-auc: 0.9804 - roc-auc_val: 0.9635                                                                                                    \n",
            "Epoch 17/32\n",
            " 16256/102124 [===>..........................] - ETA: 1:43 - loss: 0.0528 - acc: 0.9813"
          ],
          "name": "stdout"
        },
        {
          "output_type": "stream",
          "text": [
            "102124/102124 [==============================] - 132s 1ms/step - loss: 0.0525 - acc: 0.9815 - val_loss: 0.0555 - val_acc: 0.9806\n",
            "Epoch 18/32\n",
            " 23424/102124 [=====>........................] - ETA: 1:34 - loss: 0.0513 - acc: 0.9817"
          ],
          "name": "stdout"
        },
        {
          "output_type": "stream",
          "text": [
            "102124/102124 [==============================] - 132s 1ms/step - loss: 0.0526 - acc: 0.9816 - val_loss: 0.0580 - val_acc: 0.9800\n",
            "roc-auc: 0.9813 - roc-auc_val: 0.9622                                                                                                    \n",
            "Epoch 19/32\n",
            " 16256/102124 [===>..........................] - ETA: 1:43 - loss: 0.0500 - acc: 0.9822"
          ],
          "name": "stdout"
        },
        {
          "output_type": "stream",
          "text": [
            "102124/102124 [==============================] - 132s 1ms/step - loss: 0.0517 - acc: 0.9819 - val_loss: 0.0580 - val_acc: 0.9795\n",
            "Epoch 20/32\n",
            " 23424/102124 [=====>........................] - ETA: 1:34 - loss: 0.0515 - acc: 0.9818"
          ],
          "name": "stdout"
        },
        {
          "output_type": "stream",
          "text": [
            "102124/102124 [==============================] - 132s 1ms/step - loss: 0.0511 - acc: 0.9819 - val_loss: 0.0572 - val_acc: 0.9800\n",
            "roc-auc: 0.9821 - roc-auc_val: 0.964                                                                                                    \n",
            "Epoch 21/32\n",
            " 16384/102124 [===>..........................] - ETA: 1:42 - loss: 0.0516 - acc: 0.9817"
          ],
          "name": "stdout"
        },
        {
          "output_type": "stream",
          "text": [
            "102124/102124 [==============================] - 132s 1ms/step - loss: 0.0509 - acc: 0.9819 - val_loss: 0.0580 - val_acc: 0.9794\n",
            "\n",
            "Epoch 00021: ReduceLROnPlateau reducing learning rate to 6.25000029685907e-05.\n",
            "Epoch 22/32\n",
            " 17280/102124 [====>.........................] - ETA: 1:41 - loss: 0.0500 - acc: 0.9822"
          ],
          "name": "stdout"
        },
        {
          "output_type": "stream",
          "text": [
            "102124/102124 [==============================] - 132s 1ms/step - loss: 0.0511 - acc: 0.9820 - val_loss: 0.0587 - val_acc: 0.9791\n",
            "roc-auc: 0.9826 - roc-auc_val: 0.9638                                                                                                    \n",
            "Epoch 23/32\n",
            " 14848/102124 [===>..........................] - ETA: 1:44 - loss: 0.0496 - acc: 0.9821"
          ],
          "name": "stdout"
        },
        {
          "output_type": "stream",
          "text": [
            "102124/102124 [==============================] - 132s 1ms/step - loss: 0.0498 - acc: 0.9822 - val_loss: 0.0581 - val_acc: 0.9795\n",
            "Epoch 24/32\n",
            " 22912/102124 [=====>........................] - ETA: 1:35 - loss: 0.0515 - acc: 0.9819"
          ],
          "name": "stdout"
        },
        {
          "output_type": "stream",
          "text": [
            "102124/102124 [==============================] - 132s 1ms/step - loss: 0.0497 - acc: 0.9822 - val_loss: 0.0561 - val_acc: 0.9804\n",
            "roc-auc: 0.9833 - roc-auc_val: 0.9641                                                                                                    \n",
            "Epoch 25/32\n",
            " 16128/102124 [===>..........................] - ETA: 1:43 - loss: 0.0500 - acc: 0.9821"
          ],
          "name": "stdout"
        },
        {
          "output_type": "stream",
          "text": [
            "102124/102124 [==============================] - 132s 1ms/step - loss: 0.0494 - acc: 0.9823 - val_loss: 0.0595 - val_acc: 0.9791\n",
            "Epoch 26/32\n",
            " 23424/102124 [=====>........................] - ETA: 1:34 - loss: 0.0492 - acc: 0.9825"
          ],
          "name": "stdout"
        },
        {
          "output_type": "stream",
          "text": [
            "102124/102124 [==============================] - 132s 1ms/step - loss: 0.0493 - acc: 0.9824 - val_loss: 0.0576 - val_acc: 0.9798\n",
            "roc-auc: 0.9835 - roc-auc_val: 0.9641                                                                                                    \n",
            "Epoch 27/32\n",
            " 16256/102124 [===>..........................] - ETA: 1:42 - loss: 0.0498 - acc: 0.9821"
          ],
          "name": "stdout"
        },
        {
          "output_type": "stream",
          "text": [
            "102124/102124 [==============================] - 132s 1ms/step - loss: 0.0492 - acc: 0.9823 - val_loss: 0.0583 - val_acc: 0.9794\n"
          ],
          "name": "stdout"
        }
      ]
    },
    {
      "metadata": {
        "id": "sms3R-U4469B",
        "colab_type": "code",
        "colab": {
          "autoexec": {
            "startup": false,
            "wait_interval": 0
          },
          "base_uri": "https://localhost:8080/",
          "height": 293
        },
        "outputId": "883c49d4-470e-4b9e-83bd-6ce5b25f2b40",
        "executionInfo": {
          "status": "ok",
          "timestamp": 1532423078019,
          "user_tz": -120,
          "elapsed": 1784,
          "user": {
            "displayName": "Deep Learning",
            "photoUrl": "https://lh3.googleusercontent.com/a/default-user=s128",
            "userId": "115257841230779963257"
          }
        }
      },
      "cell_type": "code",
      "source": [
        "plot_history(history)"
      ],
      "execution_count": 14,
      "outputs": [
        {
          "output_type": "display_data",
          "data": {
            "image/png": "[encoded data removed]",
            "text/plain": [
              "<matplotlib.figure.Figure at 0x7fdb826f91d0>"
            ]
          },
          "metadata": {
            "tags": []
          }
        }
      ]
    },
    {
      "metadata": {
        "id": "r2gtMBj2Tp9A",
        "colab_type": "code",
        "colab": {
          "autoexec": {
            "startup": false,
            "wait_interval": 0
          },
          "base_uri": "https://localhost:8080/",
          "height": 52
        },
        "outputId": "6e374851-90ef-4297-9b3b-cefd648bd55c",
        "executionInfo": {
          "status": "ok",
          "timestamp": 1532423112197,
          "user_tz": -120,
          "elapsed": 34168,
          "user": {
            "displayName": "Deep Learning",
            "photoUrl": "https://lh3.googleusercontent.com/a/default-user=s128",
            "userId": "115257841230779963257"
          }
        }
      },
      "cell_type": "code",
      "source": [
        "print(evaluate_on_test(model))"
      ],
      "execution_count": 15,
      "outputs": [
        {
          "output_type": "stream",
          "text": [
            "31915/31915 [==============================] - 18s 564us/step\n",
            "([0.058684479218888544, 0.9789283921814592], 0.9686076746230672)\n"
          ],
          "name": "stdout"
        }
      ]
    }
  ]
}
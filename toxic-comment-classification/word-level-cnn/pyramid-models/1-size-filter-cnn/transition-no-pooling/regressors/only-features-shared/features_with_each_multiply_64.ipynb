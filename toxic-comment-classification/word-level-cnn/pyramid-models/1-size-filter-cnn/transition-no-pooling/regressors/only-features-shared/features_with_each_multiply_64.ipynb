{
  "nbformat": 4,
  "nbformat_minor": 0,
  "metadata": {
    "colab": {
      "name": "combined_with_each_multiply_64.ipynb",
      "version": "0.3.2",
      "views": {},
      "default_view": {},
      "provenance": [],
      "collapsed_sections": []
    },
    "kernelspec": {
      "display_name": "Python 3",
      "language": "python",
      "name": "python3"
    },
    "accelerator": "GPU"
  },
  "cells": [
    {
      "metadata": {
        "id": "yS1FnhiWX3Js",
        "colab_type": "code",
        "colab": {
          "autoexec": {
            "startup": false,
            "wait_interval": 0
          },
          "base_uri": "https://localhost:8080/",
          "height": 407
        },
        "outputId": "9aea1890-252d-4604-84da-72d5f51b7d5e",
        "executionInfo": {
          "status": "ok",
          "timestamp": 1530207837424,
          "user_tz": -120,
          "elapsed": 10305,
          "user": {
            "displayName": "Deep Learning",
            "photoUrl": "https://lh3.googleusercontent.com/a/default-user=s128",
            "userId": "115257841230779963257"
          }
        }
      },
      "cell_type": "code",
      "source": [
        "!pip install keras\n",
        "!pip install sklearn\n",
        "!pip install matplotlib\n",
        "!pip install -U -q PyDrive"
      ],
      "execution_count": 1,
      "outputs": [
        {
          "output_type": "stream",
          "text": [
            "Requirement already satisfied: keras in /usr/local/lib/python3.6/dist-packages (2.1.6)\r\n",
            "Requirement already satisfied: h5py in /usr/local/lib/python3.6/dist-packages (from keras) (2.8.0)\r\n",
            "Requirement already satisfied: six>=1.9.0 in /usr/local/lib/python3.6/dist-packages (from keras) (1.11.0)\r\n",
            "Requirement already satisfied: scipy>=0.14 in /usr/local/lib/python3.6/dist-packages (from keras) (0.19.1)\r\n",
            "Requirement already satisfied: pyyaml in /usr/local/lib/python3.6/dist-packages (from keras) (3.12)\r\n",
            "Requirement already satisfied: numpy>=1.9.1 in /usr/local/lib/python3.6/dist-packages (from keras) (1.14.5)\n",
            "Collecting sklearn\n",
            "  Downloading https://files.pythonhosted.org/packages/1e/7a/dbb3be0ce9bd5c8b7e3d87328e79063f8b263b2b1bfa4774cb1147bfcd3f/sklearn-0.0.tar.gz\n",
            "Requirement already satisfied: scikit-learn in /usr/local/lib/python3.6/dist-packages (from sklearn) (0.19.1)\n",
            "Building wheels for collected packages: sklearn\n",
            "  Running setup.py bdist_wheel for sklearn ... \u001b[?25l-\b \bdone\n",
            "\u001b[?25h  Stored in directory: /content/.cache/pip/wheels/76/03/bb/589d421d27431bcd2c6da284d5f2286c8e3b2ea3cf1594c074\n",
            "Successfully built sklearn\n",
            "Installing collected packages: sklearn\n",
            "Successfully installed sklearn-0.0\n",
            "Requirement already satisfied: matplotlib in /usr/local/lib/python3.6/dist-packages (2.1.2)\n",
            "Requirement already satisfied: pyparsing!=2.0.4,!=2.1.2,!=2.1.6,>=2.0.1 in /usr/local/lib/python3.6/dist-packages (from matplotlib) (2.2.0)\n",
            "Requirement already satisfied: numpy>=1.7.1 in /usr/local/lib/python3.6/dist-packages (from matplotlib) (1.14.5)\n",
            "Requirement already satisfied: python-dateutil>=2.1 in /usr/local/lib/python3.6/dist-packages (from matplotlib) (2.5.3)\n",
            "Requirement already satisfied: six>=1.10 in /usr/local/lib/python3.6/dist-packages (from matplotlib) (1.11.0)\n",
            "Requirement already satisfied: pytz in /usr/local/lib/python3.6/dist-packages (from matplotlib) (2018.4)\n",
            "Requirement already satisfied: cycler>=0.10 in /usr/local/lib/python3.6/dist-packages (from matplotlib) (0.10.0)\n"
          ],
          "name": "stdout"
        }
      ]
    },
    {
      "metadata": {
        "id": "xlKzkDJFrjA-",
        "colab_type": "code",
        "colab": {
          "autoexec": {
            "startup": false,
            "wait_interval": 0
          },
          "base_uri": "https://localhost:8080/",
          "height": 34
        },
        "outputId": "05b89cde-d2eb-48fb-c667-d6b6539448f8",
        "executionInfo": {
          "status": "ok",
          "timestamp": 1530207844203,
          "user_tz": -120,
          "elapsed": 6741,
          "user": {
            "displayName": "Deep Learning",
            "photoUrl": "https://lh3.googleusercontent.com/a/default-user=s128",
            "userId": "115257841230779963257"
          }
        }
      },
      "cell_type": "code",
      "source": [
        "from keras import backend as K\n",
        "K.clear_session()"
      ],
      "execution_count": 2,
      "outputs": [
        {
          "output_type": "stream",
          "text": [
            "Using TensorFlow backend.\n"
          ],
          "name": "stderr"
        }
      ]
    },
    {
      "metadata": {
        "id": "eQEKwl4oAxO7",
        "colab_type": "code",
        "colab": {
          "autoexec": {
            "startup": false,
            "wait_interval": 0
          },
          "base_uri": "https://localhost:8080/",
          "height": 0
        },
        "outputId": "d939d037-9f66-4f48-8b83-d152e9c849c9",
        "executionInfo": {
          "status": "ok",
          "timestamp": 1530207845136,
          "user_tz": -120,
          "elapsed": 914,
          "user": {
            "displayName": "Deep Learning",
            "photoUrl": "https://lh3.googleusercontent.com/a/default-user=s128",
            "userId": "115257841230779963257"
          }
        }
      },
      "cell_type": "code",
      "source": [
        "from keras import backend as K\n",
        "cfg = K.tf.ConfigProto()\n",
        "cfg.gpu_options.allow_growth = True\n",
        "K.set_session(K.tf.Session(config=cfg))"
      ],
      "execution_count": 3,
      "outputs": []
    },
    {
      "metadata": {
        "id": "12M0egCCX-27",
        "colab_type": "code",
        "colab": {
          "autoexec": {
            "startup": false,
            "wait_interval": 0
          },
          "base_uri": "https://localhost:8080/",
          "height": 16
        },
        "outputId": "10da29bb-1f55-4a71-c45e-8595ed040513",
        "executionInfo": {
          "status": "ok",
          "timestamp": 1530207994205,
          "user_tz": -120,
          "elapsed": 245,
          "user": {
            "displayName": "Deep Learning",
            "photoUrl": "https://lh3.googleusercontent.com/a/default-user=s128",
            "userId": "115257841230779963257"
          }
        }
      },
      "cell_type": "code",
      "source": [
        "from pydrive.auth import GoogleAuth\n",
        "from pydrive.drive import GoogleDrive\n",
        "from google.colab import auth\n",
        "from oauth2client.client import GoogleCredentials\n",
        "\n",
        "auth.authenticate_user()\n",
        "gauth = GoogleAuth()\n",
        "gauth.credentials = GoogleCredentials.get_application_default()\n",
        "drive = GoogleDrive(gauth)"
      ],
      "execution_count": 4,
      "outputs": []
    },
    {
      "metadata": {
        "id": "4lN2WTUEYBYv",
        "colab_type": "code",
        "colab": {
          "autoexec": {
            "startup": false,
            "wait_interval": 0
          },
          "base_uri": "https://localhost:8080/",
          "height": 0
        },
        "outputId": "e6350025-0572-4592-e7cc-432513af5b32",
        "executionInfo": {
          "status": "ok",
          "timestamp": 1530208017361,
          "user_tz": -120,
          "elapsed": 23036,
          "user": {
            "displayName": "Deep Learning",
            "photoUrl": "https://lh3.googleusercontent.com/a/default-user=s128",
            "userId": "115257841230779963257"
          }
        }
      },
      "cell_type": "code",
      "source": [
        "file_import = drive.CreateFile({'id':'1p1bsltfTcIrZ_kfE6kwGTPzcdXorHbb2'})\n",
        "file_import.GetContentFile('colab_setup.py') \n",
        "from colab_setup import setup\n",
        "\n",
        "setup(drive)"
      ],
      "execution_count": 5,
      "outputs": []
    },
    {
      "metadata": {
        "id": "cHBlD0tVj2TY",
        "colab_type": "code",
        "colab": {
          "autoexec": {
            "startup": false,
            "wait_interval": 0
          },
          "base_uri": "https://localhost:8080/",
          "height": 123
        },
        "outputId": "966036e4-8e46-4c05-c96c-4b0f36ed7307",
        "executionInfo": {
          "status": "ok",
          "timestamp": 1530208019054,
          "user_tz": -120,
          "elapsed": 1615,
          "user": {
            "displayName": "Deep Learning",
            "photoUrl": "https://lh3.googleusercontent.com/a/default-user=s128",
            "userId": "115257841230779963257"
          }
        }
      },
      "cell_type": "code",
      "source": [
        "!ls"
      ],
      "execution_count": 6,
      "outputs": [
        {
          "output_type": "stream",
          "text": [
            "colab_setup.py\t\t\t roc_auc_callback.py\tX_train.npy\r\n",
            "custom_fast_text_embeddings.npy  sample_submission.csv\tX_val.npy\r\n",
            "datalab\t\t\t\t train_model.py\t\ty_test.npy\r\n",
            "fast_text_embeddings.npy\t X_submission.npy\ty_train_full.npy\r\n",
            "plot_history.py\t\t\t X_test.npy\t\ty_train.npy\r\n",
            "__pycache__\t\t\t X_train_full.npy\ty_val.npy\r\n"
          ],
          "name": "stdout"
        }
      ]
    },
    {
      "metadata": {
        "id": "yMwWPTMYXyno",
        "colab_type": "code",
        "colab": {
          "autoexec": {
            "startup": false,
            "wait_interval": 0
          },
          "base_uri": "https://localhost:8080/",
          "height": 0
        },
        "outputId": "897e40d4-7f9d-46b2-894b-0545c72be8d5",
        "executionInfo": {
          "status": "ok",
          "timestamp": 1530208019769,
          "user_tz": -120,
          "elapsed": 697,
          "user": {
            "displayName": "Deep Learning",
            "photoUrl": "https://lh3.googleusercontent.com/a/default-user=s128",
            "userId": "115257841230779963257"
          }
        }
      },
      "cell_type": "code",
      "source": [
        "import numpy as np\n",
        "import os\n",
        "\n",
        "from plot_history import plot_history\n",
        "from roc_auc_callback import RocAucCallback\n",
        "from train_model import train_with_cv, train_with_submitting, evaluate_on_test\n",
        "\n",
        "from keras.models import Model\n",
        "from keras.layers import *\n",
        "from keras.layers.merge import concatenate"
      ],
      "execution_count": 7,
      "outputs": []
    },
    {
      "metadata": {
        "id": "3YXiQ6IRovcY",
        "colab_type": "code",
        "colab": {
          "autoexec": {
            "startup": false,
            "wait_interval": 0
          },
          "base_uri": "https://localhost:8080/",
          "height": 0
        },
        "outputId": "3405dd60-0fc4-4e87-ab67-eb1c56e4d7fb",
        "executionInfo": {
          "status": "ok",
          "timestamp": 1530208021024,
          "user_tz": -120,
          "elapsed": 1227,
          "user": {
            "displayName": "Deep Learning",
            "photoUrl": "https://lh3.googleusercontent.com/a/default-user=s128",
            "userId": "115257841230779963257"
          }
        }
      },
      "cell_type": "code",
      "source": [
        "file_import = drive.CreateFile({'id':'15j1Nou6m5WNLejJQrUcty6U03xsIgIAI'})\n",
        "file_import.GetContentFile('SelfAttention.py') \n",
        "\n",
        "from SelfAttention import SelfAttention"
      ],
      "execution_count": 8,
      "outputs": []
    },
    {
      "metadata": {
        "id": "MIWjPi9bs5d4",
        "colab_type": "code",
        "colab": {
          "autoexec": {
            "startup": false,
            "wait_interval": 0
          },
          "base_uri": "https://localhost:8080/",
          "height": 0
        },
        "outputId": "2b0762fc-c97b-4c33-a406-37fcd0e28965",
        "executionInfo": {
          "status": "ok",
          "timestamp": 1530208021590,
          "user_tz": -120,
          "elapsed": 536,
          "user": {
            "displayName": "Deep Learning",
            "photoUrl": "https://lh3.googleusercontent.com/a/default-user=s128",
            "userId": "115257841230779963257"
          }
        }
      },
      "cell_type": "code",
      "source": [
        "def one_by_one(filtersNumber, inputLayer, dropout = 0.2):\n",
        "    one_by_one = Conv1D(filtersNumber, 1, activation = 'elu', padding = 'same', kernel_initializer = 'he_uniform')(inputLayer)\n",
        "    one_by_one = BatchNormalization()(one_by_one)\n",
        "    one_by_one = SpatialDropout1D(dropout)(one_by_one)\n",
        "    \n",
        "    return one_by_one"
      ],
      "execution_count": 9,
      "outputs": []
    },
    {
      "metadata": {
        "id": "mRg7bBAFoL7b",
        "colab_type": "code",
        "colab": {
          "autoexec": {
            "startup": false,
            "wait_interval": 0
          },
          "base_uri": "https://localhost:8080/",
          "height": 0
        },
        "outputId": "bdc262ca-18d7-4c60-e1bf-4cf961f072e3",
        "executionInfo": {
          "status": "ok",
          "timestamp": 1530208022096,
          "user_tz": -120,
          "elapsed": 476,
          "user": {
            "displayName": "Deep Learning",
            "photoUrl": "https://lh3.googleusercontent.com/a/default-user=s128",
            "userId": "115257841230779963257"
          }
        }
      },
      "cell_type": "code",
      "source": [
        "def yoon_kim_feature_extractor(filtersNumber, inputLayer):\n",
        "    block_1_conv_1 = Conv1D(filtersNumber, 1, activation = 'elu', padding = 'same', kernel_initializer = 'he_uniform')(inputLayer)\n",
        "    block_1_batchnorm1 = BatchNormalization()(block_1_conv_1)\n",
        "    block_1_max_pool1 = GlobalMaxPooling1D()(block_1_batchnorm1)\n",
        "\n",
        "    block_1_conv_2 = Conv1D(filtersNumber, 2, activation = 'elu', padding = 'same', kernel_initializer = 'he_uniform')(inputLayer)\n",
        "    block_1_batchnorm2 = BatchNormalization()(block_1_conv_2)\n",
        "    block_1_max_pool2 = GlobalMaxPooling1D()(block_1_batchnorm2)\n",
        "\n",
        "    block_1_conv_3 = Conv1D(filtersNumber, 3, activation = 'elu', padding = 'same', kernel_initializer = 'he_uniform')(inputLayer)\n",
        "    block_1_batchnorm3 = BatchNormalization()(block_1_conv_3)\n",
        "    block_1_max_pool3 = GlobalMaxPooling1D()(block_1_batchnorm3)\n",
        "\n",
        "    block_1_conv_4 = Conv1D(filtersNumber, 5, activation = 'elu', padding = 'same', kernel_initializer = 'he_uniform')(inputLayer)\n",
        "    block_1_batchnorm4 = BatchNormalization()(block_1_conv_4)\n",
        "    block_1_max_pool4 = GlobalMaxPooling1D()(block_1_batchnorm4)\n",
        "\n",
        "    block_1_features = concatenate([\n",
        "        block_1_max_pool1, \n",
        "        block_1_max_pool2, \n",
        "        block_1_max_pool3, \n",
        "        block_1_max_pool4\n",
        "    ])\n",
        "    block_1_features = Dropout(0.2)(block_1_features)\n",
        "    return block_1_features"
      ],
      "execution_count": 10,
      "outputs": []
    },
    {
      "metadata": {
        "id": "UqHtiFqSfABY",
        "colab_type": "code",
        "colab": {
          "autoexec": {
            "startup": false,
            "wait_interval": 0
          },
          "base_uri": "https://localhost:8080/",
          "height": 0
        },
        "outputId": "d3eb4d72-309d-450a-eabb-d7410e45a22a",
        "executionInfo": {
          "status": "ok",
          "timestamp": 1530208022803,
          "user_tz": -120,
          "elapsed": 675,
          "user": {
            "displayName": "Deep Learning",
            "photoUrl": "https://lh3.googleusercontent.com/a/default-user=s128",
            "userId": "115257841230779963257"
          }
        }
      },
      "cell_type": "code",
      "source": [
        "def single_category_regressor(features, unitsNumber = 64):\n",
        "    dense_1 = Dense(unitsNumber, activation = 'elu')(features)\n",
        "    dense_1_normalization = BatchNormalization()(dense_1)\n",
        "    dense_1_dropout = Dropout(0.2)(dense_1_normalization)\n",
        "\n",
        "    dense_2 = Dense(unitsNumber, activation = 'elu')(dense_1_dropout)\n",
        "    dense_2_normalization = BatchNormalization()(dense_2)\n",
        "    dense_2_dropout = Dropout(0.2)(dense_2_normalization)\n",
        "    \n",
        "    return Dense(1, activation='elu')(dense_2_dropout)"
      ],
      "execution_count": 11,
      "outputs": []
    },
    {
      "metadata": {
        "id": "LTFG7OgsXynw",
        "colab_type": "code",
        "colab": {
          "autoexec": {
            "startup": false,
            "wait_interval": 0
          },
          "base_uri": "https://localhost:8080/",
          "height": 3234
        },
        "outputId": "1377cd48-d67b-4cf5-c40c-364c7b4cc31d",
        "executionInfo": {
          "status": "ok",
          "timestamp": 1530208026882,
          "user_tz": -120,
          "elapsed": 3894,
          "user": {
            "displayName": "Deep Learning",
            "photoUrl": "https://lh3.googleusercontent.com/a/default-user=s128",
            "userId": "115257841230779963257"
          }
        }
      },
      "cell_type": "code",
      "source": [
        "maxWords = 30000\n",
        "maxSequenceLengthInWords = 400\n",
        "embeddingDimension = 300\n",
        "filtersNumber = 300\n",
        "\n",
        "input_layer = Input(shape=(maxSequenceLengthInWords,))\n",
        "\n",
        "pretrained_embedding_layer = Embedding(\n",
        "    maxWords, \n",
        "    output_dim=embeddingDimension, \n",
        "    input_length=maxSequenceLengthInWords,\n",
        "    weights = [np.load('fast_text_embeddings.npy')],\n",
        "    trainable = False\n",
        ")(input_layer)\n",
        "pretrained_embedding_layer = SpatialDropout1D(0.2)(pretrained_embedding_layer)\n",
        "\n",
        "custom_embedding_layer = Embedding(\n",
        "    maxWords, \n",
        "    output_dim=embeddingDimension, \n",
        "    input_length=maxSequenceLengthInWords,\n",
        "    weights = [np.load('custom_fast_text_embeddings.npy')],\n",
        "    trainable = False\n",
        ")(input_layer)\n",
        "custom_embedding_layer = SpatialDropout1D(0.2)(custom_embedding_layer)\n",
        "\n",
        "embedding = Average()([pretrained_embedding_layer, custom_embedding_layer])\n",
        "embedding_dropout = SpatialDropout1D(0.2)(embedding)\n",
        "\n",
        "embedding_dropout = SelfAttention()(embedding_dropout)\n",
        "\n",
        "features_1 = one_by_one(filtersNumber, embedding_dropout)\n",
        "features_2 = one_by_one(filtersNumber, features_1)\n",
        "features_3 = one_by_one(filtersNumber, features_2)\n",
        "\n",
        "features = yoon_kim_feature_extractor(filtersNumber, features_3)\n",
        "\n",
        "\n",
        "dense_1 = Dense(256, activation = 'elu')(features)\n",
        "dense_1_normalization = BatchNormalization()(dense_1)\n",
        "dense_1_dropout = Dropout(0.2)(dense_1_normalization)\n",
        "\n",
        "dense_2 = Dense(256, activation = 'elu')(dense_1_dropout)\n",
        "dense_2_normalization = BatchNormalization()(dense_2)\n",
        "dense_2_dropout = Dropout(0.2)(dense_2_normalization)\n",
        "\n",
        "output_layer = Dense(6, activation='sigmoid')(dense_2_dropout)\n",
        "\n",
        "single_category_layer = concatenate([\n",
        "    single_category_regressor(features, 64),\n",
        "    single_category_regressor(features, 64),\n",
        "    single_category_regressor(features, 64),\n",
        "    single_category_regressor(features, 64),\n",
        "    single_category_regressor(features, 64),\n",
        "    single_category_regressor(features, 64),\n",
        "])\n",
        "\n",
        "output_layer = multiply([output_layer, single_category_layer])\n",
        "\n",
        "model = Model(inputs=[input_layer], outputs=[output_layer])\n",
        "            \n",
        "model.summary()\n",
        "\n",
        "model.compile(\n",
        "    loss='binary_crossentropy', \n",
        "    optimizer='Adam',\n",
        "    metrics=['accuracy']\n",
        ")"
      ],
      "execution_count": 12,
      "outputs": [
        {
          "output_type": "stream",
          "text": [
            "__________________________________________________________________________________________________\n",
            "Layer (type)                    Output Shape         Param #     Connected to                     \n",
            "==================================================================================================\n",
            "input_1 (InputLayer)            (None, 400)          0                                            \n",
            "__________________________________________________________________________________________________\n",
            "embedding_1 (Embedding)         (None, 400, 300)     9000000     input_1[0][0]                    \n",
            "__________________________________________________________________________________________________\n",
            "embedding_2 (Embedding)         (None, 400, 300)     9000000     input_1[0][0]                    \n",
            "__________________________________________________________________________________________________\n",
            "spatial_dropout1d_1 (SpatialDro (None, 400, 300)     0           embedding_1[0][0]                \n",
            "__________________________________________________________________________________________________\n",
            "spatial_dropout1d_2 (SpatialDro (None, 400, 300)     0           embedding_2[0][0]                \n",
            "__________________________________________________________________________________________________\n",
            "average_1 (Average)             (None, 400, 300)     0           spatial_dropout1d_1[0][0]        \n",
            "                                                                 spatial_dropout1d_2[0][0]        \n",
            "__________________________________________________________________________________________________\n",
            "spatial_dropout1d_3 (SpatialDro (None, 400, 300)     0           average_1[0][0]                  \n",
            "__________________________________________________________________________________________________\n",
            "self_attention_1 (SelfAttention (None, 400, 300)     90601       spatial_dropout1d_3[0][0]        \n",
            "__________________________________________________________________________________________________\n",
            "conv1d_1 (Conv1D)               (None, 400, 300)     90300       self_attention_1[0][0]           \n",
            "__________________________________________________________________________________________________\n",
            "batch_normalization_1 (BatchNor (None, 400, 300)     1200        conv1d_1[0][0]                   \n",
            "__________________________________________________________________________________________________\n",
            "spatial_dropout1d_4 (SpatialDro (None, 400, 300)     0           batch_normalization_1[0][0]      \n",
            "__________________________________________________________________________________________________\n",
            "conv1d_2 (Conv1D)               (None, 400, 300)     90300       spatial_dropout1d_4[0][0]        \n",
            "__________________________________________________________________________________________________\n",
            "batch_normalization_2 (BatchNor (None, 400, 300)     1200        conv1d_2[0][0]                   \n",
            "__________________________________________________________________________________________________\n",
            "spatial_dropout1d_5 (SpatialDro (None, 400, 300)     0           batch_normalization_2[0][0]      \n",
            "__________________________________________________________________________________________________\n",
            "conv1d_3 (Conv1D)               (None, 400, 300)     90300       spatial_dropout1d_5[0][0]        \n",
            "__________________________________________________________________________________________________\n",
            "batch_normalization_3 (BatchNor (None, 400, 300)     1200        conv1d_3[0][0]                   \n",
            "__________________________________________________________________________________________________\n",
            "spatial_dropout1d_6 (SpatialDro (None, 400, 300)     0           batch_normalization_3[0][0]      \n",
            "__________________________________________________________________________________________________\n",
            "conv1d_4 (Conv1D)               (None, 400, 300)     90300       spatial_dropout1d_6[0][0]        \n",
            "__________________________________________________________________________________________________\n",
            "conv1d_5 (Conv1D)               (None, 400, 300)     180300      spatial_dropout1d_6[0][0]        \n",
            "__________________________________________________________________________________________________\n",
            "conv1d_6 (Conv1D)               (None, 400, 300)     270300      spatial_dropout1d_6[0][0]        \n",
            "__________________________________________________________________________________________________\n",
            "conv1d_7 (Conv1D)               (None, 400, 300)     450300      spatial_dropout1d_6[0][0]        \n",
            "__________________________________________________________________________________________________\n",
            "batch_normalization_4 (BatchNor (None, 400, 300)     1200        conv1d_4[0][0]                   \n",
            "__________________________________________________________________________________________________\n",
            "batch_normalization_5 (BatchNor (None, 400, 300)     1200        conv1d_5[0][0]                   \n",
            "__________________________________________________________________________________________________\n",
            "batch_normalization_6 (BatchNor (None, 400, 300)     1200        conv1d_6[0][0]                   \n",
            "__________________________________________________________________________________________________\n",
            "batch_normalization_7 (BatchNor (None, 400, 300)     1200        conv1d_7[0][0]                   \n",
            "__________________________________________________________________________________________________\n",
            "global_max_pooling1d_1 (GlobalM (None, 300)          0           batch_normalization_4[0][0]      \n",
            "__________________________________________________________________________________________________\n",
            "global_max_pooling1d_2 (GlobalM (None, 300)          0           batch_normalization_5[0][0]      \n",
            "__________________________________________________________________________________________________\n",
            "global_max_pooling1d_3 (GlobalM (None, 300)          0           batch_normalization_6[0][0]      \n",
            "__________________________________________________________________________________________________\n",
            "global_max_pooling1d_4 (GlobalM (None, 300)          0           batch_normalization_7[0][0]      \n",
            "__________________________________________________________________________________________________\n",
            "concatenate_1 (Concatenate)     (None, 1200)         0           global_max_pooling1d_1[0][0]     \n",
            "                                                                 global_max_pooling1d_2[0][0]     \n",
            "                                                                 global_max_pooling1d_3[0][0]     \n",
            "                                                                 global_max_pooling1d_4[0][0]     \n",
            "__________________________________________________________________________________________________\n",
            "dropout_1 (Dropout)             (None, 1200)         0           concatenate_1[0][0]              \n",
            "__________________________________________________________________________________________________\n",
            "dense_6 (Dense)                 (None, 64)           76864       dropout_1[0][0]                  \n",
            "__________________________________________________________________________________________________\n",
            "dense_9 (Dense)                 (None, 64)           76864       dropout_1[0][0]                  \n",
            "__________________________________________________________________________________________________\n",
            "dense_12 (Dense)                (None, 64)           76864       dropout_1[0][0]                  \n",
            "__________________________________________________________________________________________________\n",
            "dense_15 (Dense)                (None, 64)           76864       dropout_1[0][0]                  \n",
            "__________________________________________________________________________________________________\n",
            "dense_18 (Dense)                (None, 64)           76864       dropout_1[0][0]                  \n",
            "__________________________________________________________________________________________________\n",
            "dense_21 (Dense)                (None, 64)           76864       dropout_1[0][0]                  \n",
            "__________________________________________________________________________________________________\n",
            "dense_3 (Dense)                 (None, 256)          307456      dropout_1[0][0]                  \n",
            "__________________________________________________________________________________________________\n",
            "batch_normalization_10 (BatchNo (None, 64)           256         dense_6[0][0]                    \n",
            "__________________________________________________________________________________________________\n",
            "batch_normalization_12 (BatchNo (None, 64)           256         dense_9[0][0]                    \n",
            "__________________________________________________________________________________________________\n",
            "batch_normalization_14 (BatchNo (None, 64)           256         dense_12[0][0]                   \n",
            "__________________________________________________________________________________________________\n",
            "batch_normalization_16 (BatchNo (None, 64)           256         dense_15[0][0]                   \n",
            "__________________________________________________________________________________________________\n",
            "batch_normalization_18 (BatchNo (None, 64)           256         dense_18[0][0]                   \n",
            "__________________________________________________________________________________________________\n",
            "batch_normalization_20 (BatchNo (None, 64)           256         dense_21[0][0]                   \n",
            "__________________________________________________________________________________________________\n",
            "batch_normalization_8 (BatchNor (None, 256)          1024        dense_3[0][0]                    \n",
            "__________________________________________________________________________________________________\n",
            "dropout_4 (Dropout)             (None, 64)           0           batch_normalization_10[0][0]     \n",
            "__________________________________________________________________________________________________\n",
            "dropout_6 (Dropout)             (None, 64)           0           batch_normalization_12[0][0]     \n",
            "__________________________________________________________________________________________________\n",
            "dropout_8 (Dropout)             (None, 64)           0           batch_normalization_14[0][0]     \n",
            "__________________________________________________________________________________________________\n",
            "dropout_10 (Dropout)            (None, 64)           0           batch_normalization_16[0][0]     \n",
            "__________________________________________________________________________________________________\n",
            "dropout_12 (Dropout)            (None, 64)           0           batch_normalization_18[0][0]     \n",
            "__________________________________________________________________________________________________\n",
            "dropout_14 (Dropout)            (None, 64)           0           batch_normalization_20[0][0]     \n",
            "__________________________________________________________________________________________________\n",
            "dropout_2 (Dropout)             (None, 256)          0           batch_normalization_8[0][0]      \n",
            "__________________________________________________________________________________________________\n",
            "dense_7 (Dense)                 (None, 64)           4160        dropout_4[0][0]                  \n",
            "__________________________________________________________________________________________________\n",
            "dense_10 (Dense)                (None, 64)           4160        dropout_6[0][0]                  \n",
            "__________________________________________________________________________________________________\n",
            "dense_13 (Dense)                (None, 64)           4160        dropout_8[0][0]                  \n",
            "__________________________________________________________________________________________________\n",
            "dense_16 (Dense)                (None, 64)           4160        dropout_10[0][0]                 \n",
            "__________________________________________________________________________________________________\n",
            "dense_19 (Dense)                (None, 64)           4160        dropout_12[0][0]                 \n",
            "__________________________________________________________________________________________________\n",
            "dense_22 (Dense)                (None, 64)           4160        dropout_14[0][0]                 \n",
            "__________________________________________________________________________________________________\n",
            "dense_4 (Dense)                 (None, 256)          65792       dropout_2[0][0]                  \n",
            "__________________________________________________________________________________________________\n",
            "batch_normalization_11 (BatchNo (None, 64)           256         dense_7[0][0]                    \n",
            "__________________________________________________________________________________________________\n",
            "batch_normalization_13 (BatchNo (None, 64)           256         dense_10[0][0]                   \n",
            "__________________________________________________________________________________________________\n",
            "batch_normalization_15 (BatchNo (None, 64)           256         dense_13[0][0]                   \n",
            "__________________________________________________________________________________________________\n",
            "batch_normalization_17 (BatchNo (None, 64)           256         dense_16[0][0]                   \n",
            "__________________________________________________________________________________________________\n",
            "batch_normalization_19 (BatchNo (None, 64)           256         dense_19[0][0]                   \n",
            "__________________________________________________________________________________________________\n",
            "batch_normalization_21 (BatchNo (None, 64)           256         dense_22[0][0]                   \n",
            "__________________________________________________________________________________________________\n",
            "batch_normalization_9 (BatchNor (None, 256)          1024        dense_4[0][0]                    \n",
            "__________________________________________________________________________________________________\n",
            "dropout_5 (Dropout)             (None, 64)           0           batch_normalization_11[0][0]     \n",
            "__________________________________________________________________________________________________\n",
            "dropout_7 (Dropout)             (None, 64)           0           batch_normalization_13[0][0]     \n",
            "__________________________________________________________________________________________________\n",
            "dropout_9 (Dropout)             (None, 64)           0           batch_normalization_15[0][0]     \n",
            "__________________________________________________________________________________________________\n",
            "dropout_11 (Dropout)            (None, 64)           0           batch_normalization_17[0][0]     \n",
            "__________________________________________________________________________________________________\n",
            "dropout_13 (Dropout)            (None, 64)           0           batch_normalization_19[0][0]     \n",
            "__________________________________________________________________________________________________\n",
            "dropout_15 (Dropout)            (None, 64)           0           batch_normalization_21[0][0]     \n",
            "__________________________________________________________________________________________________\n",
            "dropout_3 (Dropout)             (None, 256)          0           batch_normalization_9[0][0]      \n",
            "__________________________________________________________________________________________________\n",
            "dense_8 (Dense)                 (None, 1)            65          dropout_5[0][0]                  \n",
            "__________________________________________________________________________________________________\n",
            "dense_11 (Dense)                (None, 1)            65          dropout_7[0][0]                  \n",
            "__________________________________________________________________________________________________\n",
            "dense_14 (Dense)                (None, 1)            65          dropout_9[0][0]                  \n",
            "__________________________________________________________________________________________________\n",
            "dense_17 (Dense)                (None, 1)            65          dropout_11[0][0]                 \n",
            "__________________________________________________________________________________________________\n",
            "dense_20 (Dense)                (None, 1)            65          dropout_13[0][0]                 \n",
            "__________________________________________________________________________________________________\n",
            "dense_23 (Dense)                (None, 1)            65          dropout_15[0][0]                 \n",
            "__________________________________________________________________________________________________\n",
            "dense_5 (Dense)                 (None, 6)            1542        dropout_3[0][0]                  \n",
            "__________________________________________________________________________________________________\n",
            "concatenate_2 (Concatenate)     (None, 6)            0           dense_8[0][0]                    \n",
            "                                                                 dense_11[0][0]                   \n",
            "                                                                 dense_14[0][0]                   \n",
            "                                                                 dense_17[0][0]                   \n",
            "                                                                 dense_20[0][0]                   \n",
            "                                                                 dense_23[0][0]                   \n",
            "__________________________________________________________________________________________________\n",
            "multiply_2 (Multiply)           (None, 6)            0           dense_5[0][0]                    \n",
            "                                                                 concatenate_2[0][0]              \n",
            "==================================================================================================\n",
            "Total params: 20,227,545\n",
            "Trainable params: 2,220,785\n",
            "Non-trainable params: 18,006,760\n",
            "__________________________________________________________________________________________________\n"
          ],
          "name": "stdout"
        }
      ]
    },
    {
      "metadata": {
        "id": "xwMmTewgXynz",
        "colab_type": "code",
        "colab": {
          "autoexec": {
            "startup": false,
            "wait_interval": 0
          },
          "base_uri": "https://localhost:8080/",
          "height": 1583
        },
        "outputId": "768ab454-4cd9-44c4-d02a-832d13d8178f",
        "executionInfo": {
          "status": "ok",
          "timestamp": 1530231352243,
          "user_tz": -120,
          "elapsed": 23325304,
          "user": {
            "displayName": "Deep Learning",
            "photoUrl": "https://lh3.googleusercontent.com/a/default-user=s128",
            "userId": "115257841230779963257"
          }
        }
      },
      "cell_type": "code",
      "source": [
        "history = train_with_cv(model, batchSize=32, rocEvery = 2)"
      ],
      "execution_count": 13,
      "outputs": [
        {
          "output_type": "stream",
          "text": [
            "Train on 102124 samples, validate on 25532 samples\n",
            "Epoch 1/32\n",
            " 21376/102124 [=====>........................] - ETA: 7:59 - loss: 0.4192 - acc: 0.6075"
          ],
          "name": "stdout"
        },
        {
          "output_type": "stream",
          "text": [
            "102112/102124 [============================>.] - ETA: 0s - loss: 0.2607 - acc: 0.5961"
          ],
          "name": "stdout"
        },
        {
          "output_type": "stream",
          "text": [
            "\b\b\b\b\b\b\b\b\b\b\b\b\b\b\b\b\b\b\b\b\b\b\b\b\b\b\b\b\b\b\b\b\b\b\b\b\b\b\b\b\b\b\b\b\b\b\b\b\b\b\b\b\b\b\b\b\b\b\b\b\b\b\b\b\b\b\b\b\b\b\b\b\b\b\b\b\b\b\b\b\b\b\b\b\b\r102124/102124 [==============================] - 621s 6ms/step - loss: 0.2606 - acc: 0.5961 - val_loss: 5.5689 - val_acc: 0.3888\n",
            "Epoch 2/32\n",
            " 10144/102124 [=>............................] - ETA: 8:40 - loss: 0.1775 - acc: 0.5940"
          ],
          "name": "stdout"
        },
        {
          "output_type": "stream",
          "text": [
            "102112/102124 [============================>.] - ETA: 0s - loss: 0.1668 - acc: 0.6390"
          ],
          "name": "stdout"
        },
        {
          "output_type": "stream",
          "text": [
            "102124/102124 [==============================] - 617s 6ms/step - loss: 0.1668 - acc: 0.6390 - val_loss: 0.1091 - val_acc: 0.6408\n",
            "roc-auc: 0.782 - roc-auc_val: 0.7806                                                                                                    \n",
            "Epoch 3/32\n",
            "  8768/102124 [=>............................] - ETA: 8:48 - loss: 0.1285 - acc: 0.6760"
          ],
          "name": "stdout"
        },
        {
          "output_type": "stream",
          "text": [
            " 89344/102124 [=========================>....] - ETA: 1:12 - loss: 0.1502 - acc: 0.6658"
          ],
          "name": "stdout"
        },
        {
          "output_type": "stream",
          "text": [
            "102124/102124 [==============================] - 623s 6ms/step - loss: 0.1491 - acc: 0.6708 - val_loss: 0.0826 - val_acc: 0.7143\n",
            "Epoch 4/32\n",
            "  9216/102124 [=>............................] - ETA: 8:48 - loss: 0.1310 - acc: 0.7215"
          ],
          "name": "stdout"
        },
        {
          "output_type": "stream",
          "text": [
            " 71904/102124 [====================>.........] - ETA: 2:52 - loss: 0.1284 - acc: 0.7622"
          ],
          "name": "stdout"
        },
        {
          "output_type": "stream",
          "text": [
            "102124/102124 [==============================] - 625s 6ms/step - loss: 0.1270 - acc: 0.7676 - val_loss: 0.1221 - val_acc: 0.8392\n",
            "roc-auc: 0.8695 - roc-auc_val: 0.8721                                                                                                    \n",
            "Epoch 5/32\n",
            "  1568/102124 [..............................] - ETA: 9:24 - loss: 0.1106 - acc: 0.7879"
          ],
          "name": "stdout"
        },
        {
          "output_type": "stream",
          "text": [
            "102112/102124 [============================>.] - ETA: 0s - loss: 0.1101 - acc: 0.8342"
          ],
          "name": "stdout"
        },
        {
          "output_type": "stream",
          "text": [
            "102124/102124 [==============================] - 624s 6ms/step - loss: 0.1101 - acc: 0.8342 - val_loss: 0.0702 - val_acc: 0.8488\n",
            "Epoch 6/32\n",
            " 14048/102124 [===>..........................] - ETA: 8:22 - loss: 0.1034 - acc: 0.8575"
          ],
          "name": "stdout"
        },
        {
          "output_type": "stream",
          "text": [
            " 65600/102124 [==================>...........] - ETA: 3:30 - loss: 0.1001 - acc: 0.8560"
          ],
          "name": "stdout"
        },
        {
          "output_type": "stream",
          "text": [
            "102124/102124 [==============================] - 626s 6ms/step - loss: 0.0992 - acc: 0.8594 - val_loss: 0.1062 - val_acc: 0.8514\n",
            "roc-auc: 0.8756 - roc-auc_val: 0.8766                                                                                                    \n",
            "Epoch 7/32\n",
            "    32/102124 [..............................] - ETA: 10:04 - loss: 0.0541 - acc: 0.8750"
          ],
          "name": "stdout"
        },
        {
          "output_type": "stream",
          "text": [
            "102112/102124 [============================>.] - ETA: 0s - loss: 0.0966 - acc: 0.8973"
          ],
          "name": "stdout"
        },
        {
          "output_type": "stream",
          "text": [
            "102124/102124 [==============================] - 626s 6ms/step - loss: 0.0966 - acc: 0.8974 - val_loss: 0.0658 - val_acc: 0.9621\n",
            "Epoch 8/32\n",
            " 14048/102124 [===>..........................] - ETA: 8:22 - loss: 0.0871 - acc: 0.9511"
          ],
          "name": "stdout"
        },
        {
          "output_type": "stream",
          "text": [
            " 76928/102124 [=====================>........] - ETA: 2:23 - loss: 0.0897 - acc: 0.9534"
          ],
          "name": "stdout"
        },
        {
          "output_type": "stream",
          "text": [
            "102124/102124 [==============================] - 624s 6ms/step - loss: 0.0890 - acc: 0.9553 - val_loss: 0.0698 - val_acc: 0.9595\n",
            "roc-auc: 0.9594 - roc-auc_val: 0.9561                                                                                                    \n",
            "Epoch 9/32\n",
            "  2752/102124 [..............................] - ETA: 9:27 - loss: 0.0955 - acc: 0.9496"
          ],
          "name": "stdout"
        },
        {
          "output_type": "stream",
          "text": [
            "102112/102124 [============================>.] - ETA: 0s - loss: 0.0884 - acc: 0.9650"
          ],
          "name": "stdout"
        },
        {
          "output_type": "stream",
          "text": [
            "\b\b\b\b\b\b\b\b\b\b\b\b\b\b\b\b\b\b\b\b\b\b\b\b\b\b\b\b\b\b\b\b\b\b\b\b\b\b\b\b\b\b\b\b\b\b\b\b\b\b\b\b\b\b\b\b\b\b\b\b\b\b\b\b\b\b\b\b\b\b\b\b\b\b\b\b\b\b\b\b\b\b\b\b\b\r102124/102124 [==============================] - 622s 6ms/step - loss: 0.0884 - acc: 0.9650 - val_loss: 0.0722 - val_acc: 0.9713\n",
            "\n",
            "Epoch 00009: ReduceLROnPlateau reducing learning rate to 0.00021763764380011708.\n",
            "Epoch 10/32\n",
            "  8032/102124 [=>............................] - ETA: 8:56 - loss: 0.0836 - acc: 0.9657"
          ],
          "name": "stdout"
        },
        {
          "output_type": "stream",
          "text": [
            " 68512/102124 [===================>..........] - ETA: 3:13 - loss: 0.0832 - acc: 0.9688"
          ],
          "name": "stdout"
        },
        {
          "output_type": "stream",
          "text": [
            "102124/102124 [==============================] - 626s 6ms/step - loss: 0.0827 - acc: 0.9693 - val_loss: 0.0600 - val_acc: 0.9756\n",
            "roc-auc: 0.9653 - roc-auc_val: 0.9656                                                                                                    \n",
            "Epoch 11/32\n",
            "   768/102124 [..............................] - ETA: 9:32 - loss: 0.0712 - acc: 0.9701"
          ],
          "name": "stdout"
        },
        {
          "output_type": "stream",
          "text": [
            " 79232/102124 [======================>.......] - ETA: 2:08 - loss: 0.0827 - acc: 0.9692"
          ],
          "name": "stdout"
        },
        {
          "output_type": "stream",
          "text": [
            "102124/102124 [==============================] - 615s 6ms/step - loss: 0.0813 - acc: 0.9700 - val_loss: 0.0584 - val_acc: 0.9769\n",
            "Epoch 12/32\n",
            "  5312/102124 [>.............................] - ETA: 9:12 - loss: 0.0785 - acc: 0.9716"
          ],
          "name": "stdout"
        },
        {
          "output_type": "stream",
          "text": [
            "102112/102124 [============================>.] - ETA: 0s - loss: 0.0839 - acc: 0.9695"
          ],
          "name": "stdout"
        },
        {
          "output_type": "stream",
          "text": [
            "102124/102124 [==============================] - 616s 6ms/step - loss: 0.0839 - acc: 0.9695 - val_loss: 0.0580 - val_acc: 0.9777\n",
            "roc-auc: 0.9671 - roc-auc_val: 0.9643                                                                                                    \n",
            "Epoch 13/32\n",
            "  8704/102124 [=>............................] - ETA: 8:43 - loss: 0.0835 - acc: 0.9706"
          ],
          "name": "stdout"
        },
        {
          "output_type": "stream",
          "text": [
            " 76224/102124 [=====================>........] - ETA: 2:27 - loss: 0.0791 - acc: 0.9720"
          ],
          "name": "stdout"
        },
        {
          "output_type": "stream",
          "text": [
            "102124/102124 [==============================] - 617s 6ms/step - loss: 0.0777 - acc: 0.9723 - val_loss: 0.0590 - val_acc: 0.9760\n",
            "Epoch 14/32\n",
            "  4160/102124 [>.............................] - ETA: 9:10 - loss: 0.0724 - acc: 0.9733"
          ],
          "name": "stdout"
        },
        {
          "output_type": "stream",
          "text": [
            "102112/102124 [============================>.] - ETA: 0s - loss: 0.0773 - acc: 0.9723"
          ],
          "name": "stdout"
        },
        {
          "output_type": "stream",
          "text": [
            "102124/102124 [==============================] - 611s 6ms/step - loss: 0.0773 - acc: 0.9723 - val_loss: 0.0588 - val_acc: 0.9761\n",
            "roc-auc: 0.9709 - roc-auc_val: 0.968                                                                                                    \n",
            "Epoch 15/32\n",
            "  8736/102124 [=>............................] - ETA: 8:53 - loss: 0.0760 - acc: 0.9708"
          ],
          "name": "stdout"
        },
        {
          "output_type": "stream",
          "text": [
            "102112/102124 [============================>.] - ETA: 0s - loss: 0.0734 - acc: 0.9728"
          ],
          "name": "stdout"
        },
        {
          "output_type": "stream",
          "text": [
            "102124/102124 [==============================] - 616s 6ms/step - loss: 0.0734 - acc: 0.9728 - val_loss: 0.0564 - val_acc: 0.9766\n",
            "Epoch 16/32\n",
            " 13984/102124 [===>..........................] - ETA: 8:14 - loss: 0.0684 - acc: 0.9750"
          ],
          "name": "stdout"
        },
        {
          "output_type": "stream",
          "text": [
            "102112/102124 [============================>.] - ETA: 0s - loss: 0.0731 - acc: 0.9734"
          ],
          "name": "stdout"
        },
        {
          "output_type": "stream",
          "text": [
            "102124/102124 [==============================] - 616s 6ms/step - loss: 0.0731 - acc: 0.9734 - val_loss: 0.0546 - val_acc: 0.9771\n",
            "roc-auc: 0.9718 - roc-auc_val: 0.9681                                                                                                    \n",
            "Epoch 17/32\n",
            "  8704/102124 [=>............................] - ETA: 8:43 - loss: 0.0672 - acc: 0.9747"
          ],
          "name": "stdout"
        },
        {
          "output_type": "stream",
          "text": [
            "102112/102124 [============================>.] - ETA: 0s - loss: 0.0701 - acc: 0.9736"
          ],
          "name": "stdout"
        },
        {
          "output_type": "stream",
          "text": [
            "102124/102124 [==============================] - 615s 6ms/step - loss: 0.0701 - acc: 0.9736 - val_loss: 0.0549 - val_acc: 0.9775\n",
            "Epoch 18/32\n",
            " 13856/102124 [===>..........................] - ETA: 8:39 - loss: 0.0697 - acc: 0.9743"
          ],
          "name": "stdout"
        },
        {
          "output_type": "stream",
          "text": [
            " 63680/102124 [=================>............] - ETA: 3:45 - loss: 0.0702 - acc: 0.9734"
          ],
          "name": "stdout"
        },
        {
          "output_type": "stream",
          "text": [
            "102112/102124 [============================>.] - ETA: 0s - loss: 0.0695 - acc: 0.9738"
          ],
          "name": "stdout"
        },
        {
          "output_type": "stream",
          "text": [
            "102124/102124 [==============================] - 636s 6ms/step - loss: 0.0695 - acc: 0.9738 - val_loss: 0.0542 - val_acc: 0.9779\n",
            "roc-auc: 0.9695 - roc-auc_val: 0.966                                                                                                    \n",
            "Epoch 19/32\n",
            "  8736/102124 [=>............................] - ETA: 8:45 - loss: 0.0655 - acc: 0.9753"
          ],
          "name": "stdout"
        },
        {
          "output_type": "stream",
          "text": [
            " 45952/102124 [============>.................] - ETA: 5:22 - loss: 0.0676 - acc: 0.9745"
          ],
          "name": "stdout"
        },
        {
          "output_type": "stream",
          "text": [
            "102112/102124 [============================>.] - ETA: 0s - loss: 0.0681 - acc: 0.9736"
          ],
          "name": "stdout"
        },
        {
          "output_type": "stream",
          "text": [
            "102124/102124 [==============================] - 635s 6ms/step - loss: 0.0681 - acc: 0.9736 - val_loss: 0.0644 - val_acc: 0.9705\n",
            "Epoch 20/32\n",
            " 13888/102124 [===>..........................] - ETA: 8:39 - loss: 0.0675 - acc: 0.9739"
          ],
          "name": "stdout"
        },
        {
          "output_type": "stream",
          "text": [
            " 56640/102124 [===============>..............] - ETA: 4:28 - loss: 0.0673 - acc: 0.9747"
          ],
          "name": "stdout"
        },
        {
          "output_type": "stream",
          "text": [
            " 96288/102124 [===========================>..] - ETA: 34s - loss: 0.0672 - acc: 0.9745"
          ],
          "name": "stdout"
        },
        {
          "output_type": "stream",
          "text": [
            "102124/102124 [==============================] - 642s 6ms/step - loss: 0.0671 - acc: 0.9746 - val_loss: 0.0551 - val_acc: 0.9772\n",
            "\n",
            "Epoch 00020: ReduceLROnPlateau reducing learning rate to 6.934809061931446e-05.\n",
            "roc-auc: 0.9706 - roc-auc_val: 0.9682                                                                                                    \n",
            "Epoch 21/32\n",
            "  5984/102124 [>.............................] - ETA: 9:25 - loss: 0.0644 - acc: 0.9760"
          ],
          "name": "stdout"
        },
        {
          "output_type": "stream",
          "text": [
            " 59168/102124 [================>.............] - ETA: 4:13 - loss: 0.0666 - acc: 0.9748"
          ],
          "name": "stdout"
        },
        {
          "output_type": "stream",
          "text": [
            "102112/102124 [============================>.] - ETA: 0s - loss: 0.0666 - acc: 0.9746"
          ],
          "name": "stdout"
        },
        {
          "output_type": "stream",
          "text": [
            "102124/102124 [==============================] - 641s 6ms/step - loss: 0.0666 - acc: 0.9746 - val_loss: 0.0545 - val_acc: 0.9782\n",
            "Epoch 22/32\n",
            " 13984/102124 [===>..........................] - ETA: 8:32 - loss: 0.0695 - acc: 0.9749"
          ],
          "name": "stdout"
        },
        {
          "output_type": "stream",
          "text": [
            " 53472/102124 [==============>...............] - ETA: 4:44 - loss: 0.0663 - acc: 0.9750"
          ],
          "name": "stdout"
        },
        {
          "output_type": "stream",
          "text": [
            " 97440/102124 [===========================>..] - ETA: 27s - loss: 0.0666 - acc: 0.9746"
          ],
          "name": "stdout"
        },
        {
          "output_type": "stream",
          "text": [
            "102124/102124 [==============================] - 639s 6ms/step - loss: 0.0665 - acc: 0.9746 - val_loss: 0.0576 - val_acc: 0.9757\n",
            "roc-auc: 0.973 - roc-auc_val: 0.9703                                                                                                    \n",
            "Epoch 23/32\n",
            "  7616/102124 [=>............................] - ETA: 9:06 - loss: 0.0640 - acc: 0.9745"
          ],
          "name": "stdout"
        },
        {
          "output_type": "stream",
          "text": [
            "102112/102124 [============================>.] - ETA: 0s - loss: 0.0648 - acc: 0.9745"
          ],
          "name": "stdout"
        },
        {
          "output_type": "stream",
          "text": [
            "102124/102124 [==============================] - 634s 6ms/step - loss: 0.0647 - acc: 0.9745 - val_loss: 0.0535 - val_acc: 0.9775\n",
            "Epoch 24/32\n",
            " 13984/102124 [===>..........................] - ETA: 8:31 - loss: 0.0674 - acc: 0.9756"
          ],
          "name": "stdout"
        },
        {
          "output_type": "stream",
          "text": [
            "102112/102124 [============================>.] - ETA: 0s - loss: 0.0648 - acc: 0.9754"
          ],
          "name": "stdout"
        },
        {
          "output_type": "stream",
          "text": [
            "102124/102124 [==============================] - 632s 6ms/step - loss: 0.0648 - acc: 0.9754 - val_loss: 0.0529 - val_acc: 0.9795\n",
            "roc-auc: 0.9729 - roc-auc_val: 0.9705                                                                                                    \n",
            "Epoch 25/32\n",
            "  8704/102124 [=>............................] - ETA: 9:01 - loss: 0.0640 - acc: 0.9759"
          ],
          "name": "stdout"
        },
        {
          "output_type": "stream",
          "text": [
            " 63072/102124 [=================>............] - ETA: 3:49 - loss: 0.0641 - acc: 0.9754"
          ],
          "name": "stdout"
        },
        {
          "output_type": "stream",
          "text": [
            "102112/102124 [============================>.] - ETA: 0s - loss: 0.0636 - acc: 0.9756"
          ],
          "name": "stdout"
        },
        {
          "output_type": "stream",
          "text": [
            "102124/102124 [==============================] - 640s 6ms/step - loss: 0.0636 - acc: 0.9756 - val_loss: 0.0519 - val_acc: 0.9794\n",
            "Epoch 26/32\n",
            " 13824/102124 [===>..........................] - ETA: 8:41 - loss: 0.0633 - acc: 0.9759"
          ],
          "name": "stdout"
        },
        {
          "output_type": "stream",
          "text": [
            " 76896/102124 [=====================>........] - ETA: 2:29 - loss: 0.0636 - acc: 0.9755"
          ],
          "name": "stdout"
        },
        {
          "output_type": "stream",
          "text": [
            "102124/102124 [==============================] - 647s 6ms/step - loss: 0.0633 - acc: 0.9754 - val_loss: 0.0513 - val_acc: 0.9783\n",
            "roc-auc: 0.9722 - roc-auc_val: 0.9714                                                                                                    \n",
            "Epoch 27/32\n",
            "  2720/102124 [..............................] - ETA: 9:47 - loss: 0.0718 - acc: 0.9748"
          ],
          "name": "stdout"
        },
        {
          "output_type": "stream",
          "text": [
            " 50944/102124 [=============>................] - ETA: 5:02 - loss: 0.0609 - acc: 0.9764"
          ],
          "name": "stdout"
        },
        {
          "output_type": "stream",
          "text": [
            " 89312/102124 [=========================>....] - ETA: 1:16 - loss: 0.0621 - acc: 0.9762"
          ],
          "name": "stdout"
        },
        {
          "output_type": "stream",
          "text": [
            "102124/102124 [==============================] - 648s 6ms/step - loss: 0.0620 - acc: 0.9762 - val_loss: 0.0542 - val_acc: 0.9794\n",
            "Epoch 28/32\n",
            "  8960/102124 [=>............................] - ETA: 9:04 - loss: 0.0620 - acc: 0.9766"
          ],
          "name": "stdout"
        },
        {
          "output_type": "stream",
          "text": [
            " 48000/102124 [=============>................] - ETA: 5:17 - loss: 0.0624 - acc: 0.9760"
          ],
          "name": "stdout"
        },
        {
          "output_type": "stream",
          "text": [
            " 84736/102124 [=======================>......] - ETA: 1:42 - loss: 0.0624 - acc: 0.9760"
          ],
          "name": "stdout"
        },
        {
          "output_type": "stream",
          "text": [
            "102124/102124 [==============================] - 640s 6ms/step - loss: 0.0626 - acc: 0.9759 - val_loss: 0.0529 - val_acc: 0.9777\n",
            "roc-auc: 0.9741 - roc-auc_val: 0.9719                                                                                                    \n",
            "Epoch 29/32\n",
            "  4576/102124 [>.............................] - ETA: 9:38 - loss: 0.0574 - acc: 0.9774"
          ],
          "name": "stdout"
        },
        {
          "output_type": "stream",
          "text": [
            " 63104/102124 [=================>............] - ETA: 3:52 - loss: 0.0633 - acc: 0.9758"
          ],
          "name": "stdout"
        },
        {
          "output_type": "stream",
          "text": [
            "102112/102124 [============================>.] - ETA: 0s - loss: 0.0626 - acc: 0.9762"
          ],
          "name": "stdout"
        },
        {
          "output_type": "stream",
          "text": [
            "102124/102124 [==============================] - 647s 6ms/step - loss: 0.0626 - acc: 0.9762 - val_loss: 0.0511 - val_acc: 0.9793\n",
            "Epoch 30/32\n",
            " 13984/102124 [===>..........................] - ETA: 8:41 - loss: 0.0637 - acc: 0.9757"
          ],
          "name": "stdout"
        },
        {
          "output_type": "stream",
          "text": [
            " 60192/102124 [================>.............] - ETA: 4:09 - loss: 0.0626 - acc: 0.9762"
          ],
          "name": "stdout"
        },
        {
          "output_type": "stream",
          "text": [
            " 98336/102124 [===========================>..] - ETA: 22s - loss: 0.0627 - acc: 0.9762"
          ],
          "name": "stdout"
        },
        {
          "output_type": "stream",
          "text": [
            "102124/102124 [==============================] - 649s 6ms/step - loss: 0.0626 - acc: 0.9762 - val_loss: 0.0519 - val_acc: 0.9791\n",
            "roc-auc: 0.9739 - roc-auc_val: 0.9719                                                                                                    \n",
            "Epoch 31/32\n",
            "  7808/102124 [=>............................] - ETA: 9:12 - loss: 0.0626 - acc: 0.9754"
          ],
          "name": "stdout"
        },
        {
          "output_type": "stream",
          "text": [
            " 55456/102124 [===============>..............] - ETA: 4:35 - loss: 0.0621 - acc: 0.9767"
          ],
          "name": "stdout"
        },
        {
          "output_type": "stream",
          "text": [
            " 92096/102124 [==========================>...] - ETA: 59s - loss: 0.0617 - acc: 0.9766"
          ],
          "name": "stdout"
        },
        {
          "output_type": "stream",
          "text": [
            "102124/102124 [==============================] - 643s 6ms/step - loss: 0.0617 - acc: 0.9766 - val_loss: 0.0511 - val_acc: 0.9798\n",
            "\n",
            "Epoch 00031: ReduceLROnPlateau reducing learning rate to 2.209708691225387e-05.\n",
            "Epoch 32/32\n",
            "  7392/102124 [=>............................] - ETA: 9:22 - loss: 0.0648 - acc: 0.9769"
          ],
          "name": "stdout"
        },
        {
          "output_type": "stream",
          "text": [
            " 54976/102124 [===============>..............] - ETA: 4:39 - loss: 0.0620 - acc: 0.9767"
          ],
          "name": "stdout"
        },
        {
          "output_type": "stream",
          "text": [
            " 91552/102124 [=========================>....] - ETA: 1:02 - loss: 0.0623 - acc: 0.9765"
          ],
          "name": "stdout"
        },
        {
          "output_type": "stream",
          "text": [
            "102124/102124 [==============================] - 644s 6ms/step - loss: 0.0625 - acc: 0.9764 - val_loss: 0.0510 - val_acc: 0.9795\n",
            "roc-auc: 0.9754 - roc-auc_val: 0.9729                                                                                                    \n"
          ],
          "name": "stdout"
        }
      ]
    },
    {
      "metadata": {
        "id": "sms3R-U4469B",
        "colab_type": "code",
        "colab": {
          "autoexec": {
            "startup": false,
            "wait_interval": 0
          },
          "base_uri": "https://localhost:8080/",
          "height": 293
        },
        "outputId": "a3ed5597-7f31-484c-d94f-c7e4006aa4e1",
        "executionInfo": {
          "status": "ok",
          "timestamp": 1530231355960,
          "user_tz": -120,
          "elapsed": 3236,
          "user": {
            "displayName": "Deep Learning",
            "photoUrl": "https://lh3.googleusercontent.com/a/default-user=s128",
            "userId": "115257841230779963257"
          }
        }
      },
      "cell_type": "code",
      "source": [
        "plot_history(history)"
      ],
      "execution_count": 14,
      "outputs": [
        {
          "output_type": "display_data",
          "data": {
            "image/png": "[encoded data removed]",
            "text/plain": [
              "<matplotlib.figure.Figure at 0x7f2c96536470>"
            ]
          },
          "metadata": {
            "tags": []
          }
        }
      ]
    },
    {
      "metadata": {
        "id": "r2gtMBj2Tp9A",
        "colab_type": "code",
        "colab": {
          "autoexec": {
            "startup": false,
            "wait_interval": 0
          },
          "base_uri": "https://localhost:8080/",
          "height": 52
        },
        "outputId": "6d198fcd-af77-41a2-f9af-c2c870dc0ad1",
        "executionInfo": {
          "status": "ok",
          "timestamp": 1530231461594,
          "user_tz": -120,
          "elapsed": 104231,
          "user": {
            "displayName": "Deep Learning",
            "photoUrl": "https://lh3.googleusercontent.com/a/default-user=s128",
            "userId": "115257841230779963257"
          }
        }
      },
      "cell_type": "code",
      "source": [
        "print(evaluate_on_test(model))"
      ],
      "execution_count": 15,
      "outputs": [
        {
          "output_type": "stream",
          "text": [
            "31915/31915 [==============================] - 54s 2ms/step\n",
            "([0.05013177567211957, 0.9804689437771934], 0.975156371078949)\n"
          ],
          "name": "stdout"
        }
      ]
    }
  ]
}
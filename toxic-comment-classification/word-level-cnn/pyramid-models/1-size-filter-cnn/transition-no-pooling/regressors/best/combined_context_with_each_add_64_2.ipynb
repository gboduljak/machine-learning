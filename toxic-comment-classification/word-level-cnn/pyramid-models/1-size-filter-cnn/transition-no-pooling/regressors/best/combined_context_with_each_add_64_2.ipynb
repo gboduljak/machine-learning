{
 "cells": [
  {
   "cell_type": "code",
   "execution_count": 1,
   "metadata": {
    "colab": {
     "autoexec": {
      "startup": false,
      "wait_interval": 0
     },
     "base_uri": "https://localhost:8080/",
     "height": 411
    },
    "colab_type": "code",
    "executionInfo": {
     "elapsed": 13701,
     "status": "ok",
     "timestamp": 1530813597729,
     "user": {
      "displayName": "Deep Learner",
      "photoUrl": "https://lh3.googleusercontent.com/a/default-user=s128",
      "userId": "102934620980301123540"
     },
     "user_tz": -120
    },
    "id": "yS1FnhiWX3Js",
    "outputId": "7c307a45-ab71-4434-bfb3-35fb8d00c22d"
   },
   "outputs": [
    {
     "name": "stdout",
     "output_type": "stream",
     "text": [
      "Requirement already satisfied: keras in /usr/local/lib/python3.6/dist-packages (2.1.6)\n",
      "Requirement already satisfied: six>=1.9.0 in /usr/local/lib/python3.6/dist-packages (from keras) (1.11.0)\n",
      "Requirement already satisfied: numpy>=1.9.1 in /usr/local/lib/python3.6/dist-packages (from keras) (1.14.5)\n",
      "Requirement already satisfied: h5py in /usr/local/lib/python3.6/dist-packages (from keras) (2.8.0)\n",
      "Requirement already satisfied: pyyaml in /usr/local/lib/python3.6/dist-packages (from keras) (3.12)\n",
      "Requirement already satisfied: scipy>=0.14 in /usr/local/lib/python3.6/dist-packages (from keras) (0.19.1)\n",
      "Collecting sklearn\n",
      "  Downloading https://files.pythonhosted.org/packages/1e/7a/dbb3be0ce9bd5c8b7e3d87328e79063f8b263b2b1bfa4774cb1147bfcd3f/sklearn-0.0.tar.gz\n",
      "Requirement already satisfied: scikit-learn in /usr/local/lib/python3.6/dist-packages (from sklearn) (0.19.1)\n",
      "Building wheels for collected packages: sklearn\n",
      "  Running setup.py bdist_wheel for sklearn ... \u001b[?25l-\b \b\\\b \bdone\n",
      "\u001b[?25h  Stored in directory: /content/.cache/pip/wheels/76/03/bb/589d421d27431bcd2c6da284d5f2286c8e3b2ea3cf1594c074\n",
      "Successfully built sklearn\n",
      "Installing collected packages: sklearn\n",
      "Successfully installed sklearn-0.0\n",
      "Requirement already satisfied: matplotlib in /usr/local/lib/python3.6/dist-packages (2.1.2)\n",
      "Requirement already satisfied: pytz in /usr/local/lib/python3.6/dist-packages (from matplotlib) (2018.5)\n",
      "Requirement already satisfied: python-dateutil>=2.1 in /usr/local/lib/python3.6/dist-packages (from matplotlib) (2.5.3)\n",
      "Requirement already satisfied: cycler>=0.10 in /usr/local/lib/python3.6/dist-packages (from matplotlib) (0.10.0)\n",
      "Requirement already satisfied: pyparsing!=2.0.4,!=2.1.2,!=2.1.6,>=2.0.1 in /usr/local/lib/python3.6/dist-packages (from matplotlib) (2.2.0)\n",
      "Requirement already satisfied: six>=1.10 in /usr/local/lib/python3.6/dist-packages (from matplotlib) (1.11.0)\n",
      "Requirement already satisfied: numpy>=1.7.1 in /usr/local/lib/python3.6/dist-packages (from matplotlib) (1.14.5)\n"
     ]
    }
   ],
   "source": [
    "!pip install keras\n",
    "!pip install sklearn\n",
    "!pip install matplotlib\n",
    "!pip install -U -q PyDrive"
   ]
  },
  {
   "cell_type": "code",
   "execution_count": 2,
   "metadata": {
    "colab": {
     "autoexec": {
      "startup": false,
      "wait_interval": 0
     },
     "base_uri": "https://localhost:8080/",
     "height": 34
    },
    "colab_type": "code",
    "executionInfo": {
     "elapsed": 8845,
     "status": "ok",
     "timestamp": 1530813606781,
     "user": {
      "displayName": "Deep Learner",
      "photoUrl": "https://lh3.googleusercontent.com/a/default-user=s128",
      "userId": "102934620980301123540"
     },
     "user_tz": -120
    },
    "id": "xlKzkDJFrjA-",
    "outputId": "3b0fff1a-c1f0-4034-e517-4b9e5f750951"
   },
   "outputs": [
    {
     "name": "stderr",
     "output_type": "stream",
     "text": [
      "Using TensorFlow backend.\n"
     ]
    }
   ],
   "source": [
    "from keras import backend as K\n",
    "K.clear_session()"
   ]
  },
  {
   "cell_type": "code",
   "execution_count": 0,
   "metadata": {
    "colab": {
     "autoexec": {
      "startup": false,
      "wait_interval": 0
     }
    },
    "colab_type": "code",
    "id": "eQEKwl4oAxO7"
   },
   "outputs": [],
   "source": [
    "from keras import backend as K\n",
    "cfg = K.tf.ConfigProto()\n",
    "cfg.gpu_options.allow_growth = True\n",
    "K.set_session(K.tf.Session(config=cfg))"
   ]
  },
  {
   "cell_type": "code",
   "execution_count": 0,
   "metadata": {
    "colab": {
     "autoexec": {
      "startup": false,
      "wait_interval": 0
     }
    },
    "colab_type": "code",
    "id": "12M0egCCX-27"
   },
   "outputs": [],
   "source": [
    "from pydrive.auth import GoogleAuth\n",
    "from pydrive.drive import GoogleDrive\n",
    "from google.colab import auth\n",
    "from oauth2client.client import GoogleCredentials\n",
    "\n",
    "auth.authenticate_user()\n",
    "gauth = GoogleAuth()\n",
    "gauth.credentials = GoogleCredentials.get_application_default()\n",
    "drive = GoogleDrive(gauth)"
   ]
  },
  {
   "cell_type": "code",
   "execution_count": 0,
   "metadata": {
    "colab": {
     "autoexec": {
      "startup": false,
      "wait_interval": 0
     }
    },
    "colab_type": "code",
    "id": "4lN2WTUEYBYv"
   },
   "outputs": [],
   "source": [
    "file_import = drive.CreateFile({'id':'1p1bsltfTcIrZ_kfE6kwGTPzcdXorHbb2'})\n",
    "file_import.GetContentFile('colab_setup.py') \n",
    "from colab_setup import setup\n",
    "\n",
    "setup(drive)"
   ]
  },
  {
   "cell_type": "code",
   "execution_count": 6,
   "metadata": {
    "colab": {
     "autoexec": {
      "startup": false,
      "wait_interval": 0
     },
     "base_uri": "https://localhost:8080/",
     "height": 119
    },
    "colab_type": "code",
    "executionInfo": {
     "elapsed": 1655,
     "status": "ok",
     "timestamp": 1530813669186,
     "user": {
      "displayName": "Deep Learner",
      "photoUrl": "https://lh3.googleusercontent.com/a/default-user=s128",
      "userId": "102934620980301123540"
     },
     "user_tz": -120
    },
    "id": "cHBlD0tVj2TY",
    "outputId": "79366271-d3d4-4172-b14b-a459da50ac32"
   },
   "outputs": [
    {
     "name": "stdout",
     "output_type": "stream",
     "text": [
      "colab_setup.py\t\t\t roc_auc_callback.py\tX_train.npy\r\n",
      "custom_fast_text_embeddings.npy  sample_submission.csv\tX_val.npy\r\n",
      "datalab\t\t\t\t train_model.py\t\ty_test.npy\r\n",
      "fast_text_embeddings.npy\t X_submission.npy\ty_train_full.npy\r\n",
      "plot_history.py\t\t\t X_test.npy\t\ty_train.npy\r\n",
      "__pycache__\t\t\t X_train_full.npy\ty_val.npy\r\n"
     ]
    }
   ],
   "source": [
    "!ls"
   ]
  },
  {
   "cell_type": "code",
   "execution_count": 0,
   "metadata": {
    "colab": {
     "autoexec": {
      "startup": false,
      "wait_interval": 0
     }
    },
    "colab_type": "code",
    "id": "yMwWPTMYXyno"
   },
   "outputs": [],
   "source": [
    "import numpy as np\n",
    "import os\n",
    "\n",
    "from plot_history import plot_history\n",
    "from roc_auc_callback import RocAucCallback\n",
    "from train_model import train_with_cv, train_with_submitting, evaluate_on_test\n",
    "\n",
    "from keras.models import Model\n",
    "from keras.layers import *\n",
    "from keras.layers.merge import concatenate"
   ]
  },
  {
   "cell_type": "code",
   "execution_count": 0,
   "metadata": {
    "colab": {
     "autoexec": {
      "startup": false,
      "wait_interval": 0
     }
    },
    "colab_type": "code",
    "id": "3YXiQ6IRovcY"
   },
   "outputs": [],
   "source": [
    "file_import = drive.CreateFile({'id':'15j1Nou6m5WNLejJQrUcty6U03xsIgIAI'})\n",
    "file_import.GetContentFile('SelfAttention.py') \n",
    "\n",
    "from SelfAttention import SelfAttention"
   ]
  },
  {
   "cell_type": "code",
   "execution_count": 0,
   "metadata": {
    "colab": {
     "autoexec": {
      "startup": false,
      "wait_interval": 0
     }
    },
    "colab_type": "code",
    "id": "MIWjPi9bs5d4"
   },
   "outputs": [],
   "source": [
    "def one_by_one(filtersNumber, inputLayer, dropout = 0.2):\n",
    "    one_by_one = Conv1D(filtersNumber, 1, activation = 'elu', padding = 'same', kernel_initializer = 'he_uniform')(inputLayer)\n",
    "    one_by_one = BatchNormalization()(one_by_one)\n",
    "    one_by_one = SpatialDropout1D(dropout)(one_by_one)\n",
    "    \n",
    "    return one_by_one"
   ]
  },
  {
   "cell_type": "code",
   "execution_count": 0,
   "metadata": {
    "colab": {
     "autoexec": {
      "startup": false,
      "wait_interval": 0
     }
    },
    "colab_type": "code",
    "id": "mRg7bBAFoL7b"
   },
   "outputs": [],
   "source": [
    "def yoon_kim_feature_extractor(filtersNumber, inputLayer):\n",
    "    block_1_conv_1 = Conv1D(filtersNumber, 1, activation = 'elu', padding = 'same', kernel_initializer = 'he_uniform')(inputLayer)\n",
    "    block_1_batchnorm1 = BatchNormalization()(block_1_conv_1)\n",
    "    block_1_max_pool1 = GlobalMaxPooling1D()(block_1_batchnorm1)\n",
    "\n",
    "    block_1_conv_2 = Conv1D(filtersNumber, 2, activation = 'elu', padding = 'same', kernel_initializer = 'he_uniform')(inputLayer)\n",
    "    block_1_batchnorm2 = BatchNormalization()(block_1_conv_2)\n",
    "    block_1_max_pool2 = GlobalMaxPooling1D()(block_1_batchnorm2)\n",
    "\n",
    "    block_1_conv_3 = Conv1D(filtersNumber, 3, activation = 'elu', padding = 'same', kernel_initializer = 'he_uniform')(inputLayer)\n",
    "    block_1_batchnorm3 = BatchNormalization()(block_1_conv_3)\n",
    "    block_1_max_pool3 = GlobalMaxPooling1D()(block_1_batchnorm3)\n",
    "\n",
    "    block_1_conv_4 = Conv1D(filtersNumber, 5, activation = 'elu', padding = 'same', kernel_initializer = 'he_uniform')(inputLayer)\n",
    "    block_1_batchnorm4 = BatchNormalization()(block_1_conv_4)\n",
    "    block_1_max_pool4 = GlobalMaxPooling1D()(block_1_batchnorm4)\n",
    "\n",
    "    block_1_features = concatenate([\n",
    "        block_1_max_pool1, \n",
    "        block_1_max_pool2, \n",
    "        block_1_max_pool3, \n",
    "        block_1_max_pool4\n",
    "    ])\n",
    "    block_1_features = Dropout(0.2)(block_1_features)\n",
    "    return block_1_features"
   ]
  },
  {
   "cell_type": "code",
   "execution_count": 0,
   "metadata": {
    "colab": {
     "autoexec": {
      "startup": false,
      "wait_interval": 0
     }
    },
    "colab_type": "code",
    "id": "2t9jNZJXg6Zz"
   },
   "outputs": [],
   "source": [
    "def single_category_regressor(features, context, context2, unitsNumber = 64):\n",
    "    features = concatenate([features, context])\n",
    "    \n",
    "    dense_1 = Dense(unitsNumber, activation = 'elu')(features)\n",
    "    dense_1_normalization = BatchNormalization()(dense_1)\n",
    "    dense_1_dropout = Dropout(0.2)(dense_1_normalization)\n",
    "\n",
    "    features = concatenate([dense_1_dropout, context2])\n",
    "\n",
    "    dense_2 = Dense(unitsNumber, activation = 'elu')(features)\n",
    "    dense_2_normalization = BatchNormalization()(dense_2)\n",
    "    dense_2_dropout = Dropout(0.2)(dense_2_normalization)\n",
    "    \n",
    "    return Dense(1, activation='sigmoid')(dense_2_dropout)"
   ]
  },
  {
   "cell_type": "code",
   "execution_count": 12,
   "metadata": {
    "colab": {
     "autoexec": {
      "startup": false,
      "wait_interval": 0
     },
     "base_uri": "https://localhost:8080/",
     "height": 3706
    },
    "colab_type": "code",
    "executionInfo": {
     "elapsed": 5053,
     "status": "ok",
     "timestamp": 1530813684803,
     "user": {
      "displayName": "Deep Learner",
      "photoUrl": "https://lh3.googleusercontent.com/a/default-user=s128",
      "userId": "102934620980301123540"
     },
     "user_tz": -120
    },
    "id": "LTFG7OgsXynw",
    "outputId": "7f58fd13-94d7-4c43-891e-392b466768a3"
   },
   "outputs": [
    {
     "name": "stdout",
     "output_type": "stream",
     "text": [
      "__________________________________________________________________________________________________\n",
      "Layer (type)                    Output Shape         Param #     Connected to                     \n",
      "==================================================================================================\n",
      "input_1 (InputLayer)            (None, 400)          0                                            \n",
      "__________________________________________________________________________________________________\n",
      "embedding_1 (Embedding)         (None, 400, 300)     9000000     input_1[0][0]                    \n",
      "__________________________________________________________________________________________________\n",
      "embedding_2 (Embedding)         (None, 400, 300)     9000000     input_1[0][0]                    \n",
      "__________________________________________________________________________________________________\n",
      "spatial_dropout1d_1 (SpatialDro (None, 400, 300)     0           embedding_1[0][0]                \n",
      "__________________________________________________________________________________________________\n",
      "spatial_dropout1d_2 (SpatialDro (None, 400, 300)     0           embedding_2[0][0]                \n",
      "__________________________________________________________________________________________________\n",
      "average_1 (Average)             (None, 400, 300)     0           spatial_dropout1d_1[0][0]        \n",
      "                                                                 spatial_dropout1d_2[0][0]        \n",
      "__________________________________________________________________________________________________\n",
      "spatial_dropout1d_3 (SpatialDro (None, 400, 300)     0           average_1[0][0]                  \n",
      "__________________________________________________________________________________________________\n",
      "self_attention_1 (SelfAttention (None, 400, 300)     90601       spatial_dropout1d_3[0][0]        \n",
      "__________________________________________________________________________________________________\n",
      "conv1d_1 (Conv1D)               (None, 400, 300)     90300       self_attention_1[0][0]           \n",
      "__________________________________________________________________________________________________\n",
      "batch_normalization_1 (BatchNor (None, 400, 300)     1200        conv1d_1[0][0]                   \n",
      "__________________________________________________________________________________________________\n",
      "spatial_dropout1d_4 (SpatialDro (None, 400, 300)     0           batch_normalization_1[0][0]      \n",
      "__________________________________________________________________________________________________\n",
      "conv1d_2 (Conv1D)               (None, 400, 300)     90300       spatial_dropout1d_4[0][0]        \n",
      "__________________________________________________________________________________________________\n",
      "batch_normalization_2 (BatchNor (None, 400, 300)     1200        conv1d_2[0][0]                   \n",
      "__________________________________________________________________________________________________\n",
      "spatial_dropout1d_5 (SpatialDro (None, 400, 300)     0           batch_normalization_2[0][0]      \n",
      "__________________________________________________________________________________________________\n",
      "conv1d_3 (Conv1D)               (None, 400, 300)     90300       spatial_dropout1d_5[0][0]        \n",
      "__________________________________________________________________________________________________\n",
      "batch_normalization_3 (BatchNor (None, 400, 300)     1200        conv1d_3[0][0]                   \n",
      "__________________________________________________________________________________________________\n",
      "spatial_dropout1d_6 (SpatialDro (None, 400, 300)     0           batch_normalization_3[0][0]      \n",
      "__________________________________________________________________________________________________\n",
      "conv1d_4 (Conv1D)               (None, 400, 300)     90300       spatial_dropout1d_6[0][0]        \n",
      "__________________________________________________________________________________________________\n",
      "conv1d_5 (Conv1D)               (None, 400, 300)     180300      spatial_dropout1d_6[0][0]        \n",
      "__________________________________________________________________________________________________\n",
      "conv1d_6 (Conv1D)               (None, 400, 300)     270300      spatial_dropout1d_6[0][0]        \n",
      "__________________________________________________________________________________________________\n",
      "conv1d_7 (Conv1D)               (None, 400, 300)     450300      spatial_dropout1d_6[0][0]        \n",
      "__________________________________________________________________________________________________\n",
      "batch_normalization_4 (BatchNor (None, 400, 300)     1200        conv1d_4[0][0]                   \n",
      "__________________________________________________________________________________________________\n",
      "batch_normalization_5 (BatchNor (None, 400, 300)     1200        conv1d_5[0][0]                   \n",
      "__________________________________________________________________________________________________\n",
      "batch_normalization_6 (BatchNor (None, 400, 300)     1200        conv1d_6[0][0]                   \n",
      "__________________________________________________________________________________________________\n",
      "batch_normalization_7 (BatchNor (None, 400, 300)     1200        conv1d_7[0][0]                   \n",
      "__________________________________________________________________________________________________\n",
      "global_max_pooling1d_1 (GlobalM (None, 300)          0           batch_normalization_4[0][0]      \n",
      "__________________________________________________________________________________________________\n",
      "global_max_pooling1d_2 (GlobalM (None, 300)          0           batch_normalization_5[0][0]      \n",
      "__________________________________________________________________________________________________\n",
      "global_max_pooling1d_3 (GlobalM (None, 300)          0           batch_normalization_6[0][0]      \n",
      "__________________________________________________________________________________________________\n",
      "global_max_pooling1d_4 (GlobalM (None, 300)          0           batch_normalization_7[0][0]      \n",
      "__________________________________________________________________________________________________\n",
      "concatenate_1 (Concatenate)     (None, 1200)         0           global_max_pooling1d_1[0][0]     \n",
      "                                                                 global_max_pooling1d_2[0][0]     \n",
      "                                                                 global_max_pooling1d_3[0][0]     \n",
      "                                                                 global_max_pooling1d_4[0][0]     \n",
      "__________________________________________________________________________________________________\n",
      "dropout_1 (Dropout)             (None, 1200)         0           concatenate_1[0][0]              \n",
      "__________________________________________________________________________________________________\n",
      "dense_3 (Dense)                 (None, 256)          307456      dropout_1[0][0]                  \n",
      "__________________________________________________________________________________________________\n",
      "batch_normalization_8 (BatchNor (None, 256)          1024        dense_3[0][0]                    \n",
      "__________________________________________________________________________________________________\n",
      "dropout_2 (Dropout)             (None, 256)          0           batch_normalization_8[0][0]      \n",
      "__________________________________________________________________________________________________\n",
      "concatenate_2 (Concatenate)     (None, 1456)         0           dropout_1[0][0]                  \n",
      "                                                                 dropout_2[0][0]                  \n",
      "__________________________________________________________________________________________________\n",
      "concatenate_4 (Concatenate)     (None, 1456)         0           dropout_1[0][0]                  \n",
      "                                                                 dropout_2[0][0]                  \n",
      "__________________________________________________________________________________________________\n",
      "concatenate_6 (Concatenate)     (None, 1456)         0           dropout_1[0][0]                  \n",
      "                                                                 dropout_2[0][0]                  \n",
      "__________________________________________________________________________________________________\n",
      "concatenate_8 (Concatenate)     (None, 1456)         0           dropout_1[0][0]                  \n",
      "                                                                 dropout_2[0][0]                  \n",
      "__________________________________________________________________________________________________\n",
      "concatenate_10 (Concatenate)    (None, 1456)         0           dropout_1[0][0]                  \n",
      "                                                                 dropout_2[0][0]                  \n",
      "__________________________________________________________________________________________________\n",
      "concatenate_12 (Concatenate)    (None, 1456)         0           dropout_1[0][0]                  \n",
      "                                                                 dropout_2[0][0]                  \n",
      "__________________________________________________________________________________________________\n",
      "dense_4 (Dense)                 (None, 256)          65792       dropout_2[0][0]                  \n",
      "__________________________________________________________________________________________________\n",
      "dense_6 (Dense)                 (None, 64)           93248       concatenate_2[0][0]              \n",
      "__________________________________________________________________________________________________\n",
      "dense_9 (Dense)                 (None, 64)           93248       concatenate_4[0][0]              \n",
      "__________________________________________________________________________________________________\n",
      "dense_12 (Dense)                (None, 64)           93248       concatenate_6[0][0]              \n",
      "__________________________________________________________________________________________________\n",
      "dense_15 (Dense)                (None, 64)           93248       concatenate_8[0][0]              \n",
      "__________________________________________________________________________________________________\n",
      "dense_18 (Dense)                (None, 64)           93248       concatenate_10[0][0]             \n",
      "__________________________________________________________________________________________________\n",
      "dense_21 (Dense)                (None, 64)           93248       concatenate_12[0][0]             \n",
      "__________________________________________________________________________________________________\n",
      "batch_normalization_9 (BatchNor (None, 256)          1024        dense_4[0][0]                    \n",
      "__________________________________________________________________________________________________\n",
      "batch_normalization_10 (BatchNo (None, 64)           256         dense_6[0][0]                    \n",
      "__________________________________________________________________________________________________\n",
      "batch_normalization_12 (BatchNo (None, 64)           256         dense_9[0][0]                    \n",
      "__________________________________________________________________________________________________\n",
      "batch_normalization_14 (BatchNo (None, 64)           256         dense_12[0][0]                   \n",
      "__________________________________________________________________________________________________\n",
      "batch_normalization_16 (BatchNo (None, 64)           256         dense_15[0][0]                   \n",
      "__________________________________________________________________________________________________\n",
      "batch_normalization_18 (BatchNo (None, 64)           256         dense_18[0][0]                   \n",
      "__________________________________________________________________________________________________\n",
      "batch_normalization_20 (BatchNo (None, 64)           256         dense_21[0][0]                   \n",
      "__________________________________________________________________________________________________\n",
      "dropout_3 (Dropout)             (None, 256)          0           batch_normalization_9[0][0]      \n",
      "__________________________________________________________________________________________________\n",
      "dropout_4 (Dropout)             (None, 64)           0           batch_normalization_10[0][0]     \n",
      "__________________________________________________________________________________________________\n",
      "dropout_6 (Dropout)             (None, 64)           0           batch_normalization_12[0][0]     \n",
      "__________________________________________________________________________________________________\n",
      "dropout_8 (Dropout)             (None, 64)           0           batch_normalization_14[0][0]     \n",
      "__________________________________________________________________________________________________\n",
      "dropout_10 (Dropout)            (None, 64)           0           batch_normalization_16[0][0]     \n",
      "__________________________________________________________________________________________________\n",
      "dropout_12 (Dropout)            (None, 64)           0           batch_normalization_18[0][0]     \n",
      "__________________________________________________________________________________________________\n",
      "dropout_14 (Dropout)            (None, 64)           0           batch_normalization_20[0][0]     \n",
      "__________________________________________________________________________________________________\n",
      "concatenate_3 (Concatenate)     (None, 320)          0           dropout_4[0][0]                  \n",
      "                                                                 dropout_3[0][0]                  \n",
      "__________________________________________________________________________________________________\n",
      "concatenate_5 (Concatenate)     (None, 320)          0           dropout_6[0][0]                  \n",
      "                                                                 dropout_3[0][0]                  \n",
      "__________________________________________________________________________________________________\n",
      "concatenate_7 (Concatenate)     (None, 320)          0           dropout_8[0][0]                  \n",
      "                                                                 dropout_3[0][0]                  \n",
      "__________________________________________________________________________________________________\n",
      "concatenate_9 (Concatenate)     (None, 320)          0           dropout_10[0][0]                 \n",
      "                                                                 dropout_3[0][0]                  \n",
      "__________________________________________________________________________________________________\n",
      "concatenate_11 (Concatenate)    (None, 320)          0           dropout_12[0][0]                 \n",
      "                                                                 dropout_3[0][0]                  \n",
      "__________________________________________________________________________________________________\n",
      "concatenate_13 (Concatenate)    (None, 320)          0           dropout_14[0][0]                 \n",
      "                                                                 dropout_3[0][0]                  \n",
      "__________________________________________________________________________________________________\n",
      "dense_7 (Dense)                 (None, 64)           20544       concatenate_3[0][0]              \n",
      "__________________________________________________________________________________________________\n",
      "dense_10 (Dense)                (None, 64)           20544       concatenate_5[0][0]              \n",
      "__________________________________________________________________________________________________\n",
      "dense_13 (Dense)                (None, 64)           20544       concatenate_7[0][0]              \n",
      "__________________________________________________________________________________________________\n",
      "dense_16 (Dense)                (None, 64)           20544       concatenate_9[0][0]              \n",
      "__________________________________________________________________________________________________\n",
      "dense_19 (Dense)                (None, 64)           20544       concatenate_11[0][0]             \n",
      "__________________________________________________________________________________________________\n",
      "dense_22 (Dense)                (None, 64)           20544       concatenate_13[0][0]             \n",
      "__________________________________________________________________________________________________\n",
      "batch_normalization_11 (BatchNo (None, 64)           256         dense_7[0][0]                    \n",
      "__________________________________________________________________________________________________\n",
      "batch_normalization_13 (BatchNo (None, 64)           256         dense_10[0][0]                   \n",
      "__________________________________________________________________________________________________\n",
      "batch_normalization_15 (BatchNo (None, 64)           256         dense_13[0][0]                   \n",
      "__________________________________________________________________________________________________\n",
      "batch_normalization_17 (BatchNo (None, 64)           256         dense_16[0][0]                   \n",
      "__________________________________________________________________________________________________\n",
      "batch_normalization_19 (BatchNo (None, 64)           256         dense_19[0][0]                   \n",
      "__________________________________________________________________________________________________\n",
      "batch_normalization_21 (BatchNo (None, 64)           256         dense_22[0][0]                   \n",
      "__________________________________________________________________________________________________\n",
      "dropout_5 (Dropout)             (None, 64)           0           batch_normalization_11[0][0]     \n",
      "__________________________________________________________________________________________________\n",
      "dropout_7 (Dropout)             (None, 64)           0           batch_normalization_13[0][0]     \n",
      "__________________________________________________________________________________________________\n",
      "dropout_9 (Dropout)             (None, 64)           0           batch_normalization_15[0][0]     \n",
      "__________________________________________________________________________________________________\n",
      "dropout_11 (Dropout)            (None, 64)           0           batch_normalization_17[0][0]     \n",
      "__________________________________________________________________________________________________\n",
      "dropout_13 (Dropout)            (None, 64)           0           batch_normalization_19[0][0]     \n",
      "__________________________________________________________________________________________________\n",
      "dropout_15 (Dropout)            (None, 64)           0           batch_normalization_21[0][0]     \n",
      "__________________________________________________________________________________________________\n",
      "dense_8 (Dense)                 (None, 1)            65          dropout_5[0][0]                  \n",
      "__________________________________________________________________________________________________\n",
      "dense_11 (Dense)                (None, 1)            65          dropout_7[0][0]                  \n",
      "__________________________________________________________________________________________________\n",
      "dense_14 (Dense)                (None, 1)            65          dropout_9[0][0]                  \n",
      "__________________________________________________________________________________________________\n",
      "dense_17 (Dense)                (None, 1)            65          dropout_11[0][0]                 \n",
      "__________________________________________________________________________________________________\n",
      "dense_20 (Dense)                (None, 1)            65          dropout_13[0][0]                 \n",
      "__________________________________________________________________________________________________\n",
      "dense_23 (Dense)                (None, 1)            65          dropout_15[0][0]                 \n",
      "__________________________________________________________________________________________________\n",
      "dense_5 (Dense)                 (None, 6)            1542        dropout_3[0][0]                  \n",
      "__________________________________________________________________________________________________\n",
      "concatenate_14 (Concatenate)    (None, 6)            0           dense_8[0][0]                    \n",
      "                                                                 dense_11[0][0]                   \n",
      "                                                                 dense_14[0][0]                   \n",
      "                                                                 dense_17[0][0]                   \n",
      "                                                                 dense_20[0][0]                   \n",
      "                                                                 dense_23[0][0]                   \n",
      "__________________________________________________________________________________________________\n",
      "add_1 (Add)                     (None, 6)            0           dense_5[0][0]                    \n",
      "                                                                 concatenate_14[0][0]             \n",
      "==================================================================================================\n",
      "Total params: 20,424,153\n",
      "Trainable params: 2,417,393\n",
      "Non-trainable params: 18,006,760\n",
      "__________________________________________________________________________________________________\n"
     ]
    }
   ],
   "source": [
    "maxWords = 30000\n",
    "maxSequenceLengthInWords = 400\n",
    "embeddingDimension = 300\n",
    "filtersNumber = 300\n",
    "\n",
    "input_layer = Input(shape=(maxSequenceLengthInWords,))\n",
    "\n",
    "pretrained_embedding_layer = Embedding(\n",
    "    maxWords, \n",
    "    output_dim=embeddingDimension, \n",
    "    input_length=maxSequenceLengthInWords,\n",
    "    weights = [np.load('fast_text_embeddings.npy')],\n",
    "    trainable = False\n",
    ")(input_layer)\n",
    "pretrained_embedding_layer = SpatialDropout1D(0.2)(pretrained_embedding_layer)\n",
    "\n",
    "custom_embedding_layer = Embedding(\n",
    "    maxWords, \n",
    "    output_dim=embeddingDimension, \n",
    "    input_length=maxSequenceLengthInWords,\n",
    "    weights = [np.load('custom_fast_text_embeddings.npy')],\n",
    "    trainable = False\n",
    ")(input_layer)\n",
    "custom_embedding_layer = SpatialDropout1D(0.2)(custom_embedding_layer)\n",
    "\n",
    "embedding = Average()([pretrained_embedding_layer, custom_embedding_layer])\n",
    "embedding_dropout = SpatialDropout1D(0.2)(embedding)\n",
    "\n",
    "embedding_dropout = SelfAttention()(embedding_dropout)\n",
    "\n",
    "features_1 = one_by_one(filtersNumber, embedding_dropout)\n",
    "features_2 = one_by_one(filtersNumber, features_1)\n",
    "features_3 = one_by_one(filtersNumber, features_2)\n",
    "\n",
    "features = yoon_kim_feature_extractor(filtersNumber, features_3)\n",
    "\n",
    "\n",
    "dense_1 = Dense(256, activation = 'elu')(features)\n",
    "dense_1_normalization = BatchNormalization()(dense_1)\n",
    "dense_1_dropout = Dropout(0.2)(dense_1_normalization)\n",
    "\n",
    "dense_2 = Dense(256, activation = 'elu')(dense_1_dropout)\n",
    "dense_2_normalization = BatchNormalization()(dense_2)\n",
    "dense_2_dropout = Dropout(0.2)(dense_2_normalization)\n",
    "\n",
    "output_layer = Dense(6, activation='sigmoid')(dense_2_dropout)\n",
    "\n",
    "single_category_layer = concatenate([\n",
    "    single_category_regressor(features, dense_1_dropout, dense_2_dropout, 64),\n",
    "    single_category_regressor(features, dense_1_dropout, dense_2_dropout, 64),\n",
    "    single_category_regressor(features, dense_1_dropout, dense_2_dropout, 64),\n",
    "    single_category_regressor(features, dense_1_dropout, dense_2_dropout, 64),\n",
    "    single_category_regressor(features, dense_1_dropout, dense_2_dropout, 64),\n",
    "    single_category_regressor(features, dense_1_dropout, dense_2_dropout, 64),\n",
    "])\n",
    "\n",
    "output_layer = add([output_layer, single_category_layer])\n",
    "\n",
    "model = Model(inputs=[input_layer], outputs=[output_layer])\n",
    "            \n",
    "model.summary()\n",
    "\n",
    "model.compile(\n",
    "    loss='binary_crossentropy', \n",
    "    optimizer='Adam',\n",
    "    metrics=['accuracy']\n",
    ")"
   ]
  },
  {
   "cell_type": "code",
   "execution_count": 17,
   "metadata": {
    "colab": {
     "autoexec": {
      "startup": false,
      "wait_interval": 0
     },
     "base_uri": "https://localhost:8080/",
     "height": 1516
    },
    "colab_type": "code",
    "executionInfo": {
     "elapsed": 23905768,
     "status": "ok",
     "timestamp": 1530772743612,
     "user": {
      "displayName": "Deep Learner",
      "photoUrl": "https://lh3.googleusercontent.com/a/default-user=s128",
      "userId": "102934620980301123540"
     },
     "user_tz": -120
    },
    "id": "xwMmTewgXynz",
    "outputId": "ec48fb63-a971-48da-abb8-1f624ef1b9b7"
   },
   "outputs": [
    {
     "name": "stdout",
     "output_type": "stream",
     "text": [
      "Train on 102124 samples, validate on 25532 samples\n",
      "Epoch 1/32\n",
      "102124/102124 [==============================] - 656s 6ms/step - loss: 1.3984 - acc: 0.8168 - val_loss: 0.1642 - val_acc: 0.9617....] - ETA: 3:43 - loss: 1.9749 - acc: 0.7472102112/102124 [============================>.] - ETA: 0s - loss: 1.3986 - acc: 0.816\n",
      "Epoch 2/32\n",
      " 10144/102124 [=>............................] - ETA: 9:07 - loss: 0.1965 - acc: 0.9540 46752/102124 [============>.................] - ETA: 5:28 - loss: 0.1599 - acc: 0.9589 84608/102124 [=======================>......] - ETA: 1:43 - loss: 0.1349 - acc: 0.9639102124/102124 [==============================] - 646s 6ms/step - loss: 0.1273 - acc: 0.9654 - val_loss: 0.0688 - val_acc: 0.9767\n",
      "roc-auc: 0.9532 - roc-auc_val: 0.9532                                                                                                    \n",
      "Epoch 3/32\n",
      "  4480/102124 [>.............................] - ETA: 9:39 - loss: 0.1022 - acc: 0.9675 54400/102124 [==============>...............] - ETA: 4:43 - loss: 0.0815 - acc: 0.9741 94336/102124 [==========================>...] - ETA: 46s - loss: 0.0778 - acc: 0.9751102124/102124 [==============================] - 648s 6ms/step - loss: 0.0769 - acc: 0.9753 - val_loss: 0.0705 - val_acc: 0.9761\n",
      "Epoch 4/32\n",
      "102124/102124 [==============================] - 648s 6ms/step - loss: 0.0643 - acc: 0.9774 - val_loss: 0.2004 - val_acc: 0.9166....] - ETA: 3:48 - loss: 0.0664 - acc: 0.9769102112/102124 [============================>.] - ETA: 0s - loss: 0.0643 - acc: 0.977\n",
      "\n",
      "Epoch 00004: ReduceLROnPlateau reducing learning rate to 0.00036602141335606575.\n",
      "roc-auc: 0.9534 - roc-auc_val: 0.9516                                                                                                    \n",
      "Epoch 5/32\n",
      "  5920/102124 [>.............................] - ETA: 9:32 - loss: 0.0600 - acc: 0.9780 49120/102124 [=============>................] - ETA: 5:15 - loss: 0.0605 - acc: 0.9783 94272/102124 [==========================>...] - ETA: 46s - loss: 0.0589 - acc: 0.9788102124/102124 [==============================] - 648s 6ms/step - loss: 0.0587 - acc: 0.9788 - val_loss: 0.0667 - val_acc: 0.9787\n",
      "Epoch 6/32\n",
      " 10944/102124 [==>...........................] - ETA: 9:02 - loss: 0.0572 - acc: 0.9795 76416/102124 [=====================>........] - ETA: 2:32 - loss: 0.0544 - acc: 0.9798102124/102124 [==============================] - 647s 6ms/step - loss: 0.0542 - acc: 0.9798 - val_loss: 0.3062 - val_acc: 0.8756\n",
      "roc-auc: 0.9719 - roc-auc_val: 0.972                                                                                                    \n",
      "Epoch 7/32\n",
      "  2528/102124 [..............................] - ETA: 9:56 - loss: 0.0539 - acc: 0.9807 46816/102124 [============>.................] - ETA: 5:29 - loss: 0.0521 - acc: 0.9805 84768/102124 [=======================>......] - ETA: 1:43 - loss: 0.0504 - acc: 0.9811102124/102124 [==============================] - 648s 6ms/step - loss: 0.0503 - acc: 0.9811 - val_loss: 0.0438 - val_acc: 0.9833\n",
      "Epoch 8/32\n",
      "  7296/102124 [=>............................] - ETA: 9:25 - loss: 0.0509 - acc: 0.9799 48576/102124 [=============>................] - ETA: 5:19 - loss: 0.0482 - acc: 0.9815102112/102124 [============================>.] - ETA: 0s - loss: 0.0489 - acc: 0.9812102124/102124 [==============================] - 647s 6ms/step - loss: 0.0489 - acc: 0.9812 - val_loss: 0.0480 - val_acc: 0.9823\n",
      "roc-auc: 0.9882 - roc-auc_val: 0.985                                                                                                    \n",
      "Epoch 9/32\n",
      "  8768/102124 [=>............................] - ETA: 9:14 - loss: 0.0485 - acc: 0.9818 45088/102124 [============>.................] - ETA: 5:39 - loss: 0.0479 - acc: 0.9817102112/102124 [============================>.] - ETA: 0s - loss: 0.0474 - acc: 0.9818102124/102124 [==============================] - 648s 6ms/step - loss: 0.0474 - acc: 0.9818 - val_loss: 0.0441 - val_acc: 0.9830\n",
      "Epoch 10/32\n",
      " 13920/102124 [===>..........................] - ETA: 8:44 - loss: 0.0436 - acc: 0.9832 50624/102124 [=============>................] - ETA: 5:06 - loss: 0.0458 - acc: 0.9821 88992/102124 [=========================>....] - ETA: 1:18 - loss: 0.0463 - acc: 0.9821102124/102124 [==============================] - 648s 6ms/step - loss: 0.0461 - acc: 0.9822 - val_loss: 0.0445 - val_acc: 0.9833\n",
      "roc-auc: 0.9901 - roc-auc_val: 0.9878                                                                                                    \n",
      "Epoch 11/32\n",
      "  5504/102124 [>.............................] - ETA: 9:36 - loss: 0.0447 - acc: 0.9828 54464/102124 [==============>...............] - ETA: 4:43 - loss: 0.0455 - acc: 0.9827 96608/102124 [===========================>..] - ETA: 32s - loss: 0.0455 - acc: 0.9825102124/102124 [==============================] - 646s 6ms/step - loss: 0.0454 - acc: 0.9826 - val_loss: 0.0431 - val_acc: 0.9838\n",
      "Epoch 12/32\n",
      " 11776/102124 [==>...........................] - ETA: 8:57 - loss: 0.0420 - acc: 0.9837 48864/102124 [=============>................] - ETA: 5:16 - loss: 0.0432 - acc: 0.9833 98464/102124 [===========================>..] - ETA: 21s - loss: 0.0439 - acc: 0.9830102124/102124 [==============================] - 648s 6ms/step - loss: 0.0440 - acc: 0.9830 - val_loss: 0.0412 - val_acc: 0.9841\n",
      "roc-auc: 0.9906 - roc-auc_val: 0.9874                                                                                                    \n",
      "Epoch 13/32\n",
      "  7776/102124 [=>............................] - ETA: 9:21 - loss: 0.0415 - acc: 0.9844 50016/102124 [=============>................] - ETA: 5:09 - loss: 0.0434 - acc: 0.9833 91264/102124 [=========================>....] - ETA: 1:04 - loss: 0.0437 - acc: 0.9831102124/102124 [==============================] - 648s 6ms/step - loss: 0.0435 - acc: 0.9831 - val_loss: 0.0408 - val_acc: 0.9842\n",
      "Epoch 14/32\n",
      "  9728/102124 [=>............................] - ETA: 9:08 - loss: 0.0427 - acc: 0.9831 48896/102124 [=============>................] - ETA: 5:16 - loss: 0.0429 - acc: 0.9828102112/102124 [============================>.] - ETA: 0s - loss: 0.0430 - acc: 0.9831102124/102124 [==============================] - 647s 6ms/step - loss: 0.0430 - acc: 0.9831 - val_loss: 0.0415 - val_acc: 0.9845\n",
      "roc-auc: 0.9911 - roc-auc_val: 0.9855                                                                                                    \n",
      "Epoch 15/32\n",
      "102124/102124 [==============================] - 645s 6ms/step - loss: 0.0423 - acc: 0.9836 - val_loss: 0.0409 - val_acc: 0.9843....] - ETA: 4:05 - loss: 0.0428 - acc: 0.9832102112/102124 [============================>.] - ETA: 0s - loss: 0.0423 - acc: 0.983\n",
      "\n",
      "Epoch 00015: ReduceLROnPlateau reducing learning rate to 0.0001166291258414276.\n",
      "Epoch 16/32\n",
      "  8032/102124 [=>............................] - ETA: 9:12 - loss: 0.0410 - acc: 0.9841 53472/102124 [==============>...............] - ETA: 4:45 - loss: 0.0415 - acc: 0.9836 91328/102124 [=========================>....] - ETA: 1:03 - loss: 0.0415 - acc: 0.9836102124/102124 [==============================] - 641s 6ms/step - loss: 0.0416 - acc: 0.9836 - val_loss: 0.0416 - val_acc: 0.9845\n",
      "roc-auc: 0.9913 - roc-auc_val: 0.987                                                                                                    \n",
      "Epoch 17/32\n",
      "  6176/102124 [>.............................] - ETA: 9:26 - loss: 0.0403 - acc: 0.9840 46304/102124 [============>.................] - ETA: 5:29 - loss: 0.0410 - acc: 0.9838 90240/102124 [=========================>....] - ETA: 1:10 - loss: 0.0409 - acc: 0.9840102124/102124 [==============================] - 644s 6ms/step - loss: 0.0410 - acc: 0.9840 - val_loss: 0.0406 - val_acc: 0.9843\n",
      "Epoch 18/32\n",
      "  9376/102124 [=>............................] - ETA: 9:09 - loss: 0.0411 - acc: 0.9838 60736/102124 [================>.............] - ETA: 4:04 - loss: 0.0409 - acc: 0.9838 97376/102124 [===========================>..] - ETA: 28s - loss: 0.0406 - acc: 0.9840102124/102124 [==============================] - 643s 6ms/step - loss: 0.0406 - acc: 0.9839 - val_loss: 0.0406 - val_acc: 0.9845\n",
      "roc-auc: 0.9926 - roc-auc_val: 0.9878                                                                                                    \n",
      "Epoch 19/32\n"
     ]
    },
    {
     "name": "stdout",
     "output_type": "stream",
     "text": [
      "  7520/102124 [=>............................] - ETA: 9:21 - loss: 0.0407 - acc: 0.9841 69408/102124 [===================>..........] - ETA: 3:13 - loss: 0.0398 - acc: 0.9843102124/102124 [==============================] - 644s 6ms/step - loss: 0.0401 - acc: 0.9842 - val_loss: 0.0415 - val_acc: 0.9843\n",
      "Epoch 20/32\n",
      "  1472/102124 [..............................] - ETA: 9:51 - loss: 0.0402 - acc: 0.9851 43072/102124 [===========>..................] - ETA: 5:48 - loss: 0.0401 - acc: 0.9841 95616/102124 [===========================>..] - ETA: 38s - loss: 0.0400 - acc: 0.9841102124/102124 [==============================] - 643s 6ms/step - loss: 0.0402 - acc: 0.9841 - val_loss: 0.0404 - val_acc: 0.9844\n",
      "roc-auc: 0.9935 - roc-auc_val: 0.9876                                                                                                    \n",
      "Epoch 21/32\n",
      "  7104/102124 [=>............................] - ETA: 9:19 - loss: 0.0393 - acc: 0.9851 46944/102124 [============>.................] - ETA: 5:25 - loss: 0.0391 - acc: 0.9847102112/102124 [============================>.] - ETA: 0s - loss: 0.0391 - acc: 0.9846102124/102124 [==============================] - 642s 6ms/step - loss: 0.0391 - acc: 0.9846 - val_loss: 0.0410 - val_acc: 0.9845\n",
      "Epoch 22/32\n",
      " 13888/102124 [===>..........................] - ETA: 8:40 - loss: 0.0406 - acc: 0.9835 55680/102124 [===============>..............] - ETA: 4:33 - loss: 0.0396 - acc: 0.9841 94880/102124 [==========================>...] - ETA: 42s - loss: 0.0390 - acc: 0.9843102124/102124 [==============================] - 643s 6ms/step - loss: 0.0391 - acc: 0.9843 - val_loss: 0.0406 - val_acc: 0.9845\n",
      "roc-auc: 0.9935 - roc-auc_val: 0.9883                                                                                                    \n",
      "Epoch 23/32\n",
      "  7008/102124 [=>............................] - ETA: 9:21 - loss: 0.0388 - acc: 0.9845 90368/102124 [=========================>....] - ETA: 1:09 - loss: 0.0386 - acc: 0.9844102124/102124 [==============================] - 642s 6ms/step - loss: 0.0388 - acc: 0.9844 - val_loss: 0.0404 - val_acc: 0.9847\n",
      "Epoch 24/32\n",
      "  9504/102124 [=>............................] - ETA: 9:06 - loss: 0.0379 - acc: 0.9849 46592/102124 [============>.................] - ETA: 5:27 - loss: 0.0377 - acc: 0.9849 89120/102124 [=========================>....] - ETA: 1:16 - loss: 0.0382 - acc: 0.9848102124/102124 [==============================] - 643s 6ms/step - loss: 0.0382 - acc: 0.9848 - val_loss: 0.0415 - val_acc: 0.9844\n",
      "roc-auc: 0.9922 - roc-auc_val: 0.9861                                                                                                    \n",
      "Epoch 25/32\n",
      "  5632/102124 [>.............................] - ETA: 9:30 - loss: 0.0337 - acc: 0.9864 64960/102124 [==================>...........] - ETA: 3:39 - loss: 0.0380 - acc: 0.9848102112/102124 [============================>.] - ETA: 0s - loss: 0.0382 - acc: 0.9847102124/102124 [==============================] - 645s 6ms/step - loss: 0.0382 - acc: 0.9847 - val_loss: 0.0413 - val_acc: 0.9845\n",
      "Epoch 26/32\n",
      " 13920/102124 [===>..........................] - ETA: 8:43 - loss: 0.0390 - acc: 0.9846 50624/102124 [=============>................] - ETA: 5:05 - loss: 0.0382 - acc: 0.9849 94560/102124 [==========================>...] - ETA: 44s - loss: 0.0378 - acc: 0.9850102124/102124 [==============================] - 646s 6ms/step - loss: 0.0381 - acc: 0.9849 - val_loss: 0.0400 - val_acc: 0.9845\n",
      "roc-auc: 0.9946 - roc-auc_val: 0.9876                                                                                                    \n",
      "Epoch 27/32\n",
      "  6944/102124 [=>............................] - ETA: 9:23 - loss: 0.0395 - acc: 0.9843 46400/102124 [============>.................] - ETA: 5:29 - loss: 0.0380 - acc: 0.9850 86848/102124 [========================>.....] - ETA: 1:30 - loss: 0.0378 - acc: 0.9851102124/102124 [==============================] - 645s 6ms/step - loss: 0.0376 - acc: 0.9852 - val_loss: 0.0399 - val_acc: 0.9847\n",
      "Epoch 28/32\n",
      "102124/102124 [==============================] - 646s 6ms/step - loss: 0.0374 - acc: 0.9850 - val_loss: 0.0404 - val_acc: 0.9845....] - ETA: 4:10 - loss: 0.0369 - acc: 0.9852102112/102124 [============================>.] - ETA: 0s - loss: 0.0374 - acc: 0.985\n",
      "\n",
      "Epoch 00028: ReduceLROnPlateau reducing learning rate to 3.0185510695446283e-05.\n",
      "roc-auc: 0.9949 - roc-auc_val: 0.987                                                                                                    \n",
      "Epoch 29/32\n",
      "  5920/102124 [>.............................] - ETA: 9:28 - loss: 0.0395 - acc: 0.9843 50912/102124 [=============>................] - ETA: 5:03 - loss: 0.0372 - acc: 0.9852 87520/102124 [========================>.....] - ETA: 1:26 - loss: 0.0373 - acc: 0.9850102124/102124 [==============================] - 645s 6ms/step - loss: 0.0373 - acc: 0.9850 - val_loss: 0.0409 - val_acc: 0.9845\n",
      "Epoch 30/32\n",
      "  8416/102124 [=>............................] - ETA: 9:17 - loss: 0.0356 - acc: 0.9856 52736/102124 [==============>...............] - ETA: 4:53 - loss: 0.0370 - acc: 0.9853 94720/102124 [==========================>...] - ETA: 43s - loss: 0.0371 - acc: 0.9852102124/102124 [==============================] - 646s 6ms/step - loss: 0.0372 - acc: 0.9851 - val_loss: 0.0407 - val_acc: 0.9846\n",
      "roc-auc: 0.9949 - roc-auc_val: 0.9864                                                                                                    \n",
      "Epoch 31/32\n",
      "  6944/102124 [=>............................] - ETA: 9:24 - loss: 0.0379 - acc: 0.9849 58112/102124 [================>.............] - ETA: 4:20 - loss: 0.0368 - acc: 0.9853 96896/102124 [===========================>..] - ETA: 31s - loss: 0.0370 - acc: 0.9851102124/102124 [==============================] - 646s 6ms/step - loss: 0.0370 - acc: 0.9851 - val_loss: 0.0402 - val_acc: 0.9847\n",
      "Epoch 32/32\n",
      " 11904/102124 [==>...........................] - ETA: 8:55 - loss: 0.0370 - acc: 0.9847 49984/102124 [=============>................] - ETA: 5:09 - loss: 0.0364 - acc: 0.9852102112/102124 [============================>.] - ETA: 0s - loss: 0.0368 - acc: 0.9851102124/102124 [==============================] - 646s 6ms/step - loss: 0.0368 - acc: 0.9851 - val_loss: 0.0408 - val_acc: 0.9845\n",
      "roc-auc: 0.9947 - roc-auc_val: 0.986                                                                                                    \n"
     ]
    }
   ],
   "source": [
    "history = train_with_cv(model, batchSize=32, rocEvery = 2)"
   ]
  },
  {
   "cell_type": "code",
   "execution_count": 18,
   "metadata": {
    "colab": {
     "autoexec": {
      "startup": false,
      "wait_interval": 0
     },
     "base_uri": "https://localhost:8080/",
     "height": 294
    },
    "colab_type": "code",
    "executionInfo": {
     "elapsed": 3387,
     "status": "ok",
     "timestamp": 1530772747246,
     "user": {
      "displayName": "Deep Learner",
      "photoUrl": "https://lh3.googleusercontent.com/a/default-user=s128",
      "userId": "102934620980301123540"
     },
     "user_tz": -120
    },
    "id": "sms3R-U4469B",
    "outputId": "982f255e-1733-42ab-8f06-744290caae2f"
   },
   "outputs": [
    {
     "data": {
      "image/png": "[encoded data removed]",
      "text/plain": [
       "<matplotlib.figure.Figure at 0x7f39554e5c88>"
      ]
     },
     "metadata": {
      "tags": []
     },
     "output_type": "display_data"
    }
   ],
   "source": [
    "plot_history(history)"
   ]
  },
  {
   "cell_type": "code",
   "execution_count": 19,
   "metadata": {
    "colab": {
     "autoexec": {
      "startup": false,
      "wait_interval": 0
     },
     "base_uri": "https://localhost:8080/",
     "height": 51
    },
    "colab_type": "code",
    "executionInfo": {
     "elapsed": 105657,
     "status": "ok",
     "timestamp": 1530772853169,
     "user": {
      "displayName": "Deep Learner",
      "photoUrl": "https://lh3.googleusercontent.com/a/default-user=s128",
      "userId": "102934620980301123540"
     },
     "user_tz": -120
    },
    "id": "r2gtMBj2Tp9A",
    "outputId": "1898ba78-f0e3-4b7d-f1fc-883a752a2caa"
   },
   "outputs": [
    {
     "name": "stdout",
     "output_type": "stream",
     "text": [
      "31915/31915 [==============================] - 55s 2ms/step\n",
      "([0.038740241001884654, 0.9850174801468793], 0.9884953185588751)\n"
     ]
    }
   ],
   "source": [
    "print(evaluate_on_test(model))"
   ]
  },
  {
   "cell_type": "code",
   "execution_count": 13,
   "metadata": {
    "colab": {
     "autoexec": {
      "startup": false,
      "wait_interval": 0
     },
     "base_uri": "https://localhost:8080/",
     "height": 1482
    },
    "colab_type": "code",
    "executionInfo": {
     "elapsed": 21378568,
     "status": "ok",
     "timestamp": 1530835063517,
     "user": {
      "displayName": "Deep Learner",
      "photoUrl": "https://lh3.googleusercontent.com/a/default-user=s128",
      "userId": "102934620980301123540"
     },
     "user_tz": -120
    },
    "id": "eWTnewH9mOht",
    "outputId": "63137b5f-745b-4a0f-a7f7-6bce34cd6f6a"
   },
   "outputs": [
    {
     "name": "stdout",
     "output_type": "stream",
     "text": [
      "Train on 102124 samples, validate on 25532 samples\n",
      "Epoch 1/32\n",
      " 42816/102124 [===========>..................] - ETA: 5:22 - loss: 4.6695 - acc: 0.5038102124/102124 [==============================] - 581s 6ms/step - loss: 2.6057 - acc: 0.6692 - val_loss: 0.9295 - val_acc: 0.9125\n",
      "Epoch 2/32\n",
      "  5376/102124 [>.............................] - ETA: 8:18 - loss: 0.5109 - acc: 0.9023102080/102124 [============================>.] - ETA: 0s - loss: 0.3335 - acc: 0.9378102124/102124 [==============================] - 569s 6ms/step - loss: 0.3334 - acc: 0.9378 - val_loss: 0.1780 - val_acc: 0.9645\n",
      "roc-auc: 0.7192 - roc-auc_val: 0.7224                                                                                                    \n",
      "Epoch 3/32\n",
      "102124/102124 [==============================] - 568s 6ms/step - loss: 0.1546 - acc: 0.9638 - val_loss: 0.0968 - val_acc: 0.9770==>.] - ETA: 0s - loss: 0.1546 - acc: 0.963\n",
      "Epoch 4/32\n",
      " 20352/102124 [====>.........................] - ETA: 7:06 - loss: 0.1201 - acc: 0.9699102080/102124 [============================>.] - ETA: 0s - loss: 0.1148 - acc: 0.9690102124/102124 [==============================] - 572s 6ms/step - loss: 0.1148 - acc: 0.9690 - val_loss: 0.0728 - val_acc: 0.9776\n",
      "roc-auc: 0.9386 - roc-auc_val: 0.9396                                                                                                    \n",
      "Epoch 5/32\n",
      "102124/102124 [==============================] - 558s 5ms/step - loss: 0.0888 - acc: 0.9733 - val_loss: 0.0685 - val_acc: 0.9783==>.] - ETA: 0s - loss: 0.0888 - acc: 0.973\n",
      "Epoch 6/32\n",
      " 20352/102124 [====>.........................] - ETA: 6:55 - loss: 0.0794 - acc: 0.9752102080/102124 [============================>.] - ETA: 0s - loss: 0.0780 - acc: 0.9748102124/102124 [==============================] - 564s 6ms/step - loss: 0.0780 - acc: 0.9748 - val_loss: 0.1263 - val_acc: 0.9580\n",
      "roc-auc: 0.955 - roc-auc_val: 0.9535                                                                                                    \n",
      "Epoch 7/32\n",
      "102124/102124 [==============================] - 567s 6ms/step - loss: 0.0686 - acc: 0.9767 - val_loss: 0.0561 - val_acc: 0.9800==>.] - ETA: 0s - loss: 0.0686 - acc: 0.976\n",
      "Epoch 8/32\n",
      " 20352/102124 [====>.........................] - ETA: 6:59 - loss: 0.0666 - acc: 0.9767102080/102124 [============================>.] - ETA: 0s - loss: 0.0627 - acc: 0.9778102124/102124 [==============================] - 562s 6ms/step - loss: 0.0627 - acc: 0.9778 - val_loss: 0.0630 - val_acc: 0.9798\n",
      "roc-auc: 0.9739 - roc-auc_val: 0.9733                                                                                                    \n",
      "Epoch 9/32\n",
      "102124/102124 [==============================] - 563s 6ms/step - loss: 0.0582 - acc: 0.9792 - val_loss: 0.0495 - val_acc: 0.9815==>.] - ETA: 0s - loss: 0.0582 - acc: 0.979\n",
      "Epoch 10/32\n",
      " 20288/102124 [====>.........................] - ETA: 6:56 - loss: 0.0543 - acc: 0.9803102080/102124 [============================>.] - ETA: 0s - loss: 0.0539 - acc: 0.9802102124/102124 [==============================] - 564s 6ms/step - loss: 0.0538 - acc: 0.9802 - val_loss: 0.0571 - val_acc: 0.9798\n",
      "roc-auc: 0.9798 - roc-auc_val: 0.9777                                                                                                    \n",
      "Epoch 11/32\n",
      "102124/102124 [==============================] - 570s 6ms/step - loss: 0.0514 - acc: 0.9808 - val_loss: 0.1000 - val_acc: 0.9667==>.] - ETA: 0s - loss: 0.0514 - acc: 0.980\n",
      "\n",
      "Epoch 00011: ReduceLROnPlateau reducing learning rate to 0.00017677669529803097.\n",
      "Epoch 12/32\n",
      " 16000/102124 [===>..........................] - ETA: 7:21 - loss: 0.0491 - acc: 0.9813102080/102124 [============================>.] - ETA: 0s - loss: 0.0495 - acc: 0.9812102124/102124 [==============================] - 559s 5ms/step - loss: 0.0495 - acc: 0.9812 - val_loss: 0.0453 - val_acc: 0.9827\n",
      "roc-auc: 0.987 - roc-auc_val: 0.9854                                                                                                    \n",
      "Epoch 13/32\n",
      "102124/102124 [==============================] - 569s 6ms/step - loss: 0.0478 - acc: 0.9817 - val_loss: 0.0447 - val_acc: 0.9828==>.] - ETA: 0s - loss: 0.0478 - acc: 0.981\n",
      "Epoch 14/32\n",
      " 20288/102124 [====>.........................] - ETA: 7:02 - loss: 0.0469 - acc: 0.9821102080/102124 [============================>.] - ETA: 0s - loss: 0.0468 - acc: 0.9820102124/102124 [==============================] - 569s 6ms/step - loss: 0.0468 - acc: 0.9820 - val_loss: 0.0661 - val_acc: 0.9810\n",
      "roc-auc: 0.985 - roc-auc_val: 0.9818                                                                                                    \n",
      "Epoch 15/32\n",
      "102124/102124 [==============================] - 561s 5ms/step - loss: 0.0454 - acc: 0.9825 - val_loss: 0.0940 - val_acc: 0.9687==>.] - ETA: 0s - loss: 0.0454 - acc: 0.982\n",
      "Epoch 16/32\n",
      " 20288/102124 [====>.........................] - ETA: 7:06 - loss: 0.0453 - acc: 0.9821102080/102124 [============================>.] - ETA: 0s - loss: 0.0447 - acc: 0.9826102124/102124 [==============================] - 568s 6ms/step - loss: 0.0447 - acc: 0.9826 - val_loss: 0.0508 - val_acc: 0.9827\n",
      "roc-auc: 0.9886 - roc-auc_val: 0.9864                                                                                                    \n",
      "Epoch 17/32\n",
      "102124/102124 [==============================] - 565s 6ms/step - loss: 0.0438 - acc: 0.9830 - val_loss: 0.0476 - val_acc: 0.9821==>.] - ETA: 0s - loss: 0.0438 - acc: 0.983\n",
      "Epoch 18/32\n",
      " 20288/102124 [====>.........................] - ETA: 7:07 - loss: 0.0414 - acc: 0.9837102080/102124 [============================>.] - ETA: 0s - loss: 0.0432 - acc: 0.9833102124/102124 [==============================] - 570s 6ms/step - loss: 0.0432 - acc: 0.9833 - val_loss: 0.0415 - val_acc: 0.9840\n",
      "roc-auc: 0.9915 - roc-auc_val: 0.9878                                                                                                    \n",
      "Epoch 19/32\n",
      "102124/102124 [==============================] - 560s 5ms/step - loss: 0.0422 - acc: 0.9835 - val_loss: 0.0438 - val_acc: 0.9833==>.] - ETA: 0s - loss: 0.0422 - acc: 0.983\n",
      "Epoch 20/32\n",
      " 20288/102124 [====>.........................] - ETA: 7:02 - loss: 0.0411 - acc: 0.9843102080/102124 [============================>.] - ETA: 0s - loss: 0.0419 - acc: 0.9837102124/102124 [==============================] - 575s 6ms/step - loss: 0.0420 - acc: 0.9837 - val_loss: 0.0405 - val_acc: 0.9844\n",
      "roc-auc: 0.9925 - roc-auc_val: 0.9876                                                                                                    \n",
      "Epoch 21/32\n",
      "102124/102124 [==============================] - 564s 6ms/step - loss: 0.0413 - acc: 0.9839 - val_loss: 0.0439 - val_acc: 0.9832==>.] - ETA: 0s - loss: 0.0413 - acc: 0.983\n",
      "Epoch 22/32\n",
      "102124/102124 [==============================] - 567s 6ms/step - loss: 0.0409 - acc: 0.9840 - val_loss: 0.0529 - val_acc: 0.9810==>.] - ETA: 0s - loss: 0.0409 - acc: 0.984\n",
      "\n",
      "Epoch 00022: ReduceLROnPlateau reducing learning rate to 5.632815373246558e-05.\n",
      "roc-auc: 0.9911 - roc-auc_val: 0.9859                                                                                                    \n",
      "Epoch 23/32\n",
      "102124/102124 [==============================] - 562s 6ms/step - loss: 0.0404 - acc: 0.9841 - val_loss: 0.0420 - val_acc: 0.9841==>.] - ETA: 0s - loss: 0.0404 - acc: 0.984\n",
      "Epoch 24/32\n",
      " 20288/102124 [====>.........................] - ETA: 7:04 - loss: 0.0390 - acc: 0.9842102080/102124 [============================>.] - ETA: 0s - loss: 0.0399 - acc: 0.9841102124/102124 [==============================] - 569s 6ms/step - loss: 0.0399 - acc: 0.9841 - val_loss: 0.0431 - val_acc: 0.9842\n",
      "roc-auc: 0.993 - roc-auc_val: 0.9868                                                                                                    \n",
      "Epoch 25/32\n",
      "102124/102124 [==============================] - 560s 5ms/step - loss: 0.0397 - acc: 0.9843 - val_loss: 0.0404 - val_acc: 0.9846==>.] - ETA: 0s - loss: 0.0397 - acc: 0.984\n",
      "Epoch 26/32\n",
      " 20288/102124 [====>.........................] - ETA: 7:05 - loss: 0.0383 - acc: 0.9845102080/102124 [============================>.] - ETA: 0s - loss: 0.0393 - acc: 0.9843102124/102124 [==============================] - 577s 6ms/step - loss: 0.0393 - acc: 0.9843 - val_loss: 0.0424 - val_acc: 0.9843\n",
      "roc-auc: 0.9937 - roc-auc_val: 0.9872                                                                                                    \n",
      "Epoch 27/32\n"
     ]
    },
    {
     "name": "stdout",
     "output_type": "stream",
     "text": [
      "102124/102124 [==============================] - 565s 6ms/step - loss: 0.0390 - acc: 0.9845 - val_loss: 0.0411 - val_acc: 0.9844==>.] - ETA: 0s - loss: 0.0390 - acc: 0.984\n",
      "Epoch 28/32\n",
      " 20288/102124 [====>.........................] - ETA: 6:59 - loss: 0.0376 - acc: 0.9854102080/102124 [============================>.] - ETA: 0s - loss: 0.0387 - acc: 0.9847102124/102124 [==============================] - 567s 6ms/step - loss: 0.0387 - acc: 0.9847 - val_loss: 0.0419 - val_acc: 0.9841\n",
      "roc-auc: 0.994 - roc-auc_val: 0.9875                                                                                                    \n",
      "Epoch 29/32\n",
      "102124/102124 [==============================] - 561s 5ms/step - loss: 0.0385 - acc: 0.9846 - val_loss: 0.0408 - val_acc: 0.9846==>.] - ETA: 0s - loss: 0.0385 - acc: 0.984\n",
      "Epoch 30/32\n",
      " 20288/102124 [====>.........................] - ETA: 6:58 - loss: 0.0387 - acc: 0.9845102080/102124 [============================>.] - ETA: 0s - loss: 0.0381 - acc: 0.9849102124/102124 [==============================] - 559s 5ms/step - loss: 0.0381 - acc: 0.9849 - val_loss: 0.0412 - val_acc: 0.9845\n",
      "roc-auc: 0.9946 - roc-auc_val: 0.9875                                                                                                    \n",
      "Epoch 31/32\n",
      "102124/102124 [==============================] - 573s 6ms/step - loss: 0.0378 - acc: 0.9850 - val_loss: 0.0429 - val_acc: 0.9839==>.] - ETA: 0s - loss: 0.0378 - acc: 0.985\n",
      "Epoch 32/32\n",
      " 20288/102124 [====>.........................] - ETA: 6:59 - loss: 0.0380 - acc: 0.9847102080/102124 [============================>.] - ETA: 0s - loss: 0.0378 - acc: 0.9850102124/102124 [==============================] - 564s 6ms/step - loss: 0.0378 - acc: 0.9850 - val_loss: 0.0422 - val_acc: 0.9840\n",
      "roc-auc: 0.9945 - roc-auc_val: 0.9877                                                                                                    \n"
     ]
    }
   ],
   "source": [
    "history = train_with_cv(model, batchSize=64, rocEvery = 2)"
   ]
  },
  {
   "cell_type": "code",
   "execution_count": 14,
   "metadata": {
    "colab": {
     "autoexec": {
      "startup": false,
      "wait_interval": 0
     },
     "base_uri": "https://localhost:8080/",
     "height": 294
    },
    "colab_type": "code",
    "executionInfo": {
     "elapsed": 3942,
     "status": "ok",
     "timestamp": 1530835067474,
     "user": {
      "displayName": "Deep Learner",
      "photoUrl": "https://lh3.googleusercontent.com/a/default-user=s128",
      "userId": "102934620980301123540"
     },
     "user_tz": -120
    },
    "id": "9kQ0zWSUmOw6",
    "outputId": "c9b4cf1b-f21f-48e1-a3e3-b8866d214c77"
   },
   "outputs": [
    {
     "data": {
      "image/png": "[encoded data removed]",
      "text/plain": [
       "<matplotlib.figure.Figure at 0x7f1cb6c497f0>"
      ]
     },
     "metadata": {
      "tags": []
     },
     "output_type": "display_data"
    }
   ],
   "source": [
    "plot_history(history)"
   ]
  },
  {
   "cell_type": "code",
   "execution_count": 15,
   "metadata": {
    "colab": {
     "autoexec": {
      "startup": false,
      "wait_interval": 0
     },
     "base_uri": "https://localhost:8080/",
     "height": 51
    },
    "colab_type": "code",
    "executionInfo": {
     "elapsed": 106989,
     "status": "ok",
     "timestamp": 1530835174513,
     "user": {
      "displayName": "Deep Learner",
      "photoUrl": "https://lh3.googleusercontent.com/a/default-user=s128",
      "userId": "102934620980301123540"
     },
     "user_tz": -120
    },
    "id": "7x_PR-X7mO9C",
    "outputId": "d7a1b98c-bf5b-4b23-c830-eea2bc20027e"
   },
   "outputs": [
    {
     "name": "stdout",
     "output_type": "stream",
     "text": [
      "31915/31915 [==============================] - 56s 2ms/step\n",
      "([0.0406538087058157, 0.9842550383435136], 0.9894485128841984)\n"
     ]
    }
   ],
   "source": [
    "print(evaluate_on_test(model))"
   ]
  }
 ],
 "metadata": {
  "accelerator": "GPU",
  "colab": {
   "collapsed_sections": [],
   "default_view": {},
   "name": "combined_context_with_each_add_64_2.ipynb",
   "provenance": [],
   "version": "0.3.2",
   "views": {}
  },
  "kernelspec": {
   "display_name": "Python 3",
   "language": "python",
   "name": "python3"
  },
  "language_info": {
   "codemirror_mode": {
    "name": "ipython",
    "version": 3
   },
   "file_extension": ".py",
   "mimetype": "text/x-python",
   "name": "python",
   "nbconvert_exporter": "python",
   "pygments_lexer": "ipython3",
   "version": "3.6.2"
  }
 },
 "nbformat": 4,
 "nbformat_minor": 1
}

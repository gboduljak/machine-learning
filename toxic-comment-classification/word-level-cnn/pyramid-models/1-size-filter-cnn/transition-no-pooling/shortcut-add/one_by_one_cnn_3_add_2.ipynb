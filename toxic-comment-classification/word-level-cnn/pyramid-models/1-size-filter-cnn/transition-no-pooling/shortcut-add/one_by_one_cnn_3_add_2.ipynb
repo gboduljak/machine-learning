{
 "cells": [
  {
   "cell_type": "code",
   "execution_count": 1,
   "metadata": {
    "colab": {
     "autoexec": {
      "startup": false,
      "wait_interval": 0
     },
     "base_uri": "https://localhost:8080/",
     "height": 283
    },
    "colab_type": "code",
    "executionInfo": {
     "elapsed": 11187,
     "status": "ok",
     "timestamp": 1526418467275,
     "user": {
      "displayName": "Deep Learning",
      "photoUrl": "https://lh3.googleusercontent.com/a/default-user=s128",
      "userId": "110970714976109420834"
     },
     "user_tz": -120
    },
    "id": "yS1FnhiWX3Js",
    "outputId": "03ed881e-4b98-40f1-c2d8-d92041e99c0b"
   },
   "outputs": [
    {
     "name": "stdout",
     "output_type": "stream",
     "text": [
      "Requirement already satisfied: keras in /usr/local/lib/python3.6/dist-packages (2.1.6)\r\n",
      "Requirement already satisfied: numpy>=1.9.1 in /usr/local/lib/python3.6/dist-packages (from keras) (1.14.3)\r\n",
      "Requirement already satisfied: h5py in /usr/local/lib/python3.6/dist-packages (from keras) (2.7.1)\r\n",
      "Requirement already satisfied: pyyaml in /usr/local/lib/python3.6/dist-packages (from keras) (3.12)\r\n",
      "Requirement already satisfied: six>=1.9.0 in /usr/local/lib/python3.6/dist-packages (from keras) (1.11.0)\r\n",
      "Requirement already satisfied: scipy>=0.14 in /usr/local/lib/python3.6/dist-packages (from keras) (0.19.1)\n",
      "Requirement already satisfied: sklearn in /usr/local/lib/python3.6/dist-packages (0.0)\n",
      "Requirement already satisfied: scikit-learn in /usr/local/lib/python3.6/dist-packages (from sklearn) (0.19.1)\n",
      "Requirement already satisfied: matplotlib in /usr/local/lib/python3.6/dist-packages (2.1.2)\n",
      "Requirement already satisfied: six>=1.10 in /usr/local/lib/python3.6/dist-packages (from matplotlib) (1.11.0)\n",
      "Requirement already satisfied: python-dateutil>=2.1 in /usr/local/lib/python3.6/dist-packages (from matplotlib) (2.5.3)\n",
      "Requirement already satisfied: pytz in /usr/local/lib/python3.6/dist-packages (from matplotlib) (2018.4)\n",
      "Requirement already satisfied: cycler>=0.10 in /usr/local/lib/python3.6/dist-packages (from matplotlib) (0.10.0)\n",
      "Requirement already satisfied: numpy>=1.7.1 in /usr/local/lib/python3.6/dist-packages (from matplotlib) (1.14.3)\n",
      "Requirement already satisfied: pyparsing!=2.0.4,!=2.1.2,!=2.1.6,>=2.0.1 in /usr/local/lib/python3.6/dist-packages (from matplotlib) (2.2.0)\n"
     ]
    }
   ],
   "source": [
    "!pip install keras\n",
    "!pip install sklearn\n",
    "!pip install matplotlib\n",
    "!pip install -U -q PyDrive"
   ]
  },
  {
   "cell_type": "code",
   "execution_count": 2,
   "metadata": {
    "colab": {
     "autoexec": {
      "startup": false,
      "wait_interval": 0
     },
     "base_uri": "https://localhost:8080/",
     "height": 34
    },
    "colab_type": "code",
    "executionInfo": {
     "elapsed": 1522,
     "status": "ok",
     "timestamp": 1526418468824,
     "user": {
      "displayName": "Deep Learning",
      "photoUrl": "https://lh3.googleusercontent.com/a/default-user=s128",
      "userId": "110970714976109420834"
     },
     "user_tz": -120
    },
    "id": "xlKzkDJFrjA-",
    "outputId": "eaa7852c-5af1-4caa-aafe-60fa864124fd"
   },
   "outputs": [
    {
     "name": "stderr",
     "output_type": "stream",
     "text": [
      "Using TensorFlow backend.\n"
     ]
    }
   ],
   "source": [
    "from keras import backend as K\n",
    "K.clear_session()"
   ]
  },
  {
   "cell_type": "code",
   "execution_count": 0,
   "metadata": {
    "colab": {
     "autoexec": {
      "startup": false,
      "wait_interval": 0
     }
    },
    "colab_type": "code",
    "id": "eQEKwl4oAxO7"
   },
   "outputs": [],
   "source": [
    "from keras import backend as K\n",
    "cfg = K.tf.ConfigProto()\n",
    "cfg.gpu_options.allow_growth = True\n",
    "K.set_session(K.tf.Session(config=cfg))"
   ]
  },
  {
   "cell_type": "code",
   "execution_count": 0,
   "metadata": {
    "colab": {
     "autoexec": {
      "startup": false,
      "wait_interval": 0
     }
    },
    "colab_type": "code",
    "id": "12M0egCCX-27"
   },
   "outputs": [],
   "source": [
    "from pydrive.auth import GoogleAuth\n",
    "from pydrive.drive import GoogleDrive\n",
    "from google.colab import auth\n",
    "from oauth2client.client import GoogleCredentials\n",
    "\n",
    "auth.authenticate_user()\n",
    "gauth = GoogleAuth()\n",
    "gauth.credentials = GoogleCredentials.get_application_default()\n",
    "drive = GoogleDrive(gauth)"
   ]
  },
  {
   "cell_type": "code",
   "execution_count": 0,
   "metadata": {
    "colab": {
     "autoexec": {
      "startup": false,
      "wait_interval": 0
     }
    },
    "colab_type": "code",
    "id": "4lN2WTUEYBYv"
   },
   "outputs": [],
   "source": [
    "file_import = drive.CreateFile({'id':'1p1bsltfTcIrZ_kfE6kwGTPzcdXorHbb2'})\n",
    "file_import.GetContentFile('colab_setup.py') \n",
    "from colab_setup import setup\n",
    "\n",
    "setup(drive)"
   ]
  },
  {
   "cell_type": "code",
   "execution_count": 6,
   "metadata": {
    "colab": {
     "autoexec": {
      "startup": false,
      "wait_interval": 0
     },
     "base_uri": "https://localhost:8080/",
     "height": 123
    },
    "colab_type": "code",
    "executionInfo": {
     "elapsed": 1840,
     "status": "ok",
     "timestamp": 1526418523646,
     "user": {
      "displayName": "Deep Learning",
      "photoUrl": "https://lh3.googleusercontent.com/a/default-user=s128",
      "userId": "110970714976109420834"
     },
     "user_tz": -120
    },
    "id": "cHBlD0tVj2TY",
    "outputId": "1b60e3d2-39ec-489c-8b65-35aa7df8d0aa"
   },
   "outputs": [
    {
     "name": "stdout",
     "output_type": "stream",
     "text": [
      "colab_setup.py\t\t\t roc_auc_callback.py\tX_train.npy\r\n",
      "custom_fast_text_embeddings.npy  sample_submission.csv\tX_val.npy\r\n",
      "datalab\t\t\t\t train_model.py\t\ty_test.npy\r\n",
      "fast_text_embeddings.npy\t X_submission.npy\ty_train_full.npy\r\n",
      "plot_history.py\t\t\t X_test.npy\t\ty_train.npy\r\n",
      "__pycache__\t\t\t X_train_full.npy\ty_val.npy\r\n"
     ]
    }
   ],
   "source": [
    "!ls"
   ]
  },
  {
   "cell_type": "code",
   "execution_count": 0,
   "metadata": {
    "colab": {
     "autoexec": {
      "startup": false,
      "wait_interval": 0
     }
    },
    "colab_type": "code",
    "id": "yMwWPTMYXyno"
   },
   "outputs": [],
   "source": [
    "import numpy as np\n",
    "import os\n",
    "\n",
    "from plot_history import plot_history\n",
    "from roc_auc_callback import RocAucCallback\n",
    "from train_model import train_with_cv, train_with_submitting, evaluate_on_test\n",
    "\n",
    "from keras.models import Model\n",
    "from keras.layers import *\n",
    "from keras.layers.merge import concatenate"
   ]
  },
  {
   "cell_type": "code",
   "execution_count": 0,
   "metadata": {
    "colab": {
     "autoexec": {
      "startup": false,
      "wait_interval": 0
     }
    },
    "colab_type": "code",
    "id": "MIWjPi9bs5d4"
   },
   "outputs": [],
   "source": [
    "def one_by_one(filtersNumber, inputLayer, dropout = 0.2):\n",
    "    one_by_one = Conv1D(filtersNumber, 1, activation = 'elu', padding = 'same', kernel_initializer = 'he_uniform')(inputLayer)\n",
    "    one_by_one = BatchNormalization()(one_by_one)\n",
    "    one_by_one = SpatialDropout1D(dropout)(one_by_one)\n",
    "    \n",
    "    return one_by_one"
   ]
  },
  {
   "cell_type": "code",
   "execution_count": 0,
   "metadata": {
    "colab": {
     "autoexec": {
      "startup": false,
      "wait_interval": 0
     }
    },
    "colab_type": "code",
    "id": "9zXgA8a0nkTd"
   },
   "outputs": [],
   "source": [
    "def yoon_kim_feature_extractor(filtersNumber, inputLayer):\n",
    "    block_1_conv_1 = Conv1D(filtersNumber, 1, activation = 'elu', padding = 'same', kernel_initializer = 'he_uniform')(inputLayer)\n",
    "    block_1_batchnorm1 = BatchNormalization()(block_1_conv_1)\n",
    "    block_1_max_pool1 = GlobalMaxPooling1D()(block_1_batchnorm1)\n",
    "\n",
    "    block_1_conv_2 = Conv1D(filtersNumber, 2, activation = 'elu', padding = 'same', kernel_initializer = 'he_uniform')(inputLayer)\n",
    "    block_1_batchnorm2 = BatchNormalization()(block_1_conv_2)\n",
    "    block_1_max_pool2 = GlobalMaxPooling1D()(block_1_batchnorm2)\n",
    "\n",
    "    block_1_conv_3 = Conv1D(filtersNumber, 3, activation = 'elu', padding = 'same', kernel_initializer = 'he_uniform')(inputLayer)\n",
    "    block_1_batchnorm3 = BatchNormalization()(block_1_conv_3)\n",
    "    block_1_max_pool3 = GlobalMaxPooling1D()(block_1_batchnorm3)\n",
    "\n",
    "    block_1_conv_4 = Conv1D(filtersNumber, 5, activation = 'elu', padding = 'same', kernel_initializer = 'he_uniform')(inputLayer)\n",
    "    block_1_batchnorm4 = BatchNormalization()(block_1_conv_4)\n",
    "    block_1_max_pool4 = GlobalMaxPooling1D()(block_1_batchnorm4)\n",
    "\n",
    "    block_1_features = concatenate([\n",
    "        block_1_max_pool1, \n",
    "        block_1_max_pool2, \n",
    "        block_1_max_pool3, \n",
    "        block_1_max_pool4\n",
    "    ])\n",
    "    block_1_features = Dropout(0.2)(block_1_features)\n",
    "    return block_1_features"
   ]
  },
  {
   "cell_type": "code",
   "execution_count": 10,
   "metadata": {
    "colab": {
     "autoexec": {
      "startup": false,
      "wait_interval": 0
     },
     "base_uri": "https://localhost:8080/",
     "height": 2241
    },
    "colab_type": "code",
    "executionInfo": {
     "elapsed": 2986,
     "status": "ok",
     "timestamp": 1526418529288,
     "user": {
      "displayName": "Deep Learning",
      "photoUrl": "https://lh3.googleusercontent.com/a/default-user=s128",
      "userId": "110970714976109420834"
     },
     "user_tz": -120
    },
    "id": "LTFG7OgsXynw",
    "outputId": "08d6bf84-aa1b-4edf-ba72-086f2bbdd4ef"
   },
   "outputs": [
    {
     "name": "stdout",
     "output_type": "stream",
     "text": [
      "WARNING:tensorflow:From /usr/local/lib/python3.6/dist-packages/tensorflow/python/util/deprecation.py:497: calling conv1d (from tensorflow.python.ops.nn_ops) with data_format=NHWC is deprecated and will be removed in a future version.\n",
      "Instructions for updating:\n",
      "`NHWC` for data_format is deprecated, use `NWC` instead\n",
      "__________________________________________________________________________________________________\n",
      "Layer (type)                    Output Shape         Param #     Connected to                     \n",
      "==================================================================================================\n",
      "input_1 (InputLayer)            (None, 400)          0                                            \n",
      "__________________________________________________________________________________________________\n",
      "embedding_1 (Embedding)         (None, 400, 300)     9000000     input_1[0][0]                    \n",
      "__________________________________________________________________________________________________\n",
      "embedding_2 (Embedding)         (None, 400, 300)     9000000     input_1[0][0]                    \n",
      "__________________________________________________________________________________________________\n",
      "spatial_dropout1d_1 (SpatialDro (None, 400, 300)     0           embedding_1[0][0]                \n",
      "__________________________________________________________________________________________________\n",
      "spatial_dropout1d_2 (SpatialDro (None, 400, 300)     0           embedding_2[0][0]                \n",
      "__________________________________________________________________________________________________\n",
      "average_1 (Average)             (None, 400, 300)     0           spatial_dropout1d_1[0][0]        \n",
      "                                                                 spatial_dropout1d_2[0][0]        \n",
      "__________________________________________________________________________________________________\n",
      "spatial_dropout1d_3 (SpatialDro (None, 400, 300)     0           average_1[0][0]                  \n",
      "__________________________________________________________________________________________________\n",
      "conv1d_1 (Conv1D)               (None, 400, 300)     90300       spatial_dropout1d_3[0][0]        \n",
      "__________________________________________________________________________________________________\n",
      "batch_normalization_1 (BatchNor (None, 400, 300)     1200        conv1d_1[0][0]                   \n",
      "__________________________________________________________________________________________________\n",
      "spatial_dropout1d_4 (SpatialDro (None, 400, 300)     0           batch_normalization_1[0][0]      \n",
      "__________________________________________________________________________________________________\n",
      "add_1 (Add)                     (None, 400, 300)     0           spatial_dropout1d_4[0][0]        \n",
      "                                                                 spatial_dropout1d_3[0][0]        \n",
      "__________________________________________________________________________________________________\n",
      "conv1d_2 (Conv1D)               (None, 400, 300)     90300       add_1[0][0]                      \n",
      "__________________________________________________________________________________________________\n",
      "batch_normalization_2 (BatchNor (None, 400, 300)     1200        conv1d_2[0][0]                   \n",
      "__________________________________________________________________________________________________\n",
      "spatial_dropout1d_5 (SpatialDro (None, 400, 300)     0           batch_normalization_2[0][0]      \n",
      "__________________________________________________________________________________________________\n",
      "add_2 (Add)                     (None, 400, 300)     0           spatial_dropout1d_5[0][0]        \n",
      "                                                                 add_1[0][0]                      \n",
      "__________________________________________________________________________________________________\n",
      "conv1d_3 (Conv1D)               (None, 400, 300)     90300       add_2[0][0]                      \n",
      "__________________________________________________________________________________________________\n",
      "batch_normalization_3 (BatchNor (None, 400, 300)     1200        conv1d_3[0][0]                   \n",
      "__________________________________________________________________________________________________\n",
      "spatial_dropout1d_6 (SpatialDro (None, 400, 300)     0           batch_normalization_3[0][0]      \n",
      "__________________________________________________________________________________________________\n",
      "add_3 (Add)                     (None, 400, 300)     0           spatial_dropout1d_6[0][0]        \n",
      "                                                                 add_2[0][0]                      \n",
      "__________________________________________________________________________________________________\n",
      "conv1d_4 (Conv1D)               (None, 400, 300)     90300       add_3[0][0]                      \n",
      "__________________________________________________________________________________________________\n",
      "batch_normalization_4 (BatchNor (None, 400, 300)     1200        conv1d_4[0][0]                   \n",
      "__________________________________________________________________________________________________\n",
      "spatial_dropout1d_7 (SpatialDro (None, 400, 300)     0           batch_normalization_4[0][0]      \n",
      "__________________________________________________________________________________________________\n",
      "add_4 (Add)                     (None, 400, 300)     0           spatial_dropout1d_7[0][0]        \n",
      "                                                                 add_3[0][0]                      \n",
      "__________________________________________________________________________________________________\n",
      "conv1d_5 (Conv1D)               (None, 400, 300)     90300       add_4[0][0]                      \n",
      "__________________________________________________________________________________________________\n",
      "batch_normalization_5 (BatchNor (None, 400, 300)     1200        conv1d_5[0][0]                   \n",
      "__________________________________________________________________________________________________\n",
      "spatial_dropout1d_8 (SpatialDro (None, 400, 300)     0           batch_normalization_5[0][0]      \n",
      "__________________________________________________________________________________________________\n",
      "add_5 (Add)                     (None, 400, 300)     0           spatial_dropout1d_8[0][0]        \n",
      "                                                                 add_4[0][0]                      \n",
      "__________________________________________________________________________________________________\n",
      "conv1d_6 (Conv1D)               (None, 400, 300)     90300       add_5[0][0]                      \n",
      "__________________________________________________________________________________________________\n",
      "batch_normalization_6 (BatchNor (None, 400, 300)     1200        conv1d_6[0][0]                   \n",
      "__________________________________________________________________________________________________\n",
      "spatial_dropout1d_9 (SpatialDro (None, 400, 300)     0           batch_normalization_6[0][0]      \n",
      "__________________________________________________________________________________________________\n",
      "add_6 (Add)                     (None, 400, 300)     0           spatial_dropout1d_9[0][0]        \n",
      "                                                                 add_5[0][0]                      \n",
      "__________________________________________________________________________________________________\n",
      "conv1d_7 (Conv1D)               (None, 400, 300)     90300       add_6[0][0]                      \n",
      "__________________________________________________________________________________________________\n",
      "conv1d_8 (Conv1D)               (None, 400, 300)     180300      add_6[0][0]                      \n",
      "__________________________________________________________________________________________________\n",
      "conv1d_9 (Conv1D)               (None, 400, 300)     270300      add_6[0][0]                      \n",
      "__________________________________________________________________________________________________\n",
      "conv1d_10 (Conv1D)              (None, 400, 300)     450300      add_6[0][0]                      \n",
      "__________________________________________________________________________________________________\n",
      "batch_normalization_7 (BatchNor (None, 400, 300)     1200        conv1d_7[0][0]                   \n",
      "__________________________________________________________________________________________________\n",
      "batch_normalization_8 (BatchNor (None, 400, 300)     1200        conv1d_8[0][0]                   \n",
      "__________________________________________________________________________________________________\n",
      "batch_normalization_9 (BatchNor (None, 400, 300)     1200        conv1d_9[0][0]                   \n",
      "__________________________________________________________________________________________________\n",
      "batch_normalization_10 (BatchNo (None, 400, 300)     1200        conv1d_10[0][0]                  \n",
      "__________________________________________________________________________________________________\n",
      "global_max_pooling1d_1 (GlobalM (None, 300)          0           batch_normalization_7[0][0]      \n",
      "__________________________________________________________________________________________________\n",
      "global_max_pooling1d_2 (GlobalM (None, 300)          0           batch_normalization_8[0][0]      \n",
      "__________________________________________________________________________________________________\n",
      "global_max_pooling1d_3 (GlobalM (None, 300)          0           batch_normalization_9[0][0]      \n",
      "__________________________________________________________________________________________________\n",
      "global_max_pooling1d_4 (GlobalM (None, 300)          0           batch_normalization_10[0][0]     \n",
      "__________________________________________________________________________________________________\n",
      "concatenate_1 (Concatenate)     (None, 1200)         0           global_max_pooling1d_1[0][0]     \n",
      "                                                                 global_max_pooling1d_2[0][0]     \n",
      "                                                                 global_max_pooling1d_3[0][0]     \n",
      "                                                                 global_max_pooling1d_4[0][0]     \n",
      "__________________________________________________________________________________________________\n",
      "dropout_1 (Dropout)             (None, 1200)         0           concatenate_1[0][0]              \n",
      "__________________________________________________________________________________________________\n",
      "dense_1 (Dense)                 (None, 256)          307456      dropout_1[0][0]                  \n",
      "__________________________________________________________________________________________________\n",
      "batch_normalization_11 (BatchNo (None, 256)          1024        dense_1[0][0]                    \n",
      "__________________________________________________________________________________________________\n",
      "dropout_2 (Dropout)             (None, 256)          0           batch_normalization_11[0][0]     \n",
      "__________________________________________________________________________________________________\n",
      "dense_2 (Dense)                 (None, 256)          65792       dropout_2[0][0]                  \n",
      "__________________________________________________________________________________________________\n",
      "batch_normalization_12 (BatchNo (None, 256)          1024        dense_2[0][0]                    \n",
      "__________________________________________________________________________________________________\n",
      "dropout_3 (Dropout)             (None, 256)          0           batch_normalization_12[0][0]     \n",
      "__________________________________________________________________________________________________\n",
      "dense_3 (Dense)                 (None, 6)            1542        dropout_3[0][0]                  \n",
      "==================================================================================================\n",
      "Total params: 19,921,838\n",
      "Trainable params: 1,914,814\n",
      "Non-trainable params: 18,007,024\n",
      "__________________________________________________________________________________________________\n"
     ]
    }
   ],
   "source": [
    "maxWords = 30000\n",
    "maxSequenceLengthInWords = 400\n",
    "embeddingDimension = 300\n",
    "filtersNumber = 300\n",
    "\n",
    "input_layer = Input(shape=(maxSequenceLengthInWords,))\n",
    "\n",
    "pretrained_embedding_layer = Embedding(\n",
    "    maxWords, \n",
    "    output_dim=embeddingDimension, \n",
    "    input_length=maxSequenceLengthInWords,\n",
    "    weights = [np.load('fast_text_embeddings.npy')],\n",
    "    trainable = False\n",
    ")(input_layer)\n",
    "pretrained_embedding_layer = SpatialDropout1D(0.2)(pretrained_embedding_layer)\n",
    "\n",
    "custom_embedding_layer = Embedding(\n",
    "    maxWords, \n",
    "    output_dim=embeddingDimension, \n",
    "    input_length=maxSequenceLengthInWords,\n",
    "    weights = [np.load('custom_fast_text_embeddings.npy')],\n",
    "    trainable = False\n",
    ")(input_layer)\n",
    "custom_embedding_layer = SpatialDropout1D(0.2)(custom_embedding_layer)\n",
    "\n",
    "embedding = Average()([pretrained_embedding_layer, custom_embedding_layer])\n",
    "embedding_dropout = SpatialDropout1D(0.2)(embedding)\n",
    "\n",
    "features_1 = one_by_one(filtersNumber, embedding_dropout)\n",
    "features_1 = Add()([features_1, embedding_dropout])\n",
    "features_2 = one_by_one(filtersNumber, features_1)\n",
    "features_2 = Add()([features_2, features_1])\n",
    "features_3 = one_by_one(filtersNumber, features_2)\n",
    "features_3 = Add()([features_3, features_2])\n",
    "\n",
    "features_4 = one_by_one(filtersNumber, features_3)\n",
    "features_4 = Add()([features_4, features_3])\n",
    "features_5 = one_by_one(filtersNumber, features_4)\n",
    "features_5 = Add()([features_5, features_4])\n",
    "features_6 = one_by_one(filtersNumber, features_5)\n",
    "features_6 = Add()([features_6, features_5])\n",
    "\n",
    "features = yoon_kim_feature_extractor(filtersNumber, features_6)\n",
    "\n",
    "dense_1 = Dense(256, activation = 'elu')(features)\n",
    "dense_1_normalization = BatchNormalization()(dense_1)\n",
    "dense_1_dropout = Dropout(0.2)(dense_1_normalization)\n",
    "\n",
    "dense_2 = Dense(256, activation = 'elu')(dense_1_dropout)\n",
    "dense_2_normalization = BatchNormalization()(dense_2)\n",
    "dense_2_dropout = Dropout(0.2)(dense_2_normalization)\n",
    "\n",
    "output_layer = Dense(6, activation='sigmoid')(dense_2_dropout)\n",
    "\n",
    "model = Model(inputs=[input_layer], outputs=[output_layer])\n",
    "            \n",
    "model.summary()\n",
    "\n",
    "model.compile(\n",
    "    loss='binary_crossentropy', \n",
    "    optimizer='Adam',\n",
    "    metrics=['accuracy']\n",
    ")"
   ]
  },
  {
   "cell_type": "code",
   "execution_count": 11,
   "metadata": {
    "colab": {
     "autoexec": {
      "startup": false,
      "wait_interval": 0
     },
     "base_uri": "https://localhost:8080/",
     "height": 1138
    },
    "colab_type": "code",
    "executionInfo": {
     "elapsed": 18256015,
     "status": "ok",
     "timestamp": 1526436785335,
     "user": {
      "displayName": "Deep Learning",
      "photoUrl": "https://lh3.googleusercontent.com/a/default-user=s128",
      "userId": "110970714976109420834"
     },
     "user_tz": -120
    },
    "id": "xwMmTewgXynz",
    "outputId": "604aec44-e29d-4066-b9a7-0f519194e855"
   },
   "outputs": [
    {
     "name": "stdout",
     "output_type": "stream",
     "text": [
      "Train on 102124 samples, validate on 25532 samples\n",
      "Epoch 1/32\n",
      " 18336/102124 [====>.........................] - ETA: 9:03 - loss: 0.1976 - acc: 0.9208 49344/102124 [=============>................] - ETA: 5:34 - loss: 0.1168 - acc: 0.9558 81152/102124 [======================>.......] - ETA: 2:11 - loss: 0.0965 - acc: 0.9640102124/102124 [==============================] - 688s 7ms/step - loss: 0.0885 - acc: 0.9671 - val_loss: 0.0542 - val_acc: 0.9793\n",
      "Epoch 2/32\n",
      "  4128/102124 [>.............................] - ETA: 10:08 - loss: 0.0535 - acc: 0.9797 35168/102124 [=========>....................] - ETA: 6:56 - loss: 0.0566 - acc: 0.9790 65824/102124 [==================>...........] - ETA: 3:46 - loss: 0.0566 - acc: 0.9791 96224/102124 [===========================>..] - ETA: 36s - loss: 0.0564 - acc: 0.9793102124/102124 [==============================] - 684s 7ms/step - loss: 0.0562 - acc: 0.9794 - val_loss: 0.0449 - val_acc: 0.9830\n",
      "roc-auc: 0.9816 - roc-auc_val: 0.9793                                                                                                    \n",
      "Epoch 3/32\n",
      "  6208/102124 [>.............................] - ETA: 9:57 - loss: 0.0518 - acc: 0.9807 36128/102124 [=========>....................] - ETA: 6:51 - loss: 0.0520 - acc: 0.9809 66592/102124 [==================>...........] - ETA: 3:41 - loss: 0.0519 - acc: 0.9808 96576/102124 [===========================>..] - ETA: 34s - loss: 0.0517 - acc: 0.9807102124/102124 [==============================] - 684s 7ms/step - loss: 0.0516 - acc: 0.9807 - val_loss: 0.0440 - val_acc: 0.9829\n",
      "Epoch 4/32\n",
      " 10176/102124 [=>............................] - ETA: 9:31 - loss: 0.0483 - acc: 0.9824 40736/102124 [==========>...................] - ETA: 6:22 - loss: 0.0491 - acc: 0.9816 71232/102124 [===================>..........] - ETA: 3:12 - loss: 0.0493 - acc: 0.9815101056/102124 [============================>.] - ETA: 6s - loss: 0.0491 - acc: 0.9815102124/102124 [==============================] - 683s 7ms/step - loss: 0.0491 - acc: 0.9815 - val_loss: 0.0461 - val_acc: 0.9823\n",
      "roc-auc: 0.9851 - roc-auc_val: 0.9816                                                                                                    \n",
      "Epoch 5/32\n",
      "  7520/102124 [=>............................] - ETA: 9:46 - loss: 0.0479 - acc: 0.9822 39680/102124 [==========>...................] - ETA: 6:27 - loss: 0.0468 - acc: 0.9824 70432/102124 [===================>..........] - ETA: 3:16 - loss: 0.0473 - acc: 0.9821102124/102124 [==============================] - 681s 7ms/step - loss: 0.0474 - acc: 0.9821 - val_loss: 0.0430 - val_acc: 0.9834\n",
      "Epoch 6/32\n",
      "   320/102124 [..............................] - ETA: 10:27 - loss: 0.0570 - acc: 0.9760 33088/102124 [========>.....................] - ETA: 7:07 - loss: 0.0447 - acc: 0.9829 64992/102124 [==================>...........] - ETA: 3:50 - loss: 0.0452 - acc: 0.9826 97184/102124 [===========================>..] - ETA: 30s - loss: 0.0457 - acc: 0.9824102124/102124 [==============================] - 681s 7ms/step - loss: 0.0458 - acc: 0.9824 - val_loss: 0.0526 - val_acc: 0.9833\n",
      "roc-auc: 0.9726 - roc-auc_val: 0.9675                                                                                                    \n",
      "Epoch 7/32\n",
      "  6560/102124 [>.............................] - ETA: 9:53 - loss: 0.0408 - acc: 0.9842 38304/102124 [==========>...................] - ETA: 6:35 - loss: 0.0440 - acc: 0.9832 70368/102124 [===================>..........] - ETA: 3:16 - loss: 0.0446 - acc: 0.9829102124/102124 [==============================] - 681s 7ms/step - loss: 0.0443 - acc: 0.9829 - val_loss: 0.0405 - val_acc: 0.9843\n",
      "Epoch 8/32\n",
      "   448/102124 [..............................] - ETA: 10:34 - loss: 0.0373 - acc: 0.9859 33216/102124 [========>.....................] - ETA: 7:06 - loss: 0.0425 - acc: 0.9835 65152/102124 [==================>...........] - ETA: 3:49 - loss: 0.0429 - acc: 0.9834 96864/102124 [===========================>..] - ETA: 32s - loss: 0.0432 - acc: 0.9832102124/102124 [==============================] - 680s 7ms/step - loss: 0.0432 - acc: 0.9833 - val_loss: 0.0410 - val_acc: 0.9841\n",
      "roc-auc: 0.9912 - roc-auc_val: 0.9866                                                                                                    \n",
      "Epoch 9/32\n",
      "  6592/102124 [>.............................] - ETA: 9:52 - loss: 0.0411 - acc: 0.9839 39136/102124 [==========>...................] - ETA: 6:30 - loss: 0.0424 - acc: 0.9835 70848/102124 [===================>..........] - ETA: 3:13 - loss: 0.0422 - acc: 0.9833102124/102124 [==============================] - 681s 7ms/step - loss: 0.0422 - acc: 0.9835 - val_loss: 0.0420 - val_acc: 0.9842\n",
      "\n",
      "Epoch 00009: ReduceLROnPlateau reducing learning rate to 0.00021763764380011708.\n",
      "Epoch 10/32\n",
      "    96/102124 [..............................] - ETA: 10:26 - loss: 0.0401 - acc: 0.98 31744/102124 [========>.....................] - ETA: 7:16 - loss: 0.0416 - acc: 0.9837 64256/102124 [=================>............] - ETA: 3:54 - loss: 0.0414 - acc: 0.9840 96096/102124 [===========================>..] - ETA: 37s - loss: 0.0413 - acc: 0.9838102124/102124 [==============================] - 681s 7ms/step - loss: 0.0413 - acc: 0.9838 - val_loss: 0.0402 - val_acc: 0.9843\n",
      "roc-auc: 0.9927 - roc-auc_val: 0.9875                                                                                                    \n",
      "Epoch 11/32\n",
      "  6048/102124 [>.............................] - ETA: 9:56 - loss: 0.0397 - acc: 0.9843 38688/102124 [==========>...................] - ETA: 6:33 - loss: 0.0401 - acc: 0.9841 70240/102124 [===================>..........] - ETA: 3:17 - loss: 0.0406 - acc: 0.9839101568/102124 [============================>.] - ETA: 3s - loss: 0.0402 - acc: 0.9841102124/102124 [==============================] - 681s 7ms/step - loss: 0.0402 - acc: 0.9841 - val_loss: 0.0399 - val_acc: 0.9846\n",
      "Epoch 12/32\n",
      " 12032/102124 [==>...........................] - ETA: 9:18 - loss: 0.0382 - acc: 0.9842 44064/102124 [===========>..................] - ETA: 5:59 - loss: 0.0378 - acc: 0.9849 76160/102124 [=====================>........] - ETA: 2:40 - loss: 0.0390 - acc: 0.9845102124/102124 [==============================] - 680s 7ms/step - loss: 0.0395 - acc: 0.9843 - val_loss: 0.0397 - val_acc: 0.9846\n",
      "roc-auc: 0.9936 - roc-auc_val: 0.9879                                                                                                    \n",
      "Epoch 13/32\n",
      "  1536/102124 [..............................] - ETA: 10:23 - loss: 0.0398 - acc: 0.9839 34496/102124 [=========>....................] - ETA: 6:59 - loss: 0.0389 - acc: 0.9843 67360/102124 [==================>...........] - ETA: 3:35 - loss: 0.0388 - acc: 0.9845 99936/102124 [============================>.] - ETA: 13s - loss: 0.0389 - acc: 0.9844102124/102124 [==============================] - 680s 7ms/step - loss: 0.0388 - acc: 0.9845 - val_loss: 0.0397 - val_acc: 0.9846\n",
      "Epoch 14/32\n",
      " 11744/102124 [==>...........................] - ETA: 9:20 - loss: 0.0377 - acc: 0.9849 43968/102124 [===========>..................] - ETA: 6:00 - loss: 0.0382 - acc: 0.9847 75808/102124 [=====================>........] - ETA: 2:43 - loss: 0.0385 - acc: 0.9846102124/102124 [==============================] - 680s 7ms/step - loss: 0.0384 - acc: 0.9846 - val_loss: 0.0404 - val_acc: 0.9846\n",
      "roc-auc: 0.994 - roc-auc_val: 0.9875                                                                                                    \n",
      "Epoch 15/32\n",
      "  1184/102124 [..............................] - ETA: 10:22 - loss: 0.0392 - acc: 0.98 32704/102124 [========>.....................] - ETA: 7:10 - loss: 0.0376 - acc: 0.9853 65152/102124 [==================>...........] - ETA: 3:49 - loss: 0.0377 - acc: 0.9850 97728/102124 [===========================>..] - ETA: 27s - loss: 0.0377 - acc: 0.9850102124/102124 [==============================] - 681s 7ms/step - loss: 0.0377 - acc: 0.9850 - val_loss: 0.0403 - val_acc: 0.9846\n",
      "Epoch 16/32\n",
      " 10560/102124 [==>...........................] - ETA: 9:29 - loss: 0.0386 - acc: 0.9843 43072/102124 [===========>..................] - ETA: 6:06 - loss: 0.0369 - acc: 0.9849 76480/102124 [=====================>........] - ETA: 2:38 - loss: 0.0371 - acc: 0.9849102124/102124 [==============================] - 680s 7ms/step - loss: 0.0370 - acc: 0.9850 - val_loss: 0.0406 - val_acc: 0.9845\n",
      "roc-auc: 0.9947 - roc-auc_val: 0.9877                                                                                                    \n",
      "Epoch 17/32\n"
     ]
    },
    {
     "name": "stdout",
     "output_type": "stream",
     "text": [
      "  1536/102124 [..............................] - ETA: 10:19 - loss: 0.0371 - acc: 0.9848 34560/102124 [=========>....................] - ETA: 6:57 - loss: 0.0352 - acc: 0.9858 67040/102124 [==================>...........] - ETA: 3:37 - loss: 0.0361 - acc: 0.9855100448/102124 [============================>.] - ETA: 10s - loss: 0.0364 - acc: 0.9853102124/102124 [==============================] - 679s 7ms/step - loss: 0.0364 - acc: 0.9854 - val_loss: 0.0403 - val_acc: 0.9845\n",
      "Epoch 18/32\n",
      " 11648/102124 [==>...........................] - ETA: 9:20 - loss: 0.0350 - acc: 0.9858 44032/102124 [===========>..................] - ETA: 5:59 - loss: 0.0352 - acc: 0.9859 76000/102124 [=====================>........] - ETA: 2:41 - loss: 0.0360 - acc: 0.9855102124/102124 [==============================] - 679s 7ms/step - loss: 0.0361 - acc: 0.9854 - val_loss: 0.0398 - val_acc: 0.9845\n",
      "roc-auc: 0.9952 - roc-auc_val: 0.9879                                                                                                    \n",
      "Epoch 19/32\n",
      "  1600/102124 [..............................] - ETA: 10:22 - loss: 0.0397 - acc: 0.9846 35680/102124 [=========>....................] - ETA: 6:51 - loss: 0.0358 - acc: 0.9856 67168/102124 [==================>...........] - ETA: 3:36 - loss: 0.0352 - acc: 0.9858100000/102124 [============================>.] - ETA: 13s - loss: 0.0353 - acc: 0.9857102124/102124 [==============================] - 679s 7ms/step - loss: 0.0353 - acc: 0.9857 - val_loss: 0.0403 - val_acc: 0.9845\n",
      "Epoch 20/32\n",
      " 11680/102124 [==>...........................] - ETA: 9:19 - loss: 0.0345 - acc: 0.9859 44448/102124 [============>.................] - ETA: 5:56 - loss: 0.0349 - acc: 0.9863 77504/102124 [=====================>........] - ETA: 2:32 - loss: 0.0349 - acc: 0.9861102124/102124 [==============================] - 679s 7ms/step - loss: 0.0350 - acc: 0.9860 - val_loss: 0.0404 - val_acc: 0.9847\n",
      "\n",
      "Epoch 00020: ReduceLROnPlateau reducing learning rate to 6.934809061931446e-05.\n",
      "roc-auc: 0.9957 - roc-auc_val: 0.9871                                                                                                    \n",
      "Epoch 21/32\n",
      "  1600/102124 [..............................] - ETA: 10:24 - loss: 0.0383 - acc: 0.9840 33664/102124 [========>.....................] - ETA: 7:04 - loss: 0.0337 - acc: 0.9865 66304/102124 [==================>...........] - ETA: 3:41 - loss: 0.0341 - acc: 0.9862 98944/102124 [============================>.] - ETA: 19s - loss: 0.0342 - acc: 0.9861102124/102124 [==============================] - 680s 7ms/step - loss: 0.0343 - acc: 0.9860 - val_loss: 0.0409 - val_acc: 0.9846\n",
      "Epoch 22/32\n",
      " 11392/102124 [==>...........................] - ETA: 9:21 - loss: 0.0331 - acc: 0.986 44256/102124 [============>.................] - ETA: 5:57 - loss: 0.0338 - acc: 0.9863 76352/102124 [=====================>........] - ETA: 2:39 - loss: 0.0340 - acc: 0.9862102124/102124 [==============================] - 679s 7ms/step - loss: 0.0342 - acc: 0.9861 - val_loss: 0.0403 - val_acc: 0.9845\n",
      "roc-auc: 0.996 - roc-auc_val: 0.9877                                                                                                    \n",
      "Epoch 23/32\n",
      "  1696/102124 [..............................] - ETA: 10:19 - loss: 0.0388 - acc: 0.9863 33696/102124 [========>.....................] - ETA: 7:03 - loss: 0.0334 - acc: 0.9866 67008/102124 [==================>...........] - ETA: 3:37 - loss: 0.0337 - acc: 0.9863 99200/102124 [============================>.] - ETA: 18s - loss: 0.0336 - acc: 0.9864102124/102124 [==============================] - 679s 7ms/step - loss: 0.0336 - acc: 0.9864 - val_loss: 0.0406 - val_acc: 0.9845\n"
     ]
    }
   ],
   "source": [
    "history = train_with_cv(model, batchSize=32, rocEvery = 2)"
   ]
  },
  {
   "cell_type": "code",
   "execution_count": 12,
   "metadata": {
    "colab": {
     "autoexec": {
      "startup": false,
      "wait_interval": 0
     },
     "base_uri": "https://localhost:8080/",
     "height": 293
    },
    "colab_type": "code",
    "executionInfo": {
     "elapsed": 2835,
     "status": "ok",
     "timestamp": 1526436788243,
     "user": {
      "displayName": "Deep Learning",
      "photoUrl": "https://lh3.googleusercontent.com/a/default-user=s128",
      "userId": "110970714976109420834"
     },
     "user_tz": -120
    },
    "id": "sms3R-U4469B",
    "outputId": "e0a7c1f5-e850-4986-ad0d-7e87c5bb8592"
   },
   "outputs": [
    {
     "data": {
      "image/png": "[encoded data removed]",
      "text/plain": [
       "<matplotlib.figure.Figure at 0x7f446e6d2898>"
      ]
     },
     "metadata": {
      "tags": []
     },
     "output_type": "display_data"
    }
   ],
   "source": [
    "plot_history(history)"
   ]
  },
  {
   "cell_type": "code",
   "execution_count": 13,
   "metadata": {
    "colab": {
     "autoexec": {
      "startup": false,
      "wait_interval": 0
     },
     "base_uri": "https://localhost:8080/",
     "height": 52
    },
    "colab_type": "code",
    "executionInfo": {
     "elapsed": 121753,
     "status": "ok",
     "timestamp": 1526436911071,
     "user": {
      "displayName": "Deep Learning",
      "photoUrl": "https://lh3.googleusercontent.com/a/default-user=s128",
      "userId": "110970714976109420834"
     },
     "user_tz": -120
    },
    "id": "r2gtMBj2Tp9A",
    "outputId": "a29eac46-4808-4158-a357-f2453055f1b3"
   },
   "outputs": [
    {
     "name": "stdout",
     "output_type": "stream",
     "text": [
      "31915/31915 [==============================] - 63s 2ms/step\n",
      "([0.03925089866606355, 0.9849443707536347], 0.989641499587904)\n"
     ]
    }
   ],
   "source": [
    "print(evaluate_on_test(model))"
   ]
  }
 ],
 "metadata": {
  "accelerator": "GPU",
  "colab": {
   "collapsed_sections": [],
   "default_view": {},
   "name": "one-by-one-cnn-3-add-2.ipynb",
   "provenance": [],
   "version": "0.3.2",
   "views": {}
  },
  "kernelspec": {
   "display_name": "Python 3",
   "language": "python",
   "name": "python3"
  },
  "language_info": {
   "codemirror_mode": {
    "name": "ipython",
    "version": 3
   },
   "file_extension": ".py",
   "mimetype": "text/x-python",
   "name": "python",
   "nbconvert_exporter": "python",
   "pygments_lexer": "ipython3",
   "version": "3.6.2"
  }
 },
 "nbformat": 4,
 "nbformat_minor": 1
}

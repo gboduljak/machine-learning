{
 "cells": [
  {
   "cell_type": "code",
   "execution_count": 1,
   "metadata": {
    "colab": {
     "autoexec": {
      "startup": false,
      "wait_interval": 0
     },
     "base_uri": "https://localhost:8080/",
     "height": 407
    },
    "colab_type": "code",
    "executionInfo": {
     "elapsed": 11237,
     "status": "ok",
     "timestamp": 1526418322779,
     "user": {
      "displayName": "Deep Learning",
      "photoUrl": "https://lh3.googleusercontent.com/a/default-user=s128",
      "userId": "115257841230779963257"
     },
     "user_tz": -120
    },
    "id": "yS1FnhiWX3Js",
    "outputId": "5299840f-3eb1-4489-e3ec-5df2a400d65d"
   },
   "outputs": [
    {
     "name": "stdout",
     "output_type": "stream",
     "text": [
      "Requirement already satisfied: keras in /usr/local/lib/python3.6/dist-packages (2.1.6)\r\n",
      "Requirement already satisfied: h5py in /usr/local/lib/python3.6/dist-packages (from keras) (2.7.1)\r\n",
      "Requirement already satisfied: numpy>=1.9.1 in /usr/local/lib/python3.6/dist-packages (from keras) (1.14.3)\r\n",
      "Requirement already satisfied: scipy>=0.14 in /usr/local/lib/python3.6/dist-packages (from keras) (0.19.1)\r\n",
      "Requirement already satisfied: six>=1.9.0 in /usr/local/lib/python3.6/dist-packages (from keras) (1.11.0)\r\n",
      "Requirement already satisfied: pyyaml in /usr/local/lib/python3.6/dist-packages (from keras) (3.12)\n",
      "Collecting sklearn\n",
      "  Downloading https://files.pythonhosted.org/packages/1e/7a/dbb3be0ce9bd5c8b7e3d87328e79063f8b263b2b1bfa4774cb1147bfcd3f/sklearn-0.0.tar.gz\n",
      "Requirement already satisfied: scikit-learn in /usr/local/lib/python3.6/dist-packages (from sklearn) (0.19.1)\n",
      "Building wheels for collected packages: sklearn\n",
      "  Running setup.py bdist_wheel for sklearn ... \u001b[?25l-\b \bdone\n",
      "\u001b[?25h  Stored in directory: /content/.cache/pip/wheels/76/03/bb/589d421d27431bcd2c6da284d5f2286c8e3b2ea3cf1594c074\n",
      "Successfully built sklearn\n",
      "Installing collected packages: sklearn\n",
      "Successfully installed sklearn-0.0\n",
      "Requirement already satisfied: matplotlib in /usr/local/lib/python3.6/dist-packages (2.1.2)\n",
      "Requirement already satisfied: cycler>=0.10 in /usr/local/lib/python3.6/dist-packages (from matplotlib) (0.10.0)\n",
      "Requirement already satisfied: pyparsing!=2.0.4,!=2.1.2,!=2.1.6,>=2.0.1 in /usr/local/lib/python3.6/dist-packages (from matplotlib) (2.2.0)\n",
      "Requirement already satisfied: python-dateutil>=2.1 in /usr/local/lib/python3.6/dist-packages (from matplotlib) (2.5.3)\n",
      "Requirement already satisfied: pytz in /usr/local/lib/python3.6/dist-packages (from matplotlib) (2018.4)\n",
      "Requirement already satisfied: numpy>=1.7.1 in /usr/local/lib/python3.6/dist-packages (from matplotlib) (1.14.3)\n",
      "Requirement already satisfied: six>=1.10 in /usr/local/lib/python3.6/dist-packages (from matplotlib) (1.11.0)\n"
     ]
    }
   ],
   "source": [
    "!pip install keras\n",
    "!pip install sklearn\n",
    "!pip install matplotlib\n",
    "!pip install -U -q PyDrive"
   ]
  },
  {
   "cell_type": "code",
   "execution_count": 2,
   "metadata": {
    "colab": {
     "autoexec": {
      "startup": false,
      "wait_interval": 0
     },
     "base_uri": "https://localhost:8080/",
     "height": 34
    },
    "colab_type": "code",
    "executionInfo": {
     "elapsed": 7475,
     "status": "ok",
     "timestamp": 1526418330270,
     "user": {
      "displayName": "Deep Learning",
      "photoUrl": "https://lh3.googleusercontent.com/a/default-user=s128",
      "userId": "115257841230779963257"
     },
     "user_tz": -120
    },
    "id": "xlKzkDJFrjA-",
    "outputId": "c1376a1e-3dcb-498d-8840-a51730454b9d"
   },
   "outputs": [
    {
     "name": "stderr",
     "output_type": "stream",
     "text": [
      "Using TensorFlow backend.\n"
     ]
    }
   ],
   "source": [
    "from keras import backend as K\n",
    "K.clear_session()"
   ]
  },
  {
   "cell_type": "code",
   "execution_count": 0,
   "metadata": {
    "colab": {
     "autoexec": {
      "startup": false,
      "wait_interval": 0
     }
    },
    "colab_type": "code",
    "id": "eQEKwl4oAxO7"
   },
   "outputs": [],
   "source": [
    "from keras import backend as K\n",
    "cfg = K.tf.ConfigProto()\n",
    "cfg.gpu_options.allow_growth = True\n",
    "K.set_session(K.tf.Session(config=cfg))"
   ]
  },
  {
   "cell_type": "code",
   "execution_count": 0,
   "metadata": {
    "colab": {
     "autoexec": {
      "startup": false,
      "wait_interval": 0
     }
    },
    "colab_type": "code",
    "id": "12M0egCCX-27"
   },
   "outputs": [],
   "source": [
    "from pydrive.auth import GoogleAuth\n",
    "from pydrive.drive import GoogleDrive\n",
    "from google.colab import auth\n",
    "from oauth2client.client import GoogleCredentials\n",
    "\n",
    "auth.authenticate_user()\n",
    "gauth = GoogleAuth()\n",
    "gauth.credentials = GoogleCredentials.get_application_default()\n",
    "drive = GoogleDrive(gauth)"
   ]
  },
  {
   "cell_type": "code",
   "execution_count": 0,
   "metadata": {
    "colab": {
     "autoexec": {
      "startup": false,
      "wait_interval": 0
     }
    },
    "colab_type": "code",
    "id": "4lN2WTUEYBYv"
   },
   "outputs": [],
   "source": [
    "file_import = drive.CreateFile({'id':'1p1bsltfTcIrZ_kfE6kwGTPzcdXorHbb2'})\n",
    "file_import.GetContentFile('colab_setup.py') \n",
    "from colab_setup import setup\n",
    "\n",
    "setup(drive)"
   ]
  },
  {
   "cell_type": "code",
   "execution_count": 6,
   "metadata": {
    "colab": {
     "autoexec": {
      "startup": false,
      "wait_interval": 0
     },
     "base_uri": "https://localhost:8080/",
     "height": 123
    },
    "colab_type": "code",
    "executionInfo": {
     "elapsed": 1495,
     "status": "ok",
     "timestamp": 1526418381377,
     "user": {
      "displayName": "Deep Learning",
      "photoUrl": "https://lh3.googleusercontent.com/a/default-user=s128",
      "userId": "115257841230779963257"
     },
     "user_tz": -120
    },
    "id": "cHBlD0tVj2TY",
    "outputId": "a0bdc595-38f7-476a-9b7c-51f31e62d2eb"
   },
   "outputs": [
    {
     "name": "stdout",
     "output_type": "stream",
     "text": [
      "colab_setup.py\t\t\t roc_auc_callback.py\tX_train.npy\r\n",
      "custom_fast_text_embeddings.npy  sample_submission.csv\tX_val.npy\r\n",
      "datalab\t\t\t\t train_model.py\t\ty_test.npy\r\n",
      "fast_text_embeddings.npy\t X_submission.npy\ty_train_full.npy\r\n",
      "plot_history.py\t\t\t X_test.npy\t\ty_train.npy\r\n",
      "__pycache__\t\t\t X_train_full.npy\ty_val.npy\r\n"
     ]
    }
   ],
   "source": [
    "!ls"
   ]
  },
  {
   "cell_type": "code",
   "execution_count": 0,
   "metadata": {
    "colab": {
     "autoexec": {
      "startup": false,
      "wait_interval": 0
     }
    },
    "colab_type": "code",
    "id": "yMwWPTMYXyno"
   },
   "outputs": [],
   "source": [
    "import numpy as np\n",
    "import os\n",
    "\n",
    "from plot_history import plot_history\n",
    "from roc_auc_callback import RocAucCallback\n",
    "from train_model import train_with_cv, train_with_submitting, evaluate_on_test\n",
    "\n",
    "from keras.models import Model\n",
    "from keras.layers import *\n",
    "from keras.layers.merge import concatenate"
   ]
  },
  {
   "cell_type": "code",
   "execution_count": 0,
   "metadata": {
    "colab": {
     "autoexec": {
      "startup": false,
      "wait_interval": 0
     }
    },
    "colab_type": "code",
    "id": "MIWjPi9bs5d4"
   },
   "outputs": [],
   "source": [
    "def one_by_one(filtersNumber, inputLayer, dropout = 0.2):\n",
    "    one_by_one = Conv1D(filtersNumber, 1, activation = 'elu', padding = 'same', kernel_initializer = 'he_uniform')(inputLayer)\n",
    "    one_by_one = BatchNormalization()(one_by_one)\n",
    "    one_by_one = SpatialDropout1D(dropout)(one_by_one)\n",
    "    \n",
    "    return one_by_one"
   ]
  },
  {
   "cell_type": "code",
   "execution_count": null,
   "metadata": {},
   "outputs": [],
   "source": [
    "def one_by_three_cnn(filtersNumber, inputLayer, dropout = 0.2):\n",
    "    one_by_one = Conv1D(filtersNumber, 3, activation = 'elu', padding = 'same', kernel_initializer = 'he_uniform')(inputLayer)\n",
    "    one_by_one = BatchNormalization()(one_by_one)\n",
    "    one_by_one = SpatialDropout1D(dropout)(one_by_one)\n",
    "    \n",
    "    return one_by_one"
   ]
  },
  {
   "cell_type": "code",
   "execution_count": 0,
   "metadata": {
    "colab": {
     "autoexec": {
      "startup": false,
      "wait_interval": 0
     }
    },
    "colab_type": "code",
    "id": "zrmoc20_ngdA"
   },
   "outputs": [],
   "source": [
    "def yoon_kim_feature_extractor(filtersNumber, inputLayer):\n",
    "    block_1_conv_1 = Conv1D(filtersNumber, 1, activation = 'elu', padding = 'same', kernel_initializer = 'he_uniform')(inputLayer)\n",
    "    block_1_batchnorm1 = BatchNormalization()(block_1_conv_1)\n",
    "    block_1_max_pool1 = GlobalMaxPooling1D()(block_1_batchnorm1)\n",
    "\n",
    "    block_1_conv_2 = Conv1D(filtersNumber, 2, activation = 'elu', padding = 'same', kernel_initializer = 'he_uniform')(inputLayer)\n",
    "    block_1_batchnorm2 = BatchNormalization()(block_1_conv_2)\n",
    "    block_1_max_pool2 = GlobalMaxPooling1D()(block_1_batchnorm2)\n",
    "\n",
    "    block_1_conv_3 = Conv1D(filtersNumber, 3, activation = 'elu', padding = 'same', kernel_initializer = 'he_uniform')(inputLayer)\n",
    "    block_1_batchnorm3 = BatchNormalization()(block_1_conv_3)\n",
    "    block_1_max_pool3 = GlobalMaxPooling1D()(block_1_batchnorm3)\n",
    "\n",
    "    block_1_conv_4 = Conv1D(filtersNumber, 5, activation = 'elu', padding = 'same', kernel_initializer = 'he_uniform')(inputLayer)\n",
    "    block_1_batchnorm4 = BatchNormalization()(block_1_conv_4)\n",
    "    block_1_max_pool4 = GlobalMaxPooling1D()(block_1_batchnorm4)\n",
    "\n",
    "    block_1_features = concatenate([\n",
    "        block_1_max_pool1, \n",
    "        block_1_max_pool2, \n",
    "        block_1_max_pool3, \n",
    "        block_1_max_pool4\n",
    "    ])\n",
    "    block_1_features = Dropout(0.2)(block_1_features)\n",
    "    return block_1_features"
   ]
  },
  {
   "cell_type": "code",
   "execution_count": 10,
   "metadata": {
    "colab": {
     "autoexec": {
      "startup": false,
      "wait_interval": 0
     },
     "base_uri": "https://localhost:8080/",
     "height": 1761
    },
    "colab_type": "code",
    "executionInfo": {
     "elapsed": 2376,
     "status": "ok",
     "timestamp": 1526418385670,
     "user": {
      "displayName": "Deep Learning",
      "photoUrl": "https://lh3.googleusercontent.com/a/default-user=s128",
      "userId": "115257841230779963257"
     },
     "user_tz": -120
    },
    "id": "LTFG7OgsXynw",
    "outputId": "093f9daf-016c-4510-d86d-cb58d5504019"
   },
   "outputs": [
    {
     "name": "stdout",
     "output_type": "stream",
     "text": [
      "WARNING:tensorflow:From /usr/local/lib/python3.6/dist-packages/tensorflow/python/util/deprecation.py:497: calling conv1d (from tensorflow.python.ops.nn_ops) with data_format=NHWC is deprecated and will be removed in a future version.\n",
      "Instructions for updating:\n",
      "`NHWC` for data_format is deprecated, use `NWC` instead\n",
      "__________________________________________________________________________________________________\n",
      "Layer (type)                    Output Shape         Param #     Connected to                     \n",
      "==================================================================================================\n",
      "input_1 (InputLayer)            (None, 400)          0                                            \n",
      "__________________________________________________________________________________________________\n",
      "embedding_1 (Embedding)         (None, 400, 300)     9000000     input_1[0][0]                    \n",
      "__________________________________________________________________________________________________\n",
      "embedding_2 (Embedding)         (None, 400, 300)     9000000     input_1[0][0]                    \n",
      "__________________________________________________________________________________________________\n",
      "spatial_dropout1d_1 (SpatialDro (None, 400, 300)     0           embedding_1[0][0]                \n",
      "__________________________________________________________________________________________________\n",
      "spatial_dropout1d_2 (SpatialDro (None, 400, 300)     0           embedding_2[0][0]                \n",
      "__________________________________________________________________________________________________\n",
      "average_1 (Average)             (None, 400, 300)     0           spatial_dropout1d_1[0][0]        \n",
      "                                                                 spatial_dropout1d_2[0][0]        \n",
      "__________________________________________________________________________________________________\n",
      "spatial_dropout1d_3 (SpatialDro (None, 400, 300)     0           average_1[0][0]                  \n",
      "__________________________________________________________________________________________________\n",
      "conv1d_1 (Conv1D)               (None, 400, 300)     90300       spatial_dropout1d_3[0][0]        \n",
      "__________________________________________________________________________________________________\n",
      "batch_normalization_1 (BatchNor (None, 400, 300)     1200        conv1d_1[0][0]                   \n",
      "__________________________________________________________________________________________________\n",
      "spatial_dropout1d_4 (SpatialDro (None, 400, 300)     0           batch_normalization_1[0][0]      \n",
      "__________________________________________________________________________________________________\n",
      "add_1 (Add)                     (None, 400, 300)     0           spatial_dropout1d_4[0][0]        \n",
      "                                                                 spatial_dropout1d_3[0][0]        \n",
      "__________________________________________________________________________________________________\n",
      "conv1d_2 (Conv1D)               (None, 400, 300)     90300       add_1[0][0]                      \n",
      "__________________________________________________________________________________________________\n",
      "batch_normalization_2 (BatchNor (None, 400, 300)     1200        conv1d_2[0][0]                   \n",
      "__________________________________________________________________________________________________\n",
      "spatial_dropout1d_5 (SpatialDro (None, 400, 300)     0           batch_normalization_2[0][0]      \n",
      "__________________________________________________________________________________________________\n",
      "add_2 (Add)                     (None, 400, 300)     0           spatial_dropout1d_5[0][0]        \n",
      "                                                                 add_1[0][0]                      \n",
      "__________________________________________________________________________________________________\n",
      "conv1d_3 (Conv1D)               (None, 400, 300)     90300       add_2[0][0]                      \n",
      "__________________________________________________________________________________________________\n",
      "batch_normalization_3 (BatchNor (None, 400, 300)     1200        conv1d_3[0][0]                   \n",
      "__________________________________________________________________________________________________\n",
      "spatial_dropout1d_6 (SpatialDro (None, 400, 300)     0           batch_normalization_3[0][0]      \n",
      "__________________________________________________________________________________________________\n",
      "add_3 (Add)                     (None, 400, 300)     0           spatial_dropout1d_6[0][0]        \n",
      "                                                                 add_2[0][0]                      \n",
      "__________________________________________________________________________________________________\n",
      "conv1d_4 (Conv1D)               (None, 400, 300)     90300       add_3[0][0]                      \n",
      "__________________________________________________________________________________________________\n",
      "conv1d_5 (Conv1D)               (None, 400, 300)     180300      add_3[0][0]                      \n",
      "__________________________________________________________________________________________________\n",
      "conv1d_6 (Conv1D)               (None, 400, 300)     270300      add_3[0][0]                      \n",
      "__________________________________________________________________________________________________\n",
      "conv1d_7 (Conv1D)               (None, 400, 300)     450300      add_3[0][0]                      \n",
      "__________________________________________________________________________________________________\n",
      "batch_normalization_4 (BatchNor (None, 400, 300)     1200        conv1d_4[0][0]                   \n",
      "__________________________________________________________________________________________________\n",
      "batch_normalization_5 (BatchNor (None, 400, 300)     1200        conv1d_5[0][0]                   \n",
      "__________________________________________________________________________________________________\n",
      "batch_normalization_6 (BatchNor (None, 400, 300)     1200        conv1d_6[0][0]                   \n",
      "__________________________________________________________________________________________________\n",
      "batch_normalization_7 (BatchNor (None, 400, 300)     1200        conv1d_7[0][0]                   \n",
      "__________________________________________________________________________________________________\n",
      "global_max_pooling1d_1 (GlobalM (None, 300)          0           batch_normalization_4[0][0]      \n",
      "__________________________________________________________________________________________________\n",
      "global_max_pooling1d_2 (GlobalM (None, 300)          0           batch_normalization_5[0][0]      \n",
      "__________________________________________________________________________________________________\n",
      "global_max_pooling1d_3 (GlobalM (None, 300)          0           batch_normalization_6[0][0]      \n",
      "__________________________________________________________________________________________________\n",
      "global_max_pooling1d_4 (GlobalM (None, 300)          0           batch_normalization_7[0][0]      \n",
      "__________________________________________________________________________________________________\n",
      "concatenate_1 (Concatenate)     (None, 1200)         0           global_max_pooling1d_1[0][0]     \n",
      "                                                                 global_max_pooling1d_2[0][0]     \n",
      "                                                                 global_max_pooling1d_3[0][0]     \n",
      "                                                                 global_max_pooling1d_4[0][0]     \n",
      "__________________________________________________________________________________________________\n",
      "dropout_1 (Dropout)             (None, 1200)         0           concatenate_1[0][0]              \n",
      "__________________________________________________________________________________________________\n",
      "dense_1 (Dense)                 (None, 256)          307456      dropout_1[0][0]                  \n",
      "__________________________________________________________________________________________________\n",
      "batch_normalization_8 (BatchNor (None, 256)          1024        dense_1[0][0]                    \n",
      "__________________________________________________________________________________________________\n",
      "dropout_2 (Dropout)             (None, 256)          0           batch_normalization_8[0][0]      \n",
      "__________________________________________________________________________________________________\n",
      "dense_2 (Dense)                 (None, 256)          65792       dropout_2[0][0]                  \n",
      "__________________________________________________________________________________________________\n",
      "batch_normalization_9 (BatchNor (None, 256)          1024        dense_2[0][0]                    \n",
      "__________________________________________________________________________________________________\n",
      "dropout_3 (Dropout)             (None, 256)          0           batch_normalization_9[0][0]      \n",
      "__________________________________________________________________________________________________\n",
      "dense_3 (Dense)                 (None, 6)            1542        dropout_3[0][0]                  \n",
      "==================================================================================================\n",
      "Total params: 19,647,338\n",
      "Trainable params: 1,642,114\n",
      "Non-trainable params: 18,005,224\n",
      "__________________________________________________________________________________________________\n"
     ]
    }
   ],
   "source": [
    "maxWords = 30000\n",
    "maxSequenceLengthInWords = 400\n",
    "embeddingDimension = 300\n",
    "filtersNumber = 300\n",
    "\n",
    "input_layer = Input(shape=(maxSequenceLengthInWords,))\n",
    "\n",
    "pretrained_embedding_layer = Embedding(\n",
    "    maxWords, \n",
    "    output_dim=embeddingDimension, \n",
    "    input_length=maxSequenceLengthInWords,\n",
    "    weights = [np.load('fast_text_embeddings.npy')],\n",
    "    trainable = False\n",
    ")(input_layer)\n",
    "pretrained_embedding_layer = SpatialDropout1D(0.2)(pretrained_embedding_layer)\n",
    "\n",
    "custom_embedding_layer = Embedding(\n",
    "    maxWords, \n",
    "    output_dim=embeddingDimension, \n",
    "    input_length=maxSequenceLengthInWords,\n",
    "    weights = [np.load('custom_fast_text_embeddings.npy')],\n",
    "    trainable = False\n",
    ")(input_layer)\n",
    "custom_embedding_layer = SpatialDropout1D(0.2)(custom_embedding_layer)\n",
    "\n",
    "embedding = Average()([pretrained_embedding_layer, custom_embedding_layer])\n",
    "embedding_dropout = SpatialDropout1D(0.2)(embedding)\n",
    "\n",
    "block_1 = one_by_one(filtersNumber, embedding_dropout)\n",
    "block_1 = one_by_one(filtersNumber, block_1)\n",
    "block_1 = one_by_one(filtersNumber, block_1)\n",
    "\n",
    "block_2 = one_by_three_cnn(filtersNumber // 2, block_1)\n",
    "block_2 = one_by_three_cnn(filtersNumber // 2, block_1)\n",
    "pool1 = MaxPooling1D()(block_2)\n",
    "\n",
    "block_3 = one_by_three_cnn(filtersNumber, block_1)\n",
    "block_3 = one_by_three_cnn(filtersNumber, block_1)\n",
    "pool2 = MaxPooling1D()(block_3)\n",
    "\n",
    "block_4 = one_by_three_cnn(filtersNumber * 2, block_1)\n",
    "block_4 = one_by_three_cnn(filtersNumber * 2, block_1)\n",
    "pool3 = MaxPooling1D()(block_4)\n",
    "\n",
    "features = yoon_kim_feature_extractor(filtersNumber, pool3)\n",
    "\n",
    "dense_1 = Dense(256, activation = 'elu')(features)\n",
    "dense_1_normalization = BatchNormalization()(dense_1)\n",
    "dense_1_dropout = Dropout(0.2)(dense_1_normalization)\n",
    "\n",
    "dense_2 = Dense(256, activation = 'elu')(dense_1_dropout)\n",
    "dense_2_normalization = BatchNormalization()(dense_2)\n",
    "dense_2_dropout = Dropout(0.2)(dense_2_normalization)\n",
    "\n",
    "output_layer = Dense(6, activation='sigmoid')(dense_2_dropout)\n",
    "\n",
    "model = Model(inputs=[input_layer], outputs=[output_layer])\n",
    "            \n",
    "model.summary()\n",
    "\n",
    "model.compile(\n",
    "    loss='binary_crossentropy', \n",
    "    optimizer='Adam',\n",
    "    metrics=['accuracy']\n",
    ")"
   ]
  },
  {
   "cell_type": "code",
   "execution_count": 12,
   "metadata": {
    "colab": {
     "autoexec": {
      "startup": false,
      "wait_interval": 0
     },
     "base_uri": "https://localhost:8080/",
     "height": 978
    },
    "colab_type": "code",
    "executionInfo": {
     "elapsed": 12160205,
     "status": "ok",
     "timestamp": 1526430556396,
     "user": {
      "displayName": "Deep Learning",
      "photoUrl": "https://lh3.googleusercontent.com/a/default-user=s128",
      "userId": "115257841230779963257"
     },
     "user_tz": -120
    },
    "id": "xwMmTewgXynz",
    "outputId": "984c20ac-b04f-4d33-c7ce-9bdc37dfa8f5"
   },
   "outputs": [
    {
     "name": "stdout",
     "output_type": "stream",
     "text": [
      "Train on 102124 samples, validate on 25532 samples\n",
      "Epoch 1/32\n",
      " 21440/102124 [=====>........................] - ETA: 6:23 - loss: 0.1747 - acc: 0.9326102112/102124 [============================>.] - ETA: 0s - loss: 0.0858 - acc: 0.9682102124/102124 [==============================] - 522s 5ms/step - loss: 0.0859 - acc: 0.9682 - val_loss: 0.0480 - val_acc: 0.9823\n",
      "Epoch 2/32\n",
      " 14048/102124 [===>..........................] - ETA: 6:58 - loss: 0.0546 - acc: 0.9796102112/102124 [============================>.] - ETA: 0s - loss: 0.0543 - acc: 0.9800102124/102124 [==============================] - 521s 5ms/step - loss: 0.0543 - acc: 0.9800 - val_loss: 0.0437 - val_acc: 0.9833\n",
      "roc-auc: 0.9842 - roc-auc_val: 0.9819                                                                                                    \n",
      "Epoch 3/32\n",
      "  8736/102124 [=>............................] - ETA: 7:24 - loss: 0.0523 - acc: 0.9800102112/102124 [============================>.] - ETA: 0s - loss: 0.0500 - acc: 0.9810102124/102124 [==============================] - 523s 5ms/step - loss: 0.0500 - acc: 0.9810 - val_loss: 0.0436 - val_acc: 0.9835\n",
      "Epoch 4/32\n",
      " 14048/102124 [===>..........................] - ETA: 6:59 - loss: 0.0485 - acc: 0.9814102112/102124 [============================>.] - ETA: 0s - loss: 0.0477 - acc: 0.9820102124/102124 [==============================] - 522s 5ms/step - loss: 0.0477 - acc: 0.9820 - val_loss: 0.0419 - val_acc: 0.9840\n",
      "roc-auc: 0.9898 - roc-auc_val: 0.9867                                                                                                    \n",
      "Epoch 5/32\n",
      "  8736/102124 [=>............................] - ETA: 7:22 - loss: 0.0458 - acc: 0.9820102112/102124 [============================>.] - ETA: 0s - loss: 0.0455 - acc: 0.9824102124/102124 [==============================] - 521s 5ms/step - loss: 0.0455 - acc: 0.9824 - val_loss: 0.0415 - val_acc: 0.9837\n",
      "Epoch 6/32\n",
      " 14048/102124 [===>..........................] - ETA: 6:59 - loss: 0.0451 - acc: 0.9823102112/102124 [============================>.] - ETA: 0s - loss: 0.0441 - acc: 0.9829102124/102124 [==============================] - 521s 5ms/step - loss: 0.0441 - acc: 0.9829 - val_loss: 0.0409 - val_acc: 0.9839\n",
      "roc-auc: 0.9918 - roc-auc_val: 0.9881                                                                                                    \n",
      "Epoch 7/32\n",
      "  8736/102124 [=>............................] - ETA: 7:23 - loss: 0.0401 - acc: 0.9852102112/102124 [============================>.] - ETA: 0s - loss: 0.0429 - acc: 0.9835102124/102124 [==============================] - 518s 5ms/step - loss: 0.0429 - acc: 0.9835 - val_loss: 0.0402 - val_acc: 0.9845\n",
      "Epoch 8/32\n",
      " 14048/102124 [===>..........................] - ETA: 6:56 - loss: 0.0400 - acc: 0.9841102112/102124 [============================>.] - ETA: 0s - loss: 0.0418 - acc: 0.9836102124/102124 [==============================] - 518s 5ms/step - loss: 0.0418 - acc: 0.9836 - val_loss: 0.0399 - val_acc: 0.9842\n",
      "roc-auc: 0.992 - roc-auc_val: 0.9886                                                                                                    \n",
      "Epoch 9/32\n",
      "  8768/102124 [=>............................] - ETA: 7:20 - loss: 0.0384 - acc: 0.9845102112/102124 [============================>.] - ETA: 0s - loss: 0.0407 - acc: 0.9841102124/102124 [==============================] - 518s 5ms/step - loss: 0.0407 - acc: 0.9841 - val_loss: 0.0402 - val_acc: 0.9845\n",
      "Epoch 10/32\n",
      " 13984/102124 [===>..........................] - ETA: 6:55 - loss: 0.0404 - acc: 0.9840102112/102124 [============================>.] - ETA: 0s - loss: 0.0401 - acc: 0.9842102124/102124 [==============================] - 518s 5ms/step - loss: 0.0401 - acc: 0.9842 - val_loss: 0.0398 - val_acc: 0.9847\n",
      "roc-auc: 0.9937 - roc-auc_val: 0.9879                                                                                                    \n",
      "Epoch 11/32\n",
      "  8704/102124 [=>............................] - ETA: 7:20 - loss: 0.0393 - acc: 0.9838102112/102124 [============================>.] - ETA: 0s - loss: 0.0389 - acc: 0.9846102124/102124 [==============================] - 518s 5ms/step - loss: 0.0390 - acc: 0.9845 - val_loss: 0.0399 - val_acc: 0.9845\n",
      "Epoch 12/32\n",
      "102124/102124 [==============================] - 518s 5ms/step - loss: 0.0383 - acc: 0.9848 - val_loss: 0.0401 - val_acc: 0.9845==>.] - ETA: 0s - loss: 0.0383 - acc: 0.984\n",
      "\n",
      "Epoch 00012: ReduceLROnPlateau reducing learning rate to 0.0001593200722709298.\n",
      "roc-auc: 0.9938 - roc-auc_val: 0.9882                                                                                                    \n",
      "Epoch 13/32\n",
      "  5952/102124 [>.............................] - ETA: 7:34 - loss: 0.0367 - acc: 0.9846102112/102124 [============================>.] - ETA: 0s - loss: 0.0372 - acc: 0.9850102124/102124 [==============================] - 518s 5ms/step - loss: 0.0371 - acc: 0.9850 - val_loss: 0.0401 - val_acc: 0.9847\n",
      "Epoch 14/32\n",
      " 13984/102124 [===>..........................] - ETA: 6:55 - loss: 0.0373 - acc: 0.9849102112/102124 [============================>.] - ETA: 0s - loss: 0.0367 - acc: 0.9849102124/102124 [==============================] - 518s 5ms/step - loss: 0.0367 - acc: 0.9849 - val_loss: 0.0404 - val_acc: 0.9846\n",
      "roc-auc: 0.9946 - roc-auc_val: 0.9865                                                                                                    \n",
      "Epoch 15/32\n",
      "  8704/102124 [=>............................] - ETA: 7:19 - loss: 0.0361 - acc: 0.9857102112/102124 [============================>.] - ETA: 0s - loss: 0.0360 - acc: 0.9856102124/102124 [==============================] - 516s 5ms/step - loss: 0.0360 - acc: 0.9856 - val_loss: 0.0400 - val_acc: 0.9850\n",
      "Epoch 16/32\n",
      " 13984/102124 [===>..........................] - ETA: 6:54 - loss: 0.0371 - acc: 0.9853102112/102124 [============================>.] - ETA: 0s - loss: 0.0353 - acc: 0.9857102124/102124 [==============================] - 518s 5ms/step - loss: 0.0353 - acc: 0.9857 - val_loss: 0.0401 - val_acc: 0.9846\n",
      "roc-auc: 0.9949 - roc-auc_val: 0.9881                                                                                                    \n",
      "Epoch 17/32\n",
      "  8704/102124 [=>............................] - ETA: 7:21 - loss: 0.0341 - acc: 0.9859102112/102124 [============================>.] - ETA: 0s - loss: 0.0348 - acc: 0.9859102124/102124 [==============================] - 519s 5ms/step - loss: 0.0348 - acc: 0.9859 - val_loss: 0.0407 - val_acc: 0.9848\n",
      "Epoch 18/32\n",
      " 13984/102124 [===>..........................] - ETA: 6:56 - loss: 0.0353 - acc: 0.9857102112/102124 [============================>.] - ETA: 0s - loss: 0.0343 - acc: 0.9860102124/102124 [==============================] - 519s 5ms/step - loss: 0.0343 - acc: 0.9859 - val_loss: 0.0406 - val_acc: 0.9847\n",
      "roc-auc: 0.9958 - roc-auc_val: 0.9883                                                                                                    \n",
      "Epoch 19/32\n",
      "  8704/102124 [=>............................] - ETA: 7:21 - loss: 0.0327 - acc: 0.9868102112/102124 [============================>.] - ETA: 0s - loss: 0.0336 - acc: 0.9864102124/102124 [==============================] - 519s 5ms/step - loss: 0.0336 - acc: 0.9864 - val_loss: 0.0410 - val_acc: 0.9848\n",
      "Epoch 20/32\n",
      " 13984/102124 [===>..........................] - ETA: 6:54 - loss: 0.0340 - acc: 0.9860102112/102124 [============================>.] - ETA: 0s - loss: 0.0331 - acc: 0.9864102124/102124 [==============================] - 516s 5ms/step - loss: 0.0331 - acc: 0.9864 - val_loss: 0.0408 - val_acc: 0.9847\n",
      "roc-auc: 0.9959 - roc-auc_val: 0.9875                                                                                                    \n"
     ]
    }
   ],
   "source": [
    "history = train_with_cv(model, batchSize=32, rocEvery = 2)"
   ]
  },
  {
   "cell_type": "code",
   "execution_count": 13,
   "metadata": {
    "colab": {
     "autoexec": {
      "startup": false,
      "wait_interval": 0
     },
     "base_uri": "https://localhost:8080/",
     "height": 293
    },
    "colab_type": "code",
    "executionInfo": {
     "elapsed": 2102,
     "status": "ok",
     "timestamp": 1526430558545,
     "user": {
      "displayName": "Deep Learning",
      "photoUrl": "https://lh3.googleusercontent.com/a/default-user=s128",
      "userId": "115257841230779963257"
     },
     "user_tz": -120
    },
    "id": "sms3R-U4469B",
    "outputId": "a911d78a-b384-434f-f908-b7366f459c1f"
   },
   "outputs": [
    {
     "data": {
      "image/png": "[encoded data removed]",
      "text/plain": [
       "<matplotlib.figure.Figure at 0x7fa8794e1470>"
      ]
     },
     "metadata": {
      "tags": []
     },
     "output_type": "display_data"
    }
   ],
   "source": [
    "plot_history(history)"
   ]
  },
  {
   "cell_type": "code",
   "execution_count": 14,
   "metadata": {
    "colab": {
     "autoexec": {
      "startup": false,
      "wait_interval": 0
     },
     "base_uri": "https://localhost:8080/",
     "height": 52
    },
    "colab_type": "code",
    "executionInfo": {
     "elapsed": 90783,
     "status": "ok",
     "timestamp": 1526430650385,
     "user": {
      "displayName": "Deep Learning",
      "photoUrl": "https://lh3.googleusercontent.com/a/default-user=s128",
      "userId": "115257841230779963257"
     },
     "user_tz": -120
    },
    "id": "r2gtMBj2Tp9A",
    "outputId": "a39e7f7d-2f2d-4443-e9c0-f9878532ef6f"
   },
   "outputs": [
    {
     "name": "stdout",
     "output_type": "stream",
     "text": [
      "31915/31915 [==============================] - 46s 1ms/step\n",
      "([0.03957720895376761, 0.9846989267488342], 0.9875075148934629)\n"
     ]
    }
   ],
   "source": [
    "print(evaluate_on_test(model))"
   ]
  }
 ],
 "metadata": {
  "accelerator": "GPU",
  "colab": {
   "collapsed_sections": [],
   "default_view": {},
   "name": "one-by-one-cnn-3-add-1.ipynb",
   "provenance": [],
   "version": "0.3.2",
   "views": {}
  },
  "kernelspec": {
   "display_name": "Python 3",
   "language": "python",
   "name": "python3"
  },
  "language_info": {
   "codemirror_mode": {
    "name": "ipython",
    "version": 3
   },
   "file_extension": ".py",
   "mimetype": "text/x-python",
   "name": "python",
   "nbconvert_exporter": "python",
   "pygments_lexer": "ipython3",
   "version": "3.6.2"
  }
 },
 "nbformat": 4,
 "nbformat_minor": 1
}

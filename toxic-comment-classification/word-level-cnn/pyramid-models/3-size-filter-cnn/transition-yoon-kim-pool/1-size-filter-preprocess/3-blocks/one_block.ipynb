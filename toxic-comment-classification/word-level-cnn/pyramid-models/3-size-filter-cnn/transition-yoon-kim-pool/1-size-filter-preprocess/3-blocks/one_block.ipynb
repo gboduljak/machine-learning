{
 "cells": [
  {
   "cell_type": "code",
   "execution_count": 1,
   "metadata": {
    "colab": {
     "autoexec": {
      "startup": false,
      "wait_interval": 0
     },
     "base_uri": "https://localhost:8080/",
     "height": 411
    },
    "colab_type": "code",
    "executionInfo": {
     "elapsed": 10939,
     "status": "ok",
     "timestamp": 1531660108287,
     "user": {
      "displayName": "Deep Learning",
      "photoUrl": "https://lh3.googleusercontent.com/a/default-user=s128",
      "userId": "115257841230779963257"
     },
     "user_tz": -120
    },
    "id": "yS1FnhiWX3Js",
    "outputId": "fc9a4967-039e-4e4e-acfe-dfc32de65e26"
   },
   "outputs": [
    {
     "name": "stdout",
     "output_type": "stream",
     "text": [
      "Requirement already satisfied: keras in /usr/local/lib/python3.6/dist-packages (2.1.6)\r\n",
      "Requirement already satisfied: six>=1.9.0 in /usr/local/lib/python3.6/dist-packages (from keras) (1.11.0)\r\n",
      "Requirement already satisfied: scipy>=0.14 in /usr/local/lib/python3.6/dist-packages (from keras) (0.19.1)\r\n",
      "Requirement already satisfied: h5py in /usr/local/lib/python3.6/dist-packages (from keras) (2.8.0)\r\n",
      "Requirement already satisfied: pyyaml in /usr/local/lib/python3.6/dist-packages (from keras) (3.13)\r\n",
      "Requirement already satisfied: numpy>=1.9.1 in /usr/local/lib/python3.6/dist-packages (from keras) (1.14.5)\n",
      "Collecting sklearn\n",
      "  Downloading https://files.pythonhosted.org/packages/1e/7a/dbb3be0ce9bd5c8b7e3d87328e79063f8b263b2b1bfa4774cb1147bfcd3f/sklearn-0.0.tar.gz\n",
      "Requirement already satisfied: scikit-learn in /usr/local/lib/python3.6/dist-packages (from sklearn) (0.19.1)\n",
      "Building wheels for collected packages: sklearn\n",
      "  Running setup.py bdist_wheel for sklearn ... \u001b[?25l-\b \bdone\n",
      "\u001b[?25h  Stored in directory: /content/.cache/pip/wheels/76/03/bb/589d421d27431bcd2c6da284d5f2286c8e3b2ea3cf1594c074\n",
      "Successfully built sklearn\n",
      "Installing collected packages: sklearn\n",
      "Successfully installed sklearn-0.0\n",
      "Requirement already satisfied: matplotlib in /usr/local/lib/python3.6/dist-packages (2.1.2)\n",
      "Requirement already satisfied: pyparsing!=2.0.4,!=2.1.2,!=2.1.6,>=2.0.1 in /usr/local/lib/python3.6/dist-packages (from matplotlib) (2.2.0)\n",
      "Requirement already satisfied: pytz in /usr/local/lib/python3.6/dist-packages (from matplotlib) (2018.5)\n",
      "Requirement already satisfied: python-dateutil>=2.1 in /usr/local/lib/python3.6/dist-packages (from matplotlib) (2.5.3)\n",
      "Requirement already satisfied: cycler>=0.10 in /usr/local/lib/python3.6/dist-packages (from matplotlib) (0.10.0)\n",
      "Requirement already satisfied: six>=1.10 in /usr/local/lib/python3.6/dist-packages (from matplotlib) (1.11.0)\n",
      "Requirement already satisfied: numpy>=1.7.1 in /usr/local/lib/python3.6/dist-packages (from matplotlib) (1.14.5)\n"
     ]
    }
   ],
   "source": [
    "!pip install keras\n",
    "!pip install sklearn\n",
    "!pip install matplotlib\n",
    "!pip install -U -q PyDrive"
   ]
  },
  {
   "cell_type": "code",
   "execution_count": 2,
   "metadata": {
    "colab": {
     "autoexec": {
      "startup": false,
      "wait_interval": 0
     },
     "base_uri": "https://localhost:8080/",
     "height": 34
    },
    "colab_type": "code",
    "executionInfo": {
     "elapsed": 7933,
     "status": "ok",
     "timestamp": 1531660116444,
     "user": {
      "displayName": "Deep Learning",
      "photoUrl": "https://lh3.googleusercontent.com/a/default-user=s128",
      "userId": "115257841230779963257"
     },
     "user_tz": -120
    },
    "id": "xlKzkDJFrjA-",
    "outputId": "1bd880ea-87cc-4e41-bc97-71a6b0371d85"
   },
   "outputs": [
    {
     "name": "stderr",
     "output_type": "stream",
     "text": [
      "Using TensorFlow backend.\n"
     ]
    }
   ],
   "source": [
    "from keras import backend as K\n",
    "K.clear_session()"
   ]
  },
  {
   "cell_type": "code",
   "execution_count": 0,
   "metadata": {
    "colab": {
     "autoexec": {
      "startup": false,
      "wait_interval": 0
     }
    },
    "colab_type": "code",
    "id": "eQEKwl4oAxO7"
   },
   "outputs": [],
   "source": [
    "from keras import backend as K\n",
    "cfg = K.tf.ConfigProto()\n",
    "cfg.gpu_options.allow_growth = True\n",
    "K.set_session(K.tf.Session(config=cfg))"
   ]
  },
  {
   "cell_type": "code",
   "execution_count": 0,
   "metadata": {
    "colab": {
     "autoexec": {
      "startup": false,
      "wait_interval": 0
     }
    },
    "colab_type": "code",
    "id": "12M0egCCX-27"
   },
   "outputs": [],
   "source": [
    "from pydrive.auth import GoogleAuth\n",
    "from pydrive.drive import GoogleDrive\n",
    "from google.colab import auth\n",
    "from oauth2client.client import GoogleCredentials\n",
    "\n",
    "auth.authenticate_user()\n",
    "gauth = GoogleAuth()\n",
    "gauth.credentials = GoogleCredentials.get_application_default()\n",
    "drive = GoogleDrive(gauth)"
   ]
  },
  {
   "cell_type": "code",
   "execution_count": 0,
   "metadata": {
    "colab": {
     "autoexec": {
      "startup": false,
      "wait_interval": 0
     }
    },
    "colab_type": "code",
    "id": "4lN2WTUEYBYv"
   },
   "outputs": [],
   "source": [
    "file_import = drive.CreateFile({'id':'1p1bsltfTcIrZ_kfE6kwGTPzcdXorHbb2'})\n",
    "file_import.GetContentFile('colab_setup.py') \n",
    "from colab_setup import setup\n",
    "\n",
    "setup(drive)"
   ]
  },
  {
   "cell_type": "code",
   "execution_count": 6,
   "metadata": {
    "colab": {
     "autoexec": {
      "startup": false,
      "wait_interval": 0
     },
     "base_uri": "https://localhost:8080/",
     "height": 119
    },
    "colab_type": "code",
    "executionInfo": {
     "elapsed": 1438,
     "status": "ok",
     "timestamp": 1531660159070,
     "user": {
      "displayName": "Deep Learning",
      "photoUrl": "https://lh3.googleusercontent.com/a/default-user=s128",
      "userId": "115257841230779963257"
     },
     "user_tz": -120
    },
    "id": "cHBlD0tVj2TY",
    "outputId": "bc4c43f1-df78-48b8-b0df-a8bed1e9c5c0"
   },
   "outputs": [
    {
     "name": "stdout",
     "output_type": "stream",
     "text": [
      "colab_setup.py\t\t\t roc_auc_callback.py\tX_train.npy\r\n",
      "custom_fast_text_embeddings.npy  sample_submission.csv\tX_val.npy\r\n",
      "datalab\t\t\t\t train_model.py\t\ty_test.npy\r\n",
      "fast_text_embeddings.npy\t X_submission.npy\ty_train_full.npy\r\n",
      "plot_history.py\t\t\t X_test.npy\t\ty_train.npy\r\n",
      "__pycache__\t\t\t X_train_full.npy\ty_val.npy\r\n"
     ]
    }
   ],
   "source": [
    "!ls"
   ]
  },
  {
   "cell_type": "code",
   "execution_count": 0,
   "metadata": {
    "colab": {
     "autoexec": {
      "startup": false,
      "wait_interval": 0
     }
    },
    "colab_type": "code",
    "id": "yMwWPTMYXyno"
   },
   "outputs": [],
   "source": [
    "import numpy as np\n",
    "import os\n",
    "\n",
    "from plot_history import plot_history\n",
    "from roc_auc_callback import RocAucCallback\n",
    "from train_model import train_with_cv, train_with_submitting, evaluate_on_test\n",
    "\n",
    "from keras.models import Model\n",
    "from keras.layers import *\n",
    "from keras.layers.merge import concatenate"
   ]
  },
  {
   "cell_type": "code",
   "execution_count": 0,
   "metadata": {
    "colab": {
     "autoexec": {
      "startup": false,
      "wait_interval": 0
     }
    },
    "colab_type": "code",
    "id": "0RGDf4FG3J9x"
   },
   "outputs": [],
   "source": [
    "def one_by_one_cnn(filtersNumber, inputLayer, dropout = 0.2):\n",
    "    one_by_one = Conv1D(filtersNumber, 1, activation = 'elu', padding = 'same', kernel_initializer = 'he_uniform')(inputLayer)\n",
    "    one_by_one = BatchNormalization()(one_by_one)\n",
    "    one_by_one = SpatialDropout1D(dropout)(one_by_one)\n",
    "    \n",
    "    return one_by_one"
   ]
  },
  {
   "cell_type": "code",
   "execution_count": 0,
   "metadata": {
    "colab": {
     "autoexec": {
      "startup": false,
      "wait_interval": 0
     }
    },
    "colab_type": "code",
    "id": "46VGjNCr-DED"
   },
   "outputs": [],
   "source": [
    "def one_by_three_cnn(filtersNumber, inputLayer, dropout = 0.2):\n",
    "    one_by_one = Conv1D(filtersNumber, 3, activation = 'elu', padding = 'same', kernel_initializer = 'he_uniform')(inputLayer)\n",
    "    one_by_one = BatchNormalization()(one_by_one)\n",
    "    one_by_one = SpatialDropout1D(dropout)(one_by_one)\n",
    "    \n",
    "    return one_by_one"
   ]
  },
  {
   "cell_type": "code",
   "execution_count": 0,
   "metadata": {
    "colab": {
     "autoexec": {
      "startup": false,
      "wait_interval": 0
     }
    },
    "colab_type": "code",
    "id": "cMITsh0zk4TJ"
   },
   "outputs": [],
   "source": [
    "def yoon_kim_pool(filtersNumber, inputLayer):\n",
    "    block_1_conv_1 = Conv1D(filtersNumber, 1, activation = 'elu', padding = 'same', kernel_initializer = 'he_uniform')(inputLayer)\n",
    "    block_1_batchnorm1 = BatchNormalization()(block_1_conv_1)\n",
    "    block_1_max_pool1 = MaxPooling1D()(block_1_batchnorm1)\n",
    "\n",
    "    block_1_conv_2 = Conv1D(filtersNumber, 2, activation = 'elu', padding = 'same', kernel_initializer = 'he_uniform')(inputLayer)\n",
    "    block_1_batchnorm2 = BatchNormalization()(block_1_conv_2)\n",
    "    block_1_max_pool2 = MaxPooling1D()(block_1_batchnorm2)\n",
    "\n",
    "    block_1_conv_3 = Conv1D(filtersNumber, 3, activation = 'elu', padding = 'same', kernel_initializer = 'he_uniform')(inputLayer)\n",
    "    block_1_batchnorm3 = BatchNormalization()(block_1_conv_3)\n",
    "    block_1_max_pool3 = MaxPooling1D()(block_1_batchnorm3)\n",
    "\n",
    "    block_1_conv_4 = Conv1D(filtersNumber, 5, activation = 'elu', padding = 'same', kernel_initializer = 'he_uniform')(inputLayer)\n",
    "    block_1_batchnorm4 = BatchNormalization()(block_1_conv_4)\n",
    "    block_1_max_pool4 = MaxPooling1D()(block_1_batchnorm4)\n",
    "\n",
    "    block_1_features = concatenate([\n",
    "        block_1_max_pool1, \n",
    "        block_1_max_pool2, \n",
    "        block_1_max_pool3, \n",
    "        block_1_max_pool4\n",
    "    ])\n",
    "    \n",
    "    block_1_features = Dropout(0.2)(block_1_features)\n",
    "    return block_1_features"
   ]
  },
  {
   "cell_type": "code",
   "execution_count": 0,
   "metadata": {
    "colab": {
     "autoexec": {
      "startup": false,
      "wait_interval": 0
     }
    },
    "colab_type": "code",
    "id": "zrmoc20_ngdA"
   },
   "outputs": [],
   "source": [
    "def yoon_kim_feature_extractor(filtersNumber, inputLayer):\n",
    "    block_1_conv_1 = Conv1D(filtersNumber, 1, activation = 'elu', padding = 'same', kernel_initializer = 'he_uniform')(inputLayer)\n",
    "    block_1_batchnorm1 = BatchNormalization()(block_1_conv_1)\n",
    "    block_1_max_pool1 = GlobalMaxPooling1D()(block_1_batchnorm1)\n",
    "\n",
    "    block_1_conv_2 = Conv1D(filtersNumber, 2, activation = 'elu', padding = 'same', kernel_initializer = 'he_uniform')(inputLayer)\n",
    "    block_1_batchnorm2 = BatchNormalization()(block_1_conv_2)\n",
    "    block_1_max_pool2 = GlobalMaxPooling1D()(block_1_batchnorm2)\n",
    "\n",
    "    block_1_conv_3 = Conv1D(filtersNumber, 3, activation = 'elu', padding = 'same', kernel_initializer = 'he_uniform')(inputLayer)\n",
    "    block_1_batchnorm3 = BatchNormalization()(block_1_conv_3)\n",
    "    block_1_max_pool3 = GlobalMaxPooling1D()(block_1_batchnorm3)\n",
    "\n",
    "    block_1_conv_4 = Conv1D(filtersNumber, 5, activation = 'elu', padding = 'same', kernel_initializer = 'he_uniform')(inputLayer)\n",
    "    block_1_batchnorm4 = BatchNormalization()(block_1_conv_4)\n",
    "    block_1_max_pool4 = GlobalMaxPooling1D()(block_1_batchnorm4)\n",
    "\n",
    "    block_1_features = concatenate([\n",
    "        block_1_max_pool1, \n",
    "        block_1_max_pool2, \n",
    "        block_1_max_pool3, \n",
    "        block_1_max_pool4\n",
    "    ])\n",
    "    block_1_features = Dropout(0.2)(block_1_features)\n",
    "    return block_1_features"
   ]
  },
  {
   "cell_type": "code",
   "execution_count": 12,
   "metadata": {
    "colab": {
     "autoexec": {
      "startup": false,
      "wait_interval": 0
     },
     "base_uri": "https://localhost:8080/",
     "height": 1564
    },
    "colab_type": "code",
    "executionInfo": {
     "elapsed": 2487,
     "status": "ok",
     "timestamp": 1531660165133,
     "user": {
      "displayName": "Deep Learning",
      "photoUrl": "https://lh3.googleusercontent.com/a/default-user=s128",
      "userId": "115257841230779963257"
     },
     "user_tz": -120
    },
    "id": "LTFG7OgsXynw",
    "outputId": "b6a84895-1e29-421c-c81a-3c03dad34340"
   },
   "outputs": [
    {
     "name": "stdout",
     "output_type": "stream",
     "text": [
      "__________________________________________________________________________________________________\n",
      "Layer (type)                    Output Shape         Param #     Connected to                     \n",
      "==================================================================================================\n",
      "input_1 (InputLayer)            (None, 400)          0                                            \n",
      "__________________________________________________________________________________________________\n",
      "embedding_1 (Embedding)         (None, 400, 300)     9000000     input_1[0][0]                    \n",
      "__________________________________________________________________________________________________\n",
      "embedding_2 (Embedding)         (None, 400, 300)     9000000     input_1[0][0]                    \n",
      "__________________________________________________________________________________________________\n",
      "spatial_dropout1d_1 (SpatialDro (None, 400, 300)     0           embedding_1[0][0]                \n",
      "__________________________________________________________________________________________________\n",
      "spatial_dropout1d_2 (SpatialDro (None, 400, 300)     0           embedding_2[0][0]                \n",
      "__________________________________________________________________________________________________\n",
      "average_1 (Average)             (None, 400, 300)     0           spatial_dropout1d_1[0][0]        \n",
      "                                                                 spatial_dropout1d_2[0][0]        \n",
      "__________________________________________________________________________________________________\n",
      "spatial_dropout1d_3 (SpatialDro (None, 400, 300)     0           average_1[0][0]                  \n",
      "__________________________________________________________________________________________________\n",
      "conv1d_1 (Conv1D)               (None, 400, 300)     90300       spatial_dropout1d_3[0][0]        \n",
      "__________________________________________________________________________________________________\n",
      "batch_normalization_1 (BatchNor (None, 400, 300)     1200        conv1d_1[0][0]                   \n",
      "__________________________________________________________________________________________________\n",
      "spatial_dropout1d_4 (SpatialDro (None, 400, 300)     0           batch_normalization_1[0][0]      \n",
      "__________________________________________________________________________________________________\n",
      "conv1d_2 (Conv1D)               (None, 400, 300)     90300       spatial_dropout1d_4[0][0]        \n",
      "__________________________________________________________________________________________________\n",
      "batch_normalization_2 (BatchNor (None, 400, 300)     1200        conv1d_2[0][0]                   \n",
      "__________________________________________________________________________________________________\n",
      "spatial_dropout1d_5 (SpatialDro (None, 400, 300)     0           batch_normalization_2[0][0]      \n",
      "__________________________________________________________________________________________________\n",
      "conv1d_3 (Conv1D)               (None, 400, 300)     90300       spatial_dropout1d_5[0][0]        \n",
      "__________________________________________________________________________________________________\n",
      "batch_normalization_3 (BatchNor (None, 400, 300)     1200        conv1d_3[0][0]                   \n",
      "__________________________________________________________________________________________________\n",
      "spatial_dropout1d_6 (SpatialDro (None, 400, 300)     0           batch_normalization_3[0][0]      \n",
      "__________________________________________________________________________________________________\n",
      "conv1d_4 (Conv1D)               (None, 400, 256)     230656      spatial_dropout1d_6[0][0]        \n",
      "__________________________________________________________________________________________________\n",
      "batch_normalization_4 (BatchNor (None, 400, 256)     1024        conv1d_4[0][0]                   \n",
      "__________________________________________________________________________________________________\n",
      "spatial_dropout1d_7 (SpatialDro (None, 400, 256)     0           batch_normalization_4[0][0]      \n",
      "__________________________________________________________________________________________________\n",
      "conv1d_5 (Conv1D)               (None, 400, 512)     131584      spatial_dropout1d_7[0][0]        \n",
      "__________________________________________________________________________________________________\n",
      "conv1d_6 (Conv1D)               (None, 400, 512)     262656      spatial_dropout1d_7[0][0]        \n",
      "__________________________________________________________________________________________________\n",
      "conv1d_7 (Conv1D)               (None, 400, 512)     393728      spatial_dropout1d_7[0][0]        \n",
      "__________________________________________________________________________________________________\n",
      "conv1d_8 (Conv1D)               (None, 400, 512)     655872      spatial_dropout1d_7[0][0]        \n",
      "__________________________________________________________________________________________________\n",
      "batch_normalization_5 (BatchNor (None, 400, 512)     2048        conv1d_5[0][0]                   \n",
      "__________________________________________________________________________________________________\n",
      "batch_normalization_6 (BatchNor (None, 400, 512)     2048        conv1d_6[0][0]                   \n",
      "__________________________________________________________________________________________________\n",
      "batch_normalization_7 (BatchNor (None, 400, 512)     2048        conv1d_7[0][0]                   \n",
      "__________________________________________________________________________________________________\n",
      "batch_normalization_8 (BatchNor (None, 400, 512)     2048        conv1d_8[0][0]                   \n",
      "__________________________________________________________________________________________________\n",
      "global_max_pooling1d_1 (GlobalM (None, 512)          0           batch_normalization_5[0][0]      \n",
      "__________________________________________________________________________________________________\n",
      "global_max_pooling1d_2 (GlobalM (None, 512)          0           batch_normalization_6[0][0]      \n",
      "__________________________________________________________________________________________________\n",
      "global_max_pooling1d_3 (GlobalM (None, 512)          0           batch_normalization_7[0][0]      \n",
      "__________________________________________________________________________________________________\n",
      "global_max_pooling1d_4 (GlobalM (None, 512)          0           batch_normalization_8[0][0]      \n",
      "__________________________________________________________________________________________________\n",
      "concatenate_1 (Concatenate)     (None, 2048)         0           global_max_pooling1d_1[0][0]     \n",
      "                                                                 global_max_pooling1d_2[0][0]     \n",
      "                                                                 global_max_pooling1d_3[0][0]     \n",
      "                                                                 global_max_pooling1d_4[0][0]     \n",
      "__________________________________________________________________________________________________\n",
      "dropout_1 (Dropout)             (None, 2048)         0           concatenate_1[0][0]              \n",
      "__________________________________________________________________________________________________\n",
      "dense_1 (Dense)                 (None, 256)          524544      dropout_1[0][0]                  \n",
      "__________________________________________________________________________________________________\n",
      "batch_normalization_9 (BatchNor (None, 256)          1024        dense_1[0][0]                    \n",
      "__________________________________________________________________________________________________\n",
      "dropout_2 (Dropout)             (None, 256)          0           batch_normalization_9[0][0]      \n",
      "__________________________________________________________________________________________________\n",
      "dense_2 (Dense)                 (None, 256)          65792       dropout_2[0][0]                  \n",
      "__________________________________________________________________________________________________\n",
      "batch_normalization_10 (BatchNo (None, 256)          1024        dense_2[0][0]                    \n",
      "__________________________________________________________________________________________________\n",
      "dropout_3 (Dropout)             (None, 256)          0           batch_normalization_10[0][0]     \n",
      "__________________________________________________________________________________________________\n",
      "dense_3 (Dense)                 (None, 6)            1542        dropout_3[0][0]                  \n",
      "==================================================================================================\n",
      "Total params: 20,552,138\n",
      "Trainable params: 2,544,706\n",
      "Non-trainable params: 18,007,432\n",
      "__________________________________________________________________________________________________\n"
     ]
    }
   ],
   "source": [
    "maxWords = 30000\n",
    "maxSequenceLengthInWords = 400\n",
    "embeddingDimension = 300\n",
    "convBlocks = 1\n",
    "\n",
    "input_layer = Input(shape=(maxSequenceLengthInWords,))\n",
    "\n",
    "pretrained_embedding_layer = Embedding(\n",
    "    maxWords, \n",
    "    output_dim=embeddingDimension, \n",
    "    input_length=maxSequenceLengthInWords,\n",
    "    weights = [np.load('fast_text_embeddings.npy')],\n",
    "    trainable = False\n",
    ")(input_layer)\n",
    "pretrained_embedding_layer = SpatialDropout1D(0.2)(pretrained_embedding_layer)\n",
    "\n",
    "custom_embedding_layer = Embedding(\n",
    "    maxWords, \n",
    "    output_dim=embeddingDimension, \n",
    "    input_length=maxSequenceLengthInWords,\n",
    "    weights = [np.load('custom_fast_text_embeddings.npy')],\n",
    "    trainable = False\n",
    ")(input_layer)\n",
    "custom_embedding_layer = SpatialDropout1D(0.2)(custom_embedding_layer)\n",
    "\n",
    "embedding = Average()([pretrained_embedding_layer, custom_embedding_layer])\n",
    "embedding_dropout = SpatialDropout1D(0.2)(embedding)\n",
    "\n",
    "preprocess = one_by_one_cnn(300, embedding_dropout)\n",
    "preprocess = one_by_one_cnn(300, preprocess)\n",
    "preprocess = one_by_one_cnn(300, preprocess)\n",
    "\n",
    "block = preprocess\n",
    "for currentBlock in range(convBlocks):\n",
    "  filters = 128 * (2 + currentBlock)\n",
    "  block = one_by_three_cnn(filters, block)\n",
    "  if(currentBlock < convBlocks-1):\n",
    "    block = yoon_kim_pool(filters, block)\n",
    "  \n",
    "features = yoon_kim_feature_extractor(512, block)\n",
    "\n",
    "dense_1 = Dense(256, activation = 'elu')(features)\n",
    "dense_1_normalization = BatchNormalization()(dense_1)\n",
    "dense_1_dropout = Dropout(0.2)(dense_1_normalization)\n",
    "\n",
    "dense_2 = Dense(256, activation = 'elu')(dense_1_dropout)\n",
    "dense_2_normalization = BatchNormalization()(dense_2)\n",
    "dense_2_dropout = Dropout(0.2)(dense_2_normalization)\n",
    "\n",
    "output_layer = Dense(6, activation='sigmoid')(dense_2_dropout)\n",
    "\n",
    "model = Model(inputs=[input_layer], outputs=[output_layer])\n",
    "            \n",
    "model.summary()\n",
    "\n",
    "model.compile(\n",
    "    loss='binary_crossentropy', \n",
    "    optimizer='Adam',\n",
    "    metrics=['accuracy']\n",
    ")"
   ]
  },
  {
   "cell_type": "code",
   "execution_count": 13,
   "metadata": {
    "colab": {
     "autoexec": {
      "startup": false,
      "wait_interval": 0
     },
     "base_uri": "https://localhost:8080/",
     "height": 1431
    },
    "colab_type": "code",
    "executionInfo": {
     "elapsed": 23568385,
     "status": "ok",
     "timestamp": 1531683733654,
     "user": {
      "displayName": "Deep Learning",
      "photoUrl": "https://lh3.googleusercontent.com/a/default-user=s128",
      "userId": "115257841230779963257"
     },
     "user_tz": -120
    },
    "id": "xwMmTewgXynz",
    "outputId": "b9caba08-6669-4460-bfa7-15423eae726a"
   },
   "outputs": [
    {
     "name": "stdout",
     "output_type": "stream",
     "text": [
      "Train on 102124 samples, validate on 25532 samples\n",
      "Epoch 1/32\n",
      " 21056/102124 [=====>........................] - ETA: 8:31 - loss: 0.1843 - acc: 0.9284 62112/102124 [=================>............] - ETA: 4:06 - loss: 0.1091 - acc: 0.9594 99680/102124 [============================>.] - ETA: 15s - loss: 0.0931 - acc: 0.9656102124/102124 [==============================] - 674s 7ms/step - loss: 0.0924 - acc: 0.9659 - val_loss: 0.0555 - val_acc: 0.9791\n",
      "Epoch 2/32\n",
      " 12896/102124 [==>...........................] - ETA: 9:04 - loss: 0.0642 - acc: 0.9767 49344/102124 [=============>................] - ETA: 5:21 - loss: 0.0610 - acc: 0.9779 86016/102124 [========================>.....] - ETA: 1:38 - loss: 0.0604 - acc: 0.9782102124/102124 [==============================] - 670s 7ms/step - loss: 0.0599 - acc: 0.9783 - val_loss: 0.0504 - val_acc: 0.9818\n",
      "roc-auc: 0.9738 - roc-auc_val: 0.9719                                                                                                    \n",
      "Epoch 3/32\n",
      "  4672/102124 [>.............................] - ETA: 9:55 - loss: 0.0545 - acc: 0.9807 50048/102124 [=============>................] - ETA: 5:17 - loss: 0.0549 - acc: 0.9800 87552/102124 [========================>.....] - ETA: 1:28 - loss: 0.0546 - acc: 0.9800102124/102124 [==============================] - 668s 7ms/step - loss: 0.0546 - acc: 0.9800 - val_loss: 0.0461 - val_acc: 0.9828\n",
      "Epoch 4/32\n",
      "  8288/102124 [=>............................] - ETA: 9:30 - loss: 0.0562 - acc: 0.9795 60704/102124 [================>.............] - ETA: 4:12 - loss: 0.0527 - acc: 0.9806 98464/102124 [===========================>..] - ETA: 22s - loss: 0.0521 - acc: 0.9809102124/102124 [==============================] - 668s 7ms/step - loss: 0.0520 - acc: 0.9809 - val_loss: 0.0440 - val_acc: 0.9836\n",
      "roc-auc: 0.9831 - roc-auc_val: 0.9798                                                                                                    \n",
      "Epoch 5/32\n",
      "  7680/102124 [=>............................] - ETA: 9:36 - loss: 0.0516 - acc: 0.9809 54912/102124 [===============>..............] - ETA: 4:48 - loss: 0.0501 - acc: 0.9814 91840/102124 [=========================>....] - ETA: 1:02 - loss: 0.0496 - acc: 0.9814102124/102124 [==============================] - 670s 7ms/step - loss: 0.0497 - acc: 0.9814 - val_loss: 0.0442 - val_acc: 0.9829\n",
      "Epoch 6/32\n",
      "  9600/102124 [=>............................] - ETA: 9:26 - loss: 0.0521 - acc: 0.9800 46144/102124 [============>.................] - ETA: 5:42 - loss: 0.0484 - acc: 0.9816 83392/102124 [=======================>......] - ETA: 1:54 - loss: 0.0474 - acc: 0.9821102124/102124 [==============================] - 671s 7ms/step - loss: 0.0477 - acc: 0.9819 - val_loss: 0.0427 - val_acc: 0.9835\n",
      "roc-auc: 0.9867 - roc-auc_val: 0.983                                                                                                    \n",
      "Epoch 7/32\n",
      "  4096/102124 [>.............................] - ETA: 9:58 - loss: 0.0467 - acc: 0.9821 44608/102124 [============>.................] - ETA: 5:50 - loss: 0.0469 - acc: 0.9819 82208/102124 [=======================>......] - ETA: 2:01 - loss: 0.0467 - acc: 0.9821102124/102124 [==============================] - 670s 7ms/step - loss: 0.0465 - acc: 0.9822 - val_loss: 0.0431 - val_acc: 0.9839\n",
      "Epoch 8/32\n",
      "  6208/102124 [>.............................] - ETA: 9:45 - loss: 0.0485 - acc: 0.9816 48128/102124 [=============>................] - ETA: 5:29 - loss: 0.0451 - acc: 0.9829 84672/102124 [=======================>......] - ETA: 1:46 - loss: 0.0454 - acc: 0.9827102124/102124 [==============================] - 670s 7ms/step - loss: 0.0455 - acc: 0.9827 - val_loss: 0.0440 - val_acc: 0.9830\n",
      "\n",
      "Epoch 00008: ReduceLROnPlateau reducing learning rate to 0.00024148408556357026.\n",
      "roc-auc: 0.9888 - roc-auc_val: 0.9835                                                                                                    \n",
      "Epoch 9/32\n",
      "  3488/102124 [>.............................] - ETA: 10:02 - loss: 0.0426 - acc: 0.9836 42560/102124 [===========>..................] - ETA: 6:03 - loss: 0.0453 - acc: 0.9824 81568/102124 [======================>.......] - ETA: 2:05 - loss: 0.0449 - acc: 0.9826102124/102124 [==============================] - 670s 7ms/step - loss: 0.0446 - acc: 0.9829 - val_loss: 0.0421 - val_acc: 0.9836\n",
      "Epoch 10/32\n",
      "  5984/102124 [>.............................] - ETA: 9:46 - loss: 0.0450 - acc: 0.9818 42816/102124 [===========>..................] - ETA: 6:01 - loss: 0.0442 - acc: 0.9829 78688/102124 [======================>.......] - ETA: 2:23 - loss: 0.0436 - acc: 0.9831102124/102124 [==============================] - 670s 7ms/step - loss: 0.0436 - acc: 0.9832 - val_loss: 0.0612 - val_acc: 0.9830\n",
      "roc-auc: 0.9492 - roc-auc_val: 0.9309                                                                                                    \n",
      "Epoch 11/32\n",
      "  3008/102124 [..............................] - ETA: 10:05 - loss: 0.0433 - acc: 0.9824 46816/102124 [============>.................] - ETA: 5:37 - loss: 0.0427 - acc: 0.9834 84544/102124 [=======================>......] - ETA: 1:47 - loss: 0.0426 - acc: 0.9836102124/102124 [==============================] - 670s 7ms/step - loss: 0.0427 - acc: 0.9835 - val_loss: 0.0414 - val_acc: 0.9841\n",
      "Epoch 12/32\n",
      "  7072/102124 [=>............................] - ETA: 9:40 - loss: 0.0399 - acc: 0.9841 52544/102124 [==============>...............] - ETA: 5:02 - loss: 0.0415 - acc: 0.9837102112/102124 [============================>.] - ETA: 0s - loss: 0.0421 - acc: 0.9836102124/102124 [==============================] - 668s 7ms/step - loss: 0.0421 - acc: 0.9836 - val_loss: 0.0411 - val_acc: 0.9843\n",
      "roc-auc: 0.9913 - roc-auc_val: 0.9854                                                                                                    \n",
      "Epoch 13/32\n",
      "  8576/102124 [=>............................] - ETA: 9:29 - loss: 0.0398 - acc: 0.9844 51200/102124 [==============>...............] - ETA: 5:10 - loss: 0.0407 - acc: 0.9842 89856/102124 [=========================>....] - ETA: 1:14 - loss: 0.0412 - acc: 0.9839102124/102124 [==============================] - 669s 7ms/step - loss: 0.0413 - acc: 0.9838 - val_loss: 0.0409 - val_acc: 0.9842\n",
      "Epoch 14/32\n",
      "  9120/102124 [=>............................] - ETA: 9:26 - loss: 0.0415 - acc: 0.9838 46400/102124 [============>.................] - ETA: 5:39 - loss: 0.0407 - acc: 0.9841 82592/102124 [=======================>......] - ETA: 1:59 - loss: 0.0405 - acc: 0.9842102124/102124 [==============================] - 669s 7ms/step - loss: 0.0407 - acc: 0.9841 - val_loss: 0.0408 - val_acc: 0.9846\n",
      "roc-auc: 0.9923 - roc-auc_val: 0.9863                                                                                                    \n",
      "Epoch 15/32\n",
      "  3968/102124 [>.............................] - ETA: 9:57 - loss: 0.0365 - acc: 0.9863 40384/102124 [==========>...................] - ETA: 6:16 - loss: 0.0389 - acc: 0.9847 79456/102124 [======================>.......] - ETA: 2:18 - loss: 0.0403 - acc: 0.9841102124/102124 [==============================] - 669s 7ms/step - loss: 0.0402 - acc: 0.9842 - val_loss: 0.0402 - val_acc: 0.9845\n",
      "Epoch 16/32\n",
      "  4960/102124 [>.............................] - ETA: 9:53 - loss: 0.0376 - acc: 0.9858 41792/102124 [===========>..................] - ETA: 6:08 - loss: 0.0389 - acc: 0.9849 78016/102124 [=====================>........] - ETA: 2:27 - loss: 0.0397 - acc: 0.9845102124/102124 [==============================] - 670s 7ms/step - loss: 0.0397 - acc: 0.9844 - val_loss: 0.0406 - val_acc: 0.9846\n",
      "roc-auc: 0.993 - roc-auc_val: 0.9854                                                                                                    \n",
      "Epoch 17/32\n",
      "  2720/102124 [..............................] - ETA: 10:07 - loss: 0.0408 - acc: 0.9843 40704/102124 [==========>...................] - ETA: 6:14 - loss: 0.0388 - acc: 0.9846 77024/102124 [=====================>........] - ETA: 2:32 - loss: 0.0393 - acc: 0.9845102124/102124 [==============================] - 669s 7ms/step - loss: 0.0391 - acc: 0.9846 - val_loss: 0.0404 - val_acc: 0.9847\n",
      "Epoch 18/32\n"
     ]
    },
    {
     "name": "stdout",
     "output_type": "stream",
     "text": [
      "  4032/102124 [>.............................] - ETA: 10:03 - loss: 0.0387 - acc: 0.9839 44704/102124 [============>.................] - ETA: 5:50 - loss: 0.0395 - acc: 0.9843 84800/102124 [=======================>......] - ETA: 1:45 - loss: 0.0389 - acc: 0.9846102124/102124 [==============================] - 670s 7ms/step - loss: 0.0387 - acc: 0.9846 - val_loss: 0.0411 - val_acc: 0.9845\n",
      "roc-auc: 0.9935 - roc-auc_val: 0.9864                                                                                                    \n",
      "Epoch 19/32\n",
      "  4480/102124 [>.............................] - ETA: 9:56 - loss: 0.0400 - acc: 0.9840 41504/102124 [===========>..................] - ETA: 6:09 - loss: 0.0383 - acc: 0.9847 79648/102124 [======================>.......] - ETA: 2:17 - loss: 0.0381 - acc: 0.9848102124/102124 [==============================] - 669s 7ms/step - loss: 0.0380 - acc: 0.9849 - val_loss: 0.0402 - val_acc: 0.9847\n",
      "\n",
      "Epoch 00019: ReduceLROnPlateau reducing learning rate to 7.694652595091611e-05.\n",
      "Epoch 20/32\n",
      "  3744/102124 [>.............................] - ETA: 9:59 - loss: 0.0418 - acc: 0.9840 42240/102124 [===========>..................] - ETA: 6:05 - loss: 0.0378 - acc: 0.9849 78144/102124 [=====================>........] - ETA: 2:26 - loss: 0.0378 - acc: 0.9849102124/102124 [==============================] - 670s 7ms/step - loss: 0.0376 - acc: 0.9850 - val_loss: 0.0399 - val_acc: 0.9848\n",
      "roc-auc: 0.994 - roc-auc_val: 0.9867                                                                                                    \n",
      "Epoch 21/32\n",
      "  2912/102124 [..............................] - ETA: 10:05 - loss: 0.0423 - acc: 0.9823 39392/102124 [==========>...................] - ETA: 6:22 - loss: 0.0378 - acc: 0.9847 75712/102124 [=====================>........] - ETA: 2:41 - loss: 0.0373 - acc: 0.9850102124/102124 [==============================] - 670s 7ms/step - loss: 0.0372 - acc: 0.9850 - val_loss: 0.0403 - val_acc: 0.9848\n",
      "Epoch 22/32\n",
      "  3680/102124 [>.............................] - ETA: 9:59 - loss: 0.0346 - acc: 0.9861 42048/102124 [===========>..................] - ETA: 6:06 - loss: 0.0378 - acc: 0.9850 80256/102124 [======================>.......] - ETA: 2:13 - loss: 0.0371 - acc: 0.9852102124/102124 [==============================] - 670s 7ms/step - loss: 0.0371 - acc: 0.9852 - val_loss: 0.0401 - val_acc: 0.9848\n",
      "roc-auc: 0.9945 - roc-auc_val: 0.9868                                                                                                    \n",
      "Epoch 23/32\n",
      "  3264/102124 [..............................] - ETA: 10:03 - loss: 0.0356 - acc: 0.9864 44928/102124 [============>.................] - ETA: 5:48 - loss: 0.0367 - acc: 0.9854 88064/102124 [========================>.....] - ETA: 1:25 - loss: 0.0369 - acc: 0.9853102124/102124 [==============================] - 669s 7ms/step - loss: 0.0370 - acc: 0.9852 - val_loss: 0.0404 - val_acc: 0.9848\n",
      "Epoch 24/32\n",
      "  8384/102124 [=>............................] - ETA: 9:32 - loss: 0.0342 - acc: 0.9862 58048/102124 [================>.............] - ETA: 4:28 - loss: 0.0366 - acc: 0.9852 96704/102124 [===========================>..] - ETA: 33s - loss: 0.0364 - acc: 0.9853102124/102124 [==============================] - 669s 7ms/step - loss: 0.0364 - acc: 0.9853 - val_loss: 0.0403 - val_acc: 0.9847\n",
      "roc-auc: 0.9946 - roc-auc_val: 0.9865                                                                                                    \n",
      "Epoch 25/32\n",
      "  7168/102124 [=>............................] - ETA: 9:39 - loss: 0.0353 - acc: 0.9855 50976/102124 [=============>................] - ETA: 5:11 - loss: 0.0354 - acc: 0.9857 90176/102124 [=========================>....] - ETA: 1:12 - loss: 0.0360 - acc: 0.9855102124/102124 [==============================] - 670s 7ms/step - loss: 0.0362 - acc: 0.9854 - val_loss: 0.0402 - val_acc: 0.9848\n",
      "Epoch 26/32\n",
      "  9120/102124 [=>............................] - ETA: 9:27 - loss: 0.0370 - acc: 0.9850 50912/102124 [=============>................] - ETA: 5:12 - loss: 0.0362 - acc: 0.9854 88736/102124 [=========================>....] - ETA: 1:21 - loss: 0.0359 - acc: 0.9855102124/102124 [==============================] - 670s 7ms/step - loss: 0.0360 - acc: 0.9854 - val_loss: 0.0402 - val_acc: 0.9846\n",
      "roc-auc: 0.9951 - roc-auc_val: 0.9868                                                                                                    \n",
      "Epoch 27/32\n",
      "  5504/102124 [>.............................] - ETA: 9:46 - loss: 0.0359 - acc: 0.9859 47872/102124 [=============>................] - ETA: 5:30 - loss: 0.0358 - acc: 0.9855 92000/102124 [==========================>...] - ETA: 1:01 - loss: 0.0357 - acc: 0.9856102124/102124 [==============================] - 668s 7ms/step - loss: 0.0357 - acc: 0.9856 - val_loss: 0.0407 - val_acc: 0.9848\n",
      "Epoch 28/32\n",
      "  9824/102124 [=>............................] - ETA: 9:22 - loss: 0.0330 - acc: 0.9862 47520/102124 [============>.................] - ETA: 5:32 - loss: 0.0356 - acc: 0.9855 87488/102124 [========================>.....] - ETA: 1:29 - loss: 0.0357 - acc: 0.9856102124/102124 [==============================] - 669s 7ms/step - loss: 0.0357 - acc: 0.9856 - val_loss: 0.0406 - val_acc: 0.9849\n",
      "roc-auc: 0.995 - roc-auc_val: 0.9867                                                                                                    \n",
      "Epoch 29/32\n",
      "  4960/102124 [>.............................] - ETA: 9:53 - loss: 0.0382 - acc: 0.9843 41920/102124 [===========>..................] - ETA: 6:07 - loss: 0.0367 - acc: 0.9853 83328/102124 [=======================>......] - ETA: 1:54 - loss: 0.0358 - acc: 0.9856102124/102124 [==============================] - 670s 7ms/step - loss: 0.0356 - acc: 0.9857 - val_loss: 0.0406 - val_acc: 0.9848\n",
      "Epoch 30/32\n",
      "  6432/102124 [>.............................] - ETA: 9:44 - loss: 0.0355 - acc: 0.9854 51392/102124 [==============>...............] - ETA: 5:09 - loss: 0.0356 - acc: 0.9855 89184/102124 [=========================>....] - ETA: 1:18 - loss: 0.0350 - acc: 0.9857102124/102124 [==============================] - 670s 7ms/step - loss: 0.0352 - acc: 0.9856 - val_loss: 0.0404 - val_acc: 0.9849\n",
      "\n",
      "Epoch 00030: ReduceLROnPlateau reducing learning rate to 2.4518252757843584e-05.\n",
      "roc-auc: 0.9953 - roc-auc_val: 0.9866                                                                                                    \n"
     ]
    }
   ],
   "source": [
    "history = train_with_cv(model, batchSize=32, rocEvery = 2)"
   ]
  },
  {
   "cell_type": "code",
   "execution_count": 14,
   "metadata": {
    "colab": {
     "autoexec": {
      "startup": false,
      "wait_interval": 0
     },
     "base_uri": "https://localhost:8080/",
     "height": 294
    },
    "colab_type": "code",
    "executionInfo": {
     "elapsed": 3458,
     "status": "ok",
     "timestamp": 1531683737128,
     "user": {
      "displayName": "Deep Learning",
      "photoUrl": "https://lh3.googleusercontent.com/a/default-user=s128",
      "userId": "115257841230779963257"
     },
     "user_tz": -120
    },
    "id": "sms3R-U4469B",
    "outputId": "122aa5f6-0400-4656-e851-66bf93837f0d"
   },
   "outputs": [
    {
     "data": {
      "image/png": "[encoded data removed]",
      "text/plain": [
       "<matplotlib.figure.Figure at 0x7fba129105f8>"
      ]
     },
     "metadata": {
      "tags": []
     },
     "output_type": "display_data"
    }
   ],
   "source": [
    "plot_history(history)"
   ]
  },
  {
   "cell_type": "code",
   "execution_count": 15,
   "metadata": {
    "colab": {
     "autoexec": {
      "startup": false,
      "wait_interval": 0
     },
     "base_uri": "https://localhost:8080/",
     "height": 51
    },
    "colab_type": "code",
    "executionInfo": {
     "elapsed": 119846,
     "status": "ok",
     "timestamp": 1531683856987,
     "user": {
      "displayName": "Deep Learning",
      "photoUrl": "https://lh3.googleusercontent.com/a/default-user=s128",
      "userId": "115257841230779963257"
     },
     "user_tz": -120
    },
    "id": "r2gtMBj2Tp9A",
    "outputId": "ccc4cc94-25eb-416f-ffe6-d51e9e207000"
   },
   "outputs": [
    {
     "name": "stdout",
     "output_type": "stream",
     "text": [
      "31915/31915 [==============================] - 61s 2ms/step\n",
      "([0.038430038805669905, 0.9848399249640412], 0.9899494633577511)\n"
     ]
    }
   ],
   "source": [
    "print(evaluate_on_test(model))"
   ]
  }
 ],
 "metadata": {
  "accelerator": "GPU",
  "colab": {
   "collapsed_sections": [],
   "default_view": {},
   "name": "one_block.ipynb",
   "provenance": [],
   "version": "0.3.2",
   "views": {}
  },
  "kernelspec": {
   "display_name": "Python 3",
   "language": "python",
   "name": "python3"
  },
  "language_info": {
   "codemirror_mode": {
    "name": "ipython",
    "version": 3
   },
   "file_extension": ".py",
   "mimetype": "text/x-python",
   "name": "python",
   "nbconvert_exporter": "python",
   "pygments_lexer": "ipython3",
   "version": "3.6.2"
  }
 },
 "nbformat": 4,
 "nbformat_minor": 1
}

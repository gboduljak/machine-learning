{
 "cells": [
  {
   "cell_type": "code",
   "execution_count": 1,
   "metadata": {
    "colab": {
     "autoexec": {
      "startup": false,
      "wait_interval": 0
     },
     "base_uri": "https://localhost:8080/",
     "height": 411
    },
    "colab_type": "code",
    "executionInfo": {
     "elapsed": 11886,
     "status": "ok",
     "timestamp": 1531223389004,
     "user": {
      "displayName": "Deep Learning",
      "photoUrl": "https://lh3.googleusercontent.com/a/default-user=s128",
      "userId": "115257841230779963257"
     },
     "user_tz": -120
    },
    "id": "yS1FnhiWX3Js",
    "outputId": "8fe2f768-f47a-4cc9-dd0f-d503e4139822"
   },
   "outputs": [
    {
     "name": "stdout",
     "output_type": "stream",
     "text": [
      "Requirement already satisfied: keras in /usr/local/lib/python3.6/dist-packages (2.1.6)\n",
      "Requirement already satisfied: numpy>=1.9.1 in /usr/local/lib/python3.6/dist-packages (from keras) (1.14.5)\n",
      "Requirement already satisfied: scipy>=0.14 in /usr/local/lib/python3.6/dist-packages (from keras) (0.19.1)\n",
      "Requirement already satisfied: pyyaml in /usr/local/lib/python3.6/dist-packages (from keras) (3.13)\n",
      "Requirement already satisfied: six>=1.9.0 in /usr/local/lib/python3.6/dist-packages (from keras) (1.11.0)\n",
      "Requirement already satisfied: h5py in /usr/local/lib/python3.6/dist-packages (from keras) (2.8.0)\n",
      "Collecting sklearn\n",
      "  Downloading https://files.pythonhosted.org/packages/1e/7a/dbb3be0ce9bd5c8b7e3d87328e79063f8b263b2b1bfa4774cb1147bfcd3f/sklearn-0.0.tar.gz\n",
      "Requirement already satisfied: scikit-learn in /usr/local/lib/python3.6/dist-packages (from sklearn) (0.19.1)\n",
      "Building wheels for collected packages: sklearn\n",
      "  Running setup.py bdist_wheel for sklearn ... \u001b[?25l-\b \bdone\n",
      "\u001b[?25h  Stored in directory: /content/.cache/pip/wheels/76/03/bb/589d421d27431bcd2c6da284d5f2286c8e3b2ea3cf1594c074\n",
      "Successfully built sklearn\n",
      "Installing collected packages: sklearn\n",
      "Successfully installed sklearn-0.0\n",
      "Requirement already satisfied: matplotlib in /usr/local/lib/python3.6/dist-packages (2.1.2)\n",
      "Requirement already satisfied: python-dateutil>=2.1 in /usr/local/lib/python3.6/dist-packages (from matplotlib) (2.5.3)\n",
      "Requirement already satisfied: pyparsing!=2.0.4,!=2.1.2,!=2.1.6,>=2.0.1 in /usr/local/lib/python3.6/dist-packages (from matplotlib) (2.2.0)\n",
      "Requirement already satisfied: six>=1.10 in /usr/local/lib/python3.6/dist-packages (from matplotlib) (1.11.0)\n",
      "Requirement already satisfied: numpy>=1.7.1 in /usr/local/lib/python3.6/dist-packages (from matplotlib) (1.14.5)\n",
      "Requirement already satisfied: cycler>=0.10 in /usr/local/lib/python3.6/dist-packages (from matplotlib) (0.10.0)\n",
      "Requirement already satisfied: pytz in /usr/local/lib/python3.6/dist-packages (from matplotlib) (2018.5)\n"
     ]
    }
   ],
   "source": [
    "!pip install keras\n",
    "!pip install sklearn\n",
    "!pip install matplotlib\n",
    "!pip install -U -q PyDrive"
   ]
  },
  {
   "cell_type": "code",
   "execution_count": 2,
   "metadata": {
    "colab": {
     "autoexec": {
      "startup": false,
      "wait_interval": 0
     },
     "base_uri": "https://localhost:8080/",
     "height": 34
    },
    "colab_type": "code",
    "executionInfo": {
     "elapsed": 8397,
     "status": "ok",
     "timestamp": 1531223397464,
     "user": {
      "displayName": "Deep Learning",
      "photoUrl": "https://lh3.googleusercontent.com/a/default-user=s128",
      "userId": "115257841230779963257"
     },
     "user_tz": -120
    },
    "id": "xlKzkDJFrjA-",
    "outputId": "4e029d29-642d-4c4e-8817-269c16bbcc53"
   },
   "outputs": [
    {
     "name": "stderr",
     "output_type": "stream",
     "text": [
      "Using TensorFlow backend.\n"
     ]
    }
   ],
   "source": [
    "from keras import backend as K\n",
    "K.clear_session()"
   ]
  },
  {
   "cell_type": "code",
   "execution_count": 0,
   "metadata": {
    "colab": {
     "autoexec": {
      "startup": false,
      "wait_interval": 0
     }
    },
    "colab_type": "code",
    "id": "eQEKwl4oAxO7"
   },
   "outputs": [],
   "source": [
    "from keras import backend as K\n",
    "cfg = K.tf.ConfigProto()\n",
    "cfg.gpu_options.allow_growth = True\n",
    "K.set_session(K.tf.Session(config=cfg))"
   ]
  },
  {
   "cell_type": "code",
   "execution_count": 0,
   "metadata": {
    "colab": {
     "autoexec": {
      "startup": false,
      "wait_interval": 0
     }
    },
    "colab_type": "code",
    "id": "12M0egCCX-27"
   },
   "outputs": [],
   "source": [
    "from pydrive.auth import GoogleAuth\n",
    "from pydrive.drive import GoogleDrive\n",
    "from google.colab import auth\n",
    "from oauth2client.client import GoogleCredentials\n",
    "\n",
    "auth.authenticate_user()\n",
    "gauth = GoogleAuth()\n",
    "gauth.credentials = GoogleCredentials.get_application_default()\n",
    "drive = GoogleDrive(gauth)"
   ]
  },
  {
   "cell_type": "code",
   "execution_count": 0,
   "metadata": {
    "colab": {
     "autoexec": {
      "startup": false,
      "wait_interval": 0
     }
    },
    "colab_type": "code",
    "id": "4lN2WTUEYBYv"
   },
   "outputs": [],
   "source": [
    "file_import = drive.CreateFile({'id':'1p1bsltfTcIrZ_kfE6kwGTPzcdXorHbb2'})\n",
    "file_import.GetContentFile('colab_setup.py') \n",
    "from colab_setup import setup\n",
    "\n",
    "setup(drive)"
   ]
  },
  {
   "cell_type": "code",
   "execution_count": 6,
   "metadata": {
    "colab": {
     "autoexec": {
      "startup": false,
      "wait_interval": 0
     },
     "base_uri": "https://localhost:8080/",
     "height": 119
    },
    "colab_type": "code",
    "executionInfo": {
     "elapsed": 1607,
     "status": "ok",
     "timestamp": 1531223435706,
     "user": {
      "displayName": "Deep Learning",
      "photoUrl": "https://lh3.googleusercontent.com/a/default-user=s128",
      "userId": "115257841230779963257"
     },
     "user_tz": -120
    },
    "id": "cHBlD0tVj2TY",
    "outputId": "c1934df5-5cc4-4311-a042-7af6d290b099"
   },
   "outputs": [
    {
     "name": "stdout",
     "output_type": "stream",
     "text": [
      "colab_setup.py\t\t\t roc_auc_callback.py\tX_train.npy\r\n",
      "custom_fast_text_embeddings.npy  sample_submission.csv\tX_val.npy\r\n",
      "datalab\t\t\t\t train_model.py\t\ty_test.npy\r\n",
      "fast_text_embeddings.npy\t X_submission.npy\ty_train_full.npy\r\n",
      "plot_history.py\t\t\t X_test.npy\t\ty_train.npy\r\n",
      "__pycache__\t\t\t X_train_full.npy\ty_val.npy\r\n"
     ]
    }
   ],
   "source": [
    "!ls"
   ]
  },
  {
   "cell_type": "code",
   "execution_count": 0,
   "metadata": {
    "colab": {
     "autoexec": {
      "startup": false,
      "wait_interval": 0
     }
    },
    "colab_type": "code",
    "id": "yMwWPTMYXyno"
   },
   "outputs": [],
   "source": [
    "import numpy as np\n",
    "import os\n",
    "\n",
    "from plot_history import plot_history\n",
    "from roc_auc_callback import RocAucCallback\n",
    "from train_model import train_with_cv, train_with_submitting, evaluate_on_test\n",
    "\n",
    "from keras.models import Model\n",
    "from keras.layers import *\n",
    "from keras.layers.merge import concatenate"
   ]
  },
  {
   "cell_type": "code",
   "execution_count": 0,
   "metadata": {
    "colab": {
     "autoexec": {
      "startup": false,
      "wait_interval": 0
     }
    },
    "colab_type": "code",
    "id": "46VGjNCr-DED"
   },
   "outputs": [],
   "source": [
    "def one_by_three_cnn(filtersNumber, inputLayer, dropout = 0.2):\n",
    "    one_by_one = Conv1D(filtersNumber, 3, activation = 'elu', padding = 'same', kernel_initializer = 'he_uniform')(inputLayer)\n",
    "    one_by_one = BatchNormalization()(one_by_one)\n",
    "    one_by_one = SpatialDropout1D(dropout)(one_by_one)\n",
    "    \n",
    "    return one_by_one"
   ]
  },
  {
   "cell_type": "code",
   "execution_count": 0,
   "metadata": {
    "colab": {
     "autoexec": {
      "startup": false,
      "wait_interval": 0
     }
    },
    "colab_type": "code",
    "id": "zrmoc20_ngdA"
   },
   "outputs": [],
   "source": [
    "def yoon_kim_feature_extractor(filtersNumber, inputLayer):\n",
    "    block_1_conv_1 = Conv1D(filtersNumber, 1, activation = 'elu', padding = 'same', kernel_initializer = 'he_uniform')(inputLayer)\n",
    "    block_1_batchnorm1 = BatchNormalization()(block_1_conv_1)\n",
    "    block_1_max_pool1 = GlobalMaxPooling1D()(block_1_batchnorm1)\n",
    "\n",
    "    block_1_conv_2 = Conv1D(filtersNumber, 2, activation = 'elu', padding = 'same', kernel_initializer = 'he_uniform')(inputLayer)\n",
    "    block_1_batchnorm2 = BatchNormalization()(block_1_conv_2)\n",
    "    block_1_max_pool2 = GlobalMaxPooling1D()(block_1_batchnorm2)\n",
    "\n",
    "    block_1_conv_3 = Conv1D(filtersNumber, 3, activation = 'elu', padding = 'same', kernel_initializer = 'he_uniform')(inputLayer)\n",
    "    block_1_batchnorm3 = BatchNormalization()(block_1_conv_3)\n",
    "    block_1_max_pool3 = GlobalMaxPooling1D()(block_1_batchnorm3)\n",
    "\n",
    "    block_1_conv_4 = Conv1D(filtersNumber, 5, activation = 'elu', padding = 'same', kernel_initializer = 'he_uniform')(inputLayer)\n",
    "    block_1_batchnorm4 = BatchNormalization()(block_1_conv_4)\n",
    "    block_1_max_pool4 = GlobalMaxPooling1D()(block_1_batchnorm4)\n",
    "\n",
    "    block_1_features = concatenate([\n",
    "        block_1_max_pool1, \n",
    "        block_1_max_pool2, \n",
    "        block_1_max_pool3, \n",
    "        block_1_max_pool4\n",
    "    ])\n",
    "    block_1_features = Dropout(0.2)(block_1_features)\n",
    "    return block_1_features"
   ]
  },
  {
   "cell_type": "code",
   "execution_count": 11,
   "metadata": {
    "colab": {
     "autoexec": {
      "startup": false,
      "wait_interval": 0
     },
     "base_uri": "https://localhost:8080/",
     "height": 1258
    },
    "colab_type": "code",
    "executionInfo": {
     "elapsed": 2112,
     "status": "ok",
     "timestamp": 1531223458905,
     "user": {
      "displayName": "Deep Learning",
      "photoUrl": "https://lh3.googleusercontent.com/a/default-user=s128",
      "userId": "115257841230779963257"
     },
     "user_tz": -120
    },
    "id": "LTFG7OgsXynw",
    "outputId": "3c5ddd71-87b3-4c88-911a-b41c97b470ba"
   },
   "outputs": [
    {
     "name": "stdout",
     "output_type": "stream",
     "text": [
      "__________________________________________________________________________________________________\n",
      "Layer (type)                    Output Shape         Param #     Connected to                     \n",
      "==================================================================================================\n",
      "input_1 (InputLayer)            (None, 400)          0                                            \n",
      "__________________________________________________________________________________________________\n",
      "embedding_1 (Embedding)         (None, 400, 300)     9000000     input_1[0][0]                    \n",
      "__________________________________________________________________________________________________\n",
      "embedding_2 (Embedding)         (None, 400, 300)     9000000     input_1[0][0]                    \n",
      "__________________________________________________________________________________________________\n",
      "spatial_dropout1d_1 (SpatialDro (None, 400, 300)     0           embedding_1[0][0]                \n",
      "__________________________________________________________________________________________________\n",
      "spatial_dropout1d_2 (SpatialDro (None, 400, 300)     0           embedding_2[0][0]                \n",
      "__________________________________________________________________________________________________\n",
      "average_1 (Average)             (None, 400, 300)     0           spatial_dropout1d_1[0][0]        \n",
      "                                                                 spatial_dropout1d_2[0][0]        \n",
      "__________________________________________________________________________________________________\n",
      "spatial_dropout1d_3 (SpatialDro (None, 400, 300)     0           average_1[0][0]                  \n",
      "__________________________________________________________________________________________________\n",
      "conv1d_1 (Conv1D)               (None, 400, 300)     270300      spatial_dropout1d_3[0][0]        \n",
      "__________________________________________________________________________________________________\n",
      "batch_normalization_1 (BatchNor (None, 400, 300)     1200        conv1d_1[0][0]                   \n",
      "__________________________________________________________________________________________________\n",
      "spatial_dropout1d_4 (SpatialDro (None, 400, 300)     0           batch_normalization_1[0][0]      \n",
      "__________________________________________________________________________________________________\n",
      "conv1d_2 (Conv1D)               (None, 400, 300)     90300       spatial_dropout1d_4[0][0]        \n",
      "__________________________________________________________________________________________________\n",
      "conv1d_3 (Conv1D)               (None, 400, 300)     180300      spatial_dropout1d_4[0][0]        \n",
      "__________________________________________________________________________________________________\n",
      "conv1d_4 (Conv1D)               (None, 400, 300)     270300      spatial_dropout1d_4[0][0]        \n",
      "__________________________________________________________________________________________________\n",
      "conv1d_5 (Conv1D)               (None, 400, 300)     450300      spatial_dropout1d_4[0][0]        \n",
      "__________________________________________________________________________________________________\n",
      "batch_normalization_2 (BatchNor (None, 400, 300)     1200        conv1d_2[0][0]                   \n",
      "__________________________________________________________________________________________________\n",
      "batch_normalization_3 (BatchNor (None, 400, 300)     1200        conv1d_3[0][0]                   \n",
      "__________________________________________________________________________________________________\n",
      "batch_normalization_4 (BatchNor (None, 400, 300)     1200        conv1d_4[0][0]                   \n",
      "__________________________________________________________________________________________________\n",
      "batch_normalization_5 (BatchNor (None, 400, 300)     1200        conv1d_5[0][0]                   \n",
      "__________________________________________________________________________________________________\n",
      "global_max_pooling1d_1 (GlobalM (None, 300)          0           batch_normalization_2[0][0]      \n",
      "__________________________________________________________________________________________________\n",
      "global_max_pooling1d_2 (GlobalM (None, 300)          0           batch_normalization_3[0][0]      \n",
      "__________________________________________________________________________________________________\n",
      "global_max_pooling1d_3 (GlobalM (None, 300)          0           batch_normalization_4[0][0]      \n",
      "__________________________________________________________________________________________________\n",
      "global_max_pooling1d_4 (GlobalM (None, 300)          0           batch_normalization_5[0][0]      \n",
      "__________________________________________________________________________________________________\n",
      "concatenate_1 (Concatenate)     (None, 1200)         0           global_max_pooling1d_1[0][0]     \n",
      "                                                                 global_max_pooling1d_2[0][0]     \n",
      "                                                                 global_max_pooling1d_3[0][0]     \n",
      "                                                                 global_max_pooling1d_4[0][0]     \n",
      "__________________________________________________________________________________________________\n",
      "dropout_1 (Dropout)             (None, 1200)         0           concatenate_1[0][0]              \n",
      "__________________________________________________________________________________________________\n",
      "dense_1 (Dense)                 (None, 256)          307456      dropout_1[0][0]                  \n",
      "__________________________________________________________________________________________________\n",
      "batch_normalization_6 (BatchNor (None, 256)          1024        dense_1[0][0]                    \n",
      "__________________________________________________________________________________________________\n",
      "dropout_2 (Dropout)             (None, 256)          0           batch_normalization_6[0][0]      \n",
      "__________________________________________________________________________________________________\n",
      "dense_2 (Dense)                 (None, 256)          65792       dropout_2[0][0]                  \n",
      "__________________________________________________________________________________________________\n",
      "batch_normalization_7 (BatchNor (None, 256)          1024        dense_2[0][0]                    \n",
      "__________________________________________________________________________________________________\n",
      "dropout_3 (Dropout)             (None, 256)          0           batch_normalization_7[0][0]      \n",
      "__________________________________________________________________________________________________\n",
      "dense_3 (Dense)                 (None, 6)            1542        dropout_3[0][0]                  \n",
      "==================================================================================================\n",
      "Total params: 19,644,338\n",
      "Trainable params: 1,640,314\n",
      "Non-trainable params: 18,004,024\n",
      "__________________________________________________________________________________________________\n"
     ]
    }
   ],
   "source": [
    "maxWords = 30000\n",
    "maxSequenceLengthInWords = 400\n",
    "embeddingDimension = 300\n",
    "filtersNumber = 300\n",
    "\n",
    "input_layer = Input(shape=(maxSequenceLengthInWords,))\n",
    "\n",
    "pretrained_embedding_layer = Embedding(\n",
    "    maxWords, \n",
    "    output_dim=embeddingDimension, \n",
    "    input_length=maxSequenceLengthInWords,\n",
    "    weights = [np.load('fast_text_embeddings.npy')],\n",
    "    trainable = False\n",
    ")(input_layer)\n",
    "pretrained_embedding_layer = SpatialDropout1D(0.2)(pretrained_embedding_layer)\n",
    "\n",
    "custom_embedding_layer = Embedding(\n",
    "    maxWords, \n",
    "    output_dim=embeddingDimension, \n",
    "    input_length=maxSequenceLengthInWords,\n",
    "    weights = [np.load('custom_fast_text_embeddings.npy')],\n",
    "    trainable = False\n",
    ")(input_layer)\n",
    "custom_embedding_layer = SpatialDropout1D(0.2)(custom_embedding_layer)\n",
    "\n",
    "embedding = Average()([pretrained_embedding_layer, custom_embedding_layer])\n",
    "embedding_dropout = SpatialDropout1D(0.2)(embedding)\n",
    "\n",
    "block = embedding_dropout\n",
    "block = one_by_three_cnn(filtersNumber, block)\n",
    "  \n",
    "features = yoon_kim_feature_extractor(filtersNumber, block)\n",
    "\n",
    "dense_1 = Dense(256, activation = 'elu')(features)\n",
    "dense_1_normalization = BatchNormalization()(dense_1)\n",
    "dense_1_dropout = Dropout(0.2)(dense_1_normalization)\n",
    "\n",
    "dense_2 = Dense(256, activation = 'elu')(dense_1_dropout)\n",
    "dense_2_normalization = BatchNormalization()(dense_2)\n",
    "dense_2_dropout = Dropout(0.2)(dense_2_normalization)\n",
    "\n",
    "output_layer = Dense(6, activation='sigmoid')(dense_2_dropout)\n",
    "\n",
    "model = Model(inputs=[input_layer], outputs=[output_layer])\n",
    "            \n",
    "model.summary()\n",
    "\n",
    "model.compile(\n",
    "    loss='binary_crossentropy', \n",
    "    optimizer='Adam',\n",
    "    metrics=['accuracy']\n",
    ")"
   ]
  },
  {
   "cell_type": "code",
   "execution_count": 12,
   "metadata": {
    "colab": {
     "autoexec": {
      "startup": false,
      "wait_interval": 0
     },
     "base_uri": "https://localhost:8080/",
     "height": 1057
    },
    "colab_type": "code",
    "executionInfo": {
     "elapsed": 11395895,
     "status": "ok",
     "timestamp": 1531234868910,
     "user": {
      "displayName": "Deep Learning",
      "photoUrl": "https://lh3.googleusercontent.com/a/default-user=s128",
      "userId": "115257841230779963257"
     },
     "user_tz": -120
    },
    "id": "xwMmTewgXynz",
    "outputId": "72a00041-6d73-4cb6-8544-fddf9eb633b0"
   },
   "outputs": [
    {
     "name": "stdout",
     "output_type": "stream",
     "text": [
      "Train on 102124 samples, validate on 25532 samples\n",
      "Epoch 1/32\n",
      " 21440/102124 [=====>........................] - ETA: 5:37 - loss: 0.1728 - acc: 0.9333102112/102124 [============================>.] - ETA: 0s - loss: 0.0862 - acc: 0.9681102124/102124 [==============================] - 446s 4ms/step - loss: 0.0862 - acc: 0.9681 - val_loss: 0.0506 - val_acc: 0.9813\n",
      "Epoch 2/32\n",
      " 14048/102124 [===>..........................] - ETA: 5:55 - loss: 0.0551 - acc: 0.9796102112/102124 [============================>.] - ETA: 0s - loss: 0.0541 - acc: 0.9803102124/102124 [==============================] - 442s 4ms/step - loss: 0.0541 - acc: 0.9803 - val_loss: 0.0437 - val_acc: 0.9835\n",
      "roc-auc: 0.9866 - roc-auc_val: 0.9836                                                                                                    \n",
      "Epoch 3/32\n",
      "  8736/102124 [=>............................] - ETA: 6:16 - loss: 0.0501 - acc: 0.9812102112/102124 [============================>.] - ETA: 0s - loss: 0.0501 - acc: 0.9810102124/102124 [==============================] - 442s 4ms/step - loss: 0.0501 - acc: 0.9810 - val_loss: 0.0429 - val_acc: 0.9835\n",
      "Epoch 4/32\n",
      " 14048/102124 [===>..........................] - ETA: 5:54 - loss: 0.0470 - acc: 0.9825102112/102124 [============================>.] - ETA: 0s - loss: 0.0474 - acc: 0.9819102124/102124 [==============================] - 442s 4ms/step - loss: 0.0474 - acc: 0.9819 - val_loss: 0.0427 - val_acc: 0.9837\n",
      "roc-auc: 0.9894 - roc-auc_val: 0.9862                                                                                                    \n",
      "Epoch 5/32\n",
      "  8736/102124 [=>............................] - ETA: 6:15 - loss: 0.0436 - acc: 0.9834102112/102124 [============================>.] - ETA: 0s - loss: 0.0453 - acc: 0.9825102124/102124 [==============================] - 442s 4ms/step - loss: 0.0453 - acc: 0.9825 - val_loss: 0.0424 - val_acc: 0.9840\n",
      "Epoch 6/32\n",
      " 14048/102124 [===>..........................] - ETA: 5:55 - loss: 0.0428 - acc: 0.9831102112/102124 [============================>.] - ETA: 0s - loss: 0.0434 - acc: 0.9831102124/102124 [==============================] - 442s 4ms/step - loss: 0.0434 - acc: 0.9831 - val_loss: 0.0417 - val_acc: 0.9836\n",
      "roc-auc: 0.9919 - roc-auc_val: 0.9876                                                                                                    \n",
      "Epoch 7/32\n",
      "  8736/102124 [=>............................] - ETA: 6:16 - loss: 0.0429 - acc: 0.9829102112/102124 [============================>.] - ETA: 0s - loss: 0.0419 - acc: 0.9836102124/102124 [==============================] - 442s 4ms/step - loss: 0.0419 - acc: 0.9836 - val_loss: 0.0421 - val_acc: 0.9839\n",
      "Epoch 8/32\n",
      "102124/102124 [==============================] - 442s 4ms/step - loss: 0.0408 - acc: 0.9839 - val_loss: 0.0419 - val_acc: 0.9842==>.] - ETA: 0s - loss: 0.0408 - acc: 0.983\n",
      "\n",
      "Epoch 00008: ReduceLROnPlateau reducing learning rate to 0.00024148408556357026.\n",
      "roc-auc: 0.9928 - roc-auc_val: 0.9872                                                                                                    \n",
      "Epoch 9/32\n",
      "  5952/102124 [>.............................] - ETA: 6:26 - loss: 0.0400 - acc: 0.9843102112/102124 [============================>.] - ETA: 0s - loss: 0.0398 - acc: 0.9841102124/102124 [==============================] - 442s 4ms/step - loss: 0.0398 - acc: 0.9841 - val_loss: 0.0430 - val_acc: 0.9845\n",
      "Epoch 10/32\n",
      " 13984/102124 [===>..........................] - ETA: 5:55 - loss: 0.0391 - acc: 0.9842102112/102124 [============================>.] - ETA: 0s - loss: 0.0386 - acc: 0.9845102124/102124 [==============================] - 442s 4ms/step - loss: 0.0386 - acc: 0.9845 - val_loss: 0.0419 - val_acc: 0.9843\n",
      "roc-auc: 0.9924 - roc-auc_val: 0.9868                                                                                                    \n",
      "Epoch 11/32\n",
      "  8704/102124 [=>............................] - ETA: 6:16 - loss: 0.0374 - acc: 0.9852102112/102124 [============================>.] - ETA: 0s - loss: 0.0379 - acc: 0.9849102124/102124 [==============================] - 443s 4ms/step - loss: 0.0379 - acc: 0.9849 - val_loss: 0.0423 - val_acc: 0.9840\n",
      "Epoch 12/32\n",
      " 13984/102124 [===>..........................] - ETA: 5:55 - loss: 0.0366 - acc: 0.9852102112/102124 [============================>.] - ETA: 0s - loss: 0.0370 - acc: 0.9852102124/102124 [==============================] - 442s 4ms/step - loss: 0.0370 - acc: 0.9852 - val_loss: 0.0408 - val_acc: 0.9846\n",
      "roc-auc: 0.9948 - roc-auc_val: 0.9877                                                                                                    \n",
      "Epoch 13/32\n",
      "  8704/102124 [=>............................] - ETA: 6:16 - loss: 0.0370 - acc: 0.9849102112/102124 [============================>.] - ETA: 0s - loss: 0.0360 - acc: 0.9856102124/102124 [==============================] - 442s 4ms/step - loss: 0.0360 - acc: 0.9856 - val_loss: 0.0427 - val_acc: 0.9846\n",
      "Epoch 14/32\n",
      " 13984/102124 [===>..........................] - ETA: 5:55 - loss: 0.0347 - acc: 0.9859102112/102124 [============================>.] - ETA: 0s - loss: 0.0350 - acc: 0.9858102124/102124 [==============================] - 443s 4ms/step - loss: 0.0350 - acc: 0.9858 - val_loss: 0.0424 - val_acc: 0.9845\n",
      "roc-auc: 0.9941 - roc-auc_val: 0.9861                                                                                                    \n",
      "Epoch 15/32\n",
      "  8704/102124 [=>............................] - ETA: 6:16 - loss: 0.0326 - acc: 0.9867102112/102124 [============================>.] - ETA: 0s - loss: 0.0347 - acc: 0.9859102124/102124 [==============================] - 442s 4ms/step - loss: 0.0347 - acc: 0.9859 - val_loss: 0.0431 - val_acc: 0.9844\n",
      "Epoch 16/32\n",
      " 13984/102124 [===>..........................] - ETA: 5:54 - loss: 0.0340 - acc: 0.9861102112/102124 [============================>.] - ETA: 0s - loss: 0.0340 - acc: 0.9863102124/102124 [==============================] - 442s 4ms/step - loss: 0.0340 - acc: 0.9863 - val_loss: 0.0433 - val_acc: 0.9847\n",
      "roc-auc: 0.9924 - roc-auc_val: 0.985                                                                                                    \n",
      "Epoch 17/32\n",
      "  8736/102124 [=>............................] - ETA: 6:16 - loss: 0.0346 - acc: 0.9862102112/102124 [============================>.] - ETA: 0s - loss: 0.0332 - acc: 0.9866102124/102124 [==============================] - 442s 4ms/step - loss: 0.0332 - acc: 0.9866 - val_loss: 0.0462 - val_acc: 0.9843\n",
      "Epoch 18/32\n",
      " 13984/102124 [===>..........................] - ETA: 5:55 - loss: 0.0318 - acc: 0.9869102112/102124 [============================>.] - ETA: 0s - loss: 0.0325 - acc: 0.9866102124/102124 [==============================] - 442s 4ms/step - loss: 0.0325 - acc: 0.9866 - val_loss: 0.0448 - val_acc: 0.9845\n",
      "roc-auc: 0.9892 - roc-auc_val: 0.9845                                                                                                    \n",
      "Epoch 19/32\n",
      "102124/102124 [==============================] - 442s 4ms/step - loss: 0.0318 - acc: 0.9869 - val_loss: 0.0436 - val_acc: 0.9846==>.] - ETA: 0s - loss: 0.0318 - acc: 0.986\n",
      "\n",
      "Epoch 00019: ReduceLROnPlateau reducing learning rate to 7.694652595091611e-05.\n",
      "Epoch 20/32\n",
      "  8032/102124 [=>............................] - ETA: 6:18 - loss: 0.0325 - acc: 0.9867102112/102124 [============================>.] - ETA: 0s - loss: 0.0314 - acc: 0.9871102124/102124 [==============================] - 442s 4ms/step - loss: 0.0314 - acc: 0.9871 - val_loss: 0.0444 - val_acc: 0.9845\n",
      "roc-auc: 0.9929 - roc-auc_val: 0.984                                                                                                    \n",
      "Epoch 21/32\n",
      "  8736/102124 [=>............................] - ETA: 6:16 - loss: 0.0317 - acc: 0.9869102112/102124 [============================>.] - ETA: 0s - loss: 0.0313 - acc: 0.9872102124/102124 [==============================] - 442s 4ms/step - loss: 0.0313 - acc: 0.9872 - val_loss: 0.0443 - val_acc: 0.9846\n",
      "Epoch 22/32\n",
      " 13984/102124 [===>..........................] - ETA: 5:55 - loss: 0.0307 - acc: 0.9874102112/102124 [============================>.] - ETA: 0s - loss: 0.0309 - acc: 0.9874102124/102124 [==============================] - 443s 4ms/step - loss: 0.0309 - acc: 0.9874 - val_loss: 0.0436 - val_acc: 0.9846\n",
      "roc-auc: 0.9956 - roc-auc_val: 0.9852                                                                                                    \n"
     ]
    }
   ],
   "source": [
    "history = train_with_cv(model, batchSize=32, rocEvery = 2)"
   ]
  },
  {
   "cell_type": "code",
   "execution_count": 13,
   "metadata": {
    "colab": {
     "autoexec": {
      "startup": false,
      "wait_interval": 0
     },
     "base_uri": "https://localhost:8080/",
     "height": 294
    },
    "colab_type": "code",
    "executionInfo": {
     "elapsed": 1804,
     "status": "ok",
     "timestamp": 1531234870728,
     "user": {
      "displayName": "Deep Learning",
      "photoUrl": "https://lh3.googleusercontent.com/a/default-user=s128",
      "userId": "115257841230779963257"
     },
     "user_tz": -120
    },
    "id": "sms3R-U4469B",
    "outputId": "3af4d32d-8126-4634-ceaf-b1fb5c4704ae"
   },
   "outputs": [
    {
     "data": {
      "image/png": "[encoded data removed]",
      "text/plain": [
       "<matplotlib.figure.Figure at 0x7f76eabc1470>"
      ]
     },
     "metadata": {
      "tags": []
     },
     "output_type": "display_data"
    }
   ],
   "source": [
    "plot_history(history)"
   ]
  },
  {
   "cell_type": "code",
   "execution_count": 14,
   "metadata": {
    "colab": {
     "autoexec": {
      "startup": false,
      "wait_interval": 0
     },
     "base_uri": "https://localhost:8080/",
     "height": 51
    },
    "colab_type": "code",
    "executionInfo": {
     "elapsed": 78128,
     "status": "ok",
     "timestamp": 1531234948941,
     "user": {
      "displayName": "Deep Learning",
      "photoUrl": "https://lh3.googleusercontent.com/a/default-user=s128",
      "userId": "115257841230779963257"
     },
     "user_tz": -120
    },
    "id": "r2gtMBj2Tp9A",
    "outputId": "7f1549f1-c3ce-4481-e5fa-e0a120840534"
   },
   "outputs": [
    {
     "name": "stdout",
     "output_type": "stream",
     "text": [
      "31915/31915 [==============================] - 40s 1ms/step\n",
      "([0.040618926608304975, 0.9847511476415574], 0.9886127622531476)\n"
     ]
    }
   ],
   "source": [
    "print(evaluate_on_test(model))"
   ]
  }
 ],
 "metadata": {
  "accelerator": "GPU",
  "colab": {
   "collapsed_sections": [],
   "default_view": {},
   "name": "one_block.ipynb",
   "provenance": [],
   "version": "0.3.2",
   "views": {}
  },
  "kernelspec": {
   "display_name": "Python 3",
   "language": "python",
   "name": "python3"
  },
  "language_info": {
   "codemirror_mode": {
    "name": "ipython",
    "version": 3
   },
   "file_extension": ".py",
   "mimetype": "text/x-python",
   "name": "python",
   "nbconvert_exporter": "python",
   "pygments_lexer": "ipython3",
   "version": "3.6.2"
  }
 },
 "nbformat": 4,
 "nbformat_minor": 1
}

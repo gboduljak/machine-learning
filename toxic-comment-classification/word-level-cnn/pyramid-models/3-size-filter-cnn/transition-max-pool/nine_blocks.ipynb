{
  "nbformat": 4,
  "nbformat_minor": 0,
  "metadata": {
    "colab": {
      "name": "nine_blocks.ipynb",
      "version": "0.3.2",
      "views": {},
      "default_view": {},
      "provenance": [],
      "collapsed_sections": []
    },
    "kernelspec": {
      "display_name": "Python 3",
      "language": "python",
      "name": "python3"
    },
    "accelerator": "GPU"
  },
  "cells": [
    {
      "metadata": {
        "id": "yS1FnhiWX3Js",
        "colab_type": "code",
        "colab": {
          "autoexec": {
            "startup": false,
            "wait_interval": 0
          },
          "base_uri": "https://localhost:8080/",
          "height": 411
        },
        "outputId": "8ad6cc94-4551-4d86-e043-55b1425f191f",
        "executionInfo": {
          "status": "ok",
          "timestamp": 1531223574298,
          "user_tz": -120,
          "elapsed": 11804,
          "user": {
            "displayName": "Deep Learner",
            "photoUrl": "https://lh3.googleusercontent.com/a/default-user=s128",
            "userId": "116467175281269717998"
          }
        }
      },
      "cell_type": "code",
      "source": [
        "!pip install keras\n",
        "!pip install sklearn\n",
        "!pip install matplotlib\n",
        "!pip install -U -q PyDrive"
      ],
      "execution_count": 1,
      "outputs": [
        {
          "output_type": "stream",
          "text": [
            "Requirement already satisfied: keras in /usr/local/lib/python3.6/dist-packages (2.1.6)\r\n",
            "Requirement already satisfied: six>=1.9.0 in /usr/local/lib/python3.6/dist-packages (from keras) (1.11.0)\r\n",
            "Requirement already satisfied: scipy>=0.14 in /usr/local/lib/python3.6/dist-packages (from keras) (0.19.1)\r\n",
            "Requirement already satisfied: numpy>=1.9.1 in /usr/local/lib/python3.6/dist-packages (from keras) (1.14.5)\r\n",
            "Requirement already satisfied: pyyaml in /usr/local/lib/python3.6/dist-packages (from keras) (3.13)\r\n",
            "Requirement already satisfied: h5py in /usr/local/lib/python3.6/dist-packages (from keras) (2.8.0)\n",
            "Collecting sklearn\n",
            "  Downloading https://files.pythonhosted.org/packages/1e/7a/dbb3be0ce9bd5c8b7e3d87328e79063f8b263b2b1bfa4774cb1147bfcd3f/sklearn-0.0.tar.gz\n",
            "Requirement already satisfied: scikit-learn in /usr/local/lib/python3.6/dist-packages (from sklearn) (0.19.1)\n",
            "Building wheels for collected packages: sklearn\n",
            "  Running setup.py bdist_wheel for sklearn ... \u001b[?25l-\b \bdone\n",
            "\u001b[?25h  Stored in directory: /content/.cache/pip/wheels/76/03/bb/589d421d27431bcd2c6da284d5f2286c8e3b2ea3cf1594c074\n",
            "Successfully built sklearn\n",
            "Installing collected packages: sklearn\n",
            "Successfully installed sklearn-0.0\n",
            "Requirement already satisfied: matplotlib in /usr/local/lib/python3.6/dist-packages (2.1.2)\n",
            "Requirement already satisfied: six>=1.10 in /usr/local/lib/python3.6/dist-packages (from matplotlib) (1.11.0)\n",
            "Requirement already satisfied: python-dateutil>=2.1 in /usr/local/lib/python3.6/dist-packages (from matplotlib) (2.5.3)\n",
            "Requirement already satisfied: pytz in /usr/local/lib/python3.6/dist-packages (from matplotlib) (2018.5)\n",
            "Requirement already satisfied: numpy>=1.7.1 in /usr/local/lib/python3.6/dist-packages (from matplotlib) (1.14.5)\n",
            "Requirement already satisfied: pyparsing!=2.0.4,!=2.1.2,!=2.1.6,>=2.0.1 in /usr/local/lib/python3.6/dist-packages (from matplotlib) (2.2.0)\n",
            "Requirement already satisfied: cycler>=0.10 in /usr/local/lib/python3.6/dist-packages (from matplotlib) (0.10.0)\n"
          ],
          "name": "stdout"
        }
      ]
    },
    {
      "metadata": {
        "id": "xlKzkDJFrjA-",
        "colab_type": "code",
        "colab": {
          "autoexec": {
            "startup": false,
            "wait_interval": 0
          },
          "base_uri": "https://localhost:8080/",
          "height": 34
        },
        "outputId": "097e7ca4-ab6a-4ebe-b64b-42e94b509199",
        "executionInfo": {
          "status": "ok",
          "timestamp": 1531223583033,
          "user_tz": -120,
          "elapsed": 8674,
          "user": {
            "displayName": "Deep Learner",
            "photoUrl": "https://lh3.googleusercontent.com/a/default-user=s128",
            "userId": "116467175281269717998"
          }
        }
      },
      "cell_type": "code",
      "source": [
        "from keras import backend as K\n",
        "K.clear_session()"
      ],
      "execution_count": 2,
      "outputs": [
        {
          "output_type": "stream",
          "text": [
            "Using TensorFlow backend.\n"
          ],
          "name": "stderr"
        }
      ]
    },
    {
      "metadata": {
        "id": "eQEKwl4oAxO7",
        "colab_type": "code",
        "colab": {
          "autoexec": {
            "startup": false,
            "wait_interval": 0
          }
        }
      },
      "cell_type": "code",
      "source": [
        "from keras import backend as K\n",
        "cfg = K.tf.ConfigProto()\n",
        "cfg.gpu_options.allow_growth = True\n",
        "K.set_session(K.tf.Session(config=cfg))"
      ],
      "execution_count": 0,
      "outputs": []
    },
    {
      "metadata": {
        "id": "12M0egCCX-27",
        "colab_type": "code",
        "colab": {
          "autoexec": {
            "startup": false,
            "wait_interval": 0
          }
        }
      },
      "cell_type": "code",
      "source": [
        "from pydrive.auth import GoogleAuth\n",
        "from pydrive.drive import GoogleDrive\n",
        "from google.colab import auth\n",
        "from oauth2client.client import GoogleCredentials\n",
        "\n",
        "auth.authenticate_user()\n",
        "gauth = GoogleAuth()\n",
        "gauth.credentials = GoogleCredentials.get_application_default()\n",
        "drive = GoogleDrive(gauth)"
      ],
      "execution_count": 0,
      "outputs": []
    },
    {
      "metadata": {
        "id": "4lN2WTUEYBYv",
        "colab_type": "code",
        "colab": {
          "autoexec": {
            "startup": false,
            "wait_interval": 0
          }
        }
      },
      "cell_type": "code",
      "source": [
        "file_import = drive.CreateFile({'id':'1p1bsltfTcIrZ_kfE6kwGTPzcdXorHbb2'})\n",
        "file_import.GetContentFile('colab_setup.py') \n",
        "from colab_setup import setup\n",
        "\n",
        "setup(drive)"
      ],
      "execution_count": 0,
      "outputs": []
    },
    {
      "metadata": {
        "id": "cHBlD0tVj2TY",
        "colab_type": "code",
        "colab": {
          "autoexec": {
            "startup": false,
            "wait_interval": 0
          },
          "base_uri": "https://localhost:8080/",
          "height": 119
        },
        "outputId": "c4c99c23-5544-4759-c602-944832c66e68",
        "executionInfo": {
          "status": "ok",
          "timestamp": 1531223620486,
          "user_tz": -120,
          "elapsed": 1878,
          "user": {
            "displayName": "Deep Learner",
            "photoUrl": "https://lh3.googleusercontent.com/a/default-user=s128",
            "userId": "116467175281269717998"
          }
        }
      },
      "cell_type": "code",
      "source": [
        "!ls"
      ],
      "execution_count": 6,
      "outputs": [
        {
          "output_type": "stream",
          "text": [
            "colab_setup.py\t\t\t roc_auc_callback.py\tX_train.npy\r\n",
            "custom_fast_text_embeddings.npy  sample_submission.csv\tX_val.npy\r\n",
            "datalab\t\t\t\t train_model.py\t\ty_test.npy\r\n",
            "fast_text_embeddings.npy\t X_submission.npy\ty_train_full.npy\r\n",
            "plot_history.py\t\t\t X_test.npy\t\ty_train.npy\r\n",
            "__pycache__\t\t\t X_train_full.npy\ty_val.npy\r\n"
          ],
          "name": "stdout"
        }
      ]
    },
    {
      "metadata": {
        "id": "yMwWPTMYXyno",
        "colab_type": "code",
        "colab": {
          "autoexec": {
            "startup": false,
            "wait_interval": 0
          }
        }
      },
      "cell_type": "code",
      "source": [
        "import numpy as np\n",
        "import os\n",
        "\n",
        "from plot_history import plot_history\n",
        "from roc_auc_callback import RocAucCallback\n",
        "from train_model import train_with_cv, train_with_submitting, evaluate_on_test\n",
        "\n",
        "from keras.models import Model\n",
        "from keras.layers import *\n",
        "from keras.layers.merge import concatenate"
      ],
      "execution_count": 0,
      "outputs": []
    },
    {
      "metadata": {
        "id": "46VGjNCr-DED",
        "colab_type": "code",
        "colab": {
          "autoexec": {
            "startup": false,
            "wait_interval": 0
          }
        }
      },
      "cell_type": "code",
      "source": [
        "def one_by_three_cnn(filtersNumber, inputLayer, dropout = 0.2):\n",
        "    one_by_one = Conv1D(filtersNumber, 3, activation = 'elu', padding = 'same', kernel_initializer = 'he_uniform')(inputLayer)\n",
        "    one_by_one = BatchNormalization()(one_by_one)\n",
        "    one_by_one = SpatialDropout1D(dropout)(one_by_one)\n",
        "    \n",
        "    return one_by_one"
      ],
      "execution_count": 0,
      "outputs": []
    },
    {
      "metadata": {
        "id": "zrmoc20_ngdA",
        "colab_type": "code",
        "colab": {
          "autoexec": {
            "startup": false,
            "wait_interval": 0
          }
        }
      },
      "cell_type": "code",
      "source": [
        "def yoon_kim_feature_extractor(filtersNumber, inputLayer):\n",
        "    block_1_conv_1 = Conv1D(filtersNumber, 1, activation = 'elu', padding = 'same', kernel_initializer = 'he_uniform')(inputLayer)\n",
        "    block_1_batchnorm1 = BatchNormalization()(block_1_conv_1)\n",
        "    block_1_max_pool1 = GlobalMaxPooling1D()(block_1_batchnorm1)\n",
        "\n",
        "    block_1_conv_2 = Conv1D(filtersNumber, 2, activation = 'elu', padding = 'same', kernel_initializer = 'he_uniform')(inputLayer)\n",
        "    block_1_batchnorm2 = BatchNormalization()(block_1_conv_2)\n",
        "    block_1_max_pool2 = GlobalMaxPooling1D()(block_1_batchnorm2)\n",
        "\n",
        "    block_1_conv_3 = Conv1D(filtersNumber, 3, activation = 'elu', padding = 'same', kernel_initializer = 'he_uniform')(inputLayer)\n",
        "    block_1_batchnorm3 = BatchNormalization()(block_1_conv_3)\n",
        "    block_1_max_pool3 = GlobalMaxPooling1D()(block_1_batchnorm3)\n",
        "\n",
        "    block_1_conv_4 = Conv1D(filtersNumber, 5, activation = 'elu', padding = 'same', kernel_initializer = 'he_uniform')(inputLayer)\n",
        "    block_1_batchnorm4 = BatchNormalization()(block_1_conv_4)\n",
        "    block_1_max_pool4 = GlobalMaxPooling1D()(block_1_batchnorm4)\n",
        "\n",
        "    block_1_features = concatenate([\n",
        "        block_1_max_pool1, \n",
        "        block_1_max_pool2, \n",
        "        block_1_max_pool3, \n",
        "        block_1_max_pool4\n",
        "    ])\n",
        "    block_1_features = Dropout(0.2)(block_1_features)\n",
        "    return block_1_features"
      ],
      "execution_count": 0,
      "outputs": []
    },
    {
      "metadata": {
        "id": "LTFG7OgsXynw",
        "colab_type": "code",
        "colab": {
          "autoexec": {
            "startup": false,
            "wait_interval": 0
          },
          "base_uri": "https://localhost:8080/",
          "height": 2346
        },
        "outputId": "40681f13-2933-4145-8756-a50e298df3d0",
        "executionInfo": {
          "status": "ok",
          "timestamp": 1531223627074,
          "user_tz": -120,
          "elapsed": 4141,
          "user": {
            "displayName": "Deep Learner",
            "photoUrl": "https://lh3.googleusercontent.com/a/default-user=s128",
            "userId": "116467175281269717998"
          }
        }
      },
      "cell_type": "code",
      "source": [
        "maxWords = 30000\n",
        "maxSequenceLengthInWords = 400\n",
        "embeddingDimension = 300\n",
        "filtersNumber = 300\n",
        "convBlocks = 9\n",
        "\n",
        "input_layer = Input(shape=(maxSequenceLengthInWords,))\n",
        "\n",
        "pretrained_embedding_layer = Embedding(\n",
        "    maxWords, \n",
        "    output_dim=embeddingDimension, \n",
        "    input_length=maxSequenceLengthInWords,\n",
        "    weights = [np.load('fast_text_embeddings.npy')],\n",
        "    trainable = False\n",
        ")(input_layer)\n",
        "pretrained_embedding_layer = SpatialDropout1D(0.2)(pretrained_embedding_layer)\n",
        "\n",
        "custom_embedding_layer = Embedding(\n",
        "    maxWords, \n",
        "    output_dim=embeddingDimension, \n",
        "    input_length=maxSequenceLengthInWords,\n",
        "    weights = [np.load('custom_fast_text_embeddings.npy')],\n",
        "    trainable = False\n",
        ")(input_layer)\n",
        "custom_embedding_layer = SpatialDropout1D(0.2)(custom_embedding_layer)\n",
        "\n",
        "embedding = Average()([pretrained_embedding_layer, custom_embedding_layer])\n",
        "embedding_dropout = SpatialDropout1D(0.2)(embedding)\n",
        "\n",
        "block = embedding_dropout\n",
        "for currentBlock in range(convBlocks):\n",
        "  block = one_by_three_cnn(filtersNumber, block)\n",
        "  if(currentBlock < convBlocks-1):\n",
        "    block = MaxPooling1D()(block)\n",
        "  \n",
        "features = yoon_kim_feature_extractor(filtersNumber, block)\n",
        "\n",
        "dense_1 = Dense(256, activation = 'elu')(features)\n",
        "dense_1_normalization = BatchNormalization()(dense_1)\n",
        "dense_1_dropout = Dropout(0.2)(dense_1_normalization)\n",
        "\n",
        "dense_2 = Dense(256, activation = 'elu')(dense_1_dropout)\n",
        "dense_2_normalization = BatchNormalization()(dense_2)\n",
        "dense_2_dropout = Dropout(0.2)(dense_2_normalization)\n",
        "\n",
        "output_layer = Dense(6, activation='sigmoid')(dense_2_dropout)\n",
        "\n",
        "model = Model(inputs=[input_layer], outputs=[output_layer])\n",
        "            \n",
        "model.summary()\n",
        "\n",
        "model.compile(\n",
        "    loss='binary_crossentropy', \n",
        "    optimizer='Adam',\n",
        "    metrics=['accuracy']\n",
        ")"
      ],
      "execution_count": 10,
      "outputs": [
        {
          "output_type": "stream",
          "text": [
            "__________________________________________________________________________________________________\n",
            "Layer (type)                    Output Shape         Param #     Connected to                     \n",
            "==================================================================================================\n",
            "input_1 (InputLayer)            (None, 400)          0                                            \n",
            "__________________________________________________________________________________________________\n",
            "embedding_1 (Embedding)         (None, 400, 300)     9000000     input_1[0][0]                    \n",
            "__________________________________________________________________________________________________\n",
            "embedding_2 (Embedding)         (None, 400, 300)     9000000     input_1[0][0]                    \n",
            "__________________________________________________________________________________________________\n",
            "spatial_dropout1d_1 (SpatialDro (None, 400, 300)     0           embedding_1[0][0]                \n",
            "__________________________________________________________________________________________________\n",
            "spatial_dropout1d_2 (SpatialDro (None, 400, 300)     0           embedding_2[0][0]                \n",
            "__________________________________________________________________________________________________\n",
            "average_1 (Average)             (None, 400, 300)     0           spatial_dropout1d_1[0][0]        \n",
            "                                                                 spatial_dropout1d_2[0][0]        \n",
            "__________________________________________________________________________________________________\n",
            "spatial_dropout1d_3 (SpatialDro (None, 400, 300)     0           average_1[0][0]                  \n",
            "__________________________________________________________________________________________________\n",
            "conv1d_1 (Conv1D)               (None, 400, 300)     270300      spatial_dropout1d_3[0][0]        \n",
            "__________________________________________________________________________________________________\n",
            "batch_normalization_1 (BatchNor (None, 400, 300)     1200        conv1d_1[0][0]                   \n",
            "__________________________________________________________________________________________________\n",
            "spatial_dropout1d_4 (SpatialDro (None, 400, 300)     0           batch_normalization_1[0][0]      \n",
            "__________________________________________________________________________________________________\n",
            "max_pooling1d_1 (MaxPooling1D)  (None, 200, 300)     0           spatial_dropout1d_4[0][0]        \n",
            "__________________________________________________________________________________________________\n",
            "conv1d_2 (Conv1D)               (None, 200, 300)     270300      max_pooling1d_1[0][0]            \n",
            "__________________________________________________________________________________________________\n",
            "batch_normalization_2 (BatchNor (None, 200, 300)     1200        conv1d_2[0][0]                   \n",
            "__________________________________________________________________________________________________\n",
            "spatial_dropout1d_5 (SpatialDro (None, 200, 300)     0           batch_normalization_2[0][0]      \n",
            "__________________________________________________________________________________________________\n",
            "max_pooling1d_2 (MaxPooling1D)  (None, 100, 300)     0           spatial_dropout1d_5[0][0]        \n",
            "__________________________________________________________________________________________________\n",
            "conv1d_3 (Conv1D)               (None, 100, 300)     270300      max_pooling1d_2[0][0]            \n",
            "__________________________________________________________________________________________________\n",
            "batch_normalization_3 (BatchNor (None, 100, 300)     1200        conv1d_3[0][0]                   \n",
            "__________________________________________________________________________________________________\n",
            "spatial_dropout1d_6 (SpatialDro (None, 100, 300)     0           batch_normalization_3[0][0]      \n",
            "__________________________________________________________________________________________________\n",
            "max_pooling1d_3 (MaxPooling1D)  (None, 50, 300)      0           spatial_dropout1d_6[0][0]        \n",
            "__________________________________________________________________________________________________\n",
            "conv1d_4 (Conv1D)               (None, 50, 300)      270300      max_pooling1d_3[0][0]            \n",
            "__________________________________________________________________________________________________\n",
            "batch_normalization_4 (BatchNor (None, 50, 300)      1200        conv1d_4[0][0]                   \n",
            "__________________________________________________________________________________________________\n",
            "spatial_dropout1d_7 (SpatialDro (None, 50, 300)      0           batch_normalization_4[0][0]      \n",
            "__________________________________________________________________________________________________\n",
            "max_pooling1d_4 (MaxPooling1D)  (None, 25, 300)      0           spatial_dropout1d_7[0][0]        \n",
            "__________________________________________________________________________________________________\n",
            "conv1d_5 (Conv1D)               (None, 25, 300)      270300      max_pooling1d_4[0][0]            \n",
            "__________________________________________________________________________________________________\n",
            "batch_normalization_5 (BatchNor (None, 25, 300)      1200        conv1d_5[0][0]                   \n",
            "__________________________________________________________________________________________________\n",
            "spatial_dropout1d_8 (SpatialDro (None, 25, 300)      0           batch_normalization_5[0][0]      \n",
            "__________________________________________________________________________________________________\n",
            "max_pooling1d_5 (MaxPooling1D)  (None, 12, 300)      0           spatial_dropout1d_8[0][0]        \n",
            "__________________________________________________________________________________________________\n",
            "conv1d_6 (Conv1D)               (None, 12, 300)      270300      max_pooling1d_5[0][0]            \n",
            "__________________________________________________________________________________________________\n",
            "batch_normalization_6 (BatchNor (None, 12, 300)      1200        conv1d_6[0][0]                   \n",
            "__________________________________________________________________________________________________\n",
            "spatial_dropout1d_9 (SpatialDro (None, 12, 300)      0           batch_normalization_6[0][0]      \n",
            "__________________________________________________________________________________________________\n",
            "max_pooling1d_6 (MaxPooling1D)  (None, 6, 300)       0           spatial_dropout1d_9[0][0]        \n",
            "__________________________________________________________________________________________________\n",
            "conv1d_7 (Conv1D)               (None, 6, 300)       270300      max_pooling1d_6[0][0]            \n",
            "__________________________________________________________________________________________________\n",
            "batch_normalization_7 (BatchNor (None, 6, 300)       1200        conv1d_7[0][0]                   \n",
            "__________________________________________________________________________________________________\n",
            "spatial_dropout1d_10 (SpatialDr (None, 6, 300)       0           batch_normalization_7[0][0]      \n",
            "__________________________________________________________________________________________________\n",
            "max_pooling1d_7 (MaxPooling1D)  (None, 3, 300)       0           spatial_dropout1d_10[0][0]       \n",
            "__________________________________________________________________________________________________\n",
            "conv1d_8 (Conv1D)               (None, 3, 300)       270300      max_pooling1d_7[0][0]            \n",
            "__________________________________________________________________________________________________\n",
            "batch_normalization_8 (BatchNor (None, 3, 300)       1200        conv1d_8[0][0]                   \n",
            "__________________________________________________________________________________________________\n",
            "spatial_dropout1d_11 (SpatialDr (None, 3, 300)       0           batch_normalization_8[0][0]      \n",
            "__________________________________________________________________________________________________\n",
            "max_pooling1d_8 (MaxPooling1D)  (None, 1, 300)       0           spatial_dropout1d_11[0][0]       \n",
            "__________________________________________________________________________________________________\n",
            "conv1d_9 (Conv1D)               (None, 1, 300)       270300      max_pooling1d_8[0][0]            \n",
            "__________________________________________________________________________________________________\n",
            "batch_normalization_9 (BatchNor (None, 1, 300)       1200        conv1d_9[0][0]                   \n",
            "__________________________________________________________________________________________________\n",
            "spatial_dropout1d_12 (SpatialDr (None, 1, 300)       0           batch_normalization_9[0][0]      \n",
            "__________________________________________________________________________________________________\n",
            "conv1d_10 (Conv1D)              (None, 1, 300)       90300       spatial_dropout1d_12[0][0]       \n",
            "__________________________________________________________________________________________________\n",
            "conv1d_11 (Conv1D)              (None, 1, 300)       180300      spatial_dropout1d_12[0][0]       \n",
            "__________________________________________________________________________________________________\n",
            "conv1d_12 (Conv1D)              (None, 1, 300)       270300      spatial_dropout1d_12[0][0]       \n",
            "__________________________________________________________________________________________________\n",
            "conv1d_13 (Conv1D)              (None, 1, 300)       450300      spatial_dropout1d_12[0][0]       \n",
            "__________________________________________________________________________________________________\n",
            "batch_normalization_10 (BatchNo (None, 1, 300)       1200        conv1d_10[0][0]                  \n",
            "__________________________________________________________________________________________________\n",
            "batch_normalization_11 (BatchNo (None, 1, 300)       1200        conv1d_11[0][0]                  \n",
            "__________________________________________________________________________________________________\n",
            "batch_normalization_12 (BatchNo (None, 1, 300)       1200        conv1d_12[0][0]                  \n",
            "__________________________________________________________________________________________________\n",
            "batch_normalization_13 (BatchNo (None, 1, 300)       1200        conv1d_13[0][0]                  \n",
            "__________________________________________________________________________________________________\n",
            "global_max_pooling1d_1 (GlobalM (None, 300)          0           batch_normalization_10[0][0]     \n",
            "__________________________________________________________________________________________________\n",
            "global_max_pooling1d_2 (GlobalM (None, 300)          0           batch_normalization_11[0][0]     \n",
            "__________________________________________________________________________________________________\n",
            "global_max_pooling1d_3 (GlobalM (None, 300)          0           batch_normalization_12[0][0]     \n",
            "__________________________________________________________________________________________________\n",
            "global_max_pooling1d_4 (GlobalM (None, 300)          0           batch_normalization_13[0][0]     \n",
            "__________________________________________________________________________________________________\n",
            "concatenate_1 (Concatenate)     (None, 1200)         0           global_max_pooling1d_1[0][0]     \n",
            "                                                                 global_max_pooling1d_2[0][0]     \n",
            "                                                                 global_max_pooling1d_3[0][0]     \n",
            "                                                                 global_max_pooling1d_4[0][0]     \n",
            "__________________________________________________________________________________________________\n",
            "dropout_1 (Dropout)             (None, 1200)         0           concatenate_1[0][0]              \n",
            "__________________________________________________________________________________________________\n",
            "dense_1 (Dense)                 (None, 256)          307456      dropout_1[0][0]                  \n",
            "__________________________________________________________________________________________________\n",
            "batch_normalization_14 (BatchNo (None, 256)          1024        dense_1[0][0]                    \n",
            "__________________________________________________________________________________________________\n",
            "dropout_2 (Dropout)             (None, 256)          0           batch_normalization_14[0][0]     \n",
            "__________________________________________________________________________________________________\n",
            "dense_2 (Dense)                 (None, 256)          65792       dropout_2[0][0]                  \n",
            "__________________________________________________________________________________________________\n",
            "batch_normalization_15 (BatchNo (None, 256)          1024        dense_2[0][0]                    \n",
            "__________________________________________________________________________________________________\n",
            "dropout_3 (Dropout)             (None, 256)          0           batch_normalization_15[0][0]     \n",
            "__________________________________________________________________________________________________\n",
            "dense_3 (Dense)                 (None, 6)            1542        dropout_3[0][0]                  \n",
            "==================================================================================================\n",
            "Total params: 21,816,338\n",
            "Trainable params: 3,807,514\n",
            "Non-trainable params: 18,008,824\n",
            "__________________________________________________________________________________________________\n"
          ],
          "name": "stdout"
        }
      ]
    },
    {
      "metadata": {
        "id": "xwMmTewgXynz",
        "colab_type": "code",
        "colab": {
          "autoexec": {
            "startup": false,
            "wait_interval": 0
          },
          "base_uri": "https://localhost:8080/",
          "height": 1261
        },
        "outputId": "43740664-7131-45d7-e873-1ff1220a5b68",
        "executionInfo": {
          "status": "ok",
          "timestamp": 1531233566250,
          "user_tz": -120,
          "elapsed": 9939131,
          "user": {
            "displayName": "Deep Learner",
            "photoUrl": "https://lh3.googleusercontent.com/a/default-user=s128",
            "userId": "116467175281269717998"
          }
        }
      },
      "cell_type": "code",
      "source": [
        "history = train_with_cv(model, batchSize=32, rocEvery = 2)"
      ],
      "execution_count": 11,
      "outputs": [
        {
          "output_type": "stream",
          "text": [
            "Train on 102124 samples, validate on 25532 samples\n",
            "Epoch 1/32\n",
            " 20384/102124 [====>.........................] - ETA: 4:33 - loss: 0.2302 - acc: 0.9155"
          ],
          "name": "stdout"
        },
        {
          "output_type": "stream",
          "text": [
            " 56672/102124 [===============>..............] - ETA: 2:23 - loss: 0.1320 - acc: 0.9521"
          ],
          "name": "stdout"
        },
        {
          "output_type": "stream",
          "text": [
            " 92896/102124 [==========================>...] - ETA: 28s - loss: 0.1056 - acc: 0.9618"
          ],
          "name": "stdout"
        },
        {
          "output_type": "stream",
          "text": [
            "102124/102124 [==============================] - 336s 3ms/step - loss: 0.1017 - acc: 0.9634 - val_loss: 0.0542 - val_acc: 0.9807\n",
            "Epoch 2/32\n",
            " 10304/102124 [==>...........................] - ETA: 4:38 - loss: 0.0607 - acc: 0.9777"
          ],
          "name": "stdout"
        },
        {
          "output_type": "stream",
          "text": [
            " 49664/102124 [=============>................] - ETA: 2:38 - loss: 0.0614 - acc: 0.9777"
          ],
          "name": "stdout"
        },
        {
          "output_type": "stream",
          "text": [
            " 87200/102124 [========================>.....] - ETA: 45s - loss: 0.0602 - acc: 0.9782"
          ],
          "name": "stdout"
        },
        {
          "output_type": "stream",
          "text": [
            "102124/102124 [==============================] - 328s 3ms/step - loss: 0.0599 - acc: 0.9783 - val_loss: 0.0540 - val_acc: 0.9803\n",
            "roc-auc: 0.9745 - roc-auc_val: 0.9727                                                                                                    \n",
            "Epoch 3/32\n",
            "  4992/102124 [>.............................] - ETA: 4:52 - loss: 0.0576 - acc: 0.9804"
          ],
          "name": "stdout"
        },
        {
          "output_type": "stream",
          "text": [
            " 40960/102124 [===========>..................] - ETA: 3:04 - loss: 0.0568 - acc: 0.9796"
          ],
          "name": "stdout"
        },
        {
          "output_type": "stream",
          "text": [
            " 77760/102124 [=====================>........] - ETA: 1:13 - loss: 0.0570 - acc: 0.9795"
          ],
          "name": "stdout"
        },
        {
          "output_type": "stream",
          "text": [
            "102124/102124 [==============================] - 327s 3ms/step - loss: 0.0568 - acc: 0.9795 - val_loss: 0.0479 - val_acc: 0.9820\n",
            "Epoch 4/32\n",
            "  4544/102124 [>.............................] - ETA: 4:54 - loss: 0.0514 - acc: 0.9810"
          ],
          "name": "stdout"
        },
        {
          "output_type": "stream",
          "text": [
            " 40704/102124 [==========>...................] - ETA: 3:04 - loss: 0.0550 - acc: 0.9796"
          ],
          "name": "stdout"
        },
        {
          "output_type": "stream",
          "text": [
            " 79136/102124 [======================>.......] - ETA: 1:09 - loss: 0.0537 - acc: 0.9802"
          ],
          "name": "stdout"
        },
        {
          "output_type": "stream",
          "text": [
            "102124/102124 [==============================] - 325s 3ms/step - loss: 0.0538 - acc: 0.9802 - val_loss: 0.0571 - val_acc: 0.9815\n",
            "roc-auc: 0.9783 - roc-auc_val: 0.974                                                                                                    \n",
            "Epoch 5/32\n",
            "  3168/102124 [..............................] - ETA: 4:56 - loss: 0.0511 - acc: 0.9802"
          ],
          "name": "stdout"
        },
        {
          "output_type": "stream",
          "text": [
            " 38528/102124 [==========>...................] - ETA: 3:11 - loss: 0.0515 - acc: 0.9808"
          ],
          "name": "stdout"
        },
        {
          "output_type": "stream",
          "text": [
            " 75840/102124 [=====================>........] - ETA: 1:19 - loss: 0.0515 - acc: 0.9808"
          ],
          "name": "stdout"
        },
        {
          "output_type": "stream",
          "text": [
            "102124/102124 [==============================] - 326s 3ms/step - loss: 0.0518 - acc: 0.9808 - val_loss: 0.0490 - val_acc: 0.9818\n",
            "\n",
            "Epoch 00005: ReduceLROnPlateau reducing learning rate to 0.0003298769879620522.\n",
            "Epoch 6/32\n",
            "  2720/102124 [..............................] - ETA: 5:02 - loss: 0.0466 - acc: 0.9827"
          ],
          "name": "stdout"
        },
        {
          "output_type": "stream",
          "text": [
            " 38688/102124 [==========>...................] - ETA: 3:11 - loss: 0.0508 - acc: 0.9813"
          ],
          "name": "stdout"
        },
        {
          "output_type": "stream",
          "text": [
            " 78880/102124 [======================>.......] - ETA: 1:10 - loss: 0.0504 - acc: 0.9812"
          ],
          "name": "stdout"
        },
        {
          "output_type": "stream",
          "text": [
            "102124/102124 [==============================] - 326s 3ms/step - loss: 0.0501 - acc: 0.9813 - val_loss: 0.0481 - val_acc: 0.9820\n",
            "roc-auc: 0.9797 - roc-auc_val: 0.9745                                                                                                    \n",
            "Epoch 7/32\n",
            "  2976/102124 [..............................] - ETA: 4:58 - loss: 0.0509 - acc: 0.9807"
          ],
          "name": "stdout"
        },
        {
          "output_type": "stream",
          "text": [
            " 40096/102124 [==========>...................] - ETA: 3:06 - loss: 0.0489 - acc: 0.9819"
          ],
          "name": "stdout"
        },
        {
          "output_type": "stream",
          "text": [
            " 76416/102124 [=====================>........] - ETA: 1:17 - loss: 0.0491 - acc: 0.9816"
          ],
          "name": "stdout"
        },
        {
          "output_type": "stream",
          "text": [
            "102124/102124 [==============================] - 326s 3ms/step - loss: 0.0490 - acc: 0.9816 - val_loss: 0.0478 - val_acc: 0.9820\n",
            "Epoch 8/32\n",
            "  3840/102124 [>.............................] - ETA: 4:57 - loss: 0.0484 - acc: 0.9810"
          ],
          "name": "stdout"
        },
        {
          "output_type": "stream",
          "text": [
            " 42080/102124 [===========>..................] - ETA: 3:00 - loss: 0.0470 - acc: 0.9823"
          ],
          "name": "stdout"
        },
        {
          "output_type": "stream",
          "text": [
            " 80000/102124 [======================>.......] - ETA: 1:06 - loss: 0.0470 - acc: 0.9823"
          ],
          "name": "stdout"
        },
        {
          "output_type": "stream",
          "text": [
            "102124/102124 [==============================] - 326s 3ms/step - loss: 0.0473 - acc: 0.9822 - val_loss: 0.0473 - val_acc: 0.9823\n",
            "roc-auc: 0.9816 - roc-auc_val: 0.975                                                                                                    \n",
            "Epoch 9/32\n",
            "  3232/102124 [..............................] - ETA: 5:01 - loss: 0.0462 - acc: 0.9828"
          ],
          "name": "stdout"
        },
        {
          "output_type": "stream",
          "text": [
            " 39680/102124 [==========>...................] - ETA: 3:09 - loss: 0.0468 - acc: 0.9822"
          ],
          "name": "stdout"
        },
        {
          "output_type": "stream",
          "text": [
            " 75872/102124 [=====================>........] - ETA: 1:19 - loss: 0.0466 - acc: 0.9824"
          ],
          "name": "stdout"
        },
        {
          "output_type": "stream",
          "text": [
            "102124/102124 [==============================] - 329s 3ms/step - loss: 0.0461 - acc: 0.9826 - val_loss: 0.0460 - val_acc: 0.9827\n",
            "Epoch 10/32\n",
            "  3584/102124 [>.............................] - ETA: 4:58 - loss: 0.0446 - acc: 0.9823"
          ],
          "name": "stdout"
        },
        {
          "output_type": "stream",
          "text": [
            " 39040/102124 [==========>...................] - ETA: 3:11 - loss: 0.0461 - acc: 0.9824"
          ],
          "name": "stdout"
        },
        {
          "output_type": "stream",
          "text": [
            " 74656/102124 [====================>.........] - ETA: 1:23 - loss: 0.0457 - acc: 0.9825"
          ],
          "name": "stdout"
        },
        {
          "output_type": "stream",
          "text": [
            "102124/102124 [==============================] - 328s 3ms/step - loss: 0.0452 - acc: 0.9827 - val_loss: 0.0477 - val_acc: 0.9821\n",
            "roc-auc: 0.9826 - roc-auc_val: 0.9752                                                                                                    \n",
            "Epoch 11/32\n",
            "  1984/102124 [..............................] - ETA: 5:03 - loss: 0.0425 - acc: 0.9842"
          ],
          "name": "stdout"
        },
        {
          "output_type": "stream",
          "text": [
            " 42880/102124 [===========>..................] - ETA: 2:59 - loss: 0.0445 - acc: 0.9831"
          ],
          "name": "stdout"
        },
        {
          "output_type": "stream",
          "text": [
            " 83456/102124 [=======================>......] - ETA: 56s - loss: 0.0444 - acc: 0.9830"
          ],
          "name": "stdout"
        },
        {
          "output_type": "stream",
          "text": [
            "102124/102124 [==============================] - 327s 3ms/step - loss: 0.0444 - acc: 0.9831 - val_loss: 0.0473 - val_acc: 0.9826\n",
            "Epoch 12/32\n",
            "  6720/102124 [>.............................] - ETA: 4:47 - loss: 0.0452 - acc: 0.9825"
          ],
          "name": "stdout"
        },
        {
          "output_type": "stream",
          "text": [
            " 43936/102124 [===========>..................] - ETA: 2:54 - loss: 0.0430 - acc: 0.9835"
          ],
          "name": "stdout"
        },
        {
          "output_type": "stream",
          "text": [
            " 85280/102124 [========================>.....] - ETA: 50s - loss: 0.0435 - acc: 0.9833"
          ],
          "name": "stdout"
        },
        {
          "output_type": "stream",
          "text": [
            "102124/102124 [==============================] - 326s 3ms/step - loss: 0.0434 - acc: 0.9834 - val_loss: 0.0472 - val_acc: 0.9825\n",
            "roc-auc: 0.9837 - roc-auc_val: 0.9749                                                                                                    \n",
            "Epoch 13/32\n",
            "  4576/102124 [>.............................] - ETA: 4:53 - loss: 0.0470 - acc: 0.9816"
          ],
          "name": "stdout"
        },
        {
          "output_type": "stream",
          "text": [
            " 40544/102124 [==========>...................] - ETA: 3:04 - loss: 0.0433 - acc: 0.9833"
          ],
          "name": "stdout"
        },
        {
          "output_type": "stream",
          "text": [
            " 81376/102124 [======================>.......] - ETA: 1:02 - loss: 0.0426 - acc: 0.9836"
          ],
          "name": "stdout"
        },
        {
          "output_type": "stream",
          "text": [
            "102124/102124 [==============================] - 325s 3ms/step - loss: 0.0427 - acc: 0.9836 - val_loss: 0.0459 - val_acc: 0.9827\n",
            "Epoch 14/32\n",
            "  5504/102124 [>.............................] - ETA: 4:51 - loss: 0.0377 - acc: 0.9855"
          ],
          "name": "stdout"
        },
        {
          "output_type": "stream",
          "text": [
            " 49216/102124 [=============>................] - ETA: 2:39 - loss: 0.0424 - acc: 0.9835"
          ],
          "name": "stdout"
        },
        {
          "output_type": "stream",
          "text": [
            " 85056/102124 [=======================>......] - ETA: 51s - loss: 0.0418 - acc: 0.9838"
          ],
          "name": "stdout"
        },
        {
          "output_type": "stream",
          "text": [
            "102124/102124 [==============================] - 326s 3ms/step - loss: 0.0420 - acc: 0.9838 - val_loss: 0.0459 - val_acc: 0.9827\n",
            "roc-auc: 0.9847 - roc-auc_val: 0.9754                                                                                                    \n",
            "Epoch 15/32\n",
            "  4512/102124 [>.............................] - ETA: 4:52 - loss: 0.0381 - acc: 0.9854"
          ],
          "name": "stdout"
        },
        {
          "output_type": "stream",
          "text": [
            " 44320/102124 [============>.................] - ETA: 2:53 - loss: 0.0407 - acc: 0.9840"
          ],
          "name": "stdout"
        },
        {
          "output_type": "stream",
          "text": [
            " 81472/102124 [======================>.......] - ETA: 1:02 - loss: 0.0412 - acc: 0.9839"
          ],
          "name": "stdout"
        },
        {
          "output_type": "stream",
          "text": [
            "102124/102124 [==============================] - 325s 3ms/step - loss: 0.0409 - acc: 0.9840 - val_loss: 0.0463 - val_acc: 0.9828\n",
            "Epoch 16/32\n",
            "  5728/102124 [>.............................] - ETA: 4:52 - loss: 0.0409 - acc: 0.9840"
          ],
          "name": "stdout"
        },
        {
          "output_type": "stream",
          "text": [
            " 42144/102124 [===========>..................] - ETA: 3:01 - loss: 0.0410 - acc: 0.9839"
          ],
          "name": "stdout"
        },
        {
          "output_type": "stream",
          "text": [
            " 79136/102124 [======================>.......] - ETA: 1:09 - loss: 0.0404 - acc: 0.9843"
          ],
          "name": "stdout"
        },
        {
          "output_type": "stream",
          "text": [
            "102124/102124 [==============================] - 326s 3ms/step - loss: 0.0406 - acc: 0.9842 - val_loss: 0.0457 - val_acc: 0.9829\n",
            "roc-auc: 0.9853 - roc-auc_val: 0.9753                                                                                                    \n",
            "Epoch 17/32\n",
            "  3136/102124 [..............................] - ETA: 4:53 - loss: 0.0369 - acc: 0.9849"
          ],
          "name": "stdout"
        },
        {
          "output_type": "stream",
          "text": [
            " 44768/102124 [============>.................] - ETA: 2:51 - loss: 0.0395 - acc: 0.9844"
          ],
          "name": "stdout"
        },
        {
          "output_type": "stream",
          "text": [
            " 84800/102124 [=======================>......] - ETA: 51s - loss: 0.0398 - acc: 0.9844"
          ],
          "name": "stdout"
        },
        {
          "output_type": "stream",
          "text": [
            "102124/102124 [==============================] - 323s 3ms/step - loss: 0.0399 - acc: 0.9844 - val_loss: 0.0452 - val_acc: 0.9829\n",
            "Epoch 18/32\n",
            "  7296/102124 [=>............................] - ETA: 4:43 - loss: 0.0403 - acc: 0.9847"
          ],
          "name": "stdout"
        },
        {
          "output_type": "stream",
          "text": [
            " 43680/102124 [===========>..................] - ETA: 2:54 - loss: 0.0389 - acc: 0.9850"
          ],
          "name": "stdout"
        },
        {
          "output_type": "stream",
          "text": [
            " 82144/102124 [=======================>......] - ETA: 59s - loss: 0.0391 - acc: 0.9848"
          ],
          "name": "stdout"
        },
        {
          "output_type": "stream",
          "text": [
            "102124/102124 [==============================] - 324s 3ms/step - loss: 0.0393 - acc: 0.9847 - val_loss: 0.0456 - val_acc: 0.9828\n",
            "roc-auc: 0.9859 - roc-auc_val: 0.9756                                                                                                    \n",
            "Epoch 19/32\n",
            "  3936/102124 [>.............................] - ETA: 4:50 - loss: 0.0406 - acc: 0.9838"
          ],
          "name": "stdout"
        },
        {
          "output_type": "stream",
          "text": [
            " 42880/102124 [===========>..................] - ETA: 2:56 - loss: 0.0392 - acc: 0.9848"
          ],
          "name": "stdout"
        },
        {
          "output_type": "stream",
          "text": [
            " 79072/102124 [======================>.......] - ETA: 1:08 - loss: 0.0392 - acc: 0.9847"
          ],
          "name": "stdout"
        },
        {
          "output_type": "stream",
          "text": [
            "102124/102124 [==============================] - 323s 3ms/step - loss: 0.0390 - acc: 0.9848 - val_loss: 0.0454 - val_acc: 0.9831\n",
            "\n",
            "Epoch 00019: ReduceLROnPlateau reducing learning rate to 7.694652595091611e-05.\n",
            "Epoch 20/32\n",
            "  3744/102124 [>.............................] - ETA: 4:58 - loss: 0.0350 - acc: 0.9869"
          ],
          "name": "stdout"
        },
        {
          "output_type": "stream",
          "text": [
            " 40448/102124 [==========>...................] - ETA: 3:04 - loss: 0.0387 - acc: 0.9846"
          ],
          "name": "stdout"
        },
        {
          "output_type": "stream",
          "text": [
            " 79456/102124 [======================>.......] - ETA: 1:07 - loss: 0.0380 - acc: 0.9851"
          ],
          "name": "stdout"
        },
        {
          "output_type": "stream",
          "text": [
            "102124/102124 [==============================] - 323s 3ms/step - loss: 0.0383 - acc: 0.9850 - val_loss: 0.0457 - val_acc: 0.9830\n",
            "roc-auc: 0.9862 - roc-auc_val: 0.975                                                                                                    \n",
            "Epoch 21/32\n",
            "  3264/102124 [..............................] - ETA: 4:56 - loss: 0.0366 - acc: 0.9851"
          ],
          "name": "stdout"
        },
        {
          "output_type": "stream",
          "text": [
            " 41696/102124 [===========>..................] - ETA: 3:00 - loss: 0.0373 - acc: 0.9853"
          ],
          "name": "stdout"
        },
        {
          "output_type": "stream",
          "text": [
            " 79392/102124 [======================>.......] - ETA: 1:08 - loss: 0.0380 - acc: 0.9851"
          ],
          "name": "stdout"
        },
        {
          "output_type": "stream",
          "text": [
            "102124/102124 [==============================] - 323s 3ms/step - loss: 0.0382 - acc: 0.9850 - val_loss: 0.0457 - val_acc: 0.9830\n",
            "Epoch 22/32\n",
            "  5152/102124 [>.............................] - ETA: 4:49 - loss: 0.0362 - acc: 0.9857"
          ],
          "name": "stdout"
        },
        {
          "output_type": "stream",
          "text": [
            " 42016/102124 [===========>..................] - ETA: 2:59 - loss: 0.0379 - acc: 0.9851"
          ],
          "name": "stdout"
        },
        {
          "output_type": "stream",
          "text": [
            " 80192/102124 [======================>.......] - ETA: 1:05 - loss: 0.0378 - acc: 0.9853"
          ],
          "name": "stdout"
        },
        {
          "output_type": "stream",
          "text": [
            "102124/102124 [==============================] - 322s 3ms/step - loss: 0.0379 - acc: 0.9852 - val_loss: 0.0460 - val_acc: 0.9831\n",
            "roc-auc: 0.9864 - roc-auc_val: 0.9749                                                                                                    \n",
            "Epoch 23/32\n",
            "  3456/102124 [>.............................] - ETA: 4:54 - loss: 0.0354 - acc: 0.9858"
          ],
          "name": "stdout"
        },
        {
          "output_type": "stream",
          "text": [
            " 41984/102124 [===========>..................] - ETA: 2:58 - loss: 0.0370 - acc: 0.9857"
          ],
          "name": "stdout"
        },
        {
          "output_type": "stream",
          "text": [
            " 89504/102124 [=========================>....] - ETA: 37s - loss: 0.0371 - acc: 0.9856"
          ],
          "name": "stdout"
        },
        {
          "output_type": "stream",
          "text": [
            "102124/102124 [==============================] - 321s 3ms/step - loss: 0.0374 - acc: 0.9855 - val_loss: 0.0455 - val_acc: 0.9831\n",
            "Epoch 24/32\n",
            "  9056/102124 [=>............................] - ETA: 4:36 - loss: 0.0390 - acc: 0.9847"
          ],
          "name": "stdout"
        },
        {
          "output_type": "stream",
          "text": [
            " 51744/102124 [==============>...............] - ETA: 2:29 - loss: 0.0376 - acc: 0.9854"
          ],
          "name": "stdout"
        },
        {
          "output_type": "stream",
          "text": [
            " 88992/102124 [=========================>....] - ETA: 38s - loss: 0.0375 - acc: 0.9853"
          ],
          "name": "stdout"
        },
        {
          "output_type": "stream",
          "text": [
            "102124/102124 [==============================] - 321s 3ms/step - loss: 0.0372 - acc: 0.9854 - val_loss: 0.0458 - val_acc: 0.9832\n",
            "roc-auc: 0.9868 - roc-auc_val: 0.9747                                                                                                    \n",
            "Epoch 25/32\n",
            "  5600/102124 [>.............................] - ETA: 4:45 - loss: 0.0375 - acc: 0.9854"
          ],
          "name": "stdout"
        },
        {
          "output_type": "stream",
          "text": [
            " 58944/102124 [================>.............] - ETA: 2:08 - loss: 0.0373 - acc: 0.9855"
          ],
          "name": "stdout"
        },
        {
          "output_type": "stream",
          "text": [
            " 97952/102124 [===========================>..] - ETA: 12s - loss: 0.0370 - acc: 0.9855"
          ],
          "name": "stdout"
        },
        {
          "output_type": "stream",
          "text": [
            "102124/102124 [==============================] - 321s 3ms/step - loss: 0.0370 - acc: 0.9855 - val_loss: 0.0459 - val_acc: 0.9829\n",
            "Epoch 26/32\n",
            " 12192/102124 [==>...........................] - ETA: 4:27 - loss: 0.0374 - acc: 0.9850"
          ],
          "name": "stdout"
        },
        {
          "output_type": "stream",
          "text": [
            " 57664/102124 [===============>..............] - ETA: 2:11 - loss: 0.0372 - acc: 0.9855"
          ],
          "name": "stdout"
        },
        {
          "output_type": "stream",
          "text": [
            "102112/102124 [============================>.] - ETA: 0s - loss: 0.0368 - acc: 0.9856"
          ],
          "name": "stdout"
        },
        {
          "output_type": "stream",
          "text": [
            "102124/102124 [==============================] - 321s 3ms/step - loss: 0.0368 - acc: 0.9856 - val_loss: 0.0463 - val_acc: 0.9829\n",
            "roc-auc: 0.9872 - roc-auc_val: 0.9753                                                                                                    \n",
            "Epoch 27/32\n",
            "  8576/102124 [=>............................] - ETA: 4:39 - loss: 0.0377 - acc: 0.9857"
          ],
          "name": "stdout"
        },
        {
          "output_type": "stream",
          "text": [
            " 46752/102124 [============>.................] - ETA: 2:44 - loss: 0.0370 - acc: 0.9854"
          ],
          "name": "stdout"
        },
        {
          "output_type": "stream",
          "text": [
            " 85344/102124 [========================>.....] - ETA: 49s - loss: 0.0370 - acc: 0.9854"
          ],
          "name": "stdout"
        },
        {
          "output_type": "stream",
          "text": [
            "102124/102124 [==============================] - 321s 3ms/step - loss: 0.0366 - acc: 0.9857 - val_loss: 0.0458 - val_acc: 0.9829\n"
          ],
          "name": "stdout"
        }
      ]
    },
    {
      "metadata": {
        "id": "sms3R-U4469B",
        "colab_type": "code",
        "colab": {
          "autoexec": {
            "startup": false,
            "wait_interval": 0
          },
          "base_uri": "https://localhost:8080/",
          "height": 294
        },
        "outputId": "43a8d731-e04b-41ce-d69f-0e66d29975b1",
        "executionInfo": {
          "status": "ok",
          "timestamp": 1531233568138,
          "user_tz": -120,
          "elapsed": 1874,
          "user": {
            "displayName": "Deep Learner",
            "photoUrl": "https://lh3.googleusercontent.com/a/default-user=s128",
            "userId": "116467175281269717998"
          }
        }
      },
      "cell_type": "code",
      "source": [
        "plot_history(history)"
      ],
      "execution_count": 12,
      "outputs": [
        {
          "output_type": "display_data",
          "data": {
            "image/png": "[encoded data removed]",
            "text/plain": [
              "<matplotlib.figure.Figure at 0x7fa074fa7240>"
            ]
          },
          "metadata": {
            "tags": []
          }
        }
      ]
    },
    {
      "metadata": {
        "id": "r2gtMBj2Tp9A",
        "colab_type": "code",
        "colab": {
          "autoexec": {
            "startup": false,
            "wait_interval": 0
          },
          "base_uri": "https://localhost:8080/",
          "height": 51
        },
        "outputId": "d2796259-685c-4d6e-f194-048ce09c0042",
        "executionInfo": {
          "status": "ok",
          "timestamp": 1531233615593,
          "user_tz": -120,
          "elapsed": 47375,
          "user": {
            "displayName": "Deep Learner",
            "photoUrl": "https://lh3.googleusercontent.com/a/default-user=s128",
            "userId": "116467175281269717998"
          }
        }
      },
      "cell_type": "code",
      "source": [
        "print(evaluate_on_test(model))"
      ],
      "execution_count": 13,
      "outputs": [
        {
          "output_type": "stream",
          "text": [
            "31915/31915 [==============================] - 24s 767us/step\n",
            "([0.04462836109779947, 0.9831688205388652], 0.978922132046438)\n"
          ],
          "name": "stdout"
        }
      ]
    }
  ]
}
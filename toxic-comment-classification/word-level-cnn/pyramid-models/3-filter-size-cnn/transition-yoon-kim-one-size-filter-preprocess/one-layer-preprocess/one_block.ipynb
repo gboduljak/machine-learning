{
 "cells": [
  {
   "cell_type": "code",
   "execution_count": 1,
   "metadata": {
    "colab": {
     "autoexec": {
      "startup": false,
      "wait_interval": 0
     },
     "base_uri": "https://localhost:8080/",
     "height": 292
    },
    "colab_type": "code",
    "executionInfo": {
     "elapsed": 8570,
     "status": "ok",
     "timestamp": 1531351523630,
     "user": {
      "displayName": "Deep Learning",
      "photoUrl": "https://lh3.googleusercontent.com/a/default-user=s128",
      "userId": "115257841230779963257"
     },
     "user_tz": -120
    },
    "id": "yS1FnhiWX3Js",
    "outputId": "84dfa0f9-0c7c-432f-e4fa-626a0b39dc5a"
   },
   "outputs": [
    {
     "name": "stdout",
     "output_type": "stream",
     "text": [
      "Requirement already satisfied: keras in /usr/local/lib/python3.6/dist-packages (2.1.6)\n",
      "Requirement already satisfied: pyyaml in /usr/local/lib/python3.6/dist-packages (from keras) (3.13)\n",
      "Requirement already satisfied: numpy>=1.9.1 in /usr/local/lib/python3.6/dist-packages (from keras) (1.14.5)\n",
      "Requirement already satisfied: h5py in /usr/local/lib/python3.6/dist-packages (from keras) (2.8.0)\n",
      "Requirement already satisfied: scipy>=0.14 in /usr/local/lib/python3.6/dist-packages (from keras) (0.19.1)\n",
      "Requirement already satisfied: six>=1.9.0 in /usr/local/lib/python3.6/dist-packages (from keras) (1.11.0)\n",
      "Requirement already satisfied: sklearn in /usr/local/lib/python3.6/dist-packages (0.0)\n",
      "Requirement already satisfied: scikit-learn in /usr/local/lib/python3.6/dist-packages (from sklearn) (0.19.1)\n",
      "Requirement already satisfied: matplotlib in /usr/local/lib/python3.6/dist-packages (2.1.2)\n",
      "Requirement already satisfied: pyparsing!=2.0.4,!=2.1.2,!=2.1.6,>=2.0.1 in /usr/local/lib/python3.6/dist-packages (from matplotlib) (2.2.0)\n",
      "Requirement already satisfied: python-dateutil>=2.1 in /usr/local/lib/python3.6/dist-packages (from matplotlib) (2.5.3)\n",
      "Requirement already satisfied: numpy>=1.7.1 in /usr/local/lib/python3.6/dist-packages (from matplotlib) (1.14.5)\n",
      "Requirement already satisfied: cycler>=0.10 in /usr/local/lib/python3.6/dist-packages (from matplotlib) (0.10.0)\n",
      "Requirement already satisfied: six>=1.10 in /usr/local/lib/python3.6/dist-packages (from matplotlib) (1.11.0)\n",
      "Requirement already satisfied: pytz in /usr/local/lib/python3.6/dist-packages (from matplotlib) (2018.5)\n"
     ]
    }
   ],
   "source": [
    "!pip install keras\n",
    "!pip install sklearn\n",
    "!pip install matplotlib\n",
    "!pip install -U -q PyDrive"
   ]
  },
  {
   "cell_type": "code",
   "execution_count": 2,
   "metadata": {
    "colab": {
     "autoexec": {
      "startup": false,
      "wait_interval": 0
     },
     "base_uri": "https://localhost:8080/",
     "height": 34
    },
    "colab_type": "code",
    "executionInfo": {
     "elapsed": 1559,
     "status": "ok",
     "timestamp": 1531351528011,
     "user": {
      "displayName": "Deep Learning",
      "photoUrl": "https://lh3.googleusercontent.com/a/default-user=s128",
      "userId": "115257841230779963257"
     },
     "user_tz": -120
    },
    "id": "xlKzkDJFrjA-",
    "outputId": "de4488ff-d3f0-4c11-a255-09c9de1efeb8"
   },
   "outputs": [
    {
     "name": "stderr",
     "output_type": "stream",
     "text": [
      "Using TensorFlow backend.\n"
     ]
    }
   ],
   "source": [
    "from keras import backend as K\n",
    "K.clear_session()"
   ]
  },
  {
   "cell_type": "code",
   "execution_count": 0,
   "metadata": {
    "colab": {
     "autoexec": {
      "startup": false,
      "wait_interval": 0
     }
    },
    "colab_type": "code",
    "id": "eQEKwl4oAxO7"
   },
   "outputs": [],
   "source": [
    "from keras import backend as K\n",
    "cfg = K.tf.ConfigProto()\n",
    "cfg.gpu_options.allow_growth = True\n",
    "K.set_session(K.tf.Session(config=cfg))"
   ]
  },
  {
   "cell_type": "code",
   "execution_count": 0,
   "metadata": {
    "colab": {
     "autoexec": {
      "startup": false,
      "wait_interval": 0
     }
    },
    "colab_type": "code",
    "id": "12M0egCCX-27"
   },
   "outputs": [],
   "source": [
    "from pydrive.auth import GoogleAuth\n",
    "from pydrive.drive import GoogleDrive\n",
    "from google.colab import auth\n",
    "from oauth2client.client import GoogleCredentials\n",
    "\n",
    "auth.authenticate_user()\n",
    "gauth = GoogleAuth()\n",
    "gauth.credentials = GoogleCredentials.get_application_default()\n",
    "drive = GoogleDrive(gauth)"
   ]
  },
  {
   "cell_type": "code",
   "execution_count": 0,
   "metadata": {
    "colab": {
     "autoexec": {
      "startup": false,
      "wait_interval": 0
     }
    },
    "colab_type": "code",
    "id": "4lN2WTUEYBYv"
   },
   "outputs": [],
   "source": [
    "file_import = drive.CreateFile({'id':'1p1bsltfTcIrZ_kfE6kwGTPzcdXorHbb2'})\n",
    "file_import.GetContentFile('colab_setup.py') \n",
    "from colab_setup import setup\n",
    "\n",
    "setup(drive)"
   ]
  },
  {
   "cell_type": "code",
   "execution_count": 6,
   "metadata": {
    "colab": {
     "autoexec": {
      "startup": false,
      "wait_interval": 0
     },
     "base_uri": "https://localhost:8080/",
     "height": 119
    },
    "colab_type": "code",
    "executionInfo": {
     "elapsed": 1507,
     "status": "ok",
     "timestamp": 1531351557265,
     "user": {
      "displayName": "Deep Learning",
      "photoUrl": "https://lh3.googleusercontent.com/a/default-user=s128",
      "userId": "115257841230779963257"
     },
     "user_tz": -120
    },
    "id": "cHBlD0tVj2TY",
    "outputId": "20bf5afb-b06e-4acd-aef1-3a9184df1f6b"
   },
   "outputs": [
    {
     "name": "stdout",
     "output_type": "stream",
     "text": [
      "colab_setup.py\t\t\t roc_auc_callback.py\tX_train.npy\r\n",
      "custom_fast_text_embeddings.npy  sample_submission.csv\tX_val.npy\r\n",
      "datalab\t\t\t\t train_model.py\t\ty_test.npy\r\n",
      "fast_text_embeddings.npy\t X_submission.npy\ty_train_full.npy\r\n",
      "plot_history.py\t\t\t X_test.npy\t\ty_train.npy\r\n",
      "__pycache__\t\t\t X_train_full.npy\ty_val.npy\r\n"
     ]
    }
   ],
   "source": [
    "!ls"
   ]
  },
  {
   "cell_type": "code",
   "execution_count": 0,
   "metadata": {
    "colab": {
     "autoexec": {
      "startup": false,
      "wait_interval": 0
     }
    },
    "colab_type": "code",
    "id": "yMwWPTMYXyno"
   },
   "outputs": [],
   "source": [
    "import numpy as np\n",
    "import os\n",
    "\n",
    "from plot_history import plot_history\n",
    "from roc_auc_callback import RocAucCallback\n",
    "from train_model import train_with_cv, train_with_submitting, evaluate_on_test\n",
    "\n",
    "from keras.models import Model\n",
    "from keras.layers import *\n",
    "from keras.layers.merge import concatenate"
   ]
  },
  {
   "cell_type": "code",
   "execution_count": null,
   "metadata": {},
   "outputs": [],
   "source": [
    "def one_by_one_cnn(filtersNumber, inputLayer, dropout = 0.2):\n",
    "    one_by_one = Conv1D(filtersNumber, 1, activation = 'elu', padding = 'same', kernel_initializer = 'he_uniform')(inputLayer)\n",
    "    one_by_one = BatchNormalization()(one_by_one)\n",
    "    one_by_one = SpatialDropout1D(dropout)(one_by_one)\n",
    "    \n",
    "    return one_by_one"
   ]
  },
  {
   "cell_type": "code",
   "execution_count": 0,
   "metadata": {
    "colab": {
     "autoexec": {
      "startup": false,
      "wait_interval": 0
     }
    },
    "colab_type": "code",
    "id": "46VGjNCr-DED"
   },
   "outputs": [],
   "source": [
    "def one_by_three_cnn(filtersNumber, inputLayer, dropout = 0.2):\n",
    "    one_by_one = Conv1D(filtersNumber, 3, activation = 'elu', padding = 'same', kernel_initializer = 'he_uniform')(inputLayer)\n",
    "    one_by_one = BatchNormalization()(one_by_one)\n",
    "    one_by_one = SpatialDropout1D(dropout)(one_by_one)\n",
    "    \n",
    "    return one_by_one"
   ]
  },
  {
   "cell_type": "code",
   "execution_count": 0,
   "metadata": {
    "colab": {
     "autoexec": {
      "startup": false,
      "wait_interval": 0
     }
    },
    "colab_type": "code",
    "id": "cMITsh0zk4TJ"
   },
   "outputs": [],
   "source": [
    "def yoon_kim_pool(filtersNumber, inputLayer):\n",
    "    block_1_conv_1 = Conv1D(filtersNumber, 1, activation = 'elu', padding = 'same', kernel_initializer = 'he_uniform')(inputLayer)\n",
    "    block_1_batchnorm1 = BatchNormalization()(block_1_conv_1)\n",
    "    block_1_max_pool1 = MaxPooling1D()(block_1_batchnorm1)\n",
    "\n",
    "    block_1_conv_2 = Conv1D(filtersNumber, 2, activation = 'elu', padding = 'same', kernel_initializer = 'he_uniform')(inputLayer)\n",
    "    block_1_batchnorm2 = BatchNormalization()(block_1_conv_2)\n",
    "    block_1_max_pool2 = MaxPooling1D()(block_1_batchnorm2)\n",
    "\n",
    "    block_1_conv_3 = Conv1D(filtersNumber, 3, activation = 'elu', padding = 'same', kernel_initializer = 'he_uniform')(inputLayer)\n",
    "    block_1_batchnorm3 = BatchNormalization()(block_1_conv_3)\n",
    "    block_1_max_pool3 = MaxPooling1D()(block_1_batchnorm3)\n",
    "\n",
    "    block_1_conv_4 = Conv1D(filtersNumber, 5, activation = 'elu', padding = 'same', kernel_initializer = 'he_uniform')(inputLayer)\n",
    "    block_1_batchnorm4 = BatchNormalization()(block_1_conv_4)\n",
    "    block_1_max_pool4 = MaxPooling1D()(block_1_batchnorm4)\n",
    "\n",
    "    block_1_features = concatenate([\n",
    "        block_1_max_pool1, \n",
    "        block_1_max_pool2, \n",
    "        block_1_max_pool3, \n",
    "        block_1_max_pool4\n",
    "    ])\n",
    "    \n",
    "    block_1_features = Dropout(0.2)(block_1_features)\n",
    "    return block_1_features"
   ]
  },
  {
   "cell_type": "code",
   "execution_count": 0,
   "metadata": {
    "colab": {
     "autoexec": {
      "startup": false,
      "wait_interval": 0
     }
    },
    "colab_type": "code",
    "id": "zrmoc20_ngdA"
   },
   "outputs": [],
   "source": [
    "def yoon_kim_feature_extractor(filtersNumber, inputLayer):\n",
    "    block_1_conv_1 = Conv1D(filtersNumber, 1, activation = 'elu', padding = 'same', kernel_initializer = 'he_uniform')(inputLayer)\n",
    "    block_1_batchnorm1 = BatchNormalization()(block_1_conv_1)\n",
    "    block_1_max_pool1 = GlobalMaxPooling1D()(block_1_batchnorm1)\n",
    "\n",
    "    block_1_conv_2 = Conv1D(filtersNumber, 2, activation = 'elu', padding = 'same', kernel_initializer = 'he_uniform')(inputLayer)\n",
    "    block_1_batchnorm2 = BatchNormalization()(block_1_conv_2)\n",
    "    block_1_max_pool2 = GlobalMaxPooling1D()(block_1_batchnorm2)\n",
    "\n",
    "    block_1_conv_3 = Conv1D(filtersNumber, 3, activation = 'elu', padding = 'same', kernel_initializer = 'he_uniform')(inputLayer)\n",
    "    block_1_batchnorm3 = BatchNormalization()(block_1_conv_3)\n",
    "    block_1_max_pool3 = GlobalMaxPooling1D()(block_1_batchnorm3)\n",
    "\n",
    "    block_1_conv_4 = Conv1D(filtersNumber, 5, activation = 'elu', padding = 'same', kernel_initializer = 'he_uniform')(inputLayer)\n",
    "    block_1_batchnorm4 = BatchNormalization()(block_1_conv_4)\n",
    "    block_1_max_pool4 = GlobalMaxPooling1D()(block_1_batchnorm4)\n",
    "\n",
    "    block_1_features = concatenate([\n",
    "        block_1_max_pool1, \n",
    "        block_1_max_pool2, \n",
    "        block_1_max_pool3, \n",
    "        block_1_max_pool4\n",
    "    ])\n",
    "    block_1_features = Dropout(0.2)(block_1_features)\n",
    "    return block_1_features"
   ]
  },
  {
   "cell_type": "code",
   "execution_count": 11,
   "metadata": {
    "colab": {
     "autoexec": {
      "startup": false,
      "wait_interval": 0
     },
     "base_uri": "https://localhost:8080/",
     "height": 1887
    },
    "colab_type": "code",
    "executionInfo": {
     "elapsed": 2630,
     "status": "ok",
     "timestamp": 1531351562701,
     "user": {
      "displayName": "Deep Learning",
      "photoUrl": "https://lh3.googleusercontent.com/a/default-user=s128",
      "userId": "115257841230779963257"
     },
     "user_tz": -120
    },
    "id": "LTFG7OgsXynw",
    "outputId": "b3b194ff-20e5-4c5f-85ae-8fa89bf5dd4f"
   },
   "outputs": [
    {
     "name": "stdout",
     "output_type": "stream",
     "text": [
      "__________________________________________________________________________________________________\n",
      "Layer (type)                    Output Shape         Param #     Connected to                     \n",
      "==================================================================================================\n",
      "input_1 (InputLayer)            (None, 400)          0                                            \n",
      "__________________________________________________________________________________________________\n",
      "embedding_1 (Embedding)         (None, 400, 300)     9000000     input_1[0][0]                    \n",
      "__________________________________________________________________________________________________\n",
      "embedding_2 (Embedding)         (None, 400, 300)     9000000     input_1[0][0]                    \n",
      "__________________________________________________________________________________________________\n",
      "spatial_dropout1d_1 (SpatialDro (None, 400, 300)     0           embedding_1[0][0]                \n",
      "__________________________________________________________________________________________________\n",
      "spatial_dropout1d_2 (SpatialDro (None, 400, 300)     0           embedding_2[0][0]                \n",
      "__________________________________________________________________________________________________\n",
      "average_1 (Average)             (None, 400, 300)     0           spatial_dropout1d_1[0][0]        \n",
      "                                                                 spatial_dropout1d_2[0][0]        \n",
      "__________________________________________________________________________________________________\n",
      "spatial_dropout1d_3 (SpatialDro (None, 400, 300)     0           average_1[0][0]                  \n",
      "__________________________________________________________________________________________________\n",
      "conv1d_1 (Conv1D)               (None, 400, 256)     230656      spatial_dropout1d_3[0][0]        \n",
      "__________________________________________________________________________________________________\n",
      "batch_normalization_1 (BatchNor (None, 400, 256)     1024        conv1d_1[0][0]                   \n",
      "__________________________________________________________________________________________________\n",
      "spatial_dropout1d_4 (SpatialDro (None, 400, 256)     0           batch_normalization_1[0][0]      \n",
      "__________________________________________________________________________________________________\n",
      "conv1d_2 (Conv1D)               (None, 400, 256)     65792       spatial_dropout1d_4[0][0]        \n",
      "__________________________________________________________________________________________________\n",
      "conv1d_3 (Conv1D)               (None, 400, 256)     131328      spatial_dropout1d_4[0][0]        \n",
      "__________________________________________________________________________________________________\n",
      "conv1d_4 (Conv1D)               (None, 400, 256)     196864      spatial_dropout1d_4[0][0]        \n",
      "__________________________________________________________________________________________________\n",
      "conv1d_5 (Conv1D)               (None, 400, 256)     327936      spatial_dropout1d_4[0][0]        \n",
      "__________________________________________________________________________________________________\n",
      "batch_normalization_2 (BatchNor (None, 400, 256)     1024        conv1d_2[0][0]                   \n",
      "__________________________________________________________________________________________________\n",
      "batch_normalization_3 (BatchNor (None, 400, 256)     1024        conv1d_3[0][0]                   \n",
      "__________________________________________________________________________________________________\n",
      "batch_normalization_4 (BatchNor (None, 400, 256)     1024        conv1d_4[0][0]                   \n",
      "__________________________________________________________________________________________________\n",
      "batch_normalization_5 (BatchNor (None, 400, 256)     1024        conv1d_5[0][0]                   \n",
      "__________________________________________________________________________________________________\n",
      "max_pooling1d_1 (MaxPooling1D)  (None, 200, 256)     0           batch_normalization_2[0][0]      \n",
      "__________________________________________________________________________________________________\n",
      "max_pooling1d_2 (MaxPooling1D)  (None, 200, 256)     0           batch_normalization_3[0][0]      \n",
      "__________________________________________________________________________________________________\n",
      "max_pooling1d_3 (MaxPooling1D)  (None, 200, 256)     0           batch_normalization_4[0][0]      \n",
      "__________________________________________________________________________________________________\n",
      "max_pooling1d_4 (MaxPooling1D)  (None, 200, 256)     0           batch_normalization_5[0][0]      \n",
      "__________________________________________________________________________________________________\n",
      "concatenate_1 (Concatenate)     (None, 200, 1024)    0           max_pooling1d_1[0][0]            \n",
      "                                                                 max_pooling1d_2[0][0]            \n",
      "                                                                 max_pooling1d_3[0][0]            \n",
      "                                                                 max_pooling1d_4[0][0]            \n",
      "__________________________________________________________________________________________________\n",
      "dropout_1 (Dropout)             (None, 200, 1024)    0           concatenate_1[0][0]              \n",
      "__________________________________________________________________________________________________\n",
      "conv1d_6 (Conv1D)               (None, 200, 384)     1180032     dropout_1[0][0]                  \n",
      "__________________________________________________________________________________________________\n",
      "batch_normalization_6 (BatchNor (None, 200, 384)     1536        conv1d_6[0][0]                   \n",
      "__________________________________________________________________________________________________\n",
      "spatial_dropout1d_5 (SpatialDro (None, 200, 384)     0           batch_normalization_6[0][0]      \n",
      "__________________________________________________________________________________________________\n",
      "conv1d_7 (Conv1D)               (None, 200, 384)     147840      spatial_dropout1d_5[0][0]        \n",
      "__________________________________________________________________________________________________\n",
      "conv1d_8 (Conv1D)               (None, 200, 384)     295296      spatial_dropout1d_5[0][0]        \n",
      "__________________________________________________________________________________________________\n",
      "conv1d_9 (Conv1D)               (None, 200, 384)     442752      spatial_dropout1d_5[0][0]        \n",
      "__________________________________________________________________________________________________\n",
      "conv1d_10 (Conv1D)              (None, 200, 384)     737664      spatial_dropout1d_5[0][0]        \n",
      "__________________________________________________________________________________________________\n",
      "batch_normalization_7 (BatchNor (None, 200, 384)     1536        conv1d_7[0][0]                   \n",
      "__________________________________________________________________________________________________\n",
      "batch_normalization_8 (BatchNor (None, 200, 384)     1536        conv1d_8[0][0]                   \n",
      "__________________________________________________________________________________________________\n",
      "batch_normalization_9 (BatchNor (None, 200, 384)     1536        conv1d_9[0][0]                   \n",
      "__________________________________________________________________________________________________\n",
      "batch_normalization_10 (BatchNo (None, 200, 384)     1536        conv1d_10[0][0]                  \n",
      "__________________________________________________________________________________________________\n",
      "global_max_pooling1d_1 (GlobalM (None, 384)          0           batch_normalization_7[0][0]      \n",
      "__________________________________________________________________________________________________\n",
      "global_max_pooling1d_2 (GlobalM (None, 384)          0           batch_normalization_8[0][0]      \n",
      "__________________________________________________________________________________________________\n",
      "global_max_pooling1d_3 (GlobalM (None, 384)          0           batch_normalization_9[0][0]      \n",
      "__________________________________________________________________________________________________\n",
      "global_max_pooling1d_4 (GlobalM (None, 384)          0           batch_normalization_10[0][0]     \n",
      "__________________________________________________________________________________________________\n",
      "concatenate_2 (Concatenate)     (None, 1536)         0           global_max_pooling1d_1[0][0]     \n",
      "                                                                 global_max_pooling1d_2[0][0]     \n",
      "                                                                 global_max_pooling1d_3[0][0]     \n",
      "                                                                 global_max_pooling1d_4[0][0]     \n",
      "__________________________________________________________________________________________________\n",
      "dropout_2 (Dropout)             (None, 1536)         0           concatenate_2[0][0]              \n",
      "__________________________________________________________________________________________________\n",
      "dense_1 (Dense)                 (None, 256)          393472      dropout_2[0][0]                  \n",
      "__________________________________________________________________________________________________\n",
      "batch_normalization_11 (BatchNo (None, 256)          1024        dense_1[0][0]                    \n",
      "__________________________________________________________________________________________________\n",
      "dropout_3 (Dropout)             (None, 256)          0           batch_normalization_11[0][0]     \n",
      "__________________________________________________________________________________________________\n",
      "dense_2 (Dense)                 (None, 256)          65792       dropout_3[0][0]                  \n",
      "__________________________________________________________________________________________________\n",
      "batch_normalization_12 (BatchNo (None, 256)          1024        dense_2[0][0]                    \n",
      "__________________________________________________________________________________________________\n",
      "dropout_4 (Dropout)             (None, 256)          0           batch_normalization_12[0][0]     \n",
      "__________________________________________________________________________________________________\n",
      "dense_3 (Dense)                 (None, 6)            1542        dropout_4[0][0]                  \n",
      "==================================================================================================\n",
      "Total params: 22,231,814\n",
      "Trainable params: 4,224,390\n",
      "Non-trainable params: 18,007,424\n",
      "__________________________________________________________________________________________________\n"
     ]
    }
   ],
   "source": [
    "maxWords = 30000\n",
    "maxSequenceLengthInWords = 400\n",
    "embeddingDimension = 300\n",
    "convBlocks = 1\n",
    "\n",
    "input_layer = Input(shape=(maxSequenceLengthInWords,))\n",
    "\n",
    "pretrained_embedding_layer = Embedding(\n",
    "    maxWords, \n",
    "    output_dim=embeddingDimension, \n",
    "    input_length=maxSequenceLengthInWords,\n",
    "    weights = [np.load('fast_text_embeddings.npy')],\n",
    "    trainable = False\n",
    ")(input_layer)\n",
    "pretrained_embedding_layer = SpatialDropout1D(0.2)(pretrained_embedding_layer)\n",
    "\n",
    "custom_embedding_layer = Embedding(\n",
    "    maxWords, \n",
    "    output_dim=embeddingDimension, \n",
    "    input_length=maxSequenceLengthInWords,\n",
    "    weights = [np.load('custom_fast_text_embeddings.npy')],\n",
    "    trainable = False\n",
    ")(input_layer)\n",
    "custom_embedding_layer = SpatialDropout1D(0.2)(custom_embedding_layer)\n",
    "\n",
    "embedding = Average()([pretrained_embedding_layer, custom_embedding_layer])\n",
    "embedding_dropout = SpatialDropout1D(0.2)(embedding)\n",
    "\n",
    "preprocess = one_by_one_cnn(embedding_dropout)\n",
    "\n",
    "block = embedding_dropout\n",
    "for currentBlock in range(convBlocks):\n",
    "  filters = 128 * (2 + currentBlock)\n",
    "  block = one_by_three_cnn(filters, block)\n",
    "  if(currentBlock < convBlocks-1):\n",
    "    block = yoon_kim_pool(filters, block)\n",
    "  \n",
    "features = yoon_kim_feature_extractor(512, block)\n",
    "\n",
    "dense_1 = Dense(256, activation = 'elu')(features)\n",
    "dense_1_normalization = BatchNormalization()(dense_1)\n",
    "dense_1_dropout = Dropout(0.2)(dense_1_normalization)\n",
    "\n",
    "dense_2 = Dense(256, activation = 'elu')(dense_1_dropout)\n",
    "dense_2_normalization = BatchNormalization()(dense_2)\n",
    "dense_2_dropout = Dropout(0.2)(dense_2_normalization)\n",
    "\n",
    "output_layer = Dense(6, activation='sigmoid')(dense_2_dropout)\n",
    "\n",
    "model = Model(inputs=[input_layer], outputs=[output_layer])\n",
    "            \n",
    "model.summary()\n",
    "\n",
    "model.compile(\n",
    "    loss='binary_crossentropy', \n",
    "    optimizer='Adam',\n",
    "    metrics=['accuracy']\n",
    ")"
   ]
  },
  {
   "cell_type": "code",
   "execution_count": 12,
   "metadata": {
    "colab": {
     "autoexec": {
      "startup": false,
      "wait_interval": 0
     },
     "base_uri": "https://localhost:8080/",
     "height": 972
    },
    "colab_type": "code",
    "executionInfo": {
     "elapsed": 15562855,
     "status": "ok",
     "timestamp": 1531367125590,
     "user": {
      "displayName": "Deep Learning",
      "photoUrl": "https://lh3.googleusercontent.com/a/default-user=s128",
      "userId": "115257841230779963257"
     },
     "user_tz": -120
    },
    "id": "xwMmTewgXynz",
    "outputId": "dc8742ee-c3bd-4fef-9f24-67947c366b2c"
   },
   "outputs": [
    {
     "name": "stdout",
     "output_type": "stream",
     "text": [
      "Train on 102124 samples, validate on 25532 samples\n",
      "Epoch 1/32\n",
      " 20832/102124 [=====>........................] - ETA: 8:33 - loss: 0.1890 - acc: 0.9281 57184/102124 [===============>..............] - ETA: 4:37 - loss: 0.1123 - acc: 0.9588 93760/102124 [==========================>...] - ETA: 51s - loss: 0.0925 - acc: 0.9662102124/102124 [==============================] - 673s 7ms/step - loss: 0.0898 - acc: 0.9672 - val_loss: 0.0540 - val_acc: 0.9809\n",
      "Epoch 2/32\n",
      " 10624/102124 [==>...........................] - ETA: 9:18 - loss: 0.0609 - acc: 0.9784 48480/102124 [=============>................] - ETA: 5:27 - loss: 0.0602 - acc: 0.9782 85440/102124 [========================>.....] - ETA: 1:41 - loss: 0.0592 - acc: 0.9785102124/102124 [==============================] - 668s 7ms/step - loss: 0.0590 - acc: 0.9785 - val_loss: 0.0483 - val_acc: 0.9818\n",
      "roc-auc: 0.9773 - roc-auc_val: 0.9749                                                                                                    \n",
      "Epoch 3/32\n",
      "  4544/102124 [>.............................] - ETA: 9:56 - loss: 0.0587 - acc: 0.9786 41152/102124 [===========>..................] - ETA: 6:12 - loss: 0.0560 - acc: 0.9793 80064/102124 [======================>.......] - ETA: 2:14 - loss: 0.0556 - acc: 0.9795102124/102124 [==============================] - 668s 7ms/step - loss: 0.0554 - acc: 0.9796 - val_loss: 0.0486 - val_acc: 0.9819\n",
      "Epoch 4/32\n",
      "  5312/102124 [>.............................] - ETA: 9:51 - loss: 0.0534 - acc: 0.9803 40864/102124 [===========>..................] - ETA: 6:14 - loss: 0.0529 - acc: 0.9804 76384/102124 [=====================>........] - ETA: 2:37 - loss: 0.0526 - acc: 0.9803102124/102124 [==============================] - 669s 7ms/step - loss: 0.0523 - acc: 0.9804 - val_loss: 0.0483 - val_acc: 0.9819\n",
      "\n",
      "Epoch 00004: ReduceLROnPlateau reducing learning rate to 0.00036602141335606575.\n",
      "roc-auc: 0.9832 - roc-auc_val: 0.9797                                                                                                    \n",
      "Epoch 5/32\n",
      "  1920/102124 [..............................] - ETA: 10:13 - loss: 0.0515 - acc: 0.9812 37984/102124 [==========>...................] - ETA: 6:31 - loss: 0.0503 - acc: 0.9812 76576/102124 [=====================>........] - ETA: 2:36 - loss: 0.0500 - acc: 0.9812102124/102124 [==============================] - 668s 7ms/step - loss: 0.0499 - acc: 0.9812 - val_loss: 0.0453 - val_acc: 0.9826\n",
      "Epoch 6/32\n",
      "  3712/102124 [>.............................] - ETA: 10:01 - loss: 0.0519 - acc: 0.9805 40480/102124 [==========>...................] - ETA: 6:16 - loss: 0.0477 - acc: 0.9820 77312/102124 [=====================>........] - ETA: 2:31 - loss: 0.0486 - acc: 0.9815102124/102124 [==============================] - 668s 7ms/step - loss: 0.0482 - acc: 0.9816 - val_loss: 0.0431 - val_acc: 0.9835\n",
      "roc-auc: 0.9855 - roc-auc_val: 0.9829                                                                                                    \n",
      "Epoch 7/32\n",
      "  2688/102124 [..............................] - ETA: 10:06 - loss: 0.0475 - acc: 0.9805 37664/102124 [==========>...................] - ETA: 6:33 - loss: 0.0468 - acc: 0.9820 73376/102124 [====================>.........] - ETA: 2:55 - loss: 0.0469 - acc: 0.9822102124/102124 [==============================] - 669s 7ms/step - loss: 0.0465 - acc: 0.9822 - val_loss: 0.0447 - val_acc: 0.9829\n",
      "Epoch 8/32\n",
      "  2656/102124 [..............................] - ETA: 10:07 - loss: 0.0477 - acc: 0.9825 40320/102124 [==========>...................] - ETA: 6:17 - loss: 0.0455 - acc: 0.9826 78624/102124 [======================>.......] - ETA: 2:23 - loss: 0.0454 - acc: 0.9827102124/102124 [==============================] - 668s 7ms/step - loss: 0.0449 - acc: 0.9828 - val_loss: 0.0434 - val_acc: 0.9833\n",
      "roc-auc: 0.9874 - roc-auc_val: 0.9844                                                                                                    \n",
      "Epoch 9/32\n",
      "  2976/102124 [..............................] - ETA: 10:05 - loss: 0.0440 - acc: 0.9824 41824/102124 [===========>..................] - ETA: 6:07 - loss: 0.0437 - acc: 0.9829 80736/102124 [======================>.......] - ETA: 2:10 - loss: 0.0440 - acc: 0.9829102124/102124 [==============================] - 667s 7ms/step - loss: 0.0441 - acc: 0.9830 - val_loss: 0.0419 - val_acc: 0.9842\n",
      "Epoch 10/32\n",
      "  5408/102124 [>.............................] - ETA: 9:50 - loss: 0.0405 - acc: 0.9841 43264/102124 [===========>..................] - ETA: 5:59 - loss: 0.0431 - acc: 0.9833 80512/102124 [======================>.......] - ETA: 2:11 - loss: 0.0430 - acc: 0.9833102124/102124 [==============================] - 668s 7ms/step - loss: 0.0431 - acc: 0.9833 - val_loss: 0.0409 - val_acc: 0.9842\n",
      "roc-auc: 0.9906 - roc-auc_val: 0.9862                                                                                                    \n",
      "Epoch 11/32\n",
      "  3392/102124 [..............................] - ETA: 10:03 - loss: 0.0428 - acc: 0.9836 39680/102124 [==========>...................] - ETA: 6:21 - loss: 0.0410 - acc: 0.9837 75744/102124 [=====================>........] - ETA: 2:40 - loss: 0.0419 - acc: 0.9834102124/102124 [==============================] - 667s 7ms/step - loss: 0.0419 - acc: 0.9835 - val_loss: 0.0418 - val_acc: 0.9840\n",
      "Epoch 12/32\n",
      "  3424/102124 [>.............................] - ETA: 10:02 - loss: 0.0376 - acc: 0.9859 41952/102124 [===========>..................] - ETA: 6:07 - loss: 0.0408 - acc: 0.9839 81536/102124 [======================>.......] - ETA: 2:05 - loss: 0.0407 - acc: 0.9839102124/102124 [==============================] - 667s 7ms/step - loss: 0.0410 - acc: 0.9838 - val_loss: 0.0422 - val_acc: 0.9840\n",
      "roc-auc: 0.9919 - roc-auc_val: 0.9858                                                                                                    \n",
      "Epoch 13/32\n",
      "  3584/102124 [>.............................] - ETA: 10:01 - loss: 0.0402 - acc: 0.9841 42272/102124 [===========>..................] - ETA: 6:05 - loss: 0.0402 - acc: 0.9840 86368/102124 [========================>.....] - ETA: 1:36 - loss: 0.0403 - acc: 0.9841102124/102124 [==============================] - 668s 7ms/step - loss: 0.0401 - acc: 0.9841 - val_loss: 0.0427 - val_acc: 0.9840\n",
      "Epoch 14/32\n",
      "  7552/102124 [=>............................] - ETA: 9:37 - loss: 0.0385 - acc: 0.9844 45568/102124 [============>.................] - ETA: 5:45 - loss: 0.0398 - acc: 0.9839 85920/102124 [========================>.....] - ETA: 1:38 - loss: 0.0392 - acc: 0.9843102124/102124 [==============================] - 667s 7ms/step - loss: 0.0391 - acc: 0.9844 - val_loss: 0.0420 - val_acc: 0.9839\n",
      "roc-auc: 0.9932 - roc-auc_val: 0.9868                                                                                                    \n",
      "Epoch 15/32\n",
      "  4512/102124 [>.............................] - ETA: 9:56 - loss: 0.0380 - acc: 0.9840 40448/102124 [==========>...................] - ETA: 6:16 - loss: 0.0391 - acc: 0.9842 80512/102124 [======================>.......] - ETA: 2:12 - loss: 0.0392 - acc: 0.9842102124/102124 [==============================] - 668s 7ms/step - loss: 0.0388 - acc: 0.9844 - val_loss: 0.0420 - val_acc: 0.9846\n",
      "\n",
      "Epoch 00015: ReduceLROnPlateau reducing learning rate to 0.0001166291258414276.\n",
      "Epoch 16/32\n",
      "  3872/102124 [>.............................] - ETA: 10:00 - loss: 0.0390 - acc: 0.9837 40992/102124 [===========>..................] - ETA: 6:13 - loss: 0.0373 - acc: 0.9851 77536/102124 [=====================>........] - ETA: 2:30 - loss: 0.0377 - acc: 0.9850102124/102124 [==============================] - 668s 7ms/step - loss: 0.0380 - acc: 0.9848 - val_loss: 0.0419 - val_acc: 0.9844\n",
      "roc-auc: 0.9932 - roc-auc_val: 0.9867                                                                                                    \n",
      "Epoch 17/32\n",
      "  2624/102124 [..............................] - ETA: 10:08 - loss: 0.0347 - acc: 0.9851 41920/102124 [===========>..................] - ETA: 6:07 - loss: 0.0366 - acc: 0.9852 79328/102124 [======================>.......] - ETA: 2:19 - loss: 0.0373 - acc: 0.9850102124/102124 [==============================] - 667s 7ms/step - loss: 0.0375 - acc: 0.9849 - val_loss: 0.0410 - val_acc: 0.9845\n",
      "Epoch 18/32\n",
      "  4928/102124 [>.............................] - ETA: 9:53 - loss: 0.0362 - acc: 0.9852 43040/102124 [===========>..................] - ETA: 6:00 - loss: 0.0364 - acc: 0.9853 79008/102124 [======================>.......] - ETA: 2:21 - loss: 0.0365 - acc: 0.9853102124/102124 [==============================] - 668s 7ms/step - loss: 0.0368 - acc: 0.9852 - val_loss: 0.0419 - val_acc: 0.9843\n",
      "roc-auc: 0.994 - roc-auc_val: 0.987                                                                                                    \n",
      "Epoch 19/32\n",
      "  3040/102124 [..............................] - ETA: 10:03 - loss: 0.0397 - acc: 0.9842 44032/102124 [===========>..................] - ETA: 5:54 - loss: 0.0360 - acc: 0.9856 81216/102124 [======================>.......] - ETA: 2:07 - loss: 0.0362 - acc: 0.9854102124/102124 [==============================] - 667s 7ms/step - loss: 0.0362 - acc: 0.9854 - val_loss: 0.0428 - val_acc: 0.9840\n",
      "Epoch 20/32\n",
      "  5568/102124 [>.............................] - ETA: 9:49 - loss: 0.0342 - acc: 0.9860 43712/102124 [===========>..................] - ETA: 5:56 - loss: 0.0352 - acc: 0.9856 80352/102124 [======================>.......] - ETA: 2:12 - loss: 0.0354 - acc: 0.9856102124/102124 [==============================] - 667s 7ms/step - loss: 0.0356 - acc: 0.9855 - val_loss: 0.0413 - val_acc: 0.9845\n",
      "roc-auc: 0.9946 - roc-auc_val: 0.9871                                                                                                    \n"
     ]
    }
   ],
   "source": [
    "history = train_with_cv(model, batchSize=32, rocEvery = 2)"
   ]
  },
  {
   "cell_type": "code",
   "execution_count": 13,
   "metadata": {
    "colab": {
     "autoexec": {
      "startup": false,
      "wait_interval": 0
     },
     "base_uri": "https://localhost:8080/",
     "height": 294
    },
    "colab_type": "code",
    "executionInfo": {
     "elapsed": 2320,
     "status": "ok",
     "timestamp": 1531367127925,
     "user": {
      "displayName": "Deep Learning",
      "photoUrl": "https://lh3.googleusercontent.com/a/default-user=s128",
      "userId": "115257841230779963257"
     },
     "user_tz": -120
    },
    "id": "sms3R-U4469B",
    "outputId": "ecd746f5-2045-4ebf-89f5-ea0203cd65f3"
   },
   "outputs": [
    {
     "data": {
      "image/png": "[encoded data removed]",
      "text/plain": [
       "<matplotlib.figure.Figure at 0x7f69862af5f8>"
      ]
     },
     "metadata": {
      "tags": []
     },
     "output_type": "display_data"
    }
   ],
   "source": [
    "plot_history(history)"
   ]
  },
  {
   "cell_type": "code",
   "execution_count": 14,
   "metadata": {
    "colab": {
     "autoexec": {
      "startup": false,
      "wait_interval": 0
     },
     "base_uri": "https://localhost:8080/",
     "height": 51
    },
    "colab_type": "code",
    "executionInfo": {
     "elapsed": 114405,
     "status": "ok",
     "timestamp": 1531367242418,
     "user": {
      "displayName": "Deep Learning",
      "photoUrl": "https://lh3.googleusercontent.com/a/default-user=s128",
      "userId": "115257841230779963257"
     },
     "user_tz": -120
    },
    "id": "r2gtMBj2Tp9A",
    "outputId": "e6734868-2f39-4d4c-c9e5-7f390e2dd7f7"
   },
   "outputs": [
    {
     "name": "stdout",
     "output_type": "stream",
     "text": [
      "31915/31915 [==============================] - 59s 2ms/step\n",
      "([0.04009667668519616, 0.9844639263966606], 0.9886546359032294)\n"
     ]
    }
   ],
   "source": [
    "print(evaluate_on_test(model))"
   ]
  }
 ],
 "metadata": {
  "accelerator": "GPU",
  "colab": {
   "collapsed_sections": [],
   "default_view": {},
   "name": "two_block.ipynb",
   "provenance": [],
   "version": "0.3.2",
   "views": {}
  },
  "kernelspec": {
   "display_name": "Python 3",
   "language": "python",
   "name": "python3"
  },
  "language_info": {
   "codemirror_mode": {
    "name": "ipython",
    "version": 3
   },
   "file_extension": ".py",
   "mimetype": "text/x-python",
   "name": "python",
   "nbconvert_exporter": "python",
   "pygments_lexer": "ipython3",
   "version": "3.6.2"
  }
 },
 "nbformat": 4,
 "nbformat_minor": 1
}

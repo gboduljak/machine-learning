{
 "cells": [
  {
   "cell_type": "code",
   "execution_count": 1,
   "metadata": {
    "colab": {
     "autoexec": {
      "startup": false,
      "wait_interval": 0
     },
     "base_uri": "https://localhost:8080/",
     "height": 411
    },
    "colab_type": "code",
    "executionInfo": {
     "elapsed": 12940,
     "status": "ok",
     "timestamp": 1531351618219,
     "user": {
      "displayName": "Deep Learner",
      "photoUrl": "https://lh3.googleusercontent.com/a/default-user=s128",
      "userId": "116467175281269717998"
     },
     "user_tz": -120
    },
    "id": "yS1FnhiWX3Js",
    "outputId": "1c048554-1ff1-4a0e-e76e-e97305e19042"
   },
   "outputs": [
    {
     "name": "stdout",
     "output_type": "stream",
     "text": [
      "Requirement already satisfied: keras in /usr/local/lib/python3.6/dist-packages (2.1.6)\r\n",
      "Requirement already satisfied: numpy>=1.9.1 in /usr/local/lib/python3.6/dist-packages (from keras) (1.14.5)\r\n",
      "Requirement already satisfied: six>=1.9.0 in /usr/local/lib/python3.6/dist-packages (from keras) (1.11.0)\r\n",
      "Requirement already satisfied: scipy>=0.14 in /usr/local/lib/python3.6/dist-packages (from keras) (0.19.1)\r\n",
      "Requirement already satisfied: h5py in /usr/local/lib/python3.6/dist-packages (from keras) (2.8.0)\n",
      "Requirement already satisfied: pyyaml in /usr/local/lib/python3.6/dist-packages (from keras) (3.13)\n",
      "Collecting sklearn\n",
      "  Downloading https://files.pythonhosted.org/packages/1e/7a/dbb3be0ce9bd5c8b7e3d87328e79063f8b263b2b1bfa4774cb1147bfcd3f/sklearn-0.0.tar.gz\n",
      "Requirement already satisfied: scikit-learn in /usr/local/lib/python3.6/dist-packages (from sklearn) (0.19.1)\n",
      "Building wheels for collected packages: sklearn\n",
      "  Running setup.py bdist_wheel for sklearn ... \u001b[?25l-\b \bdone\n",
      "\u001b[?25h  Stored in directory: /content/.cache/pip/wheels/76/03/bb/589d421d27431bcd2c6da284d5f2286c8e3b2ea3cf1594c074\n",
      "Successfully built sklearn\n",
      "Installing collected packages: sklearn\n",
      "Successfully installed sklearn-0.0\n",
      "Requirement already satisfied: matplotlib in /usr/local/lib/python3.6/dist-packages (2.1.2)\n",
      "Requirement already satisfied: cycler>=0.10 in /usr/local/lib/python3.6/dist-packages (from matplotlib) (0.10.0)\n",
      "Requirement already satisfied: six>=1.10 in /usr/local/lib/python3.6/dist-packages (from matplotlib) (1.11.0)\n",
      "Requirement already satisfied: pyparsing!=2.0.4,!=2.1.2,!=2.1.6,>=2.0.1 in /usr/local/lib/python3.6/dist-packages (from matplotlib) (2.2.0)\n",
      "Requirement already satisfied: numpy>=1.7.1 in /usr/local/lib/python3.6/dist-packages (from matplotlib) (1.14.5)\n",
      "Requirement already satisfied: python-dateutil>=2.1 in /usr/local/lib/python3.6/dist-packages (from matplotlib) (2.5.3)\n",
      "Requirement already satisfied: pytz in /usr/local/lib/python3.6/dist-packages (from matplotlib) (2018.5)\n"
     ]
    }
   ],
   "source": [
    "!pip install keras\n",
    "!pip install sklearn\n",
    "!pip install matplotlib\n",
    "!pip install -U -q PyDrive"
   ]
  },
  {
   "cell_type": "code",
   "execution_count": 2,
   "metadata": {
    "colab": {
     "autoexec": {
      "startup": false,
      "wait_interval": 0
     },
     "base_uri": "https://localhost:8080/",
     "height": 34
    },
    "colab_type": "code",
    "executionInfo": {
     "elapsed": 8346,
     "status": "ok",
     "timestamp": 1531351626596,
     "user": {
      "displayName": "Deep Learner",
      "photoUrl": "https://lh3.googleusercontent.com/a/default-user=s128",
      "userId": "116467175281269717998"
     },
     "user_tz": -120
    },
    "id": "xlKzkDJFrjA-",
    "outputId": "7bf91e2a-dc04-4211-c492-e92a4999fd0d"
   },
   "outputs": [
    {
     "name": "stderr",
     "output_type": "stream",
     "text": [
      "Using TensorFlow backend.\n"
     ]
    }
   ],
   "source": [
    "from keras import backend as K\n",
    "K.clear_session()"
   ]
  },
  {
   "cell_type": "code",
   "execution_count": 0,
   "metadata": {
    "colab": {
     "autoexec": {
      "startup": false,
      "wait_interval": 0
     }
    },
    "colab_type": "code",
    "id": "eQEKwl4oAxO7"
   },
   "outputs": [],
   "source": [
    "from keras import backend as K\n",
    "cfg = K.tf.ConfigProto()\n",
    "cfg.gpu_options.allow_growth = True\n",
    "K.set_session(K.tf.Session(config=cfg))"
   ]
  },
  {
   "cell_type": "code",
   "execution_count": 0,
   "metadata": {
    "colab": {
     "autoexec": {
      "startup": false,
      "wait_interval": 0
     }
    },
    "colab_type": "code",
    "id": "12M0egCCX-27"
   },
   "outputs": [],
   "source": [
    "from pydrive.auth import GoogleAuth\n",
    "from pydrive.drive import GoogleDrive\n",
    "from google.colab import auth\n",
    "from oauth2client.client import GoogleCredentials\n",
    "\n",
    "auth.authenticate_user()\n",
    "gauth = GoogleAuth()\n",
    "gauth.credentials = GoogleCredentials.get_application_default()\n",
    "drive = GoogleDrive(gauth)"
   ]
  },
  {
   "cell_type": "code",
   "execution_count": 0,
   "metadata": {
    "colab": {
     "autoexec": {
      "startup": false,
      "wait_interval": 0
     }
    },
    "colab_type": "code",
    "id": "4lN2WTUEYBYv"
   },
   "outputs": [],
   "source": [
    "file_import = drive.CreateFile({'id':'1p1bsltfTcIrZ_kfE6kwGTPzcdXorHbb2'})\n",
    "file_import.GetContentFile('colab_setup.py') \n",
    "from colab_setup import setup\n",
    "\n",
    "setup(drive)"
   ]
  },
  {
   "cell_type": "code",
   "execution_count": 6,
   "metadata": {
    "colab": {
     "autoexec": {
      "startup": false,
      "wait_interval": 0
     },
     "base_uri": "https://localhost:8080/",
     "height": 119
    },
    "colab_type": "code",
    "executionInfo": {
     "elapsed": 1751,
     "status": "ok",
     "timestamp": 1531351667143,
     "user": {
      "displayName": "Deep Learner",
      "photoUrl": "https://lh3.googleusercontent.com/a/default-user=s128",
      "userId": "116467175281269717998"
     },
     "user_tz": -120
    },
    "id": "cHBlD0tVj2TY",
    "outputId": "ab896447-8ef4-45b6-849f-569619f305ca"
   },
   "outputs": [
    {
     "name": "stdout",
     "output_type": "stream",
     "text": [
      "colab_setup.py\t\t\t roc_auc_callback.py\tX_train.npy\r\n",
      "custom_fast_text_embeddings.npy  sample_submission.csv\tX_val.npy\r\n",
      "datalab\t\t\t\t train_model.py\t\ty_test.npy\r\n",
      "fast_text_embeddings.npy\t X_submission.npy\ty_train_full.npy\r\n",
      "plot_history.py\t\t\t X_test.npy\t\ty_train.npy\r\n",
      "__pycache__\t\t\t X_train_full.npy\ty_val.npy\r\n"
     ]
    }
   ],
   "source": [
    "!ls"
   ]
  },
  {
   "cell_type": "code",
   "execution_count": 0,
   "metadata": {
    "colab": {
     "autoexec": {
      "startup": false,
      "wait_interval": 0
     }
    },
    "colab_type": "code",
    "id": "yMwWPTMYXyno"
   },
   "outputs": [],
   "source": [
    "import numpy as np\n",
    "import os\n",
    "\n",
    "from plot_history import plot_history\n",
    "from roc_auc_callback import RocAucCallback\n",
    "from train_model import train_with_cv, train_with_submitting, evaluate_on_test\n",
    "\n",
    "from keras.models import Model\n",
    "from keras.layers import *\n",
    "from keras.layers.merge import concatenate"
   ]
  },
  {
   "cell_type": "code",
   "execution_count": 0,
   "metadata": {
    "colab": {
     "autoexec": {
      "startup": false,
      "wait_interval": 0
     }
    },
    "colab_type": "code",
    "id": "46VGjNCr-DED"
   },
   "outputs": [],
   "source": [
    "def one_by_three_cnn(filtersNumber, inputLayer, dropout = 0.2):\n",
    "    one_by_one = Conv1D(filtersNumber, 3, activation = 'elu', padding = 'same', kernel_initializer = 'he_uniform')(inputLayer)\n",
    "    one_by_one = BatchNormalization()(one_by_one)\n",
    "    one_by_one = SpatialDropout1D(dropout)(one_by_one)\n",
    "    \n",
    "    return one_by_one"
   ]
  },
  {
   "cell_type": "code",
   "execution_count": null,
   "metadata": {},
   "outputs": [],
   "source": [
    "def one_by_one_cnn(filtersNumber, inputLayer, dropout = 0.2):\n",
    "    one_by_one = Conv1D(filtersNumber, 1, activation = 'elu', padding = 'same', kernel_initializer = 'he_uniform')(inputLayer)\n",
    "    one_by_one = BatchNormalization()(one_by_one)\n",
    "    one_by_one = SpatialDropout1D(dropout)(one_by_one)\n",
    "    \n",
    "    return one_by_one"
   ]
  },
  {
   "cell_type": "code",
   "execution_count": 0,
   "metadata": {
    "colab": {
     "autoexec": {
      "startup": false,
      "wait_interval": 0
     }
    },
    "colab_type": "code",
    "id": "cMITsh0zk4TJ"
   },
   "outputs": [],
   "source": [
    "def yoon_kim_pool(filtersNumber, inputLayer):\n",
    "    block_1_conv_1 = Conv1D(filtersNumber, 1, activation = 'elu', padding = 'same', kernel_initializer = 'he_uniform')(inputLayer)\n",
    "    block_1_batchnorm1 = BatchNormalization()(block_1_conv_1)\n",
    "    block_1_max_pool1 = MaxPooling1D()(block_1_batchnorm1)\n",
    "\n",
    "    block_1_conv_2 = Conv1D(filtersNumber, 2, activation = 'elu', padding = 'same', kernel_initializer = 'he_uniform')(inputLayer)\n",
    "    block_1_batchnorm2 = BatchNormalization()(block_1_conv_2)\n",
    "    block_1_max_pool2 = MaxPooling1D()(block_1_batchnorm2)\n",
    "\n",
    "    block_1_conv_3 = Conv1D(filtersNumber, 3, activation = 'elu', padding = 'same', kernel_initializer = 'he_uniform')(inputLayer)\n",
    "    block_1_batchnorm3 = BatchNormalization()(block_1_conv_3)\n",
    "    block_1_max_pool3 = MaxPooling1D()(block_1_batchnorm3)\n",
    "\n",
    "    block_1_conv_4 = Conv1D(filtersNumber, 5, activation = 'elu', padding = 'same', kernel_initializer = 'he_uniform')(inputLayer)\n",
    "    block_1_batchnorm4 = BatchNormalization()(block_1_conv_4)\n",
    "    block_1_max_pool4 = MaxPooling1D()(block_1_batchnorm4)\n",
    "\n",
    "    block_1_features = concatenate([\n",
    "        block_1_max_pool1, \n",
    "        block_1_max_pool2, \n",
    "        block_1_max_pool3, \n",
    "        block_1_max_pool4\n",
    "    ])\n",
    "    \n",
    "    block_1_features = Dropout(0.2)(block_1_features)\n",
    "    return block_1_features"
   ]
  },
  {
   "cell_type": "code",
   "execution_count": 0,
   "metadata": {
    "colab": {
     "autoexec": {
      "startup": false,
      "wait_interval": 0
     }
    },
    "colab_type": "code",
    "id": "zrmoc20_ngdA"
   },
   "outputs": [],
   "source": [
    "def yoon_kim_feature_extractor(filtersNumber, inputLayer):\n",
    "    block_1_conv_1 = Conv1D(filtersNumber, 1, activation = 'elu', padding = 'same', kernel_initializer = 'he_uniform')(inputLayer)\n",
    "    block_1_batchnorm1 = BatchNormalization()(block_1_conv_1)\n",
    "    block_1_max_pool1 = GlobalMaxPooling1D()(block_1_batchnorm1)\n",
    "\n",
    "    block_1_conv_2 = Conv1D(filtersNumber, 2, activation = 'elu', padding = 'same', kernel_initializer = 'he_uniform')(inputLayer)\n",
    "    block_1_batchnorm2 = BatchNormalization()(block_1_conv_2)\n",
    "    block_1_max_pool2 = GlobalMaxPooling1D()(block_1_batchnorm2)\n",
    "\n",
    "    block_1_conv_3 = Conv1D(filtersNumber, 3, activation = 'elu', padding = 'same', kernel_initializer = 'he_uniform')(inputLayer)\n",
    "    block_1_batchnorm3 = BatchNormalization()(block_1_conv_3)\n",
    "    block_1_max_pool3 = GlobalMaxPooling1D()(block_1_batchnorm3)\n",
    "\n",
    "    block_1_conv_4 = Conv1D(filtersNumber, 5, activation = 'elu', padding = 'same', kernel_initializer = 'he_uniform')(inputLayer)\n",
    "    block_1_batchnorm4 = BatchNormalization()(block_1_conv_4)\n",
    "    block_1_max_pool4 = GlobalMaxPooling1D()(block_1_batchnorm4)\n",
    "\n",
    "    block_1_features = concatenate([\n",
    "        block_1_max_pool1, \n",
    "        block_1_max_pool2, \n",
    "        block_1_max_pool3, \n",
    "        block_1_max_pool4\n",
    "    ])\n",
    "    block_1_features = Dropout(0.2)(block_1_features)\n",
    "    return block_1_features"
   ]
  },
  {
   "cell_type": "code",
   "execution_count": 11,
   "metadata": {
    "colab": {
     "autoexec": {
      "startup": false,
      "wait_interval": 0
     },
     "base_uri": "https://localhost:8080/",
     "height": 2516
    },
    "colab_type": "code",
    "executionInfo": {
     "elapsed": 3880,
     "status": "ok",
     "timestamp": 1531351673360,
     "user": {
      "displayName": "Deep Learner",
      "photoUrl": "https://lh3.googleusercontent.com/a/default-user=s128",
      "userId": "116467175281269717998"
     },
     "user_tz": -120
    },
    "id": "LTFG7OgsXynw",
    "outputId": "b33bd3ed-6b1c-4d1d-d3bf-15fbfc6fa757"
   },
   "outputs": [
    {
     "name": "stdout",
     "output_type": "stream",
     "text": [
      "__________________________________________________________________________________________________\n",
      "Layer (type)                    Output Shape         Param #     Connected to                     \n",
      "==================================================================================================\n",
      "input_1 (InputLayer)            (None, 400)          0                                            \n",
      "__________________________________________________________________________________________________\n",
      "embedding_1 (Embedding)         (None, 400, 300)     9000000     input_1[0][0]                    \n",
      "__________________________________________________________________________________________________\n",
      "embedding_2 (Embedding)         (None, 400, 300)     9000000     input_1[0][0]                    \n",
      "__________________________________________________________________________________________________\n",
      "spatial_dropout1d_1 (SpatialDro (None, 400, 300)     0           embedding_1[0][0]                \n",
      "__________________________________________________________________________________________________\n",
      "spatial_dropout1d_2 (SpatialDro (None, 400, 300)     0           embedding_2[0][0]                \n",
      "__________________________________________________________________________________________________\n",
      "average_1 (Average)             (None, 400, 300)     0           spatial_dropout1d_1[0][0]        \n",
      "                                                                 spatial_dropout1d_2[0][0]        \n",
      "__________________________________________________________________________________________________\n",
      "spatial_dropout1d_3 (SpatialDro (None, 400, 300)     0           average_1[0][0]                  \n",
      "__________________________________________________________________________________________________\n",
      "conv1d_1 (Conv1D)               (None, 400, 256)     230656      spatial_dropout1d_3[0][0]        \n",
      "__________________________________________________________________________________________________\n",
      "batch_normalization_1 (BatchNor (None, 400, 256)     1024        conv1d_1[0][0]                   \n",
      "__________________________________________________________________________________________________\n",
      "spatial_dropout1d_4 (SpatialDro (None, 400, 256)     0           batch_normalization_1[0][0]      \n",
      "__________________________________________________________________________________________________\n",
      "conv1d_2 (Conv1D)               (None, 400, 256)     65792       spatial_dropout1d_4[0][0]        \n",
      "__________________________________________________________________________________________________\n",
      "conv1d_3 (Conv1D)               (None, 400, 256)     131328      spatial_dropout1d_4[0][0]        \n",
      "__________________________________________________________________________________________________\n",
      "conv1d_4 (Conv1D)               (None, 400, 256)     196864      spatial_dropout1d_4[0][0]        \n",
      "__________________________________________________________________________________________________\n",
      "conv1d_5 (Conv1D)               (None, 400, 256)     327936      spatial_dropout1d_4[0][0]        \n",
      "__________________________________________________________________________________________________\n",
      "batch_normalization_2 (BatchNor (None, 400, 256)     1024        conv1d_2[0][0]                   \n",
      "__________________________________________________________________________________________________\n",
      "batch_normalization_3 (BatchNor (None, 400, 256)     1024        conv1d_3[0][0]                   \n",
      "__________________________________________________________________________________________________\n",
      "batch_normalization_4 (BatchNor (None, 400, 256)     1024        conv1d_4[0][0]                   \n",
      "__________________________________________________________________________________________________\n",
      "batch_normalization_5 (BatchNor (None, 400, 256)     1024        conv1d_5[0][0]                   \n",
      "__________________________________________________________________________________________________\n",
      "max_pooling1d_1 (MaxPooling1D)  (None, 200, 256)     0           batch_normalization_2[0][0]      \n",
      "__________________________________________________________________________________________________\n",
      "max_pooling1d_2 (MaxPooling1D)  (None, 200, 256)     0           batch_normalization_3[0][0]      \n",
      "__________________________________________________________________________________________________\n",
      "max_pooling1d_3 (MaxPooling1D)  (None, 200, 256)     0           batch_normalization_4[0][0]      \n",
      "__________________________________________________________________________________________________\n",
      "max_pooling1d_4 (MaxPooling1D)  (None, 200, 256)     0           batch_normalization_5[0][0]      \n",
      "__________________________________________________________________________________________________\n",
      "concatenate_1 (Concatenate)     (None, 200, 1024)    0           max_pooling1d_1[0][0]            \n",
      "                                                                 max_pooling1d_2[0][0]            \n",
      "                                                                 max_pooling1d_3[0][0]            \n",
      "                                                                 max_pooling1d_4[0][0]            \n",
      "__________________________________________________________________________________________________\n",
      "dropout_1 (Dropout)             (None, 200, 1024)    0           concatenate_1[0][0]              \n",
      "__________________________________________________________________________________________________\n",
      "conv1d_6 (Conv1D)               (None, 200, 384)     1180032     dropout_1[0][0]                  \n",
      "__________________________________________________________________________________________________\n",
      "batch_normalization_6 (BatchNor (None, 200, 384)     1536        conv1d_6[0][0]                   \n",
      "__________________________________________________________________________________________________\n",
      "spatial_dropout1d_5 (SpatialDro (None, 200, 384)     0           batch_normalization_6[0][0]      \n",
      "__________________________________________________________________________________________________\n",
      "conv1d_7 (Conv1D)               (None, 200, 384)     147840      spatial_dropout1d_5[0][0]        \n",
      "__________________________________________________________________________________________________\n",
      "conv1d_8 (Conv1D)               (None, 200, 384)     295296      spatial_dropout1d_5[0][0]        \n",
      "__________________________________________________________________________________________________\n",
      "conv1d_9 (Conv1D)               (None, 200, 384)     442752      spatial_dropout1d_5[0][0]        \n",
      "__________________________________________________________________________________________________\n",
      "conv1d_10 (Conv1D)              (None, 200, 384)     737664      spatial_dropout1d_5[0][0]        \n",
      "__________________________________________________________________________________________________\n",
      "batch_normalization_7 (BatchNor (None, 200, 384)     1536        conv1d_7[0][0]                   \n",
      "__________________________________________________________________________________________________\n",
      "batch_normalization_8 (BatchNor (None, 200, 384)     1536        conv1d_8[0][0]                   \n",
      "__________________________________________________________________________________________________\n",
      "batch_normalization_9 (BatchNor (None, 200, 384)     1536        conv1d_9[0][0]                   \n",
      "__________________________________________________________________________________________________\n",
      "batch_normalization_10 (BatchNo (None, 200, 384)     1536        conv1d_10[0][0]                  \n",
      "__________________________________________________________________________________________________\n",
      "max_pooling1d_5 (MaxPooling1D)  (None, 100, 384)     0           batch_normalization_7[0][0]      \n",
      "__________________________________________________________________________________________________\n",
      "max_pooling1d_6 (MaxPooling1D)  (None, 100, 384)     0           batch_normalization_8[0][0]      \n",
      "__________________________________________________________________________________________________\n",
      "max_pooling1d_7 (MaxPooling1D)  (None, 100, 384)     0           batch_normalization_9[0][0]      \n",
      "__________________________________________________________________________________________________\n",
      "max_pooling1d_8 (MaxPooling1D)  (None, 100, 384)     0           batch_normalization_10[0][0]     \n",
      "__________________________________________________________________________________________________\n",
      "concatenate_2 (Concatenate)     (None, 100, 1536)    0           max_pooling1d_5[0][0]            \n",
      "                                                                 max_pooling1d_6[0][0]            \n",
      "                                                                 max_pooling1d_7[0][0]            \n",
      "                                                                 max_pooling1d_8[0][0]            \n",
      "__________________________________________________________________________________________________\n",
      "dropout_2 (Dropout)             (None, 100, 1536)    0           concatenate_2[0][0]              \n",
      "__________________________________________________________________________________________________\n",
      "conv1d_11 (Conv1D)              (None, 100, 512)     2359808     dropout_2[0][0]                  \n",
      "__________________________________________________________________________________________________\n",
      "batch_normalization_11 (BatchNo (None, 100, 512)     2048        conv1d_11[0][0]                  \n",
      "__________________________________________________________________________________________________\n",
      "spatial_dropout1d_6 (SpatialDro (None, 100, 512)     0           batch_normalization_11[0][0]     \n",
      "__________________________________________________________________________________________________\n",
      "conv1d_12 (Conv1D)              (None, 100, 512)     262656      spatial_dropout1d_6[0][0]        \n",
      "__________________________________________________________________________________________________\n",
      "conv1d_13 (Conv1D)              (None, 100, 512)     524800      spatial_dropout1d_6[0][0]        \n",
      "__________________________________________________________________________________________________\n",
      "conv1d_14 (Conv1D)              (None, 100, 512)     786944      spatial_dropout1d_6[0][0]        \n",
      "__________________________________________________________________________________________________\n",
      "conv1d_15 (Conv1D)              (None, 100, 512)     1311232     spatial_dropout1d_6[0][0]        \n",
      "__________________________________________________________________________________________________\n",
      "batch_normalization_12 (BatchNo (None, 100, 512)     2048        conv1d_12[0][0]                  \n",
      "__________________________________________________________________________________________________\n",
      "batch_normalization_13 (BatchNo (None, 100, 512)     2048        conv1d_13[0][0]                  \n",
      "__________________________________________________________________________________________________\n",
      "batch_normalization_14 (BatchNo (None, 100, 512)     2048        conv1d_14[0][0]                  \n",
      "__________________________________________________________________________________________________\n",
      "batch_normalization_15 (BatchNo (None, 100, 512)     2048        conv1d_15[0][0]                  \n",
      "__________________________________________________________________________________________________\n",
      "global_max_pooling1d_1 (GlobalM (None, 512)          0           batch_normalization_12[0][0]     \n",
      "__________________________________________________________________________________________________\n",
      "global_max_pooling1d_2 (GlobalM (None, 512)          0           batch_normalization_13[0][0]     \n",
      "__________________________________________________________________________________________________\n",
      "global_max_pooling1d_3 (GlobalM (None, 512)          0           batch_normalization_14[0][0]     \n",
      "__________________________________________________________________________________________________\n",
      "global_max_pooling1d_4 (GlobalM (None, 512)          0           batch_normalization_15[0][0]     \n",
      "__________________________________________________________________________________________________\n",
      "concatenate_3 (Concatenate)     (None, 2048)         0           global_max_pooling1d_1[0][0]     \n",
      "                                                                 global_max_pooling1d_2[0][0]     \n",
      "                                                                 global_max_pooling1d_3[0][0]     \n",
      "                                                                 global_max_pooling1d_4[0][0]     \n",
      "__________________________________________________________________________________________________\n",
      "dropout_3 (Dropout)             (None, 2048)         0           concatenate_3[0][0]              \n",
      "__________________________________________________________________________________________________\n",
      "dense_1 (Dense)                 (None, 256)          524544      dropout_3[0][0]                  \n",
      "__________________________________________________________________________________________________\n",
      "batch_normalization_16 (BatchNo (None, 256)          1024        dense_1[0][0]                    \n",
      "__________________________________________________________________________________________________\n",
      "dropout_4 (Dropout)             (None, 256)          0           batch_normalization_16[0][0]     \n",
      "__________________________________________________________________________________________________\n",
      "dense_2 (Dense)                 (None, 256)          65792       dropout_4[0][0]                  \n",
      "__________________________________________________________________________________________________\n",
      "batch_normalization_17 (BatchNo (None, 256)          1024        dense_2[0][0]                    \n",
      "__________________________________________________________________________________________________\n",
      "dropout_5 (Dropout)             (None, 256)          0           batch_normalization_17[0][0]     \n",
      "__________________________________________________________________________________________________\n",
      "dense_3 (Dense)                 (None, 6)            1542        dropout_5[0][0]                  \n",
      "==================================================================================================\n",
      "Total params: 27,618,566\n",
      "Trainable params: 9,606,022\n",
      "Non-trainable params: 18,012,544\n",
      "__________________________________________________________________________________________________\n"
     ]
    }
   ],
   "source": [
    "maxWords = 30000\n",
    "maxSequenceLengthInWords = 400\n",
    "embeddingDimension = 300\n",
    "convBlocks = 3\n",
    "\n",
    "input_layer = Input(shape=(maxSequenceLengthInWords,))\n",
    "\n",
    "pretrained_embedding_layer = Embedding(\n",
    "    maxWords, \n",
    "    output_dim=embeddingDimension, \n",
    "    input_length=maxSequenceLengthInWords,\n",
    "    weights = [np.load('fast_text_embeddings.npy')],\n",
    "    trainable = False\n",
    ")(input_layer)\n",
    "pretrained_embedding_layer = SpatialDropout1D(0.2)(pretrained_embedding_layer)\n",
    "\n",
    "custom_embedding_layer = Embedding(\n",
    "    maxWords, \n",
    "    output_dim=embeddingDimension, \n",
    "    input_length=maxSequenceLengthInWords,\n",
    "    weights = [np.load('custom_fast_text_embeddings.npy')],\n",
    "    trainable = False\n",
    ")(input_layer)\n",
    "custom_embedding_layer = SpatialDropout1D(0.2)(custom_embedding_layer)\n",
    "\n",
    "embedding = Average()([pretrained_embedding_layer, custom_embedding_layer])\n",
    "embedding_dropout = SpatialDropout1D(0.2)(embedding)\n",
    "\n",
    "preprocess = one_by_one_cnn(embedding_dropout)\n",
    "\n",
    "block = embedding_dropout\n",
    "for currentBlock in range(convBlocks):\n",
    "  filters = 128 * (2 + currentBlock)\n",
    "  block = one_by_three_cnn(filters, block)\n",
    "  if(currentBlock < convBlocks-1):\n",
    "    block = yoon_kim_pool(filters, block)\n",
    "  \n",
    "features = yoon_kim_feature_extractor(512, block)\n",
    "\n",
    "dense_1 = Dense(256, activation = 'elu')(features)\n",
    "dense_1_normalization = BatchNormalization()(dense_1)\n",
    "dense_1_dropout = Dropout(0.2)(dense_1_normalization)\n",
    "\n",
    "dense_2 = Dense(256, activation = 'elu')(dense_1_dropout)\n",
    "dense_2_normalization = BatchNormalization()(dense_2)\n",
    "dense_2_dropout = Dropout(0.2)(dense_2_normalization)\n",
    "\n",
    "output_layer = Dense(6, activation='sigmoid')(dense_2_dropout)\n",
    "\n",
    "model = Model(inputs=[input_layer], outputs=[output_layer])\n",
    "            \n",
    "model.summary()\n",
    "\n",
    "model.compile(\n",
    "    loss='binary_crossentropy', \n",
    "    optimizer='Adam',\n",
    "    metrics=['accuracy']\n",
    ")"
   ]
  },
  {
   "cell_type": "code",
   "execution_count": 12,
   "metadata": {
    "colab": {
     "autoexec": {
      "startup": false,
      "wait_interval": 0
     },
     "base_uri": "https://localhost:8080/",
     "height": 1516
    },
    "colab_type": "code",
    "executionInfo": {
     "elapsed": 38778820,
     "status": "ok",
     "timestamp": 1531390452224,
     "user": {
      "displayName": "Deep Learner",
      "photoUrl": "https://lh3.googleusercontent.com/a/default-user=s128",
      "userId": "116467175281269717998"
     },
     "user_tz": -120
    },
    "id": "xwMmTewgXynz",
    "outputId": "3666a504-0950-4e08-99d5-e70b002e0f62"
   },
   "outputs": [
    {
     "name": "stdout",
     "output_type": "stream",
     "text": [
      "Train on 102124 samples, validate on 25532 samples\n",
      "Epoch 1/32\n",
      "102124/102124 [==============================] - 1090s 11ms/step - loss: 0.0932 - acc: 0.9655 - val_loss: 0.0674 - val_acc: 0.9753=>.] - ETA: 0s - loss: 0.0932 - acc: 0.965\n",
      "Epoch 2/32\n",
      " 10080/102124 [=>............................] - ETA: 15:01 - loss: 0.0610 - acc: 0.9770102112/102124 [============================>.] - ETA: 0s - loss: 0.0603 - acc: 0.9782102124/102124 [==============================] - 1073s 11ms/step - loss: 0.0602 - acc: 0.9782 - val_loss: 0.0538 - val_acc: 0.9799\n",
      "roc-auc: 0.977 - roc-auc_val: 0.9746                                                                                                    \n",
      "Epoch 3/32\n",
      "102124/102124 [==============================] - 1056s 10ms/step - loss: 0.0560 - acc: 0.9797 - val_loss: 0.0472 - val_acc: 0.9822=>.] - ETA: 0s - loss: 0.0560 - acc: 0.979\n",
      "Epoch 4/32\n",
      " 10080/102124 [=>............................] - ETA: 15:13 - loss: 0.0519 - acc: 0.9812102112/102124 [============================>.] - ETA: 0s - loss: 0.0536 - acc: 0.9804102124/102124 [==============================] - 1051s 10ms/step - loss: 0.0536 - acc: 0.9804 - val_loss: 0.0480 - val_acc: 0.9823\n",
      "roc-auc: 0.9783 - roc-auc_val: 0.9751                                                                                                    \n",
      "Epoch 5/32\n",
      "102124/102124 [==============================] - 1051s 10ms/step - loss: 0.0519 - acc: 0.9810 - val_loss: 0.0473 - val_acc: 0.9822=>.] - ETA: 0s - loss: 0.0519 - acc: 0.981\n",
      "\n",
      "Epoch 00005: ReduceLROnPlateau reducing learning rate to 0.0003298769879620522.\n",
      "Epoch 6/32\n",
      "  7968/102124 [=>............................] - ETA: 14:56 - loss: 0.0485 - acc: 0.9820102112/102124 [============================>.] - ETA: 0s - loss: 0.0498 - acc: 0.9815102124/102124 [==============================] - 1045s 10ms/step - loss: 0.0498 - acc: 0.9815 - val_loss: 0.0491 - val_acc: 0.9816\n",
      "roc-auc: 0.9817 - roc-auc_val: 0.9781                                                                                                    \n",
      "Epoch 7/32\n",
      "102124/102124 [==============================] - 1040s 10ms/step - loss: 0.0489 - acc: 0.9816 - val_loss: 0.0448 - val_acc: 0.9829=>.] - ETA: 0s - loss: 0.0489 - acc: 0.981\n",
      "Epoch 8/32\n",
      " 10080/102124 [=>............................] - ETA: 14:42 - loss: 0.0460 - acc: 0.9824102112/102124 [============================>.] - ETA: 0s - loss: 0.0477 - acc: 0.9820102124/102124 [==============================] - 1051s 10ms/step - loss: 0.0477 - acc: 0.9820 - val_loss: 0.0453 - val_acc: 0.9830\n",
      "roc-auc: 0.9844 - roc-auc_val: 0.9791                                                                                                    \n",
      "Epoch 9/32\n",
      "102124/102124 [==============================] - 1019s 10ms/step - loss: 0.0467 - acc: 0.9822 - val_loss: 0.0439 - val_acc: 0.9830=>.] - ETA: 0s - loss: 0.0467 - acc: 0.982\n",
      "Epoch 10/32\n",
      " 10048/102124 [=>............................] - ETA: 14:14 - loss: 0.0480 - acc: 0.9820102112/102124 [============================>.] - ETA: 0s - loss: 0.0456 - acc: 0.9825102124/102124 [==============================] - 1021s 10ms/step - loss: 0.0456 - acc: 0.9825 - val_loss: 0.0438 - val_acc: 0.9833\n",
      "roc-auc: 0.9872 - roc-auc_val: 0.9816                                                                                                    \n",
      "Epoch 11/32\n",
      "102124/102124 [==============================] - 1017s 10ms/step - loss: 0.0452 - acc: 0.9825 - val_loss: 0.0456 - val_acc: 0.9826=>.] - ETA: 0s - loss: 0.0452 - acc: 0.982\n",
      "Epoch 12/32\n",
      " 10048/102124 [=>............................] - ETA: 14:48 - loss: 0.0432 - acc: 0.9828102112/102124 [============================>.] - ETA: 0s - loss: 0.0440 - acc: 0.9830102124/102124 [==============================] - 1021s 10ms/step - loss: 0.0440 - acc: 0.9830 - val_loss: 0.0438 - val_acc: 0.9836\n",
      "roc-auc: 0.9882 - roc-auc_val: 0.981                                                                                                    \n",
      "Epoch 13/32\n",
      "102124/102124 [==============================] - 1018s 10ms/step - loss: 0.0432 - acc: 0.9831 - val_loss: 0.0436 - val_acc: 0.9832=>.] - ETA: 0s - loss: 0.0432 - acc: 0.983\n",
      "Epoch 14/32\n",
      " 10048/102124 [=>............................] - ETA: 14:35 - loss: 0.0410 - acc: 0.9841102112/102124 [============================>.] - ETA: 0s - loss: 0.0424 - acc: 0.9835102124/102124 [==============================] - 1022s 10ms/step - loss: 0.0424 - acc: 0.9835 - val_loss: 0.0439 - val_acc: 0.9832\n",
      "roc-auc: 0.9897 - roc-auc_val: 0.9826                                                                                                    \n",
      "Epoch 15/32\n",
      "102124/102124 [==============================] - 1055s 10ms/step - loss: 0.0419 - acc: 0.9836 - val_loss: 0.0437 - val_acc: 0.9834=>.] - ETA: 0s - loss: 0.0419 - acc: 0.983\n",
      "Epoch 16/32\n",
      " 10048/102124 [=>............................] - ETA: 14:37 - loss: 0.0393 - acc: 0.9844102112/102124 [============================>.] - ETA: 0s - loss: 0.0412 - acc: 0.9837102124/102124 [==============================] - 1042s 10ms/step - loss: 0.0412 - acc: 0.9837 - val_loss: 0.0425 - val_acc: 0.9839\n",
      "roc-auc: 0.9906 - roc-auc_val: 0.9832                                                                                                    \n",
      "Epoch 17/32\n",
      "102124/102124 [==============================] - 1047s 10ms/step - loss: 0.0405 - acc: 0.9838 - val_loss: 0.0453 - val_acc: 0.9836=>.] - ETA: 0s - loss: 0.0405 - acc: 0.983\n",
      "Epoch 18/32\n",
      " 10048/102124 [=>............................] - ETA: 14:35 - loss: 0.0389 - acc: 0.9845102112/102124 [============================>.] - ETA: 0s - loss: 0.0400 - acc: 0.9841102124/102124 [==============================] - 1052s 10ms/step - loss: 0.0400 - acc: 0.9841 - val_loss: 0.0422 - val_acc: 0.9841\n",
      "roc-auc: 0.9912 - roc-auc_val: 0.9829                                                                                                    \n",
      "Epoch 19/32\n",
      "102124/102124 [==============================] - 1045s 10ms/step - loss: 0.0393 - acc: 0.9843 - val_loss: 0.0420 - val_acc: 0.9841=>.] - ETA: 0s - loss: 0.0393 - acc: 0.984\n",
      "Epoch 20/32\n",
      " 10048/102124 [=>............................] - ETA: 14:42 - loss: 0.0378 - acc: 0.9849102112/102124 [============================>.] - ETA: 0s - loss: 0.0391 - acc: 0.9844102124/102124 [==============================] - 1038s 10ms/step - loss: 0.0391 - acc: 0.9844 - val_loss: 0.0422 - val_acc: 0.9840\n",
      "roc-auc: 0.9916 - roc-auc_val: 0.9831                                                                                                    \n",
      "Epoch 21/32\n",
      "102124/102124 [==============================] - 1034s 10ms/step - loss: 0.0386 - acc: 0.9845 - val_loss: 0.0422 - val_acc: 0.9841=>.] - ETA: 0s - loss: 0.0386 - acc: 0.984\n",
      "\n",
      "Epoch 00021: ReduceLROnPlateau reducing learning rate to 6.25000029685907e-05.\n",
      "Epoch 22/32\n",
      "  7968/102124 [=>............................] - ETA: 15:07 - loss: 0.0388 - acc: 0.9841102112/102124 [============================>.] - ETA: 0s - loss: 0.0383 - acc: 0.9846102124/102124 [==============================] - 1043s 10ms/step - loss: 0.0383 - acc: 0.9846 - val_loss: 0.0423 - val_acc: 0.9843\n",
      "roc-auc: 0.9924 - roc-auc_val: 0.9836                                                                                                    \n",
      "Epoch 23/32\n",
      "102124/102124 [==============================] - 1045s 10ms/step - loss: 0.0382 - acc: 0.9846 - val_loss: 0.0422 - val_acc: 0.9841=>.] - ETA: 0s - loss: 0.0382 - acc: 0.984\n",
      "Epoch 24/32\n",
      " 10048/102124 [=>............................] - ETA: 14:51 - loss: 0.0378 - acc: 0.9850102112/102124 [============================>.] - ETA: 0s - loss: 0.0377 - acc: 0.9850102124/102124 [==============================] - 1042s 10ms/step - loss: 0.0377 - acc: 0.9850 - val_loss: 0.0432 - val_acc: 0.9842\n",
      "roc-auc: 0.9926 - roc-auc_val: 0.9832                                                                                                    \n",
      "Epoch 25/32\n",
      "102124/102124 [==============================] - 1048s 10ms/step - loss: 0.0373 - acc: 0.9850 - val_loss: 0.0419 - val_acc: 0.9844=>.] - ETA: 0s - loss: 0.0373 - acc: 0.985\n",
      "Epoch 26/32\n"
     ]
    },
    {
     "name": "stdout",
     "output_type": "stream",
     "text": [
      " 10048/102124 [=>............................] - ETA: 14:43 - loss: 0.0350 - acc: 0.9862102112/102124 [============================>.] - ETA: 0s - loss: 0.0373 - acc: 0.9851102124/102124 [==============================] - 1037s 10ms/step - loss: 0.0373 - acc: 0.9851 - val_loss: 0.0428 - val_acc: 0.9841\n",
      "roc-auc: 0.993 - roc-auc_val: 0.9837                                                                                                    \n",
      "Epoch 27/32\n",
      "102124/102124 [==============================] - 1047s 10ms/step - loss: 0.0369 - acc: 0.9851 - val_loss: 0.0418 - val_acc: 0.9842=>.] - ETA: 0s - loss: 0.0369 - acc: 0.985\n",
      "Epoch 28/32\n",
      " 10048/102124 [=>............................] - ETA: 14:11 - loss: 0.0375 - acc: 0.9850102112/102124 [============================>.] - ETA: 0s - loss: 0.0368 - acc: 0.9851102124/102124 [==============================] - 1038s 10ms/step - loss: 0.0368 - acc: 0.9851 - val_loss: 0.0417 - val_acc: 0.9842\n",
      "roc-auc: 0.9933 - roc-auc_val: 0.9836                                                                                                    \n",
      "Epoch 29/32\n",
      "102124/102124 [==============================] - 1046s 10ms/step - loss: 0.0366 - acc: 0.9854 - val_loss: 0.0426 - val_acc: 0.9842=>.] - ETA: 0s - loss: 0.0366 - acc: 0.985\n",
      "Epoch 30/32\n",
      " 10048/102124 [=>............................] - ETA: 14:30 - loss: 0.0370 - acc: 0.9849102112/102124 [============================>.] - ETA: 0s - loss: 0.0363 - acc: 0.9853102124/102124 [==============================] - 1044s 10ms/step - loss: 0.0363 - acc: 0.9853 - val_loss: 0.0423 - val_acc: 0.9842\n",
      "roc-auc: 0.9935 - roc-auc_val: 0.9838                                                                                                    \n",
      "Epoch 31/32\n",
      "102124/102124 [==============================] - 1086s 11ms/step - loss: 0.0361 - acc: 0.9854 - val_loss: 0.0421 - val_acc: 0.9841=>.] - ETA: 0s - loss: 0.0361 - acc: 0.985\n",
      "Epoch 32/32\n",
      "102124/102124 [==============================] - 1093s 11ms/step - loss: 0.0359 - acc: 0.9855 - val_loss: 0.0424 - val_acc: 0.9842=>.] - ETA: 0s - loss: 0.0359 - acc: 0.985\n",
      "\n",
      "Epoch 00032: ReduceLROnPlateau reducing learning rate to 1.9915009033866227e-05.\n",
      "roc-auc: 0.9936 - roc-auc_val: 0.9839                                                                                                    \n"
     ]
    }
   ],
   "source": [
    "history = train_with_cv(model, batchSize=32, rocEvery = 2)"
   ]
  },
  {
   "cell_type": "code",
   "execution_count": 13,
   "metadata": {
    "colab": {
     "autoexec": {
      "startup": false,
      "wait_interval": 0
     },
     "base_uri": "https://localhost:8080/",
     "height": 294
    },
    "colab_type": "code",
    "executionInfo": {
     "elapsed": 6163,
     "status": "ok",
     "timestamp": 1531390458402,
     "user": {
      "displayName": "Deep Learner",
      "photoUrl": "https://lh3.googleusercontent.com/a/default-user=s128",
      "userId": "116467175281269717998"
     },
     "user_tz": -120
    },
    "id": "sms3R-U4469B",
    "outputId": "bd9680fc-45a3-449f-d1f6-003c319a139f"
   },
   "outputs": [
    {
     "data": {
      "image/png": "[encoded data removed]",
      "text/plain": [
       "<matplotlib.figure.Figure at 0x7f37c33945c0>"
      ]
     },
     "metadata": {
      "tags": []
     },
     "output_type": "display_data"
    }
   ],
   "source": [
    "plot_history(history)"
   ]
  },
  {
   "cell_type": "code",
   "execution_count": 14,
   "metadata": {
    "colab": {
     "autoexec": {
      "startup": false,
      "wait_interval": 0
     },
     "base_uri": "https://localhost:8080/",
     "height": 51
    },
    "colab_type": "code",
    "executionInfo": {
     "elapsed": 172445,
     "status": "ok",
     "timestamp": 1531390630864,
     "user": {
      "displayName": "Deep Learner",
      "photoUrl": "https://lh3.googleusercontent.com/a/default-user=s128",
      "userId": "116467175281269717998"
     },
     "user_tz": -120
    },
    "id": "r2gtMBj2Tp9A",
    "outputId": "078e003a-eb05-4ea5-8d20-2364f1bba087"
   },
   "outputs": [
    {
     "name": "stdout",
     "output_type": "stream",
     "text": [
      "31915/31915 [==============================] - 88s 3ms/step\n",
      "([0.040927757367960955, 0.9844795928915784], 0.9867561719807485)\n"
     ]
    }
   ],
   "source": [
    "print(evaluate_on_test(model))"
   ]
  }
 ],
 "metadata": {
  "accelerator": "GPU",
  "colab": {
   "collapsed_sections": [],
   "default_view": {},
   "name": "three_blocks.ipynb",
   "provenance": [],
   "version": "0.3.2",
   "views": {}
  },
  "kernelspec": {
   "display_name": "Python 3",
   "language": "python",
   "name": "python3"
  },
  "language_info": {
   "codemirror_mode": {
    "name": "ipython",
    "version": 3
   },
   "file_extension": ".py",
   "mimetype": "text/x-python",
   "name": "python",
   "nbconvert_exporter": "python",
   "pygments_lexer": "ipython3",
   "version": "3.6.2"
  }
 },
 "nbformat": 4,
 "nbformat_minor": 1
}

{
 "cells": [
  {
   "cell_type": "code",
   "execution_count": 1,
   "metadata": {
    "colab": {
     "autoexec": {
      "startup": false,
      "wait_interval": 0
     },
     "base_uri": "https://localhost:8080/",
     "height": 462
    },
    "colab_type": "code",
    "executionInfo": {
     "elapsed": 11344,
     "status": "ok",
     "timestamp": 1524933485535,
     "user": {
      "displayName": "Deep Learning",
      "photoUrl": "https://lh3.googleusercontent.com/a/default-user=s128",
      "userId": "110970714976109420834"
     },
     "user_tz": -120
    },
    "id": "jDxIlMYmTy_W",
    "outputId": "38110b94-6c37-4cb6-cbba-3193d89fc5ba"
   },
   "outputs": [
    {
     "name": "stdout",
     "output_type": "stream",
     "text": [
      "Looking in indexes: https://pypi.org/simple, https://legacy.pypi.org/simple\r\n",
      "Requirement already satisfied: keras in /usr/local/lib/python3.6/dist-packages (2.1.6)\r\n",
      "Requirement already satisfied: pyyaml in /usr/local/lib/python3.6/dist-packages (from keras) (3.12)\r\n",
      "Requirement already satisfied: scipy>=0.14 in /usr/local/lib/python3.6/dist-packages (from keras) (0.19.1)\r\n",
      "Requirement already satisfied: h5py in /usr/local/lib/python3.6/dist-packages (from keras) (2.7.1)\r\n",
      "Requirement already satisfied: numpy>=1.9.1 in /usr/local/lib/python3.6/dist-packages (from keras) (1.14.2)\r\n",
      "Requirement already satisfied: six>=1.9.0 in /usr/local/lib/python3.6/dist-packages (from keras) (1.11.0)\n",
      "Looking in indexes: https://pypi.org/simple, https://legacy.pypi.org/simple\n",
      "Collecting sklearn\n",
      "  Downloading https://files.pythonhosted.org/packages/1e/7a/dbb3be0ce9bd5c8b7e3d87328e79063f8b263b2b1bfa4774cb1147bfcd3f/sklearn-0.0.tar.gz\n",
      "Requirement already satisfied: scikit-learn in /usr/local/lib/python3.6/dist-packages (from sklearn) (0.19.1)\n",
      "Building wheels for collected packages: sklearn\n",
      "  Running setup.py bdist_wheel for sklearn ... \u001b[?25l-\b \bdone\n",
      "\u001b[?25h  Stored in directory: /content/.cache/pip/wheels/76/03/bb/589d421d27431bcd2c6da284d5f2286c8e3b2ea3cf1594c074\n",
      "Successfully built sklearn\n",
      "Installing collected packages: sklearn\n",
      "Successfully installed sklearn-0.0\n",
      "Looking in indexes: https://pypi.org/simple, https://legacy.pypi.org/simple\n",
      "Requirement already satisfied: matplotlib in /usr/local/lib/python3.6/dist-packages (2.1.2)\n",
      "Requirement already satisfied: pytz in /usr/local/lib/python3.6/dist-packages (from matplotlib) (2018.4)\n",
      "Requirement already satisfied: six>=1.10 in /usr/local/lib/python3.6/dist-packages (from matplotlib) (1.11.0)\n",
      "Requirement already satisfied: pyparsing!=2.0.4,!=2.1.2,!=2.1.6,>=2.0.1 in /usr/local/lib/python3.6/dist-packages (from matplotlib) (2.2.0)\n",
      "Requirement already satisfied: python-dateutil>=2.1 in /usr/local/lib/python3.6/dist-packages (from matplotlib) (2.5.3)\n",
      "Requirement already satisfied: cycler>=0.10 in /usr/local/lib/python3.6/dist-packages (from matplotlib) (0.10.0)\n",
      "Requirement already satisfied: numpy>=1.7.1 in /usr/local/lib/python3.6/dist-packages (from matplotlib) (1.14.2)\n"
     ]
    }
   ],
   "source": [
    "!pip install keras\n",
    "!pip install sklearn\n",
    "!pip install matplotlib\n",
    "!pip install -U -q PyDrive"
   ]
  },
  {
   "cell_type": "code",
   "execution_count": 0,
   "metadata": {
    "colab": {
     "autoexec": {
      "startup": false,
      "wait_interval": 0
     }
    },
    "colab_type": "code",
    "id": "-uqh6o-xT1hj"
   },
   "outputs": [],
   "source": [
    "from pydrive.auth import GoogleAuth\n",
    "from pydrive.drive import GoogleDrive\n",
    "from google.colab import auth\n",
    "from google.colab import files\n",
    "from oauth2client.client import GoogleCredentials\n",
    "\n",
    "auth.authenticate_user()\n",
    "gauth = GoogleAuth()\n",
    "gauth.credentials = GoogleCredentials.get_application_default()\n",
    "drive = GoogleDrive(gauth)"
   ]
  },
  {
   "cell_type": "code",
   "execution_count": 0,
   "metadata": {
    "colab": {
     "autoexec": {
      "startup": false,
      "wait_interval": 0
     }
    },
    "colab_type": "code",
    "id": "LSkej-AdT5Vc"
   },
   "outputs": [],
   "source": [
    "file_import = drive.CreateFile({'id':'1AfKIkqPd3J9RUUuPNUtuj6E6E6Vh9QH9'})\n",
    "file_import.GetContentFile('fast_text_embeddings.npy') \n",
    "file_import = drive.CreateFile({'id':'1IBd-lqhmNqKz-G3n5naOpflq4aLAOo9z'})\n",
    "file_import.GetContentFile('sample_submission.csv') "
   ]
  },
  {
   "cell_type": "code",
   "execution_count": 0,
   "metadata": {
    "colab": {
     "autoexec": {
      "startup": false,
      "wait_interval": 0
     }
    },
    "colab_type": "code",
    "id": "zXI10zh_T8Tm"
   },
   "outputs": [],
   "source": [
    "file_import = drive.CreateFile({'id':'14BQIrJoMr15-7e1Ijn4JIRs-RP2oSBJh'})\n",
    "file_import.GetContentFile('y_train_full.npy') \n",
    "file_import = drive.CreateFile({'id':'1TmZd86YdR3_UqGLD-C2dJlca4gSHuE7m'})\n",
    "file_import.GetContentFile('y_train.npy') \n",
    "file_import = drive.CreateFile({'id':'1JhZvB2sOfcZhNcMFG6JvuJSZawHjiyAV'})\n",
    "file_import.GetContentFile('y_val.npy') \n",
    "file_import = drive.CreateFile({'id':'13pc10T15c2_fDnE2HqtAlR9FN2A5PDBD'})\n",
    "file_import.GetContentFile('y_test.npy') "
   ]
  },
  {
   "cell_type": "code",
   "execution_count": 0,
   "metadata": {
    "colab": {
     "autoexec": {
      "startup": false,
      "wait_interval": 0
     }
    },
    "colab_type": "code",
    "id": "6G4DzBqOT_yd"
   },
   "outputs": [],
   "source": [
    "file_import = drive.CreateFile({'id':'1pNFVlUX1DP_RAJVOuoC6Ep3fpZ0CV-hL'})\n",
    "file_import.GetContentFile('X_train_full.npy') \n",
    "file_import = drive.CreateFile({'id':'12d0Qjxrf3xQRyU3umap47Sg3neYPaa0f'})\n",
    "file_import.GetContentFile('X_train.npy') \n",
    "file_import = drive.CreateFile({'id':'1q0_wlpIl629IeUfH2VqiQ7UD3zAOOAs-'})\n",
    "file_import.GetContentFile('X_val.npy') \n",
    "file_import = drive.CreateFile({'id':'1a3weNKFr7XMVGOTlaen33ropvFyj4jN6'})\n",
    "file_import.GetContentFile('X_test.npy') \n",
    "file_import = drive.CreateFile({'id':'1sYvkToH21T8U8dIyO0TBhPeaKr_OkopS'})\n",
    "file_import.GetContentFile('X_submission.npy')"
   ]
  },
  {
   "cell_type": "code",
   "execution_count": 0,
   "metadata": {
    "colab": {
     "autoexec": {
      "startup": false,
      "wait_interval": 0
     }
    },
    "colab_type": "code",
    "id": "vWMCv8qtUDdY"
   },
   "outputs": [],
   "source": [
    "file_import = drive.CreateFile({'id':'1FOfcAROe481NiYkkezqlGJfadYvnPZqF'})\n",
    "file_import.GetContentFile('plot_history.py') \n",
    "file_import = drive.CreateFile({'id':'1YsDs9rt7I7bSc7UTNFZfoQZcsG66ND_r'})\n",
    "file_import.GetContentFile('roc_auc_callback.py')"
   ]
  },
  {
   "cell_type": "code",
   "execution_count": 7,
   "metadata": {
    "colab": {
     "autoexec": {
      "startup": false,
      "wait_interval": 0
     },
     "base_uri": "https://localhost:8080/",
     "height": 34
    },
    "colab_type": "code",
    "executionInfo": {
     "elapsed": 7903,
     "status": "ok",
     "timestamp": 1524933553667,
     "user": {
      "displayName": "Deep Learning",
      "photoUrl": "https://lh3.googleusercontent.com/a/default-user=s128",
      "userId": "110970714976109420834"
     },
     "user_tz": -120
    },
    "id": "o5GuQ5sOTi1h",
    "outputId": "669e138b-4b01-4f1f-eb12-c3cc743206ba"
   },
   "outputs": [
    {
     "name": "stderr",
     "output_type": "stream",
     "text": [
      "Using TensorFlow backend.\n"
     ]
    }
   ],
   "source": [
    "import numpy as np\n",
    "import os\n",
    "\n",
    "from plot_history import plot_history\n",
    "from roc_auc_callback import RocAucCallback\n",
    "\n",
    "from keras.models import Model\n",
    "from keras.layers.merge import concatenate, multiply\n",
    "from keras.layers import *\n",
    "from keras.models import Model\n",
    "from keras.initializers import Constant\n",
    "from keras.optimizers import Adam\n",
    "from keras.callbacks import ModelCheckpoint, EarlyStopping, TensorBoard, LambdaCallback, Callback, ReduceLROnPlateau"
   ]
  },
  {
   "cell_type": "code",
   "execution_count": 0,
   "metadata": {
    "colab": {
     "autoexec": {
      "startup": false,
      "wait_interval": 0
     }
    },
    "colab_type": "code",
    "id": "mo6Sm2H7QL7s"
   },
   "outputs": [],
   "source": [
    "from sklearn.metrics import roc_auc_score\n",
    "currentEpoch = 0\n",
    "\n",
    "class roc_callback(Callback):\n",
    "    def __init__(self,training_data,validation_data):\n",
    "        self.x = training_data[0]\n",
    "        self.y = training_data[1]\n",
    "        self.x_val = validation_data[0]\n",
    "        self.y_val = validation_data[1]\n",
    "\n",
    "    def on_train_begin(self, logs={}):\n",
    "        return\n",
    "\n",
    "    def on_train_end(self, logs={}):\n",
    "        return\n",
    "\n",
    "    def on_epoch_begin(self, epoch, logs={}):\n",
    "        return\n",
    "      \n",
    "    def on_epoch_end(self, epoch, logs={}):\n",
    "        global currentEpoch\n",
    "        currentEpoch = currentEpoch + 1\n",
    "        if(currentEpoch % 2 != 0):      \n",
    "            return\n",
    "          \n",
    "        y_pred = self.model.predict(self.x)\n",
    "        roc = roc_auc_score(self.y, y_pred)\n",
    "        y_pred_val = self.model.predict(self.x_val)\n",
    "        roc_val = roc_auc_score(self.y_val, y_pred_val)\n",
    "        print('\\rroc-auc: %s - roc-auc_val: %s' % (str(round(roc,4)),str(round(roc_val,4))),end=100*' '+'\\n')\n",
    "        return\n",
    "\n",
    "    def on_batch_begin(self, batch, logs={}):\n",
    "        return\n",
    "\n",
    "    def on_batch_end(self, batch, logs={}):\n",
    "        return"
   ]
  },
  {
   "cell_type": "code",
   "execution_count": 9,
   "metadata": {
    "colab": {
     "autoexec": {
      "startup": false,
      "wait_interval": 0
     },
     "base_uri": "https://localhost:8080/",
     "height": 51
    },
    "colab_type": "code",
    "executionInfo": {
     "elapsed": 848,
     "status": "ok",
     "timestamp": 1524933555285,
     "user": {
      "displayName": "Deep Learning",
      "photoUrl": "https://lh3.googleusercontent.com/a/default-user=s128",
      "userId": "110970714976109420834"
     },
     "user_tz": -120
    },
    "id": "0_1cT3pgTi1o",
    "outputId": "0947372a-4991-4a9e-9224-4938318c7d4f"
   },
   "outputs": [
    {
     "name": "stdout",
     "output_type": "stream",
     "text": [
      "(102124, 400) (25532, 400) (31915, 400)\n",
      "(102124, 6) (25532, 6) (31915, 6)\n"
     ]
    }
   ],
   "source": [
    "X_train_full = np.load('X_train_full.npy')\n",
    "X_submission = np.load('X_submission.npy')\n",
    "X_train = np.load('X_train.npy')\n",
    "X_val = np.load('X_val.npy')\n",
    "X_test = np.load('X_test.npy')\n",
    "\n",
    "y_train_full = np.load('y_train_full.npy')\n",
    "y_train = np.load('y_train.npy')\n",
    "y_val = np.load('y_val.npy')\n",
    "y_test = np.load('y_test.npy')\n",
    "\n",
    "print(X_train.shape, X_val.shape, X_test.shape)\n",
    "print(y_train.shape, y_val.shape, y_test.shape)"
   ]
  },
  {
   "cell_type": "code",
   "execution_count": 0,
   "metadata": {
    "colab": {
     "autoexec": {
      "startup": false,
      "wait_interval": 0
     }
    },
    "colab_type": "code",
    "id": "ZEqiHFc5Wn7R"
   },
   "outputs": [],
   "source": [
    "from keras.layers import *\n",
    "from keras.layers.merge import *\n",
    "from keras.models import Sequential\n",
    "import keras.initializers as initializers\n",
    "\n",
    "class SelfAttention(Layer):\n",
    "    def __init__(self, activation = 'tanh', kernel_initializer = 'glorot_uniform', **kwargs):\n",
    "        super(SelfAttention, self).__init__(**kwargs)\n",
    "        self.activation = activation\n",
    "        self.kernel_initializer = initializers.get(kernel_initializer)\n",
    "        \n",
    "    def build(self, input_shape):\n",
    "        time_steps = input_shape[1]\n",
    "        dimensions = input_shape[2]\n",
    "        \n",
    "        self.attention = Sequential(name = 'self_attention')\n",
    "        #attention matrix\n",
    "        self.attention.add(Dense(\n",
    "            dimensions, \n",
    "            activation = self.activation, \n",
    "            kernel_initializer = self.kernel_initializer,\n",
    "            input_shape=(time_steps, dimensions,)\n",
    "        ))\n",
    "        #attention vector\n",
    "        self.attention.add(Dense(1, activation = self.activation, kernel_initializer = self.kernel_initializer))\n",
    "        self.attention.add(Flatten())\n",
    "        #attention softmax\n",
    "        self.attention.add(Activation('softmax'))\n",
    "        #attention matrix\n",
    "        self.attention.add(RepeatVector(dimensions))\n",
    "        self.attention.add(Permute([2,1]))\n",
    "        \n",
    "        self.trainable_weights = self.attention.trainable_weights\n",
    "        self.non_trainable_weights= self.attention.non_trainable_weights\n",
    "        self.built = True\n",
    "        \n",
    "    def call(self, inputs):\n",
    "        attention = self.attention(inputs)\n",
    "        return Multiply()([inputs, attention])\n",
    "    \n",
    "    def compute_output_shape(self, input_shape):\n",
    "        return input_shape\n",
    "    "
   ]
  },
  {
   "cell_type": "code",
   "execution_count": 0,
   "metadata": {
    "colab": {
     "autoexec": {
      "startup": false,
      "wait_interval": 0
     }
    },
    "colab_type": "code",
    "id": "sBAI6akSXmyG"
   },
   "outputs": [],
   "source": [
    "def conv_bn(inputLayer, filtersNumber, filterSize, strides, padding):\n",
    "    conv = Conv1D(filters = filtersNumber, kernel_size = filterSize, strides = strides, padding = padding, kernel_initializer = 'he_uniform')(inputLayer)\n",
    "    return BatchNormalization()(conv)"
   ]
  },
  {
   "cell_type": "code",
   "execution_count": 0,
   "metadata": {
    "colab": {
     "autoexec": {
      "startup": false,
      "wait_interval": 0
     }
    },
    "colab_type": "code",
    "id": "0u20Mm-C3XuW"
   },
   "outputs": [],
   "source": [
    "def build_extractor(features, dropout = 0.2):\n",
    "  extractor = concatenate([MaxPooling1D()(features), AveragePooling1D()(features)])\n",
    "  extractor = conv_bn(extractor, 92, 2, 2, 'valid')\n",
    "  extractor = SpatialDropout1D(dropout)(extractor)\n",
    "  extractor = concatenate([MaxPooling1D()(features), AveragePooling1D()(features)])\n",
    "  extractor = conv_bn(extractor, 128, 2, 2, 'valid')\n",
    "  extractor = SpatialDropout1D(dropout)(extractor)\n",
    "  extractor = concatenate([GlobalMaxPooling1D()(features), GlobalAveragePooling1D()(features)])\n",
    "\n",
    "  return extractor"
   ]
  },
  {
   "cell_type": "code",
   "execution_count": 13,
   "metadata": {
    "colab": {
     "autoexec": {
      "startup": false,
      "wait_interval": 0
     },
     "base_uri": "https://localhost:8080/",
     "height": 887
    },
    "colab_type": "code",
    "executionInfo": {
     "elapsed": 3195,
     "status": "ok",
     "timestamp": 1524933560464,
     "user": {
      "displayName": "Deep Learning",
      "photoUrl": "https://lh3.googleusercontent.com/a/default-user=s128",
      "userId": "110970714976109420834"
     },
     "user_tz": -120
    },
    "id": "ZWsdeZrbTi1s",
    "outputId": "b1ceb430-ca6b-4318-e8a1-f56aeb6d2727"
   },
   "outputs": [
    {
     "name": "stdout",
     "output_type": "stream",
     "text": [
      "WARNING:tensorflow:From /usr/local/lib/python3.6/dist-packages/tensorflow/python/util/deprecation.py:497: calling conv1d (from tensorflow.python.ops.nn_ops) with data_format=NHWC is deprecated and will be removed in a future version.\n",
      "Instructions for updating:\n",
      "`NHWC` for data_format is deprecated, use `NWC` instead\n",
      "__________________________________________________________________________________________________\n",
      "Layer (type)                    Output Shape         Param #     Connected to                     \n",
      "==================================================================================================\n",
      "input_1 (InputLayer)            (None, 400)          0                                            \n",
      "__________________________________________________________________________________________________\n",
      "embedding_1 (Embedding)         (None, 400, 300)     9000000     input_1[0][0]                    \n",
      "__________________________________________________________________________________________________\n",
      "embedding_2 (Embedding)         (None, 400, 300)     9000000     input_1[0][0]                    \n",
      "__________________________________________________________________________________________________\n",
      "spatial_dropout1d_1 (SpatialDro (None, 400, 300)     0           embedding_1[0][0]                \n",
      "__________________________________________________________________________________________________\n",
      "spatial_dropout1d_2 (SpatialDro (None, 400, 300)     0           embedding_2[0][0]                \n",
      "__________________________________________________________________________________________________\n",
      "average_1 (Average)             (None, 400, 300)     0           spatial_dropout1d_1[0][0]        \n",
      "                                                                 spatial_dropout1d_2[0][0]        \n",
      "__________________________________________________________________________________________________\n",
      "bidirectional_1 (Bidirectional) (None, 400, 300)     405900      average_1[0][0]                  \n",
      "__________________________________________________________________________________________________\n",
      "self_attention_1 (SelfAttention (None, 400, 300)     90601       bidirectional_1[0][0]            \n",
      "__________________________________________________________________________________________________\n",
      "spatial_dropout1d_3 (SpatialDro (None, 400, 300)     0           self_attention_1[0][0]           \n",
      "__________________________________________________________________________________________________\n",
      "global_max_pooling1d_1 (GlobalM (None, 300)          0           spatial_dropout1d_3[0][0]        \n",
      "__________________________________________________________________________________________________\n",
      "global_average_pooling1d_1 (Glo (None, 300)          0           spatial_dropout1d_3[0][0]        \n",
      "__________________________________________________________________________________________________\n",
      "concatenate_3 (Concatenate)     (None, 600)          0           global_max_pooling1d_1[0][0]     \n",
      "                                                                 global_average_pooling1d_1[0][0] \n",
      "__________________________________________________________________________________________________\n",
      "dense_3 (Dense)                 (None, 256)          153856      concatenate_3[0][0]              \n",
      "__________________________________________________________________________________________________\n",
      "batch_normalization_3 (BatchNor (None, 256)          1024        dense_3[0][0]                    \n",
      "__________________________________________________________________________________________________\n",
      "dropout_1 (Dropout)             (None, 256)          0           batch_normalization_3[0][0]      \n",
      "__________________________________________________________________________________________________\n",
      "dense_4 (Dense)                 (None, 256)          65792       dropout_1[0][0]                  \n",
      "__________________________________________________________________________________________________\n",
      "batch_normalization_4 (BatchNor (None, 256)          1024        dense_4[0][0]                    \n",
      "__________________________________________________________________________________________________\n",
      "dropout_2 (Dropout)             (None, 256)          0           batch_normalization_4[0][0]      \n",
      "__________________________________________________________________________________________________\n",
      "dense_5 (Dense)                 (None, 6)            1542        dropout_2[0][0]                  \n",
      "==================================================================================================\n",
      "Total params: 18,719,739\n",
      "Trainable params: 9,718,715\n",
      "Non-trainable params: 9,001,024\n",
      "__________________________________________________________________________________________________\n"
     ]
    }
   ],
   "source": [
    "maxWords = 30000\n",
    "maxSequenceLengthInWords = 400\n",
    "embeddingDimension = 300\n",
    "filtersNumber = 64\n",
    "reductionFiltersNumber = 128\n",
    "\n",
    "input_layer = Input(shape=(maxSequenceLengthInWords,))\n",
    "\n",
    "embedding_main_layer = Embedding(\n",
    "    maxWords,\n",
    "    output_dim=embeddingDimension,\n",
    "    input_length=maxSequenceLengthInWords,\n",
    "    weights=[np.load('fast_text_embeddings.npy')],\n",
    "    trainable=False\n",
    ")(input_layer)\n",
    "embedding_main_layer = SpatialDropout1D(0.2)(embedding_main_layer)\n",
    "\n",
    "embedding_learnable_layer = Embedding(\n",
    "    maxWords,\n",
    "    output_dim=embeddingDimension,\n",
    "    input_length=maxSequenceLengthInWords,\n",
    "    trainable=True\n",
    ")(input_layer)\n",
    "embedding_learnable_layer = SpatialDropout1D(0.2)(embedding_learnable_layer)\n",
    "\n",
    "embedding_layer = average([embedding_main_layer, embedding_learnable_layer])\n",
    "\n",
    "recurrent = Bidirectional(GRU(150, dropout = 0.2, recurrent_dropout = 0.2, return_sequences = True))(embedding_layer)\n",
    "recurrent = SelfAttention()(recurrent)\n",
    "recurrent = SpatialDropout1D(0.2)(recurrent)\n",
    "\n",
    "features = build_extractor(recurrent)\n",
    "\n",
    "output_layer = Dense(256, activation = 'elu')(features)\n",
    "output_layer = BatchNormalization()(output_layer)\n",
    "output_layer = Dropout(0.5)(output_layer)\n",
    "output_layer = Dense(256, activation = 'elu')(output_layer)\n",
    "output_layer = BatchNormalization()(output_layer)\n",
    "output_layer = Dropout(0.5)(output_layer)\n",
    "output_layer = Dense(6, activation = 'sigmoid')(output_layer)\n",
    "\n",
    "model = Model(inputs=[input_layer], outputs=[output_layer])\n",
    "\n",
    "model.summary()\n",
    "\n",
    "model.compile(\n",
    "    loss='binary_crossentropy',\n",
    "    optimizer=Adam(),\n",
    "    metrics=['accuracy']\n",
    ")"
   ]
  },
  {
   "cell_type": "code",
   "execution_count": 0,
   "metadata": {
    "colab": {
     "autoexec": {
      "startup": false,
      "wait_interval": 0
     }
    },
    "colab_type": "code",
    "id": "Oog7YlI4Wn7i"
   },
   "outputs": [],
   "source": [
    "import math\n",
    "from keras.callbacks import LearningRateScheduler\n",
    "\n",
    "initialLr = 0.001\n",
    "dropRate = 0.15\n",
    "\n",
    "lrRates = []\n",
    "\n",
    "def step_decay(epoch):\n",
    "  lr = initialLr * math.pow(2, -dropRate * epoch)\n",
    "  lrRates.append(lr)\n",
    "  return lr\n",
    "\n",
    "lrScheduler = LearningRateScheduler(step_decay)"
   ]
  },
  {
   "cell_type": "code",
   "execution_count": 0,
   "metadata": {
    "colab": {
     "autoexec": {
      "startup": false,
      "wait_interval": 0
     },
     "base_uri": "https://localhost:8080/",
     "height": 377
    },
    "colab_type": "code",
    "id": "Y5QaAi6zWn7p",
    "outputId": "2e53d451-3db2-4849-d59f-5e0eeeeb8188"
   },
   "outputs": [
    {
     "name": "stdout",
     "output_type": "stream",
     "text": [
      "Train on 102124 samples, validate on 25532 samples\n",
      "Epoch 1/32\n",
      "102124/102124 [==============================] - 6105s 60ms/step - loss: 0.0811 - acc: 0.9740 - val_loss: 0.2172 - val_acc: 0.9146===>.] - ETA: 0s - loss: 0.0811 - acc: 0.974\n",
      "Epoch 2/32\n",
      " 10016/102124 [=>............................] - ETA: 1:26:21 - loss: 0.0550 - acc: 0.9805102112/102124 [============================>.] - ETA: 0s - loss: 0.0530 - acc: 0.9810102124/102124 [==============================] - 6110s 60ms/step - loss: 0.0530 - acc: 0.9810 - val_loss: 0.0587 - val_acc: 0.9798\n",
      "roc-auc: 0.9915 - roc-auc_val: 0.9856                                                                                                    \n",
      "Epoch 3/32\n",
      "102124/102124 [==============================] - 6227s 61ms/step - loss: 0.0471 - acc: 0.9825 - val_loss: 0.0915 - val_acc: 0.9677===>.] - ETA: 0s - loss: 0.0471 - acc: 0.982\n",
      "Epoch 4/32\n",
      " 10016/102124 [=>............................] - ETA: 1:28:00 - loss: 0.0409 - acc: 0.9844102112/102124 [============================>.] - ETA: 0s - loss: 0.0428 - acc: 0.9838102124/102124 [==============================] - 6117s 60ms/step - loss: 0.0428 - acc: 0.9838 - val_loss: 0.0449 - val_acc: 0.9835\n",
      "roc-auc: 0.9952 - roc-auc_val: 0.9851                                                                                                    \n",
      "Epoch 5/32\n",
      "102124/102124 [==============================] - 6034s 59ms/step - loss: 0.0393 - acc: 0.9851 - val_loss: 0.0458 - val_acc: 0.9836===>.] - ETA: 0s - loss: 0.0393 - acc: 0.985\n",
      "Epoch 6/32\n",
      "102124/102124 [==============================] - 6081s 60ms/step - loss: 0.0359 - acc: 0.9862 - val_loss: 0.0465 - val_acc: 0.9838===>.] - ETA: 0s - loss: 0.0359 - acc: 0.986\n",
      "\n",
      "Epoch 00006: ReduceLROnPlateau reducing learning rate to 0.00029730176902376115.\n",
      "roc-auc: 0.9966 - roc-auc_val: 0.9839                                                                                                    \n",
      "Epoch 7/32\n",
      "  5888/102124 [>.............................] - ETA: 1:31:25 - loss: 0.0290 - acc: 0.9886 25984/102124 [======>.......................] - ETA: 1:12:06 - loss: 0.0317 - acc: 0.9879"
     ]
    }
   ],
   "source": [
    "earlyStopping = EarlyStopping(\n",
    "    monitor='val_loss',\n",
    "    min_delta=0,\n",
    "    patience=10,\n",
    "    verbose=0, \n",
    "    mode='auto'\n",
    ")\n",
    "rocAuc = roc_callback(training_data=(X_train, y_train), validation_data=(X_val, y_val))\n",
    "reduceLr = ReduceLROnPlateau(monitor='val_loss', factor=0.5, patience=2, verbose=1, cooldown = 10, mode='auto')\n",
    "\n",
    "history = model.fit(\n",
    "    X_train, \n",
    "    y_train,\n",
    "    batch_size=32, \n",
    "    epochs=32, \n",
    "    validation_data=(X_val, y_val), \n",
    "    callbacks=[lrScheduler, reduceLr, earlyStopping, rocAuc]\n",
    ")"
   ]
  },
  {
   "cell_type": "code",
   "execution_count": 0,
   "metadata": {
    "colab": {
     "autoexec": {
      "startup": false,
      "wait_interval": 0
     }
    },
    "colab_type": "code",
    "id": "-wiFx96TWn7u"
   },
   "outputs": [],
   "source": [
    "plot_history(history)"
   ]
  }
 ],
 "metadata": {
  "accelerator": "GPU",
  "colab": {
   "collapsed_sections": [],
   "default_view": {},
   "name": "gru-embedding-add.ipynb",
   "provenance": [],
   "version": "0.3.2",
   "views": {}
  },
  "kernelspec": {
   "display_name": "Python 3",
   "language": "python",
   "name": "python3"
  },
  "language_info": {
   "codemirror_mode": {
    "name": "ipython",
    "version": 3
   },
   "file_extension": ".py",
   "mimetype": "text/x-python",
   "name": "python",
   "nbconvert_exporter": "python",
   "pygments_lexer": "ipython3",
   "version": "3.6.2"
  }
 },
 "nbformat": 4,
 "nbformat_minor": 1
}

{
  "nbformat": 4,
  "nbformat_minor": 0,
  "metadata": {
    "colab": {
      "name": "pooled_bidirectional_lstm_64.ipynb",
      "version": "0.3.2",
      "views": {},
      "default_view": {},
      "provenance": [],
      "collapsed_sections": []
    },
    "kernelspec": {
      "display_name": "Python 3",
      "language": "python",
      "name": "python3"
    },
    "accelerator": "GPU"
  },
  "cells": [
    {
      "metadata": {
        "id": "yS1FnhiWX3Js",
        "colab_type": "code",
        "colab": {
          "autoexec": {
            "startup": false,
            "wait_interval": 0
          },
          "base_uri": "https://localhost:8080/",
          "height": 419
        },
        "outputId": "59e84143-1f76-479b-9764-ba67242547ef",
        "executionInfo": {
          "status": "ok",
          "timestamp": 1532787880091,
          "user_tz": -120,
          "elapsed": 10948,
          "user": {
            "displayName": "Deep Learner",
            "photoUrl": "https://lh3.googleusercontent.com/a/default-user=s128",
            "userId": "102934620980301123540"
          }
        }
      },
      "cell_type": "code",
      "source": [
        "!pip install keras\n",
        "!pip install sklearn\n",
        "!pip install matplotlib\n",
        "!pip install -U -q PyDrive"
      ],
      "execution_count": 1,
      "outputs": [
        {
          "output_type": "stream",
          "text": [
            "Requirement already satisfied: keras in /usr/local/lib/python3.6/dist-packages (2.1.6)\r\n",
            "Requirement already satisfied: pyyaml in /usr/local/lib/python3.6/dist-packages (from keras) (3.13)\r\n",
            "Requirement already satisfied: h5py in /usr/local/lib/python3.6/dist-packages (from keras) (2.8.0)\r\n",
            "Requirement already satisfied: six>=1.9.0 in /usr/local/lib/python3.6/dist-packages (from keras) (1.11.0)\r\n",
            "Requirement already satisfied: scipy>=0.14 in /usr/local/lib/python3.6/dist-packages (from keras) (0.19.1)\r\n",
            "Requirement already satisfied: numpy>=1.9.1 in /usr/local/lib/python3.6/dist-packages (from keras) (1.14.5)\n",
            "Collecting sklearn\n",
            "  Downloading https://files.pythonhosted.org/packages/1e/7a/dbb3be0ce9bd5c8b7e3d87328e79063f8b263b2b1bfa4774cb1147bfcd3f/sklearn-0.0.tar.gz\n",
            "Requirement already satisfied: scikit-learn in /usr/local/lib/python3.6/dist-packages (from sklearn) (0.19.2)\n",
            "Building wheels for collected packages: sklearn\n",
            "  Running setup.py bdist_wheel for sklearn ... \u001b[?25l-\b \bdone\n",
            "\u001b[?25h  Stored in directory: /content/.cache/pip/wheels/76/03/bb/589d421d27431bcd2c6da284d5f2286c8e3b2ea3cf1594c074\n",
            "Successfully built sklearn\n",
            "Installing collected packages: sklearn\n",
            "Successfully installed sklearn-0.0\n",
            "Requirement already satisfied: matplotlib in /usr/local/lib/python3.6/dist-packages (2.1.2)\n",
            "Requirement already satisfied: numpy>=1.7.1 in /usr/local/lib/python3.6/dist-packages (from matplotlib) (1.14.5)\n",
            "Requirement already satisfied: pytz in /usr/local/lib/python3.6/dist-packages (from matplotlib) (2018.5)\n",
            "Requirement already satisfied: python-dateutil>=2.1 in /usr/local/lib/python3.6/dist-packages (from matplotlib) (2.5.3)\n",
            "Requirement already satisfied: six>=1.10 in /usr/local/lib/python3.6/dist-packages (from matplotlib) (1.11.0)\n",
            "Requirement already satisfied: pyparsing!=2.0.4,!=2.1.2,!=2.1.6,>=2.0.1 in /usr/local/lib/python3.6/dist-packages (from matplotlib) (2.2.0)\n",
            "Requirement already satisfied: cycler>=0.10 in /usr/local/lib/python3.6/dist-packages (from matplotlib) (0.10.0)\n"
          ],
          "name": "stdout"
        }
      ]
    },
    {
      "metadata": {
        "id": "xlKzkDJFrjA-",
        "colab_type": "code",
        "colab": {
          "autoexec": {
            "startup": false,
            "wait_interval": 0
          },
          "base_uri": "https://localhost:8080/",
          "height": 35
        },
        "outputId": "9a3886a4-6013-45f4-a362-586bf1b0c4f7",
        "executionInfo": {
          "status": "ok",
          "timestamp": 1532787888659,
          "user_tz": -120,
          "elapsed": 8526,
          "user": {
            "displayName": "Deep Learner",
            "photoUrl": "https://lh3.googleusercontent.com/a/default-user=s128",
            "userId": "102934620980301123540"
          }
        }
      },
      "cell_type": "code",
      "source": [
        "from keras import backend as K\n",
        "K.clear_session()"
      ],
      "execution_count": 2,
      "outputs": [
        {
          "output_type": "stream",
          "text": [
            "Using TensorFlow backend.\n"
          ],
          "name": "stderr"
        }
      ]
    },
    {
      "metadata": {
        "id": "eQEKwl4oAxO7",
        "colab_type": "code",
        "colab": {
          "autoexec": {
            "startup": false,
            "wait_interval": 0
          }
        }
      },
      "cell_type": "code",
      "source": [
        "from keras import backend as K\n",
        "cfg = K.tf.ConfigProto()\n",
        "cfg.gpu_options.allow_growth = True\n",
        "K.set_session(K.tf.Session(config=cfg))"
      ],
      "execution_count": 0,
      "outputs": []
    },
    {
      "metadata": {
        "id": "12M0egCCX-27",
        "colab_type": "code",
        "colab": {
          "autoexec": {
            "startup": false,
            "wait_interval": 0
          }
        }
      },
      "cell_type": "code",
      "source": [
        "from pydrive.auth import GoogleAuth\n",
        "from pydrive.drive import GoogleDrive\n",
        "from google.colab import auth\n",
        "from oauth2client.client import GoogleCredentials\n",
        "\n",
        "auth.authenticate_user()\n",
        "gauth = GoogleAuth()\n",
        "gauth.credentials = GoogleCredentials.get_application_default()\n",
        "drive = GoogleDrive(gauth)"
      ],
      "execution_count": 0,
      "outputs": []
    },
    {
      "metadata": {
        "id": "4lN2WTUEYBYv",
        "colab_type": "code",
        "colab": {
          "autoexec": {
            "startup": false,
            "wait_interval": 0
          }
        }
      },
      "cell_type": "code",
      "source": [
        "file_import = drive.CreateFile({'id':'1p1bsltfTcIrZ_kfE6kwGTPzcdXorHbb2'})\n",
        "file_import.GetContentFile('colab_setup.py') \n",
        "from colab_setup import setup\n",
        "\n",
        "setup(drive)"
      ],
      "execution_count": 0,
      "outputs": []
    },
    {
      "metadata": {
        "id": "cHBlD0tVj2TY",
        "colab_type": "code",
        "colab": {
          "autoexec": {
            "startup": false,
            "wait_interval": 0
          },
          "base_uri": "https://localhost:8080/",
          "height": 121
        },
        "outputId": "0d7be22b-9004-405e-a18a-62c88afa8012",
        "executionInfo": {
          "status": "ok",
          "timestamp": 1532787926236,
          "user_tz": -120,
          "elapsed": 1775,
          "user": {
            "displayName": "Deep Learner",
            "photoUrl": "https://lh3.googleusercontent.com/a/default-user=s128",
            "userId": "102934620980301123540"
          }
        }
      },
      "cell_type": "code",
      "source": [
        "!ls"
      ],
      "execution_count": 6,
      "outputs": [
        {
          "output_type": "stream",
          "text": [
            "colab_setup.py\t\t\t roc_auc_callback.py\tX_train.npy\r\n",
            "custom_fast_text_embeddings.npy  sample_submission.csv\tX_val.npy\r\n",
            "datalab\t\t\t\t train_model.py\t\ty_test.npy\r\n",
            "fast_text_embeddings.npy\t X_submission.npy\ty_train_full.npy\r\n",
            "plot_history.py\t\t\t X_test.npy\t\ty_train.npy\r\n",
            "__pycache__\t\t\t X_train_full.npy\ty_val.npy\r\n"
          ],
          "name": "stdout"
        }
      ]
    },
    {
      "metadata": {
        "id": "yMwWPTMYXyno",
        "colab_type": "code",
        "colab": {
          "autoexec": {
            "startup": false,
            "wait_interval": 0
          }
        }
      },
      "cell_type": "code",
      "source": [
        "import numpy as np\n",
        "import os\n",
        "\n",
        "from plot_history import plot_history\n",
        "from roc_auc_callback import RocAucCallback\n",
        "from train_model import train_with_cv, train_with_submitting, evaluate_on_test"
      ],
      "execution_count": 0,
      "outputs": []
    },
    {
      "metadata": {
        "id": "irwBTJdINU0J",
        "colab_type": "code",
        "colab": {
          "autoexec": {
            "startup": false,
            "wait_interval": 0
          }
        }
      },
      "cell_type": "code",
      "source": [
        "from keras.models import Model\n",
        "from keras.layers import *\n",
        "from keras.activations import *"
      ],
      "execution_count": 0,
      "outputs": []
    },
    {
      "metadata": {
        "id": "sD9D5r9-Sdg7",
        "colab_type": "code",
        "colab": {
          "autoexec": {
            "startup": false,
            "wait_interval": 0
          }
        }
      },
      "cell_type": "code",
      "source": [
        "def get_lstm_last_step(lstm_sequences):\n",
        "    return Lambda(lambda sequence: sequence[:, -1, :])(lstm_sequences)\n",
        "\n",
        "def classification_block(input_layer, dropout_rate=0.2):\n",
        "    model = Dense(256, activation='linear',\n",
        "                  kernel_initializer='he_normal')(input_layer)\n",
        "    model = BatchNormalization()(model)\n",
        "    model = ELU()(model)\n",
        "    model = Dropout(dropout_rate)(model)\n",
        "\n",
        "    model = Dense(256, activation='linear',\n",
        "                  kernel_initializer='he_normal')(model)\n",
        "    model = BatchNormalization()(model)\n",
        "    model = ELU()(model)\n",
        "    model = Dropout(dropout_rate)(model)\n",
        "\n",
        "    return Dense(6, activation='sigmoid', kernel_initializer='glorot_normal')(model)"
      ],
      "execution_count": 0,
      "outputs": []
    },
    {
      "metadata": {
        "id": "xOfIVhpoSdpQ",
        "colab_type": "code",
        "colab": {
          "autoexec": {
            "startup": false,
            "wait_interval": 0
          }
        }
      },
      "cell_type": "code",
      "source": [
        "max_words = 30000\n",
        "max_words_length = 400\n",
        "embedding_dimension = 300\n",
        "\n",
        "lstm_options = {\n",
        "    'units': 64,\n",
        "    'dropout': 0.2,\n",
        "    'recurrent_dropout': 0.2,\n",
        "    'return_sequences': True\n",
        "}"
      ],
      "execution_count": 0,
      "outputs": []
    },
    {
      "metadata": {
        "id": "LTFG7OgsXynw",
        "colab_type": "code",
        "colab": {
          "autoexec": {
            "startup": false,
            "wait_interval": 0
          },
          "base_uri": "https://localhost:8080/",
          "height": 953
        },
        "outputId": "c989fc20-9db0-448d-d034-fd2284501302",
        "executionInfo": {
          "status": "ok",
          "timestamp": 1532787932376,
          "user_tz": -120,
          "elapsed": 2368,
          "user": {
            "displayName": "Deep Learner",
            "photoUrl": "https://lh3.googleusercontent.com/a/default-user=s128",
            "userId": "102934620980301123540"
          }
        }
      },
      "cell_type": "code",
      "source": [
        "input_layer = Input(shape=(max_words_length,))\n",
        "\n",
        "pretrained_embedding_layer = Embedding(\n",
        "    max_words,\n",
        "    output_dim=embedding_dimension,\n",
        "    input_length=max_words_length,\n",
        "    weights=[np.load('fast_text_embeddings.npy')],\n",
        "    trainable=False\n",
        ")(input_layer)\n",
        "pretrained_embedding_layer = SpatialDropout1D(0.2)(pretrained_embedding_layer)\n",
        "\n",
        "custom_embedding_layer = Embedding(\n",
        "    max_words,\n",
        "    output_dim=embedding_dimension,\n",
        "    input_length=max_words_length,\n",
        "    weights=[np.load('custom_fast_text_embeddings.npy')],\n",
        "    trainable=False\n",
        ")(input_layer)\n",
        "custom_embedding_layer = SpatialDropout1D(0.2)(custom_embedding_layer)\n",
        "\n",
        "averaged_embedding_layer = Average()(\n",
        "    [pretrained_embedding_layer, custom_embedding_layer])\n",
        "averaged_embedding_layer = SpatialDropout1D(0.2)(averaged_embedding_layer)\n",
        "\n",
        "lstm = Bidirectional(\n",
        "  LSTM(\n",
        "    units=lstm_options['units'],\n",
        "    dropout=lstm_options['dropout'],\n",
        "    recurrent_dropout=lstm_options['recurrent_dropout'],\n",
        "    return_sequences=lstm_options['return_sequences']\n",
        "  )\n",
        ")(averaged_embedding_layer)\n",
        "\n",
        "pooled_features = concatenate([\n",
        "    GlobalMaxPooling1D()(lstm),\n",
        "    GlobalAveragePooling1D()(lstm),\n",
        "    get_lstm_last_step(lstm)\n",
        "])\n",
        "\n",
        "pooled_features = Dropout(0.2)(pooled_features)\n",
        "\n",
        "output_layer = classification_block(pooled_features, dropout_rate=0.2)\n",
        "\n",
        "model = Model(inputs=input_layer, outputs=output_layer)\n",
        "\n",
        "model.compile(loss='binary_crossentropy', \n",
        "            optimizer='Adam',\n",
        "            metrics=['accuracy'])          \n",
        "\n",
        "model.summary()"
      ],
      "execution_count": 11,
      "outputs": [
        {
          "output_type": "stream",
          "text": [
            "__________________________________________________________________________________________________\n",
            "Layer (type)                    Output Shape         Param #     Connected to                     \n",
            "==================================================================================================\n",
            "input_1 (InputLayer)            (None, 400)          0                                            \n",
            "__________________________________________________________________________________________________\n",
            "embedding_1 (Embedding)         (None, 400, 300)     9000000     input_1[0][0]                    \n",
            "__________________________________________________________________________________________________\n",
            "embedding_2 (Embedding)         (None, 400, 300)     9000000     input_1[0][0]                    \n",
            "__________________________________________________________________________________________________\n",
            "spatial_dropout1d_1 (SpatialDro (None, 400, 300)     0           embedding_1[0][0]                \n",
            "__________________________________________________________________________________________________\n",
            "spatial_dropout1d_2 (SpatialDro (None, 400, 300)     0           embedding_2[0][0]                \n",
            "__________________________________________________________________________________________________\n",
            "average_1 (Average)             (None, 400, 300)     0           spatial_dropout1d_1[0][0]        \n",
            "                                                                 spatial_dropout1d_2[0][0]        \n",
            "__________________________________________________________________________________________________\n",
            "spatial_dropout1d_3 (SpatialDro (None, 400, 300)     0           average_1[0][0]                  \n",
            "__________________________________________________________________________________________________\n",
            "bidirectional_1 (Bidirectional) (None, 400, 128)     186880      spatial_dropout1d_3[0][0]        \n",
            "__________________________________________________________________________________________________\n",
            "global_max_pooling1d_1 (GlobalM (None, 128)          0           bidirectional_1[0][0]            \n",
            "__________________________________________________________________________________________________\n",
            "global_average_pooling1d_1 (Glo (None, 128)          0           bidirectional_1[0][0]            \n",
            "__________________________________________________________________________________________________\n",
            "lambda_1 (Lambda)               (None, 128)          0           bidirectional_1[0][0]            \n",
            "__________________________________________________________________________________________________\n",
            "concatenate_1 (Concatenate)     (None, 384)          0           global_max_pooling1d_1[0][0]     \n",
            "                                                                 global_average_pooling1d_1[0][0] \n",
            "                                                                 lambda_1[0][0]                   \n",
            "__________________________________________________________________________________________________\n",
            "dropout_1 (Dropout)             (None, 384)          0           concatenate_1[0][0]              \n",
            "__________________________________________________________________________________________________\n",
            "dense_1 (Dense)                 (None, 256)          98560       dropout_1[0][0]                  \n",
            "__________________________________________________________________________________________________\n",
            "batch_normalization_1 (BatchNor (None, 256)          1024        dense_1[0][0]                    \n",
            "__________________________________________________________________________________________________\n",
            "elu_1 (ELU)                     (None, 256)          0           batch_normalization_1[0][0]      \n",
            "__________________________________________________________________________________________________\n",
            "dropout_2 (Dropout)             (None, 256)          0           elu_1[0][0]                      \n",
            "__________________________________________________________________________________________________\n",
            "dense_2 (Dense)                 (None, 256)          65792       dropout_2[0][0]                  \n",
            "__________________________________________________________________________________________________\n",
            "batch_normalization_2 (BatchNor (None, 256)          1024        dense_2[0][0]                    \n",
            "__________________________________________________________________________________________________\n",
            "elu_2 (ELU)                     (None, 256)          0           batch_normalization_2[0][0]      \n",
            "__________________________________________________________________________________________________\n",
            "dropout_3 (Dropout)             (None, 256)          0           elu_2[0][0]                      \n",
            "__________________________________________________________________________________________________\n",
            "dense_3 (Dense)                 (None, 6)            1542        dropout_3[0][0]                  \n",
            "==================================================================================================\n",
            "Total params: 18,354,822\n",
            "Trainable params: 353,798\n",
            "Non-trainable params: 18,001,024\n",
            "__________________________________________________________________________________________________\n"
          ],
          "name": "stdout"
        }
      ]
    },
    {
      "metadata": {
        "id": "xwMmTewgXynz",
        "colab_type": "code",
        "colab": {
          "autoexec": {
            "startup": false,
            "wait_interval": 0
          },
          "base_uri": "https://localhost:8080/",
          "height": 297
        },
        "outputId": "13223d92-d5e3-47ca-8880-ac056b479643"
      },
      "cell_type": "code",
      "source": [
        "history = train_with_cv(model, batchSize=32, rocEvery = 2)"
      ],
      "execution_count": 0,
      "outputs": [
        {
          "output_type": "stream",
          "text": [
            "Train on 102124 samples, validate on 25532 samples\n",
            "Epoch 1/32\n",
            " 21024/102124 [=====>........................] - ETA: 1:21:31 - loss: 0.1189 - acc: 0.9606"
          ],
          "name": "stdout"
        },
        {
          "output_type": "stream",
          "text": [
            "102112/102124 [============================>.] - ETA: 0s - loss: 0.0742 - acc: 0.9745"
          ],
          "name": "stdout"
        },
        {
          "output_type": "stream",
          "text": [
            "\b\b\b\b\b\b\b\b\b\b\b\b\b\b\b\b\b\b\b\b\b\b\b\b\b\b\b\b\b\b\b\b\b\b\b\b\b\b\b\b\b\b\b\b\b\b\b\b\b\b\b\b\b\b\b\b\b\b\b\b\b\b\b\b\b\b\b\b\b\b\b\b\b\b\b\b\b\b\b\b\b\b\b\b\b\r102124/102124 [==============================] - 6566s 64ms/step - loss: 0.0742 - acc: 0.9745 - val_loss: 0.0501 - val_acc: 0.9803\n",
            "Epoch 2/32\n",
            " 10016/102124 [=>............................] - ETA: 1:32:28 - loss: 0.0572 - acc: 0.9795"
          ],
          "name": "stdout"
        },
        {
          "output_type": "stream",
          "text": [
            "102112/102124 [============================>.] - ETA: 0s - loss: 0.0539 - acc: 0.9801"
          ],
          "name": "stdout"
        },
        {
          "output_type": "stream",
          "text": [
            "102124/102124 [==============================] - 6538s 64ms/step - loss: 0.0539 - acc: 0.9801 - val_loss: 0.0438 - val_acc: 0.9832\n",
            "roc-auc: 0.986 - roc-auc_val: 0.9829                                                                                                    \n",
            "Epoch 3/32\n",
            "  8608/102124 [=>............................] - ETA: 1:34:09 - loss: 0.0501 - acc: 0.9817"
          ],
          "name": "stdout"
        },
        {
          "output_type": "stream",
          "text": [
            "102112/102124 [============================>.] - ETA: 0s - loss: 0.0504 - acc: 0.9812"
          ],
          "name": "stdout"
        },
        {
          "output_type": "stream",
          "text": [
            "\b\b\b\b\b\b\b\b\b\b\b\b\b\b\b\b\b\b\b\b\b\b\b\b\b\b\b\b\b\b\b\b\b\b\b\b\b\b\b\b\b\b\b\b\b\b\b\b\b\b\b\b\b\b\b\b\b\b\b\b\b\b\b\b\b\b\b\b\b\b\b\b\b\b\b\b\b\b\b\b\b\b\b\b\b\r102124/102124 [==============================] - 6578s 64ms/step - loss: 0.0504 - acc: 0.9812 - val_loss: 0.0430 - val_acc: 0.9832\n",
            "Epoch 4/32\n",
            " 10016/102124 [=>............................] - ETA: 1:33:09 - loss: 0.0501 - acc: 0.9813"
          ],
          "name": "stdout"
        },
        {
          "output_type": "stream",
          "text": [
            "102112/102124 [============================>.] - ETA: 0s - loss: 0.0477 - acc: 0.9818"
          ],
          "name": "stdout"
        },
        {
          "output_type": "stream",
          "text": [
            "102124/102124 [==============================] - 6564s 64ms/step - loss: 0.0477 - acc: 0.9818 - val_loss: 0.0405 - val_acc: 0.9843\n",
            "roc-auc: 0.9906 - roc-auc_val: 0.9874                                                                                                    \n",
            "Epoch 5/32\n",
            "  8576/102124 [=>............................] - ETA: 1:34:32 - loss: 0.0468 - acc: 0.9821"
          ],
          "name": "stdout"
        },
        {
          "output_type": "stream",
          "text": [
            "102112/102124 [============================>.] - ETA: 0s - loss: 0.0465 - acc: 0.9823"
          ],
          "name": "stdout"
        },
        {
          "output_type": "stream",
          "text": [
            "\b\b\b\b\b\b\b\b\b\b\b\b\b\b\b\b\b\b\b\b\b\b\b\b\b\b\b\b\b\b\b\b\b\b\b\b\b\b\b\b\b\b\b\b\b\b\b\b\b\b\b\b\b\b\b\b\b\b\b\b\b\b\b\b\b\b\b\b\b\b\b\b\b\b\b\b\b\b\b\b\b\b\b\b\b\r102124/102124 [==============================] - 6684s 65ms/step - loss: 0.0465 - acc: 0.9823 - val_loss: 0.0413 - val_acc: 0.9839\n",
            "Epoch 6/32\n",
            "  9184/102124 [=>............................] - ETA: 1:36:04 - loss: 0.0436 - acc: 0.9829"
          ],
          "name": "stdout"
        }
      ]
    },
    {
      "metadata": {
        "id": "izWCJ3HMReV3",
        "colab_type": "code",
        "colab": {
          "autoexec": {
            "startup": false,
            "wait_interval": 0
          }
        }
      },
      "cell_type": "code",
      "source": [
        "plot_history(history)"
      ],
      "execution_count": 0,
      "outputs": []
    },
    {
      "metadata": {
        "id": "r2gtMBj2Tp9A",
        "colab_type": "code",
        "colab": {
          "autoexec": {
            "startup": false,
            "wait_interval": 0
          },
          "base_uri": "https://localhost:8080/",
          "height": 51
        },
        "outputId": "34f1ebbe-a14c-48bf-e422-4b62ef5ceccb",
        "executionInfo": {
          "status": "ok",
          "timestamp": 1532529298783,
          "user_tz": -120,
          "elapsed": 105998,
          "user": {
            "displayName": "Deep Learning",
            "photoUrl": "https://lh3.googleusercontent.com/a/default-user=s128",
            "userId": "115257841230779963257"
          }
        }
      },
      "cell_type": "code",
      "source": [
        "print(evaluate_on_test(model))"
      ],
      "execution_count": 0,
      "outputs": [
        {
          "output_type": "stream",
          "text": [
            "31915/31915 [==============================] - 55s 2ms/step\n",
            "([0.04415003761226586, 0.9841088184271228], 0.9844031395273372)\n"
          ],
          "name": "stdout"
        }
      ]
    }
  ]
}
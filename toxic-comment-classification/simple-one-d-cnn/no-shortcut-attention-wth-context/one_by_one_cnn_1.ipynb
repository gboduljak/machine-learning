{
  "nbformat": 4,
  "nbformat_minor": 0,
  "metadata": {
    "colab": {
      "name": "one-by-one-cnn-1.1.ipynb",
      "version": "0.3.2",
      "views": {},
      "default_view": {},
      "provenance": [],
      "collapsed_sections": []
    },
    "kernelspec": {
      "display_name": "Python 3",
      "language": "python",
      "name": "python3"
    },
    "accelerator": "GPU"
  },
  "cells": [
    {
      "metadata": {
        "id": "yS1FnhiWX3Js",
        "colab_type": "code",
        "colab": {
          "autoexec": {
            "startup": false,
            "wait_interval": 0
          },
          "base_uri": "https://localhost:8080/",
          "height": 391
        },
        "outputId": "1bca6cc3-2761-4031-a3f3-43e807594215",
        "executionInfo": {
          "status": "ok",
          "timestamp": 1526501785744,
          "user_tz": -120,
          "elapsed": 11297,
          "user": {
            "displayName": "Gabrijel Boduljak",
            "photoUrl": "//lh5.googleusercontent.com/-PD9SrWcnqqA/AAAAAAAAAAI/AAAAAAAAAog/cQI0fcnyp_g/s50-c-k-no/photo.jpg",
            "userId": "107143472008987249570"
          }
        }
      },
      "cell_type": "code",
      "source": [
        "!pip install keras\n",
        "!pip install sklearn\n",
        "!pip install matplotlib\n",
        "!pip install -U -q PyDrive"
      ],
      "execution_count": 1,
      "outputs": [
        {
          "output_type": "stream",
          "text": [
            "Requirement already satisfied: keras in /usr/local/lib/python3.6/dist-packages (2.1.6)\r\n",
            "Requirement already satisfied: scipy>=0.14 in /usr/local/lib/python3.6/dist-packages (from keras) (0.19.1)\r\n",
            "Requirement already satisfied: h5py in /usr/local/lib/python3.6/dist-packages (from keras) (2.7.1)\r\n",
            "Requirement already satisfied: numpy>=1.9.1 in /usr/local/lib/python3.6/dist-packages (from keras) (1.14.3)\n",
            "Requirement already satisfied: six>=1.9.0 in /usr/local/lib/python3.6/dist-packages (from keras) (1.11.0)\n",
            "Requirement already satisfied: pyyaml in /usr/local/lib/python3.6/dist-packages (from keras) (3.12)\n",
            "Collecting sklearn\n",
            "  Downloading https://files.pythonhosted.org/packages/1e/7a/dbb3be0ce9bd5c8b7e3d87328e79063f8b263b2b1bfa4774cb1147bfcd3f/sklearn-0.0.tar.gz\n",
            "Requirement already satisfied: scikit-learn in /usr/local/lib/python3.6/dist-packages (from sklearn) (0.19.1)\n",
            "Building wheels for collected packages: sklearn\n",
            "  Running setup.py bdist_wheel for sklearn ... \u001b[?25l-\b \bdone\n",
            "\u001b[?25h  Stored in directory: /content/.cache/pip/wheels/76/03/bb/589d421d27431bcd2c6da284d5f2286c8e3b2ea3cf1594c074\n",
            "Successfully built sklearn\n",
            "Installing collected packages: sklearn\n",
            "Successfully installed sklearn-0.0\n",
            "Requirement already satisfied: matplotlib in /usr/local/lib/python3.6/dist-packages (2.1.2)\n",
            "Requirement already satisfied: six>=1.10 in /usr/local/lib/python3.6/dist-packages (from matplotlib) (1.11.0)\n",
            "Requirement already satisfied: pyparsing!=2.0.4,!=2.1.2,!=2.1.6,>=2.0.1 in /usr/local/lib/python3.6/dist-packages (from matplotlib) (2.2.0)\n",
            "Requirement already satisfied: cycler>=0.10 in /usr/local/lib/python3.6/dist-packages (from matplotlib) (0.10.0)\n",
            "Requirement already satisfied: pytz in /usr/local/lib/python3.6/dist-packages (from matplotlib) (2018.4)\n",
            "Requirement already satisfied: python-dateutil>=2.1 in /usr/local/lib/python3.6/dist-packages (from matplotlib) (2.5.3)\n",
            "Requirement already satisfied: numpy>=1.7.1 in /usr/local/lib/python3.6/dist-packages (from matplotlib) (1.14.3)\n"
          ],
          "name": "stdout"
        }
      ]
    },
    {
      "metadata": {
        "id": "xlKzkDJFrjA-",
        "colab_type": "code",
        "colab": {
          "autoexec": {
            "startup": false,
            "wait_interval": 0
          },
          "base_uri": "https://localhost:8080/",
          "height": 34
        },
        "outputId": "859386e8-7690-4a69-9a58-3ba891859bcb",
        "executionInfo": {
          "status": "ok",
          "timestamp": 1526501793636,
          "user_tz": -120,
          "elapsed": 7855,
          "user": {
            "displayName": "Gabrijel Boduljak",
            "photoUrl": "//lh5.googleusercontent.com/-PD9SrWcnqqA/AAAAAAAAAAI/AAAAAAAAAog/cQI0fcnyp_g/s50-c-k-no/photo.jpg",
            "userId": "107143472008987249570"
          }
        }
      },
      "cell_type": "code",
      "source": [
        "from keras import backend as K\n",
        "K.clear_session()"
      ],
      "execution_count": 2,
      "outputs": [
        {
          "output_type": "stream",
          "text": [
            "Using TensorFlow backend.\n"
          ],
          "name": "stderr"
        }
      ]
    },
    {
      "metadata": {
        "id": "eQEKwl4oAxO7",
        "colab_type": "code",
        "colab": {
          "autoexec": {
            "startup": false,
            "wait_interval": 0
          }
        }
      },
      "cell_type": "code",
      "source": [
        "from keras import backend as K\n",
        "cfg = K.tf.ConfigProto()\n",
        "cfg.gpu_options.allow_growth = True\n",
        "K.set_session(K.tf.Session(config=cfg))"
      ],
      "execution_count": 0,
      "outputs": []
    },
    {
      "metadata": {
        "id": "12M0egCCX-27",
        "colab_type": "code",
        "colab": {
          "autoexec": {
            "startup": false,
            "wait_interval": 0
          }
        }
      },
      "cell_type": "code",
      "source": [
        "from pydrive.auth import GoogleAuth\n",
        "from pydrive.drive import GoogleDrive\n",
        "from google.colab import auth\n",
        "from oauth2client.client import GoogleCredentials\n",
        "\n",
        "auth.authenticate_user()\n",
        "gauth = GoogleAuth()\n",
        "gauth.credentials = GoogleCredentials.get_application_default()\n",
        "drive = GoogleDrive(gauth)"
      ],
      "execution_count": 0,
      "outputs": []
    },
    {
      "metadata": {
        "id": "4lN2WTUEYBYv",
        "colab_type": "code",
        "colab": {
          "autoexec": {
            "startup": false,
            "wait_interval": 0
          }
        }
      },
      "cell_type": "code",
      "source": [
        "file_import = drive.CreateFile({'id':'1p1bsltfTcIrZ_kfE6kwGTPzcdXorHbb2'})\n",
        "file_import.GetContentFile('colab_setup.py') \n",
        "from colab_setup import setup\n",
        "\n",
        "setup(drive)"
      ],
      "execution_count": 0,
      "outputs": []
    },
    {
      "metadata": {
        "id": "cHBlD0tVj2TY",
        "colab_type": "code",
        "colab": {
          "autoexec": {
            "startup": false,
            "wait_interval": 0
          },
          "base_uri": "https://localhost:8080/",
          "height": 119
        },
        "outputId": "95c442b5-3526-42bd-85c9-df609e29f7e0",
        "executionInfo": {
          "status": "ok",
          "timestamp": 1526501835565,
          "user_tz": -120,
          "elapsed": 2478,
          "user": {
            "displayName": "Gabrijel Boduljak",
            "photoUrl": "//lh5.googleusercontent.com/-PD9SrWcnqqA/AAAAAAAAAAI/AAAAAAAAAog/cQI0fcnyp_g/s50-c-k-no/photo.jpg",
            "userId": "107143472008987249570"
          }
        }
      },
      "cell_type": "code",
      "source": [
        "!ls"
      ],
      "execution_count": 6,
      "outputs": [
        {
          "output_type": "stream",
          "text": [
            "colab_setup.py\t\t\t roc_auc_callback.py\tX_train.npy\r\n",
            "custom_fast_text_embeddings.npy  sample_submission.csv\tX_val.npy\r\n",
            "datalab\t\t\t\t train_model.py\t\ty_test.npy\r\n",
            "fast_text_embeddings.npy\t X_submission.npy\ty_train_full.npy\r\n",
            "plot_history.py\t\t\t X_test.npy\t\ty_train.npy\r\n",
            "__pycache__\t\t\t X_train_full.npy\ty_val.npy\r\n"
          ],
          "name": "stdout"
        }
      ]
    },
    {
      "metadata": {
        "id": "yMwWPTMYXyno",
        "colab_type": "code",
        "colab": {
          "autoexec": {
            "startup": false,
            "wait_interval": 0
          }
        }
      },
      "cell_type": "code",
      "source": [
        "import numpy as np\n",
        "import os\n",
        "\n",
        "from plot_history import plot_history\n",
        "from roc_auc_callback import RocAucCallback\n",
        "from train_model import train_with_cv, train_with_submitting, evaluate_on_test\n",
        "\n",
        "from keras.models import Model\n",
        "from keras.layers import *\n",
        "from keras.layers.merge import concatenate"
      ],
      "execution_count": 0,
      "outputs": []
    },
    {
      "metadata": {
        "id": "1_4zSlGRl8P8",
        "colab_type": "code",
        "colab": {
          "autoexec": {
            "startup": false,
            "wait_interval": 0
          }
        }
      },
      "cell_type": "code",
      "source": [
        "file_import = drive.CreateFile({'id':'1gV3lTGPAL-x0c-EqZXyF4saHo7AVLN4j'})\n",
        "file_import.GetContentFile('AttentionWithContext.py') \n",
        "\n",
        "from AttentionWithContext import AttentionWithContext"
      ],
      "execution_count": 0,
      "outputs": []
    },
    {
      "metadata": {
        "id": "MIWjPi9bs5d4",
        "colab_type": "code",
        "colab": {
          "autoexec": {
            "startup": false,
            "wait_interval": 0
          }
        }
      },
      "cell_type": "code",
      "source": [
        "def one_by_one(filtersNumber, inputLayer, dropout = 0.2):\n",
        "    one_by_one = Conv1D(filtersNumber, 1, activation = 'elu', padding = 'same', kernel_initializer = 'he_uniform')(inputLayer)\n",
        "    one_by_one = BatchNormalization()(one_by_one)\n",
        "    one_by_one = SpatialDropout1D(dropout)(one_by_one)\n",
        "    return one_by_one"
      ],
      "execution_count": 0,
      "outputs": []
    },
    {
      "metadata": {
        "id": "LTFG7OgsXynw",
        "colab_type": "code",
        "colab": {
          "autoexec": {
            "startup": false,
            "wait_interval": 0
          },
          "base_uri": "https://localhost:8080/",
          "height": 876
        },
        "outputId": "232db7e6-6421-405b-aaf7-d2d7e8f2d859",
        "executionInfo": {
          "status": "ok",
          "timestamp": 1526501852408,
          "user_tz": -120,
          "elapsed": 2684,
          "user": {
            "displayName": "Gabrijel Boduljak",
            "photoUrl": "//lh5.googleusercontent.com/-PD9SrWcnqqA/AAAAAAAAAAI/AAAAAAAAAog/cQI0fcnyp_g/s50-c-k-no/photo.jpg",
            "userId": "107143472008987249570"
          }
        }
      },
      "cell_type": "code",
      "source": [
        "maxWords = 30000\n",
        "maxSequenceLengthInWords = 400\n",
        "embeddingDimension = 300\n",
        "filtersNumber = 300\n",
        "\n",
        "input_layer = Input(shape=(maxSequenceLengthInWords,))\n",
        "\n",
        "pretrained_embedding_layer = Embedding(\n",
        "    maxWords, \n",
        "    output_dim=embeddingDimension, \n",
        "    input_length=maxSequenceLengthInWords,\n",
        "    weights = [np.load('fast_text_embeddings.npy')],\n",
        "    trainable = False\n",
        ")(input_layer)\n",
        "pretrained_embedding_layer = SpatialDropout1D(0.2)(pretrained_embedding_layer)\n",
        "\n",
        "custom_embedding_layer = Embedding(\n",
        "    maxWords, \n",
        "    output_dim=embeddingDimension, \n",
        "    input_length=maxSequenceLengthInWords,\n",
        "    weights = [np.load('custom_fast_text_embeddings.npy')],\n",
        "    trainable = False\n",
        ")(input_layer)\n",
        "custom_embedding_layer = SpatialDropout1D(0.2)(custom_embedding_layer)\n",
        "\n",
        "embedding = Average()([pretrained_embedding_layer, custom_embedding_layer])\n",
        "embedding_dropout = SpatialDropout1D(0.2)(embedding)\n",
        "\n",
        "features = one_by_one(filtersNumber, embedding_dropout)\n",
        "features = AttentionWithContext()(features)\n",
        "\n",
        "dense_1 = Dense(256, activation = 'elu')(features)\n",
        "dense_1_normalization = BatchNormalization()(dense_1)\n",
        "dense_1_dropout = Dropout(0.2)(dense_1_normalization)\n",
        "\n",
        "dense_2 = Dense(256, activation = 'elu')(dense_1_dropout)\n",
        "dense_2_normalization = BatchNormalization()(dense_2)\n",
        "dense_2_dropout = Dropout(0.2)(dense_2_normalization)\n",
        "\n",
        "output_layer = Dense(6, activation='sigmoid')(dense_2_dropout)\n",
        "\n",
        "model = Model(inputs=[input_layer], outputs=[output_layer])\n",
        "            \n",
        "model.summary()\n",
        "\n",
        "model.compile(\n",
        "    loss='binary_crossentropy', \n",
        "    optimizer='Adam',\n",
        "    metrics=['accuracy']\n",
        ")"
      ],
      "execution_count": 10,
      "outputs": [
        {
          "output_type": "stream",
          "text": [
            "WARNING:tensorflow:From /usr/local/lib/python3.6/dist-packages/tensorflow/python/util/deprecation.py:497: calling conv1d (from tensorflow.python.ops.nn_ops) with data_format=NHWC is deprecated and will be removed in a future version.\n",
            "Instructions for updating:\n",
            "`NHWC` for data_format is deprecated, use `NWC` instead\n",
            "__________________________________________________________________________________________________\n",
            "Layer (type)                    Output Shape         Param #     Connected to                     \n",
            "==================================================================================================\n",
            "input_1 (InputLayer)            (None, 400)          0                                            \n",
            "__________________________________________________________________________________________________\n",
            "embedding_1 (Embedding)         (None, 400, 300)     9000000     input_1[0][0]                    \n",
            "__________________________________________________________________________________________________\n",
            "embedding_2 (Embedding)         (None, 400, 300)     9000000     input_1[0][0]                    \n",
            "__________________________________________________________________________________________________\n",
            "spatial_dropout1d_1 (SpatialDro (None, 400, 300)     0           embedding_1[0][0]                \n",
            "__________________________________________________________________________________________________\n",
            "spatial_dropout1d_2 (SpatialDro (None, 400, 300)     0           embedding_2[0][0]                \n",
            "__________________________________________________________________________________________________\n",
            "average_1 (Average)             (None, 400, 300)     0           spatial_dropout1d_1[0][0]        \n",
            "                                                                 spatial_dropout1d_2[0][0]        \n",
            "__________________________________________________________________________________________________\n",
            "spatial_dropout1d_3 (SpatialDro (None, 400, 300)     0           average_1[0][0]                  \n",
            "__________________________________________________________________________________________________\n",
            "conv1d_1 (Conv1D)               (None, 400, 300)     90300       spatial_dropout1d_3[0][0]        \n",
            "__________________________________________________________________________________________________\n",
            "batch_normalization_1 (BatchNor (None, 400, 300)     1200        conv1d_1[0][0]                   \n",
            "__________________________________________________________________________________________________\n",
            "spatial_dropout1d_4 (SpatialDro (None, 400, 300)     0           batch_normalization_1[0][0]      \n",
            "__________________________________________________________________________________________________\n",
            "attention_with_context_1 (Atten (None, 300)          1100        spatial_dropout1d_4[0][0]        \n",
            "__________________________________________________________________________________________________\n",
            "dense_1 (Dense)                 (None, 256)          77056       attention_with_context_1[0][0]   \n",
            "__________________________________________________________________________________________________\n",
            "batch_normalization_2 (BatchNor (None, 256)          1024        dense_1[0][0]                    \n",
            "__________________________________________________________________________________________________\n",
            "dropout_1 (Dropout)             (None, 256)          0           batch_normalization_2[0][0]      \n",
            "__________________________________________________________________________________________________\n",
            "dense_2 (Dense)                 (None, 256)          65792       dropout_1[0][0]                  \n",
            "__________________________________________________________________________________________________\n",
            "batch_normalization_3 (BatchNor (None, 256)          1024        dense_2[0][0]                    \n",
            "__________________________________________________________________________________________________\n",
            "dropout_2 (Dropout)             (None, 256)          0           batch_normalization_3[0][0]      \n",
            "__________________________________________________________________________________________________\n",
            "dense_3 (Dense)                 (None, 6)            1542        dropout_2[0][0]                  \n",
            "==================================================================================================\n",
            "Total params: 18,239,038\n",
            "Trainable params: 237,414\n",
            "Non-trainable params: 18,001,624\n",
            "__________________________________________________________________________________________________\n"
          ],
          "name": "stdout"
        }
      ]
    },
    {
      "metadata": {
        "id": "xwMmTewgXynz",
        "colab_type": "code",
        "colab": {
          "autoexec": {
            "startup": false,
            "wait_interval": 0
          },
          "base_uri": "https://localhost:8080/",
          "height": 1516
        },
        "outputId": "3c0cd9ea-e7c2-48e9-edfb-9561bae29389",
        "executionInfo": {
          "status": "ok",
          "timestamp": 1526505557007,
          "user_tz": -120,
          "elapsed": 3634486,
          "user": {
            "displayName": "Gabrijel Boduljak",
            "photoUrl": "//lh5.googleusercontent.com/-PD9SrWcnqqA/AAAAAAAAAAI/AAAAAAAAAog/cQI0fcnyp_g/s50-c-k-no/photo.jpg",
            "userId": "107143472008987249570"
          }
        }
      },
      "cell_type": "code",
      "source": [
        "history = train_with_cv(model, batchSize=32, rocEvery = 2)"
      ],
      "execution_count": 11,
      "outputs": [
        {
          "output_type": "stream",
          "text": [
            "Train on 102124 samples, validate on 25532 samples\n",
            "Epoch 1/32\n",
            " 42848/102124 [===========>..................] - ETA: 57s - loss: 0.1409 - acc: 0.9488"
          ],
          "name": "stdout"
        },
        {
          "output_type": "stream",
          "text": [
            "102124/102124 [==============================] - 102s 997us/step - loss: 0.1021 - acc: 0.9638 - val_loss: 0.2211 - val_acc: 0.9681\n",
            "Epoch 2/32\n",
            "  5600/102124 [>.............................] - ETA: 1:28 - loss: 0.0636 - acc: 0.9773"
          ],
          "name": "stdout"
        },
        {
          "output_type": "stream",
          "text": [
            "102080/102124 [============================>.] - ETA: 0s - loss: 0.0653 - acc: 0.9770"
          ],
          "name": "stdout"
        },
        {
          "output_type": "stream",
          "text": [
            "102124/102124 [==============================] - 100s 976us/step - loss: 0.0652 - acc: 0.9770 - val_loss: 0.0875 - val_acc: 0.9722\n",
            "roc-auc: 0.9752 - roc-auc_val: 0.9712                                                                                                    \n",
            "Epoch 3/32\n",
            " 17312/102124 [====>.........................] - ETA: 1:17 - loss: 0.0593 - acc: 0.9788"
          ],
          "name": "stdout"
        },
        {
          "output_type": "stream",
          "text": [
            "102112/102124 [============================>.] - ETA: 0s - loss: 0.0591 - acc: 0.9789"
          ],
          "name": "stdout"
        },
        {
          "output_type": "stream",
          "text": [
            "102124/102124 [==============================] - 100s 977us/step - loss: 0.0591 - acc: 0.9789 - val_loss: 0.0802 - val_acc: 0.9714\n",
            "Epoch 4/32\n",
            " 27808/102124 [=======>......................] - ETA: 1:07 - loss: 0.0563 - acc: 0.9797"
          ],
          "name": "stdout"
        },
        {
          "output_type": "stream",
          "text": [
            "102112/102124 [============================>.] - ETA: 0s - loss: 0.0558 - acc: 0.9796"
          ],
          "name": "stdout"
        },
        {
          "output_type": "stream",
          "text": [
            "102124/102124 [==============================] - 99s 974us/step - loss: 0.0558 - acc: 0.9796 - val_loss: 0.0585 - val_acc: 0.9801\n",
            "roc-auc: 0.9817 - roc-auc_val: 0.9786                                                                                                    \n",
            "Epoch 5/32\n",
            " 17376/102124 [====>.........................] - ETA: 1:17 - loss: 0.0542 - acc: 0.9802"
          ],
          "name": "stdout"
        },
        {
          "output_type": "stream",
          "text": [
            "102112/102124 [============================>.] - ETA: 0s - loss: 0.0542 - acc: 0.9799"
          ],
          "name": "stdout"
        },
        {
          "output_type": "stream",
          "text": [
            "102124/102124 [==============================] - 100s 977us/step - loss: 0.0542 - acc: 0.9799 - val_loss: 0.0604 - val_acc: 0.9775\n",
            "Epoch 6/32\n",
            " 27744/102124 [=======>......................] - ETA: 1:08 - loss: 0.0527 - acc: 0.9799"
          ],
          "name": "stdout"
        },
        {
          "output_type": "stream",
          "text": [
            "102112/102124 [============================>.] - ETA: 0s - loss: 0.0522 - acc: 0.9806"
          ],
          "name": "stdout"
        },
        {
          "output_type": "stream",
          "text": [
            "102124/102124 [==============================] - 99s 974us/step - loss: 0.0522 - acc: 0.9806 - val_loss: 0.0542 - val_acc: 0.9790\n",
            "roc-auc: 0.9844 - roc-auc_val: 0.9812                                                                                                    \n",
            "Epoch 7/32\n",
            " 17376/102124 [====>.........................] - ETA: 1:16 - loss: 0.0508 - acc: 0.9812"
          ],
          "name": "stdout"
        },
        {
          "output_type": "stream",
          "text": [
            "102112/102124 [============================>.] - ETA: 0s - loss: 0.0514 - acc: 0.9809"
          ],
          "name": "stdout"
        },
        {
          "output_type": "stream",
          "text": [
            "102124/102124 [==============================] - 99s 974us/step - loss: 0.0514 - acc: 0.9809 - val_loss: 0.0569 - val_acc: 0.9801\n",
            "Epoch 8/32\n",
            " 27936/102124 [=======>......................] - ETA: 1:07 - loss: 0.0507 - acc: 0.9807"
          ],
          "name": "stdout"
        },
        {
          "output_type": "stream",
          "text": [
            "102124/102124 [==============================] - 99s 967us/step - loss: 0.0502 - acc: 0.9812 - val_loss: 0.0554 - val_acc: 0.9797\n"
          ],
          "name": "stdout"
        },
        {
          "output_type": "stream",
          "text": [
            "\n",
            "Epoch 00008: ReduceLROnPlateau reducing learning rate to 0.00024148408556357026.\n",
            "roc-auc: 0.9858 - roc-auc_val: 0.9826                                                                                                    \n",
            "Epoch 9/32\n",
            " 20064/102124 [====>.........................] - ETA: 1:13 - loss: 0.0505 - acc: 0.9809"
          ],
          "name": "stdout"
        },
        {
          "output_type": "stream",
          "text": [
            "102112/102124 [============================>.] - ETA: 0s - loss: 0.0496 - acc: 0.9814"
          ],
          "name": "stdout"
        },
        {
          "output_type": "stream",
          "text": [
            "102124/102124 [==============================] - 99s 968us/step - loss: 0.0496 - acc: 0.9814 - val_loss: 0.0573 - val_acc: 0.9791\n",
            "Epoch 10/32\n",
            " 27808/102124 [=======>......................] - ETA: 1:07 - loss: 0.0489 - acc: 0.9817"
          ],
          "name": "stdout"
        },
        {
          "output_type": "stream",
          "text": [
            "102112/102124 [============================>.] - ETA: 0s - loss: 0.0491 - acc: 0.9815"
          ],
          "name": "stdout"
        },
        {
          "output_type": "stream",
          "text": [
            "102124/102124 [==============================] - 99s 967us/step - loss: 0.0491 - acc: 0.9816 - val_loss: 0.0575 - val_acc: 0.9784\n",
            "roc-auc: 0.9853 - roc-auc_val: 0.9824                                                                                                    \n",
            "Epoch 11/32\n",
            " 17312/102124 [====>.........................] - ETA: 1:16 - loss: 0.0503 - acc: 0.9815"
          ],
          "name": "stdout"
        },
        {
          "output_type": "stream",
          "text": [
            "102112/102124 [============================>.] - ETA: 0s - loss: 0.0489 - acc: 0.9815"
          ],
          "name": "stdout"
        },
        {
          "output_type": "stream",
          "text": [
            "102124/102124 [==============================] - 99s 967us/step - loss: 0.0489 - acc: 0.9815 - val_loss: 0.0551 - val_acc: 0.9791\n",
            "Epoch 12/32\n",
            " 27808/102124 [=======>......................] - ETA: 1:07 - loss: 0.0487 - acc: 0.9813"
          ],
          "name": "stdout"
        },
        {
          "output_type": "stream",
          "text": [
            "102112/102124 [============================>.] - ETA: 0s - loss: 0.0481 - acc: 0.9818"
          ],
          "name": "stdout"
        },
        {
          "output_type": "stream",
          "text": [
            "102124/102124 [==============================] - 99s 972us/step - loss: 0.0481 - acc: 0.9818 - val_loss: 0.0512 - val_acc: 0.9810\n",
            "roc-auc: 0.9878 - roc-auc_val: 0.9848                                                                                                    \n",
            "Epoch 13/32\n",
            " 17312/102124 [====>.........................] - ETA: 1:16 - loss: 0.0472 - acc: 0.9823"
          ],
          "name": "stdout"
        },
        {
          "output_type": "stream",
          "text": [
            "102112/102124 [============================>.] - ETA: 0s - loss: 0.0479 - acc: 0.9820"
          ],
          "name": "stdout"
        },
        {
          "output_type": "stream",
          "text": [
            "102124/102124 [==============================] - 98s 964us/step - loss: 0.0479 - acc: 0.9820 - val_loss: 0.0525 - val_acc: 0.9806\n",
            "Epoch 14/32\n",
            " 27808/102124 [=======>......................] - ETA: 1:07 - loss: 0.0475 - acc: 0.9817"
          ],
          "name": "stdout"
        },
        {
          "output_type": "stream",
          "text": [
            "102112/102124 [============================>.] - ETA: 0s - loss: 0.0474 - acc: 0.9821"
          ],
          "name": "stdout"
        },
        {
          "output_type": "stream",
          "text": [
            "102124/102124 [==============================] - 98s 961us/step - loss: 0.0474 - acc: 0.9821 - val_loss: 0.0542 - val_acc: 0.9795\n",
            "roc-auc: 0.988 - roc-auc_val: 0.9848                                                                                                    \n",
            "Epoch 15/32\n",
            " 17376/102124 [====>.........................] - ETA: 1:16 - loss: 0.0477 - acc: 0.9819"
          ],
          "name": "stdout"
        },
        {
          "output_type": "stream",
          "text": [
            "102112/102124 [============================>.] - ETA: 0s - loss: 0.0470 - acc: 0.9821"
          ],
          "name": "stdout"
        },
        {
          "output_type": "stream",
          "text": [
            "102124/102124 [==============================] - 98s 960us/step - loss: 0.0470 - acc: 0.9821 - val_loss: 0.0537 - val_acc: 0.9804\n",
            "Epoch 16/32\n",
            " 27808/102124 [=======>......................] - ETA: 1:07 - loss: 0.0466 - acc: 0.9823"
          ],
          "name": "stdout"
        },
        {
          "output_type": "stream",
          "text": [
            "102112/102124 [============================>.] - ETA: 0s - loss: 0.0470 - acc: 0.9822"
          ],
          "name": "stdout"
        },
        {
          "output_type": "stream",
          "text": [
            "102124/102124 [==============================] - 99s 966us/step - loss: 0.0470 - acc: 0.9822 - val_loss: 0.0506 - val_acc: 0.9809\n",
            "roc-auc: 0.988 - roc-auc_val: 0.9851                                                                                                    \n",
            "Epoch 17/32\n",
            " 17376/102124 [====>.........................] - ETA: 1:16 - loss: 0.0484 - acc: 0.9816"
          ],
          "name": "stdout"
        },
        {
          "output_type": "stream",
          "text": [
            "102112/102124 [============================>.] - ETA: 0s - loss: 0.0467 - acc: 0.9822"
          ],
          "name": "stdout"
        },
        {
          "output_type": "stream",
          "text": [
            "102124/102124 [==============================] - 98s 962us/step - loss: 0.0467 - acc: 0.9822 - val_loss: 0.0519 - val_acc: 0.9810\n",
            "Epoch 18/32\n",
            " 27744/102124 [=======>......................] - ETA: 1:07 - loss: 0.0460 - acc: 0.9826"
          ],
          "name": "stdout"
        },
        {
          "output_type": "stream",
          "text": [
            "102112/102124 [============================>.] - ETA: 0s - loss: 0.0466 - acc: 0.9822"
          ],
          "name": "stdout"
        },
        {
          "output_type": "stream",
          "text": [
            "102124/102124 [==============================] - 98s 964us/step - loss: 0.0466 - acc: 0.9822 - val_loss: 0.0519 - val_acc: 0.9805\n",
            "roc-auc: 0.9875 - roc-auc_val: 0.9845                                                                                                    \n",
            "Epoch 19/32\n",
            " 17312/102124 [====>.........................] - ETA: 1:16 - loss: 0.0462 - acc: 0.9828"
          ],
          "name": "stdout"
        },
        {
          "output_type": "stream",
          "text": [
            "102112/102124 [============================>.] - ETA: 0s - loss: 0.0462 - acc: 0.9823"
          ],
          "name": "stdout"
        },
        {
          "output_type": "stream",
          "text": [
            "102124/102124 [==============================] - 98s 963us/step - loss: 0.0462 - acc: 0.9824 - val_loss: 0.0530 - val_acc: 0.9801\n",
            "\n",
            "Epoch 00019: ReduceLROnPlateau reducing learning rate to 7.694652595091611e-05.\n",
            "Epoch 20/32\n",
            " 20512/102124 [=====>........................] - ETA: 1:14 - loss: 0.0474 - acc: 0.9820"
          ],
          "name": "stdout"
        },
        {
          "output_type": "stream",
          "text": [
            "102112/102124 [============================>.] - ETA: 0s - loss: 0.0463 - acc: 0.9824"
          ],
          "name": "stdout"
        },
        {
          "output_type": "stream",
          "text": [
            "102124/102124 [==============================] - 98s 962us/step - loss: 0.0463 - acc: 0.9824 - val_loss: 0.0509 - val_acc: 0.9807\n",
            "roc-auc: 0.9886 - roc-auc_val: 0.9854                                                                                                    \n",
            "Epoch 21/32\n",
            " 17312/102124 [====>.........................] - ETA: 1:16 - loss: 0.0465 - acc: 0.9820"
          ],
          "name": "stdout"
        },
        {
          "output_type": "stream",
          "text": [
            "102112/102124 [============================>.] - ETA: 0s - loss: 0.0459 - acc: 0.9824"
          ],
          "name": "stdout"
        },
        {
          "output_type": "stream",
          "text": [
            "102124/102124 [==============================] - 98s 962us/step - loss: 0.0459 - acc: 0.9824 - val_loss: 0.0497 - val_acc: 0.9815\n",
            "Epoch 22/32\n",
            " 27808/102124 [=======>......................] - ETA: 1:06 - loss: 0.0448 - acc: 0.9828"
          ],
          "name": "stdout"
        },
        {
          "output_type": "stream",
          "text": [
            "102112/102124 [============================>.] - ETA: 0s - loss: 0.0460 - acc: 0.9825"
          ],
          "name": "stdout"
        },
        {
          "output_type": "stream",
          "text": [
            "102124/102124 [==============================] - 99s 965us/step - loss: 0.0460 - acc: 0.9825 - val_loss: 0.0504 - val_acc: 0.9812\n",
            "roc-auc: 0.9878 - roc-auc_val: 0.9847                                                                                                    \n",
            "Epoch 23/32\n",
            " 17312/102124 [====>.........................] - ETA: 1:16 - loss: 0.0455 - acc: 0.9822"
          ],
          "name": "stdout"
        },
        {
          "output_type": "stream",
          "text": [
            "102112/102124 [============================>.] - ETA: 0s - loss: 0.0457 - acc: 0.9825"
          ],
          "name": "stdout"
        },
        {
          "output_type": "stream",
          "text": [
            "102124/102124 [==============================] - 98s 959us/step - loss: 0.0457 - acc: 0.9825 - val_loss: 0.0490 - val_acc: 0.9816\n",
            "Epoch 24/32\n",
            " 27808/102124 [=======>......................] - ETA: 1:06 - loss: 0.0459 - acc: 0.9825"
          ],
          "name": "stdout"
        },
        {
          "output_type": "stream",
          "text": [
            "102112/102124 [============================>.] - ETA: 0s - loss: 0.0458 - acc: 0.9824"
          ],
          "name": "stdout"
        },
        {
          "output_type": "stream",
          "text": [
            "102124/102124 [==============================] - 98s 956us/step - loss: 0.0458 - acc: 0.9824 - val_loss: 0.0539 - val_acc: 0.9794\n",
            "roc-auc: 0.9879 - roc-auc_val: 0.9842                                                                                                    \n",
            "Epoch 25/32\n",
            " 17312/102124 [====>.........................] - ETA: 1:15 - loss: 0.0459 - acc: 0.9825"
          ],
          "name": "stdout"
        },
        {
          "output_type": "stream",
          "text": [
            "102112/102124 [============================>.] - ETA: 0s - loss: 0.0456 - acc: 0.9826"
          ],
          "name": "stdout"
        },
        {
          "output_type": "stream",
          "text": [
            "102124/102124 [==============================] - 98s 959us/step - loss: 0.0456 - acc: 0.9826 - val_loss: 0.0501 - val_acc: 0.9812\n",
            "Epoch 26/32\n",
            " 27808/102124 [=======>......................] - ETA: 1:05 - loss: 0.0435 - acc: 0.9833"
          ],
          "name": "stdout"
        },
        {
          "output_type": "stream",
          "text": [
            "102124/102124 [==============================] - 97s 954us/step - loss: 0.0454 - acc: 0.9827 - val_loss: 0.0489 - val_acc: 0.9818\n"
          ],
          "name": "stdout"
        },
        {
          "output_type": "stream",
          "text": [
            "\rroc-auc: 0.9889 - roc-auc_val: 0.9853                                                                                                    \n",
            "Epoch 27/32\n",
            " 26848/102124 [======>.......................] - ETA: 1:07 - loss: 0.0460 - acc: 0.9823"
          ],
          "name": "stdout"
        },
        {
          "output_type": "stream",
          "text": [
            "102112/102124 [============================>.] - ETA: 0s - loss: 0.0456 - acc: 0.9827"
          ],
          "name": "stdout"
        },
        {
          "output_type": "stream",
          "text": [
            "102124/102124 [==============================] - 99s 967us/step - loss: 0.0456 - acc: 0.9827 - val_loss: 0.0488 - val_acc: 0.9816\n",
            "Epoch 28/32\n",
            " 27808/102124 [=======>......................] - ETA: 1:06 - loss: 0.0440 - acc: 0.9833"
          ],
          "name": "stdout"
        },
        {
          "output_type": "stream",
          "text": [
            "102112/102124 [============================>.] - ETA: 0s - loss: 0.0452 - acc: 0.9828"
          ],
          "name": "stdout"
        },
        {
          "output_type": "stream",
          "text": [
            "102124/102124 [==============================] - 98s 962us/step - loss: 0.0452 - acc: 0.9828 - val_loss: 0.0483 - val_acc: 0.9816\n",
            "roc-auc: 0.9891 - roc-auc_val: 0.9861                                                                                                    \n",
            "Epoch 29/32\n",
            " 17312/102124 [====>.........................] - ETA: 1:16 - loss: 0.0473 - acc: 0.9821"
          ],
          "name": "stdout"
        },
        {
          "output_type": "stream",
          "text": [
            "102112/102124 [============================>.] - ETA: 0s - loss: 0.0453 - acc: 0.9827"
          ],
          "name": "stdout"
        },
        {
          "output_type": "stream",
          "text": [
            "102124/102124 [==============================] - 98s 961us/step - loss: 0.0453 - acc: 0.9827 - val_loss: 0.0497 - val_acc: 0.9810\n",
            "Epoch 30/32\n",
            " 27808/102124 [=======>......................] - ETA: 1:06 - loss: 0.0449 - acc: 0.9830"
          ],
          "name": "stdout"
        },
        {
          "output_type": "stream",
          "text": [
            "102112/102124 [============================>.] - ETA: 0s - loss: 0.0451 - acc: 0.9829"
          ],
          "name": "stdout"
        },
        {
          "output_type": "stream",
          "text": [
            "102124/102124 [==============================] - 98s 958us/step - loss: 0.0451 - acc: 0.9829 - val_loss: 0.0474 - val_acc: 0.9822\n",
            "roc-auc: 0.9892 - roc-auc_val: 0.9859                                                                                                    \n",
            "Epoch 31/32\n",
            " 17312/102124 [====>.........................] - ETA: 1:15 - loss: 0.0459 - acc: 0.9826"
          ],
          "name": "stdout"
        },
        {
          "output_type": "stream",
          "text": [
            "102112/102124 [============================>.] - ETA: 0s - loss: 0.0453 - acc: 0.9825"
          ],
          "name": "stdout"
        },
        {
          "output_type": "stream",
          "text": [
            "102124/102124 [==============================] - 97s 954us/step - loss: 0.0453 - acc: 0.9825 - val_loss: 0.0489 - val_acc: 0.9817\n",
            "Epoch 32/32\n",
            " 27808/102124 [=======>......................] - ETA: 1:06 - loss: 0.0466 - acc: 0.9818"
          ],
          "name": "stdout"
        },
        {
          "output_type": "stream",
          "text": [
            "102112/102124 [============================>.] - ETA: 0s - loss: 0.0451 - acc: 0.9827"
          ],
          "name": "stdout"
        },
        {
          "output_type": "stream",
          "text": [
            "\b\b\b\b\b\b\b\b\b\b\b\b\b\b\b\b\b\b\b\b\b\b\b\b\b\b\b\b\b\b\b\b\b\b\b\b\b\b\b\b\b\b\b\b\b\b\b\b\b\b\b\b\b\b\b\b\b\b\b\b\b\b\b\b\b\b\b\b\b\b\b\b\b\b\b\b\b\b\b\b\b\b\b\b\b\r102124/102124 [==============================] - 98s 960us/step - loss: 0.0451 - acc: 0.9827 - val_loss: 0.0500 - val_acc: 0.9811\n",
            "\n",
            "Epoch 00032: ReduceLROnPlateau reducing learning rate to 1.9915009033866227e-05.\n",
            "roc-auc: 0.9878 - roc-auc_val: 0.9844                                                                                                    \n"
          ],
          "name": "stdout"
        }
      ]
    },
    {
      "metadata": {
        "id": "sms3R-U4469B",
        "colab_type": "code",
        "colab": {
          "autoexec": {
            "startup": false,
            "wait_interval": 0
          },
          "base_uri": "https://localhost:8080/",
          "height": 294
        },
        "outputId": "63d9dab5-ec16-47f8-f0af-77c1bbb4198d",
        "executionInfo": {
          "status": "ok",
          "timestamp": 1526505558375,
          "user_tz": -120,
          "elapsed": 1343,
          "user": {
            "displayName": "Gabrijel Boduljak",
            "photoUrl": "//lh5.googleusercontent.com/-PD9SrWcnqqA/AAAAAAAAAAI/AAAAAAAAAog/cQI0fcnyp_g/s50-c-k-no/photo.jpg",
            "userId": "107143472008987249570"
          }
        }
      },
      "cell_type": "code",
      "source": [
        "plot_history(history)"
      ],
      "execution_count": 12,
      "outputs": [
        {
          "output_type": "display_data",
          "data": {
            "image/png": "[encoded data removed]",
            "text/plain": [
              "<matplotlib.figure.Figure at 0x7ff95f11ae48>"
            ]
          },
          "metadata": {
            "tags": []
          }
        }
      ]
    },
    {
      "metadata": {
        "id": "r2gtMBj2Tp9A",
        "colab_type": "code",
        "colab": {
          "autoexec": {
            "startup": false,
            "wait_interval": 0
          },
          "base_uri": "https://localhost:8080/",
          "height": 51
        },
        "outputId": "4131afc3-ba0c-4f96-fc8d-550610385720",
        "executionInfo": {
          "status": "ok",
          "timestamp": 1526505575208,
          "user_tz": -120,
          "elapsed": 16781,
          "user": {
            "displayName": "Gabrijel Boduljak",
            "photoUrl": "//lh5.googleusercontent.com/-PD9SrWcnqqA/AAAAAAAAAAI/AAAAAAAAAog/cQI0fcnyp_g/s50-c-k-no/photo.jpg",
            "userId": "107143472008987249570"
          }
        }
      },
      "cell_type": "code",
      "source": [
        "print(evaluate_on_test(model))"
      ],
      "execution_count": 13,
      "outputs": [
        {
          "output_type": "stream",
          "text": [
            "31915/31915 [==============================] - 9s 273us/step\n",
            "([0.04840301671897788, 0.9817431616424561], 0.9862876614819941)\n"
          ],
          "name": "stdout"
        }
      ]
    }
  ]
}
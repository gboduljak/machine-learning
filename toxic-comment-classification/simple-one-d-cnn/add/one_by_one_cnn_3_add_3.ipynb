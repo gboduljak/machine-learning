{
 "cells": [
  {
   "cell_type": "code",
   "execution_count": 1,
   "metadata": {
    "colab": {
     "autoexec": {
      "startup": false,
      "wait_interval": 0
     },
     "base_uri": "https://localhost:8080/",
     "height": 407
    },
    "colab_type": "code",
    "executionInfo": {
     "elapsed": 11945,
     "status": "ok",
     "timestamp": 1526418533950,
     "user": {
      "displayName": "Deep Learner",
      "photoUrl": "https://lh3.googleusercontent.com/a/default-user=s128",
      "userId": "102934620980301123540"
     },
     "user_tz": -120
    },
    "id": "yS1FnhiWX3Js",
    "outputId": "7959a0e0-6ad6-426c-9dc8-36cf8fd8c494"
   },
   "outputs": [
    {
     "name": "stdout",
     "output_type": "stream",
     "text": [
      "Requirement already satisfied: keras in /usr/local/lib/python3.6/dist-packages (2.1.6)\r\n",
      "Requirement already satisfied: scipy>=0.14 in /usr/local/lib/python3.6/dist-packages (from keras) (0.19.1)\r\n",
      "Requirement already satisfied: numpy>=1.9.1 in /usr/local/lib/python3.6/dist-packages (from keras) (1.14.3)\r\n",
      "Requirement already satisfied: h5py in /usr/local/lib/python3.6/dist-packages (from keras) (2.7.1)\r\n",
      "Requirement already satisfied: pyyaml in /usr/local/lib/python3.6/dist-packages (from keras) (3.12)\r\n",
      "Requirement already satisfied: six>=1.9.0 in /usr/local/lib/python3.6/dist-packages (from keras) (1.11.0)\n",
      "Collecting sklearn\n",
      "  Downloading https://files.pythonhosted.org/packages/1e/7a/dbb3be0ce9bd5c8b7e3d87328e79063f8b263b2b1bfa4774cb1147bfcd3f/sklearn-0.0.tar.gz\n",
      "Requirement already satisfied: scikit-learn in /usr/local/lib/python3.6/dist-packages (from sklearn) (0.19.1)\n",
      "Building wheels for collected packages: sklearn\n",
      "  Running setup.py bdist_wheel for sklearn ... \u001b[?25l-\b \bdone\n",
      "\u001b[?25h  Stored in directory: /content/.cache/pip/wheels/76/03/bb/589d421d27431bcd2c6da284d5f2286c8e3b2ea3cf1594c074\n",
      "Successfully built sklearn\n",
      "Installing collected packages: sklearn\n",
      "Successfully installed sklearn-0.0\n",
      "Requirement already satisfied: matplotlib in /usr/local/lib/python3.6/dist-packages (2.1.2)\n",
      "Requirement already satisfied: cycler>=0.10 in /usr/local/lib/python3.6/dist-packages (from matplotlib) (0.10.0)\n",
      "Requirement already satisfied: six>=1.10 in /usr/local/lib/python3.6/dist-packages (from matplotlib) (1.11.0)\n",
      "Requirement already satisfied: numpy>=1.7.1 in /usr/local/lib/python3.6/dist-packages (from matplotlib) (1.14.3)\n",
      "Requirement already satisfied: pyparsing!=2.0.4,!=2.1.2,!=2.1.6,>=2.0.1 in /usr/local/lib/python3.6/dist-packages (from matplotlib) (2.2.0)\n",
      "Requirement already satisfied: python-dateutil>=2.1 in /usr/local/lib/python3.6/dist-packages (from matplotlib) (2.5.3)\n",
      "Requirement already satisfied: pytz in /usr/local/lib/python3.6/dist-packages (from matplotlib) (2018.4)\n"
     ]
    }
   ],
   "source": [
    "!pip install keras\n",
    "!pip install sklearn\n",
    "!pip install matplotlib\n",
    "!pip install -U -q PyDrive"
   ]
  },
  {
   "cell_type": "code",
   "execution_count": 2,
   "metadata": {
    "colab": {
     "autoexec": {
      "startup": false,
      "wait_interval": 0
     },
     "base_uri": "https://localhost:8080/",
     "height": 34
    },
    "colab_type": "code",
    "executionInfo": {
     "elapsed": 7886,
     "status": "ok",
     "timestamp": 1526418541849,
     "user": {
      "displayName": "Deep Learner",
      "photoUrl": "https://lh3.googleusercontent.com/a/default-user=s128",
      "userId": "102934620980301123540"
     },
     "user_tz": -120
    },
    "id": "xlKzkDJFrjA-",
    "outputId": "de04a6f4-b11c-4ded-a21e-1f1fea9acecd"
   },
   "outputs": [
    {
     "name": "stderr",
     "output_type": "stream",
     "text": [
      "Using TensorFlow backend.\n"
     ]
    }
   ],
   "source": [
    "from keras import backend as K\n",
    "K.clear_session()"
   ]
  },
  {
   "cell_type": "code",
   "execution_count": 0,
   "metadata": {
    "colab": {
     "autoexec": {
      "startup": false,
      "wait_interval": 0
     }
    },
    "colab_type": "code",
    "id": "eQEKwl4oAxO7"
   },
   "outputs": [],
   "source": [
    "from keras import backend as K\n",
    "cfg = K.tf.ConfigProto()\n",
    "cfg.gpu_options.allow_growth = True\n",
    "K.set_session(K.tf.Session(config=cfg))"
   ]
  },
  {
   "cell_type": "code",
   "execution_count": 0,
   "metadata": {
    "colab": {
     "autoexec": {
      "startup": false,
      "wait_interval": 0
     }
    },
    "colab_type": "code",
    "id": "12M0egCCX-27"
   },
   "outputs": [],
   "source": [
    "from pydrive.auth import GoogleAuth\n",
    "from pydrive.drive import GoogleDrive\n",
    "from google.colab import auth\n",
    "from oauth2client.client import GoogleCredentials\n",
    "\n",
    "auth.authenticate_user()\n",
    "gauth = GoogleAuth()\n",
    "gauth.credentials = GoogleCredentials.get_application_default()\n",
    "drive = GoogleDrive(gauth)"
   ]
  },
  {
   "cell_type": "code",
   "execution_count": 0,
   "metadata": {
    "colab": {
     "autoexec": {
      "startup": false,
      "wait_interval": 0
     }
    },
    "colab_type": "code",
    "id": "4lN2WTUEYBYv"
   },
   "outputs": [],
   "source": [
    "file_import = drive.CreateFile({'id':'1p1bsltfTcIrZ_kfE6kwGTPzcdXorHbb2'})\n",
    "file_import.GetContentFile('colab_setup.py') \n",
    "from colab_setup import setup\n",
    "\n",
    "setup(drive)"
   ]
  },
  {
   "cell_type": "code",
   "execution_count": 6,
   "metadata": {
    "colab": {
     "autoexec": {
      "startup": false,
      "wait_interval": 0
     },
     "base_uri": "https://localhost:8080/",
     "height": 123
    },
    "colab_type": "code",
    "executionInfo": {
     "elapsed": 1692,
     "status": "ok",
     "timestamp": 1526418665336,
     "user": {
      "displayName": "Deep Learner",
      "photoUrl": "https://lh3.googleusercontent.com/a/default-user=s128",
      "userId": "102934620980301123540"
     },
     "user_tz": -120
    },
    "id": "cHBlD0tVj2TY",
    "outputId": "93dcfaf6-f5f3-49e3-88bc-4db4890f450b"
   },
   "outputs": [
    {
     "name": "stdout",
     "output_type": "stream",
     "text": [
      "colab_setup.py\t\t\t roc_auc_callback.py\tX_train.npy\r\n",
      "custom_fast_text_embeddings.npy  sample_submission.csv\tX_val.npy\r\n",
      "datalab\t\t\t\t train_model.py\t\ty_test.npy\r\n",
      "fast_text_embeddings.npy\t X_submission.npy\ty_train_full.npy\r\n",
      "plot_history.py\t\t\t X_test.npy\t\ty_train.npy\r\n",
      "__pycache__\t\t\t X_train_full.npy\ty_val.npy\r\n"
     ]
    }
   ],
   "source": [
    "!ls"
   ]
  },
  {
   "cell_type": "code",
   "execution_count": 0,
   "metadata": {
    "colab": {
     "autoexec": {
      "startup": false,
      "wait_interval": 0
     }
    },
    "colab_type": "code",
    "id": "yMwWPTMYXyno"
   },
   "outputs": [],
   "source": [
    "import numpy as np\n",
    "import os\n",
    "\n",
    "from plot_history import plot_history\n",
    "from roc_auc_callback import RocAucCallback\n",
    "from train_model import train_with_cv, train_with_submitting, evaluate_on_test\n",
    "\n",
    "from keras.models import Model\n",
    "from keras.layers import *\n",
    "from keras.layers.merge import concatenate"
   ]
  },
  {
   "cell_type": "code",
   "execution_count": 0,
   "metadata": {
    "colab": {
     "autoexec": {
      "startup": false,
      "wait_interval": 0
     }
    },
    "colab_type": "code",
    "id": "MIWjPi9bs5d4"
   },
   "outputs": [],
   "source": [
    "def one_by_one(filtersNumber, inputLayer, dropout = 0.2):\n",
    "    one_by_one = Conv1D(filtersNumber, 1, activation = 'elu', padding = 'same', kernel_initializer = 'he_uniform')(inputLayer)\n",
    "    one_by_one = BatchNormalization()(one_by_one)\n",
    "    one_by_one = SpatialDropout1D(dropout)(one_by_one)\n",
    "    \n",
    "    return one_by_one"
   ]
  },
  {
   "cell_type": "code",
   "execution_count": 0,
   "metadata": {
    "colab": {
     "autoexec": {
      "startup": false,
      "wait_interval": 0
     }
    },
    "colab_type": "code",
    "id": "KfIy0yzenyt8"
   },
   "outputs": [],
   "source": [
    "def yoon_kim_feature_extractor(filtersNumber, inputLayer):\n",
    "    block_1_conv_1 = Conv1D(filtersNumber, 1, activation = 'elu', padding = 'same', kernel_initializer = 'he_uniform')(inputLayer)\n",
    "    block_1_batchnorm1 = BatchNormalization()(block_1_conv_1)\n",
    "    block_1_max_pool1 = GlobalMaxPooling1D()(block_1_batchnorm1)\n",
    "\n",
    "    block_1_conv_2 = Conv1D(filtersNumber, 2, activation = 'elu', padding = 'same', kernel_initializer = 'he_uniform')(inputLayer)\n",
    "    block_1_batchnorm2 = BatchNormalization()(block_1_conv_2)\n",
    "    block_1_max_pool2 = GlobalMaxPooling1D()(block_1_batchnorm2)\n",
    "\n",
    "    block_1_conv_3 = Conv1D(filtersNumber, 3, activation = 'elu', padding = 'same', kernel_initializer = 'he_uniform')(inputLayer)\n",
    "    block_1_batchnorm3 = BatchNormalization()(block_1_conv_3)\n",
    "    block_1_max_pool3 = GlobalMaxPooling1D()(block_1_batchnorm3)\n",
    "\n",
    "    block_1_conv_4 = Conv1D(filtersNumber, 5, activation = 'elu', padding = 'same', kernel_initializer = 'he_uniform')(inputLayer)\n",
    "    block_1_batchnorm4 = BatchNormalization()(block_1_conv_4)\n",
    "    block_1_max_pool4 = GlobalMaxPooling1D()(block_1_batchnorm4)\n",
    "\n",
    "    block_1_features = concatenate([\n",
    "        block_1_max_pool1, \n",
    "        block_1_max_pool2, \n",
    "        block_1_max_pool3, \n",
    "        block_1_max_pool4\n",
    "    ])\n",
    "    block_1_features = Dropout(0.2)(block_1_features)\n",
    "    return block_1_features"
   ]
  },
  {
   "cell_type": "code",
   "execution_count": 10,
   "metadata": {
    "colab": {
     "autoexec": {
      "startup": false,
      "wait_interval": 0
     },
     "base_uri": "https://localhost:8080/",
     "height": 2721
    },
    "colab_type": "code",
    "executionInfo": {
     "elapsed": 3399,
     "status": "ok",
     "timestamp": 1526418671034,
     "user": {
      "displayName": "Deep Learner",
      "photoUrl": "https://lh3.googleusercontent.com/a/default-user=s128",
      "userId": "102934620980301123540"
     },
     "user_tz": -120
    },
    "id": "LTFG7OgsXynw",
    "outputId": "e544f70f-3556-405a-e5ee-82bbdd15ddbd"
   },
   "outputs": [
    {
     "name": "stdout",
     "output_type": "stream",
     "text": [
      "WARNING:tensorflow:From /usr/local/lib/python3.6/dist-packages/tensorflow/python/util/deprecation.py:497: calling conv1d (from tensorflow.python.ops.nn_ops) with data_format=NHWC is deprecated and will be removed in a future version.\n",
      "Instructions for updating:\n",
      "`NHWC` for data_format is deprecated, use `NWC` instead\n",
      "__________________________________________________________________________________________________\n",
      "Layer (type)                    Output Shape         Param #     Connected to                     \n",
      "==================================================================================================\n",
      "input_1 (InputLayer)            (None, 400)          0                                            \n",
      "__________________________________________________________________________________________________\n",
      "embedding_1 (Embedding)         (None, 400, 300)     9000000     input_1[0][0]                    \n",
      "__________________________________________________________________________________________________\n",
      "embedding_2 (Embedding)         (None, 400, 300)     9000000     input_1[0][0]                    \n",
      "__________________________________________________________________________________________________\n",
      "spatial_dropout1d_1 (SpatialDro (None, 400, 300)     0           embedding_1[0][0]                \n",
      "__________________________________________________________________________________________________\n",
      "spatial_dropout1d_2 (SpatialDro (None, 400, 300)     0           embedding_2[0][0]                \n",
      "__________________________________________________________________________________________________\n",
      "average_1 (Average)             (None, 400, 300)     0           spatial_dropout1d_1[0][0]        \n",
      "                                                                 spatial_dropout1d_2[0][0]        \n",
      "__________________________________________________________________________________________________\n",
      "spatial_dropout1d_3 (SpatialDro (None, 400, 300)     0           average_1[0][0]                  \n",
      "__________________________________________________________________________________________________\n",
      "conv1d_1 (Conv1D)               (None, 400, 300)     90300       spatial_dropout1d_3[0][0]        \n",
      "__________________________________________________________________________________________________\n",
      "batch_normalization_1 (BatchNor (None, 400, 300)     1200        conv1d_1[0][0]                   \n",
      "__________________________________________________________________________________________________\n",
      "spatial_dropout1d_4 (SpatialDro (None, 400, 300)     0           batch_normalization_1[0][0]      \n",
      "__________________________________________________________________________________________________\n",
      "add_1 (Add)                     (None, 400, 300)     0           spatial_dropout1d_4[0][0]        \n",
      "                                                                 spatial_dropout1d_3[0][0]        \n",
      "__________________________________________________________________________________________________\n",
      "conv1d_2 (Conv1D)               (None, 400, 300)     90300       add_1[0][0]                      \n",
      "__________________________________________________________________________________________________\n",
      "batch_normalization_2 (BatchNor (None, 400, 300)     1200        conv1d_2[0][0]                   \n",
      "__________________________________________________________________________________________________\n",
      "spatial_dropout1d_5 (SpatialDro (None, 400, 300)     0           batch_normalization_2[0][0]      \n",
      "__________________________________________________________________________________________________\n",
      "add_2 (Add)                     (None, 400, 300)     0           spatial_dropout1d_5[0][0]        \n",
      "                                                                 add_1[0][0]                      \n",
      "__________________________________________________________________________________________________\n",
      "conv1d_3 (Conv1D)               (None, 400, 300)     90300       add_2[0][0]                      \n",
      "__________________________________________________________________________________________________\n",
      "batch_normalization_3 (BatchNor (None, 400, 300)     1200        conv1d_3[0][0]                   \n",
      "__________________________________________________________________________________________________\n",
      "spatial_dropout1d_6 (SpatialDro (None, 400, 300)     0           batch_normalization_3[0][0]      \n",
      "__________________________________________________________________________________________________\n",
      "add_3 (Add)                     (None, 400, 300)     0           spatial_dropout1d_6[0][0]        \n",
      "                                                                 add_2[0][0]                      \n",
      "__________________________________________________________________________________________________\n",
      "conv1d_4 (Conv1D)               (None, 400, 300)     90300       add_3[0][0]                      \n",
      "__________________________________________________________________________________________________\n",
      "batch_normalization_4 (BatchNor (None, 400, 300)     1200        conv1d_4[0][0]                   \n",
      "__________________________________________________________________________________________________\n",
      "spatial_dropout1d_7 (SpatialDro (None, 400, 300)     0           batch_normalization_4[0][0]      \n",
      "__________________________________________________________________________________________________\n",
      "add_4 (Add)                     (None, 400, 300)     0           spatial_dropout1d_7[0][0]        \n",
      "                                                                 add_3[0][0]                      \n",
      "__________________________________________________________________________________________________\n",
      "conv1d_5 (Conv1D)               (None, 400, 300)     90300       add_4[0][0]                      \n",
      "__________________________________________________________________________________________________\n",
      "batch_normalization_5 (BatchNor (None, 400, 300)     1200        conv1d_5[0][0]                   \n",
      "__________________________________________________________________________________________________\n",
      "spatial_dropout1d_8 (SpatialDro (None, 400, 300)     0           batch_normalization_5[0][0]      \n",
      "__________________________________________________________________________________________________\n",
      "add_5 (Add)                     (None, 400, 300)     0           spatial_dropout1d_8[0][0]        \n",
      "                                                                 add_4[0][0]                      \n",
      "__________________________________________________________________________________________________\n",
      "conv1d_6 (Conv1D)               (None, 400, 300)     90300       add_5[0][0]                      \n",
      "__________________________________________________________________________________________________\n",
      "batch_normalization_6 (BatchNor (None, 400, 300)     1200        conv1d_6[0][0]                   \n",
      "__________________________________________________________________________________________________\n",
      "spatial_dropout1d_9 (SpatialDro (None, 400, 300)     0           batch_normalization_6[0][0]      \n",
      "__________________________________________________________________________________________________\n",
      "add_6 (Add)                     (None, 400, 300)     0           spatial_dropout1d_9[0][0]        \n",
      "                                                                 add_5[0][0]                      \n",
      "__________________________________________________________________________________________________\n",
      "conv1d_7 (Conv1D)               (None, 400, 300)     90300       add_6[0][0]                      \n",
      "__________________________________________________________________________________________________\n",
      "batch_normalization_7 (BatchNor (None, 400, 300)     1200        conv1d_7[0][0]                   \n",
      "__________________________________________________________________________________________________\n",
      "spatial_dropout1d_10 (SpatialDr (None, 400, 300)     0           batch_normalization_7[0][0]      \n",
      "__________________________________________________________________________________________________\n",
      "add_7 (Add)                     (None, 400, 300)     0           spatial_dropout1d_10[0][0]       \n",
      "                                                                 add_6[0][0]                      \n",
      "__________________________________________________________________________________________________\n",
      "conv1d_8 (Conv1D)               (None, 400, 300)     90300       add_7[0][0]                      \n",
      "__________________________________________________________________________________________________\n",
      "batch_normalization_8 (BatchNor (None, 400, 300)     1200        conv1d_8[0][0]                   \n",
      "__________________________________________________________________________________________________\n",
      "spatial_dropout1d_11 (SpatialDr (None, 400, 300)     0           batch_normalization_8[0][0]      \n",
      "__________________________________________________________________________________________________\n",
      "add_8 (Add)                     (None, 400, 300)     0           spatial_dropout1d_11[0][0]       \n",
      "                                                                 add_7[0][0]                      \n",
      "__________________________________________________________________________________________________\n",
      "conv1d_9 (Conv1D)               (None, 400, 300)     90300       add_8[0][0]                      \n",
      "__________________________________________________________________________________________________\n",
      "batch_normalization_9 (BatchNor (None, 400, 300)     1200        conv1d_9[0][0]                   \n",
      "__________________________________________________________________________________________________\n",
      "spatial_dropout1d_12 (SpatialDr (None, 400, 300)     0           batch_normalization_9[0][0]      \n",
      "__________________________________________________________________________________________________\n",
      "add_9 (Add)                     (None, 400, 300)     0           spatial_dropout1d_12[0][0]       \n",
      "                                                                 add_8[0][0]                      \n",
      "__________________________________________________________________________________________________\n",
      "conv1d_10 (Conv1D)              (None, 400, 300)     90300       add_9[0][0]                      \n",
      "__________________________________________________________________________________________________\n",
      "conv1d_11 (Conv1D)              (None, 400, 300)     180300      add_9[0][0]                      \n",
      "__________________________________________________________________________________________________\n",
      "conv1d_12 (Conv1D)              (None, 400, 300)     270300      add_9[0][0]                      \n",
      "__________________________________________________________________________________________________\n",
      "conv1d_13 (Conv1D)              (None, 400, 300)     450300      add_9[0][0]                      \n",
      "__________________________________________________________________________________________________\n",
      "batch_normalization_10 (BatchNo (None, 400, 300)     1200        conv1d_10[0][0]                  \n",
      "__________________________________________________________________________________________________\n",
      "batch_normalization_11 (BatchNo (None, 400, 300)     1200        conv1d_11[0][0]                  \n",
      "__________________________________________________________________________________________________\n",
      "batch_normalization_12 (BatchNo (None, 400, 300)     1200        conv1d_12[0][0]                  \n",
      "__________________________________________________________________________________________________\n",
      "batch_normalization_13 (BatchNo (None, 400, 300)     1200        conv1d_13[0][0]                  \n",
      "__________________________________________________________________________________________________\n",
      "global_max_pooling1d_1 (GlobalM (None, 300)          0           batch_normalization_10[0][0]     \n",
      "__________________________________________________________________________________________________\n",
      "global_max_pooling1d_2 (GlobalM (None, 300)          0           batch_normalization_11[0][0]     \n",
      "__________________________________________________________________________________________________\n",
      "global_max_pooling1d_3 (GlobalM (None, 300)          0           batch_normalization_12[0][0]     \n",
      "__________________________________________________________________________________________________\n",
      "global_max_pooling1d_4 (GlobalM (None, 300)          0           batch_normalization_13[0][0]     \n",
      "__________________________________________________________________________________________________\n",
      "concatenate_1 (Concatenate)     (None, 1200)         0           global_max_pooling1d_1[0][0]     \n",
      "                                                                 global_max_pooling1d_2[0][0]     \n",
      "                                                                 global_max_pooling1d_3[0][0]     \n",
      "                                                                 global_max_pooling1d_4[0][0]     \n",
      "__________________________________________________________________________________________________\n",
      "dropout_1 (Dropout)             (None, 1200)         0           concatenate_1[0][0]              \n",
      "__________________________________________________________________________________________________\n",
      "dense_1 (Dense)                 (None, 256)          307456      dropout_1[0][0]                  \n",
      "__________________________________________________________________________________________________\n",
      "batch_normalization_14 (BatchNo (None, 256)          1024        dense_1[0][0]                    \n",
      "__________________________________________________________________________________________________\n",
      "dropout_2 (Dropout)             (None, 256)          0           batch_normalization_14[0][0]     \n",
      "__________________________________________________________________________________________________\n",
      "dense_2 (Dense)                 (None, 256)          65792       dropout_2[0][0]                  \n",
      "__________________________________________________________________________________________________\n",
      "batch_normalization_15 (BatchNo (None, 256)          1024        dense_2[0][0]                    \n",
      "__________________________________________________________________________________________________\n",
      "dropout_3 (Dropout)             (None, 256)          0           batch_normalization_15[0][0]     \n",
      "__________________________________________________________________________________________________\n",
      "dense_3 (Dense)                 (None, 6)            1542        dropout_3[0][0]                  \n",
      "==================================================================================================\n",
      "Total params: 20,196,338\n",
      "Trainable params: 2,187,514\n",
      "Non-trainable params: 18,008,824\n",
      "__________________________________________________________________________________________________\n"
     ]
    }
   ],
   "source": [
    "maxWords = 30000\n",
    "maxSequenceLengthInWords = 400\n",
    "embeddingDimension = 300\n",
    "filtersNumber = 300\n",
    "\n",
    "input_layer = Input(shape=(maxSequenceLengthInWords,))\n",
    "\n",
    "pretrained_embedding_layer = Embedding(\n",
    "    maxWords, \n",
    "    output_dim=embeddingDimension, \n",
    "    input_length=maxSequenceLengthInWords,\n",
    "    weights = [np.load('fast_text_embeddings.npy')],\n",
    "    trainable = False\n",
    ")(input_layer)\n",
    "pretrained_embedding_layer = SpatialDropout1D(0.2)(pretrained_embedding_layer)\n",
    "\n",
    "custom_embedding_layer = Embedding(\n",
    "    maxWords, \n",
    "    output_dim=embeddingDimension, \n",
    "    input_length=maxSequenceLengthInWords,\n",
    "    weights = [np.load('custom_fast_text_embeddings.npy')],\n",
    "    trainable = False\n",
    ")(input_layer)\n",
    "custom_embedding_layer = SpatialDropout1D(0.2)(custom_embedding_layer)\n",
    "\n",
    "embedding = Average()([pretrained_embedding_layer, custom_embedding_layer])\n",
    "embedding_dropout = SpatialDropout1D(0.2)(embedding)\n",
    "\n",
    "features_1 = one_by_one(filtersNumber, embedding_dropout)\n",
    "features_1 = Add()([features_1, embedding_dropout])\n",
    "features_2 = one_by_one(filtersNumber, features_1)\n",
    "features_2 = Add()([features_2, features_1])\n",
    "features_3 = one_by_one(filtersNumber, features_2)\n",
    "features_3 = Add()([features_3, features_2])\n",
    "\n",
    "features_4 = one_by_one(filtersNumber, features_3)\n",
    "features_4 = Add()([features_4, features_3])\n",
    "features_5 = one_by_one(filtersNumber, features_4)\n",
    "features_5 = Add()([features_5, features_4])\n",
    "features_6 = one_by_one(filtersNumber, features_5)\n",
    "features_6 = Add()([features_6, features_5])\n",
    "\n",
    "features_7 = one_by_one(filtersNumber, features_6)\n",
    "features_7 = Add()([features_7, features_6])\n",
    "features_8 = one_by_one(filtersNumber, features_7)\n",
    "features_8 = Add()([features_8, features_7])\n",
    "features_9 = one_by_one(filtersNumber, features_8)\n",
    "features_9 = Add()([features_9, features_8])\n",
    "\n",
    "features = yoon_kim_feature_extractor(filtersNumber, features_9)\n",
    "\n",
    "dense_1 = Dense(256, activation = 'elu')(features)\n",
    "dense_1_normalization = BatchNormalization()(dense_1)\n",
    "dense_1_dropout = Dropout(0.2)(dense_1_normalization)\n",
    "\n",
    "dense_2 = Dense(256, activation = 'elu')(dense_1_dropout)\n",
    "dense_2_normalization = BatchNormalization()(dense_2)\n",
    "dense_2_dropout = Dropout(0.2)(dense_2_normalization)\n",
    "\n",
    "output_layer = Dense(6, activation='sigmoid')(dense_2_dropout)\n",
    "\n",
    "model = Model(inputs=[input_layer], outputs=[output_layer])\n",
    "            \n",
    "model.summary()\n",
    "\n",
    "model.compile(\n",
    "    loss='binary_crossentropy', \n",
    "    optimizer='Adam',\n",
    "    metrics=['accuracy']\n",
    ")"
   ]
  },
  {
   "cell_type": "code",
   "execution_count": 11,
   "metadata": {
    "colab": {
     "autoexec": {
      "startup": false,
      "wait_interval": 0
     },
     "base_uri": "https://localhost:8080/",
     "height": 1281
    },
    "colab_type": "code",
    "executionInfo": {
     "elapsed": 25527004,
     "status": "ok",
     "timestamp": 1526444198091,
     "user": {
      "displayName": "Deep Learner",
      "photoUrl": "https://lh3.googleusercontent.com/a/default-user=s128",
      "userId": "102934620980301123540"
     },
     "user_tz": -120
    },
    "id": "xwMmTewgXynz",
    "outputId": "83fda697-128e-44cb-945f-ecf13c5ecee8"
   },
   "outputs": [
    {
     "name": "stdout",
     "output_type": "stream",
     "text": [
      "Train on 102124 samples, validate on 25532 samples\n",
      "Epoch 1/32\n",
      "102124/102124 [==============================] - 847s 8ms/step - loss: 0.0896 - acc: 0.9671 - val_loss: 0.0472 - val_acc: 0.9822===>.] - ETA: 0s - loss: 0.0896 - acc: 0.967\n",
      "Epoch 2/32\n",
      " 10144/102124 [=>............................] - ETA: 11:44 - loss: 0.0625 - acc: 0.9771102112/102124 [============================>.] - ETA: 0s - loss: 0.0570 - acc: 0.9792102124/102124 [==============================] - 840s 8ms/step - loss: 0.0570 - acc: 0.9792 - val_loss: 0.0470 - val_acc: 0.9820\n",
      "roc-auc: 0.9805 - roc-auc_val: 0.9782                                                                                                    \n",
      "Epoch 3/32\n",
      "102124/102124 [==============================] - 841s 8ms/step - loss: 0.0527 - acc: 0.9804 - val_loss: 0.0433 - val_acc: 0.9837===>.] - ETA: 0s - loss: 0.0527 - acc: 0.980\n",
      "Epoch 4/32\n",
      " 10144/102124 [=>............................] - ETA: 11:44 - loss: 0.0483 - acc: 0.9811102112/102124 [============================>.] - ETA: 0s - loss: 0.0497 - acc: 0.9813102124/102124 [==============================] - 841s 8ms/step - loss: 0.0497 - acc: 0.9813 - val_loss: 0.0457 - val_acc: 0.9826\n",
      "roc-auc: 0.9851 - roc-auc_val: 0.9817                                                                                                    \n",
      "Epoch 5/32\n",
      "102124/102124 [==============================] - 839s 8ms/step - loss: 0.0481 - acc: 0.9819 - val_loss: 0.0433 - val_acc: 0.9833===>.] - ETA: 0s - loss: 0.0481 - acc: 0.981\n",
      "\n",
      "Epoch 00005: ReduceLROnPlateau reducing learning rate to 0.0003298769879620522.\n",
      "Epoch 6/32\n",
      "  8032/102124 [=>............................] - ETA: 11:52 - loss: 0.0511 - acc: 0.9807102112/102124 [============================>.] - ETA: 0s - loss: 0.0469 - acc: 0.9824102124/102124 [==============================] - 833s 8ms/step - loss: 0.0469 - acc: 0.9824 - val_loss: 0.0437 - val_acc: 0.9831\n",
      "roc-auc: 0.9873 - roc-auc_val: 0.9835                                                                                                    \n",
      "Epoch 7/32\n",
      "102124/102124 [==============================] - 833s 8ms/step - loss: 0.0456 - acc: 0.9826 - val_loss: 0.0429 - val_acc: 0.9839===>.] - ETA: 0s - loss: 0.0456 - acc: 0.982\n",
      "Epoch 8/32\n",
      " 10144/102124 [=>............................] - ETA: 11:38 - loss: 0.0409 - acc: 0.9842102112/102124 [============================>.] - ETA: 0s - loss: 0.0443 - acc: 0.9829102124/102124 [==============================] - 833s 8ms/step - loss: 0.0443 - acc: 0.9829 - val_loss: 0.0428 - val_acc: 0.9837\n",
      "roc-auc: 0.988 - roc-auc_val: 0.9848                                                                                                    \n",
      "Epoch 9/32\n",
      "102124/102124 [==============================] - 833s 8ms/step - loss: 0.0431 - acc: 0.9832 - val_loss: 0.0415 - val_acc: 0.9841===>.] - ETA: 0s - loss: 0.0431 - acc: 0.983\n",
      "Epoch 10/32\n",
      " 10112/102124 [=>............................] - ETA: 11:37 - loss: 0.0421 - acc: 0.9835102112/102124 [============================>.] - ETA: 0s - loss: 0.0422 - acc: 0.9836102124/102124 [==============================] - 833s 8ms/step - loss: 0.0422 - acc: 0.9836 - val_loss: 0.0411 - val_acc: 0.9843\n",
      "roc-auc: 0.9915 - roc-auc_val: 0.9869                                                                                                    \n",
      "Epoch 11/32\n",
      "102124/102124 [==============================] - 833s 8ms/step - loss: 0.0414 - acc: 0.9839 - val_loss: 0.0404 - val_acc: 0.9845===>.] - ETA: 0s - loss: 0.0414 - acc: 0.983\n",
      "Epoch 12/32\n",
      " 10112/102124 [=>............................] - ETA: 11:37 - loss: 0.0413 - acc: 0.9833102112/102124 [============================>.] - ETA: 0s - loss: 0.0408 - acc: 0.9840102124/102124 [==============================] - 833s 8ms/step - loss: 0.0408 - acc: 0.9840 - val_loss: 0.0410 - val_acc: 0.9845\n",
      "roc-auc: 0.9916 - roc-auc_val: 0.9847                                                                                                    \n",
      "Epoch 13/32\n",
      "102124/102124 [==============================] - 833s 8ms/step - loss: 0.0401 - acc: 0.9841 - val_loss: 0.0416 - val_acc: 0.9841===>.] - ETA: 0s - loss: 0.0401 - acc: 0.984\n",
      "Epoch 14/32\n",
      " 10112/102124 [=>............................] - ETA: 11:37 - loss: 0.0386 - acc: 0.9841102112/102124 [============================>.] - ETA: 0s - loss: 0.0395 - acc: 0.9843102124/102124 [==============================] - 833s 8ms/step - loss: 0.0395 - acc: 0.9843 - val_loss: 0.0406 - val_acc: 0.9843\n",
      "roc-auc: 0.9928 - roc-auc_val: 0.9874                                                                                                    \n",
      "Epoch 15/32\n",
      "102124/102124 [==============================] - 832s 8ms/step - loss: 0.0389 - acc: 0.9846 - val_loss: 0.0407 - val_acc: 0.9843===>.] - ETA: 0s - loss: 0.0389 - acc: 0.984\n",
      "Epoch 16/32\n",
      " 10112/102124 [=>............................] - ETA: 11:38 - loss: 0.0383 - acc: 0.9847102112/102124 [============================>.] - ETA: 0s - loss: 0.0382 - acc: 0.9848102124/102124 [==============================] - 833s 8ms/step - loss: 0.0382 - acc: 0.9848 - val_loss: 0.0399 - val_acc: 0.9844\n",
      "roc-auc: 0.994 - roc-auc_val: 0.9879                                                                                                    \n",
      "Epoch 17/32\n",
      "102124/102124 [==============================] - 835s 8ms/step - loss: 0.0377 - acc: 0.9848 - val_loss: 0.0404 - val_acc: 0.9845===>.] - ETA: 0s - loss: 0.0377 - acc: 0.984\n",
      "Epoch 18/32\n",
      "102124/102124 [==============================] - 833s 8ms/step - loss: 0.0373 - acc: 0.9849 - val_loss: 0.0399 - val_acc: 0.9846===>.] - ETA: 0s - loss: 0.0373 - acc: 0.984\n",
      "\n",
      "Epoch 00018: ReduceLROnPlateau reducing learning rate to 8.53775127325207e-05.\n",
      "roc-auc: 0.9943 - roc-auc_val: 0.9876                                                                                                    \n",
      "Epoch 19/32\n",
      "102124/102124 [==============================] - 835s 8ms/step - loss: 0.0369 - acc: 0.9853 - val_loss: 0.0409 - val_acc: 0.9844===>.] - ETA: 0s - loss: 0.0369 - acc: 0.985\n",
      "Epoch 20/32\n",
      " 10112/102124 [=>............................] - ETA: 11:36 - loss: 0.0351 - acc: 0.9864102112/102124 [============================>.] - ETA: 0s - loss: 0.0363 - acc: 0.9854102124/102124 [==============================] - 833s 8ms/step - loss: 0.0363 - acc: 0.9854 - val_loss: 0.0408 - val_acc: 0.9845\n",
      "roc-auc: 0.994 - roc-auc_val: 0.9872                                                                                                    \n",
      "Epoch 21/32\n",
      "102124/102124 [==============================] - 834s 8ms/step - loss: 0.0358 - acc: 0.9856 - val_loss: 0.0401 - val_acc: 0.9846===>.] - ETA: 0s - loss: 0.0358 - acc: 0.985\n",
      "Epoch 22/32\n",
      " 10112/102124 [=>............................] - ETA: 11:41 - loss: 0.0339 - acc: 0.9865102112/102124 [============================>.] - ETA: 0s - loss: 0.0356 - acc: 0.9856102124/102124 [==============================] - 835s 8ms/step - loss: 0.0356 - acc: 0.9856 - val_loss: 0.0403 - val_acc: 0.9846\n",
      "roc-auc: 0.9947 - roc-auc_val: 0.9876                                                                                                    \n",
      "Epoch 23/32\n",
      "102124/102124 [==============================] - 836s 8ms/step - loss: 0.0352 - acc: 0.9858 - val_loss: 0.0405 - val_acc: 0.9844===>.] - ETA: 0s - loss: 0.0352 - acc: 0.985\n",
      "Epoch 24/32\n",
      " 10112/102124 [=>............................] - ETA: 11:43 - loss: 0.0344 - acc: 0.9859102112/102124 [============================>.] - ETA: 0s - loss: 0.0352 - acc: 0.9858102124/102124 [==============================] - 838s 8ms/step - loss: 0.0352 - acc: 0.9858 - val_loss: 0.0409 - val_acc: 0.9844\n",
      "roc-auc: 0.9955 - roc-auc_val: 0.987                                                                                                    \n",
      "Epoch 25/32\n",
      "102124/102124 [==============================] - 836s 8ms/step - loss: 0.0346 - acc: 0.9860 - val_loss: 0.0410 - val_acc: 0.9844===>.] - ETA: 0s - loss: 0.0346 - acc: 0.986\n",
      "Epoch 26/32\n",
      " 10112/102124 [=>............................] - ETA: 11:40 - loss: 0.0338 - acc: 0.9862102112/102124 [============================>.] - ETA: 0s - loss: 0.0344 - acc: 0.9862102124/102124 [==============================] - 838s 8ms/step - loss: 0.0344 - acc: 0.9862 - val_loss: 0.0407 - val_acc: 0.9844\n",
      "roc-auc: 0.9956 - roc-auc_val: 0.9869                                                                                                    \n"
     ]
    }
   ],
   "source": [
    "history = train_with_cv(model, batchSize=32, rocEvery = 2)"
   ]
  },
  {
   "cell_type": "code",
   "execution_count": 12,
   "metadata": {
    "colab": {
     "autoexec": {
      "startup": false,
      "wait_interval": 0
     },
     "base_uri": "https://localhost:8080/",
     "height": 293
    },
    "colab_type": "code",
    "executionInfo": {
     "elapsed": 3784,
     "status": "ok",
     "timestamp": 1526444201920,
     "user": {
      "displayName": "Deep Learner",
      "photoUrl": "https://lh3.googleusercontent.com/a/default-user=s128",
      "userId": "102934620980301123540"
     },
     "user_tz": -120
    },
    "id": "sms3R-U4469B",
    "outputId": "32dd6c5a-9909-48f8-9aa4-7f6a7f356518"
   },
   "outputs": [
    {
     "data": {
      "image/png": "[encoded data removed]",
      "text/plain": [
       "<matplotlib.figure.Figure at 0x7fd066048cf8>"
      ]
     },
     "metadata": {
      "tags": []
     },
     "output_type": "display_data"
    }
   ],
   "source": [
    "plot_history(history)"
   ]
  },
  {
   "cell_type": "code",
   "execution_count": 13,
   "metadata": {
    "colab": {
     "autoexec": {
      "startup": false,
      "wait_interval": 0
     },
     "base_uri": "https://localhost:8080/",
     "height": 52
    },
    "colab_type": "code",
    "executionInfo": {
     "elapsed": 150684,
     "status": "ok",
     "timestamp": 1526444353398,
     "user": {
      "displayName": "Deep Learner",
      "photoUrl": "https://lh3.googleusercontent.com/a/default-user=s128",
      "userId": "102934620980301123540"
     },
     "user_tz": -120
    },
    "id": "r2gtMBj2Tp9A",
    "outputId": "a8b9958f-2b27-4937-ee53-210a023020bf"
   },
   "outputs": [
    {
     "name": "stdout",
     "output_type": "stream",
     "text": [
      "31915/31915 [==============================] - 77s 2ms/step\n",
      "([0.038508724779609635, 0.9849182592315321], 0.9896183223992665)\n"
     ]
    }
   ],
   "source": [
    "print(evaluate_on_test(model))"
   ]
  }
 ],
 "metadata": {
  "accelerator": "GPU",
  "colab": {
   "collapsed_sections": [],
   "default_view": {},
   "name": "one-by-one-cnn-3-add-3.ipynb",
   "provenance": [],
   "version": "0.3.2",
   "views": {}
  },
  "kernelspec": {
   "display_name": "Python 3",
   "language": "python",
   "name": "python3"
  },
  "language_info": {
   "codemirror_mode": {
    "name": "ipython",
    "version": 3
   },
   "file_extension": ".py",
   "mimetype": "text/x-python",
   "name": "python",
   "nbconvert_exporter": "python",
   "pygments_lexer": "ipython3",
   "version": "3.6.2"
  }
 },
 "nbformat": 4,
 "nbformat_minor": 1
}

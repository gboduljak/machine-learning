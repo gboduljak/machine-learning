{
  "nbformat": 4,
  "nbformat_minor": 0,
  "metadata": {
    "colab": {
      "name": "one_by_one_cnn_3_highway_1.ipynb",
      "version": "0.3.2",
      "views": {},
      "default_view": {},
      "provenance": [],
      "collapsed_sections": []
    },
    "kernelspec": {
      "display_name": "Python 3",
      "language": "python",
      "name": "python3"
    },
    "accelerator": "GPU"
  },
  "cells": [
    {
      "metadata": {
        "id": "yS1FnhiWX3Js",
        "colab_type": "code",
        "colab": {
          "autoexec": {
            "startup": false,
            "wait_interval": 0
          },
          "base_uri": "https://localhost:8080/",
          "height": 292
        },
        "outputId": "21bfe928-ee35-4b35-ca8f-df616e2c9273",
        "executionInfo": {
          "status": "ok",
          "timestamp": 1531066180581,
          "user_tz": -120,
          "elapsed": 10052,
          "user": {
            "displayName": "Deep Learning",
            "photoUrl": "https://lh3.googleusercontent.com/a/default-user=s128",
            "userId": "115257841230779963257"
          }
        }
      },
      "cell_type": "code",
      "source": [
        "!pip install keras\n",
        "!pip install sklearn\n",
        "!pip install matplotlib\n",
        "!pip install -U -q PyDrive"
      ],
      "execution_count": 1,
      "outputs": [
        {
          "output_type": "stream",
          "text": [
            "Requirement already satisfied: keras in /usr/local/lib/python3.6/dist-packages (2.1.6)\r\n",
            "Requirement already satisfied: scipy>=0.14 in /usr/local/lib/python3.6/dist-packages (from keras) (0.19.1)\r\n",
            "Requirement already satisfied: numpy>=1.9.1 in /usr/local/lib/python3.6/dist-packages (from keras) (1.14.5)\r\n",
            "Requirement already satisfied: pyyaml in /usr/local/lib/python3.6/dist-packages (from keras) (3.12)\r\n",
            "Requirement already satisfied: h5py in /usr/local/lib/python3.6/dist-packages (from keras) (2.8.0)\r\n",
            "Requirement already satisfied: six>=1.9.0 in /usr/local/lib/python3.6/dist-packages (from keras) (1.11.0)\n",
            "Requirement already satisfied: sklearn in /usr/local/lib/python3.6/dist-packages (0.0)\n",
            "Requirement already satisfied: scikit-learn in /usr/local/lib/python3.6/dist-packages (from sklearn) (0.19.1)\n",
            "Requirement already satisfied: matplotlib in /usr/local/lib/python3.6/dist-packages (2.1.2)\n",
            "Requirement already satisfied: six>=1.10 in /usr/local/lib/python3.6/dist-packages (from matplotlib) (1.11.0)\n",
            "Requirement already satisfied: pyparsing!=2.0.4,!=2.1.2,!=2.1.6,>=2.0.1 in /usr/local/lib/python3.6/dist-packages (from matplotlib) (2.2.0)\n",
            "Requirement already satisfied: cycler>=0.10 in /usr/local/lib/python3.6/dist-packages (from matplotlib) (0.10.0)\n",
            "Requirement already satisfied: pytz in /usr/local/lib/python3.6/dist-packages (from matplotlib) (2018.5)\n",
            "Requirement already satisfied: numpy>=1.7.1 in /usr/local/lib/python3.6/dist-packages (from matplotlib) (1.14.5)\n",
            "Requirement already satisfied: python-dateutil>=2.1 in /usr/local/lib/python3.6/dist-packages (from matplotlib) (2.5.3)\n"
          ],
          "name": "stdout"
        }
      ]
    },
    {
      "metadata": {
        "id": "xlKzkDJFrjA-",
        "colab_type": "code",
        "colab": {
          "autoexec": {
            "startup": false,
            "wait_interval": 0
          },
          "base_uri": "https://localhost:8080/",
          "height": 34
        },
        "outputId": "d64fc2db-f468-43cf-9299-f0740ffb8d79",
        "executionInfo": {
          "status": "ok",
          "timestamp": 1531066182247,
          "user_tz": -120,
          "elapsed": 1617,
          "user": {
            "displayName": "Deep Learning",
            "photoUrl": "https://lh3.googleusercontent.com/a/default-user=s128",
            "userId": "115257841230779963257"
          }
        }
      },
      "cell_type": "code",
      "source": [
        "from keras import backend as K\n",
        "K.clear_session()"
      ],
      "execution_count": 2,
      "outputs": [
        {
          "output_type": "stream",
          "text": [
            "Using TensorFlow backend.\n"
          ],
          "name": "stderr"
        }
      ]
    },
    {
      "metadata": {
        "id": "eQEKwl4oAxO7",
        "colab_type": "code",
        "colab": {
          "autoexec": {
            "startup": false,
            "wait_interval": 0
          }
        }
      },
      "cell_type": "code",
      "source": [
        "from keras import backend as K\n",
        "cfg = K.tf.ConfigProto()\n",
        "cfg.gpu_options.allow_growth = True\n",
        "K.set_session(K.tf.Session(config=cfg))"
      ],
      "execution_count": 0,
      "outputs": []
    },
    {
      "metadata": {
        "id": "12M0egCCX-27",
        "colab_type": "code",
        "colab": {
          "autoexec": {
            "startup": false,
            "wait_interval": 0
          }
        }
      },
      "cell_type": "code",
      "source": [
        "from pydrive.auth import GoogleAuth\n",
        "from pydrive.drive import GoogleDrive\n",
        "from google.colab import auth\n",
        "from oauth2client.client import GoogleCredentials\n",
        "\n",
        "auth.authenticate_user()\n",
        "gauth = GoogleAuth()\n",
        "gauth.credentials = GoogleCredentials.get_application_default()\n",
        "drive = GoogleDrive(gauth)"
      ],
      "execution_count": 0,
      "outputs": []
    },
    {
      "metadata": {
        "id": "4lN2WTUEYBYv",
        "colab_type": "code",
        "colab": {
          "autoexec": {
            "startup": false,
            "wait_interval": 0
          }
        }
      },
      "cell_type": "code",
      "source": [
        "file_import = drive.CreateFile({'id':'1p1bsltfTcIrZ_kfE6kwGTPzcdXorHbb2'})\n",
        "file_import.GetContentFile('colab_setup.py') \n",
        "from colab_setup import setup\n",
        "\n",
        "setup(drive)"
      ],
      "execution_count": 0,
      "outputs": []
    },
    {
      "metadata": {
        "id": "cHBlD0tVj2TY",
        "colab_type": "code",
        "colab": {
          "autoexec": {
            "startup": false,
            "wait_interval": 0
          },
          "base_uri": "https://localhost:8080/",
          "height": 119
        },
        "outputId": "4f342f14-b9cd-45a7-f98e-8da9fdb90675",
        "executionInfo": {
          "status": "ok",
          "timestamp": 1531066207787,
          "user_tz": -120,
          "elapsed": 1611,
          "user": {
            "displayName": "Deep Learning",
            "photoUrl": "https://lh3.googleusercontent.com/a/default-user=s128",
            "userId": "115257841230779963257"
          }
        }
      },
      "cell_type": "code",
      "source": [
        "!ls"
      ],
      "execution_count": 6,
      "outputs": [
        {
          "output_type": "stream",
          "text": [
            "colab_setup.py\t\t\t roc_auc_callback.py\tX_train.npy\r\n",
            "custom_fast_text_embeddings.npy  sample_submission.csv\tX_val.npy\r\n",
            "datalab\t\t\t\t train_model.py\t\ty_test.npy\r\n",
            "fast_text_embeddings.npy\t X_submission.npy\ty_train_full.npy\r\n",
            "plot_history.py\t\t\t X_test.npy\t\ty_train.npy\r\n",
            "__pycache__\t\t\t X_train_full.npy\ty_val.npy\r\n"
          ],
          "name": "stdout"
        }
      ]
    },
    {
      "metadata": {
        "id": "yMwWPTMYXyno",
        "colab_type": "code",
        "colab": {
          "autoexec": {
            "startup": false,
            "wait_interval": 0
          }
        }
      },
      "cell_type": "code",
      "source": [
        "import numpy as np\n",
        "import os\n",
        "\n",
        "from plot_history import plot_history\n",
        "from roc_auc_callback import RocAucCallback\n",
        "from train_model import train_with_cv, train_with_submitting, evaluate_on_test\n",
        "\n",
        "\n",
        "from keras.models import Model\n",
        "from keras.layers import *\n",
        "from keras.initializers import *\n",
        "from keras.layers.merge import concatenate"
      ],
      "execution_count": 0,
      "outputs": []
    },
    {
      "metadata": {
        "id": "MIWjPi9bs5d4",
        "colab_type": "code",
        "colab": {
          "autoexec": {
            "startup": false,
            "wait_interval": 0
          }
        }
      },
      "cell_type": "code",
      "source": [
        "def one_by_one(filtersNumber, inputLayer, dropout = 0.2):\n",
        "    one_by_one = Conv1D(filtersNumber, 1, activation = 'elu', padding = 'same', kernel_initializer = 'he_uniform')(inputLayer)\n",
        "    one_by_one = BatchNormalization()(one_by_one)\n",
        "    one_by_one = SpatialDropout1D(dropout)(one_by_one)\n",
        "    \n",
        "    return one_by_one"
      ],
      "execution_count": 0,
      "outputs": []
    },
    {
      "metadata": {
        "id": "Qr0PAcPWjL0F",
        "colab_type": "code",
        "colab": {
          "autoexec": {
            "startup": false,
            "wait_interval": 0
          }
        }
      },
      "cell_type": "code",
      "source": [
        "def highway_conv_1d(inputLayer, filtersNumber, dropout = 0.2, keepInitialBias = -1):\n",
        "    highwayInput = Input(shape=(400, 300))\n",
        "    convolution = one_by_one(filtersNumber, highwayInput, dropout)\n",
        "    \n",
        "    keep = Conv1D(\n",
        "        filtersNumber, 1, \n",
        "        activation = 'sigmoid',\n",
        "        padding = 'same', \n",
        "        kernel_initializer = 'he_uniform',\n",
        "        bias_initializer = Constant(keepInitialBias)\n",
        "    )(highwayInput)\n",
        "    \n",
        "    keep = BatchNormalization()(keep)\n",
        "    forget = Lambda(lambda layer: 1 - layer)(keep)\n",
        "    \n",
        "    gate = add(\n",
        "        [\n",
        "            multiply([keep, convolution]),\n",
        "            multiply([forget, highwayInput])\n",
        "        ]\n",
        "    )\n",
        "    \n",
        "    return Model(inputs=[highwayInput], outputs = [gate])(inputLayer)"
      ],
      "execution_count": 0,
      "outputs": []
    },
    {
      "metadata": {
        "id": "vVOFjfqHk2Wk",
        "colab_type": "code",
        "colab": {
          "autoexec": {
            "startup": false,
            "wait_interval": 0
          }
        }
      },
      "cell_type": "code",
      "source": [
        "def highway_block(inputLayer, filtersNumber, convolutions = 3):\n",
        "    block = inputLayer\n",
        "    for i in range(convolutions):\n",
        "       block = highway_conv_1d(block, filtersNumber)\n",
        "    return block"
      ],
      "execution_count": 0,
      "outputs": []
    },
    {
      "metadata": {
        "id": "zrmoc20_ngdA",
        "colab_type": "code",
        "colab": {
          "autoexec": {
            "startup": false,
            "wait_interval": 0
          }
        }
      },
      "cell_type": "code",
      "source": [
        "def yoon_kim_feature_extractor(filtersNumber, inputLayer):\n",
        "    block_1_conv_1 = Conv1D(filtersNumber, 1, activation = 'elu', padding = 'same', kernel_initializer = 'he_uniform')(inputLayer)\n",
        "    block_1_batchnorm1 = BatchNormalization()(block_1_conv_1)\n",
        "    block_1_max_pool1 = GlobalMaxPooling1D()(block_1_batchnorm1)\n",
        "\n",
        "    block_1_conv_2 = Conv1D(filtersNumber, 2, activation = 'elu', padding = 'same', kernel_initializer = 'he_uniform')(inputLayer)\n",
        "    block_1_batchnorm2 = BatchNormalization()(block_1_conv_2)\n",
        "    block_1_max_pool2 = GlobalMaxPooling1D()(block_1_batchnorm2)\n",
        "\n",
        "    block_1_conv_3 = Conv1D(filtersNumber, 3, activation = 'elu', padding = 'same', kernel_initializer = 'he_uniform')(inputLayer)\n",
        "    block_1_batchnorm3 = BatchNormalization()(block_1_conv_3)\n",
        "    block_1_max_pool3 = GlobalMaxPooling1D()(block_1_batchnorm3)\n",
        "\n",
        "    block_1_conv_4 = Conv1D(filtersNumber, 5, activation = 'elu', padding = 'same', kernel_initializer = 'he_uniform')(inputLayer)\n",
        "    block_1_batchnorm4 = BatchNormalization()(block_1_conv_4)\n",
        "    block_1_max_pool4 = GlobalMaxPooling1D()(block_1_batchnorm4)\n",
        "\n",
        "    block_1_features = concatenate([\n",
        "        block_1_max_pool1, \n",
        "        block_1_max_pool2, \n",
        "        block_1_max_pool3, \n",
        "        block_1_max_pool4\n",
        "    ])\n",
        "    block_1_features = Dropout(0.2)(block_1_features)\n",
        "    return block_1_features"
      ],
      "execution_count": 0,
      "outputs": []
    },
    {
      "metadata": {
        "id": "LTFG7OgsXynw",
        "colab_type": "code",
        "colab": {
          "autoexec": {
            "startup": false,
            "wait_interval": 0
          },
          "base_uri": "https://localhost:8080/",
          "height": 1258
        },
        "outputId": "1684ccae-5e25-45ec-ab79-368b3bb6674c",
        "executionInfo": {
          "status": "ok",
          "timestamp": 1531066214835,
          "user_tz": -120,
          "elapsed": 3593,
          "user": {
            "displayName": "Deep Learning",
            "photoUrl": "https://lh3.googleusercontent.com/a/default-user=s128",
            "userId": "115257841230779963257"
          }
        }
      },
      "cell_type": "code",
      "source": [
        "maxWords = 30000\n",
        "maxSequenceLengthInWords = 400\n",
        "embeddingDimension = 300\n",
        "filtersNumber = 300\n",
        "\n",
        "input_layer = Input(shape=(maxSequenceLengthInWords,))\n",
        "\n",
        "pretrained_embedding_layer = Embedding(\n",
        "    maxWords, \n",
        "    output_dim=embeddingDimension, \n",
        "    input_length=maxSequenceLengthInWords,\n",
        "    weights = [np.load('fast_text_embeddings.npy')],\n",
        "    trainable = False\n",
        ")(input_layer)\n",
        "pretrained_embedding_layer = SpatialDropout1D(0.2)(pretrained_embedding_layer)\n",
        "\n",
        "custom_embedding_layer = Embedding(\n",
        "    maxWords, \n",
        "    output_dim=embeddingDimension, \n",
        "    input_length=maxSequenceLengthInWords,\n",
        "    weights = [np.load('custom_fast_text_embeddings.npy')],\n",
        "    trainable = False\n",
        ")(input_layer)\n",
        "custom_embedding_layer = SpatialDropout1D(0.2)(custom_embedding_layer)\n",
        "\n",
        "embedding = Average()([pretrained_embedding_layer, custom_embedding_layer])\n",
        "embedding_dropout = SpatialDropout1D(0.2)(embedding)\n",
        "\n",
        "highway = highway_block(embedding_dropout, 300, 3)\n",
        "\n",
        "features = yoon_kim_feature_extractor(filtersNumber, highway)\n",
        "\n",
        "dense_1 = Dense(256, activation = 'elu')(features)\n",
        "dense_1_normalization = BatchNormalization()(dense_1)\n",
        "dense_1_dropout = Dropout(0.2)(dense_1_normalization)\n",
        "\n",
        "dense_2 = Dense(256, activation = 'elu')(dense_1_dropout)\n",
        "dense_2_normalization = BatchNormalization()(dense_2)\n",
        "dense_2_dropout = Dropout(0.2)(dense_2_normalization)\n",
        "\n",
        "output_layer = Dense(6, activation='sigmoid')(dense_2_dropout)\n",
        "\n",
        "model = Model(inputs=[input_layer], outputs=[output_layer])\n",
        "            \n",
        "model.summary()\n",
        "\n",
        "model.compile(\n",
        "    loss='binary_crossentropy', \n",
        "    optimizer='Adam',\n",
        "    metrics=['accuracy']\n",
        ")"
      ],
      "execution_count": 12,
      "outputs": [
        {
          "output_type": "stream",
          "text": [
            "__________________________________________________________________________________________________\n",
            "Layer (type)                    Output Shape         Param #     Connected to                     \n",
            "==================================================================================================\n",
            "input_1 (InputLayer)            (None, 400)          0                                            \n",
            "__________________________________________________________________________________________________\n",
            "embedding_1 (Embedding)         (None, 400, 300)     9000000     input_1[0][0]                    \n",
            "__________________________________________________________________________________________________\n",
            "embedding_2 (Embedding)         (None, 400, 300)     9000000     input_1[0][0]                    \n",
            "__________________________________________________________________________________________________\n",
            "spatial_dropout1d_1 (SpatialDro (None, 400, 300)     0           embedding_1[0][0]                \n",
            "__________________________________________________________________________________________________\n",
            "spatial_dropout1d_2 (SpatialDro (None, 400, 300)     0           embedding_2[0][0]                \n",
            "__________________________________________________________________________________________________\n",
            "average_1 (Average)             (None, 400, 300)     0           spatial_dropout1d_1[0][0]        \n",
            "                                                                 spatial_dropout1d_2[0][0]        \n",
            "__________________________________________________________________________________________________\n",
            "spatial_dropout1d_3 (SpatialDro (None, 400, 300)     0           average_1[0][0]                  \n",
            "__________________________________________________________________________________________________\n",
            "model_1 (Model)                 (None, 400, 300)     183000      spatial_dropout1d_3[0][0]        \n",
            "__________________________________________________________________________________________________\n",
            "model_2 (Model)                 (None, 400, 300)     183000      model_1[1][0]                    \n",
            "__________________________________________________________________________________________________\n",
            "model_3 (Model)                 (None, 400, 300)     183000      model_2[1][0]                    \n",
            "__________________________________________________________________________________________________\n",
            "conv1d_7 (Conv1D)               (None, 400, 300)     90300       model_3[1][0]                    \n",
            "__________________________________________________________________________________________________\n",
            "conv1d_8 (Conv1D)               (None, 400, 300)     180300      model_3[1][0]                    \n",
            "__________________________________________________________________________________________________\n",
            "conv1d_9 (Conv1D)               (None, 400, 300)     270300      model_3[1][0]                    \n",
            "__________________________________________________________________________________________________\n",
            "conv1d_10 (Conv1D)              (None, 400, 300)     450300      model_3[1][0]                    \n",
            "__________________________________________________________________________________________________\n",
            "batch_normalization_7 (BatchNor (None, 400, 300)     1200        conv1d_7[0][0]                   \n",
            "__________________________________________________________________________________________________\n",
            "batch_normalization_8 (BatchNor (None, 400, 300)     1200        conv1d_8[0][0]                   \n",
            "__________________________________________________________________________________________________\n",
            "batch_normalization_9 (BatchNor (None, 400, 300)     1200        conv1d_9[0][0]                   \n",
            "__________________________________________________________________________________________________\n",
            "batch_normalization_10 (BatchNo (None, 400, 300)     1200        conv1d_10[0][0]                  \n",
            "__________________________________________________________________________________________________\n",
            "global_max_pooling1d_1 (GlobalM (None, 300)          0           batch_normalization_7[0][0]      \n",
            "__________________________________________________________________________________________________\n",
            "global_max_pooling1d_2 (GlobalM (None, 300)          0           batch_normalization_8[0][0]      \n",
            "__________________________________________________________________________________________________\n",
            "global_max_pooling1d_3 (GlobalM (None, 300)          0           batch_normalization_9[0][0]      \n",
            "__________________________________________________________________________________________________\n",
            "global_max_pooling1d_4 (GlobalM (None, 300)          0           batch_normalization_10[0][0]     \n",
            "__________________________________________________________________________________________________\n",
            "concatenate_1 (Concatenate)     (None, 1200)         0           global_max_pooling1d_1[0][0]     \n",
            "                                                                 global_max_pooling1d_2[0][0]     \n",
            "                                                                 global_max_pooling1d_3[0][0]     \n",
            "                                                                 global_max_pooling1d_4[0][0]     \n",
            "__________________________________________________________________________________________________\n",
            "dropout_1 (Dropout)             (None, 1200)         0           concatenate_1[0][0]              \n",
            "__________________________________________________________________________________________________\n",
            "dense_1 (Dense)                 (None, 256)          307456      dropout_1[0][0]                  \n",
            "__________________________________________________________________________________________________\n",
            "batch_normalization_11 (BatchNo (None, 256)          1024        dense_1[0][0]                    \n",
            "__________________________________________________________________________________________________\n",
            "dropout_2 (Dropout)             (None, 256)          0           batch_normalization_11[0][0]     \n",
            "__________________________________________________________________________________________________\n",
            "dense_2 (Dense)                 (None, 256)          65792       dropout_2[0][0]                  \n",
            "__________________________________________________________________________________________________\n",
            "batch_normalization_12 (BatchNo (None, 256)          1024        dense_2[0][0]                    \n",
            "__________________________________________________________________________________________________\n",
            "dropout_3 (Dropout)             (None, 256)          0           batch_normalization_12[0][0]     \n",
            "__________________________________________________________________________________________________\n",
            "dense_3 (Dense)                 (None, 6)            1542        dropout_3[0][0]                  \n",
            "==================================================================================================\n",
            "Total params: 19,921,838\n",
            "Trainable params: 1,914,814\n",
            "Non-trainable params: 18,007,024\n",
            "__________________________________________________________________________________________________\n"
          ],
          "name": "stdout"
        }
      ]
    },
    {
      "metadata": {
        "id": "xwMmTewgXynz",
        "colab_type": "code",
        "colab": {
          "autoexec": {
            "startup": false,
            "wait_interval": 0
          },
          "base_uri": "https://localhost:8080/",
          "height": 1482
        },
        "outputId": "59f593ef-f61b-4eb1-a1cf-967ca5c76c05",
        "executionInfo": {
          "status": "ok",
          "timestamp": 1531090934605,
          "user_tz": -120,
          "elapsed": 24719683,
          "user": {
            "displayName": "Deep Learning",
            "photoUrl": "https://lh3.googleusercontent.com/a/default-user=s128",
            "userId": "115257841230779963257"
          }
        }
      },
      "cell_type": "code",
      "source": [
        "history = train_with_cv(model, batchSize=32, rocEvery = 2)"
      ],
      "execution_count": 13,
      "outputs": [
        {
          "output_type": "stream",
          "text": [
            "Train on 102124 samples, validate on 25532 samples\n",
            "Epoch 1/32\n",
            " 21376/102124 [=====>........................] - ETA: 8:19 - loss: 0.2160 - acc: 0.9229"
          ],
          "name": "stdout"
        },
        {
          "output_type": "stream",
          "text": [
            " 91712/102124 [=========================>....] - ETA: 1:02 - loss: 0.1079 - acc: 0.9624"
          ],
          "name": "stdout"
        },
        {
          "output_type": "stream",
          "text": [
            "102124/102124 [==============================] - 661s 6ms/step - loss: 0.1034 - acc: 0.9640 - val_loss: 0.0604 - val_acc: 0.9798\n",
            "Epoch 2/32\n",
            " 10048/102124 [=>............................] - ETA: 9:08 - loss: 0.0664 - acc: 0.9769"
          ],
          "name": "stdout"
        },
        {
          "output_type": "stream",
          "text": [
            " 52384/102124 [==============>...............] - ETA: 4:56 - loss: 0.0651 - acc: 0.9768"
          ],
          "name": "stdout"
        },
        {
          "output_type": "stream",
          "text": [
            " 88992/102124 [=========================>....] - ETA: 1:18 - loss: 0.0636 - acc: 0.9773"
          ],
          "name": "stdout"
        },
        {
          "output_type": "stream",
          "text": [
            "102124/102124 [==============================] - 656s 6ms/step - loss: 0.0633 - acc: 0.9774 - val_loss: 0.0528 - val_acc: 0.9803\n",
            "roc-auc: 0.9711 - roc-auc_val: 0.9692                                                                                                    \n",
            "Epoch 3/32\n",
            "  5632/102124 [>.............................] - ETA: 9:35 - loss: 0.0609 - acc: 0.9780"
          ],
          "name": "stdout"
        },
        {
          "output_type": "stream",
          "text": [
            " 42400/102124 [===========>..................] - ETA: 5:56 - loss: 0.0612 - acc: 0.9779"
          ],
          "name": "stdout"
        },
        {
          "output_type": "stream",
          "text": [
            "102112/102124 [============================>.] - ETA: 0s - loss: 0.0595 - acc: 0.9784"
          ],
          "name": "stdout"
        },
        {
          "output_type": "stream",
          "text": [
            "102124/102124 [==============================] - 656s 6ms/step - loss: 0.0595 - acc: 0.9784 - val_loss: 0.0544 - val_acc: 0.9791\n",
            "Epoch 4/32\n",
            " 13984/102124 [===>..........................] - ETA: 8:45 - loss: 0.0566 - acc: 0.9794"
          ],
          "name": "stdout"
        },
        {
          "output_type": "stream",
          "text": [
            " 64448/102124 [=================>............] - ETA: 3:44 - loss: 0.0566 - acc: 0.9793"
          ],
          "name": "stdout"
        },
        {
          "output_type": "stream",
          "text": [
            "101440/102124 [============================>.] - ETA: 4s - loss: 0.0561 - acc: 0.9794"
          ],
          "name": "stdout"
        },
        {
          "output_type": "stream",
          "text": [
            "102124/102124 [==============================] - 656s 6ms/step - loss: 0.0561 - acc: 0.9793 - val_loss: 0.0503 - val_acc: 0.9813\n",
            "roc-auc: 0.9802 - roc-auc_val: 0.9777                                                                                                    \n",
            "Epoch 5/32\n",
            "  8544/102124 [=>............................] - ETA: 9:17 - loss: 0.0529 - acc: 0.9804"
          ],
          "name": "stdout"
        },
        {
          "output_type": "stream",
          "text": [
            " 56896/102124 [===============>..............] - ETA: 4:29 - loss: 0.0535 - acc: 0.9803"
          ],
          "name": "stdout"
        },
        {
          "output_type": "stream",
          "text": [
            "102112/102124 [============================>.] - ETA: 0s - loss: 0.0535 - acc: 0.9802"
          ],
          "name": "stdout"
        },
        {
          "output_type": "stream",
          "text": [
            "102124/102124 [==============================] - 656s 6ms/step - loss: 0.0535 - acc: 0.9802 - val_loss: 0.0491 - val_acc: 0.9814\n",
            "Epoch 6/32\n",
            " 14016/102124 [===>..........................] - ETA: 8:45 - loss: 0.0525 - acc: 0.9803"
          ],
          "name": "stdout"
        },
        {
          "output_type": "stream",
          "text": [
            " 92992/102124 [==========================>...] - ETA: 54s - loss: 0.0524 - acc: 0.9805"
          ],
          "name": "stdout"
        },
        {
          "output_type": "stream",
          "text": [
            "102124/102124 [==============================] - 656s 6ms/step - loss: 0.0521 - acc: 0.9806 - val_loss: 0.0465 - val_acc: 0.9821\n",
            "roc-auc: 0.9829 - roc-auc_val: 0.9811                                                                                                    \n",
            "Epoch 7/32\n",
            "  6592/102124 [>.............................] - ETA: 9:30 - loss: 0.0512 - acc: 0.9814"
          ],
          "name": "stdout"
        },
        {
          "output_type": "stream",
          "text": [
            " 52768/102124 [==============>...............] - ETA: 4:54 - loss: 0.0507 - acc: 0.9812"
          ],
          "name": "stdout"
        },
        {
          "output_type": "stream",
          "text": [
            " 97120/102124 [===========================>..] - ETA: 29s - loss: 0.0510 - acc: 0.9810"
          ],
          "name": "stdout"
        },
        {
          "output_type": "stream",
          "text": [
            "102124/102124 [==============================] - 656s 6ms/step - loss: 0.0508 - acc: 0.9810 - val_loss: 0.0456 - val_acc: 0.9825\n",
            "Epoch 8/32\n",
            " 12096/102124 [==>...........................] - ETA: 8:56 - loss: 0.0499 - acc: 0.9819"
          ],
          "name": "stdout"
        },
        {
          "output_type": "stream",
          "text": [
            " 99040/102124 [============================>.] - ETA: 18s - loss: 0.0494 - acc: 0.9815"
          ],
          "name": "stdout"
        },
        {
          "output_type": "stream",
          "text": [
            "102124/102124 [==============================] - 656s 6ms/step - loss: 0.0495 - acc: 0.9814 - val_loss: 0.0464 - val_acc: 0.9823\n",
            "roc-auc: 0.9832 - roc-auc_val: 0.9817                                                                                                    \n",
            "Epoch 9/32\n",
            "  8000/102124 [=>............................] - ETA: 9:20 - loss: 0.0477 - acc: 0.9824"
          ],
          "name": "stdout"
        },
        {
          "output_type": "stream",
          "text": [
            " 71232/102124 [===================>..........] - ETA: 3:04 - loss: 0.0490 - acc: 0.9815"
          ],
          "name": "stdout"
        },
        {
          "output_type": "stream",
          "text": [
            "102124/102124 [==============================] - 656s 6ms/step - loss: 0.0488 - acc: 0.9816 - val_loss: 0.0457 - val_acc: 0.9827\n",
            "\n",
            "Epoch 00009: ReduceLROnPlateau reducing learning rate to 0.00021763764380011708.\n",
            "Epoch 10/32\n",
            "  1632/102124 [..............................] - ETA: 9:59 - loss: 0.0517 - acc: 0.9838"
          ],
          "name": "stdout"
        },
        {
          "output_type": "stream",
          "text": [
            " 94144/102124 [==========================>...] - ETA: 47s - loss: 0.0482 - acc: 0.9818"
          ],
          "name": "stdout"
        },
        {
          "output_type": "stream",
          "text": [
            "102124/102124 [==============================] - 656s 6ms/step - loss: 0.0483 - acc: 0.9817 - val_loss: 0.0488 - val_acc: 0.9821\n",
            "roc-auc: 0.9848 - roc-auc_val: 0.9828                                                                                                    \n",
            "Epoch 11/32\n",
            "  6784/102124 [>.............................] - ETA: 9:28 - loss: 0.0500 - acc: 0.9815"
          ],
          "name": "stdout"
        },
        {
          "output_type": "stream",
          "text": [
            " 47552/102124 [============>.................] - ETA: 5:25 - loss: 0.0469 - acc: 0.9825"
          ],
          "name": "stdout"
        },
        {
          "output_type": "stream",
          "text": [
            " 96608/102124 [===========================>..] - ETA: 32s - loss: 0.0474 - acc: 0.9821"
          ],
          "name": "stdout"
        },
        {
          "output_type": "stream",
          "text": [
            "102124/102124 [==============================] - 656s 6ms/step - loss: 0.0475 - acc: 0.9820 - val_loss: 0.0452 - val_acc: 0.9828\n",
            "Epoch 12/32\n",
            " 11776/102124 [==>...........................] - ETA: 8:59 - loss: 0.0458 - acc: 0.9827"
          ],
          "name": "stdout"
        },
        {
          "output_type": "stream",
          "text": [
            " 72128/102124 [====================>.........] - ETA: 2:58 - loss: 0.0469 - acc: 0.9822"
          ],
          "name": "stdout"
        },
        {
          "output_type": "stream",
          "text": [
            "102124/102124 [==============================] - 656s 6ms/step - loss: 0.0470 - acc: 0.9822 - val_loss: 0.0465 - val_acc: 0.9821\n",
            "roc-auc: 0.9871 - roc-auc_val: 0.9843                                                                                                    \n",
            "Epoch 13/32\n",
            "  1600/102124 [..............................] - ETA: 9:59 - loss: 0.0451 - acc: 0.9836"
          ],
          "name": "stdout"
        },
        {
          "output_type": "stream",
          "text": [
            " 41984/102124 [===========>..................] - ETA: 5:58 - loss: 0.0464 - acc: 0.9825"
          ],
          "name": "stdout"
        },
        {
          "output_type": "stream",
          "text": [
            " 90976/102124 [=========================>....] - ETA: 1:06 - loss: 0.0463 - acc: 0.9824"
          ],
          "name": "stdout"
        },
        {
          "output_type": "stream",
          "text": [
            "102124/102124 [==============================] - 656s 6ms/step - loss: 0.0462 - acc: 0.9824 - val_loss: 0.0447 - val_acc: 0.9830\n",
            "Epoch 14/32\n",
            "  9760/102124 [=>............................] - ETA: 9:11 - loss: 0.0477 - acc: 0.9817"
          ],
          "name": "stdout"
        },
        {
          "output_type": "stream",
          "text": [
            " 46464/102124 [============>.................] - ETA: 5:31 - loss: 0.0463 - acc: 0.9822"
          ],
          "name": "stdout"
        },
        {
          "output_type": "stream",
          "text": [
            " 94272/102124 [==========================>...] - ETA: 46s - loss: 0.0456 - acc: 0.9825"
          ],
          "name": "stdout"
        },
        {
          "output_type": "stream",
          "text": [
            "102124/102124 [==============================] - 656s 6ms/step - loss: 0.0456 - acc: 0.9825 - val_loss: 0.0478 - val_acc: 0.9827\n",
            "roc-auc: 0.9876 - roc-auc_val: 0.9848                                                                                                    \n",
            "Epoch 15/32\n",
            "  6816/102124 [=>............................] - ETA: 9:29 - loss: 0.0459 - acc: 0.9826"
          ],
          "name": "stdout"
        },
        {
          "output_type": "stream",
          "text": [
            " 46176/102124 [============>.................] - ETA: 5:33 - loss: 0.0458 - acc: 0.9826"
          ],
          "name": "stdout"
        },
        {
          "output_type": "stream",
          "text": [
            " 88608/102124 [=========================>....] - ETA: 1:20 - loss: 0.0452 - acc: 0.9828"
          ],
          "name": "stdout"
        },
        {
          "output_type": "stream",
          "text": [
            "102124/102124 [==============================] - 656s 6ms/step - loss: 0.0455 - acc: 0.9827 - val_loss: 0.0548 - val_acc: 0.9822\n",
            "Epoch 16/32\n",
            "  8896/102124 [=>............................] - ETA: 9:16 - loss: 0.0451 - acc: 0.9823"
          ],
          "name": "stdout"
        },
        {
          "output_type": "stream",
          "text": [
            " 56288/102124 [===============>..............] - ETA: 4:33 - loss: 0.0451 - acc: 0.9825"
          ],
          "name": "stdout"
        },
        {
          "output_type": "stream",
          "text": [
            "102112/102124 [============================>.] - ETA: 0s - loss: 0.0450 - acc: 0.9826"
          ],
          "name": "stdout"
        },
        {
          "output_type": "stream",
          "text": [
            "102124/102124 [==============================] - 656s 6ms/step - loss: 0.0449 - acc: 0.9826 - val_loss: 0.0472 - val_acc: 0.9831\n",
            "roc-auc: 0.9882 - roc-auc_val: 0.9854                                                                                                    \n",
            "Epoch 17/32\n",
            "  8704/102124 [=>............................] - ETA: 9:17 - loss: 0.0440 - acc: 0.9831"
          ],
          "name": "stdout"
        },
        {
          "output_type": "stream",
          "text": [
            " 57312/102124 [===============>..............] - ETA: 4:27 - loss: 0.0451 - acc: 0.9827"
          ],
          "name": "stdout"
        },
        {
          "output_type": "stream",
          "text": [
            "102112/102124 [============================>.] - ETA: 0s - loss: 0.0448 - acc: 0.9828"
          ],
          "name": "stdout"
        },
        {
          "output_type": "stream",
          "text": [
            "102124/102124 [==============================] - 656s 6ms/step - loss: 0.0448 - acc: 0.9828 - val_loss: 0.0525 - val_acc: 0.9823\n",
            "Epoch 18/32\n",
            " 13984/102124 [===>..........................] - ETA: 8:45 - loss: 0.0458 - acc: 0.9817"
          ],
          "name": "stdout"
        },
        {
          "output_type": "stream",
          "text": [
            " 60672/102124 [================>.............] - ETA: 4:07 - loss: 0.0449 - acc: 0.9827"
          ],
          "name": "stdout"
        },
        {
          "output_type": "stream",
          "text": [
            "102112/102124 [============================>.] - ETA: 0s - loss: 0.0445 - acc: 0.9829"
          ],
          "name": "stdout"
        },
        {
          "output_type": "stream",
          "text": [
            "102124/102124 [==============================] - 656s 6ms/step - loss: 0.0445 - acc: 0.9829 - val_loss: 0.0451 - val_acc: 0.9830\n",
            "roc-auc: 0.9889 - roc-auc_val: 0.986                                                                                                    \n",
            "Epoch 19/32\n",
            "  8736/102124 [=>............................] - ETA: 9:17 - loss: 0.0438 - acc: 0.9832"
          ],
          "name": "stdout"
        },
        {
          "output_type": "stream",
          "text": [
            " 82816/102124 [=======================>......] - ETA: 1:55 - loss: 0.0438 - acc: 0.9831"
          ],
          "name": "stdout"
        },
        {
          "output_type": "stream",
          "text": [
            "102124/102124 [==============================] - 656s 6ms/step - loss: 0.0440 - acc: 0.9831 - val_loss: 0.0450 - val_acc: 0.9832\n",
            "Epoch 20/32\n",
            "  6592/102124 [>.............................] - ETA: 9:29 - loss: 0.0475 - acc: 0.9816"
          ],
          "name": "stdout"
        },
        {
          "output_type": "stream",
          "text": [
            " 51360/102124 [==============>...............] - ETA: 5:03 - loss: 0.0440 - acc: 0.9828"
          ],
          "name": "stdout"
        },
        {
          "output_type": "stream",
          "text": [
            "102112/102124 [============================>.] - ETA: 0s - loss: 0.0435 - acc: 0.9831"
          ],
          "name": "stdout"
        },
        {
          "output_type": "stream",
          "text": [
            "\b\b\b\b\b\b\b\b\b\b\b\b\b\b\b\b\b\b\b\b\b\b\b\b\b\b\b\b\b\b\b\b\b\b\b\b\b\b\b\b\b\b\b\b\b\b\b\b\b\b\b\b\b\b\b\b\b\b\b\b\b\b\b\b\b\b\b\b\b\b\b\b\b\b\b\b\b\b\b\b\b\b\b\b\b\r102124/102124 [==============================] - 656s 6ms/step - loss: 0.0435 - acc: 0.9831 - val_loss: 0.0457 - val_acc: 0.9832\n",
            "\n",
            "Epoch 00020: ReduceLROnPlateau reducing learning rate to 6.934809061931446e-05.\n",
            "roc-auc: 0.9889 - roc-auc_val: 0.9854                                                                                                    \n",
            "Epoch 21/32\n",
            "  5952/102124 [>.............................] - ETA: 9:34 - loss: 0.0412 - acc: 0.9835"
          ],
          "name": "stdout"
        },
        {
          "output_type": "stream",
          "text": [
            " 76000/102124 [=====================>........] - ETA: 2:35 - loss: 0.0432 - acc: 0.9832"
          ],
          "name": "stdout"
        },
        {
          "output_type": "stream",
          "text": [
            "102124/102124 [==============================] - 656s 6ms/step - loss: 0.0433 - acc: 0.9832 - val_loss: 0.0497 - val_acc: 0.9828\n",
            "Epoch 22/32\n",
            "  4032/102124 [>.............................] - ETA: 9:45 - loss: 0.0454 - acc: 0.9820"
          ],
          "name": "stdout"
        },
        {
          "output_type": "stream",
          "text": [
            " 42848/102124 [===========>..................] - ETA: 5:53 - loss: 0.0431 - acc: 0.9833"
          ],
          "name": "stdout"
        },
        {
          "output_type": "stream",
          "text": [
            " 97696/102124 [===========================>..] - ETA: 26s - loss: 0.0434 - acc: 0.9831"
          ],
          "name": "stdout"
        },
        {
          "output_type": "stream",
          "text": [
            "102124/102124 [==============================] - 656s 6ms/step - loss: 0.0434 - acc: 0.9831 - val_loss: 0.0458 - val_acc: 0.9830\n",
            "roc-auc: 0.9892 - roc-auc_val: 0.9858                                                                                                    \n",
            "Epoch 23/32\n",
            "  7680/102124 [=>............................] - ETA: 9:23 - loss: 0.0442 - acc: 0.9827"
          ],
          "name": "stdout"
        },
        {
          "output_type": "stream",
          "text": [
            " 44864/102124 [============>.................] - ETA: 5:41 - loss: 0.0437 - acc: 0.9830"
          ],
          "name": "stdout"
        },
        {
          "output_type": "stream",
          "text": [
            "102112/102124 [============================>.] - ETA: 0s - loss: 0.0430 - acc: 0.9831"
          ],
          "name": "stdout"
        },
        {
          "output_type": "stream",
          "text": [
            "102124/102124 [==============================] - 656s 6ms/step - loss: 0.0430 - acc: 0.9831 - val_loss: 0.0442 - val_acc: 0.9834\n",
            "Epoch 24/32\n",
            " 13952/102124 [===>..........................] - ETA: 8:46 - loss: 0.0418 - acc: 0.9834"
          ],
          "name": "stdout"
        },
        {
          "output_type": "stream",
          "text": [
            " 54144/102124 [==============>...............] - ETA: 4:46 - loss: 0.0419 - acc: 0.9835"
          ],
          "name": "stdout"
        },
        {
          "output_type": "stream",
          "text": [
            " 90816/102124 [=========================>....] - ETA: 1:07 - loss: 0.0427 - acc: 0.9833"
          ],
          "name": "stdout"
        },
        {
          "output_type": "stream",
          "text": [
            "102124/102124 [==============================] - 656s 6ms/step - loss: 0.0424 - acc: 0.9834 - val_loss: 0.0501 - val_acc: 0.9826\n",
            "roc-auc: 0.9886 - roc-auc_val: 0.9851                                                                                                    \n",
            "Epoch 25/32\n",
            "  6048/102124 [>.............................] - ETA: 9:33 - loss: 0.0415 - acc: 0.9842"
          ],
          "name": "stdout"
        },
        {
          "output_type": "stream",
          "text": [
            " 43232/102124 [===========>..................] - ETA: 5:51 - loss: 0.0424 - acc: 0.9835"
          ],
          "name": "stdout"
        },
        {
          "output_type": "stream",
          "text": [
            " 81088/102124 [======================>.......] - ETA: 2:05 - loss: 0.0426 - acc: 0.9835"
          ],
          "name": "stdout"
        },
        {
          "output_type": "stream",
          "text": [
            "102124/102124 [==============================] - 656s 6ms/step - loss: 0.0426 - acc: 0.9834 - val_loss: 0.0468 - val_acc: 0.9830\n",
            "Epoch 26/32\n",
            "  5984/102124 [>.............................] - ETA: 9:33 - loss: 0.0439 - acc: 0.9836"
          ],
          "name": "stdout"
        },
        {
          "output_type": "stream",
          "text": [
            " 69824/102124 [===================>..........] - ETA: 3:12 - loss: 0.0425 - acc: 0.9835"
          ],
          "name": "stdout"
        },
        {
          "output_type": "stream",
          "text": [
            "102124/102124 [==============================] - 656s 6ms/step - loss: 0.0425 - acc: 0.9835 - val_loss: 0.0528 - val_acc: 0.9822\n",
            "roc-auc: 0.9888 - roc-auc_val: 0.985                                                                                                    \n",
            "Epoch 27/32\n",
            "  1056/102124 [..............................] - ETA: 10:06 - loss: 0.0384 - acc: 0.9853"
          ],
          "name": "stdout"
        },
        {
          "output_type": "stream",
          "text": [
            " 70944/102124 [===================>..........] - ETA: 3:06 - loss: 0.0424 - acc: 0.9837"
          ],
          "name": "stdout"
        },
        {
          "output_type": "stream",
          "text": [
            "102124/102124 [==============================] - 656s 6ms/step - loss: 0.0423 - acc: 0.9836 - val_loss: 0.0490 - val_acc: 0.9829\n",
            "Epoch 28/32\n",
            "  2048/102124 [..............................] - ETA: 9:57 - loss: 0.0427 - acc: 0.9819"
          ],
          "name": "stdout"
        },
        {
          "output_type": "stream",
          "text": [
            " 39520/102124 [==========>...................] - ETA: 6:13 - loss: 0.0420 - acc: 0.9836"
          ],
          "name": "stdout"
        },
        {
          "output_type": "stream",
          "text": [
            " 79808/102124 [======================>.......] - ETA: 2:13 - loss: 0.0415 - acc: 0.9837"
          ],
          "name": "stdout"
        },
        {
          "output_type": "stream",
          "text": [
            "102124/102124 [==============================] - 656s 6ms/step - loss: 0.0420 - acc: 0.9836 - val_loss: 0.0519 - val_acc: 0.9827\n",
            "roc-auc: 0.9897 - roc-auc_val: 0.9859                                                                                                    \n",
            "Epoch 29/32\n",
            "  3392/102124 [..............................] - ETA: 9:47 - loss: 0.0407 - acc: 0.9838"
          ],
          "name": "stdout"
        },
        {
          "output_type": "stream",
          "text": [
            " 56960/102124 [===============>..............] - ETA: 4:29 - loss: 0.0413 - acc: 0.9839"
          ],
          "name": "stdout"
        },
        {
          "output_type": "stream",
          "text": [
            "102112/102124 [============================>.] - ETA: 0s - loss: 0.0419 - acc: 0.9837"
          ],
          "name": "stdout"
        },
        {
          "output_type": "stream",
          "text": [
            "102124/102124 [==============================] - 656s 6ms/step - loss: 0.0419 - acc: 0.9837 - val_loss: 0.0490 - val_acc: 0.9831\n",
            "Epoch 30/32\n",
            " 13984/102124 [===>..........................] - ETA: 8:45 - loss: 0.0428 - acc: 0.9835"
          ],
          "name": "stdout"
        },
        {
          "output_type": "stream",
          "text": [
            "102112/102124 [============================>.] - ETA: 0s - loss: 0.0419 - acc: 0.9836"
          ],
          "name": "stdout"
        },
        {
          "output_type": "stream",
          "text": [
            "102124/102124 [==============================] - 656s 6ms/step - loss: 0.0419 - acc: 0.9836 - val_loss: 0.0438 - val_acc: 0.9835\n",
            "roc-auc: 0.9905 - roc-auc_val: 0.9863                                                                                                    \n",
            "Epoch 31/32\n",
            "  8640/102124 [=>............................] - ETA: 9:18 - loss: 0.0427 - acc: 0.9835"
          ],
          "name": "stdout"
        },
        {
          "output_type": "stream",
          "text": [
            " 55488/102124 [===============>..............] - ETA: 4:38 - loss: 0.0423 - acc: 0.9833"
          ],
          "name": "stdout"
        },
        {
          "output_type": "stream",
          "text": [
            " 95136/102124 [==========================>...] - ETA: 41s - loss: 0.0423 - acc: 0.9834"
          ],
          "name": "stdout"
        },
        {
          "output_type": "stream",
          "text": [
            "102124/102124 [==============================] - 656s 6ms/step - loss: 0.0420 - acc: 0.9835 - val_loss: 0.0457 - val_acc: 0.9835\n",
            "Epoch 32/32\n",
            " 11360/102124 [==>...........................] - ETA: 9:01 - loss: 0.0409 - acc: 0.9844"
          ],
          "name": "stdout"
        },
        {
          "output_type": "stream",
          "text": [
            " 70304/102124 [===================>..........] - ETA: 3:09 - loss: 0.0421 - acc: 0.9835"
          ],
          "name": "stdout"
        },
        {
          "output_type": "stream",
          "text": [
            "102124/102124 [==============================] - 656s 6ms/step - loss: 0.0415 - acc: 0.9838 - val_loss: 0.0426 - val_acc: 0.9838\n",
            "roc-auc: 0.9908 - roc-auc_val: 0.9866                                                                                                    \n"
          ],
          "name": "stdout"
        }
      ]
    },
    {
      "metadata": {
        "id": "sms3R-U4469B",
        "colab_type": "code",
        "colab": {
          "autoexec": {
            "startup": false,
            "wait_interval": 0
          },
          "base_uri": "https://localhost:8080/",
          "height": 294
        },
        "outputId": "b64ec6fb-4b6d-4b07-862d-2f1b168a3e89",
        "executionInfo": {
          "status": "ok",
          "timestamp": 1531090938123,
          "user_tz": -120,
          "elapsed": 3502,
          "user": {
            "displayName": "Deep Learning",
            "photoUrl": "https://lh3.googleusercontent.com/a/default-user=s128",
            "userId": "115257841230779963257"
          }
        }
      },
      "cell_type": "code",
      "source": [
        "plot_history(history)"
      ],
      "execution_count": 14,
      "outputs": [
        {
          "output_type": "display_data",
          "data": {
            "image/png": "[encoded data removed]",
            "text/plain": [
              "<matplotlib.figure.Figure at 0x7f65ae74a828>"
            ]
          },
          "metadata": {
            "tags": []
          }
        }
      ]
    },
    {
      "metadata": {
        "id": "r2gtMBj2Tp9A",
        "colab_type": "code",
        "colab": {
          "autoexec": {
            "startup": false,
            "wait_interval": 0
          },
          "base_uri": "https://localhost:8080/",
          "height": 51
        },
        "outputId": "c3dc3f89-c42c-4f39-ccdd-e31bac11920c",
        "executionInfo": {
          "status": "ok",
          "timestamp": 1531091058992,
          "user_tz": -120,
          "elapsed": 120767,
          "user": {
            "displayName": "Deep Learning",
            "photoUrl": "https://lh3.googleusercontent.com/a/default-user=s128",
            "userId": "115257841230779963257"
          }
        }
      },
      "cell_type": "code",
      "source": [
        "print(evaluate_on_test(model))"
      ],
      "execution_count": 15,
      "outputs": [
        {
          "output_type": "stream",
          "text": [
            "31915/31915 [==============================] - 62s 2ms/step\n",
            "([0.04135082676474454, 0.9840879294428915], 0.9880553417199033)\n"
          ],
          "name": "stdout"
        }
      ]
    }
  ]
}
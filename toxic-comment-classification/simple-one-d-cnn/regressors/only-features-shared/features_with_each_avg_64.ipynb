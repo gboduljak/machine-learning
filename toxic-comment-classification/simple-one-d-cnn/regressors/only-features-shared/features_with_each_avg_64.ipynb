{
 "cells": [
  {
   "cell_type": "code",
   "execution_count": 1,
   "metadata": {
    "colab": {
     "autoexec": {
      "startup": false,
      "wait_interval": 0
     },
     "base_uri": "https://localhost:8080/",
     "height": 292
    },
    "colab_type": "code",
    "executionInfo": {
     "elapsed": 10373,
     "status": "ok",
     "timestamp": 1530913456924,
     "user": {
      "displayName": "Deep Learning",
      "photoUrl": "https://lh3.googleusercontent.com/a/default-user=s128",
      "userId": "115257841230779963257"
     },
     "user_tz": -120
    },
    "id": "yS1FnhiWX3Js",
    "outputId": "f9c02018-c003-4950-ba4d-a5da1082aa63"
   },
   "outputs": [
    {
     "name": "stdout",
     "output_type": "stream",
     "text": [
      "Requirement already satisfied: keras in /usr/local/lib/python3.6/dist-packages (2.1.6)\r\n",
      "Requirement already satisfied: pyyaml in /usr/local/lib/python3.6/dist-packages (from keras) (3.12)\r\n",
      "Requirement already satisfied: h5py in /usr/local/lib/python3.6/dist-packages (from keras) (2.8.0)\n",
      "Requirement already satisfied: numpy>=1.9.1 in /usr/local/lib/python3.6/dist-packages (from keras) (1.14.5)\n",
      "Requirement already satisfied: scipy>=0.14 in /usr/local/lib/python3.6/dist-packages (from keras) (0.19.1)\n",
      "Requirement already satisfied: six>=1.9.0 in /usr/local/lib/python3.6/dist-packages (from keras) (1.11.0)\n",
      "Requirement already satisfied: sklearn in /usr/local/lib/python3.6/dist-packages (0.0)\n",
      "Requirement already satisfied: scikit-learn in /usr/local/lib/python3.6/dist-packages (from sklearn) (0.19.1)\n",
      "Requirement already satisfied: matplotlib in /usr/local/lib/python3.6/dist-packages (2.1.2)\n",
      "Requirement already satisfied: pytz in /usr/local/lib/python3.6/dist-packages (from matplotlib) (2018.5)\n",
      "Requirement already satisfied: cycler>=0.10 in /usr/local/lib/python3.6/dist-packages (from matplotlib) (0.10.0)\n",
      "Requirement already satisfied: python-dateutil>=2.1 in /usr/local/lib/python3.6/dist-packages (from matplotlib) (2.5.3)\n",
      "Requirement already satisfied: pyparsing!=2.0.4,!=2.1.2,!=2.1.6,>=2.0.1 in /usr/local/lib/python3.6/dist-packages (from matplotlib) (2.2.0)\n",
      "Requirement already satisfied: six>=1.10 in /usr/local/lib/python3.6/dist-packages (from matplotlib) (1.11.0)\n",
      "Requirement already satisfied: numpy>=1.7.1 in /usr/local/lib/python3.6/dist-packages (from matplotlib) (1.14.5)\n"
     ]
    }
   ],
   "source": [
    "!pip install keras\n",
    "!pip install sklearn\n",
    "!pip install matplotlib\n",
    "!pip install -U -q PyDrive"
   ]
  },
  {
   "cell_type": "code",
   "execution_count": 2,
   "metadata": {
    "colab": {
     "autoexec": {
      "startup": false,
      "wait_interval": 0
     },
     "base_uri": "https://localhost:8080/",
     "height": 34
    },
    "colab_type": "code",
    "executionInfo": {
     "elapsed": 1596,
     "status": "ok",
     "timestamp": 1530913458635,
     "user": {
      "displayName": "Deep Learning",
      "photoUrl": "https://lh3.googleusercontent.com/a/default-user=s128",
      "userId": "115257841230779963257"
     },
     "user_tz": -120
    },
    "id": "xlKzkDJFrjA-",
    "outputId": "2e71de97-52f7-4549-d844-e959d05c740c"
   },
   "outputs": [
    {
     "name": "stderr",
     "output_type": "stream",
     "text": [
      "Using TensorFlow backend.\n"
     ]
    }
   ],
   "source": [
    "from keras import backend as K\n",
    "K.clear_session()"
   ]
  },
  {
   "cell_type": "code",
   "execution_count": 0,
   "metadata": {
    "colab": {
     "autoexec": {
      "startup": false,
      "wait_interval": 0
     }
    },
    "colab_type": "code",
    "id": "eQEKwl4oAxO7"
   },
   "outputs": [],
   "source": [
    "from keras import backend as K\n",
    "cfg = K.tf.ConfigProto()\n",
    "cfg.gpu_options.allow_growth = True\n",
    "K.set_session(K.tf.Session(config=cfg))"
   ]
  },
  {
   "cell_type": "code",
   "execution_count": 0,
   "metadata": {
    "colab": {
     "autoexec": {
      "startup": false,
      "wait_interval": 0
     }
    },
    "colab_type": "code",
    "id": "12M0egCCX-27"
   },
   "outputs": [],
   "source": [
    "from pydrive.auth import GoogleAuth\n",
    "from pydrive.drive import GoogleDrive\n",
    "from google.colab import auth\n",
    "from oauth2client.client import GoogleCredentials\n",
    "\n",
    "auth.authenticate_user()\n",
    "gauth = GoogleAuth()\n",
    "gauth.credentials = GoogleCredentials.get_application_default()\n",
    "drive = GoogleDrive(gauth)"
   ]
  },
  {
   "cell_type": "code",
   "execution_count": 0,
   "metadata": {
    "colab": {
     "autoexec": {
      "startup": false,
      "wait_interval": 0
     }
    },
    "colab_type": "code",
    "id": "4lN2WTUEYBYv"
   },
   "outputs": [],
   "source": [
    "file_import = drive.CreateFile({'id':'1p1bsltfTcIrZ_kfE6kwGTPzcdXorHbb2'})\n",
    "file_import.GetContentFile('colab_setup.py') \n",
    "from colab_setup import setup\n",
    "\n",
    "setup(drive)"
   ]
  },
  {
   "cell_type": "code",
   "execution_count": 6,
   "metadata": {
    "colab": {
     "autoexec": {
      "startup": false,
      "wait_interval": 0
     },
     "base_uri": "https://localhost:8080/",
     "height": 136
    },
    "colab_type": "code",
    "executionInfo": {
     "elapsed": 1636,
     "status": "ok",
     "timestamp": 1530913489014,
     "user": {
      "displayName": "Deep Learning",
      "photoUrl": "https://lh3.googleusercontent.com/a/default-user=s128",
      "userId": "115257841230779963257"
     },
     "user_tz": -120
    },
    "id": "cHBlD0tVj2TY",
    "outputId": "7078c694-9ad2-4775-b4f3-3afd36e7db7c"
   },
   "outputs": [
    {
     "name": "stdout",
     "output_type": "stream",
     "text": [
      "colab_setup.py\t\t\t sample_submission.csv\tX_val.npy\r\n",
      "custom_fast_text_embeddings.npy  SelfAttention.py\ty_test.npy\r\n",
      "datalab\t\t\t\t train_model.py\t\ty_train_full.npy\r\n",
      "fast_text_embeddings.npy\t X_submission.npy\ty_train.npy\r\n",
      "plot_history.py\t\t\t X_test.npy\t\ty_val.npy\r\n",
      "__pycache__\t\t\t X_train_full.npy\r\n",
      "roc_auc_callback.py\t\t X_train.npy\r\n"
     ]
    }
   ],
   "source": [
    "!ls"
   ]
  },
  {
   "cell_type": "code",
   "execution_count": 0,
   "metadata": {
    "colab": {
     "autoexec": {
      "startup": false,
      "wait_interval": 0
     }
    },
    "colab_type": "code",
    "id": "yMwWPTMYXyno"
   },
   "outputs": [],
   "source": [
    "import numpy as np\n",
    "import os\n",
    "\n",
    "from plot_history import plot_history\n",
    "from roc_auc_callback import RocAucCallback\n",
    "from train_model import train_with_cv, train_with_submitting, evaluate_on_test\n",
    "\n",
    "from keras.models import Model\n",
    "from keras.layers import *\n",
    "from keras.layers.merge import concatenate"
   ]
  },
  {
   "cell_type": "code",
   "execution_count": 0,
   "metadata": {
    "colab": {
     "autoexec": {
      "startup": false,
      "wait_interval": 0
     }
    },
    "colab_type": "code",
    "id": "3YXiQ6IRovcY"
   },
   "outputs": [],
   "source": [
    "file_import = drive.CreateFile({'id':'15j1Nou6m5WNLejJQrUcty6U03xsIgIAI'})\n",
    "file_import.GetContentFile('SelfAttention.py') \n",
    "\n",
    "from SelfAttention import SelfAttention"
   ]
  },
  {
   "cell_type": "code",
   "execution_count": 0,
   "metadata": {
    "colab": {
     "autoexec": {
      "startup": false,
      "wait_interval": 0
     }
    },
    "colab_type": "code",
    "id": "MIWjPi9bs5d4"
   },
   "outputs": [],
   "source": [
    "def one_by_one(filtersNumber, inputLayer, dropout = 0.2):\n",
    "    one_by_one = Conv1D(filtersNumber, 1, activation = 'elu', padding = 'same', kernel_initializer = 'he_uniform')(inputLayer)\n",
    "    one_by_one = BatchNormalization()(one_by_one)\n",
    "    one_by_one = SpatialDropout1D(dropout)(one_by_one)\n",
    "    \n",
    "    return one_by_one"
   ]
  },
  {
   "cell_type": "code",
   "execution_count": 0,
   "metadata": {
    "colab": {
     "autoexec": {
      "startup": false,
      "wait_interval": 0
     }
    },
    "colab_type": "code",
    "id": "mRg7bBAFoL7b"
   },
   "outputs": [],
   "source": [
    "def yoon_kim_feature_extractor(filtersNumber, inputLayer):\n",
    "    block_1_conv_1 = Conv1D(filtersNumber, 1, activation = 'elu', padding = 'same', kernel_initializer = 'he_uniform')(inputLayer)\n",
    "    block_1_batchnorm1 = BatchNormalization()(block_1_conv_1)\n",
    "    block_1_max_pool1 = GlobalMaxPooling1D()(block_1_batchnorm1)\n",
    "\n",
    "    block_1_conv_2 = Conv1D(filtersNumber, 2, activation = 'elu', padding = 'same', kernel_initializer = 'he_uniform')(inputLayer)\n",
    "    block_1_batchnorm2 = BatchNormalization()(block_1_conv_2)\n",
    "    block_1_max_pool2 = GlobalMaxPooling1D()(block_1_batchnorm2)\n",
    "\n",
    "    block_1_conv_3 = Conv1D(filtersNumber, 3, activation = 'elu', padding = 'same', kernel_initializer = 'he_uniform')(inputLayer)\n",
    "    block_1_batchnorm3 = BatchNormalization()(block_1_conv_3)\n",
    "    block_1_max_pool3 = GlobalMaxPooling1D()(block_1_batchnorm3)\n",
    "\n",
    "    block_1_conv_4 = Conv1D(filtersNumber, 5, activation = 'elu', padding = 'same', kernel_initializer = 'he_uniform')(inputLayer)\n",
    "    block_1_batchnorm4 = BatchNormalization()(block_1_conv_4)\n",
    "    block_1_max_pool4 = GlobalMaxPooling1D()(block_1_batchnorm4)\n",
    "\n",
    "    block_1_features = concatenate([\n",
    "        block_1_max_pool1, \n",
    "        block_1_max_pool2, \n",
    "        block_1_max_pool3, \n",
    "        block_1_max_pool4\n",
    "    ])\n",
    "    block_1_features = Dropout(0.2)(block_1_features)\n",
    "    return block_1_features"
   ]
  },
  {
   "cell_type": "code",
   "execution_count": 0,
   "metadata": {
    "colab": {
     "autoexec": {
      "startup": false,
      "wait_interval": 0
     }
    },
    "colab_type": "code",
    "id": "nil0V0anLg2Y"
   },
   "outputs": [],
   "source": [
    "def single_category_regressor(features, unitsNumber = 64):\n",
    "    dense_1 = Dense(unitsNumber, activation = 'elu')(features)\n",
    "    dense_1_normalization = BatchNormalization()(dense_1)\n",
    "    dense_1_dropout = Dropout(0.2)(dense_1_normalization)\n",
    "\n",
    "    dense_2 = Dense(unitsNumber, activation = 'elu')(dense_1_dropout)\n",
    "    dense_2_normalization = BatchNormalization()(dense_2)\n",
    "    dense_2_dropout = Dropout(0.2)(dense_2_normalization)\n",
    "    \n",
    "    return Dense(1, activation='sigmoid')(dense_2_dropout)"
   ]
  },
  {
   "cell_type": "code",
   "execution_count": 12,
   "metadata": {
    "colab": {
     "autoexec": {
      "startup": false,
      "wait_interval": 0
     },
     "base_uri": "https://localhost:8080/",
     "height": 3094
    },
    "colab_type": "code",
    "executionInfo": {
     "elapsed": 4605,
     "status": "ok",
     "timestamp": 1530913497691,
     "user": {
      "displayName": "Deep Learning",
      "photoUrl": "https://lh3.googleusercontent.com/a/default-user=s128",
      "userId": "115257841230779963257"
     },
     "user_tz": -120
    },
    "id": "LTFG7OgsXynw",
    "outputId": "691506b5-6dd8-496b-c17f-5f6740736036"
   },
   "outputs": [
    {
     "name": "stdout",
     "output_type": "stream",
     "text": [
      "__________________________________________________________________________________________________\n",
      "Layer (type)                    Output Shape         Param #     Connected to                     \n",
      "==================================================================================================\n",
      "input_1 (InputLayer)            (None, 400)          0                                            \n",
      "__________________________________________________________________________________________________\n",
      "embedding_1 (Embedding)         (None, 400, 300)     9000000     input_1[0][0]                    \n",
      "__________________________________________________________________________________________________\n",
      "embedding_2 (Embedding)         (None, 400, 300)     9000000     input_1[0][0]                    \n",
      "__________________________________________________________________________________________________\n",
      "spatial_dropout1d_1 (SpatialDro (None, 400, 300)     0           embedding_1[0][0]                \n",
      "__________________________________________________________________________________________________\n",
      "spatial_dropout1d_2 (SpatialDro (None, 400, 300)     0           embedding_2[0][0]                \n",
      "__________________________________________________________________________________________________\n",
      "average_1 (Average)             (None, 400, 300)     0           spatial_dropout1d_1[0][0]        \n",
      "                                                                 spatial_dropout1d_2[0][0]        \n",
      "__________________________________________________________________________________________________\n",
      "spatial_dropout1d_3 (SpatialDro (None, 400, 300)     0           average_1[0][0]                  \n",
      "__________________________________________________________________________________________________\n",
      "self_attention_1 (SelfAttention (None, 400, 300)     90601       spatial_dropout1d_3[0][0]        \n",
      "__________________________________________________________________________________________________\n",
      "conv1d_1 (Conv1D)               (None, 400, 300)     90300       self_attention_1[0][0]           \n",
      "__________________________________________________________________________________________________\n",
      "batch_normalization_1 (BatchNor (None, 400, 300)     1200        conv1d_1[0][0]                   \n",
      "__________________________________________________________________________________________________\n",
      "spatial_dropout1d_4 (SpatialDro (None, 400, 300)     0           batch_normalization_1[0][0]      \n",
      "__________________________________________________________________________________________________\n",
      "conv1d_2 (Conv1D)               (None, 400, 300)     90300       spatial_dropout1d_4[0][0]        \n",
      "__________________________________________________________________________________________________\n",
      "batch_normalization_2 (BatchNor (None, 400, 300)     1200        conv1d_2[0][0]                   \n",
      "__________________________________________________________________________________________________\n",
      "spatial_dropout1d_5 (SpatialDro (None, 400, 300)     0           batch_normalization_2[0][0]      \n",
      "__________________________________________________________________________________________________\n",
      "conv1d_3 (Conv1D)               (None, 400, 300)     90300       spatial_dropout1d_5[0][0]        \n",
      "__________________________________________________________________________________________________\n",
      "batch_normalization_3 (BatchNor (None, 400, 300)     1200        conv1d_3[0][0]                   \n",
      "__________________________________________________________________________________________________\n",
      "spatial_dropout1d_6 (SpatialDro (None, 400, 300)     0           batch_normalization_3[0][0]      \n",
      "__________________________________________________________________________________________________\n",
      "conv1d_4 (Conv1D)               (None, 400, 300)     90300       spatial_dropout1d_6[0][0]        \n",
      "__________________________________________________________________________________________________\n",
      "conv1d_5 (Conv1D)               (None, 400, 300)     180300      spatial_dropout1d_6[0][0]        \n",
      "__________________________________________________________________________________________________\n",
      "conv1d_6 (Conv1D)               (None, 400, 300)     270300      spatial_dropout1d_6[0][0]        \n",
      "__________________________________________________________________________________________________\n",
      "conv1d_7 (Conv1D)               (None, 400, 300)     450300      spatial_dropout1d_6[0][0]        \n",
      "__________________________________________________________________________________________________\n",
      "batch_normalization_4 (BatchNor (None, 400, 300)     1200        conv1d_4[0][0]                   \n",
      "__________________________________________________________________________________________________\n",
      "batch_normalization_5 (BatchNor (None, 400, 300)     1200        conv1d_5[0][0]                   \n",
      "__________________________________________________________________________________________________\n",
      "batch_normalization_6 (BatchNor (None, 400, 300)     1200        conv1d_6[0][0]                   \n",
      "__________________________________________________________________________________________________\n",
      "batch_normalization_7 (BatchNor (None, 400, 300)     1200        conv1d_7[0][0]                   \n",
      "__________________________________________________________________________________________________\n",
      "global_max_pooling1d_1 (GlobalM (None, 300)          0           batch_normalization_4[0][0]      \n",
      "__________________________________________________________________________________________________\n",
      "global_max_pooling1d_2 (GlobalM (None, 300)          0           batch_normalization_5[0][0]      \n",
      "__________________________________________________________________________________________________\n",
      "global_max_pooling1d_3 (GlobalM (None, 300)          0           batch_normalization_6[0][0]      \n",
      "__________________________________________________________________________________________________\n",
      "global_max_pooling1d_4 (GlobalM (None, 300)          0           batch_normalization_7[0][0]      \n",
      "__________________________________________________________________________________________________\n",
      "concatenate_1 (Concatenate)     (None, 1200)         0           global_max_pooling1d_1[0][0]     \n",
      "                                                                 global_max_pooling1d_2[0][0]     \n",
      "                                                                 global_max_pooling1d_3[0][0]     \n",
      "                                                                 global_max_pooling1d_4[0][0]     \n",
      "__________________________________________________________________________________________________\n",
      "dropout_1 (Dropout)             (None, 1200)         0           concatenate_1[0][0]              \n",
      "__________________________________________________________________________________________________\n",
      "dense_6 (Dense)                 (None, 64)           76864       dropout_1[0][0]                  \n",
      "__________________________________________________________________________________________________\n",
      "dense_9 (Dense)                 (None, 64)           76864       dropout_1[0][0]                  \n",
      "__________________________________________________________________________________________________\n",
      "dense_12 (Dense)                (None, 64)           76864       dropout_1[0][0]                  \n",
      "__________________________________________________________________________________________________\n",
      "dense_15 (Dense)                (None, 64)           76864       dropout_1[0][0]                  \n",
      "__________________________________________________________________________________________________\n",
      "dense_18 (Dense)                (None, 64)           76864       dropout_1[0][0]                  \n",
      "__________________________________________________________________________________________________\n",
      "dense_21 (Dense)                (None, 64)           76864       dropout_1[0][0]                  \n",
      "__________________________________________________________________________________________________\n",
      "dense_3 (Dense)                 (None, 256)          307456      dropout_1[0][0]                  \n",
      "__________________________________________________________________________________________________\n",
      "batch_normalization_10 (BatchNo (None, 64)           256         dense_6[0][0]                    \n",
      "__________________________________________________________________________________________________\n",
      "batch_normalization_12 (BatchNo (None, 64)           256         dense_9[0][0]                    \n",
      "__________________________________________________________________________________________________\n",
      "batch_normalization_14 (BatchNo (None, 64)           256         dense_12[0][0]                   \n",
      "__________________________________________________________________________________________________\n",
      "batch_normalization_16 (BatchNo (None, 64)           256         dense_15[0][0]                   \n",
      "__________________________________________________________________________________________________\n",
      "batch_normalization_18 (BatchNo (None, 64)           256         dense_18[0][0]                   \n",
      "__________________________________________________________________________________________________\n",
      "batch_normalization_20 (BatchNo (None, 64)           256         dense_21[0][0]                   \n",
      "__________________________________________________________________________________________________\n",
      "batch_normalization_8 (BatchNor (None, 256)          1024        dense_3[0][0]                    \n",
      "__________________________________________________________________________________________________\n",
      "dropout_4 (Dropout)             (None, 64)           0           batch_normalization_10[0][0]     \n",
      "__________________________________________________________________________________________________\n",
      "dropout_6 (Dropout)             (None, 64)           0           batch_normalization_12[0][0]     \n",
      "__________________________________________________________________________________________________\n",
      "dropout_8 (Dropout)             (None, 64)           0           batch_normalization_14[0][0]     \n",
      "__________________________________________________________________________________________________\n",
      "dropout_10 (Dropout)            (None, 64)           0           batch_normalization_16[0][0]     \n",
      "__________________________________________________________________________________________________\n",
      "dropout_12 (Dropout)            (None, 64)           0           batch_normalization_18[0][0]     \n",
      "__________________________________________________________________________________________________\n",
      "dropout_14 (Dropout)            (None, 64)           0           batch_normalization_20[0][0]     \n",
      "__________________________________________________________________________________________________\n",
      "dropout_2 (Dropout)             (None, 256)          0           batch_normalization_8[0][0]      \n",
      "__________________________________________________________________________________________________\n",
      "dense_7 (Dense)                 (None, 64)           4160        dropout_4[0][0]                  \n",
      "__________________________________________________________________________________________________\n",
      "dense_10 (Dense)                (None, 64)           4160        dropout_6[0][0]                  \n",
      "__________________________________________________________________________________________________\n",
      "dense_13 (Dense)                (None, 64)           4160        dropout_8[0][0]                  \n",
      "__________________________________________________________________________________________________\n",
      "dense_16 (Dense)                (None, 64)           4160        dropout_10[0][0]                 \n",
      "__________________________________________________________________________________________________\n",
      "dense_19 (Dense)                (None, 64)           4160        dropout_12[0][0]                 \n",
      "__________________________________________________________________________________________________\n",
      "dense_22 (Dense)                (None, 64)           4160        dropout_14[0][0]                 \n",
      "__________________________________________________________________________________________________\n",
      "dense_4 (Dense)                 (None, 256)          65792       dropout_2[0][0]                  \n",
      "__________________________________________________________________________________________________\n",
      "batch_normalization_11 (BatchNo (None, 64)           256         dense_7[0][0]                    \n",
      "__________________________________________________________________________________________________\n",
      "batch_normalization_13 (BatchNo (None, 64)           256         dense_10[0][0]                   \n",
      "__________________________________________________________________________________________________\n",
      "batch_normalization_15 (BatchNo (None, 64)           256         dense_13[0][0]                   \n",
      "__________________________________________________________________________________________________\n",
      "batch_normalization_17 (BatchNo (None, 64)           256         dense_16[0][0]                   \n",
      "__________________________________________________________________________________________________\n",
      "batch_normalization_19 (BatchNo (None, 64)           256         dense_19[0][0]                   \n",
      "__________________________________________________________________________________________________\n",
      "batch_normalization_21 (BatchNo (None, 64)           256         dense_22[0][0]                   \n",
      "__________________________________________________________________________________________________\n",
      "batch_normalization_9 (BatchNor (None, 256)          1024        dense_4[0][0]                    \n",
      "__________________________________________________________________________________________________\n",
      "dropout_5 (Dropout)             (None, 64)           0           batch_normalization_11[0][0]     \n",
      "__________________________________________________________________________________________________\n",
      "dropout_7 (Dropout)             (None, 64)           0           batch_normalization_13[0][0]     \n",
      "__________________________________________________________________________________________________\n",
      "dropout_9 (Dropout)             (None, 64)           0           batch_normalization_15[0][0]     \n",
      "__________________________________________________________________________________________________\n",
      "dropout_11 (Dropout)            (None, 64)           0           batch_normalization_17[0][0]     \n",
      "__________________________________________________________________________________________________\n",
      "dropout_13 (Dropout)            (None, 64)           0           batch_normalization_19[0][0]     \n",
      "__________________________________________________________________________________________________\n",
      "dropout_15 (Dropout)            (None, 64)           0           batch_normalization_21[0][0]     \n",
      "__________________________________________________________________________________________________\n",
      "dropout_3 (Dropout)             (None, 256)          0           batch_normalization_9[0][0]      \n",
      "__________________________________________________________________________________________________\n",
      "dense_8 (Dense)                 (None, 1)            65          dropout_5[0][0]                  \n",
      "__________________________________________________________________________________________________\n",
      "dense_11 (Dense)                (None, 1)            65          dropout_7[0][0]                  \n",
      "__________________________________________________________________________________________________\n",
      "dense_14 (Dense)                (None, 1)            65          dropout_9[0][0]                  \n",
      "__________________________________________________________________________________________________\n",
      "dense_17 (Dense)                (None, 1)            65          dropout_11[0][0]                 \n",
      "__________________________________________________________________________________________________\n",
      "dense_20 (Dense)                (None, 1)            65          dropout_13[0][0]                 \n",
      "__________________________________________________________________________________________________\n",
      "dense_23 (Dense)                (None, 1)            65          dropout_15[0][0]                 \n",
      "__________________________________________________________________________________________________\n",
      "dense_5 (Dense)                 (None, 6)            1542        dropout_3[0][0]                  \n",
      "__________________________________________________________________________________________________\n",
      "concatenate_2 (Concatenate)     (None, 6)            0           dense_8[0][0]                    \n",
      "                                                                 dense_11[0][0]                   \n",
      "                                                                 dense_14[0][0]                   \n",
      "                                                                 dense_17[0][0]                   \n",
      "                                                                 dense_20[0][0]                   \n",
      "                                                                 dense_23[0][0]                   \n",
      "__________________________________________________________________________________________________\n",
      "average_2 (Average)             (None, 6)            0           dense_5[0][0]                    \n",
      "                                                                 concatenate_2[0][0]              \n",
      "==================================================================================================\n",
      "Total params: 20,227,545\n",
      "Trainable params: 2,220,785\n",
      "Non-trainable params: 18,006,760\n",
      "__________________________________________________________________________________________________\n"
     ]
    }
   ],
   "source": [
    "maxWords = 30000\n",
    "maxSequenceLengthInWords = 400\n",
    "embeddingDimension = 300\n",
    "filtersNumber = 300\n",
    "\n",
    "input_layer = Input(shape=(maxSequenceLengthInWords,))\n",
    "\n",
    "pretrained_embedding_layer = Embedding(\n",
    "    maxWords, \n",
    "    output_dim=embeddingDimension, \n",
    "    input_length=maxSequenceLengthInWords,\n",
    "    weights = [np.load('fast_text_embeddings.npy')],\n",
    "    trainable = False\n",
    ")(input_layer)\n",
    "pretrained_embedding_layer = SpatialDropout1D(0.2)(pretrained_embedding_layer)\n",
    "\n",
    "custom_embedding_layer = Embedding(\n",
    "    maxWords, \n",
    "    output_dim=embeddingDimension, \n",
    "    input_length=maxSequenceLengthInWords,\n",
    "    weights = [np.load('custom_fast_text_embeddings.npy')],\n",
    "    trainable = False\n",
    ")(input_layer)\n",
    "custom_embedding_layer = SpatialDropout1D(0.2)(custom_embedding_layer)\n",
    "\n",
    "embedding = Average()([pretrained_embedding_layer, custom_embedding_layer])\n",
    "embedding_dropout = SpatialDropout1D(0.2)(embedding)\n",
    "\n",
    "embedding_dropout = SelfAttention()(embedding_dropout)\n",
    "\n",
    "features_1 = one_by_one(filtersNumber, embedding_dropout)\n",
    "features_2 = one_by_one(filtersNumber, features_1)\n",
    "features_3 = one_by_one(filtersNumber, features_2)\n",
    "\n",
    "features = yoon_kim_feature_extractor(filtersNumber, features_3)\n",
    "\n",
    "dense_1 = Dense(256, activation = 'elu')(features)\n",
    "dense_1_normalization = BatchNormalization()(dense_1)\n",
    "dense_1_dropout = Dropout(0.2)(dense_1_normalization)\n",
    "\n",
    "dense_2 = Dense(256, activation = 'elu')(dense_1_dropout)\n",
    "dense_2_normalization = BatchNormalization()(dense_2)\n",
    "dense_2_dropout = Dropout(0.2)(dense_2_normalization)\n",
    "\n",
    "output_layer = Dense(6, activation='sigmoid')(dense_2_dropout)\n",
    "\n",
    "single_category_layer = concatenate([\n",
    "    single_category_regressor(features, 64),\n",
    "    single_category_regressor(features, 64),\n",
    "    single_category_regressor(features, 64),\n",
    "    single_category_regressor(features, 64),\n",
    "    single_category_regressor(features, 64),\n",
    "    single_category_regressor(features, 64),\n",
    "])\n",
    "\n",
    "output_layer = average([output_layer, single_category_layer])\n",
    "\n",
    "model = Model(inputs=[input_layer], outputs=[output_layer])\n",
    "            \n",
    "model.summary()\n",
    "\n",
    "model.compile(\n",
    "    loss='binary_crossentropy', \n",
    "    optimizer='Adam',\n",
    "    metrics=['accuracy']\n",
    ")"
   ]
  },
  {
   "cell_type": "code",
   "execution_count": 13,
   "metadata": {
    "colab": {
     "autoexec": {
      "startup": false,
      "wait_interval": 0
     },
     "base_uri": "https://localhost:8080/",
     "height": 1482
    },
    "colab_type": "code",
    "executionInfo": {
     "elapsed": 24362311,
     "status": "ok",
     "timestamp": 1530913086944,
     "user": {
      "displayName": "Deep Learning",
      "photoUrl": "https://lh3.googleusercontent.com/a/default-user=s128",
      "userId": "115257841230779963257"
     },
     "user_tz": -120
    },
    "id": "xwMmTewgXynz",
    "outputId": "4ffe853b-19ce-4418-fdf2-a38f40d641b4"
   },
   "outputs": [
    {
     "name": "stdout",
     "output_type": "stream",
     "text": [
      "Train on 102124 samples, validate on 25532 samples\n",
      "Epoch 1/32\n",
      " 19808/102124 [====>.........................] - ETA: 9:22 - loss: 0.1967 - acc: 0.9211 54848/102124 [===============>..............] - ETA: 5:00 - loss: 0.1220 - acc: 0.9531 89280/102124 [=========================>....] - ETA: 1:20 - loss: 0.1031 - acc: 0.9608102124/102124 [==============================] - 678s 7ms/step - loss: 0.0988 - acc: 0.9626 - val_loss: 0.0802 - val_acc: 0.9753\n",
      "Epoch 2/32\n",
      "  8256/102124 [=>............................] - ETA: 9:30 - loss: 0.0649 - acc: 0.9762 41056/102124 [===========>..................] - ETA: 6:16 - loss: 0.0652 - acc: 0.9765 74432/102124 [====================>.........] - ETA: 2:50 - loss: 0.0646 - acc: 0.9768102124/102124 [==============================] - 668s 7ms/step - loss: 0.0634 - acc: 0.9772 - val_loss: 0.0850 - val_acc: 0.9706\n",
      "roc-auc: 0.9702 - roc-auc_val: 0.9684                                                                                                    \n",
      "Epoch 3/32\n",
      "  1408/102124 [..............................] - ETA: 10:11 - loss: 0.0545 - acc: 0.9806 35392/102124 [=========>....................] - ETA: 6:49 - loss: 0.0569 - acc: 0.9794 69632/102124 [===================>..........] - ETA: 3:19 - loss: 0.0569 - acc: 0.9795102124/102124 [==============================] - 668s 7ms/step - loss: 0.0564 - acc: 0.9795 - val_loss: 0.0537 - val_acc: 0.9817\n",
      "Epoch 4/32\n",
      "   256/102124 [..............................] - ETA: 10:30 - loss: 0.0656 - acc: 0.9766 34176/102124 [=========>....................] - ETA: 6:56 - loss: 0.0545 - acc: 0.9801 69600/102124 [===================>..........] - ETA: 3:19 - loss: 0.0534 - acc: 0.9801102124/102124 [==============================] - 666s 7ms/step - loss: 0.0522 - acc: 0.9805 - val_loss: 0.0527 - val_acc: 0.9812\n",
      "roc-auc: 0.979 - roc-auc_val: 0.9769                                                                                                    \n",
      "Epoch 5/32\n",
      "   448/102124 [..............................] - ETA: 10:21 - loss: 0.0537 - acc: 0.9818 34336/102124 [=========>....................] - ETA: 6:56 - loss: 0.0511 - acc: 0.9811 68992/102124 [===================>..........] - ETA: 3:23 - loss: 0.0505 - acc: 0.9812102124/102124 [==============================] - 666s 7ms/step - loss: 0.0502 - acc: 0.9812 - val_loss: 0.0479 - val_acc: 0.9820\n",
      "Epoch 6/32\n",
      "   384/102124 [..............................] - ETA: 10:25 - loss: 0.0523 - acc: 0.9792 34624/102124 [=========>....................] - ETA: 6:53 - loss: 0.0485 - acc: 0.9818 68544/102124 [===================>..........] - ETA: 3:25 - loss: 0.0488 - acc: 0.9817102112/102124 [============================>.] - ETA: 0s - loss: 0.0484 - acc: 0.9818102124/102124 [==============================] - 667s 7ms/step - loss: 0.0484 - acc: 0.9818 - val_loss: 0.0452 - val_acc: 0.9825\n",
      "roc-auc: 0.9845 - roc-auc_val: 0.981                                                                                                    \n",
      "Epoch 7/32\n",
      "  8320/102124 [=>............................] - ETA: 9:27 - loss: 0.0483 - acc: 0.982 43104/102124 [===========>..................] - ETA: 5:58 - loss: 0.0470 - acc: 0.9820 79392/102124 [======================>.......] - ETA: 2:18 - loss: 0.0472 - acc: 0.9820102124/102124 [==============================] - 660s 6ms/step - loss: 0.0473 - acc: 0.9820 - val_loss: 0.0449 - val_acc: 0.9825\n",
      "Epoch 8/32\n",
      "  4512/102124 [>.............................] - ETA: 9:52 - loss: 0.0491 - acc: 0.9810 39264/102124 [==========>...................] - ETA: 6:22 - loss: 0.0474 - acc: 0.9819 73824/102124 [====================>.........] - ETA: 2:52 - loss: 0.0464 - acc: 0.9821102124/102124 [==============================] - 662s 6ms/step - loss: 0.0465 - acc: 0.9820 - val_loss: 0.0446 - val_acc: 0.9830\n",
      "roc-auc: 0.9866 - roc-auc_val: 0.9827                                                                                                    \n",
      "Epoch 9/32\n",
      "  1440/102124 [..............................] - ETA: 10:21 - loss: 0.0468 - acc: 0.9811 35648/102124 [=========>....................] - ETA: 6:44 - loss: 0.0464 - acc: 0.9821 70496/102124 [===================>..........] - ETA: 3:12 - loss: 0.0454 - acc: 0.9826102124/102124 [==============================] - 661s 6ms/step - loss: 0.0455 - acc: 0.9824 - val_loss: 0.0432 - val_acc: 0.9829\n",
      "Epoch 10/32\n",
      "   928/102124 [..............................] - ETA: 10:24 - loss: 0.0407 - acc: 0.9849 35968/102124 [=========>....................] - ETA: 6:45 - loss: 0.0446 - acc: 0.9828 70368/102124 [===================>..........] - ETA: 3:14 - loss: 0.0447 - acc: 0.9827102124/102124 [==============================] - 666s 7ms/step - loss: 0.0446 - acc: 0.9826 - val_loss: 0.0434 - val_acc: 0.9828\n",
      "roc-auc: 0.9901 - roc-auc_val: 0.9847                                                                                                    \n",
      "Epoch 11/32\n",
      "   384/102124 [..............................] - ETA: 10:17 - loss: 0.0482 - acc: 0.9796 34784/102124 [=========>....................] - ETA: 6:52 - loss: 0.0443 - acc: 0.9824 68352/102124 [===================>..........] - ETA: 3:27 - loss: 0.0433 - acc: 0.9829101600/102124 [============================>.] - ETA: 3s - loss: 0.0440 - acc: 0.9827102124/102124 [==============================] - 666s 7ms/step - loss: 0.0441 - acc: 0.9827 - val_loss: 0.0421 - val_acc: 0.9835\n",
      "Epoch 12/32\n",
      " 12800/102124 [==>...........................] - ETA: 9:05 - loss: 0.0428 - acc: 0.9828 46336/102124 [============>.................] - ETA: 5:42 - loss: 0.0439 - acc: 0.9828 79552/102124 [======================>.......] - ETA: 2:18 - loss: 0.0437 - acc: 0.9828102124/102124 [==============================] - 665s 7ms/step - loss: 0.0434 - acc: 0.9828 - val_loss: 0.0471 - val_acc: 0.9822\n",
      "roc-auc: 0.9863 - roc-auc_val: 0.9805                                                                                                    \n",
      "Epoch 13/32\n",
      "  2720/102124 [..............................] - ETA: 10:13 - loss: 0.0414 - acc: 0.9837 36224/102124 [=========>....................] - ETA: 6:42 - loss: 0.0425 - acc: 0.9833 69376/102124 [===================>..........] - ETA: 3:20 - loss: 0.0431 - acc: 0.9830102124/102124 [==============================] - 663s 6ms/step - loss: 0.0430 - acc: 0.9830 - val_loss: 0.0448 - val_acc: 0.9826\n",
      "\n",
      "Epoch 00013: ReduceLROnPlateau reducing learning rate to 0.00014358729822561145.\n",
      "Epoch 14/32\n",
      "   128/102124 [..............................] - ETA: 10:27 - loss: 0.0376 - acc: 0.9857 34464/102124 [=========>....................] - ETA: 6:53 - loss: 0.0420 - acc: 0.9835 68672/102124 [===================>..........] - ETA: 3:24 - loss: 0.0427 - acc: 0.9832102112/102124 [============================>.] - ETA: 0s - loss: 0.0425 - acc: 0.9832102124/102124 [==============================] - 664s 7ms/step - loss: 0.0425 - acc: 0.9832 - val_loss: 0.0416 - val_acc: 0.9837\n",
      "roc-auc: 0.9912 - roc-auc_val: 0.9862                                                                                                    \n",
      "Epoch 15/32\n",
      "  8096/102124 [=>............................] - ETA: 9:37 - loss: 0.0450 - acc: 0.9824 41472/102124 [===========>..................] - ETA: 6:10 - loss: 0.0423 - acc: 0.9834 77472/102124 [=====================>........] - ETA: 2:30 - loss: 0.0419 - acc: 0.9835102124/102124 [==============================] - 662s 6ms/step - loss: 0.0421 - acc: 0.9835 - val_loss: 0.0408 - val_acc: 0.9840\n",
      "Epoch 16/32\n",
      "  3488/102124 [>.............................] - ETA: 9:57 - loss: 0.0404 - acc: 0.9833 40768/102124 [==========>...................] - ETA: 6:13 - loss: 0.0425 - acc: 0.9830 76640/102124 [=====================>........] - ETA: 2:35 - loss: 0.0419 - acc: 0.9833102124/102124 [==============================] - 662s 6ms/step - loss: 0.0418 - acc: 0.9834 - val_loss: 0.0415 - val_acc: 0.9836\n",
      "roc-auc: 0.9911 - roc-auc_val: 0.9858                                                                                                    \n",
      "Epoch 17/32\n"
     ]
    },
    {
     "name": "stdout",
     "output_type": "stream",
     "text": [
      "  1888/102124 [..............................] - ETA: 10:16 - loss: 0.0432 - acc: 0.9829 36992/102124 [=========>....................] - ETA: 6:38 - loss: 0.0408 - acc: 0.9837 71392/102124 [===================>..........] - ETA: 3:07 - loss: 0.0410 - acc: 0.9838102124/102124 [==============================] - 664s 7ms/step - loss: 0.0412 - acc: 0.9837 - val_loss: 0.0416 - val_acc: 0.9837\n",
      "Epoch 18/32\n",
      "  1344/102124 [..............................] - ETA: 10:17 - loss: 0.0401 - acc: 0.9833 35104/102124 [=========>....................] - ETA: 6:50 - loss: 0.0403 - acc: 0.9840 69184/102124 [===================>..........] - ETA: 3:22 - loss: 0.0408 - acc: 0.9837102124/102124 [==============================] - 666s 7ms/step - loss: 0.0409 - acc: 0.9838 - val_loss: 0.0438 - val_acc: 0.9836\n",
      "roc-auc: 0.9901 - roc-auc_val: 0.983                                                                                                    \n",
      "Epoch 19/32\n",
      "   128/102124 [..............................] - ETA: 10:35 - loss: 0.0246 - acc: 0.9935 35008/102124 [=========>....................] - ETA: 6:50 - loss: 0.0407 - acc: 0.9838 69792/102124 [===================>..........] - ETA: 3:17 - loss: 0.0404 - acc: 0.9839102124/102124 [==============================] - 662s 6ms/step - loss: 0.0406 - acc: 0.9839 - val_loss: 0.0411 - val_acc: 0.9839\n",
      "Epoch 20/32\n",
      "   704/102124 [..............................] - ETA: 10:24 - loss: 0.0415 - acc: 0.9837 34272/102124 [=========>....................] - ETA: 6:53 - loss: 0.0401 - acc: 0.9836 68128/102124 [===================>..........] - ETA: 3:27 - loss: 0.0405 - acc: 0.9838102112/102124 [============================>.] - ETA: 0s - loss: 0.0406 - acc: 0.9837102124/102124 [==============================] - 662s 6ms/step - loss: 0.0406 - acc: 0.9837 - val_loss: 0.0405 - val_acc: 0.9841\n",
      "roc-auc: 0.9928 - roc-auc_val: 0.9869                                                                                                    \n",
      "Epoch 21/32\n",
      "  7936/102124 [=>............................] - ETA: 9:37 - loss: 0.0437 - acc: 0.9831 42144/102124 [===========>..................] - ETA: 6:06 - loss: 0.0403 - acc: 0.9839 75872/102124 [=====================>........] - ETA: 2:40 - loss: 0.0402 - acc: 0.9839102124/102124 [==============================] - 663s 6ms/step - loss: 0.0404 - acc: 0.9839 - val_loss: 0.0401 - val_acc: 0.9843\n",
      "Epoch 22/32\n",
      "  2912/102124 [..............................] - ETA: 10:03 - loss: 0.0410 - acc: 0.9839 38048/102124 [==========>...................] - ETA: 6:30 - loss: 0.0410 - acc: 0.9836 72352/102124 [====================>.........] - ETA: 3:01 - loss: 0.0405 - acc: 0.9837102124/102124 [==============================] - 664s 7ms/step - loss: 0.0401 - acc: 0.9839 - val_loss: 0.0405 - val_acc: 0.9840\n",
      "roc-auc: 0.9931 - roc-auc_val: 0.987                                                                                                    \n",
      "Epoch 23/32\n",
      "  1216/102124 [..............................] - ETA: 10:16 - loss: 0.0410 - acc: 0.9834 34848/102124 [=========>....................] - ETA: 6:50 - loss: 0.0390 - acc: 0.9844 68864/102124 [===================>..........] - ETA: 3:23 - loss: 0.0396 - acc: 0.9841102124/102124 [==============================] - 662s 6ms/step - loss: 0.0398 - acc: 0.9842 - val_loss: 0.0401 - val_acc: 0.9842\n",
      "Epoch 24/32\n",
      "   544/102124 [..............................] - ETA: 10:30 - loss: 0.0377 - acc: 0.9856 35936/102124 [=========>....................] - ETA: 6:43 - loss: 0.0383 - acc: 0.9847 71264/102124 [===================>..........] - ETA: 3:07 - loss: 0.0393 - acc: 0.9844102124/102124 [==============================] - 660s 6ms/step - loss: 0.0396 - acc: 0.9843 - val_loss: 0.0404 - val_acc: 0.9840\n",
      "\n",
      "Epoch 00024: ReduceLROnPlateau reducing learning rate to 4.575267666950822e-05.\n",
      "roc-auc: 0.9932 - roc-auc_val: 0.9869                                                                                                    \n",
      "Epoch 25/32\n",
      "   704/102124 [..............................] - ETA: 10:28 - loss: 0.0397 - acc: 0.9837 35584/102124 [=========>....................] - ETA: 6:42 - loss: 0.0396 - acc: 0.9843 73120/102124 [====================>.........] - ETA: 2:55 - loss: 0.0395 - acc: 0.9842102124/102124 [==============================] - 659s 6ms/step - loss: 0.0396 - acc: 0.9842 - val_loss: 0.0408 - val_acc: 0.9839\n",
      "Epoch 26/32\n",
      "  1664/102124 [..............................] - ETA: 10:23 - loss: 0.0395 - acc: 0.9856 35520/102124 [=========>....................] - ETA: 6:46 - loss: 0.0390 - acc: 0.9846 71392/102124 [===================>..........] - ETA: 3:06 - loss: 0.0397 - acc: 0.9842102124/102124 [==============================] - 660s 6ms/step - loss: 0.0393 - acc: 0.9842 - val_loss: 0.0402 - val_acc: 0.9841\n",
      "roc-auc: 0.9934 - roc-auc_val: 0.9871                                                                                                    \n",
      "Epoch 27/32\n",
      "   864/102124 [..............................] - ETA: 10:06 - loss: 0.0362 - acc: 0.9846 36256/102124 [=========>....................] - ETA: 6:38 - loss: 0.0409 - acc: 0.9835 73696/102124 [====================>.........] - ETA: 2:51 - loss: 0.0396 - acc: 0.9842102124/102124 [==============================] - 657s 6ms/step - loss: 0.0395 - acc: 0.9843 - val_loss: 0.0407 - val_acc: 0.9841\n",
      "Epoch 28/32\n",
      "  2048/102124 [..............................] - ETA: 10:20 - loss: 0.0352 - acc: 0.98 37504/102124 [==========>...................] - ETA: 6:32 - loss: 0.0397 - acc: 0.9840 76192/102124 [=====================>........] - ETA: 2:36 - loss: 0.0394 - acc: 0.9842102124/102124 [==============================] - 658s 6ms/step - loss: 0.0392 - acc: 0.9843 - val_loss: 0.0405 - val_acc: 0.9842\n",
      "roc-auc: 0.9931 - roc-auc_val: 0.9864                                                                                                    \n",
      "Epoch 29/32\n",
      "  2176/102124 [..............................] - ETA: 10:05 - loss: 0.0386 - acc: 0.9845 39680/102124 [==========>...................] - ETA: 6:19 - loss: 0.0387 - acc: 0.9847 74560/102124 [====================>.........] - ETA: 2:47 - loss: 0.0388 - acc: 0.9845102124/102124 [==============================] - 660s 6ms/step - loss: 0.0392 - acc: 0.9844 - val_loss: 0.0402 - val_acc: 0.9843\n",
      "Epoch 30/32\n",
      "  2656/102124 [..............................] - ETA: 10:18 - loss: 0.0369 - acc: 0.9858 40672/102124 [==========>...................] - ETA: 6:13 - loss: 0.0389 - acc: 0.9843 79456/102124 [======================>.......] - ETA: 2:17 - loss: 0.0388 - acc: 0.9843102124/102124 [==============================] - 659s 6ms/step - loss: 0.0388 - acc: 0.9843 - val_loss: 0.0403 - val_acc: 0.9841\n",
      "roc-auc: 0.9935 - roc-auc_val: 0.9871                                                                                                    \n",
      "Epoch 31/32\n",
      "  2848/102124 [..............................] - ETA: 10:02 - loss: 0.0363 - acc: 0.9858 38432/102124 [==========>...................] - ETA: 6:27 - loss: 0.0392 - acc: 0.9843 74752/102124 [====================>.........] - ETA: 2:46 - loss: 0.0395 - acc: 0.9844102124/102124 [==============================] - 660s 6ms/step - loss: 0.0389 - acc: 0.9846 - val_loss: 0.0407 - val_acc: 0.9841\n",
      "Epoch 32/32\n",
      "  2464/102124 [..............................] - ETA: 10:12 - loss: 0.0382 - acc: 0.9848 37792/102124 [==========>...................] - ETA: 6:30 - loss: 0.0391 - acc: 0.9842 75744/102124 [=====================>........] - ETA: 2:40 - loss: 0.0389 - acc: 0.9843102124/102124 [==============================] - 659s 6ms/step - loss: 0.0387 - acc: 0.9844 - val_loss: 0.0405 - val_acc: 0.9841\n",
      "roc-auc: 0.9933 - roc-auc_val: 0.9858                                                                                                    \n"
     ]
    }
   ],
   "source": [
    "history = train_with_cv(model, batchSize=32, rocEvery = 2)"
   ]
  },
  {
   "cell_type": "code",
   "execution_count": 14,
   "metadata": {
    "colab": {
     "autoexec": {
      "startup": false,
      "wait_interval": 0
     },
     "base_uri": "https://localhost:8080/",
     "height": 294
    },
    "colab_type": "code",
    "executionInfo": {
     "elapsed": 3902,
     "status": "ok",
     "timestamp": 1530913091131,
     "user": {
      "displayName": "Deep Learning",
      "photoUrl": "https://lh3.googleusercontent.com/a/default-user=s128",
      "userId": "115257841230779963257"
     },
     "user_tz": -120
    },
    "id": "sms3R-U4469B",
    "outputId": "58413b93-886c-4fdb-af42-dd62b114c68b"
   },
   "outputs": [
    {
     "data": {
      "image/png": "[encoded data removed]",
      "text/plain": [
       "<matplotlib.figure.Figure at 0x7f4f42648860>"
      ]
     },
     "metadata": {
      "tags": []
     },
     "output_type": "display_data"
    }
   ],
   "source": [
    "plot_history(history)"
   ]
  },
  {
   "cell_type": "code",
   "execution_count": 15,
   "metadata": {
    "colab": {
     "autoexec": {
      "startup": false,
      "wait_interval": 0
     },
     "base_uri": "https://localhost:8080/",
     "height": 51
    },
    "colab_type": "code",
    "executionInfo": {
     "elapsed": 103059,
     "status": "ok",
     "timestamp": 1530913194489,
     "user": {
      "displayName": "Deep Learning",
      "photoUrl": "https://lh3.googleusercontent.com/a/default-user=s128",
      "userId": "115257841230779963257"
     },
     "user_tz": -120
    },
    "id": "r2gtMBj2Tp9A",
    "outputId": "986d4af4-3ebd-4bd3-9c08-ff3810f7088d"
   },
   "outputs": [
    {
     "name": "stdout",
     "output_type": "stream",
     "text": [
      "31915/31915 [==============================] - 54s 2ms/step\n",
      "([0.0385048417558626, 0.9846675929820745], 0.9887902222753547)\n"
     ]
    }
   ],
   "source": [
    "print(evaluate_on_test(model))"
   ]
  },
  {
   "cell_type": "markdown",
   "metadata": {
    "colab_type": "text",
    "id": "gDhVACYdjLfl"
   },
   "source": [
    "Medium batch size training"
   ]
  },
  {
   "cell_type": "code",
   "execution_count": 0,
   "metadata": {
    "colab": {
     "autoexec": {
      "startup": false,
      "wait_interval": 0
     },
     "base_uri": "https://localhost:8080/",
     "height": 1414
    },
    "colab_type": "code",
    "id": "Z1TB8Nh0jIfn",
    "outputId": "c6b81f75-c4d7-4340-c3c0-2c9929949769"
   },
   "outputs": [
    {
     "name": "stdout",
     "output_type": "stream",
     "text": [
      "Train on 102124 samples, validate on 25532 samples\n",
      "Epoch 1/32\n",
      " 42816/102124 [===========>..................] - ETA: 5:05 - loss: 0.1709 - acc: 0.9300102124/102124 [==============================] - 548s 5ms/step - loss: 0.1138 - acc: 0.9556 - val_loss: 0.0701 - val_acc: 0.9792\n",
      "Epoch 2/32\n",
      "  5440/102124 [>.............................] - ETA: 7:55 - loss: 0.0658 - acc: 0.9763102080/102124 [============================>.] - ETA: 0s - loss: 0.0630 - acc: 0.9769102124/102124 [==============================] - 538s 5ms/step - loss: 0.0630 - acc: 0.9769 - val_loss: 0.0549 - val_acc: 0.9794\n",
      "roc-auc: 0.9763 - roc-auc_val: 0.9735                                                                                                    \n",
      "Epoch 3/32\n",
      "102124/102124 [==============================] - 543s 5ms/step - loss: 0.0565 - acc: 0.9789 - val_loss: 0.0527 - val_acc: 0.9808==>.] - ETA: 0s - loss: 0.0565 - acc: 0.978\n",
      "Epoch 4/32\n",
      " 20352/102124 [====>.........................] - ETA: 6:46 - loss: 0.0519 - acc: 0.9800102080/102124 [============================>.] - ETA: 0s - loss: 0.0524 - acc: 0.9804102124/102124 [==============================] - 543s 5ms/step - loss: 0.0524 - acc: 0.9804 - val_loss: 0.0638 - val_acc: 0.9801\n",
      "roc-auc: 0.9749 - roc-auc_val: 0.9677                                                                                                    \n",
      "Epoch 5/32\n",
      "102124/102124 [==============================] - 543s 5ms/step - loss: 0.0501 - acc: 0.9807 - val_loss: 0.0438 - val_acc: 0.9832==>.] - ETA: 0s - loss: 0.0501 - acc: 0.980\n",
      "Epoch 6/32\n",
      " 20352/102124 [====>.........................] - ETA: 6:45 - loss: 0.0476 - acc: 0.9817102080/102124 [============================>.] - ETA: 0s - loss: 0.0478 - acc: 0.9815102124/102124 [==============================] - 544s 5ms/step - loss: 0.0478 - acc: 0.9815 - val_loss: 0.0516 - val_acc: 0.9814\n",
      "roc-auc: 0.9854 - roc-auc_val: 0.9816                                                                                                    \n",
      "Epoch 7/32\n",
      "102124/102124 [==============================] - 543s 5ms/step - loss: 0.0468 - acc: 0.9818 - val_loss: 0.0466 - val_acc: 0.9829==>.] - ETA: 0s - loss: 0.0468 - acc: 0.981\n",
      "\n",
      "Epoch 00007: ReduceLROnPlateau reducing learning rate to 0.0002679433673620224.\n",
      "Epoch 8/32\n",
      " 16064/102124 [===>..........................] - ETA: 7:01 - loss: 0.0457 - acc: 0.9824102080/102124 [============================>.] - ETA: 0s - loss: 0.0456 - acc: 0.9823102124/102124 [==============================] - 538s 5ms/step - loss: 0.0455 - acc: 0.9823 - val_loss: 0.0619 - val_acc: 0.9801\n",
      "roc-auc: 0.9863 - roc-auc_val: 0.9803                                                                                                    \n",
      "Epoch 9/32\n",
      "102124/102124 [==============================] - 537s 5ms/step - loss: 0.0444 - acc: 0.9826 - val_loss: 0.0462 - val_acc: 0.9832==>.] - ETA: 0s - loss: 0.0444 - acc: 0.982\n",
      "Epoch 10/32\n",
      " 20288/102124 [====>.........................] - ETA: 6:40 - loss: 0.0443 - acc: 0.9831102080/102124 [============================>.] - ETA: 0s - loss: 0.0436 - acc: 0.9830102124/102124 [==============================] - 536s 5ms/step - loss: 0.0436 - acc: 0.9830 - val_loss: 0.0446 - val_acc: 0.9831\n",
      "roc-auc: 0.9888 - roc-auc_val: 0.9848                                                                                                    \n",
      "Epoch 11/32\n",
      "102124/102124 [==============================] - 536s 5ms/step - loss: 0.0429 - acc: 0.9833 - val_loss: 0.0419 - val_acc: 0.9839==>.] - ETA: 0s - loss: 0.0429 - acc: 0.983\n",
      "Epoch 12/32\n",
      " 20288/102124 [====>.........................] - ETA: 6:39 - loss: 0.0396 - acc: 0.9840102080/102124 [============================>.] - ETA: 0s - loss: 0.0422 - acc: 0.9834102124/102124 [==============================] - 536s 5ms/step - loss: 0.0422 - acc: 0.9834 - val_loss: 0.0408 - val_acc: 0.9843\n",
      "roc-auc: 0.9925 - roc-auc_val: 0.9872                                                                                                    \n",
      "Epoch 13/32\n",
      "102124/102124 [==============================] - 535s 5ms/step - loss: 0.0415 - acc: 0.9836 - val_loss: 0.0403 - val_acc: 0.9844==>.] - ETA: 0s - loss: 0.0416 - acc: 0.983\n",
      "Epoch 14/32\n",
      " 20288/102124 [====>.........................] - ETA: 6:39 - loss: 0.0404 - acc: 0.9842102080/102124 [============================>.] - ETA: 0s - loss: 0.0406 - acc: 0.9839102124/102124 [==============================] - 535s 5ms/step - loss: 0.0406 - acc: 0.9839 - val_loss: 0.0410 - val_acc: 0.9842\n",
      "roc-auc: 0.9931 - roc-auc_val: 0.987                                                                                                    \n",
      "Epoch 15/32\n",
      "102124/102124 [==============================] - 534s 5ms/step - loss: 0.0403 - acc: 0.9841 - val_loss: 0.0446 - val_acc: 0.9837==>.] - ETA: 0s - loss: 0.0403 - acc: 0.984\n",
      "Epoch 16/32\n",
      " 20288/102124 [====>.........................] - ETA: 6:38 - loss: 0.0393 - acc: 0.9844102080/102124 [============================>.] - ETA: 0s - loss: 0.0399 - acc: 0.9841102124/102124 [==============================] - 535s 5ms/step - loss: 0.0399 - acc: 0.9841 - val_loss: 0.0409 - val_acc: 0.9843\n",
      "roc-auc: 0.9932 - roc-auc_val: 0.9871                                                                                                    \n",
      "Epoch 17/32\n",
      "102124/102124 [==============================] - 535s 5ms/step - loss: 0.0397 - acc: 0.9842 - val_loss: 0.0405 - val_acc: 0.9845==>.] - ETA: 0s - loss: 0.0397 - acc: 0.984\n",
      "Epoch 18/32\n",
      "102124/102124 [==============================] - 535s 5ms/step - loss: 0.0389 - acc: 0.9843 - val_loss: 0.0409 - val_acc: 0.9846==>.] - ETA: 0s - loss: 0.0389 - acc: 0.984\n",
      "\n",
      "Epoch 00018: ReduceLROnPlateau reducing learning rate to 8.53775127325207e-05.\n",
      "roc-auc: 0.9941 - roc-auc_val: 0.9874                                                                                                    \n",
      "Epoch 19/32\n",
      "102124/102124 [==============================] - 534s 5ms/step - loss: 0.0384 - acc: 0.9844 - val_loss: 0.0403 - val_acc: 0.9849==>.] - ETA: 0s - loss: 0.0384 - acc: 0.984\n",
      "Epoch 20/32\n",
      " 20288/102124 [====>.........................] - ETA: 6:38 - loss: 0.0386 - acc: 0.9840102080/102124 [============================>.] - ETA: 0s - loss: 0.0381 - acc: 0.9845102124/102124 [==============================] - 534s 5ms/step - loss: 0.0381 - acc: 0.9845 - val_loss: 0.0401 - val_acc: 0.9846\n",
      "roc-auc: 0.9947 - roc-auc_val: 0.9878                                                                                                    \n",
      "Epoch 21/32\n",
      "102124/102124 [==============================] - 534s 5ms/step - loss: 0.0377 - acc: 0.9847 - val_loss: 0.0424 - val_acc: 0.9837==>.] - ETA: 0s - loss: 0.0377 - acc: 0.984\n",
      "Epoch 22/32\n",
      " 20288/102124 [====>.........................] - ETA: 6:39 - loss: 0.0376 - acc: 0.9846102080/102124 [============================>.] - ETA: 0s - loss: 0.0375 - acc: 0.9849102124/102124 [==============================] - 534s 5ms/step - loss: 0.0375 - acc: 0.9849 - val_loss: 0.0405 - val_acc: 0.9849\n",
      "roc-auc: 0.9952 - roc-auc_val: 0.987                                                                                                    \n",
      "Epoch 23/32\n",
      "102124/102124 [==============================] - 533s 5ms/step - loss: 0.0371 - acc: 0.9848 - val_loss: 0.0409 - val_acc: 0.9846==>.] - ETA: 0s - loss: 0.0371 - acc: 0.984\n",
      "Epoch 24/32\n",
      " 20288/102124 [====>.........................] - ETA: 6:38 - loss: 0.0359 - acc: 0.9855102080/102124 [============================>.] - ETA: 0s - loss: 0.0368 - acc: 0.9851102124/102124 [==============================] - 535s 5ms/step - loss: 0.0368 - acc: 0.9851 - val_loss: 0.0420 - val_acc: 0.9837\n",
      "roc-auc: 0.9946 - roc-auc_val: 0.9847                                                                                                    \n",
      "Epoch 25/32\n",
      "102124/102124 [==============================] - 534s 5ms/step - loss: 0.0365 - acc: 0.9850 - val_loss: 0.0405 - val_acc: 0.9847==>.] - ETA: 0s - loss: 0.0365 - acc: 0.985\n",
      "Epoch 26/32\n",
      " 20288/102124 [====>.........................] - ETA: 6:38 - loss: 0.0364 - acc: 0.9849102080/102124 [============================>.] - ETA: 0s - loss: 0.0363 - acc: 0.9852102124/102124 [==============================] - 534s 5ms/step - loss: 0.0363 - acc: 0.9852 - val_loss: 0.0407 - val_acc: 0.9848\n",
      "roc-auc: 0.9957 - roc-auc_val: 0.9867                                                                                                    \n",
      "Epoch 27/32\n"
     ]
    },
    {
     "name": "stdout",
     "output_type": "stream",
     "text": [
      "102124/102124 [==============================] - 535s 5ms/step - loss: 0.0360 - acc: 0.9854 - val_loss: 0.0406 - val_acc: 0.9847==>.] - ETA: 0s - loss: 0.0360 - acc: 0.985\n",
      "Epoch 28/32\n",
      " 20288/102124 [====>.........................] - ETA: 6:39 - loss: 0.0354 - acc: 0.9855102080/102124 [============================>.] - ETA: 0s - loss: 0.0360 - acc: 0.9853102124/102124 [==============================] - 534s 5ms/step - loss: 0.0360 - acc: 0.9853 - val_loss: 0.0403 - val_acc: 0.9847\n",
      "roc-auc: 0.9958 - roc-auc_val: 0.9866                                                                                                    \n",
      "Epoch 29/32\n",
      "102124/102124 [==============================] - 533s 5ms/step - loss: 0.0356 - acc: 0.9852 - val_loss: 0.0409 - val_acc: 0.9848==>.] - ETA: 0s - loss: 0.0356 - acc: 0.985\n",
      "\n",
      "Epoch 00029: ReduceLROnPlateau reducing learning rate to 2.7204705475014634e-05.\n",
      "Epoch 30/32\n",
      " 16000/102124 [===>..........................] - ETA: 6:59 - loss: 0.0355 - acc: 0.9854 23552/102124 [=====>........................] - ETA: 6:22 - loss: 0.0347 - acc: 0.9857"
     ]
    }
   ],
   "source": [
    "history = train_with_cv(model, batchSize=64, rocEvery = 2)"
   ]
  },
  {
   "cell_type": "code",
   "execution_count": 0,
   "metadata": {
    "colab": {
     "autoexec": {
      "startup": false,
      "wait_interval": 0
     }
    },
    "colab_type": "code",
    "id": "SsCKGcVcjIke"
   },
   "outputs": [],
   "source": [
    "plot_history(history)"
   ]
  },
  {
   "cell_type": "code",
   "execution_count": 0,
   "metadata": {
    "colab": {
     "autoexec": {
      "startup": false,
      "wait_interval": 0
     }
    },
    "colab_type": "code",
    "id": "RPyypYJkjIpj"
   },
   "outputs": [],
   "source": [
    "print(evaluate_on_test(model))"
   ]
  }
 ],
 "metadata": {
  "accelerator": "GPU",
  "colab": {
   "collapsed_sections": [],
   "default_view": {},
   "name": "features_with_each_avg_64.ipynb",
   "provenance": [],
   "version": "0.3.2",
   "views": {}
  },
  "kernelspec": {
   "display_name": "Python 3",
   "language": "python",
   "name": "python3"
  },
  "language_info": {
   "codemirror_mode": {
    "name": "ipython",
    "version": 3
   },
   "file_extension": ".py",
   "mimetype": "text/x-python",
   "name": "python",
   "nbconvert_exporter": "python",
   "pygments_lexer": "ipython3",
   "version": "3.6.2"
  }
 },
 "nbformat": 4,
 "nbformat_minor": 1
}

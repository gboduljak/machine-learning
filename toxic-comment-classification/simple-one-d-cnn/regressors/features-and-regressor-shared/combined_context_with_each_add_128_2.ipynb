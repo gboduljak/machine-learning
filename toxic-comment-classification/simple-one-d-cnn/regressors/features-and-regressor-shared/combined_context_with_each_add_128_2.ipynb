{
  "nbformat": 4,
  "nbformat_minor": 0,
  "metadata": {
    "colab": {
      "name": "combined_context_with_each_add_128_2.ipynb",
      "version": "0.3.2",
      "views": {},
      "default_view": {},
      "provenance": [],
      "collapsed_sections": []
    },
    "kernelspec": {
      "display_name": "Python 3",
      "language": "python",
      "name": "python3"
    },
    "accelerator": "GPU"
  },
  "cells": [
    {
      "metadata": {
        "id": "yS1FnhiWX3Js",
        "colab_type": "code",
        "colab": {
          "autoexec": {
            "startup": false,
            "wait_interval": 0
          },
          "base_uri": "https://localhost:8080/",
          "height": 411
        },
        "outputId": "a11084f8-0246-46b5-c98a-1c60b77ec6a2",
        "executionInfo": {
          "status": "ok",
          "timestamp": 1530813758929,
          "user_tz": -120,
          "elapsed": 13594,
          "user": {
            "displayName": "Deep Learner",
            "photoUrl": "https://lh3.googleusercontent.com/a/default-user=s128",
            "userId": "116467175281269717998"
          }
        }
      },
      "cell_type": "code",
      "source": [
        "!pip install keras\n",
        "!pip install sklearn\n",
        "!pip install matplotlib\n",
        "!pip install -U -q PyDrive"
      ],
      "execution_count": 1,
      "outputs": [
        {
          "output_type": "stream",
          "text": [
            "Requirement already satisfied: keras in /usr/local/lib/python3.6/dist-packages (2.1.6)\n",
            "Requirement already satisfied: numpy>=1.9.1 in /usr/local/lib/python3.6/dist-packages (from keras) (1.14.5)\n",
            "Requirement already satisfied: h5py in /usr/local/lib/python3.6/dist-packages (from keras) (2.8.0)\n",
            "Requirement already satisfied: six>=1.9.0 in /usr/local/lib/python3.6/dist-packages (from keras) (1.11.0)\n",
            "Requirement already satisfied: scipy>=0.14 in /usr/local/lib/python3.6/dist-packages (from keras) (0.19.1)\n",
            "Requirement already satisfied: pyyaml in /usr/local/lib/python3.6/dist-packages (from keras) (3.12)\n",
            "Collecting sklearn\n",
            "  Downloading https://files.pythonhosted.org/packages/1e/7a/dbb3be0ce9bd5c8b7e3d87328e79063f8b263b2b1bfa4774cb1147bfcd3f/sklearn-0.0.tar.gz\n",
            "Requirement already satisfied: scikit-learn in /usr/local/lib/python3.6/dist-packages (from sklearn) (0.19.1)\n",
            "Building wheels for collected packages: sklearn\n",
            "  Running setup.py bdist_wheel for sklearn ... \u001b[?25l-\b \b\\\b \bdone\n",
            "\u001b[?25h  Stored in directory: /content/.cache/pip/wheels/76/03/bb/589d421d27431bcd2c6da284d5f2286c8e3b2ea3cf1594c074\n",
            "Successfully built sklearn\n",
            "Installing collected packages: sklearn\n",
            "Successfully installed sklearn-0.0\n",
            "Requirement already satisfied: matplotlib in /usr/local/lib/python3.6/dist-packages (2.1.2)\n",
            "Requirement already satisfied: pytz in /usr/local/lib/python3.6/dist-packages (from matplotlib) (2018.5)\n",
            "Requirement already satisfied: pyparsing!=2.0.4,!=2.1.2,!=2.1.6,>=2.0.1 in /usr/local/lib/python3.6/dist-packages (from matplotlib) (2.2.0)\n",
            "Requirement already satisfied: python-dateutil>=2.1 in /usr/local/lib/python3.6/dist-packages (from matplotlib) (2.5.3)\n",
            "Requirement already satisfied: numpy>=1.7.1 in /usr/local/lib/python3.6/dist-packages (from matplotlib) (1.14.5)\n",
            "Requirement already satisfied: six>=1.10 in /usr/local/lib/python3.6/dist-packages (from matplotlib) (1.11.0)\n",
            "Requirement already satisfied: cycler>=0.10 in /usr/local/lib/python3.6/dist-packages (from matplotlib) (0.10.0)\n"
          ],
          "name": "stdout"
        }
      ]
    },
    {
      "metadata": {
        "id": "xlKzkDJFrjA-",
        "colab_type": "code",
        "colab": {
          "autoexec": {
            "startup": false,
            "wait_interval": 0
          },
          "base_uri": "https://localhost:8080/",
          "height": 34
        },
        "outputId": "04040150-1e04-4a72-89ab-ecadda71bee0",
        "executionInfo": {
          "status": "ok",
          "timestamp": 1530813768153,
          "user_tz": -120,
          "elapsed": 8993,
          "user": {
            "displayName": "Deep Learner",
            "photoUrl": "https://lh3.googleusercontent.com/a/default-user=s128",
            "userId": "116467175281269717998"
          }
        }
      },
      "cell_type": "code",
      "source": [
        "from keras import backend as K\n",
        "K.clear_session()"
      ],
      "execution_count": 2,
      "outputs": [
        {
          "output_type": "stream",
          "text": [
            "Using TensorFlow backend.\n"
          ],
          "name": "stderr"
        }
      ]
    },
    {
      "metadata": {
        "id": "eQEKwl4oAxO7",
        "colab_type": "code",
        "colab": {
          "autoexec": {
            "startup": false,
            "wait_interval": 0
          }
        }
      },
      "cell_type": "code",
      "source": [
        "from keras import backend as K\n",
        "cfg = K.tf.ConfigProto()\n",
        "cfg.gpu_options.allow_growth = True\n",
        "K.set_session(K.tf.Session(config=cfg))"
      ],
      "execution_count": 0,
      "outputs": []
    },
    {
      "metadata": {
        "id": "12M0egCCX-27",
        "colab_type": "code",
        "colab": {
          "autoexec": {
            "startup": false,
            "wait_interval": 0
          }
        }
      },
      "cell_type": "code",
      "source": [
        "from pydrive.auth import GoogleAuth\n",
        "from pydrive.drive import GoogleDrive\n",
        "from google.colab import auth\n",
        "from oauth2client.client import GoogleCredentials\n",
        "\n",
        "auth.authenticate_user()\n",
        "gauth = GoogleAuth()\n",
        "gauth.credentials = GoogleCredentials.get_application_default()\n",
        "drive = GoogleDrive(gauth)"
      ],
      "execution_count": 0,
      "outputs": []
    },
    {
      "metadata": {
        "id": "4lN2WTUEYBYv",
        "colab_type": "code",
        "colab": {
          "autoexec": {
            "startup": false,
            "wait_interval": 0
          }
        }
      },
      "cell_type": "code",
      "source": [
        "file_import = drive.CreateFile({'id':'1p1bsltfTcIrZ_kfE6kwGTPzcdXorHbb2'})\n",
        "file_import.GetContentFile('colab_setup.py') \n",
        "from colab_setup import setup\n",
        "\n",
        "setup(drive)"
      ],
      "execution_count": 0,
      "outputs": []
    },
    {
      "metadata": {
        "id": "cHBlD0tVj2TY",
        "colab_type": "code",
        "colab": {
          "autoexec": {
            "startup": false,
            "wait_interval": 0
          },
          "base_uri": "https://localhost:8080/",
          "height": 119
        },
        "outputId": "05940219-1980-415c-dbb8-2631313e4422",
        "executionInfo": {
          "status": "ok",
          "timestamp": 1530813819619,
          "user_tz": -120,
          "elapsed": 1677,
          "user": {
            "displayName": "Deep Learner",
            "photoUrl": "https://lh3.googleusercontent.com/a/default-user=s128",
            "userId": "116467175281269717998"
          }
        }
      },
      "cell_type": "code",
      "source": [
        "!ls"
      ],
      "execution_count": 6,
      "outputs": [
        {
          "output_type": "stream",
          "text": [
            "colab_setup.py\t\t\t roc_auc_callback.py\tX_train.npy\r\n",
            "custom_fast_text_embeddings.npy  sample_submission.csv\tX_val.npy\r\n",
            "datalab\t\t\t\t train_model.py\t\ty_test.npy\r\n",
            "fast_text_embeddings.npy\t X_submission.npy\ty_train_full.npy\r\n",
            "plot_history.py\t\t\t X_test.npy\t\ty_train.npy\r\n",
            "__pycache__\t\t\t X_train_full.npy\ty_val.npy\r\n"
          ],
          "name": "stdout"
        }
      ]
    },
    {
      "metadata": {
        "id": "yMwWPTMYXyno",
        "colab_type": "code",
        "colab": {
          "autoexec": {
            "startup": false,
            "wait_interval": 0
          }
        }
      },
      "cell_type": "code",
      "source": [
        "import numpy as np\n",
        "import os\n",
        "\n",
        "from plot_history import plot_history\n",
        "from roc_auc_callback import RocAucCallback\n",
        "from train_model import train_with_cv, train_with_submitting, evaluate_on_test\n",
        "\n",
        "from keras.models import Model\n",
        "from keras.layers import *\n",
        "from keras.layers.merge import concatenate"
      ],
      "execution_count": 0,
      "outputs": []
    },
    {
      "metadata": {
        "id": "3YXiQ6IRovcY",
        "colab_type": "code",
        "colab": {
          "autoexec": {
            "startup": false,
            "wait_interval": 0
          }
        }
      },
      "cell_type": "code",
      "source": [
        "file_import = drive.CreateFile({'id':'15j1Nou6m5WNLejJQrUcty6U03xsIgIAI'})\n",
        "file_import.GetContentFile('SelfAttention.py') \n",
        "\n",
        "from SelfAttention import SelfAttention"
      ],
      "execution_count": 0,
      "outputs": []
    },
    {
      "metadata": {
        "id": "MIWjPi9bs5d4",
        "colab_type": "code",
        "colab": {
          "autoexec": {
            "startup": false,
            "wait_interval": 0
          }
        }
      },
      "cell_type": "code",
      "source": [
        "def one_by_one(filtersNumber, inputLayer, dropout = 0.2):\n",
        "    one_by_one = Conv1D(filtersNumber, 1, activation = 'elu', padding = 'same', kernel_initializer = 'he_uniform')(inputLayer)\n",
        "    one_by_one = BatchNormalization()(one_by_one)\n",
        "    one_by_one = SpatialDropout1D(dropout)(one_by_one)\n",
        "    \n",
        "    return one_by_one"
      ],
      "execution_count": 0,
      "outputs": []
    },
    {
      "metadata": {
        "id": "mRg7bBAFoL7b",
        "colab_type": "code",
        "colab": {
          "autoexec": {
            "startup": false,
            "wait_interval": 0
          }
        }
      },
      "cell_type": "code",
      "source": [
        "def yoon_kim_feature_extractor(filtersNumber, inputLayer):\n",
        "    block_1_conv_1 = Conv1D(filtersNumber, 1, activation = 'elu', padding = 'same', kernel_initializer = 'he_uniform')(inputLayer)\n",
        "    block_1_batchnorm1 = BatchNormalization()(block_1_conv_1)\n",
        "    block_1_max_pool1 = GlobalMaxPooling1D()(block_1_batchnorm1)\n",
        "\n",
        "    block_1_conv_2 = Conv1D(filtersNumber, 2, activation = 'elu', padding = 'same', kernel_initializer = 'he_uniform')(inputLayer)\n",
        "    block_1_batchnorm2 = BatchNormalization()(block_1_conv_2)\n",
        "    block_1_max_pool2 = GlobalMaxPooling1D()(block_1_batchnorm2)\n",
        "\n",
        "    block_1_conv_3 = Conv1D(filtersNumber, 3, activation = 'elu', padding = 'same', kernel_initializer = 'he_uniform')(inputLayer)\n",
        "    block_1_batchnorm3 = BatchNormalization()(block_1_conv_3)\n",
        "    block_1_max_pool3 = GlobalMaxPooling1D()(block_1_batchnorm3)\n",
        "\n",
        "    block_1_conv_4 = Conv1D(filtersNumber, 5, activation = 'elu', padding = 'same', kernel_initializer = 'he_uniform')(inputLayer)\n",
        "    block_1_batchnorm4 = BatchNormalization()(block_1_conv_4)\n",
        "    block_1_max_pool4 = GlobalMaxPooling1D()(block_1_batchnorm4)\n",
        "\n",
        "    block_1_features = concatenate([\n",
        "        block_1_max_pool1, \n",
        "        block_1_max_pool2, \n",
        "        block_1_max_pool3, \n",
        "        block_1_max_pool4\n",
        "    ])\n",
        "    block_1_features = Dropout(0.2)(block_1_features)\n",
        "    return block_1_features"
      ],
      "execution_count": 0,
      "outputs": []
    },
    {
      "metadata": {
        "id": "2t9jNZJXg6Zz",
        "colab_type": "code",
        "colab": {
          "autoexec": {
            "startup": false,
            "wait_interval": 0
          }
        }
      },
      "cell_type": "code",
      "source": [
        "def single_category_regressor(features, context, context2, unitsNumber = 64):\n",
        "    features = concatenate([features, context])\n",
        "    \n",
        "    dense_1 = Dense(unitsNumber, activation = 'elu')(features)\n",
        "    dense_1_normalization = BatchNormalization()(dense_1)\n",
        "    dense_1_dropout = Dropout(0.2)(dense_1_normalization)\n",
        "\n",
        "    features = concatenate([dense_1_dropout, context2])\n",
        "\n",
        "    dense_2 = Dense(unitsNumber, activation = 'elu')(features)\n",
        "    dense_2_normalization = BatchNormalization()(dense_2)\n",
        "    dense_2_dropout = Dropout(0.2)(dense_2_normalization)\n",
        "    \n",
        "    return Dense(1, activation='sigmoid')(dense_2_dropout)"
      ],
      "execution_count": 0,
      "outputs": []
    },
    {
      "metadata": {
        "id": "LTFG7OgsXynw",
        "colab_type": "code",
        "colab": {
          "autoexec": {
            "startup": false,
            "wait_interval": 0
          },
          "base_uri": "https://localhost:8080/",
          "height": 3706
        },
        "outputId": "3a2537a7-ea1a-4678-d865-83e7d898fd2d",
        "executionInfo": {
          "status": "ok",
          "timestamp": 1530813829140,
          "user_tz": -120,
          "elapsed": 5200,
          "user": {
            "displayName": "Deep Learner",
            "photoUrl": "https://lh3.googleusercontent.com/a/default-user=s128",
            "userId": "116467175281269717998"
          }
        }
      },
      "cell_type": "code",
      "source": [
        "maxWords = 30000\n",
        "maxSequenceLengthInWords = 400\n",
        "embeddingDimension = 300\n",
        "filtersNumber = 300\n",
        "\n",
        "input_layer = Input(shape=(maxSequenceLengthInWords,))\n",
        "\n",
        "pretrained_embedding_layer = Embedding(\n",
        "    maxWords, \n",
        "    output_dim=embeddingDimension, \n",
        "    input_length=maxSequenceLengthInWords,\n",
        "    weights = [np.load('fast_text_embeddings.npy')],\n",
        "    trainable = False\n",
        ")(input_layer)\n",
        "pretrained_embedding_layer = SpatialDropout1D(0.2)(pretrained_embedding_layer)\n",
        "\n",
        "custom_embedding_layer = Embedding(\n",
        "    maxWords, \n",
        "    output_dim=embeddingDimension, \n",
        "    input_length=maxSequenceLengthInWords,\n",
        "    weights = [np.load('custom_fast_text_embeddings.npy')],\n",
        "    trainable = False\n",
        ")(input_layer)\n",
        "custom_embedding_layer = SpatialDropout1D(0.2)(custom_embedding_layer)\n",
        "\n",
        "embedding = Average()([pretrained_embedding_layer, custom_embedding_layer])\n",
        "embedding_dropout = SpatialDropout1D(0.2)(embedding)\n",
        "\n",
        "embedding_dropout = SelfAttention()(embedding_dropout)\n",
        "\n",
        "features_1 = one_by_one(filtersNumber, embedding_dropout)\n",
        "features_2 = one_by_one(filtersNumber, features_1)\n",
        "features_3 = one_by_one(filtersNumber, features_2)\n",
        "\n",
        "features = yoon_kim_feature_extractor(filtersNumber, features_3)\n",
        "\n",
        "\n",
        "dense_1 = Dense(512, activation = 'elu')(features)\n",
        "dense_1_normalization = BatchNormalization()(dense_1)\n",
        "dense_1_dropout = Dropout(0.2)(dense_1_normalization)\n",
        "\n",
        "dense_2 = Dense(512, activation = 'elu')(dense_1_dropout)\n",
        "dense_2_normalization = BatchNormalization()(dense_2)\n",
        "dense_2_dropout = Dropout(0.2)(dense_2_normalization)\n",
        "\n",
        "output_layer = Dense(6, activation='sigmoid')(dense_2_dropout)\n",
        "\n",
        "single_category_layer = concatenate([\n",
        "    single_category_regressor(features, dense_1_dropout, dense_2_dropout, 128),\n",
        "    single_category_regressor(features, dense_1_dropout, dense_2_dropout, 128),\n",
        "    single_category_regressor(features, dense_1_dropout, dense_2_dropout, 128),\n",
        "    single_category_regressor(features, dense_1_dropout, dense_2_dropout, 128),\n",
        "    single_category_regressor(features, dense_1_dropout, dense_2_dropout, 128),\n",
        "    single_category_regressor(features, dense_1_dropout, dense_2_dropout, 128),\n",
        "])\n",
        "\n",
        "output_layer = add([output_layer, single_category_layer])\n",
        "\n",
        "model = Model(inputs=[input_layer], outputs=[output_layer])\n",
        "            \n",
        "model.summary()\n",
        "\n",
        "model.compile(\n",
        "    loss='binary_crossentropy', \n",
        "    optimizer='Adam',\n",
        "    metrics=['accuracy']\n",
        ")"
      ],
      "execution_count": 12,
      "outputs": [
        {
          "output_type": "stream",
          "text": [
            "__________________________________________________________________________________________________\n",
            "Layer (type)                    Output Shape         Param #     Connected to                     \n",
            "==================================================================================================\n",
            "input_1 (InputLayer)            (None, 400)          0                                            \n",
            "__________________________________________________________________________________________________\n",
            "embedding_1 (Embedding)         (None, 400, 300)     9000000     input_1[0][0]                    \n",
            "__________________________________________________________________________________________________\n",
            "embedding_2 (Embedding)         (None, 400, 300)     9000000     input_1[0][0]                    \n",
            "__________________________________________________________________________________________________\n",
            "spatial_dropout1d_1 (SpatialDro (None, 400, 300)     0           embedding_1[0][0]                \n",
            "__________________________________________________________________________________________________\n",
            "spatial_dropout1d_2 (SpatialDro (None, 400, 300)     0           embedding_2[0][0]                \n",
            "__________________________________________________________________________________________________\n",
            "average_1 (Average)             (None, 400, 300)     0           spatial_dropout1d_1[0][0]        \n",
            "                                                                 spatial_dropout1d_2[0][0]        \n",
            "__________________________________________________________________________________________________\n",
            "spatial_dropout1d_3 (SpatialDro (None, 400, 300)     0           average_1[0][0]                  \n",
            "__________________________________________________________________________________________________\n",
            "self_attention_1 (SelfAttention (None, 400, 300)     90601       spatial_dropout1d_3[0][0]        \n",
            "__________________________________________________________________________________________________\n",
            "conv1d_1 (Conv1D)               (None, 400, 300)     90300       self_attention_1[0][0]           \n",
            "__________________________________________________________________________________________________\n",
            "batch_normalization_1 (BatchNor (None, 400, 300)     1200        conv1d_1[0][0]                   \n",
            "__________________________________________________________________________________________________\n",
            "spatial_dropout1d_4 (SpatialDro (None, 400, 300)     0           batch_normalization_1[0][0]      \n",
            "__________________________________________________________________________________________________\n",
            "conv1d_2 (Conv1D)               (None, 400, 300)     90300       spatial_dropout1d_4[0][0]        \n",
            "__________________________________________________________________________________________________\n",
            "batch_normalization_2 (BatchNor (None, 400, 300)     1200        conv1d_2[0][0]                   \n",
            "__________________________________________________________________________________________________\n",
            "spatial_dropout1d_5 (SpatialDro (None, 400, 300)     0           batch_normalization_2[0][0]      \n",
            "__________________________________________________________________________________________________\n",
            "conv1d_3 (Conv1D)               (None, 400, 300)     90300       spatial_dropout1d_5[0][0]        \n",
            "__________________________________________________________________________________________________\n",
            "batch_normalization_3 (BatchNor (None, 400, 300)     1200        conv1d_3[0][0]                   \n",
            "__________________________________________________________________________________________________\n",
            "spatial_dropout1d_6 (SpatialDro (None, 400, 300)     0           batch_normalization_3[0][0]      \n",
            "__________________________________________________________________________________________________\n",
            "conv1d_4 (Conv1D)               (None, 400, 300)     90300       spatial_dropout1d_6[0][0]        \n",
            "__________________________________________________________________________________________________\n",
            "conv1d_5 (Conv1D)               (None, 400, 300)     180300      spatial_dropout1d_6[0][0]        \n",
            "__________________________________________________________________________________________________\n",
            "conv1d_6 (Conv1D)               (None, 400, 300)     270300      spatial_dropout1d_6[0][0]        \n",
            "__________________________________________________________________________________________________\n",
            "conv1d_7 (Conv1D)               (None, 400, 300)     450300      spatial_dropout1d_6[0][0]        \n",
            "__________________________________________________________________________________________________\n",
            "batch_normalization_4 (BatchNor (None, 400, 300)     1200        conv1d_4[0][0]                   \n",
            "__________________________________________________________________________________________________\n",
            "batch_normalization_5 (BatchNor (None, 400, 300)     1200        conv1d_5[0][0]                   \n",
            "__________________________________________________________________________________________________\n",
            "batch_normalization_6 (BatchNor (None, 400, 300)     1200        conv1d_6[0][0]                   \n",
            "__________________________________________________________________________________________________\n",
            "batch_normalization_7 (BatchNor (None, 400, 300)     1200        conv1d_7[0][0]                   \n",
            "__________________________________________________________________________________________________\n",
            "global_max_pooling1d_1 (GlobalM (None, 300)          0           batch_normalization_4[0][0]      \n",
            "__________________________________________________________________________________________________\n",
            "global_max_pooling1d_2 (GlobalM (None, 300)          0           batch_normalization_5[0][0]      \n",
            "__________________________________________________________________________________________________\n",
            "global_max_pooling1d_3 (GlobalM (None, 300)          0           batch_normalization_6[0][0]      \n",
            "__________________________________________________________________________________________________\n",
            "global_max_pooling1d_4 (GlobalM (None, 300)          0           batch_normalization_7[0][0]      \n",
            "__________________________________________________________________________________________________\n",
            "concatenate_1 (Concatenate)     (None, 1200)         0           global_max_pooling1d_1[0][0]     \n",
            "                                                                 global_max_pooling1d_2[0][0]     \n",
            "                                                                 global_max_pooling1d_3[0][0]     \n",
            "                                                                 global_max_pooling1d_4[0][0]     \n",
            "__________________________________________________________________________________________________\n",
            "dropout_1 (Dropout)             (None, 1200)         0           concatenate_1[0][0]              \n",
            "__________________________________________________________________________________________________\n",
            "dense_3 (Dense)                 (None, 512)          614912      dropout_1[0][0]                  \n",
            "__________________________________________________________________________________________________\n",
            "batch_normalization_8 (BatchNor (None, 512)          2048        dense_3[0][0]                    \n",
            "__________________________________________________________________________________________________\n",
            "dropout_2 (Dropout)             (None, 512)          0           batch_normalization_8[0][0]      \n",
            "__________________________________________________________________________________________________\n",
            "concatenate_2 (Concatenate)     (None, 1712)         0           dropout_1[0][0]                  \n",
            "                                                                 dropout_2[0][0]                  \n",
            "__________________________________________________________________________________________________\n",
            "concatenate_4 (Concatenate)     (None, 1712)         0           dropout_1[0][0]                  \n",
            "                                                                 dropout_2[0][0]                  \n",
            "__________________________________________________________________________________________________\n",
            "concatenate_6 (Concatenate)     (None, 1712)         0           dropout_1[0][0]                  \n",
            "                                                                 dropout_2[0][0]                  \n",
            "__________________________________________________________________________________________________\n",
            "concatenate_8 (Concatenate)     (None, 1712)         0           dropout_1[0][0]                  \n",
            "                                                                 dropout_2[0][0]                  \n",
            "__________________________________________________________________________________________________\n",
            "concatenate_10 (Concatenate)    (None, 1712)         0           dropout_1[0][0]                  \n",
            "                                                                 dropout_2[0][0]                  \n",
            "__________________________________________________________________________________________________\n",
            "concatenate_12 (Concatenate)    (None, 1712)         0           dropout_1[0][0]                  \n",
            "                                                                 dropout_2[0][0]                  \n",
            "__________________________________________________________________________________________________\n",
            "dense_4 (Dense)                 (None, 512)          262656      dropout_2[0][0]                  \n",
            "__________________________________________________________________________________________________\n",
            "dense_6 (Dense)                 (None, 128)          219264      concatenate_2[0][0]              \n",
            "__________________________________________________________________________________________________\n",
            "dense_9 (Dense)                 (None, 128)          219264      concatenate_4[0][0]              \n",
            "__________________________________________________________________________________________________\n",
            "dense_12 (Dense)                (None, 128)          219264      concatenate_6[0][0]              \n",
            "__________________________________________________________________________________________________\n",
            "dense_15 (Dense)                (None, 128)          219264      concatenate_8[0][0]              \n",
            "__________________________________________________________________________________________________\n",
            "dense_18 (Dense)                (None, 128)          219264      concatenate_10[0][0]             \n",
            "__________________________________________________________________________________________________\n",
            "dense_21 (Dense)                (None, 128)          219264      concatenate_12[0][0]             \n",
            "__________________________________________________________________________________________________\n",
            "batch_normalization_9 (BatchNor (None, 512)          2048        dense_4[0][0]                    \n",
            "__________________________________________________________________________________________________\n",
            "batch_normalization_10 (BatchNo (None, 128)          512         dense_6[0][0]                    \n",
            "__________________________________________________________________________________________________\n",
            "batch_normalization_12 (BatchNo (None, 128)          512         dense_9[0][0]                    \n",
            "__________________________________________________________________________________________________\n",
            "batch_normalization_14 (BatchNo (None, 128)          512         dense_12[0][0]                   \n",
            "__________________________________________________________________________________________________\n",
            "batch_normalization_16 (BatchNo (None, 128)          512         dense_15[0][0]                   \n",
            "__________________________________________________________________________________________________\n",
            "batch_normalization_18 (BatchNo (None, 128)          512         dense_18[0][0]                   \n",
            "__________________________________________________________________________________________________\n",
            "batch_normalization_20 (BatchNo (None, 128)          512         dense_21[0][0]                   \n",
            "__________________________________________________________________________________________________\n",
            "dropout_3 (Dropout)             (None, 512)          0           batch_normalization_9[0][0]      \n",
            "__________________________________________________________________________________________________\n",
            "dropout_4 (Dropout)             (None, 128)          0           batch_normalization_10[0][0]     \n",
            "__________________________________________________________________________________________________\n",
            "dropout_6 (Dropout)             (None, 128)          0           batch_normalization_12[0][0]     \n",
            "__________________________________________________________________________________________________\n",
            "dropout_8 (Dropout)             (None, 128)          0           batch_normalization_14[0][0]     \n",
            "__________________________________________________________________________________________________\n",
            "dropout_10 (Dropout)            (None, 128)          0           batch_normalization_16[0][0]     \n",
            "__________________________________________________________________________________________________\n",
            "dropout_12 (Dropout)            (None, 128)          0           batch_normalization_18[0][0]     \n",
            "__________________________________________________________________________________________________\n",
            "dropout_14 (Dropout)            (None, 128)          0           batch_normalization_20[0][0]     \n",
            "__________________________________________________________________________________________________\n",
            "concatenate_3 (Concatenate)     (None, 640)          0           dropout_4[0][0]                  \n",
            "                                                                 dropout_3[0][0]                  \n",
            "__________________________________________________________________________________________________\n",
            "concatenate_5 (Concatenate)     (None, 640)          0           dropout_6[0][0]                  \n",
            "                                                                 dropout_3[0][0]                  \n",
            "__________________________________________________________________________________________________\n",
            "concatenate_7 (Concatenate)     (None, 640)          0           dropout_8[0][0]                  \n",
            "                                                                 dropout_3[0][0]                  \n",
            "__________________________________________________________________________________________________\n",
            "concatenate_9 (Concatenate)     (None, 640)          0           dropout_10[0][0]                 \n",
            "                                                                 dropout_3[0][0]                  \n",
            "__________________________________________________________________________________________________\n",
            "concatenate_11 (Concatenate)    (None, 640)          0           dropout_12[0][0]                 \n",
            "                                                                 dropout_3[0][0]                  \n",
            "__________________________________________________________________________________________________\n",
            "concatenate_13 (Concatenate)    (None, 640)          0           dropout_14[0][0]                 \n",
            "                                                                 dropout_3[0][0]                  \n",
            "__________________________________________________________________________________________________\n",
            "dense_7 (Dense)                 (None, 128)          82048       concatenate_3[0][0]              \n",
            "__________________________________________________________________________________________________\n",
            "dense_10 (Dense)                (None, 128)          82048       concatenate_5[0][0]              \n",
            "__________________________________________________________________________________________________\n",
            "dense_13 (Dense)                (None, 128)          82048       concatenate_7[0][0]              \n",
            "__________________________________________________________________________________________________\n",
            "dense_16 (Dense)                (None, 128)          82048       concatenate_9[0][0]              \n",
            "__________________________________________________________________________________________________\n",
            "dense_19 (Dense)                (None, 128)          82048       concatenate_11[0][0]             \n",
            "__________________________________________________________________________________________________\n",
            "dense_22 (Dense)                (None, 128)          82048       concatenate_13[0][0]             \n",
            "__________________________________________________________________________________________________\n",
            "batch_normalization_11 (BatchNo (None, 128)          512         dense_7[0][0]                    \n",
            "__________________________________________________________________________________________________\n",
            "batch_normalization_13 (BatchNo (None, 128)          512         dense_10[0][0]                   \n",
            "__________________________________________________________________________________________________\n",
            "batch_normalization_15 (BatchNo (None, 128)          512         dense_13[0][0]                   \n",
            "__________________________________________________________________________________________________\n",
            "batch_normalization_17 (BatchNo (None, 128)          512         dense_16[0][0]                   \n",
            "__________________________________________________________________________________________________\n",
            "batch_normalization_19 (BatchNo (None, 128)          512         dense_19[0][0]                   \n",
            "__________________________________________________________________________________________________\n",
            "batch_normalization_21 (BatchNo (None, 128)          512         dense_22[0][0]                   \n",
            "__________________________________________________________________________________________________\n",
            "dropout_5 (Dropout)             (None, 128)          0           batch_normalization_11[0][0]     \n",
            "__________________________________________________________________________________________________\n",
            "dropout_7 (Dropout)             (None, 128)          0           batch_normalization_13[0][0]     \n",
            "__________________________________________________________________________________________________\n",
            "dropout_9 (Dropout)             (None, 128)          0           batch_normalization_15[0][0]     \n",
            "__________________________________________________________________________________________________\n",
            "dropout_11 (Dropout)            (None, 128)          0           batch_normalization_17[0][0]     \n",
            "__________________________________________________________________________________________________\n",
            "dropout_13 (Dropout)            (None, 128)          0           batch_normalization_19[0][0]     \n",
            "__________________________________________________________________________________________________\n",
            "dropout_15 (Dropout)            (None, 128)          0           batch_normalization_21[0][0]     \n",
            "__________________________________________________________________________________________________\n",
            "dense_8 (Dense)                 (None, 1)            129         dropout_5[0][0]                  \n",
            "__________________________________________________________________________________________________\n",
            "dense_11 (Dense)                (None, 1)            129         dropout_7[0][0]                  \n",
            "__________________________________________________________________________________________________\n",
            "dense_14 (Dense)                (None, 1)            129         dropout_9[0][0]                  \n",
            "__________________________________________________________________________________________________\n",
            "dense_17 (Dense)                (None, 1)            129         dropout_11[0][0]                 \n",
            "__________________________________________________________________________________________________\n",
            "dense_20 (Dense)                (None, 1)            129         dropout_13[0][0]                 \n",
            "__________________________________________________________________________________________________\n",
            "dense_23 (Dense)                (None, 1)            129         dropout_15[0][0]                 \n",
            "__________________________________________________________________________________________________\n",
            "dense_5 (Dense)                 (None, 6)            3078        dropout_3[0][0]                  \n",
            "__________________________________________________________________________________________________\n",
            "concatenate_14 (Concatenate)    (None, 6)            0           dense_8[0][0]                    \n",
            "                                                                 dense_11[0][0]                   \n",
            "                                                                 dense_14[0][0]                   \n",
            "                                                                 dense_17[0][0]                   \n",
            "                                                                 dense_20[0][0]                   \n",
            "                                                                 dense_23[0][0]                   \n",
            "__________________________________________________________________________________________________\n",
            "add_1 (Add)                     (None, 6)            0           dense_5[0][0]                    \n",
            "                                                                 concatenate_14[0][0]             \n",
            "==================================================================================================\n",
            "Total params: 22,060,633\n",
            "Trainable params: 4,051,313\n",
            "Non-trainable params: 18,009,320\n",
            "__________________________________________________________________________________________________\n"
          ],
          "name": "stdout"
        }
      ]
    },
    {
      "metadata": {
        "id": "xwMmTewgXynz",
        "colab_type": "code",
        "colab": {
          "autoexec": {
            "startup": false,
            "wait_interval": 0
          },
          "base_uri": "https://localhost:8080/",
          "height": 972
        },
        "outputId": "9e6993b1-87d2-4cac-a2e2-971c6e7ceee3",
        "executionInfo": {
          "status": "ok",
          "timestamp": 1530764626530,
          "user_tz": -120,
          "elapsed": 15768422,
          "user": {
            "displayName": "Deep Learner",
            "photoUrl": "https://lh3.googleusercontent.com/a/default-user=s128",
            "userId": "116467175281269717998"
          }
        }
      },
      "cell_type": "code",
      "source": [
        "history = train_with_cv(model, batchSize=32, rocEvery = 2)"
      ],
      "execution_count": 13,
      "outputs": [
        {
          "output_type": "stream",
          "text": [
            "Train on 102124 samples, validate on 25532 samples\n",
            "Epoch 1/32\n",
            " 21312/102124 [=====>........................] - ETA: 8:09 - loss: 4.7090 - acc: 0.5591"
          ],
          "name": "stdout"
        },
        {
          "output_type": "stream",
          "text": [
            " 57664/102124 [===============>..............] - ETA: 4:27 - loss: 2.8790 - acc: 0.6962"
          ],
          "name": "stdout"
        },
        {
          "output_type": "stream",
          "text": [
            "102112/102124 [============================>.] - ETA: 0s - loss: 1.7784 - acc: 0.7993"
          ],
          "name": "stdout"
        },
        {
          "output_type": "stream",
          "text": [
            "\b\b\b\b\b\b\b\b\b\b\b\b\b\b\b\b\b\b\b\b\b\b\b\b\b\b\b\b\b\b\b\b\b\b\b\b\b\b\b\b\b\b\b\b\b\b\b\b\b\b\b\b\b\b\b\b\b\b\b\b\b\b\b\b\b\b\b\b\b\b\b\b\b\b\b\b\b\b\b\b\b\b\b\b\b\r102124/102124 [==============================] - 656s 6ms/step - loss: 1.7782 - acc: 0.7993 - val_loss: 0.1663 - val_acc: 0.9621\n",
            "Epoch 2/32\n",
            "  9824/102124 [=>............................] - ETA: 9:24 - loss: 0.1749 - acc: 0.9572"
          ],
          "name": "stdout"
        },
        {
          "output_type": "stream",
          "text": [
            " 86784/102124 [========================>.....] - ETA: 1:30 - loss: 0.1456 - acc: 0.9611"
          ],
          "name": "stdout"
        },
        {
          "output_type": "stream",
          "text": [
            "102124/102124 [==============================] - 643s 6ms/step - loss: 0.1384 - acc: 0.9627 - val_loss: 0.1028 - val_acc: 0.9720\n",
            "roc-auc: 0.9474 - roc-auc_val: 0.9456                                                                                                    \n",
            "Epoch 3/32\n",
            "  5088/102124 [>.............................] - ETA: 9:34 - loss: 0.0939 - acc: 0.9725"
          ],
          "name": "stdout"
        },
        {
          "output_type": "stream",
          "text": [
            " 48992/102124 [=============>................] - ETA: 5:08 - loss: 0.0863 - acc: 0.9734"
          ],
          "name": "stdout"
        },
        {
          "output_type": "stream",
          "text": [
            " 93632/102124 [==========================>...] - ETA: 49s - loss: 0.0828 - acc: 0.9737"
          ],
          "name": "stdout"
        },
        {
          "output_type": "stream",
          "text": [
            "102124/102124 [==============================] - 635s 6ms/step - loss: 0.0820 - acc: 0.9738 - val_loss: 0.0702 - val_acc: 0.9760\n",
            "Epoch 4/32\n",
            " 10592/102124 [==>...........................] - ETA: 9:08 - loss: 0.0746 - acc: 0.9747"
          ],
          "name": "stdout"
        },
        {
          "output_type": "stream",
          "text": [
            " 48256/102124 [=============>................] - ETA: 5:24 - loss: 0.0686 - acc: 0.9762"
          ],
          "name": "stdout"
        },
        {
          "output_type": "stream",
          "text": [
            "102112/102124 [============================>.] - ETA: 0s - loss: 0.0669 - acc: 0.9767"
          ],
          "name": "stdout"
        },
        {
          "output_type": "stream",
          "text": [
            "102124/102124 [==============================] - 640s 6ms/step - loss: 0.0669 - acc: 0.9767 - val_loss: 0.0569 - val_acc: 0.9794\n",
            "roc-auc: 0.9765 - roc-auc_val: 0.9722                                                                                                    \n",
            "Epoch 5/32\n",
            "  8576/102124 [=>............................] - ETA: 8:58 - loss: 0.0641 - acc: 0.9775"
          ],
          "name": "stdout"
        },
        {
          "output_type": "stream",
          "text": [
            " 56928/102124 [===============>..............] - ETA: 4:18 - loss: 0.0612 - acc: 0.9783"
          ],
          "name": "stdout"
        },
        {
          "output_type": "stream",
          "text": [
            " 94368/102124 [==========================>...] - ETA: 44s - loss: 0.0602 - acc: 0.9785"
          ],
          "name": "stdout"
        },
        {
          "output_type": "stream",
          "text": [
            "102124/102124 [==============================] - 627s 6ms/step - loss: 0.0601 - acc: 0.9785 - val_loss: 0.0538 - val_acc: 0.9804\n",
            "Epoch 6/32\n",
            " 10944/102124 [==>...........................] - ETA: 9:12 - loss: 0.0574 - acc: 0.9791"
          ],
          "name": "stdout"
        },
        {
          "output_type": "stream",
          "text": [
            " 52128/102124 [==============>...............] - ETA: 5:05 - loss: 0.0561 - acc: 0.9793"
          ],
          "name": "stdout"
        },
        {
          "output_type": "stream",
          "text": [
            " 87456/102124 [========================>.....] - ETA: 1:33 - loss: 0.0553 - acc: 0.9794"
          ],
          "name": "stdout"
        },
        {
          "output_type": "stream",
          "text": [
            "102124/102124 [==============================] - 686s 7ms/step - loss: 0.0550 - acc: 0.9796 - val_loss: 0.0505 - val_acc: 0.9819\n",
            "roc-auc: 0.9857 - roc-auc_val: 0.984                                                                                                    \n",
            "Epoch 7/32\n",
            "  5184/102124 [>.............................] - ETA: 10:10 - loss: 0.0510 - acc: 0.9805"
          ],
          "name": "stdout"
        },
        {
          "output_type": "stream",
          "text": [
            " 72672/102124 [====================>.........] - ETA: 2:55 - loss: 0.0526 - acc: 0.9802"
          ],
          "name": "stdout"
        },
        {
          "output_type": "stream",
          "text": [
            "102124/102124 [==============================] - 643s 6ms/step - loss: 0.0522 - acc: 0.9804 - val_loss: 0.0489 - val_acc: 0.9816\n",
            "Epoch 8/32\n",
            "  2720/102124 [..............................] - ETA: 9:38 - loss: 0.0581 - acc: 0.9784"
          ],
          "name": "stdout"
        },
        {
          "output_type": "stream",
          "text": [
            " 40352/102124 [==========>...................] - ETA: 6:08 - loss: 0.0495 - acc: 0.9814"
          ],
          "name": "stdout"
        },
        {
          "output_type": "stream",
          "text": [
            " 81344/102124 [======================>.......] - ETA: 2:04 - loss: 0.0499 - acc: 0.9812"
          ],
          "name": "stdout"
        },
        {
          "output_type": "stream",
          "text": [
            "102124/102124 [==============================] - 653s 6ms/step - loss: 0.0499 - acc: 0.9812 - val_loss: 0.0456 - val_acc: 0.9834\n",
            "roc-auc: 0.9868 - roc-auc_val: 0.9843                                                                                                    \n",
            "Epoch 9/32\n",
            "  3680/102124 [>.............................] - ETA: 10:32 - loss: 0.0482 - acc: 0.9825"
          ],
          "name": "stdout"
        },
        {
          "output_type": "stream",
          "text": [
            " 40224/102124 [==========>...................] - ETA: 6:10 - loss: 0.0474 - acc: 0.9820"
          ],
          "name": "stdout"
        },
        {
          "output_type": "stream",
          "text": [
            " 76736/102124 [=====================>........] - ETA: 2:32 - loss: 0.0475 - acc: 0.9820"
          ],
          "name": "stdout"
        },
        {
          "output_type": "stream",
          "text": [
            "102124/102124 [==============================] - 655s 6ms/step - loss: 0.0481 - acc: 0.9818 - val_loss: 0.0497 - val_acc: 0.9814\n",
            "Epoch 10/32\n",
            "  4096/102124 [>.............................] - ETA: 10:06 - loss: 0.0455 - acc: 0.9827"
          ],
          "name": "stdout"
        },
        {
          "output_type": "stream",
          "text": [
            " 42656/102124 [===========>..................] - ETA: 6:15 - loss: 0.0455 - acc: 0.9823"
          ],
          "name": "stdout"
        },
        {
          "output_type": "stream",
          "text": [
            " 80096/102124 [======================>.......] - ETA: 2:19 - loss: 0.0462 - acc: 0.9823"
          ],
          "name": "stdout"
        },
        {
          "output_type": "stream",
          "text": [
            "102124/102124 [==============================] - 683s 7ms/step - loss: 0.0468 - acc: 0.9820 - val_loss: 0.0427 - val_acc: 0.9838\n",
            "roc-auc: 0.9903 - roc-auc_val: 0.9869                                                                                                    \n",
            "Epoch 11/32\n",
            "  3360/102124 [..............................] - ETA: 9:26 - loss: 0.0446 - acc: 0.9823"
          ],
          "name": "stdout"
        },
        {
          "output_type": "stream",
          "text": [
            " 54976/102124 [===============>..............] - ETA: 4:32 - loss: 0.0454 - acc: 0.9823"
          ],
          "name": "stdout"
        },
        {
          "output_type": "stream",
          "text": [
            " 90624/102124 [=========================>....] - ETA: 1:07 - loss: 0.0455 - acc: 0.9823"
          ],
          "name": "stdout"
        },
        {
          "output_type": "stream",
          "text": [
            "102124/102124 [==============================] - 647s 6ms/step - loss: 0.0453 - acc: 0.9824 - val_loss: 0.0412 - val_acc: 0.9840\n",
            "Epoch 12/32\n",
            "  8800/102124 [=>............................] - ETA: 9:35 - loss: 0.0453 - acc: 0.9824"
          ],
          "name": "stdout"
        },
        {
          "output_type": "stream",
          "text": [
            " 44256/102124 [============>.................] - ETA: 6:03 - loss: 0.0449 - acc: 0.9824"
          ],
          "name": "stdout"
        },
        {
          "output_type": "stream",
          "text": [
            " 79872/102124 [======================>.......] - ETA: 2:17 - loss: 0.0447 - acc: 0.9827"
          ],
          "name": "stdout"
        },
        {
          "output_type": "stream",
          "text": [
            "102124/102124 [==============================] - 664s 7ms/step - loss: 0.0443 - acc: 0.9829 - val_loss: 0.0449 - val_acc: 0.9834\n",
            "roc-auc: 0.9839 - roc-auc_val: 0.9794                                                                                                    \n",
            "Epoch 13/32\n",
            "  3360/102124 [..............................] - ETA: 9:41 - loss: 0.0461 - acc: 0.9823"
          ],
          "name": "stdout"
        },
        {
          "output_type": "stream",
          "text": [
            " 39744/102124 [==========>...................] - ETA: 6:07 - loss: 0.0433 - acc: 0.9830"
          ],
          "name": "stdout"
        },
        {
          "output_type": "stream",
          "text": [
            " 77888/102124 [=====================>........] - ETA: 2:23 - loss: 0.0436 - acc: 0.9829"
          ],
          "name": "stdout"
        },
        {
          "output_type": "stream",
          "text": [
            "102124/102124 [==============================] - 653s 6ms/step - loss: 0.0437 - acc: 0.9829 - val_loss: 0.0421 - val_acc: 0.9839\n",
            "\n",
            "Epoch 00013: ReduceLROnPlateau reducing learning rate to 0.00014358729822561145.\n",
            "Epoch 14/32\n",
            "  2880/102124 [..............................] - ETA: 10:21 - loss: 0.0398 - acc: 0.9851"
          ],
          "name": "stdout"
        },
        {
          "output_type": "stream",
          "text": [
            " 47744/102124 [=============>................] - ETA: 5:33 - loss: 0.0421 - acc: 0.9836"
          ],
          "name": "stdout"
        },
        {
          "output_type": "stream",
          "text": [
            " 85504/102124 [========================>.....] - ETA: 1:42 - loss: 0.0424 - acc: 0.9834"
          ],
          "name": "stdout"
        },
        {
          "output_type": "stream",
          "text": [
            "102124/102124 [==============================] - 666s 7ms/step - loss: 0.0429 - acc: 0.9832 - val_loss: 0.0547 - val_acc: 0.9809\n",
            "roc-auc: 0.9895 - roc-auc_val: 0.9848                                                                                                    \n",
            "Epoch 15/32\n",
            "  4416/102124 [>.............................] - ETA: 10:14 - loss: 0.0429 - acc: 0.9840"
          ],
          "name": "stdout"
        },
        {
          "output_type": "stream",
          "text": [
            " 39968/102124 [==========>...................] - ETA: 6:23 - loss: 0.0423 - acc: 0.9831"
          ],
          "name": "stdout"
        },
        {
          "output_type": "stream",
          "text": [
            " 74816/102124 [====================>.........] - ETA: 2:47 - loss: 0.0425 - acc: 0.9832"
          ],
          "name": "stdout"
        },
        {
          "output_type": "stream",
          "text": [
            "102124/102124 [==============================] - 675s 7ms/step - loss: 0.0422 - acc: 0.9833 - val_loss: 0.0425 - val_acc: 0.9840\n",
            "Epoch 16/32\n",
            "  2944/102124 [..............................] - ETA: 9:51 - loss: 0.0421 - acc: 0.9845"
          ],
          "name": "stdout"
        },
        {
          "output_type": "stream",
          "text": [
            " 44320/102124 [============>.................] - ETA: 5:46 - loss: 0.0410 - acc: 0.9838"
          ],
          "name": "stdout"
        },
        {
          "output_type": "stream",
          "text": [
            " 79776/102124 [======================>.......] - ETA: 2:15 - loss: 0.0410 - acc: 0.9839"
          ],
          "name": "stdout"
        },
        {
          "output_type": "stream",
          "text": [
            "102124/102124 [==============================] - 662s 6ms/step - loss: 0.0413 - acc: 0.9837 - val_loss: 0.0426 - val_acc: 0.9836\n",
            "roc-auc: 0.9922 - roc-auc_val: 0.9856                                                                                                    \n",
            "Epoch 17/32\n",
            "  2944/102124 [..............................] - ETA: 10:19 - loss: 0.0364 - acc: 0.9859"
          ],
          "name": "stdout"
        },
        {
          "output_type": "stream",
          "text": [
            " 41664/102124 [===========>..................] - ETA: 5:56 - loss: 0.0393 - acc: 0.9846"
          ],
          "name": "stdout"
        },
        {
          "output_type": "stream",
          "text": [
            " 81152/102124 [======================>.......] - ETA: 2:03 - loss: 0.0400 - acc: 0.9842"
          ],
          "name": "stdout"
        },
        {
          "output_type": "stream",
          "text": [
            "102124/102124 [==============================] - 643s 6ms/step - loss: 0.0402 - acc: 0.9842 - val_loss: 0.0421 - val_acc: 0.9840\n",
            "Epoch 18/32\n",
            "  5600/102124 [>.............................] - ETA: 9:32 - loss: 0.0409 - acc: 0.9843"
          ],
          "name": "stdout"
        },
        {
          "output_type": "stream",
          "text": [
            " 45920/102124 [============>.................] - ETA: 5:34 - loss: 0.0404 - acc: 0.9840"
          ],
          "name": "stdout"
        },
        {
          "output_type": "stream",
          "text": [
            " 80800/102124 [======================>.......] - ETA: 2:09 - loss: 0.0398 - acc: 0.9842"
          ],
          "name": "stdout"
        },
        {
          "output_type": "stream",
          "text": [
            "102124/102124 [==============================] - 661s 6ms/step - loss: 0.0398 - acc: 0.9842 - val_loss: 0.0427 - val_acc: 0.9842\n",
            "roc-auc: 0.992 - roc-auc_val: 0.9852                                                                                                    \n",
            "Epoch 19/32\n",
            "  3168/102124 [..............................] - ETA: 10:39 - loss: 0.0392 - acc: 0.9850"
          ],
          "name": "stdout"
        },
        {
          "output_type": "stream",
          "text": [
            " 39104/102124 [==========>...................] - ETA: 6:21 - loss: 0.0389 - acc: 0.9844"
          ],
          "name": "stdout"
        },
        {
          "output_type": "stream",
          "text": [
            " 83520/102124 [=======================>......] - ETA: 1:51 - loss: 0.0394 - acc: 0.9843"
          ],
          "name": "stdout"
        },
        {
          "output_type": "stream",
          "text": [
            "102124/102124 [==============================] - 647s 6ms/step - loss: 0.0395 - acc: 0.9844 - val_loss: 0.0413 - val_acc: 0.9840\n",
            "Epoch 20/32\n",
            "  6752/102124 [>.............................] - ETA: 9:26 - loss: 0.0366 - acc: 0.9847"
          ],
          "name": "stdout"
        },
        {
          "output_type": "stream",
          "text": [
            " 44704/102124 [============>.................] - ETA: 5:41 - loss: 0.0385 - acc: 0.9846"
          ],
          "name": "stdout"
        },
        {
          "output_type": "stream",
          "text": [
            " 80832/102124 [======================>.......] - ETA: 2:08 - loss: 0.0392 - acc: 0.9843"
          ],
          "name": "stdout"
        },
        {
          "output_type": "stream",
          "text": [
            "102124/102124 [==============================] - 662s 6ms/step - loss: 0.0392 - acc: 0.9842 - val_loss: 0.0426 - val_acc: 0.9832\n",
            "roc-auc: 0.9926 - roc-auc_val: 0.9855                                                                                                    \n",
            "Epoch 21/32\n",
            "  3104/102124 [..............................] - ETA: 10:19 - loss: 0.0387 - acc: 0.9848"
          ],
          "name": "stdout"
        },
        {
          "output_type": "stream",
          "text": [
            " 45344/102124 [============>.................] - ETA: 5:41 - loss: 0.0388 - acc: 0.9843"
          ],
          "name": "stdout"
        },
        {
          "output_type": "stream",
          "text": [
            " 81888/102124 [=======================>......] - ETA: 2:03 - loss: 0.0385 - acc: 0.9846"
          ],
          "name": "stdout"
        },
        {
          "output_type": "stream",
          "text": [
            "102124/102124 [==============================] - 664s 7ms/step - loss: 0.0384 - acc: 0.9847 - val_loss: 0.0423 - val_acc: 0.9838\n"
          ],
          "name": "stdout"
        }
      ]
    },
    {
      "metadata": {
        "id": "5DZoqu1EIK1L",
        "colab_type": "text"
      },
      "cell_type": "markdown",
      "source": [
        ""
      ]
    },
    {
      "metadata": {
        "id": "sms3R-U4469B",
        "colab_type": "code",
        "colab": {
          "autoexec": {
            "startup": false,
            "wait_interval": 0
          },
          "base_uri": "https://localhost:8080/",
          "height": 294
        },
        "outputId": "aa100715-6264-4e24-ba36-5cf8764f4784",
        "executionInfo": {
          "status": "ok",
          "timestamp": 1530764629411,
          "user_tz": -120,
          "elapsed": 2559,
          "user": {
            "displayName": "Deep Learner",
            "photoUrl": "https://lh3.googleusercontent.com/a/default-user=s128",
            "userId": "116467175281269717998"
          }
        }
      },
      "cell_type": "code",
      "source": [
        "plot_history(history)"
      ],
      "execution_count": 14,
      "outputs": [
        {
          "output_type": "display_data",
          "data": {
            "image/png": "[encoded data removed]",
            "text/plain": [
              "<matplotlib.figure.Figure at 0x7fe328433710>"
            ]
          },
          "metadata": {
            "tags": []
          }
        }
      ]
    },
    {
      "metadata": {
        "id": "r2gtMBj2Tp9A",
        "colab_type": "code",
        "colab": {
          "autoexec": {
            "startup": false,
            "wait_interval": 0
          },
          "base_uri": "https://localhost:8080/",
          "height": 51
        },
        "outputId": "ed7a5820-4125-47e5-8f9a-36b1f55cadb9",
        "executionInfo": {
          "status": "ok",
          "timestamp": 1530764735618,
          "user_tz": -120,
          "elapsed": 105798,
          "user": {
            "displayName": "Deep Learner",
            "photoUrl": "https://lh3.googleusercontent.com/a/default-user=s128",
            "userId": "116467175281269717998"
          }
        }
      },
      "cell_type": "code",
      "source": [
        "print(evaluate_on_test(model))"
      ],
      "execution_count": 15,
      "outputs": [
        {
          "output_type": "stream",
          "text": [
            "31915/31915 [==============================] - 55s 2ms/step\n",
            "([0.03963553109746844, 0.984307260969375], 0.9889347934130369)\n"
          ],
          "name": "stdout"
        }
      ]
    },
    {
      "metadata": {
        "id": "pV5IzyEBm08J",
        "colab_type": "code",
        "colab": {
          "autoexec": {
            "startup": false,
            "wait_interval": 0
          },
          "base_uri": "https://localhost:8080/",
          "height": 1346
        },
        "outputId": "1e5d9b63-2b03-44b9-fdd7-f0e3d38e918e",
        "executionInfo": {
          "status": "ok",
          "timestamp": 1530832349967,
          "user_tz": -120,
          "elapsed": 18520790,
          "user": {
            "displayName": "Deep Learner",
            "photoUrl": "https://lh3.googleusercontent.com/a/default-user=s128",
            "userId": "116467175281269717998"
          }
        }
      },
      "cell_type": "code",
      "source": [
        "history = train_with_cv(model, batchSize=64, rocEvery = 2)"
      ],
      "execution_count": 13,
      "outputs": [
        {
          "output_type": "stream",
          "text": [
            "Train on 102124 samples, validate on 25532 samples\n",
            "Epoch 1/32\n",
            " 42816/102124 [===========>..................] - ETA: 5:31 - loss: 2.5007 - acc: 0.7663"
          ],
          "name": "stdout"
        },
        {
          "output_type": "stream",
          "text": [
            "102124/102124 [==============================] - 586s 6ms/step - loss: 1.1606 - acc: 0.8785 - val_loss: 0.1365 - val_acc: 0.9638\n",
            "Epoch 2/32\n",
            "  5376/102124 [>.............................] - ETA: 8:18 - loss: 0.1018 - acc: 0.9707"
          ],
          "name": "stdout"
        },
        {
          "output_type": "stream",
          "text": [
            "102080/102124 [============================>.] - ETA: 0s - loss: 0.0840 - acc: 0.9742"
          ],
          "name": "stdout"
        },
        {
          "output_type": "stream",
          "text": [
            "102124/102124 [==============================] - 569s 6ms/step - loss: 0.0839 - acc: 0.9742 - val_loss: 0.1269 - val_acc: 0.9644\n",
            "roc-auc: 0.949 - roc-auc_val: 0.9517                                                                                                    \n",
            "Epoch 3/32\n",
            " 17472/102124 [====>.........................] - ETA: 7:18 - loss: 0.0727 - acc: 0.9767"
          ],
          "name": "stdout"
        },
        {
          "output_type": "stream",
          "text": [
            "102080/102124 [============================>.] - ETA: 0s - loss: 0.0685 - acc: 0.9771"
          ],
          "name": "stdout"
        },
        {
          "output_type": "stream",
          "text": [
            "\b\b\b\b\b\b\b\b\b\b\b\b\b\b\b\b\b\b\b\b\b\b\b\b\b\b\b\b\b\b\b\b\b\b\b\b\b\b\b\b\b\b\b\b\b\b\b\b\b\b\b\b\b\b\b\b\b\b\b\b\b\b\b\b\b\b\b\b\b\b\b\b\b\b\b\b\b\b\b\b\b\b\b\b\b\r102124/102124 [==============================] - 569s 6ms/step - loss: 0.0685 - acc: 0.9771 - val_loss: 0.0575 - val_acc: 0.9808\n",
            "Epoch 4/32\n",
            " 20352/102124 [====>.........................] - ETA: 7:03 - loss: 0.0628 - acc: 0.9783"
          ],
          "name": "stdout"
        },
        {
          "output_type": "stream",
          "text": [
            "102080/102124 [============================>.] - ETA: 0s - loss: 0.0621 - acc: 0.9782"
          ],
          "name": "stdout"
        },
        {
          "output_type": "stream",
          "text": [
            "102124/102124 [==============================] - 569s 6ms/step - loss: 0.0621 - acc: 0.9782 - val_loss: 0.0545 - val_acc: 0.9811\n",
            "roc-auc: 0.9742 - roc-auc_val: 0.9732                                                                                                    \n",
            "Epoch 5/32\n",
            " 17408/102124 [====>.........................] - ETA: 7:18 - loss: 0.0599 - acc: 0.9790"
          ],
          "name": "stdout"
        },
        {
          "output_type": "stream",
          "text": [
            "102080/102124 [============================>.] - ETA: 0s - loss: 0.0580 - acc: 0.9791"
          ],
          "name": "stdout"
        },
        {
          "output_type": "stream",
          "text": [
            "\b\b\b\b\b\b\b\b\b\b\b\b\b\b\b\b\b\b\b\b\b\b\b\b\b\b\b\b\b\b\b\b\b\b\b\b\b\b\b\b\b\b\b\b\b\b\b\b\b\b\b\b\b\b\b\b\b\b\b\b\b\b\b\b\b\b\b\b\b\b\b\b\b\b\b\b\b\b\b\b\b\b\b\b\b\r102124/102124 [==============================] - 569s 6ms/step - loss: 0.0580 - acc: 0.9791 - val_loss: 0.0547 - val_acc: 0.9802\n",
            "Epoch 6/32\n",
            " 20352/102124 [====>.........................] - ETA: 7:05 - loss: 0.0534 - acc: 0.9810"
          ],
          "name": "stdout"
        },
        {
          "output_type": "stream",
          "text": [
            "102080/102124 [============================>.] - ETA: 0s - loss: 0.0543 - acc: 0.9802"
          ],
          "name": "stdout"
        },
        {
          "output_type": "stream",
          "text": [
            "\b\b\b\b\b\b\b\b\b\b\b\b\b\b\b\b\b\b\b\b\b\b\b\b\b\b\b\b\b\b\b\b\b\b\b\b\b\b\b\b\b\b\b\b\b\b\b\b\b\b\b\b\b\b\b\b\b\b\b\b\b\b\b\b\b\b\b\b\b\b\b\b\b\b\b\b\b\b\b\b\b\b\b\b\b\r102124/102124 [==============================] - 569s 6ms/step - loss: 0.0543 - acc: 0.9802 - val_loss: 0.0779 - val_acc: 0.9763\n",
            "\n",
            "Epoch 00006: ReduceLROnPlateau reducing learning rate to 0.00029730176902376115.\n",
            "roc-auc: 0.98 - roc-auc_val: 0.979                                                                                                    \n",
            "Epoch 7/32\n",
            " 11904/102124 [==>...........................] - ETA: 7:49 - loss: 0.0535 - acc: 0.9804"
          ],
          "name": "stdout"
        },
        {
          "output_type": "stream",
          "text": [
            "102080/102124 [============================>.] - ETA: 0s - loss: 0.0516 - acc: 0.9808"
          ],
          "name": "stdout"
        },
        {
          "output_type": "stream",
          "text": [
            "\b\b\b\b\b\b\b\b\b\b\b\b\b\b\b\b\b\b\b\b\b\b\b\b\b\b\b\b\b\b\b\b\b\b\b\b\b\b\b\b\b\b\b\b\b\b\b\b\b\b\b\b\b\b\b\b\b\b\b\b\b\b\b\b\b\b\b\b\b\b\b\b\b\b\b\b\b\b\b\b\b\b\b\b\b\r102124/102124 [==============================] - 568s 6ms/step - loss: 0.0516 - acc: 0.9808 - val_loss: 0.0480 - val_acc: 0.9819\n",
            "Epoch 8/32\n",
            " 20352/102124 [====>.........................] - ETA: 6:57 - loss: 0.0489 - acc: 0.9816"
          ],
          "name": "stdout"
        },
        {
          "output_type": "stream",
          "text": [
            "102080/102124 [============================>.] - ETA: 0s - loss: 0.0495 - acc: 0.9813"
          ],
          "name": "stdout"
        },
        {
          "output_type": "stream",
          "text": [
            "102124/102124 [==============================] - 562s 5ms/step - loss: 0.0496 - acc: 0.9813 - val_loss: 0.0599 - val_acc: 0.9798\n",
            "roc-auc: 0.9818 - roc-auc_val: 0.9791                                                                                                    \n",
            "Epoch 9/32\n",
            " 17408/102124 [====>.........................] - ETA: 7:17 - loss: 0.0487 - acc: 0.9813"
          ],
          "name": "stdout"
        },
        {
          "output_type": "stream",
          "text": [
            "102080/102124 [============================>.] - ETA: 0s - loss: 0.0480 - acc: 0.9817"
          ],
          "name": "stdout"
        },
        {
          "output_type": "stream",
          "text": [
            "\b\b\b\b\b\b\b\b\b\b\b\b\b\b\b\b\b\b\b\b\b\b\b\b\b\b\b\b\b\b\b\b\b\b\b\b\b\b\b\b\b\b\b\b\b\b\b\b\b\b\b\b\b\b\b\b\b\b\b\b\b\b\b\b\b\b\b\b\b\b\b\b\b\b\b\b\b\b\b\b\b\b\b\b\b\r102124/102124 [==============================] - 567s 6ms/step - loss: 0.0480 - acc: 0.9817 - val_loss: 0.0685 - val_acc: 0.9775\n",
            "Epoch 10/32\n",
            " 20288/102124 [====>.........................] - ETA: 7:01 - loss: 0.0470 - acc: 0.9818"
          ],
          "name": "stdout"
        },
        {
          "output_type": "stream",
          "text": [
            "102080/102124 [============================>.] - ETA: 0s - loss: 0.0470 - acc: 0.9820"
          ],
          "name": "stdout"
        },
        {
          "output_type": "stream",
          "text": [
            "102124/102124 [==============================] - 564s 6ms/step - loss: 0.0470 - acc: 0.9820 - val_loss: 0.0483 - val_acc: 0.9828\n",
            "roc-auc: 0.989 - roc-auc_val: 0.9858                                                                                                    \n",
            "Epoch 11/32\n",
            " 17408/102124 [====>.........................] - ETA: 7:21 - loss: 0.0457 - acc: 0.9823"
          ],
          "name": "stdout"
        },
        {
          "output_type": "stream",
          "text": [
            "102080/102124 [============================>.] - ETA: 0s - loss: 0.0451 - acc: 0.9826"
          ],
          "name": "stdout"
        },
        {
          "output_type": "stream",
          "text": [
            "\b\b\b\b\b\b\b\b\b\b\b\b\b\b\b\b\b\b\b\b\b\b\b\b\b\b\b\b\b\b\b\b\b\b\b\b\b\b\b\b\b\b\b\b\b\b\b\b\b\b\b\b\b\b\b\b\b\b\b\b\b\b\b\b\b\b\b\b\b\b\b\b\b\b\b\b\b\b\b\b\b\b\b\b\b\r102124/102124 [==============================] - 568s 6ms/step - loss: 0.0451 - acc: 0.9827 - val_loss: 0.0471 - val_acc: 0.9823\n",
            "Epoch 12/32\n",
            " 20288/102124 [====>.........................] - ETA: 7:06 - loss: 0.0420 - acc: 0.9837"
          ],
          "name": "stdout"
        },
        {
          "output_type": "stream",
          "text": [
            "102080/102124 [============================>.] - ETA: 0s - loss: 0.0445 - acc: 0.9828"
          ],
          "name": "stdout"
        },
        {
          "output_type": "stream",
          "text": [
            "102124/102124 [==============================] - 568s 6ms/step - loss: 0.0445 - acc: 0.9828 - val_loss: 0.0650 - val_acc: 0.9786\n",
            "roc-auc: 0.9839 - roc-auc_val: 0.9794                                                                                                    \n",
            "Epoch 13/32\n",
            " 17344/102124 [====>.........................] - ETA: 7:17 - loss: 0.0443 - acc: 0.9831"
          ],
          "name": "stdout"
        },
        {
          "output_type": "stream",
          "text": [
            "102080/102124 [============================>.] - ETA: 0s - loss: 0.0436 - acc: 0.9830"
          ],
          "name": "stdout"
        },
        {
          "output_type": "stream",
          "text": [
            "\b\b\b\b\b\b\b\b\b\b\b\b\b\b\b\b\b\b\b\b\b\b\b\b\b\b\b\b\b\b\b\b\b\b\b\b\b\b\b\b\b\b\b\b\b\b\b\b\b\b\b\b\b\b\b\b\b\b\b\b\b\b\b\b\b\b\b\b\b\b\b\b\b\b\b\b\b\b\b\b\b\b\b\b\b\r102124/102124 [==============================] - 568s 6ms/step - loss: 0.0436 - acc: 0.9830 - val_loss: 0.0550 - val_acc: 0.9789\n",
            "Epoch 14/32\n",
            " 20288/102124 [====>.........................] - ETA: 6:59 - loss: 0.0420 - acc: 0.9834"
          ],
          "name": "stdout"
        },
        {
          "output_type": "stream",
          "text": [
            "102080/102124 [============================>.] - ETA: 0s - loss: 0.0425 - acc: 0.9834"
          ],
          "name": "stdout"
        },
        {
          "output_type": "stream",
          "text": [
            "102124/102124 [==============================] - 565s 6ms/step - loss: 0.0425 - acc: 0.9834 - val_loss: 0.0434 - val_acc: 0.9836\n",
            "roc-auc: 0.9917 - roc-auc_val: 0.9871                                                                                                    \n",
            "Epoch 15/32\n",
            " 17344/102124 [====>.........................] - ETA: 7:16 - loss: 0.0408 - acc: 0.9841"
          ],
          "name": "stdout"
        },
        {
          "output_type": "stream",
          "text": [
            "102080/102124 [============================>.] - ETA: 0s - loss: 0.0414 - acc: 0.9837"
          ],
          "name": "stdout"
        },
        {
          "output_type": "stream",
          "text": [
            "\b\b\b\b\b\b\b\b\b\b\b\b\b\b\b\b\b\b\b\b\b\b\b\b\b\b\b\b\b\b\b\b\b\b\b\b\b\b\b\b\b\b\b\b\b\b\b\b\b\b\b\b\b\b\b\b\b\b\b\b\b\b\b\b\b\b\b\b\b\b\b\b\b\b\b\b\b\b\b\b\b\b\b\b\b\r102124/102124 [==============================] - 562s 6ms/step - loss: 0.0414 - acc: 0.9837 - val_loss: 0.0439 - val_acc: 0.9835\n",
            "Epoch 16/32\n",
            " 20288/102124 [====>.........................] - ETA: 7:12 - loss: 0.0405 - acc: 0.9842"
          ],
          "name": "stdout"
        },
        {
          "output_type": "stream",
          "text": [
            "102080/102124 [============================>.] - ETA: 0s - loss: 0.0411 - acc: 0.9839"
          ],
          "name": "stdout"
        },
        {
          "output_type": "stream",
          "text": [
            "102124/102124 [==============================] - 558s 5ms/step - loss: 0.0411 - acc: 0.9839 - val_loss: 0.0536 - val_acc: 0.9825\n",
            "roc-auc: 0.9898 - roc-auc_val: 0.9841                                                                                                    \n",
            "Epoch 17/32\n",
            " 17344/102124 [====>.........................] - ETA: 7:05 - loss: 0.0420 - acc: 0.9831"
          ],
          "name": "stdout"
        },
        {
          "output_type": "stream",
          "text": [
            "102080/102124 [============================>.] - ETA: 0s - loss: 0.0402 - acc: 0.9842"
          ],
          "name": "stdout"
        },
        {
          "output_type": "stream",
          "text": [
            "\b\b\b\b\b\b\b\b\b\b\b\b\b\b\b\b\b\b\b\b\b\b\b\b\b\b\b\b\b\b\b\b\b\b\b\b\b\b\b\b\b\b\b\b\b\b\b\b\b\b\b\b\b\b\b\b\b\b\b\b\b\b\b\b\b\b\b\b\b\b\b\b\b\b\b\b\b\b\b\b\b\b\b\b\b\r102124/102124 [==============================] - 550s 5ms/step - loss: 0.0402 - acc: 0.9842 - val_loss: 0.0590 - val_acc: 0.9797\n",
            "\n",
            "Epoch 00017: ReduceLROnPlateau reducing learning rate to 9.473228419665247e-05.\n",
            "Epoch 18/32\n",
            " 16064/102124 [===>..........................] - ETA: 7:10 - loss: 0.0393 - acc: 0.9842"
          ],
          "name": "stdout"
        },
        {
          "output_type": "stream",
          "text": [
            "102080/102124 [============================>.] - ETA: 0s - loss: 0.0398 - acc: 0.9841"
          ],
          "name": "stdout"
        },
        {
          "output_type": "stream",
          "text": [
            "102124/102124 [==============================] - 549s 5ms/step - loss: 0.0398 - acc: 0.9841 - val_loss: 0.0406 - val_acc: 0.9843\n",
            "roc-auc: 0.9937 - roc-auc_val: 0.9884                                                                                                    \n",
            "Epoch 19/32\n",
            " 17344/102124 [====>.........................] - ETA: 7:06 - loss: 0.0395 - acc: 0.9846"
          ],
          "name": "stdout"
        },
        {
          "output_type": "stream",
          "text": [
            "102080/102124 [============================>.] - ETA: 0s - loss: 0.0394 - acc: 0.9847"
          ],
          "name": "stdout"
        },
        {
          "output_type": "stream",
          "text": [
            "\b\b\b\b\b\b\b\b\b\b\b\b\b\b\b\b\b\b\b\b\b\b\b\b\b\b\b\b\b\b\b\b\b\b\b\b\b\b\b\b\b\b\b\b\b\b\b\b\b\b\b\b\b\b\b\b\b\b\b\b\b\b\b\b\b\b\b\b\b\b\b\b\b\b\b\b\b\b\b\b\b\b\b\b\b\r102124/102124 [==============================] - 552s 5ms/step - loss: 0.0394 - acc: 0.9847 - val_loss: 0.0428 - val_acc: 0.9841\n",
            "Epoch 20/32\n",
            " 20288/102124 [====>.........................] - ETA: 6:51 - loss: 0.0378 - acc: 0.9849"
          ],
          "name": "stdout"
        },
        {
          "output_type": "stream",
          "text": [
            "102080/102124 [============================>.] - ETA: 0s - loss: 0.0385 - acc: 0.9845"
          ],
          "name": "stdout"
        },
        {
          "output_type": "stream",
          "text": [
            "102124/102124 [==============================] - 552s 5ms/step - loss: 0.0385 - acc: 0.9845 - val_loss: 0.0449 - val_acc: 0.9826\n",
            "roc-auc: 0.9938 - roc-auc_val: 0.9871                                                                                                    \n",
            "Epoch 21/32\n",
            " 17344/102124 [====>.........................] - ETA: 7:06 - loss: 0.0385 - acc: 0.9849"
          ],
          "name": "stdout"
        },
        {
          "output_type": "stream",
          "text": [
            "102080/102124 [============================>.] - ETA: 0s - loss: 0.0386 - acc: 0.9847"
          ],
          "name": "stdout"
        },
        {
          "output_type": "stream",
          "text": [
            "\b\b\b\b\b\b\b\b\b\b\b\b\b\b\b\b\b\b\b\b\b\b\b\b\b\b\b\b\b\b\b\b\b\b\b\b\b\b\b\b\b\b\b\b\b\b\b\b\b\b\b\b\b\b\b\b\b\b\b\b\b\b\b\b\b\b\b\b\b\b\b\b\b\b\b\b\b\b\b\b\b\b\b\b\b\r102124/102124 [==============================] - 551s 5ms/step - loss: 0.0385 - acc: 0.9847 - val_loss: 0.0589 - val_acc: 0.9806\n",
            "Epoch 22/32\n",
            " 20288/102124 [====>.........................] - ETA: 6:52 - loss: 0.0352 - acc: 0.9863"
          ],
          "name": "stdout"
        },
        {
          "output_type": "stream",
          "text": [
            "102080/102124 [============================>.] - ETA: 0s - loss: 0.0379 - acc: 0.9848"
          ],
          "name": "stdout"
        },
        {
          "output_type": "stream",
          "text": [
            "102124/102124 [==============================] - 551s 5ms/step - loss: 0.0379 - acc: 0.9848 - val_loss: 0.0434 - val_acc: 0.9840\n",
            "roc-auc: 0.9933 - roc-auc_val: 0.9856                                                                                                    \n",
            "Epoch 23/32\n",
            " 17344/102124 [====>.........................] - ETA: 7:05 - loss: 0.0381 - acc: 0.9845"
          ],
          "name": "stdout"
        },
        {
          "output_type": "stream",
          "text": [
            "102080/102124 [============================>.] - ETA: 0s - loss: 0.0373 - acc: 0.9850"
          ],
          "name": "stdout"
        },
        {
          "output_type": "stream",
          "text": [
            "\b\b\b\b\b\b\b\b\b\b\b\b\b\b\b\b\b\b\b\b\b\b\b\b\b\b\b\b\b\b\b\b\b\b\b\b\b\b\b\b\b\b\b\b\b\b\b\b\b\b\b\b\b\b\b\b\b\b\b\b\b\b\b\b\b\b\b\b\b\b\b\b\b\b\b\b\b\b\b\b\b\b\b\b\b\r102124/102124 [==============================] - 550s 5ms/step - loss: 0.0373 - acc: 0.9850 - val_loss: 0.0708 - val_acc: 0.9810\n",
            "Epoch 24/32\n",
            " 20288/102124 [====>.........................] - ETA: 6:50 - loss: 0.0357 - acc: 0.9861"
          ],
          "name": "stdout"
        },
        {
          "output_type": "stream",
          "text": [
            "102080/102124 [============================>.] - ETA: 0s - loss: 0.0367 - acc: 0.9853"
          ],
          "name": "stdout"
        },
        {
          "output_type": "stream",
          "text": [
            "102124/102124 [==============================] - 551s 5ms/step - loss: 0.0367 - acc: 0.9853 - val_loss: 0.0445 - val_acc: 0.9837\n",
            "roc-auc: 0.9946 - roc-auc_val: 0.987                                                                                                    \n",
            "Epoch 25/32\n",
            " 17408/102124 [====>.........................] - ETA: 7:08 - loss: 0.0365 - acc: 0.9856"
          ],
          "name": "stdout"
        },
        {
          "output_type": "stream",
          "text": [
            "102080/102124 [============================>.] - ETA: 0s - loss: 0.0365 - acc: 0.9853"
          ],
          "name": "stdout"
        },
        {
          "output_type": "stream",
          "text": [
            "\b\b\b\b\b\b\b\b\b\b\b\b\b\b\b\b\b\b\b\b\b\b\b\b\b\b\b\b\b\b\b\b\b\b\b\b\b\b\b\b\b\b\b\b\b\b\b\b\b\b\b\b\b\b\b\b\b\b\b\b\b\b\b\b\b\b\b\b\b\b\b\b\b\b\b\b\b\b\b\b\b\b\b\b\b\r102124/102124 [==============================] - 551s 5ms/step - loss: 0.0365 - acc: 0.9853 - val_loss: 0.0455 - val_acc: 0.9840\n",
            "Epoch 26/32\n",
            " 20288/102124 [====>.........................] - ETA: 6:54 - loss: 0.0360 - acc: 0.9854"
          ],
          "name": "stdout"
        },
        {
          "output_type": "stream",
          "text": [
            "102080/102124 [============================>.] - ETA: 0s - loss: 0.0363 - acc: 0.9853"
          ],
          "name": "stdout"
        },
        {
          "output_type": "stream",
          "text": [
            "102124/102124 [==============================] - 551s 5ms/step - loss: 0.0363 - acc: 0.9853 - val_loss: 0.0500 - val_acc: 0.9829\n",
            "roc-auc: 0.994 - roc-auc_val: 0.9847                                                                                                    \n",
            "Epoch 27/32\n",
            " 17408/102124 [====>.........................] - ETA: 7:05 - loss: 0.0374 - acc: 0.9850"
          ],
          "name": "stdout"
        },
        {
          "output_type": "stream",
          "text": [
            "102080/102124 [============================>.] - ETA: 0s - loss: 0.0359 - acc: 0.9855"
          ],
          "name": "stdout"
        },
        {
          "output_type": "stream",
          "text": [
            "\b\b\b\b\b\b\b\b\b\b\b\b\b\b\b\b\b\b\b\b\b\b\b\b\b\b\b\b\b\b\b\b\b\b\b\b\b\b\b\b\b\b\b\b\b\b\b\b\b\b\b\b\b\b\b\b\b\b\b\b\b\b\b\b\b\b\b\b\b\b\b\b\b\b\b\b\b\b\b\b\b\b\b\b\b\r102124/102124 [==============================] - 551s 5ms/step - loss: 0.0359 - acc: 0.9855 - val_loss: 0.0506 - val_acc: 0.9831\n",
            "Epoch 28/32\n",
            " 20288/102124 [====>.........................] - ETA: 6:50 - loss: 0.0347 - acc: 0.9859"
          ],
          "name": "stdout"
        },
        {
          "output_type": "stream",
          "text": [
            "102080/102124 [============================>.] - ETA: 0s - loss: 0.0358 - acc: 0.9855"
          ],
          "name": "stdout"
        },
        {
          "output_type": "stream",
          "text": [
            "\b\b\b\b\b\b\b\b\b\b\b\b\b\b\b\b\b\b\b\b\b\b\b\b\b\b\b\b\b\b\b\b\b\b\b\b\b\b\b\b\b\b\b\b\b\b\b\b\b\b\b\b\b\b\b\b\b\b\b\b\b\b\b\b\b\b\b\b\b\b\b\b\b\b\b\b\b\b\b\b\b\b\b\b\b\r102124/102124 [==============================] - 551s 5ms/step - loss: 0.0358 - acc: 0.9855 - val_loss: 0.0420 - val_acc: 0.9843\n",
            "\n",
            "Epoch 00028: ReduceLROnPlateau reducing learning rate to 3.0185510695446283e-05.\n",
            "roc-auc: 0.9956 - roc-auc_val: 0.9869                                                                                                    \n"
          ],
          "name": "stdout"
        }
      ]
    },
    {
      "metadata": {
        "id": "SIVCvArbm25Q",
        "colab_type": "code",
        "colab": {
          "autoexec": {
            "startup": false,
            "wait_interval": 0
          },
          "base_uri": "https://localhost:8080/",
          "height": 294
        },
        "outputId": "3f021d4c-ff87-4295-917b-aeac33233214",
        "executionInfo": {
          "status": "ok",
          "timestamp": 1530832460228,
          "user_tz": -120,
          "elapsed": 1277,
          "user": {
            "displayName": "Deep Learner",
            "photoUrl": "https://lh3.googleusercontent.com/a/default-user=s128",
            "userId": "116467175281269717998"
          }
        }
      },
      "cell_type": "code",
      "source": [
        "plot_history(history)"
      ],
      "execution_count": 15,
      "outputs": [
        {
          "output_type": "display_data",
          "data": {
            "image/png": "[encoded data removed]",
            "text/plain": [
              "<matplotlib.figure.Figure at 0x7fb1b6abb048>"
            ]
          },
          "metadata": {
            "tags": []
          }
        }
      ]
    },
    {
      "metadata": {
        "id": "1ooopZ_5m3KB",
        "colab_type": "code",
        "colab": {
          "autoexec": {
            "startup": false,
            "wait_interval": 0
          },
          "base_uri": "https://localhost:8080/",
          "height": 51
        },
        "outputId": "84814e40-644a-4c1c-9aad-9500457d4a0b",
        "executionInfo": {
          "status": "ok",
          "timestamp": 1530832458938,
          "user_tz": -120,
          "elapsed": 108875,
          "user": {
            "displayName": "Deep Learner",
            "photoUrl": "https://lh3.googleusercontent.com/a/default-user=s128",
            "userId": "116467175281269717998"
          }
        }
      },
      "cell_type": "code",
      "source": [
        "print(evaluate_on_test(model))"
      ],
      "execution_count": 14,
      "outputs": [
        {
          "output_type": "stream",
          "text": [
            "31915/31915 [==============================] - 56s 2ms/step\n",
            "([0.040908910424572426, 0.9841088172860155], 0.989301002095492)\n"
          ],
          "name": "stdout"
        }
      ]
    }
  ]
}
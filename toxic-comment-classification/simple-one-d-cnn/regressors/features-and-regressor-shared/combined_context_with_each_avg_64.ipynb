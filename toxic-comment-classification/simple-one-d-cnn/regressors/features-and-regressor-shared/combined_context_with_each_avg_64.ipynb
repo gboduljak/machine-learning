{
  "nbformat": 4,
  "nbformat_minor": 0,
  "metadata": {
    "colab": {
      "name": "combined_context_with_each_avg_64.ipynb",
      "version": "0.3.2",
      "views": {},
      "default_view": {},
      "provenance": [],
      "collapsed_sections": []
    },
    "kernelspec": {
      "display_name": "Python 3",
      "language": "python",
      "name": "python3"
    },
    "accelerator": "GPU"
  },
  "cells": [
    {
      "metadata": {
        "id": "yS1FnhiWX3Js",
        "colab_type": "code",
        "colab": {
          "autoexec": {
            "startup": false,
            "wait_interval": 0
          },
          "base_uri": "https://localhost:8080/",
          "height": 411
        },
        "outputId": "b5699047-02df-4de2-efa0-db34d272d915",
        "executionInfo": {
          "status": "ok",
          "timestamp": 1530813337980,
          "user_tz": -120,
          "elapsed": 11427,
          "user": {
            "displayName": "Deep Learning",
            "photoUrl": "https://lh3.googleusercontent.com/a/default-user=s128",
            "userId": "115257841230779963257"
          }
        }
      },
      "cell_type": "code",
      "source": [
        "!pip install keras\n",
        "!pip install sklearn\n",
        "!pip install matplotlib\n",
        "!pip install -U -q PyDrive"
      ],
      "execution_count": 1,
      "outputs": [
        {
          "output_type": "stream",
          "text": [
            "Requirement already satisfied: keras in /usr/local/lib/python3.6/dist-packages (2.1.6)\r\n",
            "Requirement already satisfied: scipy>=0.14 in /usr/local/lib/python3.6/dist-packages (from keras) (0.19.1)\r\n",
            "Requirement already satisfied: pyyaml in /usr/local/lib/python3.6/dist-packages (from keras) (3.12)\r\n",
            "Requirement already satisfied: six>=1.9.0 in /usr/local/lib/python3.6/dist-packages (from keras) (1.11.0)\r\n",
            "Requirement already satisfied: numpy>=1.9.1 in /usr/local/lib/python3.6/dist-packages (from keras) (1.14.5)\r\n",
            "Requirement already satisfied: h5py in /usr/local/lib/python3.6/dist-packages (from keras) (2.8.0)\n",
            "Collecting sklearn\n",
            "  Downloading https://files.pythonhosted.org/packages/1e/7a/dbb3be0ce9bd5c8b7e3d87328e79063f8b263b2b1bfa4774cb1147bfcd3f/sklearn-0.0.tar.gz\n",
            "Requirement already satisfied: scikit-learn in /usr/local/lib/python3.6/dist-packages (from sklearn) (0.19.1)\n",
            "Building wheels for collected packages: sklearn\n",
            "  Running setup.py bdist_wheel for sklearn ... \u001b[?25l-\b \bdone\n",
            "\u001b[?25h  Stored in directory: /content/.cache/pip/wheels/76/03/bb/589d421d27431bcd2c6da284d5f2286c8e3b2ea3cf1594c074\n",
            "Successfully built sklearn\n",
            "Installing collected packages: sklearn\n",
            "Successfully installed sklearn-0.0\n",
            "Requirement already satisfied: matplotlib in /usr/local/lib/python3.6/dist-packages (2.1.2)\n",
            "Requirement already satisfied: cycler>=0.10 in /usr/local/lib/python3.6/dist-packages (from matplotlib) (0.10.0)\n",
            "Requirement already satisfied: pytz in /usr/local/lib/python3.6/dist-packages (from matplotlib) (2018.5)\n",
            "Requirement already satisfied: pyparsing!=2.0.4,!=2.1.2,!=2.1.6,>=2.0.1 in /usr/local/lib/python3.6/dist-packages (from matplotlib) (2.2.0)\n",
            "Requirement already satisfied: numpy>=1.7.1 in /usr/local/lib/python3.6/dist-packages (from matplotlib) (1.14.5)\n",
            "Requirement already satisfied: six>=1.10 in /usr/local/lib/python3.6/dist-packages (from matplotlib) (1.11.0)\n",
            "Requirement already satisfied: python-dateutil>=2.1 in /usr/local/lib/python3.6/dist-packages (from matplotlib) (2.5.3)\n"
          ],
          "name": "stdout"
        }
      ]
    },
    {
      "metadata": {
        "id": "xlKzkDJFrjA-",
        "colab_type": "code",
        "colab": {
          "autoexec": {
            "startup": false,
            "wait_interval": 0
          },
          "base_uri": "https://localhost:8080/",
          "height": 34
        },
        "outputId": "a7e6738d-37ba-491f-e499-1e626c5c9c88",
        "executionInfo": {
          "status": "ok",
          "timestamp": 1530813346352,
          "user_tz": -120,
          "elapsed": 8260,
          "user": {
            "displayName": "Deep Learning",
            "photoUrl": "https://lh3.googleusercontent.com/a/default-user=s128",
            "userId": "115257841230779963257"
          }
        }
      },
      "cell_type": "code",
      "source": [
        "from keras import backend as K\n",
        "K.clear_session()"
      ],
      "execution_count": 2,
      "outputs": [
        {
          "output_type": "stream",
          "text": [
            "Using TensorFlow backend.\n"
          ],
          "name": "stderr"
        }
      ]
    },
    {
      "metadata": {
        "id": "eQEKwl4oAxO7",
        "colab_type": "code",
        "colab": {
          "autoexec": {
            "startup": false,
            "wait_interval": 0
          }
        }
      },
      "cell_type": "code",
      "source": [
        "from keras import backend as K\n",
        "cfg = K.tf.ConfigProto()\n",
        "cfg.gpu_options.allow_growth = True\n",
        "K.set_session(K.tf.Session(config=cfg))"
      ],
      "execution_count": 0,
      "outputs": []
    },
    {
      "metadata": {
        "id": "12M0egCCX-27",
        "colab_type": "code",
        "colab": {
          "autoexec": {
            "startup": false,
            "wait_interval": 0
          }
        }
      },
      "cell_type": "code",
      "source": [
        "from pydrive.auth import GoogleAuth\n",
        "from pydrive.drive import GoogleDrive\n",
        "from google.colab import auth\n",
        "from oauth2client.client import GoogleCredentials\n",
        "\n",
        "auth.authenticate_user()\n",
        "gauth = GoogleAuth()\n",
        "gauth.credentials = GoogleCredentials.get_application_default()\n",
        "drive = GoogleDrive(gauth)"
      ],
      "execution_count": 0,
      "outputs": []
    },
    {
      "metadata": {
        "id": "4lN2WTUEYBYv",
        "colab_type": "code",
        "colab": {
          "autoexec": {
            "startup": false,
            "wait_interval": 0
          }
        }
      },
      "cell_type": "code",
      "source": [
        "file_import = drive.CreateFile({'id':'1p1bsltfTcIrZ_kfE6kwGTPzcdXorHbb2'})\n",
        "file_import.GetContentFile('colab_setup.py') \n",
        "from colab_setup import setup\n",
        "\n",
        "setup(drive)"
      ],
      "execution_count": 0,
      "outputs": []
    },
    {
      "metadata": {
        "id": "cHBlD0tVj2TY",
        "colab_type": "code",
        "colab": {
          "autoexec": {
            "startup": false,
            "wait_interval": 0
          },
          "base_uri": "https://localhost:8080/",
          "height": 119
        },
        "outputId": "17164408-62a4-4e45-8b97-c4d3b112076c",
        "executionInfo": {
          "status": "ok",
          "timestamp": 1530813418444,
          "user_tz": -120,
          "elapsed": 1457,
          "user": {
            "displayName": "Deep Learning",
            "photoUrl": "https://lh3.googleusercontent.com/a/default-user=s128",
            "userId": "115257841230779963257"
          }
        }
      },
      "cell_type": "code",
      "source": [
        "!ls"
      ],
      "execution_count": 6,
      "outputs": [
        {
          "output_type": "stream",
          "text": [
            "colab_setup.py\t\t\t roc_auc_callback.py\tX_train.npy\r\n",
            "custom_fast_text_embeddings.npy  sample_submission.csv\tX_val.npy\r\n",
            "datalab\t\t\t\t train_model.py\t\ty_test.npy\r\n",
            "fast_text_embeddings.npy\t X_submission.npy\ty_train_full.npy\r\n",
            "plot_history.py\t\t\t X_test.npy\t\ty_train.npy\r\n",
            "__pycache__\t\t\t X_train_full.npy\ty_val.npy\r\n"
          ],
          "name": "stdout"
        }
      ]
    },
    {
      "metadata": {
        "id": "yMwWPTMYXyno",
        "colab_type": "code",
        "colab": {
          "autoexec": {
            "startup": false,
            "wait_interval": 0
          }
        }
      },
      "cell_type": "code",
      "source": [
        "import numpy as np\n",
        "import os\n",
        "\n",
        "from plot_history import plot_history\n",
        "from roc_auc_callback import RocAucCallback\n",
        "from train_model import train_with_cv, train_with_submitting, evaluate_on_test\n",
        "\n",
        "from keras.models import Model\n",
        "from keras.layers import *\n",
        "from keras.layers.merge import concatenate"
      ],
      "execution_count": 0,
      "outputs": []
    },
    {
      "metadata": {
        "id": "3YXiQ6IRovcY",
        "colab_type": "code",
        "colab": {
          "autoexec": {
            "startup": false,
            "wait_interval": 0
          }
        }
      },
      "cell_type": "code",
      "source": [
        "file_import = drive.CreateFile({'id':'15j1Nou6m5WNLejJQrUcty6U03xsIgIAI'})\n",
        "file_import.GetContentFile('SelfAttention.py') \n",
        "\n",
        "from SelfAttention import SelfAttention"
      ],
      "execution_count": 0,
      "outputs": []
    },
    {
      "metadata": {
        "id": "MIWjPi9bs5d4",
        "colab_type": "code",
        "colab": {
          "autoexec": {
            "startup": false,
            "wait_interval": 0
          }
        }
      },
      "cell_type": "code",
      "source": [
        "def one_by_one(filtersNumber, inputLayer, dropout = 0.2):\n",
        "    one_by_one = Conv1D(filtersNumber, 1, activation = 'elu', padding = 'same', kernel_initializer = 'he_uniform')(inputLayer)\n",
        "    one_by_one = BatchNormalization()(one_by_one)\n",
        "    one_by_one = SpatialDropout1D(dropout)(one_by_one)\n",
        "    \n",
        "    return one_by_one"
      ],
      "execution_count": 0,
      "outputs": []
    },
    {
      "metadata": {
        "id": "mRg7bBAFoL7b",
        "colab_type": "code",
        "colab": {
          "autoexec": {
            "startup": false,
            "wait_interval": 0
          }
        }
      },
      "cell_type": "code",
      "source": [
        "def yoon_kim_feature_extractor(filtersNumber, inputLayer):\n",
        "    block_1_conv_1 = Conv1D(filtersNumber, 1, activation = 'elu', padding = 'same', kernel_initializer = 'he_uniform')(inputLayer)\n",
        "    block_1_batchnorm1 = BatchNormalization()(block_1_conv_1)\n",
        "    block_1_max_pool1 = GlobalMaxPooling1D()(block_1_batchnorm1)\n",
        "\n",
        "    block_1_conv_2 = Conv1D(filtersNumber, 2, activation = 'elu', padding = 'same', kernel_initializer = 'he_uniform')(inputLayer)\n",
        "    block_1_batchnorm2 = BatchNormalization()(block_1_conv_2)\n",
        "    block_1_max_pool2 = GlobalMaxPooling1D()(block_1_batchnorm2)\n",
        "\n",
        "    block_1_conv_3 = Conv1D(filtersNumber, 3, activation = 'elu', padding = 'same', kernel_initializer = 'he_uniform')(inputLayer)\n",
        "    block_1_batchnorm3 = BatchNormalization()(block_1_conv_3)\n",
        "    block_1_max_pool3 = GlobalMaxPooling1D()(block_1_batchnorm3)\n",
        "\n",
        "    block_1_conv_4 = Conv1D(filtersNumber, 5, activation = 'elu', padding = 'same', kernel_initializer = 'he_uniform')(inputLayer)\n",
        "    block_1_batchnorm4 = BatchNormalization()(block_1_conv_4)\n",
        "    block_1_max_pool4 = GlobalMaxPooling1D()(block_1_batchnorm4)\n",
        "\n",
        "    block_1_features = concatenate([\n",
        "        block_1_max_pool1, \n",
        "        block_1_max_pool2, \n",
        "        block_1_max_pool3, \n",
        "        block_1_max_pool4\n",
        "    ])\n",
        "    block_1_features = Dropout(0.2)(block_1_features)\n",
        "    return block_1_features"
      ],
      "execution_count": 0,
      "outputs": []
    },
    {
      "metadata": {
        "id": "2t9jNZJXg6Zz",
        "colab_type": "code",
        "colab": {
          "autoexec": {
            "startup": false,
            "wait_interval": 0
          }
        }
      },
      "cell_type": "code",
      "source": [
        "def single_category_regressor(features, context, unitsNumber = 64):\n",
        "    features = concatenate([features, context])\n",
        "    \n",
        "    dense_1 = Dense(unitsNumber, activation = 'elu')(features)\n",
        "    dense_1_normalization = BatchNormalization()(dense_1)\n",
        "    dense_1_dropout = Dropout(0.2)(dense_1_normalization)\n",
        "\n",
        "    dense_2 = Dense(unitsNumber, activation = 'elu')(dense_1_dropout)\n",
        "    dense_2_normalization = BatchNormalization()(dense_2)\n",
        "    dense_2_dropout = Dropout(0.2)(dense_2_normalization)\n",
        "    \n",
        "    return Dense(1, activation='sigmoid')(dense_2_dropout)"
      ],
      "execution_count": 0,
      "outputs": []
    },
    {
      "metadata": {
        "id": "LTFG7OgsXynw",
        "colab_type": "code",
        "colab": {
          "autoexec": {
            "startup": false,
            "wait_interval": 0
          },
          "base_uri": "https://localhost:8080/",
          "height": 3400
        },
        "outputId": "3a3c3e60-f259-4d0f-ddb2-dbb576135c43",
        "executionInfo": {
          "status": "ok",
          "timestamp": 1530813426012,
          "user_tz": -120,
          "elapsed": 4066,
          "user": {
            "displayName": "Deep Learning",
            "photoUrl": "https://lh3.googleusercontent.com/a/default-user=s128",
            "userId": "115257841230779963257"
          }
        }
      },
      "cell_type": "code",
      "source": [
        "maxWords = 30000\n",
        "maxSequenceLengthInWords = 400\n",
        "embeddingDimension = 300\n",
        "filtersNumber = 300\n",
        "\n",
        "input_layer = Input(shape=(maxSequenceLengthInWords,))\n",
        "\n",
        "pretrained_embedding_layer = Embedding(\n",
        "    maxWords, \n",
        "    output_dim=embeddingDimension, \n",
        "    input_length=maxSequenceLengthInWords,\n",
        "    weights = [np.load('fast_text_embeddings.npy')],\n",
        "    trainable = False\n",
        ")(input_layer)\n",
        "pretrained_embedding_layer = SpatialDropout1D(0.2)(pretrained_embedding_layer)\n",
        "\n",
        "custom_embedding_layer = Embedding(\n",
        "    maxWords, \n",
        "    output_dim=embeddingDimension, \n",
        "    input_length=maxSequenceLengthInWords,\n",
        "    weights = [np.load('custom_fast_text_embeddings.npy')],\n",
        "    trainable = False\n",
        ")(input_layer)\n",
        "custom_embedding_layer = SpatialDropout1D(0.2)(custom_embedding_layer)\n",
        "\n",
        "embedding = Average()([pretrained_embedding_layer, custom_embedding_layer])\n",
        "embedding_dropout = SpatialDropout1D(0.2)(embedding)\n",
        "\n",
        "embedding_dropout = SelfAttention()(embedding_dropout)\n",
        "\n",
        "features_1 = one_by_one(filtersNumber, embedding_dropout)\n",
        "features_2 = one_by_one(filtersNumber, features_1)\n",
        "features_3 = one_by_one(filtersNumber, features_2)\n",
        "\n",
        "features = yoon_kim_feature_extractor(filtersNumber, features_3)\n",
        "\n",
        "\n",
        "dense_1 = Dense(256, activation = 'elu')(features)\n",
        "dense_1_normalization = BatchNormalization()(dense_1)\n",
        "dense_1_dropout = Dropout(0.2)(dense_1_normalization)\n",
        "\n",
        "dense_2 = Dense(256, activation = 'elu')(dense_1_dropout)\n",
        "dense_2_normalization = BatchNormalization()(dense_2)\n",
        "dense_2_dropout = Dropout(0.2)(dense_2_normalization)\n",
        "\n",
        "output_layer = Dense(6, activation='sigmoid')(dense_2_dropout)\n",
        "\n",
        "single_category_layer = concatenate([\n",
        "    single_category_regressor(features, dense_2_dropout, 64),\n",
        "    single_category_regressor(features, dense_2_dropout, 64),\n",
        "    single_category_regressor(features, dense_2_dropout, 64),\n",
        "    single_category_regressor(features, dense_2_dropout, 64),\n",
        "    single_category_regressor(features, dense_2_dropout, 64),\n",
        "    single_category_regressor(features, dense_2_dropout, 64),\n",
        "])\n",
        "\n",
        "output_layer = average([output_layer, single_category_layer])\n",
        "\n",
        "model = Model(inputs=[input_layer], outputs=[output_layer])\n",
        "            \n",
        "model.summary()\n",
        "\n",
        "model.compile(\n",
        "    loss='binary_crossentropy', \n",
        "    optimizer='Adam',\n",
        "    metrics=['accuracy']\n",
        ")"
      ],
      "execution_count": 12,
      "outputs": [
        {
          "output_type": "stream",
          "text": [
            "__________________________________________________________________________________________________\n",
            "Layer (type)                    Output Shape         Param #     Connected to                     \n",
            "==================================================================================================\n",
            "input_1 (InputLayer)            (None, 400)          0                                            \n",
            "__________________________________________________________________________________________________\n",
            "embedding_1 (Embedding)         (None, 400, 300)     9000000     input_1[0][0]                    \n",
            "__________________________________________________________________________________________________\n",
            "embedding_2 (Embedding)         (None, 400, 300)     9000000     input_1[0][0]                    \n",
            "__________________________________________________________________________________________________\n",
            "spatial_dropout1d_1 (SpatialDro (None, 400, 300)     0           embedding_1[0][0]                \n",
            "__________________________________________________________________________________________________\n",
            "spatial_dropout1d_2 (SpatialDro (None, 400, 300)     0           embedding_2[0][0]                \n",
            "__________________________________________________________________________________________________\n",
            "average_1 (Average)             (None, 400, 300)     0           spatial_dropout1d_1[0][0]        \n",
            "                                                                 spatial_dropout1d_2[0][0]        \n",
            "__________________________________________________________________________________________________\n",
            "spatial_dropout1d_3 (SpatialDro (None, 400, 300)     0           average_1[0][0]                  \n",
            "__________________________________________________________________________________________________\n",
            "self_attention_1 (SelfAttention (None, 400, 300)     90601       spatial_dropout1d_3[0][0]        \n",
            "__________________________________________________________________________________________________\n",
            "conv1d_1 (Conv1D)               (None, 400, 300)     90300       self_attention_1[0][0]           \n",
            "__________________________________________________________________________________________________\n",
            "batch_normalization_1 (BatchNor (None, 400, 300)     1200        conv1d_1[0][0]                   \n",
            "__________________________________________________________________________________________________\n",
            "spatial_dropout1d_4 (SpatialDro (None, 400, 300)     0           batch_normalization_1[0][0]      \n",
            "__________________________________________________________________________________________________\n",
            "conv1d_2 (Conv1D)               (None, 400, 300)     90300       spatial_dropout1d_4[0][0]        \n",
            "__________________________________________________________________________________________________\n",
            "batch_normalization_2 (BatchNor (None, 400, 300)     1200        conv1d_2[0][0]                   \n",
            "__________________________________________________________________________________________________\n",
            "spatial_dropout1d_5 (SpatialDro (None, 400, 300)     0           batch_normalization_2[0][0]      \n",
            "__________________________________________________________________________________________________\n",
            "conv1d_3 (Conv1D)               (None, 400, 300)     90300       spatial_dropout1d_5[0][0]        \n",
            "__________________________________________________________________________________________________\n",
            "batch_normalization_3 (BatchNor (None, 400, 300)     1200        conv1d_3[0][0]                   \n",
            "__________________________________________________________________________________________________\n",
            "spatial_dropout1d_6 (SpatialDro (None, 400, 300)     0           batch_normalization_3[0][0]      \n",
            "__________________________________________________________________________________________________\n",
            "conv1d_4 (Conv1D)               (None, 400, 300)     90300       spatial_dropout1d_6[0][0]        \n",
            "__________________________________________________________________________________________________\n",
            "conv1d_5 (Conv1D)               (None, 400, 300)     180300      spatial_dropout1d_6[0][0]        \n",
            "__________________________________________________________________________________________________\n",
            "conv1d_6 (Conv1D)               (None, 400, 300)     270300      spatial_dropout1d_6[0][0]        \n",
            "__________________________________________________________________________________________________\n",
            "conv1d_7 (Conv1D)               (None, 400, 300)     450300      spatial_dropout1d_6[0][0]        \n",
            "__________________________________________________________________________________________________\n",
            "batch_normalization_4 (BatchNor (None, 400, 300)     1200        conv1d_4[0][0]                   \n",
            "__________________________________________________________________________________________________\n",
            "batch_normalization_5 (BatchNor (None, 400, 300)     1200        conv1d_5[0][0]                   \n",
            "__________________________________________________________________________________________________\n",
            "batch_normalization_6 (BatchNor (None, 400, 300)     1200        conv1d_6[0][0]                   \n",
            "__________________________________________________________________________________________________\n",
            "batch_normalization_7 (BatchNor (None, 400, 300)     1200        conv1d_7[0][0]                   \n",
            "__________________________________________________________________________________________________\n",
            "global_max_pooling1d_1 (GlobalM (None, 300)          0           batch_normalization_4[0][0]      \n",
            "__________________________________________________________________________________________________\n",
            "global_max_pooling1d_2 (GlobalM (None, 300)          0           batch_normalization_5[0][0]      \n",
            "__________________________________________________________________________________________________\n",
            "global_max_pooling1d_3 (GlobalM (None, 300)          0           batch_normalization_6[0][0]      \n",
            "__________________________________________________________________________________________________\n",
            "global_max_pooling1d_4 (GlobalM (None, 300)          0           batch_normalization_7[0][0]      \n",
            "__________________________________________________________________________________________________\n",
            "concatenate_1 (Concatenate)     (None, 1200)         0           global_max_pooling1d_1[0][0]     \n",
            "                                                                 global_max_pooling1d_2[0][0]     \n",
            "                                                                 global_max_pooling1d_3[0][0]     \n",
            "                                                                 global_max_pooling1d_4[0][0]     \n",
            "__________________________________________________________________________________________________\n",
            "dropout_1 (Dropout)             (None, 1200)         0           concatenate_1[0][0]              \n",
            "__________________________________________________________________________________________________\n",
            "dense_3 (Dense)                 (None, 256)          307456      dropout_1[0][0]                  \n",
            "__________________________________________________________________________________________________\n",
            "batch_normalization_8 (BatchNor (None, 256)          1024        dense_3[0][0]                    \n",
            "__________________________________________________________________________________________________\n",
            "dropout_2 (Dropout)             (None, 256)          0           batch_normalization_8[0][0]      \n",
            "__________________________________________________________________________________________________\n",
            "dense_4 (Dense)                 (None, 256)          65792       dropout_2[0][0]                  \n",
            "__________________________________________________________________________________________________\n",
            "batch_normalization_9 (BatchNor (None, 256)          1024        dense_4[0][0]                    \n",
            "__________________________________________________________________________________________________\n",
            "dropout_3 (Dropout)             (None, 256)          0           batch_normalization_9[0][0]      \n",
            "__________________________________________________________________________________________________\n",
            "concatenate_2 (Concatenate)     (None, 1456)         0           dropout_1[0][0]                  \n",
            "                                                                 dropout_3[0][0]                  \n",
            "__________________________________________________________________________________________________\n",
            "concatenate_3 (Concatenate)     (None, 1456)         0           dropout_1[0][0]                  \n",
            "                                                                 dropout_3[0][0]                  \n",
            "__________________________________________________________________________________________________\n",
            "concatenate_4 (Concatenate)     (None, 1456)         0           dropout_1[0][0]                  \n",
            "                                                                 dropout_3[0][0]                  \n",
            "__________________________________________________________________________________________________\n",
            "concatenate_5 (Concatenate)     (None, 1456)         0           dropout_1[0][0]                  \n",
            "                                                                 dropout_3[0][0]                  \n",
            "__________________________________________________________________________________________________\n",
            "concatenate_6 (Concatenate)     (None, 1456)         0           dropout_1[0][0]                  \n",
            "                                                                 dropout_3[0][0]                  \n",
            "__________________________________________________________________________________________________\n",
            "concatenate_7 (Concatenate)     (None, 1456)         0           dropout_1[0][0]                  \n",
            "                                                                 dropout_3[0][0]                  \n",
            "__________________________________________________________________________________________________\n",
            "dense_6 (Dense)                 (None, 64)           93248       concatenate_2[0][0]              \n",
            "__________________________________________________________________________________________________\n",
            "dense_9 (Dense)                 (None, 64)           93248       concatenate_3[0][0]              \n",
            "__________________________________________________________________________________________________\n",
            "dense_12 (Dense)                (None, 64)           93248       concatenate_4[0][0]              \n",
            "__________________________________________________________________________________________________\n",
            "dense_15 (Dense)                (None, 64)           93248       concatenate_5[0][0]              \n",
            "__________________________________________________________________________________________________\n",
            "dense_18 (Dense)                (None, 64)           93248       concatenate_6[0][0]              \n",
            "__________________________________________________________________________________________________\n",
            "dense_21 (Dense)                (None, 64)           93248       concatenate_7[0][0]              \n",
            "__________________________________________________________________________________________________\n",
            "batch_normalization_10 (BatchNo (None, 64)           256         dense_6[0][0]                    \n",
            "__________________________________________________________________________________________________\n",
            "batch_normalization_12 (BatchNo (None, 64)           256         dense_9[0][0]                    \n",
            "__________________________________________________________________________________________________\n",
            "batch_normalization_14 (BatchNo (None, 64)           256         dense_12[0][0]                   \n",
            "__________________________________________________________________________________________________\n",
            "batch_normalization_16 (BatchNo (None, 64)           256         dense_15[0][0]                   \n",
            "__________________________________________________________________________________________________\n",
            "batch_normalization_18 (BatchNo (None, 64)           256         dense_18[0][0]                   \n",
            "__________________________________________________________________________________________________\n",
            "batch_normalization_20 (BatchNo (None, 64)           256         dense_21[0][0]                   \n",
            "__________________________________________________________________________________________________\n",
            "dropout_4 (Dropout)             (None, 64)           0           batch_normalization_10[0][0]     \n",
            "__________________________________________________________________________________________________\n",
            "dropout_6 (Dropout)             (None, 64)           0           batch_normalization_12[0][0]     \n",
            "__________________________________________________________________________________________________\n",
            "dropout_8 (Dropout)             (None, 64)           0           batch_normalization_14[0][0]     \n",
            "__________________________________________________________________________________________________\n",
            "dropout_10 (Dropout)            (None, 64)           0           batch_normalization_16[0][0]     \n",
            "__________________________________________________________________________________________________\n",
            "dropout_12 (Dropout)            (None, 64)           0           batch_normalization_18[0][0]     \n",
            "__________________________________________________________________________________________________\n",
            "dropout_14 (Dropout)            (None, 64)           0           batch_normalization_20[0][0]     \n",
            "__________________________________________________________________________________________________\n",
            "dense_7 (Dense)                 (None, 64)           4160        dropout_4[0][0]                  \n",
            "__________________________________________________________________________________________________\n",
            "dense_10 (Dense)                (None, 64)           4160        dropout_6[0][0]                  \n",
            "__________________________________________________________________________________________________\n",
            "dense_13 (Dense)                (None, 64)           4160        dropout_8[0][0]                  \n",
            "__________________________________________________________________________________________________\n",
            "dense_16 (Dense)                (None, 64)           4160        dropout_10[0][0]                 \n",
            "__________________________________________________________________________________________________\n",
            "dense_19 (Dense)                (None, 64)           4160        dropout_12[0][0]                 \n",
            "__________________________________________________________________________________________________\n",
            "dense_22 (Dense)                (None, 64)           4160        dropout_14[0][0]                 \n",
            "__________________________________________________________________________________________________\n",
            "batch_normalization_11 (BatchNo (None, 64)           256         dense_7[0][0]                    \n",
            "__________________________________________________________________________________________________\n",
            "batch_normalization_13 (BatchNo (None, 64)           256         dense_10[0][0]                   \n",
            "__________________________________________________________________________________________________\n",
            "batch_normalization_15 (BatchNo (None, 64)           256         dense_13[0][0]                   \n",
            "__________________________________________________________________________________________________\n",
            "batch_normalization_17 (BatchNo (None, 64)           256         dense_16[0][0]                   \n",
            "__________________________________________________________________________________________________\n",
            "batch_normalization_19 (BatchNo (None, 64)           256         dense_19[0][0]                   \n",
            "__________________________________________________________________________________________________\n",
            "batch_normalization_21 (BatchNo (None, 64)           256         dense_22[0][0]                   \n",
            "__________________________________________________________________________________________________\n",
            "dropout_5 (Dropout)             (None, 64)           0           batch_normalization_11[0][0]     \n",
            "__________________________________________________________________________________________________\n",
            "dropout_7 (Dropout)             (None, 64)           0           batch_normalization_13[0][0]     \n",
            "__________________________________________________________________________________________________\n",
            "dropout_9 (Dropout)             (None, 64)           0           batch_normalization_15[0][0]     \n",
            "__________________________________________________________________________________________________\n",
            "dropout_11 (Dropout)            (None, 64)           0           batch_normalization_17[0][0]     \n",
            "__________________________________________________________________________________________________\n",
            "dropout_13 (Dropout)            (None, 64)           0           batch_normalization_19[0][0]     \n",
            "__________________________________________________________________________________________________\n",
            "dropout_15 (Dropout)            (None, 64)           0           batch_normalization_21[0][0]     \n",
            "__________________________________________________________________________________________________\n",
            "dense_8 (Dense)                 (None, 1)            65          dropout_5[0][0]                  \n",
            "__________________________________________________________________________________________________\n",
            "dense_11 (Dense)                (None, 1)            65          dropout_7[0][0]                  \n",
            "__________________________________________________________________________________________________\n",
            "dense_14 (Dense)                (None, 1)            65          dropout_9[0][0]                  \n",
            "__________________________________________________________________________________________________\n",
            "dense_17 (Dense)                (None, 1)            65          dropout_11[0][0]                 \n",
            "__________________________________________________________________________________________________\n",
            "dense_20 (Dense)                (None, 1)            65          dropout_13[0][0]                 \n",
            "__________________________________________________________________________________________________\n",
            "dense_23 (Dense)                (None, 1)            65          dropout_15[0][0]                 \n",
            "__________________________________________________________________________________________________\n",
            "dense_5 (Dense)                 (None, 6)            1542        dropout_3[0][0]                  \n",
            "__________________________________________________________________________________________________\n",
            "concatenate_8 (Concatenate)     (None, 6)            0           dense_8[0][0]                    \n",
            "                                                                 dense_11[0][0]                   \n",
            "                                                                 dense_14[0][0]                   \n",
            "                                                                 dense_17[0][0]                   \n",
            "                                                                 dense_20[0][0]                   \n",
            "                                                                 dense_23[0][0]                   \n",
            "__________________________________________________________________________________________________\n",
            "average_2 (Average)             (None, 6)            0           dense_5[0][0]                    \n",
            "                                                                 concatenate_8[0][0]              \n",
            "==================================================================================================\n",
            "Total params: 20,325,849\n",
            "Trainable params: 2,319,089\n",
            "Non-trainable params: 18,006,760\n",
            "__________________________________________________________________________________________________\n"
          ],
          "name": "stdout"
        }
      ]
    },
    {
      "metadata": {
        "id": "xwMmTewgXynz",
        "colab_type": "code",
        "colab": {
          "autoexec": {
            "startup": false,
            "wait_interval": 0
          },
          "base_uri": "https://localhost:8080/",
          "height": 1516
        },
        "outputId": "a6b5efa6-d6e8-4a3f-fed5-95cf4c673f92",
        "executionInfo": {
          "status": "ok",
          "timestamp": 1530774322011,
          "user_tz": -120,
          "elapsed": 25629066,
          "user": {
            "displayName": "Deep Learning",
            "photoUrl": "https://lh3.googleusercontent.com/a/default-user=s128",
            "userId": "115257841230779963257"
          }
        }
      },
      "cell_type": "code",
      "source": [
        "history = train_with_cv(model, batchSize=32, rocEvery = 2)"
      ],
      "execution_count": 13,
      "outputs": [
        {
          "output_type": "stream",
          "text": [
            "Train on 102124 samples, validate on 25532 samples\n",
            "Epoch 1/32\n",
            " 20352/102124 [====>.........................] - ETA: 8:52 - loss: 0.2059 - acc: 0.8875"
          ],
          "name": "stdout"
        },
        {
          "output_type": "stream",
          "text": [
            " 55232/102124 [===============>..............] - ETA: 4:58 - loss: 0.1270 - acc: 0.9405"
          ],
          "name": "stdout"
        },
        {
          "output_type": "stream",
          "text": [
            " 89888/102124 [=========================>....] - ETA: 1:18 - loss: 0.1059 - acc: 0.9536"
          ],
          "name": "stdout"
        },
        {
          "output_type": "stream",
          "text": [
            "102124/102124 [==============================] - 694s 7ms/step - loss: 0.1018 - acc: 0.9561 - val_loss: 0.1536 - val_acc: 0.9639\n",
            "Epoch 2/32\n",
            "  8320/102124 [=>............................] - ETA: 9:33 - loss: 0.0670 - acc: 0.9761"
          ],
          "name": "stdout"
        },
        {
          "output_type": "stream",
          "text": [
            " 43680/102124 [===========>..................] - ETA: 6:24 - loss: 0.0631 - acc: 0.9778"
          ],
          "name": "stdout"
        },
        {
          "output_type": "stream",
          "text": [
            " 78336/102124 [======================>.......] - ETA: 2:33 - loss: 0.0614 - acc: 0.9783"
          ],
          "name": "stdout"
        },
        {
          "output_type": "stream",
          "text": [
            "102124/102124 [==============================] - 692s 7ms/step - loss: 0.0608 - acc: 0.9784 - val_loss: 0.0584 - val_acc: 0.9784\n",
            "roc-auc: 0.9771 - roc-auc_val: 0.9754                                                                                                    \n",
            "Epoch 3/32\n",
            "  2336/102124 [..............................] - ETA: 10:15 - loss: 0.0621 - acc: 0.9760"
          ],
          "name": "stdout"
        },
        {
          "output_type": "stream",
          "text": [
            " 36096/102124 [=========>....................] - ETA: 6:43 - loss: 0.0554 - acc: 0.9795"
          ],
          "name": "stdout"
        },
        {
          "output_type": "stream",
          "text": [
            " 70560/102124 [===================>..........] - ETA: 3:19 - loss: 0.0548 - acc: 0.9798"
          ],
          "name": "stdout"
        },
        {
          "output_type": "stream",
          "text": [
            "102124/102124 [==============================] - 686s 7ms/step - loss: 0.0546 - acc: 0.9799 - val_loss: 0.0450 - val_acc: 0.9827\n",
            "Epoch 4/32\n",
            "  1056/102124 [..............................] - ETA: 10:22 - loss: 0.0610 - acc: 0.9760"
          ],
          "name": "stdout"
        },
        {
          "output_type": "stream",
          "text": [
            " 37408/102124 [=========>....................] - ETA: 7:09 - loss: 0.0527 - acc: 0.9803"
          ],
          "name": "stdout"
        },
        {
          "output_type": "stream",
          "text": [
            " 72448/102124 [====================>.........] - ETA: 3:09 - loss: 0.0521 - acc: 0.9804"
          ],
          "name": "stdout"
        },
        {
          "output_type": "stream",
          "text": [
            "102124/102124 [==============================] - 685s 7ms/step - loss: 0.0516 - acc: 0.9806 - val_loss: 0.0468 - val_acc: 0.9820\n",
            "roc-auc: 0.9847 - roc-auc_val: 0.9826                                                                                                    \n",
            "Epoch 5/32\n",
            "  1280/102124 [..............................] - ETA: 12:27 - loss: 0.0424 - acc: 0.9840"
          ],
          "name": "stdout"
        },
        {
          "output_type": "stream",
          "text": [
            " 36032/102124 [=========>....................] - ETA: 7:06 - loss: 0.0504 - acc: 0.9812"
          ],
          "name": "stdout"
        },
        {
          "output_type": "stream",
          "text": [
            " 79616/102124 [======================>.......] - ETA: 2:28 - loss: 0.0490 - acc: 0.9814"
          ],
          "name": "stdout"
        },
        {
          "output_type": "stream",
          "text": [
            "102124/102124 [==============================] - 725s 7ms/step - loss: 0.0491 - acc: 0.9813 - val_loss: 0.0524 - val_acc: 0.9817\n",
            "\n",
            "Epoch 00005: ReduceLROnPlateau reducing learning rate to 0.0003298769879620522.\n",
            "Epoch 6/32\n",
            "  3392/102124 [..............................] - ETA: 10:11 - loss: 0.0455 - acc: 0.9824"
          ],
          "name": "stdout"
        },
        {
          "output_type": "stream",
          "text": [
            " 36288/102124 [=========>....................] - ETA: 6:49 - loss: 0.0480 - acc: 0.9814"
          ],
          "name": "stdout"
        },
        {
          "output_type": "stream",
          "text": [
            " 72960/102124 [====================>.........] - ETA: 2:59 - loss: 0.0475 - acc: 0.9817"
          ],
          "name": "stdout"
        },
        {
          "output_type": "stream",
          "text": [
            "102124/102124 [==============================] - 686s 7ms/step - loss: 0.0476 - acc: 0.9817 - val_loss: 0.1006 - val_acc: 0.9744\n",
            "roc-auc: 0.9796 - roc-auc_val: 0.9734                                                                                                    \n",
            "Epoch 7/32\n",
            "  1248/102124 [..............................] - ETA: 11:53 - loss: 0.0357 - acc: 0.9844"
          ],
          "name": "stdout"
        },
        {
          "output_type": "stream",
          "text": [
            " 35648/102124 [=========>....................] - ETA: 7:27 - loss: 0.0464 - acc: 0.9818"
          ],
          "name": "stdout"
        },
        {
          "output_type": "stream",
          "text": [
            " 69184/102124 [===================>..........] - ETA: 3:34 - loss: 0.0464 - acc: 0.9820"
          ],
          "name": "stdout"
        },
        {
          "output_type": "stream",
          "text": [
            "102124/102124 [==============================] - 695s 7ms/step - loss: 0.0467 - acc: 0.9819 - val_loss: 0.0452 - val_acc: 0.9828\n",
            "Epoch 8/32\n",
            "   320/102124 [..............................] - ETA: 10:25 - loss: 0.0294 - acc: 0.9891"
          ],
          "name": "stdout"
        },
        {
          "output_type": "stream",
          "text": [
            " 33280/102124 [========>.....................] - ETA: 7:04 - loss: 0.0449 - acc: 0.9826"
          ],
          "name": "stdout"
        },
        {
          "output_type": "stream",
          "text": [
            " 68160/102124 [===================>..........] - ETA: 3:37 - loss: 0.0457 - acc: 0.9821"
          ],
          "name": "stdout"
        },
        {
          "output_type": "stream",
          "text": [
            "102124/102124 [==============================] - 697s 7ms/step - loss: 0.0457 - acc: 0.9821 - val_loss: 0.0443 - val_acc: 0.9831\n",
            "roc-auc: 0.9896 - roc-auc_val: 0.9857                                                                                                    \n",
            "Epoch 9/32\n",
            "    64/102124 [..............................]"
          ],
          "name": "stdout"
        },
        {
          "output_type": "stream",
          "text": [
            " 33824/102124 [========>.....................] - ETA: 7:11 - loss: 0.0439 - acc: 0.9828"
          ],
          "name": "stdout"
        },
        {
          "output_type": "stream",
          "text": [
            " 67968/102124 [==================>...........] - ETA: 3:33 - loss: 0.0444 - acc: 0.9825"
          ],
          "name": "stdout"
        },
        {
          "output_type": "stream",
          "text": [
            "102124/102124 [==============================] - 675s 7ms/step - loss: 0.0443 - acc: 0.9825 - val_loss: 0.0480 - val_acc: 0.9822\n"
          ],
          "name": "stdout"
        },
        {
          "output_type": "stream",
          "text": [
            "Epoch 10/32\n",
            " 31808/102124 [========>.....................] - ETA: 7:12 - loss: 0.0444 - acc: 0.9822"
          ],
          "name": "stdout"
        },
        {
          "output_type": "stream",
          "text": [
            " 66592/102124 [==================>...........] - ETA: 3:46 - loss: 0.0442 - acc: 0.9826"
          ],
          "name": "stdout"
        },
        {
          "output_type": "stream",
          "text": [
            "100448/102124 [============================>.] - ETA: 10s - loss: 0.0438 - acc: 0.9828"
          ],
          "name": "stdout"
        },
        {
          "output_type": "stream",
          "text": [
            "102124/102124 [==============================] - 691s 7ms/step - loss: 0.0439 - acc: 0.9828 - val_loss: 0.0567 - val_acc: 0.9817\n",
            "roc-auc: 0.9867 - roc-auc_val: 0.9783                                                                                                    \n",
            "Epoch 11/32\n",
            "  7584/102124 [=>............................] - ETA: 9:53 - loss: 0.0435 - acc: 0.9825"
          ],
          "name": "stdout"
        },
        {
          "output_type": "stream",
          "text": [
            " 40096/102124 [==========>...................] - ETA: 6:28 - loss: 0.0433 - acc: 0.9830"
          ],
          "name": "stdout"
        },
        {
          "output_type": "stream",
          "text": [
            " 74048/102124 [====================>.........] - ETA: 2:54 - loss: 0.0429 - acc: 0.9831"
          ],
          "name": "stdout"
        },
        {
          "output_type": "stream",
          "text": [
            "102124/102124 [==============================] - 692s 7ms/step - loss: 0.0432 - acc: 0.9830 - val_loss: 0.0415 - val_acc: 0.9841\n",
            "Epoch 12/32\n",
            "  2528/102124 [..............................] - ETA: 10:30 - loss: 0.0466 - acc: 0.9823"
          ],
          "name": "stdout"
        },
        {
          "output_type": "stream",
          "text": [
            " 37248/102124 [=========>....................] - ETA: 6:55 - loss: 0.0425 - acc: 0.9831"
          ],
          "name": "stdout"
        },
        {
          "output_type": "stream",
          "text": [
            " 72416/102124 [====================>.........] - ETA: 3:16 - loss: 0.0427 - acc: 0.9830"
          ],
          "name": "stdout"
        },
        {
          "output_type": "stream",
          "text": [
            "102124/102124 [==============================] - 704s 7ms/step - loss: 0.0426 - acc: 0.9831 - val_loss: 0.0418 - val_acc: 0.9840\n",
            "roc-auc: 0.9922 - roc-auc_val: 0.9873                                                                                                    \n",
            "Epoch 13/32\n",
            "   896/102124 [..............................] - ETA: 10:20 - loss: 0.0406 - acc: 0.9846"
          ],
          "name": "stdout"
        },
        {
          "output_type": "stream",
          "text": [
            " 39072/102124 [==========>...................] - ETA: 6:36 - loss: 0.0409 - acc: 0.9839"
          ],
          "name": "stdout"
        },
        {
          "output_type": "stream",
          "text": [
            " 73216/102124 [====================>.........] - ETA: 3:04 - loss: 0.0417 - acc: 0.9836"
          ],
          "name": "stdout"
        },
        {
          "output_type": "stream",
          "text": [
            "102124/102124 [==============================] - 700s 7ms/step - loss: 0.0421 - acc: 0.9834 - val_loss: 0.0410 - val_acc: 0.9843\n",
            "Epoch 14/32\n",
            "  2080/102124 [..............................] - ETA: 12:27 - loss: 0.0398 - acc: 0.9845"
          ],
          "name": "stdout"
        },
        {
          "output_type": "stream",
          "text": [
            " 37600/102124 [==========>...................] - ETA: 7:12 - loss: 0.0420 - acc: 0.9831"
          ],
          "name": "stdout"
        },
        {
          "output_type": "stream",
          "text": [
            " 70976/102124 [===================>..........] - ETA: 3:21 - loss: 0.0417 - acc: 0.9835"
          ],
          "name": "stdout"
        },
        {
          "output_type": "stream",
          "text": [
            "102124/102124 [==============================] - 692s 7ms/step - loss: 0.0417 - acc: 0.9835 - val_loss: 0.0409 - val_acc: 0.9843\n",
            "roc-auc: 0.9926 - roc-auc_val: 0.9871                                                                                                    \n",
            "Epoch 15/32\n",
            "   480/102124 [..............................] - ETA: 10:32 - loss: 0.0408 - acc: 0.9840"
          ],
          "name": "stdout"
        },
        {
          "output_type": "stream",
          "text": [
            " 37184/102124 [=========>....................] - ETA: 6:48 - loss: 0.0410 - acc: 0.9837"
          ],
          "name": "stdout"
        },
        {
          "output_type": "stream",
          "text": [
            " 72864/102124 [====================>.........] - ETA: 3:07 - loss: 0.0412 - acc: 0.9838"
          ],
          "name": "stdout"
        },
        {
          "output_type": "stream",
          "text": [
            "102124/102124 [==============================] - 694s 7ms/step - loss: 0.0414 - acc: 0.9836 - val_loss: 0.0404 - val_acc: 0.9845\n",
            "Epoch 16/32\n",
            "  1632/102124 [..............................] - ETA: 10:15 - loss: 0.0373 - acc: 0.9852"
          ],
          "name": "stdout"
        },
        {
          "output_type": "stream",
          "text": [
            " 36032/102124 [=========>....................] - ETA: 7:37 - loss: 0.0405 - acc: 0.9836"
          ],
          "name": "stdout"
        },
        {
          "output_type": "stream",
          "text": [
            " 69696/102124 [===================>..........] - ETA: 3:34 - loss: 0.0405 - acc: 0.9838"
          ],
          "name": "stdout"
        },
        {
          "output_type": "stream",
          "text": [
            "102124/102124 [==============================] - 703s 7ms/step - loss: 0.0406 - acc: 0.9838 - val_loss: 0.0406 - val_acc: 0.9844\n",
            "roc-auc: 0.993 - roc-auc_val: 0.9869                                                                                                    \n",
            "Epoch 17/32\n",
            "   256/102124 [..............................] - ETA: 10:39 - loss: 0.0294 - acc: 0.9896"
          ],
          "name": "stdout"
        },
        {
          "output_type": "stream",
          "text": [
            " 34976/102124 [=========>....................] - ETA: 7:09 - loss: 0.0402 - acc: 0.9840"
          ],
          "name": "stdout"
        },
        {
          "output_type": "stream",
          "text": [
            " 69024/102124 [===================>..........] - ETA: 3:34 - loss: 0.0398 - acc: 0.9840"
          ],
          "name": "stdout"
        },
        {
          "output_type": "stream",
          "text": [
            "102124/102124 [==============================] - 705s 7ms/step - loss: 0.0402 - acc: 0.9839 - val_loss: 0.0412 - val_acc: 0.9840\n",
            "\n",
            "Epoch 00017: ReduceLROnPlateau reducing learning rate to 9.473228419665247e-05.\n",
            "Epoch 18/32\n",
            "   160/102124 [..............................] - ETA: 11:56 - loss: 0.0585 - acc: 0.9750"
          ],
          "name": "stdout"
        },
        {
          "output_type": "stream",
          "text": [
            " 34336/102124 [=========>....................] - ETA: 7:34 - loss: 0.0394 - acc: 0.9839"
          ],
          "name": "stdout"
        },
        {
          "output_type": "stream",
          "text": [
            " 69248/102124 [===================>..........] - ETA: 3:31 - loss: 0.0398 - acc: 0.9839"
          ],
          "name": "stdout"
        },
        {
          "output_type": "stream",
          "text": [
            "102124/102124 [==============================] - 688s 7ms/step - loss: 0.0400 - acc: 0.9838 - val_loss: 0.0405 - val_acc: 0.9845\n",
            "roc-auc: 0.9937 - roc-auc_val: 0.9873                                                                                                    \n",
            "Epoch 19/32\n",
            "   256/102124 [..............................] - ETA: 10:29 - loss: 0.0315 - acc: 0.9857"
          ],
          "name": "stdout"
        },
        {
          "output_type": "stream",
          "text": [
            " 34080/102124 [=========>....................] - ETA: 6:55 - loss: 0.0388 - acc: 0.9840"
          ],
          "name": "stdout"
        },
        {
          "output_type": "stream",
          "text": [
            " 68256/102124 [===================>..........] - ETA: 3:35 - loss: 0.0395 - acc: 0.9839"
          ],
          "name": "stdout"
        },
        {
          "output_type": "stream",
          "text": [
            "102048/102124 [============================>.] - ETA: 0s - loss: 0.0395 - acc: 0.9841"
          ],
          "name": "stdout"
        },
        {
          "output_type": "stream",
          "text": [
            "102124/102124 [==============================] - 693s 7ms/step - loss: 0.0395 - acc: 0.9841 - val_loss: 0.0402 - val_acc: 0.9844\n",
            "Epoch 20/32\n",
            " 13600/102124 [==>...........................] - ETA: 10:57 - loss: 0.0384 - acc: 0.9846"
          ],
          "name": "stdout"
        },
        {
          "output_type": "stream",
          "text": [
            " 48544/102124 [=============>................] - ETA: 6:05 - loss: 0.0387 - acc: 0.9845"
          ],
          "name": "stdout"
        },
        {
          "output_type": "stream",
          "text": [
            " 82816/102124 [=======================>......] - ETA: 2:09 - loss: 0.0392 - acc: 0.9843"
          ],
          "name": "stdout"
        },
        {
          "output_type": "stream",
          "text": [
            "102124/102124 [==============================] - 720s 7ms/step - loss: 0.0394 - acc: 0.9842 - val_loss: 0.0402 - val_acc: 0.9845\n",
            "roc-auc: 0.9939 - roc-auc_val: 0.9874                                                                                                    \n",
            "Epoch 21/32\n",
            "  3392/102124 [..............................] - ETA: 12:28 - loss: 0.0403 - acc: 0.9840"
          ],
          "name": "stdout"
        },
        {
          "output_type": "stream",
          "text": [
            " 38304/102124 [==========>...................] - ETA: 7:08 - loss: 0.0396 - acc: 0.9842"
          ],
          "name": "stdout"
        },
        {
          "output_type": "stream",
          "text": [
            " 70688/102124 [===================>..........] - ETA: 3:23 - loss: 0.0394 - acc: 0.9841"
          ],
          "name": "stdout"
        },
        {
          "output_type": "stream",
          "text": [
            "102124/102124 [==============================] - 690s 7ms/step - loss: 0.0392 - acc: 0.9842 - val_loss: 0.0402 - val_acc: 0.9845\n",
            "Epoch 22/32\n",
            "   960/102124 [..............................] - ETA: 10:18 - loss: 0.0456 - acc: 0.9832"
          ],
          "name": "stdout"
        },
        {
          "output_type": "stream",
          "text": [
            " 34560/102124 [=========>....................] - ETA: 6:55 - loss: 0.0397 - acc: 0.9841"
          ],
          "name": "stdout"
        },
        {
          "output_type": "stream",
          "text": [
            " 68096/102124 [===================>..........] - ETA: 3:36 - loss: 0.0391 - acc: 0.9843"
          ],
          "name": "stdout"
        },
        {
          "output_type": "stream",
          "text": [
            "102112/102124 [============================>.] - ETA: 0s - loss: 0.0391 - acc: 0.9842"
          ],
          "name": "stdout"
        },
        {
          "output_type": "stream",
          "text": [
            "102124/102124 [==============================] - 692s 7ms/step - loss: 0.0391 - acc: 0.9842 - val_loss: 0.0403 - val_acc: 0.9844\n",
            "roc-auc: 0.9941 - roc-auc_val: 0.9877                                                                                                    \n",
            "Epoch 23/32\n",
            "  8256/102124 [=>............................] - ETA: 9:48 - loss: 0.0395 - acc: 0.9843"
          ],
          "name": "stdout"
        },
        {
          "output_type": "stream",
          "text": [
            " 42560/102124 [===========>..................] - ETA: 6:07 - loss: 0.0382 - acc: 0.9845"
          ],
          "name": "stdout"
        },
        {
          "output_type": "stream",
          "text": [
            " 76320/102124 [=====================>........] - ETA: 2:39 - loss: 0.0384 - acc: 0.9844"
          ],
          "name": "stdout"
        },
        {
          "output_type": "stream",
          "text": [
            "102124/102124 [==============================] - 687s 7ms/step - loss: 0.0385 - acc: 0.9844 - val_loss: 0.0416 - val_acc: 0.9841\n",
            "Epoch 24/32\n",
            "  2912/102124 [..............................] - ETA: 10:22 - loss: 0.0353 - acc: 0.9861"
          ],
          "name": "stdout"
        },
        {
          "output_type": "stream",
          "text": [
            " 37536/102124 [==========>...................] - ETA: 6:57 - loss: 0.0372 - acc: 0.9852"
          ],
          "name": "stdout"
        },
        {
          "output_type": "stream",
          "text": [
            " 72576/102124 [====================>.........] - ETA: 3:13 - loss: 0.0378 - acc: 0.9847"
          ],
          "name": "stdout"
        },
        {
          "output_type": "stream",
          "text": [
            "102124/102124 [==============================] - 709s 7ms/step - loss: 0.0380 - acc: 0.9847 - val_loss: 0.0402 - val_acc: 0.9845\n",
            "roc-auc: 0.9946 - roc-auc_val: 0.9874                                                                                                    \n",
            "Epoch 25/32\n",
            "   768/102124 [..............................] - ETA: 10:41 - loss: 0.0373 - acc: 0.9848"
          ],
          "name": "stdout"
        },
        {
          "output_type": "stream",
          "text": [
            " 36608/102124 [=========>....................] - ETA: 7:00 - loss: 0.0373 - acc: 0.9848"
          ],
          "name": "stdout"
        },
        {
          "output_type": "stream",
          "text": [
            " 71456/102124 [===================>..........] - ETA: 3:26 - loss: 0.0378 - acc: 0.9845"
          ],
          "name": "stdout"
        },
        {
          "output_type": "stream",
          "text": [
            "102124/102124 [==============================] - 714s 7ms/step - loss: 0.0382 - acc: 0.9844 - val_loss: 0.0405 - val_acc: 0.9845\n",
            "Epoch 26/32\n",
            "  1056/102124 [..............................] - ETA: 10:23 - loss: 0.0349 - acc: 0.9848"
          ],
          "name": "stdout"
        },
        {
          "output_type": "stream",
          "text": [
            " 33664/102124 [========>.....................] - ETA: 7:03 - loss: 0.0376 - acc: 0.9845"
          ],
          "name": "stdout"
        },
        {
          "output_type": "stream",
          "text": [
            " 67488/102124 [==================>...........] - ETA: 3:34 - loss: 0.0376 - acc: 0.9845"
          ],
          "name": "stdout"
        },
        {
          "output_type": "stream",
          "text": [
            "101152/102124 [============================>.] - ETA: 6s - loss: 0.0376 - acc: 0.9845"
          ],
          "name": "stdout"
        },
        {
          "output_type": "stream",
          "text": [
            "102124/102124 [==============================] - 674s 7ms/step - loss: 0.0376 - acc: 0.9845 - val_loss: 0.0406 - val_acc: 0.9843\n",
            "roc-auc: 0.994 - roc-auc_val: 0.9865                                                                                                    \n",
            "Epoch 27/32\n",
            "  7840/102124 [=>............................] - ETA: 10:04 - loss: 0.0397 - acc: 0.9838"
          ],
          "name": "stdout"
        },
        {
          "output_type": "stream",
          "text": [
            " 41920/102124 [===========>..................] - ETA: 6:26 - loss: 0.0380 - acc: 0.9847"
          ],
          "name": "stdout"
        },
        {
          "output_type": "stream",
          "text": [
            " 76000/102124 [=====================>........] - ETA: 2:51 - loss: 0.0381 - acc: 0.9846"
          ],
          "name": "stdout"
        },
        {
          "output_type": "stream",
          "text": [
            "102124/102124 [==============================] - 704s 7ms/step - loss: 0.0379 - acc: 0.9846 - val_loss: 0.0403 - val_acc: 0.9844\n",
            "Epoch 28/32\n",
            "  2464/102124 [..............................] - ETA: 10:24 - loss: 0.0403 - acc: 0.9850"
          ],
          "name": "stdout"
        },
        {
          "output_type": "stream",
          "text": [
            " 37952/102124 [==========>...................] - ETA: 6:34 - loss: 0.0379 - acc: 0.9847"
          ],
          "name": "stdout"
        },
        {
          "output_type": "stream",
          "text": [
            " 72576/102124 [====================>.........] - ETA: 3:08 - loss: 0.0378 - acc: 0.9847"
          ],
          "name": "stdout"
        },
        {
          "output_type": "stream",
          "text": [
            "102124/102124 [==============================] - 698s 7ms/step - loss: 0.0376 - acc: 0.9847 - val_loss: 0.0405 - val_acc: 0.9845\n",
            "\n",
            "Epoch 00028: ReduceLROnPlateau reducing learning rate to 3.0185510695446283e-05.\n",
            "roc-auc: 0.9948 - roc-auc_val: 0.9868                                                                                                    \n",
            "Epoch 29/32\n",
            "   864/102124 [..............................] - ETA: 10:25 - loss: 0.0360 - acc: 0.9853"
          ],
          "name": "stdout"
        },
        {
          "output_type": "stream",
          "text": [
            " 34464/102124 [=========>....................] - ETA: 6:57 - loss: 0.0375 - acc: 0.9849"
          ],
          "name": "stdout"
        },
        {
          "output_type": "stream",
          "text": [
            " 68128/102124 [===================>..........] - ETA: 3:29 - loss: 0.0377 - acc: 0.9847"
          ],
          "name": "stdout"
        },
        {
          "output_type": "stream",
          "text": [
            "101504/102124 [============================>.] - ETA: 3s - loss: 0.0374 - acc: 0.9847"
          ],
          "name": "stdout"
        },
        {
          "output_type": "stream",
          "text": [
            "102124/102124 [==============================] - 671s 7ms/step - loss: 0.0375 - acc: 0.9846 - val_loss: 0.0408 - val_acc: 0.9843\n",
            "Epoch 30/32\n",
            " 12960/102124 [==>...........................] - ETA: 10:38 - loss: 0.0361 - acc: 0.9852"
          ],
          "name": "stdout"
        },
        {
          "output_type": "stream",
          "text": [
            " 46880/102124 [============>.................] - ETA: 6:00 - loss: 0.0369 - acc: 0.9850"
          ],
          "name": "stdout"
        },
        {
          "output_type": "stream",
          "text": [
            " 83904/102124 [=======================>......] - ETA: 1:59 - loss: 0.0371 - acc: 0.9848"
          ],
          "name": "stdout"
        },
        {
          "output_type": "stream",
          "text": [
            "102124/102124 [==============================] - 715s 7ms/step - loss: 0.0373 - acc: 0.9847 - val_loss: 0.0403 - val_acc: 0.9845\n",
            "roc-auc: 0.9951 - roc-auc_val: 0.9868                                                                                                    \n",
            "Epoch 31/32\n",
            "  3840/102124 [>.............................] - ETA: 10:21 - loss: 0.0369 - acc: 0.9857"
          ],
          "name": "stdout"
        },
        {
          "output_type": "stream",
          "text": [
            " 37504/102124 [==========>...................] - ETA: 6:44 - loss: 0.0373 - acc: 0.9847"
          ],
          "name": "stdout"
        },
        {
          "output_type": "stream",
          "text": [
            " 70976/102124 [===================>..........] - ETA: 3:14 - loss: 0.0369 - acc: 0.9850"
          ],
          "name": "stdout"
        },
        {
          "output_type": "stream",
          "text": [
            "102124/102124 [==============================] - 691s 7ms/step - loss: 0.0372 - acc: 0.9847 - val_loss: 0.0406 - val_acc: 0.9844\n",
            "Epoch 32/32\n",
            "   928/102124 [..............................] - ETA: 10:39 - loss: 0.0331 - acc: 0.9872"
          ],
          "name": "stdout"
        },
        {
          "output_type": "stream",
          "text": [
            " 36928/102124 [=========>....................] - ETA: 7:01 - loss: 0.0376 - acc: 0.9846"
          ],
          "name": "stdout"
        },
        {
          "output_type": "stream",
          "text": [
            " 73056/102124 [====================>.........] - ETA: 3:12 - loss: 0.0371 - acc: 0.9848"
          ],
          "name": "stdout"
        },
        {
          "output_type": "stream",
          "text": [
            "102124/102124 [==============================] - 706s 7ms/step - loss: 0.0370 - acc: 0.9849 - val_loss: 0.0407 - val_acc: 0.9845\n",
            "roc-auc: 0.9951 - roc-auc_val: 0.9869                                                                                                    \n"
          ],
          "name": "stdout"
        }
      ]
    },
    {
      "metadata": {
        "id": "5DZoqu1EIK1L",
        "colab_type": "text"
      },
      "cell_type": "markdown",
      "source": [
        ""
      ]
    },
    {
      "metadata": {
        "id": "sms3R-U4469B",
        "colab_type": "code",
        "colab": {
          "autoexec": {
            "startup": false,
            "wait_interval": 0
          },
          "base_uri": "https://localhost:8080/",
          "height": 294
        },
        "outputId": "4c8c9ad6-0e4b-42ab-fed9-d3932bdb486b",
        "executionInfo": {
          "status": "ok",
          "timestamp": 1530774325856,
          "user_tz": -120,
          "elapsed": 3599,
          "user": {
            "displayName": "Deep Learning",
            "photoUrl": "https://lh3.googleusercontent.com/a/default-user=s128",
            "userId": "115257841230779963257"
          }
        }
      },
      "cell_type": "code",
      "source": [
        "plot_history(history)"
      ],
      "execution_count": 14,
      "outputs": [
        {
          "output_type": "display_data",
          "data": {
            "image/png": "[encoded data removed]",
            "text/plain": [
              "<matplotlib.figure.Figure at 0x7fcb82ad0438>"
            ]
          },
          "metadata": {
            "tags": []
          }
        }
      ]
    },
    {
      "metadata": {
        "id": "r2gtMBj2Tp9A",
        "colab_type": "code",
        "colab": {
          "autoexec": {
            "startup": false,
            "wait_interval": 0
          },
          "base_uri": "https://localhost:8080/",
          "height": 51
        },
        "outputId": "1788278b-32de-4e74-9f3f-31869065dc87",
        "executionInfo": {
          "status": "ok",
          "timestamp": 1530774433931,
          "user_tz": -120,
          "elapsed": 107855,
          "user": {
            "displayName": "Deep Learning",
            "photoUrl": "https://lh3.googleusercontent.com/a/default-user=s128",
            "userId": "115257841230779963257"
          }
        }
      },
      "cell_type": "code",
      "source": [
        "print(evaluate_on_test(model))"
      ],
      "execution_count": 15,
      "outputs": [
        {
          "output_type": "stream",
          "text": [
            "31915/31915 [==============================] - 56s 2ms/step\n",
            "([0.03913720385787929, 0.9845527050937023], 0.9890625781772132)\n"
          ],
          "name": "stdout"
        }
      ]
    },
    {
      "metadata": {
        "id": "OxQKtYnolNbe",
        "colab_type": "code",
        "colab": {
          "autoexec": {
            "startup": false,
            "wait_interval": 0
          },
          "base_uri": "https://localhost:8080/",
          "height": 1516
        },
        "outputId": "656019e7-e7f4-4399-9fdd-106e94a078ce",
        "executionInfo": {
          "status": "ok",
          "timestamp": 1530833579565,
          "user_tz": -120,
          "elapsed": 20153494,
          "user": {
            "displayName": "Deep Learning",
            "photoUrl": "https://lh3.googleusercontent.com/a/default-user=s128",
            "userId": "115257841230779963257"
          }
        }
      },
      "cell_type": "code",
      "source": [
        "history = train_with_cv(model, batchSize=64, rocEvery = 2)"
      ],
      "execution_count": 13,
      "outputs": [
        {
          "output_type": "stream",
          "text": [
            "Train on 102124 samples, validate on 25532 samples\n",
            "Epoch 1/32\n",
            " 42880/102124 [===========>..................] - ETA: 4:59 - loss: 0.1709 - acc: 0.9180"
          ],
          "name": "stdout"
        },
        {
          "output_type": "stream",
          "text": [
            "102124/102124 [==============================] - 543s 5ms/step - loss: 0.1149 - acc: 0.9503 - val_loss: 0.0666 - val_acc: 0.9793\n",
            "Epoch 2/32\n",
            "  5440/102124 [>.............................] - ETA: 7:51 - loss: 0.0704 - acc: 0.9755"
          ],
          "name": "stdout"
        },
        {
          "output_type": "stream",
          "text": [
            "102080/102124 [============================>.] - ETA: 0s - loss: 0.0644 - acc: 0.9774"
          ],
          "name": "stdout"
        },
        {
          "output_type": "stream",
          "text": [
            "102124/102124 [==============================] - 533s 5ms/step - loss: 0.0644 - acc: 0.9774 - val_loss: 0.2079 - val_acc: 0.9444\n",
            "roc-auc: 0.9736 - roc-auc_val: 0.9714                                                                                                    \n",
            "Epoch 3/32\n",
            " 17408/102124 [====>.........................] - ETA: 6:51 - loss: 0.0584 - acc: 0.9792"
          ],
          "name": "stdout"
        },
        {
          "output_type": "stream",
          "text": [
            "102080/102124 [============================>.] - ETA: 0s - loss: 0.0574 - acc: 0.9794"
          ],
          "name": "stdout"
        },
        {
          "output_type": "stream",
          "text": [
            "\b\b\b\b\b\b\b\b\b\b\b\b\b\b\b\b\b\b\b\b\b\b\b\b\b\b\b\b\b\b\b\b\b\b\b\b\b\b\b\b\b\b\b\b\b\b\b\b\b\b\b\b\b\b\b\b\b\b\b\b\b\b\b\b\b\b\b\b\b\b\b\b\b\b\b\b\b\b\b\b\b\b\b\b\b\r102124/102124 [==============================] - 534s 5ms/step - loss: 0.0574 - acc: 0.9794 - val_loss: 0.3783 - val_acc: 0.8039\n",
            "\n",
            "Epoch 00003: ReduceLROnPlateau reducing learning rate to 0.0004061262006871402.\n",
            "Epoch 4/32\n",
            " 16064/102124 [===>..........................] - ETA: 7:00 - loss: 0.0543 - acc: 0.9800"
          ],
          "name": "stdout"
        },
        {
          "output_type": "stream",
          "text": [
            "102080/102124 [============================>.] - ETA: 0s - loss: 0.0523 - acc: 0.9807"
          ],
          "name": "stdout"
        },
        {
          "output_type": "stream",
          "text": [
            "102124/102124 [==============================] - 535s 5ms/step - loss: 0.0523 - acc: 0.9807 - val_loss: 0.0589 - val_acc: 0.9819\n",
            "roc-auc: 0.981 - roc-auc_val: 0.9781                                                                                                    \n",
            "Epoch 5/32\n",
            " 17472/102124 [====>.........................] - ETA: 6:52 - loss: 0.0497 - acc: 0.9816"
          ],
          "name": "stdout"
        },
        {
          "output_type": "stream",
          "text": [
            "102080/102124 [============================>.] - ETA: 0s - loss: 0.0499 - acc: 0.9812"
          ],
          "name": "stdout"
        },
        {
          "output_type": "stream",
          "text": [
            "\b\b\b\b\b\b\b\b\b\b\b\b\b\b\b\b\b\b\b\b\b\b\b\b\b\b\b\b\b\b\b\b\b\b\b\b\b\b\b\b\b\b\b\b\b\b\b\b\b\b\b\b\b\b\b\b\b\b\b\b\b\b\b\b\b\b\b\b\b\b\b\b\b\b\b\b\b\b\b\b\b\b\b\b\b\r102124/102124 [==============================] - 535s 5ms/step - loss: 0.0499 - acc: 0.9812 - val_loss: 0.5417 - val_acc: 0.7125\n",
            "Epoch 6/32\n",
            " 20352/102124 [====>.........................] - ETA: 6:38 - loss: 0.0460 - acc: 0.9826"
          ],
          "name": "stdout"
        },
        {
          "output_type": "stream",
          "text": [
            "102080/102124 [============================>.] - ETA: 0s - loss: 0.0477 - acc: 0.9817"
          ],
          "name": "stdout"
        },
        {
          "output_type": "stream",
          "text": [
            "102124/102124 [==============================] - 535s 5ms/step - loss: 0.0477 - acc: 0.9817 - val_loss: 0.0450 - val_acc: 0.9835\n",
            "roc-auc: 0.989 - roc-auc_val: 0.9847                                                                                                    \n",
            "Epoch 7/32\n",
            " 17472/102124 [====>.........................] - ETA: 6:52 - loss: 0.0486 - acc: 0.9816"
          ],
          "name": "stdout"
        },
        {
          "output_type": "stream",
          "text": [
            "102080/102124 [============================>.] - ETA: 0s - loss: 0.0465 - acc: 0.9822"
          ],
          "name": "stdout"
        },
        {
          "output_type": "stream",
          "text": [
            "\b\b\b\b\b\b\b\b\b\b\b\b\b\b\b\b\b\b\b\b\b\b\b\b\b\b\b\b\b\b\b\b\b\b\b\b\b\b\b\b\b\b\b\b\b\b\b\b\b\b\b\b\b\b\b\b\b\b\b\b\b\b\b\b\b\b\b\b\b\b\b\b\b\b\b\b\b\b\b\b\b\b\b\b\b\r102124/102124 [==============================] - 534s 5ms/step - loss: 0.0465 - acc: 0.9822 - val_loss: 0.0436 - val_acc: 0.9837\n",
            "Epoch 8/32\n",
            " 20352/102124 [====>.........................] - ETA: 6:36 - loss: 0.0445 - acc: 0.9826"
          ],
          "name": "stdout"
        },
        {
          "output_type": "stream",
          "text": [
            "102080/102124 [============================>.] - ETA: 0s - loss: 0.0450 - acc: 0.9826"
          ],
          "name": "stdout"
        },
        {
          "output_type": "stream",
          "text": [
            "102124/102124 [==============================] - 534s 5ms/step - loss: 0.0450 - acc: 0.9826 - val_loss: 0.0436 - val_acc: 0.9834\n",
            "roc-auc: 0.9896 - roc-auc_val: 0.9858                                                                                                    \n",
            "Epoch 9/32\n",
            " 17408/102124 [====>.........................] - ETA: 6:53 - loss: 0.0427 - acc: 0.9835"
          ],
          "name": "stdout"
        },
        {
          "output_type": "stream",
          "text": [
            "102080/102124 [============================>.] - ETA: 0s - loss: 0.0441 - acc: 0.9826"
          ],
          "name": "stdout"
        },
        {
          "output_type": "stream",
          "text": [
            "\b\b\b\b\b\b\b\b\b\b\b\b\b\b\b\b\b\b\b\b\b\b\b\b\b\b\b\b\b\b\b\b\b\b\b\b\b\b\b\b\b\b\b\b\b\b\b\b\b\b\b\b\b\b\b\b\b\b\b\b\b\b\b\b\b\b\b\b\b\b\b\b\b\b\b\b\b\b\b\b\b\b\b\b\b\r102124/102124 [==============================] - 534s 5ms/step - loss: 0.0441 - acc: 0.9826 - val_loss: 0.0638 - val_acc: 0.9774\n",
            "Epoch 10/32\n",
            " 20288/102124 [====>.........................] - ETA: 6:38 - loss: 0.0431 - acc: 0.9832"
          ],
          "name": "stdout"
        },
        {
          "output_type": "stream",
          "text": [
            "102080/102124 [============================>.] - ETA: 0s - loss: 0.0431 - acc: 0.9832"
          ],
          "name": "stdout"
        },
        {
          "output_type": "stream",
          "text": [
            "102124/102124 [==============================] - 535s 5ms/step - loss: 0.0431 - acc: 0.9832 - val_loss: 0.0430 - val_acc: 0.9840\n",
            "roc-auc: 0.99 - roc-auc_val: 0.9865                                                                                                    \n",
            "Epoch 11/32\n",
            " 17472/102124 [====>.........................] - ETA: 6:51 - loss: 0.0433 - acc: 0.9829"
          ],
          "name": "stdout"
        },
        {
          "output_type": "stream",
          "text": [
            "102080/102124 [============================>.] - ETA: 0s - loss: 0.0427 - acc: 0.9832"
          ],
          "name": "stdout"
        },
        {
          "output_type": "stream",
          "text": [
            "\b\b\b\b\b\b\b\b\b\b\b\b\b\b\b\b\b\b\b\b\b\b\b\b\b\b\b\b\b\b\b\b\b\b\b\b\b\b\b\b\b\b\b\b\b\b\b\b\b\b\b\b\b\b\b\b\b\b\b\b\b\b\b\b\b\b\b\b\b\b\b\b\b\b\b\b\b\b\b\b\b\b\b\b\b\r102124/102124 [==============================] - 534s 5ms/step - loss: 0.0427 - acc: 0.9832 - val_loss: 0.0457 - val_acc: 0.9828\n",
            "Epoch 12/32\n",
            " 20288/102124 [====>.........................] - ETA: 6:38 - loss: 0.0422 - acc: 0.9835"
          ],
          "name": "stdout"
        },
        {
          "output_type": "stream",
          "text": [
            "102080/102124 [============================>.] - ETA: 0s - loss: 0.0419 - acc: 0.9836"
          ],
          "name": "stdout"
        },
        {
          "output_type": "stream",
          "text": [
            "102124/102124 [==============================] - 534s 5ms/step - loss: 0.0419 - acc: 0.9836 - val_loss: 0.0419 - val_acc: 0.9842\n",
            "roc-auc: 0.9923 - roc-auc_val: 0.9866                                                                                                    \n",
            "Epoch 13/32\n",
            " 17344/102124 [====>.........................] - ETA: 6:53 - loss: 0.0410 - acc: 0.9834"
          ],
          "name": "stdout"
        },
        {
          "output_type": "stream",
          "text": [
            "102080/102124 [============================>.] - ETA: 0s - loss: 0.0412 - acc: 0.9837"
          ],
          "name": "stdout"
        },
        {
          "output_type": "stream",
          "text": [
            "\b\b\b\b\b\b\b\b\b\b\b\b\b\b\b\b\b\b\b\b\b\b\b\b\b\b\b\b\b\b\b\b\b\b\b\b\b\b\b\b\b\b\b\b\b\b\b\b\b\b\b\b\b\b\b\b\b\b\b\b\b\b\b\b\b\b\b\b\b\b\b\b\b\b\b\b\b\b\b\b\b\b\b\b\b\r102124/102124 [==============================] - 535s 5ms/step - loss: 0.0412 - acc: 0.9837 - val_loss: 0.0443 - val_acc: 0.9835\n",
            "Epoch 14/32\n",
            " 20288/102124 [====>.........................] - ETA: 6:36 - loss: 0.0397 - acc: 0.9841"
          ],
          "name": "stdout"
        },
        {
          "output_type": "stream",
          "text": [
            "102080/102124 [============================>.] - ETA: 0s - loss: 0.0406 - acc: 0.9840"
          ],
          "name": "stdout"
        },
        {
          "output_type": "stream",
          "text": [
            "102124/102124 [==============================] - 533s 5ms/step - loss: 0.0406 - acc: 0.9840 - val_loss: 0.0418 - val_acc: 0.9842\n",
            "roc-auc: 0.9928 - roc-auc_val: 0.9862                                                                                                    \n",
            "Epoch 15/32\n",
            " 17344/102124 [====>.........................] - ETA: 6:52 - loss: 0.0393 - acc: 0.9846"
          ],
          "name": "stdout"
        },
        {
          "output_type": "stream",
          "text": [
            "102080/102124 [============================>.] - ETA: 0s - loss: 0.0403 - acc: 0.9839"
          ],
          "name": "stdout"
        },
        {
          "output_type": "stream",
          "text": [
            "\b\b\b\b\b\b\b\b\b\b\b\b\b\b\b\b\b\b\b\b\b\b\b\b\b\b\b\b\b\b\b\b\b\b\b\b\b\b\b\b\b\b\b\b\b\b\b\b\b\b\b\b\b\b\b\b\b\b\b\b\b\b\b\b\b\b\b\b\b\b\b\b\b\b\b\b\b\b\b\b\b\b\b\b\b\r102124/102124 [==============================] - 533s 5ms/step - loss: 0.0403 - acc: 0.9839 - val_loss: 0.0410 - val_acc: 0.9845\n",
            "Epoch 16/32\n",
            " 20288/102124 [====>.........................] - ETA: 6:38 - loss: 0.0383 - acc: 0.9846"
          ],
          "name": "stdout"
        },
        {
          "output_type": "stream",
          "text": [
            "102080/102124 [============================>.] - ETA: 0s - loss: 0.0397 - acc: 0.9841"
          ],
          "name": "stdout"
        },
        {
          "output_type": "stream",
          "text": [
            "102124/102124 [==============================] - 534s 5ms/step - loss: 0.0397 - acc: 0.9841 - val_loss: 0.0425 - val_acc: 0.9838\n",
            "roc-auc: 0.9924 - roc-auc_val: 0.9865                                                                                                    \n",
            "Epoch 17/32\n",
            " 17344/102124 [====>.........................] - ETA: 6:52 - loss: 0.0385 - acc: 0.9846"
          ],
          "name": "stdout"
        },
        {
          "output_type": "stream",
          "text": [
            "102080/102124 [============================>.] - ETA: 0s - loss: 0.0394 - acc: 0.9842"
          ],
          "name": "stdout"
        },
        {
          "output_type": "stream",
          "text": [
            "\b\b\b\b\b\b\b\b\b\b\b\b\b\b\b\b\b\b\b\b\b\b\b\b\b\b\b\b\b\b\b\b\b\b\b\b\b\b\b\b\b\b\b\b\b\b\b\b\b\b\b\b\b\b\b\b\b\b\b\b\b\b\b\b\b\b\b\b\b\b\b\b\b\b\b\b\b\b\b\b\b\b\b\b\b\r102124/102124 [==============================] - 534s 5ms/step - loss: 0.0394 - acc: 0.9842 - val_loss: 0.0424 - val_acc: 0.9841\n",
            "\n",
            "Epoch 00017: ReduceLROnPlateau reducing learning rate to 9.473228419665247e-05.\n",
            "Epoch 18/32\n",
            " 16064/102124 [===>..........................] - ETA: 6:59 - loss: 0.0377 - acc: 0.9850"
          ],
          "name": "stdout"
        },
        {
          "output_type": "stream",
          "text": [
            "102080/102124 [============================>.] - ETA: 0s - loss: 0.0386 - acc: 0.9844"
          ],
          "name": "stdout"
        },
        {
          "output_type": "stream",
          "text": [
            "102124/102124 [==============================] - 534s 5ms/step - loss: 0.0386 - acc: 0.9844 - val_loss: 0.0480 - val_acc: 0.9819\n",
            "roc-auc: 0.9913 - roc-auc_val: 0.9833                                                                                                    \n",
            "Epoch 19/32\n",
            " 17344/102124 [====>.........................] - ETA: 6:50 - loss: 0.0380 - acc: 0.9841"
          ],
          "name": "stdout"
        },
        {
          "output_type": "stream",
          "text": [
            "102080/102124 [============================>.] - ETA: 0s - loss: 0.0385 - acc: 0.9844"
          ],
          "name": "stdout"
        },
        {
          "output_type": "stream",
          "text": [
            "\b\b\b\b\b\b\b\b\b\b\b\b\b\b\b\b\b\b\b\b\b\b\b\b\b\b\b\b\b\b\b\b\b\b\b\b\b\b\b\b\b\b\b\b\b\b\b\b\b\b\b\b\b\b\b\b\b\b\b\b\b\b\b\b\b\b\b\b\b\b\b\b\b\b\b\b\b\b\b\b\b\b\b\b\b\r102124/102124 [==============================] - 529s 5ms/step - loss: 0.0384 - acc: 0.9844 - val_loss: 0.0406 - val_acc: 0.9845\n",
            "Epoch 20/32\n",
            " 20288/102124 [====>.........................] - ETA: 6:35 - loss: 0.0383 - acc: 0.9846"
          ],
          "name": "stdout"
        },
        {
          "output_type": "stream",
          "text": [
            "102080/102124 [============================>.] - ETA: 0s - loss: 0.0382 - acc: 0.9845"
          ],
          "name": "stdout"
        },
        {
          "output_type": "stream",
          "text": [
            "102124/102124 [==============================] - 532s 5ms/step - loss: 0.0382 - acc: 0.9845 - val_loss: 0.0413 - val_acc: 0.9844\n",
            "roc-auc: 0.994 - roc-auc_val: 0.9868                                                                                                    \n",
            "Epoch 21/32\n",
            " 17408/102124 [====>.........................] - ETA: 6:53 - loss: 0.0386 - acc: 0.9842"
          ],
          "name": "stdout"
        },
        {
          "output_type": "stream",
          "text": [
            "102080/102124 [============================>.] - ETA: 0s - loss: 0.0380 - acc: 0.9847"
          ],
          "name": "stdout"
        },
        {
          "output_type": "stream",
          "text": [
            "\b\b\b\b\b\b\b\b\b\b\b\b\b\b\b\b\b\b\b\b\b\b\b\b\b\b\b\b\b\b\b\b\b\b\b\b\b\b\b\b\b\b\b\b\b\b\b\b\b\b\b\b\b\b\b\b\b\b\b\b\b\b\b\b\b\b\b\b\b\b\b\b\b\b\b\b\b\b\b\b\b\b\b\b\b\r102124/102124 [==============================] - 535s 5ms/step - loss: 0.0380 - acc: 0.9847 - val_loss: 0.0595 - val_acc: 0.9825\n",
            "Epoch 22/32\n",
            " 20288/102124 [====>.........................] - ETA: 6:39 - loss: 0.0377 - acc: 0.9847"
          ],
          "name": "stdout"
        },
        {
          "output_type": "stream",
          "text": [
            "102080/102124 [============================>.] - ETA: 0s - loss: 0.0375 - acc: 0.9849"
          ],
          "name": "stdout"
        },
        {
          "output_type": "stream",
          "text": [
            "102124/102124 [==============================] - 533s 5ms/step - loss: 0.0375 - acc: 0.9849 - val_loss: 0.0406 - val_acc: 0.9844\n",
            "roc-auc: 0.9948 - roc-auc_val: 0.9873                                                                                                    \n",
            "Epoch 23/32\n",
            " 17344/102124 [====>.........................] - ETA: 6:52 - loss: 0.0373 - acc: 0.9851"
          ],
          "name": "stdout"
        },
        {
          "output_type": "stream",
          "text": [
            "102080/102124 [============================>.] - ETA: 0s - loss: 0.0372 - acc: 0.9849"
          ],
          "name": "stdout"
        },
        {
          "output_type": "stream",
          "text": [
            "\b\b\b\b\b\b\b\b\b\b\b\b\b\b\b\b\b\b\b\b\b\b\b\b\b\b\b\b\b\b\b\b\b\b\b\b\b\b\b\b\b\b\b\b\b\b\b\b\b\b\b\b\b\b\b\b\b\b\b\b\b\b\b\b\b\b\b\b\b\b\b\b\b\b\b\b\b\b\b\b\b\b\b\b\b\r102124/102124 [==============================] - 534s 5ms/step - loss: 0.0372 - acc: 0.9849 - val_loss: 0.0408 - val_acc: 0.9844\n",
            "Epoch 24/32\n",
            " 20288/102124 [====>.........................] - ETA: 6:38 - loss: 0.0369 - acc: 0.9848"
          ],
          "name": "stdout"
        },
        {
          "output_type": "stream",
          "text": [
            "102080/102124 [============================>.] - ETA: 0s - loss: 0.0371 - acc: 0.9849"
          ],
          "name": "stdout"
        },
        {
          "output_type": "stream",
          "text": [
            "102124/102124 [==============================] - 534s 5ms/step - loss: 0.0371 - acc: 0.9849 - val_loss: 0.0419 - val_acc: 0.9841\n",
            "roc-auc: 0.9944 - roc-auc_val: 0.9866                                                                                                    \n",
            "Epoch 25/32\n",
            " 17344/102124 [====>.........................] - ETA: 6:51 - loss: 0.0367 - acc: 0.9850"
          ],
          "name": "stdout"
        },
        {
          "output_type": "stream",
          "text": [
            "102080/102124 [============================>.] - ETA: 0s - loss: 0.0370 - acc: 0.9850"
          ],
          "name": "stdout"
        },
        {
          "output_type": "stream",
          "text": [
            "\b\b\b\b\b\b\b\b\b\b\b\b\b\b\b\b\b\b\b\b\b\b\b\b\b\b\b\b\b\b\b\b\b\b\b\b\b\b\b\b\b\b\b\b\b\b\b\b\b\b\b\b\b\b\b\b\b\b\b\b\b\b\b\b\b\b\b\b\b\b\b\b\b\b\b\b\b\b\b\b\b\b\b\b\b\r102124/102124 [==============================] - 533s 5ms/step - loss: 0.0370 - acc: 0.9850 - val_loss: 0.0411 - val_acc: 0.9843\n",
            "Epoch 26/32\n",
            " 20288/102124 [====>.........................] - ETA: 6:38 - loss: 0.0353 - acc: 0.9858"
          ],
          "name": "stdout"
        },
        {
          "output_type": "stream",
          "text": [
            "102080/102124 [============================>.] - ETA: 0s - loss: 0.0368 - acc: 0.9848"
          ],
          "name": "stdout"
        },
        {
          "output_type": "stream",
          "text": [
            "102124/102124 [==============================] - 533s 5ms/step - loss: 0.0368 - acc: 0.9848 - val_loss: 0.0420 - val_acc: 0.9842\n",
            "roc-auc: 0.9944 - roc-auc_val: 0.9861                                                                                                    \n",
            "Epoch 27/32\n",
            " 17344/102124 [====>.........................] - ETA: 6:52 - loss: 0.0367 - acc: 0.9846"
          ],
          "name": "stdout"
        },
        {
          "output_type": "stream",
          "text": [
            "102080/102124 [============================>.] - ETA: 0s - loss: 0.0362 - acc: 0.9850"
          ],
          "name": "stdout"
        },
        {
          "output_type": "stream",
          "text": [
            "\b\b\b\b\b\b\b\b\b\b\b\b\b\b\b\b\b\b\b\b\b\b\b\b\b\b\b\b\b\b\b\b\b\b\b\b\b\b\b\b\b\b\b\b\b\b\b\b\b\b\b\b\b\b\b\b\b\b\b\b\b\b\b\b\b\b\b\b\b\b\b\b\b\b\b\b\b\b\b\b\b\b\b\b\b\r102124/102124 [==============================] - 531s 5ms/step - loss: 0.0362 - acc: 0.9850 - val_loss: 0.0412 - val_acc: 0.9844\n",
            "Epoch 28/32\n",
            " 20288/102124 [====>.........................] - ETA: 6:36 - loss: 0.0356 - acc: 0.9853"
          ],
          "name": "stdout"
        },
        {
          "output_type": "stream",
          "text": [
            "102080/102124 [============================>.] - ETA: 0s - loss: 0.0360 - acc: 0.9853"
          ],
          "name": "stdout"
        },
        {
          "output_type": "stream",
          "text": [
            "\b\b\b\b\b\b\b\b\b\b\b\b\b\b\b\b\b\b\b\b\b\b\b\b\b\b\b\b\b\b\b\b\b\b\b\b\b\b\b\b\b\b\b\b\b\b\b\b\b\b\b\b\b\b\b\b\b\b\b\b\b\b\b\b\b\b\b\b\b\b\b\b\b\b\b\b\b\b\b\b\b\b\b\b\b\r102124/102124 [==============================] - 532s 5ms/step - loss: 0.0360 - acc: 0.9853 - val_loss: 0.0431 - val_acc: 0.9840\n",
            "\n",
            "Epoch 00028: ReduceLROnPlateau reducing learning rate to 3.0185510695446283e-05.\n",
            "roc-auc: 0.9943 - roc-auc_val: 0.9852                                                                                                    \n",
            "Epoch 29/32\n",
            " 11840/102124 [==>...........................] - ETA: 7:16 - loss: 0.0362 - acc: 0.9847"
          ],
          "name": "stdout"
        },
        {
          "output_type": "stream",
          "text": [
            "102080/102124 [============================>.] - ETA: 0s - loss: 0.0357 - acc: 0.9852"
          ],
          "name": "stdout"
        },
        {
          "output_type": "stream",
          "text": [
            "\b\b\b\b\b\b\b\b\b\b\b\b\b\b\b\b\b\b\b\b\b\b\b\b\b\b\b\b\b\b\b\b\b\b\b\b\b\b\b\b\b\b\b\b\b\b\b\b\b\b\b\b\b\b\b\b\b\b\b\b\b\b\b\b\b\b\b\b\b\b\b\b\b\b\b\b\b\b\b\b\b\b\b\b\b\r102124/102124 [==============================] - 527s 5ms/step - loss: 0.0357 - acc: 0.9852 - val_loss: 0.0415 - val_acc: 0.9843\n",
            "Epoch 30/32\n",
            " 20288/102124 [====>.........................] - ETA: 6:32 - loss: 0.0352 - acc: 0.9854"
          ],
          "name": "stdout"
        },
        {
          "output_type": "stream",
          "text": [
            "102080/102124 [============================>.] - ETA: 0s - loss: 0.0359 - acc: 0.9851"
          ],
          "name": "stdout"
        },
        {
          "output_type": "stream",
          "text": [
            "102124/102124 [==============================] - 529s 5ms/step - loss: 0.0359 - acc: 0.9851 - val_loss: 0.0415 - val_acc: 0.9843\n",
            "roc-auc: 0.995 - roc-auc_val: 0.9856                                                                                                    \n",
            "Epoch 31/32\n",
            " 17408/102124 [====>.........................] - ETA: 6:49 - loss: 0.0359 - acc: 0.9850"
          ],
          "name": "stdout"
        },
        {
          "output_type": "stream",
          "text": [
            "102080/102124 [============================>.] - ETA: 0s - loss: 0.0356 - acc: 0.9853"
          ],
          "name": "stdout"
        },
        {
          "output_type": "stream",
          "text": [
            "\b\b\b\b\b\b\b\b\b\b\b\b\b\b\b\b\b\b\b\b\b\b\b\b\b\b\b\b\b\b\b\b\b\b\b\b\b\b\b\b\b\b\b\b\b\b\b\b\b\b\b\b\b\b\b\b\b\b\b\b\b\b\b\b\b\b\b\b\b\b\b\b\b\b\b\b\b\b\b\b\b\b\b\b\b\r102124/102124 [==============================] - 533s 5ms/step - loss: 0.0356 - acc: 0.9853 - val_loss: 0.0415 - val_acc: 0.9843\n",
            "Epoch 32/32\n",
            " 20288/102124 [====>.........................] - ETA: 6:38 - loss: 0.0363 - acc: 0.9852"
          ],
          "name": "stdout"
        },
        {
          "output_type": "stream",
          "text": [
            "102080/102124 [============================>.] - ETA: 0s - loss: 0.0354 - acc: 0.9853"
          ],
          "name": "stdout"
        },
        {
          "output_type": "stream",
          "text": [
            "102124/102124 [==============================] - 535s 5ms/step - loss: 0.0354 - acc: 0.9853 - val_loss: 0.0416 - val_acc: 0.9843\n",
            "roc-auc: 0.9954 - roc-auc_val: 0.9861                                                                                                    \n"
          ],
          "name": "stdout"
        }
      ]
    },
    {
      "metadata": {
        "id": "q5yWsxYklj2V",
        "colab_type": "code",
        "colab": {
          "autoexec": {
            "startup": false,
            "wait_interval": 0
          },
          "base_uri": "https://localhost:8080/",
          "height": 294
        },
        "outputId": "167714ad-117c-4213-c1d8-56c6a603abb9",
        "executionInfo": {
          "status": "ok",
          "timestamp": 1530833684154,
          "user_tz": -120,
          "elapsed": 1445,
          "user": {
            "displayName": "Deep Learning",
            "photoUrl": "https://lh3.googleusercontent.com/a/default-user=s128",
            "userId": "115257841230779963257"
          }
        }
      },
      "cell_type": "code",
      "source": [
        "plot_history(history)"
      ],
      "execution_count": 15,
      "outputs": [
        {
          "output_type": "display_data",
          "data": {
            "image/png": "[encoded data removed]",
            "text/plain": [
              "<matplotlib.figure.Figure at 0x7fcb1b9a3a20>"
            ]
          },
          "metadata": {
            "tags": []
          }
        }
      ]
    },
    {
      "metadata": {
        "id": "QvVxRMBQlNmh",
        "colab_type": "code",
        "colab": {
          "autoexec": {
            "startup": false,
            "wait_interval": 0
          },
          "base_uri": "https://localhost:8080/",
          "height": 51
        },
        "outputId": "92ebddd9-410e-431b-96a8-872471b1fea7",
        "executionInfo": {
          "status": "ok",
          "timestamp": 1530833682696,
          "user_tz": -120,
          "elapsed": 103116,
          "user": {
            "displayName": "Deep Learning",
            "photoUrl": "https://lh3.googleusercontent.com/a/default-user=s128",
            "userId": "115257841230779963257"
          }
        }
      },
      "cell_type": "code",
      "source": [
        "print(evaluate_on_test(model))"
      ],
      "execution_count": 14,
      "outputs": [
        {
          "output_type": "stream",
          "text": [
            "31915/31915 [==============================] - 53s 2ms/step\n",
            "([0.03900999152548781, 0.9848973709700642], 0.9898779485205149)\n"
          ],
          "name": "stdout"
        }
      ]
    }
  ]
}